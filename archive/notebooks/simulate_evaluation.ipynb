{
 "cells": [
  {
   "cell_type": "code",
   "execution_count": 3,
   "metadata": {},
   "outputs": [],
   "source": [
    "import pandas as pd \n",
    "import numpy as np \n",
    "from random import sample \n",
    "from sklearn.utils import resample  \n",
    "import scipy\n",
    "from sklearn import metrics \n",
    "from matplotlib import pyplot as plt \n",
    "from sklearn.metrics import precision_recall_curve"
   ]
  },
  {
   "cell_type": "code",
   "execution_count": 40,
   "metadata": {},
   "outputs": [],
   "source": [
    "tests= {0: \"no model\", 1: \"model\"}\n"
   ]
  },
  {
   "cell_type": "code",
   "execution_count": 26,
   "metadata": {},
   "outputs": [],
   "source": [
    "all_patients = list(np.arange(100))\n",
    "ground_truth = np.random.choice([0,1], size = (len(all_patients), ), p = [0.5, 0.5])\n",
    "subset_patients_shown = 8 \n",
    "total_num_physicians = 250 \n",
    "physician_sex = np.random.choice([0,1], size = (total_num_physicians, ), p = [0.5, 0.5])\n",
    "physician_age = np.random.uniform(28,80, size = total_num_physicians) \n"
   ]
  },
  {
   "cell_type": "code",
   "execution_count": 119,
   "metadata": {},
   "outputs": [],
   "source": [
    "df = pd.DataFrame(columns = [\"clinician\", \"patient\", \"test\", \"chf_prediction\", \"chf_truth\", \"age\", \"sex\"])\n",
    "for seed, physician in enumerate(np.arange(total_num_physicians)):\n",
    "# pick subset of patients to show \n",
    "    np.random.seed(seed)\n",
    "    patients_shown = sample(all_patients, subset_patients_shown)\n",
    "# pick set of patients to show with model \n",
    "    patients_with_model = sample(patients_shown, 4)\n",
    "# pick set of patients to show without model \n",
    "    patients_without_model = np.setdiff1d(patients_shown, patients_with_model)\n",
    "    \n",
    "    for patient in patients_with_model:\n",
    "        \n",
    "        gt = ground_truth[patient]\n",
    "        age = physician_age[physician]\n",
    "        sex = physician_sex[physician]\n",
    "#         if age < 50 + model -> 90% accurate \n",
    "        if (age < 50):\n",
    "            if (np.random.choice([0,1], size = (1, ), p = [0.1, 0.9])[0]): # this has lots of assumptions\n",
    "                prediction = ground_truth[patient]\n",
    "            else:\n",
    "                prediction = 1-ground_truth[patient]\n",
    "#         if age >= 50 + model -> 80% accurate \n",
    "        else: \n",
    "            if (np.random.choice([0,1], size = (1, ), p = [0.2, 0.8])[0]): # this has lots of assumptions\n",
    "                prediction = ground_truth[patient] \n",
    "            else:\n",
    "                prediction =  1-ground_truth[patient]\n",
    "        df = df.append(pd.Series([physician, patient, 1, prediction, ground_truth[patient], age, sex], index = df.columns), ignore_index = True)\n",
    "    for patient in patients_without_model:\n",
    "        \n",
    "        gt = ground_truth[patient]\n",
    "        age = physician_age[physician]\n",
    "        sex = physician_sex[physician]\n",
    "#         if age < 50 + model -> 70% accurate \n",
    "        if (age < 50):\n",
    "            if (np.random.choice([0,1], size = (1, ), p = [0.3, 0.7])[0]):\n",
    "                prediction =  ground_truth[patient]\n",
    "            else:\n",
    "                prediction =  1-ground_truth[patient]\n",
    "#         if age >= 50 + model -> 60% accurate \n",
    "        else: \n",
    "            if (np.random.choice([0,1], size = (1, ), p = [0.4, 0.6])[0]):\n",
    "                prediction =  ground_truth[patient]\n",
    "            else:\n",
    "                prediction =  1-ground_truth[patient]\n",
    "        df = df.append(pd.Series([physician, patient, 0, prediction, ground_truth[patient], age, sex], index = df.columns), ignore_index = True)\n",
    "        \n",
    "        \n",
    "df[\"accurate\"] = 1 - np.logical_xor(df[\"chf_prediction\"],df[\"chf_truth\"]) "
   ]
  },
  {
   "cell_type": "code",
   "execution_count": 145,
   "metadata": {},
   "outputs": [
    {
     "data": {
      "text/html": [
       "<div>\n",
       "<style scoped>\n",
       "    .dataframe tbody tr th:only-of-type {\n",
       "        vertical-align: middle;\n",
       "    }\n",
       "\n",
       "    .dataframe tbody tr th {\n",
       "        vertical-align: top;\n",
       "    }\n",
       "\n",
       "    .dataframe thead th {\n",
       "        text-align: right;\n",
       "    }\n",
       "</style>\n",
       "<table border=\"1\" class=\"dataframe\">\n",
       "  <thead>\n",
       "    <tr style=\"text-align: right;\">\n",
       "      <th></th>\n",
       "      <th>clinician</th>\n",
       "      <th>patient</th>\n",
       "      <th>test</th>\n",
       "      <th>chf_prediction</th>\n",
       "      <th>chf_truth</th>\n",
       "      <th>age</th>\n",
       "      <th>sex</th>\n",
       "      <th>accurate</th>\n",
       "    </tr>\n",
       "  </thead>\n",
       "  <tbody>\n",
       "    <tr>\n",
       "      <th>0</th>\n",
       "      <td>0.0</td>\n",
       "      <td>13.0</td>\n",
       "      <td>1.0</td>\n",
       "      <td>0.0</td>\n",
       "      <td>0.0</td>\n",
       "      <td>58.557246</td>\n",
       "      <td>0.0</td>\n",
       "      <td>1</td>\n",
       "    </tr>\n",
       "    <tr>\n",
       "      <th>1</th>\n",
       "      <td>0.0</td>\n",
       "      <td>7.0</td>\n",
       "      <td>1.0</td>\n",
       "      <td>1.0</td>\n",
       "      <td>1.0</td>\n",
       "      <td>58.557246</td>\n",
       "      <td>0.0</td>\n",
       "      <td>1</td>\n",
       "    </tr>\n",
       "    <tr>\n",
       "      <th>2</th>\n",
       "      <td>0.0</td>\n",
       "      <td>38.0</td>\n",
       "      <td>1.0</td>\n",
       "      <td>0.0</td>\n",
       "      <td>0.0</td>\n",
       "      <td>58.557246</td>\n",
       "      <td>0.0</td>\n",
       "      <td>1</td>\n",
       "    </tr>\n",
       "    <tr>\n",
       "      <th>3</th>\n",
       "      <td>0.0</td>\n",
       "      <td>86.0</td>\n",
       "      <td>1.0</td>\n",
       "      <td>0.0</td>\n",
       "      <td>0.0</td>\n",
       "      <td>58.557246</td>\n",
       "      <td>0.0</td>\n",
       "      <td>1</td>\n",
       "    </tr>\n",
       "    <tr>\n",
       "      <th>4</th>\n",
       "      <td>0.0</td>\n",
       "      <td>11.0</td>\n",
       "      <td>0.0</td>\n",
       "      <td>0.0</td>\n",
       "      <td>0.0</td>\n",
       "      <td>58.557246</td>\n",
       "      <td>0.0</td>\n",
       "      <td>1</td>\n",
       "    </tr>\n",
       "    <tr>\n",
       "      <th>...</th>\n",
       "      <td>...</td>\n",
       "      <td>...</td>\n",
       "      <td>...</td>\n",
       "      <td>...</td>\n",
       "      <td>...</td>\n",
       "      <td>...</td>\n",
       "      <td>...</td>\n",
       "      <td>...</td>\n",
       "    </tr>\n",
       "    <tr>\n",
       "      <th>1995</th>\n",
       "      <td>249.0</td>\n",
       "      <td>94.0</td>\n",
       "      <td>1.0</td>\n",
       "      <td>0.0</td>\n",
       "      <td>0.0</td>\n",
       "      <td>49.502689</td>\n",
       "      <td>1.0</td>\n",
       "      <td>1</td>\n",
       "    </tr>\n",
       "    <tr>\n",
       "      <th>1996</th>\n",
       "      <td>249.0</td>\n",
       "      <td>9.0</td>\n",
       "      <td>0.0</td>\n",
       "      <td>1.0</td>\n",
       "      <td>1.0</td>\n",
       "      <td>49.502689</td>\n",
       "      <td>1.0</td>\n",
       "      <td>1</td>\n",
       "    </tr>\n",
       "    <tr>\n",
       "      <th>1997</th>\n",
       "      <td>249.0</td>\n",
       "      <td>29.0</td>\n",
       "      <td>0.0</td>\n",
       "      <td>0.0</td>\n",
       "      <td>0.0</td>\n",
       "      <td>49.502689</td>\n",
       "      <td>1.0</td>\n",
       "      <td>1</td>\n",
       "    </tr>\n",
       "    <tr>\n",
       "      <th>1998</th>\n",
       "      <td>249.0</td>\n",
       "      <td>60.0</td>\n",
       "      <td>0.0</td>\n",
       "      <td>1.0</td>\n",
       "      <td>0.0</td>\n",
       "      <td>49.502689</td>\n",
       "      <td>1.0</td>\n",
       "      <td>0</td>\n",
       "    </tr>\n",
       "    <tr>\n",
       "      <th>1999</th>\n",
       "      <td>249.0</td>\n",
       "      <td>93.0</td>\n",
       "      <td>0.0</td>\n",
       "      <td>0.0</td>\n",
       "      <td>1.0</td>\n",
       "      <td>49.502689</td>\n",
       "      <td>1.0</td>\n",
       "      <td>0</td>\n",
       "    </tr>\n",
       "  </tbody>\n",
       "</table>\n",
       "<p>2000 rows × 8 columns</p>\n",
       "</div>"
      ],
      "text/plain": [
       "      clinician  patient  test  chf_prediction  chf_truth        age  sex  \\\n",
       "0           0.0     13.0   1.0             0.0        0.0  58.557246  0.0   \n",
       "1           0.0      7.0   1.0             1.0        1.0  58.557246  0.0   \n",
       "2           0.0     38.0   1.0             0.0        0.0  58.557246  0.0   \n",
       "3           0.0     86.0   1.0             0.0        0.0  58.557246  0.0   \n",
       "4           0.0     11.0   0.0             0.0        0.0  58.557246  0.0   \n",
       "...         ...      ...   ...             ...        ...        ...  ...   \n",
       "1995      249.0     94.0   1.0             0.0        0.0  49.502689  1.0   \n",
       "1996      249.0      9.0   0.0             1.0        1.0  49.502689  1.0   \n",
       "1997      249.0     29.0   0.0             0.0        0.0  49.502689  1.0   \n",
       "1998      249.0     60.0   0.0             1.0        0.0  49.502689  1.0   \n",
       "1999      249.0     93.0   0.0             0.0        1.0  49.502689  1.0   \n",
       "\n",
       "      accurate  \n",
       "0            1  \n",
       "1            1  \n",
       "2            1  \n",
       "3            1  \n",
       "4            1  \n",
       "...        ...  \n",
       "1995         1  \n",
       "1996         1  \n",
       "1997         1  \n",
       "1998         0  \n",
       "1999         0  \n",
       "\n",
       "[2000 rows x 8 columns]"
      ]
     },
     "execution_count": 145,
     "metadata": {},
     "output_type": "execute_result"
    }
   ],
   "source": [
    "df"
   ]
  },
  {
   "cell_type": "code",
   "execution_count": 144,
   "metadata": {},
   "outputs": [],
   "source": [
    "df.to_csv(\"simulated_data.csv\")"
   ]
  },
  {
   "cell_type": "code",
   "execution_count": 140,
   "metadata": {},
   "outputs": [
    {
     "data": {
      "text/plain": [
       "0.839"
      ]
     },
     "execution_count": 140,
     "metadata": {},
     "output_type": "execute_result"
    }
   ],
   "source": [
    "sum(df[df.test == 1][\"accurate\"]) / len(df[df.test == 1][\"accurate\"])"
   ]
  },
  {
   "cell_type": "code",
   "execution_count": 141,
   "metadata": {},
   "outputs": [
    {
     "data": {
      "text/plain": [
       "0.649"
      ]
     },
     "execution_count": 141,
     "metadata": {},
     "output_type": "execute_result"
    }
   ],
   "source": [
    "sum(df[df.test == 0][\"accurate\"]) / len(df[df.test == 0][\"accurate\"])"
   ]
  },
  {
   "cell_type": "code",
   "execution_count": 146,
   "metadata": {},
   "outputs": [],
   "source": [
    "import numpy as np                                                                                         \n",
    "from statsmodels.genmod.bayes_mixed_glm import BinomialBayesMixedGLM\n",
    "import pandas as pd                                                                                        \n",
    "                                                                                                           \n",
    "                          \n",
    "# this is implemented as I understand the doc:                                                             \n",
    "binom_model = BinomialBayesMixedGLM( df['accurate'], # independent                                              \n",
    "                                        df[['test','age']], # fixed variables                                      \n",
    "                                       pd.get_dummies(df['clinician']), # Array of covariates for the random\n",
    "                                       np.zeros(250)) # ident, columns of exog_vc                         \n",
    "binom_result = binom_model.fit_vb()   "
   ]
  },
  {
   "cell_type": "code",
   "execution_count": 147,
   "metadata": {},
   "outputs": [
    {
     "data": {
      "text/html": [
       "<table class=\"simpletable\">\n",
       "<tr>\n",
       "    <td></td>   <th>Type</th> <th>Post. Mean</th> <th>Post. SD</th>  <th>VC</th>   <th>VC (LB)</th> <th>VC (UB)</th>\n",
       "</tr>\n",
       "<tr>\n",
       "  <th>test</th>   <td>F</td>    <td>1.2263</td>    <td>0.0870</td>    <td></td>       <td></td>        <td></td>    \n",
       "</tr>\n",
       "<tr>\n",
       "  <th>age</th>    <td>F</td>    <td>0.0087</td>    <td>0.0009</td>    <td></td>       <td></td>        <td></td>    \n",
       "</tr>\n",
       "<tr>\n",
       "  <th>VC_1</th>   <td>R</td>    <td>-0.7373</td>   <td>0.0447</td>  <td>0.478</td>  <td>0.437</td>   <td>0.523</td> \n",
       "</tr>\n",
       "</table>"
      ],
      "text/plain": [
       "<class 'statsmodels.iolib.summary2.Summary'>\n",
       "\"\"\"\n",
       "            Binomial Mixed GLM Results\n",
       "===================================================\n",
       "     Type Post. Mean Post. SD   VC  VC (LB) VC (UB)\n",
       "---------------------------------------------------\n",
       "test    F     1.2263   0.0870                      \n",
       "age     F     0.0087   0.0009                      \n",
       "VC_1    R    -0.7373   0.0447 0.478   0.437   0.523\n",
       "===================================================\n",
       "\n",
       "\"\"\""
      ]
     },
     "execution_count": 147,
     "metadata": {},
     "output_type": "execute_result"
    }
   ],
   "source": [
    "binom_result.summary()"
   ]
  },
  {
   "cell_type": "code",
   "execution_count": 52,
   "metadata": {},
   "outputs": [],
   "source": [
    "# fit GLMM to the data \n",
    "from statsmodels.genmod.bayes_mixed_glm import BinomialBayesMixedGLM\n",
    "\n",
    "random = {\"a\": '0 + C(Village)', \"b\": '0 + C(Village)*year_cen'}\n",
    "model = BinomialBayesMixedGLM.from_formula(\n",
    "               'accurate ~ year_cen', random, data)\n",
    "result = model.fit_vb()\n"
   ]
  },
  {
   "cell_type": "code",
   "execution_count": 7,
   "metadata": {},
   "outputs": [
    {
     "name": "stderr",
     "output_type": "stream",
     "text": [
      "/sw/arcts/centos7/anaconda3/5.2/lib/python3.6/site-packages/ipykernel_launcher.py:36: DeprecationWarning: scipy.interp is deprecated and will be removed in SciPy 2.0.0, use numpy.interp instead\n",
      "/sw/arcts/centos7/anaconda3/5.2/lib/python3.6/site-packages/ipykernel_launcher.py:36: DeprecationWarning: scipy.interp is deprecated and will be removed in SciPy 2.0.0, use numpy.interp instead\n"
     ]
    },
    {
     "data": {
      "image/png": "[encoded data removed]",
      "text/plain": [
       "<Figure size 432x288 with 1 Axes>"
      ]
     },
     "metadata": {},
     "output_type": "display_data"
    }
   ],
   "source": [
    "# now bootstrap at the patient level \n",
    "labels = [\"without model\", \"with model\"] \n",
    "for i in [0,1]:\n",
    "    roc_curves, auc_scores, aupr_scores = [], [], []\n",
    "\n",
    "    y_true_orig, y_pred_orig = [], []\n",
    "    for patient in all_patients:\n",
    "        predictions = patient_to_model_to_prediction[patient]\n",
    "        for prediction in predictions[i]:\n",
    "            y_true_orig.append(ground_truth[patient])\n",
    "            y_pred_orig.append(prediction) \n",
    "\n",
    "    fpr, tpr, _ = metrics.roc_curve(y_true_orig, y_pred_orig)\n",
    "\n",
    "    for j in range(1000): \n",
    "        patients = resample(all_patients, replace=True, random_state=1)\n",
    "    #     get predictions and ground truth: \n",
    "        y_true, y_pred = [],[]\n",
    "        for patient in patients:\n",
    "            predictions = patient_to_model_to_prediction[patient]\n",
    "            for prediction in predictions[i]:\n",
    "                y_true.append(ground_truth[patient])\n",
    "                y_pred.append(prediction) \n",
    "        roc_curve = metrics.roc_curve(y_true, y_pred)\n",
    "        auc_score = metrics.roc_auc_score(y_true, y_pred)\n",
    "        auc_scores.append(auc_score)   \n",
    "        roc_curves.append(roc_curve)\n",
    "\n",
    "\n",
    "\n",
    "\n",
    "    tprs = []\n",
    "    aucs = []\n",
    "    mean_fpr = np.linspace(0, 1, 100)\n",
    "    for fpr, tpr, _ in roc_curves:\n",
    "        tprs.append(scipy.interp(mean_fpr, fpr, tpr))\n",
    "        tprs[-1][0] = 0.0\n",
    "        aucs.append(metrics.auc(fpr, tpr))\n",
    "\n",
    "    mean_tpr = np.mean(tprs, axis=0)\n",
    "\n",
    "    std_tpr = np.std(tprs, axis=0)\n",
    "    tprs_upper = np.minimum(mean_tpr + 1.96 * std_tpr, 1)\n",
    "    tprs_lower = np.maximum(mean_tpr - 1.96 * std_tpr, 0)\n",
    "\n",
    "    lw = 2\n",
    "    plt.fill_between(mean_fpr, tprs_lower, tprs_upper, alpha=.1)\n",
    "    plt.plot(fpr, tpr, lw=lw, label = labels[i])\n",
    "    \n",
    "plt.plot([0, 1], [0, 1], 'k--', lw=lw)\n",
    "plt.xlim([0.0, 1.0])\n",
    "plt.ylim([0.0, 1.05])\n",
    "plt.xlabel('False Positive Rate')\n",
    "plt.ylabel('True Positive Rate')\n",
    "plt.legend(loc='lower right')\n",
    "plt.savefig(\"w_vs_wo_model_auroc.pdf\")\n",
    "plt.show()"
   ]
  },
  {
   "cell_type": "code",
   "execution_count": 114,
   "metadata": {},
   "outputs": [
    {
     "name": "stderr",
     "output_type": "stream",
     "text": [
      "No handles with labels found to put in legend.\n"
     ]
    },
    {
     "data": {
      "image/png": "[encoded data removed]",
      "text/plain": [
       "<Figure size 432x288 with 1 Axes>"
      ]
     },
     "metadata": {},
     "output_type": "display_data"
    }
   ],
   "source": [
    "# now bootstrap at the patient level \n",
    "\n",
    "labels = [\"without model\", \"with model\"] \n",
    "for i in [0,1]:\n",
    "    roc_curves, aupr_scores = [], []\n",
    "\n",
    "    y_true_orig, y_pred_orig = [], []\n",
    "    for patient in all_patients:\n",
    "        predictions = patient_to_model_to_prediction[patient]\n",
    "        for prediction in predictions[i]:\n",
    "            y_true_orig.append(ground_truth[patient])\n",
    "            y_pred_orig.append(prediction) \n",
    "\n",
    "    precision, recall, _ = precision_recall_curve(y_true_orig, y_pred_orig)\n",
    "        \n",
    "#     for j in range(1000): \n",
    "#         patients = resample(all_patients, replace=True, random_state=1)\n",
    "#     #     get predictions and ground truth: \n",
    "#         y_true, y_pred = [],[]\n",
    "#         for patient in patients:\n",
    "#             predictions = patient_to_model_to_prediction[patient]\n",
    "#             for prediction in predictions[i]:\n",
    "#                 y_true.append(ground_truth[patient])\n",
    "#                 y_pred.append(prediction) \n",
    "#         aupr_scores.append(metrics.auc(*metrics.precision_recall_curve(yte_true_b, yte_pred_b)[1::-1]))\n",
    "\n",
    "\n",
    "#     tprs = []\n",
    "#     aucs = []\n",
    "#     mean_fpr = np.linspace(0, 1, 100)\n",
    "#     for fpr, tpr, _ in roc_curves:\n",
    "#         tprs.append(scipy.interp(mean_fpr, fpr, tpr))\n",
    "#         tprs[-1][0] = 0.0\n",
    "#         aucs.append(metrics.auc(fpr, tpr))\n",
    "\n",
    "#     mean_tpr = np.mean(tprs, axis=0)\n",
    "\n",
    "#     std_tpr = np.std(tprs, axis=0)\n",
    "#     tprs_upper = np.minimum(mean_tpr + 1.96 * std_tpr, 1)\n",
    "#     tprs_lower = np.maximum(mean_tpr - 1.96 * std_tpr, 0)\n",
    "\n",
    "#     lw = 2\n",
    "#     plt.fill_between(mean_fpr, tprs_lower, tprs_upper, alpha=.1)\n",
    "#     plt.plot(fpr, tpr, lw=lw, label = labels[i])\n",
    "    \n",
    "    plt.plot(recall, precision, lw=2)\n",
    "\n",
    "    \n",
    "f_scores = np.linspace(0.2, 0.8, num=4)\n",
    "lines = []\n",
    "labels = []\n",
    "for f_score in f_scores:\n",
    "    x = np.linspace(0.01, 1)\n",
    "    y = f_score * x / (2 * x - f_score)\n",
    "    l, = plt.plot(x[y >= 0], y[y >= 0], color='gray', alpha=0.2)\n",
    "    plt.annotate('f1={0:0.1f}'.format(f_score), xy=(0.9, y[45] + 0.02))\n",
    "        \n",
    "        \n",
    "\n",
    "plt.xlim([0.0, 1.0])\n",
    "plt.ylim([0.0, 1.05])\n",
    "plt.xlabel('False Positive Rate')\n",
    "plt.ylabel('True Positive Rate')\n",
    "plt.legend(loc='lower right')\n",
    "plt.savefig(\"w_vs_wo_model_auroc.pdf\")\n",
    "plt.show()"
   ]
  },
  {
   "cell_type": "code",
   "execution_count": 117,
   "metadata": {},
   "outputs": [
    {
     "data": {
      "text/plain": [
       "array([1.        , 0.90463918, 0.        ])"
      ]
     },
     "execution_count": 117,
     "metadata": {},
     "output_type": "execute_result"
    }
   ],
   "source": []
  },
  {
   "cell_type": "code",
   "execution_count": 97,
   "metadata": {},
   "outputs": [
    {
     "name": "stdout",
     "output_type": "stream",
     "text": [
      " model: 0.805  (0.80-0.80)\n",
      " model: 0.85  (0.85-0.85)\n"
     ]
    }
   ],
   "source": [
    "# now bootstrap at the patient level \n",
    "labels = [\"without\", \"with\"] \n",
    "for i in [0,1]:\n",
    "    accuracy_scores = []\n",
    "\n",
    "    y_true_orig, y_pred_orig = [], []\n",
    "    for patient in all_patients:\n",
    "        predictions = patient_to_model_to_prediction[patient]\n",
    "        for prediction in predictions[i]:\n",
    "            y_true_orig.append(ground_truth[patient])\n",
    "            y_pred_orig.append(prediction) \n",
    "\n",
    "    orig_accuracy = metrics.accuracy_score(y_true_orig, y_pred_orig)\n",
    "    for j in range(1000): \n",
    "        patients = resample(all_patients, replace=True, random_state=1)\n",
    "    #     get predictions and ground truth: \n",
    "        y_true, y_pred = [],[]\n",
    "        for patient in patients:\n",
    "            predictions = patient_to_model_to_prediction[patient]\n",
    "            for prediction in predictions[i]:\n",
    "                y_true.append(ground_truth[patient])\n",
    "                y_pred.append(prediction) \n",
    "        accuracy_scores.append(metrics.accuracy_score(y_true, y_pred))   \n",
    "\n",
    "        \n",
    "    conf_int = ' ({:.2f}-{:.2f})'.format(np.percentile(accuracy_scores, 2.5), np.percentile(accuracy_scores, 97.5))\n",
    "    print(\" model:\", orig_accuracy, conf_int)\n",
    "    \n"
   ]
  }
 ],
 "metadata": {
  "kernelspec": {
   "display_name": "Python 3",
   "language": "python",
   "name": "python3"
  },
  "language_info": {
   "codemirror_mode": {
    "name": "ipython",
    "version": 3
   },
   "file_extension": ".py",
   "mimetype": "text/x-python",
   "name": "python",
   "nbconvert_exporter": "python",
   "pygments_lexer": "ipython3",
   "version": "3.7.7"
  }
 },
 "nbformat": 4,
 "nbformat_minor": 4
}
