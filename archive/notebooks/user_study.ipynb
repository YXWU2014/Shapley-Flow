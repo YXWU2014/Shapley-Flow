{
 "cells": [
  {
   "cell_type": "markdown",
   "metadata": {},
   "source": [
    "# User study simulation"
   ]
  },
  {
   "cell_type": "code",
   "execution_count": 8,
   "metadata": {
    "jupyter": {
     "source_hidden": true
    }
   },
   "outputs": [],
   "source": [
    "import pandas as pd \n",
    "import numpy as np \n",
    "from random import sample \n",
    "from sklearn.utils import resample  \n",
    "import scipy\n",
    "from sklearn import metrics \n",
    "from matplotlib import pyplot as plt \n",
    "from sklearn.metrics import precision_recall_curve\n",
    "from graphviz import Digraph\n",
    "\n",
    "import sys\n",
    "if '../' not in sys.path:\n",
    "    sys.path = ['../'] + sys.path\n",
    "from flow import Node, CreditFlow, Graph, get_source_nodes, topo_sort, flatten_graph, eval_graph, boundary_graph, single_source_graph, viz_graph, save_graph, hcluster_graph\n",
    "from flow import ParallelCreditFlow, GraphExplainer, translator\n",
    "from flow import group_nodes, build_feature_graph\n",
    "from flow import CausalLinks, create_xgboost_f, create_linear_f\n",
    "from on_manifold import OnManifoldExplainer, IndExplainer\n",
    "\n",
    "if '../shap' not in sys.path:\n",
    "    sys.path = ['../shap'] + sys.path\n",
    "    import shap\n",
    "    \n",
    "import tqdm\n",
    "from numba import jit\n",
    "import numpy as np\n",
    "import pandas as pd\n",
    "import xgboost\n",
    "from sklearn.model_selection import train_test_split\n",
    "import matplotlib.pylab as pl\n",
    "from graphviz import Digraph, Source\n",
    "from pygraphviz import AGraph\n",
    "import numpy as np\n",
    "import matplotlib.image as mpimg\n",
    "from IPython.display import Image\n",
    "import matplotlib.pyplot as plt\n",
    "import copy\n",
    "import seaborn as sns\n",
    "import scipy as sp\n",
    "import scipy.cluster\n",
    "import matplotlib.pyplot as pl\n",
    "from graphviz import Digraph\n",
    "from collections import defaultdict\n",
    "from sklearn.linear_model import LogisticRegression, LinearRegression"
   ]
  },
  {
   "cell_type": "markdown",
   "metadata": {},
   "source": [
    "# Q1: intuition check"
   ]
  },
  {
   "cell_type": "code",
   "execution_count": 9,
   "metadata": {},
   "outputs": [
    {
     "data": {
      "text/html": [
       "<div>\n",
       "<style scoped>\n",
       "    .dataframe tbody tr th:only-of-type {\n",
       "        vertical-align: middle;\n",
       "    }\n",
       "\n",
       "    .dataframe tbody tr th {\n",
       "        vertical-align: top;\n",
       "    }\n",
       "\n",
       "    .dataframe thead th {\n",
       "        text-align: right;\n",
       "    }\n",
       "</style>\n",
       "<table border=\"1\" class=\"dataframe\">\n",
       "  <thead>\n",
       "    <tr style=\"text-align: right;\">\n",
       "      <th></th>\n",
       "      <th>X1</th>\n",
       "      <th>X2</th>\n",
       "      <th>X3</th>\n",
       "      <th>X4</th>\n",
       "      <th>f</th>\n",
       "    </tr>\n",
       "  </thead>\n",
       "  <tbody>\n",
       "    <tr>\n",
       "      <th>0</th>\n",
       "      <td>0</td>\n",
       "      <td>0</td>\n",
       "      <td>0</td>\n",
       "      <td>0</td>\n",
       "      <td>0</td>\n",
       "    </tr>\n",
       "    <tr>\n",
       "      <th>1</th>\n",
       "      <td>1</td>\n",
       "      <td>1</td>\n",
       "      <td>1</td>\n",
       "      <td>1</td>\n",
       "      <td>1</td>\n",
       "    </tr>\n",
       "  </tbody>\n",
       "</table>\n",
       "</div>"
      ],
      "text/plain": [
       "   X1  X2  X3  X4  f\n",
       "0   0   0   0   0  0\n",
       "1   1   1   1   1  1"
      ]
     },
     "execution_count": 9,
     "metadata": {},
     "output_type": "execute_result"
    }
   ],
   "source": [
    "x1 = np.array([0, 1])\n",
    "x4 = x3 = x2 = x1\n",
    " \n",
    "X = pd.DataFrame.from_dict({'X1': x1, 'X2': x2, 'X3': x3, 'X4': x4}).loc[:, ['X1', 'X2', 'X3', 'X4']]\n",
    "f = lambda x: x[:, 3] # assume x 2d\n",
    "f_d = pd.DataFrame.from_dict({'f': list(f(np.array(X)))})\n",
    "pd.concat((X, f_d), 1)"
   ]
  },
  {
   "cell_type": "code",
   "execution_count": 29,
   "metadata": {},
   "outputs": [
    {
     "name": "stderr",
     "output_type": "stream",
     "text": [
      "100%|██████████| 1/1 [00:00<00:00, 25.98it/s]\n"
     ]
    }
   ],
   "source": [
    "explainer = OnManifoldExplainer(f, X, nruns=100, sigma_sq=1e-10, single_bg=True)\n",
    "cf_on_manifold = explainer.shap_values(X.iloc[[1]])"
   ]
  },
  {
   "cell_type": "code",
   "execution_count": 21,
   "metadata": {},
   "outputs": [
    {
     "name": "stderr",
     "output_type": "stream",
     "text": [
      "100%|██████████| 100/100 [00:00<00:00, 7032.70it/s]\n"
     ]
    }
   ],
   "source": [
    "explainer = IndExplainer(f, X.iloc[[0]], nruns=100)\n",
    "cf_ind = explainer.shap_values(X.iloc[[1]])"
   ]
  },
  {
   "cell_type": "code",
   "execution_count": 30,
   "metadata": {},
   "outputs": [
    {
     "name": "stderr",
     "output_type": "stream",
     "text": [
      "100%|██████████| 1/1 [00:00<00:00, 16.37it/s]\n"
     ]
    }
   ],
   "source": [
    "explainer = OnManifoldExplainer(f, X, nruns=100, sigma_sq=1e-10, orderings=[[0, 1, 2, 3]], single_bg=True)\n",
    "cf_asv = explainer.shap_values(X.iloc[[1]])"
   ]
  },
  {
   "cell_type": "code",
   "execution_count": 15,
   "metadata": {},
   "outputs": [
    {
     "name": "stderr",
     "output_type": "stream",
     "text": [
      "0it [00:00, ?it/s]\n",
      "bruteforce sampling: 100%|██████████| 100/100 [00:00<00:00, 2099.75it/s]\n"
     ]
    }
   ],
   "source": [
    "causal_links = CausalLinks()\n",
    "target_name = 'f'\n",
    "feature_names = list(X.columns)\n",
    "\n",
    "# build causal links\n",
    "causal_links.add_causes_effects(feature_names, target_name, lambda *args: f(np.vstack(args).T))\n",
    "causal_links.add_causes_effects('X1', 'X2', lambda x: x)\n",
    "causal_links.add_causes_effects('X2', 'X3', lambda x: x)\n",
    "causal_links.add_causes_effects('X3', 'X4', lambda x: x)\n",
    "causal_graph = build_feature_graph(X.fillna(X.mean()), causal_links, target_name=target_name)\n",
    "\n",
    "cf_flow = GraphExplainer(causal_graph, X.iloc[[0]], nruns=100).shap_values(X.iloc[[1]], rankdir='LR')"
   ]
  },
  {
   "cell_type": "code",
   "execution_count": 24,
   "metadata": {},
   "outputs": [
    {
     "data": {
      "image/svg+xml": [
       "<?xml version=\"1.0\" encoding=\"UTF-8\" standalone=\"no\"?>\n",
       "<!DOCTYPE svg PUBLIC \"-//W3C//DTD SVG 1.1//EN\"\n",
       " \"http://www.w3.org/Graphics/SVG/1.1/DTD/svg11.dtd\">\n",
       "<!-- Generated by graphviz version 2.38.0 (20140413.2041)\n",
       " -->\n",
       "<!-- Title: %3 Pages: 1 -->\n",
       "<svg width=\"522pt\" height=\"112pt\"\n",
       " viewBox=\"0.00 0.00 522.00 112.00\" xmlns=\"http://www.w3.org/2000/svg\" xmlns:xlink=\"http://www.w3.org/1999/xlink\">\n",
       "<g id=\"graph0\" class=\"graph\" transform=\"scale(1 1) rotate(0) translate(4 108)\">\n",
       "<title>%3</title>\n",
       "<polygon fill=\"white\" stroke=\"none\" points=\"-4,4 -4,-108 518,-108 518,4 -4,4\"/>\n",
       "<!-- X1 -->\n",
       "<g id=\"node1\" class=\"node\"><title>X1</title>\n",
       "<ellipse fill=\"none\" stroke=\"black\" cx=\"27\" cy=\"-18\" rx=\"27\" ry=\"18\"/>\n",
       "<text text-anchor=\"middle\" x=\"27\" y=\"-14.3\" font-family=\"Times,serif\" font-size=\"14.00\">X1</text>\n",
       "</g>\n",
       "<!-- f -->\n",
       "<g id=\"node2\" class=\"node\"><title>f</title>\n",
       "<ellipse fill=\"none\" stroke=\"black\" cx=\"487\" cy=\"-18\" rx=\"27\" ry=\"18\"/>\n",
       "<text text-anchor=\"middle\" x=\"487\" y=\"-14.3\" font-family=\"Times,serif\" font-size=\"14.00\">f</text>\n",
       "</g>\n",
       "<!-- X1&#45;&gt;f -->\n",
       "<g id=\"edge1\" class=\"edge\"><title>X1&#45;&gt;f</title>\n",
       "<path fill=\"none\" stroke=\"#ff0051\" stroke-width=\"0.05\" d=\"M49.6255,-28.2851C56.6557,-31.3715 64.5634,-34.5769 72,-37 181.975,-72.8341 211.47,-94.6028 327,-89 378.606,-86.4973 398.165,-99.3478 442,-72 453.543,-64.7988 463.438,-53.4984 470.904,-43.0922\"/>\n",
       "<polygon fill=\"#ff0051\" stroke=\"#ff0051\" stroke-width=\"0.05\" points=\"473.894,-44.9179 476.587,-34.671 468.092,-41.002 473.894,-44.9179\"/>\n",
       "<text text-anchor=\"middle\" x=\"257\" y=\"-92.8\" font-family=\"Times,serif\" font-size=\"14.00\" fill=\"#ff0051\">0.00</text>\n",
       "</g>\n",
       "<!-- X2 -->\n",
       "<g id=\"node3\" class=\"node\"><title>X2</title>\n",
       "<ellipse fill=\"none\" stroke=\"black\" cx=\"142\" cy=\"-18\" rx=\"27\" ry=\"18\"/>\n",
       "<text text-anchor=\"middle\" x=\"142\" y=\"-14.3\" font-family=\"Times,serif\" font-size=\"14.00\">X2</text>\n",
       "</g>\n",
       "<!-- X1&#45;&gt;X2 -->\n",
       "<g id=\"edge2\" class=\"edge\"><title>X1&#45;&gt;X2</title>\n",
       "<path fill=\"none\" stroke=\"#ff0051\" stroke-width=\"5\" d=\"M54.2085,-18C69.1836,-18 88.1896,-18 104.596,-18\"/>\n",
       "<polygon fill=\"#ff0051\" stroke=\"#ff0051\" stroke-width=\"5\" points=\"104.934,-22.3751 114.934,-18 104.934,-13.6251 104.934,-22.3751\"/>\n",
       "<text text-anchor=\"middle\" x=\"84.5\" y=\"-21.8\" font-family=\"Times,serif\" font-size=\"14.00\" fill=\"#ff0051\">1.00</text>\n",
       "</g>\n",
       "<!-- X2&#45;&gt;f -->\n",
       "<g id=\"edge3\" class=\"edge\"><title>X2&#45;&gt;f</title>\n",
       "<path fill=\"none\" stroke=\"#ff0051\" stroke-width=\"0.05\" d=\"M164.571,-28.4572C171.599,-31.5528 179.518,-34.7201 187,-37 277.97,-64.7209 304.779,-78.9006 399,-66 418.658,-63.3085 424.391,-63.1436 442,-54 449.514,-50.0983 456.933,-44.7693 463.476,-39.4076\"/>\n",
       "<polygon fill=\"#ff0051\" stroke=\"#ff0051\" stroke-width=\"0.05\" points=\"465.958,-41.8889 471.238,-32.7036 461.382,-36.5913 465.958,-41.8889\"/>\n",
       "<text text-anchor=\"middle\" x=\"314.5\" y=\"-73.8\" font-family=\"Times,serif\" font-size=\"14.00\" fill=\"#ff0051\">0.00</text>\n",
       "</g>\n",
       "<!-- X3 -->\n",
       "<g id=\"node4\" class=\"node\"><title>X3</title>\n",
       "<ellipse fill=\"none\" stroke=\"black\" cx=\"257\" cy=\"-18\" rx=\"27\" ry=\"18\"/>\n",
       "<text text-anchor=\"middle\" x=\"257\" y=\"-14.3\" font-family=\"Times,serif\" font-size=\"14.00\">X3</text>\n",
       "</g>\n",
       "<!-- X2&#45;&gt;X3 -->\n",
       "<g id=\"edge4\" class=\"edge\"><title>X2&#45;&gt;X3</title>\n",
       "<path fill=\"none\" stroke=\"#ff0051\" stroke-width=\"5\" d=\"M169.208,-18C184.184,-18 203.19,-18 219.596,-18\"/>\n",
       "<polygon fill=\"#ff0051\" stroke=\"#ff0051\" stroke-width=\"5\" points=\"219.934,-22.3751 229.934,-18 219.934,-13.6251 219.934,-22.3751\"/>\n",
       "<text text-anchor=\"middle\" x=\"199.5\" y=\"-21.8\" font-family=\"Times,serif\" font-size=\"14.00\" fill=\"#ff0051\">1.00</text>\n",
       "</g>\n",
       "<!-- X3&#45;&gt;f -->\n",
       "<g id=\"edge5\" class=\"edge\"><title>X3&#45;&gt;f</title>\n",
       "<path fill=\"none\" stroke=\"#ff0051\" stroke-width=\"0.05\" d=\"M279.571,-28.4572C286.599,-31.5528 294.518,-34.7201 302,-37 343.379,-49.6093 355.925,-48.9729 399,-45 418.357,-43.2147 423.405,-42.6664 442,-37 446.325,-35.6819 450.797,-34.0673 455.158,-32.3413\"/>\n",
       "<polygon fill=\"#ff0051\" stroke=\"#ff0051\" stroke-width=\"0.05\" points=\"456.558,-35.5497 464.429,-28.4572 453.853,-29.0934 456.558,-35.5497\"/>\n",
       "<text text-anchor=\"middle\" x=\"372\" y=\"-50.8\" font-family=\"Times,serif\" font-size=\"14.00\" fill=\"#ff0051\">0.00</text>\n",
       "</g>\n",
       "<!-- X4 -->\n",
       "<g id=\"node5\" class=\"node\"><title>X4</title>\n",
       "<ellipse fill=\"none\" stroke=\"black\" cx=\"372\" cy=\"-18\" rx=\"27\" ry=\"18\"/>\n",
       "<text text-anchor=\"middle\" x=\"372\" y=\"-14.3\" font-family=\"Times,serif\" font-size=\"14.00\">X4</text>\n",
       "</g>\n",
       "<!-- X3&#45;&gt;X4 -->\n",
       "<g id=\"edge6\" class=\"edge\"><title>X3&#45;&gt;X4</title>\n",
       "<path fill=\"none\" stroke=\"#ff0051\" stroke-width=\"5\" d=\"M284.208,-18C299.184,-18 318.19,-18 334.596,-18\"/>\n",
       "<polygon fill=\"#ff0051\" stroke=\"#ff0051\" stroke-width=\"5\" points=\"334.934,-22.3751 344.934,-18 334.934,-13.6251 334.934,-22.3751\"/>\n",
       "<text text-anchor=\"middle\" x=\"314.5\" y=\"-21.8\" font-family=\"Times,serif\" font-size=\"14.00\" fill=\"#ff0051\">1.00</text>\n",
       "</g>\n",
       "<!-- X4&#45;&gt;f -->\n",
       "<g id=\"edge7\" class=\"edge\"><title>X4&#45;&gt;f</title>\n",
       "<path fill=\"none\" stroke=\"#ff0051\" stroke-width=\"5\" d=\"M399.208,-18C414.184,-18 433.19,-18 449.596,-18\"/>\n",
       "<polygon fill=\"#ff0051\" stroke=\"#ff0051\" stroke-width=\"5\" points=\"449.934,-22.3751 459.934,-18 449.934,-13.6251 449.934,-22.3751\"/>\n",
       "<text text-anchor=\"middle\" x=\"429.5\" y=\"-21.8\" font-family=\"Times,serif\" font-size=\"14.00\" fill=\"#ff0051\">1.00</text>\n",
       "</g>\n",
       "</g>\n",
       "</svg>\n"
      ],
      "text/plain": [
       "<graphviz.files.Source at 0x7f9703bbf850>"
      ]
     },
     "metadata": {},
     "output_type": "display_data"
    },
    {
     "data": {
      "text/plain": [
       "<AGraph <Swig Object of type 'Agraph_t *' at 0x7f97039ffe10>>"
      ]
     },
     "execution_count": 24,
     "metadata": {},
     "output_type": "execute_result"
    }
   ],
   "source": [
    "cf_flow.draw(0, show_fg_val=False)"
   ]
  },
  {
   "cell_type": "code",
   "execution_count": 31,
   "metadata": {},
   "outputs": [
    {
     "data": {
      "image/png": "[encoded data removed]",
      "text/plain": [
       "<Figure size 576x252 with 1 Axes>"
      ]
     },
     "metadata": {},
     "output_type": "display_data"
    }
   ],
   "source": [
    "cf_on_manifold.draw(0) # b/c it is a distribution"
   ]
  },
  {
   "cell_type": "code",
   "execution_count": 22,
   "metadata": {},
   "outputs": [
    {
     "data": {
      "image/png": "[encoded data removed]",
      "text/plain": [
       "<Figure size 576x252 with 1 Axes>"
      ]
     },
     "metadata": {},
     "output_type": "display_data"
    }
   ],
   "source": [
    "cf_ind.draw(0)"
   ]
  },
  {
   "cell_type": "code",
   "execution_count": 32,
   "metadata": {},
   "outputs": [
    {
     "data": {
      "image/png": "[encoded data removed]",
      "text/plain": [
       "<Figure size 576x252 with 1 Axes>"
      ]
     },
     "metadata": {},
     "output_type": "display_data"
    }
   ],
   "source": [
    "cf_asv.draw(0)"
   ]
  },
  {
   "cell_type": "code",
   "execution_count": null,
   "metadata": {},
   "outputs": [],
   "source": [
    "# simulation: generate fake human response\n",
    "# assumption: human gives attributions within 0-1 for each edge, therefore errors range from 0-1, we assume MSE is uniform from 0-1\n",
    "n_users = 100\n",
    "\n",
    "\n"
   ]
  },
  {
   "cell_type": "code",
   "execution_count": null,
   "metadata": {},
   "outputs": [],
   "source": []
  },
  {
   "cell_type": "code",
   "execution_count": null,
   "metadata": {},
   "outputs": [],
   "source": []
  },
  {
   "cell_type": "code",
   "execution_count": null,
   "metadata": {},
   "outputs": [],
   "source": []
  },
  {
   "cell_type": "code",
   "execution_count": null,
   "metadata": {},
   "outputs": [],
   "source": []
  },
  {
   "cell_type": "code",
   "execution_count": 2,
   "metadata": {},
   "outputs": [],
   "source": [
    "tests= {0: \"no model\", 1: \"model\"}"
   ]
  },
  {
   "cell_type": "code",
   "execution_count": 3,
   "metadata": {},
   "outputs": [],
   "source": [
    "all_patients = list(np.arange(100))\n",
    "ground_truth = np.random.choice([0,1], size = (len(all_patients), ), p = [0.5, 0.5])\n",
    "subset_patients_shown = 8 \n",
    "total_num_physicians = 250 \n",
    "physician_sex = np.random.choice([0,1], size = (total_num_physicians, ), p = [0.5, 0.5])\n",
    "physician_age = np.random.uniform(28,80, size = total_num_physicians)"
   ]
  },
  {
   "cell_type": "code",
   "execution_count": 4,
   "metadata": {},
   "outputs": [],
   "source": [
    "df = pd.DataFrame(columns = [\"clinician\", \"patient\", \"test\", \"chf_prediction\", \"chf_truth\", \"age\", \"sex\"])\n",
    "for seed, physician in enumerate(np.arange(total_num_physicians)):\n",
    "# pick subset of patients to show \n",
    "    np.random.seed(seed)\n",
    "    patients_shown = sample(all_patients, subset_patients_shown)\n",
    "# pick set of patients to show with model \n",
    "    patients_with_model = sample(patients_shown, 4)\n",
    "# pick set of patients to show without model \n",
    "    patients_without_model = np.setdiff1d(patients_shown, patients_with_model)\n",
    "    \n",
    "    for patient in patients_with_model:\n",
    "        \n",
    "        gt = ground_truth[patient]\n",
    "        age = physician_age[physician]\n",
    "        sex = physician_sex[physician]\n",
    "#         if age < 50 + model -> 90% accurate \n",
    "        if (age < 50):\n",
    "            if (np.random.choice([0,1], size = (1, ), p = [0.1, 0.9])[0]):\n",
    "                prediction = ground_truth[patient]\n",
    "            else:\n",
    "                prediction = 1-ground_truth[patient]\n",
    "#         if age >= 50 + model -> 80% accurate \n",
    "        else: \n",
    "            if (np.random.choice([0,1], size = (1, ), p = [0.2, 0.8])[0]):\n",
    "                prediction = ground_truth[patient] \n",
    "            else:\n",
    "                prediction =  1-ground_truth[patient]\n",
    "        df = df.append(pd.Series([physician, patient, 1, prediction, ground_truth[patient], age, sex], index = df.columns), ignore_index = True)\n",
    "    for patient in patients_without_model:\n",
    "        \n",
    "        gt = ground_truth[patient]\n",
    "        age = physician_age[physician]\n",
    "        sex = physician_sex[physician]\n",
    "#         if age < 50 + model -> 70% accurate \n",
    "        if (age < 50):\n",
    "            if (np.random.choice([0,1], size = (1, ), p = [0.3, 0.7])[0]):\n",
    "                prediction =  ground_truth[patient]\n",
    "            else:\n",
    "                prediction =  1-ground_truth[patient]\n",
    "#         if age >= 50 + model -> 60% accurate \n",
    "        else: \n",
    "            if (np.random.choice([0,1], size = (1, ), p = [0.4, 0.6])[0]):\n",
    "                prediction =  ground_truth[patient]\n",
    "            else:\n",
    "                prediction =  1-ground_truth[patient]\n",
    "        df = df.append(pd.Series([physician, patient, 0, prediction, ground_truth[patient], age, sex], index = df.columns), ignore_index = True)\n",
    "        \n",
    "        \n",
    "df[\"accurate\"] = 1 - np.logical_xor(df[\"chf_prediction\"],df[\"chf_truth\"]) "
   ]
  },
  {
   "cell_type": "code",
   "execution_count": 5,
   "metadata": {},
   "outputs": [
    {
     "data": {
      "text/html": [
       "<div>\n",
       "<style scoped>\n",
       "    .dataframe tbody tr th:only-of-type {\n",
       "        vertical-align: middle;\n",
       "    }\n",
       "\n",
       "    .dataframe tbody tr th {\n",
       "        vertical-align: top;\n",
       "    }\n",
       "\n",
       "    .dataframe thead th {\n",
       "        text-align: right;\n",
       "    }\n",
       "</style>\n",
       "<table border=\"1\" class=\"dataframe\">\n",
       "  <thead>\n",
       "    <tr style=\"text-align: right;\">\n",
       "      <th></th>\n",
       "      <th>clinician</th>\n",
       "      <th>patient</th>\n",
       "      <th>test</th>\n",
       "      <th>chf_prediction</th>\n",
       "      <th>chf_truth</th>\n",
       "      <th>age</th>\n",
       "      <th>sex</th>\n",
       "      <th>accurate</th>\n",
       "    </tr>\n",
       "  </thead>\n",
       "  <tbody>\n",
       "    <tr>\n",
       "      <th>0</th>\n",
       "      <td>0.0</td>\n",
       "      <td>54.0</td>\n",
       "      <td>1.0</td>\n",
       "      <td>1.0</td>\n",
       "      <td>1.0</td>\n",
       "      <td>72.344340</td>\n",
       "      <td>1.0</td>\n",
       "      <td>1</td>\n",
       "    </tr>\n",
       "    <tr>\n",
       "      <th>1</th>\n",
       "      <td>0.0</td>\n",
       "      <td>15.0</td>\n",
       "      <td>1.0</td>\n",
       "      <td>0.0</td>\n",
       "      <td>0.0</td>\n",
       "      <td>72.344340</td>\n",
       "      <td>1.0</td>\n",
       "      <td>1</td>\n",
       "    </tr>\n",
       "    <tr>\n",
       "      <th>2</th>\n",
       "      <td>0.0</td>\n",
       "      <td>93.0</td>\n",
       "      <td>1.0</td>\n",
       "      <td>1.0</td>\n",
       "      <td>1.0</td>\n",
       "      <td>72.344340</td>\n",
       "      <td>1.0</td>\n",
       "      <td>1</td>\n",
       "    </tr>\n",
       "    <tr>\n",
       "      <th>3</th>\n",
       "      <td>0.0</td>\n",
       "      <td>78.0</td>\n",
       "      <td>1.0</td>\n",
       "      <td>1.0</td>\n",
       "      <td>1.0</td>\n",
       "      <td>72.344340</td>\n",
       "      <td>1.0</td>\n",
       "      <td>1</td>\n",
       "    </tr>\n",
       "    <tr>\n",
       "      <th>4</th>\n",
       "      <td>0.0</td>\n",
       "      <td>35.0</td>\n",
       "      <td>0.0</td>\n",
       "      <td>0.0</td>\n",
       "      <td>0.0</td>\n",
       "      <td>72.344340</td>\n",
       "      <td>1.0</td>\n",
       "      <td>1</td>\n",
       "    </tr>\n",
       "    <tr>\n",
       "      <th>...</th>\n",
       "      <td>...</td>\n",
       "      <td>...</td>\n",
       "      <td>...</td>\n",
       "      <td>...</td>\n",
       "      <td>...</td>\n",
       "      <td>...</td>\n",
       "      <td>...</td>\n",
       "      <td>...</td>\n",
       "    </tr>\n",
       "    <tr>\n",
       "      <th>1995</th>\n",
       "      <td>249.0</td>\n",
       "      <td>33.0</td>\n",
       "      <td>1.0</td>\n",
       "      <td>1.0</td>\n",
       "      <td>1.0</td>\n",
       "      <td>40.349997</td>\n",
       "      <td>0.0</td>\n",
       "      <td>1</td>\n",
       "    </tr>\n",
       "    <tr>\n",
       "      <th>1996</th>\n",
       "      <td>249.0</td>\n",
       "      <td>19.0</td>\n",
       "      <td>0.0</td>\n",
       "      <td>0.0</td>\n",
       "      <td>0.0</td>\n",
       "      <td>40.349997</td>\n",
       "      <td>0.0</td>\n",
       "      <td>1</td>\n",
       "    </tr>\n",
       "    <tr>\n",
       "      <th>1997</th>\n",
       "      <td>249.0</td>\n",
       "      <td>22.0</td>\n",
       "      <td>0.0</td>\n",
       "      <td>0.0</td>\n",
       "      <td>0.0</td>\n",
       "      <td>40.349997</td>\n",
       "      <td>0.0</td>\n",
       "      <td>1</td>\n",
       "    </tr>\n",
       "    <tr>\n",
       "      <th>1998</th>\n",
       "      <td>249.0</td>\n",
       "      <td>76.0</td>\n",
       "      <td>0.0</td>\n",
       "      <td>0.0</td>\n",
       "      <td>1.0</td>\n",
       "      <td>40.349997</td>\n",
       "      <td>0.0</td>\n",
       "      <td>0</td>\n",
       "    </tr>\n",
       "    <tr>\n",
       "      <th>1999</th>\n",
       "      <td>249.0</td>\n",
       "      <td>98.0</td>\n",
       "      <td>0.0</td>\n",
       "      <td>1.0</td>\n",
       "      <td>0.0</td>\n",
       "      <td>40.349997</td>\n",
       "      <td>0.0</td>\n",
       "      <td>0</td>\n",
       "    </tr>\n",
       "  </tbody>\n",
       "</table>\n",
       "<p>2000 rows × 8 columns</p>\n",
       "</div>"
      ],
      "text/plain": [
       "      clinician  patient  test  chf_prediction  chf_truth        age  sex  \\\n",
       "0           0.0     54.0   1.0             1.0        1.0  72.344340  1.0   \n",
       "1           0.0     15.0   1.0             0.0        0.0  72.344340  1.0   \n",
       "2           0.0     93.0   1.0             1.0        1.0  72.344340  1.0   \n",
       "3           0.0     78.0   1.0             1.0        1.0  72.344340  1.0   \n",
       "4           0.0     35.0   0.0             0.0        0.0  72.344340  1.0   \n",
       "...         ...      ...   ...             ...        ...        ...  ...   \n",
       "1995      249.0     33.0   1.0             1.0        1.0  40.349997  0.0   \n",
       "1996      249.0     19.0   0.0             0.0        0.0  40.349997  0.0   \n",
       "1997      249.0     22.0   0.0             0.0        0.0  40.349997  0.0   \n",
       "1998      249.0     76.0   0.0             0.0        1.0  40.349997  0.0   \n",
       "1999      249.0     98.0   0.0             1.0        0.0  40.349997  0.0   \n",
       "\n",
       "      accurate  \n",
       "0            1  \n",
       "1            1  \n",
       "2            1  \n",
       "3            1  \n",
       "4            1  \n",
       "...        ...  \n",
       "1995         1  \n",
       "1996         1  \n",
       "1997         1  \n",
       "1998         0  \n",
       "1999         0  \n",
       "\n",
       "[2000 rows x 8 columns]"
      ]
     },
     "execution_count": 5,
     "metadata": {},
     "output_type": "execute_result"
    }
   ],
   "source": [
    "df"
   ]
  },
  {
   "cell_type": "code",
   "execution_count": null,
   "metadata": {},
   "outputs": [],
   "source": []
  }
 ],
 "metadata": {
  "kernelspec": {
   "display_name": "Python 3",
   "language": "python",
   "name": "python3"
  },
  "language_info": {
   "codemirror_mode": {
    "name": "ipython",
    "version": 3
   },
   "file_extension": ".py",
   "mimetype": "text/x-python",
   "name": "python",
   "nbconvert_exporter": "python",
   "pygments_lexer": "ipython3",
   "version": "3.7.7"
  }
 },
 "nbformat": 4,
 "nbformat_minor": 4
}
