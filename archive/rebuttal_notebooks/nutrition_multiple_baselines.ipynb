{
 "cells": [
  {
   "cell_type": "code",
   "execution_count": 1,
   "metadata": {},
   "outputs": [],
   "source": [
    "import os # need to happen before loading numpy\n",
    "os.environ[\"OMP_NUM_THREADS\"] = \"8\" # export OMP_NUM_THREADS=8\n",
    "os.environ[\"OPENBLAS_NUM_THREADS\"] = \"8\" # export OPENBLAS_NUM_THREADS=8\n",
    "os.environ[\"MKL_NUM_THREADS\"] = \"8\" # export MKL_NUM_THREADS=8\n",
    "os.environ[\"VECLIB_MAXIMUM_THREADS\"] = \"8\" # export VECLIB_MAXIMUM_THREADS=8\n",
    "os.environ[\"NUMEXPR_NUM_THREADS\"] = \"8\" # export NUMEXPR_NUM_THREADS=8"
   ]
  },
  {
   "cell_type": "code",
   "execution_count": 164,
   "metadata": {},
   "outputs": [
    {
     "name": "stderr",
     "output_type": "stream",
     "text": [
      "[autoreload of pygraphviz.graphviz failed: Traceback (most recent call last):\n",
      "  File \"/home/jiaxuan/.local/share/virtualenvs/msr_intern_2020-7K8myxuu/lib/python3.7/site-packages/IPython/extensions/autoreload.py\", line 245, in check\n",
      "    superreload(m, reload, self.old_objects)\n",
      "  File \"/home/jiaxuan/.local/share/virtualenvs/msr_intern_2020-7K8myxuu/lib/python3.7/site-packages/IPython/extensions/autoreload.py\", line 394, in superreload\n",
      "    module = reload(module)\n",
      "  File \"/home/jiaxuan/.local/share/virtualenvs/msr_intern_2020-7K8myxuu/lib/python3.7/imp.py\", line 314, in reload\n",
      "    return importlib.reload(module)\n",
      "  File \"/home/jiaxuan/.local/share/virtualenvs/msr_intern_2020-7K8myxuu/lib/python3.7/importlib/__init__.py\", line 169, in reload\n",
      "    _bootstrap._exec(spec, module)\n",
      "  File \"<frozen importlib._bootstrap>\", line 630, in _exec\n",
      "  File \"<frozen importlib._bootstrap_external>\", line 728, in exec_module\n",
      "  File \"<frozen importlib._bootstrap>\", line 219, in _call_with_frames_removed\n",
      "  File \"/home/jiaxuan/.local/share/virtualenvs/msr_intern_2020-7K8myxuu/lib/python3.7/site-packages/pygraphviz/graphviz.py\", line 317, in <module>\n",
      "    _graphviz.AGRAPH_swigconstant(_graphviz)\n",
      "AttributeError: module '_graphviz' has no attribute 'AGRAPH_swigconstant'\n",
      "]\n"
     ]
    }
   ],
   "source": [
    "import sys\n",
    "import dill\n",
    "from collections import defaultdict\n",
    "if '../' not in sys.path:\n",
    "    sys.path = ['../'] + sys.path\n",
    "from flow import Node, CreditFlow, Graph, get_source_nodes, topo_sort, flatten_graph, eval_graph, boundary_graph, single_source_graph, viz_graph, save_graph, hcluster_graph\n",
    "from flow import ParallelCreditFlow, GraphExplainer, translator\n",
    "from flow import group_nodes, build_feature_graph\n",
    "from flow import CausalLinks, create_xgboost_f\n",
    "from on_manifold import OnManifoldExplainer, IndExplainer\n",
    "\n",
    "import tqdm\n",
    "from numba import jit\n",
    "import numpy as np\n",
    "import pandas as pd\n",
    "import xgboost\n",
    "from sklearn.model_selection import train_test_split\n",
    "import matplotlib.pylab as pl\n",
    "from graphviz import Digraph, Source\n",
    "from pygraphviz import AGraph\n",
    "import numpy as np\n",
    "import matplotlib.image as mpimg\n",
    "from IPython.display import Image\n",
    "import matplotlib.pyplot as plt\n",
    "import copy\n",
    "import seaborn as sns\n",
    "import scipy as sp\n",
    "import scipy.cluster\n",
    "import matplotlib.pyplot as pl"
   ]
  },
  {
   "cell_type": "markdown",
   "metadata": {},
   "source": [
    "# Train a model"
   ]
  },
  {
   "cell_type": "code",
   "execution_count": 3,
   "metadata": {},
   "outputs": [
    {
     "name": "stdout",
     "output_type": "stream",
     "text": [
      "(9932, 18) (9932, 18)\n"
     ]
    },
    {
     "data": {
      "text/html": [
       "<div>\n",
       "<style scoped>\n",
       "    .dataframe tbody tr th:only-of-type {\n",
       "        vertical-align: middle;\n",
       "    }\n",
       "\n",
       "    .dataframe tbody tr th {\n",
       "        vertical-align: top;\n",
       "    }\n",
       "\n",
       "    .dataframe thead th {\n",
       "        text-align: right;\n",
       "    }\n",
       "</style>\n",
       "<table border=\"1\" class=\"dataframe\">\n",
       "  <thead>\n",
       "    <tr style=\"text-align: right;\">\n",
       "      <th></th>\n",
       "      <th>Age</th>\n",
       "      <th>Diastolic BP</th>\n",
       "      <th>Poverty index</th>\n",
       "      <th>Race</th>\n",
       "      <th>Red blood cells</th>\n",
       "      <th>Sedimentation rate</th>\n",
       "      <th>Serum Albumin</th>\n",
       "      <th>Serum Cholesterol</th>\n",
       "      <th>Serum Iron</th>\n",
       "      <th>Serum Magnesium</th>\n",
       "      <th>Serum Protein</th>\n",
       "      <th>Sex</th>\n",
       "      <th>Systolic BP</th>\n",
       "      <th>TIBC</th>\n",
       "      <th>TS</th>\n",
       "      <th>White blood cells</th>\n",
       "      <th>BMI</th>\n",
       "      <th>Pulse pressure</th>\n",
       "    </tr>\n",
       "  </thead>\n",
       "  <tbody>\n",
       "    <tr>\n",
       "      <th>0</th>\n",
       "      <td>35.0</td>\n",
       "      <td>92.0</td>\n",
       "      <td>126.0</td>\n",
       "      <td>2.0</td>\n",
       "      <td>77.7</td>\n",
       "      <td>12.0</td>\n",
       "      <td>5.0</td>\n",
       "      <td>165.0</td>\n",
       "      <td>135.0</td>\n",
       "      <td>1.37</td>\n",
       "      <td>7.6</td>\n",
       "      <td>2.0</td>\n",
       "      <td>142.0</td>\n",
       "      <td>323.0</td>\n",
       "      <td>41.8</td>\n",
       "      <td>5.8</td>\n",
       "      <td>31.109434</td>\n",
       "      <td>50.0</td>\n",
       "    </tr>\n",
       "    <tr>\n",
       "      <th>1</th>\n",
       "      <td>71.0</td>\n",
       "      <td>78.0</td>\n",
       "      <td>210.0</td>\n",
       "      <td>2.0</td>\n",
       "      <td>77.7</td>\n",
       "      <td>37.0</td>\n",
       "      <td>4.0</td>\n",
       "      <td>298.0</td>\n",
       "      <td>89.0</td>\n",
       "      <td>1.38</td>\n",
       "      <td>6.4</td>\n",
       "      <td>2.0</td>\n",
       "      <td>156.0</td>\n",
       "      <td>331.0</td>\n",
       "      <td>26.9</td>\n",
       "      <td>5.3</td>\n",
       "      <td>32.362572</td>\n",
       "      <td>78.0</td>\n",
       "    </tr>\n",
       "    <tr>\n",
       "      <th>2</th>\n",
       "      <td>74.0</td>\n",
       "      <td>86.0</td>\n",
       "      <td>999.0</td>\n",
       "      <td>2.0</td>\n",
       "      <td>77.7</td>\n",
       "      <td>31.0</td>\n",
       "      <td>3.8</td>\n",
       "      <td>222.0</td>\n",
       "      <td>115.0</td>\n",
       "      <td>1.37</td>\n",
       "      <td>7.4</td>\n",
       "      <td>2.0</td>\n",
       "      <td>170.0</td>\n",
       "      <td>299.0</td>\n",
       "      <td>38.5</td>\n",
       "      <td>8.1</td>\n",
       "      <td>25.388497</td>\n",
       "      <td>84.0</td>\n",
       "    </tr>\n",
       "    <tr>\n",
       "      <th>3</th>\n",
       "      <td>64.0</td>\n",
       "      <td>92.0</td>\n",
       "      <td>385.0</td>\n",
       "      <td>1.0</td>\n",
       "      <td>77.7</td>\n",
       "      <td>30.0</td>\n",
       "      <td>4.3</td>\n",
       "      <td>265.0</td>\n",
       "      <td>94.0</td>\n",
       "      <td>1.97</td>\n",
       "      <td>7.3</td>\n",
       "      <td>2.0</td>\n",
       "      <td>172.0</td>\n",
       "      <td>349.0</td>\n",
       "      <td>26.9</td>\n",
       "      <td>6.7</td>\n",
       "      <td>26.446610</td>\n",
       "      <td>80.0</td>\n",
       "    </tr>\n",
       "    <tr>\n",
       "      <th>4</th>\n",
       "      <td>32.0</td>\n",
       "      <td>70.0</td>\n",
       "      <td>183.0</td>\n",
       "      <td>2.0</td>\n",
       "      <td>77.7</td>\n",
       "      <td>18.0</td>\n",
       "      <td>5.0</td>\n",
       "      <td>203.0</td>\n",
       "      <td>192.0</td>\n",
       "      <td>1.35</td>\n",
       "      <td>7.3</td>\n",
       "      <td>1.0</td>\n",
       "      <td>128.0</td>\n",
       "      <td>386.0</td>\n",
       "      <td>49.7</td>\n",
       "      <td>8.1</td>\n",
       "      <td>20.354684</td>\n",
       "      <td>58.0</td>\n",
       "    </tr>\n",
       "  </tbody>\n",
       "</table>\n",
       "</div>"
      ],
      "text/plain": [
       "    Age  Diastolic BP  Poverty index  Race  Red blood cells  \\\n",
       "0  35.0          92.0          126.0   2.0             77.7   \n",
       "1  71.0          78.0          210.0   2.0             77.7   \n",
       "2  74.0          86.0          999.0   2.0             77.7   \n",
       "3  64.0          92.0          385.0   1.0             77.7   \n",
       "4  32.0          70.0          183.0   2.0             77.7   \n",
       "\n",
       "   Sedimentation rate  Serum Albumin  Serum Cholesterol  Serum Iron  \\\n",
       "0                12.0            5.0              165.0       135.0   \n",
       "1                37.0            4.0              298.0        89.0   \n",
       "2                31.0            3.8              222.0       115.0   \n",
       "3                30.0            4.3              265.0        94.0   \n",
       "4                18.0            5.0              203.0       192.0   \n",
       "\n",
       "   Serum Magnesium  Serum Protein  Sex  Systolic BP   TIBC    TS  \\\n",
       "0             1.37            7.6  2.0        142.0  323.0  41.8   \n",
       "1             1.38            6.4  2.0        156.0  331.0  26.9   \n",
       "2             1.37            7.4  2.0        170.0  299.0  38.5   \n",
       "3             1.97            7.3  2.0        172.0  349.0  26.9   \n",
       "4             1.35            7.3  1.0        128.0  386.0  49.7   \n",
       "\n",
       "   White blood cells        BMI  Pulse pressure  \n",
       "0                5.8  31.109434            50.0  \n",
       "1                5.3  32.362572            78.0  \n",
       "2                8.1  25.388497            84.0  \n",
       "3                6.7  26.446610            80.0  \n",
       "4                8.1  20.354684            58.0  "
      ]
     },
     "execution_count": 3,
     "metadata": {},
     "output_type": "execute_result"
    }
   ],
   "source": [
    "X,y = shap.datasets.nhanesi()\n",
    "X_display,y_display = shap.datasets.nhanesi(display=True) # human readable feature values\n",
    "# remove the first column: unnamed: 0\n",
    "X = X.iloc[:, 1:]\n",
    "X_display = X_display.iloc[:, 1:]\n",
    "\n",
    "xgb_full = xgboost.DMatrix(X, label=y)\n",
    "\n",
    "# create a train/test split\n",
    "X_train, X_test, y_train, y_test = train_test_split(X, y, test_size=0.2, random_state=7)\n",
    "xgb_train = xgboost.DMatrix(X_train, label=y_train)\n",
    "xgb_test = xgboost.DMatrix(X_test, label=y_test)\n",
    "\n",
    "print(X.shape, X_display.shape)\n",
    "X.head()"
   ]
  },
  {
   "cell_type": "code",
   "execution_count": 4,
   "metadata": {},
   "outputs": [
    {
     "name": "stdout",
     "output_type": "stream",
     "text": [
      "[0]\ttest-cox-nloglik:7.26934\n",
      "[100]\ttest-cox-nloglik:7.04554\n",
      "[200]\ttest-cox-nloglik:6.90625\n",
      "[300]\ttest-cox-nloglik:6.80909\n",
      "[400]\ttest-cox-nloglik:6.73926\n",
      "[500]\ttest-cox-nloglik:6.68686\n",
      "[600]\ttest-cox-nloglik:6.64699\n",
      "[700]\ttest-cox-nloglik:6.61571\n",
      "[800]\ttest-cox-nloglik:6.59138\n",
      "[900]\ttest-cox-nloglik:6.57148\n",
      "[999]\ttest-cox-nloglik:6.55579\n"
     ]
    }
   ],
   "source": [
    "# use validation set to choose # of trees\n",
    "params = {\n",
    "    \"eta\": 0.002,\n",
    "    \"max_depth\": 3,\n",
    "    \"objective\": \"survival:cox\",\n",
    "    \"subsample\": 0.5\n",
    "}\n",
    "model_train = xgboost.train(params, xgb_train, 1000, evals = [(xgb_test, \"test\")], verbose_eval=100)\n",
    "\n",
    "# workaround from https://github.com/slundberg/shap/issues/1215\n",
    "mybooster = model_train\n",
    "\n",
    "model_bytearray = mybooster.save_raw()[4:]\n",
    "def myfun(self=None):\n",
    "    return model_bytearray\n",
    "mybooster.save_raw = myfun"
   ]
  },
  {
   "cell_type": "code",
   "execution_count": 5,
   "metadata": {},
   "outputs": [
    {
     "name": "stdout",
     "output_type": "stream",
     "text": [
      "[0]\ttest-cox-nloglik:8.88081\n",
      "[999]\ttest-cox-nloglik:8.16748\n"
     ]
    }
   ],
   "source": [
    "# train final model on the full data set\n",
    "params = {\n",
    "    \"eta\": 0.002,\n",
    "    \"max_depth\": 3, \n",
    "    \"objective\": \"survival:cox\",\n",
    "    \"subsample\": 0.5\n",
    "}\n",
    "model = xgboost.train(params, xgb_full, 1000, evals = [(xgb_full, \"test\")], verbose_eval=1000)\n",
    "\n",
    "# workaround from https://github.com/slundberg/shap/issues/1215\n",
    "mybooster = model\n",
    "\n",
    "model_bytearray = mybooster.save_raw()[4:]\n",
    "def myfun(self=None):\n",
    "    return model_bytearray\n",
    "mybooster.save_raw = myfun"
   ]
  },
  {
   "cell_type": "code",
   "execution_count": 6,
   "metadata": {},
   "outputs": [
    {
     "data": {
      "text/plain": [
       "0.8289463410825477"
      ]
     },
     "execution_count": 6,
     "metadata": {},
     "output_type": "execute_result"
    }
   ],
   "source": [
    "def c_statistic_harrell(pred, labels):\n",
    "    total = 0\n",
    "    matches = 0\n",
    "    for i in range(len(labels)):\n",
    "        for j in range(len(labels)):\n",
    "            if labels[j] > 0 and abs(labels[i]) > labels[j]:\n",
    "                total += 1\n",
    "                if pred[j] > pred[i]:\n",
    "                    matches += 1\n",
    "    return matches/total\n",
    "\n",
    "# see how well we can order people by survival\n",
    "c_statistic_harrell(model_train.predict(xgb_test, ntree_limit=5000), y_test)"
   ]
  },
  {
   "cell_type": "code",
   "execution_count": 7,
   "metadata": {},
   "outputs": [],
   "source": [
    "n_bg = 100\n",
    "nsamples = 100 # number of fg samples to explain\n",
    "nruns = 100\n",
    "bg = X.fillna(X.mean()).sample(n_bg)\n",
    "sample_ind = 4"
   ]
  },
  {
   "cell_type": "markdown",
   "metadata": {},
   "source": [
    "# Ind Shap"
   ]
  },
  {
   "cell_type": "code",
   "execution_count": 8,
   "metadata": {},
   "outputs": [
    {
     "name": "stderr",
     "output_type": "stream",
     "text": [
      "0it [00:00, ?it/s]\n"
     ]
    },
    {
     "data": {
      "image/svg+xml": [
       "<?xml version=\"1.0\" encoding=\"UTF-8\" standalone=\"no\"?>\n",
       "<!DOCTYPE svg PUBLIC \"-//W3C//DTD SVG 1.1//EN\"\n",
       " \"http://www.w3.org/Graphics/SVG/1.1/DTD/svg11.dtd\">\n",
       "<!-- Generated by graphviz version 2.38.0 (20140413.2041)\n",
       " -->\n",
       "<!-- Title: %3 Pages: 1 -->\n",
       "<svg width=\"2220pt\" height=\"116pt\"\n",
       " viewBox=\"0.00 0.00 2219.74 116.00\" xmlns=\"http://www.w3.org/2000/svg\" xmlns:xlink=\"http://www.w3.org/1999/xlink\">\n",
       "<g id=\"graph0\" class=\"graph\" transform=\"scale(1 1) rotate(0) translate(4 112)\">\n",
       "<title>%3</title>\n",
       "<polygon fill=\"white\" stroke=\"none\" points=\"-4,4 -4,-112 2215.74,-112 2215.74,4 -4,4\"/>\n",
       "<!-- predicted hazard -->\n",
       "<g id=\"node1\" class=\"node\"><title>predicted hazard</title>\n",
       "<ellipse fill=\"none\" stroke=\"black\" cx=\"1190\" cy=\"-90\" rx=\"69.5877\" ry=\"18\"/>\n",
       "<text text-anchor=\"middle\" x=\"1190\" y=\"-86.3\" font-family=\"Times,serif\" font-size=\"14.00\">predicted hazard</text>\n",
       "</g>\n",
       "<!-- Age -->\n",
       "<g id=\"node2\" class=\"node\"><title>Age</title>\n",
       "<ellipse fill=\"none\" stroke=\"black\" cx=\"27\" cy=\"-18\" rx=\"27\" ry=\"18\"/>\n",
       "<text text-anchor=\"middle\" x=\"27\" y=\"-14.3\" font-family=\"Times,serif\" font-size=\"14.00\">Age</text>\n",
       "</g>\n",
       "<!-- Age&#45;&gt;predicted hazard -->\n",
       "<g id=\"edge1\" class=\"edge\"><title>Age&#45;&gt;predicted hazard</title>\n",
       "<path fill=\"none\" stroke=\"black\" d=\"M47.0422,-30.1623C52.1067,-32.5024 57.6344,-34.6637 63,-36 261.56,-85.4517 886.702,-89.4868 1109.86,-89.2989\"/>\n",
       "<polygon fill=\"black\" stroke=\"black\" points=\"1110.18,-92.7987 1120.18,-89.287 1110.17,-85.7987 1110.18,-92.7987\"/>\n",
       "</g>\n",
       "<!-- Diastolic BP -->\n",
       "<g id=\"node3\" class=\"node\"><title>Diastolic BP</title>\n",
       "<ellipse fill=\"none\" stroke=\"black\" cx=\"128\" cy=\"-18\" rx=\"55.7903\" ry=\"18\"/>\n",
       "<text text-anchor=\"middle\" x=\"128\" y=\"-14.3\" font-family=\"Times,serif\" font-size=\"14.00\">Diastolic BP</text>\n",
       "</g>\n",
       "<!-- Diastolic BP&#45;&gt;predicted hazard -->\n",
       "<g id=\"edge2\" class=\"edge\"><title>Diastolic BP&#45;&gt;predicted hazard</title>\n",
       "<path fill=\"none\" stroke=\"black\" d=\"M167.607,-30.7198C175.93,-32.798 184.702,-34.708 193,-36 369.428,-63.4697 907.604,-81.0516 1111.01,-86.8696\"/>\n",
       "<polygon fill=\"black\" stroke=\"black\" points=\"1110.93,-90.3685 1121.02,-87.1542 1111.13,-83.3714 1110.93,-90.3685\"/>\n",
       "</g>\n",
       "<!-- Poverty index -->\n",
       "<g id=\"node4\" class=\"node\"><title>Poverty index</title>\n",
       "<ellipse fill=\"none\" stroke=\"black\" cx=\"262\" cy=\"-18\" rx=\"59.5901\" ry=\"18\"/>\n",
       "<text text-anchor=\"middle\" x=\"262\" y=\"-14.3\" font-family=\"Times,serif\" font-size=\"14.00\">Poverty index</text>\n",
       "</g>\n",
       "<!-- Poverty index&#45;&gt;predicted hazard -->\n",
       "<g id=\"edge3\" class=\"edge\"><title>Poverty index&#45;&gt;predicted hazard</title>\n",
       "<path fill=\"none\" stroke=\"black\" d=\"M304.196,-30.8225C312.683,-32.8392 321.582,-34.6996 330,-36 614.694,-79.9784 957.721,-87.7829 1110.22,-88.9507\"/>\n",
       "<polygon fill=\"black\" stroke=\"black\" points=\"1110.4,-92.452 1120.42,-89.021 1110.45,-85.4521 1110.4,-92.452\"/>\n",
       "</g>\n",
       "<!-- Race -->\n",
       "<g id=\"node5\" class=\"node\"><title>Race</title>\n",
       "<ellipse fill=\"none\" stroke=\"black\" cx=\"368\" cy=\"-18\" rx=\"28.6953\" ry=\"18\"/>\n",
       "<text text-anchor=\"middle\" x=\"368\" y=\"-14.3\" font-family=\"Times,serif\" font-size=\"14.00\">Race</text>\n",
       "</g>\n",
       "<!-- Race&#45;&gt;predicted hazard -->\n",
       "<g id=\"edge4\" class=\"edge\"><title>Race&#45;&gt;predicted hazard</title>\n",
       "<path fill=\"none\" stroke=\"black\" d=\"M389.038,-30.2559C394.134,-32.5318 399.656,-34.6409 405,-36 536.838,-69.5309 938.733,-82.9686 1110.64,-87.2817\"/>\n",
       "<polygon fill=\"black\" stroke=\"black\" points=\"1110.8,-90.7867 1120.88,-87.5347 1110.97,-83.7888 1110.8,-90.7867\"/>\n",
       "</g>\n",
       "<!-- Red blood cells -->\n",
       "<g id=\"node6\" class=\"node\"><title>Red blood cells</title>\n",
       "<ellipse fill=\"none\" stroke=\"black\" cx=\"480\" cy=\"-18\" rx=\"65.7887\" ry=\"18\"/>\n",
       "<text text-anchor=\"middle\" x=\"480\" y=\"-14.3\" font-family=\"Times,serif\" font-size=\"14.00\">Red blood cells</text>\n",
       "</g>\n",
       "<!-- Red blood cells&#45;&gt;predicted hazard -->\n",
       "<g id=\"edge5\" class=\"edge\"><title>Red blood cells&#45;&gt;predicted hazard</title>\n",
       "<path fill=\"none\" stroke=\"black\" d=\"M527.017,-30.7121C536.25,-32.7127 545.895,-34.5952 555,-36 753.927,-66.6931 990.85,-80.5295 1111.27,-85.966\"/>\n",
       "<polygon fill=\"black\" stroke=\"black\" points=\"1111.36,-89.4731 1121.5,-86.4202 1111.67,-82.48 1111.36,-89.4731\"/>\n",
       "</g>\n",
       "<!-- Sedimentation rate -->\n",
       "<g id=\"node7\" class=\"node\"><title>Sedimentation rate</title>\n",
       "<ellipse fill=\"none\" stroke=\"black\" cx=\"641\" cy=\"-18\" rx=\"77.1866\" ry=\"18\"/>\n",
       "<text text-anchor=\"middle\" x=\"641\" y=\"-14.3\" font-family=\"Times,serif\" font-size=\"14.00\">Sedimentation rate</text>\n",
       "</g>\n",
       "<!-- Sedimentation rate&#45;&gt;predicted hazard -->\n",
       "<g id=\"edge6\" class=\"edge\"><title>Sedimentation rate&#45;&gt;predicted hazard</title>\n",
       "<path fill=\"none\" stroke=\"black\" d=\"M696.58,-30.5366C706.995,-32.5062 717.81,-34.4225 728,-36 864.115,-57.0726 1023.99,-73.597 1115.51,-82.2765\"/>\n",
       "<polygon fill=\"black\" stroke=\"black\" points=\"1115.23,-85.7651 1125.51,-83.2194 1115.88,-78.796 1115.23,-85.7651\"/>\n",
       "</g>\n",
       "<!-- Serum Albumin -->\n",
       "<g id=\"node8\" class=\"node\"><title>Serum Albumin</title>\n",
       "<ellipse fill=\"none\" stroke=\"black\" cx=\"805\" cy=\"-18\" rx=\"68.4888\" ry=\"18\"/>\n",
       "<text text-anchor=\"middle\" x=\"805\" y=\"-14.3\" font-family=\"Times,serif\" font-size=\"14.00\">Serum Albumin</text>\n",
       "</g>\n",
       "<!-- Serum Albumin&#45;&gt;predicted hazard -->\n",
       "<g id=\"edge7\" class=\"edge\"><title>Serum Albumin&#45;&gt;predicted hazard</title>\n",
       "<path fill=\"none\" stroke=\"black\" d=\"M855.284,-30.2968C864.489,-32.2688 874.022,-34.2475 883,-36 965.091,-52.024 1060.03,-68.0284 1122.34,-78.1898\"/>\n",
       "<polygon fill=\"black\" stroke=\"black\" points=\"1122,-81.6808 1132.43,-79.8315 1123.12,-74.7716 1122,-81.6808\"/>\n",
       "</g>\n",
       "<!-- Serum Cholesterol -->\n",
       "<g id=\"node9\" class=\"node\"><title>Serum Cholesterol</title>\n",
       "<ellipse fill=\"none\" stroke=\"black\" cx=\"969\" cy=\"-18\" rx=\"77.1866\" ry=\"18\"/>\n",
       "<text text-anchor=\"middle\" x=\"969\" y=\"-14.3\" font-family=\"Times,serif\" font-size=\"14.00\">Serum Cholesterol</text>\n",
       "</g>\n",
       "<!-- Serum Cholesterol&#45;&gt;predicted hazard -->\n",
       "<g id=\"edge8\" class=\"edge\"><title>Serum Cholesterol&#45;&gt;predicted hazard</title>\n",
       "<path fill=\"none\" stroke=\"black\" d=\"M1012.93,-32.9134C1048.86,-44.2962 1099.78,-60.423 1137.79,-72.4643\"/>\n",
       "<polygon fill=\"black\" stroke=\"black\" points=\"1137.07,-75.9052 1147.66,-75.5882 1139.18,-69.232 1137.07,-75.9052\"/>\n",
       "</g>\n",
       "<!-- Serum Iron -->\n",
       "<g id=\"node10\" class=\"node\"><title>Serum Iron</title>\n",
       "<ellipse fill=\"none\" stroke=\"black\" cx=\"1116\" cy=\"-18\" rx=\"51.1914\" ry=\"18\"/>\n",
       "<text text-anchor=\"middle\" x=\"1116\" y=\"-14.3\" font-family=\"Times,serif\" font-size=\"14.00\">Serum Iron</text>\n",
       "</g>\n",
       "<!-- Serum Iron&#45;&gt;predicted hazard -->\n",
       "<g id=\"edge9\" class=\"edge\"><title>Serum Iron&#45;&gt;predicted hazard</title>\n",
       "<path fill=\"none\" stroke=\"black\" d=\"M1133.16,-35.2354C1142.65,-44.2053 1154.6,-55.5098 1165.09,-65.4357\"/>\n",
       "<polygon fill=\"black\" stroke=\"black\" points=\"1162.75,-68.0372 1172.42,-72.3666 1167.56,-62.9519 1162.75,-68.0372\"/>\n",
       "</g>\n",
       "<!-- Serum Magnesium -->\n",
       "<g id=\"node11\" class=\"node\"><title>Serum Magnesium</title>\n",
       "<ellipse fill=\"none\" stroke=\"black\" cx=\"1265\" cy=\"-18\" rx=\"79.0865\" ry=\"18\"/>\n",
       "<text text-anchor=\"middle\" x=\"1265\" y=\"-14.3\" font-family=\"Times,serif\" font-size=\"14.00\">Serum Magnesium</text>\n",
       "</g>\n",
       "<!-- Serum Magnesium&#45;&gt;predicted hazard -->\n",
       "<g id=\"edge10\" class=\"edge\"><title>Serum Magnesium&#45;&gt;predicted hazard</title>\n",
       "<path fill=\"none\" stroke=\"black\" d=\"M1247.23,-35.589C1237.61,-44.5682 1225.56,-55.8074 1215.01,-65.6564\"/>\n",
       "<polygon fill=\"black\" stroke=\"black\" points=\"1212.57,-63.1481 1207.65,-72.5301 1217.35,-68.2655 1212.57,-63.1481\"/>\n",
       "</g>\n",
       "<!-- Serum Protein -->\n",
       "<g id=\"node12\" class=\"node\"><title>Serum Protein</title>\n",
       "<ellipse fill=\"none\" stroke=\"black\" cx=\"1424\" cy=\"-18\" rx=\"61.99\" ry=\"18\"/>\n",
       "<text text-anchor=\"middle\" x=\"1424\" y=\"-14.3\" font-family=\"Times,serif\" font-size=\"14.00\">Serum Protein</text>\n",
       "</g>\n",
       "<!-- Serum Protein&#45;&gt;predicted hazard -->\n",
       "<g id=\"edge11\" class=\"edge\"><title>Serum Protein&#45;&gt;predicted hazard</title>\n",
       "<path fill=\"none\" stroke=\"black\" d=\"M1382.44,-31.4339C1343.77,-43.0001 1285.95,-60.2978 1243.78,-72.9118\"/>\n",
       "<polygon fill=\"black\" stroke=\"black\" points=\"1242.54,-69.6307 1233.96,-75.8499 1244.54,-76.3371 1242.54,-69.6307\"/>\n",
       "</g>\n",
       "<!-- Sex -->\n",
       "<g id=\"node13\" class=\"node\"><title>Sex</title>\n",
       "<ellipse fill=\"none\" stroke=\"black\" cx=\"1531\" cy=\"-18\" rx=\"27\" ry=\"18\"/>\n",
       "<text text-anchor=\"middle\" x=\"1531\" y=\"-14.3\" font-family=\"Times,serif\" font-size=\"14.00\">Sex</text>\n",
       "</g>\n",
       "<!-- Sex&#45;&gt;predicted hazard -->\n",
       "<g id=\"edge12\" class=\"edge\"><title>Sex&#45;&gt;predicted hazard</title>\n",
       "<path fill=\"none\" stroke=\"black\" d=\"M1510.44,-29.867C1505.49,-32.1589 1500.14,-34.3727 1495,-36 1418.31,-60.2792 1327.04,-74.2848 1264.46,-81.7308\"/>\n",
       "<polygon fill=\"black\" stroke=\"black\" points=\"1263.81,-78.2827 1254.28,-82.9141 1264.61,-85.2359 1263.81,-78.2827\"/>\n",
       "</g>\n",
       "<!-- Systolic BP -->\n",
       "<g id=\"node14\" class=\"node\"><title>Systolic BP</title>\n",
       "<ellipse fill=\"none\" stroke=\"black\" cx=\"1628\" cy=\"-18\" rx=\"51.9908\" ry=\"18\"/>\n",
       "<text text-anchor=\"middle\" x=\"1628\" y=\"-14.3\" font-family=\"Times,serif\" font-size=\"14.00\">Systolic BP</text>\n",
       "</g>\n",
       "<!-- Systolic BP&#45;&gt;predicted hazard -->\n",
       "<g id=\"edge13\" class=\"edge\"><title>Systolic BP&#45;&gt;predicted hazard</title>\n",
       "<path fill=\"none\" stroke=\"black\" d=\"M1590.12,-30.3922C1582.51,-32.4445 1574.53,-34.4279 1567,-36 1462.66,-57.7733 1340.18,-73.1461 1263.81,-81.5424\"/>\n",
       "<polygon fill=\"black\" stroke=\"black\" points=\"1263.37,-78.0694 1253.81,-82.6311 1264.13,-85.0283 1263.37,-78.0694\"/>\n",
       "</g>\n",
       "<!-- TIBC -->\n",
       "<g id=\"node15\" class=\"node\"><title>TIBC</title>\n",
       "<ellipse fill=\"none\" stroke=\"black\" cx=\"1729\" cy=\"-18\" rx=\"30.5947\" ry=\"18\"/>\n",
       "<text text-anchor=\"middle\" x=\"1729\" y=\"-14.3\" font-family=\"Times,serif\" font-size=\"14.00\">TIBC</text>\n",
       "</g>\n",
       "<!-- TIBC&#45;&gt;predicted hazard -->\n",
       "<g id=\"edge14\" class=\"edge\"><title>TIBC&#45;&gt;predicted hazard</title>\n",
       "<path fill=\"none\" stroke=\"black\" d=\"M1706.14,-30.0835C1700.64,-32.3664 1694.7,-34.522 1689,-36 1544.23,-73.5588 1369.22,-84.578 1269.64,-87.7622\"/>\n",
       "<polygon fill=\"black\" stroke=\"black\" points=\"1269.24,-84.2724 1259.35,-88.0717 1269.45,-91.2693 1269.24,-84.2724\"/>\n",
       "</g>\n",
       "<!-- TS -->\n",
       "<g id=\"node16\" class=\"node\"><title>TS</title>\n",
       "<ellipse fill=\"none\" stroke=\"black\" cx=\"1805\" cy=\"-18\" rx=\"27\" ry=\"18\"/>\n",
       "<text text-anchor=\"middle\" x=\"1805\" y=\"-14.3\" font-family=\"Times,serif\" font-size=\"14.00\">TS</text>\n",
       "</g>\n",
       "<!-- TS&#45;&gt;predicted hazard -->\n",
       "<g id=\"edge15\" class=\"edge\"><title>TS&#45;&gt;predicted hazard</title>\n",
       "<path fill=\"none\" stroke=\"black\" d=\"M1784.53,-30.1699C1779.58,-32.4493 1774.2,-34.5816 1769,-36 1676.7,-61.1712 1403.62,-78.1252 1268.1,-85.2298\"/>\n",
       "<polygon fill=\"black\" stroke=\"black\" points=\"1267.6,-81.751 1257.79,-85.765 1267.96,-88.7416 1267.6,-81.751\"/>\n",
       "</g>\n",
       "<!-- White blood cells -->\n",
       "<g id=\"node17\" class=\"node\"><title>White blood cells</title>\n",
       "<ellipse fill=\"none\" stroke=\"black\" cx=\"1923\" cy=\"-18\" rx=\"73.387\" ry=\"18\"/>\n",
       "<text text-anchor=\"middle\" x=\"1923\" y=\"-14.3\" font-family=\"Times,serif\" font-size=\"14.00\">White blood cells</text>\n",
       "</g>\n",
       "<!-- White blood cells&#45;&gt;predicted hazard -->\n",
       "<g id=\"edge16\" class=\"edge\"><title>White blood cells&#45;&gt;predicted hazard</title>\n",
       "<path fill=\"none\" stroke=\"black\" d=\"M1871.12,-30.762C1861.16,-32.7336 1850.79,-34.5927 1841,-36 1635.49,-65.5544 1390.92,-79.945 1268.3,-85.7442\"/>\n",
       "<polygon fill=\"black\" stroke=\"black\" points=\"1268.08,-82.2507 1258.26,-86.213 1268.41,-89.2431 1268.08,-82.2507\"/>\n",
       "</g>\n",
       "<!-- BMI -->\n",
       "<g id=\"node18\" class=\"node\"><title>BMI</title>\n",
       "<ellipse fill=\"none\" stroke=\"black\" cx=\"2042\" cy=\"-18\" rx=\"27.8951\" ry=\"18\"/>\n",
       "<text text-anchor=\"middle\" x=\"2042\" y=\"-14.3\" font-family=\"Times,serif\" font-size=\"14.00\">BMI</text>\n",
       "</g>\n",
       "<!-- BMI&#45;&gt;predicted hazard -->\n",
       "<g id=\"edge17\" class=\"edge\"><title>BMI&#45;&gt;predicted hazard</title>\n",
       "<path fill=\"none\" stroke=\"black\" d=\"M2020.96,-30.2655C2015.87,-32.541 2010.35,-34.6475 2005,-36 1867.29,-70.8424 1445.91,-83.6108 1269.25,-87.5151\"/>\n",
       "<polygon fill=\"black\" stroke=\"black\" points=\"1269.16,-84.0161 1259.24,-87.7326 1269.31,-91.0144 1269.16,-84.0161\"/>\n",
       "</g>\n",
       "<!-- Pulse pressure -->\n",
       "<g id=\"node19\" class=\"node\"><title>Pulse pressure</title>\n",
       "<ellipse fill=\"none\" stroke=\"black\" cx=\"2150\" cy=\"-18\" rx=\"61.99\" ry=\"18\"/>\n",
       "<text text-anchor=\"middle\" x=\"2150\" y=\"-14.3\" font-family=\"Times,serif\" font-size=\"14.00\">Pulse pressure</text>\n",
       "</g>\n",
       "<!-- Pulse pressure&#45;&gt;predicted hazard -->\n",
       "<g id=\"edge18\" class=\"edge\"><title>Pulse pressure&#45;&gt;predicted hazard</title>\n",
       "<path fill=\"none\" stroke=\"black\" d=\"M2106.3,-30.7335C2097.33,-32.7837 2087.9,-34.6794 2079,-36 1782.98,-79.9158 1426.4,-87.7218 1270.05,-88.917\"/>\n",
       "<polygon fill=\"black\" stroke=\"black\" points=\"1269.56,-85.4201 1259.59,-88.9892 1269.61,-92.4199 1269.56,-85.4201\"/>\n",
       "</g>\n",
       "</g>\n",
       "</svg>\n"
      ],
      "text/plain": [
       "<graphviz.files.Source at 0x7ff5e28d5a10>"
      ]
     },
     "metadata": {},
     "output_type": "display_data"
    }
   ],
   "source": [
    "causal_links = CausalLinks()\n",
    "categorical_feature_names = ['Race', 'Sex']\n",
    "display_translator = translator(X.columns, X, X_display)\n",
    "target_name = 'predicted hazard'\n",
    "feature_names = list(X.columns)\n",
    "\n",
    "# build causal links\n",
    "causal_links.add_causes_effects(feature_names, target_name, create_xgboost_f(feature_names, model, output_margin=True)) # the target\n",
    "graph = build_feature_graph(X.fillna(X.mean()), causal_links, categorical_feature_names, display_translator, target_name)\n",
    "graph.draw()"
   ]
  },
  {
   "cell_type": "code",
   "execution_count": 9,
   "metadata": {
    "collapsed": true,
    "jupyter": {
     "outputs_hidden": true
    }
   },
   "outputs": [
    {
     "name": "stderr",
     "output_type": "stream",
     "text": [
      "bruteforce sampling: 100%|██████████| 100/100 [00:05<00:00, 16.99it/s]\n",
      "bruteforce sampling: 100%|██████████| 100/100 [00:06<00:00, 16.63it/s]\n",
      "bruteforce sampling: 100%|██████████| 100/100 [00:07<00:00, 14.10it/s]\n",
      "bruteforce sampling: 100%|██████████| 100/100 [00:06<00:00, 15.66it/s]\n",
      "bruteforce sampling: 100%|██████████| 100/100 [00:06<00:00, 14.45it/s]\n",
      "bruteforce sampling: 100%|██████████| 100/100 [00:06<00:00, 16.23it/s]\n",
      "bruteforce sampling: 100%|██████████| 100/100 [00:06<00:00, 16.45it/s]\n",
      "bruteforce sampling: 100%|██████████| 100/100 [00:06<00:00, 15.42it/s]\n",
      "bruteforce sampling: 100%|██████████| 100/100 [00:05<00:00, 17.06it/s]\n",
      "bruteforce sampling: 100%|██████████| 100/100 [00:06<00:00, 16.47it/s]\n",
      "bruteforce sampling: 100%|██████████| 100/100 [00:05<00:00, 16.80it/s]\n",
      "bruteforce sampling: 100%|██████████| 100/100 [00:06<00:00, 16.43it/s]\n",
      "bruteforce sampling: 100%|██████████| 100/100 [00:06<00:00, 16.63it/s]\n",
      "bruteforce sampling: 100%|██████████| 100/100 [00:06<00:00, 16.66it/s]\n",
      "bruteforce sampling: 100%|██████████| 100/100 [00:06<00:00, 15.62it/s]\n",
      "bruteforce sampling: 100%|██████████| 100/100 [00:06<00:00, 16.48it/s]\n",
      "bruteforce sampling: 100%|██████████| 100/100 [00:06<00:00, 16.26it/s]\n",
      "bruteforce sampling: 100%|██████████| 100/100 [00:06<00:00, 16.66it/s]\n",
      "bruteforce sampling: 100%|██████████| 100/100 [00:05<00:00, 16.69it/s]\n",
      "bruteforce sampling: 100%|██████████| 100/100 [00:06<00:00, 15.74it/s]\n",
      "bruteforce sampling: 100%|██████████| 100/100 [00:05<00:00, 16.81it/s]\n",
      "bruteforce sampling: 100%|██████████| 100/100 [00:06<00:00, 16.49it/s]\n",
      "bruteforce sampling: 100%|██████████| 100/100 [00:06<00:00, 16.54it/s]\n",
      "bruteforce sampling: 100%|██████████| 100/100 [00:06<00:00, 15.92it/s]\n",
      "bruteforce sampling: 100%|██████████| 100/100 [00:06<00:00, 15.65it/s]\n",
      "bruteforce sampling: 100%|██████████| 100/100 [00:06<00:00, 15.62it/s]\n",
      "bruteforce sampling: 100%|██████████| 100/100 [00:05<00:00, 16.83it/s]\n",
      "bruteforce sampling: 100%|██████████| 100/100 [00:05<00:00, 16.86it/s]\n",
      "bruteforce sampling: 100%|██████████| 100/100 [00:06<00:00, 16.05it/s]\n",
      "bruteforce sampling: 100%|██████████| 100/100 [00:06<00:00, 15.41it/s]\n",
      "bruteforce sampling: 100%|██████████| 100/100 [00:06<00:00, 16.32it/s]\n",
      "bruteforce sampling: 100%|██████████| 100/100 [00:06<00:00, 15.59it/s]\n",
      "bruteforce sampling: 100%|██████████| 100/100 [00:06<00:00, 15.80it/s]\n",
      "bruteforce sampling: 100%|██████████| 100/100 [00:06<00:00, 15.71it/s]\n",
      "bruteforce sampling: 100%|██████████| 100/100 [00:06<00:00, 15.70it/s]\n",
      "bruteforce sampling: 100%|██████████| 100/100 [00:06<00:00, 16.64it/s]\n",
      "bruteforce sampling: 100%|██████████| 100/100 [00:06<00:00, 16.16it/s]\n",
      "bruteforce sampling: 100%|██████████| 100/100 [00:06<00:00, 15.06it/s]\n",
      "bruteforce sampling: 100%|██████████| 100/100 [00:06<00:00, 15.72it/s]\n",
      "bruteforce sampling: 100%|██████████| 100/100 [00:06<00:00, 14.35it/s]\n",
      "bruteforce sampling: 100%|██████████| 100/100 [00:06<00:00, 15.29it/s]\n",
      "bruteforce sampling: 100%|██████████| 100/100 [00:06<00:00, 15.74it/s]\n",
      "bruteforce sampling: 100%|██████████| 100/100 [00:06<00:00, 16.15it/s]\n",
      "bruteforce sampling: 100%|██████████| 100/100 [00:06<00:00, 15.57it/s]\n",
      "bruteforce sampling: 100%|██████████| 100/100 [00:05<00:00, 17.15it/s]\n",
      "bruteforce sampling: 100%|██████████| 100/100 [00:05<00:00, 16.96it/s]\n",
      "bruteforce sampling: 100%|██████████| 100/100 [00:06<00:00, 14.93it/s]\n",
      "bruteforce sampling: 100%|██████████| 100/100 [00:06<00:00, 14.31it/s]\n",
      "bruteforce sampling: 100%|██████████| 100/100 [00:06<00:00, 16.45it/s]\n",
      "bruteforce sampling: 100%|██████████| 100/100 [00:05<00:00, 17.17it/s]\n",
      "bruteforce sampling: 100%|██████████| 100/100 [00:06<00:00, 15.29it/s]\n",
      "bruteforce sampling: 100%|██████████| 100/100 [00:06<00:00, 15.79it/s]\n",
      "bruteforce sampling: 100%|██████████| 100/100 [00:06<00:00, 15.75it/s]\n",
      "bruteforce sampling: 100%|██████████| 100/100 [00:06<00:00, 15.40it/s]\n",
      "bruteforce sampling: 100%|██████████| 100/100 [00:06<00:00, 14.73it/s]\n",
      "bruteforce sampling: 100%|██████████| 100/100 [00:05<00:00, 16.89it/s]\n",
      "bruteforce sampling: 100%|██████████| 100/100 [00:06<00:00, 15.62it/s]\n",
      "bruteforce sampling: 100%|██████████| 100/100 [00:06<00:00, 16.01it/s]\n",
      "bruteforce sampling: 100%|██████████| 100/100 [00:06<00:00, 15.86it/s]\n",
      "bruteforce sampling: 100%|██████████| 100/100 [00:06<00:00, 16.33it/s]\n",
      "bruteforce sampling: 100%|██████████| 100/100 [00:06<00:00, 15.66it/s]\n",
      "bruteforce sampling: 100%|██████████| 100/100 [00:05<00:00, 16.80it/s]\n",
      "bruteforce sampling: 100%|██████████| 100/100 [00:06<00:00, 16.03it/s]\n",
      "bruteforce sampling: 100%|██████████| 100/100 [00:05<00:00, 16.75it/s]\n",
      "bruteforce sampling: 100%|██████████| 100/100 [00:05<00:00, 17.42it/s]\n",
      "bruteforce sampling: 100%|██████████| 100/100 [00:06<00:00, 15.67it/s]\n",
      "bruteforce sampling: 100%|██████████| 100/100 [00:06<00:00, 15.16it/s]\n",
      "bruteforce sampling: 100%|██████████| 100/100 [00:06<00:00, 15.04it/s]\n",
      "bruteforce sampling: 100%|██████████| 100/100 [00:06<00:00, 16.01it/s]\n",
      "bruteforce sampling: 100%|██████████| 100/100 [00:06<00:00, 15.53it/s]\n",
      "bruteforce sampling: 100%|██████████| 100/100 [00:06<00:00, 16.30it/s]\n",
      "bruteforce sampling: 100%|██████████| 100/100 [00:05<00:00, 17.88it/s]\n",
      "bruteforce sampling: 100%|██████████| 100/100 [00:06<00:00, 16.38it/s]\n",
      "bruteforce sampling: 100%|██████████| 100/100 [00:06<00:00, 16.26it/s]\n",
      "bruteforce sampling: 100%|██████████| 100/100 [00:05<00:00, 16.79it/s]\n",
      "bruteforce sampling: 100%|██████████| 100/100 [00:06<00:00, 16.00it/s]\n",
      "bruteforce sampling: 100%|██████████| 100/100 [00:06<00:00, 15.26it/s]\n",
      "bruteforce sampling: 100%|██████████| 100/100 [00:06<00:00, 15.99it/s]\n",
      "bruteforce sampling: 100%|██████████| 100/100 [00:06<00:00, 15.95it/s]\n",
      "bruteforce sampling: 100%|██████████| 100/100 [00:05<00:00, 16.83it/s]\n",
      "bruteforce sampling: 100%|██████████| 100/100 [00:05<00:00, 17.01it/s]\n",
      "bruteforce sampling: 100%|██████████| 100/100 [00:05<00:00, 17.05it/s]\n",
      "bruteforce sampling: 100%|██████████| 100/100 [00:06<00:00, 15.87it/s]\n",
      "bruteforce sampling: 100%|██████████| 100/100 [00:05<00:00, 17.14it/s]\n",
      "bruteforce sampling: 100%|██████████| 100/100 [00:06<00:00, 16.32it/s]\n",
      "bruteforce sampling: 100%|██████████| 100/100 [00:06<00:00, 16.40it/s]\n",
      "bruteforce sampling: 100%|██████████| 100/100 [00:05<00:00, 16.77it/s]\n",
      "bruteforce sampling: 100%|██████████| 100/100 [00:06<00:00, 16.29it/s]\n",
      "bruteforce sampling: 100%|██████████| 100/100 [00:06<00:00, 16.50it/s]\n",
      "bruteforce sampling: 100%|██████████| 100/100 [00:06<00:00, 16.02it/s]\n",
      "bruteforce sampling: 100%|██████████| 100/100 [00:05<00:00, 16.73it/s]\n",
      "bruteforce sampling: 100%|██████████| 100/100 [00:06<00:00, 16.19it/s]\n",
      "bruteforce sampling: 100%|██████████| 100/100 [00:05<00:00, 17.80it/s]\n",
      "bruteforce sampling: 100%|██████████| 100/100 [00:05<00:00, 17.03it/s]\n",
      "bruteforce sampling: 100%|██████████| 100/100 [00:06<00:00, 16.60it/s]\n",
      "bruteforce sampling: 100%|██████████| 100/100 [00:06<00:00, 16.23it/s]\n",
      "bruteforce sampling: 100%|██████████| 100/100 [00:06<00:00, 15.99it/s]\n",
      "bruteforce sampling: 100%|██████████| 100/100 [00:05<00:00, 17.13it/s]\n",
      "bruteforce sampling: 100%|██████████| 100/100 [00:06<00:00, 15.21it/s]\n",
      "bruteforce sampling: 100%|██████████| 100/100 [00:06<00:00, 15.03it/s]\n"
     ]
    }
   ],
   "source": [
    "# multiple baseline result\n",
    "ind_edge_credit = defaultdict(lambda: defaultdict(int))\n",
    "for i in range(len(bg)): # average run result using linearity axiom\n",
    "    explainer = GraphExplainer(graph, bg[i:i+1], nruns=nruns) \n",
    "    cf = explainer.shap_values(X[:nsamples])\n",
    "\n",
    "    for node1, d in cf.edge_credit.items(): # avg attribution\n",
    "        for node2, val in d.items():\n",
    "            a = ind_edge_credit[node1.name][node2.name]\n",
    "            b = cf.edge_credit[node1][node2]\n",
    "            ind_edge_credit[node1.name][node2.name] = (a * i + b) / (i + 1)\n",
    "\n",
    "# need to do this because draw expect node based dict, not str based dict\n",
    "def convert2node_dict(name_edge_credit, graph):\n",
    "    name2node = {node.name: node for node in graph}\n",
    "    res = defaultdict(lambda: defaultdict(int))\n",
    "    for node1, d in name_edge_credit.items():\n",
    "        for node2, val in d.items():\n",
    "            res[name2node[node1]][name2node[node2]] = val\n",
    "    return res\n",
    "\n",
    "ind_edge_credit = convert2node_dict(ind_edge_credit, explainer.graph)"
   ]
  },
  {
   "cell_type": "code",
   "execution_count": 10,
   "metadata": {},
   "outputs": [
    {
     "data": {
      "image/svg+xml": [
       "<?xml version=\"1.0\" encoding=\"UTF-8\" standalone=\"no\"?>\n",
       "<!DOCTYPE svg PUBLIC \"-//W3C//DTD SVG 1.1//EN\"\n",
       " \"http://www.w3.org/Graphics/SVG/1.1/DTD/svg11.dtd\">\n",
       "<!-- Generated by graphviz version 2.38.0 (20140413.2041)\n",
       " -->\n",
       "<!-- Title: %3 Pages: 1 -->\n",
       "<svg width=\"1161pt\" height=\"131pt\"\n",
       " viewBox=\"0.00 0.00 1161.19 131.00\" xmlns=\"http://www.w3.org/2000/svg\" xmlns:xlink=\"http://www.w3.org/1999/xlink\">\n",
       "<g id=\"graph0\" class=\"graph\" transform=\"scale(1 1) rotate(0) translate(4 127)\">\n",
       "<title>%3</title>\n",
       "<polygon fill=\"white\" stroke=\"none\" points=\"-4,4 -4,-127 1157.19,-127 1157.19,4 -4,4\"/>\n",
       "<!-- Diastolic BP -->\n",
       "<g id=\"node1\" class=\"node\"><title>Diastolic BP</title>\n",
       "<ellipse fill=\"none\" stroke=\"black\" cx=\"55.895\" cy=\"-105\" rx=\"55.7903\" ry=\"18\"/>\n",
       "<text text-anchor=\"middle\" x=\"55.895\" y=\"-101.3\" font-family=\"Times,serif\" font-size=\"14.00\">Diastolic BP</text>\n",
       "</g>\n",
       "<!-- predicted hazard -->\n",
       "<g id=\"node2\" class=\"node\"><title>predicted hazard</title>\n",
       "<ellipse fill=\"none\" stroke=\"black\" cx=\"82.895\" cy=\"-18\" rx=\"69.5877\" ry=\"18\"/>\n",
       "<text text-anchor=\"middle\" x=\"82.895\" y=\"-14.3\" font-family=\"Times,serif\" font-size=\"14.00\">predicted hazard</text>\n",
       "</g>\n",
       "<!-- Diastolic BP&#45;&gt;predicted hazard -->\n",
       "<g id=\"edge1\" class=\"edge\"><title>Diastolic BP&#45;&gt;predicted hazard</title>\n",
       "<path fill=\"none\" stroke=\"#008bfb\" stroke-width=\"0.465514\" d=\"M54.6859,-86.8965C54.5328,-77.0287 55.2828,-64.5287 58.895,-54 60.0293,-50.6941 61.5672,-47.4116 63.3203,-44.2573\"/>\n",
       "<polygon fill=\"#008bfb\" stroke=\"#008bfb\" stroke-width=\"0.465514\" points=\"66.2857,-46.1164 68.6743,-35.7943 60.3701,-42.374 66.2857,-46.1164\"/>\n",
       "<text text-anchor=\"middle\" x=\"73.395\" y=\"-57.8\" font-family=\"Times,serif\" font-size=\"14.00\" fill=\"#008bfb\">&#45;0.08</text>\n",
       "</g>\n",
       "<!-- Pulse pressure -->\n",
       "<g id=\"node3\" class=\"node\"><title>Pulse pressure</title>\n",
       "<ellipse fill=\"none\" stroke=\"black\" cx=\"191.895\" cy=\"-105\" rx=\"61.99\" ry=\"18\"/>\n",
       "<text text-anchor=\"middle\" x=\"191.895\" y=\"-101.3\" font-family=\"Times,serif\" font-size=\"14.00\">Pulse pressure</text>\n",
       "</g>\n",
       "<!-- Pulse pressure&#45;&gt;predicted hazard -->\n",
       "<g id=\"edge2\" class=\"edge\"><title>Pulse pressure&#45;&gt;predicted hazard</title>\n",
       "<path fill=\"none\" stroke=\"#008bfb\" stroke-width=\"0.0772431\" d=\"M150.945,-91.4175C137.782,-85.9938 123.799,-78.6353 112.895,-69 105.43,-62.4036 99.2713,-53.4903 94.5176,-45.0161\"/>\n",
       "<polygon fill=\"#008bfb\" stroke=\"#008bfb\" stroke-width=\"0.0772431\" points=\"97.62,-43.3959 89.9153,-36.1234 91.4032,-46.6133 97.62,-43.3959\"/>\n",
       "<text text-anchor=\"middle\" x=\"127.395\" y=\"-57.8\" font-family=\"Times,serif\" font-size=\"14.00\" fill=\"#008bfb\">&#45;0.01</text>\n",
       "</g>\n",
       "<!-- Race -->\n",
       "<g id=\"node4\" class=\"node\"><title>Race</title>\n",
       "<polygon fill=\"none\" stroke=\"black\" points=\"325.895,-123 271.895,-123 271.895,-87 325.895,-87 325.895,-123\"/>\n",
       "<text text-anchor=\"middle\" x=\"298.895\" y=\"-101.3\" font-family=\"Times,serif\" font-size=\"14.00\">Race</text>\n",
       "</g>\n",
       "<!-- Race&#45;&gt;predicted hazard -->\n",
       "<g id=\"edge3\" class=\"edge\"><title>Race&#45;&gt;predicted hazard</title>\n",
       "<path fill=\"none\" stroke=\"#ff0051\" stroke-width=\"0.299184\" d=\"M271.669,-90.2736C268.747,-89.0636 265.786,-87.9428 262.895,-87 222.454,-73.8137 208.736,-83.9015 168.895,-69 166.075,-67.9451 140.797,-53.1961 118.371,-39.9889\"/>\n",
       "<polygon fill=\"#ff0051\" stroke=\"#ff0051\" stroke-width=\"0.299184\" points=\"120.042,-36.9111 109.65,-34.8465 116.486,-42.9409 120.042,-36.9111\"/>\n",
       "<text text-anchor=\"middle\" x=\"181.395\" y=\"-57.8\" font-family=\"Times,serif\" font-size=\"14.00\" fill=\"#ff0051\">0.05</text>\n",
       "</g>\n",
       "<!-- Systolic BP -->\n",
       "<g id=\"node5\" class=\"node\"><title>Systolic BP</title>\n",
       "<ellipse fill=\"none\" stroke=\"black\" cx=\"395.895\" cy=\"-105\" rx=\"51.9908\" ry=\"18\"/>\n",
       "<text text-anchor=\"middle\" x=\"395.895\" y=\"-101.3\" font-family=\"Times,serif\" font-size=\"14.00\">Systolic BP</text>\n",
       "</g>\n",
       "<!-- Systolic BP&#45;&gt;predicted hazard -->\n",
       "<g id=\"edge4\" class=\"edge\"><title>Systolic BP&#45;&gt;predicted hazard</title>\n",
       "<path fill=\"none\" stroke=\"#008bfb\" stroke-width=\"0.337769\" d=\"M357.657,-92.6623C350.147,-90.6289 342.302,-88.6386 334.895,-87 286.954,-76.3938 272.788,-83.557 225.895,-69 210.894,-64.3432 208.529,-59.7077 193.895,-54 175.947,-46.9994 155.971,-40.3586 137.967,-34.7805\"/>\n",
       "<polygon fill=\"#008bfb\" stroke=\"#008bfb\" stroke-width=\"0.337769\" points=\"138.78,-31.3692 128.194,-31.7954 136.735,-38.0639 138.78,-31.3692\"/>\n",
       "<text text-anchor=\"middle\" x=\"240.395\" y=\"-57.8\" font-family=\"Times,serif\" font-size=\"14.00\" fill=\"#008bfb\">&#45;0.05</text>\n",
       "</g>\n",
       "<!-- BMI -->\n",
       "<g id=\"node6\" class=\"node\"><title>BMI</title>\n",
       "<ellipse fill=\"none\" stroke=\"black\" cx=\"493.895\" cy=\"-105\" rx=\"27.8951\" ry=\"18\"/>\n",
       "<text text-anchor=\"middle\" x=\"493.895\" y=\"-101.3\" font-family=\"Times,serif\" font-size=\"14.00\">BMI</text>\n",
       "</g>\n",
       "<!-- BMI&#45;&gt;predicted hazard -->\n",
       "<g id=\"edge5\" class=\"edge\"><title>BMI&#45;&gt;predicted hazard</title>\n",
       "<path fill=\"none\" stroke=\"#ff0051\" stroke-width=\"0.0925559\" d=\"M472.812,-92.9138C467.718,-90.631 462.208,-88.4761 456.895,-87 387.522,-67.7245 365.983,-85.4871 295.895,-69 277.007,-64.5569 273.566,-59.2827 254.895,-54 220.764,-44.3427 182.11,-36.2314 150.104,-30.2569\"/>\n",
       "<polygon fill=\"#ff0051\" stroke=\"#ff0051\" stroke-width=\"0.0925559\" points=\"150.428,-26.7579 139.96,-28.393 149.163,-33.6427 150.428,-26.7579\"/>\n",
       "<text text-anchor=\"middle\" x=\"308.395\" y=\"-57.8\" font-family=\"Times,serif\" font-size=\"14.00\" fill=\"#ff0051\">0.01</text>\n",
       "</g>\n",
       "<!-- Sex -->\n",
       "<g id=\"node7\" class=\"node\"><title>Sex</title>\n",
       "<polygon fill=\"none\" stroke=\"black\" points=\"593.895,-123 539.895,-123 539.895,-87 593.895,-87 593.895,-123\"/>\n",
       "<text text-anchor=\"middle\" x=\"566.895\" y=\"-101.3\" font-family=\"Times,serif\" font-size=\"14.00\">Sex</text>\n",
       "</g>\n",
       "<!-- Sex&#45;&gt;predicted hazard -->\n",
       "<g id=\"edge6\" class=\"edge\"><title>Sex&#45;&gt;predicted hazard</title>\n",
       "<path fill=\"none\" stroke=\"#ff0051\" stroke-width=\"0.461445\" d=\"M539.734,-90.0602C536.8,-88.8919 533.818,-87.8391 530.895,-87 465.508,-68.2312 445.756,-81.5451 378.895,-69 352.726,-64.0899 346.993,-59.2778 320.895,-54 265.597,-42.8167 202.387,-33.6901 155.013,-27.5636\"/>\n",
       "<polygon fill=\"#ff0051\" stroke=\"#ff0051\" stroke-width=\"0.461445\" points=\"155.213,-24.0608 144.85,-26.2639 154.325,-31.0043 155.213,-24.0608\"/>\n",
       "<text text-anchor=\"middle\" x=\"391.395\" y=\"-57.8\" font-family=\"Times,serif\" font-size=\"14.00\" fill=\"#ff0051\">0.08</text>\n",
       "</g>\n",
       "<!-- Age -->\n",
       "<g id=\"node8\" class=\"node\"><title>Age</title>\n",
       "<ellipse fill=\"none\" stroke=\"black\" cx=\"638.895\" cy=\"-105\" rx=\"27\" ry=\"18\"/>\n",
       "<text text-anchor=\"middle\" x=\"638.895\" y=\"-101.3\" font-family=\"Times,serif\" font-size=\"14.00\">Age</text>\n",
       "</g>\n",
       "<!-- Age&#45;&gt;predicted hazard -->\n",
       "<g id=\"edge7\" class=\"edge\"><title>Age&#45;&gt;predicted hazard</title>\n",
       "<path fill=\"none\" stroke=\"#008bfb\" stroke-width=\"5\" d=\"M618.348,-93.1042C613.393,-90.8135 608.041,-88.6074 602.895,-87 597.547,-85.3294 409.446,-54.7623 403.895,-54 319.678,-42.4351 222.604,-32.2907 157.453,-25.9416\"/>\n",
       "<polygon fill=\"#008bfb\" stroke=\"#008bfb\" stroke-width=\"5\" points=\"157.653,-21.5655 147.278,-24.9555 156.809,-30.2747 157.653,-21.5655\"/>\n",
       "<text text-anchor=\"middle\" x=\"506.395\" y=\"-57.8\" font-family=\"Times,serif\" font-size=\"14.00\" fill=\"#008bfb\">&#45;0.91</text>\n",
       "</g>\n",
       "<!-- Poverty index -->\n",
       "<g id=\"node9\" class=\"node\"><title>Poverty index</title>\n",
       "<ellipse fill=\"none\" stroke=\"black\" cx=\"743.895\" cy=\"-105\" rx=\"59.5901\" ry=\"18\"/>\n",
       "<text text-anchor=\"middle\" x=\"743.895\" y=\"-101.3\" font-family=\"Times,serif\" font-size=\"14.00\">Poverty index</text>\n",
       "</g>\n",
       "<!-- Poverty index&#45;&gt;predicted hazard -->\n",
       "<g id=\"edge8\" class=\"edge\"><title>Poverty index&#45;&gt;predicted hazard</title>\n",
       "<path fill=\"none\" stroke=\"#008bfb\" stroke-width=\"0.155847\" d=\"M701.46,-92.2734C657.608,-80.6381 586.999,-63.2455 524.895,-54 398.56,-35.1925 250.305,-26.0616 161.621,-21.9646\"/>\n",
       "<polygon fill=\"#008bfb\" stroke=\"#008bfb\" stroke-width=\"0.155847\" points=\"161.52,-18.4565 151.372,-21.5013 161.204,-25.4494 161.52,-18.4565\"/>\n",
       "<text text-anchor=\"middle\" x=\"618.395\" y=\"-57.8\" font-family=\"Times,serif\" font-size=\"14.00\" fill=\"#008bfb\">&#45;0.02</text>\n",
       "</g>\n",
       "<!-- Serum Cholesterol -->\n",
       "<g id=\"node10\" class=\"node\"><title>Serum Cholesterol</title>\n",
       "<ellipse fill=\"none\" stroke=\"black\" cx=\"898.895\" cy=\"-105\" rx=\"77.1866\" ry=\"18\"/>\n",
       "<text text-anchor=\"middle\" x=\"898.895\" y=\"-101.3\" font-family=\"Times,serif\" font-size=\"14.00\">Serum Cholesterol</text>\n",
       "</g>\n",
       "<!-- Serum Cholesterol&#45;&gt;predicted hazard -->\n",
       "<g id=\"edge9\" class=\"edge\"><title>Serum Cholesterol&#45;&gt;predicted hazard</title>\n",
       "<path fill=\"none\" stroke=\"#008bfb\" stroke-width=\"0.100782\" d=\"M846.022,-91.8337C793.33,-80.2011 709.956,-63.1226 636.895,-54 468.52,-32.9761 269.692,-24.3154 161.948,-20.9568\"/>\n",
       "<polygon fill=\"#008bfb\" stroke=\"#008bfb\" stroke-width=\"0.100782\" points=\"161.912,-17.4541 151.81,-20.648 161.698,-24.4509 161.912,-17.4541\"/>\n",
       "<text text-anchor=\"middle\" x=\"746.395\" y=\"-57.8\" font-family=\"Times,serif\" font-size=\"14.00\" fill=\"#008bfb\">&#45;0.01</text>\n",
       "</g>\n",
       "<!-- Serum Magnesium -->\n",
       "<g id=\"node11\" class=\"node\"><title>Serum Magnesium</title>\n",
       "<ellipse fill=\"none\" stroke=\"black\" cx=\"1073.9\" cy=\"-105\" rx=\"79.0865\" ry=\"18\"/>\n",
       "<text text-anchor=\"middle\" x=\"1073.9\" y=\"-101.3\" font-family=\"Times,serif\" font-size=\"14.00\">Serum Magnesium</text>\n",
       "</g>\n",
       "<!-- Serum Magnesium&#45;&gt;predicted hazard -->\n",
       "<g id=\"edge10\" class=\"edge\"><title>Serum Magnesium&#45;&gt;predicted hazard</title>\n",
       "<path fill=\"none\" stroke=\"#ff0051\" stroke-width=\"1.04443\" d=\"M1016.36,-92.5567C954.514,-80.7558 853.167,-62.8641 764.895,-54 547.532,-32.1729 289.751,-23.6344 162.343,-20.563\"/>\n",
       "<polygon fill=\"#ff0051\" stroke=\"#ff0051\" stroke-width=\"1.04443\" points=\"162.362,-17.0625 152.282,-20.3253 162.197,-24.0606 162.362,-17.0625\"/>\n",
       "<text text-anchor=\"middle\" x=\"888.395\" y=\"-57.8\" font-family=\"Times,serif\" font-size=\"14.00\" fill=\"#ff0051\">0.18</text>\n",
       "</g>\n",
       "</g>\n",
       "</svg>\n"
      ],
      "text/plain": [
       "<graphviz.files.Source at 0x7ff63ce2dfd0>"
      ]
     },
     "metadata": {},
     "output_type": "display_data"
    },
    {
     "data": {
      "text/plain": [
       "<AGraph <Swig Object of type 'Agraph_t *' at 0x7ff5de76e3f0>>"
      ]
     },
     "execution_count": 10,
     "metadata": {},
     "output_type": "execute_result"
    }
   ],
   "source": [
    "cf.edge_credit = ind_edge_credit\n",
    "cf.draw(sample_ind, max_display=10, edge_credit=ind_edge_credit, show_fg_val=False)"
   ]
  },
  {
   "cell_type": "code",
   "execution_count": 11,
   "metadata": {},
   "outputs": [
    {
     "name": "stdout",
     "output_type": "stream",
     "text": [
      "Age                    32.000000\n",
      "Diastolic BP           70.000000\n",
      "Poverty index         183.000000\n",
      "Race                    2.000000\n",
      "Red blood cells        77.700000\n",
      "Sedimentation rate     18.000000\n",
      "Serum Albumin           5.000000\n",
      "Serum Cholesterol     203.000000\n",
      "Serum Iron            192.000000\n",
      "Serum Magnesium         1.350000\n",
      "Serum Protein           7.300000\n",
      "Sex                     1.000000\n",
      "Systolic BP           128.000000\n",
      "TIBC                  386.000000\n",
      "TS                     49.700000\n",
      "White blood cells       8.100000\n",
      "BMI                    20.354684\n",
      "Pulse pressure         58.000000\n",
      "Name: 4, dtype: float64\n",
      "target: [-1.834923]\n",
      "mean target: -1.0751352\n"
     ]
    }
   ],
   "source": [
    "print(X.iloc[sample_ind])\n",
    "print('target:', model.predict(xgboost.DMatrix(X.iloc[sample_ind:sample_ind+1]), output_margin=True)) # take the log\n",
    "print('mean target:', model.predict(xgboost.DMatrix(bg[:2]), output_margin=True).mean()) # take the log"
   ]
  },
  {
   "cell_type": "markdown",
   "metadata": {},
   "source": [
    "# On manifold SHAP"
   ]
  },
  {
   "cell_type": "code",
   "execution_count": 12,
   "metadata": {},
   "outputs": [
    {
     "name": "stderr",
     "output_type": "stream",
     "text": [
      "100%|██████████| 100/100 [07:52<00:00,  4.73s/it]\n"
     ]
    }
   ],
   "source": [
    "feature_names = X.columns\n",
    "f = lambda x: model.predict(xgboost.DMatrix(pd.DataFrame(x, columns=feature_names)), output_margin=True) # wrapper for the model used by on manifold explainer\n",
    "\n",
    "explainer = OnManifoldExplainer(f, bg, nruns=nruns, sigma_sq=1e-1, single_bg=False) # multiple sample version \n",
    "cf_on_manifold = explainer.shap_values(X[:nsamples])"
   ]
  },
  {
   "cell_type": "code",
   "execution_count": 13,
   "metadata": {},
   "outputs": [
    {
     "name": "stdout",
     "output_type": "stream",
     "text": [
      "On manifold\n"
     ]
    },
    {
     "data": {
      "image/png": "[encoded data removed]",
      "text/plain": [
       "<Figure size 576x468 with 1 Axes>"
      ]
     },
     "metadata": {},
     "output_type": "display_data"
    }
   ],
   "source": [
    "print('On manifold')\n",
    "cf_on_manifold.draw(sample_ind, show=False, max_display=10)\n",
    "plt.tight_layout()\n",
    "# plt.savefig(f'figures/nutrition_manifold_{sample_ind}.png')\n",
    "plt.show()\n",
    "# cf_on_manifold.df(show=False, max_display=10)"
   ]
  },
  {
   "cell_type": "markdown",
   "metadata": {},
   "source": [
    "# incorporate causal relationship"
   ]
  },
  {
   "cell_type": "code",
   "execution_count": 14,
   "metadata": {
    "collapsed": true,
    "jupyter": {
     "outputs_hidden": true
    }
   },
   "outputs": [
    {
     "name": "stderr",
     "output_type": "stream",
     "text": [
      "learning dependency for Sedimentation rate:   0%|          | 0/14 [00:00<?, ?it/s]"
     ]
    },
    {
     "name": "stdout",
     "output_type": "stream",
     "text": [
      "[0]\ttest-rmse:19.38453\n",
      "[100]\ttest-rmse:16.95487\n",
      "[200]\ttest-rmse:15.09857\n",
      "[300]\ttest-rmse:13.70687\n",
      "[400]\ttest-rmse:12.67748\n",
      "[499]\ttest-rmse:11.94172\n"
     ]
    },
    {
     "name": "stderr",
     "output_type": "stream",
     "text": [
      "learning dependency for Serum Cholesterol:   7%|▋         | 1/14 [00:00<00:07,  1.68it/s] "
     ]
    },
    {
     "name": "stdout",
     "output_type": "stream",
     "text": [
      "[0]\ttest-rmse:226.94263\n",
      "[100]\ttest-rmse:187.87550\n",
      "[200]\ttest-rmse:156.24815\n",
      "[300]\ttest-rmse:130.78793\n",
      "[400]\ttest-rmse:110.44482\n",
      "[499]\ttest-rmse:94.44800\n"
     ]
    },
    {
     "name": "stderr",
     "output_type": "stream",
     "text": [
      "learning dependency for Serum Iron:  14%|█▍        | 2/14 [00:01<00:06,  1.78it/s]       "
     ]
    },
    {
     "name": "stdout",
     "output_type": "stream",
     "text": [
      "[0]\ttest-rmse:105.80270\n",
      "[100]\ttest-rmse:88.86579\n",
      "[200]\ttest-rmse:75.45215\n",
      "[300]\ttest-rmse:64.97789\n",
      "[400]\ttest-rmse:56.92674\n",
      "[499]\ttest-rmse:50.90213\n"
     ]
    },
    {
     "name": "stderr",
     "output_type": "stream",
     "text": [
      "learning dependency for Serum Albumin:  21%|██▏       | 3/14 [00:01<00:05,  1.89it/s]"
     ]
    },
    {
     "name": "stdout",
     "output_type": "stream",
     "text": [
      "[0]\ttest-rmse:3.87407\n",
      "[100]\ttest-rmse:3.17810\n",
      "[200]\ttest-rmse:2.60949\n",
      "[300]\ttest-rmse:2.14547\n",
      "[400]\ttest-rmse:1.76748\n",
      "[499]\ttest-rmse:1.46278\n"
     ]
    },
    {
     "name": "stderr",
     "output_type": "stream",
     "text": [
      "learning dependency for TIBC:  29%|██▊       | 4/14 [00:01<00:04,  2.05it/s]         "
     ]
    },
    {
     "name": "stdout",
     "output_type": "stream",
     "text": [
      "[0]\ttest-rmse:365.08758\n",
      "[100]\ttest-rmse:300.40860\n",
      "[200]\ttest-rmse:247.82375\n",
      "[300]\ttest-rmse:205.21208\n",
      "[400]\ttest-rmse:170.85916\n",
      "[499]\ttest-rmse:143.55504\n"
     ]
    },
    {
     "name": "stderr",
     "output_type": "stream",
     "text": [
      "learning dependency for BMI:  36%|███▌      | 5/14 [00:02<00:04,  2.10it/s] "
     ]
    },
    {
     "name": "stdout",
     "output_type": "stream",
     "text": [
      "[0]\ttest-rmse:25.68026\n",
      "[100]\ttest-rmse:21.22700\n",
      "[200]\ttest-rmse:17.61862\n",
      "[300]\ttest-rmse:14.70853\n",
      "[400]\ttest-rmse:12.38153\n",
      "[499]\ttest-rmse:10.55001\n"
     ]
    },
    {
     "name": "stderr",
     "output_type": "stream",
     "text": [
      "learning dependency for Diastolic BP:  43%|████▎     | 6/14 [00:02<00:03,  2.13it/s]"
     ]
    },
    {
     "name": "stdout",
     "output_type": "stream",
     "text": [
      "[0]\ttest-rmse:83.71988\n",
      "[100]\ttest-rmse:68.93323\n",
      "[200]\ttest-rmse:56.90493\n",
      "[300]\ttest-rmse:47.15287\n",
      "[400]\ttest-rmse:39.27799\n",
      "[499]\ttest-rmse:33.00833\n"
     ]
    },
    {
     "name": "stderr",
     "output_type": "stream",
     "text": [
      "learning dependency for White blood cells:  50%|█████     | 7/14 [00:03<00:03,  2.16it/s]"
     ]
    },
    {
     "name": "stdout",
     "output_type": "stream",
     "text": [
      "[0]\ttest-rmse:7.24529\n",
      "[100]\ttest-rmse:6.04540\n",
      "[200]\ttest-rmse:5.08526\n",
      "[300]\ttest-rmse:4.32187\n",
      "[400]\ttest-rmse:3.72444\n",
      "[499]\ttest-rmse:3.26567\n"
     ]
    },
    {
     "name": "stderr",
     "output_type": "stream",
     "text": [
      "learning dependency for Serum Magnesium:  57%|█████▋    | 8/14 [00:03<00:02,  2.19it/s]  "
     ]
    },
    {
     "name": "stdout",
     "output_type": "stream",
     "text": [
      "[0]\ttest-rmse:1.18907\n",
      "[100]\ttest-rmse:0.97714\n",
      "[200]\ttest-rmse:0.80443\n",
      "[300]\ttest-rmse:0.66402\n",
      "[400]\ttest-rmse:0.55023\n",
      "[499]\ttest-rmse:0.45920\n"
     ]
    },
    {
     "name": "stderr",
     "output_type": "stream",
     "text": [
      "learning dependency for Red blood cells:  64%|██████▍   | 9/14 [00:04<00:02,  2.31it/s]"
     ]
    },
    {
     "name": "stdout",
     "output_type": "stream",
     "text": [
      "[0]\ttest-rmse:56.62017\n",
      "[100]\ttest-rmse:47.20332\n",
      "[200]\ttest-rmse:39.64856\n",
      "[300]\ttest-rmse:33.63278\n",
      "[400]\ttest-rmse:28.88807\n",
      "[499]\ttest-rmse:25.23218\n"
     ]
    },
    {
     "name": "stderr",
     "output_type": "stream",
     "text": [
      "learning dependency for TS:  71%|███████▏  | 10/14 [00:04<00:01,  2.26it/s]             "
     ]
    },
    {
     "name": "stdout",
     "output_type": "stream",
     "text": [
      "[0]\ttest-rmse:29.79472\n",
      "[100]\ttest-rmse:25.10774\n",
      "[200]\ttest-rmse:21.40968\n",
      "[300]\ttest-rmse:18.53344\n",
      "[400]\ttest-rmse:16.33232\n",
      "[499]\ttest-rmse:14.69491\n"
     ]
    },
    {
     "name": "stderr",
     "output_type": "stream",
     "text": [
      "learning dependency for Serum Protein:  79%|███████▊  | 11/14 [00:05<00:01,  2.24it/s]"
     ]
    },
    {
     "name": "stdout",
     "output_type": "stream",
     "text": [
      "[0]\ttest-rmse:6.61101\n",
      "[100]\ttest-rmse:5.42027\n",
      "[200]\ttest-rmse:4.44728\n",
      "[300]\ttest-rmse:3.65281\n",
      "[400]\ttest-rmse:3.00507\n",
      "[499]\ttest-rmse:2.48216\n"
     ]
    },
    {
     "name": "stderr",
     "output_type": "stream",
     "text": [
      "learning dependency for Systolic BP:  86%|████████▌ | 12/14 [00:05<00:00,  2.43it/s]  "
     ]
    },
    {
     "name": "stdout",
     "output_type": "stream",
     "text": [
      "[0]\ttest-rmse:136.18751\n",
      "[100]\ttest-rmse:112.07595\n",
      "[200]\ttest-rmse:92.46082\n",
      "[300]\ttest-rmse:76.55484\n",
      "[400]\ttest-rmse:63.71541\n",
      "[499]\ttest-rmse:53.49734\n"
     ]
    },
    {
     "name": "stderr",
     "output_type": "stream",
     "text": [
      "learning dependency for Poverty index:  93%|█████████▎| 13/14 [00:05<00:00,  2.34it/s]"
     ]
    },
    {
     "name": "stdout",
     "output_type": "stream",
     "text": [
      "[0]\ttest-rmse:365.16959\n",
      "[100]\ttest-rmse:325.23489\n",
      "[200]\ttest-rmse:295.42532\n",
      "[300]\ttest-rmse:273.60980\n",
      "[400]\ttest-rmse:257.95938\n",
      "[499]\ttest-rmse:247.04846\n"
     ]
    },
    {
     "name": "stderr",
     "output_type": "stream",
     "text": [
      "learning dependency for Poverty index: 100%|██████████| 14/14 [00:06<00:00,  2.25it/s]\n"
     ]
    }
   ],
   "source": [
    "causal_links = CausalLinks()\n",
    "categorical_feature_names = ['Race', 'Sex']\n",
    "display_translator = translator(X.columns, X, X_display)\n",
    "target_name = 'predicted hazard'\n",
    "feature_names = list(X.columns)\n",
    "\n",
    "# build causal links\n",
    "causal_links.add_causes_effects(feature_names, target_name, create_xgboost_f(feature_names, model, output_margin=True)) # the target uses log(HR) instead of HR\n",
    "A = ['Diastolic BP', 'Systolic BP']\n",
    "D = ['Pulse pressure'] # Systolic BP - Diastolic BP\n",
    "causal_links.add_causes_effects(A, D, lambda dbp, sdp: sdp-dbp)\n",
    "A = ['Age', 'Sex', 'Poverty index', 'Race']\n",
    "D = list(set(feature_names) - set(A) - set(['Pulse pressure']))\n",
    "causal_links.add_causes_effects(A, D)\n",
    "A = ['Age', 'Sex', 'Race']\n",
    "D = ['Poverty index']\n",
    "causal_links.add_causes_effects(A, D)\n",
    "\n",
    "causal_graph = build_feature_graph(X.fillna(X.mean()), causal_links, categorical_feature_names, display_translator, target_name)"
   ]
  },
  {
   "cell_type": "code",
   "execution_count": 49,
   "metadata": {},
   "outputs": [
    {
     "data": {
      "image/svg+xml": [
       "<?xml version=\"1.0\" encoding=\"UTF-8\" standalone=\"no\"?>\n",
       "<!DOCTYPE svg PUBLIC \"-//W3C//DTD SVG 1.1//EN\"\n",
       " \"http://www.w3.org/Graphics/SVG/1.1/DTD/svg11.dtd\">\n",
       "<!-- Generated by graphviz version 2.38.0 (20140413.2041)\n",
       " -->\n",
       "<!-- Title: %3 Pages: 1 -->\n",
       "<svg width=\"1809pt\" height=\"332pt\"\n",
       " viewBox=\"0.00 0.00 1808.57 332.00\" xmlns=\"http://www.w3.org/2000/svg\" xmlns:xlink=\"http://www.w3.org/1999/xlink\">\n",
       "<g id=\"graph0\" class=\"graph\" transform=\"scale(1 1) rotate(0) translate(4 328)\">\n",
       "<title>%3</title>\n",
       "<polygon fill=\"white\" stroke=\"none\" points=\"-4,4 -4,-328 1804.57,-328 1804.57,4 -4,4\"/>\n",
       "<!-- Poverty index -->\n",
       "<g id=\"node1\" class=\"node\"><title>Poverty index</title>\n",
       "<ellipse fill=\"none\" stroke=\"black\" cx=\"833.014\" cy=\"-90\" rx=\"59.5901\" ry=\"18\"/>\n",
       "<text text-anchor=\"middle\" x=\"833.014\" y=\"-86.3\" font-family=\"Times,serif\" font-size=\"14.00\">Poverty index</text>\n",
       "</g>\n",
       "<!-- Systolic BP -->\n",
       "<g id=\"node2\" class=\"node\"><title>Systolic BP</title>\n",
       "<ellipse fill=\"none\" stroke=\"black\" cx=\"68.0137\" cy=\"-162\" rx=\"51.9908\" ry=\"18\"/>\n",
       "<text text-anchor=\"middle\" x=\"68.0137\" y=\"-158.3\" font-family=\"Times,serif\" font-size=\"14.00\">Systolic BP</text>\n",
       "</g>\n",
       "<!-- Poverty index&#45;&gt;Systolic BP -->\n",
       "<g id=\"edge1\" class=\"edge\"><title>Poverty index&#45;&gt;Systolic BP</title>\n",
       "<path fill=\"none\" stroke=\"black\" d=\"M773.187,-91.5515C651.141,-93.5425 365.038,-102.642 129.014,-144 124.506,-144.79 119.852,-145.772 115.217,-146.864\"/>\n",
       "<polygon fill=\"black\" stroke=\"black\" points=\"114.011,-143.558 105.169,-149.395 115.721,-150.346 114.011,-143.558\"/>\n",
       "</g>\n",
       "<!-- Serum Protein -->\n",
       "<g id=\"node3\" class=\"node\"><title>Serum Protein</title>\n",
       "<ellipse fill=\"none\" stroke=\"black\" cx=\"1703.01\" cy=\"-162\" rx=\"61.99\" ry=\"18\"/>\n",
       "<text text-anchor=\"middle\" x=\"1703.01\" y=\"-158.3\" font-family=\"Times,serif\" font-size=\"14.00\">Serum Protein</text>\n",
       "</g>\n",
       "<!-- Poverty index&#45;&gt;Serum Protein -->\n",
       "<g id=\"edge2\" class=\"edge\"><title>Poverty index&#45;&gt;Serum Protein</title>\n",
       "<path fill=\"none\" stroke=\"black\" d=\"M892.773,-91.5275C1026.16,-93.4541 1357.98,-102.409 1632.01,-144 1637.5,-144.832 1643.18,-145.876 1648.83,-147.036\"/>\n",
       "<polygon fill=\"black\" stroke=\"black\" points=\"1648.41,-150.526 1658.93,-149.226 1649.9,-143.686 1648.41,-150.526\"/>\n",
       "</g>\n",
       "<!-- TS -->\n",
       "<g id=\"node4\" class=\"node\"><title>TS</title>\n",
       "<ellipse fill=\"none\" stroke=\"black\" cx=\"1086.01\" cy=\"-162\" rx=\"27\" ry=\"18\"/>\n",
       "<text text-anchor=\"middle\" x=\"1086.01\" y=\"-158.3\" font-family=\"Times,serif\" font-size=\"14.00\">TS</text>\n",
       "</g>\n",
       "<!-- Poverty index&#45;&gt;TS -->\n",
       "<g id=\"edge3\" class=\"edge\"><title>Poverty index&#45;&gt;TS</title>\n",
       "<path fill=\"none\" stroke=\"black\" d=\"M882.533,-100.128C927.061,-109.031 993.9,-124.127 1050.01,-144 1051.92,-144.675 1053.86,-145.418 1055.8,-146.204\"/>\n",
       "<polygon fill=\"black\" stroke=\"black\" points=\"1054.81,-149.589 1065.37,-150.383 1057.61,-143.174 1054.81,-149.589\"/>\n",
       "</g>\n",
       "<!-- Red blood cells -->\n",
       "<g id=\"node5\" class=\"node\"><title>Red blood cells</title>\n",
       "<ellipse fill=\"none\" stroke=\"black\" cx=\"486.014\" cy=\"-162\" rx=\"65.7887\" ry=\"18\"/>\n",
       "<text text-anchor=\"middle\" x=\"486.014\" y=\"-158.3\" font-family=\"Times,serif\" font-size=\"14.00\">Red blood cells</text>\n",
       "</g>\n",
       "<!-- Poverty index&#45;&gt;Red blood cells -->\n",
       "<g id=\"edge4\" class=\"edge\"><title>Poverty index&#45;&gt;Red blood cells</title>\n",
       "<path fill=\"none\" stroke=\"black\" d=\"M783.288,-100.219C728.683,-110.451 638.455,-127.682 561.014,-144 555.625,-145.136 550.025,-146.346 544.423,-147.579\"/>\n",
       "<polygon fill=\"black\" stroke=\"black\" points=\"543.383,-144.225 534.38,-149.81 544.901,-151.058 543.383,-144.225\"/>\n",
       "</g>\n",
       "<!-- Serum Magnesium -->\n",
       "<g id=\"node6\" class=\"node\"><title>Serum Magnesium</title>\n",
       "<ellipse fill=\"none\" stroke=\"black\" cx=\"804.014\" cy=\"-162\" rx=\"79.0865\" ry=\"18\"/>\n",
       "<text text-anchor=\"middle\" x=\"804.014\" y=\"-158.3\" font-family=\"Times,serif\" font-size=\"14.00\">Serum Magnesium</text>\n",
       "</g>\n",
       "<!-- Poverty index&#45;&gt;Serum Magnesium -->\n",
       "<g id=\"edge5\" class=\"edge\"><title>Poverty index&#45;&gt;Serum Magnesium</title>\n",
       "<path fill=\"none\" stroke=\"black\" d=\"M825.994,-107.945C822.73,-115.824 818.769,-125.383 815.114,-134.206\"/>\n",
       "<polygon fill=\"black\" stroke=\"black\" points=\"811.765,-133.147 811.171,-143.725 818.232,-135.826 811.765,-133.147\"/>\n",
       "</g>\n",
       "<!-- White blood cells -->\n",
       "<g id=\"node7\" class=\"node\"><title>White blood cells</title>\n",
       "<ellipse fill=\"none\" stroke=\"black\" cx=\"1204.01\" cy=\"-162\" rx=\"73.387\" ry=\"18\"/>\n",
       "<text text-anchor=\"middle\" x=\"1204.01\" y=\"-158.3\" font-family=\"Times,serif\" font-size=\"14.00\">White blood cells</text>\n",
       "</g>\n",
       "<!-- Poverty index&#45;&gt;White blood cells -->\n",
       "<g id=\"edge6\" class=\"edge\"><title>Poverty index&#45;&gt;White blood cells</title>\n",
       "<path fill=\"none\" stroke=\"black\" d=\"M883.201,-99.842C940.896,-110.091 1038.41,-127.669 1122.01,-144 1127.86,-145.143 1133.94,-146.355 1140.03,-147.587\"/>\n",
       "<polygon fill=\"black\" stroke=\"black\" points=\"1139.74,-151.099 1150.24,-149.666 1141.14,-144.24 1139.74,-151.099\"/>\n",
       "</g>\n",
       "<!-- Diastolic BP -->\n",
       "<g id=\"node8\" class=\"node\"><title>Diastolic BP</title>\n",
       "<ellipse fill=\"none\" stroke=\"black\" cx=\"194.014\" cy=\"-162\" rx=\"55.7903\" ry=\"18\"/>\n",
       "<text text-anchor=\"middle\" x=\"194.014\" y=\"-158.3\" font-family=\"Times,serif\" font-size=\"14.00\">Diastolic BP</text>\n",
       "</g>\n",
       "<!-- Poverty index&#45;&gt;Diastolic BP -->\n",
       "<g id=\"edge7\" class=\"edge\"><title>Poverty index&#45;&gt;Diastolic BP</title>\n",
       "<path fill=\"none\" stroke=\"black\" d=\"M773.923,-93.2641C669.389,-97.9774 445.305,-111.266 259.014,-144 254.239,-144.839 249.301,-145.854 244.379,-146.965\"/>\n",
       "<polygon fill=\"black\" stroke=\"black\" points=\"243.271,-143.631 234.356,-149.356 244.895,-150.44 243.271,-143.631\"/>\n",
       "</g>\n",
       "<!-- BMI -->\n",
       "<g id=\"node9\" class=\"node\"><title>BMI</title>\n",
       "<ellipse fill=\"none\" stroke=\"black\" cx=\"296.014\" cy=\"-162\" rx=\"27.8951\" ry=\"18\"/>\n",
       "<text text-anchor=\"middle\" x=\"296.014\" y=\"-158.3\" font-family=\"Times,serif\" font-size=\"14.00\">BMI</text>\n",
       "</g>\n",
       "<!-- Poverty index&#45;&gt;BMI -->\n",
       "<g id=\"edge8\" class=\"edge\"><title>Poverty index&#45;&gt;BMI</title>\n",
       "<path fill=\"none\" stroke=\"black\" d=\"M773.189,-90.9113C677.997,-92.1873 486.976,-100.564 332.014,-144 330.117,-144.532 328.196,-145.156 326.281,-145.845\"/>\n",
       "<polygon fill=\"black\" stroke=\"black\" points=\"324.797,-142.67 316.877,-149.708 327.457,-149.145 324.797,-142.67\"/>\n",
       "</g>\n",
       "<!-- TIBC -->\n",
       "<g id=\"node10\" class=\"node\"><title>TIBC</title>\n",
       "<ellipse fill=\"none\" stroke=\"black\" cx=\"372.014\" cy=\"-162\" rx=\"30.5947\" ry=\"18\"/>\n",
       "<text text-anchor=\"middle\" x=\"372.014\" y=\"-158.3\" font-family=\"Times,serif\" font-size=\"14.00\">TIBC</text>\n",
       "</g>\n",
       "<!-- Poverty index&#45;&gt;TIBC -->\n",
       "<g id=\"edge9\" class=\"edge\"><title>Poverty index&#45;&gt;TIBC</title>\n",
       "<path fill=\"none\" stroke=\"black\" d=\"M773.96,-93.104C691.399,-97.2355 537.4,-109.293 411.014,-144 408.73,-144.627 406.407,-145.364 404.089,-146.173\"/>\n",
       "<polygon fill=\"black\" stroke=\"black\" points=\"402.771,-142.93 394.714,-149.81 405.303,-149.456 402.771,-142.93\"/>\n",
       "</g>\n",
       "<!-- Serum Albumin -->\n",
       "<g id=\"node11\" class=\"node\"><title>Serum Albumin</title>\n",
       "<ellipse fill=\"none\" stroke=\"black\" cx=\"638.014\" cy=\"-162\" rx=\"68.4888\" ry=\"18\"/>\n",
       "<text text-anchor=\"middle\" x=\"638.014\" y=\"-158.3\" font-family=\"Times,serif\" font-size=\"14.00\">Serum Albumin</text>\n",
       "</g>\n",
       "<!-- Poverty index&#45;&gt;Serum Albumin -->\n",
       "<g id=\"edge10\" class=\"edge\"><title>Poverty index&#45;&gt;Serum Albumin</title>\n",
       "<path fill=\"none\" stroke=\"black\" d=\"M795.877,-104.331C764.799,-115.487 720.232,-131.486 686.372,-143.641\"/>\n",
       "<polygon fill=\"black\" stroke=\"black\" points=\"684.91,-140.447 676.681,-147.12 687.275,-147.035 684.91,-140.447\"/>\n",
       "</g>\n",
       "<!-- Serum Iron -->\n",
       "<g id=\"node12\" class=\"node\"><title>Serum Iron</title>\n",
       "<ellipse fill=\"none\" stroke=\"black\" cx=\"990.014\" cy=\"-162\" rx=\"51.1914\" ry=\"18\"/>\n",
       "<text text-anchor=\"middle\" x=\"990.014\" y=\"-158.3\" font-family=\"Times,serif\" font-size=\"14.00\">Serum Iron</text>\n",
       "</g>\n",
       "<!-- Poverty index&#45;&gt;Serum Iron -->\n",
       "<g id=\"edge11\" class=\"edge\"><title>Poverty index&#45;&gt;Serum Iron</title>\n",
       "<path fill=\"none\" stroke=\"black\" d=\"M865.164,-105.334C889.773,-116.307 923.85,-131.5 950.186,-143.243\"/>\n",
       "<polygon fill=\"black\" stroke=\"black\" points=\"948.948,-146.523 959.507,-147.398 951.799,-140.129 948.948,-146.523\"/>\n",
       "</g>\n",
       "<!-- Serum Cholesterol -->\n",
       "<g id=\"node13\" class=\"node\"><title>Serum Cholesterol</title>\n",
       "<ellipse fill=\"none\" stroke=\"black\" cx=\"1373.01\" cy=\"-162\" rx=\"77.1866\" ry=\"18\"/>\n",
       "<text text-anchor=\"middle\" x=\"1373.01\" y=\"-158.3\" font-family=\"Times,serif\" font-size=\"14.00\">Serum Cholesterol</text>\n",
       "</g>\n",
       "<!-- Poverty index&#45;&gt;Serum Cholesterol -->\n",
       "<g id=\"edge12\" class=\"edge\"><title>Poverty index&#45;&gt;Serum Cholesterol</title>\n",
       "<path fill=\"none\" stroke=\"black\" d=\"M889.346,-96.1923C975.198,-104.421 1143.82,-121.822 1286.01,-144 1293.02,-145.092 1300.32,-146.342 1307.58,-147.657\"/>\n",
       "<polygon fill=\"black\" stroke=\"black\" points=\"1306.96,-151.102 1317.43,-149.482 1308.24,-144.219 1306.96,-151.102\"/>\n",
       "</g>\n",
       "<!-- Sedimentation rate -->\n",
       "<g id=\"node14\" class=\"node\"><title>Sedimentation rate</title>\n",
       "<ellipse fill=\"none\" stroke=\"black\" cx=\"1546.01\" cy=\"-162\" rx=\"77.1866\" ry=\"18\"/>\n",
       "<text text-anchor=\"middle\" x=\"1546.01\" y=\"-158.3\" font-family=\"Times,serif\" font-size=\"14.00\">Sedimentation rate</text>\n",
       "</g>\n",
       "<!-- Poverty index&#45;&gt;Sedimentation rate -->\n",
       "<g id=\"edge13\" class=\"edge\"><title>Poverty index&#45;&gt;Sedimentation rate</title>\n",
       "<path fill=\"none\" stroke=\"black\" d=\"M891.505,-93.8292C1002.54,-99.6695 1251.34,-115.006 1459.01,-144 1466.14,-144.995 1473.56,-146.193 1480.94,-147.488\"/>\n",
       "<polygon fill=\"black\" stroke=\"black\" points=\"1480.47,-150.96 1490.94,-149.302 1481.72,-144.072 1480.47,-150.96\"/>\n",
       "</g>\n",
       "<!-- predicted hazard -->\n",
       "<g id=\"node15\" class=\"node\"><title>predicted hazard</title>\n",
       "<ellipse fill=\"none\" stroke=\"black\" cx=\"874.014\" cy=\"-306\" rx=\"69.5877\" ry=\"18\"/>\n",
       "<text text-anchor=\"middle\" x=\"874.014\" y=\"-302.3\" font-family=\"Times,serif\" font-size=\"14.00\">predicted hazard</text>\n",
       "</g>\n",
       "<!-- Poverty index&#45;&gt;predicted hazard -->\n",
       "<g id=\"edge14\" class=\"edge\"><title>Poverty index&#45;&gt;predicted hazard</title>\n",
       "<path fill=\"none\" stroke=\"black\" d=\"M858.35,-106.304C871,-115.484 885.06,-128.407 892.014,-144 911.633,-187.998 896.942,-245.192 885.069,-278.229\"/>\n",
       "<polygon fill=\"black\" stroke=\"black\" points=\"881.764,-277.073 881.516,-287.665 888.315,-279.54 881.764,-277.073\"/>\n",
       "</g>\n",
       "<!-- Systolic BP&#45;&gt;predicted hazard -->\n",
       "<g id=\"edge15\" class=\"edge\"><title>Systolic BP&#45;&gt;predicted hazard</title>\n",
       "<path fill=\"none\" stroke=\"black\" d=\"M73.2575,-180.237C80.6417,-201.215 96.2797,-235.834 123.014,-252 179.444,-286.122 613.611,-299.383 794.892,-303.468\"/>\n",
       "<polygon fill=\"black\" stroke=\"black\" points=\"794.823,-306.967 804.898,-303.69 794.978,-299.969 794.823,-306.967\"/>\n",
       "</g>\n",
       "<!-- Pulse pressure -->\n",
       "<g id=\"node16\" class=\"node\"><title>Pulse pressure</title>\n",
       "<ellipse fill=\"none\" stroke=\"black\" cx=\"194.014\" cy=\"-234\" rx=\"61.99\" ry=\"18\"/>\n",
       "<text text-anchor=\"middle\" x=\"194.014\" y=\"-230.3\" font-family=\"Times,serif\" font-size=\"14.00\">Pulse pressure</text>\n",
       "</g>\n",
       "<!-- Systolic BP&#45;&gt;Pulse pressure -->\n",
       "<g id=\"edge16\" class=\"edge\"><title>Systolic BP&#45;&gt;Pulse pressure</title>\n",
       "<path fill=\"none\" stroke=\"black\" d=\"M94.4275,-177.674C112.7,-187.826 137.257,-201.469 157.413,-212.666\"/>\n",
       "<polygon fill=\"black\" stroke=\"black\" points=\"155.885,-215.821 166.326,-217.618 159.284,-209.702 155.885,-215.821\"/>\n",
       "</g>\n",
       "<!-- Serum Protein&#45;&gt;predicted hazard -->\n",
       "<g id=\"edge17\" class=\"edge\"><title>Serum Protein&#45;&gt;predicted hazard</title>\n",
       "<path fill=\"none\" stroke=\"black\" d=\"M1657.65,-174.271C1649.15,-176.267 1640.33,-178.26 1632.01,-180 1380.73,-232.597 1078.79,-276.767 944.435,-295.448\"/>\n",
       "<polygon fill=\"black\" stroke=\"black\" points=\"943.704,-292.015 934.28,-296.855 944.665,-298.949 943.704,-292.015\"/>\n",
       "</g>\n",
       "<!-- TS&#45;&gt;predicted hazard -->\n",
       "<g id=\"edge18\" class=\"edge\"><title>TS&#45;&gt;predicted hazard</title>\n",
       "<path fill=\"none\" stroke=\"black\" d=\"M1067.57,-175.353C1031.59,-199.455 951.609,-253.026 906.532,-283.219\"/>\n",
       "<polygon fill=\"black\" stroke=\"black\" points=\"904.366,-280.457 898.005,-288.93 908.261,-286.273 904.366,-280.457\"/>\n",
       "</g>\n",
       "<!-- Red blood cells&#45;&gt;predicted hazard -->\n",
       "<g id=\"edge19\" class=\"edge\"><title>Red blood cells&#45;&gt;predicted hazard</title>\n",
       "<path fill=\"none\" stroke=\"black\" d=\"M532.471,-174.741C569.171,-184.479 621.45,-199.38 666.014,-216 702.166,-229.483 709.607,-236.666 745.014,-252 772.474,-263.893 803.487,-276.656 828.222,-286.676\"/>\n",
       "<polygon fill=\"black\" stroke=\"black\" points=\"827.134,-290.012 837.717,-290.514 829.757,-283.522 827.134,-290.012\"/>\n",
       "</g>\n",
       "<!-- Serum Magnesium&#45;&gt;predicted hazard -->\n",
       "<g id=\"edge20\" class=\"edge\"><title>Serum Magnesium&#45;&gt;predicted hazard</title>\n",
       "<path fill=\"none\" stroke=\"black\" d=\"M812.457,-180.129C824.545,-204.65 846.885,-249.968 861.069,-278.741\"/>\n",
       "<polygon fill=\"black\" stroke=\"black\" points=\"857.979,-280.389 865.54,-287.811 864.258,-277.294 857.979,-280.389\"/>\n",
       "</g>\n",
       "<!-- White blood cells&#45;&gt;predicted hazard -->\n",
       "<g id=\"edge21\" class=\"edge\"><title>White blood cells&#45;&gt;predicted hazard</title>\n",
       "<path fill=\"none\" stroke=\"black\" d=\"M1169.32,-177.928C1108.76,-203.99 983.877,-257.725 917.582,-286.252\"/>\n",
       "<polygon fill=\"black\" stroke=\"black\" points=\"916.043,-283.104 908.241,-290.272 918.81,-289.534 916.043,-283.104\"/>\n",
       "</g>\n",
       "<!-- Diastolic BP&#45;&gt;predicted hazard -->\n",
       "<g id=\"edge22\" class=\"edge\"><title>Diastolic BP&#45;&gt;predicted hazard</title>\n",
       "<path fill=\"none\" stroke=\"black\" d=\"M223.594,-177.309C266.483,-197.399 348.922,-233.567 423.014,-252 551.193,-283.889 704.769,-296.738 795.597,-301.811\"/>\n",
       "<polygon fill=\"black\" stroke=\"black\" points=\"795.639,-305.319 805.813,-302.364 796.017,-298.329 795.639,-305.319\"/>\n",
       "</g>\n",
       "<!-- Diastolic BP&#45;&gt;Pulse pressure -->\n",
       "<g id=\"edge23\" class=\"edge\"><title>Diastolic BP&#45;&gt;Pulse pressure</title>\n",
       "<path fill=\"none\" stroke=\"black\" d=\"M194.014,-180.303C194.014,-188.017 194.014,-197.288 194.014,-205.888\"/>\n",
       "<polygon fill=\"black\" stroke=\"black\" points=\"190.514,-205.896 194.014,-215.896 197.514,-205.896 190.514,-205.896\"/>\n",
       "</g>\n",
       "<!-- BMI&#45;&gt;predicted hazard -->\n",
       "<g id=\"edge24\" class=\"edge\"><title>BMI&#45;&gt;predicted hazard</title>\n",
       "<path fill=\"none\" stroke=\"black\" d=\"M317.535,-173.663C322.26,-175.863 327.269,-178.089 332.014,-180 425.098,-217.489 448.597,-227.915 546.014,-252 632.699,-273.432 734.484,-288.324 801.41,-296.749\"/>\n",
       "<polygon fill=\"black\" stroke=\"black\" points=\"801.079,-300.235 811.435,-297.995 801.943,-293.288 801.079,-300.235\"/>\n",
       "</g>\n",
       "<!-- TIBC&#45;&gt;predicted hazard -->\n",
       "<g id=\"edge25\" class=\"edge\"><title>TIBC&#45;&gt;predicted hazard</title>\n",
       "<path fill=\"none\" stroke=\"black\" d=\"M395.297,-173.829C400.418,-176.018 405.853,-178.199 411.014,-180 469.641,-200.464 486.268,-199.076 546.014,-216 599.588,-231.175 612.357,-237.122 666.014,-252 716.214,-265.919 773.612,-280.441 815.378,-290.756\"/>\n",
       "<polygon fill=\"black\" stroke=\"black\" points=\"814.563,-294.16 825.109,-293.154 816.237,-287.363 814.563,-294.16\"/>\n",
       "</g>\n",
       "<!-- Serum Albumin&#45;&gt;predicted hazard -->\n",
       "<g id=\"edge26\" class=\"edge\"><title>Serum Albumin&#45;&gt;predicted hazard</title>\n",
       "<path fill=\"none\" stroke=\"black\" d=\"M670.964,-177.815C692.458,-187.843 720.894,-201.806 745.014,-216 780.197,-236.705 818.451,-263.712 844.091,-282.521\"/>\n",
       "<polygon fill=\"black\" stroke=\"black\" points=\"842.155,-285.443 852.28,-288.565 846.312,-279.811 842.155,-285.443\"/>\n",
       "</g>\n",
       "<!-- Serum Iron&#45;&gt;predicted hazard -->\n",
       "<g id=\"edge27\" class=\"edge\"><title>Serum Iron&#45;&gt;predicted hazard</title>\n",
       "<path fill=\"none\" stroke=\"black\" d=\"M978.909,-179.578C966.449,-197.839 945.315,-227.823 925.014,-252 916.674,-261.932 906.924,-272.325 898.196,-281.25\"/>\n",
       "<polygon fill=\"black\" stroke=\"black\" points=\"895.706,-278.791 891.158,-288.36 900.681,-283.716 895.706,-278.791\"/>\n",
       "</g>\n",
       "<!-- Serum Cholesterol&#45;&gt;predicted hazard -->\n",
       "<g id=\"edge28\" class=\"edge\"><title>Serum Cholesterol&#45;&gt;predicted hazard</title>\n",
       "<path fill=\"none\" stroke=\"black\" d=\"M1326.07,-176.359C1233.42,-202.725 1027.49,-261.325 928.809,-289.407\"/>\n",
       "<polygon fill=\"black\" stroke=\"black\" points=\"927.69,-286.086 919.03,-292.19 929.606,-292.819 927.69,-286.086\"/>\n",
       "</g>\n",
       "<!-- Sedimentation rate&#45;&gt;predicted hazard -->\n",
       "<g id=\"edge29\" class=\"edge\"><title>Sedimentation rate&#45;&gt;predicted hazard</title>\n",
       "<path fill=\"none\" stroke=\"black\" d=\"M1492.28,-175.019C1414.31,-192.393 1265.21,-225.361 1138.01,-252 1069.67,-266.314 991.199,-281.968 937.689,-292.525\"/>\n",
       "<polygon fill=\"black\" stroke=\"black\" points=\"936.798,-289.133 927.664,-294.501 938.152,-296.001 936.798,-289.133\"/>\n",
       "</g>\n",
       "<!-- Pulse pressure&#45;&gt;predicted hazard -->\n",
       "<g id=\"edge75\" class=\"edge\"><title>Pulse pressure&#45;&gt;predicted hazard</title>\n",
       "<path fill=\"none\" stroke=\"black\" d=\"M247.556,-243.051C268.562,-246.071 292.892,-249.399 315.014,-252 487.59,-272.294 690.854,-290.022 798.402,-298.919\"/>\n",
       "<polygon fill=\"black\" stroke=\"black\" points=\"798.253,-302.419 808.507,-299.752 798.829,-295.442 798.253,-302.419\"/>\n",
       "</g>\n",
       "<!-- Age -->\n",
       "<g id=\"node17\" class=\"node\"><title>Age</title>\n",
       "<ellipse fill=\"none\" stroke=\"black\" cx=\"631.014\" cy=\"-18\" rx=\"27\" ry=\"18\"/>\n",
       "<text text-anchor=\"middle\" x=\"631.014\" y=\"-14.3\" font-family=\"Times,serif\" font-size=\"14.00\">Age</text>\n",
       "</g>\n",
       "<!-- Age&#45;&gt;Poverty index -->\n",
       "<g id=\"edge30\" class=\"edge\"><title>Age&#45;&gt;Poverty index</title>\n",
       "<path fill=\"none\" stroke=\"black\" d=\"M654.581,-27.1669C686.569,-38.2518 744.454,-58.3109 785.616,-72.5749\"/>\n",
       "<polygon fill=\"black\" stroke=\"black\" points=\"784.576,-75.9188 795.171,-75.8862 786.868,-69.3047 784.576,-75.9188\"/>\n",
       "</g>\n",
       "<!-- Age&#45;&gt;Systolic BP -->\n",
       "<g id=\"edge31\" class=\"edge\"><title>Age&#45;&gt;Systolic BP</title>\n",
       "<path fill=\"none\" stroke=\"black\" d=\"M604.449,-21.3648C547.752,-26.8214 411.015,-42.1692 300.014,-72 230.392,-90.7105 152.804,-122.919 107.319,-143.029\"/>\n",
       "<polygon fill=\"black\" stroke=\"black\" points=\"105.826,-139.863 98.1142,-147.128 108.673,-146.257 105.826,-139.863\"/>\n",
       "</g>\n",
       "<!-- Age&#45;&gt;Serum Protein -->\n",
       "<g id=\"edge32\" class=\"edge\"><title>Age&#45;&gt;Serum Protein</title>\n",
       "<path fill=\"none\" stroke=\"black\" d=\"M657.411,-21.9246C689.804,-25.4698 746.414,-31.5247 795.014,-36 993.484,-54.2762 1044.42,-45.8738 1242.01,-72 1416.76,-95.1051 1459.58,-107.466 1632.01,-144 1637.08,-145.073 1642.33,-146.235 1647.58,-147.433\"/>\n",
       "<polygon fill=\"black\" stroke=\"black\" points=\"1647.11,-150.915 1657.64,-149.762 1648.69,-144.096 1647.11,-150.915\"/>\n",
       "</g>\n",
       "<!-- Age&#45;&gt;TS -->\n",
       "<g id=\"edge33\" class=\"edge\"><title>Age&#45;&gt;TS</title>\n",
       "<path fill=\"none\" stroke=\"black\" d=\"M657.558,-22.2753C722.368,-30.4787 887.168,-52.6382 939.014,-72 985.111,-89.2151 1032.83,-121.192 1060.94,-141.762\"/>\n",
       "<polygon fill=\"black\" stroke=\"black\" points=\"1058.9,-144.604 1069.02,-147.751 1063.07,-138.982 1058.9,-144.604\"/>\n",
       "</g>\n",
       "<!-- Age&#45;&gt;Red blood cells -->\n",
       "<g id=\"edge34\" class=\"edge\"><title>Age&#45;&gt;Red blood cells</title>\n",
       "<path fill=\"none\" stroke=\"black\" d=\"M616.312,-33.3972C591.356,-57.8373 540.471,-107.67 510.203,-137.312\"/>\n",
       "<polygon fill=\"black\" stroke=\"black\" points=\"507.676,-134.888 502.98,-144.385 512.573,-139.889 507.676,-134.888\"/>\n",
       "</g>\n",
       "<!-- Age&#45;&gt;Serum Magnesium -->\n",
       "<g id=\"edge35\" class=\"edge\"><title>Age&#45;&gt;Serum Magnesium</title>\n",
       "<path fill=\"none\" stroke=\"black\" d=\"M647.602,-32.6156C677.243,-56.9456 739.599,-108.128 775.99,-137.998\"/>\n",
       "<polygon fill=\"black\" stroke=\"black\" points=\"773.825,-140.749 783.775,-144.388 778.266,-135.338 773.825,-140.749\"/>\n",
       "</g>\n",
       "<!-- Age&#45;&gt;White blood cells -->\n",
       "<g id=\"edge36\" class=\"edge\"><title>Age&#45;&gt;White blood cells</title>\n",
       "<path fill=\"none\" stroke=\"black\" d=\"M657.409,-22.0547C729.06,-30.4822 926.033,-54.588 989.014,-72 1052.36,-89.5138 1122.03,-120.713 1164.4,-141.13\"/>\n",
       "<polygon fill=\"black\" stroke=\"black\" points=\"1163,-144.343 1173.53,-145.566 1166.06,-138.047 1163,-144.343\"/>\n",
       "</g>\n",
       "<!-- Age&#45;&gt;Diastolic BP -->\n",
       "<g id=\"edge37\" class=\"edge\"><title>Age&#45;&gt;Diastolic BP</title>\n",
       "<path fill=\"none\" stroke=\"black\" d=\"M604.726,-23.0212C560.204,-30.2296 467.448,-46.9743 392.014,-72 334.14,-91.1998 270.335,-121.679 231.21,-141.512\"/>\n",
       "<polygon fill=\"black\" stroke=\"black\" points=\"229.127,-138.646 221.813,-146.312 232.311,-144.88 229.127,-138.646\"/>\n",
       "</g>\n",
       "<!-- Age&#45;&gt;BMI -->\n",
       "<g id=\"edge38\" class=\"edge\"><title>Age&#45;&gt;BMI</title>\n",
       "<path fill=\"none\" stroke=\"black\" d=\"M606.378,-25.5675C573.884,-34.5434 515.182,-51.8482 467.014,-72 415.368,-93.6063 358.207,-124.975 324.787,-144.124\"/>\n",
       "<polygon fill=\"black\" stroke=\"black\" points=\"322.929,-141.155 316.015,-149.183 326.426,-147.219 322.929,-141.155\"/>\n",
       "</g>\n",
       "<!-- Age&#45;&gt;TIBC -->\n",
       "<g id=\"edge39\" class=\"edge\"><title>Age&#45;&gt;TIBC</title>\n",
       "<path fill=\"none\" stroke=\"black\" d=\"M610.69,-30.1425C565.467,-54.937 456.295,-114.792 402.716,-144.167\"/>\n",
       "<polygon fill=\"black\" stroke=\"black\" points=\"400.778,-141.238 393.692,-149.115 404.143,-147.376 400.778,-141.238\"/>\n",
       "</g>\n",
       "<!-- Age&#45;&gt;Serum Albumin -->\n",
       "<g id=\"edge40\" class=\"edge\"><title>Age&#45;&gt;Serum Albumin</title>\n",
       "<path fill=\"none\" stroke=\"black\" d=\"M624.921,-35.7878C619.216,-53.723 612.233,-82.9567 617.014,-108 618.721,-116.944 621.913,-126.305 625.303,-134.627\"/>\n",
       "<polygon fill=\"black\" stroke=\"black\" points=\"622.106,-136.051 629.295,-143.833 628.528,-133.266 622.106,-136.051\"/>\n",
       "</g>\n",
       "<!-- Age&#45;&gt;Serum Iron -->\n",
       "<g id=\"edge41\" class=\"edge\"><title>Age&#45;&gt;Serum Iron</title>\n",
       "<path fill=\"none\" stroke=\"black\" d=\"M657.73,-22.1913C717.415,-29.6439 859.656,-49.2932 902.014,-72 930.965,-87.5199 956.41,-115.745 972.394,-136.259\"/>\n",
       "<polygon fill=\"black\" stroke=\"black\" points=\"969.617,-138.389 978.447,-144.245 975.196,-134.161 969.617,-138.389\"/>\n",
       "</g>\n",
       "<!-- Age&#45;&gt;Serum Cholesterol -->\n",
       "<g id=\"edge42\" class=\"edge\"><title>Age&#45;&gt;Serum Cholesterol</title>\n",
       "<path fill=\"none\" stroke=\"black\" d=\"M657.546,-21.829C737.539,-30.4389 975.54,-56.6693 1052.01,-72 1147.95,-91.2334 1257.3,-123.921 1320.42,-143.876\"/>\n",
       "<polygon fill=\"black\" stroke=\"black\" points=\"1319.55,-147.273 1330.14,-146.965 1321.67,-140.602 1319.55,-147.273\"/>\n",
       "</g>\n",
       "<!-- Age&#45;&gt;Sedimentation rate -->\n",
       "<g id=\"edge43\" class=\"edge\"><title>Age&#45;&gt;Sedimentation rate</title>\n",
       "<path fill=\"none\" stroke=\"black\" d=\"M657.562,-21.7555C761.05,-32.499 1132,-71.0328 1138.01,-72 1262.94,-92.0928 1407.17,-126.157 1486.31,-145.802\"/>\n",
       "<polygon fill=\"black\" stroke=\"black\" points=\"1485.56,-149.22 1496.1,-148.242 1487.25,-142.428 1485.56,-149.22\"/>\n",
       "</g>\n",
       "<!-- Age&#45;&gt;predicted hazard -->\n",
       "<g id=\"edge44\" class=\"edge\"><title>Age&#45;&gt;predicted hazard</title>\n",
       "<path fill=\"none\" stroke=\"black\" d=\"M603.928,-19.9398C534.579,-22.846 345.352,-33.932 193.014,-72 100.274,-95.1749 -31.8767,-92.677 7.01374,-180 26.4749,-223.697 42.9552,-233.371 87.0137,-252 151.068,-279.084 609.003,-296.557 795.394,-302.618\"/>\n",
       "<polygon fill=\"black\" stroke=\"black\" points=\"795.294,-306.117 805.402,-302.941 795.52,-299.12 795.294,-306.117\"/>\n",
       "</g>\n",
       "<!-- Sex -->\n",
       "<g id=\"node18\" class=\"node\"><title>Sex</title>\n",
       "<ellipse fill=\"none\" stroke=\"black\" cx=\"959.014\" cy=\"-18\" rx=\"27\" ry=\"18\"/>\n",
       "<text text-anchor=\"middle\" x=\"959.014\" y=\"-14.3\" font-family=\"Times,serif\" font-size=\"14.00\">Sex</text>\n",
       "</g>\n",
       "<!-- Sex&#45;&gt;Poverty index -->\n",
       "<g id=\"edge45\" class=\"edge\"><title>Sex&#45;&gt;Poverty index</title>\n",
       "<path fill=\"none\" stroke=\"black\" d=\"M938.77,-30.2467C920.06,-40.6407 891.826,-56.3265 869.236,-68.8767\"/>\n",
       "<polygon fill=\"black\" stroke=\"black\" points=\"867.301,-65.9475 860.259,-73.8636 870.701,-72.0667 867.301,-65.9475\"/>\n",
       "</g>\n",
       "<!-- Sex&#45;&gt;Systolic BP -->\n",
       "<g id=\"edge46\" class=\"edge\"><title>Sex&#45;&gt;Systolic BP</title>\n",
       "<path fill=\"none\" stroke=\"black\" d=\"M933.737,-24.7775C916.223,-28.5601 892.315,-33.2882 871.014,-36 616.568,-68.3925 545.44,-16.5161 295.014,-72 225.516,-87.3978 149.373,-120.969 105.303,-142.195\"/>\n",
       "<polygon fill=\"black\" stroke=\"black\" points=\"103.596,-139.133 96.1351,-146.655 106.659,-145.427 103.596,-139.133\"/>\n",
       "</g>\n",
       "<!-- Sex&#45;&gt;Serum Protein -->\n",
       "<g id=\"edge47\" class=\"edge\"><title>Sex&#45;&gt;Serum Protein</title>\n",
       "<path fill=\"none\" stroke=\"black\" d=\"M986.23,-19.8015C1105.58,-23.4936 1579.29,-40.0623 1637.01,-72 1662.27,-85.9714 1680.59,-114.133 1691.43,-135.054\"/>\n",
       "<polygon fill=\"black\" stroke=\"black\" points=\"1688.32,-136.661 1695.88,-144.081 1694.6,-133.564 1688.32,-136.661\"/>\n",
       "</g>\n",
       "<!-- Sex&#45;&gt;TS -->\n",
       "<g id=\"edge48\" class=\"edge\"><title>Sex&#45;&gt;TS</title>\n",
       "<path fill=\"none\" stroke=\"black\" d=\"M985.682,-21.927C1035.89,-28.0456 1141.35,-43.995 1163.01,-72 1172.8,-84.6565 1170.46,-93.8376 1163.01,-108 1157.67,-118.169 1134.68,-133.3 1115.21,-144.795\"/>\n",
       "<polygon fill=\"black\" stroke=\"black\" points=\"1113.2,-141.911 1106.3,-149.949 1116.71,-147.97 1113.2,-141.911\"/>\n",
       "</g>\n",
       "<!-- Sex&#45;&gt;Red blood cells -->\n",
       "<g id=\"edge49\" class=\"edge\"><title>Sex&#45;&gt;Red blood cells</title>\n",
       "<path fill=\"none\" stroke=\"black\" d=\"M933.472,-24.0085C873.107,-35.8854 725.041,-65.2661 703.014,-72 639.841,-91.3122 569.59,-121.889 526.601,-141.698\"/>\n",
       "<polygon fill=\"black\" stroke=\"black\" points=\"524.929,-138.616 517.33,-145.998 527.874,-144.966 524.929,-138.616\"/>\n",
       "</g>\n",
       "<!-- Sex&#45;&gt;Serum Magnesium -->\n",
       "<g id=\"edge50\" class=\"edge\"><title>Sex&#45;&gt;Serum Magnesium</title>\n",
       "<path fill=\"none\" stroke=\"black\" d=\"M951.611,-35.5388C942.298,-54.8703 924.735,-86.8978 902.014,-108 887.305,-121.661 868.416,-132.956 851.153,-141.558\"/>\n",
       "<polygon fill=\"black\" stroke=\"black\" points=\"849.271,-138.579 841.767,-146.058 852.298,-144.891 849.271,-138.579\"/>\n",
       "</g>\n",
       "<!-- Sex&#45;&gt;White blood cells -->\n",
       "<g id=\"edge51\" class=\"edge\"><title>Sex&#45;&gt;White blood cells</title>\n",
       "<path fill=\"none\" stroke=\"black\" d=\"M986.148,-19.2371C1056.1,-20.4806 1239.71,-27.9593 1277.01,-72 1287.36,-84.2083 1284.28,-93.7451 1277.01,-108 1270.19,-121.378 1258.24,-132.169 1245.96,-140.435\"/>\n",
       "<polygon fill=\"black\" stroke=\"black\" points=\"1244.08,-137.481 1237.47,-145.754 1247.8,-143.414 1244.08,-137.481\"/>\n",
       "</g>\n",
       "<!-- Sex&#45;&gt;Diastolic BP -->\n",
       "<g id=\"edge52\" class=\"edge\"><title>Sex&#45;&gt;Diastolic BP</title>\n",
       "<path fill=\"none\" stroke=\"black\" d=\"M933.725,-24.6899C916.206,-28.4334 892.297,-33.1508 871.014,-36 660.291,-64.2098 600.164,-20.0177 394.014,-72 333.116,-87.3558 267.501,-119.972 228.635,-141.167\"/>\n",
       "<polygon fill=\"black\" stroke=\"black\" points=\"226.885,-138.135 219.819,-146.029 230.266,-144.264 226.885,-138.135\"/>\n",
       "</g>\n",
       "<!-- Sex&#45;&gt;BMI -->\n",
       "<g id=\"edge53\" class=\"edge\"><title>Sex&#45;&gt;BMI</title>\n",
       "<path fill=\"none\" stroke=\"black\" d=\"M933.708,-24.5619C916.18,-28.2483 892.269,-32.95 871.014,-36 702.651,-60.1589 654.345,-28.1268 490.014,-72 428.13,-88.5217 361.37,-123.307 324.532,-144.161\"/>\n",
       "<polygon fill=\"black\" stroke=\"black\" points=\"322.77,-141.136 315.832,-149.143 326.249,-147.211 322.77,-141.136\"/>\n",
       "</g>\n",
       "<!-- Sex&#45;&gt;TIBC -->\n",
       "<g id=\"edge54\" class=\"edge\"><title>Sex&#45;&gt;TIBC</title>\n",
       "<path fill=\"none\" stroke=\"black\" d=\"M933.667,-24.2959C916.121,-27.8636 892.205,-32.5327 871.014,-36 752.41,-55.4056 719.572,-42.7153 603.014,-72 529.773,-90.4013 448.248,-125.471 404.314,-145.658\"/>\n",
       "<polygon fill=\"black\" stroke=\"black\" points=\"402.613,-142.589 395.011,-149.97 405.556,-148.94 402.613,-142.589\"/>\n",
       "</g>\n",
       "<!-- Sex&#45;&gt;Serum Albumin -->\n",
       "<g id=\"edge55\" class=\"edge\"><title>Sex&#45;&gt;Serum Albumin</title>\n",
       "<path fill=\"none\" stroke=\"black\" d=\"M933.084,-23.0699C894.746,-29.7365 821.301,-45.0177 764.014,-72 726.79,-89.5322 688.865,-118.075 664.487,-138.098\"/>\n",
       "<polygon fill=\"black\" stroke=\"black\" points=\"662.203,-135.445 656.759,-144.534 666.683,-140.824 662.203,-135.445\"/>\n",
       "</g>\n",
       "<!-- Sex&#45;&gt;Serum Iron -->\n",
       "<g id=\"edge56\" class=\"edge\"><title>Sex&#45;&gt;Serum Iron</title>\n",
       "<path fill=\"none\" stroke=\"black\" d=\"M983.473,-25.8452C1005.01,-33.3167 1035.07,-47.5991 1049.01,-72 1056.95,-85.8907 1055.53,-93.3871 1049.01,-108 1043.44,-120.503 1033.29,-131.288 1022.97,-139.804\"/>\n",
       "<polygon fill=\"black\" stroke=\"black\" points=\"1020.53,-137.266 1014.74,-146.137 1024.8,-142.814 1020.53,-137.266\"/>\n",
       "</g>\n",
       "<!-- Sex&#45;&gt;Serum Cholesterol -->\n",
       "<g id=\"edge57\" class=\"edge\"><title>Sex&#45;&gt;Serum Cholesterol</title>\n",
       "<path fill=\"none\" stroke=\"black\" d=\"M986.004,-20.2706C1076.35,-24.7964 1364.04,-41.5119 1391.01,-72 1406.19,-89.1467 1398.35,-115.483 1388.73,-135.063\"/>\n",
       "<polygon fill=\"black\" stroke=\"black\" points=\"1385.55,-133.589 1383.95,-144.063 1391.73,-136.869 1385.55,-133.589\"/>\n",
       "</g>\n",
       "<!-- Sex&#45;&gt;Sedimentation rate -->\n",
       "<g id=\"edge58\" class=\"edge\"><title>Sex&#45;&gt;Sedimentation rate</title>\n",
       "<path fill=\"none\" stroke=\"black\" d=\"M986.173,-19.8525C1092.3,-23.4145 1475.19,-38.5064 1517.01,-72 1535.4,-86.7245 1542.26,-113.307 1544.76,-133.599\"/>\n",
       "<polygon fill=\"black\" stroke=\"black\" points=\"1541.3,-134.198 1545.72,-143.825 1548.27,-133.541 1541.3,-134.198\"/>\n",
       "</g>\n",
       "<!-- Sex&#45;&gt;predicted hazard -->\n",
       "<g id=\"edge59\" class=\"edge\"><title>Sex&#45;&gt;predicted hazard</title>\n",
       "<path fill=\"none\" stroke=\"black\" d=\"M986.132,-19.0128C1102.33,-19.3636 1558.32,-23.8417 1692.01,-72 1753.84,-94.2722 1822.69,-121.365 1793.01,-180 1768.6,-228.221 1745.8,-233.516 1695.01,-252 1560.39,-300.997 1132.61,-305.749 953.79,-305.512\"/>\n",
       "<polygon fill=\"black\" stroke=\"black\" points=\"953.668,-302.012 943.661,-305.492 953.655,-309.012 953.668,-302.012\"/>\n",
       "</g>\n",
       "<!-- Race -->\n",
       "<g id=\"node19\" class=\"node\"><title>Race</title>\n",
       "<ellipse fill=\"none\" stroke=\"black\" cx=\"833.014\" cy=\"-18\" rx=\"28.6953\" ry=\"18\"/>\n",
       "<text text-anchor=\"middle\" x=\"833.014\" y=\"-14.3\" font-family=\"Times,serif\" font-size=\"14.00\">Race</text>\n",
       "</g>\n",
       "<!-- Race&#45;&gt;Poverty index -->\n",
       "<g id=\"edge60\" class=\"edge\"><title>Race&#45;&gt;Poverty index</title>\n",
       "<path fill=\"none\" stroke=\"black\" d=\"M833.014,-36.3034C833.014,-44.0173 833.014,-53.2875 833.014,-61.8876\"/>\n",
       "<polygon fill=\"black\" stroke=\"black\" points=\"829.514,-61.8956 833.014,-71.8957 836.514,-61.8957 829.514,-61.8956\"/>\n",
       "</g>\n",
       "<!-- Race&#45;&gt;Systolic BP -->\n",
       "<g id=\"edge61\" class=\"edge\"><title>Race&#45;&gt;Systolic BP</title>\n",
       "<path fill=\"none\" stroke=\"black\" d=\"M805.14,-22.1639C772.182,-25.8331 715.656,-31.9011 667.014,-36 606.651,-41.0865 174.919,-40.7686 123.014,-72 100.009,-85.8421 85.2336,-113.371 76.854,-134.166\"/>\n",
       "<polygon fill=\"black\" stroke=\"black\" points=\"73.4958,-133.152 73.2461,-143.744 80.0465,-135.62 73.4958,-133.152\"/>\n",
       "</g>\n",
       "<!-- Race&#45;&gt;Serum Protein -->\n",
       "<g id=\"edge62\" class=\"edge\"><title>Race&#45;&gt;Serum Protein</title>\n",
       "<path fill=\"none\" stroke=\"black\" d=\"M859.705,-24.573C877.567,-28.1712 901.631,-32.767 923.014,-36 1062.78,-57.1322 1099.19,-51.2517 1239.01,-72 1414.66,-98.0649 1458.27,-107.312 1632.01,-144 1637.08,-145.069 1642.33,-146.23 1647.59,-147.425\"/>\n",
       "<polygon fill=\"black\" stroke=\"black\" points=\"1647.11,-150.908 1657.64,-149.753 1648.69,-144.088 1647.11,-150.908\"/>\n",
       "</g>\n",
       "<!-- Race&#45;&gt;TS -->\n",
       "<g id=\"edge63\" class=\"edge\"><title>Race&#45;&gt;TS</title>\n",
       "<path fill=\"none\" stroke=\"black\" d=\"M857.984,-27.0408C884.975,-36.1979 928.846,-52.4509 964.014,-72 1000.3,-92.1687 1038.37,-121.434 1062.13,-140.828\"/>\n",
       "<polygon fill=\"black\" stroke=\"black\" points=\"1059.98,-143.585 1069.92,-147.246 1064.43,-138.184 1059.98,-143.585\"/>\n",
       "</g>\n",
       "<!-- Race&#45;&gt;Red blood cells -->\n",
       "<g id=\"edge64\" class=\"edge\"><title>Race&#45;&gt;Red blood cells</title>\n",
       "<path fill=\"none\" stroke=\"black\" d=\"M804.242,-19.9023C755.267,-22.5129 653.753,-32.655 579.014,-72 549.119,-87.7374 522.101,-115.923 504.987,-136.368\"/>\n",
       "<polygon fill=\"black\" stroke=\"black\" points=\"502.105,-134.364 498.495,-144.325 507.529,-138.789 502.105,-134.364\"/>\n",
       "</g>\n",
       "<!-- Race&#45;&gt;Serum Magnesium -->\n",
       "<g id=\"edge65\" class=\"edge\"><title>Race&#45;&gt;Serum Magnesium</title>\n",
       "<path fill=\"none\" stroke=\"black\" d=\"M810.47,-29.3537C794.259,-38.1586 773.629,-52.4893 764.014,-72 756.941,-86.3517 758.931,-92.8287 764.014,-108 767.419,-118.166 773.629,-127.94 780.157,-136.265\"/>\n",
       "<polygon fill=\"black\" stroke=\"black\" points=\"777.592,-138.654 786.698,-144.069 782.957,-134.157 777.592,-138.654\"/>\n",
       "</g>\n",
       "<!-- Race&#45;&gt;White blood cells -->\n",
       "<g id=\"edge66\" class=\"edge\"><title>Race&#45;&gt;White blood cells</title>\n",
       "<path fill=\"none\" stroke=\"black\" d=\"M858.852,-25.8257C892.966,-35.0841 954.71,-52.6974 1006.01,-72 1061.86,-93.0099 1124.35,-122.07 1163.91,-141.189\"/>\n",
       "<polygon fill=\"black\" stroke=\"black\" points=\"1162.45,-144.367 1172.97,-145.586 1165.51,-138.07 1162.45,-144.367\"/>\n",
       "</g>\n",
       "<!-- Race&#45;&gt;Diastolic BP -->\n",
       "<g id=\"edge67\" class=\"edge\"><title>Race&#45;&gt;Diastolic BP</title>\n",
       "<path fill=\"none\" stroke=\"black\" d=\"M805.127,-22.0152C772.156,-25.5432 715.618,-31.477 667.014,-36 571.536,-44.8849 316.04,-17.6885 237.014,-72 216.205,-86.3013 205.111,-113.565 199.439,-134.165\"/>\n",
       "<polygon fill=\"black\" stroke=\"black\" points=\"196.025,-133.392 197.008,-143.941 202.818,-135.082 196.025,-133.392\"/>\n",
       "</g>\n",
       "<!-- Race&#45;&gt;BMI -->\n",
       "<g id=\"edge68\" class=\"edge\"><title>Race&#45;&gt;BMI</title>\n",
       "<path fill=\"none\" stroke=\"black\" d=\"M804.979,-21.9175C702.774,-32.574 355.868,-68.9336 351.014,-72 328.183,-86.4218 313.32,-114.11 304.871,-134.791\"/>\n",
       "<polygon fill=\"black\" stroke=\"black\" points=\"301.54,-133.702 301.231,-144.292 308.077,-136.206 301.54,-133.702\"/>\n",
       "</g>\n",
       "<!-- Race&#45;&gt;TIBC -->\n",
       "<g id=\"edge69\" class=\"edge\"><title>Race&#45;&gt;TIBC</title>\n",
       "<path fill=\"none\" stroke=\"black\" d=\"M804.878,-22.0497C724.138,-30.9407 495.516,-57.1438 465.014,-72 434.111,-87.0511 406.771,-116.143 389.868,-136.971\"/>\n",
       "<polygon fill=\"black\" stroke=\"black\" points=\"386.939,-135.033 383.493,-145.051 392.435,-139.368 386.939,-135.033\"/>\n",
       "</g>\n",
       "<!-- Race&#45;&gt;Serum Albumin -->\n",
       "<g id=\"edge70\" class=\"edge\"><title>Race&#45;&gt;Serum Albumin</title>\n",
       "<path fill=\"none\" stroke=\"black\" d=\"M805.885,-23.8098C775.578,-30.3311 726.398,-44.47 693.014,-72 672.754,-88.707 657.836,-114.929 648.688,-134.59\"/>\n",
       "<polygon fill=\"black\" stroke=\"black\" points=\"645.406,-133.356 644.547,-143.916 651.804,-136.197 645.406,-133.356\"/>\n",
       "</g>\n",
       "<!-- Race&#45;&gt;Serum Iron -->\n",
       "<g id=\"edge71\" class=\"edge\"><title>Race&#45;&gt;Serum Iron</title>\n",
       "<path fill=\"none\" stroke=\"black\" d=\"M857.53,-27.4125C879.733,-35.9651 912.344,-50.9554 935.014,-72 954.146,-89.7603 969.131,-115.63 978.595,-134.905\"/>\n",
       "<polygon fill=\"black\" stroke=\"black\" points=\"975.475,-136.495 982.913,-144.04 981.804,-133.503 975.475,-136.495\"/>\n",
       "</g>\n",
       "<!-- Race&#45;&gt;Serum Cholesterol -->\n",
       "<g id=\"edge72\" class=\"edge\"><title>Race&#45;&gt;Serum Cholesterol</title>\n",
       "<path fill=\"none\" stroke=\"black\" d=\"M859.916,-24.7574C902.821,-34.0447 989.319,-53.1993 1062.01,-72 1152.15,-95.3106 1255.96,-125.751 1317.94,-144.313\"/>\n",
       "<polygon fill=\"black\" stroke=\"black\" points=\"1317.3,-147.777 1327.89,-147.299 1319.32,-141.073 1317.3,-147.777\"/>\n",
       "</g>\n",
       "<!-- Race&#45;&gt;Sedimentation rate -->\n",
       "<g id=\"edge73\" class=\"edge\"><title>Race&#45;&gt;Sedimentation rate</title>\n",
       "<path fill=\"none\" stroke=\"black\" d=\"M860.159,-24.296C878.003,-27.7358 901.876,-32.2588 923.014,-36 1019.71,-53.1145 1044.58,-53.455 1141.01,-72 1263.05,-95.4675 1404.65,-127.752 1483.94,-146.294\"/>\n",
       "<polygon fill=\"black\" stroke=\"black\" points=\"1483.23,-149.723 1493.77,-148.596 1484.83,-142.907 1483.23,-149.723\"/>\n",
       "</g>\n",
       "<!-- Race&#45;&gt;predicted hazard -->\n",
       "<g id=\"edge74\" class=\"edge\"><title>Race&#45;&gt;predicted hazard</title>\n",
       "<path fill=\"none\" stroke=\"black\" d=\"M859.673,-24.7961C877.522,-28.4884 901.583,-33.1053 923.014,-36 1111.93,-61.516 1651.37,1.93614 1774.01,-144 1882.37,-272.931 1192.7,-298.739 953.544,-303.796\"/>\n",
       "<polygon fill=\"black\" stroke=\"black\" points=\"953.448,-300.298 943.522,-304.002 953.591,-307.296 953.448,-300.298\"/>\n",
       "</g>\n",
       "</g>\n",
       "</svg>\n"
      ],
      "text/plain": [
       "<graphviz.files.Source at 0x7ff5d9388e10>"
      ]
     },
     "metadata": {},
     "output_type": "display_data"
    }
   ],
   "source": [
    "causal_graph.draw()"
   ]
  },
  {
   "cell_type": "code",
   "execution_count": 136,
   "metadata": {},
   "outputs": [
    {
     "data": {
      "text/plain": [
       "'BT'"
      ]
     },
     "execution_count": 136,
     "metadata": {},
     "output_type": "execute_result"
    }
   ],
   "source": [
    "a = G.to_graphviz()\n",
    "a.graph_attr['rankdir']\n",
    "# print(.string())"
   ]
  },
  {
   "cell_type": "code",
   "execution_count": 137,
   "metadata": {},
   "outputs": [
    {
     "data": {
      "image/svg+xml": [
       "<?xml version=\"1.0\" encoding=\"UTF-8\" standalone=\"no\"?>\n",
       "<!DOCTYPE svg PUBLIC \"-//W3C//DTD SVG 1.1//EN\"\n",
       " \"http://www.w3.org/Graphics/SVG/1.1/DTD/svg11.dtd\">\n",
       "<!-- Generated by graphviz version 2.38.0 (20140413.2041)\n",
       " -->\n",
       "<!-- Title: %3 Pages: 1 -->\n",
       "<svg width=\"2516pt\" height=\"404pt\"\n",
       " viewBox=\"0.00 0.00 2516.00 404.00\" xmlns=\"http://www.w3.org/2000/svg\" xmlns:xlink=\"http://www.w3.org/1999/xlink\">\n",
       "<g id=\"graph0\" class=\"graph\" transform=\"scale(1 1) rotate(0) translate(4 400)\">\n",
       "<title>%3</title>\n",
       "<polygon fill=\"white\" stroke=\"none\" points=\"-4,4 -4,-400 2512,-400 2512,4 -4,4\"/>\n",
       "<!-- Poverty index -->\n",
       "<g id=\"node1\" class=\"node\"><title>Poverty index</title>\n",
       "<ellipse fill=\"none\" stroke=\"black\" cx=\"994\" cy=\"-306\" rx=\"59.5901\" ry=\"18\"/>\n",
       "<text text-anchor=\"middle\" x=\"994\" y=\"-302.3\" font-family=\"Times,serif\" font-size=\"14.00\">Poverty index</text>\n",
       "</g>\n",
       "<!-- Blood protein -->\n",
       "<g id=\"node2\" class=\"node\"><title>Blood protein</title>\n",
       "<ellipse fill=\"none\" stroke=\"black\" cx=\"1673\" cy=\"-234\" rx=\"59.5901\" ry=\"18\"/>\n",
       "<text text-anchor=\"middle\" x=\"1673\" y=\"-230.3\" font-family=\"Times,serif\" font-size=\"14.00\">Blood protein</text>\n",
       "</g>\n",
       "<!-- Poverty index&#45;&gt;Blood protein -->\n",
       "<g id=\"edge1\" class=\"edge\"><title>Poverty index&#45;&gt;Blood protein</title>\n",
       "<path fill=\"none\" stroke=\"black\" d=\"M1036.85,-293.343C1045.46,-291.313 1054.48,-289.405 1063,-288 1248.29,-257.444 1296.92,-268.412 1484,-252 1524.8,-248.421 1570.54,-244.309 1606.8,-241.026\"/>\n",
       "<polygon fill=\"black\" stroke=\"black\" points=\"1607.13,-244.511 1616.77,-240.123 1606.49,-237.54 1607.13,-244.511\"/>\n",
       "</g>\n",
       "<!-- Iron -->\n",
       "<g id=\"node3\" class=\"node\"><title>Iron</title>\n",
       "<ellipse fill=\"none\" stroke=\"black\" cx=\"2175\" cy=\"-234\" rx=\"27\" ry=\"18\"/>\n",
       "<text text-anchor=\"middle\" x=\"2175\" y=\"-230.3\" font-family=\"Times,serif\" font-size=\"14.00\">Iron</text>\n",
       "</g>\n",
       "<!-- Poverty index&#45;&gt;Iron -->\n",
       "<g id=\"edge2\" class=\"edge\"><title>Poverty index&#45;&gt;Iron</title>\n",
       "<path fill=\"none\" stroke=\"black\" d=\"M1036.06,-293.203C1044.9,-291.13 1054.2,-289.242 1063,-288 1469.06,-230.655 1575.75,-278.281 1985,-252 2038.47,-248.566 2100.24,-242.683 2138.47,-238.817\"/>\n",
       "<polygon fill=\"black\" stroke=\"black\" points=\"2139.01,-242.281 2148.6,-237.784 2138.29,-235.317 2139.01,-242.281\"/>\n",
       "</g>\n",
       "<!-- Blood pressure -->\n",
       "<g id=\"node4\" class=\"node\"><title>Blood pressure</title>\n",
       "<ellipse fill=\"none\" stroke=\"black\" cx=\"1411\" cy=\"-234\" rx=\"63.8893\" ry=\"18\"/>\n",
       "<text text-anchor=\"middle\" x=\"1411\" y=\"-230.3\" font-family=\"Times,serif\" font-size=\"14.00\">Blood pressure</text>\n",
       "</g>\n",
       "<!-- Poverty index&#45;&gt;Blood pressure -->\n",
       "<g id=\"edge3\" class=\"edge\"><title>Poverty index&#45;&gt;Blood pressure</title>\n",
       "<path fill=\"none\" stroke=\"black\" d=\"M1037.67,-293.609C1046.05,-291.603 1054.77,-289.637 1063,-288 1159.98,-268.71 1273.38,-252.633 1343.7,-243.413\"/>\n",
       "<polygon fill=\"black\" stroke=\"black\" points=\"1344.3,-246.865 1353.76,-242.102 1343.39,-239.924 1344.3,-246.865\"/>\n",
       "</g>\n",
       "<!-- Inflamation -->\n",
       "<g id=\"node5\" class=\"node\"><title>Inflamation</title>\n",
       "<ellipse fill=\"none\" stroke=\"black\" cx=\"1145\" cy=\"-234\" rx=\"51.9908\" ry=\"18\"/>\n",
       "<text text-anchor=\"middle\" x=\"1145\" y=\"-230.3\" font-family=\"Times,serif\" font-size=\"14.00\">Inflamation</text>\n",
       "</g>\n",
       "<!-- Poverty index&#45;&gt;Inflamation -->\n",
       "<g id=\"edge4\" class=\"edge\"><title>Poverty index&#45;&gt;Inflamation</title>\n",
       "<path fill=\"none\" stroke=\"black\" d=\"M1025.29,-290.496C1048.65,-279.666 1080.73,-264.793 1105.81,-253.17\"/>\n",
       "<polygon fill=\"black\" stroke=\"black\" points=\"1107.44,-256.27 1115.04,-248.889 1104.49,-249.92 1107.44,-256.27\"/>\n",
       "</g>\n",
       "<!-- Red blood cells -->\n",
       "<g id=\"node6\" class=\"node\"><title>Red blood cells</title>\n",
       "<ellipse fill=\"none\" stroke=\"black\" cx=\"306\" cy=\"-234\" rx=\"65.7887\" ry=\"18\"/>\n",
       "<text text-anchor=\"middle\" x=\"306\" y=\"-230.3\" font-family=\"Times,serif\" font-size=\"14.00\">Red blood cells</text>\n",
       "</g>\n",
       "<!-- Poverty index&#45;&gt;Red blood cells -->\n",
       "<g id=\"edge5\" class=\"edge\"><title>Poverty index&#45;&gt;Red blood cells</title>\n",
       "<path fill=\"none\" stroke=\"black\" d=\"M938.281,-299.331C813.913,-286.677 513.864,-256.149 376.636,-242.187\"/>\n",
       "<polygon fill=\"black\" stroke=\"black\" points=\"376.948,-238.701 366.645,-241.17 376.239,-245.665 376.948,-238.701\"/>\n",
       "</g>\n",
       "<!-- Serum Magnesium -->\n",
       "<g id=\"node7\" class=\"node\"><title>Serum Magnesium</title>\n",
       "<ellipse fill=\"none\" stroke=\"black\" cx=\"638\" cy=\"-234\" rx=\"79.0865\" ry=\"18\"/>\n",
       "<text text-anchor=\"middle\" x=\"638\" y=\"-230.3\" font-family=\"Times,serif\" font-size=\"14.00\">Serum Magnesium</text>\n",
       "</g>\n",
       "<!-- Poverty index&#45;&gt;Serum Magnesium -->\n",
       "<g id=\"edge6\" class=\"edge\"><title>Poverty index&#45;&gt;Serum Magnesium</title>\n",
       "<path fill=\"none\" stroke=\"black\" d=\"M945.246,-295.414C883.263,-283.226 775.916,-262.118 705.933,-248.358\"/>\n",
       "<polygon fill=\"black\" stroke=\"black\" points=\"706.376,-244.878 695.888,-246.383 705.025,-251.746 706.376,-244.878\"/>\n",
       "</g>\n",
       "<!-- BMI -->\n",
       "<g id=\"node8\" class=\"node\"><title>BMI</title>\n",
       "<ellipse fill=\"none\" stroke=\"black\" cx=\"868\" cy=\"-234\" rx=\"27.8951\" ry=\"18\"/>\n",
       "<text text-anchor=\"middle\" x=\"868\" y=\"-230.3\" font-family=\"Times,serif\" font-size=\"14.00\">BMI</text>\n",
       "</g>\n",
       "<!-- Poverty index&#45;&gt;BMI -->\n",
       "<g id=\"edge7\" class=\"edge\"><title>Poverty index&#45;&gt;BMI</title>\n",
       "<path fill=\"none\" stroke=\"black\" d=\"M966.66,-289.811C946.232,-278.462 918.346,-262.97 897.432,-251.351\"/>\n",
       "<polygon fill=\"black\" stroke=\"black\" points=\"899.093,-248.27 888.652,-246.473 895.694,-254.389 899.093,-248.27\"/>\n",
       "</g>\n",
       "<!-- Serum Cholesterol -->\n",
       "<g id=\"node9\" class=\"node\"><title>Serum Cholesterol</title>\n",
       "<ellipse fill=\"none\" stroke=\"black\" cx=\"1899\" cy=\"-234\" rx=\"77.1866\" ry=\"18\"/>\n",
       "<text text-anchor=\"middle\" x=\"1899\" y=\"-230.3\" font-family=\"Times,serif\" font-size=\"14.00\">Serum Cholesterol</text>\n",
       "</g>\n",
       "<!-- Poverty index&#45;&gt;Serum Cholesterol -->\n",
       "<g id=\"edge8\" class=\"edge\"><title>Poverty index&#45;&gt;Serum Cholesterol</title>\n",
       "<path fill=\"none\" stroke=\"black\" d=\"M1036.45,-293.211C1045.17,-291.165 1054.34,-289.285 1063,-288 1361.93,-243.656 1440.77,-276.275 1742,-252 1768.06,-249.9 1796.48,-247.006 1821.9,-244.201\"/>\n",
       "<polygon fill=\"black\" stroke=\"black\" points=\"1822.29,-247.679 1831.84,-243.091 1821.52,-240.722 1822.29,-247.679\"/>\n",
       "</g>\n",
       "<!-- predicted hazard -->\n",
       "<g id=\"node10\" class=\"node\"><title>predicted hazard</title>\n",
       "<ellipse fill=\"none\" stroke=\"black\" cx=\"1546\" cy=\"-18\" rx=\"69.5877\" ry=\"18\"/>\n",
       "<text text-anchor=\"middle\" x=\"1546\" y=\"-14.3\" font-family=\"Times,serif\" font-size=\"14.00\">predicted hazard</text>\n",
       "</g>\n",
       "<!-- Poverty index&#45;&gt;predicted hazard -->\n",
       "<g id=\"edge9\" class=\"edge\"><title>Poverty index&#45;&gt;predicted hazard</title>\n",
       "<path fill=\"none\" stroke=\"black\" d=\"M990.525,-287.663C985.129,-255.414 978.632,-185.702 1013,-144 1070.66,-74.0345 1338.39,-38.9287 1471.07,-25.5822\"/>\n",
       "<polygon fill=\"black\" stroke=\"black\" points=\"1471.55,-29.0517 1481.16,-24.5832 1470.86,-22.0858 1471.55,-29.0517\"/>\n",
       "</g>\n",
       "<!-- Serum Albumin -->\n",
       "<g id=\"node11\" class=\"node\"><title>Serum Albumin</title>\n",
       "<ellipse fill=\"none\" stroke=\"black\" cx=\"1744\" cy=\"-90\" rx=\"68.4888\" ry=\"18\"/>\n",
       "<text text-anchor=\"middle\" x=\"1744\" y=\"-86.3\" font-family=\"Times,serif\" font-size=\"14.00\">Serum Albumin</text>\n",
       "</g>\n",
       "<!-- Blood protein&#45;&gt;Serum Albumin -->\n",
       "<g id=\"edge10\" class=\"edge\"><title>Blood protein&#45;&gt;Serum Albumin</title>\n",
       "<path fill=\"none\" stroke=\"black\" d=\"M1704.08,-218.427C1719.07,-209.599 1735.59,-196.775 1744,-180 1753.55,-160.949 1752.81,-136.591 1750.1,-118.175\"/>\n",
       "<polygon fill=\"black\" stroke=\"black\" points=\"1753.5,-117.349 1748.33,-108.103 1746.61,-118.557 1753.5,-117.349\"/>\n",
       "</g>\n",
       "<!-- Serum Protein -->\n",
       "<g id=\"node12\" class=\"node\"><title>Serum Protein</title>\n",
       "<ellipse fill=\"none\" stroke=\"black\" cx=\"1673\" cy=\"-162\" rx=\"61.99\" ry=\"18\"/>\n",
       "<text text-anchor=\"middle\" x=\"1673\" y=\"-158.3\" font-family=\"Times,serif\" font-size=\"14.00\">Serum Protein</text>\n",
       "</g>\n",
       "<!-- Blood protein&#45;&gt;Serum Protein -->\n",
       "<g id=\"edge11\" class=\"edge\"><title>Blood protein&#45;&gt;Serum Protein</title>\n",
       "<path fill=\"none\" stroke=\"black\" d=\"M1673,-215.697C1673,-207.983 1673,-198.712 1673,-190.112\"/>\n",
       "<polygon fill=\"black\" stroke=\"black\" points=\"1676.5,-190.104 1673,-180.104 1669.5,-190.104 1676.5,-190.104\"/>\n",
       "</g>\n",
       "<!-- Serum Iron -->\n",
       "<g id=\"node13\" class=\"node\"><title>Serum Iron</title>\n",
       "<ellipse fill=\"none\" stroke=\"black\" cx=\"1948\" cy=\"-90\" rx=\"51.1914\" ry=\"18\"/>\n",
       "<text text-anchor=\"middle\" x=\"1948\" y=\"-86.3\" font-family=\"Times,serif\" font-size=\"14.00\">Serum Iron</text>\n",
       "</g>\n",
       "<!-- Iron&#45;&gt;Serum Iron -->\n",
       "<g id=\"edge12\" class=\"edge\"><title>Iron&#45;&gt;Serum Iron</title>\n",
       "<path fill=\"none\" stroke=\"black\" d=\"M2156.04,-221.137C2117.32,-196.915 2028.77,-141.523 1980.62,-111.406\"/>\n",
       "<polygon fill=\"black\" stroke=\"black\" points=\"1982.46,-108.426 1972.12,-106.09 1978.75,-114.361 1982.46,-108.426\"/>\n",
       "</g>\n",
       "<!-- TIBC -->\n",
       "<g id=\"node14\" class=\"node\"><title>TIBC</title>\n",
       "<ellipse fill=\"none\" stroke=\"black\" cx=\"2065\" cy=\"-90\" rx=\"30.5947\" ry=\"18\"/>\n",
       "<text text-anchor=\"middle\" x=\"2065\" y=\"-86.3\" font-family=\"Times,serif\" font-size=\"14.00\">TIBC</text>\n",
       "</g>\n",
       "<!-- Iron&#45;&gt;TIBC -->\n",
       "<g id=\"edge13\" class=\"edge\"><title>Iron&#45;&gt;TIBC</title>\n",
       "<path fill=\"none\" stroke=\"black\" d=\"M2163.02,-217.533C2143.86,-192.803 2106.19,-144.176 2083.54,-114.933\"/>\n",
       "<polygon fill=\"black\" stroke=\"black\" points=\"2086.19,-112.643 2077.3,-106.881 2080.66,-116.93 2086.19,-112.643\"/>\n",
       "</g>\n",
       "<!-- TS -->\n",
       "<g id=\"node15\" class=\"node\"><title>TS</title>\n",
       "<ellipse fill=\"none\" stroke=\"black\" cx=\"2149\" cy=\"-90\" rx=\"27\" ry=\"18\"/>\n",
       "<text text-anchor=\"middle\" x=\"2149\" y=\"-86.3\" font-family=\"Times,serif\" font-size=\"14.00\">TS</text>\n",
       "</g>\n",
       "<!-- Iron&#45;&gt;TS -->\n",
       "<g id=\"edge14\" class=\"edge\"><title>Iron&#45;&gt;TS</title>\n",
       "<path fill=\"none\" stroke=\"black\" d=\"M2171.86,-215.871C2167.43,-191.67 2159.29,-147.211 2154.02,-118.393\"/>\n",
       "<polygon fill=\"black\" stroke=\"black\" points=\"2157.39,-117.395 2152.15,-108.189 2150.51,-118.656 2157.39,-117.395\"/>\n",
       "</g>\n",
       "<!-- Diastolic BP -->\n",
       "<g id=\"node16\" class=\"node\"><title>Diastolic BP</title>\n",
       "<ellipse fill=\"none\" stroke=\"black\" cx=\"1537\" cy=\"-162\" rx=\"55.7903\" ry=\"18\"/>\n",
       "<text text-anchor=\"middle\" x=\"1537\" y=\"-158.3\" font-family=\"Times,serif\" font-size=\"14.00\">Diastolic BP</text>\n",
       "</g>\n",
       "<!-- Blood pressure&#45;&gt;Diastolic BP -->\n",
       "<g id=\"edge15\" class=\"edge\"><title>Blood pressure&#45;&gt;Diastolic BP</title>\n",
       "<path fill=\"none\" stroke=\"black\" d=\"M1438.65,-217.638C1457.12,-207.378 1481.58,-193.787 1501.49,-182.728\"/>\n",
       "<polygon fill=\"black\" stroke=\"black\" points=\"1503.24,-185.762 1510.28,-177.846 1499.84,-179.643 1503.24,-185.762\"/>\n",
       "</g>\n",
       "<!-- Systolic BP -->\n",
       "<g id=\"node17\" class=\"node\"><title>Systolic BP</title>\n",
       "<ellipse fill=\"none\" stroke=\"black\" cx=\"1411\" cy=\"-162\" rx=\"51.9908\" ry=\"18\"/>\n",
       "<text text-anchor=\"middle\" x=\"1411\" y=\"-158.3\" font-family=\"Times,serif\" font-size=\"14.00\">Systolic BP</text>\n",
       "</g>\n",
       "<!-- Blood pressure&#45;&gt;Systolic BP -->\n",
       "<g id=\"edge16\" class=\"edge\"><title>Blood pressure&#45;&gt;Systolic BP</title>\n",
       "<path fill=\"none\" stroke=\"black\" d=\"M1411,-215.697C1411,-207.983 1411,-198.712 1411,-190.112\"/>\n",
       "<polygon fill=\"black\" stroke=\"black\" points=\"1414.5,-190.104 1411,-180.104 1407.5,-190.104 1414.5,-190.104\"/>\n",
       "</g>\n",
       "<!-- Sedimentation rate -->\n",
       "<g id=\"node18\" class=\"node\"><title>Sedimentation rate</title>\n",
       "<ellipse fill=\"none\" stroke=\"black\" cx=\"1264\" cy=\"-162\" rx=\"77.1866\" ry=\"18\"/>\n",
       "<text text-anchor=\"middle\" x=\"1264\" y=\"-158.3\" font-family=\"Times,serif\" font-size=\"14.00\">Sedimentation rate</text>\n",
       "</g>\n",
       "<!-- Inflamation&#45;&gt;Sedimentation rate -->\n",
       "<g id=\"edge17\" class=\"edge\"><title>Inflamation&#45;&gt;Sedimentation rate</title>\n",
       "<path fill=\"none\" stroke=\"black\" d=\"M1170.24,-218.155C1187.01,-208.291 1209.28,-195.187 1227.91,-184.227\"/>\n",
       "<polygon fill=\"black\" stroke=\"black\" points=\"1229.88,-187.13 1236.73,-179.043 1226.33,-181.096 1229.88,-187.13\"/>\n",
       "</g>\n",
       "<!-- White blood cells -->\n",
       "<g id=\"node19\" class=\"node\"><title>White blood cells</title>\n",
       "<ellipse fill=\"none\" stroke=\"black\" cx=\"1095\" cy=\"-162\" rx=\"73.387\" ry=\"18\"/>\n",
       "<text text-anchor=\"middle\" x=\"1095\" y=\"-158.3\" font-family=\"Times,serif\" font-size=\"14.00\">White blood cells</text>\n",
       "</g>\n",
       "<!-- Inflamation&#45;&gt;White blood cells -->\n",
       "<g id=\"edge18\" class=\"edge\"><title>Inflamation&#45;&gt;White blood cells</title>\n",
       "<path fill=\"none\" stroke=\"black\" d=\"M1133.15,-216.411C1127.14,-207.992 1119.7,-197.585 1113,-188.201\"/>\n",
       "<polygon fill=\"black\" stroke=\"black\" points=\"1115.77,-186.059 1107.11,-179.956 1110.08,-190.128 1115.77,-186.059\"/>\n",
       "</g>\n",
       "<!-- Red blood cells&#45;&gt;predicted hazard -->\n",
       "<g id=\"edge19\" class=\"edge\"><title>Red blood cells&#45;&gt;predicted hazard</title>\n",
       "<path fill=\"none\" stroke=\"black\" d=\"M342.967,-218.965C429.466,-186.796 652.396,-107.763 846,-72 1068,-30.9918 1335.22,-21.5799 1465.99,-19.51\"/>\n",
       "<polygon fill=\"black\" stroke=\"black\" points=\"1466.37,-23.0049 1476.32,-19.3575 1466.26,-16.0057 1466.37,-23.0049\"/>\n",
       "</g>\n",
       "<!-- Serum Magnesium&#45;&gt;predicted hazard -->\n",
       "<g id=\"edge20\" class=\"edge\"><title>Serum Magnesium&#45;&gt;predicted hazard</title>\n",
       "<path fill=\"none\" stroke=\"black\" d=\"M660.506,-216.583C708.379,-182.661 825.027,-105.237 936,-72 1033.36,-42.8402 1325.6,-27.6721 1467.28,-21.8624\"/>\n",
       "<polygon fill=\"black\" stroke=\"black\" points=\"1467.78,-25.3452 1477.63,-21.4438 1467.49,-18.351 1467.78,-25.3452\"/>\n",
       "</g>\n",
       "<!-- BMI&#45;&gt;predicted hazard -->\n",
       "<g id=\"edge21\" class=\"edge\"><title>BMI&#45;&gt;predicted hazard</title>\n",
       "<path fill=\"none\" stroke=\"black\" d=\"M873.973,-216.416C887.149,-182.531 922.211,-105.719 980,-72 1060.43,-25.07 1329.84,-18.5291 1465.91,-18.3331\"/>\n",
       "<polygon fill=\"black\" stroke=\"black\" points=\"1466.27,-21.8331 1476.27,-18.3301 1466.27,-14.8331 1466.27,-21.8331\"/>\n",
       "</g>\n",
       "<!-- Serum Cholesterol&#45;&gt;predicted hazard -->\n",
       "<g id=\"edge22\" class=\"edge\"><title>Serum Cholesterol&#45;&gt;predicted hazard</title>\n",
       "<path fill=\"none\" stroke=\"black\" d=\"M1895.95,-215.961C1889.04,-182.618 1868.91,-108.8 1821,-72 1790.27,-48.3921 1691.18,-33.6345 1620.78,-25.8591\"/>\n",
       "<polygon fill=\"black\" stroke=\"black\" points=\"1620.93,-22.3551 1610.61,-24.7624 1620.18,-29.3148 1620.93,-22.3551\"/>\n",
       "</g>\n",
       "<!-- Serum Albumin&#45;&gt;predicted hazard -->\n",
       "<g id=\"edge54\" class=\"edge\"><title>Serum Albumin&#45;&gt;predicted hazard</title>\n",
       "<path fill=\"none\" stroke=\"black\" d=\"M1704.88,-75.1703C1673.39,-64.0371 1628.95,-48.3263 1595.08,-36.3501\"/>\n",
       "<polygon fill=\"black\" stroke=\"black\" points=\"1595.97,-32.954 1585.38,-32.9206 1593.64,-39.5537 1595.97,-32.954\"/>\n",
       "</g>\n",
       "<!-- Serum Protein&#45;&gt;predicted hazard -->\n",
       "<g id=\"edge55\" class=\"edge\"><title>Serum Protein&#45;&gt;predicted hazard</title>\n",
       "<path fill=\"none\" stroke=\"black\" d=\"M1658.18,-144.433C1635.93,-119.556 1593.76,-72.3984 1567.94,-43.5265\"/>\n",
       "<polygon fill=\"black\" stroke=\"black\" points=\"1570.39,-41.0223 1561.12,-35.9017 1565.17,-45.6888 1570.39,-41.0223\"/>\n",
       "</g>\n",
       "<!-- Serum Iron&#45;&gt;predicted hazard -->\n",
       "<g id=\"edge57\" class=\"edge\"><title>Serum Iron&#45;&gt;predicted hazard</title>\n",
       "<path fill=\"none\" stroke=\"black\" d=\"M1907,-79.0774C1896.29,-76.6234 1884.74,-74.0986 1874,-72 1785.15,-54.6355 1681.97,-38.6423 1615.41,-28.8653\"/>\n",
       "<polygon fill=\"black\" stroke=\"black\" points=\"1615.86,-25.3938 1605.46,-27.4094 1614.85,-32.3201 1615.86,-25.3938\"/>\n",
       "</g>\n",
       "<!-- TIBC&#45;&gt;predicted hazard -->\n",
       "<g id=\"edge58\" class=\"edge\"><title>TIBC&#45;&gt;predicted hazard</title>\n",
       "<path fill=\"none\" stroke=\"black\" d=\"M2039.14,-80.2404C2029.46,-77.2417 2018.32,-74.1136 2008,-72 1874.21,-44.5958 1715.51,-30.2666 1623.23,-23.6984\"/>\n",
       "<polygon fill=\"black\" stroke=\"black\" points=\"1623.36,-20.1989 1613.14,-22.9922 1622.87,-27.1818 1623.36,-20.1989\"/>\n",
       "</g>\n",
       "<!-- TS&#45;&gt;predicted hazard -->\n",
       "<g id=\"edge59\" class=\"edge\"><title>TS&#45;&gt;predicted hazard</title>\n",
       "<path fill=\"none\" stroke=\"black\" d=\"M2126.99,-79.1379C2120.08,-76.4114 2112.33,-73.7294 2105,-72 1937.48,-32.4921 1735.15,-22.2698 1625.69,-19.7301\"/>\n",
       "<polygon fill=\"black\" stroke=\"black\" points=\"1625.47,-16.2245 1615.4,-19.5076 1625.32,-23.2229 1625.47,-16.2245\"/>\n",
       "</g>\n",
       "<!-- Diastolic BP&#45;&gt;predicted hazard -->\n",
       "<g id=\"edge61\" class=\"edge\"><title>Diastolic BP&#45;&gt;predicted hazard</title>\n",
       "<path fill=\"none\" stroke=\"black\" d=\"M1551.82,-144.173C1559.46,-134.353 1568,-121.306 1572,-108 1576.6,-92.6764 1575.62,-87.5858 1572,-72 1569.85,-62.7152 1565.82,-53.1819 1561.58,-44.8058\"/>\n",
       "<polygon fill=\"black\" stroke=\"black\" points=\"1564.61,-43.0503 1556.78,-35.9157 1558.45,-46.3775 1564.61,-43.0503\"/>\n",
       "</g>\n",
       "<!-- Pulse pressure -->\n",
       "<g id=\"node26\" class=\"node\"><title>Pulse pressure</title>\n",
       "<ellipse fill=\"none\" stroke=\"black\" cx=\"1501\" cy=\"-90\" rx=\"61.99\" ry=\"18\"/>\n",
       "<text text-anchor=\"middle\" x=\"1501\" y=\"-86.3\" font-family=\"Times,serif\" font-size=\"14.00\">Pulse pressure</text>\n",
       "</g>\n",
       "<!-- Diastolic BP&#45;&gt;Pulse pressure -->\n",
       "<g id=\"edge62\" class=\"edge\"><title>Diastolic BP&#45;&gt;Pulse pressure</title>\n",
       "<path fill=\"none\" stroke=\"black\" d=\"M1528.29,-144.055C1524.15,-136.007 1519.11,-126.205 1514.49,-117.226\"/>\n",
       "<polygon fill=\"black\" stroke=\"black\" points=\"1517.57,-115.567 1509.88,-108.275 1511.35,-118.769 1517.57,-115.567\"/>\n",
       "</g>\n",
       "<!-- Systolic BP&#45;&gt;predicted hazard -->\n",
       "<g id=\"edge63\" class=\"edge\"><title>Systolic BP&#45;&gt;predicted hazard</title>\n",
       "<path fill=\"none\" stroke=\"black\" d=\"M1410.3,-143.67C1410.43,-124.182 1413.49,-92.5781 1430,-72 1444.3,-54.1799 1465.92,-42.1144 1486.64,-34.0597\"/>\n",
       "<polygon fill=\"black\" stroke=\"black\" points=\"1487.86,-37.3399 1496.06,-30.6349 1485.47,-30.7608 1487.86,-37.3399\"/>\n",
       "</g>\n",
       "<!-- Systolic BP&#45;&gt;Pulse pressure -->\n",
       "<g id=\"edge64\" class=\"edge\"><title>Systolic BP&#45;&gt;Pulse pressure</title>\n",
       "<path fill=\"none\" stroke=\"black\" d=\"M1431.42,-145.116C1443.53,-135.696 1459.07,-123.611 1472.39,-113.251\"/>\n",
       "<polygon fill=\"black\" stroke=\"black\" points=\"1474.6,-115.966 1480.35,-107.064 1470.3,-110.44 1474.6,-115.966\"/>\n",
       "</g>\n",
       "<!-- Sedimentation rate&#45;&gt;predicted hazard -->\n",
       "<g id=\"edge67\" class=\"edge\"><title>Sedimentation rate&#45;&gt;predicted hazard</title>\n",
       "<path fill=\"none\" stroke=\"black\" d=\"M1287.99,-144.725C1316.51,-125.791 1365.94,-94.2839 1411,-72 1438.42,-58.4411 1470.21,-45.8158 1496.06,-36.2914\"/>\n",
       "<polygon fill=\"black\" stroke=\"black\" points=\"1497.45,-39.5085 1505.65,-32.7974 1495.06,-32.9313 1497.45,-39.5085\"/>\n",
       "</g>\n",
       "<!-- White blood cells&#45;&gt;predicted hazard -->\n",
       "<g id=\"edge68\" class=\"edge\"><title>White blood cells&#45;&gt;predicted hazard</title>\n",
       "<path fill=\"none\" stroke=\"black\" d=\"M1132.95,-146.452C1181.82,-127.967 1269.58,-95.6297 1346,-72 1392.98,-57.4726 1446.91,-43.3262 1486.92,-33.3078\"/>\n",
       "<polygon fill=\"black\" stroke=\"black\" points=\"1487.92,-36.6652 1496.78,-30.8519 1486.23,-29.8728 1487.92,-36.6652\"/>\n",
       "</g>\n",
       "<!-- Age -->\n",
       "<g id=\"node20\" class=\"node\"><title>Age</title>\n",
       "<ellipse fill=\"none\" stroke=\"black\" cx=\"868\" cy=\"-378\" rx=\"27\" ry=\"18\"/>\n",
       "<text text-anchor=\"middle\" x=\"868\" y=\"-374.3\" font-family=\"Times,serif\" font-size=\"14.00\">Age</text>\n",
       "</g>\n",
       "<!-- Age&#45;&gt;Poverty index -->\n",
       "<g id=\"edge23\" class=\"edge\"><title>Age&#45;&gt;Poverty index</title>\n",
       "<path fill=\"none\" stroke=\"black\" d=\"M888.244,-365.753C906.953,-355.359 935.188,-339.674 957.778,-327.123\"/>\n",
       "<polygon fill=\"black\" stroke=\"black\" points=\"959.713,-330.052 966.754,-322.136 956.313,-323.933 959.713,-330.052\"/>\n",
       "</g>\n",
       "<!-- Age&#45;&gt;Blood protein -->\n",
       "<g id=\"edge24\" class=\"edge\"><title>Age&#45;&gt;Blood protein</title>\n",
       "<path fill=\"none\" stroke=\"black\" d=\"M888.049,-365.865C893.113,-363.524 898.639,-361.356 904,-360 1047.05,-323.823 1433.6,-387.054 1567,-324 1586.62,-314.725 1583.8,-302.449 1600,-288 1612.66,-276.711 1627.66,-265.49 1640.77,-256.299\"/>\n",
       "<polygon fill=\"black\" stroke=\"black\" points=\"1642.83,-259.133 1649.07,-250.572 1638.85,-253.373 1642.83,-259.133\"/>\n",
       "</g>\n",
       "<!-- Age&#45;&gt;Iron -->\n",
       "<g id=\"edge25\" class=\"edge\"><title>Age&#45;&gt;Iron</title>\n",
       "<path fill=\"none\" stroke=\"black\" d=\"M888.025,-365.765C893.09,-363.427 898.622,-361.285 904,-360 973.461,-343.399 2139.21,-375.202 2189,-324 2205.21,-307.328 2197.87,-280.004 2188.87,-260.022\"/>\n",
       "<polygon fill=\"black\" stroke=\"black\" points=\"2191.94,-258.336 2184.41,-250.882 2185.65,-261.404 2191.94,-258.336\"/>\n",
       "</g>\n",
       "<!-- Age&#45;&gt;Blood pressure -->\n",
       "<g id=\"edge26\" class=\"edge\"><title>Age&#45;&gt;Blood pressure</title>\n",
       "<path fill=\"none\" stroke=\"black\" d=\"M888.487,-365.904C893.445,-363.622 898.813,-361.47 904,-360 1042.97,-320.625 1088.21,-364.023 1227,-324 1282.09,-308.115 1340.93,-276.832 1376.84,-255.914\"/>\n",
       "<polygon fill=\"black\" stroke=\"black\" points=\"1379.07,-258.666 1385.9,-250.572 1375.51,-252.636 1379.07,-258.666\"/>\n",
       "</g>\n",
       "<!-- Age&#45;&gt;Inflamation -->\n",
       "<g id=\"edge27\" class=\"edge\"><title>Age&#45;&gt;Inflamation</title>\n",
       "<path fill=\"none\" stroke=\"black\" d=\"M874.08,-360.454C882.398,-340.189 899.292,-306.306 925,-288 971.511,-254.88 1036.12,-242.284 1083.28,-237.582\"/>\n",
       "<polygon fill=\"black\" stroke=\"black\" points=\"1083.73,-241.057 1093.37,-236.67 1083.1,-234.085 1083.73,-241.057\"/>\n",
       "</g>\n",
       "<!-- Age&#45;&gt;Red blood cells -->\n",
       "<g id=\"edge28\" class=\"edge\"><title>Age&#45;&gt;Red blood cells</title>\n",
       "<path fill=\"none\" stroke=\"black\" d=\"M841.104,-376.264C703.585,-372.376 84.432,-353.283 57,-324 1.86712,-265.147 139.641,-245.156 231.54,-238.405\"/>\n",
       "<polygon fill=\"black\" stroke=\"black\" points=\"231.936,-241.886 241.669,-237.701 231.45,-234.903 231.936,-241.886\"/>\n",
       "</g>\n",
       "<!-- Age&#45;&gt;Serum Magnesium -->\n",
       "<g id=\"edge29\" class=\"edge\"><title>Age&#45;&gt;Serum Magnesium</title>\n",
       "<path fill=\"none\" stroke=\"black\" d=\"M841.084,-376.236C741.118,-373.124 395.261,-359.824 363,-324 305.455,-260.099 448.174,-241.868 548.832,-236.798\"/>\n",
       "<polygon fill=\"black\" stroke=\"black\" points=\"549.219,-240.284 559.044,-236.321 548.892,-233.291 549.219,-240.284\"/>\n",
       "</g>\n",
       "<!-- Age&#45;&gt;BMI -->\n",
       "<g id=\"edge30\" class=\"edge\"><title>Age&#45;&gt;BMI</title>\n",
       "<path fill=\"none\" stroke=\"black\" d=\"M840.859,-377.789C801.29,-377.28 728.807,-369.714 695,-324 657.125,-272.785 768.94,-248.728 830.453,-239.61\"/>\n",
       "<polygon fill=\"black\" stroke=\"black\" points=\"831.174,-243.043 840.584,-238.175 830.192,-236.112 831.174,-243.043\"/>\n",
       "</g>\n",
       "<!-- Age&#45;&gt;Serum Cholesterol -->\n",
       "<g id=\"edge31\" class=\"edge\"><title>Age&#45;&gt;Serum Cholesterol</title>\n",
       "<path fill=\"none\" stroke=\"black\" d=\"M888.033,-365.802C893.098,-363.463 898.628,-361.311 904,-360 1007.37,-334.769 1773.32,-384.296 1861,-324 1881.28,-310.056 1890.79,-282.934 1895.22,-262.278\"/>\n",
       "<polygon fill=\"black\" stroke=\"black\" points=\"1898.71,-262.641 1897.1,-252.169 1891.83,-261.359 1898.71,-262.641\"/>\n",
       "</g>\n",
       "<!-- Age&#45;&gt;predicted hazard -->\n",
       "<g id=\"edge32\" class=\"edge\"><title>Age&#45;&gt;predicted hazard</title>\n",
       "<path fill=\"none\" stroke=\"black\" d=\"M840.711,-376.89C705.179,-376.128 108.24,-370.155 41,-324 5.09396,-299.354 0,-278.551 0,-235 0,-235 0,-235 0,-161 0,-86.545 1152.06,-34.8188 1467.17,-22.0634\"/>\n",
       "<polygon fill=\"black\" stroke=\"black\" points=\"1467.72,-25.5438 1477.58,-21.6439 1467.44,-18.5495 1467.72,-25.5438\"/>\n",
       "</g>\n",
       "<!-- Sex -->\n",
       "<g id=\"node21\" class=\"node\"><title>Sex</title>\n",
       "<ellipse fill=\"none\" stroke=\"black\" cx=\"1284\" cy=\"-378\" rx=\"27\" ry=\"18\"/>\n",
       "<text text-anchor=\"middle\" x=\"1284\" y=\"-374.3\" font-family=\"Times,serif\" font-size=\"14.00\">Sex</text>\n",
       "</g>\n",
       "<!-- Sex&#45;&gt;Poverty index -->\n",
       "<g id=\"edge33\" class=\"edge\"><title>Sex&#45;&gt;Poverty index</title>\n",
       "<path fill=\"none\" stroke=\"black\" d=\"M1258.8,-371.01C1217.76,-361.242 1133.93,-341.242 1063,-324 1058.3,-322.858 1053.43,-321.667 1048.54,-320.469\"/>\n",
       "<polygon fill=\"black\" stroke=\"black\" points=\"1049.08,-316.999 1038.53,-318.014 1047.41,-323.797 1049.08,-316.999\"/>\n",
       "</g>\n",
       "<!-- Sex&#45;&gt;Blood protein -->\n",
       "<g id=\"edge34\" class=\"edge\"><title>Sex&#45;&gt;Blood protein</title>\n",
       "<path fill=\"none\" stroke=\"black\" d=\"M1310.75,-374.93C1377.71,-369.373 1550.66,-352.579 1600,-324 1625.79,-309.06 1646.31,-281.316 1658.95,-260.761\"/>\n",
       "<polygon fill=\"black\" stroke=\"black\" points=\"1662.11,-262.283 1664.19,-251.894 1656.08,-258.722 1662.11,-262.283\"/>\n",
       "</g>\n",
       "<!-- Sex&#45;&gt;Iron -->\n",
       "<g id=\"edge35\" class=\"edge\"><title>Sex&#45;&gt;Iron</title>\n",
       "<path fill=\"none\" stroke=\"black\" d=\"M1310.58,-374.257C1347.13,-370.566 1414.99,-364.001 1473,-360 1514.56,-357.133 2193.26,-354.156 2222,-324 2241.03,-304.036 2218.73,-274.858 2198.83,-255.416\"/>\n",
       "<polygon fill=\"black\" stroke=\"black\" points=\"2201.1,-252.754 2191.41,-248.482 2196.32,-257.867 2201.1,-252.754\"/>\n",
       "</g>\n",
       "<!-- Sex&#45;&gt;Blood pressure -->\n",
       "<g id=\"edge36\" class=\"edge\"><title>Sex&#45;&gt;Blood pressure</title>\n",
       "<path fill=\"none\" stroke=\"black\" d=\"M1297.35,-362.072C1319.12,-337.729 1362.49,-289.243 1388.9,-259.706\"/>\n",
       "<polygon fill=\"black\" stroke=\"black\" points=\"1391.82,-261.701 1395.87,-251.914 1386.6,-257.034 1391.82,-261.701\"/>\n",
       "</g>\n",
       "<!-- Sex&#45;&gt;Inflamation -->\n",
       "<g id=\"edge37\" class=\"edge\"><title>Sex&#45;&gt;Inflamation</title>\n",
       "<path fill=\"none\" stroke=\"black\" d=\"M1276.14,-360.423C1266.5,-341.346 1248.75,-309.842 1227,-288 1214.02,-274.97 1197.32,-263.466 1182.38,-254.534\"/>\n",
       "<polygon fill=\"black\" stroke=\"black\" points=\"1183.76,-251.29 1173.35,-249.314 1180.26,-257.35 1183.76,-251.29\"/>\n",
       "</g>\n",
       "<!-- Sex&#45;&gt;Red blood cells -->\n",
       "<g id=\"edge38\" class=\"edge\"><title>Sex&#45;&gt;Red blood cells</title>\n",
       "<path fill=\"none\" stroke=\"black\" d=\"M1257.5,-374.432C1219.22,-370.796 1146.24,-364.13 1084,-360 1042.16,-357.224 362.673,-350.29 330,-324 311.927,-309.458 306.626,-282.851 305.428,-262.504\"/>\n",
       "<polygon fill=\"black\" stroke=\"black\" points=\"308.919,-262.14 305.129,-252.246 301.922,-262.344 308.919,-262.14\"/>\n",
       "</g>\n",
       "<!-- Sex&#45;&gt;Serum Magnesium -->\n",
       "<g id=\"edge39\" class=\"edge\"><title>Sex&#45;&gt;Serum Magnesium</title>\n",
       "<path fill=\"none\" stroke=\"black\" d=\"M1257.27,-374.723C1138.22,-364.578 662,-324 662,-324 644.202,-309.124 638.864,-282.561 637.583,-262.315\"/>\n",
       "<polygon fill=\"black\" stroke=\"black\" points=\"641.074,-261.991 637.236,-252.115 634.078,-262.229 641.074,-261.991\"/>\n",
       "</g>\n",
       "<!-- Sex&#45;&gt;BMI -->\n",
       "<g id=\"edge40\" class=\"edge\"><title>Sex&#45;&gt;BMI</title>\n",
       "<path fill=\"none\" stroke=\"black\" d=\"M1257.16,-375.081C1173.2,-368.848 919.504,-348.166 892,-324 874.676,-308.778 869.251,-282.493 867.818,-262.423\"/>\n",
       "<polygon fill=\"black\" stroke=\"black\" points=\"871.309,-262.146 867.386,-252.304 864.316,-262.444 871.309,-262.146\"/>\n",
       "</g>\n",
       "<!-- Sex&#45;&gt;Serum Cholesterol -->\n",
       "<g id=\"edge41\" class=\"edge\"><title>Sex&#45;&gt;Serum Cholesterol</title>\n",
       "<path fill=\"none\" stroke=\"black\" d=\"M1310.6,-374.57C1347.18,-371.237 1415.07,-365.082 1473,-360 1519.77,-355.897 1861.29,-357.678 1894,-324 1909.54,-308.003 1909.17,-281.815 1905.87,-261.978\"/>\n",
       "<polygon fill=\"black\" stroke=\"black\" points=\"1909.27,-261.121 1903.89,-251.994 1902.41,-262.484 1909.27,-261.121\"/>\n",
       "</g>\n",
       "<!-- Sex&#45;&gt;predicted hazard -->\n",
       "<g id=\"edge42\" class=\"edge\"><title>Sex&#45;&gt;predicted hazard</title>\n",
       "<path fill=\"none\" stroke=\"black\" d=\"M1310.57,-374.176C1347.12,-370.39 1414.97,-363.718 1473,-360 1525.15,-356.658 2373.01,-357.642 2413,-324 2443.95,-297.963 2432,-275.447 2432,-235 2432,-235 2432,-235 2432,-161 2432,-44.3132 2299.02,-96.8147 2185,-72 1987.16,-28.9418 1747.88,-20.3143 1625.91,-18.9277\"/>\n",
       "<polygon fill=\"black\" stroke=\"black\" points=\"1625.94,-15.428 1615.91,-18.8274 1625.87,-22.4276 1625.94,-15.428\"/>\n",
       "</g>\n",
       "<!-- Race -->\n",
       "<g id=\"node22\" class=\"node\"><title>Race</title>\n",
       "<ellipse fill=\"none\" stroke=\"black\" cx=\"1511\" cy=\"-378\" rx=\"28.6953\" ry=\"18\"/>\n",
       "<text text-anchor=\"middle\" x=\"1511\" y=\"-374.3\" font-family=\"Times,serif\" font-size=\"14.00\">Race</text>\n",
       "</g>\n",
       "<!-- Race&#45;&gt;Poverty index -->\n",
       "<g id=\"edge43\" class=\"edge\"><title>Race&#45;&gt;Poverty index</title>\n",
       "<path fill=\"none\" stroke=\"black\" d=\"M1482.78,-374.883C1411.82,-369.295 1220.39,-352.586 1063,-324 1057.9,-323.073 1052.61,-321.992 1047.33,-320.832\"/>\n",
       "<polygon fill=\"black\" stroke=\"black\" points=\"1047.79,-317.346 1037.26,-318.526 1046.22,-324.169 1047.79,-317.346\"/>\n",
       "</g>\n",
       "<!-- Race&#45;&gt;Blood protein -->\n",
       "<g id=\"edge44\" class=\"edge\"><title>Race&#45;&gt;Blood protein</title>\n",
       "<path fill=\"none\" stroke=\"black\" d=\"M1539.73,-377.219C1615.79,-377.126 1819.48,-372.285 1861,-324 1900.67,-277.875 1806.71,-253.915 1737.82,-242.923\"/>\n",
       "<polygon fill=\"black\" stroke=\"black\" points=\"1738.28,-239.451 1727.86,-241.394 1737.21,-246.37 1738.28,-239.451\"/>\n",
       "</g>\n",
       "<!-- Race&#45;&gt;Iron -->\n",
       "<g id=\"edge45\" class=\"edge\"><title>Race&#45;&gt;Iron</title>\n",
       "<path fill=\"none\" stroke=\"black\" d=\"M1539.91,-376.404C1690.81,-373.155 2382.33,-356.527 2413,-324 2473.68,-259.65 2293.32,-241.505 2212.27,-236.662\"/>\n",
       "<polygon fill=\"black\" stroke=\"black\" points=\"2212.16,-233.151 2201.98,-236.087 2211.77,-240.14 2212.16,-233.151\"/>\n",
       "</g>\n",
       "<!-- Race&#45;&gt;Blood pressure -->\n",
       "<g id=\"edge46\" class=\"edge\"><title>Race&#45;&gt;Blood pressure</title>\n",
       "<path fill=\"none\" stroke=\"black\" d=\"M1530.51,-364.819C1543.54,-355.451 1559.59,-341.214 1567,-324 1573.33,-309.304 1576.32,-301.007 1567,-288 1547.61,-260.933 1513.6,-247.523 1482.27,-240.947\"/>\n",
       "<polygon fill=\"black\" stroke=\"black\" points=\"1482.7,-237.464 1472.22,-239.043 1481.39,-244.342 1482.7,-237.464\"/>\n",
       "</g>\n",
       "<!-- Race&#45;&gt;Inflamation -->\n",
       "<g id=\"edge47\" class=\"edge\"><title>Race&#45;&gt;Inflamation</title>\n",
       "<path fill=\"none\" stroke=\"black\" d=\"M1487.27,-367.792C1426.66,-344.276 1265.48,-281.743 1187.9,-251.645\"/>\n",
       "<polygon fill=\"black\" stroke=\"black\" points=\"1189.01,-248.321 1178.42,-247.966 1186.48,-254.847 1189.01,-248.321\"/>\n",
       "</g>\n",
       "<!-- Race&#45;&gt;Red blood cells -->\n",
       "<g id=\"edge48\" class=\"edge\"><title>Race&#45;&gt;Red blood cells</title>\n",
       "<path fill=\"none\" stroke=\"black\" d=\"M1482.88,-374.043C1445.66,-370.234 1377.98,-363.668 1320,-360 1213.8,-353.281 455.376,-376.815 363,-324 350.414,-316.804 331.647,-284.58 319.126,-260.968\"/>\n",
       "<polygon fill=\"black\" stroke=\"black\" points=\"322.228,-259.346 314.499,-252.099 316.021,-262.584 322.228,-259.346\"/>\n",
       "</g>\n",
       "<!-- Race&#45;&gt;Serum Magnesium -->\n",
       "<g id=\"edge49\" class=\"edge\"><title>Race&#45;&gt;Serum Magnesium</title>\n",
       "<path fill=\"none\" stroke=\"black\" d=\"M1482.87,-374.219C1445.63,-370.602 1377.94,-364.246 1320,-360 1250.63,-354.916 755.039,-359.126 695,-324 682.542,-316.712 663.869,-284.769 651.325,-261.227\"/>\n",
       "<polygon fill=\"black\" stroke=\"black\" points=\"654.263,-259.294 646.521,-252.061 648.063,-262.543 654.263,-259.294\"/>\n",
       "</g>\n",
       "<!-- Race&#45;&gt;BMI -->\n",
       "<g id=\"edge50\" class=\"edge\"><title>Race&#45;&gt;BMI</title>\n",
       "<path fill=\"none\" stroke=\"black\" d=\"M1482.82,-374.492C1366.08,-364.101 926.514,-324.92 925,-324 912.525,-316.425 893.543,-283.897 880.959,-260.353\"/>\n",
       "<polygon fill=\"black\" stroke=\"black\" points=\"883.909,-258.442 876.156,-251.222 877.714,-261.701 883.909,-258.442\"/>\n",
       "</g>\n",
       "<!-- Race&#45;&gt;Serum Cholesterol -->\n",
       "<g id=\"edge51\" class=\"edge\"><title>Race&#45;&gt;Serum Cholesterol</title>\n",
       "<path fill=\"none\" stroke=\"black\" d=\"M1539.67,-376.994C1663.01,-376.675 2144.31,-372.323 2189,-324 2251.61,-256.299 2092.9,-239.574 1986.34,-235.764\"/>\n",
       "<polygon fill=\"black\" stroke=\"black\" points=\"1986.3,-232.261 1976.19,-235.434 1986.08,-239.257 1986.3,-232.261\"/>\n",
       "</g>\n",
       "<!-- Race&#45;&gt;predicted hazard -->\n",
       "<g id=\"edge52\" class=\"edge\"><title>Race&#45;&gt;predicted hazard</title>\n",
       "<path fill=\"none\" stroke=\"black\" d=\"M1539.71,-376.693C1686.7,-374.943 2351.45,-364.809 2433,-324 2479.26,-300.851 2508,-286.728 2508,-235 2508,-235 2508,-235 2508,-161 2508,-112.793 2488.06,-95.5581 2446,-72 2375.46,-32.4865 1832.42,-22.2305 1625.62,-19.7444\"/>\n",
       "<polygon fill=\"black\" stroke=\"black\" points=\"1625.47,-16.2426 1615.43,-19.625 1625.39,-23.2421 1625.47,-16.2426\"/>\n",
       "</g>\n",
       "<!-- Poverty index noise -->\n",
       "<g id=\"node23\" class=\"node\"><title>Poverty index noise</title>\n",
       "<ellipse fill=\"none\" stroke=\"black\" cx=\"994\" cy=\"-378\" rx=\"81.4863\" ry=\"18\"/>\n",
       "<text text-anchor=\"middle\" x=\"994\" y=\"-374.3\" font-family=\"Times,serif\" font-size=\"14.00\">Poverty index noise</text>\n",
       "</g>\n",
       "<!-- Poverty index noise&#45;&gt;Poverty index -->\n",
       "<g id=\"edge53\" class=\"edge\"><title>Poverty index noise&#45;&gt;Poverty index</title>\n",
       "<path fill=\"none\" stroke=\"black\" d=\"M994,-359.697C994,-351.983 994,-342.712 994,-334.112\"/>\n",
       "<polygon fill=\"black\" stroke=\"black\" points=\"997.5,-334.104 994,-324.104 990.5,-334.104 997.5,-334.104\"/>\n",
       "</g>\n",
       "<!-- Blood protein noise -->\n",
       "<g id=\"node24\" class=\"node\"><title>Blood protein noise</title>\n",
       "<ellipse fill=\"none\" stroke=\"black\" cx=\"1771\" cy=\"-306\" rx=\"80.6858\" ry=\"18\"/>\n",
       "<text text-anchor=\"middle\" x=\"1771\" y=\"-302.3\" font-family=\"Times,serif\" font-size=\"14.00\">Blood protein noise</text>\n",
       "</g>\n",
       "<!-- Blood protein noise&#45;&gt;Blood protein -->\n",
       "<g id=\"edge56\" class=\"edge\"><title>Blood protein noise&#45;&gt;Blood protein</title>\n",
       "<path fill=\"none\" stroke=\"black\" d=\"M1747.78,-288.411C1734.56,-278.969 1717.84,-267.029 1703.57,-256.834\"/>\n",
       "<polygon fill=\"black\" stroke=\"black\" points=\"1705.22,-253.713 1695.05,-250.749 1701.15,-259.409 1705.22,-253.713\"/>\n",
       "</g>\n",
       "<!-- Iron noise -->\n",
       "<g id=\"node25\" class=\"node\"><title>Iron noise</title>\n",
       "<ellipse fill=\"none\" stroke=\"black\" cx=\"2358\" cy=\"-306\" rx=\"46.2923\" ry=\"18\"/>\n",
       "<text text-anchor=\"middle\" x=\"2358\" y=\"-302.3\" font-family=\"Times,serif\" font-size=\"14.00\">Iron noise</text>\n",
       "</g>\n",
       "<!-- Iron noise&#45;&gt;Iron -->\n",
       "<g id=\"edge60\" class=\"edge\"><title>Iron noise&#45;&gt;Iron</title>\n",
       "<path fill=\"none\" stroke=\"black\" d=\"M2326.12,-292.807C2292.9,-280.098 2241.1,-260.284 2207.61,-247.473\"/>\n",
       "<polygon fill=\"black\" stroke=\"black\" points=\"2208.43,-244.041 2197.84,-243.737 2205.93,-250.579 2208.43,-244.041\"/>\n",
       "</g>\n",
       "<!-- Pulse pressure&#45;&gt;predicted hazard -->\n",
       "<g id=\"edge66\" class=\"edge\"><title>Pulse pressure&#45;&gt;predicted hazard</title>\n",
       "<path fill=\"none\" stroke=\"black\" d=\"M1511.89,-72.055C1517.25,-63.7147 1523.83,-53.4908 1529.77,-44.2517\"/>\n",
       "<polygon fill=\"black\" stroke=\"black\" points=\"1532.74,-46.0935 1535.21,-35.789 1526.86,-42.3081 1532.74,-46.0935\"/>\n",
       "</g>\n",
       "<!-- Blood pressure noise -->\n",
       "<g id=\"node27\" class=\"node\"><title>Blood pressure noise</title>\n",
       "<ellipse fill=\"none\" stroke=\"black\" cx=\"1473\" cy=\"-306\" rx=\"85.2851\" ry=\"18\"/>\n",
       "<text text-anchor=\"middle\" x=\"1473\" y=\"-302.3\" font-family=\"Times,serif\" font-size=\"14.00\">Blood pressure noise</text>\n",
       "</g>\n",
       "<!-- Blood pressure noise&#45;&gt;Blood pressure -->\n",
       "<g id=\"edge65\" class=\"edge\"><title>Blood pressure noise&#45;&gt;Blood pressure</title>\n",
       "<path fill=\"none\" stroke=\"black\" d=\"M1457.99,-288.055C1450.38,-279.457 1440.99,-268.857 1432.61,-259.397\"/>\n",
       "<polygon fill=\"black\" stroke=\"black\" points=\"1435.12,-256.954 1425.87,-251.789 1429.88,-261.596 1435.12,-256.954\"/>\n",
       "</g>\n",
       "<!-- Inflamation noise -->\n",
       "<g id=\"node28\" class=\"node\"><title>Inflamation noise</title>\n",
       "<ellipse fill=\"none\" stroke=\"black\" cx=\"1145\" cy=\"-306\" rx=\"73.387\" ry=\"18\"/>\n",
       "<text text-anchor=\"middle\" x=\"1145\" y=\"-302.3\" font-family=\"Times,serif\" font-size=\"14.00\">Inflamation noise</text>\n",
       "</g>\n",
       "<!-- Inflamation noise&#45;&gt;Inflamation -->\n",
       "<g id=\"edge69\" class=\"edge\"><title>Inflamation noise&#45;&gt;Inflamation</title>\n",
       "<path fill=\"none\" stroke=\"black\" d=\"M1145,-287.697C1145,-279.983 1145,-270.712 1145,-262.112\"/>\n",
       "<polygon fill=\"black\" stroke=\"black\" points=\"1148.5,-262.104 1145,-252.104 1141.5,-262.104 1148.5,-262.104\"/>\n",
       "</g>\n",
       "<!-- Red blood cells noise -->\n",
       "<g id=\"node29\" class=\"node\"><title>Red blood cells noise</title>\n",
       "<ellipse fill=\"none\" stroke=\"black\" cx=\"153\" cy=\"-306\" rx=\"87.1846\" ry=\"18\"/>\n",
       "<text text-anchor=\"middle\" x=\"153\" y=\"-302.3\" font-family=\"Times,serif\" font-size=\"14.00\">Red blood cells noise</text>\n",
       "</g>\n",
       "<!-- Red blood cells noise&#45;&gt;Red blood cells -->\n",
       "<g id=\"edge70\" class=\"edge\"><title>Red blood cells noise&#45;&gt;Red blood cells</title>\n",
       "<path fill=\"none\" stroke=\"black\" d=\"M187.336,-289.291C210.203,-278.828 240.38,-265.022 264.58,-253.951\"/>\n",
       "<polygon fill=\"black\" stroke=\"black\" points=\"266.232,-257.043 273.869,-249.7 263.32,-250.678 266.232,-257.043\"/>\n",
       "</g>\n",
       "<!-- Serum Magnesium noise -->\n",
       "<g id=\"node30\" class=\"node\"><title>Serum Magnesium noise</title>\n",
       "<ellipse fill=\"none\" stroke=\"black\" cx=\"472\" cy=\"-306\" rx=\"100.182\" ry=\"18\"/>\n",
       "<text text-anchor=\"middle\" x=\"472\" y=\"-302.3\" font-family=\"Times,serif\" font-size=\"14.00\">Serum Magnesium noise</text>\n",
       "</g>\n",
       "<!-- Serum Magnesium noise&#45;&gt;Serum Magnesium -->\n",
       "<g id=\"edge71\" class=\"edge\"><title>Serum Magnesium noise&#45;&gt;Serum Magnesium</title>\n",
       "<path fill=\"none\" stroke=\"black\" d=\"M509.254,-289.291C533.943,-278.88 566.486,-265.157 592.676,-254.113\"/>\n",
       "<polygon fill=\"black\" stroke=\"black\" points=\"594.157,-257.287 602.011,-250.176 591.437,-250.837 594.157,-257.287\"/>\n",
       "</g>\n",
       "<!-- BMI noise -->\n",
       "<g id=\"node31\" class=\"node\"><title>BMI noise</title>\n",
       "<ellipse fill=\"none\" stroke=\"black\" cx=\"753\" cy=\"-306\" rx=\"48.9926\" ry=\"18\"/>\n",
       "<text text-anchor=\"middle\" x=\"753\" y=\"-302.3\" font-family=\"Times,serif\" font-size=\"14.00\">BMI noise</text>\n",
       "</g>\n",
       "<!-- BMI noise&#45;&gt;BMI -->\n",
       "<g id=\"edge72\" class=\"edge\"><title>BMI noise&#45;&gt;BMI</title>\n",
       "<path fill=\"none\" stroke=\"black\" d=\"M777.108,-290.326C795.302,-279.251 820.323,-264.021 839.507,-252.343\"/>\n",
       "<polygon fill=\"black\" stroke=\"black\" points=\"841.41,-255.282 848.133,-247.093 837.771,-249.303 841.41,-255.282\"/>\n",
       "</g>\n",
       "<!-- Serum Cholesterol noise -->\n",
       "<g id=\"node32\" class=\"node\"><title>Serum Cholesterol noise</title>\n",
       "<ellipse fill=\"none\" stroke=\"black\" cx=\"2082\" cy=\"-306\" rx=\"98.2828\" ry=\"18\"/>\n",
       "<text text-anchor=\"middle\" x=\"2082\" y=\"-302.3\" font-family=\"Times,serif\" font-size=\"14.00\">Serum Cholesterol noise</text>\n",
       "</g>\n",
       "<!-- Serum Cholesterol noise&#45;&gt;Serum Cholesterol -->\n",
       "<g id=\"edge73\" class=\"edge\"><title>Serum Cholesterol noise&#45;&gt;Serum Cholesterol</title>\n",
       "<path fill=\"none\" stroke=\"black\" d=\"M2041.39,-289.465C2013.48,-278.789 1976.31,-264.572 1946.94,-253.34\"/>\n",
       "<polygon fill=\"black\" stroke=\"black\" points=\"1947.9,-249.958 1937.31,-249.654 1945.4,-256.496 1947.9,-249.958\"/>\n",
       "</g>\n",
       "</g>\n",
       "</svg>\n"
      ],
      "text/plain": [
       "<graphviz.files.Source at 0x7ff5d97d9dd0>"
      ]
     },
     "metadata": {},
     "output_type": "display_data"
    }
   ],
   "source": [
    "# for multiple baseline need to run this multiple times, finally I can just combine the different baselines because of linearity\n",
    "E = GraphExplainer(causal_graph, bg[:1])\n",
    "E.prepare_graph(X) # add noise node\n",
    "G = copy.deepcopy(E.graph) # group happens after noise node b/c the grouped nodes combines individual noise node\n",
    "G = group_nodes(G, [n for n in G if n.name in ['White blood cells', 'Sedimentation rate']], 'Inflamation')\n",
    "G = group_nodes(G, [n for n in G if n.name in ['Systolic BP', 'Diastolic BP']], 'Blood pressure')\n",
    "G = group_nodes(G, [n for n in G if n.name in ['TS', 'TIBC', 'Serum Iron']], 'Iron')\n",
    "G = group_nodes(G, [n for n in G if n.name in ['Serum Protein', 'Serum Albumin']], 'Blood protein')\n",
    "G.draw()"
   ]
  },
  {
   "cell_type": "code",
   "execution_count": 51,
   "metadata": {
    "collapsed": true,
    "jupyter": {
     "outputs_hidden": true
    }
   },
   "outputs": [
    {
     "name": "stdout",
     "output_type": "stream",
     "text": [
      "bg run 0\n"
     ]
    },
    {
     "name": "stderr",
     "output_type": "stream",
     "text": [
      "bruteforce sampling: 100%|██████████| 100/100 [14:51<00:00,  8.92s/it]\n"
     ]
    },
    {
     "name": "stdout",
     "output_type": "stream",
     "text": [
      "bg run 1\n"
     ]
    },
    {
     "name": "stderr",
     "output_type": "stream",
     "text": [
      "bruteforce sampling: 100%|██████████| 100/100 [15:26<00:00,  9.27s/it]\n"
     ]
    },
    {
     "name": "stdout",
     "output_type": "stream",
     "text": [
      "bg run 2\n"
     ]
    },
    {
     "name": "stderr",
     "output_type": "stream",
     "text": [
      "bruteforce sampling: 100%|██████████| 100/100 [16:00<00:00,  9.61s/it]\n"
     ]
    },
    {
     "name": "stdout",
     "output_type": "stream",
     "text": [
      "bg run 3\n"
     ]
    },
    {
     "name": "stderr",
     "output_type": "stream",
     "text": [
      "bruteforce sampling: 100%|██████████| 100/100 [15:57<00:00,  9.57s/it]\n"
     ]
    },
    {
     "name": "stdout",
     "output_type": "stream",
     "text": [
      "bg run 4\n"
     ]
    },
    {
     "name": "stderr",
     "output_type": "stream",
     "text": [
      "bruteforce sampling: 100%|██████████| 100/100 [16:01<00:00,  9.62s/it]\n"
     ]
    },
    {
     "name": "stdout",
     "output_type": "stream",
     "text": [
      "bg run 5\n"
     ]
    },
    {
     "name": "stderr",
     "output_type": "stream",
     "text": [
      "bruteforce sampling: 100%|██████████| 100/100 [15:27<00:00,  9.28s/it]\n"
     ]
    },
    {
     "name": "stdout",
     "output_type": "stream",
     "text": [
      "bg run 6\n"
     ]
    },
    {
     "name": "stderr",
     "output_type": "stream",
     "text": [
      "bruteforce sampling: 100%|██████████| 100/100 [15:12<00:00,  9.13s/it]\n"
     ]
    },
    {
     "name": "stdout",
     "output_type": "stream",
     "text": [
      "bg run 7\n"
     ]
    },
    {
     "name": "stderr",
     "output_type": "stream",
     "text": [
      "bruteforce sampling: 100%|██████████| 100/100 [15:33<00:00,  9.33s/it]\n"
     ]
    },
    {
     "name": "stdout",
     "output_type": "stream",
     "text": [
      "bg run 8\n"
     ]
    },
    {
     "name": "stderr",
     "output_type": "stream",
     "text": [
      "bruteforce sampling: 100%|██████████| 100/100 [15:43<00:00,  9.44s/it]\n"
     ]
    },
    {
     "name": "stdout",
     "output_type": "stream",
     "text": [
      "bg run 9\n"
     ]
    },
    {
     "name": "stderr",
     "output_type": "stream",
     "text": [
      "bruteforce sampling: 100%|██████████| 100/100 [14:45<00:00,  8.85s/it]\n"
     ]
    },
    {
     "name": "stdout",
     "output_type": "stream",
     "text": [
      "bg run 10\n"
     ]
    },
    {
     "name": "stderr",
     "output_type": "stream",
     "text": [
      "bruteforce sampling: 100%|██████████| 100/100 [15:03<00:00,  9.03s/it]\n"
     ]
    },
    {
     "name": "stdout",
     "output_type": "stream",
     "text": [
      "bg run 11\n"
     ]
    },
    {
     "name": "stderr",
     "output_type": "stream",
     "text": [
      "bruteforce sampling: 100%|██████████| 100/100 [14:46<00:00,  8.86s/it]\n"
     ]
    },
    {
     "name": "stdout",
     "output_type": "stream",
     "text": [
      "bg run 12\n"
     ]
    },
    {
     "name": "stderr",
     "output_type": "stream",
     "text": [
      "bruteforce sampling: 100%|██████████| 100/100 [15:44<00:00,  9.44s/it]\n"
     ]
    },
    {
     "name": "stdout",
     "output_type": "stream",
     "text": [
      "bg run 13\n"
     ]
    },
    {
     "name": "stderr",
     "output_type": "stream",
     "text": [
      "bruteforce sampling: 100%|██████████| 100/100 [15:43<00:00,  9.43s/it]\n"
     ]
    },
    {
     "name": "stdout",
     "output_type": "stream",
     "text": [
      "bg run 14\n"
     ]
    },
    {
     "name": "stderr",
     "output_type": "stream",
     "text": [
      "bruteforce sampling: 100%|██████████| 100/100 [14:39<00:00,  8.79s/it]\n"
     ]
    },
    {
     "name": "stdout",
     "output_type": "stream",
     "text": [
      "bg run 15\n"
     ]
    },
    {
     "name": "stderr",
     "output_type": "stream",
     "text": [
      "bruteforce sampling: 100%|██████████| 100/100 [15:16<00:00,  9.17s/it]\n"
     ]
    },
    {
     "name": "stdout",
     "output_type": "stream",
     "text": [
      "bg run 16\n"
     ]
    },
    {
     "name": "stderr",
     "output_type": "stream",
     "text": [
      "bruteforce sampling: 100%|██████████| 100/100 [15:38<00:00,  9.38s/it]\n"
     ]
    },
    {
     "name": "stdout",
     "output_type": "stream",
     "text": [
      "bg run 17\n"
     ]
    },
    {
     "name": "stderr",
     "output_type": "stream",
     "text": [
      "bruteforce sampling: 100%|██████████| 100/100 [14:45<00:00,  8.85s/it]\n"
     ]
    },
    {
     "name": "stdout",
     "output_type": "stream",
     "text": [
      "bg run 18\n"
     ]
    },
    {
     "name": "stderr",
     "output_type": "stream",
     "text": [
      "bruteforce sampling: 100%|██████████| 100/100 [14:47<00:00,  8.87s/it]\n"
     ]
    },
    {
     "name": "stdout",
     "output_type": "stream",
     "text": [
      "bg run 19\n"
     ]
    },
    {
     "name": "stderr",
     "output_type": "stream",
     "text": [
      "bruteforce sampling: 100%|██████████| 100/100 [15:46<00:00,  9.46s/it]\n"
     ]
    },
    {
     "name": "stdout",
     "output_type": "stream",
     "text": [
      "bg run 20\n"
     ]
    },
    {
     "name": "stderr",
     "output_type": "stream",
     "text": [
      "bruteforce sampling: 100%|██████████| 100/100 [15:09<00:00,  9.10s/it]\n"
     ]
    },
    {
     "name": "stdout",
     "output_type": "stream",
     "text": [
      "bg run 21\n"
     ]
    },
    {
     "name": "stderr",
     "output_type": "stream",
     "text": [
      "bruteforce sampling: 100%|██████████| 100/100 [16:29<00:00,  9.90s/it]\n"
     ]
    },
    {
     "name": "stdout",
     "output_type": "stream",
     "text": [
      "bg run 22\n"
     ]
    },
    {
     "name": "stderr",
     "output_type": "stream",
     "text": [
      "bruteforce sampling: 100%|██████████| 100/100 [17:54<00:00, 10.75s/it]\n"
     ]
    },
    {
     "name": "stdout",
     "output_type": "stream",
     "text": [
      "bg run 23\n"
     ]
    },
    {
     "name": "stderr",
     "output_type": "stream",
     "text": [
      "bruteforce sampling: 100%|██████████| 100/100 [16:03<00:00,  9.64s/it]\n"
     ]
    },
    {
     "name": "stdout",
     "output_type": "stream",
     "text": [
      "bg run 24\n"
     ]
    },
    {
     "name": "stderr",
     "output_type": "stream",
     "text": [
      "bruteforce sampling: 100%|██████████| 100/100 [21:17<00:00, 12.78s/it]\n"
     ]
    },
    {
     "name": "stdout",
     "output_type": "stream",
     "text": [
      "bg run 25\n"
     ]
    },
    {
     "name": "stderr",
     "output_type": "stream",
     "text": [
      "bruteforce sampling: 100%|██████████| 100/100 [18:10<00:00, 10.90s/it]\n"
     ]
    },
    {
     "name": "stdout",
     "output_type": "stream",
     "text": [
      "bg run 26\n"
     ]
    },
    {
     "name": "stderr",
     "output_type": "stream",
     "text": [
      "bruteforce sampling: 100%|██████████| 100/100 [15:14<00:00,  9.14s/it]\n"
     ]
    },
    {
     "name": "stdout",
     "output_type": "stream",
     "text": [
      "bg run 27\n"
     ]
    },
    {
     "name": "stderr",
     "output_type": "stream",
     "text": [
      "bruteforce sampling: 100%|██████████| 100/100 [15:49<00:00,  9.49s/it]\n"
     ]
    },
    {
     "name": "stdout",
     "output_type": "stream",
     "text": [
      "bg run 28\n"
     ]
    },
    {
     "name": "stderr",
     "output_type": "stream",
     "text": [
      "bruteforce sampling: 100%|██████████| 100/100 [17:31<00:00, 10.51s/it]\n"
     ]
    },
    {
     "name": "stdout",
     "output_type": "stream",
     "text": [
      "bg run 29\n"
     ]
    },
    {
     "name": "stderr",
     "output_type": "stream",
     "text": [
      "bruteforce sampling: 100%|██████████| 100/100 [19:05<00:00, 11.45s/it]\n"
     ]
    },
    {
     "name": "stdout",
     "output_type": "stream",
     "text": [
      "bg run 30\n"
     ]
    },
    {
     "name": "stderr",
     "output_type": "stream",
     "text": [
      "bruteforce sampling: 100%|██████████| 100/100 [21:44<00:00, 13.04s/it]\n"
     ]
    },
    {
     "name": "stdout",
     "output_type": "stream",
     "text": [
      "bg run 31\n"
     ]
    },
    {
     "name": "stderr",
     "output_type": "stream",
     "text": [
      "bruteforce sampling: 100%|██████████| 100/100 [16:31<00:00,  9.91s/it]\n"
     ]
    },
    {
     "name": "stdout",
     "output_type": "stream",
     "text": [
      "bg run 32\n"
     ]
    },
    {
     "name": "stderr",
     "output_type": "stream",
     "text": [
      "bruteforce sampling: 100%|██████████| 100/100 [14:34<00:00,  8.74s/it]\n"
     ]
    },
    {
     "name": "stdout",
     "output_type": "stream",
     "text": [
      "bg run 33\n"
     ]
    },
    {
     "name": "stderr",
     "output_type": "stream",
     "text": [
      "bruteforce sampling: 100%|██████████| 100/100 [16:05<00:00,  9.65s/it]\n"
     ]
    },
    {
     "name": "stdout",
     "output_type": "stream",
     "text": [
      "bg run 34\n"
     ]
    },
    {
     "name": "stderr",
     "output_type": "stream",
     "text": [
      "bruteforce sampling: 100%|██████████| 100/100 [28:27<00:00, 17.07s/it]\n"
     ]
    },
    {
     "name": "stdout",
     "output_type": "stream",
     "text": [
      "bg run 35\n"
     ]
    },
    {
     "name": "stderr",
     "output_type": "stream",
     "text": [
      "bruteforce sampling: 100%|██████████| 100/100 [28:45<00:00, 17.25s/it]\n"
     ]
    },
    {
     "name": "stdout",
     "output_type": "stream",
     "text": [
      "bg run 36\n"
     ]
    },
    {
     "name": "stderr",
     "output_type": "stream",
     "text": [
      "bruteforce sampling: 100%|██████████| 100/100 [26:21<00:00, 15.81s/it]\n"
     ]
    },
    {
     "name": "stdout",
     "output_type": "stream",
     "text": [
      "bg run 37\n"
     ]
    },
    {
     "name": "stderr",
     "output_type": "stream",
     "text": [
      "bruteforce sampling: 100%|██████████| 100/100 [19:18<00:00, 11.58s/it]\n"
     ]
    },
    {
     "name": "stdout",
     "output_type": "stream",
     "text": [
      "bg run 38\n"
     ]
    },
    {
     "name": "stderr",
     "output_type": "stream",
     "text": [
      "bruteforce sampling: 100%|██████████| 100/100 [18:24<00:00, 11.04s/it]\n"
     ]
    },
    {
     "name": "stdout",
     "output_type": "stream",
     "text": [
      "bg run 39\n"
     ]
    },
    {
     "name": "stderr",
     "output_type": "stream",
     "text": [
      "bruteforce sampling: 100%|██████████| 100/100 [19:34<00:00, 11.75s/it]\n"
     ]
    },
    {
     "name": "stdout",
     "output_type": "stream",
     "text": [
      "bg run 40\n"
     ]
    },
    {
     "name": "stderr",
     "output_type": "stream",
     "text": [
      "bruteforce sampling: 100%|██████████| 100/100 [19:19<00:00, 11.59s/it]\n"
     ]
    },
    {
     "name": "stdout",
     "output_type": "stream",
     "text": [
      "bg run 41\n"
     ]
    },
    {
     "name": "stderr",
     "output_type": "stream",
     "text": [
      "bruteforce sampling: 100%|██████████| 100/100 [19:21<00:00, 11.62s/it]\n"
     ]
    },
    {
     "name": "stdout",
     "output_type": "stream",
     "text": [
      "bg run 42\n"
     ]
    },
    {
     "name": "stderr",
     "output_type": "stream",
     "text": [
      "bruteforce sampling: 100%|██████████| 100/100 [17:04<00:00, 10.25s/it]\n"
     ]
    },
    {
     "name": "stdout",
     "output_type": "stream",
     "text": [
      "bg run 43\n"
     ]
    },
    {
     "name": "stderr",
     "output_type": "stream",
     "text": [
      "bruteforce sampling: 100%|██████████| 100/100 [14:52<00:00,  8.92s/it]\n"
     ]
    },
    {
     "name": "stdout",
     "output_type": "stream",
     "text": [
      "bg run 44\n"
     ]
    },
    {
     "name": "stderr",
     "output_type": "stream",
     "text": [
      "bruteforce sampling: 100%|██████████| 100/100 [15:47<00:00,  9.48s/it]\n"
     ]
    },
    {
     "name": "stdout",
     "output_type": "stream",
     "text": [
      "bg run 45\n"
     ]
    },
    {
     "name": "stderr",
     "output_type": "stream",
     "text": [
      "bruteforce sampling: 100%|██████████| 100/100 [14:45<00:00,  8.85s/it]\n"
     ]
    },
    {
     "name": "stdout",
     "output_type": "stream",
     "text": [
      "bg run 46\n"
     ]
    },
    {
     "name": "stderr",
     "output_type": "stream",
     "text": [
      "bruteforce sampling: 100%|██████████| 100/100 [15:54<00:00,  9.54s/it]\n"
     ]
    },
    {
     "name": "stdout",
     "output_type": "stream",
     "text": [
      "bg run 47\n"
     ]
    },
    {
     "name": "stderr",
     "output_type": "stream",
     "text": [
      "bruteforce sampling: 100%|██████████| 100/100 [16:14<00:00,  9.74s/it]\n"
     ]
    },
    {
     "name": "stdout",
     "output_type": "stream",
     "text": [
      "bg run 48\n"
     ]
    },
    {
     "name": "stderr",
     "output_type": "stream",
     "text": [
      "bruteforce sampling: 100%|██████████| 100/100 [15:56<00:00,  9.56s/it]\n"
     ]
    },
    {
     "name": "stdout",
     "output_type": "stream",
     "text": [
      "bg run 49\n"
     ]
    },
    {
     "name": "stderr",
     "output_type": "stream",
     "text": [
      "bruteforce sampling: 100%|██████████| 100/100 [15:16<00:00,  9.16s/it]\n"
     ]
    },
    {
     "name": "stdout",
     "output_type": "stream",
     "text": [
      "bg run 50\n"
     ]
    },
    {
     "name": "stderr",
     "output_type": "stream",
     "text": [
      "bruteforce sampling: 100%|██████████| 100/100 [16:10<00:00,  9.70s/it]\n"
     ]
    },
    {
     "name": "stdout",
     "output_type": "stream",
     "text": [
      "bg run 51\n"
     ]
    },
    {
     "name": "stderr",
     "output_type": "stream",
     "text": [
      "bruteforce sampling: 100%|██████████| 100/100 [16:49<00:00, 10.10s/it]\n"
     ]
    },
    {
     "name": "stdout",
     "output_type": "stream",
     "text": [
      "bg run 52\n"
     ]
    },
    {
     "name": "stderr",
     "output_type": "stream",
     "text": [
      "bruteforce sampling: 100%|██████████| 100/100 [16:54<00:00, 10.15s/it]\n"
     ]
    },
    {
     "name": "stdout",
     "output_type": "stream",
     "text": [
      "bg run 53\n"
     ]
    },
    {
     "name": "stderr",
     "output_type": "stream",
     "text": [
      "bruteforce sampling: 100%|██████████| 100/100 [17:01<00:00, 10.21s/it]\n"
     ]
    },
    {
     "name": "stdout",
     "output_type": "stream",
     "text": [
      "bg run 54\n"
     ]
    },
    {
     "name": "stderr",
     "output_type": "stream",
     "text": [
      "bruteforce sampling: 100%|██████████| 100/100 [18:52<00:00, 11.32s/it]\n"
     ]
    },
    {
     "name": "stdout",
     "output_type": "stream",
     "text": [
      "bg run 55\n"
     ]
    },
    {
     "name": "stderr",
     "output_type": "stream",
     "text": [
      "bruteforce sampling: 100%|██████████| 100/100 [19:29<00:00, 11.70s/it]\n"
     ]
    },
    {
     "name": "stdout",
     "output_type": "stream",
     "text": [
      "bg run 56\n"
     ]
    },
    {
     "name": "stderr",
     "output_type": "stream",
     "text": [
      "bruteforce sampling: 100%|██████████| 100/100 [18:46<00:00, 11.26s/it]\n"
     ]
    },
    {
     "name": "stdout",
     "output_type": "stream",
     "text": [
      "bg run 57\n"
     ]
    },
    {
     "name": "stderr",
     "output_type": "stream",
     "text": [
      "bruteforce sampling: 100%|██████████| 100/100 [18:17<00:00, 10.98s/it]\n"
     ]
    },
    {
     "name": "stdout",
     "output_type": "stream",
     "text": [
      "bg run 58\n"
     ]
    },
    {
     "name": "stderr",
     "output_type": "stream",
     "text": [
      "bruteforce sampling: 100%|██████████| 100/100 [17:31<00:00, 10.52s/it]\n"
     ]
    },
    {
     "name": "stdout",
     "output_type": "stream",
     "text": [
      "bg run 59\n"
     ]
    },
    {
     "name": "stderr",
     "output_type": "stream",
     "text": [
      "bruteforce sampling: 100%|██████████| 100/100 [15:19<00:00,  9.20s/it]\n"
     ]
    },
    {
     "name": "stdout",
     "output_type": "stream",
     "text": [
      "bg run 60\n"
     ]
    },
    {
     "name": "stderr",
     "output_type": "stream",
     "text": [
      "bruteforce sampling: 100%|██████████| 100/100 [16:01<00:00,  9.61s/it]\n"
     ]
    },
    {
     "name": "stdout",
     "output_type": "stream",
     "text": [
      "bg run 61\n"
     ]
    },
    {
     "name": "stderr",
     "output_type": "stream",
     "text": [
      "bruteforce sampling: 100%|██████████| 100/100 [15:08<00:00,  9.09s/it]\n"
     ]
    },
    {
     "name": "stdout",
     "output_type": "stream",
     "text": [
      "bg run 62\n"
     ]
    },
    {
     "name": "stderr",
     "output_type": "stream",
     "text": [
      "bruteforce sampling: 100%|██████████| 100/100 [16:23<00:00,  9.84s/it]\n"
     ]
    },
    {
     "name": "stdout",
     "output_type": "stream",
     "text": [
      "bg run 63\n"
     ]
    },
    {
     "name": "stderr",
     "output_type": "stream",
     "text": [
      "bruteforce sampling: 100%|██████████| 100/100 [16:14<00:00,  9.74s/it]\n"
     ]
    },
    {
     "name": "stdout",
     "output_type": "stream",
     "text": [
      "bg run 64\n"
     ]
    },
    {
     "name": "stderr",
     "output_type": "stream",
     "text": [
      "bruteforce sampling: 100%|██████████| 100/100 [15:07<00:00,  9.08s/it]\n"
     ]
    },
    {
     "name": "stdout",
     "output_type": "stream",
     "text": [
      "bg run 65\n"
     ]
    },
    {
     "name": "stderr",
     "output_type": "stream",
     "text": [
      "bruteforce sampling: 100%|██████████| 100/100 [16:16<00:00,  9.76s/it]\n"
     ]
    },
    {
     "name": "stdout",
     "output_type": "stream",
     "text": [
      "bg run 66\n"
     ]
    },
    {
     "name": "stderr",
     "output_type": "stream",
     "text": [
      "bruteforce sampling: 100%|██████████| 100/100 [16:04<00:00,  9.64s/it]\n"
     ]
    },
    {
     "name": "stdout",
     "output_type": "stream",
     "text": [
      "bg run 67\n"
     ]
    },
    {
     "name": "stderr",
     "output_type": "stream",
     "text": [
      "bruteforce sampling: 100%|██████████| 100/100 [15:10<00:00,  9.11s/it]\n"
     ]
    },
    {
     "name": "stdout",
     "output_type": "stream",
     "text": [
      "bg run 68\n"
     ]
    },
    {
     "name": "stderr",
     "output_type": "stream",
     "text": [
      "bruteforce sampling: 100%|██████████| 100/100 [15:57<00:00,  9.57s/it]\n"
     ]
    },
    {
     "name": "stdout",
     "output_type": "stream",
     "text": [
      "bg run 69\n"
     ]
    },
    {
     "name": "stderr",
     "output_type": "stream",
     "text": [
      "bruteforce sampling: 100%|██████████| 100/100 [15:06<00:00,  9.06s/it]\n"
     ]
    },
    {
     "name": "stdout",
     "output_type": "stream",
     "text": [
      "bg run 70\n"
     ]
    },
    {
     "name": "stderr",
     "output_type": "stream",
     "text": [
      "bruteforce sampling: 100%|██████████| 100/100 [16:17<00:00,  9.78s/it]\n"
     ]
    },
    {
     "name": "stdout",
     "output_type": "stream",
     "text": [
      "bg run 71\n"
     ]
    },
    {
     "name": "stderr",
     "output_type": "stream",
     "text": [
      "bruteforce sampling: 100%|██████████| 100/100 [14:42<00:00,  8.83s/it]\n"
     ]
    },
    {
     "name": "stdout",
     "output_type": "stream",
     "text": [
      "bg run 72\n"
     ]
    },
    {
     "name": "stderr",
     "output_type": "stream",
     "text": [
      "bruteforce sampling: 100%|██████████| 100/100 [15:48<00:00,  9.48s/it]\n"
     ]
    },
    {
     "name": "stdout",
     "output_type": "stream",
     "text": [
      "bg run 73\n"
     ]
    },
    {
     "name": "stderr",
     "output_type": "stream",
     "text": [
      "bruteforce sampling: 100%|██████████| 100/100 [15:56<00:00,  9.57s/it]\n"
     ]
    },
    {
     "name": "stdout",
     "output_type": "stream",
     "text": [
      "bg run 74\n"
     ]
    },
    {
     "name": "stderr",
     "output_type": "stream",
     "text": [
      "bruteforce sampling: 100%|██████████| 100/100 [15:56<00:00,  9.56s/it]\n"
     ]
    },
    {
     "name": "stdout",
     "output_type": "stream",
     "text": [
      "bg run 75\n"
     ]
    },
    {
     "name": "stderr",
     "output_type": "stream",
     "text": [
      "bruteforce sampling: 100%|██████████| 100/100 [16:07<00:00,  9.67s/it]\n"
     ]
    },
    {
     "name": "stdout",
     "output_type": "stream",
     "text": [
      "bg run 76\n"
     ]
    },
    {
     "name": "stderr",
     "output_type": "stream",
     "text": [
      "bruteforce sampling: 100%|██████████| 100/100 [15:59<00:00,  9.60s/it]\n"
     ]
    },
    {
     "name": "stdout",
     "output_type": "stream",
     "text": [
      "bg run 77\n"
     ]
    },
    {
     "name": "stderr",
     "output_type": "stream",
     "text": [
      "bruteforce sampling: 100%|██████████| 100/100 [16:10<00:00,  9.71s/it]\n"
     ]
    },
    {
     "name": "stdout",
     "output_type": "stream",
     "text": [
      "bg run 78\n"
     ]
    },
    {
     "name": "stderr",
     "output_type": "stream",
     "text": [
      "bruteforce sampling: 100%|██████████| 100/100 [15:30<00:00,  9.31s/it]\n"
     ]
    },
    {
     "name": "stdout",
     "output_type": "stream",
     "text": [
      "bg run 79\n"
     ]
    },
    {
     "name": "stderr",
     "output_type": "stream",
     "text": [
      "bruteforce sampling: 100%|██████████| 100/100 [15:02<00:00,  9.03s/it]\n"
     ]
    },
    {
     "name": "stdout",
     "output_type": "stream",
     "text": [
      "bg run 80\n"
     ]
    },
    {
     "name": "stderr",
     "output_type": "stream",
     "text": [
      "bruteforce sampling: 100%|██████████| 100/100 [15:48<00:00,  9.49s/it]\n"
     ]
    },
    {
     "name": "stdout",
     "output_type": "stream",
     "text": [
      "bg run 81\n"
     ]
    },
    {
     "name": "stderr",
     "output_type": "stream",
     "text": [
      "bruteforce sampling: 100%|██████████| 100/100 [16:15<00:00,  9.76s/it]\n"
     ]
    },
    {
     "name": "stdout",
     "output_type": "stream",
     "text": [
      "bg run 82\n"
     ]
    },
    {
     "name": "stderr",
     "output_type": "stream",
     "text": [
      "bruteforce sampling: 100%|██████████| 100/100 [16:08<00:00,  9.68s/it]\n"
     ]
    },
    {
     "name": "stdout",
     "output_type": "stream",
     "text": [
      "bg run 83\n"
     ]
    },
    {
     "name": "stderr",
     "output_type": "stream",
     "text": [
      "bruteforce sampling: 100%|██████████| 100/100 [16:04<00:00,  9.64s/it]\n"
     ]
    },
    {
     "name": "stdout",
     "output_type": "stream",
     "text": [
      "bg run 84\n"
     ]
    },
    {
     "name": "stderr",
     "output_type": "stream",
     "text": [
      "bruteforce sampling: 100%|██████████| 100/100 [14:53<00:00,  8.94s/it]\n"
     ]
    },
    {
     "name": "stdout",
     "output_type": "stream",
     "text": [
      "bg run 85\n"
     ]
    },
    {
     "name": "stderr",
     "output_type": "stream",
     "text": [
      "bruteforce sampling: 100%|██████████| 100/100 [15:47<00:00,  9.47s/it]\n"
     ]
    },
    {
     "name": "stdout",
     "output_type": "stream",
     "text": [
      "bg run 86\n"
     ]
    },
    {
     "name": "stderr",
     "output_type": "stream",
     "text": [
      "bruteforce sampling: 100%|██████████| 100/100 [15:53<00:00,  9.53s/it]\n"
     ]
    },
    {
     "name": "stdout",
     "output_type": "stream",
     "text": [
      "bg run 87\n"
     ]
    },
    {
     "name": "stderr",
     "output_type": "stream",
     "text": [
      "bruteforce sampling: 100%|██████████| 100/100 [15:31<00:00,  9.31s/it]\n"
     ]
    },
    {
     "name": "stdout",
     "output_type": "stream",
     "text": [
      "bg run 88\n"
     ]
    },
    {
     "name": "stderr",
     "output_type": "stream",
     "text": [
      "bruteforce sampling: 100%|██████████| 100/100 [15:10<00:00,  9.11s/it]\n"
     ]
    },
    {
     "name": "stdout",
     "output_type": "stream",
     "text": [
      "bg run 89\n"
     ]
    },
    {
     "name": "stderr",
     "output_type": "stream",
     "text": [
      "bruteforce sampling: 100%|██████████| 100/100 [14:39<00:00,  8.79s/it]\n"
     ]
    },
    {
     "name": "stdout",
     "output_type": "stream",
     "text": [
      "bg run 90\n"
     ]
    },
    {
     "name": "stderr",
     "output_type": "stream",
     "text": [
      "bruteforce sampling: 100%|██████████| 100/100 [15:45<00:00,  9.45s/it]\n"
     ]
    },
    {
     "name": "stdout",
     "output_type": "stream",
     "text": [
      "bg run 91\n"
     ]
    },
    {
     "name": "stderr",
     "output_type": "stream",
     "text": [
      "bruteforce sampling: 100%|██████████| 100/100 [15:46<00:00,  9.46s/it]\n"
     ]
    },
    {
     "name": "stdout",
     "output_type": "stream",
     "text": [
      "bg run 92\n"
     ]
    },
    {
     "name": "stderr",
     "output_type": "stream",
     "text": [
      "bruteforce sampling: 100%|██████████| 100/100 [14:52<00:00,  8.93s/it]\n"
     ]
    },
    {
     "name": "stdout",
     "output_type": "stream",
     "text": [
      "bg run 93\n"
     ]
    },
    {
     "name": "stderr",
     "output_type": "stream",
     "text": [
      "bruteforce sampling: 100%|██████████| 100/100 [16:09<00:00,  9.69s/it]\n"
     ]
    },
    {
     "name": "stdout",
     "output_type": "stream",
     "text": [
      "bg run 94\n"
     ]
    },
    {
     "name": "stderr",
     "output_type": "stream",
     "text": [
      "bruteforce sampling: 100%|██████████| 100/100 [15:29<00:00,  9.30s/it]\n"
     ]
    },
    {
     "name": "stdout",
     "output_type": "stream",
     "text": [
      "bg run 95\n"
     ]
    },
    {
     "name": "stderr",
     "output_type": "stream",
     "text": [
      "bruteforce sampling: 100%|██████████| 100/100 [16:11<00:00,  9.72s/it]\n"
     ]
    },
    {
     "name": "stdout",
     "output_type": "stream",
     "text": [
      "bg run 96\n"
     ]
    },
    {
     "name": "stderr",
     "output_type": "stream",
     "text": [
      "bruteforce sampling: 100%|██████████| 100/100 [17:03<00:00, 10.23s/it]\n"
     ]
    },
    {
     "name": "stdout",
     "output_type": "stream",
     "text": [
      "bg run 97\n"
     ]
    },
    {
     "name": "stderr",
     "output_type": "stream",
     "text": [
      "bruteforce sampling: 100%|██████████| 100/100 [16:36<00:00,  9.97s/it]\n"
     ]
    },
    {
     "name": "stdout",
     "output_type": "stream",
     "text": [
      "bg run 98\n"
     ]
    },
    {
     "name": "stderr",
     "output_type": "stream",
     "text": [
      "bruteforce sampling: 100%|██████████| 100/100 [17:32<00:00, 10.52s/it]\n"
     ]
    },
    {
     "name": "stdout",
     "output_type": "stream",
     "text": [
      "bg run 99\n"
     ]
    },
    {
     "name": "stderr",
     "output_type": "stream",
     "text": [
      "bruteforce sampling: 100%|██████████| 100/100 [16:40<00:00, 10.00s/it]\n"
     ]
    }
   ],
   "source": [
    "# multiple baseline result\n",
    "causal_edge_credit = defaultdict(lambda: defaultdict(int))\n",
    "for i in range(len(bg)):\n",
    "    print(f'bg run {i}')\n",
    "    E = GraphExplainer(causal_graph, bg[i:i+1])\n",
    "    E.prepare_graph(X) # add noise node\n",
    "    G = copy.deepcopy(E.graph) # group happens after noise node b/c the grouped nodes combines individual noise node\n",
    "    G = group_nodes(G, [n for n in G if n.name in ['White blood cells', 'Sedimentation rate']], 'Inflamation')\n",
    "    G = group_nodes(G, [n for n in G if n.name in ['Systolic BP', 'Diastolic BP']], 'Blood pressure')\n",
    "    G = group_nodes(G, [n for n in G if n.name in ['TS', 'TIBC', 'Serum Iron']], 'Iron')\n",
    "    G = group_nodes(G, [n for n in G if n.name in ['Serum Protein', 'Serum Albumin']], 'Blood protein')\n",
    "    \n",
    "    explainer = GraphExplainer(G, bg[i:i+1], nruns=nruns) \n",
    "    cf_c = explainer.shap_values(X[:nsamples], skip_prepare=True)\n",
    "\n",
    "    # combine credits\n",
    "    for node1, d in cf_c.edge_credit.items():\n",
    "        for node2, val in d.items():\n",
    "            a = causal_edge_credit[node1.name][node2.name]\n",
    "            b = cf_c.edge_credit[node1][node2]\n",
    "            causal_edge_credit[node1.name][node2.name] = (a * i + b) / (i + 1)\n",
    "\n",
    "# need to do this because draw expect node based dict, not str based dict\n",
    "causal_edge_credit = convert2node_dict(causal_edge_credit, explainer.graph)"
   ]
  },
  {
   "cell_type": "code",
   "execution_count": 53,
   "metadata": {},
   "outputs": [],
   "source": [
    "cf_c.edge_credit = causal_edge_credit\n",
    "dill.dump(cf_c, open('nutrition_causal_100_baselines.pkl', 'wb'))\n",
    "dill.dump(cf_on_manifold, open('nutrition_manifold_100_baselines.pkl', 'wb'))\n",
    "dill.dump(cf, open('nutrition_ind_100_baselines.pkl', 'wb'))"
   ]
  },
  {
   "cell_type": "code",
   "execution_count": 55,
   "metadata": {},
   "outputs": [
    {
     "data": {
      "image/svg+xml": [
       "<?xml version=\"1.0\" encoding=\"UTF-8\" standalone=\"no\"?>\n",
       "<!DOCTYPE svg PUBLIC \"-//W3C//DTD SVG 1.1//EN\"\n",
       " \"http://www.w3.org/Graphics/SVG/1.1/DTD/svg11.dtd\">\n",
       "<!-- Generated by graphviz version 2.38.0 (20140413.2041)\n",
       " -->\n",
       "<!-- Title: %3 Pages: 1 -->\n",
       "<svg width=\"2056pt\" height=\"521pt\"\n",
       " viewBox=\"0.00 0.00 2055.84 521.00\" xmlns=\"http://www.w3.org/2000/svg\" xmlns:xlink=\"http://www.w3.org/1999/xlink\">\n",
       "<g id=\"graph0\" class=\"graph\" transform=\"scale(1 1) rotate(0) translate(4 517)\">\n",
       "<title>%3</title>\n",
       "<polygon fill=\"white\" stroke=\"none\" points=\"-4,4 -4,-517 2051.84,-517 2051.84,4 -4,4\"/>\n",
       "<!-- Serum Cholesterol -->\n",
       "<g id=\"node1\" class=\"node\"><title>Serum Cholesterol</title>\n",
       "<ellipse fill=\"none\" stroke=\"black\" cx=\"1168.84\" cy=\"-321\" rx=\"77.1866\" ry=\"18\"/>\n",
       "<text text-anchor=\"middle\" x=\"1168.84\" y=\"-317.3\" font-family=\"Times,serif\" font-size=\"14.00\">Serum Cholesterol</text>\n",
       "</g>\n",
       "<!-- predicted hazard -->\n",
       "<g id=\"node2\" class=\"node\"><title>predicted hazard</title>\n",
       "<ellipse fill=\"none\" stroke=\"black\" cx=\"250.844\" cy=\"-18\" rx=\"69.5877\" ry=\"18\"/>\n",
       "<text text-anchor=\"middle\" x=\"250.844\" y=\"-14.3\" font-family=\"Times,serif\" font-size=\"14.00\">predicted hazard</text>\n",
       "</g>\n",
       "<!-- Serum Cholesterol&#45;&gt;predicted hazard -->\n",
       "<g id=\"edge1\" class=\"edge\"><title>Serum Cholesterol&#45;&gt;predicted hazard</title>\n",
       "<path fill=\"none\" stroke=\"#008bfb\" stroke-width=\"0.112924\" d=\"M1134.02,-304.808C1125.86,-299.659 1118.05,-293.105 1112.84,-285 1078.12,-230.884 1056.06,-189.003 1098.84,-141 1145.28,-88.8969 1208.41,-175.103 1254.84,-123 1282.67,-91.7745 1231.3,-64.6173 1190.84,-54 1108.86,-32.4858 541.682,-22.8482 330.148,-19.9731\"/>\n",
       "<polygon fill=\"#008bfb\" stroke=\"#008bfb\" stroke-width=\"0.112924\" points=\"330.091,-16.4721 320.045,-19.8372 329.997,-23.4715 330.091,-16.4721\"/>\n",
       "<text text-anchor=\"middle\" x=\"1113.34\" y=\"-155.3\" font-family=\"Times,serif\" font-size=\"14.00\" fill=\"#008bfb\">&#45;0.00</text>\n",
       "</g>\n",
       "<!-- Poverty index -->\n",
       "<g id=\"node3\" class=\"node\"><title>Poverty index</title>\n",
       "<ellipse fill=\"none\" stroke=\"black\" cx=\"1168.84\" cy=\"-408\" rx=\"59.5901\" ry=\"18\"/>\n",
       "<text text-anchor=\"middle\" x=\"1168.84\" y=\"-404.3\" font-family=\"Times,serif\" font-size=\"14.00\">Poverty index</text>\n",
       "</g>\n",
       "<!-- Poverty index&#45;&gt;Serum Cholesterol -->\n",
       "<g id=\"edge2\" class=\"edge\"><title>Poverty index&#45;&gt;Serum Cholesterol</title>\n",
       "<path fill=\"none\" stroke=\"#ff0051\" stroke-width=\"0.0503544\" d=\"M1168.84,-389.799C1168.84,-378.163 1168.84,-362.548 1168.84,-349.237\"/>\n",
       "<polygon fill=\"#ff0051\" stroke=\"#ff0051\" stroke-width=\"0.0503544\" points=\"1172.34,-349.175 1168.84,-339.175 1165.34,-349.175 1172.34,-349.175\"/>\n",
       "<text text-anchor=\"middle\" x=\"1181.34\" y=\"-360.8\" font-family=\"Times,serif\" font-size=\"14.00\" fill=\"#ff0051\">0.00</text>\n",
       "</g>\n",
       "<!-- Poverty index&#45;&gt;predicted hazard -->\n",
       "<g id=\"edge3\" class=\"edge\"><title>Poverty index&#45;&gt;predicted hazard</title>\n",
       "<path fill=\"none\" stroke=\"#008bfb\" stroke-width=\"1.39768\" d=\"M1113.72,-401.02C1058.14,-394.508 976.448,-383.478 946.844,-372 922.019,-362.375 917.7,-355.553 896.844,-339 878.622,-324.537 879.003,-314.613 858.844,-303 834.351,-288.89 814.769,-307.64 797.844,-285 788.264,-272.185 788.236,-261.794 797.844,-249 815.075,-226.056 840.665,-252.342 859.844,-231 887.001,-200.782 849.121,-171.601 875.844,-141 893.041,-121.309 916.444,-144.126 931.844,-123 941.269,-110.071 941.18,-99.9942 931.844,-87 905.029,-49.6754 878.955,-62.7873 833.844,-54 739.694,-35.66 466.278,-25.3116 329.991,-21.1596\"/>\n",
       "<polygon fill=\"#008bfb\" stroke=\"#008bfb\" stroke-width=\"1.39768\" points=\"329.725,-17.6501 319.624,-20.8476 329.515,-24.6469 329.725,-17.6501\"/>\n",
       "<text text-anchor=\"middle\" x=\"885.344\" y=\"-209.3\" font-family=\"Times,serif\" font-size=\"14.00\" fill=\"#008bfb\">&#45;0.03</text>\n",
       "</g>\n",
       "<!-- Red blood cells -->\n",
       "<g id=\"node4\" class=\"node\"><title>Red blood cells</title>\n",
       "<ellipse fill=\"none\" stroke=\"black\" cx=\"986.844\" cy=\"-267\" rx=\"65.7887\" ry=\"18\"/>\n",
       "<text text-anchor=\"middle\" x=\"986.844\" y=\"-263.3\" font-family=\"Times,serif\" font-size=\"14.00\">Red blood cells</text>\n",
       "</g>\n",
       "<!-- Poverty index&#45;&gt;Red blood cells -->\n",
       "<g id=\"edge4\" class=\"edge\"><title>Poverty index&#45;&gt;Red blood cells</title>\n",
       "<path fill=\"none\" stroke=\"#008bfb\" stroke-width=\"0.0500767\" d=\"M1119.11,-397.934C1084.02,-388.932 1038.64,-371.573 1011.84,-339 1001.49,-326.413 995.29,-309.237 991.655,-294.932\"/>\n",
       "<polygon fill=\"#008bfb\" stroke=\"#008bfb\" stroke-width=\"0.0500767\" points=\"995.058,-294.112 989.439,-285.13 988.23,-295.655 995.058,-294.112\"/>\n",
       "<text text-anchor=\"middle\" x=\"1067.34\" y=\"-360.8\" font-family=\"Times,serif\" font-size=\"14.00\" fill=\"#008bfb\">&#45;0.00</text>\n",
       "</g>\n",
       "<!-- Blood pressure -->\n",
       "<g id=\"node5\" class=\"node\"><title>Blood pressure</title>\n",
       "<ellipse fill=\"none\" stroke=\"black\" cx=\"785.844\" cy=\"-321\" rx=\"63.8893\" ry=\"18\"/>\n",
       "<text text-anchor=\"middle\" x=\"785.844\" y=\"-317.3\" font-family=\"Times,serif\" font-size=\"14.00\">Blood pressure</text>\n",
       "</g>\n",
       "<!-- Poverty index&#45;&gt;Blood pressure -->\n",
       "<g id=\"edge5\" class=\"edge\"><title>Poverty index&#45;&gt;Blood pressure</title>\n",
       "<path fill=\"none\" stroke=\"#008bfb\" stroke-width=\"0.088821\" d=\"M1108.84,-407.237C1050.86,-405.693 961.41,-398.581 888.844,-372 877.385,-367.802 876.583,-362.799 865.844,-357 854.798,-351.035 842.527,-345.266 830.979,-340.191\"/>\n",
       "<polygon fill=\"#008bfb\" stroke=\"#008bfb\" stroke-width=\"0.088821\" points=\"832.061,-336.846 821.492,-336.103 829.29,-343.275 832.061,-336.846\"/>\n",
       "<text text-anchor=\"middle\" x=\"903.344\" y=\"-360.8\" font-family=\"Times,serif\" font-size=\"14.00\" fill=\"#008bfb\">&#45;0.00</text>\n",
       "</g>\n",
       "<!-- BMI -->\n",
       "<g id=\"node6\" class=\"node\"><title>BMI</title>\n",
       "<ellipse fill=\"none\" stroke=\"black\" cx=\"179.844\" cy=\"-321\" rx=\"27.8951\" ry=\"18\"/>\n",
       "<text text-anchor=\"middle\" x=\"179.844\" y=\"-317.3\" font-family=\"Times,serif\" font-size=\"14.00\">BMI</text>\n",
       "</g>\n",
       "<!-- Poverty index&#45;&gt;BMI -->\n",
       "<g id=\"edge6\" class=\"edge\"><title>Poverty index&#45;&gt;BMI</title>\n",
       "<path fill=\"none\" stroke=\"#ff0051\" stroke-width=\"0.0667382\" d=\"M1110.33,-404.109C1011.02,-399.002 803.17,-387.447 627.844,-372 475.208,-358.552 293.997,-336.428 217.202,-326.765\"/>\n",
       "<polygon fill=\"#ff0051\" stroke=\"#ff0051\" stroke-width=\"0.0667382\" points=\"217.432,-323.266 207.073,-325.486 216.555,-330.211 217.432,-323.266\"/>\n",
       "<text text-anchor=\"middle\" x=\"640.344\" y=\"-360.8\" font-family=\"Times,serif\" font-size=\"14.00\" fill=\"#ff0051\">0.00</text>\n",
       "</g>\n",
       "<!-- Serum Magnesium -->\n",
       "<g id=\"node7\" class=\"node\"><title>Serum Magnesium</title>\n",
       "<ellipse fill=\"none\" stroke=\"black\" cx=\"1764.84\" cy=\"-321\" rx=\"79.0865\" ry=\"18\"/>\n",
       "<text text-anchor=\"middle\" x=\"1764.84\" y=\"-317.3\" font-family=\"Times,serif\" font-size=\"14.00\">Serum Magnesium</text>\n",
       "</g>\n",
       "<!-- Poverty index&#45;&gt;Serum Magnesium -->\n",
       "<g id=\"edge7\" class=\"edge\"><title>Poverty index&#45;&gt;Serum Magnesium</title>\n",
       "<path fill=\"none\" stroke=\"#008bfb\" stroke-width=\"0.0506093\" d=\"M1213.7,-395.966C1223.29,-393.814 1233.37,-391.701 1242.84,-390 1397.8,-362.175 1580.58,-341.007 1683.57,-330.136\"/>\n",
       "<polygon fill=\"#008bfb\" stroke=\"#008bfb\" stroke-width=\"0.0506093\" points=\"1684.01,-333.609 1693.59,-329.084 1683.28,-326.647 1684.01,-333.609\"/>\n",
       "<text text-anchor=\"middle\" x=\"1471.34\" y=\"-360.8\" font-family=\"Times,serif\" font-size=\"14.00\" fill=\"#008bfb\">&#45;0.00</text>\n",
       "</g>\n",
       "<!-- Iron -->\n",
       "<g id=\"node8\" class=\"node\"><title>Iron</title>\n",
       "<ellipse fill=\"none\" stroke=\"black\" cx=\"932.844\" cy=\"-321\" rx=\"27\" ry=\"18\"/>\n",
       "<text text-anchor=\"middle\" x=\"932.844\" y=\"-317.3\" font-family=\"Times,serif\" font-size=\"14.00\">Iron</text>\n",
       "</g>\n",
       "<!-- Poverty index&#45;&gt;Iron -->\n",
       "<g id=\"edge8\" class=\"edge\"><title>Poverty index&#45;&gt;Iron</title>\n",
       "<path fill=\"none\" stroke=\"#008bfb\" stroke-width=\"0.112279\" d=\"M1111.79,-402.238C1060.37,-397.047 989.341,-387.364 965.844,-372 956.704,-366.024 949.51,-356.538 944.204,-347.428\"/>\n",
       "<polygon fill=\"#008bfb\" stroke=\"#008bfb\" stroke-width=\"0.112279\" points=\"947.295,-345.787 939.524,-338.586 941.108,-349.062 947.295,-345.787\"/>\n",
       "<text text-anchor=\"middle\" x=\"980.344\" y=\"-360.8\" font-family=\"Times,serif\" font-size=\"14.00\" fill=\"#008bfb\">&#45;0.00</text>\n",
       "</g>\n",
       "<!-- Inflamation -->\n",
       "<g id=\"node9\" class=\"node\"><title>Inflamation</title>\n",
       "<ellipse fill=\"none\" stroke=\"black\" cx=\"500.844\" cy=\"-321\" rx=\"51.9908\" ry=\"18\"/>\n",
       "<text text-anchor=\"middle\" x=\"500.844\" y=\"-317.3\" font-family=\"Times,serif\" font-size=\"14.00\">Inflamation</text>\n",
       "</g>\n",
       "<!-- Poverty index&#45;&gt;Inflamation -->\n",
       "<g id=\"edge9\" class=\"edge\"><title>Poverty index&#45;&gt;Inflamation</title>\n",
       "<path fill=\"none\" stroke=\"#008bfb\" stroke-width=\"0.0617406\" d=\"M1110.04,-404.462C1026.84,-400.364 870.148,-390.778 737.844,-372 665.095,-361.674 647.679,-354.456 575.844,-339 568.402,-337.399 560.555,-335.668 552.852,-333.944\"/>\n",
       "<polygon fill=\"#008bfb\" stroke=\"#008bfb\" stroke-width=\"0.0617406\" points=\"553.38,-330.475 542.855,-331.693 551.843,-337.304 553.38,-330.475\"/>\n",
       "<text text-anchor=\"middle\" x=\"752.344\" y=\"-360.8\" font-family=\"Times,serif\" font-size=\"14.00\" fill=\"#008bfb\">&#45;0.00</text>\n",
       "</g>\n",
       "<!-- Blood protein -->\n",
       "<g id=\"node10\" class=\"node\"><title>Blood protein</title>\n",
       "<ellipse fill=\"none\" stroke=\"black\" cx=\"644.844\" cy=\"-321\" rx=\"59.5901\" ry=\"18\"/>\n",
       "<text text-anchor=\"middle\" x=\"644.844\" y=\"-317.3\" font-family=\"Times,serif\" font-size=\"14.00\">Blood protein</text>\n",
       "</g>\n",
       "<!-- Poverty index&#45;&gt;Blood protein -->\n",
       "<g id=\"edge10\" class=\"edge\"><title>Poverty index&#45;&gt;Blood protein</title>\n",
       "<path fill=\"none\" stroke=\"#008bfb\" stroke-width=\"0.0668497\" d=\"M1110.48,-403.694C1043.15,-399.24 929.317,-389.741 832.844,-372 785.277,-363.253 732.099,-348.646 694.472,-337.472\"/>\n",
       "<polygon fill=\"#008bfb\" stroke=\"#008bfb\" stroke-width=\"0.0668497\" points=\"695.356,-334.083 684.772,-334.566 693.347,-340.789 695.356,-334.083\"/>\n",
       "<text text-anchor=\"middle\" x=\"847.344\" y=\"-360.8\" font-family=\"Times,serif\" font-size=\"14.00\" fill=\"#008bfb\">&#45;0.00</text>\n",
       "</g>\n",
       "<!-- Red blood cells&#45;&gt;predicted hazard -->\n",
       "<g id=\"edge11\" class=\"edge\"><title>Red blood cells&#45;&gt;predicted hazard</title>\n",
       "<path fill=\"none\" stroke=\"#008bfb\" stroke-width=\"0.0531578\" d=\"M1004.77,-249.4C1009.88,-243.937 1015.07,-237.569 1018.84,-231 1039.7,-194.67 1014.32,-167.4 1046.84,-141 1079.77,-114.272 1208.3,-154.372 1236.84,-123 1247.61,-111.165 1246.28,-99.9249 1236.84,-87 1208.51,-48.1687 1181.18,-62.3616 1133.84,-54 980.858,-26.9765 517.301,-20.8052 330.311,-19.4061\"/>\n",
       "<polygon fill=\"#008bfb\" stroke=\"#008bfb\" stroke-width=\"0.0531578\" points=\"330.299,-15.906 320.274,-19.3336 330.249,-22.9059 330.299,-15.906\"/>\n",
       "<text text-anchor=\"middle\" x=\"1061.34\" y=\"-155.3\" font-family=\"Times,serif\" font-size=\"14.00\" fill=\"#008bfb\">&#45;0.00</text>\n",
       "</g>\n",
       "<!-- Systolic BP -->\n",
       "<g id=\"node11\" class=\"node\"><title>Systolic BP</title>\n",
       "<ellipse fill=\"none\" stroke=\"black\" cx=\"798.844\" cy=\"-213\" rx=\"51.9908\" ry=\"18\"/>\n",
       "<text text-anchor=\"middle\" x=\"798.844\" y=\"-209.3\" font-family=\"Times,serif\" font-size=\"14.00\">Systolic BP</text>\n",
       "</g>\n",
       "<!-- Blood pressure&#45;&gt;Systolic BP -->\n",
       "<g id=\"edge12\" class=\"edge\"><title>Blood pressure&#45;&gt;Systolic BP</title>\n",
       "<path fill=\"none\" stroke=\"#008bfb\" stroke-width=\"2.99161\" d=\"M749.359,-306.151C740.429,-300.93 731.972,-294.004 726.844,-285 718.926,-271.097 718.357,-262.563 726.844,-249 732.208,-240.429 740.338,-233.902 749.228,-228.951\"/>\n",
       "<polygon fill=\"#008bfb\" stroke=\"#008bfb\" stroke-width=\"2.99161\" points=\"750.858,-232.05 758.298,-224.507 747.778,-225.764 750.858,-232.05\"/>\n",
       "<text text-anchor=\"middle\" x=\"741.344\" y=\"-263.3\" font-family=\"Times,serif\" font-size=\"14.00\" fill=\"#008bfb\">&#45;0.06</text>\n",
       "</g>\n",
       "<!-- Diastolic BP -->\n",
       "<g id=\"node12\" class=\"node\"><title>Diastolic BP</title>\n",
       "<ellipse fill=\"none\" stroke=\"black\" cx=\"672.844\" cy=\"-213\" rx=\"55.7903\" ry=\"18\"/>\n",
       "<text text-anchor=\"middle\" x=\"672.844\" y=\"-209.3\" font-family=\"Times,serif\" font-size=\"14.00\">Diastolic BP</text>\n",
       "</g>\n",
       "<!-- Blood pressure&#45;&gt;Diastolic BP -->\n",
       "<g id=\"edge13\" class=\"edge\"><title>Blood pressure&#45;&gt;Diastolic BP</title>\n",
       "<path fill=\"none\" stroke=\"#008bfb\" stroke-width=\"0.734083\" d=\"M740.16,-308.33C718.249,-301.843 695.184,-293.402 687.844,-285 677.541,-273.205 673.707,-256.123 672.489,-241.67\"/>\n",
       "<polygon fill=\"#008bfb\" stroke=\"#008bfb\" stroke-width=\"0.734083\" points=\"675.966,-241.088 672.004,-231.262 668.974,-241.414 675.966,-241.088\"/>\n",
       "<text text-anchor=\"middle\" x=\"702.344\" y=\"-263.3\" font-family=\"Times,serif\" font-size=\"14.00\" fill=\"#008bfb\">&#45;0.01</text>\n",
       "</g>\n",
       "<!-- BMI&#45;&gt;predicted hazard -->\n",
       "<g id=\"edge14\" class=\"edge\"><title>BMI&#45;&gt;predicted hazard</title>\n",
       "<path fill=\"none\" stroke=\"#008bfb\" stroke-width=\"0.273786\" d=\"M208.032,-320.507C235.899,-319.305 277.265,-312.569 297.844,-285 328.655,-243.724 298.792,-101.487 278.844,-54 277.371,-50.4936 275.44,-47.0503 273.28,-43.7738\"/>\n",
       "<polygon fill=\"#008bfb\" stroke=\"#008bfb\" stroke-width=\"0.273786\" points=\"275.953,-41.5034 267.181,-35.5618 270.333,-45.6769 275.953,-41.5034\"/>\n",
       "<text text-anchor=\"middle\" x=\"323.344\" y=\"-155.3\" font-family=\"Times,serif\" font-size=\"14.00\" fill=\"#008bfb\">&#45;0.00</text>\n",
       "</g>\n",
       "<!-- Serum Magnesium&#45;&gt;predicted hazard -->\n",
       "<g id=\"edge15\" class=\"edge\"><title>Serum Magnesium&#45;&gt;predicted hazard</title>\n",
       "<path fill=\"none\" stroke=\"#008bfb\" stroke-width=\"0.180181\" d=\"M1686.38,-318.382C1524.29,-314.657 1166.06,-304.277 1147.84,-285 1137.69,-274.252 1122.59,-172.828 1150.84,-141 1187.23,-100.013 1237.03,-164.488 1272.84,-123 1297.26,-94.7223 1260.32,-65.7195 1224.84,-54 1141.12,-26.3385 548.013,-20.5187 330.532,-19.311\"/>\n",
       "<polygon fill=\"#008bfb\" stroke=\"#008bfb\" stroke-width=\"0.180181\" points=\"330.482,-15.8108 320.463,-19.2569 330.444,-22.8107 330.482,-15.8108\"/>\n",
       "<text text-anchor=\"middle\" x=\"1165.34\" y=\"-155.3\" font-family=\"Times,serif\" font-size=\"14.00\" fill=\"#008bfb\">&#45;0.00</text>\n",
       "</g>\n",
       "<!-- TIBC -->\n",
       "<g id=\"node13\" class=\"node\"><title>TIBC</title>\n",
       "<ellipse fill=\"none\" stroke=\"black\" cx=\"907.844\" cy=\"-159\" rx=\"30.5947\" ry=\"18\"/>\n",
       "<text text-anchor=\"middle\" x=\"907.844\" y=\"-155.3\" font-family=\"Times,serif\" font-size=\"14.00\">TIBC</text>\n",
       "</g>\n",
       "<!-- Iron&#45;&gt;TIBC -->\n",
       "<g id=\"edge16\" class=\"edge\"><title>Iron&#45;&gt;TIBC</title>\n",
       "<path fill=\"none\" stroke=\"#ff0051\" stroke-width=\"0.154244\" d=\"M910.958,-310.164C904.846,-307.627 898.15,-305.039 891.844,-303 858.817,-292.318 837.376,-312.227 815.844,-285 755.347,-208.501 896.908,-258.247 919.844,-231 930.345,-218.526 927.031,-200.332 921.253,-185.486\"/>\n",
       "<polygon fill=\"#ff0051\" stroke=\"#ff0051\" stroke-width=\"0.154244\" points=\"924.447,-184.054 917.221,-176.306 918.038,-186.869 924.447,-184.054\"/>\n",
       "<text text-anchor=\"middle\" x=\"828.344\" y=\"-263.3\" font-family=\"Times,serif\" font-size=\"14.00\" fill=\"#ff0051\">0.00</text>\n",
       "</g>\n",
       "<!-- TS -->\n",
       "<g id=\"node14\" class=\"node\"><title>TS</title>\n",
       "<ellipse fill=\"none\" stroke=\"black\" cx=\"970.844\" cy=\"-159\" rx=\"27\" ry=\"18\"/>\n",
       "<text text-anchor=\"middle\" x=\"970.844\" y=\"-155.3\" font-family=\"Times,serif\" font-size=\"14.00\">TS</text>\n",
       "</g>\n",
       "<!-- Iron&#45;&gt;TS -->\n",
       "<g id=\"edge17\" class=\"edge\"><title>Iron&#45;&gt;TS</title>\n",
       "<path fill=\"none\" stroke=\"#ff0051\" stroke-width=\"0.291985\" d=\"M910.17,-311.151C892.776,-303.847 870.91,-293.362 865.844,-285 857.554,-271.315 855.998,-261.611 865.844,-249 886.144,-223.001 912.412,-252.005 937.844,-231 951.384,-219.818 959.662,-201.841 964.541,-186.774\"/>\n",
       "<polygon fill=\"#ff0051\" stroke=\"#ff0051\" stroke-width=\"0.291985\" points=\"967.973,-187.507 967.399,-176.928 961.25,-185.556 967.973,-187.507\"/>\n",
       "<text text-anchor=\"middle\" x=\"878.344\" y=\"-263.3\" font-family=\"Times,serif\" font-size=\"14.00\" fill=\"#ff0051\">0.01</text>\n",
       "</g>\n",
       "<!-- Serum Iron -->\n",
       "<g id=\"node15\" class=\"node\"><title>Serum Iron</title>\n",
       "<ellipse fill=\"none\" stroke=\"black\" cx=\"1176.84\" cy=\"-105\" rx=\"51.1914\" ry=\"18\"/>\n",
       "<text text-anchor=\"middle\" x=\"1176.84\" y=\"-101.3\" font-family=\"Times,serif\" font-size=\"14.00\">Serum Iron</text>\n",
       "</g>\n",
       "<!-- Iron&#45;&gt;Serum Iron -->\n",
       "<g id=\"edge18\" class=\"edge\"><title>Iron&#45;&gt;Serum Iron</title>\n",
       "<path fill=\"none\" stroke=\"#ff0051\" stroke-width=\"0.446062\" d=\"M923.368,-303.979C915.657,-288.63 907.715,-265.438 918.844,-249 930.921,-231.163 946.964,-244.381 963.844,-231 982.975,-215.834 1006.62,-154.677 1026.84,-141 1053.1,-123.244 1087.2,-114.427 1116.25,-110.078\"/>\n",
       "<polygon fill=\"#ff0051\" stroke=\"#ff0051\" stroke-width=\"0.446062\" points=\"1116.85,-113.528 1126.29,-108.719 1115.91,-106.591 1116.85,-113.528\"/>\n",
       "<text text-anchor=\"middle\" x=\"1002.34\" y=\"-209.3\" font-family=\"Times,serif\" font-size=\"14.00\" fill=\"#ff0051\">0.01</text>\n",
       "</g>\n",
       "<!-- Sedimentation rate -->\n",
       "<g id=\"node16\" class=\"node\"><title>Sedimentation rate</title>\n",
       "<ellipse fill=\"none\" stroke=\"black\" cx=\"445.844\" cy=\"-159\" rx=\"77.1866\" ry=\"18\"/>\n",
       "<text text-anchor=\"middle\" x=\"445.844\" y=\"-155.3\" font-family=\"Times,serif\" font-size=\"14.00\">Sedimentation rate</text>\n",
       "</g>\n",
       "<!-- Inflamation&#45;&gt;Sedimentation rate -->\n",
       "<g id=\"edge19\" class=\"edge\"><title>Inflamation&#45;&gt;Sedimentation rate</title>\n",
       "<path fill=\"none\" stroke=\"#008bfb\" stroke-width=\"0.470665\" d=\"M475.037,-305.36C466.843,-299.785 458.255,-292.857 451.844,-285 435.241,-264.651 433.296,-256.691 427.844,-231 424.523,-215.349 424.08,-210.551 427.844,-195 428.538,-192.136 429.508,-189.244 430.643,-186.414\"/>\n",
       "<polygon fill=\"#008bfb\" stroke=\"#008bfb\" stroke-width=\"0.470665\" points=\"433.902,-187.707 434.969,-177.166 427.561,-184.741 433.902,-187.707\"/>\n",
       "<text text-anchor=\"middle\" x=\"466.344\" y=\"-263.3\" font-family=\"Times,serif\" font-size=\"14.00\" fill=\"#008bfb\">&#45;0.01</text>\n",
       "</g>\n",
       "<!-- White blood cells -->\n",
       "<g id=\"node17\" class=\"node\"><title>White blood cells</title>\n",
       "<ellipse fill=\"none\" stroke=\"black\" cx=\"407.844\" cy=\"-105\" rx=\"73.387\" ry=\"18\"/>\n",
       "<text text-anchor=\"middle\" x=\"407.844\" y=\"-101.3\" font-family=\"Times,serif\" font-size=\"14.00\">White blood cells</text>\n",
       "</g>\n",
       "<!-- Inflamation&#45;&gt;White blood cells -->\n",
       "<g id=\"edge20\" class=\"edge\"><title>Inflamation&#45;&gt;White blood cells</title>\n",
       "<path fill=\"none\" stroke=\"#008bfb\" stroke-width=\"0.634577\" d=\"M465.988,-307.526C453.391,-301.918 439.629,-294.414 428.844,-285 385.933,-247.543 375.272,-231.831 359.844,-177 355.511,-161.598 352.593,-155.262 359.844,-141 362.237,-136.294 365.592,-132.071 369.429,-128.325\"/>\n",
       "<polygon fill=\"#008bfb\" stroke=\"#008bfb\" stroke-width=\"0.634577\" points=\"371.885,-130.832 377.274,-121.71 367.373,-125.48 371.885,-130.832\"/>\n",
       "<text text-anchor=\"middle\" x=\"394.344\" y=\"-209.3\" font-family=\"Times,serif\" font-size=\"14.00\" fill=\"#008bfb\">&#45;0.01</text>\n",
       "</g>\n",
       "<!-- Serum Albumin -->\n",
       "<g id=\"node18\" class=\"node\"><title>Serum Albumin</title>\n",
       "<ellipse fill=\"none\" stroke=\"black\" cx=\"626.844\" cy=\"-159\" rx=\"68.4888\" ry=\"18\"/>\n",
       "<text text-anchor=\"middle\" x=\"626.844\" y=\"-155.3\" font-family=\"Times,serif\" font-size=\"14.00\">Serum Albumin</text>\n",
       "</g>\n",
       "<!-- Blood protein&#45;&gt;Serum Albumin -->\n",
       "<g id=\"edge21\" class=\"edge\"><title>Blood protein&#45;&gt;Serum Albumin</title>\n",
       "<path fill=\"none\" stroke=\"#008bfb\" stroke-width=\"0.226044\" d=\"M635.348,-302.916C626.228,-285.457 613.085,-257.256 607.844,-231 604.713,-215.309 603.906,-210.508 607.844,-195 608.603,-192.014 609.673,-189.007 610.923,-186.076\"/>\n",
       "<polygon fill=\"#008bfb\" stroke=\"#008bfb\" stroke-width=\"0.226044\" points=\"614.068,-187.612 615.37,-177.098 607.795,-184.505 614.068,-187.612\"/>\n",
       "<text text-anchor=\"middle\" x=\"641.344\" y=\"-263.3\" font-family=\"Times,serif\" font-size=\"14.00\" fill=\"#008bfb\">&#45;0.00</text>\n",
       "</g>\n",
       "<!-- Serum Protein -->\n",
       "<g id=\"node19\" class=\"node\"><title>Serum Protein</title>\n",
       "<ellipse fill=\"none\" stroke=\"black\" cx=\"498.844\" cy=\"-213\" rx=\"61.99\" ry=\"18\"/>\n",
       "<text text-anchor=\"middle\" x=\"498.844\" y=\"-209.3\" font-family=\"Times,serif\" font-size=\"14.00\">Serum Protein</text>\n",
       "</g>\n",
       "<!-- Blood protein&#45;&gt;Serum Protein -->\n",
       "<g id=\"edge22\" class=\"edge\"><title>Blood protein&#45;&gt;Serum Protein</title>\n",
       "<path fill=\"none\" stroke=\"#008bfb\" stroke-width=\"0.230509\" d=\"M597.565,-309.914C553.255,-300.352 493.548,-287.137 491.844,-285 482.059,-272.723 483.679,-255.198 487.81,-240.632\"/>\n",
       "<polygon fill=\"#008bfb\" stroke=\"#008bfb\" stroke-width=\"0.230509\" points=\"491.138,-241.714 490.961,-231.121 484.494,-239.512 491.138,-241.714\"/>\n",
       "<text text-anchor=\"middle\" x=\"506.344\" y=\"-263.3\" font-family=\"Times,serif\" font-size=\"14.00\" fill=\"#008bfb\">&#45;0.00</text>\n",
       "</g>\n",
       "<!-- Systolic BP&#45;&gt;predicted hazard -->\n",
       "<g id=\"edge23\" class=\"edge\"><title>Systolic BP&#45;&gt;predicted hazard</title>\n",
       "<path fill=\"none\" stroke=\"#008bfb\" stroke-width=\"2.28197\" d=\"M810.311,-195.412C824.008,-175.749 845.72,-145.112 850.844,-141 866.367,-128.546 880.962,-139.662 891.844,-123 900.593,-109.604 901.595,-99.6854 891.844,-87 858.109,-43.1125 493.623,-26.4452 329.799,-21.1381\"/>\n",
       "<polygon fill=\"#008bfb\" stroke=\"#008bfb\" stroke-width=\"2.28197\" points=\"329.884,-17.6391 319.778,-20.8195 329.662,-24.6356 329.884,-17.6391\"/>\n",
       "<text text-anchor=\"middle\" x=\"913.344\" y=\"-101.3\" font-family=\"Times,serif\" font-size=\"14.00\" fill=\"#008bfb\">&#45;0.05</text>\n",
       "</g>\n",
       "<!-- Pulse pressure -->\n",
       "<g id=\"node20\" class=\"node\"><title>Pulse pressure</title>\n",
       "<ellipse fill=\"none\" stroke=\"black\" cx=\"820.844\" cy=\"-105\" rx=\"61.99\" ry=\"18\"/>\n",
       "<text text-anchor=\"middle\" x=\"820.844\" y=\"-101.3\" font-family=\"Times,serif\" font-size=\"14.00\">Pulse pressure</text>\n",
       "</g>\n",
       "<!-- Systolic BP&#45;&gt;Pulse pressure -->\n",
       "<g id=\"edge24\" class=\"edge\"><title>Systolic BP&#45;&gt;Pulse pressure</title>\n",
       "<path fill=\"none\" stroke=\"#008bfb\" stroke-width=\"0.759632\" d=\"M793.972,-194.879C790.645,-180.19 787.824,-158.661 793.844,-141 795.055,-137.45 796.787,-133.979 798.798,-130.688\"/>\n",
       "<polygon fill=\"#008bfb\" stroke=\"#008bfb\" stroke-width=\"0.759632\" points=\"801.698,-132.649 804.604,-122.46 795.978,-128.613 801.698,-132.649\"/>\n",
       "<text text-anchor=\"middle\" x=\"808.344\" y=\"-155.3\" font-family=\"Times,serif\" font-size=\"14.00\" fill=\"#008bfb\">&#45;0.02</text>\n",
       "</g>\n",
       "<!-- Diastolic BP&#45;&gt;predicted hazard -->\n",
       "<g id=\"edge25\" class=\"edge\"><title>Diastolic BP&#45;&gt;predicted hazard</title>\n",
       "<path fill=\"none\" stroke=\"#008bfb\" stroke-width=\"0.985992\" d=\"M687.303,-195.283C691.174,-189.816 694.838,-183.475 696.844,-177 701.581,-161.717 701.481,-156.313 696.844,-141 678.782,-81.3429 647.055,-70.1227 586.844,-54 501.164,-31.0572 399.452,-23.0069 330.553,-20.2603\"/>\n",
       "<polygon fill=\"#008bfb\" stroke=\"#008bfb\" stroke-width=\"0.985992\" points=\"330.331,-16.7498 320.209,-19.8779 330.073,-23.745 330.331,-16.7498\"/>\n",
       "<text text-anchor=\"middle\" x=\"705.344\" y=\"-101.3\" font-family=\"Times,serif\" font-size=\"14.00\" fill=\"#008bfb\">&#45;0.02</text>\n",
       "</g>\n",
       "<!-- Diastolic BP&#45;&gt;Pulse pressure -->\n",
       "<g id=\"edge26\" class=\"edge\"><title>Diastolic BP&#45;&gt;Pulse pressure</title>\n",
       "<path fill=\"none\" stroke=\"#ff0051\" stroke-width=\"0.30191\" d=\"M696.219,-196.602C704.78,-190.713 714.427,-183.78 722.844,-177 741.215,-162.203 742.93,-155.095 761.844,-141 768.777,-135.834 776.522,-130.783 784.061,-126.198\"/>\n",
       "<polygon fill=\"#ff0051\" stroke=\"#ff0051\" stroke-width=\"0.30191\" points=\"785.935,-129.157 792.756,-121.05 782.368,-123.133 785.935,-129.157\"/>\n",
       "<text text-anchor=\"middle\" x=\"774.344\" y=\"-155.3\" font-family=\"Times,serif\" font-size=\"14.00\" fill=\"#ff0051\">0.01</text>\n",
       "</g>\n",
       "<!-- TIBC&#45;&gt;predicted hazard -->\n",
       "<g id=\"edge27\" class=\"edge\"><title>TIBC&#45;&gt;predicted hazard</title>\n",
       "<path fill=\"none\" stroke=\"#ff0051\" stroke-width=\"0.154244\" d=\"M930.305,-146.737C934.446,-144.762 938.754,-142.773 942.844,-141 963.368,-132.105 977.168,-141.43 989.844,-123 1010.59,-92.835 979.341,-66.2638 944.844,-54 888.277,-33.8901 500.075,-23.8923 330.179,-20.4397\"/>\n",
       "<polygon fill=\"#ff0051\" stroke=\"#ff0051\" stroke-width=\"0.154244\" points=\"330.113,-16.9378 320.045,-20.2363 329.973,-23.9364 330.113,-16.9378\"/>\n",
       "<text text-anchor=\"middle\" x=\"1009.34\" y=\"-101.3\" font-family=\"Times,serif\" font-size=\"14.00\" fill=\"#ff0051\">0.00</text>\n",
       "</g>\n",
       "<!-- TS&#45;&gt;predicted hazard -->\n",
       "<g id=\"edge28\" class=\"edge\"><title>TS&#45;&gt;predicted hazard</title>\n",
       "<path fill=\"none\" stroke=\"#ff0051\" stroke-width=\"0.291985\" d=\"M990.574,-146.705C1005.52,-137.946 1023.82,-126.696 1025.84,-123 1033.54,-108.974 1033.55,-101.021 1025.84,-87 1012.66,-63.0136 999.937,-62.27 973.844,-54 913.869,-34.9912 505.292,-24.3043 330.215,-20.5517\"/>\n",
       "<polygon fill=\"#ff0051\" stroke=\"#ff0051\" stroke-width=\"0.291985\" points=\"330.107,-17.0488 320.035,-20.3357 329.958,-24.0472 330.107,-17.0488\"/>\n",
       "<text text-anchor=\"middle\" x=\"1044.34\" y=\"-101.3\" font-family=\"Times,serif\" font-size=\"14.00\" fill=\"#ff0051\">0.01</text>\n",
       "</g>\n",
       "<!-- Serum Iron&#45;&gt;predicted hazard -->\n",
       "<g id=\"edge29\" class=\"edge\"><title>Serum Iron&#45;&gt;predicted hazard</title>\n",
       "<path fill=\"none\" stroke=\"#ff0051\" stroke-width=\"0.446062\" d=\"M1150.84,-89.3936C1128.13,-77.455 1093.88,-61.3865 1061.84,-54 924.592,-22.3509 507.216,-18.7876 330.858,-18.7459\"/>\n",
       "<polygon fill=\"#ff0051\" stroke=\"#ff0051\" stroke-width=\"0.446062\" points=\"330.609,-15.2459 320.61,-18.7475 330.61,-22.2459 330.609,-15.2459\"/>\n",
       "<text text-anchor=\"middle\" x=\"1117.34\" y=\"-57.8\" font-family=\"Times,serif\" font-size=\"14.00\" fill=\"#ff0051\">0.01</text>\n",
       "</g>\n",
       "<!-- Sedimentation rate&#45;&gt;predicted hazard -->\n",
       "<g id=\"edge30\" class=\"edge\"><title>Sedimentation rate&#45;&gt;predicted hazard</title>\n",
       "<path fill=\"none\" stroke=\"#008bfb\" stroke-width=\"0.470665\" d=\"M473.917,-141.833C480.321,-136.692 486.282,-130.385 489.844,-123 496.795,-108.589 499.487,-99.7683 489.844,-87 469.27,-59.7547 382.772,-40.2052 319.735,-29.2504\"/>\n",
       "<polygon fill=\"#008bfb\" stroke=\"#008bfb\" stroke-width=\"0.470665\" points=\"320.279,-25.7926 309.833,-27.5661 319.105,-32.6935 320.279,-25.7926\"/>\n",
       "<text text-anchor=\"middle\" x=\"511.344\" y=\"-101.3\" font-family=\"Times,serif\" font-size=\"14.00\" fill=\"#008bfb\">&#45;0.01</text>\n",
       "</g>\n",
       "<!-- White blood cells&#45;&gt;predicted hazard -->\n",
       "<g id=\"edge31\" class=\"edge\"><title>White blood cells&#45;&gt;predicted hazard</title>\n",
       "<path fill=\"none\" stroke=\"#008bfb\" stroke-width=\"0.634577\" d=\"M379.048,-88.4097C353.597,-74.6306 316.305,-54.4406 288.495,-39.3841\"/>\n",
       "<polygon fill=\"#008bfb\" stroke=\"#008bfb\" stroke-width=\"0.634577\" points=\"289.918,-36.1747 279.458,-34.4915 286.586,-42.3304 289.918,-36.1747\"/>\n",
       "<text text-anchor=\"middle\" x=\"353.344\" y=\"-57.8\" font-family=\"Times,serif\" font-size=\"14.00\" fill=\"#008bfb\">&#45;0.01</text>\n",
       "</g>\n",
       "<!-- Serum Albumin&#45;&gt;predicted hazard -->\n",
       "<g id=\"edge32\" class=\"edge\"><title>Serum Albumin&#45;&gt;predicted hazard</title>\n",
       "<path fill=\"none\" stroke=\"#008bfb\" stroke-width=\"0.226044\" d=\"M628.076,-140.855C628.303,-125.344 626.326,-102.609 614.844,-87 595.646,-60.9018 580.861,-63.3624 549.844,-54 477.478,-32.1562 391.443,-23.8229 330.283,-20.7064\"/>\n",
       "<polygon fill=\"#008bfb\" stroke=\"#008bfb\" stroke-width=\"0.226044\" points=\"330.08,-17.1929 319.925,-20.2163 329.749,-24.1851 330.08,-17.1929\"/>\n",
       "<text text-anchor=\"middle\" x=\"642.344\" y=\"-101.3\" font-family=\"Times,serif\" font-size=\"14.00\" fill=\"#008bfb\">&#45;0.00</text>\n",
       "</g>\n",
       "<!-- Serum Protein&#45;&gt;predicted hazard -->\n",
       "<g id=\"edge33\" class=\"edge\"><title>Serum Protein&#45;&gt;predicted hazard</title>\n",
       "<path fill=\"none\" stroke=\"#008bfb\" stroke-width=\"0.230509\" d=\"M516.114,-195.663C520.783,-190.211 525.257,-183.783 527.844,-177 542.106,-139.618 551.271,-120.789 529.844,-87 508.106,-52.7189 401.134,-34.5359 326.158,-25.8419\"/>\n",
       "<polygon fill=\"#008bfb\" stroke=\"#008bfb\" stroke-width=\"0.230509\" points=\"326.132,-22.3169 315.803,-24.6774 325.35,-29.2731 326.132,-22.3169\"/>\n",
       "<text text-anchor=\"middle\" x=\"557.344\" y=\"-101.3\" font-family=\"Times,serif\" font-size=\"14.00\" fill=\"#008bfb\">&#45;0.00</text>\n",
       "</g>\n",
       "<!-- Pulse pressure&#45;&gt;predicted hazard -->\n",
       "<g id=\"edge34\" class=\"edge\"><title>Pulse pressure&#45;&gt;predicted hazard</title>\n",
       "<path fill=\"none\" stroke=\"#008bfb\" stroke-width=\"0.507723\" d=\"M788.914,-89.5551C761.605,-77.8854 720.946,-62.1138 683.844,-54 562.477,-27.4583 418.018,-20.5823 330.436,-19.0531\"/>\n",
       "<polygon fill=\"#008bfb\" stroke=\"#008bfb\" stroke-width=\"0.507723\" points=\"330.359,-15.5516 320.306,-18.8957 330.25,-22.5507 330.359,-15.5516\"/>\n",
       "<text text-anchor=\"middle\" x=\"749.344\" y=\"-57.8\" font-family=\"Times,serif\" font-size=\"14.00\" fill=\"#008bfb\">&#45;0.01</text>\n",
       "</g>\n",
       "<!-- Age -->\n",
       "<g id=\"node21\" class=\"node\"><title>Age</title>\n",
       "<ellipse fill=\"none\" stroke=\"black\" cx=\"1764.84\" cy=\"-495\" rx=\"27\" ry=\"18\"/>\n",
       "<text text-anchor=\"middle\" x=\"1764.84\" y=\"-491.3\" font-family=\"Times,serif\" font-size=\"14.00\">Age</text>\n",
       "</g>\n",
       "<!-- Age&#45;&gt;Serum Cholesterol -->\n",
       "<g id=\"edge35\" class=\"edge\"><title>Age&#45;&gt;Serum Cholesterol</title>\n",
       "<path fill=\"none\" stroke=\"#ff0051\" stroke-width=\"0.141604\" d=\"M1740.63,-486.653C1706.91,-475.896 1644.47,-454.054 1595.84,-426 1573.36,-413.026 1573.55,-400.594 1549.84,-390 1535.79,-383.717 1346.46,-351.557 1240.11,-333.807\"/>\n",
       "<polygon fill=\"#ff0051\" stroke=\"#ff0051\" stroke-width=\"0.141604\" points=\"1240.52,-330.328 1230.09,-332.135 1239.37,-337.233 1240.52,-330.328\"/>\n",
       "<text text-anchor=\"middle\" x=\"1608.34\" y=\"-404.3\" font-family=\"Times,serif\" font-size=\"14.00\" fill=\"#ff0051\">0.00</text>\n",
       "</g>\n",
       "<!-- Age&#45;&gt;predicted hazard -->\n",
       "<g id=\"edge36\" class=\"edge\"><title>Age&#45;&gt;predicted hazard</title>\n",
       "<path fill=\"none\" stroke=\"#008bfb\" stroke-width=\"3.54839\" d=\"M1737.77,-494.085C1555.39,-494.557 503.87,-495.628 185.844,-459 115.01,-450.842 73.7792,-481.362 28.8443,-426 -77.4479,-295.043 139.026,-105.769 221.076,-41.3987\"/>\n",
       "<polygon fill=\"#008bfb\" stroke=\"#008bfb\" stroke-width=\"3.54839\" points=\"223.285,-44.1146 229.036,-35.216 218.991,-38.5865 223.285,-44.1146\"/>\n",
       "<text text-anchor=\"middle\" x=\"43.3443\" y=\"-263.3\" font-family=\"Times,serif\" font-size=\"14.00\" fill=\"#008bfb\">&#45;0.08</text>\n",
       "</g>\n",
       "<!-- Age&#45;&gt;Poverty index -->\n",
       "<g id=\"edge37\" class=\"edge\"><title>Age&#45;&gt;Poverty index</title>\n",
       "<path fill=\"none\" stroke=\"#008bfb\" stroke-width=\"0.287522\" d=\"M1737.83,-493.314C1634.86,-490.555 1270.39,-479.422 1222.84,-459 1209.69,-453.35 1197.71,-443.067 1188.39,-433.29\"/>\n",
       "<polygon fill=\"#008bfb\" stroke=\"#008bfb\" stroke-width=\"0.287522\" points=\"1190.81,-430.745 1181.52,-425.655 1185.6,-435.429 1190.81,-430.745\"/>\n",
       "<text text-anchor=\"middle\" x=\"1237.34\" y=\"-447.8\" font-family=\"Times,serif\" font-size=\"14.00\" fill=\"#008bfb\">&#45;0.01</text>\n",
       "</g>\n",
       "<!-- Age&#45;&gt;Red blood cells -->\n",
       "<g id=\"edge38\" class=\"edge\"><title>Age&#45;&gt;Red blood cells</title>\n",
       "<path fill=\"none\" stroke=\"#008bfb\" stroke-width=\"0.0512193\" d=\"M1739.35,-488.687C1691.18,-478.789 1583.39,-457.329 1491.84,-444 1418.41,-433.308 1392.99,-457.599 1325.84,-426 1305.08,-416.23 1309.42,-400.143 1288.84,-390 1238.89,-365.381 1219.29,-383.707 1164.84,-372 1112.86,-360.822 1094.83,-367.346 1049.84,-339 1039.69,-332.601 1020.69,-310.491 1006.2,-292.624\"/>\n",
       "<polygon fill=\"#008bfb\" stroke=\"#008bfb\" stroke-width=\"0.0512193\" points=\"1008.9,-290.393 999.908,-284.785 1003.44,-294.775 1008.9,-290.393\"/>\n",
       "<text text-anchor=\"middle\" x=\"1340.34\" y=\"-404.3\" font-family=\"Times,serif\" font-size=\"14.00\" fill=\"#008bfb\">&#45;0.00</text>\n",
       "</g>\n",
       "<!-- Age&#45;&gt;Blood pressure -->\n",
       "<g id=\"edge39\" class=\"edge\"><title>Age&#45;&gt;Blood pressure</title>\n",
       "<path fill=\"none\" stroke=\"#ff0051\" stroke-width=\"0.0725604\" d=\"M1737.76,-493.487C1564.82,-490.083 620.961,-469.544 579.844,-426 568.859,-414.367 568.969,-401.736 579.844,-390 615.594,-351.42 780.095,-410.58 815.844,-372 822.903,-364.382 819.486,-354.84 812.856,-346.139\"/>\n",
       "<polygon fill=\"#ff0051\" stroke=\"#ff0051\" stroke-width=\"0.0725604\" points=\"815.318,-343.639 806.072,-338.464 810.073,-348.275 815.318,-343.639\"/>\n",
       "<text text-anchor=\"middle\" x=\"592.344\" y=\"-404.3\" font-family=\"Times,serif\" font-size=\"14.00\" fill=\"#ff0051\">0.00</text>\n",
       "</g>\n",
       "<!-- Age&#45;&gt;BMI -->\n",
       "<g id=\"edge40\" class=\"edge\"><title>Age&#45;&gt;BMI</title>\n",
       "<path fill=\"none\" stroke=\"#008bfb\" stroke-width=\"0.0749007\" d=\"M1737.77,-493.995C1529.06,-493.824 182.831,-490.23 128.844,-426 107.687,-400.828 134.364,-365.383 156.401,-343.057\"/>\n",
       "<polygon fill=\"#008bfb\" stroke=\"#008bfb\" stroke-width=\"0.0749007\" points=\"158.901,-345.508 163.621,-336.023 154.016,-340.495 158.901,-345.508\"/>\n",
       "<text text-anchor=\"middle\" x=\"143.344\" y=\"-404.3\" font-family=\"Times,serif\" font-size=\"14.00\" fill=\"#008bfb\">&#45;0.00</text>\n",
       "</g>\n",
       "<!-- Age&#45;&gt;Serum Magnesium -->\n",
       "<g id=\"edge41\" class=\"edge\"><title>Age&#45;&gt;Serum Magnesium</title>\n",
       "<path fill=\"none\" stroke=\"#ff0051\" stroke-width=\"0.0503458\" d=\"M1764.84,-476.879C1764.84,-447.001 1764.84,-385.113 1764.84,-349.274\"/>\n",
       "<polygon fill=\"#ff0051\" stroke=\"#ff0051\" stroke-width=\"0.0503458\" points=\"1768.34,-349.052 1764.84,-339.052 1761.34,-349.052 1768.34,-349.052\"/>\n",
       "<text text-anchor=\"middle\" x=\"1777.34\" y=\"-404.3\" font-family=\"Times,serif\" font-size=\"14.00\" fill=\"#ff0051\">0.00</text>\n",
       "</g>\n",
       "<!-- Age&#45;&gt;Iron -->\n",
       "<g id=\"edge42\" class=\"edge\"><title>Age&#45;&gt;Iron</title>\n",
       "<path fill=\"none\" stroke=\"#ff0051\" stroke-width=\"0.100718\" d=\"M1737.89,-493.486C1641.72,-491.458 1319.03,-482.916 1279.84,-459 1249.2,-440.295 1268.38,-408.88 1237.84,-390 1197.06,-364.786 1068.71,-385.954 1022.84,-372 1021.16,-371.487 987.423,-352.647 961.747,-338.244\"/>\n",
       "<polygon fill=\"#ff0051\" stroke=\"#ff0051\" stroke-width=\"0.100718\" points=\"963.16,-335.024 952.726,-333.181 959.733,-341.128 963.16,-335.024\"/>\n",
       "<text text-anchor=\"middle\" x=\"1272.34\" y=\"-404.3\" font-family=\"Times,serif\" font-size=\"14.00\" fill=\"#ff0051\">0.00</text>\n",
       "</g>\n",
       "<!-- Age&#45;&gt;Inflamation -->\n",
       "<g id=\"edge43\" class=\"edge\"><title>Age&#45;&gt;Inflamation</title>\n",
       "<path fill=\"none\" stroke=\"#008bfb\" stroke-width=\"0.0688868\" d=\"M1737.67,-493.893C1538.07,-492.968 304.723,-484.88 254.844,-426 244.502,-413.792 244.122,-401.875 254.844,-390 281.192,-360.82 394.064,-385.89 430.844,-372 447.234,-365.811 463.301,-354.795 475.9,-344.676\"/>\n",
       "<polygon fill=\"#008bfb\" stroke=\"#008bfb\" stroke-width=\"0.0688868\" points=\"478.208,-347.308 483.647,-338.215 473.725,-341.932 478.208,-347.308\"/>\n",
       "<text text-anchor=\"middle\" x=\"269.344\" y=\"-404.3\" font-family=\"Times,serif\" font-size=\"14.00\" fill=\"#008bfb\">&#45;0.00</text>\n",
       "</g>\n",
       "<!-- Age&#45;&gt;Blood protein -->\n",
       "<g id=\"edge44\" class=\"edge\"><title>Age&#45;&gt;Blood protein</title>\n",
       "<path fill=\"none\" stroke=\"#008bfb\" stroke-width=\"0.0655897\" d=\"M1737.66,-493.749C1548.23,-491.868 431.435,-478.562 384.844,-426 374.231,-414.027 373.995,-401.76 384.844,-390 418.556,-353.458 564.385,-396.146 607.844,-372 617.859,-366.436 625.928,-356.896 631.944,-347.631\"/>\n",
       "<polygon fill=\"#008bfb\" stroke=\"#008bfb\" stroke-width=\"0.0655897\" points=\"634.989,-349.359 637.079,-338.972 628.968,-345.788 634.989,-349.359\"/>\n",
       "<text text-anchor=\"middle\" x=\"399.344\" y=\"-404.3\" font-family=\"Times,serif\" font-size=\"14.00\" fill=\"#008bfb\">&#45;0.00</text>\n",
       "</g>\n",
       "<!-- Race -->\n",
       "<g id=\"node22\" class=\"node\"><title>Race</title>\n",
       "<polygon fill=\"none\" stroke=\"black\" points=\"1863.84,-513 1809.84,-513 1809.84,-477 1863.84,-477 1863.84,-513\"/>\n",
       "<text text-anchor=\"middle\" x=\"1836.84\" y=\"-491.3\" font-family=\"Times,serif\" font-size=\"14.00\">Race</text>\n",
       "</g>\n",
       "<!-- Race&#45;&gt;Serum Cholesterol -->\n",
       "<g id=\"edge45\" class=\"edge\"><title>Race&#45;&gt;Serum Cholesterol</title>\n",
       "<path fill=\"none\" stroke=\"#ff0051\" stroke-width=\"0.05\" d=\"M1812.23,-476.843C1773.81,-450.343 1700.96,-401.322 1671.84,-390 1533.35,-336.14 1359.05,-323.732 1256.22,-321.535\"/>\n",
       "<polygon fill=\"#ff0051\" stroke=\"#ff0051\" stroke-width=\"0.05\" points=\"1256.25,-318.035 1246.18,-321.348 1256.12,-325.034 1256.25,-318.035\"/>\n",
       "<text text-anchor=\"middle\" x=\"1747.34\" y=\"-404.3\" font-family=\"Times,serif\" font-size=\"14.00\" fill=\"#ff0051\">0.00</text>\n",
       "</g>\n",
       "<!-- Race&#45;&gt;predicted hazard -->\n",
       "<g id=\"edge46\" class=\"edge\"><title>Race&#45;&gt;predicted hazard</title>\n",
       "<path fill=\"none\" stroke=\"#008bfb\" stroke-width=\"0.149311\" d=\"M1809.77,-479.738C1806.82,-478.633 1803.81,-477.683 1800.84,-477 1631.92,-438.096 412.569,-482.645 240.844,-459 184.773,-451.28 152.293,-470.909 117.844,-426 69.8027,-363.37 192.994,-124.566 236.384,-44.9815\"/>\n",
       "<polygon fill=\"#008bfb\" stroke=\"#008bfb\" stroke-width=\"0.149311\" points=\"239.521,-46.5387 241.263,-36.0879 233.384,-43.1719 239.521,-46.5387\"/>\n",
       "<text text-anchor=\"middle\" x=\"154.344\" y=\"-263.3\" font-family=\"Times,serif\" font-size=\"14.00\" fill=\"#008bfb\">&#45;0.00</text>\n",
       "</g>\n",
       "<!-- Race&#45;&gt;Poverty index -->\n",
       "<g id=\"edge47\" class=\"edge\"><title>Race&#45;&gt;Poverty index</title>\n",
       "<path fill=\"none\" stroke=\"#008bfb\" stroke-width=\"0.189558\" d=\"M1809.75,-479.813C1806.8,-478.693 1803.8,-477.719 1800.84,-477 1693.24,-450.822 1411.45,-480.635 1302.84,-459 1269.99,-452.454 1234.54,-438.919 1208.36,-427.58\"/>\n",
       "<polygon fill=\"#008bfb\" stroke=\"#008bfb\" stroke-width=\"0.189558\" points=\"1209.72,-424.354 1199.16,-423.519 1206.89,-430.758 1209.72,-424.354\"/>\n",
       "<text text-anchor=\"middle\" x=\"1317.34\" y=\"-447.8\" font-family=\"Times,serif\" font-size=\"14.00\" fill=\"#008bfb\">&#45;0.00</text>\n",
       "</g>\n",
       "<!-- Race&#45;&gt;Red blood cells -->\n",
       "<g id=\"edge48\" class=\"edge\"><title>Race&#45;&gt;Red blood cells</title>\n",
       "<path fill=\"none\" stroke=\"#ff0051\" stroke-width=\"0.05\" d=\"M1809.63,-480.247C1806.7,-479.042 1803.74,-477.93 1800.84,-477 1793.32,-474.583 1527.36,-430.472 1520.84,-426 1505.38,-415.394 1514.61,-400.152 1498.84,-390 1479.27,-377.394 1103.77,-349.205 1082.84,-339 1062.51,-329.083 1064.77,-316.815 1046.84,-303 1040.05,-297.761 1032.39,-292.73 1024.89,-288.197\"/>\n",
       "<polygon fill=\"#ff0051\" stroke=\"#ff0051\" stroke-width=\"0.05\" points=\"1026.6,-285.143 1016.2,-283.121 1023.07,-291.187 1026.6,-285.143\"/>\n",
       "<text text-anchor=\"middle\" x=\"1533.34\" y=\"-404.3\" font-family=\"Times,serif\" font-size=\"14.00\" fill=\"#ff0051\">0.00</text>\n",
       "</g>\n",
       "<!-- Race&#45;&gt;Blood pressure -->\n",
       "<g id=\"edge49\" class=\"edge\"><title>Race&#45;&gt;Blood pressure</title>\n",
       "<path fill=\"none\" stroke=\"#008bfb\" stroke-width=\"0.102933\" d=\"M1809.75,-479.802C1806.8,-478.684 1803.8,-477.714 1800.84,-477 1681.11,-448.1 1369.89,-464.723 1246.84,-459 1125.64,-453.363 785.007,-514.35 701.844,-426 690.878,-414.349 691.335,-402.065 701.844,-390 740.156,-346.018 793.532,-415.982 831.844,-372 840.198,-362.41 833.354,-352.028 822.632,-343.222\"/>\n",
       "<polygon fill=\"#008bfb\" stroke=\"#008bfb\" stroke-width=\"0.102933\" points=\"824.438,-340.207 814.302,-337.123 820.303,-345.855 824.438,-340.207\"/>\n",
       "<text text-anchor=\"middle\" x=\"716.344\" y=\"-404.3\" font-family=\"Times,serif\" font-size=\"14.00\" fill=\"#008bfb\">&#45;0.00</text>\n",
       "</g>\n",
       "<!-- Race&#45;&gt;BMI -->\n",
       "<g id=\"edge50\" class=\"edge\"><title>Race&#45;&gt;BMI</title>\n",
       "<path fill=\"none\" stroke=\"#ff0051\" stroke-width=\"0.0520973\" d=\"M1809.77,-479.741C1806.82,-478.635 1803.81,-477.684 1800.84,-477 1644.71,-440.965 517.888,-478.498 358.844,-459 295.392,-451.221 266.831,-468.237 218.844,-426 196.626,-406.444 187.031,-372.951 182.909,-349.265\"/>\n",
       "<polygon fill=\"#ff0051\" stroke=\"#ff0051\" stroke-width=\"0.0520973\" points=\"186.336,-348.518 181.374,-339.157 179.415,-349.569 186.336,-348.518\"/>\n",
       "<text text-anchor=\"middle\" x=\"231.344\" y=\"-404.3\" font-family=\"Times,serif\" font-size=\"14.00\" fill=\"#ff0051\">0.00</text>\n",
       "</g>\n",
       "<!-- Race&#45;&gt;Serum Magnesium -->\n",
       "<g id=\"edge51\" class=\"edge\"><title>Race&#45;&gt;Serum Magnesium</title>\n",
       "<path fill=\"none\" stroke=\"#008bfb\" stroke-width=\"0.073206\" d=\"M1829.75,-476.678C1821.27,-456.016 1806.63,-420.444 1793.84,-390 1788.08,-376.274 1781.59,-361.027 1776.21,-348.454\"/>\n",
       "<polygon fill=\"#008bfb\" stroke=\"#008bfb\" stroke-width=\"0.073206\" points=\"1779.32,-346.838 1772.17,-339.025 1772.89,-349.595 1779.32,-346.838\"/>\n",
       "<text text-anchor=\"middle\" x=\"1822.34\" y=\"-404.3\" font-family=\"Times,serif\" font-size=\"14.00\" fill=\"#008bfb\">&#45;0.00</text>\n",
       "</g>\n",
       "<!-- Race&#45;&gt;Iron -->\n",
       "<g id=\"edge52\" class=\"edge\"><title>Race&#45;&gt;Iron</title>\n",
       "<path fill=\"none\" stroke=\"#008bfb\" stroke-width=\"0.0554842\" d=\"M1809.7,-480.014C1806.76,-478.855 1803.77,-477.817 1800.84,-477 1725.53,-456.006 1702.64,-473.701 1625.84,-459 1601.8,-454.397 1596.88,-448.654 1572.84,-444 1499.12,-429.724 1474.43,-454.229 1404.84,-426 1380.79,-416.241 1383.13,-399.168 1358.84,-390 1294.08,-365.553 1114.47,-390.786 1047.84,-372 1034.26,-368.169 1032.63,-362.977 1019.84,-357 1002.26,-348.781 982.175,-340.624 965.741,-334.256\"/>\n",
       "<polygon fill=\"#008bfb\" stroke=\"#008bfb\" stroke-width=\"0.0554842\" points=\"966.625,-330.846 956.034,-330.537 964.12,-337.383 966.625,-330.846\"/>\n",
       "<text text-anchor=\"middle\" x=\"1419.34\" y=\"-404.3\" font-family=\"Times,serif\" font-size=\"14.00\" fill=\"#008bfb\">&#45;0.00</text>\n",
       "</g>\n",
       "<!-- Race&#45;&gt;Inflamation -->\n",
       "<g id=\"edge53\" class=\"edge\"><title>Race&#45;&gt;Inflamation</title>\n",
       "<path fill=\"none\" stroke=\"#008bfb\" stroke-width=\"0.0634879\" d=\"M1809.76,-479.748C1806.81,-478.641 1803.81,-477.687 1800.84,-477 1669.22,-446.459 719.586,-469.185 584.844,-459 477.041,-450.852 414.916,-507.466 343.844,-426 273.069,-344.872 399.143,-405.685 458.844,-372 469.276,-366.114 478.251,-356.57 485.195,-347.389\"/>\n",
       "<polygon fill=\"#008bfb\" stroke=\"#008bfb\" stroke-width=\"0.0634879\" points=\"488.084,-349.366 490.985,-339.176 482.363,-345.333 488.084,-349.366\"/>\n",
       "<text text-anchor=\"middle\" x=\"358.344\" y=\"-404.3\" font-family=\"Times,serif\" font-size=\"14.00\" fill=\"#008bfb\">&#45;0.00</text>\n",
       "</g>\n",
       "<!-- Race&#45;&gt;Blood protein -->\n",
       "<g id=\"edge54\" class=\"edge\"><title>Race&#45;&gt;Blood protein</title>\n",
       "<path fill=\"none\" stroke=\"#008bfb\" stroke-width=\"0.0760494\" d=\"M1809.75,-479.794C1806.81,-478.678 1803.8,-477.71 1800.84,-477 1735.66,-461.359 1264.82,-461.676 1197.84,-459 1124.59,-456.073 589.372,-479.121 538.844,-426 473.855,-357.675 599.98,-400.495 630.844,-372 637.248,-366.088 640.812,-357.509 642.767,-349.122\"/>\n",
       "<polygon fill=\"#008bfb\" stroke=\"#008bfb\" stroke-width=\"0.0760494\" points=\"646.233,-349.619 644.437,-339.177 639.329,-348.46 646.233,-349.619\"/>\n",
       "<text text-anchor=\"middle\" x=\"553.344\" y=\"-404.3\" font-family=\"Times,serif\" font-size=\"14.00\" fill=\"#008bfb\">&#45;0.00</text>\n",
       "</g>\n",
       "<!-- Sex -->\n",
       "<g id=\"node23\" class=\"node\"><title>Sex</title>\n",
       "<polygon fill=\"none\" stroke=\"black\" points=\"2047.84,-513 1993.84,-513 1993.84,-477 2047.84,-477 2047.84,-513\"/>\n",
       "<text text-anchor=\"middle\" x=\"2020.84\" y=\"-491.3\" font-family=\"Times,serif\" font-size=\"14.00\">Sex</text>\n",
       "</g>\n",
       "<!-- Sex&#45;&gt;Serum Cholesterol -->\n",
       "<g id=\"edge55\" class=\"edge\"><title>Sex&#45;&gt;Serum Cholesterol</title>\n",
       "<path fill=\"none\" stroke=\"#008bfb\" stroke-width=\"0.059628\" d=\"M1993.49,-478.014C1944.14,-449.205 1844.94,-391.409 1840.84,-390 1734.45,-353.387 1409.92,-333.453 1254.1,-325.768\"/>\n",
       "<polygon fill=\"#008bfb\" stroke=\"#008bfb\" stroke-width=\"0.059628\" points=\"1254.24,-322.27 1244.09,-325.279 1253.9,-329.262 1254.24,-322.27\"/>\n",
       "<text text-anchor=\"middle\" x=\"1917.34\" y=\"-404.3\" font-family=\"Times,serif\" font-size=\"14.00\" fill=\"#008bfb\">&#45;0.00</text>\n",
       "</g>\n",
       "<!-- Sex&#45;&gt;predicted hazard -->\n",
       "<g id=\"edge56\" class=\"edge\"><title>Sex&#45;&gt;predicted hazard</title>\n",
       "<path fill=\"none\" stroke=\"#008bfb\" stroke-width=\"5\" d=\"M2030.27,-476.962C2040.86,-455.322 2054.63,-417.492 2038.84,-390 2000.66,-323.496 1958.86,-336.431 1889.84,-303 1617.02,-170.844 1551.69,-115.495 1254.84,-54 1165.53,-35.4979 551.839,-23.8639 330.348,-20.2273\"/>\n",
       "<polygon fill=\"#008bfb\" stroke=\"#008bfb\" stroke-width=\"5\" points=\"330.17,-15.8489 320.1,-20.0602 330.028,-24.5978 330.17,-15.8489\"/>\n",
       "<text text-anchor=\"middle\" x=\"1866.34\" y=\"-263.3\" font-family=\"Times,serif\" font-size=\"14.00\" fill=\"#008bfb\">&#45;0.11</text>\n",
       "</g>\n",
       "<!-- Sex&#45;&gt;Poverty index -->\n",
       "<g id=\"edge57\" class=\"edge\"><title>Sex&#45;&gt;Poverty index</title>\n",
       "<path fill=\"none\" stroke=\"#ff0051\" stroke-width=\"0.0761908\" d=\"M1993.6,-490.592C1963.93,-486.947 1915.06,-481.132 1872.84,-477 1593.26,-449.635 1520.47,-468.894 1242.84,-426 1236.28,-424.986 1229.43,-423.712 1222.67,-422.32\"/>\n",
       "<polygon fill=\"#ff0051\" stroke=\"#ff0051\" stroke-width=\"0.0761908\" points=\"1223.37,-418.892 1212.86,-420.214 1221.9,-425.736 1223.37,-418.892\"/>\n",
       "<text text-anchor=\"middle\" x=\"1600.34\" y=\"-447.8\" font-family=\"Times,serif\" font-size=\"14.00\" fill=\"#ff0051\">0.00</text>\n",
       "</g>\n",
       "<!-- Sex&#45;&gt;Red blood cells -->\n",
       "<g id=\"edge58\" class=\"edge\"><title>Sex&#45;&gt;Red blood cells</title>\n",
       "<path fill=\"none\" stroke=\"#008bfb\" stroke-width=\"0.0502075\" d=\"M2002.35,-476.769C1988.7,-463.559 1970.08,-444.511 1955.84,-426 1944.41,-411.137 1945.18,-404.937 1933.84,-390 1901.91,-347.914 1901.01,-324.702 1852.84,-303 1817.12,-286.906 1186.94,-287.559 1147.84,-285 1117.49,-283.013 1084.04,-279.669 1055.52,-276.469\"/>\n",
       "<polygon fill=\"#008bfb\" stroke=\"#008bfb\" stroke-width=\"0.0502075\" points=\"1055.58,-272.954 1045.25,-275.3 1054.79,-279.909 1055.58,-272.954\"/>\n",
       "<text text-anchor=\"middle\" x=\"1970.34\" y=\"-404.3\" font-family=\"Times,serif\" font-size=\"14.00\" fill=\"#008bfb\">&#45;0.00</text>\n",
       "</g>\n",
       "<!-- Sex&#45;&gt;Blood pressure -->\n",
       "<g id=\"edge59\" class=\"edge\"><title>Sex&#45;&gt;Blood pressure</title>\n",
       "<path fill=\"none\" stroke=\"#008bfb\" stroke-width=\"0.0709152\" d=\"M1993.6,-490.668C1882.74,-477.104 1471.34,-426.732 1469.84,-426 1449.51,-416.075 1454.45,-399.353 1433.84,-390 1379.29,-365.237 1224.27,-379.602 1164.84,-372 1129.39,-367.465 1121.23,-362.033 1085.84,-357 1002.31,-345.117 980.582,-349.391 896.844,-339 881.45,-337.09 864.901,-334.724 849.404,-332.372\"/>\n",
       "<polygon fill=\"#008bfb\" stroke=\"#008bfb\" stroke-width=\"0.0709152\" points=\"849.81,-328.893 839.394,-330.832 848.746,-335.812 849.81,-328.893\"/>\n",
       "<text text-anchor=\"middle\" x=\"1484.34\" y=\"-404.3\" font-family=\"Times,serif\" font-size=\"14.00\" fill=\"#008bfb\">&#45;0.00</text>\n",
       "</g>\n",
       "<!-- Sex&#45;&gt;BMI -->\n",
       "<g id=\"edge60\" class=\"edge\"><title>Sex&#45;&gt;BMI</title>\n",
       "<path fill=\"none\" stroke=\"#008bfb\" stroke-width=\"0.0615889\" d=\"M1993.64,-490.061C1964.01,-485.961 1915.17,-479.76 1872.84,-477 1369.85,-444.2 1241.55,-495.914 738.844,-459 626.631,-450.76 595.605,-458.363 487.844,-426 452.816,-415.48 447.973,-403.151 413.844,-390 345.398,-363.626 262.326,-341.784 215.839,-330.434\"/>\n",
       "<polygon fill=\"#008bfb\" stroke=\"#008bfb\" stroke-width=\"0.0615889\" points=\"216.483,-326.989 205.941,-328.042 214.839,-333.793 216.483,-326.989\"/>\n",
       "<text text-anchor=\"middle\" x=\"502.344\" y=\"-404.3\" font-family=\"Times,serif\" font-size=\"14.00\" fill=\"#008bfb\">&#45;0.00</text>\n",
       "</g>\n",
       "<!-- Sex&#45;&gt;Serum Magnesium -->\n",
       "<g id=\"edge61\" class=\"edge\"><title>Sex&#45;&gt;Serum Magnesium</title>\n",
       "<path fill=\"none\" stroke=\"#ff0051\" stroke-width=\"0.0531049\" d=\"M2020.32,-476.754C2018.69,-453.822 2012.4,-413.466 1988.84,-390 1952.16,-353.457 1896.51,-336.444 1849.86,-328.574\"/>\n",
       "<polygon fill=\"#ff0051\" stroke=\"#ff0051\" stroke-width=\"0.0531049\" points=\"1850.17,-325.08 1839.75,-326.985 1849.08,-331.995 1850.17,-325.08\"/>\n",
       "<text text-anchor=\"middle\" x=\"2022.34\" y=\"-404.3\" font-family=\"Times,serif\" font-size=\"14.00\" fill=\"#ff0051\">0.00</text>\n",
       "</g>\n",
       "<!-- Sex&#45;&gt;Iron -->\n",
       "<g id=\"edge62\" class=\"edge\"><title>Sex&#45;&gt;Iron</title>\n",
       "<path fill=\"none\" stroke=\"#ff0051\" stroke-width=\"0.102094\" d=\"M1993.84,-488.911C1944.99,-479.732 1838.68,-459.883 1748.84,-444 1701.79,-435.68 1682.41,-452.793 1642.84,-426 1627.32,-415.486 1636.75,-399.935 1620.84,-390 1595.38,-374.093 1112.71,-342.107 1082.84,-339 1044.14,-334.972 999.865,-329.897 969.508,-326.345\"/>\n",
       "<polygon fill=\"#ff0051\" stroke=\"#ff0051\" stroke-width=\"0.102094\" points=\"969.722,-322.846 959.382,-325.156 968.906,-329.799 969.722,-322.846\"/>\n",
       "<text text-anchor=\"middle\" x=\"1655.34\" y=\"-404.3\" font-family=\"Times,serif\" font-size=\"14.00\" fill=\"#ff0051\">0.00</text>\n",
       "</g>\n",
       "<!-- Sex&#45;&gt;Inflamation -->\n",
       "<g id=\"edge63\" class=\"edge\"><title>Sex&#45;&gt;Inflamation</title>\n",
       "<path fill=\"none\" stroke=\"#ff0051\" stroke-width=\"0.123428\" d=\"M1993.63,-490.149C1963.99,-486.125 1915.15,-479.988 1872.84,-477 1604.83,-458.07 920.433,-508.857 664.844,-426 657.572,-423.642 578.255,-372.404 532.65,-342.744\"/>\n",
       "<polygon fill=\"#ff0051\" stroke=\"#ff0051\" stroke-width=\"0.123428\" points=\"534.3,-339.642 524.01,-337.12 530.482,-345.508 534.3,-339.642\"/>\n",
       "<text text-anchor=\"middle\" x=\"677.344\" y=\"-404.3\" font-family=\"Times,serif\" font-size=\"14.00\" fill=\"#ff0051\">0.00</text>\n",
       "</g>\n",
       "<!-- Sex&#45;&gt;Blood protein -->\n",
       "<g id=\"edge64\" class=\"edge\"><title>Sex&#45;&gt;Blood protein</title>\n",
       "<path fill=\"none\" stroke=\"#ff0051\" stroke-width=\"0.0510991\" d=\"M1993.63,-490.166C1963.99,-486.156 1915.15,-480.032 1872.84,-477 1380.34,-441.699 1240.81,-510.414 766.844,-372 738.649,-363.766 708.067,-351.224 684.575,-340.762\"/>\n",
       "<polygon fill=\"#ff0051\" stroke=\"#ff0051\" stroke-width=\"0.0510991\" points=\"685.848,-337.496 675.293,-336.572 682.968,-343.876 685.848,-337.496\"/>\n",
       "<text text-anchor=\"middle\" x=\"992.344\" y=\"-404.3\" font-family=\"Times,serif\" font-size=\"14.00\" fill=\"#ff0051\">0.00</text>\n",
       "</g>\n",
       "</g>\n",
       "</svg>\n"
      ],
      "text/plain": [
       "<graphviz.files.Source at 0x7ff5d91a9d10>"
      ]
     },
     "metadata": {},
     "output_type": "display_data"
    },
    {
     "data": {
      "text/plain": [
       "<AGraph <Swig Object of type 'Agraph_t *' at 0x7ff5d94c5f60>>"
      ]
     },
     "execution_count": 55,
     "metadata": {},
     "output_type": "execute_result"
    }
   ],
   "source": [
    "cf_c.draw(sample_ind, max_display=None, show_fg_val=False, edge_credit=causal_edge_credit)"
   ]
  },
  {
   "cell_type": "markdown",
   "metadata": {},
   "source": [
    "# Methods comparison"
   ]
  },
  {
   "cell_type": "code",
   "execution_count": 162,
   "metadata": {},
   "outputs": [
    {
     "data": {
      "image/svg+xml": [
       "<?xml version=\"1.0\" encoding=\"UTF-8\" standalone=\"no\"?>\n",
       "<!DOCTYPE svg PUBLIC \"-//W3C//DTD SVG 1.1//EN\"\n",
       " \"http://www.w3.org/Graphics/SVG/1.1/DTD/svg11.dtd\">\n",
       "<!-- Generated by graphviz version 2.38.0 (20140413.2041)\n",
       " -->\n",
       "<!-- Title: %3 Pages: 1 -->\n",
       "<svg width=\"2658pt\" height=\"542pt\"\n",
       " viewBox=\"0.00 0.00 2657.65 542.00\" xmlns=\"http://www.w3.org/2000/svg\" xmlns:xlink=\"http://www.w3.org/1999/xlink\">\n",
       "<g id=\"graph0\" class=\"graph\" transform=\"scale(1 1) rotate(0) translate(4 538)\">\n",
       "<title>%3</title>\n",
       "<polygon fill=\"white\" stroke=\"none\" points=\"-4,4 -4,-538 2653.65,-538 2653.65,4 -4,4\"/>\n",
       "<!-- Serum Cholesterol -->\n",
       "<g id=\"node1\" class=\"node\"><title>Serum Cholesterol</title>\n",
       "<ellipse fill=\"none\" stroke=\"black\" cx=\"1631.64\" cy=\"-321\" rx=\"77.1866\" ry=\"18\"/>\n",
       "<text text-anchor=\"middle\" x=\"1631.64\" y=\"-317.3\" font-family=\"Times,serif\" font-size=\"14.00\">Serum Cholesterol</text>\n",
       "</g>\n",
       "<!-- log hazard ratio prediction -->\n",
       "<g id=\"node2\" class=\"node\"><title>log hazard ratio prediction</title>\n",
       "<ellipse fill=\"none\" stroke=\"black\" cx=\"104.641\" cy=\"-18\" rx=\"104.782\" ry=\"18\"/>\n",
       "<text text-anchor=\"middle\" x=\"104.641\" y=\"-14.3\" font-family=\"Times,serif\" font-size=\"14.00\">log hazard ratio prediction</text>\n",
       "</g>\n",
       "<!-- Serum Cholesterol&#45;&gt;log hazard ratio prediction -->\n",
       "<g id=\"edge1\" class=\"edge\"><title>Serum Cholesterol&#45;&gt;log hazard ratio prediction</title>\n",
       "<path fill=\"none\" stroke=\"#008bfb\" stroke-width=\"0.112924\" d=\"M1576.51,-308.229C1564.72,-306.127 1552.31,-304.22 1540.64,-303 1498.64,-298.608 814.977,-309.592 780.641,-285 746.004,-260.193 779.735,-223.019 747.641,-195 719.533,-170.461 689.026,-206.075 665.641,-177 655.613,-164.532 658.346,-155.24 665.641,-141 671.883,-128.814 684.399,-135.186 690.641,-123 706.052,-92.9134 689.34,-68.1514 658.641,-54 619.767,-36.0802 368.013,-26.1757 217.587,-21.7921\"/>\n",
       "<polygon fill=\"#008bfb\" stroke=\"#008bfb\" stroke-width=\"0.112924\" points=\"217.479,-18.2877 207.383,-21.4987 217.278,-25.2848 217.479,-18.2877\"/>\n",
       "<text text-anchor=\"middle\" x=\"680.141\" y=\"-155.3\" font-family=\"Times,serif\" font-size=\"14.00\" fill=\"#008bfb\">&#45;0.00</text>\n",
       "</g>\n",
       "<!-- Poverty index -->\n",
       "<g id=\"node3\" class=\"node\"><title>Poverty index</title>\n",
       "<ellipse fill=\"none\" stroke=\"black\" cx=\"1631.64\" cy=\"-408\" rx=\"59.5901\" ry=\"18\"/>\n",
       "<text text-anchor=\"middle\" x=\"1631.64\" y=\"-404.3\" font-family=\"Times,serif\" font-size=\"14.00\">Poverty index</text>\n",
       "</g>\n",
       "<!-- Poverty index&#45;&gt;Serum Cholesterol -->\n",
       "<g id=\"edge2\" class=\"edge\"><title>Poverty index&#45;&gt;Serum Cholesterol</title>\n",
       "<path fill=\"none\" stroke=\"#ff0051\" stroke-width=\"0.0503544\" d=\"M1631.64,-389.799C1631.64,-378.163 1631.64,-362.548 1631.64,-349.237\"/>\n",
       "<polygon fill=\"#ff0051\" stroke=\"#ff0051\" stroke-width=\"0.0503544\" points=\"1635.14,-349.175 1631.64,-339.175 1628.14,-349.175 1635.14,-349.175\"/>\n",
       "<text text-anchor=\"middle\" x=\"1644.14\" y=\"-360.8\" font-family=\"Times,serif\" font-size=\"14.00\" fill=\"#ff0051\">0.00</text>\n",
       "</g>\n",
       "<!-- Poverty index&#45;&gt;log hazard ratio prediction -->\n",
       "<g id=\"edge3\" class=\"edge\"><title>Poverty index&#45;&gt;log hazard ratio prediction</title>\n",
       "<path fill=\"none\" stroke=\"#008bfb\" stroke-width=\"1.39768\" d=\"M1618.62,-390.115C1609.86,-379.594 1597.59,-366.332 1584.64,-357 1569.15,-345.84 1561.45,-349.707 1545.64,-339 1526.38,-325.953 1529.15,-311.871 1507.64,-303 1430.79,-271.299 835.747,-318.455 759.641,-285 729.139,-271.592 672.889,-205.506 655.641,-177 633.813,-140.926 651.463,-120.332 625.641,-87 609.107,-65.6573 600.231,-62.6032 574.641,-54 511.008,-32.6073 335.845,-24.2592 218.275,-21.0224\"/>\n",
       "<polygon fill=\"#008bfb\" stroke=\"#008bfb\" stroke-width=\"1.39768\" points=\"218.235,-17.5202 208.146,-20.7522 218.049,-24.5177 218.235,-17.5202\"/>\n",
       "<text text-anchor=\"middle\" x=\"712.141\" y=\"-209.3\" font-family=\"Times,serif\" font-size=\"14.00\" fill=\"#008bfb\">&#45;0.03</text>\n",
       "</g>\n",
       "<!-- Red blood cells -->\n",
       "<g id=\"node4\" class=\"node\"><title>Red blood cells</title>\n",
       "<ellipse fill=\"none\" stroke=\"black\" cx=\"332.641\" cy=\"-267\" rx=\"65.7887\" ry=\"18\"/>\n",
       "<text text-anchor=\"middle\" x=\"332.641\" y=\"-263.3\" font-family=\"Times,serif\" font-size=\"14.00\">Red blood cells</text>\n",
       "</g>\n",
       "<!-- Poverty index&#45;&gt;Red blood cells -->\n",
       "<g id=\"edge4\" class=\"edge\"><title>Poverty index&#45;&gt;Red blood cells</title>\n",
       "<path fill=\"none\" stroke=\"#008bfb\" stroke-width=\"0.0500767\" d=\"M1584.71,-396.683C1553.12,-389.335 1514.59,-379.476 1499.64,-372 1490.02,-367.188 1490.53,-361.235 1480.64,-357 1470.81,-352.793 1110.29,-303.929 1099.64,-303 859.974,-282.09 798.865,-298.026 558.641,-285 507.064,-282.203 448.956,-277.805 404.577,-274.182\"/>\n",
       "<polygon fill=\"#008bfb\" stroke=\"#008bfb\" stroke-width=\"0.0500767\" points=\"404.719,-270.682 394.466,-273.351 404.145,-277.659 404.719,-270.682\"/>\n",
       "<text text-anchor=\"middle\" x=\"1514.14\" y=\"-360.8\" font-family=\"Times,serif\" font-size=\"14.00\" fill=\"#008bfb\">&#45;0.00</text>\n",
       "</g>\n",
       "<!-- Blood pressure -->\n",
       "<g id=\"node5\" class=\"node\"><title>Blood pressure</title>\n",
       "<ellipse fill=\"none\" stroke=\"black\" cx=\"232.641\" cy=\"-321\" rx=\"63.8893\" ry=\"18\"/>\n",
       "<text text-anchor=\"middle\" x=\"232.641\" y=\"-317.3\" font-family=\"Times,serif\" font-size=\"14.00\">Blood pressure</text>\n",
       "</g>\n",
       "<!-- Poverty index&#45;&gt;Blood pressure -->\n",
       "<g id=\"edge5\" class=\"edge\"><title>Poverty index&#45;&gt;Blood pressure</title>\n",
       "<path fill=\"none\" stroke=\"#008bfb\" stroke-width=\"0.088821\" d=\"M1585.64,-396.358C1573.35,-393.882 1560.05,-391.527 1547.64,-390 1372.34,-368.418 1327.06,-380.591 1150.64,-372 868.815,-358.277 798.359,-354.763 516.641,-339 444.297,-334.952 361.611,-329.961 304.189,-326.437\"/>\n",
       "<polygon fill=\"#008bfb\" stroke=\"#008bfb\" stroke-width=\"0.088821\" points=\"304.322,-322.939 294.126,-325.819 303.893,-329.926 304.322,-322.939\"/>\n",
       "<text text-anchor=\"middle\" x=\"1165.14\" y=\"-360.8\" font-family=\"Times,serif\" font-size=\"14.00\" fill=\"#008bfb\">&#45;0.00</text>\n",
       "</g>\n",
       "<!-- BMI -->\n",
       "<g id=\"node6\" class=\"node\"><title>BMI</title>\n",
       "<ellipse fill=\"none\" stroke=\"black\" cx=\"553.641\" cy=\"-321\" rx=\"27.8951\" ry=\"18\"/>\n",
       "<text text-anchor=\"middle\" x=\"553.641\" y=\"-317.3\" font-family=\"Times,serif\" font-size=\"14.00\">BMI</text>\n",
       "</g>\n",
       "<!-- Poverty index&#45;&gt;BMI -->\n",
       "<g id=\"edge6\" class=\"edge\"><title>Poverty index&#45;&gt;BMI</title>\n",
       "<path fill=\"none\" stroke=\"#ff0051\" stroke-width=\"0.0667382\" d=\"M1585.17,-396.463C1573.01,-394.017 1559.88,-391.65 1547.64,-390 1357.45,-364.361 750.136,-332.078 591.725,-323.933\"/>\n",
       "<polygon fill=\"#ff0051\" stroke=\"#ff0051\" stroke-width=\"0.0667382\" points=\"591.694,-320.427 581.527,-323.41 591.335,-327.418 591.694,-320.427\"/>\n",
       "<text text-anchor=\"middle\" x=\"1373.14\" y=\"-360.8\" font-family=\"Times,serif\" font-size=\"14.00\" fill=\"#ff0051\">0.00</text>\n",
       "</g>\n",
       "<!-- Serum Magnesium -->\n",
       "<g id=\"node7\" class=\"node\"><title>Serum Magnesium</title>\n",
       "<ellipse fill=\"none\" stroke=\"black\" cx=\"1011.64\" cy=\"-321\" rx=\"79.0865\" ry=\"18\"/>\n",
       "<text text-anchor=\"middle\" x=\"1011.64\" y=\"-317.3\" font-family=\"Times,serif\" font-size=\"14.00\">Serum Magnesium</text>\n",
       "</g>\n",
       "<!-- Poverty index&#45;&gt;Serum Magnesium -->\n",
       "<g id=\"edge7\" class=\"edge\"><title>Poverty index&#45;&gt;Serum Magnesium</title>\n",
       "<path fill=\"none\" stroke=\"#008bfb\" stroke-width=\"0.0506093\" d=\"M1583.69,-397.172C1571.91,-394.792 1559.32,-392.277 1547.64,-390 1505.03,-381.694 1491.93,-388.167 1451.64,-372 1440.31,-367.455 1440.18,-360.964 1428.64,-357 1424.74,-355.66 1216.3,-338.59 1095.64,-328.794\"/>\n",
       "<polygon fill=\"#008bfb\" stroke=\"#008bfb\" stroke-width=\"0.0506093\" points=\"1095.57,-325.277 1085.32,-327.957 1095,-332.254 1095.57,-325.277\"/>\n",
       "<text text-anchor=\"middle\" x=\"1466.14\" y=\"-360.8\" font-family=\"Times,serif\" font-size=\"14.00\" fill=\"#008bfb\">&#45;0.00</text>\n",
       "</g>\n",
       "<!-- Iron -->\n",
       "<g id=\"node8\" class=\"node\"><title>Iron</title>\n",
       "<ellipse fill=\"none\" stroke=\"black\" cx=\"1856.64\" cy=\"-321\" rx=\"27\" ry=\"18\"/>\n",
       "<text text-anchor=\"middle\" x=\"1856.64\" y=\"-317.3\" font-family=\"Times,serif\" font-size=\"14.00\">Iron</text>\n",
       "</g>\n",
       "<!-- Poverty index&#45;&gt;Iron -->\n",
       "<g id=\"edge8\" class=\"edge\"><title>Poverty index&#45;&gt;Iron</title>\n",
       "<path fill=\"none\" stroke=\"#008bfb\" stroke-width=\"0.112279\" d=\"M1667.29,-393.531C1710.43,-377.237 1782.43,-350.035 1824.11,-334.289\"/>\n",
       "<polygon fill=\"#008bfb\" stroke=\"#008bfb\" stroke-width=\"0.112279\" points=\"1825.4,-337.542 1833.52,-330.734 1822.93,-330.994 1825.4,-337.542\"/>\n",
       "<text text-anchor=\"middle\" x=\"1772.14\" y=\"-360.8\" font-family=\"Times,serif\" font-size=\"14.00\" fill=\"#008bfb\">&#45;0.00</text>\n",
       "</g>\n",
       "<!-- Inflamation -->\n",
       "<g id=\"node9\" class=\"node\"><title>Inflamation</title>\n",
       "<ellipse fill=\"none\" stroke=\"black\" cx=\"2056.64\" cy=\"-321\" rx=\"51.9908\" ry=\"18\"/>\n",
       "<text text-anchor=\"middle\" x=\"2056.64\" y=\"-317.3\" font-family=\"Times,serif\" font-size=\"14.00\">Inflamation</text>\n",
       "</g>\n",
       "<!-- Poverty index&#45;&gt;Inflamation -->\n",
       "<g id=\"edge9\" class=\"edge\"><title>Poverty index&#45;&gt;Inflamation</title>\n",
       "<path fill=\"none\" stroke=\"#008bfb\" stroke-width=\"0.0617406\" d=\"M1675.65,-395.757C1685.47,-393.566 1695.87,-391.49 1705.64,-390 1808.76,-374.279 1838.33,-396.826 1939.64,-372 1967.8,-365.099 1997.84,-352.132 2020.43,-341.132\"/>\n",
       "<polygon fill=\"#008bfb\" stroke=\"#008bfb\" stroke-width=\"0.0617406\" points=\"2022.23,-344.146 2029.63,-336.562 2019.11,-337.877 2022.23,-344.146\"/>\n",
       "<text text-anchor=\"middle\" x=\"1998.14\" y=\"-360.8\" font-family=\"Times,serif\" font-size=\"14.00\" fill=\"#008bfb\">&#45;0.00</text>\n",
       "</g>\n",
       "<!-- Blood protein -->\n",
       "<g id=\"node10\" class=\"node\"><title>Blood protein</title>\n",
       "<ellipse fill=\"none\" stroke=\"black\" cx=\"1438.64\" cy=\"-321\" rx=\"59.5901\" ry=\"18\"/>\n",
       "<text text-anchor=\"middle\" x=\"1438.64\" y=\"-317.3\" font-family=\"Times,serif\" font-size=\"14.00\">Blood protein</text>\n",
       "</g>\n",
       "<!-- Poverty index&#45;&gt;Blood protein -->\n",
       "<g id=\"edge10\" class=\"edge\"><title>Poverty index&#45;&gt;Blood protein</title>\n",
       "<path fill=\"none\" stroke=\"#008bfb\" stroke-width=\"0.0668497\" d=\"M1598.2,-392.871C1584.75,-386.864 1569.25,-379.516 1555.64,-372 1544.96,-366.098 1543.54,-362.496 1532.64,-357 1518.48,-349.859 1502.51,-343.37 1487.79,-337.973\"/>\n",
       "<polygon fill=\"#008bfb\" stroke=\"#008bfb\" stroke-width=\"0.0668497\" points=\"1488.93,-334.663 1478.34,-334.587 1486.57,-341.254 1488.93,-334.663\"/>\n",
       "<text text-anchor=\"middle\" x=\"1570.14\" y=\"-360.8\" font-family=\"Times,serif\" font-size=\"14.00\" fill=\"#008bfb\">&#45;0.00</text>\n",
       "</g>\n",
       "<!-- Red blood cells&#45;&gt;log hazard ratio prediction -->\n",
       "<g id=\"edge11\" class=\"edge\"><title>Red blood cells&#45;&gt;log hazard ratio prediction</title>\n",
       "<path fill=\"none\" stroke=\"#008bfb\" stroke-width=\"0.0531578\" d=\"M370.652,-252.217C379.768,-247.018 388.378,-240.086 393.641,-231 401.659,-217.154 403.445,-207.644 393.641,-195 373.957,-169.614 343.325,-202.386 323.641,-177 313.836,-164.356 313.954,-153.734 323.641,-141 341.79,-117.142 370.492,-146.858 388.641,-123 398.328,-110.266 397.133,-100.56 388.641,-87 368.948,-55.5542 278.937,-37.8377 205.453,-28.4306\"/>\n",
       "<polygon fill=\"#008bfb\" stroke=\"#008bfb\" stroke-width=\"0.0531578\" points=\"205.558,-24.9168 195.203,-27.1578 204.696,-31.8635 205.558,-24.9168\"/>\n",
       "<text text-anchor=\"middle\" x=\"338.141\" y=\"-155.3\" font-family=\"Times,serif\" font-size=\"14.00\" fill=\"#008bfb\">&#45;0.00</text>\n",
       "</g>\n",
       "<!-- Systolic BP -->\n",
       "<g id=\"node11\" class=\"node\"><title>Systolic BP</title>\n",
       "<ellipse fill=\"none\" stroke=\"black\" cx=\"202.641\" cy=\"-213\" rx=\"51.9908\" ry=\"18\"/>\n",
       "<text text-anchor=\"middle\" x=\"202.641\" y=\"-209.3\" font-family=\"Times,serif\" font-size=\"14.00\">Systolic BP</text>\n",
       "</g>\n",
       "<!-- Blood pressure&#45;&gt;Systolic BP -->\n",
       "<g id=\"edge12\" class=\"edge\"><title>Blood pressure&#45;&gt;Systolic BP</title>\n",
       "<path fill=\"none\" stroke=\"#008bfb\" stroke-width=\"2.99161\" d=\"M200.999,-305.187C193.278,-299.957 185.994,-293.267 181.641,-285 174.186,-270.843 177.37,-264.419 181.641,-249 182.53,-245.79 183.8,-242.579 185.282,-239.476\"/>\n",
       "<polygon fill=\"#008bfb\" stroke=\"#008bfb\" stroke-width=\"2.99161\" points=\"188.416,-241.042 190.192,-230.597 182.29,-237.654 188.416,-241.042\"/>\n",
       "<text text-anchor=\"middle\" x=\"196.141\" y=\"-263.3\" font-family=\"Times,serif\" font-size=\"14.00\" fill=\"#008bfb\">&#45;0.06</text>\n",
       "</g>\n",
       "<!-- Diastolic BP -->\n",
       "<g id=\"node12\" class=\"node\"><title>Diastolic BP</title>\n",
       "<ellipse fill=\"none\" stroke=\"black\" cx=\"328.641\" cy=\"-213\" rx=\"55.7903\" ry=\"18\"/>\n",
       "<text text-anchor=\"middle\" x=\"328.641\" y=\"-209.3\" font-family=\"Times,serif\" font-size=\"14.00\">Diastolic BP</text>\n",
       "</g>\n",
       "<!-- Blood pressure&#45;&gt;Diastolic BP -->\n",
       "<g id=\"edge13\" class=\"edge\"><title>Blood pressure&#45;&gt;Diastolic BP</title>\n",
       "<path fill=\"none\" stroke=\"#008bfb\" stroke-width=\"0.734083\" d=\"M226.093,-302.854C221.37,-287.343 217.568,-264.607 228.641,-249 231.938,-244.352 255.477,-236.002 278.887,-228.624\"/>\n",
       "<polygon fill=\"#008bfb\" stroke=\"#008bfb\" stroke-width=\"0.734083\" points=\"279.989,-231.947 288.503,-225.642 277.915,-225.261 279.989,-231.947\"/>\n",
       "<text text-anchor=\"middle\" x=\"243.141\" y=\"-263.3\" font-family=\"Times,serif\" font-size=\"14.00\" fill=\"#008bfb\">&#45;0.01</text>\n",
       "</g>\n",
       "<!-- BMI&#45;&gt;log hazard ratio prediction -->\n",
       "<g id=\"edge14\" class=\"edge\"><title>BMI&#45;&gt;log hazard ratio prediction</title>\n",
       "<path fill=\"none\" stroke=\"#008bfb\" stroke-width=\"0.273786\" d=\"M526.001,-316.843C503.253,-312.917 471.47,-304.201 450.641,-285 418.587,-255.453 441.611,-226.658 411.641,-195 399.343,-182.009 385.045,-192.217 375.641,-177 367.229,-163.39 367.658,-154.866 375.641,-141 383.59,-127.193 398.692,-136.807 406.641,-123 414.624,-109.134 413.635,-101.39 406.641,-87 396.263,-65.649 386.507,-63.2421 364.641,-54 336.781,-42.2246 267.845,-33.2468 207.955,-27.3333\"/>\n",
       "<polygon fill=\"#008bfb\" stroke=\"#008bfb\" stroke-width=\"0.273786\" points=\"207.951,-23.8167 197.661,-26.3378 207.277,-30.7842 207.951,-23.8167\"/>\n",
       "<text text-anchor=\"middle\" x=\"390.141\" y=\"-155.3\" font-family=\"Times,serif\" font-size=\"14.00\" fill=\"#008bfb\">&#45;0.00</text>\n",
       "</g>\n",
       "<!-- Serum Magnesium&#45;&gt;log hazard ratio prediction -->\n",
       "<g id=\"edge15\" class=\"edge\"><title>Serum Magnesium&#45;&gt;log hazard ratio prediction</title>\n",
       "<path fill=\"none\" stroke=\"#008bfb\" stroke-width=\"0.180181\" d=\"M932.245,-320.227C820.537,-319.474 623.375,-313.904 558.641,-285 495.206,-256.676 480.393,-237.154 445.641,-177 415.951,-125.609 446.374,-81.236 393.641,-54 362.878,-38.1117 282.263,-29.2048 213.969,-24.3575\"/>\n",
       "<polygon fill=\"#008bfb\" stroke=\"#008bfb\" stroke-width=\"0.180181\" points=\"214.206,-20.8657 203.989,-23.6715 213.725,-27.8492 214.206,-20.8657\"/>\n",
       "<text text-anchor=\"middle\" x=\"460.141\" y=\"-155.3\" font-family=\"Times,serif\" font-size=\"14.00\" fill=\"#008bfb\">&#45;0.00</text>\n",
       "</g>\n",
       "<!-- TIBC -->\n",
       "<g id=\"node13\" class=\"node\"><title>TIBC</title>\n",
       "<ellipse fill=\"none\" stroke=\"black\" cx=\"818.641\" cy=\"-159\" rx=\"30.5947\" ry=\"18\"/>\n",
       "<text text-anchor=\"middle\" x=\"818.641\" y=\"-155.3\" font-family=\"Times,serif\" font-size=\"14.00\">TIBC</text>\n",
       "</g>\n",
       "<!-- Iron&#45;&gt;TIBC -->\n",
       "<g id=\"edge16\" class=\"edge\"><title>Iron&#45;&gt;TIBC</title>\n",
       "<path fill=\"none\" stroke=\"#ff0051\" stroke-width=\"0.154244\" d=\"M1830.59,-316.025C1802.71,-311.957 1757.17,-305.842 1717.64,-303 1694.83,-301.36 911.511,-300.436 894.641,-285 864.947,-257.833 907.263,-228.286 884.641,-195 883.457,-193.258 866.471,-184.267 850.03,-175.835\"/>\n",
       "<polygon fill=\"#ff0051\" stroke=\"#ff0051\" stroke-width=\"0.154244\" points=\"851.554,-172.684 841.056,-171.258 848.374,-178.919 851.554,-172.684\"/>\n",
       "<text text-anchor=\"middle\" x=\"907.141\" y=\"-263.3\" font-family=\"Times,serif\" font-size=\"14.00\" fill=\"#ff0051\">0.00</text>\n",
       "</g>\n",
       "<!-- TS -->\n",
       "<g id=\"node14\" class=\"node\"><title>TS</title>\n",
       "<ellipse fill=\"none\" stroke=\"black\" cx=\"730.641\" cy=\"-159\" rx=\"27\" ry=\"18\"/>\n",
       "<text text-anchor=\"middle\" x=\"730.641\" y=\"-155.3\" font-family=\"Times,serif\" font-size=\"14.00\">TS</text>\n",
       "</g>\n",
       "<!-- Iron&#45;&gt;TS -->\n",
       "<g id=\"edge17\" class=\"edge\"><title>Iron&#45;&gt;TS</title>\n",
       "<path fill=\"none\" stroke=\"#ff0051\" stroke-width=\"0.291985\" d=\"M1830.59,-316.006C1802.71,-311.923 1757.17,-305.796 1717.64,-303 1692.09,-301.193 814.56,-302.269 795.641,-285 765.916,-257.868 806.929,-229.155 785.641,-195 783.858,-192.14 771.831,-184.367 759.477,-176.87\"/>\n",
       "<polygon fill=\"#ff0051\" stroke=\"#ff0051\" stroke-width=\"0.291985\" points=\"760.943,-173.668 750.565,-171.534 757.347,-179.674 760.943,-173.668\"/>\n",
       "<text text-anchor=\"middle\" x=\"808.141\" y=\"-263.3\" font-family=\"Times,serif\" font-size=\"14.00\" fill=\"#ff0051\">0.01</text>\n",
       "</g>\n",
       "<!-- Serum Iron -->\n",
       "<g id=\"node15\" class=\"node\"><title>Serum Iron</title>\n",
       "<ellipse fill=\"none\" stroke=\"black\" cx=\"854.641\" cy=\"-105\" rx=\"51.1914\" ry=\"18\"/>\n",
       "<text text-anchor=\"middle\" x=\"854.641\" y=\"-101.3\" font-family=\"Times,serif\" font-size=\"14.00\">Serum Iron</text>\n",
       "</g>\n",
       "<!-- Iron&#45;&gt;Serum Iron -->\n",
       "<g id=\"edge18\" class=\"edge\"><title>Iron&#45;&gt;Serum Iron</title>\n",
       "<path fill=\"none\" stroke=\"#ff0051\" stroke-width=\"0.446062\" d=\"M1830.59,-316.022C1802.71,-311.951 1757.17,-305.834 1717.64,-303 1671.19,-299.669 921.662,-305.066 879.641,-285 832.397,-262.44 838.517,-234.046 803.641,-195 796.31,-186.793 790.706,-187.225 786.641,-177 780.73,-162.132 778.309,-154.659 786.641,-141 791.566,-132.925 799.015,-126.635 807.203,-121.76\"/>\n",
       "<polygon fill=\"#ff0051\" stroke=\"#ff0051\" stroke-width=\"0.446062\" points=\"809.051,-124.743 816.292,-117.009 805.809,-118.539 809.051,-124.743\"/>\n",
       "<text text-anchor=\"middle\" x=\"841.141\" y=\"-209.3\" font-family=\"Times,serif\" font-size=\"14.00\" fill=\"#ff0051\">0.01</text>\n",
       "</g>\n",
       "<!-- Sedimentation rate -->\n",
       "<g id=\"node16\" class=\"node\"><title>Sedimentation rate</title>\n",
       "<ellipse fill=\"none\" stroke=\"black\" cx=\"956.641\" cy=\"-159\" rx=\"77.1866\" ry=\"18\"/>\n",
       "<text text-anchor=\"middle\" x=\"956.641\" y=\"-155.3\" font-family=\"Times,serif\" font-size=\"14.00\">Sedimentation rate</text>\n",
       "</g>\n",
       "<!-- Inflamation&#45;&gt;Sedimentation rate -->\n",
       "<g id=\"edge19\" class=\"edge\"><title>Inflamation&#45;&gt;Sedimentation rate</title>\n",
       "<path fill=\"none\" stroke=\"#008bfb\" stroke-width=\"0.470665\" d=\"M2008.65,-313.958C1976,-310.111 1931.78,-305.412 1892.64,-303 1867.41,-301.445 1000.34,-303.053 982.641,-285 971.439,-273.575 980.48,-264.853 982.641,-249 983.762,-240.773 986.519,-239.227 987.641,-231 989.802,-215.147 993.314,-209.961 987.641,-195 986.295,-191.452 984.407,-188.032 982.22,-184.813\"/>\n",
       "<polygon fill=\"#008bfb\" stroke=\"#008bfb\" stroke-width=\"0.470665\" points=\"984.842,-182.486 975.898,-176.807 979.349,-186.824 984.842,-182.486\"/>\n",
       "<text text-anchor=\"middle\" x=\"997.141\" y=\"-263.3\" font-family=\"Times,serif\" font-size=\"14.00\" fill=\"#008bfb\">&#45;0.01</text>\n",
       "</g>\n",
       "<!-- White blood cells -->\n",
       "<g id=\"node17\" class=\"node\"><title>White blood cells</title>\n",
       "<ellipse fill=\"none\" stroke=\"black\" cx=\"1057.64\" cy=\"-105\" rx=\"73.387\" ry=\"18\"/>\n",
       "<text text-anchor=\"middle\" x=\"1057.64\" y=\"-101.3\" font-family=\"Times,serif\" font-size=\"14.00\">White blood cells</text>\n",
       "</g>\n",
       "<!-- Inflamation&#45;&gt;White blood cells -->\n",
       "<g id=\"edge20\" class=\"edge\"><title>Inflamation&#45;&gt;White blood cells</title>\n",
       "<path fill=\"none\" stroke=\"#008bfb\" stroke-width=\"0.634577\" d=\"M2008.65,-313.956C1976,-310.107 1931.78,-305.408 1892.64,-303 1841.67,-299.865 1019.37,-307.726 973.641,-285 928.016,-262.326 939.104,-230.583 902.641,-195 893.098,-185.688 884.604,-188.926 878.641,-177 871.485,-162.689 868.47,-153.352 878.641,-141 882.301,-136.555 939.606,-125.859 988.404,-117.452\"/>\n",
       "<polygon fill=\"#008bfb\" stroke=\"#008bfb\" stroke-width=\"0.634577\" points=\"989.082,-120.887 998.349,-115.75 987.901,-113.988 989.082,-120.887\"/>\n",
       "<text text-anchor=\"middle\" x=\"943.141\" y=\"-209.3\" font-family=\"Times,serif\" font-size=\"14.00\" fill=\"#008bfb\">&#45;0.01</text>\n",
       "</g>\n",
       "<!-- Serum Albumin -->\n",
       "<g id=\"node18\" class=\"node\"><title>Serum Albumin</title>\n",
       "<ellipse fill=\"none\" stroke=\"black\" cx=\"553.641\" cy=\"-159\" rx=\"68.4888\" ry=\"18\"/>\n",
       "<text text-anchor=\"middle\" x=\"553.641\" y=\"-155.3\" font-family=\"Times,serif\" font-size=\"14.00\">Serum Albumin</text>\n",
       "</g>\n",
       "<!-- Blood protein&#45;&gt;Serum Albumin -->\n",
       "<g id=\"edge21\" class=\"edge\"><title>Blood protein&#45;&gt;Serum Albumin</title>\n",
       "<path fill=\"none\" stroke=\"#008bfb\" stroke-width=\"0.226044\" d=\"M1383,-314.142C1345.16,-310.374 1293.93,-305.695 1248.64,-303 1214.96,-300.996 665.14,-309.207 641.641,-285 630.496,-273.52 638.319,-264.651 641.641,-249 643.458,-240.436 647.823,-239.564 649.641,-231 652.962,-215.349 658.814,-208.109 649.641,-195 644.534,-187.703 628.666,-180.746 611.263,-174.985\"/>\n",
       "<polygon fill=\"#008bfb\" stroke=\"#008bfb\" stroke-width=\"0.226044\" points=\"612.085,-171.574 601.495,-171.913 609.984,-178.252 612.085,-171.574\"/>\n",
       "<text text-anchor=\"middle\" x=\"656.141\" y=\"-263.3\" font-family=\"Times,serif\" font-size=\"14.00\" fill=\"#008bfb\">&#45;0.00</text>\n",
       "</g>\n",
       "<!-- Serum Protein -->\n",
       "<g id=\"node19\" class=\"node\"><title>Serum Protein</title>\n",
       "<ellipse fill=\"none\" stroke=\"black\" cx=\"578.641\" cy=\"-213\" rx=\"61.99\" ry=\"18\"/>\n",
       "<text text-anchor=\"middle\" x=\"578.641\" y=\"-209.3\" font-family=\"Times,serif\" font-size=\"14.00\">Serum Protein</text>\n",
       "</g>\n",
       "<!-- Blood protein&#45;&gt;Serum Protein -->\n",
       "<g id=\"edge22\" class=\"edge\"><title>Blood protein&#45;&gt;Serum Protein</title>\n",
       "<path fill=\"none\" stroke=\"#008bfb\" stroke-width=\"0.230509\" d=\"M1383.01,-314.097C1345.17,-310.309 1293.94,-305.625 1248.64,-303 1229.83,-301.91 583.785,-298.497 570.641,-285 559.531,-273.591 561.575,-255.771 566.375,-240.838\"/>\n",
       "<polygon fill=\"#008bfb\" stroke=\"#008bfb\" stroke-width=\"0.230509\" points=\"569.8,-241.668 570.01,-231.075 563.24,-239.225 569.8,-241.668\"/>\n",
       "<text text-anchor=\"middle\" x=\"585.141\" y=\"-263.3\" font-family=\"Times,serif\" font-size=\"14.00\" fill=\"#008bfb\">&#45;0.00</text>\n",
       "</g>\n",
       "<!-- Systolic BP&#45;&gt;log hazard ratio prediction -->\n",
       "<g id=\"edge23\" class=\"edge\"><title>Systolic BP&#45;&gt;log hazard ratio prediction</title>\n",
       "<path fill=\"none\" stroke=\"#008bfb\" stroke-width=\"2.28197\" d=\"M196.646,-194.682C185.949,-164.82 161.925,-102.206 132.641,-54 130.666,-50.7495 128.425,-47.4644 126.091,-44.2765\"/>\n",
       "<polygon fill=\"#008bfb\" stroke=\"#008bfb\" stroke-width=\"2.28197\" points=\"128.699,-41.9277 119.815,-36.155 123.16,-46.2079 128.699,-41.9277\"/>\n",
       "<text text-anchor=\"middle\" x=\"182.141\" y=\"-101.3\" font-family=\"Times,serif\" font-size=\"14.00\" fill=\"#008bfb\">&#45;0.05</text>\n",
       "</g>\n",
       "<!-- Pulse pressure -->\n",
       "<g id=\"node20\" class=\"node\"><title>Pulse pressure</title>\n",
       "<ellipse fill=\"none\" stroke=\"black\" cx=\"277.641\" cy=\"-105\" rx=\"61.99\" ry=\"18\"/>\n",
       "<text text-anchor=\"middle\" x=\"277.641\" y=\"-101.3\" font-family=\"Times,serif\" font-size=\"14.00\">Pulse pressure</text>\n",
       "</g>\n",
       "<!-- Systolic BP&#45;&gt;Pulse pressure -->\n",
       "<g id=\"edge24\" class=\"edge\"><title>Systolic BP&#45;&gt;Pulse pressure</title>\n",
       "<path fill=\"none\" stroke=\"#008bfb\" stroke-width=\"0.759632\" d=\"M200.626,-194.965C199.703,-179.53 200.693,-156.844 211.641,-141 216.255,-134.323 222.556,-128.819 229.446,-124.313\"/>\n",
       "<polygon fill=\"#008bfb\" stroke=\"#008bfb\" stroke-width=\"0.759632\" points=\"231.502,-127.166 238.403,-119.127 227.995,-121.108 231.502,-127.166\"/>\n",
       "<text text-anchor=\"middle\" x=\"226.141\" y=\"-155.3\" font-family=\"Times,serif\" font-size=\"14.00\" fill=\"#008bfb\">&#45;0.02</text>\n",
       "</g>\n",
       "<!-- Diastolic BP&#45;&gt;log hazard ratio prediction -->\n",
       "<g id=\"edge25\" class=\"edge\"><title>Diastolic BP&#45;&gt;log hazard ratio prediction</title>\n",
       "<path fill=\"none\" stroke=\"#008bfb\" stroke-width=\"0.985992\" d=\"M312.994,-195.452C308.801,-189.991 304.828,-183.612 302.641,-177 297.616,-161.81 293.621,-154.215 302.641,-141 315.017,-122.867 336.264,-141.133 348.641,-123 357.661,-109.785 358.254,-99.7903 348.641,-87 329.526,-61.5673 254.069,-43.1607 192.067,-31.9626\"/>\n",
       "<polygon fill=\"#008bfb\" stroke=\"#008bfb\" stroke-width=\"0.985992\" points=\"192.306,-28.4506 181.85,-30.1594 191.089,-35.3441 192.306,-28.4506\"/>\n",
       "<text text-anchor=\"middle\" x=\"370.141\" y=\"-101.3\" font-family=\"Times,serif\" font-size=\"14.00\" fill=\"#008bfb\">&#45;0.02</text>\n",
       "</g>\n",
       "<!-- Diastolic BP&#45;&gt;Pulse pressure -->\n",
       "<g id=\"edge26\" class=\"edge\"><title>Diastolic BP&#45;&gt;Pulse pressure</title>\n",
       "<path fill=\"none\" stroke=\"#ff0051\" stroke-width=\"0.30191\" d=\"M283.841,-202.219C270.568,-197.01 257.495,-189.071 249.641,-177 240.914,-163.589 244.345,-156.098 249.641,-141 250.9,-137.411 252.698,-133.917 254.785,-130.612\"/>\n",
       "<polygon fill=\"#ff0051\" stroke=\"#ff0051\" stroke-width=\"0.30191\" points=\"257.733,-132.51 260.808,-122.371 252.082,-128.379 257.733,-132.51\"/>\n",
       "<text text-anchor=\"middle\" x=\"262.141\" y=\"-155.3\" font-family=\"Times,serif\" font-size=\"14.00\" fill=\"#ff0051\">0.01</text>\n",
       "</g>\n",
       "<!-- TIBC&#45;&gt;log hazard ratio prediction -->\n",
       "<g id=\"edge27\" class=\"edge\"><title>TIBC&#45;&gt;log hazard ratio prediction</title>\n",
       "<path fill=\"none\" stroke=\"#ff0051\" stroke-width=\"0.154244\" d=\"M840.991,-146.468C845.143,-144.52 849.483,-142.61 853.641,-141 879.999,-130.79 897.716,-145.64 914.641,-123 924.221,-110.185 923.914,-100.038 914.641,-87 875.113,-31.4249 433.433,-21.0074 219.472,-19.238\"/>\n",
       "<polygon fill=\"#ff0051\" stroke=\"#ff0051\" stroke-width=\"0.154244\" points=\"219.485,-15.7381 209.458,-19.1602 219.431,-22.7379 219.485,-15.7381\"/>\n",
       "<text text-anchor=\"middle\" x=\"935.141\" y=\"-101.3\" font-family=\"Times,serif\" font-size=\"14.00\" fill=\"#ff0051\">0.00</text>\n",
       "</g>\n",
       "<!-- TS&#45;&gt;log hazard ratio prediction -->\n",
       "<g id=\"edge28\" class=\"edge\"><title>TS&#45;&gt;log hazard ratio prediction</title>\n",
       "<path fill=\"none\" stroke=\"#ff0051\" stroke-width=\"0.291985\" d=\"M733.013,-140.677C735.325,-115.606 734.973,-70.4124 705.641,-54 664.377,-30.9114 381.143,-22.9758 218.646,-20.3073\"/>\n",
       "<polygon fill=\"#ff0051\" stroke=\"#ff0051\" stroke-width=\"0.291985\" points=\"218.656,-16.8071 208.601,-20.1466 218.544,-23.8062 218.656,-16.8071\"/>\n",
       "<text text-anchor=\"middle\" x=\"747.141\" y=\"-101.3\" font-family=\"Times,serif\" font-size=\"14.00\" fill=\"#ff0051\">0.01</text>\n",
       "</g>\n",
       "<!-- Serum Iron&#45;&gt;log hazard ratio prediction -->\n",
       "<g id=\"edge29\" class=\"edge\"><title>Serum Iron&#45;&gt;log hazard ratio prediction</title>\n",
       "<path fill=\"none\" stroke=\"#ff0051\" stroke-width=\"0.446062\" d=\"M830.982,-88.9799C810.965,-77.131 781.077,-61.4084 752.641,-54 655.16,-28.603 377.678,-21.6091 219.232,-19.7004\"/>\n",
       "<polygon fill=\"#ff0051\" stroke=\"#ff0051\" stroke-width=\"0.446062\" points=\"219.011,-16.1977 208.971,-19.5819 218.93,-23.1972 219.011,-16.1977\"/>\n",
       "<text text-anchor=\"middle\" x=\"803.141\" y=\"-57.8\" font-family=\"Times,serif\" font-size=\"14.00\" fill=\"#ff0051\">0.01</text>\n",
       "</g>\n",
       "<!-- Sedimentation rate&#45;&gt;log hazard ratio prediction -->\n",
       "<g id=\"edge30\" class=\"edge\"><title>Sedimentation rate&#45;&gt;log hazard ratio prediction</title>\n",
       "<path fill=\"none\" stroke=\"#008bfb\" stroke-width=\"0.470665\" d=\"M1011.49,-146.239C1020.23,-144.437 1029.18,-142.635 1037.64,-141 1060.24,-136.636 1124.85,-140.633 1139.64,-123 1149.92,-110.743 1149.59,-99.5289 1139.64,-87 1099.34,-36.2633 1061.85,-62.6407 997.641,-54 850.49,-34.1992 424.222,-24.4424 218.442,-20.779\"/>\n",
       "<polygon fill=\"#008bfb\" stroke=\"#008bfb\" stroke-width=\"0.470665\" points=\"218.271,-17.2755 208.211,-20.5986 218.148,-24.2744 218.271,-17.2755\"/>\n",
       "<text text-anchor=\"middle\" x=\"1162.14\" y=\"-101.3\" font-family=\"Times,serif\" font-size=\"14.00\" fill=\"#008bfb\">&#45;0.01</text>\n",
       "</g>\n",
       "<!-- White blood cells&#45;&gt;log hazard ratio prediction -->\n",
       "<g id=\"edge31\" class=\"edge\"><title>White blood cells&#45;&gt;log hazard ratio prediction</title>\n",
       "<path fill=\"none\" stroke=\"#008bfb\" stroke-width=\"0.634577\" d=\"M1023.05,-89.1015C993.728,-77.2405 950.249,-61.438 910.641,-54 781.574,-29.7625 409.127,-22.2535 219.102,-19.9705\"/>\n",
       "<polygon fill=\"#008bfb\" stroke=\"#008bfb\" stroke-width=\"0.634577\" points=\"219.12,-16.4706 209.08,-19.8529 219.038,-23.4701 219.12,-16.4706\"/>\n",
       "<text text-anchor=\"middle\" x=\"979.141\" y=\"-57.8\" font-family=\"Times,serif\" font-size=\"14.00\" fill=\"#008bfb\">&#45;0.01</text>\n",
       "</g>\n",
       "<!-- Serum Albumin&#45;&gt;log hazard ratio prediction -->\n",
       "<g id=\"edge32\" class=\"edge\"><title>Serum Albumin&#45;&gt;log hazard ratio prediction</title>\n",
       "<path fill=\"none\" stroke=\"#008bfb\" stroke-width=\"0.226044\" d=\"M574.373,-141.848C579.721,-136.488 584.774,-130.065 587.641,-123 600.968,-90.1538 580.502,-67.2902 547.641,-54 490.118,-30.7361 329.985,-22.889 218.898,-20.2697\"/>\n",
       "<polygon fill=\"#008bfb\" stroke=\"#008bfb\" stroke-width=\"0.226044\" points=\"218.718,-16.7649 208.642,-20.0393 218.561,-23.7631 218.718,-16.7649\"/>\n",
       "<text text-anchor=\"middle\" x=\"607.141\" y=\"-101.3\" font-family=\"Times,serif\" font-size=\"14.00\" fill=\"#008bfb\">&#45;0.00</text>\n",
       "</g>\n",
       "<!-- Serum Protein&#45;&gt;log hazard ratio prediction -->\n",
       "<g id=\"edge33\" class=\"edge\"><title>Serum Protein&#45;&gt;log hazard ratio prediction</title>\n",
       "<path fill=\"none\" stroke=\"#008bfb\" stroke-width=\"0.230509\" d=\"M525.067,-204.003C509.458,-198.909 494.08,-190.586 484.641,-177 475.512,-163.86 476.085,-154.52 484.641,-141 494.634,-125.209 512.647,-138.791 522.641,-123 539.715,-96.0197 529.746,-70.8742 502.641,-54 478.693,-39.0919 324.476,-28.9978 215.214,-23.6193\"/>\n",
       "<polygon fill=\"#008bfb\" stroke=\"#008bfb\" stroke-width=\"0.230509\" points=\"215.276,-20.1183 205.118,-23.1294 214.937,-27.1101 215.276,-20.1183\"/>\n",
       "<text text-anchor=\"middle\" x=\"546.141\" y=\"-101.3\" font-family=\"Times,serif\" font-size=\"14.00\" fill=\"#008bfb\">&#45;0.00</text>\n",
       "</g>\n",
       "<!-- Pulse pressure&#45;&gt;log hazard ratio prediction -->\n",
       "<g id=\"edge35\" class=\"edge\"><title>Pulse pressure&#45;&gt;log hazard ratio prediction</title>\n",
       "<path fill=\"none\" stroke=\"#008bfb\" stroke-width=\"0.507723\" d=\"M247.506,-89.1941C219.695,-75.5297 178.115,-55.1003 146.974,-39.7994\"/>\n",
       "<polygon fill=\"#008bfb\" stroke=\"#008bfb\" stroke-width=\"0.507723\" points=\"148.189,-36.4972 137.671,-35.2287 145.103,-42.7798 148.189,-36.4972\"/>\n",
       "<text text-anchor=\"middle\" x=\"216.141\" y=\"-57.8\" font-family=\"Times,serif\" font-size=\"14.00\" fill=\"#008bfb\">&#45;0.01</text>\n",
       "</g>\n",
       "<!-- Poverty index noise -->\n",
       "<g id=\"node21\" class=\"node\"><title>Poverty index noise</title>\n",
       "<ellipse fill=\"none\" stroke=\"black\" cx=\"1164.64\" cy=\"-516\" rx=\"81.4863\" ry=\"18\"/>\n",
       "<text text-anchor=\"middle\" x=\"1164.64\" y=\"-512.3\" font-family=\"Times,serif\" font-size=\"14.00\">Poverty index noise</text>\n",
       "</g>\n",
       "<!-- Poverty index noise&#45;&gt;Poverty index -->\n",
       "<g id=\"edge34\" class=\"edge\"><title>Poverty index noise&#45;&gt;Poverty index</title>\n",
       "<path fill=\"none\" stroke=\"#008bfb\" stroke-width=\"1.16007\" d=\"M1204.95,-500.178C1250.6,-483.968 1327.5,-458.385 1395.64,-444 1462.2,-429.95 1480.47,-436.756 1547.64,-426 1556.39,-424.598 1565.62,-422.928 1574.63,-421.191\"/>\n",
       "<polygon fill=\"#008bfb\" stroke=\"#008bfb\" stroke-width=\"1.16007\" points=\"1575.54,-424.58 1584.67,-419.211 1574.18,-417.712 1575.54,-424.58\"/>\n",
       "<text text-anchor=\"middle\" x=\"1410.14\" y=\"-458.3\" font-family=\"Times,serif\" font-size=\"14.00\" fill=\"#008bfb\">&#45;0.02</text>\n",
       "</g>\n",
       "<!-- Blood pressure noise -->\n",
       "<g id=\"node22\" class=\"node\"><title>Blood pressure noise</title>\n",
       "<ellipse fill=\"none\" stroke=\"black\" cx=\"199.641\" cy=\"-462\" rx=\"85.2851\" ry=\"18\"/>\n",
       "<text text-anchor=\"middle\" x=\"199.641\" y=\"-458.3\" font-family=\"Times,serif\" font-size=\"14.00\">Blood pressure noise</text>\n",
       "</g>\n",
       "<!-- Blood pressure noise&#45;&gt;Blood pressure -->\n",
       "<g id=\"edge36\" class=\"edge\"><title>Blood pressure noise&#45;&gt;Blood pressure</title>\n",
       "<path fill=\"none\" stroke=\"#008bfb\" stroke-width=\"3.58558\" d=\"M189.065,-444.116C177.088,-422.638 161.133,-384.981 176.641,-357 179.814,-351.275 184.357,-346.362 189.501,-342.185\"/>\n",
       "<polygon fill=\"#008bfb\" stroke=\"#008bfb\" stroke-width=\"3.58558\" points=\"191.813,-344.837 197.969,-336.215 187.78,-339.116 191.813,-344.837\"/>\n",
       "<text text-anchor=\"middle\" x=\"194.141\" y=\"-404.3\" font-family=\"Times,serif\" font-size=\"14.00\" fill=\"#008bfb\">&#45;0.08</text>\n",
       "</g>\n",
       "<!-- Serum Cholesterol noise -->\n",
       "<g id=\"node23\" class=\"node\"><title>Serum Cholesterol noise</title>\n",
       "<ellipse fill=\"none\" stroke=\"black\" cx=\"1990.64\" cy=\"-408\" rx=\"98.2828\" ry=\"18\"/>\n",
       "<text text-anchor=\"middle\" x=\"1990.64\" y=\"-404.3\" font-family=\"Times,serif\" font-size=\"14.00\">Serum Cholesterol noise</text>\n",
       "</g>\n",
       "<!-- Serum Cholesterol noise&#45;&gt;Serum Cholesterol -->\n",
       "<g id=\"edge37\" class=\"edge\"><title>Serum Cholesterol noise&#45;&gt;Serum Cholesterol</title>\n",
       "<path fill=\"none\" stroke=\"#008bfb\" stroke-width=\"0.195254\" d=\"M1956.32,-391.042C1931.16,-379.955 1895.91,-365.667 1863.64,-357 1814.18,-343.714 1757.33,-335.036 1712.29,-329.644\"/>\n",
       "<polygon fill=\"#008bfb\" stroke=\"#008bfb\" stroke-width=\"0.195254\" points=\"1712.62,-326.159 1702.28,-328.476 1711.81,-333.112 1712.62,-326.159\"/>\n",
       "<text text-anchor=\"middle\" x=\"1921.14\" y=\"-360.8\" font-family=\"Times,serif\" font-size=\"14.00\" fill=\"#008bfb\">&#45;0.00</text>\n",
       "</g>\n",
       "<!-- Red blood cells noise -->\n",
       "<g id=\"node24\" class=\"node\"><title>Red blood cells noise</title>\n",
       "<ellipse fill=\"none\" stroke=\"black\" cx=\"451.641\" cy=\"-462\" rx=\"87.1846\" ry=\"18\"/>\n",
       "<text text-anchor=\"middle\" x=\"451.641\" y=\"-458.3\" font-family=\"Times,serif\" font-size=\"14.00\">Red blood cells noise</text>\n",
       "</g>\n",
       "<!-- Red blood cells noise&#45;&gt;Red blood cells -->\n",
       "<g id=\"edge38\" class=\"edge\"><title>Red blood cells noise&#45;&gt;Red blood cells</title>\n",
       "<path fill=\"none\" stroke=\"#008bfb\" stroke-width=\"0.0516543\" d=\"M448.249,-444.007C444.093,-427.703 435.429,-403.611 418.641,-390 391.005,-367.594 362.79,-399.842 340.641,-372 336.49,-366.783 339.913,-363.627 340.641,-357 341.535,-348.854 343.746,-347.146 344.641,-339 346.387,-323.096 347.271,-318.782 344.641,-303 344.191,-300.301 343.559,-297.532 342.817,-294.789\"/>\n",
       "<polygon fill=\"#008bfb\" stroke=\"#008bfb\" stroke-width=\"0.0516543\" points=\"346.125,-293.64 339.783,-285.153 339.448,-295.743 346.125,-293.64\"/>\n",
       "<text text-anchor=\"middle\" x=\"355.141\" y=\"-360.8\" font-family=\"Times,serif\" font-size=\"14.00\" fill=\"#008bfb\">&#45;0.00</text>\n",
       "</g>\n",
       "<!-- Age -->\n",
       "<g id=\"node25\" class=\"node\"><title>Age</title>\n",
       "<ellipse fill=\"none\" stroke=\"black\" cx=\"1011.64\" cy=\"-516\" rx=\"27\" ry=\"18\"/>\n",
       "<text text-anchor=\"middle\" x=\"1011.64\" y=\"-512.3\" font-family=\"Times,serif\" font-size=\"14.00\">Age</text>\n",
       "</g>\n",
       "<!-- Age&#45;&gt;Serum Cholesterol -->\n",
       "<g id=\"edge39\" class=\"edge\"><title>Age&#45;&gt;Serum Cholesterol</title>\n",
       "<path fill=\"none\" stroke=\"#ff0051\" stroke-width=\"0.141604\" d=\"M1035.65,-507.457C1047.31,-504.068 1061.59,-500.318 1074.64,-498 1164.26,-482.082 1188.86,-494.939 1278.64,-480 1344.57,-469.031 1358.54,-453.852 1424.64,-444 1461.18,-438.554 1731.23,-452.82 1756.64,-426 1778.29,-403.145 1764.41,-377.64 1740.64,-357 1729.61,-347.418 1715.92,-340.453 1702.01,-335.392\"/>\n",
       "<polygon fill=\"#ff0051\" stroke=\"#ff0051\" stroke-width=\"0.141604\" points=\"1702.97,-332.023 1692.38,-332.184 1700.76,-338.665 1702.97,-332.023\"/>\n",
       "<text text-anchor=\"middle\" x=\"1780.14\" y=\"-404.3\" font-family=\"Times,serif\" font-size=\"14.00\" fill=\"#ff0051\">0.00</text>\n",
       "</g>\n",
       "<!-- Age&#45;&gt;log hazard ratio prediction -->\n",
       "<g id=\"edge40\" class=\"edge\"><title>Age&#45;&gt;log hazard ratio prediction</title>\n",
       "<path fill=\"none\" stroke=\"#008bfb\" stroke-width=\"3.54839\" d=\"M984.488,-513.883C917.457,-511.13 738.74,-503.822 589.641,-498 563.198,-496.967 131.996,-499.063 113.641,-480 102.543,-468.475 106.346,-458.24 113.641,-444 119.883,-431.814 132.399,-438.186 138.641,-426 145.935,-411.76 139.372,-405.983 138.641,-390 132.746,-261.086 115.387,-107.761 108.015,-46.3821\"/>\n",
       "<polygon fill=\"#008bfb\" stroke=\"#008bfb\" stroke-width=\"3.54839\" points=\"111.476,-45.8525 106.799,-36.3458 104.527,-46.6941 111.476,-45.8525\"/>\n",
       "<text text-anchor=\"middle\" x=\"147.141\" y=\"-263.3\" font-family=\"Times,serif\" font-size=\"14.00\" fill=\"#008bfb\">&#45;0.08</text>\n",
       "</g>\n",
       "<!-- Age&#45;&gt;Poverty index -->\n",
       "<g id=\"edge41\" class=\"edge\"><title>Age&#45;&gt;Poverty index</title>\n",
       "<path fill=\"none\" stroke=\"#008bfb\" stroke-width=\"0.287522\" d=\"M1036.14,-507.809C1059.65,-500.859 1096.15,-489.949 1127.64,-480 1176.29,-464.63 1186.53,-453.555 1236.64,-444 1372.64,-418.069 1410.33,-443.776 1547.64,-426 1556.74,-424.822 1566.34,-423.224 1575.66,-421.478\"/>\n",
       "<polygon fill=\"#008bfb\" stroke=\"#008bfb\" stroke-width=\"0.287522\" points=\"1576.48,-424.884 1585.62,-419.537 1575.14,-418.012 1576.48,-424.884\"/>\n",
       "<text text-anchor=\"middle\" x=\"1251.14\" y=\"-458.3\" font-family=\"Times,serif\" font-size=\"14.00\" fill=\"#008bfb\">&#45;0.01</text>\n",
       "</g>\n",
       "<!-- Age&#45;&gt;Red blood cells -->\n",
       "<g id=\"edge42\" class=\"edge\"><title>Age&#45;&gt;Red blood cells</title>\n",
       "<path fill=\"none\" stroke=\"#008bfb\" stroke-width=\"0.0512193\" d=\"M984.561,-514.784C903.565,-513.82 664.355,-508.564 592.641,-480 568.846,-470.523 568.316,-459.118 547.641,-444 535.999,-435.487 532.179,-434.653 520.641,-426 460.39,-380.816 393.778,-322.762 358.269,-291.111\"/>\n",
       "<polygon fill=\"#008bfb\" stroke=\"#008bfb\" stroke-width=\"0.0512193\" points=\"360.55,-288.455 350.762,-284.399 355.885,-293.674 360.55,-288.455\"/>\n",
       "<text text-anchor=\"middle\" x=\"535.141\" y=\"-404.3\" font-family=\"Times,serif\" font-size=\"14.00\" fill=\"#008bfb\">&#45;0.00</text>\n",
       "</g>\n",
       "<!-- Age&#45;&gt;Blood pressure -->\n",
       "<g id=\"edge43\" class=\"edge\"><title>Age&#45;&gt;Blood pressure</title>\n",
       "<path fill=\"none\" stroke=\"#ff0051\" stroke-width=\"0.0725604\" d=\"M984.69,-513.825C861.11,-508.409 353.992,-485.869 338.641,-480 338.083,-479.787 204.899,-372.539 204.641,-372 200.605,-363.564 203.308,-354.581 208.345,-346.592\"/>\n",
       "<polygon fill=\"#ff0051\" stroke=\"#ff0051\" stroke-width=\"0.0725604\" points=\"211.305,-348.48 214.519,-338.384 205.711,-344.272 211.305,-348.48\"/>\n",
       "<text text-anchor=\"middle\" x=\"282.141\" y=\"-404.3\" font-family=\"Times,serif\" font-size=\"14.00\" fill=\"#ff0051\">0.00</text>\n",
       "</g>\n",
       "<!-- Age&#45;&gt;BMI -->\n",
       "<g id=\"edge44\" class=\"edge\"><title>Age&#45;&gt;BMI</title>\n",
       "<path fill=\"none\" stroke=\"#008bfb\" stroke-width=\"0.0749007\" d=\"M984.531,-513.673C928.9,-510.542 804.019,-501.295 767.641,-480 724.142,-454.537 740.188,-418.535 698.641,-390 675.34,-373.997 663.543,-383.317 637.641,-372 617.564,-363.228 596.376,-350.589 580.301,-340.213\"/>\n",
       "<polygon fill=\"#008bfb\" stroke=\"#008bfb\" stroke-width=\"0.0749007\" points=\"582.217,-337.284 571.937,-334.72 578.375,-343.135 582.217,-337.284\"/>\n",
       "<text text-anchor=\"middle\" x=\"743.141\" y=\"-404.3\" font-family=\"Times,serif\" font-size=\"14.00\" fill=\"#008bfb\">&#45;0.00</text>\n",
       "</g>\n",
       "<!-- Age&#45;&gt;Serum Magnesium -->\n",
       "<g id=\"edge45\" class=\"edge\"><title>Age&#45;&gt;Serum Magnesium</title>\n",
       "<path fill=\"none\" stroke=\"#ff0051\" stroke-width=\"0.0503458\" d=\"M1011.64,-497.873C1011.64,-464.323 1011.64,-389.707 1011.64,-349.287\"/>\n",
       "<polygon fill=\"#ff0051\" stroke=\"#ff0051\" stroke-width=\"0.0503458\" points=\"1015.14,-349.089 1011.64,-339.089 1008.14,-349.089 1015.14,-349.089\"/>\n",
       "<text text-anchor=\"middle\" x=\"1024.14\" y=\"-404.3\" font-family=\"Times,serif\" font-size=\"14.00\" fill=\"#ff0051\">0.00</text>\n",
       "</g>\n",
       "<!-- Age&#45;&gt;Iron -->\n",
       "<g id=\"edge46\" class=\"edge\"><title>Age&#45;&gt;Iron</title>\n",
       "<path fill=\"none\" stroke=\"#ff0051\" stroke-width=\"0.100718\" d=\"M1035.3,-507.23C1047,-503.744 1061.42,-499.978 1074.64,-498 1311.25,-462.602 1373.84,-494.554 1612.64,-480 1621.13,-479.483 2216.9,-432.274 2222.64,-426 2292.35,-349.852 2175.99,-369.825 2118.64,-357 2097.12,-352.187 1960.21,-334.87 1893.32,-326.539\"/>\n",
       "<polygon fill=\"#ff0051\" stroke=\"#ff0051\" stroke-width=\"0.100718\" points=\"1893.57,-323.043 1883.22,-325.283 1892.71,-329.99 1893.57,-323.043\"/>\n",
       "<text text-anchor=\"middle\" x=\"2257.14\" y=\"-404.3\" font-family=\"Times,serif\" font-size=\"14.00\" fill=\"#ff0051\">0.00</text>\n",
       "</g>\n",
       "<!-- Age&#45;&gt;Inflamation -->\n",
       "<g id=\"edge47\" class=\"edge\"><title>Age&#45;&gt;Inflamation</title>\n",
       "<path fill=\"none\" stroke=\"#008bfb\" stroke-width=\"0.0688868\" d=\"M1035.29,-507.172C1046.99,-503.673 1061.41,-499.911 1074.64,-498 1243.82,-473.558 1673.04,-490.72 1843.64,-480 1873.01,-478.154 2350.92,-447.846 2370.64,-426 2444.71,-343.949 2229.86,-326.49 2118.7,-322.877\"/>\n",
       "<polygon fill=\"#008bfb\" stroke=\"#008bfb\" stroke-width=\"0.0688868\" points=\"2118.71,-319.375 2108.61,-322.577 2118.5,-326.372 2118.71,-319.375\"/>\n",
       "<text text-anchor=\"middle\" x=\"2401.14\" y=\"-404.3\" font-family=\"Times,serif\" font-size=\"14.00\" fill=\"#008bfb\">&#45;0.00</text>\n",
       "</g>\n",
       "<!-- Age&#45;&gt;Blood protein -->\n",
       "<g id=\"edge48\" class=\"edge\"><title>Age&#45;&gt;Blood protein</title>\n",
       "<path fill=\"none\" stroke=\"#008bfb\" stroke-width=\"0.0655897\" d=\"M1027.17,-500.803C1033.7,-494.61 1041.24,-487.144 1047.64,-480 1061.16,-464.899 1058.69,-455.121 1075.64,-444 1102.5,-426.376 1117.52,-441.526 1145.64,-426 1184.72,-404.422 1178.59,-376.72 1218.64,-357 1265.32,-334.02 1323.69,-325.526 1368.57,-322.64\"/>\n",
       "<polygon fill=\"#008bfb\" stroke=\"#008bfb\" stroke-width=\"0.0655897\" points=\"1369.01,-326.121 1378.8,-322.063 1368.62,-319.132 1369.01,-326.121\"/>\n",
       "<text text-anchor=\"middle\" x=\"1197.14\" y=\"-404.3\" font-family=\"Times,serif\" font-size=\"14.00\" fill=\"#008bfb\">&#45;0.00</text>\n",
       "</g>\n",
       "<!-- Race -->\n",
       "<g id=\"node26\" class=\"node\"><title>Race</title>\n",
       "<polygon fill=\"none\" stroke=\"black\" points=\"580.641,-534 526.641,-534 526.641,-498 580.641,-498 580.641,-534\"/>\n",
       "<text text-anchor=\"middle\" x=\"553.641\" y=\"-512.3\" font-family=\"Times,serif\" font-size=\"14.00\">Race</text>\n",
       "</g>\n",
       "<!-- Race&#45;&gt;Serum Cholesterol -->\n",
       "<g id=\"edge49\" class=\"edge\"><title>Race&#45;&gt;Serum Cholesterol</title>\n",
       "<path fill=\"none\" stroke=\"#ff0051\" stroke-width=\"0.05\" d=\"M581.005,-513.949C691.542,-509.623 1100.35,-492.817 1124.64,-480 1142.57,-470.541 1134.58,-453.203 1152.64,-444 1206.92,-416.339 1653.75,-464.895 1700.64,-426 1724.6,-406.127 1729.74,-383.012 1712.64,-357 1707.8,-349.639 1701.05,-343.819 1693.49,-339.219\"/>\n",
       "<polygon fill=\"#ff0051\" stroke=\"#ff0051\" stroke-width=\"0.05\" points=\"1694.79,-335.944 1684.31,-334.361 1691.51,-342.131 1694.79,-335.944\"/>\n",
       "<text text-anchor=\"middle\" x=\"1735.14\" y=\"-404.3\" font-family=\"Times,serif\" font-size=\"14.00\" fill=\"#ff0051\">0.00</text>\n",
       "</g>\n",
       "<!-- Race&#45;&gt;log hazard ratio prediction -->\n",
       "<g id=\"edge50\" class=\"edge\"><title>Race&#45;&gt;log hazard ratio prediction</title>\n",
       "<path fill=\"none\" stroke=\"#008bfb\" stroke-width=\"0.149311\" d=\"M526.38,-515.125C429.169,-515.292 103.643,-513.34 72.6407,-480 -42.62,-356.048 53.8322,-123.296 91.324,-45.2603\"/>\n",
       "<polygon fill=\"#008bfb\" stroke=\"#008bfb\" stroke-width=\"0.149311\" points=\"94.5458,-46.6388 95.7898,-36.1172 88.256,-43.5666 94.5458,-46.6388\"/>\n",
       "<text text-anchor=\"middle\" x=\"39.1407\" y=\"-263.3\" font-family=\"Times,serif\" font-size=\"14.00\" fill=\"#008bfb\">&#45;0.00</text>\n",
       "</g>\n",
       "<!-- Race&#45;&gt;Poverty index -->\n",
       "<g id=\"edge51\" class=\"edge\"><title>Race&#45;&gt;Poverty index</title>\n",
       "<path fill=\"none\" stroke=\"#008bfb\" stroke-width=\"0.189558\" d=\"M580.82,-515.197C671.668,-515.531 963.932,-513.883 1050.64,-480 1074.5,-470.678 1071.65,-452.957 1095.64,-444 1142.73,-426.422 1497.74,-432.004 1547.64,-426 1556.75,-424.904 1566.35,-423.348 1575.67,-421.619\"/>\n",
       "<polygon fill=\"#008bfb\" stroke=\"#008bfb\" stroke-width=\"0.189558\" points=\"1576.49,-425.026 1585.64,-419.688 1575.16,-418.154 1576.49,-425.026\"/>\n",
       "<text text-anchor=\"middle\" x=\"1110.14\" y=\"-458.3\" font-family=\"Times,serif\" font-size=\"14.00\" fill=\"#008bfb\">&#45;0.00</text>\n",
       "</g>\n",
       "<!-- Race&#45;&gt;Red blood cells -->\n",
       "<g id=\"edge52\" class=\"edge\"><title>Race&#45;&gt;Red blood cells</title>\n",
       "<path fill=\"none\" stroke=\"#ff0051\" stroke-width=\"0.05\" d=\"M526.356,-513.021C478.7,-509.108 382.778,-499.06 355.641,-480 298.042,-439.545 313.311,-342.251 324.983,-294.855\"/>\n",
       "<polygon fill=\"#ff0051\" stroke=\"#ff0051\" stroke-width=\"0.05\" points=\"328.415,-295.562 327.537,-285.004 321.639,-293.806 328.415,-295.562\"/>\n",
       "<text text-anchor=\"middle\" x=\"333.141\" y=\"-404.3\" font-family=\"Times,serif\" font-size=\"14.00\" fill=\"#ff0051\">0.00</text>\n",
       "</g>\n",
       "<!-- Race&#45;&gt;Blood pressure -->\n",
       "<g id=\"edge53\" class=\"edge\"><title>Race&#45;&gt;Blood pressure</title>\n",
       "<path fill=\"none\" stroke=\"#008bfb\" stroke-width=\"0.102933\" d=\"M526.632,-515.053C431.853,-514.959 118.508,-512.2 88.6407,-480 42.7366,-430.511 134.74,-371.592 191.868,-341.621\"/>\n",
       "<polygon fill=\"#008bfb\" stroke=\"#008bfb\" stroke-width=\"0.102933\" points=\"193.766,-344.581 201.055,-336.892 190.562,-338.357 193.766,-344.581\"/>\n",
       "<text text-anchor=\"middle\" x=\"129.141\" y=\"-404.3\" font-family=\"Times,serif\" font-size=\"14.00\" fill=\"#008bfb\">&#45;0.00</text>\n",
       "</g>\n",
       "<!-- Race&#45;&gt;BMI -->\n",
       "<g id=\"edge54\" class=\"edge\"><title>Race&#45;&gt;BMI</title>\n",
       "<path fill=\"none\" stroke=\"#ff0051\" stroke-width=\"0.0520973\" d=\"M553.641,-497.873C553.641,-464.323 553.641,-389.707 553.641,-349.287\"/>\n",
       "<polygon fill=\"#ff0051\" stroke=\"#ff0051\" stroke-width=\"0.0520973\" points=\"557.141,-349.089 553.641,-339.089 550.141,-349.089 557.141,-349.089\"/>\n",
       "<text text-anchor=\"middle\" x=\"566.141\" y=\"-404.3\" font-family=\"Times,serif\" font-size=\"14.00\" fill=\"#ff0051\">0.00</text>\n",
       "</g>\n",
       "<!-- Race&#45;&gt;Serum Magnesium -->\n",
       "<g id=\"edge55\" class=\"edge\"><title>Race&#45;&gt;Serum Magnesium</title>\n",
       "<path fill=\"none\" stroke=\"#008bfb\" stroke-width=\"0.073206\" d=\"M580.854,-514.166C616.163,-512.067 678.783,-504.816 725.641,-480 794.799,-443.373 782.751,-394.131 851.641,-357 875.611,-344.08 904.038,-335.929 930.233,-330.786\"/>\n",
       "<polygon fill=\"#008bfb\" stroke=\"#008bfb\" stroke-width=\"0.073206\" points=\"930.949,-334.213 940.149,-328.959 929.68,-327.329 930.949,-334.213\"/>\n",
       "<text text-anchor=\"middle\" x=\"824.141\" y=\"-404.3\" font-family=\"Times,serif\" font-size=\"14.00\" fill=\"#008bfb\">&#45;0.00</text>\n",
       "</g>\n",
       "<!-- Race&#45;&gt;Iron -->\n",
       "<g id=\"edge56\" class=\"edge\"><title>Race&#45;&gt;Iron</title>\n",
       "<path fill=\"none\" stroke=\"#008bfb\" stroke-width=\"0.0554842\" d=\"M580.955,-513.89C701.892,-508.939 1186.14,-488.738 1253.64,-480 1330.66,-470.03 1347.51,-453.075 1424.64,-444 1461.79,-439.63 2071.55,-452.799 2097.64,-426 2161.67,-360.235 1975.75,-333.576 1893.56,-325.198\"/>\n",
       "<polygon fill=\"#008bfb\" stroke=\"#008bfb\" stroke-width=\"0.0554842\" points=\"1893.68,-321.693 1883.38,-324.2 1893,-328.659 1893.68,-321.693\"/>\n",
       "<text text-anchor=\"middle\" x=\"2126.14\" y=\"-404.3\" font-family=\"Times,serif\" font-size=\"14.00\" fill=\"#008bfb\">&#45;0.00</text>\n",
       "</g>\n",
       "<!-- Race&#45;&gt;Inflamation -->\n",
       "<g id=\"edge57\" class=\"edge\"><title>Race&#45;&gt;Inflamation</title>\n",
       "<path fill=\"none\" stroke=\"#008bfb\" stroke-width=\"0.0634879\" d=\"M580.791,-513.822C647.817,-510.932 826.523,-503.337 975.641,-498 1039.52,-495.714 1489.19,-497.584 1550.64,-480 1581.28,-471.235 1582.02,-452.804 1612.64,-444 1641.06,-435.829 2124.09,-447.262 2144.64,-426 2171.69,-398.018 2127.61,-363.038 2092.66,-341.619\"/>\n",
       "<polygon fill=\"#008bfb\" stroke=\"#008bfb\" stroke-width=\"0.0634879\" points=\"2094.4,-338.584 2084.02,-336.478 2090.82,-344.599 2094.4,-338.584\"/>\n",
       "<text text-anchor=\"middle\" x=\"2168.14\" y=\"-404.3\" font-family=\"Times,serif\" font-size=\"14.00\" fill=\"#008bfb\">&#45;0.00</text>\n",
       "</g>\n",
       "<!-- Race&#45;&gt;Blood protein -->\n",
       "<g id=\"edge58\" class=\"edge\"><title>Race&#45;&gt;Blood protein</title>\n",
       "<path fill=\"none\" stroke=\"#008bfb\" stroke-width=\"0.0760494\" d=\"M580.747,-515.056C666.055,-514.899 927.967,-511.774 1005.64,-480 1020.02,-474.118 1099.34,-398.028 1112.64,-390 1145.92,-369.911 1156.12,-367.158 1193.64,-357 1252.42,-341.086 1321.22,-332.065 1370.92,-327.183\"/>\n",
       "<polygon fill=\"#008bfb\" stroke=\"#008bfb\" stroke-width=\"0.0760494\" points=\"1371.28,-330.664 1380.91,-326.232 1370.62,-323.695 1371.28,-330.664\"/>\n",
       "<text text-anchor=\"middle\" x=\"1127.14\" y=\"-404.3\" font-family=\"Times,serif\" font-size=\"14.00\" fill=\"#008bfb\">&#45;0.00</text>\n",
       "</g>\n",
       "<!-- Serum Magnesium noise -->\n",
       "<g id=\"node27\" class=\"node\"><title>Serum Magnesium noise</title>\n",
       "<ellipse fill=\"none\" stroke=\"black\" cx=\"896.641\" cy=\"-462\" rx=\"100.182\" ry=\"18\"/>\n",
       "<text text-anchor=\"middle\" x=\"896.641\" y=\"-458.3\" font-family=\"Times,serif\" font-size=\"14.00\">Serum Magnesium noise</text>\n",
       "</g>\n",
       "<!-- Serum Magnesium noise&#45;&gt;Serum Magnesium -->\n",
       "<g id=\"edge59\" class=\"edge\"><title>Serum Magnesium noise&#45;&gt;Serum Magnesium</title>\n",
       "<path fill=\"none\" stroke=\"#008bfb\" stroke-width=\"0.159816\" d=\"M910.742,-443.956C930.94,-419.543 968.218,-374.485 991.37,-346.501\"/>\n",
       "<polygon fill=\"#008bfb\" stroke=\"#008bfb\" stroke-width=\"0.159816\" points=\"994.105,-348.685 997.783,-338.749 988.712,-344.223 994.105,-348.685\"/>\n",
       "<text text-anchor=\"middle\" x=\"969.141\" y=\"-404.3\" font-family=\"Times,serif\" font-size=\"14.00\" fill=\"#008bfb\">&#45;0.00</text>\n",
       "</g>\n",
       "<!-- Blood protein noise -->\n",
       "<g id=\"node28\" class=\"node\"><title>Blood protein noise</title>\n",
       "<ellipse fill=\"none\" stroke=\"black\" cx=\"1457.64\" cy=\"-408\" rx=\"80.6858\" ry=\"18\"/>\n",
       "<text text-anchor=\"middle\" x=\"1457.64\" y=\"-404.3\" font-family=\"Times,serif\" font-size=\"14.00\">Blood protein noise</text>\n",
       "</g>\n",
       "<!-- Blood protein noise&#45;&gt;Blood protein -->\n",
       "<g id=\"edge60\" class=\"edge\"><title>Blood protein noise&#45;&gt;Blood protein</title>\n",
       "<path fill=\"none\" stroke=\"#008bfb\" stroke-width=\"0.349163\" d=\"M1419.95,-391.924C1411.85,-386.846 1404.32,-380.296 1399.64,-372 1394.24,-362.435 1398.97,-352.731 1406.76,-344.449\"/>\n",
       "<polygon fill=\"#008bfb\" stroke=\"#008bfb\" stroke-width=\"0.349163\" points=\"1409.24,-346.928 1414.21,-337.576 1404.49,-341.783 1409.24,-346.928\"/>\n",
       "<text text-anchor=\"middle\" x=\"1414.14\" y=\"-360.8\" font-family=\"Times,serif\" font-size=\"14.00\" fill=\"#008bfb\">&#45;0.01</text>\n",
       "</g>\n",
       "<!-- Iron noise -->\n",
       "<g id=\"node29\" class=\"node\"><title>Iron noise</title>\n",
       "<ellipse fill=\"none\" stroke=\"black\" cx=\"1901.64\" cy=\"-516\" rx=\"46.2923\" ry=\"18\"/>\n",
       "<text text-anchor=\"middle\" x=\"1901.64\" y=\"-512.3\" font-family=\"Times,serif\" font-size=\"14.00\">Iron noise</text>\n",
       "</g>\n",
       "<!-- Iron noise&#45;&gt;Iron -->\n",
       "<g id=\"edge61\" class=\"edge\"><title>Iron noise&#45;&gt;Iron</title>\n",
       "<path fill=\"none\" stroke=\"#ff0051\" stroke-width=\"0.757243\" d=\"M1948,-515.033C2026.16,-514.229 2188.74,-508.84 2322.64,-480 2331.4,-478.113 2469.47,-433.321 2474.64,-426 2483.87,-412.929 2484.05,-402.938 2474.64,-390 2415.44,-308.628 2277.67,-362.946 1995.64,-339 1960.63,-336.027 1920.84,-330.992 1892.84,-327.171\"/>\n",
       "<polygon fill=\"#ff0051\" stroke=\"#ff0051\" stroke-width=\"0.757243\" points=\"1893.1,-323.674 1882.71,-325.773 1892.14,-330.609 1893.1,-323.674\"/>\n",
       "<text text-anchor=\"middle\" x=\"2494.14\" y=\"-404.3\" font-family=\"Times,serif\" font-size=\"14.00\" fill=\"#ff0051\">0.02</text>\n",
       "</g>\n",
       "<!-- BMI noise -->\n",
       "<g id=\"node30\" class=\"node\"><title>BMI noise</title>\n",
       "<ellipse fill=\"none\" stroke=\"black\" cx=\"667.641\" cy=\"-462\" rx=\"48.9926\" ry=\"18\"/>\n",
       "<text text-anchor=\"middle\" x=\"667.641\" y=\"-458.3\" font-family=\"Times,serif\" font-size=\"14.00\">BMI noise</text>\n",
       "</g>\n",
       "<!-- BMI noise&#45;&gt;BMI -->\n",
       "<g id=\"edge62\" class=\"edge\"><title>BMI noise&#45;&gt;BMI</title>\n",
       "<path fill=\"none\" stroke=\"#008bfb\" stroke-width=\"0.256131\" d=\"M667.375,-443.995C666.236,-428.145 662.151,-404.792 648.641,-390 632.995,-372.869 618.925,-384.899 599.641,-372 589.025,-364.899 579.159,-354.86 571.309,-345.638\"/>\n",
       "<polygon fill=\"#008bfb\" stroke=\"#008bfb\" stroke-width=\"0.256131\" points=\"573.988,-343.385 564.961,-337.839 568.56,-347.804 573.988,-343.385\"/>\n",
       "<text text-anchor=\"middle\" x=\"680.141\" y=\"-404.3\" font-family=\"Times,serif\" font-size=\"14.00\" fill=\"#008bfb\">&#45;0.00</text>\n",
       "</g>\n",
       "<!-- Sex -->\n",
       "<g id=\"node31\" class=\"node\"><title>Sex</title>\n",
       "<polygon fill=\"none\" stroke=\"black\" points=\"1344.64,-534 1290.64,-534 1290.64,-498 1344.64,-498 1344.64,-534\"/>\n",
       "<text text-anchor=\"middle\" x=\"1317.64\" y=\"-512.3\" font-family=\"Times,serif\" font-size=\"14.00\">Sex</text>\n",
       "</g>\n",
       "<!-- Sex&#45;&gt;Serum Cholesterol -->\n",
       "<g id=\"edge63\" class=\"edge\"><title>Sex&#45;&gt;Serum Cholesterol</title>\n",
       "<path fill=\"none\" stroke=\"#008bfb\" stroke-width=\"0.059628\" d=\"M1344.96,-514.636C1495.46,-512.352 2218.99,-497.679 2283.64,-426 2294.36,-414.118 2294.24,-401.988 2283.64,-390 2204.45,-300.416 2135.53,-369.748 2016.64,-357 2001.77,-355.406 1820.95,-339.063 1712.49,-329.283\"/>\n",
       "<polygon fill=\"#008bfb\" stroke=\"#008bfb\" stroke-width=\"0.059628\" points=\"1712.5,-325.77 1702.23,-328.358 1711.88,-332.742 1712.5,-325.77\"/>\n",
       "<text text-anchor=\"middle\" x=\"2306.14\" y=\"-404.3\" font-family=\"Times,serif\" font-size=\"14.00\" fill=\"#008bfb\">&#45;0.00</text>\n",
       "</g>\n",
       "<!-- Sex&#45;&gt;log hazard ratio prediction -->\n",
       "<g id=\"edge64\" class=\"edge\"><title>Sex&#45;&gt;log hazard ratio prediction</title>\n",
       "<path fill=\"none\" stroke=\"#008bfb\" stroke-width=\"5\" d=\"M1344.89,-514.04C1423.01,-511.306 1654.44,-503.335 1846.64,-498 1868.03,-497.406 2599.22,-492.426 2616.64,-480 2650,-456.201 2659.5,-424.004 2636.64,-390 2240.17,199.638 1779.16,-138.276 1073.64,-54 911.364,-34.6157 437.81,-24.5016 218.52,-20.7466\"/>\n",
       "<polygon fill=\"#008bfb\" stroke=\"#008bfb\" stroke-width=\"5\" points=\"218.345,-16.3681 208.272,-20.5726 218.196,-25.1168 218.345,-16.3681\"/>\n",
       "<text text-anchor=\"middle\" x=\"2570.14\" y=\"-263.3\" font-family=\"Times,serif\" font-size=\"14.00\" fill=\"#008bfb\">&#45;0.11</text>\n",
       "</g>\n",
       "<!-- Sex&#45;&gt;Poverty index -->\n",
       "<g id=\"edge65\" class=\"edge\"><title>Sex&#45;&gt;Poverty index</title>\n",
       "<path fill=\"none\" stroke=\"#ff0051\" stroke-width=\"0.0761908\" d=\"M1344.68,-505.871C1397.89,-487.911 1516.78,-447.776 1583.63,-425.208\"/>\n",
       "<polygon fill=\"#ff0051\" stroke=\"#ff0051\" stroke-width=\"0.0761908\" points=\"1585.14,-428.392 1593.5,-421.877 1582.9,-421.759 1585.14,-428.392\"/>\n",
       "<text text-anchor=\"middle\" x=\"1534.14\" y=\"-458.3\" font-family=\"Times,serif\" font-size=\"14.00\" fill=\"#ff0051\">0.00</text>\n",
       "</g>\n",
       "<!-- Sex&#45;&gt;Red blood cells -->\n",
       "<g id=\"edge66\" class=\"edge\"><title>Sex&#45;&gt;Red blood cells</title>\n",
       "<path fill=\"none\" stroke=\"#008bfb\" stroke-width=\"0.0502075\" d=\"M1290.34,-506.128C1279.36,-502.961 1266.52,-499.746 1254.64,-498 1219.61,-492.853 646.576,-500.399 617.641,-480 582.563,-455.27 611.621,-421.656 582.641,-390 553.406,-358.065 442.49,-311.019 378.649,-285.694\"/>\n",
       "<polygon fill=\"#008bfb\" stroke=\"#008bfb\" stroke-width=\"0.0502075\" points=\"379.794,-282.383 369.207,-281.97 377.225,-288.895 379.794,-282.383\"/>\n",
       "<text text-anchor=\"middle\" x=\"612.141\" y=\"-404.3\" font-family=\"Times,serif\" font-size=\"14.00\" fill=\"#008bfb\">&#45;0.00</text>\n",
       "</g>\n",
       "<!-- Sex&#45;&gt;Blood pressure -->\n",
       "<g id=\"edge67\" class=\"edge\"><title>Sex&#45;&gt;Blood pressure</title>\n",
       "<path fill=\"none\" stroke=\"#008bfb\" stroke-width=\"0.0709152\" d=\"M1290.34,-506.079C1279.37,-502.905 1266.53,-499.698 1254.64,-498 1230.13,-494.499 381.919,-496.695 363.641,-480 333.925,-452.857 375.855,-423.56 353.641,-390 343.937,-375.341 305.989,-355.303 275.144,-340.779\"/>\n",
       "<polygon fill=\"#008bfb\" stroke=\"#008bfb\" stroke-width=\"0.0709152\" points=\"276.383,-337.495 265.839,-336.46 273.437,-343.845 276.383,-337.495\"/>\n",
       "<text text-anchor=\"middle\" x=\"375.141\" y=\"-404.3\" font-family=\"Times,serif\" font-size=\"14.00\" fill=\"#008bfb\">&#45;0.00</text>\n",
       "</g>\n",
       "<!-- Sex&#45;&gt;BMI -->\n",
       "<g id=\"edge68\" class=\"edge\"><title>Sex&#45;&gt;BMI</title>\n",
       "<path fill=\"none\" stroke=\"#008bfb\" stroke-width=\"0.0615889\" d=\"M1290.64,-506.285C1279.6,-503.098 1266.62,-499.828 1254.64,-498 1229.41,-494.152 813.329,-498.395 795.641,-480 784.551,-468.467 786.573,-457.183 795.641,-444 808.317,-425.57 829.964,-444.43 842.641,-426 851.708,-412.817 852.575,-402.543 842.641,-390 811.745,-350.991 663.045,-332.142 591.825,-325.234\"/>\n",
       "<polygon fill=\"#008bfb\" stroke=\"#008bfb\" stroke-width=\"0.0615889\" points=\"591.78,-321.714 581.496,-324.263 591.125,-328.684 591.78,-321.714\"/>\n",
       "<text text-anchor=\"middle\" x=\"865.141\" y=\"-404.3\" font-family=\"Times,serif\" font-size=\"14.00\" fill=\"#008bfb\">&#45;0.00</text>\n",
       "</g>\n",
       "<!-- Sex&#45;&gt;Serum Magnesium -->\n",
       "<g id=\"edge69\" class=\"edge\"><title>Sex&#45;&gt;Serum Magnesium</title>\n",
       "<path fill=\"none\" stroke=\"#ff0051\" stroke-width=\"0.0531049\" d=\"M1316.51,-497.97C1315.01,-483.148 1311.56,-461.375 1303.64,-444 1291.02,-416.336 1286.94,-406.857 1261.64,-390 1245.92,-379.527 1143.18,-353.518 1074.4,-336.872\"/>\n",
       "<polygon fill=\"#ff0051\" stroke=\"#ff0051\" stroke-width=\"0.0531049\" points=\"1075.05,-333.429 1064.51,-334.487 1073.41,-340.234 1075.05,-333.429\"/>\n",
       "<text text-anchor=\"middle\" x=\"1308.14\" y=\"-404.3\" font-family=\"Times,serif\" font-size=\"14.00\" fill=\"#ff0051\">0.00</text>\n",
       "</g>\n",
       "<!-- Sex&#45;&gt;Iron -->\n",
       "<g id=\"edge70\" class=\"edge\"><title>Sex&#45;&gt;Iron</title>\n",
       "<path fill=\"none\" stroke=\"#ff0051\" stroke-width=\"0.102094\" d=\"M1344.83,-514.096C1485.37,-509.398 2124.4,-487.688 2165.64,-480 2239.01,-466.321 2281.17,-486.667 2324.64,-426 2412.73,-303.052 2145.86,-356.635 1995.64,-339 1960.85,-334.915 1921.19,-330.043 1893.16,-326.564\"/>\n",
       "<polygon fill=\"#ff0051\" stroke=\"#ff0051\" stroke-width=\"0.102094\" points=\"1893.38,-323.064 1883.02,-325.303 1892.51,-330.011 1893.38,-323.064\"/>\n",
       "<text text-anchor=\"middle\" x=\"2354.14\" y=\"-404.3\" font-family=\"Times,serif\" font-size=\"14.00\" fill=\"#ff0051\">0.00</text>\n",
       "</g>\n",
       "<!-- Sex&#45;&gt;Inflamation -->\n",
       "<g id=\"edge71\" class=\"edge\"><title>Sex&#45;&gt;Inflamation</title>\n",
       "<path fill=\"none\" stroke=\"#ff0051\" stroke-width=\"0.123428\" d=\"M1344.89,-514.046C1423.01,-511.329 1654.44,-503.398 1846.64,-498 1867.44,-497.416 2581.1,-494.892 2595.64,-480 2639.58,-434.992 2584.97,-377.881 2525.64,-357 2488.13,-343.798 2236.09,-330.42 2117.77,-324.779\"/>\n",
       "<polygon fill=\"#ff0051\" stroke=\"#ff0051\" stroke-width=\"0.123428\" points=\"2117.92,-321.283 2107.77,-324.306 2117.59,-328.275 2117.92,-321.283\"/>\n",
       "<text text-anchor=\"middle\" x=\"2620.14\" y=\"-404.3\" font-family=\"Times,serif\" font-size=\"14.00\" fill=\"#ff0051\">0.00</text>\n",
       "</g>\n",
       "<!-- Sex&#45;&gt;Blood protein -->\n",
       "<g id=\"edge72\" class=\"edge\"><title>Sex&#45;&gt;Blood protein</title>\n",
       "<path fill=\"none\" stroke=\"#ff0051\" stroke-width=\"0.0510991\" d=\"M1344.7,-514.588C1439.93,-512.51 1757.07,-500.047 1817.64,-426 1838.49,-400.511 1819.86,-372.183 1790.64,-357 1742.2,-331.83 1599.87,-345.289 1545.64,-339 1530.54,-337.248 1514.3,-334.908 1499.15,-332.525\"/>\n",
       "<polygon fill=\"#ff0051\" stroke=\"#ff0051\" stroke-width=\"0.0510991\" points=\"1499.3,-329.003 1488.87,-330.875 1498.19,-335.915 1499.3,-329.003\"/>\n",
       "<text text-anchor=\"middle\" x=\"1839.14\" y=\"-404.3\" font-family=\"Times,serif\" font-size=\"14.00\" fill=\"#ff0051\">0.00</text>\n",
       "</g>\n",
       "<!-- Inflamation noise -->\n",
       "<g id=\"node32\" class=\"node\"><title>Inflamation noise</title>\n",
       "<ellipse fill=\"none\" stroke=\"black\" cx=\"2513.64\" cy=\"-462\" rx=\"73.387\" ry=\"18\"/>\n",
       "<text text-anchor=\"middle\" x=\"2513.64\" y=\"-458.3\" font-family=\"Times,serif\" font-size=\"14.00\">Inflamation noise</text>\n",
       "</g>\n",
       "<!-- Inflamation noise&#45;&gt;Inflamation -->\n",
       "<g id=\"edge73\" class=\"edge\"><title>Inflamation noise&#45;&gt;Inflamation</title>\n",
       "<path fill=\"none\" stroke=\"#008bfb\" stroke-width=\"1.08455\" d=\"M2526.91,-444.123C2530.46,-438.649 2533.81,-432.345 2535.64,-426 2540.07,-410.626 2542.18,-404.601 2535.64,-390 2526.63,-369.891 2518.9,-365.655 2498.64,-357 2464.57,-342.45 2231.84,-329.992 2118.46,-324.707\"/>\n",
       "<polygon fill=\"#008bfb\" stroke=\"#008bfb\" stroke-width=\"1.08455\" points=\"2118.35,-321.198 2108.2,-324.233 2118.03,-328.191 2118.35,-321.198\"/>\n",
       "<text text-anchor=\"middle\" x=\"2555.14\" y=\"-404.3\" font-family=\"Times,serif\" font-size=\"14.00\" fill=\"#008bfb\">&#45;0.02</text>\n",
       "</g>\n",
       "</g>\n",
       "</svg>\n"
      ],
      "text/plain": [
       "<graphviz.files.Source at 0x7ff5d9759cd0>"
      ]
     },
     "metadata": {},
     "output_type": "display_data"
    }
   ],
   "source": [
    "sample_ind = 99 # 55, 66, 3, 22, 33, 77, 88, 99 # 22 77 88 99 # 11 15 92\n",
    "cf_c.fold_noise = False # True # False\n",
    "target_node = [node for node in cf_c.graph if node.is_target_node][0]\n",
    "target_node.name = 'log hazard ratio prediction'\n",
    "g = cf_c.draw(sample_ind, max_display=None, show_fg_val=False)\n",
    "# save_graph(g, f'figures/nutrition_multiple_flow_{sample_ind}.png')"
   ]
  },
  {
   "cell_type": "code",
   "execution_count": 157,
   "metadata": {},
   "outputs": [
    {
     "data": {
      "image/svg+xml": [
       "<?xml version=\"1.0\" encoding=\"UTF-8\" standalone=\"no\"?>\n",
       "<!DOCTYPE svg PUBLIC \"-//W3C//DTD SVG 1.1//EN\"\n",
       " \"http://www.w3.org/Graphics/SVG/1.1/DTD/svg11.dtd\">\n",
       "<!-- Generated by graphviz version 2.38.0 (20140413.2041)\n",
       " -->\n",
       "<!-- Title: %3 Pages: 1 -->\n",
       "<svg width=\"1149pt\" height=\"131pt\"\n",
       " viewBox=\"0.00 0.00 1149.34 131.00\" xmlns=\"http://www.w3.org/2000/svg\" xmlns:xlink=\"http://www.w3.org/1999/xlink\">\n",
       "<g id=\"graph0\" class=\"graph\" transform=\"scale(1 1) rotate(0) translate(4 127)\">\n",
       "<title>%3</title>\n",
       "<polygon fill=\"white\" stroke=\"none\" points=\"-4,4 -4,-127 1145.34,-127 1145.34,4 -4,4\"/>\n",
       "<!-- Diastolic BP -->\n",
       "<g id=\"node1\" class=\"node\"><title>Diastolic BP</title>\n",
       "<ellipse fill=\"none\" stroke=\"black\" cx=\"55.895\" cy=\"-105\" rx=\"55.7903\" ry=\"18\"/>\n",
       "<text text-anchor=\"middle\" x=\"55.895\" y=\"-101.3\" font-family=\"Times,serif\" font-size=\"14.00\">Diastolic BP</text>\n",
       "</g>\n",
       "<!-- predicted hazard -->\n",
       "<g id=\"node2\" class=\"node\"><title>predicted hazard</title>\n",
       "<ellipse fill=\"none\" stroke=\"black\" cx=\"80.895\" cy=\"-18\" rx=\"69.5877\" ry=\"18\"/>\n",
       "<text text-anchor=\"middle\" x=\"80.895\" y=\"-14.3\" font-family=\"Times,serif\" font-size=\"14.00\">predicted hazard</text>\n",
       "</g>\n",
       "<!-- Diastolic BP&#45;&gt;predicted hazard -->\n",
       "<g id=\"edge1\" class=\"edge\"><title>Diastolic BP&#45;&gt;predicted hazard</title>\n",
       "<path fill=\"none\" stroke=\"#ff0051\" stroke-width=\"3.94182\" d=\"M54.844,-86.949C54.7436,-77.0987 55.4936,-64.5987 58.895,-54 59.9039,-50.8565 61.2605,-47.7126 62.8074,-44.6699\"/>\n",
       "<polygon fill=\"#ff0051\" stroke=\"#ff0051\" stroke-width=\"3.94182\" points=\"65.8762,-46.3548 67.861,-35.9475 59.8193,-42.8455 65.8762,-46.3548\"/>\n",
       "<text text-anchor=\"middle\" x=\"71.395\" y=\"-57.8\" font-family=\"Times,serif\" font-size=\"14.00\" fill=\"#ff0051\">0.39</text>\n",
       "</g>\n",
       "<!-- Pulse pressure -->\n",
       "<g id=\"node3\" class=\"node\"><title>Pulse pressure</title>\n",
       "<ellipse fill=\"none\" stroke=\"black\" cx=\"191.895\" cy=\"-105\" rx=\"61.99\" ry=\"18\"/>\n",
       "<text text-anchor=\"middle\" x=\"191.895\" y=\"-101.3\" font-family=\"Times,serif\" font-size=\"14.00\">Pulse pressure</text>\n",
       "</g>\n",
       "<!-- Pulse pressure&#45;&gt;predicted hazard -->\n",
       "<g id=\"edge2\" class=\"edge\"><title>Pulse pressure&#45;&gt;predicted hazard</title>\n",
       "<path fill=\"none\" stroke=\"#ff0051\" stroke-width=\"0.321601\" d=\"M148.699,-91.9697C134.857,-86.5865 120.202,-79.1124 108.895,-69 101.675,-62.5428 95.8969,-53.7653 91.5082,-45.3663\"/>\n",
       "<polygon fill=\"#ff0051\" stroke=\"#ff0051\" stroke-width=\"0.321601\" points=\"94.5981,-43.7141 87.1408,-36.1882 88.2773,-46.7219 94.5981,-43.7141\"/>\n",
       "<text text-anchor=\"middle\" x=\"121.395\" y=\"-57.8\" font-family=\"Times,serif\" font-size=\"14.00\" fill=\"#ff0051\">0.03</text>\n",
       "</g>\n",
       "<!-- Race -->\n",
       "<g id=\"node4\" class=\"node\"><title>Race</title>\n",
       "<polygon fill=\"none\" stroke=\"black\" points=\"325.895,-123 271.895,-123 271.895,-87 325.895,-87 325.895,-123\"/>\n",
       "<text text-anchor=\"middle\" x=\"298.895\" y=\"-101.3\" font-family=\"Times,serif\" font-size=\"14.00\">Race</text>\n",
       "</g>\n",
       "<!-- Race&#45;&gt;predicted hazard -->\n",
       "<g id=\"edge3\" class=\"edge\"><title>Race&#45;&gt;predicted hazard</title>\n",
       "<path fill=\"none\" stroke=\"#ff0051\" stroke-width=\"0.243858\" d=\"M271.682,-90.2303C268.759,-89.0288 265.793,-87.9217 262.895,-87 219.026,-73.048 203.869,-85.5021 160.895,-69 155.701,-67.0054 133.479,-53.0397 113.771,-40.374\"/>\n",
       "<polygon fill=\"#ff0051\" stroke=\"#ff0051\" stroke-width=\"0.243858\" points=\"115.551,-37.3573 105.25,-34.8795 111.757,-43.2403 115.551,-37.3573\"/>\n",
       "<text text-anchor=\"middle\" x=\"173.395\" y=\"-57.8\" font-family=\"Times,serif\" font-size=\"14.00\" fill=\"#ff0051\">0.02</text>\n",
       "</g>\n",
       "<!-- Systolic BP -->\n",
       "<g id=\"node5\" class=\"node\"><title>Systolic BP</title>\n",
       "<ellipse fill=\"none\" stroke=\"black\" cx=\"395.895\" cy=\"-105\" rx=\"51.9908\" ry=\"18\"/>\n",
       "<text text-anchor=\"middle\" x=\"395.895\" y=\"-101.3\" font-family=\"Times,serif\" font-size=\"14.00\">Systolic BP</text>\n",
       "</g>\n",
       "<!-- Systolic BP&#45;&gt;predicted hazard -->\n",
       "<g id=\"edge4\" class=\"edge\"><title>Systolic BP&#45;&gt;predicted hazard</title>\n",
       "<path fill=\"none\" stroke=\"#ff0051\" stroke-width=\"1.98387\" d=\"M357.671,-92.5969C350.16,-90.5693 342.311,-88.5978 334.895,-87 283.464,-75.9183 268.227,-84.3212 217.895,-69 202.869,-64.4259 200.482,-59.8268 185.895,-54 169.188,-47.3263 150.658,-40.8527 133.872,-35.3255\"/>\n",
       "<polygon fill=\"#ff0051\" stroke=\"#ff0051\" stroke-width=\"1.98387\" points=\"134.809,-31.95 124.217,-32.1861 132.644,-38.6069 134.809,-31.95\"/>\n",
       "<text text-anchor=\"middle\" x=\"230.395\" y=\"-57.8\" font-family=\"Times,serif\" font-size=\"14.00\" fill=\"#ff0051\">0.19</text>\n",
       "</g>\n",
       "<!-- BMI -->\n",
       "<g id=\"node6\" class=\"node\"><title>BMI</title>\n",
       "<ellipse fill=\"none\" stroke=\"black\" cx=\"493.895\" cy=\"-105\" rx=\"27.8951\" ry=\"18\"/>\n",
       "<text text-anchor=\"middle\" x=\"493.895\" y=\"-101.3\" font-family=\"Times,serif\" font-size=\"14.00\">BMI</text>\n",
       "</g>\n",
       "<!-- BMI&#45;&gt;predicted hazard -->\n",
       "<g id=\"edge5\" class=\"edge\"><title>BMI&#45;&gt;predicted hazard</title>\n",
       "<path fill=\"none\" stroke=\"#008bfb\" stroke-width=\"0.132746\" d=\"M472.82,-92.8843C467.726,-90.6026 462.213,-88.4558 456.895,-87 382.334,-66.5906 359.212,-86.4128 283.895,-69 264.99,-64.6294 261.533,-59.3949 242.895,-54 211.358,-44.8715 175.751,-36.9274 145.968,-30.9252\"/>\n",
       "<polygon fill=\"#008bfb\" stroke=\"#008bfb\" stroke-width=\"0.132746\" points=\"146.595,-27.4815 136.105,-28.9652 145.231,-34.3473 146.595,-27.4815\"/>\n",
       "<text text-anchor=\"middle\" x=\"298.395\" y=\"-57.8\" font-family=\"Times,serif\" font-size=\"14.00\" fill=\"#008bfb\">&#45;0.01</text>\n",
       "</g>\n",
       "<!-- Sex -->\n",
       "<g id=\"node7\" class=\"node\"><title>Sex</title>\n",
       "<polygon fill=\"none\" stroke=\"black\" points=\"593.895,-123 539.895,-123 539.895,-87 593.895,-87 593.895,-123\"/>\n",
       "<text text-anchor=\"middle\" x=\"566.895\" y=\"-101.3\" font-family=\"Times,serif\" font-size=\"14.00\">Sex</text>\n",
       "</g>\n",
       "<!-- Sex&#45;&gt;predicted hazard -->\n",
       "<g id=\"edge6\" class=\"edge\"><title>Sex&#45;&gt;predicted hazard</title>\n",
       "<path fill=\"none\" stroke=\"#008bfb\" stroke-width=\"0.780531\" d=\"M539.739,-90.0427C536.804,-88.8778 533.821,-87.8305 530.895,-87 462.055,-67.4577 441.266,-81.991 370.895,-69 344.712,-64.1663 338.983,-59.3264 312.895,-54 259.465,-43.0911 198.471,-34.0202 152.436,-27.8482\"/>\n",
       "<polygon fill=\"#008bfb\" stroke=\"#008bfb\" stroke-width=\"0.780531\" points=\"152.631,-24.3434 142.258,-26.498 151.71,-31.2827 152.631,-24.3434\"/>\n",
       "<text text-anchor=\"middle\" x=\"385.395\" y=\"-57.8\" font-family=\"Times,serif\" font-size=\"14.00\" fill=\"#008bfb\">&#45;0.07</text>\n",
       "</g>\n",
       "<!-- Age -->\n",
       "<g id=\"node8\" class=\"node\"><title>Age</title>\n",
       "<ellipse fill=\"none\" stroke=\"black\" cx=\"638.895\" cy=\"-105\" rx=\"27\" ry=\"18\"/>\n",
       "<text text-anchor=\"middle\" x=\"638.895\" y=\"-101.3\" font-family=\"Times,serif\" font-size=\"14.00\">Age</text>\n",
       "</g>\n",
       "<!-- Age&#45;&gt;predicted hazard -->\n",
       "<g id=\"edge7\" class=\"edge\"><title>Age&#45;&gt;predicted hazard</title>\n",
       "<path fill=\"none\" stroke=\"#008bfb\" stroke-width=\"5\" d=\"M618.352,-93.0923C613.397,-90.8021 608.044,-88.5992 602.895,-87 601.531,-86.5763 401.31,-54.1925 399.895,-54 316.313,-42.629 220.019,-32.4661 155.282,-26.0595\"/>\n",
       "<polygon fill=\"#008bfb\" stroke=\"#008bfb\" stroke-width=\"5\" points=\"155.551,-21.6898 145.17,-25.0639 154.693,-30.3977 155.551,-21.6898\"/>\n",
       "<text text-anchor=\"middle\" x=\"504.395\" y=\"-57.8\" font-family=\"Times,serif\" font-size=\"14.00\" fill=\"#008bfb\">&#45;0.50</text>\n",
       "</g>\n",
       "<!-- Poverty index -->\n",
       "<g id=\"node9\" class=\"node\"><title>Poverty index</title>\n",
       "<ellipse fill=\"none\" stroke=\"black\" cx=\"743.895\" cy=\"-105\" rx=\"59.5901\" ry=\"18\"/>\n",
       "<text text-anchor=\"middle\" x=\"743.895\" y=\"-101.3\" font-family=\"Times,serif\" font-size=\"14.00\">Poverty index</text>\n",
       "</g>\n",
       "<!-- Poverty index&#45;&gt;predicted hazard -->\n",
       "<g id=\"edge8\" class=\"edge\"><title>Poverty index&#45;&gt;predicted hazard</title>\n",
       "<path fill=\"none\" stroke=\"#008bfb\" stroke-width=\"0.38731\" d=\"M700.869,-92.2719C656.408,-80.6354 584.826,-63.242 521.895,-54 395.808,-35.4831 247.899,-26.2661 159.429,-22.0725\"/>\n",
       "<polygon fill=\"#008bfb\" stroke=\"#008bfb\" stroke-width=\"0.38731\" points=\"159.356,-18.5655 149.204,-21.5978 159.031,-25.5579 159.356,-18.5655\"/>\n",
       "<text text-anchor=\"middle\" x=\"616.395\" y=\"-57.8\" font-family=\"Times,serif\" font-size=\"14.00\" fill=\"#008bfb\">&#45;0.03</text>\n",
       "</g>\n",
       "<!-- Sedimentation rate -->\n",
       "<g id=\"node10\" class=\"node\"><title>Sedimentation rate</title>\n",
       "<ellipse fill=\"none\" stroke=\"black\" cx=\"898.895\" cy=\"-105\" rx=\"77.1866\" ry=\"18\"/>\n",
       "<text text-anchor=\"middle\" x=\"898.895\" y=\"-101.3\" font-family=\"Times,serif\" font-size=\"14.00\">Sedimentation rate</text>\n",
       "</g>\n",
       "<!-- Sedimentation rate&#45;&gt;predicted hazard -->\n",
       "<g id=\"edge9\" class=\"edge\"><title>Sedimentation rate&#45;&gt;predicted hazard</title>\n",
       "<path fill=\"none\" stroke=\"#ff0051\" stroke-width=\"0.212137\" d=\"M845.865,-91.8852C792.781,-80.249 708.619,-63.1292 634.895,-54 466.498,-33.1475 267.679,-24.4224 159.942,-21.0069\"/>\n",
       "<polygon fill=\"#ff0051\" stroke=\"#ff0051\" stroke-width=\"0.212137\" points=\"159.908,-17.5042 149.804,-20.6927 159.691,-24.5009 159.908,-17.5042\"/>\n",
       "<text text-anchor=\"middle\" x=\"742.395\" y=\"-57.8\" font-family=\"Times,serif\" font-size=\"14.00\" fill=\"#ff0051\">0.02</text>\n",
       "</g>\n",
       "<!-- White blood cells -->\n",
       "<g id=\"node11\" class=\"node\"><title>White blood cells</title>\n",
       "<ellipse fill=\"none\" stroke=\"black\" cx=\"1067.9\" cy=\"-105\" rx=\"73.387\" ry=\"18\"/>\n",
       "<text text-anchor=\"middle\" x=\"1067.9\" y=\"-101.3\" font-family=\"Times,serif\" font-size=\"14.00\">White blood cells</text>\n",
       "</g>\n",
       "<!-- White blood cells&#45;&gt;predicted hazard -->\n",
       "<g id=\"edge10\" class=\"edge\"><title>White blood cells&#45;&gt;predicted hazard</title>\n",
       "<path fill=\"none\" stroke=\"#008bfb\" stroke-width=\"0.132743\" d=\"M1014.4,-92.5768C1004.61,-90.6177 994.457,-88.676 984.895,-87 884.91,-69.4754 859.915,-63.9608 758.895,-54 542.765,-32.689 286.514,-23.9237 159.867,-20.6845\"/>\n",
       "<polygon fill=\"#008bfb\" stroke=\"#008bfb\" stroke-width=\"0.132743\" points=\"159.951,-17.1857 149.866,-20.4334 159.775,-24.1834 159.951,-17.1857\"/>\n",
       "<text text-anchor=\"middle\" x=\"894.395\" y=\"-57.8\" font-family=\"Times,serif\" font-size=\"14.00\" fill=\"#008bfb\">&#45;0.01</text>\n",
       "</g>\n",
       "</g>\n",
       "</svg>\n"
      ],
      "text/plain": [
       "<graphviz.files.Source at 0x7ff5d9bb1c10>"
      ]
     },
     "metadata": {},
     "output_type": "display_data"
    },
    {
     "data": {
      "text/plain": [
       "<AGraph <Swig Object of type 'Agraph_t *' at 0x7ff5d9b455a0>>"
      ]
     },
     "execution_count": 157,
     "metadata": {},
     "output_type": "execute_result"
    }
   ],
   "source": [
    "cf.draw(sample_ind, max_display=10, show_fg_val=False)"
   ]
  },
  {
   "cell_type": "code",
   "execution_count": 158,
   "metadata": {},
   "outputs": [
    {
     "data": {
      "image/png": "[encoded data removed]",
      "text/plain": [
       "<Figure size 432x288 with 1 Axes>"
      ]
     },
     "metadata": {
      "needs_background": "light"
     },
     "output_type": "display_data"
    }
   ],
   "source": [
    "cf_on_manifold.draw(sample_ind, max_display=10) #, show_fg_val=False)"
   ]
  },
  {
   "cell_type": "markdown",
   "metadata": {},
   "source": [
    "# investigate the background and foreground samples"
   ]
  },
  {
   "cell_type": "code",
   "execution_count": 116,
   "metadata": {},
   "outputs": [
    {
     "name": "stdout",
     "output_type": "stream",
     "text": [
      "target: [0.25433433]\n",
      "Age                    49.449054\n",
      "Diastolic BP           83.281953\n",
      "Poverty index         287.213049\n",
      "Race                    1.196033\n",
      "Red blood cells        54.880528\n",
      "Sedimentation rate     16.268285\n",
      "Serum Albumin           4.365103\n",
      "Serum Cholesterol     221.234837\n",
      "Serum Iron            101.117298\n",
      "Serum Magnesium         1.681307\n",
      "Serum Protein           7.104068\n",
      "Sex                     1.607229\n",
      "Systolic BP           134.854481\n",
      "TIBC                  362.604511\n",
      "TS                     28.555910\n",
      "White blood cells       7.451760\n",
      "BMI                    25.689771\n",
      "Pulse pressure         51.575509\n",
      "dtype: float64\n"
     ]
    },
    {
     "data": {
      "text/html": [
       "<div>\n",
       "<style scoped>\n",
       "    .dataframe tbody tr th:only-of-type {\n",
       "        vertical-align: middle;\n",
       "    }\n",
       "\n",
       "    .dataframe tbody tr th {\n",
       "        vertical-align: top;\n",
       "    }\n",
       "\n",
       "    .dataframe thead th {\n",
       "        text-align: right;\n",
       "    }\n",
       "</style>\n",
       "<table border=\"1\" class=\"dataframe\">\n",
       "  <thead>\n",
       "    <tr style=\"text-align: right;\">\n",
       "      <th></th>\n",
       "      <th>Age</th>\n",
       "      <th>Diastolic BP</th>\n",
       "      <th>Poverty index</th>\n",
       "      <th>Race</th>\n",
       "      <th>Red blood cells</th>\n",
       "      <th>Sedimentation rate</th>\n",
       "      <th>Serum Albumin</th>\n",
       "      <th>Serum Cholesterol</th>\n",
       "      <th>Serum Iron</th>\n",
       "      <th>Serum Magnesium</th>\n",
       "      <th>Serum Protein</th>\n",
       "      <th>Sex</th>\n",
       "      <th>Systolic BP</th>\n",
       "      <th>TIBC</th>\n",
       "      <th>TS</th>\n",
       "      <th>White blood cells</th>\n",
       "      <th>BMI</th>\n",
       "      <th>Pulse pressure</th>\n",
       "    </tr>\n",
       "  </thead>\n",
       "  <tbody>\n",
       "    <tr>\n",
       "      <th>0</th>\n",
       "      <td>35.0</td>\n",
       "      <td>92.0</td>\n",
       "      <td>126.0</td>\n",
       "      <td>2.0</td>\n",
       "      <td>77.7</td>\n",
       "      <td>12.0</td>\n",
       "      <td>5.0</td>\n",
       "      <td>165.0</td>\n",
       "      <td>135.0</td>\n",
       "      <td>1.37</td>\n",
       "      <td>7.6</td>\n",
       "      <td>Female</td>\n",
       "      <td>142.0</td>\n",
       "      <td>323.0</td>\n",
       "      <td>41.8</td>\n",
       "      <td>5.8</td>\n",
       "      <td>31.109434</td>\n",
       "      <td>50.0</td>\n",
       "    </tr>\n",
       "    <tr>\n",
       "      <th>99</th>\n",
       "      <td>51.0</td>\n",
       "      <td>74.0</td>\n",
       "      <td>824.0</td>\n",
       "      <td>1.0</td>\n",
       "      <td>77.7</td>\n",
       "      <td>9.0</td>\n",
       "      <td>4.3</td>\n",
       "      <td>267.0</td>\n",
       "      <td>63.0</td>\n",
       "      <td>1.61</td>\n",
       "      <td>6.8</td>\n",
       "      <td>Female</td>\n",
       "      <td>118.0</td>\n",
       "      <td>503.0</td>\n",
       "      <td>12.5</td>\n",
       "      <td>4.4</td>\n",
       "      <td>23.588977</td>\n",
       "      <td>44.0</td>\n",
       "    </tr>\n",
       "  </tbody>\n",
       "</table>\n",
       "</div>"
      ],
      "text/plain": [
       "     Age  Diastolic BP  Poverty index  Race  Red blood cells  \\\n",
       "0   35.0          92.0          126.0   2.0             77.7   \n",
       "99  51.0          74.0          824.0   1.0             77.7   \n",
       "\n",
       "    Sedimentation rate  Serum Albumin  Serum Cholesterol  Serum Iron  \\\n",
       "0                 12.0            5.0              165.0       135.0   \n",
       "99                 9.0            4.3              267.0        63.0   \n",
       "\n",
       "    Serum Magnesium  Serum Protein     Sex  Systolic BP   TIBC    TS  \\\n",
       "0              1.37            7.6  Female        142.0  323.0  41.8   \n",
       "99             1.61            6.8  Female        118.0  503.0  12.5   \n",
       "\n",
       "    White blood cells        BMI  Pulse pressure  \n",
       "0                 5.8  31.109434            50.0  \n",
       "99                4.4  23.588977            44.0  "
      ]
     },
     "execution_count": 116,
     "metadata": {},
     "output_type": "execute_result"
    }
   ],
   "source": [
    "# print('baseline', model.predict(xgboost.DMatrix(X.iloc[0:1])))\n",
    "print('target:', model.predict(xgboost.DMatrix(X.iloc[sample_ind:sample_ind+1])))\n",
    "print(X.mean(0))\n",
    "X_display.iloc[[0, sample_ind]]\n"
   ]
  },
  {
   "cell_type": "code",
   "execution_count": 166,
   "metadata": {},
   "outputs": [
    {
     "data": {
      "image/png": "[encoded data removed]",
      "text/plain": [
       "<Figure size 432x288 with 1 Axes>"
      ]
     },
     "metadata": {
      "needs_background": "light"
     },
     "output_type": "display_data"
    }
   ],
   "source": [
    "nsamples = 300\n",
    "o = f(np.array(X)[:nsamples])\n",
    "def normalize(o): # normalize to 0-1\n",
    "    return (o - o.min()) / (o.max() - o.min())\n",
    "\n",
    "# ylabel = 'Serum Magnesium' # 'Serum Magnesium' # 'TIBC' #'Red blood cells' # 'Serum Iron' # 'Serum Protein' # 'Serum Cholesterol' # 'Diastolic BP'\n",
    "# xlabel = 'Age' #'Age'\n",
    "\n",
    "ylabel = 'Age'\n",
    "xlabel = 'Systolic BP' #'Serum Magnesium'\n",
    "\n",
    "plt.scatter(X[xlabel][:nsamples], X[ylabel][:nsamples], #c=normalize(o), \n",
    "            alpha=0.3, label='samples')\n",
    "sns.regplot(X[xlabel][:nsamples], X[ylabel][:nsamples], x_bins=1, order=1, ci=None, label='regression line', color='y')\n",
    "plt.xlabel(xlabel, fontsize=15)\n",
    "plt.ylabel(ylabel, fontsize=15)\n",
    "\n",
    "# plt.scatter(X[xlabel][[0]], X[ylabel][[0]], c=['red'], s=100, marker='s', label='background')\n",
    "plt.scatter(X[xlabel].mean(), X[ylabel].mean(), c=['red'], s=100, marker='s', label='background (mean)')\n",
    "plt.scatter(X[xlabel][[sample_ind]], X[ylabel][[sample_ind]], c=['black'], s=100, marker='s', label='foreground')\n",
    "plt.legend(fontsize=15, loc=\"upper left\")\n",
    "\n",
    "plt.tight_layout()\n",
    "# plt.savefig(f'figures/manifold_multiple_explain_age_{xlabel}_{sample_ind}.png')\n",
    "plt.show()"
   ]
  },
  {
   "cell_type": "code",
   "execution_count": 165,
   "metadata": {},
   "outputs": [
    {
     "data": {
      "image/png": "[encoded data removed]",
      "text/plain": [
       "<Figure size 432x288 with 1 Axes>"
      ]
     },
     "metadata": {
      "needs_background": "light"
     },
     "output_type": "display_data"
    }
   ],
   "source": [
    "nsamples = 300\n",
    "o = f(np.array(X)[:nsamples])\n",
    "\n",
    "xlabel = 'Age'\n",
    "ylabel = 'Output'\n",
    "\n",
    "sns.regplot(X[xlabel][:nsamples], o, x_bins=1, order=1, ci=None, label='regression line', color='y')\n",
    "plt.scatter(X[xlabel][:nsamples], o, alpha=0.3, label='samples')\n",
    "plt.xlabel(xlabel, fontsize=15)\n",
    "plt.ylabel(ylabel, fontsize=15)\n",
    "# plt.scatter(X[xlabel][[0]], o[[0]], c=['red'], s=100, marker='s', label='background')\n",
    "plt.scatter(X[xlabel].mean(), o.mean(), c=['red'], s=100, marker='s', label='background (mean)')\n",
    "plt.scatter(X[xlabel][[sample_ind]], o[[sample_ind]], c=['black'], s=100, marker='s', label='foreground')\n",
    "plt.legend(fontsize=15)\n",
    "plt.tight_layout()\n",
    "# plt.savefig(f'figures/manifold_multiple_age_{sample_ind}.png')\n",
    "plt.show()"
   ]
  },
  {
   "cell_type": "markdown",
   "metadata": {},
   "source": [
    "# Output to latex"
   ]
  },
  {
   "cell_type": "code",
   "execution_count": 106,
   "metadata": {},
   "outputs": [
    {
     "name": "stdout",
     "output_type": "stream",
     "text": [
      "\\begin{tabular}{lrrr}\n",
      "\\toprule\n",
      "{} &   ind &  manifold &   asv \\\\\n",
      "\\midrule\n",
      "Poverty index      & -0.03 &      0.09 & -0.02 \\\\\n",
      "Blood pressure     &  0.00 &      0.00 & -0.08 \\\\\n",
      "Serum Cholesterol  & -0.00 &      0.04 & -0.00 \\\\\n",
      "Red blood cells    & -0.00 &      0.01 & -0.00 \\\\\n",
      "Age                & -0.07 &      0.23 & -0.08 \\\\\n",
      "Race               & -0.00 &      0.00 & -0.01 \\\\\n",
      "Serum Magnesium    & -0.00 &     -0.01 & -0.00 \\\\\n",
      "Blood protein      &  0.00 &      0.00 & -0.01 \\\\\n",
      "Iron               &  0.00 &      0.00 &  0.02 \\\\\n",
      "BMI                & -0.00 &     -0.05 & -0.00 \\\\\n",
      "Sex                & -0.11 &     -0.16 & -0.10 \\\\\n",
      "Inflamation        &  0.00 &      0.00 & -0.02 \\\\\n",
      "Diastolic BP       & -0.02 &     -0.08 &  0.00 \\\\\n",
      "TIBC               &  0.00 &     -0.16 &  0.00 \\\\\n",
      "Pulse pressure     & -0.01 &     -0.11 &  0.00 \\\\\n",
      "Systolic BP        & -0.05 &     -0.22 &  0.00 \\\\\n",
      "Sedimentation rate & -0.01 &     -0.01 &  0.00 \\\\\n",
      "Serum Protein      & -0.00 &      0.05 &  0.00 \\\\\n",
      "White blood cells  & -0.01 &      0.03 &  0.00 \\\\\n",
      "TS                 &  0.01 &      0.01 &  0.00 \\\\\n",
      "Serum Iron         &  0.01 &      0.07 &  0.00 \\\\\n",
      "Serum Albumin      & -0.00 &     -0.04 &  0.00 \\\\\n",
      "\\bottomrule\n",
      "\\end{tabular}\n",
      "\n"
     ]
    }
   ],
   "source": [
    "latex_dict = {}\n",
    "\n",
    "# asv\n",
    "def prepare_bar_asv(target_node, edge_credit, sample_ind):\n",
    "    '''prepare into barchart format for shap'''\n",
    "    class D():\n",
    "        pass\n",
    "\n",
    "    b = D()\n",
    "    b.input_names = [i for i in edge_credit.keys() if hasattr(i, 'is_target_node')]\n",
    "    b.values = [edge_credit[i][target_node] for i in b.input_names]\n",
    "    b.input_names = list(map(str, b.input_names))\n",
    "    b.data = None #np.arange(len(b.input_names))\n",
    "    b.transform_history = []\n",
    "    return b\n",
    "\n",
    "target_node = [i for i in cf_c.graph if i.is_target_node][0]\n",
    "edge_credit = cf_c.get_asv_edge_credit(sample_ind)\n",
    "b = prepare_bar_asv(target_node, edge_credit, sample_ind)\n",
    "latex_dict['asv'] = {k:v for k,v in zip(map(lambda n: n[:-6] if n[-5:] == 'noise' else n,\n",
    "                                            b.input_names), \n",
    "                                        b.values)}\n",
    "\n",
    "# shap\n",
    "def prepare_bar_shap(target_node, edge_credit, sample_ind):\n",
    "    '''prepare into barchart format for shap'''\n",
    "    class D():\n",
    "        pass\n",
    "\n",
    "    b = D()\n",
    "    b.input_names = [i for i in edge_credit.keys() if hasattr(i, 'is_target_node')]\n",
    "    b.values = [edge_credit[i][target_node][sample_ind] for i in b.input_names]\n",
    "    b.input_names = list(map(str, b.input_names))\n",
    "    b.data = None # np.arange(len(b.input_names))\n",
    "    b.transform_history = []\n",
    "    return b\n",
    "\n",
    "target_node = [i for i in cf.graph if i.is_target_node][0]\n",
    "edge_credit = cf.edge_credit\n",
    "b = prepare_bar_shap(target_node, edge_credit, sample_ind)\n",
    "latex_dict['ind'] = {k:v for k,v in zip(b.input_names, b.values)}\n",
    "\n",
    "# on manifold\n",
    "def prepare_on_manifold(cf, sample_ind):\n",
    "    class D(): pass\n",
    "    b.input_names = cf.input_names\n",
    "    b.values = cf.values[sample_ind]\n",
    "    return b\n",
    "\n",
    "b = prepare_on_manifold(cf_on_manifold, sample_ind)\n",
    "latex_dict['manifold'] = {k:v for k,v in zip(b.input_names, b.values)}\n",
    "\n",
    "# resulting data frame\n",
    "df = pd.DataFrame.from_dict(latex_dict).loc[:, ['ind', 'manifold', 'asv']]\n",
    "df = df.fillna(0)\n",
    "# df.loc[:, 'asv'] = df.loc[:, 'asv'].fillna(0)\n",
    "print(df.round(2).to_latex())"
   ]
  },
  {
   "cell_type": "code",
   "execution_count": 107,
   "metadata": {},
   "outputs": [],
   "source": [
    "colors = np.array(df.fillna(0))\n",
    "\n",
    "# normalize each column by the largest absolute value\n",
    "for i in range(colors.shape[1]):\n",
    "    colors[:, i] /= np.abs(colors[:, i]).max()\n",
    "    colors[:, i] *= 100\n",
    "colors = colors.astype(np.int)\n",
    "\n",
    "# sort index by its abs score across columns\n",
    "feature_order = np.abs(colors).sum(1).argsort()[::-1]\n",
    "# colors"
   ]
  },
  {
   "cell_type": "code",
   "execution_count": 108,
   "metadata": {},
   "outputs": [
    {
     "data": {
      "image/png": "[encoded data removed]",
      "text/plain": [
       "<Figure size 432x288 with 1 Axes>"
      ]
     },
     "metadata": {
      "needs_background": "light"
     },
     "output_type": "display_data"
    }
   ],
   "source": [
    "df2 = pd.DataFrame.from_dict({\n",
    "    'features': list(df.iloc[feature_order].index) * 3,\n",
    "    'val': list(df['ind'].iloc[feature_order]) + list(df['manifold'].iloc[feature_order]) + list(df['asv'].iloc[feature_order]),\n",
    "    'method': ['ind'] * len(df.index) + ['manifold'] * len(df.index) + ['asv'] * len(df.index)\n",
    "})\n",
    "\n",
    "p = sns.barplot(x='features', y='val', hue='method', data=df2)\n",
    "p.set_xticklabels(p.get_xticklabels(), rotation=90)\n",
    "plt.show()"
   ]
  },
  {
   "cell_type": "code",
   "execution_count": 109,
   "metadata": {},
   "outputs": [
    {
     "name": "stdout",
     "output_type": "stream",
     "text": [
      "\\begin{tabular}{lrrr}\n",
      "\\toprule\n",
      "{} & Independent & On-manifold & ASV\\\\\n",
      "\\midrule\n",
      "Sex & \\cellcolor{blue!100} -0.11 & \\cellcolor{blue!69} -0.16 & \\cellcolor{blue!100} -0.1\\\\\n",
      "Age & \\cellcolor{blue!66} -0.07 & \\cellcolor{red!100} 0.23 & \\cellcolor{blue!75} -0.08\\\\\n",
      "Systolic BP & \\cellcolor{blue!46} -0.05 & \\cellcolor{blue!96} -0.22 & \\cellcolor{red!0} 0.0\\\\\n",
      "Poverty index & \\cellcolor{blue!28} -0.03 & \\cellcolor{red!37} 0.09 & \\cellcolor{blue!22} -0.02\\\\\n",
      "Blood pressure & \\cellcolor{red!0} 0.0 & \\cellcolor{red!0} 0.0 & \\cellcolor{blue!73} -0.08\\\\\n",
      "TIBC & \\cellcolor{red!2} 0.0 & \\cellcolor{blue!70} -0.16 & \\cellcolor{red!0} 0.0\\\\\n",
      "Diastolic BP & \\cellcolor{blue!20} -0.02 & \\cellcolor{blue!36} -0.08 & \\cellcolor{red!0} 0.0\\\\\n",
      "Pulse pressure & \\cellcolor{blue!9} -0.01 & \\cellcolor{blue!45} -0.11 & \\cellcolor{red!0} 0.0\\\\\n",
      "Serum Iron & \\cellcolor{red!8} 0.01 & \\cellcolor{red!29} 0.07 & \\cellcolor{red!0} 0.0\\\\\n",
      "BMI & \\cellcolor{blue!4} -0.0 & \\cellcolor{blue!21} -0.05 & \\cellcolor{blue!4} -0.0\\\\\n",
      "White blood cells & \\cellcolor{blue!11} -0.01 & \\cellcolor{red!14} 0.03 & \\cellcolor{red!0} 0.0\\\\\n",
      "Serum Protein & \\cellcolor{blue!3} -0.0 & \\cellcolor{red!21} 0.05 & \\cellcolor{red!0} 0.0\\\\\n",
      "Serum Albumin & \\cellcolor{blue!3} -0.0 & \\cellcolor{blue!18} -0.04 & \\cellcolor{red!0} 0.0\\\\\n",
      "Inflamation & \\cellcolor{red!0} 0.0 & \\cellcolor{red!0} 0.0 & \\cellcolor{blue!21} -0.02\\\\\n",
      "Serum Cholesterol & \\cellcolor{blue!1} -0.0 & \\cellcolor{red!15} 0.04 & \\cellcolor{blue!3} -0.0\\\\\n",
      "Iron & \\cellcolor{red!0} 0.0 & \\cellcolor{red!0} 0.0 & \\cellcolor{red!14} 0.02\\\\\n",
      "Sedimentation rate & \\cellcolor{blue!7} -0.01 & \\cellcolor{blue!3} -0.01 & \\cellcolor{red!0} 0.0\\\\\n",
      "Race & \\cellcolor{blue!2} -0.0 & \\cellcolor{red!1} 0.0 & \\cellcolor{blue!7} -0.01\\\\\n",
      "TS & \\cellcolor{red!5} 0.01 & \\cellcolor{red!5} 0.01 & \\cellcolor{red!0} 0.0\\\\\n",
      "Serum Magnesium & \\cellcolor{blue!2} -0.0 & \\cellcolor{blue!3} -0.01 & \\cellcolor{blue!2} -0.0\\\\\n",
      "Blood protein & \\cellcolor{red!0} 0.0 & \\cellcolor{red!0} 0.0 & \\cellcolor{blue!6} -0.01\\\\\n",
      "Red blood cells & \\cellcolor{red!0} -0.0 & \\cellcolor{red!3} 0.01 & \\cellcolor{red!0} -0.0\\\\\n",
      "\\bottomrule\n",
      "\\end{tabular}\n"
     ]
    }
   ],
   "source": [
    "table = \"\\\\begin{tabular}{lrrr}\\n\\\\toprule\\n\"\n",
    "table += r\"{} & Independent & On-manifold & ASV\\\\\"\n",
    "table += \"\\n\\\\midrule\\n\"\n",
    "for i in feature_order:\n",
    "    row = []\n",
    "    feature_name = df.iloc[i].name\n",
    "    row.append(feature_name)\n",
    "    for j in range(colors.shape[1]):\n",
    "        v = df.iloc[i, j].round(2)\n",
    "        c = \"blue\" if colors[i, j] < 0 else \"red\"\n",
    "        c = f\"\\\\cellcolor{{{c}!{np.abs(colors[i,j])}}}\"\n",
    "        row.append(f\"{c} {v}\")\n",
    "    table += r\" & \".join(row)\n",
    "    table += \"\\\\\\\\\\n\"\n",
    "table += \"\\\\bottomrule\\n\\\\end{tabular}\"\n",
    "print(table)"
   ]
  },
  {
   "cell_type": "code",
   "execution_count": null,
   "metadata": {},
   "outputs": [],
   "source": []
  }
 ],
 "metadata": {
  "kernelspec": {
   "display_name": "Python 3",
   "language": "python",
   "name": "python3"
  },
  "language_info": {
   "codemirror_mode": {
    "name": "ipython",
    "version": 3
   },
   "file_extension": ".py",
   "mimetype": "text/x-python",
   "name": "python",
   "nbconvert_exporter": "python",
   "pygments_lexer": "ipython3",
   "version": "3.7.7"
  }
 },
 "nbformat": 4,
 "nbformat_minor": 4
}
