{
 "cells": [
  {
   "cell_type": "markdown",
   "metadata": {},
   "source": [
    "# Nutrition dataset case study with multiple background samples showing confidence interval"
   ]
  },
  {
   "cell_type": "code",
   "execution_count": 1,
   "metadata": {},
   "outputs": [],
   "source": [
    "# limit the number of threads used by xgboost models\n",
    "import os\n",
    "os.environ[\"OMP_NUM_THREADS\"] = \"8\"\n",
    "os.environ[\"OPENBLAS_NUM_THREADS\"] = \"8\"\n",
    "os.environ[\"MKL_NUM_THREADS\"] = \"8\"\n",
    "os.environ[\"VECLIB_MAXIMUM_THREADS\"] = \"8\"\n",
    "os.environ[\"NUMEXPR_NUM_THREADS\"] = \"8\"\n",
    "\n",
    "# standard libaries\n",
    "import sys\n",
    "import copy\n",
    "import dill\n",
    "from collections import defaultdict\n",
    "import numpy as np\n",
    "import pandas as pd\n",
    "import xgboost\n",
    "from sklearn.model_selection import train_test_split\n",
    "import matplotlib.pyplot as plt\n",
    "import seaborn as sns\n",
    "import shap\n",
    "\n",
    "# flow specific packages\n",
    "if '../' not in sys.path:\n",
    "    sys.path = ['../'] + sys.path\n",
    "from flow import Node, CreditFlow, Graph, get_source_nodes, topo_sort, flatten_graph, eval_graph, boundary_graph, single_source_graph, viz_graph, save_graph, hcluster_graph\n",
    "from flow import ParallelCreditFlow, GraphExplainer, translator\n",
    "from flow import group_nodes, build_feature_graph\n",
    "from flow import CausalLinks, create_xgboost_f\n",
    "from flow import edge_credits2edge_credit\n",
    "from on_manifold import OnManifoldExplainer, IndExplainer\n",
    "\n",
    "np.random.seed(42) # fix for reproducibility"
   ]
  },
  {
   "cell_type": "markdown",
   "metadata": {},
   "source": [
    "# Dataset"
   ]
  },
  {
   "cell_type": "code",
   "execution_count": 2,
   "metadata": {},
   "outputs": [
    {
     "name": "stdout",
     "output_type": "stream",
     "text": [
      "(9932, 18) (9932, 18)\n"
     ]
    },
    {
     "data": {
      "text/html": [
       "<div>\n",
       "<style scoped>\n",
       "    .dataframe tbody tr th:only-of-type {\n",
       "        vertical-align: middle;\n",
       "    }\n",
       "\n",
       "    .dataframe tbody tr th {\n",
       "        vertical-align: top;\n",
       "    }\n",
       "\n",
       "    .dataframe thead th {\n",
       "        text-align: right;\n",
       "    }\n",
       "</style>\n",
       "<table border=\"1\" class=\"dataframe\">\n",
       "  <thead>\n",
       "    <tr style=\"text-align: right;\">\n",
       "      <th></th>\n",
       "      <th>Age</th>\n",
       "      <th>Diastolic BP</th>\n",
       "      <th>Poverty index</th>\n",
       "      <th>Race</th>\n",
       "      <th>Red blood cells</th>\n",
       "      <th>Sedimentation rate</th>\n",
       "      <th>Serum Albumin</th>\n",
       "      <th>Serum Cholesterol</th>\n",
       "      <th>Serum Iron</th>\n",
       "      <th>Serum Magnesium</th>\n",
       "      <th>Serum Protein</th>\n",
       "      <th>Sex</th>\n",
       "      <th>Systolic BP</th>\n",
       "      <th>TIBC</th>\n",
       "      <th>TS</th>\n",
       "      <th>White blood cells</th>\n",
       "      <th>BMI</th>\n",
       "      <th>Pulse pressure</th>\n",
       "    </tr>\n",
       "  </thead>\n",
       "  <tbody>\n",
       "    <tr>\n",
       "      <th>0</th>\n",
       "      <td>35.0</td>\n",
       "      <td>92.0</td>\n",
       "      <td>126.0</td>\n",
       "      <td>2.0</td>\n",
       "      <td>77.7</td>\n",
       "      <td>12.0</td>\n",
       "      <td>5.0</td>\n",
       "      <td>165.0</td>\n",
       "      <td>135.0</td>\n",
       "      <td>1.37</td>\n",
       "      <td>7.6</td>\n",
       "      <td>2.0</td>\n",
       "      <td>142.0</td>\n",
       "      <td>323.0</td>\n",
       "      <td>41.8</td>\n",
       "      <td>5.8</td>\n",
       "      <td>31.109434</td>\n",
       "      <td>50.0</td>\n",
       "    </tr>\n",
       "    <tr>\n",
       "      <th>1</th>\n",
       "      <td>71.0</td>\n",
       "      <td>78.0</td>\n",
       "      <td>210.0</td>\n",
       "      <td>2.0</td>\n",
       "      <td>77.7</td>\n",
       "      <td>37.0</td>\n",
       "      <td>4.0</td>\n",
       "      <td>298.0</td>\n",
       "      <td>89.0</td>\n",
       "      <td>1.38</td>\n",
       "      <td>6.4</td>\n",
       "      <td>2.0</td>\n",
       "      <td>156.0</td>\n",
       "      <td>331.0</td>\n",
       "      <td>26.9</td>\n",
       "      <td>5.3</td>\n",
       "      <td>32.362572</td>\n",
       "      <td>78.0</td>\n",
       "    </tr>\n",
       "    <tr>\n",
       "      <th>2</th>\n",
       "      <td>74.0</td>\n",
       "      <td>86.0</td>\n",
       "      <td>999.0</td>\n",
       "      <td>2.0</td>\n",
       "      <td>77.7</td>\n",
       "      <td>31.0</td>\n",
       "      <td>3.8</td>\n",
       "      <td>222.0</td>\n",
       "      <td>115.0</td>\n",
       "      <td>1.37</td>\n",
       "      <td>7.4</td>\n",
       "      <td>2.0</td>\n",
       "      <td>170.0</td>\n",
       "      <td>299.0</td>\n",
       "      <td>38.5</td>\n",
       "      <td>8.1</td>\n",
       "      <td>25.388497</td>\n",
       "      <td>84.0</td>\n",
       "    </tr>\n",
       "    <tr>\n",
       "      <th>3</th>\n",
       "      <td>64.0</td>\n",
       "      <td>92.0</td>\n",
       "      <td>385.0</td>\n",
       "      <td>1.0</td>\n",
       "      <td>77.7</td>\n",
       "      <td>30.0</td>\n",
       "      <td>4.3</td>\n",
       "      <td>265.0</td>\n",
       "      <td>94.0</td>\n",
       "      <td>1.97</td>\n",
       "      <td>7.3</td>\n",
       "      <td>2.0</td>\n",
       "      <td>172.0</td>\n",
       "      <td>349.0</td>\n",
       "      <td>26.9</td>\n",
       "      <td>6.7</td>\n",
       "      <td>26.446610</td>\n",
       "      <td>80.0</td>\n",
       "    </tr>\n",
       "    <tr>\n",
       "      <th>4</th>\n",
       "      <td>32.0</td>\n",
       "      <td>70.0</td>\n",
       "      <td>183.0</td>\n",
       "      <td>2.0</td>\n",
       "      <td>77.7</td>\n",
       "      <td>18.0</td>\n",
       "      <td>5.0</td>\n",
       "      <td>203.0</td>\n",
       "      <td>192.0</td>\n",
       "      <td>1.35</td>\n",
       "      <td>7.3</td>\n",
       "      <td>1.0</td>\n",
       "      <td>128.0</td>\n",
       "      <td>386.0</td>\n",
       "      <td>49.7</td>\n",
       "      <td>8.1</td>\n",
       "      <td>20.354684</td>\n",
       "      <td>58.0</td>\n",
       "    </tr>\n",
       "  </tbody>\n",
       "</table>\n",
       "</div>"
      ],
      "text/plain": [
       "    Age  Diastolic BP  Poverty index  Race  Red blood cells  \\\n",
       "0  35.0          92.0          126.0   2.0             77.7   \n",
       "1  71.0          78.0          210.0   2.0             77.7   \n",
       "2  74.0          86.0          999.0   2.0             77.7   \n",
       "3  64.0          92.0          385.0   1.0             77.7   \n",
       "4  32.0          70.0          183.0   2.0             77.7   \n",
       "\n",
       "   Sedimentation rate  Serum Albumin  Serum Cholesterol  Serum Iron  \\\n",
       "0                12.0            5.0              165.0       135.0   \n",
       "1                37.0            4.0              298.0        89.0   \n",
       "2                31.0            3.8              222.0       115.0   \n",
       "3                30.0            4.3              265.0        94.0   \n",
       "4                18.0            5.0              203.0       192.0   \n",
       "\n",
       "   Serum Magnesium  Serum Protein  Sex  Systolic BP   TIBC    TS  \\\n",
       "0             1.37            7.6  2.0        142.0  323.0  41.8   \n",
       "1             1.38            6.4  2.0        156.0  331.0  26.9   \n",
       "2             1.37            7.4  2.0        170.0  299.0  38.5   \n",
       "3             1.97            7.3  2.0        172.0  349.0  26.9   \n",
       "4             1.35            7.3  1.0        128.0  386.0  49.7   \n",
       "\n",
       "   White blood cells        BMI  Pulse pressure  \n",
       "0                5.8  31.109434            50.0  \n",
       "1                5.3  32.362572            78.0  \n",
       "2                8.1  25.388497            84.0  \n",
       "3                6.7  26.446610            80.0  \n",
       "4                8.1  20.354684            58.0  "
      ]
     },
     "execution_count": 2,
     "metadata": {},
     "output_type": "execute_result"
    }
   ],
   "source": [
    "X,y = shap.datasets.nhanesi()\n",
    "X_display,y_display = shap.datasets.nhanesi(display=True) # human readable feature values\n",
    "# remove the first column: unnamed: 0\n",
    "X = X.iloc[:, 1:]\n",
    "X_display = X_display.iloc[:, 1:]\n",
    "\n",
    "xgb_full = xgboost.DMatrix(X, label=y)\n",
    "\n",
    "# create a train/test split\n",
    "X_train, X_test, y_train, y_test = train_test_split(X, y, test_size=0.2, random_state=7)\n",
    "xgb_train = xgboost.DMatrix(X_train, label=y_train)\n",
    "xgb_test = xgboost.DMatrix(X_test, label=y_test)\n",
    "\n",
    "print(X.shape, X_display.shape)\n",
    "X.head()"
   ]
  },
  {
   "cell_type": "markdown",
   "metadata": {},
   "source": [
    "# Explanation settings"
   ]
  },
  {
   "cell_type": "code",
   "execution_count": 3,
   "metadata": {},
   "outputs": [],
   "source": [
    "n_bg = 100 # paper: 100, number of sampled background samples\n",
    "nsamples = 100 # number of fg samples to explain\n",
    "nruns = 1 # paper: 10,000, number of monte carlo samplings\n",
    "bg = X.fillna(X.mean()).sample(n_bg) # background samples\n",
    "fg = X[:nsamples] # foreground samples to explain\n",
    "sample_ind = 3 # sample to show"
   ]
  },
  {
   "cell_type": "markdown",
   "metadata": {},
   "source": [
    "# Training"
   ]
  },
  {
   "cell_type": "code",
   "execution_count": 4,
   "metadata": {},
   "outputs": [
    {
     "name": "stdout",
     "output_type": "stream",
     "text": [
      "[0]\ttest-cox-nloglik:7.26934\n",
      "[100]\ttest-cox-nloglik:7.04554\n",
      "[200]\ttest-cox-nloglik:6.90625\n",
      "[300]\ttest-cox-nloglik:6.80909\n",
      "[400]\ttest-cox-nloglik:6.73926\n",
      "[500]\ttest-cox-nloglik:6.68686\n",
      "[600]\ttest-cox-nloglik:6.64699\n",
      "[700]\ttest-cox-nloglik:6.61571\n",
      "[800]\ttest-cox-nloglik:6.59138\n",
      "[900]\ttest-cox-nloglik:6.57148\n",
      "[999]\ttest-cox-nloglik:6.55579\n"
     ]
    }
   ],
   "source": [
    "# use validation set to choose # of trees\n",
    "params = {\n",
    "    \"eta\": 0.002,\n",
    "    \"max_depth\": 3,\n",
    "    \"objective\": \"survival:cox\",\n",
    "    \"subsample\": 0.5\n",
    "}\n",
    "model_train = xgboost.train(params, xgb_train, 1000, evals = [(xgb_test, \"test\")], verbose_eval=100)\n",
    "\n",
    "# workaround from https://github.com/slundberg/shap/issues/1215\n",
    "mybooster = model_train\n",
    "\n",
    "model_bytearray = mybooster.save_raw()[4:]\n",
    "def myfun(self=None):\n",
    "    return model_bytearray\n",
    "mybooster.save_raw = myfun"
   ]
  },
  {
   "cell_type": "code",
   "execution_count": 5,
   "metadata": {},
   "outputs": [
    {
     "name": "stdout",
     "output_type": "stream",
     "text": [
      "[0]\ttest-cox-nloglik:8.88081\n",
      "[999]\ttest-cox-nloglik:8.16748\n"
     ]
    }
   ],
   "source": [
    "# train final model on the full data set\n",
    "params = {\n",
    "    \"eta\": 0.002,\n",
    "    \"max_depth\": 3, \n",
    "    \"objective\": \"survival:cox\",\n",
    "    \"subsample\": 0.5\n",
    "}\n",
    "model = xgboost.train(params, xgb_full, 1000, evals = [(xgb_full, \"test\")], verbose_eval=1000)\n",
    "\n",
    "# workaround from https://github.com/slundberg/shap/issues/1215\n",
    "mybooster = model\n",
    "\n",
    "model_bytearray = mybooster.save_raw()[4:]\n",
    "def myfun(self=None):\n",
    "    return model_bytearray\n",
    "mybooster.save_raw = myfun"
   ]
  },
  {
   "cell_type": "code",
   "execution_count": 6,
   "metadata": {},
   "outputs": [
    {
     "data": {
      "text/plain": [
       "0.8289463410825477"
      ]
     },
     "execution_count": 6,
     "metadata": {},
     "output_type": "execute_result"
    }
   ],
   "source": [
    "def c_statistic_harrell(pred, labels):\n",
    "    total = 0\n",
    "    matches = 0\n",
    "    for i in range(len(labels)):\n",
    "        for j in range(len(labels)):\n",
    "            if labels[j] > 0 and abs(labels[i]) > labels[j]:\n",
    "                total += 1\n",
    "                if pred[j] > pred[i]:\n",
    "                    matches += 1\n",
    "    return matches/total\n",
    "\n",
    "# see how well we can order people by survival\n",
    "c_statistic_harrell(model_train.predict(xgb_test, ntree_limit=5000), y_test)"
   ]
  },
  {
   "cell_type": "markdown",
   "metadata": {},
   "source": [
    "# Ind Shap"
   ]
  },
  {
   "cell_type": "code",
   "execution_count": 7,
   "metadata": {},
   "outputs": [
    {
     "name": "stderr",
     "output_type": "stream",
     "text": [
      "0it [00:00, ?it/s]\n"
     ]
    },
    {
     "data": {
      "image/svg+xml": [
       "<?xml version=\"1.0\" encoding=\"UTF-8\" standalone=\"no\"?>\n",
       "<!DOCTYPE svg PUBLIC \"-//W3C//DTD SVG 1.1//EN\"\n",
       " \"http://www.w3.org/Graphics/SVG/1.1/DTD/svg11.dtd\">\n",
       "<!-- Generated by graphviz version 2.38.0 (20140413.2041)\n",
       " -->\n",
       "<!-- Title: %3 Pages: 1 -->\n",
       "<svg width=\"2220pt\" height=\"116pt\"\n",
       " viewBox=\"0.00 0.00 2219.74 116.00\" xmlns=\"http://www.w3.org/2000/svg\" xmlns:xlink=\"http://www.w3.org/1999/xlink\">\n",
       "<g id=\"graph0\" class=\"graph\" transform=\"scale(1 1) rotate(0) translate(4 112)\">\n",
       "<title>%3</title>\n",
       "<polygon fill=\"white\" stroke=\"none\" points=\"-4,4 -4,-112 2215.74,-112 2215.74,4 -4,4\"/>\n",
       "<!-- predicted hazard -->\n",
       "<g id=\"node1\" class=\"node\"><title>predicted hazard</title>\n",
       "<ellipse fill=\"none\" stroke=\"black\" cx=\"1190\" cy=\"-18\" rx=\"69.5877\" ry=\"18\"/>\n",
       "<text text-anchor=\"middle\" x=\"1190\" y=\"-14.3\" font-family=\"Times,serif\" font-size=\"14.00\">predicted hazard</text>\n",
       "</g>\n",
       "<!-- Age -->\n",
       "<g id=\"node2\" class=\"node\"><title>Age</title>\n",
       "<ellipse fill=\"none\" stroke=\"black\" cx=\"27\" cy=\"-90\" rx=\"27\" ry=\"18\"/>\n",
       "<text text-anchor=\"middle\" x=\"27\" y=\"-86.3\" font-family=\"Times,serif\" font-size=\"14.00\">Age</text>\n",
       "</g>\n",
       "<!-- Age&#45;&gt;predicted hazard -->\n",
       "<g id=\"edge1\" class=\"edge\"><title>Age&#45;&gt;predicted hazard</title>\n",
       "<path fill=\"none\" stroke=\"black\" d=\"M47.0422,-77.8377C52.1067,-75.4976 57.6344,-73.3363 63,-72 261.56,-22.5483 886.702,-18.5132 1109.86,-18.7011\"/>\n",
       "<polygon fill=\"black\" stroke=\"black\" points=\"1110.17,-22.2013 1120.18,-18.713 1110.18,-15.2013 1110.17,-22.2013\"/>\n",
       "</g>\n",
       "<!-- Diastolic BP -->\n",
       "<g id=\"node3\" class=\"node\"><title>Diastolic BP</title>\n",
       "<ellipse fill=\"none\" stroke=\"black\" cx=\"128\" cy=\"-90\" rx=\"55.7903\" ry=\"18\"/>\n",
       "<text text-anchor=\"middle\" x=\"128\" y=\"-86.3\" font-family=\"Times,serif\" font-size=\"14.00\">Diastolic BP</text>\n",
       "</g>\n",
       "<!-- Diastolic BP&#45;&gt;predicted hazard -->\n",
       "<g id=\"edge2\" class=\"edge\"><title>Diastolic BP&#45;&gt;predicted hazard</title>\n",
       "<path fill=\"none\" stroke=\"black\" d=\"M167.607,-77.2802C175.93,-75.202 184.702,-73.292 193,-72 369.428,-44.5303 907.604,-26.9484 1111.01,-21.1304\"/>\n",
       "<polygon fill=\"black\" stroke=\"black\" points=\"1111.13,-24.6286 1121.02,-20.8458 1110.93,-17.6315 1111.13,-24.6286\"/>\n",
       "</g>\n",
       "<!-- Poverty index -->\n",
       "<g id=\"node4\" class=\"node\"><title>Poverty index</title>\n",
       "<ellipse fill=\"none\" stroke=\"black\" cx=\"262\" cy=\"-90\" rx=\"59.5901\" ry=\"18\"/>\n",
       "<text text-anchor=\"middle\" x=\"262\" y=\"-86.3\" font-family=\"Times,serif\" font-size=\"14.00\">Poverty index</text>\n",
       "</g>\n",
       "<!-- Poverty index&#45;&gt;predicted hazard -->\n",
       "<g id=\"edge3\" class=\"edge\"><title>Poverty index&#45;&gt;predicted hazard</title>\n",
       "<path fill=\"none\" stroke=\"black\" d=\"M304.196,-77.1775C312.683,-75.1608 321.582,-73.3004 330,-72 614.694,-28.0216 957.721,-20.2171 1110.22,-19.0493\"/>\n",
       "<polygon fill=\"black\" stroke=\"black\" points=\"1110.45,-22.5479 1120.42,-18.979 1110.4,-15.548 1110.45,-22.5479\"/>\n",
       "</g>\n",
       "<!-- Race -->\n",
       "<g id=\"node5\" class=\"node\"><title>Race</title>\n",
       "<ellipse fill=\"none\" stroke=\"black\" cx=\"368\" cy=\"-90\" rx=\"28.6953\" ry=\"18\"/>\n",
       "<text text-anchor=\"middle\" x=\"368\" y=\"-86.3\" font-family=\"Times,serif\" font-size=\"14.00\">Race</text>\n",
       "</g>\n",
       "<!-- Race&#45;&gt;predicted hazard -->\n",
       "<g id=\"edge4\" class=\"edge\"><title>Race&#45;&gt;predicted hazard</title>\n",
       "<path fill=\"none\" stroke=\"black\" d=\"M389.038,-77.7441C394.134,-75.4682 399.656,-73.3591 405,-72 536.838,-38.4691 938.733,-25.0314 1110.64,-20.7183\"/>\n",
       "<polygon fill=\"black\" stroke=\"black\" points=\"1110.97,-24.2112 1120.88,-20.4653 1110.8,-17.2133 1110.97,-24.2112\"/>\n",
       "</g>\n",
       "<!-- Red blood cells -->\n",
       "<g id=\"node6\" class=\"node\"><title>Red blood cells</title>\n",
       "<ellipse fill=\"none\" stroke=\"black\" cx=\"480\" cy=\"-90\" rx=\"65.7887\" ry=\"18\"/>\n",
       "<text text-anchor=\"middle\" x=\"480\" y=\"-86.3\" font-family=\"Times,serif\" font-size=\"14.00\">Red blood cells</text>\n",
       "</g>\n",
       "<!-- Red blood cells&#45;&gt;predicted hazard -->\n",
       "<g id=\"edge5\" class=\"edge\"><title>Red blood cells&#45;&gt;predicted hazard</title>\n",
       "<path fill=\"none\" stroke=\"black\" d=\"M527.017,-77.2879C536.25,-75.2873 545.895,-73.4048 555,-72 753.927,-41.3069 990.85,-27.4705 1111.27,-22.034\"/>\n",
       "<polygon fill=\"black\" stroke=\"black\" points=\"1111.67,-25.52 1121.5,-21.5798 1111.36,-18.5269 1111.67,-25.52\"/>\n",
       "</g>\n",
       "<!-- Sedimentation rate -->\n",
       "<g id=\"node7\" class=\"node\"><title>Sedimentation rate</title>\n",
       "<ellipse fill=\"none\" stroke=\"black\" cx=\"641\" cy=\"-90\" rx=\"77.1866\" ry=\"18\"/>\n",
       "<text text-anchor=\"middle\" x=\"641\" y=\"-86.3\" font-family=\"Times,serif\" font-size=\"14.00\">Sedimentation rate</text>\n",
       "</g>\n",
       "<!-- Sedimentation rate&#45;&gt;predicted hazard -->\n",
       "<g id=\"edge6\" class=\"edge\"><title>Sedimentation rate&#45;&gt;predicted hazard</title>\n",
       "<path fill=\"none\" stroke=\"black\" d=\"M696.58,-77.4634C706.995,-75.4938 717.81,-73.5775 728,-72 864.115,-50.9274 1023.99,-34.403 1115.51,-25.7235\"/>\n",
       "<polygon fill=\"black\" stroke=\"black\" points=\"1115.88,-29.204 1125.51,-24.7806 1115.23,-22.2349 1115.88,-29.204\"/>\n",
       "</g>\n",
       "<!-- Serum Albumin -->\n",
       "<g id=\"node8\" class=\"node\"><title>Serum Albumin</title>\n",
       "<ellipse fill=\"none\" stroke=\"black\" cx=\"805\" cy=\"-90\" rx=\"68.4888\" ry=\"18\"/>\n",
       "<text text-anchor=\"middle\" x=\"805\" y=\"-86.3\" font-family=\"Times,serif\" font-size=\"14.00\">Serum Albumin</text>\n",
       "</g>\n",
       "<!-- Serum Albumin&#45;&gt;predicted hazard -->\n",
       "<g id=\"edge7\" class=\"edge\"><title>Serum Albumin&#45;&gt;predicted hazard</title>\n",
       "<path fill=\"none\" stroke=\"black\" d=\"M855.284,-77.7032C864.489,-75.7312 874.022,-73.7525 883,-72 965.091,-55.976 1060.03,-39.9716 1122.34,-29.8102\"/>\n",
       "<polygon fill=\"black\" stroke=\"black\" points=\"1123.12,-33.2284 1132.43,-28.1685 1122,-26.3192 1123.12,-33.2284\"/>\n",
       "</g>\n",
       "<!-- Serum Cholesterol -->\n",
       "<g id=\"node9\" class=\"node\"><title>Serum Cholesterol</title>\n",
       "<ellipse fill=\"none\" stroke=\"black\" cx=\"969\" cy=\"-90\" rx=\"77.1866\" ry=\"18\"/>\n",
       "<text text-anchor=\"middle\" x=\"969\" y=\"-86.3\" font-family=\"Times,serif\" font-size=\"14.00\">Serum Cholesterol</text>\n",
       "</g>\n",
       "<!-- Serum Cholesterol&#45;&gt;predicted hazard -->\n",
       "<g id=\"edge8\" class=\"edge\"><title>Serum Cholesterol&#45;&gt;predicted hazard</title>\n",
       "<path fill=\"none\" stroke=\"black\" d=\"M1012.93,-75.0866C1048.86,-63.7038 1099.78,-47.577 1137.79,-35.5357\"/>\n",
       "<polygon fill=\"black\" stroke=\"black\" points=\"1139.18,-38.768 1147.66,-32.4118 1137.07,-32.0948 1139.18,-38.768\"/>\n",
       "</g>\n",
       "<!-- Serum Iron -->\n",
       "<g id=\"node10\" class=\"node\"><title>Serum Iron</title>\n",
       "<ellipse fill=\"none\" stroke=\"black\" cx=\"1116\" cy=\"-90\" rx=\"51.1914\" ry=\"18\"/>\n",
       "<text text-anchor=\"middle\" x=\"1116\" y=\"-86.3\" font-family=\"Times,serif\" font-size=\"14.00\">Serum Iron</text>\n",
       "</g>\n",
       "<!-- Serum Iron&#45;&gt;predicted hazard -->\n",
       "<g id=\"edge9\" class=\"edge\"><title>Serum Iron&#45;&gt;predicted hazard</title>\n",
       "<path fill=\"none\" stroke=\"black\" d=\"M1133.16,-72.7646C1142.65,-63.7947 1154.6,-52.4902 1165.09,-42.5643\"/>\n",
       "<polygon fill=\"black\" stroke=\"black\" points=\"1167.56,-45.0481 1172.42,-35.6334 1162.75,-39.9628 1167.56,-45.0481\"/>\n",
       "</g>\n",
       "<!-- Serum Magnesium -->\n",
       "<g id=\"node11\" class=\"node\"><title>Serum Magnesium</title>\n",
       "<ellipse fill=\"none\" stroke=\"black\" cx=\"1265\" cy=\"-90\" rx=\"79.0865\" ry=\"18\"/>\n",
       "<text text-anchor=\"middle\" x=\"1265\" y=\"-86.3\" font-family=\"Times,serif\" font-size=\"14.00\">Serum Magnesium</text>\n",
       "</g>\n",
       "<!-- Serum Magnesium&#45;&gt;predicted hazard -->\n",
       "<g id=\"edge10\" class=\"edge\"><title>Serum Magnesium&#45;&gt;predicted hazard</title>\n",
       "<path fill=\"none\" stroke=\"black\" d=\"M1247.23,-72.411C1237.61,-63.4318 1225.56,-52.1926 1215.01,-42.3436\"/>\n",
       "<polygon fill=\"black\" stroke=\"black\" points=\"1217.35,-39.7345 1207.65,-35.4699 1212.57,-44.8519 1217.35,-39.7345\"/>\n",
       "</g>\n",
       "<!-- Serum Protein -->\n",
       "<g id=\"node12\" class=\"node\"><title>Serum Protein</title>\n",
       "<ellipse fill=\"none\" stroke=\"black\" cx=\"1424\" cy=\"-90\" rx=\"61.99\" ry=\"18\"/>\n",
       "<text text-anchor=\"middle\" x=\"1424\" y=\"-86.3\" font-family=\"Times,serif\" font-size=\"14.00\">Serum Protein</text>\n",
       "</g>\n",
       "<!-- Serum Protein&#45;&gt;predicted hazard -->\n",
       "<g id=\"edge11\" class=\"edge\"><title>Serum Protein&#45;&gt;predicted hazard</title>\n",
       "<path fill=\"none\" stroke=\"black\" d=\"M1382.44,-76.5661C1343.77,-64.9999 1285.95,-47.7022 1243.78,-35.0882\"/>\n",
       "<polygon fill=\"black\" stroke=\"black\" points=\"1244.54,-31.6629 1233.96,-32.1501 1242.54,-38.3693 1244.54,-31.6629\"/>\n",
       "</g>\n",
       "<!-- Sex -->\n",
       "<g id=\"node13\" class=\"node\"><title>Sex</title>\n",
       "<ellipse fill=\"none\" stroke=\"black\" cx=\"1531\" cy=\"-90\" rx=\"27\" ry=\"18\"/>\n",
       "<text text-anchor=\"middle\" x=\"1531\" y=\"-86.3\" font-family=\"Times,serif\" font-size=\"14.00\">Sex</text>\n",
       "</g>\n",
       "<!-- Sex&#45;&gt;predicted hazard -->\n",
       "<g id=\"edge12\" class=\"edge\"><title>Sex&#45;&gt;predicted hazard</title>\n",
       "<path fill=\"none\" stroke=\"black\" d=\"M1510.44,-78.133C1505.49,-75.8411 1500.14,-73.6273 1495,-72 1418.31,-47.7208 1327.04,-33.7152 1264.46,-26.2692\"/>\n",
       "<polygon fill=\"black\" stroke=\"black\" points=\"1264.61,-22.7641 1254.28,-25.0859 1263.81,-29.7173 1264.61,-22.7641\"/>\n",
       "</g>\n",
       "<!-- Systolic BP -->\n",
       "<g id=\"node14\" class=\"node\"><title>Systolic BP</title>\n",
       "<ellipse fill=\"none\" stroke=\"black\" cx=\"1628\" cy=\"-90\" rx=\"51.9908\" ry=\"18\"/>\n",
       "<text text-anchor=\"middle\" x=\"1628\" y=\"-86.3\" font-family=\"Times,serif\" font-size=\"14.00\">Systolic BP</text>\n",
       "</g>\n",
       "<!-- Systolic BP&#45;&gt;predicted hazard -->\n",
       "<g id=\"edge13\" class=\"edge\"><title>Systolic BP&#45;&gt;predicted hazard</title>\n",
       "<path fill=\"none\" stroke=\"black\" d=\"M1590.12,-77.6078C1582.51,-75.5555 1574.53,-73.5721 1567,-72 1462.66,-50.2267 1340.18,-34.8539 1263.81,-26.4576\"/>\n",
       "<polygon fill=\"black\" stroke=\"black\" points=\"1264.13,-22.9717 1253.81,-25.3689 1263.37,-29.9306 1264.13,-22.9717\"/>\n",
       "</g>\n",
       "<!-- TIBC -->\n",
       "<g id=\"node15\" class=\"node\"><title>TIBC</title>\n",
       "<ellipse fill=\"none\" stroke=\"black\" cx=\"1729\" cy=\"-90\" rx=\"30.5947\" ry=\"18\"/>\n",
       "<text text-anchor=\"middle\" x=\"1729\" y=\"-86.3\" font-family=\"Times,serif\" font-size=\"14.00\">TIBC</text>\n",
       "</g>\n",
       "<!-- TIBC&#45;&gt;predicted hazard -->\n",
       "<g id=\"edge14\" class=\"edge\"><title>TIBC&#45;&gt;predicted hazard</title>\n",
       "<path fill=\"none\" stroke=\"black\" d=\"M1706.14,-77.9165C1700.64,-75.6336 1694.7,-73.478 1689,-72 1544.23,-34.4412 1369.22,-23.422 1269.64,-20.2378\"/>\n",
       "<polygon fill=\"black\" stroke=\"black\" points=\"1269.45,-16.7307 1259.35,-19.9283 1269.24,-23.7276 1269.45,-16.7307\"/>\n",
       "</g>\n",
       "<!-- TS -->\n",
       "<g id=\"node16\" class=\"node\"><title>TS</title>\n",
       "<ellipse fill=\"none\" stroke=\"black\" cx=\"1805\" cy=\"-90\" rx=\"27\" ry=\"18\"/>\n",
       "<text text-anchor=\"middle\" x=\"1805\" y=\"-86.3\" font-family=\"Times,serif\" font-size=\"14.00\">TS</text>\n",
       "</g>\n",
       "<!-- TS&#45;&gt;predicted hazard -->\n",
       "<g id=\"edge15\" class=\"edge\"><title>TS&#45;&gt;predicted hazard</title>\n",
       "<path fill=\"none\" stroke=\"black\" d=\"M1784.53,-77.8301C1779.58,-75.5507 1774.2,-73.4184 1769,-72 1676.7,-46.8288 1403.62,-29.8748 1268.1,-22.7702\"/>\n",
       "<polygon fill=\"black\" stroke=\"black\" points=\"1267.96,-19.2584 1257.79,-22.235 1267.6,-26.249 1267.96,-19.2584\"/>\n",
       "</g>\n",
       "<!-- White blood cells -->\n",
       "<g id=\"node17\" class=\"node\"><title>White blood cells</title>\n",
       "<ellipse fill=\"none\" stroke=\"black\" cx=\"1923\" cy=\"-90\" rx=\"73.387\" ry=\"18\"/>\n",
       "<text text-anchor=\"middle\" x=\"1923\" y=\"-86.3\" font-family=\"Times,serif\" font-size=\"14.00\">White blood cells</text>\n",
       "</g>\n",
       "<!-- White blood cells&#45;&gt;predicted hazard -->\n",
       "<g id=\"edge16\" class=\"edge\"><title>White blood cells&#45;&gt;predicted hazard</title>\n",
       "<path fill=\"none\" stroke=\"black\" d=\"M1871.12,-77.238C1861.16,-75.2664 1850.79,-73.4073 1841,-72 1635.49,-42.4456 1390.92,-28.055 1268.3,-22.2558\"/>\n",
       "<polygon fill=\"black\" stroke=\"black\" points=\"1268.41,-18.7569 1258.26,-21.787 1268.08,-25.7493 1268.41,-18.7569\"/>\n",
       "</g>\n",
       "<!-- BMI -->\n",
       "<g id=\"node18\" class=\"node\"><title>BMI</title>\n",
       "<ellipse fill=\"none\" stroke=\"black\" cx=\"2042\" cy=\"-90\" rx=\"27.8951\" ry=\"18\"/>\n",
       "<text text-anchor=\"middle\" x=\"2042\" y=\"-86.3\" font-family=\"Times,serif\" font-size=\"14.00\">BMI</text>\n",
       "</g>\n",
       "<!-- BMI&#45;&gt;predicted hazard -->\n",
       "<g id=\"edge17\" class=\"edge\"><title>BMI&#45;&gt;predicted hazard</title>\n",
       "<path fill=\"none\" stroke=\"black\" d=\"M2020.96,-77.7345C2015.87,-75.459 2010.35,-73.3525 2005,-72 1867.29,-37.1576 1445.91,-24.3892 1269.25,-20.4849\"/>\n",
       "<polygon fill=\"black\" stroke=\"black\" points=\"1269.31,-16.9856 1259.24,-20.2674 1269.16,-23.9839 1269.31,-16.9856\"/>\n",
       "</g>\n",
       "<!-- Pulse pressure -->\n",
       "<g id=\"node19\" class=\"node\"><title>Pulse pressure</title>\n",
       "<ellipse fill=\"none\" stroke=\"black\" cx=\"2150\" cy=\"-90\" rx=\"61.99\" ry=\"18\"/>\n",
       "<text text-anchor=\"middle\" x=\"2150\" y=\"-86.3\" font-family=\"Times,serif\" font-size=\"14.00\">Pulse pressure</text>\n",
       "</g>\n",
       "<!-- Pulse pressure&#45;&gt;predicted hazard -->\n",
       "<g id=\"edge18\" class=\"edge\"><title>Pulse pressure&#45;&gt;predicted hazard</title>\n",
       "<path fill=\"none\" stroke=\"black\" d=\"M2106.3,-77.2665C2097.33,-75.2163 2087.9,-73.3206 2079,-72 1782.98,-28.0842 1426.4,-20.2782 1270.05,-19.083\"/>\n",
       "<polygon fill=\"black\" stroke=\"black\" points=\"1269.61,-15.5801 1259.59,-19.0108 1269.56,-22.5799 1269.61,-15.5801\"/>\n",
       "</g>\n",
       "</g>\n",
       "</svg>\n"
      ],
      "text/plain": [
       "<graphviz.files.Source at 0x7f1a12fe9fd0>"
      ]
     },
     "metadata": {},
     "output_type": "display_data"
    }
   ],
   "source": [
    "causal_links = CausalLinks()\n",
    "categorical_feature_names = ['Race', 'Sex']\n",
    "display_translator = translator(X.columns, X, X_display)\n",
    "target_name = 'predicted hazard'\n",
    "feature_names = list(X.columns)\n",
    "\n",
    "# build causal links\n",
    "causal_links.add_causes_effects(feature_names, target_name, create_xgboost_f(feature_names, model, output_margin=True)) # the target\n",
    "graph = build_feature_graph(X.fillna(X.mean()), causal_links, categorical_feature_names, display_translator, target_name)\n",
    "graph.draw()"
   ]
  },
  {
   "cell_type": "code",
   "execution_count": 8,
   "metadata": {},
   "outputs": [
    {
     "name": "stderr",
     "output_type": "stream",
     "text": [
      "bruteforce sampling: 100%|██████████| 1/1 [00:00<00:00,  8.43it/s]\n",
      "bruteforce sampling:   0%|          | 0/1 [00:00<?, ?it/s]"
     ]
    },
    {
     "name": "stdout",
     "output_type": "stream",
     "text": [
      "bg 0/100\n",
      "bg 1/100\n"
     ]
    },
    {
     "name": "stderr",
     "output_type": "stream",
     "text": [
      "bruteforce sampling: 100%|██████████| 1/1 [00:00<00:00, 12.29it/s]\n",
      "bruteforce sampling: 100%|██████████| 1/1 [00:00<00:00, 13.35it/s]\n",
      "bruteforce sampling: 100%|██████████| 1/1 [00:00<00:00, 13.17it/s]\n",
      "bruteforce sampling:   0%|          | 0/1 [00:00<?, ?it/s]"
     ]
    },
    {
     "name": "stdout",
     "output_type": "stream",
     "text": [
      "bg 2/100\n",
      "bg 3/100\n",
      "bg 4/100\n"
     ]
    },
    {
     "name": "stderr",
     "output_type": "stream",
     "text": [
      "bruteforce sampling: 100%|██████████| 1/1 [00:00<00:00, 13.02it/s]\n",
      "bruteforce sampling: 100%|██████████| 1/1 [00:00<00:00, 14.39it/s]\n",
      "bruteforce sampling: 100%|██████████| 1/1 [00:00<00:00, 12.95it/s]\n",
      "bruteforce sampling:   0%|          | 0/1 [00:00<?, ?it/s]"
     ]
    },
    {
     "name": "stdout",
     "output_type": "stream",
     "text": [
      "bg 5/100\n",
      "bg 6/100\n",
      "bg 7/100\n"
     ]
    },
    {
     "name": "stderr",
     "output_type": "stream",
     "text": [
      "bruteforce sampling: 100%|██████████| 1/1 [00:00<00:00, 14.02it/s]\n",
      "bruteforce sampling: 100%|██████████| 1/1 [00:00<00:00, 14.20it/s]\n",
      "bruteforce sampling: 100%|██████████| 1/1 [00:00<00:00, 13.82it/s]\n",
      "bruteforce sampling:   0%|          | 0/1 [00:00<?, ?it/s]"
     ]
    },
    {
     "name": "stdout",
     "output_type": "stream",
     "text": [
      "bg 8/100\n",
      "bg 9/100\n",
      "bg 10/100\n"
     ]
    },
    {
     "name": "stderr",
     "output_type": "stream",
     "text": [
      "bruteforce sampling: 100%|██████████| 1/1 [00:00<00:00, 13.07it/s]\n",
      "bruteforce sampling: 100%|██████████| 1/1 [00:00<00:00, 14.90it/s]\n",
      "bruteforce sampling: 100%|██████████| 1/1 [00:00<00:00, 14.28it/s]\n",
      "bruteforce sampling:   0%|          | 0/1 [00:00<?, ?it/s]"
     ]
    },
    {
     "name": "stdout",
     "output_type": "stream",
     "text": [
      "bg 11/100\n",
      "bg 12/100\n",
      "bg 13/100\n"
     ]
    },
    {
     "name": "stderr",
     "output_type": "stream",
     "text": [
      "bruteforce sampling: 100%|██████████| 1/1 [00:00<00:00, 12.21it/s]\n",
      "bruteforce sampling: 100%|██████████| 1/1 [00:00<00:00, 14.58it/s]\n",
      "bruteforce sampling: 100%|██████████| 1/1 [00:00<00:00, 14.30it/s]\n",
      "bruteforce sampling:   0%|          | 0/1 [00:00<?, ?it/s]"
     ]
    },
    {
     "name": "stdout",
     "output_type": "stream",
     "text": [
      "bg 14/100\n",
      "bg 15/100\n",
      "bg 16/100\n"
     ]
    },
    {
     "name": "stderr",
     "output_type": "stream",
     "text": [
      "bruteforce sampling: 100%|██████████| 1/1 [00:00<00:00, 13.99it/s]\n",
      "bruteforce sampling: 100%|██████████| 1/1 [00:00<00:00, 13.26it/s]\n",
      "bruteforce sampling: 100%|██████████| 1/1 [00:00<00:00, 13.98it/s]\n",
      "bruteforce sampling:   0%|          | 0/1 [00:00<?, ?it/s]"
     ]
    },
    {
     "name": "stdout",
     "output_type": "stream",
     "text": [
      "bg 17/100\n",
      "bg 18/100\n",
      "bg 19/100\n"
     ]
    },
    {
     "name": "stderr",
     "output_type": "stream",
     "text": [
      "bruteforce sampling: 100%|██████████| 1/1 [00:00<00:00, 14.27it/s]\n",
      "bruteforce sampling: 100%|██████████| 1/1 [00:00<00:00, 11.44it/s]\n",
      "bruteforce sampling: 100%|██████████| 1/1 [00:00<00:00, 11.69it/s]\n"
     ]
    },
    {
     "name": "stdout",
     "output_type": "stream",
     "text": [
      "bg 20/100\n",
      "bg 21/100\n",
      "bg 22/100\n"
     ]
    },
    {
     "name": "stderr",
     "output_type": "stream",
     "text": [
      "bruteforce sampling: 100%|██████████| 1/1 [00:00<00:00, 12.04it/s]\n",
      "bruteforce sampling: 100%|██████████| 1/1 [00:00<00:00, 13.62it/s]\n",
      "bruteforce sampling: 100%|██████████| 1/1 [00:00<00:00, 13.64it/s]\n",
      "bruteforce sampling:   0%|          | 0/1 [00:00<?, ?it/s]"
     ]
    },
    {
     "name": "stdout",
     "output_type": "stream",
     "text": [
      "bg 23/100\n",
      "bg 24/100\n",
      "bg 25/100\n"
     ]
    },
    {
     "name": "stderr",
     "output_type": "stream",
     "text": [
      "bruteforce sampling: 100%|██████████| 1/1 [00:00<00:00, 12.45it/s]\n",
      "bruteforce sampling: 100%|██████████| 1/1 [00:00<00:00, 11.84it/s]\n",
      "bruteforce sampling:   0%|          | 0/1 [00:00<?, ?it/s]"
     ]
    },
    {
     "name": "stdout",
     "output_type": "stream",
     "text": [
      "bg 26/100\n",
      "bg 27/100\n"
     ]
    },
    {
     "name": "stderr",
     "output_type": "stream",
     "text": [
      "bruteforce sampling: 100%|██████████| 1/1 [00:00<00:00, 10.54it/s]\n",
      "bruteforce sampling: 100%|██████████| 1/1 [00:00<00:00, 12.94it/s]\n",
      "bruteforce sampling: 100%|██████████| 1/1 [00:00<00:00, 13.79it/s]\n",
      "bruteforce sampling:   0%|          | 0/1 [00:00<?, ?it/s]"
     ]
    },
    {
     "name": "stdout",
     "output_type": "stream",
     "text": [
      "bg 28/100\n",
      "bg 29/100\n",
      "bg 30/100\n"
     ]
    },
    {
     "name": "stderr",
     "output_type": "stream",
     "text": [
      "bruteforce sampling: 100%|██████████| 1/1 [00:00<00:00, 11.32it/s]\n",
      "bruteforce sampling: 100%|██████████| 1/1 [00:00<00:00, 12.54it/s]\n",
      "bruteforce sampling: 100%|██████████| 1/1 [00:00<00:00, 11.70it/s]\n",
      "bruteforce sampling:   0%|          | 0/1 [00:00<?, ?it/s]"
     ]
    },
    {
     "name": "stdout",
     "output_type": "stream",
     "text": [
      "bg 31/100\n",
      "bg 32/100\n",
      "bg 33/100\n"
     ]
    },
    {
     "name": "stderr",
     "output_type": "stream",
     "text": [
      "bruteforce sampling: 100%|██████████| 1/1 [00:00<00:00, 14.47it/s]\n",
      "bruteforce sampling: 100%|██████████| 1/1 [00:00<00:00, 13.31it/s]\n",
      "bruteforce sampling:   0%|          | 0/1 [00:00<?, ?it/s]"
     ]
    },
    {
     "name": "stdout",
     "output_type": "stream",
     "text": [
      "bg 34/100\n",
      "bg 35/100\n"
     ]
    },
    {
     "name": "stderr",
     "output_type": "stream",
     "text": [
      "bruteforce sampling: 100%|██████████| 1/1 [00:00<00:00,  9.56it/s]\n",
      "bruteforce sampling: 100%|██████████| 1/1 [00:00<00:00, 11.88it/s]\n",
      "bruteforce sampling: 100%|██████████| 1/1 [00:00<00:00, 13.42it/s]\n",
      "bruteforce sampling:   0%|          | 0/1 [00:00<?, ?it/s]"
     ]
    },
    {
     "name": "stdout",
     "output_type": "stream",
     "text": [
      "bg 36/100\n",
      "bg 37/100\n",
      "bg 38/100\n"
     ]
    },
    {
     "name": "stderr",
     "output_type": "stream",
     "text": [
      "bruteforce sampling: 100%|██████████| 1/1 [00:00<00:00, 14.54it/s]\n",
      "bruteforce sampling: 100%|██████████| 1/1 [00:00<00:00, 12.28it/s]\n",
      "bruteforce sampling: 100%|██████████| 1/1 [00:00<00:00, 14.39it/s]\n",
      "bruteforce sampling:   0%|          | 0/1 [00:00<?, ?it/s]"
     ]
    },
    {
     "name": "stdout",
     "output_type": "stream",
     "text": [
      "bg 39/100\n",
      "bg 40/100\n",
      "bg 41/100\n"
     ]
    },
    {
     "name": "stderr",
     "output_type": "stream",
     "text": [
      "bruteforce sampling: 100%|██████████| 1/1 [00:00<00:00, 13.65it/s]\n",
      "bruteforce sampling: 100%|██████████| 1/1 [00:00<00:00, 10.57it/s]\n",
      "bruteforce sampling: 100%|██████████| 1/1 [00:00<00:00, 13.78it/s]\n"
     ]
    },
    {
     "name": "stdout",
     "output_type": "stream",
     "text": [
      "bg 42/100\n",
      "bg 43/100\n",
      "bg 44/100\n"
     ]
    },
    {
     "name": "stderr",
     "output_type": "stream",
     "text": [
      "bruteforce sampling: 100%|██████████| 1/1 [00:00<00:00, 11.19it/s]\n",
      "bruteforce sampling: 100%|██████████| 1/1 [00:00<00:00, 13.40it/s]\n",
      "bruteforce sampling:   0%|          | 0/1 [00:00<?, ?it/s]"
     ]
    },
    {
     "name": "stdout",
     "output_type": "stream",
     "text": [
      "bg 45/100\n",
      "bg 46/100\n"
     ]
    },
    {
     "name": "stderr",
     "output_type": "stream",
     "text": [
      "bruteforce sampling: 100%|██████████| 1/1 [00:00<00:00,  7.51it/s]\n",
      "bruteforce sampling: 100%|██████████| 1/1 [00:00<00:00, 12.55it/s]\n",
      "bruteforce sampling: 100%|██████████| 1/1 [00:00<00:00, 11.82it/s]\n",
      "bruteforce sampling:   0%|          | 0/1 [00:00<?, ?it/s]"
     ]
    },
    {
     "name": "stdout",
     "output_type": "stream",
     "text": [
      "bg 47/100\n",
      "bg 48/100\n",
      "bg 49/100\n"
     ]
    },
    {
     "name": "stderr",
     "output_type": "stream",
     "text": [
      "bruteforce sampling: 100%|██████████| 1/1 [00:00<00:00, 11.56it/s]\n",
      "bruteforce sampling: 100%|██████████| 1/1 [00:00<00:00, 11.76it/s]\n",
      "bruteforce sampling: 100%|██████████| 1/1 [00:00<00:00, 13.66it/s]\n",
      "bruteforce sampling:   0%|          | 0/1 [00:00<?, ?it/s]"
     ]
    },
    {
     "name": "stdout",
     "output_type": "stream",
     "text": [
      "bg 50/100\n",
      "bg 51/100\n",
      "bg 52/100\n"
     ]
    },
    {
     "name": "stderr",
     "output_type": "stream",
     "text": [
      "bruteforce sampling: 100%|██████████| 1/1 [00:00<00:00, 14.09it/s]\n",
      "bruteforce sampling: 100%|██████████| 1/1 [00:00<00:00, 14.31it/s]\n",
      "bruteforce sampling: 100%|██████████| 1/1 [00:00<00:00, 13.80it/s]\n",
      "bruteforce sampling:   0%|          | 0/1 [00:00<?, ?it/s]"
     ]
    },
    {
     "name": "stdout",
     "output_type": "stream",
     "text": [
      "bg 53/100\n",
      "bg 54/100\n",
      "bg 55/100\n"
     ]
    },
    {
     "name": "stderr",
     "output_type": "stream",
     "text": [
      "bruteforce sampling: 100%|██████████| 1/1 [00:00<00:00, 13.80it/s]\n",
      "bruteforce sampling: 100%|██████████| 1/1 [00:00<00:00, 13.61it/s]\n",
      "bruteforce sampling: 100%|██████████| 1/1 [00:00<00:00, 13.74it/s]\n",
      "bruteforce sampling:   0%|          | 0/1 [00:00<?, ?it/s]"
     ]
    },
    {
     "name": "stdout",
     "output_type": "stream",
     "text": [
      "bg 56/100\n",
      "bg 57/100\n",
      "bg 58/100\n"
     ]
    },
    {
     "name": "stderr",
     "output_type": "stream",
     "text": [
      "bruteforce sampling: 100%|██████████| 1/1 [00:00<00:00, 11.46it/s]\n",
      "bruteforce sampling: 100%|██████████| 1/1 [00:00<00:00, 12.63it/s]\n",
      "bruteforce sampling: 100%|██████████| 1/1 [00:00<00:00, 11.86it/s]\n"
     ]
    },
    {
     "name": "stdout",
     "output_type": "stream",
     "text": [
      "bg 59/100\n",
      "bg 60/100\n",
      "bg 61/100\n"
     ]
    },
    {
     "name": "stderr",
     "output_type": "stream",
     "text": [
      "bruteforce sampling: 100%|██████████| 1/1 [00:00<00:00, 13.29it/s]\n",
      "bruteforce sampling: 100%|██████████| 1/1 [00:00<00:00, 13.38it/s]\n",
      "bruteforce sampling: 100%|██████████| 1/1 [00:00<00:00, 12.00it/s]\n",
      "bruteforce sampling:   0%|          | 0/1 [00:00<?, ?it/s]"
     ]
    },
    {
     "name": "stdout",
     "output_type": "stream",
     "text": [
      "bg 62/100\n",
      "bg 63/100\n",
      "bg 64/100\n"
     ]
    },
    {
     "name": "stderr",
     "output_type": "stream",
     "text": [
      "bruteforce sampling: 100%|██████████| 1/1 [00:00<00:00, 12.25it/s]\n",
      "bruteforce sampling: 100%|██████████| 1/1 [00:00<00:00, 13.58it/s]\n",
      "bruteforce sampling: 100%|██████████| 1/1 [00:00<00:00, 12.80it/s]\n",
      "bruteforce sampling:   0%|          | 0/1 [00:00<?, ?it/s]"
     ]
    },
    {
     "name": "stdout",
     "output_type": "stream",
     "text": [
      "bg 65/100\n",
      "bg 66/100\n",
      "bg 67/100\n"
     ]
    },
    {
     "name": "stderr",
     "output_type": "stream",
     "text": [
      "bruteforce sampling: 100%|██████████| 1/1 [00:00<00:00, 12.43it/s]\n",
      "bruteforce sampling: 100%|██████████| 1/1 [00:00<00:00, 13.42it/s]\n",
      "bruteforce sampling: 100%|██████████| 1/1 [00:00<00:00, 14.61it/s]\n",
      "bruteforce sampling:   0%|          | 0/1 [00:00<?, ?it/s]"
     ]
    },
    {
     "name": "stdout",
     "output_type": "stream",
     "text": [
      "bg 68/100\n",
      "bg 69/100\n",
      "bg 70/100\n"
     ]
    },
    {
     "name": "stderr",
     "output_type": "stream",
     "text": [
      "bruteforce sampling: 100%|██████████| 1/1 [00:00<00:00, 12.79it/s]\n",
      "bruteforce sampling: 100%|██████████| 1/1 [00:00<00:00, 13.76it/s]\n",
      "bruteforce sampling: 100%|██████████| 1/1 [00:00<00:00, 13.36it/s]\n",
      "bruteforce sampling:   0%|          | 0/1 [00:00<?, ?it/s]"
     ]
    },
    {
     "name": "stdout",
     "output_type": "stream",
     "text": [
      "bg 71/100\n",
      "bg 72/100\n",
      "bg 73/100\n"
     ]
    },
    {
     "name": "stderr",
     "output_type": "stream",
     "text": [
      "bruteforce sampling: 100%|██████████| 1/1 [00:00<00:00, 11.70it/s]\n",
      "bruteforce sampling: 100%|██████████| 1/1 [00:00<00:00,  9.72it/s]\n",
      "bruteforce sampling:   0%|          | 0/1 [00:00<?, ?it/s]"
     ]
    },
    {
     "name": "stdout",
     "output_type": "stream",
     "text": [
      "bg 74/100\n",
      "bg 75/100\n"
     ]
    },
    {
     "name": "stderr",
     "output_type": "stream",
     "text": [
      "bruteforce sampling: 100%|██████████| 1/1 [00:00<00:00, 12.98it/s]\n",
      "bruteforce sampling: 100%|██████████| 1/1 [00:00<00:00, 13.82it/s]\n",
      "bruteforce sampling: 100%|██████████| 1/1 [00:00<00:00, 11.93it/s]\n",
      "bruteforce sampling:   0%|          | 0/1 [00:00<?, ?it/s]"
     ]
    },
    {
     "name": "stdout",
     "output_type": "stream",
     "text": [
      "bg 76/100\n",
      "bg 77/100\n",
      "bg 78/100\n"
     ]
    },
    {
     "name": "stderr",
     "output_type": "stream",
     "text": [
      "bruteforce sampling: 100%|██████████| 1/1 [00:00<00:00, 11.09it/s]\n",
      "bruteforce sampling: 100%|██████████| 1/1 [00:00<00:00, 12.42it/s]\n",
      "bruteforce sampling: 100%|██████████| 1/1 [00:00<00:00, 12.35it/s]\n"
     ]
    },
    {
     "name": "stdout",
     "output_type": "stream",
     "text": [
      "bg 79/100\n",
      "bg 80/100\n",
      "bg 81/100\n"
     ]
    },
    {
     "name": "stderr",
     "output_type": "stream",
     "text": [
      "bruteforce sampling: 100%|██████████| 1/1 [00:00<00:00, 12.18it/s]\n",
      "bruteforce sampling: 100%|██████████| 1/1 [00:00<00:00, 10.32it/s]\n",
      "bruteforce sampling:   0%|          | 0/1 [00:00<?, ?it/s]"
     ]
    },
    {
     "name": "stdout",
     "output_type": "stream",
     "text": [
      "bg 82/100\n",
      "bg 83/100\n"
     ]
    },
    {
     "name": "stderr",
     "output_type": "stream",
     "text": [
      "bruteforce sampling: 100%|██████████| 1/1 [00:00<00:00, 11.90it/s]\n",
      "bruteforce sampling: 100%|██████████| 1/1 [00:00<00:00, 13.13it/s]\n",
      "bruteforce sampling: 100%|██████████| 1/1 [00:00<00:00, 15.33it/s]\n",
      "bruteforce sampling:   0%|          | 0/1 [00:00<?, ?it/s]"
     ]
    },
    {
     "name": "stdout",
     "output_type": "stream",
     "text": [
      "bg 84/100\n",
      "bg 85/100\n",
      "bg 86/100\n"
     ]
    },
    {
     "name": "stderr",
     "output_type": "stream",
     "text": [
      "bruteforce sampling: 100%|██████████| 1/1 [00:00<00:00, 13.73it/s]\n",
      "bruteforce sampling: 100%|██████████| 1/1 [00:00<00:00, 12.60it/s]\n",
      "bruteforce sampling: 100%|██████████| 1/1 [00:00<00:00, 11.94it/s]\n",
      "bruteforce sampling:   0%|          | 0/1 [00:00<?, ?it/s]"
     ]
    },
    {
     "name": "stdout",
     "output_type": "stream",
     "text": [
      "bg 87/100\n",
      "bg 88/100\n",
      "bg 89/100\n"
     ]
    },
    {
     "name": "stderr",
     "output_type": "stream",
     "text": [
      "bruteforce sampling: 100%|██████████| 1/1 [00:00<00:00, 12.76it/s]\n",
      "bruteforce sampling: 100%|██████████| 1/1 [00:00<00:00, 12.89it/s]\n",
      "bruteforce sampling: 100%|██████████| 1/1 [00:00<00:00, 13.66it/s]\n",
      "bruteforce sampling:   0%|          | 0/1 [00:00<?, ?it/s]"
     ]
    },
    {
     "name": "stdout",
     "output_type": "stream",
     "text": [
      "bg 90/100\n",
      "bg 91/100\n",
      "bg 92/100\n"
     ]
    },
    {
     "name": "stderr",
     "output_type": "stream",
     "text": [
      "bruteforce sampling: 100%|██████████| 1/1 [00:00<00:00, 12.27it/s]\n",
      "bruteforce sampling: 100%|██████████| 1/1 [00:00<00:00, 13.07it/s]\n",
      "bruteforce sampling: 100%|██████████| 1/1 [00:00<00:00, 13.00it/s]\n",
      "bruteforce sampling:   0%|          | 0/1 [00:00<?, ?it/s]"
     ]
    },
    {
     "name": "stdout",
     "output_type": "stream",
     "text": [
      "bg 93/100\n",
      "bg 94/100\n",
      "bg 95/100\n"
     ]
    },
    {
     "name": "stderr",
     "output_type": "stream",
     "text": [
      "bruteforce sampling: 100%|██████████| 1/1 [00:00<00:00, 14.00it/s]\n",
      "bruteforce sampling: 100%|██████████| 1/1 [00:00<00:00, 14.02it/s]\n",
      "bruteforce sampling: 100%|██████████| 1/1 [00:00<00:00, 10.65it/s]\n"
     ]
    },
    {
     "name": "stdout",
     "output_type": "stream",
     "text": [
      "bg 96/100\n",
      "bg 97/100\n",
      "bg 98/100\n"
     ]
    },
    {
     "name": "stderr",
     "output_type": "stream",
     "text": [
      "bruteforce sampling: 100%|██████████| 1/1 [00:00<00:00, 13.15it/s]\n",
      "bruteforce sampling: 100%|██████████| 1/1 [00:00<00:00, 12.97it/s]"
     ]
    },
    {
     "name": "stdout",
     "output_type": "stream",
     "text": [
      "bg 99/100\n"
     ]
    },
    {
     "name": "stderr",
     "output_type": "stream",
     "text": [
      "\n"
     ]
    }
   ],
   "source": [
    "def node_dict2str_dict(node_edge_credit):\n",
    "    res = defaultdict(lambda: defaultdict(int))\n",
    "    for node1, d in node_edge_credit.items():\n",
    "        for node2, val in d.items():\n",
    "            res[node1.name][node2.name] = val\n",
    "    return res\n",
    "\n",
    "# multiple background result with individual run\n",
    "edge_credits = [] # save for each run\n",
    "for i in range(len(bg)): # average run result using linearity axiom\n",
    "    print(f'bg {i}/{len(bg)}')\n",
    "    for j in range(nruns):\n",
    "        explainer = GraphExplainer(graph, bg[i:i+1], nruns=1) \n",
    "        cf = explainer.shap_values(fg)\n",
    "        edge_credits.append(node_dict2str_dict(cf.edge_credit)) # use node name is more portable vs. node"
   ]
  },
  {
   "cell_type": "code",
   "execution_count": 9,
   "metadata": {},
   "outputs": [
    {
     "data": {
      "image/svg+xml": [
       "<?xml version=\"1.0\" encoding=\"UTF-8\" standalone=\"no\"?>\n",
       "<!DOCTYPE svg PUBLIC \"-//W3C//DTD SVG 1.1//EN\"\n",
       " \"http://www.w3.org/Graphics/SVG/1.1/DTD/svg11.dtd\">\n",
       "<!-- Generated by graphviz version 2.38.0 (20140413.2041)\n",
       " -->\n",
       "<!-- Title: %3 Pages: 1 -->\n",
       "<svg width=\"1351pt\" height=\"131pt\"\n",
       " viewBox=\"0.00 0.00 1351.34 131.00\" xmlns=\"http://www.w3.org/2000/svg\" xmlns:xlink=\"http://www.w3.org/1999/xlink\">\n",
       "<g id=\"graph0\" class=\"graph\" transform=\"scale(1 1) rotate(0) translate(4 127)\">\n",
       "<title>%3</title>\n",
       "<polygon fill=\"white\" stroke=\"none\" points=\"-4,4 -4,-127 1347.34,-127 1347.34,4 -4,4\"/>\n",
       "<!-- Sedimentation rate -->\n",
       "<g id=\"node1\" class=\"node\"><title>Sedimentation rate</title>\n",
       "<ellipse fill=\"none\" stroke=\"black\" cx=\"77.3431\" cy=\"-105\" rx=\"77.1866\" ry=\"18\"/>\n",
       "<text text-anchor=\"middle\" x=\"77.3431\" y=\"-101.3\" font-family=\"Times,serif\" font-size=\"14.00\">Sedimentation rate</text>\n",
       "</g>\n",
       "<!-- predicted hazard -->\n",
       "<g id=\"node2\" class=\"node\"><title>predicted hazard</title>\n",
       "<ellipse fill=\"none\" stroke=\"black\" cx=\"158.343\" cy=\"-18\" rx=\"69.5877\" ry=\"18\"/>\n",
       "<text text-anchor=\"middle\" x=\"158.343\" y=\"-14.3\" font-family=\"Times,serif\" font-size=\"14.00\">predicted hazard</text>\n",
       "</g>\n",
       "<!-- Sedimentation rate&#45;&gt;predicted hazard -->\n",
       "<g id=\"edge1\" class=\"edge\"><title>Sedimentation rate&#45;&gt;predicted hazard</title>\n",
       "<path fill=\"none\" stroke=\"#ff0051\" stroke-width=\"0.261144\" d=\"M83.5925,-86.8734C87.9777,-76.5175 94.6177,-63.5216 103.343,-54 108.07,-48.8422 113.72,-44.1346 119.573,-39.9605\"/>\n",
       "<polygon fill=\"#ff0051\" stroke=\"#ff0051\" stroke-width=\"0.261144\" points=\"121.807,-42.6787 128.209,-34.2365 117.94,-36.844 121.807,-42.6787\"/>\n",
       "<text text-anchor=\"middle\" x=\"151.843\" y=\"-57.8\" font-family=\"Times,serif\" font-size=\"14.00\" fill=\"#ff0051\">(0.02, 0.03, 0.04)</text>\n",
       "</g>\n",
       "<!-- White blood cells -->\n",
       "<g id=\"node3\" class=\"node\"><title>White blood cells</title>\n",
       "<ellipse fill=\"none\" stroke=\"black\" cx=\"246.343\" cy=\"-105\" rx=\"73.387\" ry=\"18\"/>\n",
       "<text text-anchor=\"middle\" x=\"246.343\" y=\"-101.3\" font-family=\"Times,serif\" font-size=\"14.00\">White blood cells</text>\n",
       "</g>\n",
       "<!-- White blood cells&#45;&gt;predicted hazard -->\n",
       "<g id=\"edge2\" class=\"edge\"><title>White blood cells&#45;&gt;predicted hazard</title>\n",
       "<path fill=\"none\" stroke=\"#008bfb\" stroke-width=\"0.167345\" d=\"M231.953,-87.2703C223.137,-77.3022 211.448,-64.5738 200.343,-54 196.028,-49.8909 191.303,-45.6923 186.629,-41.6951\"/>\n",
       "<polygon fill=\"#008bfb\" stroke=\"#008bfb\" stroke-width=\"0.167345\" points=\"188.804,-38.9518 178.892,-35.2098 184.307,-44.3163 188.804,-38.9518\"/>\n",
       "<text text-anchor=\"middle\" x=\"270.343\" y=\"-57.8\" font-family=\"Times,serif\" font-size=\"14.00\" fill=\"#008bfb\">(&#45;0.03, &#45;0.02, &#45;0.01)</text>\n",
       "</g>\n",
       "<!-- Age -->\n",
       "<g id=\"node4\" class=\"node\"><title>Age</title>\n",
       "<ellipse fill=\"none\" stroke=\"black\" cx=\"364.343\" cy=\"-105\" rx=\"27\" ry=\"18\"/>\n",
       "<text text-anchor=\"middle\" x=\"364.343\" y=\"-101.3\" font-family=\"Times,serif\" font-size=\"14.00\">Age</text>\n",
       "</g>\n",
       "<!-- Age&#45;&gt;predicted hazard -->\n",
       "<g id=\"edge3\" class=\"edge\"><title>Age&#45;&gt;predicted hazard</title>\n",
       "<path fill=\"none\" stroke=\"#ff0051\" stroke-width=\"5\" d=\"M356.935,-87.5204C351.049,-76.3321 341.744,-62.1417 329.343,-54 302.261,-36.2185 267.974,-27.1847 237.224,-22.6933\"/>\n",
       "<polygon fill=\"#ff0051\" stroke=\"#ff0051\" stroke-width=\"5\" points=\"237.433,-18.3081 226.947,-21.3382 236.289,-26.983 237.433,-18.3081\"/>\n",
       "<text text-anchor=\"middle\" x=\"393.843\" y=\"-57.8\" font-family=\"Times,serif\" font-size=\"14.00\" fill=\"#ff0051\">(0.59, 0.77, 0.95)</text>\n",
       "</g>\n",
       "<!-- Serum Magnesium -->\n",
       "<g id=\"node5\" class=\"node\"><title>Serum Magnesium</title>\n",
       "<ellipse fill=\"none\" stroke=\"black\" cx=\"488.343\" cy=\"-105\" rx=\"79.0865\" ry=\"18\"/>\n",
       "<text text-anchor=\"middle\" x=\"488.343\" y=\"-101.3\" font-family=\"Times,serif\" font-size=\"14.00\">Serum Magnesium</text>\n",
       "</g>\n",
       "<!-- Serum Magnesium&#45;&gt;predicted hazard -->\n",
       "<g id=\"edge4\" class=\"edge\"><title>Serum Magnesium&#45;&gt;predicted hazard</title>\n",
       "<path fill=\"none\" stroke=\"#008bfb\" stroke-width=\"0.179872\" d=\"M478.567,-86.6741C471.229,-75.4 460.098,-61.4528 446.343,-54 411.29,-35.008 309.461,-26.1207 236.845,-22.1035\"/>\n",
       "<polygon fill=\"#008bfb\" stroke=\"#008bfb\" stroke-width=\"0.179872\" points=\"236.975,-18.6056 226.803,-21.5685 236.602,-25.5957 236.975,-18.6056\"/>\n",
       "<text text-anchor=\"middle\" x=\"519.343\" y=\"-57.8\" font-family=\"Times,serif\" font-size=\"14.00\" fill=\"#008bfb\">(&#45;0.03, &#45;0.02, &#45;0.01)</text>\n",
       "</g>\n",
       "<!-- Pulse pressure -->\n",
       "<g id=\"node6\" class=\"node\"><title>Pulse pressure</title>\n",
       "<ellipse fill=\"none\" stroke=\"black\" cx=\"647.343\" cy=\"-105\" rx=\"61.99\" ry=\"18\"/>\n",
       "<text text-anchor=\"middle\" x=\"647.343\" y=\"-101.3\" font-family=\"Times,serif\" font-size=\"14.00\">Pulse pressure</text>\n",
       "</g>\n",
       "<!-- Pulse pressure&#45;&gt;predicted hazard -->\n",
       "<g id=\"edge5\" class=\"edge\"><title>Pulse pressure&#45;&gt;predicted hazard</title>\n",
       "<path fill=\"none\" stroke=\"#ff0051\" stroke-width=\"0.196213\" d=\"M630.474,-87.6738C617.384,-76.0947 598.178,-61.3554 578.343,-54 517.925,-31.5954 341.826,-23.4524 237.829,-20.5522\"/>\n",
       "<polygon fill=\"#ff0051\" stroke=\"#ff0051\" stroke-width=\"0.196213\" points=\"237.777,-17.0496 227.687,-20.2796 237.589,-24.0471 237.777,-17.0496\"/>\n",
       "<text text-anchor=\"middle\" x=\"653.843\" y=\"-57.8\" font-family=\"Times,serif\" font-size=\"14.00\" fill=\"#ff0051\">(0.02, 0.02, 0.03)</text>\n",
       "</g>\n",
       "<!-- Systolic BP -->\n",
       "<g id=\"node7\" class=\"node\"><title>Systolic BP</title>\n",
       "<ellipse fill=\"none\" stroke=\"black\" cx=\"779.343\" cy=\"-105\" rx=\"51.9908\" ry=\"18\"/>\n",
       "<text text-anchor=\"middle\" x=\"779.343\" y=\"-101.3\" font-family=\"Times,serif\" font-size=\"14.00\">Systolic BP</text>\n",
       "</g>\n",
       "<!-- Systolic BP&#45;&gt;predicted hazard -->\n",
       "<g id=\"edge6\" class=\"edge\"><title>Systolic BP&#45;&gt;predicted hazard</title>\n",
       "<path fill=\"none\" stroke=\"#ff0051\" stroke-width=\"0.780249\" d=\"M761.659,-87.805C747.738,-76.1318 727.254,-61.2132 706.343,-54 622.217,-24.9814 369.344,-19.6734 238.592,-18.9262\"/>\n",
       "<polygon fill=\"#ff0051\" stroke=\"#ff0051\" stroke-width=\"0.780249\" points=\"238.261,-15.4246 228.243,-18.8752 238.226,-22.4246 238.261,-15.4246\"/>\n",
       "<text text-anchor=\"middle\" x=\"783.843\" y=\"-57.8\" font-family=\"Times,serif\" font-size=\"14.00\" fill=\"#ff0051\">(0.10, 0.11, 0.13)</text>\n",
       "</g>\n",
       "<!-- Poverty index -->\n",
       "<g id=\"node8\" class=\"node\"><title>Poverty index</title>\n",
       "<ellipse fill=\"none\" stroke=\"black\" cx=\"909.343\" cy=\"-105\" rx=\"59.5901\" ry=\"18\"/>\n",
       "<text text-anchor=\"middle\" x=\"909.343\" y=\"-101.3\" font-family=\"Times,serif\" font-size=\"14.00\">Poverty index</text>\n",
       "</g>\n",
       "<!-- Poverty index&#45;&gt;predicted hazard -->\n",
       "<g id=\"edge7\" class=\"edge\"><title>Poverty index&#45;&gt;predicted hazard</title>\n",
       "<path fill=\"none\" stroke=\"#008bfb\" stroke-width=\"0.215019\" d=\"M891.684,-87.7317C877.776,-76.0201 857.298,-61.0854 836.343,-54 780.977,-35.2792 404.399,-24.5572 237.591,-20.6774\"/>\n",
       "<polygon fill=\"#008bfb\" stroke=\"#008bfb\" stroke-width=\"0.215019\" points=\"237.472,-17.1738 227.394,-20.4427 237.311,-24.172 237.472,-17.1738\"/>\n",
       "<text text-anchor=\"middle\" x=\"920.343\" y=\"-57.8\" font-family=\"Times,serif\" font-size=\"14.00\" fill=\"#008bfb\">(&#45;0.03, &#45;0.03, &#45;0.02)</text>\n",
       "</g>\n",
       "<!-- BMI -->\n",
       "<g id=\"node9\" class=\"node\"><title>BMI</title>\n",
       "<ellipse fill=\"none\" stroke=\"black\" cx=\"1015.34\" cy=\"-105\" rx=\"27.8951\" ry=\"18\"/>\n",
       "<text text-anchor=\"middle\" x=\"1015.34\" y=\"-101.3\" font-family=\"Times,serif\" font-size=\"14.00\">BMI</text>\n",
       "</g>\n",
       "<!-- BMI&#45;&gt;predicted hazard -->\n",
       "<g id=\"edge8\" class=\"edge\"><title>BMI&#45;&gt;predicted hazard</title>\n",
       "<path fill=\"none\" stroke=\"#008bfb\" stroke-width=\"0.152889\" d=\"M1008.24,-87.3752C1002.33,-75.8063 992.711,-61.2111 979.343,-54 915.276,-19.4406 431.52,-17.74 237.999,-18.471\"/>\n",
       "<polygon fill=\"#008bfb\" stroke=\"#008bfb\" stroke-width=\"0.152889\" points=\"237.879,-14.9713 227.894,-18.5124 237.908,-21.9713 237.879,-14.9713\"/>\n",
       "<text text-anchor=\"middle\" x=\"1051.34\" y=\"-57.8\" font-family=\"Times,serif\" font-size=\"14.00\" fill=\"#008bfb\">(&#45;0.03, &#45;0.02, &#45;0.01)</text>\n",
       "</g>\n",
       "<!-- Sex -->\n",
       "<g id=\"node10\" class=\"node\"><title>Sex</title>\n",
       "<polygon fill=\"none\" stroke=\"black\" points=\"1115.34,-123 1061.34,-123 1061.34,-87 1115.34,-87 1115.34,-123\"/>\n",
       "<text text-anchor=\"middle\" x=\"1088.34\" y=\"-101.3\" font-family=\"Times,serif\" font-size=\"14.00\">Sex</text>\n",
       "</g>\n",
       "<!-- Sex&#45;&gt;predicted hazard -->\n",
       "<g id=\"edge9\" class=\"edge\"><title>Sex&#45;&gt;predicted hazard</title>\n",
       "<path fill=\"none\" stroke=\"#008bfb\" stroke-width=\"1.02797\" d=\"M1104.58,-86.9905C1112.72,-76.42 1119.16,-63.1496 1110.34,-54 1080.28,-22.8123 461.683,-19.2308 238.091,-18.9582\"/>\n",
       "<polygon fill=\"#008bfb\" stroke=\"#008bfb\" stroke-width=\"1.02797\" points=\"238.069,-15.4582 228.066,-18.9478 238.062,-22.4582 238.069,-15.4582\"/>\n",
       "<text text-anchor=\"middle\" x=\"1170.34\" y=\"-57.8\" font-family=\"Times,serif\" font-size=\"14.00\" fill=\"#008bfb\">(&#45;0.19, &#45;0.15, &#45;0.11)</text>\n",
       "</g>\n",
       "<!-- Serum Albumin -->\n",
       "<g id=\"node11\" class=\"node\"><title>Serum Albumin</title>\n",
       "<ellipse fill=\"none\" stroke=\"black\" cx=\"1211.34\" cy=\"-105\" rx=\"68.4888\" ry=\"18\"/>\n",
       "<text text-anchor=\"middle\" x=\"1211.34\" y=\"-101.3\" font-family=\"Times,serif\" font-size=\"14.00\">Serum Albumin</text>\n",
       "</g>\n",
       "<!-- Serum Albumin&#45;&gt;predicted hazard -->\n",
       "<g id=\"edge10\" class=\"edge\"><title>Serum Albumin&#45;&gt;predicted hazard</title>\n",
       "<path fill=\"none\" stroke=\"#008bfb\" stroke-width=\"0.118469\" d=\"M1225.25,-87.2838C1232.44,-76.5638 1238.07,-63.016 1229.34,-54 1195,-18.5207 480.889,-17.8178 238.226,-18.6106\"/>\n",
       "<polygon fill=\"#008bfb\" stroke=\"#008bfb\" stroke-width=\"0.118469\" points=\"238.052,-15.111 228.064,-18.6455 238.076,-22.111 238.052,-15.111\"/>\n",
       "<text text-anchor=\"middle\" x=\"1288.34\" y=\"-57.8\" font-family=\"Times,serif\" font-size=\"14.00\" fill=\"#008bfb\">(&#45;0.02, &#45;0.01, &#45;0.00)</text>\n",
       "</g>\n",
       "</g>\n",
       "</svg>\n"
      ],
      "text/plain": [
       "<graphviz.files.Source at 0x7f1a0f0a9f90>"
      ]
     },
     "metadata": {},
     "output_type": "display_data"
    },
    {
     "data": {
      "text/plain": [
       "<AGraph <Swig Object of type 'Agraph_t *' at 0x7f1a12ed4900>>"
      ]
     },
     "execution_count": 9,
     "metadata": {},
     "output_type": "execute_result"
    }
   ],
   "source": [
    "cf.show_CI = True # 95% confidence interval from https://link.springer.com/chapter/10.1007/978-3-030-57321-8_2 Equation 12.\n",
    "cf.draw(sample_ind, max_display=10, edge_credit=edge_credits2edge_credit(edge_credits, cf.graph), show_fg_val=False)"
   ]
  },
  {
   "cell_type": "markdown",
   "metadata": {},
   "source": [
    "# On manifold SHAP"
   ]
  },
  {
   "cell_type": "code",
   "execution_count": 10,
   "metadata": {},
   "outputs": [
    {
     "name": "stderr",
     "output_type": "stream",
     "text": [
      "manifold bg samples:   1%|          | 1/100 [00:00<00:13,  7.34it/s]"
     ]
    },
    {
     "name": "stdout",
     "output_type": "stream",
     "text": [
      "bg 0/100\n"
     ]
    },
    {
     "name": "stderr",
     "output_type": "stream",
     "text": [
      "manifold bg samples: 100%|██████████| 100/100 [00:06<00:00, 14.40it/s]\n",
      "manifold bg samples:   2%|▏         | 2/100 [00:00<00:05, 17.55it/s]"
     ]
    },
    {
     "name": "stdout",
     "output_type": "stream",
     "text": [
      "bg 1/100\n"
     ]
    },
    {
     "name": "stderr",
     "output_type": "stream",
     "text": [
      "manifold bg samples: 100%|██████████| 100/100 [00:07<00:00, 14.06it/s]\n",
      "manifold bg samples:   2%|▏         | 2/100 [00:00<00:06, 14.50it/s]"
     ]
    },
    {
     "name": "stdout",
     "output_type": "stream",
     "text": [
      "bg 2/100\n"
     ]
    },
    {
     "name": "stderr",
     "output_type": "stream",
     "text": [
      "manifold bg samples: 100%|██████████| 100/100 [00:07<00:00, 13.70it/s]\n",
      "manifold bg samples:   2%|▏         | 2/100 [00:00<00:06, 15.94it/s]"
     ]
    },
    {
     "name": "stdout",
     "output_type": "stream",
     "text": [
      "bg 3/100\n"
     ]
    },
    {
     "name": "stderr",
     "output_type": "stream",
     "text": [
      "manifold bg samples: 100%|██████████| 100/100 [00:07<00:00, 14.24it/s]\n",
      "manifold bg samples:   2%|▏         | 2/100 [00:00<00:07, 13.12it/s]"
     ]
    },
    {
     "name": "stdout",
     "output_type": "stream",
     "text": [
      "bg 4/100\n"
     ]
    },
    {
     "name": "stderr",
     "output_type": "stream",
     "text": [
      "manifold bg samples: 100%|██████████| 100/100 [00:07<00:00, 14.20it/s]\n",
      "manifold bg samples:   2%|▏         | 2/100 [00:00<00:05, 17.26it/s]"
     ]
    },
    {
     "name": "stdout",
     "output_type": "stream",
     "text": [
      "bg 5/100\n"
     ]
    },
    {
     "name": "stderr",
     "output_type": "stream",
     "text": [
      "manifold bg samples: 100%|██████████| 100/100 [00:06<00:00, 14.79it/s]\n",
      "manifold bg samples:   2%|▏         | 2/100 [00:00<00:05, 16.74it/s]"
     ]
    },
    {
     "name": "stdout",
     "output_type": "stream",
     "text": [
      "bg 6/100\n"
     ]
    },
    {
     "name": "stderr",
     "output_type": "stream",
     "text": [
      "manifold bg samples: 100%|██████████| 100/100 [00:06<00:00, 15.18it/s]\n",
      "manifold bg samples:   2%|▏         | 2/100 [00:00<00:06, 15.67it/s]"
     ]
    },
    {
     "name": "stdout",
     "output_type": "stream",
     "text": [
      "bg 7/100\n"
     ]
    },
    {
     "name": "stderr",
     "output_type": "stream",
     "text": [
      "manifold bg samples: 100%|██████████| 100/100 [00:07<00:00, 14.27it/s]\n",
      "manifold bg samples:   1%|          | 1/100 [00:00<00:10,  9.74it/s]"
     ]
    },
    {
     "name": "stdout",
     "output_type": "stream",
     "text": [
      "bg 8/100\n"
     ]
    },
    {
     "name": "stderr",
     "output_type": "stream",
     "text": [
      "manifold bg samples: 100%|██████████| 100/100 [00:06<00:00, 14.37it/s]\n",
      "manifold bg samples:   2%|▏         | 2/100 [00:00<00:06, 15.40it/s]"
     ]
    },
    {
     "name": "stdout",
     "output_type": "stream",
     "text": [
      "bg 9/100\n"
     ]
    },
    {
     "name": "stderr",
     "output_type": "stream",
     "text": [
      "manifold bg samples: 100%|██████████| 100/100 [00:06<00:00, 14.80it/s]\n",
      "manifold bg samples:   2%|▏         | 2/100 [00:00<00:06, 15.73it/s]"
     ]
    },
    {
     "name": "stdout",
     "output_type": "stream",
     "text": [
      "bg 10/100\n"
     ]
    },
    {
     "name": "stderr",
     "output_type": "stream",
     "text": [
      "manifold bg samples: 100%|██████████| 100/100 [00:06<00:00, 14.79it/s]\n",
      "manifold bg samples:   1%|          | 1/100 [00:00<00:12,  7.62it/s]"
     ]
    },
    {
     "name": "stdout",
     "output_type": "stream",
     "text": [
      "bg 11/100\n"
     ]
    },
    {
     "name": "stderr",
     "output_type": "stream",
     "text": [
      "manifold bg samples: 100%|██████████| 100/100 [00:06<00:00, 14.36it/s]\n",
      "manifold bg samples:   2%|▏         | 2/100 [00:00<00:05, 17.54it/s]"
     ]
    },
    {
     "name": "stdout",
     "output_type": "stream",
     "text": [
      "bg 12/100\n"
     ]
    },
    {
     "name": "stderr",
     "output_type": "stream",
     "text": [
      "manifold bg samples: 100%|██████████| 100/100 [00:06<00:00, 14.50it/s]\n",
      "manifold bg samples:   2%|▏         | 2/100 [00:00<00:06, 16.00it/s]"
     ]
    },
    {
     "name": "stdout",
     "output_type": "stream",
     "text": [
      "bg 13/100\n"
     ]
    },
    {
     "name": "stderr",
     "output_type": "stream",
     "text": [
      "manifold bg samples: 100%|██████████| 100/100 [00:06<00:00, 14.62it/s]\n",
      "manifold bg samples:   2%|▏         | 2/100 [00:00<00:05, 17.59it/s]"
     ]
    },
    {
     "name": "stdout",
     "output_type": "stream",
     "text": [
      "bg 14/100\n"
     ]
    },
    {
     "name": "stderr",
     "output_type": "stream",
     "text": [
      "manifold bg samples: 100%|██████████| 100/100 [00:06<00:00, 15.62it/s]\n",
      "manifold bg samples:   2%|▏         | 2/100 [00:00<00:06, 15.29it/s]"
     ]
    },
    {
     "name": "stdout",
     "output_type": "stream",
     "text": [
      "bg 15/100\n"
     ]
    },
    {
     "name": "stderr",
     "output_type": "stream",
     "text": [
      "manifold bg samples: 100%|██████████| 100/100 [00:06<00:00, 14.59it/s]\n",
      "manifold bg samples:   2%|▏         | 2/100 [00:00<00:07, 13.01it/s]"
     ]
    },
    {
     "name": "stdout",
     "output_type": "stream",
     "text": [
      "bg 16/100\n"
     ]
    },
    {
     "name": "stderr",
     "output_type": "stream",
     "text": [
      "manifold bg samples: 100%|██████████| 100/100 [00:06<00:00, 14.68it/s]\n",
      "manifold bg samples:   2%|▏         | 2/100 [00:00<00:05, 17.40it/s]"
     ]
    },
    {
     "name": "stdout",
     "output_type": "stream",
     "text": [
      "bg 17/100\n"
     ]
    },
    {
     "name": "stderr",
     "output_type": "stream",
     "text": [
      "manifold bg samples: 100%|██████████| 100/100 [00:06<00:00, 14.85it/s]\n",
      "manifold bg samples:   2%|▏         | 2/100 [00:00<00:07, 12.97it/s]"
     ]
    },
    {
     "name": "stdout",
     "output_type": "stream",
     "text": [
      "bg 18/100\n"
     ]
    },
    {
     "name": "stderr",
     "output_type": "stream",
     "text": [
      "manifold bg samples: 100%|██████████| 100/100 [00:06<00:00, 15.16it/s]\n",
      "manifold bg samples:   2%|▏         | 2/100 [00:00<00:06, 15.77it/s]"
     ]
    },
    {
     "name": "stdout",
     "output_type": "stream",
     "text": [
      "bg 19/100\n"
     ]
    },
    {
     "name": "stderr",
     "output_type": "stream",
     "text": [
      "manifold bg samples: 100%|██████████| 100/100 [00:06<00:00, 15.03it/s]\n",
      "manifold bg samples:   2%|▏         | 2/100 [00:00<00:06, 15.05it/s]"
     ]
    },
    {
     "name": "stdout",
     "output_type": "stream",
     "text": [
      "bg 20/100\n"
     ]
    },
    {
     "name": "stderr",
     "output_type": "stream",
     "text": [
      "manifold bg samples: 100%|██████████| 100/100 [00:06<00:00, 15.03it/s]\n",
      "manifold bg samples:   2%|▏         | 2/100 [00:00<00:05, 17.38it/s]"
     ]
    },
    {
     "name": "stdout",
     "output_type": "stream",
     "text": [
      "bg 21/100\n"
     ]
    },
    {
     "name": "stderr",
     "output_type": "stream",
     "text": [
      "manifold bg samples: 100%|██████████| 100/100 [00:07<00:00, 14.21it/s]\n",
      "manifold bg samples:   2%|▏         | 2/100 [00:00<00:06, 15.89it/s]"
     ]
    },
    {
     "name": "stdout",
     "output_type": "stream",
     "text": [
      "bg 22/100\n"
     ]
    },
    {
     "name": "stderr",
     "output_type": "stream",
     "text": [
      "manifold bg samples: 100%|██████████| 100/100 [00:06<00:00, 14.80it/s]\n",
      "manifold bg samples:   2%|▏         | 2/100 [00:00<00:07, 13.68it/s]"
     ]
    },
    {
     "name": "stdout",
     "output_type": "stream",
     "text": [
      "bg 23/100\n"
     ]
    },
    {
     "name": "stderr",
     "output_type": "stream",
     "text": [
      "manifold bg samples: 100%|██████████| 100/100 [00:06<00:00, 14.90it/s]\n",
      "manifold bg samples:   2%|▏         | 2/100 [00:00<00:07, 13.01it/s]"
     ]
    },
    {
     "name": "stdout",
     "output_type": "stream",
     "text": [
      "bg 24/100\n"
     ]
    },
    {
     "name": "stderr",
     "output_type": "stream",
     "text": [
      "manifold bg samples: 100%|██████████| 100/100 [00:07<00:00, 13.98it/s]\n",
      "manifold bg samples:   2%|▏         | 2/100 [00:00<00:05, 19.25it/s]"
     ]
    },
    {
     "name": "stdout",
     "output_type": "stream",
     "text": [
      "bg 25/100\n"
     ]
    },
    {
     "name": "stderr",
     "output_type": "stream",
     "text": [
      "manifold bg samples: 100%|██████████| 100/100 [00:06<00:00, 14.59it/s]\n",
      "manifold bg samples:   2%|▏         | 2/100 [00:00<00:06, 15.69it/s]"
     ]
    },
    {
     "name": "stdout",
     "output_type": "stream",
     "text": [
      "bg 26/100\n"
     ]
    },
    {
     "name": "stderr",
     "output_type": "stream",
     "text": [
      "manifold bg samples: 100%|██████████| 100/100 [00:06<00:00, 14.88it/s]\n",
      "manifold bg samples:   2%|▏         | 2/100 [00:00<00:06, 15.76it/s]"
     ]
    },
    {
     "name": "stdout",
     "output_type": "stream",
     "text": [
      "bg 27/100\n"
     ]
    },
    {
     "name": "stderr",
     "output_type": "stream",
     "text": [
      "manifold bg samples: 100%|██████████| 100/100 [00:06<00:00, 14.56it/s]\n",
      "manifold bg samples:   2%|▏         | 2/100 [00:00<00:05, 16.38it/s]"
     ]
    },
    {
     "name": "stdout",
     "output_type": "stream",
     "text": [
      "bg 28/100\n"
     ]
    },
    {
     "name": "stderr",
     "output_type": "stream",
     "text": [
      "manifold bg samples: 100%|██████████| 100/100 [00:06<00:00, 15.09it/s]\n",
      "manifold bg samples:   2%|▏         | 2/100 [00:00<00:07, 13.78it/s]"
     ]
    },
    {
     "name": "stdout",
     "output_type": "stream",
     "text": [
      "bg 29/100\n"
     ]
    },
    {
     "name": "stderr",
     "output_type": "stream",
     "text": [
      "manifold bg samples: 100%|██████████| 100/100 [00:06<00:00, 15.60it/s]\n",
      "manifold bg samples:   2%|▏         | 2/100 [00:00<00:05, 16.49it/s]"
     ]
    },
    {
     "name": "stdout",
     "output_type": "stream",
     "text": [
      "bg 30/100\n"
     ]
    },
    {
     "name": "stderr",
     "output_type": "stream",
     "text": [
      "manifold bg samples: 100%|██████████| 100/100 [00:06<00:00, 15.72it/s]\n",
      "manifold bg samples:   2%|▏         | 2/100 [00:00<00:05, 17.36it/s]"
     ]
    },
    {
     "name": "stdout",
     "output_type": "stream",
     "text": [
      "bg 31/100\n"
     ]
    },
    {
     "name": "stderr",
     "output_type": "stream",
     "text": [
      "manifold bg samples: 100%|██████████| 100/100 [00:06<00:00, 14.58it/s]\n",
      "manifold bg samples:   2%|▏         | 2/100 [00:00<00:07, 13.26it/s]"
     ]
    },
    {
     "name": "stdout",
     "output_type": "stream",
     "text": [
      "bg 32/100\n"
     ]
    },
    {
     "name": "stderr",
     "output_type": "stream",
     "text": [
      "manifold bg samples: 100%|██████████| 100/100 [00:06<00:00, 14.33it/s]\n",
      "manifold bg samples:   2%|▏         | 2/100 [00:00<00:06, 14.34it/s]"
     ]
    },
    {
     "name": "stdout",
     "output_type": "stream",
     "text": [
      "bg 33/100\n"
     ]
    },
    {
     "name": "stderr",
     "output_type": "stream",
     "text": [
      "manifold bg samples: 100%|██████████| 100/100 [00:06<00:00, 14.57it/s]\n",
      "manifold bg samples:   2%|▏         | 2/100 [00:00<00:06, 14.30it/s]"
     ]
    },
    {
     "name": "stdout",
     "output_type": "stream",
     "text": [
      "bg 34/100\n"
     ]
    },
    {
     "name": "stderr",
     "output_type": "stream",
     "text": [
      "manifold bg samples: 100%|██████████| 100/100 [00:06<00:00, 14.71it/s]\n",
      "manifold bg samples:   2%|▏         | 2/100 [00:00<00:07, 13.30it/s]"
     ]
    },
    {
     "name": "stdout",
     "output_type": "stream",
     "text": [
      "bg 35/100\n"
     ]
    },
    {
     "name": "stderr",
     "output_type": "stream",
     "text": [
      "manifold bg samples: 100%|██████████| 100/100 [00:06<00:00, 14.67it/s]\n",
      "manifold bg samples:   2%|▏         | 2/100 [00:00<00:06, 14.94it/s]"
     ]
    },
    {
     "name": "stdout",
     "output_type": "stream",
     "text": [
      "bg 36/100\n"
     ]
    },
    {
     "name": "stderr",
     "output_type": "stream",
     "text": [
      "manifold bg samples: 100%|██████████| 100/100 [00:06<00:00, 14.42it/s]\n",
      "manifold bg samples:   2%|▏         | 2/100 [00:00<00:06, 14.16it/s]"
     ]
    },
    {
     "name": "stdout",
     "output_type": "stream",
     "text": [
      "bg 37/100\n"
     ]
    },
    {
     "name": "stderr",
     "output_type": "stream",
     "text": [
      "manifold bg samples: 100%|██████████| 100/100 [00:06<00:00, 14.57it/s]\n",
      "manifold bg samples:   2%|▏         | 2/100 [00:00<00:06, 15.43it/s]"
     ]
    },
    {
     "name": "stdout",
     "output_type": "stream",
     "text": [
      "bg 38/100\n"
     ]
    },
    {
     "name": "stderr",
     "output_type": "stream",
     "text": [
      "manifold bg samples: 100%|██████████| 100/100 [00:06<00:00, 14.90it/s]\n",
      "manifold bg samples:   2%|▏         | 2/100 [00:00<00:05, 17.43it/s]"
     ]
    },
    {
     "name": "stdout",
     "output_type": "stream",
     "text": [
      "bg 39/100\n"
     ]
    },
    {
     "name": "stderr",
     "output_type": "stream",
     "text": [
      "manifold bg samples: 100%|██████████| 100/100 [00:06<00:00, 14.98it/s]\n",
      "manifold bg samples:   2%|▏         | 2/100 [00:00<00:06, 15.99it/s]"
     ]
    },
    {
     "name": "stdout",
     "output_type": "stream",
     "text": [
      "bg 40/100\n"
     ]
    },
    {
     "name": "stderr",
     "output_type": "stream",
     "text": [
      "manifold bg samples: 100%|██████████| 100/100 [00:07<00:00, 14.23it/s]\n",
      "manifold bg samples:   2%|▏         | 2/100 [00:00<00:05, 17.59it/s]"
     ]
    },
    {
     "name": "stdout",
     "output_type": "stream",
     "text": [
      "bg 41/100\n"
     ]
    },
    {
     "name": "stderr",
     "output_type": "stream",
     "text": [
      "manifold bg samples: 100%|██████████| 100/100 [00:07<00:00, 13.81it/s]\n",
      "manifold bg samples:   2%|▏         | 2/100 [00:00<00:08, 11.88it/s]"
     ]
    },
    {
     "name": "stdout",
     "output_type": "stream",
     "text": [
      "bg 42/100\n"
     ]
    },
    {
     "name": "stderr",
     "output_type": "stream",
     "text": [
      "manifold bg samples: 100%|██████████| 100/100 [00:06<00:00, 14.90it/s]\n",
      "manifold bg samples:   0%|          | 0/100 [00:00<?, ?it/s]"
     ]
    },
    {
     "name": "stdout",
     "output_type": "stream",
     "text": [
      "bg 43/100\n"
     ]
    },
    {
     "name": "stderr",
     "output_type": "stream",
     "text": [
      "manifold bg samples: 100%|██████████| 100/100 [00:06<00:00, 15.02it/s]\n",
      "manifold bg samples:   2%|▏         | 2/100 [00:00<00:05, 16.44it/s]"
     ]
    },
    {
     "name": "stdout",
     "output_type": "stream",
     "text": [
      "bg 44/100\n"
     ]
    },
    {
     "name": "stderr",
     "output_type": "stream",
     "text": [
      "manifold bg samples: 100%|██████████| 100/100 [00:06<00:00, 14.36it/s]\n",
      "manifold bg samples:   2%|▏         | 2/100 [00:00<00:05, 17.50it/s]"
     ]
    },
    {
     "name": "stdout",
     "output_type": "stream",
     "text": [
      "bg 45/100\n"
     ]
    },
    {
     "name": "stderr",
     "output_type": "stream",
     "text": [
      "manifold bg samples: 100%|██████████| 100/100 [00:06<00:00, 14.61it/s]\n",
      "manifold bg samples:   2%|▏         | 2/100 [00:00<00:06, 14.33it/s]"
     ]
    },
    {
     "name": "stdout",
     "output_type": "stream",
     "text": [
      "bg 46/100\n"
     ]
    },
    {
     "name": "stderr",
     "output_type": "stream",
     "text": [
      "manifold bg samples: 100%|██████████| 100/100 [00:07<00:00, 13.35it/s]\n",
      "manifold bg samples:   2%|▏         | 2/100 [00:00<00:06, 14.51it/s]"
     ]
    },
    {
     "name": "stdout",
     "output_type": "stream",
     "text": [
      "bg 47/100\n"
     ]
    },
    {
     "name": "stderr",
     "output_type": "stream",
     "text": [
      "manifold bg samples: 100%|██████████| 100/100 [00:06<00:00, 14.73it/s]\n",
      "manifold bg samples:   2%|▏         | 2/100 [00:00<00:05, 17.52it/s]"
     ]
    },
    {
     "name": "stdout",
     "output_type": "stream",
     "text": [
      "bg 48/100\n"
     ]
    },
    {
     "name": "stderr",
     "output_type": "stream",
     "text": [
      "manifold bg samples: 100%|██████████| 100/100 [00:06<00:00, 14.36it/s]\n",
      "manifold bg samples:   2%|▏         | 2/100 [00:00<00:05, 17.58it/s]"
     ]
    },
    {
     "name": "stdout",
     "output_type": "stream",
     "text": [
      "bg 49/100\n"
     ]
    },
    {
     "name": "stderr",
     "output_type": "stream",
     "text": [
      "manifold bg samples: 100%|██████████| 100/100 [00:06<00:00, 14.70it/s]\n",
      "manifold bg samples:   2%|▏         | 2/100 [00:00<00:06, 15.83it/s]"
     ]
    },
    {
     "name": "stdout",
     "output_type": "stream",
     "text": [
      "bg 50/100\n"
     ]
    },
    {
     "name": "stderr",
     "output_type": "stream",
     "text": [
      "manifold bg samples: 100%|██████████| 100/100 [00:06<00:00, 14.66it/s]\n",
      "manifold bg samples:   2%|▏         | 2/100 [00:00<00:06, 15.13it/s]"
     ]
    },
    {
     "name": "stdout",
     "output_type": "stream",
     "text": [
      "bg 51/100\n"
     ]
    },
    {
     "name": "stderr",
     "output_type": "stream",
     "text": [
      "manifold bg samples: 100%|██████████| 100/100 [00:07<00:00, 13.61it/s]\n",
      "manifold bg samples:   2%|▏         | 2/100 [00:00<00:06, 15.09it/s]"
     ]
    },
    {
     "name": "stdout",
     "output_type": "stream",
     "text": [
      "bg 52/100\n"
     ]
    },
    {
     "name": "stderr",
     "output_type": "stream",
     "text": [
      "manifold bg samples: 100%|██████████| 100/100 [00:07<00:00, 14.12it/s]\n",
      "manifold bg samples:   2%|▏         | 2/100 [00:00<00:05, 17.21it/s]"
     ]
    },
    {
     "name": "stdout",
     "output_type": "stream",
     "text": [
      "bg 53/100\n"
     ]
    },
    {
     "name": "stderr",
     "output_type": "stream",
     "text": [
      "manifold bg samples: 100%|██████████| 100/100 [00:06<00:00, 14.48it/s]\n",
      "manifold bg samples:   2%|▏         | 2/100 [00:00<00:07, 12.93it/s]"
     ]
    },
    {
     "name": "stdout",
     "output_type": "stream",
     "text": [
      "bg 54/100\n"
     ]
    },
    {
     "name": "stderr",
     "output_type": "stream",
     "text": [
      "manifold bg samples: 100%|██████████| 100/100 [00:06<00:00, 14.37it/s]\n",
      "manifold bg samples:   2%|▏         | 2/100 [00:00<00:06, 14.95it/s]"
     ]
    },
    {
     "name": "stdout",
     "output_type": "stream",
     "text": [
      "bg 55/100\n"
     ]
    },
    {
     "name": "stderr",
     "output_type": "stream",
     "text": [
      "manifold bg samples: 100%|██████████| 100/100 [00:06<00:00, 14.87it/s]\n",
      "manifold bg samples:   1%|          | 1/100 [00:00<00:10,  9.85it/s]"
     ]
    },
    {
     "name": "stdout",
     "output_type": "stream",
     "text": [
      "bg 56/100\n"
     ]
    },
    {
     "name": "stderr",
     "output_type": "stream",
     "text": [
      "manifold bg samples: 100%|██████████| 100/100 [00:06<00:00, 15.47it/s]\n",
      "manifold bg samples:   2%|▏         | 2/100 [00:00<00:07, 13.19it/s]"
     ]
    },
    {
     "name": "stdout",
     "output_type": "stream",
     "text": [
      "bg 57/100\n"
     ]
    },
    {
     "name": "stderr",
     "output_type": "stream",
     "text": [
      "manifold bg samples: 100%|██████████| 100/100 [00:07<00:00, 14.16it/s]\n",
      "manifold bg samples:   2%|▏         | 2/100 [00:00<00:06, 14.53it/s]"
     ]
    },
    {
     "name": "stdout",
     "output_type": "stream",
     "text": [
      "bg 58/100\n"
     ]
    },
    {
     "name": "stderr",
     "output_type": "stream",
     "text": [
      "manifold bg samples: 100%|██████████| 100/100 [00:06<00:00, 14.47it/s]\n",
      "manifold bg samples:   2%|▏         | 2/100 [00:00<00:07, 12.73it/s]"
     ]
    },
    {
     "name": "stdout",
     "output_type": "stream",
     "text": [
      "bg 59/100\n"
     ]
    },
    {
     "name": "stderr",
     "output_type": "stream",
     "text": [
      "manifold bg samples: 100%|██████████| 100/100 [00:06<00:00, 14.54it/s]\n",
      "manifold bg samples:   2%|▏         | 2/100 [00:00<00:05, 16.45it/s]"
     ]
    },
    {
     "name": "stdout",
     "output_type": "stream",
     "text": [
      "bg 60/100\n"
     ]
    },
    {
     "name": "stderr",
     "output_type": "stream",
     "text": [
      "manifold bg samples: 100%|██████████| 100/100 [00:06<00:00, 14.71it/s]\n",
      "manifold bg samples:   2%|▏         | 2/100 [00:00<00:06, 14.53it/s]"
     ]
    },
    {
     "name": "stdout",
     "output_type": "stream",
     "text": [
      "bg 61/100\n"
     ]
    },
    {
     "name": "stderr",
     "output_type": "stream",
     "text": [
      "manifold bg samples: 100%|██████████| 100/100 [00:06<00:00, 14.56it/s]\n",
      "manifold bg samples:   2%|▏         | 2/100 [00:00<00:06, 15.79it/s]"
     ]
    },
    {
     "name": "stdout",
     "output_type": "stream",
     "text": [
      "bg 62/100\n"
     ]
    },
    {
     "name": "stderr",
     "output_type": "stream",
     "text": [
      "manifold bg samples: 100%|██████████| 100/100 [00:06<00:00, 15.32it/s]\n",
      "manifold bg samples:   2%|▏         | 2/100 [00:00<00:06, 15.42it/s]"
     ]
    },
    {
     "name": "stdout",
     "output_type": "stream",
     "text": [
      "bg 63/100\n"
     ]
    },
    {
     "name": "stderr",
     "output_type": "stream",
     "text": [
      "manifold bg samples: 100%|██████████| 100/100 [00:06<00:00, 14.36it/s]\n",
      "manifold bg samples:   2%|▏         | 2/100 [00:00<00:06, 14.96it/s]"
     ]
    },
    {
     "name": "stdout",
     "output_type": "stream",
     "text": [
      "bg 64/100\n"
     ]
    },
    {
     "name": "stderr",
     "output_type": "stream",
     "text": [
      "manifold bg samples: 100%|██████████| 100/100 [00:06<00:00, 14.57it/s]\n",
      "manifold bg samples:   2%|▏         | 2/100 [00:00<00:05, 17.35it/s]"
     ]
    },
    {
     "name": "stdout",
     "output_type": "stream",
     "text": [
      "bg 65/100\n"
     ]
    },
    {
     "name": "stderr",
     "output_type": "stream",
     "text": [
      "manifold bg samples: 100%|██████████| 100/100 [00:06<00:00, 14.63it/s]\n",
      "manifold bg samples:   2%|▏         | 2/100 [00:00<00:06, 15.10it/s]"
     ]
    },
    {
     "name": "stdout",
     "output_type": "stream",
     "text": [
      "bg 66/100\n"
     ]
    },
    {
     "name": "stderr",
     "output_type": "stream",
     "text": [
      "manifold bg samples: 100%|██████████| 100/100 [00:07<00:00, 13.84it/s]\n",
      "manifold bg samples:   2%|▏         | 2/100 [00:00<00:05, 16.98it/s]"
     ]
    },
    {
     "name": "stdout",
     "output_type": "stream",
     "text": [
      "bg 67/100\n"
     ]
    },
    {
     "name": "stderr",
     "output_type": "stream",
     "text": [
      "manifold bg samples: 100%|██████████| 100/100 [00:06<00:00, 14.87it/s]\n",
      "manifold bg samples:   2%|▏         | 2/100 [00:00<00:05, 16.40it/s]"
     ]
    },
    {
     "name": "stdout",
     "output_type": "stream",
     "text": [
      "bg 68/100\n"
     ]
    },
    {
     "name": "stderr",
     "output_type": "stream",
     "text": [
      "manifold bg samples: 100%|██████████| 100/100 [00:06<00:00, 15.23it/s]\n",
      "manifold bg samples:   2%|▏         | 2/100 [00:00<00:07, 13.25it/s]"
     ]
    },
    {
     "name": "stdout",
     "output_type": "stream",
     "text": [
      "bg 69/100\n"
     ]
    },
    {
     "name": "stderr",
     "output_type": "stream",
     "text": [
      "manifold bg samples: 100%|██████████| 100/100 [00:07<00:00, 13.86it/s]\n",
      "manifold bg samples:   2%|▏         | 2/100 [00:00<00:06, 14.82it/s]"
     ]
    },
    {
     "name": "stdout",
     "output_type": "stream",
     "text": [
      "bg 70/100\n"
     ]
    },
    {
     "name": "stderr",
     "output_type": "stream",
     "text": [
      "manifold bg samples: 100%|██████████| 100/100 [00:06<00:00, 14.95it/s]\n",
      "manifold bg samples:   2%|▏         | 2/100 [00:00<00:07, 13.98it/s]"
     ]
    },
    {
     "name": "stdout",
     "output_type": "stream",
     "text": [
      "bg 71/100\n"
     ]
    },
    {
     "name": "stderr",
     "output_type": "stream",
     "text": [
      "manifold bg samples: 100%|██████████| 100/100 [00:06<00:00, 15.16it/s]\n",
      "manifold bg samples:   2%|▏         | 2/100 [00:00<00:07, 13.01it/s]"
     ]
    },
    {
     "name": "stdout",
     "output_type": "stream",
     "text": [
      "bg 72/100\n"
     ]
    },
    {
     "name": "stderr",
     "output_type": "stream",
     "text": [
      "manifold bg samples: 100%|██████████| 100/100 [00:06<00:00, 14.67it/s]\n",
      "manifold bg samples:   2%|▏         | 2/100 [00:00<00:06, 15.15it/s]"
     ]
    },
    {
     "name": "stdout",
     "output_type": "stream",
     "text": [
      "bg 73/100\n"
     ]
    },
    {
     "name": "stderr",
     "output_type": "stream",
     "text": [
      "manifold bg samples: 100%|██████████| 100/100 [00:06<00:00, 14.87it/s]\n",
      "manifold bg samples:   2%|▏         | 2/100 [00:00<00:07, 12.34it/s]"
     ]
    },
    {
     "name": "stdout",
     "output_type": "stream",
     "text": [
      "bg 74/100\n"
     ]
    },
    {
     "name": "stderr",
     "output_type": "stream",
     "text": [
      "manifold bg samples: 100%|██████████| 100/100 [00:06<00:00, 14.69it/s]\n",
      "manifold bg samples:   2%|▏         | 2/100 [00:00<00:06, 15.53it/s]"
     ]
    },
    {
     "name": "stdout",
     "output_type": "stream",
     "text": [
      "bg 75/100\n"
     ]
    },
    {
     "name": "stderr",
     "output_type": "stream",
     "text": [
      "manifold bg samples: 100%|██████████| 100/100 [00:06<00:00, 15.13it/s]\n",
      "manifold bg samples:   2%|▏         | 2/100 [00:00<00:05, 16.88it/s]"
     ]
    },
    {
     "name": "stdout",
     "output_type": "stream",
     "text": [
      "bg 76/100\n"
     ]
    },
    {
     "name": "stderr",
     "output_type": "stream",
     "text": [
      "manifold bg samples: 100%|██████████| 100/100 [00:06<00:00, 15.23it/s]\n",
      "manifold bg samples:   2%|▏         | 2/100 [00:00<00:07, 13.62it/s]"
     ]
    },
    {
     "name": "stdout",
     "output_type": "stream",
     "text": [
      "bg 77/100\n"
     ]
    },
    {
     "name": "stderr",
     "output_type": "stream",
     "text": [
      "manifold bg samples: 100%|██████████| 100/100 [00:06<00:00, 14.31it/s]\n",
      "manifold bg samples:   2%|▏         | 2/100 [00:00<00:07, 12.37it/s]"
     ]
    },
    {
     "name": "stdout",
     "output_type": "stream",
     "text": [
      "bg 78/100\n"
     ]
    },
    {
     "name": "stderr",
     "output_type": "stream",
     "text": [
      "manifold bg samples: 100%|██████████| 100/100 [00:06<00:00, 14.69it/s]\n",
      "manifold bg samples:   2%|▏         | 2/100 [00:00<00:05, 17.65it/s]"
     ]
    },
    {
     "name": "stdout",
     "output_type": "stream",
     "text": [
      "bg 79/100\n"
     ]
    },
    {
     "name": "stderr",
     "output_type": "stream",
     "text": [
      "manifold bg samples: 100%|██████████| 100/100 [00:06<00:00, 14.48it/s]\n",
      "manifold bg samples:   2%|▏         | 2/100 [00:00<00:05, 16.90it/s]"
     ]
    },
    {
     "name": "stdout",
     "output_type": "stream",
     "text": [
      "bg 80/100\n"
     ]
    },
    {
     "name": "stderr",
     "output_type": "stream",
     "text": [
      "manifold bg samples: 100%|██████████| 100/100 [00:06<00:00, 14.94it/s]\n",
      "manifold bg samples:   2%|▏         | 2/100 [00:00<00:06, 14.82it/s]"
     ]
    },
    {
     "name": "stdout",
     "output_type": "stream",
     "text": [
      "bg 81/100\n"
     ]
    },
    {
     "name": "stderr",
     "output_type": "stream",
     "text": [
      "manifold bg samples: 100%|██████████| 100/100 [00:06<00:00, 14.58it/s]\n",
      "manifold bg samples:   2%|▏         | 2/100 [00:00<00:05, 18.16it/s]"
     ]
    },
    {
     "name": "stdout",
     "output_type": "stream",
     "text": [
      "bg 82/100\n"
     ]
    },
    {
     "name": "stderr",
     "output_type": "stream",
     "text": [
      "manifold bg samples: 100%|██████████| 100/100 [00:06<00:00, 15.25it/s]\n",
      "manifold bg samples:   2%|▏         | 2/100 [00:00<00:06, 15.31it/s]"
     ]
    },
    {
     "name": "stdout",
     "output_type": "stream",
     "text": [
      "bg 83/100\n"
     ]
    },
    {
     "name": "stderr",
     "output_type": "stream",
     "text": [
      "manifold bg samples: 100%|██████████| 100/100 [00:06<00:00, 14.45it/s]\n",
      "manifold bg samples:   0%|          | 0/100 [00:00<?, ?it/s]"
     ]
    },
    {
     "name": "stdout",
     "output_type": "stream",
     "text": [
      "bg 84/100\n"
     ]
    },
    {
     "name": "stderr",
     "output_type": "stream",
     "text": [
      "manifold bg samples: 100%|██████████| 100/100 [00:06<00:00, 15.17it/s]\n",
      "manifold bg samples:   2%|▏         | 2/100 [00:00<00:06, 15.31it/s]"
     ]
    },
    {
     "name": "stdout",
     "output_type": "stream",
     "text": [
      "bg 85/100\n"
     ]
    },
    {
     "name": "stderr",
     "output_type": "stream",
     "text": [
      "manifold bg samples: 100%|██████████| 100/100 [00:06<00:00, 14.51it/s]\n",
      "manifold bg samples:   2%|▏         | 2/100 [00:00<00:06, 16.20it/s]"
     ]
    },
    {
     "name": "stdout",
     "output_type": "stream",
     "text": [
      "bg 86/100\n"
     ]
    },
    {
     "name": "stderr",
     "output_type": "stream",
     "text": [
      "manifold bg samples: 100%|██████████| 100/100 [00:06<00:00, 14.87it/s]\n",
      "manifold bg samples:   2%|▏         | 2/100 [00:00<00:06, 16.09it/s]"
     ]
    },
    {
     "name": "stdout",
     "output_type": "stream",
     "text": [
      "bg 87/100\n"
     ]
    },
    {
     "name": "stderr",
     "output_type": "stream",
     "text": [
      "manifold bg samples: 100%|██████████| 100/100 [00:06<00:00, 14.86it/s]\n",
      "manifold bg samples:   2%|▏         | 2/100 [00:00<00:06, 15.97it/s]"
     ]
    },
    {
     "name": "stdout",
     "output_type": "stream",
     "text": [
      "bg 88/100\n"
     ]
    },
    {
     "name": "stderr",
     "output_type": "stream",
     "text": [
      "manifold bg samples: 100%|██████████| 100/100 [00:06<00:00, 14.56it/s]\n",
      "manifold bg samples:   0%|          | 0/100 [00:00<?, ?it/s]"
     ]
    },
    {
     "name": "stdout",
     "output_type": "stream",
     "text": [
      "bg 89/100\n"
     ]
    },
    {
     "name": "stderr",
     "output_type": "stream",
     "text": [
      "manifold bg samples: 100%|██████████| 100/100 [00:06<00:00, 15.18it/s]\n",
      "manifold bg samples:   2%|▏         | 2/100 [00:00<00:06, 15.18it/s]"
     ]
    },
    {
     "name": "stdout",
     "output_type": "stream",
     "text": [
      "bg 90/100\n"
     ]
    },
    {
     "name": "stderr",
     "output_type": "stream",
     "text": [
      "manifold bg samples: 100%|██████████| 100/100 [00:06<00:00, 14.70it/s]\n",
      "manifold bg samples:   2%|▏         | 2/100 [00:00<00:06, 16.00it/s]"
     ]
    },
    {
     "name": "stdout",
     "output_type": "stream",
     "text": [
      "bg 91/100\n"
     ]
    },
    {
     "name": "stderr",
     "output_type": "stream",
     "text": [
      "manifold bg samples: 100%|██████████| 100/100 [00:06<00:00, 14.90it/s]\n",
      "manifold bg samples:   2%|▏         | 2/100 [00:00<00:06, 14.75it/s]"
     ]
    },
    {
     "name": "stdout",
     "output_type": "stream",
     "text": [
      "bg 92/100\n"
     ]
    },
    {
     "name": "stderr",
     "output_type": "stream",
     "text": [
      "manifold bg samples: 100%|██████████| 100/100 [00:06<00:00, 15.59it/s]\n",
      "manifold bg samples:   2%|▏         | 2/100 [00:00<00:06, 15.45it/s]"
     ]
    },
    {
     "name": "stdout",
     "output_type": "stream",
     "text": [
      "bg 93/100\n"
     ]
    },
    {
     "name": "stderr",
     "output_type": "stream",
     "text": [
      "manifold bg samples: 100%|██████████| 100/100 [00:06<00:00, 15.07it/s]\n",
      "manifold bg samples:   2%|▏         | 2/100 [00:00<00:07, 12.76it/s]"
     ]
    },
    {
     "name": "stdout",
     "output_type": "stream",
     "text": [
      "bg 94/100\n"
     ]
    },
    {
     "name": "stderr",
     "output_type": "stream",
     "text": [
      "manifold bg samples: 100%|██████████| 100/100 [00:06<00:00, 15.73it/s]\n",
      "manifold bg samples:   2%|▏         | 2/100 [00:00<00:05, 16.81it/s]"
     ]
    },
    {
     "name": "stdout",
     "output_type": "stream",
     "text": [
      "bg 95/100\n"
     ]
    },
    {
     "name": "stderr",
     "output_type": "stream",
     "text": [
      "manifold bg samples: 100%|██████████| 100/100 [00:06<00:00, 15.03it/s]\n",
      "manifold bg samples:   2%|▏         | 2/100 [00:00<00:06, 16.25it/s]"
     ]
    },
    {
     "name": "stdout",
     "output_type": "stream",
     "text": [
      "bg 96/100\n"
     ]
    },
    {
     "name": "stderr",
     "output_type": "stream",
     "text": [
      "manifold bg samples: 100%|██████████| 100/100 [00:07<00:00, 14.21it/s]\n",
      "manifold bg samples:   2%|▏         | 2/100 [00:00<00:05, 16.36it/s]"
     ]
    },
    {
     "name": "stdout",
     "output_type": "stream",
     "text": [
      "bg 97/100\n"
     ]
    },
    {
     "name": "stderr",
     "output_type": "stream",
     "text": [
      "manifold bg samples: 100%|██████████| 100/100 [00:06<00:00, 15.40it/s]\n",
      "manifold bg samples:   2%|▏         | 2/100 [00:00<00:07, 13.64it/s]"
     ]
    },
    {
     "name": "stdout",
     "output_type": "stream",
     "text": [
      "bg 98/100\n"
     ]
    },
    {
     "name": "stderr",
     "output_type": "stream",
     "text": [
      "manifold bg samples: 100%|██████████| 100/100 [00:06<00:00, 15.33it/s]\n",
      "manifold bg samples:   2%|▏         | 2/100 [00:00<00:06, 15.65it/s]"
     ]
    },
    {
     "name": "stdout",
     "output_type": "stream",
     "text": [
      "bg 99/100\n"
     ]
    },
    {
     "name": "stderr",
     "output_type": "stream",
     "text": [
      "manifold bg samples: 100%|██████████| 100/100 [00:06<00:00, 15.08it/s]\n"
     ]
    }
   ],
   "source": [
    "feature_names = X.columns\n",
    "f = lambda x: model.predict(xgboost.DMatrix(pd.DataFrame(x, columns=feature_names)), output_margin=True) # wrapper for the model used by on manifold explainer\n",
    "\n",
    "# multiple background result with individual run\n",
    "manifold_edge_credits = [] # save for each run\n",
    "bg_on_manifold = X.fillna(X.mean()).sample(100) # used to learn conditional dependence\n",
    "for i in range(len(bg)): # average run result using linearity axiom \n",
    "    print(f'bg {i}/{len(bg)}')\n",
    "    for j in range(nruns):\n",
    "        explainer = OnManifoldExplainer(f, pd.concat([bg[i:i+1], bg_on_manifold]), nruns=1, sigma_sq=1e-1, single_bg=True)\n",
    "        cf_on_manifold = explainer.shap_values(fg)\n",
    "        manifold_edge_credits.append(cf_on_manifold) # use node name is more portable vs. node"
   ]
  },
  {
   "cell_type": "code",
   "execution_count": 11,
   "metadata": {},
   "outputs": [
    {
     "name": "stdout",
     "output_type": "stream",
     "text": [
      "On manifold\n"
     ]
    },
    {
     "data": {
      "image/png": "[encoded data removed]",
      "text/plain": [
       "<Figure size 432x288 with 1 Axes>"
      ]
     },
     "metadata": {
      "needs_background": "light"
     },
     "output_type": "display_data"
    }
   ],
   "source": [
    "print('On manifold')\n",
    "sum(manifold_edge_credits).draw(sample_ind, show=False, max_display=10)\n",
    "plt.tight_layout()\n",
    "plt.show()"
   ]
  },
  {
   "cell_type": "markdown",
   "metadata": {},
   "source": [
    "# Shapley Flow"
   ]
  },
  {
   "cell_type": "code",
   "execution_count": 12,
   "metadata": {},
   "outputs": [
    {
     "name": "stderr",
     "output_type": "stream",
     "text": [
      "learning dependency for Serum Albumin:   0%|          | 0/14 [00:00<?, ?it/s]"
     ]
    },
    {
     "name": "stdout",
     "output_type": "stream",
     "text": [
      "[0]\ttest-rmse:3.87407\n",
      "[100]\ttest-rmse:3.17810\n",
      "[200]\ttest-rmse:2.60949\n",
      "[300]\ttest-rmse:2.14547\n",
      "[400]\ttest-rmse:1.76748\n",
      "[499]\ttest-rmse:1.46278\n"
     ]
    },
    {
     "name": "stderr",
     "output_type": "stream",
     "text": [
      "learning dependency for Red blood cells:   7%|▋         | 1/14 [00:00<00:06,  1.93it/s]"
     ]
    },
    {
     "name": "stdout",
     "output_type": "stream",
     "text": [
      "[0]\ttest-rmse:56.62017\n",
      "[100]\ttest-rmse:47.20332\n",
      "[200]\ttest-rmse:39.64856\n",
      "[300]\ttest-rmse:33.63278\n",
      "[400]\ttest-rmse:28.88807\n",
      "[499]\ttest-rmse:25.23218\n"
     ]
    },
    {
     "name": "stderr",
     "output_type": "stream",
     "text": [
      "learning dependency for White blood cells:  14%|█▍        | 2/14 [00:01<00:06,  1.92it/s]"
     ]
    },
    {
     "name": "stdout",
     "output_type": "stream",
     "text": [
      "[0]\ttest-rmse:7.24529\n",
      "[100]\ttest-rmse:6.04540\n",
      "[200]\ttest-rmse:5.08526\n",
      "[300]\ttest-rmse:4.32187\n",
      "[400]\ttest-rmse:3.72444\n",
      "[499]\ttest-rmse:3.26567\n"
     ]
    },
    {
     "name": "stderr",
     "output_type": "stream",
     "text": [
      "learning dependency for Serum Protein:  21%|██▏       | 3/14 [00:01<00:05,  1.87it/s]    "
     ]
    },
    {
     "name": "stdout",
     "output_type": "stream",
     "text": [
      "[0]\ttest-rmse:6.61101\n",
      "[100]\ttest-rmse:5.42027\n",
      "[200]\ttest-rmse:4.44728\n",
      "[300]\ttest-rmse:3.65282\n",
      "[400]\ttest-rmse:3.00507\n",
      "[499]\ttest-rmse:2.48216\n"
     ]
    },
    {
     "name": "stderr",
     "output_type": "stream",
     "text": [
      "learning dependency for Systolic BP:  29%|██▊       | 4/14 [00:02<00:05,  1.97it/s]  "
     ]
    },
    {
     "name": "stdout",
     "output_type": "stream",
     "text": [
      "[0]\ttest-rmse:136.18751\n",
      "[100]\ttest-rmse:112.07594\n",
      "[200]\ttest-rmse:92.46082\n",
      "[300]\ttest-rmse:76.55484\n",
      "[400]\ttest-rmse:63.71541\n",
      "[499]\ttest-rmse:53.49734\n"
     ]
    },
    {
     "name": "stderr",
     "output_type": "stream",
     "text": [
      "learning dependency for BMI:  36%|███▌      | 5/14 [00:02<00:04,  1.87it/s]        "
     ]
    },
    {
     "name": "stdout",
     "output_type": "stream",
     "text": [
      "[0]\ttest-rmse:25.68026\n",
      "[100]\ttest-rmse:21.22700\n",
      "[200]\ttest-rmse:17.61862\n",
      "[300]\ttest-rmse:14.70853\n",
      "[400]\ttest-rmse:12.38153\n",
      "[499]\ttest-rmse:10.55001\n"
     ]
    },
    {
     "name": "stderr",
     "output_type": "stream",
     "text": [
      "learning dependency for Serum Cholesterol:  43%|████▎     | 6/14 [00:03<00:04,  1.83it/s]"
     ]
    },
    {
     "name": "stdout",
     "output_type": "stream",
     "text": [
      "[0]\ttest-rmse:226.94263\n",
      "[100]\ttest-rmse:187.87550\n",
      "[200]\ttest-rmse:156.24817\n",
      "[300]\ttest-rmse:130.78793\n",
      "[400]\ttest-rmse:110.44482\n",
      "[499]\ttest-rmse:94.44800\n"
     ]
    },
    {
     "name": "stderr",
     "output_type": "stream",
     "text": [
      "learning dependency for Serum Magnesium:  50%|█████     | 7/14 [00:03<00:03,  1.80it/s]  "
     ]
    },
    {
     "name": "stdout",
     "output_type": "stream",
     "text": [
      "[0]\ttest-rmse:1.18907\n",
      "[100]\ttest-rmse:0.97714\n",
      "[200]\ttest-rmse:0.80443\n",
      "[300]\ttest-rmse:0.66402\n",
      "[400]\ttest-rmse:0.55023\n",
      "[499]\ttest-rmse:0.45920\n"
     ]
    },
    {
     "name": "stderr",
     "output_type": "stream",
     "text": [
      "learning dependency for Diastolic BP:  57%|█████▋    | 8/14 [00:04<00:03,  1.85it/s]   "
     ]
    },
    {
     "name": "stdout",
     "output_type": "stream",
     "text": [
      "[0]\ttest-rmse:83.71987\n",
      "[100]\ttest-rmse:68.93323\n",
      "[200]\ttest-rmse:56.90493\n",
      "[300]\ttest-rmse:47.15287\n",
      "[400]\ttest-rmse:39.27799\n",
      "[499]\ttest-rmse:33.00833\n"
     ]
    },
    {
     "name": "stderr",
     "output_type": "stream",
     "text": [
      "learning dependency for Sedimentation rate:  64%|██████▍   | 9/14 [00:04<00:02,  1.75it/s]"
     ]
    },
    {
     "name": "stdout",
     "output_type": "stream",
     "text": [
      "[0]\ttest-rmse:19.38454\n",
      "[100]\ttest-rmse:16.95487\n",
      "[200]\ttest-rmse:15.09857\n",
      "[300]\ttest-rmse:13.70687\n",
      "[400]\ttest-rmse:12.67748\n",
      "[499]\ttest-rmse:11.94172\n"
     ]
    },
    {
     "name": "stderr",
     "output_type": "stream",
     "text": [
      "learning dependency for TS:  71%|███████▏  | 10/14 [00:05<00:02,  1.73it/s]                "
     ]
    },
    {
     "name": "stdout",
     "output_type": "stream",
     "text": [
      "[0]\ttest-rmse:29.79472\n",
      "[100]\ttest-rmse:25.10775\n",
      "[200]\ttest-rmse:21.40968\n",
      "[300]\ttest-rmse:18.53344\n",
      "[400]\ttest-rmse:16.33232\n",
      "[499]\ttest-rmse:14.69491\n"
     ]
    },
    {
     "name": "stderr",
     "output_type": "stream",
     "text": [
      "learning dependency for Poverty index:  79%|███████▊  | 11/14 [00:06<00:01,  1.69it/s]"
     ]
    },
    {
     "name": "stdout",
     "output_type": "stream",
     "text": [
      "[0]\ttest-rmse:365.16959\n",
      "[100]\ttest-rmse:325.23489\n",
      "[200]\ttest-rmse:295.42532\n",
      "[300]\ttest-rmse:273.60980\n",
      "[400]\ttest-rmse:257.95938\n",
      "[499]\ttest-rmse:247.04848\n"
     ]
    },
    {
     "name": "stderr",
     "output_type": "stream",
     "text": [
      "learning dependency for TIBC:  86%|████████▌ | 12/14 [00:06<00:01,  1.73it/s]         "
     ]
    },
    {
     "name": "stdout",
     "output_type": "stream",
     "text": [
      "[0]\ttest-rmse:365.08758\n",
      "[100]\ttest-rmse:300.40860\n",
      "[200]\ttest-rmse:247.82376\n",
      "[300]\ttest-rmse:205.21208\n",
      "[400]\ttest-rmse:170.85916\n",
      "[499]\ttest-rmse:143.55504\n"
     ]
    },
    {
     "name": "stderr",
     "output_type": "stream",
     "text": [
      "learning dependency for Serum Iron:  93%|█████████▎| 13/14 [00:07<00:00,  1.75it/s]"
     ]
    },
    {
     "name": "stdout",
     "output_type": "stream",
     "text": [
      "[0]\ttest-rmse:105.80270\n",
      "[100]\ttest-rmse:88.86579\n",
      "[200]\ttest-rmse:75.45215\n",
      "[300]\ttest-rmse:64.97789\n",
      "[400]\ttest-rmse:56.92674\n",
      "[499]\ttest-rmse:50.90213\n"
     ]
    },
    {
     "name": "stderr",
     "output_type": "stream",
     "text": [
      "learning dependency for Serum Iron: 100%|██████████| 14/14 [00:07<00:00,  1.78it/s]\n"
     ]
    }
   ],
   "source": [
    "causal_links = CausalLinks()\n",
    "categorical_feature_names = ['Race', 'Sex']\n",
    "display_translator = translator(X.columns, X, X_display)\n",
    "target_name = 'predicted hazard'\n",
    "feature_names = list(X.columns)\n",
    "\n",
    "# build causal links\n",
    "causal_links.add_causes_effects(feature_names, target_name, create_xgboost_f(feature_names, model, output_margin=True)) # the target uses log(HR) instead of HR\n",
    "A = ['Diastolic BP', 'Systolic BP']\n",
    "D = ['Pulse pressure'] # Systolic BP - Diastolic BP\n",
    "causal_links.add_causes_effects(A, D, lambda dbp, sdp: sdp-dbp)\n",
    "A = ['Age', 'Sex', 'Poverty index', 'Race']\n",
    "D = list(set(feature_names) - set(A) - set(['Pulse pressure']))\n",
    "causal_links.add_causes_effects(A, D)\n",
    "A = ['Age', 'Sex', 'Race']\n",
    "D = ['Poverty index']\n",
    "causal_links.add_causes_effects(A, D)\n",
    "\n",
    "causal_graph = build_feature_graph(X.fillna(X.mean()), causal_links, categorical_feature_names, display_translator, target_name)"
   ]
  },
  {
   "cell_type": "code",
   "execution_count": 13,
   "metadata": {},
   "outputs": [
    {
     "data": {
      "image/svg+xml": [
       "<?xml version=\"1.0\" encoding=\"UTF-8\" standalone=\"no\"?>\n",
       "<!DOCTYPE svg PUBLIC \"-//W3C//DTD SVG 1.1//EN\"\n",
       " \"http://www.w3.org/Graphics/SVG/1.1/DTD/svg11.dtd\">\n",
       "<!-- Generated by graphviz version 2.38.0 (20140413.2041)\n",
       " -->\n",
       "<!-- Title: %3 Pages: 1 -->\n",
       "<svg width=\"2516pt\" height=\"404pt\"\n",
       " viewBox=\"0.00 0.00 2516.00 404.00\" xmlns=\"http://www.w3.org/2000/svg\" xmlns:xlink=\"http://www.w3.org/1999/xlink\">\n",
       "<g id=\"graph0\" class=\"graph\" transform=\"scale(1 1) rotate(0) translate(4 400)\">\n",
       "<title>%3</title>\n",
       "<polygon fill=\"white\" stroke=\"none\" points=\"-4,4 -4,-400 2512,-400 2512,4 -4,4\"/>\n",
       "<!-- Poverty index -->\n",
       "<g id=\"node1\" class=\"node\"><title>Poverty index</title>\n",
       "<ellipse fill=\"none\" stroke=\"black\" cx=\"1016\" cy=\"-306\" rx=\"59.5901\" ry=\"18\"/>\n",
       "<text text-anchor=\"middle\" x=\"1016\" y=\"-302.3\" font-family=\"Times,serif\" font-size=\"14.00\">Poverty index</text>\n",
       "</g>\n",
       "<!-- Blood protein -->\n",
       "<g id=\"node2\" class=\"node\"><title>Blood protein</title>\n",
       "<ellipse fill=\"none\" stroke=\"black\" cx=\"1695\" cy=\"-234\" rx=\"59.5901\" ry=\"18\"/>\n",
       "<text text-anchor=\"middle\" x=\"1695\" y=\"-230.3\" font-family=\"Times,serif\" font-size=\"14.00\">Blood protein</text>\n",
       "</g>\n",
       "<!-- Poverty index&#45;&gt;Blood protein -->\n",
       "<g id=\"edge1\" class=\"edge\"><title>Poverty index&#45;&gt;Blood protein</title>\n",
       "<path fill=\"none\" stroke=\"black\" d=\"M1058.85,-293.338C1067.46,-291.308 1076.48,-289.402 1085,-288 1272.05,-257.231 1321.17,-268.673 1510,-252 1549.33,-248.527 1593.35,-244.488 1628.58,-241.219\"/>\n",
       "<polygon fill=\"black\" stroke=\"black\" points=\"1629.11,-244.685 1638.74,-240.275 1628.46,-237.715 1629.11,-244.685\"/>\n",
       "</g>\n",
       "<!-- Iron -->\n",
       "<g id=\"node3\" class=\"node\"><title>Iron</title>\n",
       "<ellipse fill=\"none\" stroke=\"black\" cx=\"2196\" cy=\"-234\" rx=\"27\" ry=\"18\"/>\n",
       "<text text-anchor=\"middle\" x=\"2196\" y=\"-230.3\" font-family=\"Times,serif\" font-size=\"14.00\">Iron</text>\n",
       "</g>\n",
       "<!-- Poverty index&#45;&gt;Iron -->\n",
       "<g id=\"edge2\" class=\"edge\"><title>Poverty index&#45;&gt;Iron</title>\n",
       "<path fill=\"none\" stroke=\"black\" d=\"M1058.43,-293.125C1067.16,-291.086 1076.33,-289.23 1085,-288 1478.27,-232.207 1581.48,-275.445 1978,-252 2041.72,-248.233 2115.78,-242.081 2159.11,-238.302\"/>\n",
       "<polygon fill=\"black\" stroke=\"black\" points=\"2159.52,-241.779 2169.17,-237.418 2158.91,-234.806 2159.52,-241.779\"/>\n",
       "</g>\n",
       "<!-- Blood pressure -->\n",
       "<g id=\"node4\" class=\"node\"><title>Blood pressure</title>\n",
       "<ellipse fill=\"none\" stroke=\"black\" cx=\"1437\" cy=\"-234\" rx=\"63.8893\" ry=\"18\"/>\n",
       "<text text-anchor=\"middle\" x=\"1437\" y=\"-230.3\" font-family=\"Times,serif\" font-size=\"14.00\">Blood pressure</text>\n",
       "</g>\n",
       "<!-- Poverty index&#45;&gt;Blood pressure -->\n",
       "<g id=\"edge3\" class=\"edge\"><title>Poverty index&#45;&gt;Blood pressure</title>\n",
       "<path fill=\"none\" stroke=\"black\" d=\"M1059.67,-293.598C1068.04,-291.593 1076.77,-289.63 1085,-288 1183.37,-268.519 1298.46,-252.44 1369.55,-243.277\"/>\n",
       "<polygon fill=\"black\" stroke=\"black\" points=\"1370.24,-246.718 1379.72,-241.976 1369.35,-239.775 1370.24,-246.718\"/>\n",
       "</g>\n",
       "<!-- Inflamation -->\n",
       "<g id=\"node5\" class=\"node\"><title>Inflamation</title>\n",
       "<ellipse fill=\"none\" stroke=\"black\" cx=\"1167\" cy=\"-234\" rx=\"51.9908\" ry=\"18\"/>\n",
       "<text text-anchor=\"middle\" x=\"1167\" y=\"-230.3\" font-family=\"Times,serif\" font-size=\"14.00\">Inflamation</text>\n",
       "</g>\n",
       "<!-- Poverty index&#45;&gt;Inflamation -->\n",
       "<g id=\"edge4\" class=\"edge\"><title>Poverty index&#45;&gt;Inflamation</title>\n",
       "<path fill=\"none\" stroke=\"black\" d=\"M1047.29,-290.496C1070.65,-279.666 1102.73,-264.793 1127.81,-253.17\"/>\n",
       "<polygon fill=\"black\" stroke=\"black\" points=\"1129.44,-256.27 1137.04,-248.889 1126.49,-249.92 1129.44,-256.27\"/>\n",
       "</g>\n",
       "<!-- Serum Magnesium -->\n",
       "<g id=\"node6\" class=\"node\"><title>Serum Magnesium</title>\n",
       "<ellipse fill=\"none\" stroke=\"black\" cx=\"332\" cy=\"-234\" rx=\"79.0865\" ry=\"18\"/>\n",
       "<text text-anchor=\"middle\" x=\"332\" y=\"-230.3\" font-family=\"Times,serif\" font-size=\"14.00\">Serum Magnesium</text>\n",
       "</g>\n",
       "<!-- Poverty index&#45;&gt;Serum Magnesium -->\n",
       "<g id=\"edge5\" class=\"edge\"><title>Poverty index&#45;&gt;Serum Magnesium</title>\n",
       "<path fill=\"none\" stroke=\"black\" d=\"M960.315,-299.301C839.657,-286.953 553.654,-257.684 412.98,-243.287\"/>\n",
       "<polygon fill=\"black\" stroke=\"black\" points=\"413.002,-239.771 402.697,-242.235 412.289,-246.735 413.002,-239.771\"/>\n",
       "</g>\n",
       "<!-- Serum Cholesterol -->\n",
       "<g id=\"node7\" class=\"node\"><title>Serum Cholesterol</title>\n",
       "<ellipse fill=\"none\" stroke=\"black\" cx=\"660\" cy=\"-234\" rx=\"77.1866\" ry=\"18\"/>\n",
       "<text text-anchor=\"middle\" x=\"660\" y=\"-230.3\" font-family=\"Times,serif\" font-size=\"14.00\">Serum Cholesterol</text>\n",
       "</g>\n",
       "<!-- Poverty index&#45;&gt;Serum Cholesterol -->\n",
       "<g id=\"edge6\" class=\"edge\"><title>Poverty index&#45;&gt;Serum Cholesterol</title>\n",
       "<path fill=\"none\" stroke=\"black\" d=\"M967.246,-295.414C904.991,-283.172 796.972,-261.933 727.013,-248.177\"/>\n",
       "<polygon fill=\"black\" stroke=\"black\" points=\"727.464,-244.699 716.977,-246.203 726.114,-251.567 727.464,-244.699\"/>\n",
       "</g>\n",
       "<!-- BMI -->\n",
       "<g id=\"node8\" class=\"node\"><title>BMI</title>\n",
       "<ellipse fill=\"none\" stroke=\"black\" cx=\"890\" cy=\"-234\" rx=\"27.8951\" ry=\"18\"/>\n",
       "<text text-anchor=\"middle\" x=\"890\" y=\"-230.3\" font-family=\"Times,serif\" font-size=\"14.00\">BMI</text>\n",
       "</g>\n",
       "<!-- Poverty index&#45;&gt;BMI -->\n",
       "<g id=\"edge7\" class=\"edge\"><title>Poverty index&#45;&gt;BMI</title>\n",
       "<path fill=\"none\" stroke=\"black\" d=\"M988.66,-289.811C968.232,-278.462 940.346,-262.97 919.432,-251.351\"/>\n",
       "<polygon fill=\"black\" stroke=\"black\" points=\"921.093,-248.27 910.652,-246.473 917.694,-254.389 921.093,-248.27\"/>\n",
       "</g>\n",
       "<!-- Red blood cells -->\n",
       "<g id=\"node9\" class=\"node\"><title>Red blood cells</title>\n",
       "<ellipse fill=\"none\" stroke=\"black\" cx=\"1903\" cy=\"-234\" rx=\"65.7887\" ry=\"18\"/>\n",
       "<text text-anchor=\"middle\" x=\"1903\" y=\"-230.3\" font-family=\"Times,serif\" font-size=\"14.00\">Red blood cells</text>\n",
       "</g>\n",
       "<!-- Poverty index&#45;&gt;Red blood cells -->\n",
       "<g id=\"edge8\" class=\"edge\"><title>Poverty index&#45;&gt;Red blood cells</title>\n",
       "<path fill=\"none\" stroke=\"black\" d=\"M1058.45,-293.211C1067.17,-291.165 1076.34,-289.285 1085,-288 1383.93,-243.656 1462.95,-278.359 1764,-252 1787.31,-249.959 1812.75,-247.049 1835.41,-244.213\"/>\n",
       "<polygon fill=\"black\" stroke=\"black\" points=\"1836.13,-247.649 1845.61,-242.918 1835.25,-240.705 1836.13,-247.649\"/>\n",
       "</g>\n",
       "<!-- predicted hazard -->\n",
       "<g id=\"node10\" class=\"node\"><title>predicted hazard</title>\n",
       "<ellipse fill=\"none\" stroke=\"black\" cx=\"1572\" cy=\"-18\" rx=\"69.5877\" ry=\"18\"/>\n",
       "<text text-anchor=\"middle\" x=\"1572\" y=\"-14.3\" font-family=\"Times,serif\" font-size=\"14.00\">predicted hazard</text>\n",
       "</g>\n",
       "<!-- Poverty index&#45;&gt;predicted hazard -->\n",
       "<g id=\"edge9\" class=\"edge\"><title>Poverty index&#45;&gt;predicted hazard</title>\n",
       "<path fill=\"none\" stroke=\"black\" d=\"M1012.5,-287.647C1007.08,-255.37 1000.53,-185.615 1035,-144 1093.25,-73.6844 1362.92,-38.7503 1496.54,-25.5141\"/>\n",
       "<polygon fill=\"black\" stroke=\"black\" points=\"1497.09,-28.9774 1506.7,-24.5235 1496.41,-22.0104 1497.09,-28.9774\"/>\n",
       "</g>\n",
       "<!-- Serum Albumin -->\n",
       "<g id=\"node11\" class=\"node\"><title>Serum Albumin</title>\n",
       "<ellipse fill=\"none\" stroke=\"black\" cx=\"1768\" cy=\"-90\" rx=\"68.4888\" ry=\"18\"/>\n",
       "<text text-anchor=\"middle\" x=\"1768\" y=\"-86.3\" font-family=\"Times,serif\" font-size=\"14.00\">Serum Albumin</text>\n",
       "</g>\n",
       "<!-- Blood protein&#45;&gt;Serum Albumin -->\n",
       "<g id=\"edge10\" class=\"edge\"><title>Blood protein&#45;&gt;Serum Albumin</title>\n",
       "<path fill=\"none\" stroke=\"black\" d=\"M1725.93,-218.348C1740.87,-209.499 1757.4,-196.68 1766,-180 1775.77,-161.052 1775.59,-136.686 1773.35,-118.241\"/>\n",
       "<polygon fill=\"black\" stroke=\"black\" points=\"1776.78,-117.528 1771.85,-108.15 1769.86,-118.556 1776.78,-117.528\"/>\n",
       "</g>\n",
       "<!-- Serum Protein -->\n",
       "<g id=\"node12\" class=\"node\"><title>Serum Protein</title>\n",
       "<ellipse fill=\"none\" stroke=\"black\" cx=\"1695\" cy=\"-162\" rx=\"61.99\" ry=\"18\"/>\n",
       "<text text-anchor=\"middle\" x=\"1695\" y=\"-158.3\" font-family=\"Times,serif\" font-size=\"14.00\">Serum Protein</text>\n",
       "</g>\n",
       "<!-- Blood protein&#45;&gt;Serum Protein -->\n",
       "<g id=\"edge11\" class=\"edge\"><title>Blood protein&#45;&gt;Serum Protein</title>\n",
       "<path fill=\"none\" stroke=\"black\" d=\"M1695,-215.697C1695,-207.983 1695,-198.712 1695,-190.112\"/>\n",
       "<polygon fill=\"black\" stroke=\"black\" points=\"1698.5,-190.104 1695,-180.104 1691.5,-190.104 1698.5,-190.104\"/>\n",
       "</g>\n",
       "<!-- TS -->\n",
       "<g id=\"node13\" class=\"node\"><title>TS</title>\n",
       "<ellipse fill=\"none\" stroke=\"black\" cx=\"1950\" cy=\"-90\" rx=\"27\" ry=\"18\"/>\n",
       "<text text-anchor=\"middle\" x=\"1950\" y=\"-86.3\" font-family=\"Times,serif\" font-size=\"14.00\">TS</text>\n",
       "</g>\n",
       "<!-- Iron&#45;&gt;TS -->\n",
       "<g id=\"edge12\" class=\"edge\"><title>Iron&#45;&gt;TS</title>\n",
       "<path fill=\"none\" stroke=\"black\" d=\"M2174.14,-222.878C2152.47,-212.655 2118.47,-196.112 2090,-180 2049.51,-157.089 2004.38,-127.66 1976.59,-109.058\"/>\n",
       "<polygon fill=\"black\" stroke=\"black\" points=\"1978.45,-106.094 1968.2,-103.421 1974.55,-111.903 1978.45,-106.094\"/>\n",
       "</g>\n",
       "<!-- TIBC -->\n",
       "<g id=\"node14\" class=\"node\"><title>TIBC</title>\n",
       "<ellipse fill=\"none\" stroke=\"black\" cx=\"2032\" cy=\"-90\" rx=\"30.5947\" ry=\"18\"/>\n",
       "<text text-anchor=\"middle\" x=\"2032\" y=\"-86.3\" font-family=\"Times,serif\" font-size=\"14.00\">TIBC</text>\n",
       "</g>\n",
       "<!-- Iron&#45;&gt;TIBC -->\n",
       "<g id=\"edge13\" class=\"edge\"><title>Iron&#45;&gt;TIBC</title>\n",
       "<path fill=\"none\" stroke=\"black\" d=\"M2179.98,-219.126C2151.17,-194.187 2090.49,-141.646 2056.46,-112.181\"/>\n",
       "<polygon fill=\"black\" stroke=\"black\" points=\"2058.67,-109.465 2048.82,-105.565 2054.09,-114.757 2058.67,-109.465\"/>\n",
       "</g>\n",
       "<!-- Serum Iron -->\n",
       "<g id=\"node15\" class=\"node\"><title>Serum Iron</title>\n",
       "<ellipse fill=\"none\" stroke=\"black\" cx=\"2135\" cy=\"-90\" rx=\"51.1914\" ry=\"18\"/>\n",
       "<text text-anchor=\"middle\" x=\"2135\" y=\"-86.3\" font-family=\"Times,serif\" font-size=\"14.00\">Serum Iron</text>\n",
       "</g>\n",
       "<!-- Iron&#45;&gt;Serum Iron -->\n",
       "<g id=\"edge14\" class=\"edge\"><title>Iron&#45;&gt;Serum Iron</title>\n",
       "<path fill=\"none\" stroke=\"black\" d=\"M2188.88,-216.433C2178.42,-192.088 2158.8,-146.404 2146.34,-117.402\"/>\n",
       "<polygon fill=\"black\" stroke=\"black\" points=\"2149.42,-115.708 2142.26,-107.902 2142.99,-118.471 2149.42,-115.708\"/>\n",
       "</g>\n",
       "<!-- Systolic BP -->\n",
       "<g id=\"node16\" class=\"node\"><title>Systolic BP</title>\n",
       "<ellipse fill=\"none\" stroke=\"black\" cx=\"1563\" cy=\"-162\" rx=\"51.9908\" ry=\"18\"/>\n",
       "<text text-anchor=\"middle\" x=\"1563\" y=\"-158.3\" font-family=\"Times,serif\" font-size=\"14.00\">Systolic BP</text>\n",
       "</g>\n",
       "<!-- Blood pressure&#45;&gt;Systolic BP -->\n",
       "<g id=\"edge15\" class=\"edge\"><title>Blood pressure&#45;&gt;Systolic BP</title>\n",
       "<path fill=\"none\" stroke=\"black\" d=\"M1464.65,-217.638C1483.25,-207.308 1507.92,-193.602 1527.9,-182.503\"/>\n",
       "<polygon fill=\"black\" stroke=\"black\" points=\"1529.66,-185.524 1536.71,-177.608 1526.26,-179.405 1529.66,-185.524\"/>\n",
       "</g>\n",
       "<!-- Diastolic BP -->\n",
       "<g id=\"node17\" class=\"node\"><title>Diastolic BP</title>\n",
       "<ellipse fill=\"none\" stroke=\"black\" cx=\"1437\" cy=\"-162\" rx=\"55.7903\" ry=\"18\"/>\n",
       "<text text-anchor=\"middle\" x=\"1437\" y=\"-158.3\" font-family=\"Times,serif\" font-size=\"14.00\">Diastolic BP</text>\n",
       "</g>\n",
       "<!-- Blood pressure&#45;&gt;Diastolic BP -->\n",
       "<g id=\"edge16\" class=\"edge\"><title>Blood pressure&#45;&gt;Diastolic BP</title>\n",
       "<path fill=\"none\" stroke=\"black\" d=\"M1437,-215.697C1437,-207.983 1437,-198.712 1437,-190.112\"/>\n",
       "<polygon fill=\"black\" stroke=\"black\" points=\"1440.5,-190.104 1437,-180.104 1433.5,-190.104 1440.5,-190.104\"/>\n",
       "</g>\n",
       "<!-- White blood cells -->\n",
       "<g id=\"node18\" class=\"node\"><title>White blood cells</title>\n",
       "<ellipse fill=\"none\" stroke=\"black\" cx=\"1290\" cy=\"-162\" rx=\"73.387\" ry=\"18\"/>\n",
       "<text text-anchor=\"middle\" x=\"1290\" y=\"-158.3\" font-family=\"Times,serif\" font-size=\"14.00\">White blood cells</text>\n",
       "</g>\n",
       "<!-- Inflamation&#45;&gt;White blood cells -->\n",
       "<g id=\"edge17\" class=\"edge\"><title>Inflamation&#45;&gt;White blood cells</title>\n",
       "<path fill=\"none\" stroke=\"black\" d=\"M1192.78,-218.326C1210.3,-208.358 1233.73,-195.025 1253.2,-183.945\"/>\n",
       "<polygon fill=\"black\" stroke=\"black\" points=\"1255.15,-186.861 1262.11,-178.873 1251.69,-180.777 1255.15,-186.861\"/>\n",
       "</g>\n",
       "<!-- Sedimentation rate -->\n",
       "<g id=\"node19\" class=\"node\"><title>Sedimentation rate</title>\n",
       "<ellipse fill=\"none\" stroke=\"black\" cx=\"1121\" cy=\"-162\" rx=\"77.1866\" ry=\"18\"/>\n",
       "<text text-anchor=\"middle\" x=\"1121\" y=\"-158.3\" font-family=\"Times,serif\" font-size=\"14.00\">Sedimentation rate</text>\n",
       "</g>\n",
       "<!-- Inflamation&#45;&gt;Sedimentation rate -->\n",
       "<g id=\"edge18\" class=\"edge\"><title>Inflamation&#45;&gt;Sedimentation rate</title>\n",
       "<path fill=\"none\" stroke=\"black\" d=\"M1155.86,-216.055C1150.46,-207.837 1143.86,-197.791 1137.86,-188.66\"/>\n",
       "<polygon fill=\"black\" stroke=\"black\" points=\"1140.77,-186.71 1132.35,-180.275 1134.92,-190.555 1140.77,-186.71\"/>\n",
       "</g>\n",
       "<!-- Serum Magnesium&#45;&gt;predicted hazard -->\n",
       "<g id=\"edge19\" class=\"edge\"><title>Serum Magnesium&#45;&gt;predicted hazard</title>\n",
       "<path fill=\"none\" stroke=\"black\" d=\"M370.623,-218.225C457.81,-185.582 677.175,-107.409 868,-72 1091.52,-30.5242 1360.7,-21.3272 1492.05,-19.4076\"/>\n",
       "<polygon fill=\"black\" stroke=\"black\" points=\"1492.46,-22.9025 1502.41,-19.2672 1492.36,-15.9031 1492.46,-22.9025\"/>\n",
       "</g>\n",
       "<!-- Serum Cholesterol&#45;&gt;predicted hazard -->\n",
       "<g id=\"edge20\" class=\"edge\"><title>Serum Cholesterol&#45;&gt;predicted hazard</title>\n",
       "<path fill=\"none\" stroke=\"black\" d=\"M682.505,-216.578C730.375,-182.647 847.017,-105.206 958,-72 1056.06,-42.6592 1350.53,-27.5707 1493.04,-21.8202\"/>\n",
       "<polygon fill=\"black\" stroke=\"black\" points=\"1493.59,-25.301 1503.44,-21.406 1493.31,-18.3066 1493.59,-25.301\"/>\n",
       "</g>\n",
       "<!-- BMI&#45;&gt;predicted hazard -->\n",
       "<g id=\"edge21\" class=\"edge\"><title>BMI&#45;&gt;predicted hazard</title>\n",
       "<path fill=\"none\" stroke=\"black\" d=\"M895.971,-216.413C909.144,-182.523 944.2,-105.7 1002,-72 1083.2,-24.6593 1355.56,-18.341 1492.29,-18.2698\"/>\n",
       "<polygon fill=\"black\" stroke=\"black\" points=\"1492.29,-21.7697 1502.29,-18.2756 1492.29,-14.7697 1492.29,-21.7697\"/>\n",
       "</g>\n",
       "<!-- Red blood cells&#45;&gt;predicted hazard -->\n",
       "<g id=\"edge22\" class=\"edge\"><title>Red blood cells&#45;&gt;predicted hazard</title>\n",
       "<path fill=\"none\" stroke=\"black\" d=\"M1902.14,-215.842C1899.51,-182.623 1888.77,-109.499 1845,-72 1815.86,-47.0379 1717.68,-32.6424 1647.42,-25.3146\"/>\n",
       "<polygon fill=\"black\" stroke=\"black\" points=\"1647.56,-21.8118 1637.26,-24.2843 1646.86,-28.776 1647.56,-21.8118\"/>\n",
       "</g>\n",
       "<!-- Serum Albumin&#45;&gt;predicted hazard -->\n",
       "<g id=\"edge54\" class=\"edge\"><title>Serum Albumin&#45;&gt;predicted hazard</title>\n",
       "<path fill=\"none\" stroke=\"black\" d=\"M1729.28,-75.1703C1698.1,-64.0371 1654.11,-48.3263 1620.58,-36.3501\"/>\n",
       "<polygon fill=\"black\" stroke=\"black\" points=\"1621.57,-32.988 1610.98,-32.9206 1619.22,-39.5802 1621.57,-32.988\"/>\n",
       "</g>\n",
       "<!-- Serum Protein&#45;&gt;predicted hazard -->\n",
       "<g id=\"edge55\" class=\"edge\"><title>Serum Protein&#45;&gt;predicted hazard</title>\n",
       "<path fill=\"none\" stroke=\"black\" d=\"M1680.65,-144.433C1659.1,-119.556 1618.25,-72.3984 1593.24,-43.5265\"/>\n",
       "<polygon fill=\"black\" stroke=\"black\" points=\"1595.83,-41.1689 1586.64,-35.9017 1590.54,-45.752 1595.83,-41.1689\"/>\n",
       "</g>\n",
       "<!-- TS&#45;&gt;predicted hazard -->\n",
       "<g id=\"edge57\" class=\"edge\"><title>TS&#45;&gt;predicted hazard</title>\n",
       "<path fill=\"none\" stroke=\"black\" d=\"M1928,-79.2279C1921.35,-76.5705 1913.97,-73.9041 1907,-72 1819.2,-48.0136 1715.31,-33.6712 1646.75,-26.0713\"/>\n",
       "<polygon fill=\"black\" stroke=\"black\" points=\"1646.8,-22.556 1636.48,-24.9537 1646.04,-29.515 1646.8,-22.556\"/>\n",
       "</g>\n",
       "<!-- TIBC&#45;&gt;predicted hazard -->\n",
       "<g id=\"edge58\" class=\"edge\"><title>TIBC&#45;&gt;predicted hazard</title>\n",
       "<path fill=\"none\" stroke=\"black\" d=\"M2007.49,-78.7753C2000.64,-76.2363 1993.11,-73.7452 1986,-72 1870.65,-43.6907 1733.29,-29.9053 1649.39,-23.6507\"/>\n",
       "<polygon fill=\"black\" stroke=\"black\" points=\"1649.41,-20.1426 1639.18,-22.9069 1648.9,-27.1241 1649.41,-20.1426\"/>\n",
       "</g>\n",
       "<!-- Serum Iron&#45;&gt;predicted hazard -->\n",
       "<g id=\"edge59\" class=\"edge\"><title>Serum Iron&#45;&gt;predicted hazard</title>\n",
       "<path fill=\"none\" stroke=\"black\" d=\"M2097.24,-77.7732C2088.98,-75.6082 2080.24,-73.5386 2072,-72 1923.86,-44.3406 1748.13,-29.8834 1649.4,-23.4009\"/>\n",
       "<polygon fill=\"black\" stroke=\"black\" points=\"1649.41,-19.8947 1639.21,-22.7424 1648.96,-26.8801 1649.41,-19.8947\"/>\n",
       "</g>\n",
       "<!-- Systolic BP&#45;&gt;predicted hazard -->\n",
       "<g id=\"edge61\" class=\"edge\"><title>Systolic BP&#45;&gt;predicted hazard</title>\n",
       "<path fill=\"none\" stroke=\"black\" d=\"M1577.45,-144.638C1585.19,-134.767 1593.94,-121.517 1598,-108 1602.6,-92.6764 1601.62,-87.5858 1598,-72 1595.85,-62.7152 1591.82,-53.1819 1587.58,-44.8058\"/>\n",
       "<polygon fill=\"black\" stroke=\"black\" points=\"1590.61,-43.0503 1582.78,-35.9157 1584.45,-46.3775 1590.61,-43.0503\"/>\n",
       "</g>\n",
       "<!-- Pulse pressure -->\n",
       "<g id=\"node26\" class=\"node\"><title>Pulse pressure</title>\n",
       "<ellipse fill=\"none\" stroke=\"black\" cx=\"1527\" cy=\"-90\" rx=\"61.99\" ry=\"18\"/>\n",
       "<text text-anchor=\"middle\" x=\"1527\" y=\"-86.3\" font-family=\"Times,serif\" font-size=\"14.00\">Pulse pressure</text>\n",
       "</g>\n",
       "<!-- Systolic BP&#45;&gt;Pulse pressure -->\n",
       "<g id=\"edge62\" class=\"edge\"><title>Systolic BP&#45;&gt;Pulse pressure</title>\n",
       "<path fill=\"none\" stroke=\"black\" d=\"M1554.29,-144.055C1550.15,-136.007 1545.11,-126.205 1540.49,-117.226\"/>\n",
       "<polygon fill=\"black\" stroke=\"black\" points=\"1543.57,-115.567 1535.88,-108.275 1537.35,-118.769 1543.57,-115.567\"/>\n",
       "</g>\n",
       "<!-- Diastolic BP&#45;&gt;predicted hazard -->\n",
       "<g id=\"edge63\" class=\"edge\"><title>Diastolic BP&#45;&gt;predicted hazard</title>\n",
       "<path fill=\"none\" stroke=\"black\" d=\"M1436.3,-143.67C1436.43,-124.182 1439.49,-92.5781 1456,-72 1470.3,-54.1799 1491.92,-42.1144 1512.64,-34.0597\"/>\n",
       "<polygon fill=\"black\" stroke=\"black\" points=\"1513.86,-37.3399 1522.06,-30.6349 1511.47,-30.7608 1513.86,-37.3399\"/>\n",
       "</g>\n",
       "<!-- Diastolic BP&#45;&gt;Pulse pressure -->\n",
       "<g id=\"edge64\" class=\"edge\"><title>Diastolic BP&#45;&gt;Pulse pressure</title>\n",
       "<path fill=\"none\" stroke=\"black\" d=\"M1457.42,-145.116C1469.53,-135.696 1485.07,-123.611 1498.39,-113.251\"/>\n",
       "<polygon fill=\"black\" stroke=\"black\" points=\"1500.6,-115.966 1506.35,-107.064 1496.3,-110.44 1500.6,-115.966\"/>\n",
       "</g>\n",
       "<!-- White blood cells&#45;&gt;predicted hazard -->\n",
       "<g id=\"edge67\" class=\"edge\"><title>White blood cells&#45;&gt;predicted hazard</title>\n",
       "<path fill=\"none\" stroke=\"black\" d=\"M1313.73,-144.893C1342.22,-125.978 1391.81,-94.35 1437,-72 1464.42,-58.4411 1496.21,-45.8158 1522.06,-36.2914\"/>\n",
       "<polygon fill=\"black\" stroke=\"black\" points=\"1523.45,-39.5085 1531.65,-32.7974 1521.06,-32.9313 1523.45,-39.5085\"/>\n",
       "</g>\n",
       "<!-- Sedimentation rate&#45;&gt;predicted hazard -->\n",
       "<g id=\"edge68\" class=\"edge\"><title>Sedimentation rate&#45;&gt;predicted hazard</title>\n",
       "<path fill=\"none\" stroke=\"black\" d=\"M1159.37,-146.291C1208.33,-127.78 1295.8,-95.5614 1372,-72 1418.98,-57.4726 1472.91,-43.3262 1512.92,-33.3078\"/>\n",
       "<polygon fill=\"black\" stroke=\"black\" points=\"1513.92,-36.6652 1522.78,-30.8519 1512.23,-29.8728 1513.92,-36.6652\"/>\n",
       "</g>\n",
       "<!-- Age -->\n",
       "<g id=\"node20\" class=\"node\"><title>Age</title>\n",
       "<ellipse fill=\"none\" stroke=\"black\" cx=\"890\" cy=\"-378\" rx=\"27\" ry=\"18\"/>\n",
       "<text text-anchor=\"middle\" x=\"890\" y=\"-374.3\" font-family=\"Times,serif\" font-size=\"14.00\">Age</text>\n",
       "</g>\n",
       "<!-- Age&#45;&gt;Poverty index -->\n",
       "<g id=\"edge23\" class=\"edge\"><title>Age&#45;&gt;Poverty index</title>\n",
       "<path fill=\"none\" stroke=\"black\" d=\"M910.244,-365.753C928.953,-355.359 957.188,-339.674 979.778,-327.123\"/>\n",
       "<polygon fill=\"black\" stroke=\"black\" points=\"981.713,-330.052 988.754,-322.136 978.313,-323.933 981.713,-330.052\"/>\n",
       "</g>\n",
       "<!-- Age&#45;&gt;Blood protein -->\n",
       "<g id=\"edge24\" class=\"edge\"><title>Age&#45;&gt;Blood protein</title>\n",
       "<path fill=\"none\" stroke=\"black\" d=\"M910.049,-365.865C915.113,-363.524 920.639,-361.356 926,-360 1069.05,-323.823 1455.6,-387.054 1589,-324 1608.62,-314.725 1605.8,-302.449 1622,-288 1634.66,-276.711 1649.66,-265.49 1662.77,-256.299\"/>\n",
       "<polygon fill=\"black\" stroke=\"black\" points=\"1664.83,-259.133 1671.07,-250.572 1660.85,-253.373 1664.83,-259.133\"/>\n",
       "</g>\n",
       "<!-- Age&#45;&gt;Iron -->\n",
       "<g id=\"edge25\" class=\"edge\"><title>Age&#45;&gt;Iron</title>\n",
       "<path fill=\"none\" stroke=\"black\" d=\"M910.025,-365.767C915.09,-363.429 920.622,-361.287 926,-360 994.268,-343.667 2138.14,-372.379 2189,-324 2205.28,-308.516 2205.37,-282.034 2202.38,-261.972\"/>\n",
       "<polygon fill=\"black\" stroke=\"black\" points=\"2205.78,-261.093 2200.55,-251.878 2198.89,-262.343 2205.78,-261.093\"/>\n",
       "</g>\n",
       "<!-- Age&#45;&gt;Blood pressure -->\n",
       "<g id=\"edge26\" class=\"edge\"><title>Age&#45;&gt;Blood pressure</title>\n",
       "<path fill=\"none\" stroke=\"black\" d=\"M910.487,-365.904C915.445,-363.622 920.813,-361.47 926,-360 1064.97,-320.625 1110.04,-363.442 1249,-324 1305.36,-308.001 1365.8,-276.532 1402.51,-255.629\"/>\n",
       "<polygon fill=\"black\" stroke=\"black\" points=\"1404.39,-258.582 1411.31,-250.558 1400.9,-252.516 1404.39,-258.582\"/>\n",
       "</g>\n",
       "<!-- Age&#45;&gt;Inflamation -->\n",
       "<g id=\"edge27\" class=\"edge\"><title>Age&#45;&gt;Inflamation</title>\n",
       "<path fill=\"none\" stroke=\"black\" d=\"M896.08,-360.454C904.398,-340.189 921.292,-306.306 947,-288 993.511,-254.88 1058.12,-242.284 1105.28,-237.582\"/>\n",
       "<polygon fill=\"black\" stroke=\"black\" points=\"1105.73,-241.057 1115.37,-236.67 1105.1,-234.085 1105.73,-241.057\"/>\n",
       "</g>\n",
       "<!-- Age&#45;&gt;Serum Magnesium -->\n",
       "<g id=\"edge28\" class=\"edge\"><title>Age&#45;&gt;Serum Magnesium</title>\n",
       "<path fill=\"none\" stroke=\"black\" d=\"M862.839,-376.305C722.529,-372.588 85.2298,-354.083 57,-324 -2.00989,-261.116 142.125,-242.553 243.261,-237.143\"/>\n",
       "<polygon fill=\"black\" stroke=\"black\" points=\"243.706,-240.626 253.519,-236.631 243.357,-233.634 243.706,-240.626\"/>\n",
       "</g>\n",
       "<!-- Age&#45;&gt;Serum Cholesterol -->\n",
       "<g id=\"edge29\" class=\"edge\"><title>Age&#45;&gt;Serum Cholesterol</title>\n",
       "<path fill=\"none\" stroke=\"black\" d=\"M862.956,-376.208C763.335,-373.015 420.957,-359.516 389,-324 332.078,-260.739 473.695,-242.305 572.95,-237.021\"/>\n",
       "<polygon fill=\"black\" stroke=\"black\" points=\"573.203,-240.513 583.017,-236.522 572.856,-233.522 573.203,-240.513\"/>\n",
       "</g>\n",
       "<!-- Age&#45;&gt;BMI -->\n",
       "<g id=\"edge30\" class=\"edge\"><title>Age&#45;&gt;BMI</title>\n",
       "<path fill=\"none\" stroke=\"black\" d=\"M862.859,-377.789C823.29,-377.28 750.807,-369.714 717,-324 679.125,-272.785 790.94,-248.728 852.453,-239.61\"/>\n",
       "<polygon fill=\"black\" stroke=\"black\" points=\"853.174,-243.043 862.584,-238.175 852.192,-236.112 853.174,-243.043\"/>\n",
       "</g>\n",
       "<!-- Age&#45;&gt;Red blood cells -->\n",
       "<g id=\"edge31\" class=\"edge\"><title>Age&#45;&gt;Red blood cells</title>\n",
       "<path fill=\"none\" stroke=\"black\" d=\"M910.033,-365.802C915.098,-363.463 920.628,-361.311 926,-360 1029.37,-334.769 1801.18,-392.034 1883,-324 1900.65,-309.323 1904.72,-282.734 1904.94,-262.427\"/>\n",
       "<polygon fill=\"black\" stroke=\"black\" points=\"1908.43,-262.122 1904.74,-252.193 1901.43,-262.261 1908.43,-262.122\"/>\n",
       "</g>\n",
       "<!-- Age&#45;&gt;predicted hazard -->\n",
       "<g id=\"edge32\" class=\"edge\"><title>Age&#45;&gt;predicted hazard</title>\n",
       "<path fill=\"none\" stroke=\"black\" d=\"M862.86,-376.953C725.317,-376.5 109.074,-371.8 40,-324 4.33902,-299.322 0,-278.367 0,-235 0,-235 0,-235 0,-161 0,-85.16 1175.87,-34.2869 1493.65,-21.9233\"/>\n",
       "<polygon fill=\"black\" stroke=\"black\" points=\"1493.84,-25.4187 1503.7,-21.5341 1493.57,-18.4239 1493.84,-25.4187\"/>\n",
       "</g>\n",
       "<!-- Sex -->\n",
       "<g id=\"node21\" class=\"node\"><title>Sex</title>\n",
       "<ellipse fill=\"none\" stroke=\"black\" cx=\"1306\" cy=\"-378\" rx=\"27\" ry=\"18\"/>\n",
       "<text text-anchor=\"middle\" x=\"1306\" y=\"-374.3\" font-family=\"Times,serif\" font-size=\"14.00\">Sex</text>\n",
       "</g>\n",
       "<!-- Sex&#45;&gt;Poverty index -->\n",
       "<g id=\"edge33\" class=\"edge\"><title>Sex&#45;&gt;Poverty index</title>\n",
       "<path fill=\"none\" stroke=\"black\" d=\"M1280.8,-371.01C1239.76,-361.242 1155.93,-341.242 1085,-324 1080.3,-322.858 1075.43,-321.667 1070.54,-320.469\"/>\n",
       "<polygon fill=\"black\" stroke=\"black\" points=\"1071.08,-316.999 1060.53,-318.014 1069.41,-323.797 1071.08,-316.999\"/>\n",
       "</g>\n",
       "<!-- Sex&#45;&gt;Blood protein -->\n",
       "<g id=\"edge34\" class=\"edge\"><title>Sex&#45;&gt;Blood protein</title>\n",
       "<path fill=\"none\" stroke=\"black\" d=\"M1332.75,-374.93C1399.71,-369.373 1572.66,-352.579 1622,-324 1647.79,-309.06 1668.31,-281.316 1680.95,-260.761\"/>\n",
       "<polygon fill=\"black\" stroke=\"black\" points=\"1684.11,-262.283 1686.19,-251.894 1678.08,-258.722 1684.11,-262.283\"/>\n",
       "</g>\n",
       "<!-- Sex&#45;&gt;Iron -->\n",
       "<g id=\"edge35\" class=\"edge\"><title>Sex&#45;&gt;Iron</title>\n",
       "<path fill=\"none\" stroke=\"black\" d=\"M1332.58,-374.27C1369.13,-370.592 1436.99,-364.043 1495,-360 1535.34,-357.188 2194.12,-353.293 2222,-324 2238.74,-306.405 2226.72,-278.632 2214.02,-258.792\"/>\n",
       "<polygon fill=\"black\" stroke=\"black\" points=\"2216.76,-256.596 2208.24,-250.299 2210.97,-260.535 2216.76,-256.596\"/>\n",
       "</g>\n",
       "<!-- Sex&#45;&gt;Blood pressure -->\n",
       "<g id=\"edge36\" class=\"edge\"><title>Sex&#45;&gt;Blood pressure</title>\n",
       "<path fill=\"none\" stroke=\"black\" d=\"M1319.53,-362.338C1342.09,-337.88 1387.62,-288.529 1414.89,-258.962\"/>\n",
       "<polygon fill=\"black\" stroke=\"black\" points=\"1417.53,-261.264 1421.74,-251.541 1412.39,-256.518 1417.53,-261.264\"/>\n",
       "</g>\n",
       "<!-- Sex&#45;&gt;Inflamation -->\n",
       "<g id=\"edge37\" class=\"edge\"><title>Sex&#45;&gt;Inflamation</title>\n",
       "<path fill=\"none\" stroke=\"black\" d=\"M1298.14,-360.423C1288.5,-341.346 1270.75,-309.842 1249,-288 1236.02,-274.97 1219.32,-263.466 1204.38,-254.534\"/>\n",
       "<polygon fill=\"black\" stroke=\"black\" points=\"1205.76,-251.29 1195.35,-249.314 1202.26,-257.35 1205.76,-251.29\"/>\n",
       "</g>\n",
       "<!-- Sex&#45;&gt;Serum Magnesium -->\n",
       "<g id=\"edge38\" class=\"edge\"><title>Sex&#45;&gt;Serum Magnesium</title>\n",
       "<path fill=\"none\" stroke=\"black\" d=\"M1279.5,-374.434C1241.22,-370.8 1168.24,-364.138 1106,-360 1064.38,-357.233 388.497,-350.155 356,-324 337.929,-309.456 332.628,-282.849 331.429,-262.502\"/>\n",
       "<polygon fill=\"black\" stroke=\"black\" points=\"334.92,-262.139 331.13,-252.245 327.923,-262.343 334.92,-262.139\"/>\n",
       "</g>\n",
       "<!-- Sex&#45;&gt;Serum Cholesterol -->\n",
       "<g id=\"edge39\" class=\"edge\"><title>Sex&#45;&gt;Serum Cholesterol</title>\n",
       "<path fill=\"none\" stroke=\"black\" d=\"M1279.27,-374.723C1160.22,-364.578 684,-324 684,-324 666.202,-309.124 660.864,-282.561 659.583,-262.315\"/>\n",
       "<polygon fill=\"black\" stroke=\"black\" points=\"663.074,-261.991 659.236,-252.115 656.078,-262.229 663.074,-261.991\"/>\n",
       "</g>\n",
       "<!-- Sex&#45;&gt;BMI -->\n",
       "<g id=\"edge40\" class=\"edge\"><title>Sex&#45;&gt;BMI</title>\n",
       "<path fill=\"none\" stroke=\"black\" d=\"M1279.16,-375.081C1195.2,-368.848 941.504,-348.166 914,-324 896.676,-308.778 891.251,-282.493 889.818,-262.423\"/>\n",
       "<polygon fill=\"black\" stroke=\"black\" points=\"893.309,-262.146 889.386,-252.304 886.316,-262.444 893.309,-262.146\"/>\n",
       "</g>\n",
       "<!-- Sex&#45;&gt;Red blood cells -->\n",
       "<g id=\"edge41\" class=\"edge\"><title>Sex&#45;&gt;Red blood cells</title>\n",
       "<path fill=\"none\" stroke=\"black\" d=\"M1332.6,-374.57C1369.18,-371.237 1437.07,-365.082 1495,-360 1541.77,-355.897 1884.25,-358.583 1916,-324 1931.27,-307.37 1925.15,-281.138 1916.92,-261.454\"/>\n",
       "<polygon fill=\"black\" stroke=\"black\" points=\"1920,-259.764 1912.67,-252.115 1913.63,-262.666 1920,-259.764\"/>\n",
       "</g>\n",
       "<!-- Sex&#45;&gt;predicted hazard -->\n",
       "<g id=\"edge42\" class=\"edge\"><title>Sex&#45;&gt;predicted hazard</title>\n",
       "<path fill=\"none\" stroke=\"black\" d=\"M1332.57,-374.183C1369.12,-370.407 1436.97,-363.745 1495,-360 1545.93,-356.713 2373.96,-356.874 2413,-324 2443.94,-297.949 2432,-275.447 2432,-235 2432,-235 2432,-235 2432,-161 2432,-48.4844 2304.75,-96.7793 2195,-72 2003.37,-28.7359 1771.33,-20.1545 1651.79,-18.8405\"/>\n",
       "<polygon fill=\"black\" stroke=\"black\" points=\"1651.66,-15.3392 1641.62,-18.7434 1651.59,-22.3389 1651.66,-15.3392\"/>\n",
       "</g>\n",
       "<!-- Race -->\n",
       "<g id=\"node22\" class=\"node\"><title>Race</title>\n",
       "<ellipse fill=\"none\" stroke=\"black\" cx=\"1533\" cy=\"-378\" rx=\"28.6953\" ry=\"18\"/>\n",
       "<text text-anchor=\"middle\" x=\"1533\" y=\"-374.3\" font-family=\"Times,serif\" font-size=\"14.00\">Race</text>\n",
       "</g>\n",
       "<!-- Race&#45;&gt;Poverty index -->\n",
       "<g id=\"edge43\" class=\"edge\"><title>Race&#45;&gt;Poverty index</title>\n",
       "<path fill=\"none\" stroke=\"black\" d=\"M1504.78,-374.883C1433.82,-369.295 1242.39,-352.586 1085,-324 1079.9,-323.073 1074.61,-321.992 1069.33,-320.832\"/>\n",
       "<polygon fill=\"black\" stroke=\"black\" points=\"1069.79,-317.346 1059.26,-318.526 1068.22,-324.169 1069.79,-317.346\"/>\n",
       "</g>\n",
       "<!-- Race&#45;&gt;Blood protein -->\n",
       "<g id=\"edge44\" class=\"edge\"><title>Race&#45;&gt;Blood protein</title>\n",
       "<path fill=\"none\" stroke=\"black\" d=\"M1561.73,-377.219C1637.79,-377.126 1841.48,-372.285 1883,-324 1922.67,-277.875 1828.71,-253.915 1759.82,-242.923\"/>\n",
       "<polygon fill=\"black\" stroke=\"black\" points=\"1760.28,-239.451 1749.86,-241.394 1759.21,-246.37 1760.28,-239.451\"/>\n",
       "</g>\n",
       "<!-- Race&#45;&gt;Iron -->\n",
       "<g id=\"edge45\" class=\"edge\"><title>Race&#45;&gt;Iron</title>\n",
       "<path fill=\"none\" stroke=\"black\" d=\"M1561.69,-376.365C1709.91,-372.95 2383.13,-355.723 2413,-324 2468.25,-265.319 2308.33,-244.175 2232.95,-237.602\"/>\n",
       "<polygon fill=\"black\" stroke=\"black\" points=\"2233.16,-234.108 2222.9,-236.769 2232.58,-241.084 2233.16,-234.108\"/>\n",
       "</g>\n",
       "<!-- Race&#45;&gt;Blood pressure -->\n",
       "<g id=\"edge46\" class=\"edge\"><title>Race&#45;&gt;Blood pressure</title>\n",
       "<path fill=\"none\" stroke=\"black\" d=\"M1552.51,-364.819C1565.54,-355.451 1581.59,-341.214 1589,-324 1595.33,-309.304 1598.27,-301.044 1589,-288 1570.46,-261.901 1538.08,-248.547 1507.95,-241.758\"/>\n",
       "<polygon fill=\"black\" stroke=\"black\" points=\"1508.35,-238.265 1497.85,-239.698 1506.95,-245.124 1508.35,-238.265\"/>\n",
       "</g>\n",
       "<!-- Race&#45;&gt;Inflamation -->\n",
       "<g id=\"edge47\" class=\"edge\"><title>Race&#45;&gt;Inflamation</title>\n",
       "<path fill=\"none\" stroke=\"black\" d=\"M1509.27,-367.792C1448.66,-344.276 1287.48,-281.743 1209.9,-251.645\"/>\n",
       "<polygon fill=\"black\" stroke=\"black\" points=\"1211.01,-248.321 1200.42,-247.966 1208.48,-254.847 1211.01,-248.321\"/>\n",
       "</g>\n",
       "<!-- Race&#45;&gt;Serum Magnesium -->\n",
       "<g id=\"edge48\" class=\"edge\"><title>Race&#45;&gt;Serum Magnesium</title>\n",
       "<path fill=\"none\" stroke=\"black\" d=\"M1504.88,-374.045C1467.66,-370.237 1399.98,-363.673 1342,-360 1236.25,-353.301 480.986,-376.602 389,-324 376.415,-316.803 357.648,-284.579 345.126,-260.968\"/>\n",
       "<polygon fill=\"black\" stroke=\"black\" points=\"348.228,-259.346 340.499,-252.099 342.022,-262.584 348.228,-259.346\"/>\n",
       "</g>\n",
       "<!-- Race&#45;&gt;Serum Cholesterol -->\n",
       "<g id=\"edge49\" class=\"edge\"><title>Race&#45;&gt;Serum Cholesterol</title>\n",
       "<path fill=\"none\" stroke=\"black\" d=\"M1504.87,-374.219C1467.63,-370.602 1399.94,-364.246 1342,-360 1272.63,-354.916 777.039,-359.126 717,-324 704.542,-316.712 685.869,-284.769 673.325,-261.227\"/>\n",
       "<polygon fill=\"black\" stroke=\"black\" points=\"676.263,-259.294 668.521,-252.061 670.063,-262.543 676.263,-259.294\"/>\n",
       "</g>\n",
       "<!-- Race&#45;&gt;BMI -->\n",
       "<g id=\"edge50\" class=\"edge\"><title>Race&#45;&gt;BMI</title>\n",
       "<path fill=\"none\" stroke=\"black\" d=\"M1504.82,-374.492C1388.08,-364.101 948.514,-324.92 947,-324 934.525,-316.425 915.543,-283.897 902.959,-260.353\"/>\n",
       "<polygon fill=\"black\" stroke=\"black\" points=\"905.909,-258.442 898.156,-251.222 899.714,-261.701 905.909,-258.442\"/>\n",
       "</g>\n",
       "<!-- Race&#45;&gt;Red blood cells -->\n",
       "<g id=\"edge51\" class=\"edge\"><title>Race&#45;&gt;Red blood cells</title>\n",
       "<path fill=\"none\" stroke=\"black\" d=\"M1561.55,-376.915C1682.18,-376.263 2145.91,-370.716 2189,-324 2252.81,-254.827 2083.47,-238.977 1978.74,-235.628\"/>\n",
       "<polygon fill=\"black\" stroke=\"black\" points=\"1978.6,-232.123 1968.5,-235.334 1978.4,-239.12 1978.6,-232.123\"/>\n",
       "</g>\n",
       "<!-- Race&#45;&gt;predicted hazard -->\n",
       "<g id=\"edge52\" class=\"edge\"><title>Race&#45;&gt;predicted hazard</title>\n",
       "<path fill=\"none\" stroke=\"black\" d=\"M1561.94,-376.635C1707.14,-374.623 2352.55,-363.506 2432,-324 2478.57,-300.84 2508,-287.015 2508,-235 2508,-235 2508,-235 2508,-161 2508,-112.793 2488.04,-95.5948 2446,-72 2377.8,-33.7204 1854.43,-22.7353 1651.78,-19.8989\"/>\n",
       "<polygon fill=\"black\" stroke=\"black\" points=\"1651.56,-16.3956 1641.51,-19.7583 1651.46,-23.3949 1651.56,-16.3956\"/>\n",
       "</g>\n",
       "<!-- Poverty index noise -->\n",
       "<g id=\"node23\" class=\"node\"><title>Poverty index noise</title>\n",
       "<ellipse fill=\"none\" stroke=\"black\" cx=\"1016\" cy=\"-378\" rx=\"81.4863\" ry=\"18\"/>\n",
       "<text text-anchor=\"middle\" x=\"1016\" y=\"-374.3\" font-family=\"Times,serif\" font-size=\"14.00\">Poverty index noise</text>\n",
       "</g>\n",
       "<!-- Poverty index noise&#45;&gt;Poverty index -->\n",
       "<g id=\"edge53\" class=\"edge\"><title>Poverty index noise&#45;&gt;Poverty index</title>\n",
       "<path fill=\"none\" stroke=\"black\" d=\"M1016,-359.697C1016,-351.983 1016,-342.712 1016,-334.112\"/>\n",
       "<polygon fill=\"black\" stroke=\"black\" points=\"1019.5,-334.104 1016,-324.104 1012.5,-334.104 1019.5,-334.104\"/>\n",
       "</g>\n",
       "<!-- Blood protein noise -->\n",
       "<g id=\"node24\" class=\"node\"><title>Blood protein noise</title>\n",
       "<ellipse fill=\"none\" stroke=\"black\" cx=\"1793\" cy=\"-306\" rx=\"80.6858\" ry=\"18\"/>\n",
       "<text text-anchor=\"middle\" x=\"1793\" y=\"-302.3\" font-family=\"Times,serif\" font-size=\"14.00\">Blood protein noise</text>\n",
       "</g>\n",
       "<!-- Blood protein noise&#45;&gt;Blood protein -->\n",
       "<g id=\"edge56\" class=\"edge\"><title>Blood protein noise&#45;&gt;Blood protein</title>\n",
       "<path fill=\"none\" stroke=\"black\" d=\"M1769.78,-288.411C1756.56,-278.969 1739.84,-267.029 1725.57,-256.834\"/>\n",
       "<polygon fill=\"black\" stroke=\"black\" points=\"1727.22,-253.713 1717.05,-250.749 1723.15,-259.409 1727.22,-253.713\"/>\n",
       "</g>\n",
       "<!-- Iron noise -->\n",
       "<g id=\"node25\" class=\"node\"><title>Iron noise</title>\n",
       "<ellipse fill=\"none\" stroke=\"black\" cx=\"2358\" cy=\"-306\" rx=\"46.2923\" ry=\"18\"/>\n",
       "<text text-anchor=\"middle\" x=\"2358\" y=\"-302.3\" font-family=\"Times,serif\" font-size=\"14.00\">Iron noise</text>\n",
       "</g>\n",
       "<!-- Iron noise&#45;&gt;Iron -->\n",
       "<g id=\"edge60\" class=\"edge\"><title>Iron noise&#45;&gt;Iron</title>\n",
       "<path fill=\"none\" stroke=\"black\" d=\"M2328.29,-292.161C2299.73,-279.821 2256.72,-261.236 2227.56,-248.636\"/>\n",
       "<polygon fill=\"black\" stroke=\"black\" points=\"2228.81,-245.363 2218.24,-244.609 2226.03,-251.789 2228.81,-245.363\"/>\n",
       "</g>\n",
       "<!-- Pulse pressure&#45;&gt;predicted hazard -->\n",
       "<g id=\"edge66\" class=\"edge\"><title>Pulse pressure&#45;&gt;predicted hazard</title>\n",
       "<path fill=\"none\" stroke=\"black\" d=\"M1537.89,-72.055C1543.25,-63.7147 1549.83,-53.4908 1555.77,-44.2517\"/>\n",
       "<polygon fill=\"black\" stroke=\"black\" points=\"1558.74,-46.0935 1561.21,-35.789 1552.86,-42.3081 1558.74,-46.0935\"/>\n",
       "</g>\n",
       "<!-- Blood pressure noise -->\n",
       "<g id=\"node27\" class=\"node\"><title>Blood pressure noise</title>\n",
       "<ellipse fill=\"none\" stroke=\"black\" cx=\"1495\" cy=\"-306\" rx=\"85.2851\" ry=\"18\"/>\n",
       "<text text-anchor=\"middle\" x=\"1495\" y=\"-302.3\" font-family=\"Times,serif\" font-size=\"14.00\">Blood pressure noise</text>\n",
       "</g>\n",
       "<!-- Blood pressure noise&#45;&gt;Blood pressure -->\n",
       "<g id=\"edge65\" class=\"edge\"><title>Blood pressure noise&#45;&gt;Blood pressure</title>\n",
       "<path fill=\"none\" stroke=\"black\" d=\"M1480.96,-288.055C1473.91,-279.543 1465.23,-269.068 1457.45,-259.681\"/>\n",
       "<polygon fill=\"black\" stroke=\"black\" points=\"1459.99,-257.256 1450.91,-251.789 1454.6,-261.722 1459.99,-257.256\"/>\n",
       "</g>\n",
       "<!-- Inflamation noise -->\n",
       "<g id=\"node28\" class=\"node\"><title>Inflamation noise</title>\n",
       "<ellipse fill=\"none\" stroke=\"black\" cx=\"1167\" cy=\"-306\" rx=\"73.387\" ry=\"18\"/>\n",
       "<text text-anchor=\"middle\" x=\"1167\" y=\"-302.3\" font-family=\"Times,serif\" font-size=\"14.00\">Inflamation noise</text>\n",
       "</g>\n",
       "<!-- Inflamation noise&#45;&gt;Inflamation -->\n",
       "<g id=\"edge69\" class=\"edge\"><title>Inflamation noise&#45;&gt;Inflamation</title>\n",
       "<path fill=\"none\" stroke=\"black\" d=\"M1167,-287.697C1167,-279.983 1167,-270.712 1167,-262.112\"/>\n",
       "<polygon fill=\"black\" stroke=\"black\" points=\"1170.5,-262.104 1167,-252.104 1163.5,-262.104 1170.5,-262.104\"/>\n",
       "</g>\n",
       "<!-- Serum Magnesium noise -->\n",
       "<g id=\"node29\" class=\"node\"><title>Serum Magnesium noise</title>\n",
       "<ellipse fill=\"none\" stroke=\"black\" cx=\"166\" cy=\"-306\" rx=\"100.182\" ry=\"18\"/>\n",
       "<text text-anchor=\"middle\" x=\"166\" y=\"-302.3\" font-family=\"Times,serif\" font-size=\"14.00\">Serum Magnesium noise</text>\n",
       "</g>\n",
       "<!-- Serum Magnesium noise&#45;&gt;Serum Magnesium -->\n",
       "<g id=\"edge70\" class=\"edge\"><title>Serum Magnesium noise&#45;&gt;Serum Magnesium</title>\n",
       "<path fill=\"none\" stroke=\"black\" d=\"M203.254,-289.291C227.943,-278.88 260.486,-265.157 286.676,-254.113\"/>\n",
       "<polygon fill=\"black\" stroke=\"black\" points=\"288.157,-257.287 296.011,-250.176 285.437,-250.837 288.157,-257.287\"/>\n",
       "</g>\n",
       "<!-- Serum Cholesterol noise -->\n",
       "<g id=\"node30\" class=\"node\"><title>Serum Cholesterol noise</title>\n",
       "<ellipse fill=\"none\" stroke=\"black\" cx=\"496\" cy=\"-306\" rx=\"98.2828\" ry=\"18\"/>\n",
       "<text text-anchor=\"middle\" x=\"496\" y=\"-302.3\" font-family=\"Times,serif\" font-size=\"14.00\">Serum Cholesterol noise</text>\n",
       "</g>\n",
       "<!-- Serum Cholesterol noise&#45;&gt;Serum Cholesterol -->\n",
       "<g id=\"edge71\" class=\"edge\"><title>Serum Cholesterol noise&#45;&gt;Serum Cholesterol</title>\n",
       "<path fill=\"none\" stroke=\"black\" d=\"M532.805,-289.291C557.281,-278.844 589.569,-265.062 615.489,-253.999\"/>\n",
       "<polygon fill=\"black\" stroke=\"black\" points=\"616.901,-257.201 624.724,-250.057 614.153,-250.763 616.901,-257.201\"/>\n",
       "</g>\n",
       "<!-- BMI noise -->\n",
       "<g id=\"node31\" class=\"node\"><title>BMI noise</title>\n",
       "<ellipse fill=\"none\" stroke=\"black\" cx=\"775\" cy=\"-306\" rx=\"48.9926\" ry=\"18\"/>\n",
       "<text text-anchor=\"middle\" x=\"775\" y=\"-302.3\" font-family=\"Times,serif\" font-size=\"14.00\">BMI noise</text>\n",
       "</g>\n",
       "<!-- BMI noise&#45;&gt;BMI -->\n",
       "<g id=\"edge72\" class=\"edge\"><title>BMI noise&#45;&gt;BMI</title>\n",
       "<path fill=\"none\" stroke=\"black\" d=\"M799.108,-290.326C817.302,-279.251 842.323,-264.021 861.507,-252.343\"/>\n",
       "<polygon fill=\"black\" stroke=\"black\" points=\"863.41,-255.282 870.133,-247.093 859.771,-249.303 863.41,-255.282\"/>\n",
       "</g>\n",
       "<!-- Red blood cells noise -->\n",
       "<g id=\"node32\" class=\"node\"><title>Red blood cells noise</title>\n",
       "<ellipse fill=\"none\" stroke=\"black\" cx=\"2093\" cy=\"-306\" rx=\"87.1846\" ry=\"18\"/>\n",
       "<text text-anchor=\"middle\" x=\"2093\" y=\"-302.3\" font-family=\"Times,serif\" font-size=\"14.00\">Red blood cells noise</text>\n",
       "</g>\n",
       "<!-- Red blood cells noise&#45;&gt;Red blood cells -->\n",
       "<g id=\"edge73\" class=\"edge\"><title>Red blood cells noise&#45;&gt;Red blood cells</title>\n",
       "<path fill=\"none\" stroke=\"black\" d=\"M2052.24,-289.983C2022.2,-278.916 1981.28,-263.839 1949.88,-252.272\"/>\n",
       "<polygon fill=\"black\" stroke=\"black\" points=\"1951.06,-248.977 1940.47,-248.804 1948.64,-255.545 1951.06,-248.977\"/>\n",
       "</g>\n",
       "</g>\n",
       "</svg>\n"
      ],
      "text/plain": [
       "<graphviz.files.Source at 0x7f1a1304e550>"
      ]
     },
     "metadata": {},
     "output_type": "display_data"
    }
   ],
   "source": [
    "E = GraphExplainer(causal_graph, bg[:1]) # an example\n",
    "E.prepare_graph(fg) # add noise node\n",
    "G = copy.deepcopy(E.graph) # group happens after noise node b/c the grouped nodes combines individual noise node\n",
    "G = group_nodes(G, [n for n in G if n.name in ['White blood cells', 'Sedimentation rate']], 'Inflamation')\n",
    "G = group_nodes(G, [n for n in G if n.name in ['Systolic BP', 'Diastolic BP']], 'Blood pressure')\n",
    "G = group_nodes(G, [n for n in G if n.name in ['TS', 'TIBC', 'Serum Iron']], 'Iron')\n",
    "G = group_nodes(G, [n for n in G if n.name in ['Serum Protein', 'Serum Albumin']], 'Blood protein')\n",
    "G.draw()"
   ]
  },
  {
   "cell_type": "code",
   "execution_count": 14,
   "metadata": {},
   "outputs": [
    {
     "name": "stderr",
     "output_type": "stream",
     "text": [
      "bruteforce sampling:   0%|          | 0/1 [00:00<?, ?it/s]"
     ]
    },
    {
     "name": "stdout",
     "output_type": "stream",
     "text": [
      "bg 0/100\n"
     ]
    },
    {
     "name": "stderr",
     "output_type": "stream",
     "text": [
      "bruteforce sampling: 100%|██████████| 1/1 [00:00<00:00,  1.30it/s]\n",
      "bruteforce sampling:   0%|          | 0/1 [00:00<?, ?it/s]"
     ]
    },
    {
     "name": "stdout",
     "output_type": "stream",
     "text": [
      "bg 1/100\n"
     ]
    },
    {
     "name": "stderr",
     "output_type": "stream",
     "text": [
      "bruteforce sampling: 100%|██████████| 1/1 [00:00<00:00,  1.28it/s]\n",
      "bruteforce sampling:   0%|          | 0/1 [00:00<?, ?it/s]"
     ]
    },
    {
     "name": "stdout",
     "output_type": "stream",
     "text": [
      "bg 2/100\n"
     ]
    },
    {
     "name": "stderr",
     "output_type": "stream",
     "text": [
      "bruteforce sampling: 100%|██████████| 1/1 [00:00<00:00,  1.36it/s]\n",
      "bruteforce sampling:   0%|          | 0/1 [00:00<?, ?it/s]"
     ]
    },
    {
     "name": "stdout",
     "output_type": "stream",
     "text": [
      "bg 3/100\n"
     ]
    },
    {
     "name": "stderr",
     "output_type": "stream",
     "text": [
      "bruteforce sampling: 100%|██████████| 1/1 [00:00<00:00,  1.31it/s]\n",
      "bruteforce sampling:   0%|          | 0/1 [00:00<?, ?it/s]"
     ]
    },
    {
     "name": "stdout",
     "output_type": "stream",
     "text": [
      "bg 4/100\n"
     ]
    },
    {
     "name": "stderr",
     "output_type": "stream",
     "text": [
      "bruteforce sampling: 100%|██████████| 1/1 [00:00<00:00,  1.36it/s]\n",
      "bruteforce sampling:   0%|          | 0/1 [00:00<?, ?it/s]"
     ]
    },
    {
     "name": "stdout",
     "output_type": "stream",
     "text": [
      "bg 5/100\n"
     ]
    },
    {
     "name": "stderr",
     "output_type": "stream",
     "text": [
      "bruteforce sampling: 100%|██████████| 1/1 [00:00<00:00,  1.43it/s]\n",
      "bruteforce sampling:   0%|          | 0/1 [00:00<?, ?it/s]"
     ]
    },
    {
     "name": "stdout",
     "output_type": "stream",
     "text": [
      "bg 6/100\n"
     ]
    },
    {
     "name": "stderr",
     "output_type": "stream",
     "text": [
      "bruteforce sampling: 100%|██████████| 1/1 [00:00<00:00,  1.36it/s]\n",
      "bruteforce sampling:   0%|          | 0/1 [00:00<?, ?it/s]"
     ]
    },
    {
     "name": "stdout",
     "output_type": "stream",
     "text": [
      "bg 7/100\n"
     ]
    },
    {
     "name": "stderr",
     "output_type": "stream",
     "text": [
      "bruteforce sampling: 100%|██████████| 1/1 [00:00<00:00,  1.44it/s]\n",
      "bruteforce sampling:   0%|          | 0/1 [00:00<?, ?it/s]"
     ]
    },
    {
     "name": "stdout",
     "output_type": "stream",
     "text": [
      "bg 8/100\n"
     ]
    },
    {
     "name": "stderr",
     "output_type": "stream",
     "text": [
      "bruteforce sampling: 100%|██████████| 1/1 [00:00<00:00,  1.33it/s]\n",
      "bruteforce sampling:   0%|          | 0/1 [00:00<?, ?it/s]"
     ]
    },
    {
     "name": "stdout",
     "output_type": "stream",
     "text": [
      "bg 9/100\n"
     ]
    },
    {
     "name": "stderr",
     "output_type": "stream",
     "text": [
      "bruteforce sampling: 100%|██████████| 1/1 [00:00<00:00,  1.29it/s]\n",
      "bruteforce sampling:   0%|          | 0/1 [00:00<?, ?it/s]"
     ]
    },
    {
     "name": "stdout",
     "output_type": "stream",
     "text": [
      "bg 10/100\n"
     ]
    },
    {
     "name": "stderr",
     "output_type": "stream",
     "text": [
      "bruteforce sampling: 100%|██████████| 1/1 [00:00<00:00,  1.41it/s]\n",
      "bruteforce sampling:   0%|          | 0/1 [00:00<?, ?it/s]"
     ]
    },
    {
     "name": "stdout",
     "output_type": "stream",
     "text": [
      "bg 11/100\n"
     ]
    },
    {
     "name": "stderr",
     "output_type": "stream",
     "text": [
      "bruteforce sampling: 100%|██████████| 1/1 [00:00<00:00,  1.31it/s]\n",
      "bruteforce sampling:   0%|          | 0/1 [00:00<?, ?it/s]"
     ]
    },
    {
     "name": "stdout",
     "output_type": "stream",
     "text": [
      "bg 12/100\n"
     ]
    },
    {
     "name": "stderr",
     "output_type": "stream",
     "text": [
      "bruteforce sampling: 100%|██████████| 1/1 [00:00<00:00,  1.40it/s]\n",
      "bruteforce sampling:   0%|          | 0/1 [00:00<?, ?it/s]"
     ]
    },
    {
     "name": "stdout",
     "output_type": "stream",
     "text": [
      "bg 13/100\n"
     ]
    },
    {
     "name": "stderr",
     "output_type": "stream",
     "text": [
      "bruteforce sampling: 100%|██████████| 1/1 [00:00<00:00,  1.37it/s]\n",
      "bruteforce sampling:   0%|          | 0/1 [00:00<?, ?it/s]"
     ]
    },
    {
     "name": "stdout",
     "output_type": "stream",
     "text": [
      "bg 14/100\n"
     ]
    },
    {
     "name": "stderr",
     "output_type": "stream",
     "text": [
      "bruteforce sampling: 100%|██████████| 1/1 [00:00<00:00,  1.28it/s]\n",
      "bruteforce sampling:   0%|          | 0/1 [00:00<?, ?it/s]"
     ]
    },
    {
     "name": "stdout",
     "output_type": "stream",
     "text": [
      "bg 15/100\n"
     ]
    },
    {
     "name": "stderr",
     "output_type": "stream",
     "text": [
      "bruteforce sampling: 100%|██████████| 1/1 [00:00<00:00,  1.35it/s]\n",
      "bruteforce sampling:   0%|          | 0/1 [00:00<?, ?it/s]"
     ]
    },
    {
     "name": "stdout",
     "output_type": "stream",
     "text": [
      "bg 16/100\n"
     ]
    },
    {
     "name": "stderr",
     "output_type": "stream",
     "text": [
      "bruteforce sampling: 100%|██████████| 1/1 [00:00<00:00,  1.45it/s]\n",
      "bruteforce sampling:   0%|          | 0/1 [00:00<?, ?it/s]"
     ]
    },
    {
     "name": "stdout",
     "output_type": "stream",
     "text": [
      "bg 17/100\n"
     ]
    },
    {
     "name": "stderr",
     "output_type": "stream",
     "text": [
      "bruteforce sampling: 100%|██████████| 1/1 [00:00<00:00,  1.30it/s]\n",
      "bruteforce sampling:   0%|          | 0/1 [00:00<?, ?it/s]"
     ]
    },
    {
     "name": "stdout",
     "output_type": "stream",
     "text": [
      "bg 18/100\n"
     ]
    },
    {
     "name": "stderr",
     "output_type": "stream",
     "text": [
      "bruteforce sampling: 100%|██████████| 1/1 [00:00<00:00,  1.29it/s]\n",
      "bruteforce sampling:   0%|          | 0/1 [00:00<?, ?it/s]"
     ]
    },
    {
     "name": "stdout",
     "output_type": "stream",
     "text": [
      "bg 19/100\n"
     ]
    },
    {
     "name": "stderr",
     "output_type": "stream",
     "text": [
      "bruteforce sampling: 100%|██████████| 1/1 [00:00<00:00,  1.48it/s]\n",
      "bruteforce sampling:   0%|          | 0/1 [00:00<?, ?it/s]"
     ]
    },
    {
     "name": "stdout",
     "output_type": "stream",
     "text": [
      "bg 20/100\n"
     ]
    },
    {
     "name": "stderr",
     "output_type": "stream",
     "text": [
      "bruteforce sampling: 100%|██████████| 1/1 [00:00<00:00,  1.34it/s]\n",
      "bruteforce sampling:   0%|          | 0/1 [00:00<?, ?it/s]"
     ]
    },
    {
     "name": "stdout",
     "output_type": "stream",
     "text": [
      "bg 21/100\n"
     ]
    },
    {
     "name": "stderr",
     "output_type": "stream",
     "text": [
      "bruteforce sampling: 100%|██████████| 1/1 [00:00<00:00,  1.39it/s]\n",
      "bruteforce sampling:   0%|          | 0/1 [00:00<?, ?it/s]"
     ]
    },
    {
     "name": "stdout",
     "output_type": "stream",
     "text": [
      "bg 22/100\n"
     ]
    },
    {
     "name": "stderr",
     "output_type": "stream",
     "text": [
      "bruteforce sampling: 100%|██████████| 1/1 [00:00<00:00,  1.21it/s]\n",
      "bruteforce sampling:   0%|          | 0/1 [00:00<?, ?it/s]"
     ]
    },
    {
     "name": "stdout",
     "output_type": "stream",
     "text": [
      "bg 23/100\n"
     ]
    },
    {
     "name": "stderr",
     "output_type": "stream",
     "text": [
      "bruteforce sampling: 100%|██████████| 1/1 [00:00<00:00,  1.26it/s]\n",
      "bruteforce sampling:   0%|          | 0/1 [00:00<?, ?it/s]"
     ]
    },
    {
     "name": "stdout",
     "output_type": "stream",
     "text": [
      "bg 24/100\n"
     ]
    },
    {
     "name": "stderr",
     "output_type": "stream",
     "text": [
      "bruteforce sampling: 100%|██████████| 1/1 [00:00<00:00,  1.37it/s]\n",
      "bruteforce sampling:   0%|          | 0/1 [00:00<?, ?it/s]"
     ]
    },
    {
     "name": "stdout",
     "output_type": "stream",
     "text": [
      "bg 25/100\n"
     ]
    },
    {
     "name": "stderr",
     "output_type": "stream",
     "text": [
      "bruteforce sampling: 100%|██████████| 1/1 [00:00<00:00,  1.35it/s]\n",
      "bruteforce sampling:   0%|          | 0/1 [00:00<?, ?it/s]"
     ]
    },
    {
     "name": "stdout",
     "output_type": "stream",
     "text": [
      "bg 26/100\n"
     ]
    },
    {
     "name": "stderr",
     "output_type": "stream",
     "text": [
      "bruteforce sampling: 100%|██████████| 1/1 [00:00<00:00,  1.44it/s]\n",
      "bruteforce sampling:   0%|          | 0/1 [00:00<?, ?it/s]"
     ]
    },
    {
     "name": "stdout",
     "output_type": "stream",
     "text": [
      "bg 27/100\n"
     ]
    },
    {
     "name": "stderr",
     "output_type": "stream",
     "text": [
      "bruteforce sampling: 100%|██████████| 1/1 [00:00<00:00,  1.29it/s]\n",
      "bruteforce sampling:   0%|          | 0/1 [00:00<?, ?it/s]"
     ]
    },
    {
     "name": "stdout",
     "output_type": "stream",
     "text": [
      "bg 28/100\n"
     ]
    },
    {
     "name": "stderr",
     "output_type": "stream",
     "text": [
      "bruteforce sampling: 100%|██████████| 1/1 [00:00<00:00,  1.16it/s]\n",
      "bruteforce sampling:   0%|          | 0/1 [00:00<?, ?it/s]"
     ]
    },
    {
     "name": "stdout",
     "output_type": "stream",
     "text": [
      "bg 29/100\n"
     ]
    },
    {
     "name": "stderr",
     "output_type": "stream",
     "text": [
      "bruteforce sampling: 100%|██████████| 1/1 [00:00<00:00,  1.25it/s]\n",
      "bruteforce sampling:   0%|          | 0/1 [00:00<?, ?it/s]"
     ]
    },
    {
     "name": "stdout",
     "output_type": "stream",
     "text": [
      "bg 30/100\n"
     ]
    },
    {
     "name": "stderr",
     "output_type": "stream",
     "text": [
      "bruteforce sampling: 100%|██████████| 1/1 [00:00<00:00,  1.18it/s]\n",
      "bruteforce sampling:   0%|          | 0/1 [00:00<?, ?it/s]"
     ]
    },
    {
     "name": "stdout",
     "output_type": "stream",
     "text": [
      "bg 31/100\n"
     ]
    },
    {
     "name": "stderr",
     "output_type": "stream",
     "text": [
      "bruteforce sampling: 100%|██████████| 1/1 [00:00<00:00,  1.29it/s]\n",
      "bruteforce sampling:   0%|          | 0/1 [00:00<?, ?it/s]"
     ]
    },
    {
     "name": "stdout",
     "output_type": "stream",
     "text": [
      "bg 32/100\n"
     ]
    },
    {
     "name": "stderr",
     "output_type": "stream",
     "text": [
      "bruteforce sampling: 100%|██████████| 1/1 [00:00<00:00,  1.31it/s]\n",
      "bruteforce sampling:   0%|          | 0/1 [00:00<?, ?it/s]"
     ]
    },
    {
     "name": "stdout",
     "output_type": "stream",
     "text": [
      "bg 33/100\n"
     ]
    },
    {
     "name": "stderr",
     "output_type": "stream",
     "text": [
      "bruteforce sampling: 100%|██████████| 1/1 [00:00<00:00,  1.38it/s]\n",
      "bruteforce sampling:   0%|          | 0/1 [00:00<?, ?it/s]"
     ]
    },
    {
     "name": "stdout",
     "output_type": "stream",
     "text": [
      "bg 34/100\n"
     ]
    },
    {
     "name": "stderr",
     "output_type": "stream",
     "text": [
      "bruteforce sampling: 100%|██████████| 1/1 [00:00<00:00,  1.30it/s]\n",
      "bruteforce sampling:   0%|          | 0/1 [00:00<?, ?it/s]"
     ]
    },
    {
     "name": "stdout",
     "output_type": "stream",
     "text": [
      "bg 35/100\n"
     ]
    },
    {
     "name": "stderr",
     "output_type": "stream",
     "text": [
      "bruteforce sampling: 100%|██████████| 1/1 [00:00<00:00,  1.43it/s]\n",
      "bruteforce sampling:   0%|          | 0/1 [00:00<?, ?it/s]"
     ]
    },
    {
     "name": "stdout",
     "output_type": "stream",
     "text": [
      "bg 36/100\n"
     ]
    },
    {
     "name": "stderr",
     "output_type": "stream",
     "text": [
      "bruteforce sampling: 100%|██████████| 1/1 [00:00<00:00,  1.19it/s]\n",
      "bruteforce sampling:   0%|          | 0/1 [00:00<?, ?it/s]"
     ]
    },
    {
     "name": "stdout",
     "output_type": "stream",
     "text": [
      "bg 37/100\n"
     ]
    },
    {
     "name": "stderr",
     "output_type": "stream",
     "text": [
      "bruteforce sampling: 100%|██████████| 1/1 [00:00<00:00,  1.37it/s]\n",
      "bruteforce sampling:   0%|          | 0/1 [00:00<?, ?it/s]"
     ]
    },
    {
     "name": "stdout",
     "output_type": "stream",
     "text": [
      "bg 38/100\n"
     ]
    },
    {
     "name": "stderr",
     "output_type": "stream",
     "text": [
      "bruteforce sampling: 100%|██████████| 1/1 [00:00<00:00,  1.25it/s]\n",
      "bruteforce sampling:   0%|          | 0/1 [00:00<?, ?it/s]"
     ]
    },
    {
     "name": "stdout",
     "output_type": "stream",
     "text": [
      "bg 39/100\n"
     ]
    },
    {
     "name": "stderr",
     "output_type": "stream",
     "text": [
      "bruteforce sampling: 100%|██████████| 1/1 [00:00<00:00,  1.34it/s]\n"
     ]
    },
    {
     "name": "stdout",
     "output_type": "stream",
     "text": [
      "bg 40/100\n"
     ]
    },
    {
     "name": "stderr",
     "output_type": "stream",
     "text": [
      "bruteforce sampling: 100%|██████████| 1/1 [00:00<00:00,  1.37it/s]\n",
      "bruteforce sampling:   0%|          | 0/1 [00:00<?, ?it/s]"
     ]
    },
    {
     "name": "stdout",
     "output_type": "stream",
     "text": [
      "bg 41/100\n"
     ]
    },
    {
     "name": "stderr",
     "output_type": "stream",
     "text": [
      "bruteforce sampling: 100%|██████████| 1/1 [00:00<00:00,  1.27it/s]\n",
      "bruteforce sampling:   0%|          | 0/1 [00:00<?, ?it/s]"
     ]
    },
    {
     "name": "stdout",
     "output_type": "stream",
     "text": [
      "bg 42/100\n"
     ]
    },
    {
     "name": "stderr",
     "output_type": "stream",
     "text": [
      "bruteforce sampling: 100%|██████████| 1/1 [00:00<00:00,  1.17it/s]\n",
      "bruteforce sampling:   0%|          | 0/1 [00:00<?, ?it/s]"
     ]
    },
    {
     "name": "stdout",
     "output_type": "stream",
     "text": [
      "bg 43/100\n"
     ]
    },
    {
     "name": "stderr",
     "output_type": "stream",
     "text": [
      "bruteforce sampling: 100%|██████████| 1/1 [00:00<00:00,  1.31it/s]\n",
      "bruteforce sampling:   0%|          | 0/1 [00:00<?, ?it/s]"
     ]
    },
    {
     "name": "stdout",
     "output_type": "stream",
     "text": [
      "bg 44/100\n"
     ]
    },
    {
     "name": "stderr",
     "output_type": "stream",
     "text": [
      "bruteforce sampling: 100%|██████████| 1/1 [00:00<00:00,  1.33it/s]\n",
      "bruteforce sampling:   0%|          | 0/1 [00:00<?, ?it/s]"
     ]
    },
    {
     "name": "stdout",
     "output_type": "stream",
     "text": [
      "bg 45/100\n"
     ]
    },
    {
     "name": "stderr",
     "output_type": "stream",
     "text": [
      "bruteforce sampling: 100%|██████████| 1/1 [00:00<00:00,  1.32it/s]\n",
      "bruteforce sampling:   0%|          | 0/1 [00:00<?, ?it/s]"
     ]
    },
    {
     "name": "stdout",
     "output_type": "stream",
     "text": [
      "bg 46/100\n"
     ]
    },
    {
     "name": "stderr",
     "output_type": "stream",
     "text": [
      "bruteforce sampling: 100%|██████████| 1/1 [00:00<00:00,  1.28it/s]\n",
      "bruteforce sampling:   0%|          | 0/1 [00:00<?, ?it/s]"
     ]
    },
    {
     "name": "stdout",
     "output_type": "stream",
     "text": [
      "bg 47/100\n"
     ]
    },
    {
     "name": "stderr",
     "output_type": "stream",
     "text": [
      "bruteforce sampling: 100%|██████████| 1/1 [00:00<00:00,  1.42it/s]\n",
      "bruteforce sampling:   0%|          | 0/1 [00:00<?, ?it/s]"
     ]
    },
    {
     "name": "stdout",
     "output_type": "stream",
     "text": [
      "bg 48/100\n"
     ]
    },
    {
     "name": "stderr",
     "output_type": "stream",
     "text": [
      "bruteforce sampling: 100%|██████████| 1/1 [00:00<00:00,  1.42it/s]\n",
      "bruteforce sampling:   0%|          | 0/1 [00:00<?, ?it/s]"
     ]
    },
    {
     "name": "stdout",
     "output_type": "stream",
     "text": [
      "bg 49/100\n"
     ]
    },
    {
     "name": "stderr",
     "output_type": "stream",
     "text": [
      "bruteforce sampling: 100%|██████████| 1/1 [00:00<00:00,  1.37it/s]\n",
      "bruteforce sampling:   0%|          | 0/1 [00:00<?, ?it/s]"
     ]
    },
    {
     "name": "stdout",
     "output_type": "stream",
     "text": [
      "bg 50/100\n"
     ]
    },
    {
     "name": "stderr",
     "output_type": "stream",
     "text": [
      "bruteforce sampling: 100%|██████████| 1/1 [00:00<00:00,  1.35it/s]\n",
      "bruteforce sampling:   0%|          | 0/1 [00:00<?, ?it/s]"
     ]
    },
    {
     "name": "stdout",
     "output_type": "stream",
     "text": [
      "bg 51/100\n"
     ]
    },
    {
     "name": "stderr",
     "output_type": "stream",
     "text": [
      "bruteforce sampling: 100%|██████████| 1/1 [00:00<00:00,  1.33it/s]\n",
      "bruteforce sampling:   0%|          | 0/1 [00:00<?, ?it/s]"
     ]
    },
    {
     "name": "stdout",
     "output_type": "stream",
     "text": [
      "bg 52/100\n"
     ]
    },
    {
     "name": "stderr",
     "output_type": "stream",
     "text": [
      "bruteforce sampling: 100%|██████████| 1/1 [00:00<00:00,  1.27it/s]\n",
      "bruteforce sampling:   0%|          | 0/1 [00:00<?, ?it/s]"
     ]
    },
    {
     "name": "stdout",
     "output_type": "stream",
     "text": [
      "bg 53/100\n"
     ]
    },
    {
     "name": "stderr",
     "output_type": "stream",
     "text": [
      "bruteforce sampling: 100%|██████████| 1/1 [00:00<00:00,  1.28it/s]\n",
      "bruteforce sampling:   0%|          | 0/1 [00:00<?, ?it/s]"
     ]
    },
    {
     "name": "stdout",
     "output_type": "stream",
     "text": [
      "bg 54/100\n"
     ]
    },
    {
     "name": "stderr",
     "output_type": "stream",
     "text": [
      "bruteforce sampling: 100%|██████████| 1/1 [00:00<00:00,  1.43it/s]\n",
      "bruteforce sampling:   0%|          | 0/1 [00:00<?, ?it/s]"
     ]
    },
    {
     "name": "stdout",
     "output_type": "stream",
     "text": [
      "bg 55/100\n"
     ]
    },
    {
     "name": "stderr",
     "output_type": "stream",
     "text": [
      "bruteforce sampling: 100%|██████████| 1/1 [00:00<00:00,  1.32it/s]\n",
      "bruteforce sampling:   0%|          | 0/1 [00:00<?, ?it/s]"
     ]
    },
    {
     "name": "stdout",
     "output_type": "stream",
     "text": [
      "bg 56/100\n"
     ]
    },
    {
     "name": "stderr",
     "output_type": "stream",
     "text": [
      "bruteforce sampling: 100%|██████████| 1/1 [00:00<00:00,  1.38it/s]\n",
      "bruteforce sampling:   0%|          | 0/1 [00:00<?, ?it/s]"
     ]
    },
    {
     "name": "stdout",
     "output_type": "stream",
     "text": [
      "bg 57/100\n"
     ]
    },
    {
     "name": "stderr",
     "output_type": "stream",
     "text": [
      "bruteforce sampling: 100%|██████████| 1/1 [00:00<00:00,  1.27it/s]\n",
      "bruteforce sampling:   0%|          | 0/1 [00:00<?, ?it/s]"
     ]
    },
    {
     "name": "stdout",
     "output_type": "stream",
     "text": [
      "bg 58/100\n"
     ]
    },
    {
     "name": "stderr",
     "output_type": "stream",
     "text": [
      "bruteforce sampling: 100%|██████████| 1/1 [00:00<00:00,  1.15it/s]\n",
      "bruteforce sampling:   0%|          | 0/1 [00:00<?, ?it/s]"
     ]
    },
    {
     "name": "stdout",
     "output_type": "stream",
     "text": [
      "bg 59/100\n"
     ]
    },
    {
     "name": "stderr",
     "output_type": "stream",
     "text": [
      "bruteforce sampling: 100%|██████████| 1/1 [00:00<00:00,  1.38it/s]\n",
      "bruteforce sampling:   0%|          | 0/1 [00:00<?, ?it/s]"
     ]
    },
    {
     "name": "stdout",
     "output_type": "stream",
     "text": [
      "bg 60/100\n"
     ]
    },
    {
     "name": "stderr",
     "output_type": "stream",
     "text": [
      "bruteforce sampling: 100%|██████████| 1/1 [00:00<00:00,  1.24it/s]\n",
      "bruteforce sampling:   0%|          | 0/1 [00:00<?, ?it/s]"
     ]
    },
    {
     "name": "stdout",
     "output_type": "stream",
     "text": [
      "bg 61/100\n"
     ]
    },
    {
     "name": "stderr",
     "output_type": "stream",
     "text": [
      "bruteforce sampling: 100%|██████████| 1/1 [00:00<00:00,  1.34it/s]\n",
      "bruteforce sampling:   0%|          | 0/1 [00:00<?, ?it/s]"
     ]
    },
    {
     "name": "stdout",
     "output_type": "stream",
     "text": [
      "bg 62/100\n"
     ]
    },
    {
     "name": "stderr",
     "output_type": "stream",
     "text": [
      "bruteforce sampling: 100%|██████████| 1/1 [00:00<00:00,  1.26it/s]\n",
      "bruteforce sampling:   0%|          | 0/1 [00:00<?, ?it/s]"
     ]
    },
    {
     "name": "stdout",
     "output_type": "stream",
     "text": [
      "bg 63/100\n"
     ]
    },
    {
     "name": "stderr",
     "output_type": "stream",
     "text": [
      "bruteforce sampling: 100%|██████████| 1/1 [00:00<00:00,  1.34it/s]\n",
      "bruteforce sampling:   0%|          | 0/1 [00:00<?, ?it/s]"
     ]
    },
    {
     "name": "stdout",
     "output_type": "stream",
     "text": [
      "bg 64/100\n"
     ]
    },
    {
     "name": "stderr",
     "output_type": "stream",
     "text": [
      "bruteforce sampling: 100%|██████████| 1/1 [00:00<00:00,  1.29it/s]\n",
      "bruteforce sampling:   0%|          | 0/1 [00:00<?, ?it/s]"
     ]
    },
    {
     "name": "stdout",
     "output_type": "stream",
     "text": [
      "bg 65/100\n"
     ]
    },
    {
     "name": "stderr",
     "output_type": "stream",
     "text": [
      "bruteforce sampling: 100%|██████████| 1/1 [00:00<00:00,  1.32it/s]\n",
      "bruteforce sampling:   0%|          | 0/1 [00:00<?, ?it/s]"
     ]
    },
    {
     "name": "stdout",
     "output_type": "stream",
     "text": [
      "bg 66/100\n"
     ]
    },
    {
     "name": "stderr",
     "output_type": "stream",
     "text": [
      "bruteforce sampling: 100%|██████████| 1/1 [00:00<00:00,  1.36it/s]\n",
      "bruteforce sampling:   0%|          | 0/1 [00:00<?, ?it/s]"
     ]
    },
    {
     "name": "stdout",
     "output_type": "stream",
     "text": [
      "bg 67/100\n"
     ]
    },
    {
     "name": "stderr",
     "output_type": "stream",
     "text": [
      "bruteforce sampling: 100%|██████████| 1/1 [00:00<00:00,  1.41it/s]\n",
      "bruteforce sampling:   0%|          | 0/1 [00:00<?, ?it/s]"
     ]
    },
    {
     "name": "stdout",
     "output_type": "stream",
     "text": [
      "bg 68/100\n"
     ]
    },
    {
     "name": "stderr",
     "output_type": "stream",
     "text": [
      "bruteforce sampling: 100%|██████████| 1/1 [00:00<00:00,  1.43it/s]\n",
      "bruteforce sampling:   0%|          | 0/1 [00:00<?, ?it/s]"
     ]
    },
    {
     "name": "stdout",
     "output_type": "stream",
     "text": [
      "bg 69/100\n"
     ]
    },
    {
     "name": "stderr",
     "output_type": "stream",
     "text": [
      "bruteforce sampling: 100%|██████████| 1/1 [00:00<00:00,  1.40it/s]\n",
      "bruteforce sampling:   0%|          | 0/1 [00:00<?, ?it/s]"
     ]
    },
    {
     "name": "stdout",
     "output_type": "stream",
     "text": [
      "bg 70/100\n"
     ]
    },
    {
     "name": "stderr",
     "output_type": "stream",
     "text": [
      "bruteforce sampling: 100%|██████████| 1/1 [00:00<00:00,  1.23it/s]\n",
      "bruteforce sampling:   0%|          | 0/1 [00:00<?, ?it/s]"
     ]
    },
    {
     "name": "stdout",
     "output_type": "stream",
     "text": [
      "bg 71/100\n"
     ]
    },
    {
     "name": "stderr",
     "output_type": "stream",
     "text": [
      "bruteforce sampling: 100%|██████████| 1/1 [00:00<00:00,  1.47it/s]\n",
      "bruteforce sampling:   0%|          | 0/1 [00:00<?, ?it/s]"
     ]
    },
    {
     "name": "stdout",
     "output_type": "stream",
     "text": [
      "bg 72/100\n"
     ]
    },
    {
     "name": "stderr",
     "output_type": "stream",
     "text": [
      "bruteforce sampling: 100%|██████████| 1/1 [00:00<00:00,  1.34it/s]\n",
      "bruteforce sampling:   0%|          | 0/1 [00:00<?, ?it/s]"
     ]
    },
    {
     "name": "stdout",
     "output_type": "stream",
     "text": [
      "bg 73/100\n"
     ]
    },
    {
     "name": "stderr",
     "output_type": "stream",
     "text": [
      "bruteforce sampling: 100%|██████████| 1/1 [00:00<00:00,  1.22it/s]\n",
      "bruteforce sampling:   0%|          | 0/1 [00:00<?, ?it/s]"
     ]
    },
    {
     "name": "stdout",
     "output_type": "stream",
     "text": [
      "bg 74/100\n"
     ]
    },
    {
     "name": "stderr",
     "output_type": "stream",
     "text": [
      "bruteforce sampling: 100%|██████████| 1/1 [00:00<00:00,  1.39it/s]\n",
      "bruteforce sampling:   0%|          | 0/1 [00:00<?, ?it/s]"
     ]
    },
    {
     "name": "stdout",
     "output_type": "stream",
     "text": [
      "bg 75/100\n"
     ]
    },
    {
     "name": "stderr",
     "output_type": "stream",
     "text": [
      "bruteforce sampling: 100%|██████████| 1/1 [00:00<00:00,  1.41it/s]\n",
      "bruteforce sampling:   0%|          | 0/1 [00:00<?, ?it/s]"
     ]
    },
    {
     "name": "stdout",
     "output_type": "stream",
     "text": [
      "bg 76/100\n"
     ]
    },
    {
     "name": "stderr",
     "output_type": "stream",
     "text": [
      "bruteforce sampling: 100%|██████████| 1/1 [00:00<00:00,  1.31it/s]\n",
      "bruteforce sampling:   0%|          | 0/1 [00:00<?, ?it/s]"
     ]
    },
    {
     "name": "stdout",
     "output_type": "stream",
     "text": [
      "bg 77/100\n"
     ]
    },
    {
     "name": "stderr",
     "output_type": "stream",
     "text": [
      "bruteforce sampling: 100%|██████████| 1/1 [00:00<00:00,  1.33it/s]\n",
      "bruteforce sampling:   0%|          | 0/1 [00:00<?, ?it/s]"
     ]
    },
    {
     "name": "stdout",
     "output_type": "stream",
     "text": [
      "bg 78/100\n"
     ]
    },
    {
     "name": "stderr",
     "output_type": "stream",
     "text": [
      "bruteforce sampling: 100%|██████████| 1/1 [00:00<00:00,  1.28it/s]\n",
      "bruteforce sampling:   0%|          | 0/1 [00:00<?, ?it/s]"
     ]
    },
    {
     "name": "stdout",
     "output_type": "stream",
     "text": [
      "bg 79/100\n"
     ]
    },
    {
     "name": "stderr",
     "output_type": "stream",
     "text": [
      "bruteforce sampling: 100%|██████████| 1/1 [00:00<00:00,  1.47it/s]\n",
      "bruteforce sampling:   0%|          | 0/1 [00:00<?, ?it/s]"
     ]
    },
    {
     "name": "stdout",
     "output_type": "stream",
     "text": [
      "bg 80/100\n"
     ]
    },
    {
     "name": "stderr",
     "output_type": "stream",
     "text": [
      "bruteforce sampling: 100%|██████████| 1/1 [00:00<00:00,  1.21it/s]\n",
      "bruteforce sampling:   0%|          | 0/1 [00:00<?, ?it/s]"
     ]
    },
    {
     "name": "stdout",
     "output_type": "stream",
     "text": [
      "bg 81/100\n"
     ]
    },
    {
     "name": "stderr",
     "output_type": "stream",
     "text": [
      "bruteforce sampling: 100%|██████████| 1/1 [00:00<00:00,  1.39it/s]\n",
      "bruteforce sampling:   0%|          | 0/1 [00:00<?, ?it/s]"
     ]
    },
    {
     "name": "stdout",
     "output_type": "stream",
     "text": [
      "bg 82/100\n"
     ]
    },
    {
     "name": "stderr",
     "output_type": "stream",
     "text": [
      "bruteforce sampling: 100%|██████████| 1/1 [00:00<00:00,  1.43it/s]\n",
      "bruteforce sampling:   0%|          | 0/1 [00:00<?, ?it/s]"
     ]
    },
    {
     "name": "stdout",
     "output_type": "stream",
     "text": [
      "bg 83/100\n"
     ]
    },
    {
     "name": "stderr",
     "output_type": "stream",
     "text": [
      "bruteforce sampling: 100%|██████████| 1/1 [00:00<00:00,  1.41it/s]\n",
      "bruteforce sampling:   0%|          | 0/1 [00:00<?, ?it/s]"
     ]
    },
    {
     "name": "stdout",
     "output_type": "stream",
     "text": [
      "bg 84/100\n"
     ]
    },
    {
     "name": "stderr",
     "output_type": "stream",
     "text": [
      "bruteforce sampling: 100%|██████████| 1/1 [00:00<00:00,  1.35it/s]\n",
      "bruteforce sampling:   0%|          | 0/1 [00:00<?, ?it/s]"
     ]
    },
    {
     "name": "stdout",
     "output_type": "stream",
     "text": [
      "bg 85/100\n"
     ]
    },
    {
     "name": "stderr",
     "output_type": "stream",
     "text": [
      "bruteforce sampling: 100%|██████████| 1/1 [00:00<00:00,  1.24it/s]\n",
      "bruteforce sampling:   0%|          | 0/1 [00:00<?, ?it/s]"
     ]
    },
    {
     "name": "stdout",
     "output_type": "stream",
     "text": [
      "bg 86/100\n"
     ]
    },
    {
     "name": "stderr",
     "output_type": "stream",
     "text": [
      "bruteforce sampling: 100%|██████████| 1/1 [00:00<00:00,  1.32it/s]\n",
      "bruteforce sampling:   0%|          | 0/1 [00:00<?, ?it/s]"
     ]
    },
    {
     "name": "stdout",
     "output_type": "stream",
     "text": [
      "bg 87/100\n"
     ]
    },
    {
     "name": "stderr",
     "output_type": "stream",
     "text": [
      "bruteforce sampling: 100%|██████████| 1/1 [00:00<00:00,  1.28it/s]\n",
      "bruteforce sampling:   0%|          | 0/1 [00:00<?, ?it/s]"
     ]
    },
    {
     "name": "stdout",
     "output_type": "stream",
     "text": [
      "bg 88/100\n"
     ]
    },
    {
     "name": "stderr",
     "output_type": "stream",
     "text": [
      "bruteforce sampling: 100%|██████████| 1/1 [00:00<00:00,  1.39it/s]\n",
      "bruteforce sampling:   0%|          | 0/1 [00:00<?, ?it/s]"
     ]
    },
    {
     "name": "stdout",
     "output_type": "stream",
     "text": [
      "bg 89/100\n"
     ]
    },
    {
     "name": "stderr",
     "output_type": "stream",
     "text": [
      "bruteforce sampling: 100%|██████████| 1/1 [00:00<00:00,  1.46it/s]\n",
      "bruteforce sampling:   0%|          | 0/1 [00:00<?, ?it/s]"
     ]
    },
    {
     "name": "stdout",
     "output_type": "stream",
     "text": [
      "bg 90/100\n"
     ]
    },
    {
     "name": "stderr",
     "output_type": "stream",
     "text": [
      "bruteforce sampling: 100%|██████████| 1/1 [00:00<00:00,  1.25it/s]\n",
      "bruteforce sampling:   0%|          | 0/1 [00:00<?, ?it/s]"
     ]
    },
    {
     "name": "stdout",
     "output_type": "stream",
     "text": [
      "bg 91/100\n"
     ]
    },
    {
     "name": "stderr",
     "output_type": "stream",
     "text": [
      "bruteforce sampling: 100%|██████████| 1/1 [00:00<00:00,  1.43it/s]\n",
      "bruteforce sampling:   0%|          | 0/1 [00:00<?, ?it/s]"
     ]
    },
    {
     "name": "stdout",
     "output_type": "stream",
     "text": [
      "bg 92/100\n"
     ]
    },
    {
     "name": "stderr",
     "output_type": "stream",
     "text": [
      "bruteforce sampling: 100%|██████████| 1/1 [00:00<00:00,  1.39it/s]\n",
      "bruteforce sampling:   0%|          | 0/1 [00:00<?, ?it/s]"
     ]
    },
    {
     "name": "stdout",
     "output_type": "stream",
     "text": [
      "bg 93/100\n"
     ]
    },
    {
     "name": "stderr",
     "output_type": "stream",
     "text": [
      "bruteforce sampling: 100%|██████████| 1/1 [00:00<00:00,  1.19it/s]\n",
      "bruteforce sampling:   0%|          | 0/1 [00:00<?, ?it/s]"
     ]
    },
    {
     "name": "stdout",
     "output_type": "stream",
     "text": [
      "bg 94/100\n"
     ]
    },
    {
     "name": "stderr",
     "output_type": "stream",
     "text": [
      "bruteforce sampling: 100%|██████████| 1/1 [00:00<00:00,  1.34it/s]\n",
      "bruteforce sampling:   0%|          | 0/1 [00:00<?, ?it/s]"
     ]
    },
    {
     "name": "stdout",
     "output_type": "stream",
     "text": [
      "bg 95/100\n"
     ]
    },
    {
     "name": "stderr",
     "output_type": "stream",
     "text": [
      "bruteforce sampling: 100%|██████████| 1/1 [00:00<00:00,  1.33it/s]\n",
      "bruteforce sampling:   0%|          | 0/1 [00:00<?, ?it/s]"
     ]
    },
    {
     "name": "stdout",
     "output_type": "stream",
     "text": [
      "bg 96/100\n"
     ]
    },
    {
     "name": "stderr",
     "output_type": "stream",
     "text": [
      "bruteforce sampling: 100%|██████████| 1/1 [00:00<00:00,  1.39it/s]\n",
      "bruteforce sampling:   0%|          | 0/1 [00:00<?, ?it/s]"
     ]
    },
    {
     "name": "stdout",
     "output_type": "stream",
     "text": [
      "bg 97/100\n"
     ]
    },
    {
     "name": "stderr",
     "output_type": "stream",
     "text": [
      "bruteforce sampling: 100%|██████████| 1/1 [00:00<00:00,  1.31it/s]\n",
      "bruteforce sampling:   0%|          | 0/1 [00:00<?, ?it/s]"
     ]
    },
    {
     "name": "stdout",
     "output_type": "stream",
     "text": [
      "bg 98/100\n"
     ]
    },
    {
     "name": "stderr",
     "output_type": "stream",
     "text": [
      "bruteforce sampling: 100%|██████████| 1/1 [00:00<00:00,  1.17it/s]\n"
     ]
    },
    {
     "name": "stdout",
     "output_type": "stream",
     "text": [
      "bg 99/100\n"
     ]
    },
    {
     "name": "stderr",
     "output_type": "stream",
     "text": [
      "bruteforce sampling: 100%|██████████| 1/1 [00:00<00:00,  1.32it/s]\n"
     ]
    }
   ],
   "source": [
    "# multiple background result with individual run\n",
    "causal_edge_credits = [] # save for each run\n",
    "for i in range(len(bg)): # average run result using linearity axiom\n",
    "    print(f'bg {i}/{len(bg)}')\n",
    "    for j in range(nruns):\n",
    "        E = GraphExplainer(causal_graph, bg[i:i+1])\n",
    "        E.prepare_graph(fg) # add noise node\n",
    "        G = copy.deepcopy(E.graph) # group happens after noise node b/c the grouped nodes combines individual noise node\n",
    "        G = group_nodes(G, [n for n in G if n.name in ['White blood cells', 'Sedimentation rate']], 'Inflamation')\n",
    "        G = group_nodes(G, [n for n in G if n.name in ['Systolic BP', 'Diastolic BP']], 'Blood pressure')\n",
    "        G = group_nodes(G, [n for n in G if n.name in ['TS', 'TIBC', 'Serum Iron']], 'Iron')\n",
    "        G = group_nodes(G, [n for n in G if n.name in ['Serum Protein', 'Serum Albumin']], 'Blood protein')\n",
    "\n",
    "        explainer = GraphExplainer(G, bg[i:i+1], nruns=1) \n",
    "        cf_c = explainer.shap_values(fg, skip_prepare=True)        \n",
    "        causal_edge_credits.append(node_dict2str_dict(cf_c.edge_credit)) # use node name is more portable vs. node"
   ]
  },
  {
   "cell_type": "code",
   "execution_count": 15,
   "metadata": {},
   "outputs": [
    {
     "data": {
      "image/svg+xml": [
       "<?xml version=\"1.0\" encoding=\"UTF-8\" standalone=\"no\"?>\n",
       "<!DOCTYPE svg PUBLIC \"-//W3C//DTD SVG 1.1//EN\"\n",
       " \"http://www.w3.org/Graphics/SVG/1.1/DTD/svg11.dtd\">\n",
       "<!-- Generated by graphviz version 2.38.0 (20140413.2041)\n",
       " -->\n",
       "<!-- Title: %3 Pages: 1 -->\n",
       "<svg width=\"2516pt\" height=\"404pt\"\n",
       " viewBox=\"0.00 0.00 2516.00 404.00\" xmlns=\"http://www.w3.org/2000/svg\" xmlns:xlink=\"http://www.w3.org/1999/xlink\">\n",
       "<g id=\"graph0\" class=\"graph\" transform=\"scale(1 1) rotate(0) translate(4 400)\">\n",
       "<title>%3</title>\n",
       "<polygon fill=\"white\" stroke=\"none\" points=\"-4,4 -4,-400 2512,-400 2512,4 -4,4\"/>\n",
       "<!-- Poverty index -->\n",
       "<g id=\"node1\" class=\"node\"><title>Poverty index</title>\n",
       "<ellipse fill=\"none\" stroke=\"black\" cx=\"1016\" cy=\"-306\" rx=\"59.5901\" ry=\"18\"/>\n",
       "<text text-anchor=\"middle\" x=\"1016\" y=\"-302.3\" font-family=\"Times,serif\" font-size=\"14.00\">Poverty index</text>\n",
       "</g>\n",
       "<!-- Blood protein -->\n",
       "<g id=\"node2\" class=\"node\"><title>Blood protein</title>\n",
       "<ellipse fill=\"none\" stroke=\"black\" cx=\"1695\" cy=\"-234\" rx=\"59.5901\" ry=\"18\"/>\n",
       "<text text-anchor=\"middle\" x=\"1695\" y=\"-230.3\" font-family=\"Times,serif\" font-size=\"14.00\">Blood protein</text>\n",
       "</g>\n",
       "<!-- Poverty index&#45;&gt;Blood protein -->\n",
       "<g id=\"edge1\" class=\"edge\"><title>Poverty index&#45;&gt;Blood protein</title>\n",
       "<path fill=\"none\" stroke=\"black\" d=\"M1058.85,-293.338C1067.46,-291.308 1076.48,-289.402 1085,-288 1272.05,-257.231 1321.17,-268.673 1510,-252 1549.33,-248.527 1593.35,-244.488 1628.58,-241.219\"/>\n",
       "<polygon fill=\"black\" stroke=\"black\" points=\"1629.11,-244.685 1638.74,-240.275 1628.46,-237.715 1629.11,-244.685\"/>\n",
       "</g>\n",
       "<!-- Iron -->\n",
       "<g id=\"node3\" class=\"node\"><title>Iron</title>\n",
       "<ellipse fill=\"none\" stroke=\"black\" cx=\"2196\" cy=\"-234\" rx=\"27\" ry=\"18\"/>\n",
       "<text text-anchor=\"middle\" x=\"2196\" y=\"-230.3\" font-family=\"Times,serif\" font-size=\"14.00\">Iron</text>\n",
       "</g>\n",
       "<!-- Poverty index&#45;&gt;Iron -->\n",
       "<g id=\"edge2\" class=\"edge\"><title>Poverty index&#45;&gt;Iron</title>\n",
       "<path fill=\"none\" stroke=\"black\" d=\"M1058.43,-293.125C1067.16,-291.086 1076.33,-289.23 1085,-288 1478.27,-232.207 1581.48,-275.445 1978,-252 2041.72,-248.233 2115.78,-242.081 2159.11,-238.302\"/>\n",
       "<polygon fill=\"black\" stroke=\"black\" points=\"2159.52,-241.779 2169.17,-237.418 2158.91,-234.806 2159.52,-241.779\"/>\n",
       "</g>\n",
       "<!-- Blood pressure -->\n",
       "<g id=\"node4\" class=\"node\"><title>Blood pressure</title>\n",
       "<ellipse fill=\"none\" stroke=\"black\" cx=\"1437\" cy=\"-234\" rx=\"63.8893\" ry=\"18\"/>\n",
       "<text text-anchor=\"middle\" x=\"1437\" y=\"-230.3\" font-family=\"Times,serif\" font-size=\"14.00\">Blood pressure</text>\n",
       "</g>\n",
       "<!-- Poverty index&#45;&gt;Blood pressure -->\n",
       "<g id=\"edge3\" class=\"edge\"><title>Poverty index&#45;&gt;Blood pressure</title>\n",
       "<path fill=\"none\" stroke=\"black\" d=\"M1059.67,-293.598C1068.04,-291.593 1076.77,-289.63 1085,-288 1183.37,-268.519 1298.46,-252.44 1369.55,-243.277\"/>\n",
       "<polygon fill=\"black\" stroke=\"black\" points=\"1370.24,-246.718 1379.72,-241.976 1369.35,-239.775 1370.24,-246.718\"/>\n",
       "</g>\n",
       "<!-- Inflamation -->\n",
       "<g id=\"node5\" class=\"node\"><title>Inflamation</title>\n",
       "<ellipse fill=\"none\" stroke=\"black\" cx=\"1167\" cy=\"-234\" rx=\"51.9908\" ry=\"18\"/>\n",
       "<text text-anchor=\"middle\" x=\"1167\" y=\"-230.3\" font-family=\"Times,serif\" font-size=\"14.00\">Inflamation</text>\n",
       "</g>\n",
       "<!-- Poverty index&#45;&gt;Inflamation -->\n",
       "<g id=\"edge4\" class=\"edge\"><title>Poverty index&#45;&gt;Inflamation</title>\n",
       "<path fill=\"none\" stroke=\"black\" d=\"M1047.29,-290.496C1070.65,-279.666 1102.73,-264.793 1127.81,-253.17\"/>\n",
       "<polygon fill=\"black\" stroke=\"black\" points=\"1129.44,-256.27 1137.04,-248.889 1126.49,-249.92 1129.44,-256.27\"/>\n",
       "</g>\n",
       "<!-- Serum Magnesium -->\n",
       "<g id=\"node6\" class=\"node\"><title>Serum Magnesium</title>\n",
       "<ellipse fill=\"none\" stroke=\"black\" cx=\"332\" cy=\"-234\" rx=\"79.0865\" ry=\"18\"/>\n",
       "<text text-anchor=\"middle\" x=\"332\" y=\"-230.3\" font-family=\"Times,serif\" font-size=\"14.00\">Serum Magnesium</text>\n",
       "</g>\n",
       "<!-- Poverty index&#45;&gt;Serum Magnesium -->\n",
       "<g id=\"edge5\" class=\"edge\"><title>Poverty index&#45;&gt;Serum Magnesium</title>\n",
       "<path fill=\"none\" stroke=\"black\" d=\"M960.315,-299.301C839.657,-286.953 553.654,-257.684 412.98,-243.287\"/>\n",
       "<polygon fill=\"black\" stroke=\"black\" points=\"413.002,-239.771 402.697,-242.235 412.289,-246.735 413.002,-239.771\"/>\n",
       "</g>\n",
       "<!-- Serum Cholesterol -->\n",
       "<g id=\"node7\" class=\"node\"><title>Serum Cholesterol</title>\n",
       "<ellipse fill=\"none\" stroke=\"black\" cx=\"660\" cy=\"-234\" rx=\"77.1866\" ry=\"18\"/>\n",
       "<text text-anchor=\"middle\" x=\"660\" y=\"-230.3\" font-family=\"Times,serif\" font-size=\"14.00\">Serum Cholesterol</text>\n",
       "</g>\n",
       "<!-- Poverty index&#45;&gt;Serum Cholesterol -->\n",
       "<g id=\"edge6\" class=\"edge\"><title>Poverty index&#45;&gt;Serum Cholesterol</title>\n",
       "<path fill=\"none\" stroke=\"black\" d=\"M967.246,-295.414C904.991,-283.172 796.972,-261.933 727.013,-248.177\"/>\n",
       "<polygon fill=\"black\" stroke=\"black\" points=\"727.464,-244.699 716.977,-246.203 726.114,-251.567 727.464,-244.699\"/>\n",
       "</g>\n",
       "<!-- BMI -->\n",
       "<g id=\"node8\" class=\"node\"><title>BMI</title>\n",
       "<ellipse fill=\"none\" stroke=\"black\" cx=\"890\" cy=\"-234\" rx=\"27.8951\" ry=\"18\"/>\n",
       "<text text-anchor=\"middle\" x=\"890\" y=\"-230.3\" font-family=\"Times,serif\" font-size=\"14.00\">BMI</text>\n",
       "</g>\n",
       "<!-- Poverty index&#45;&gt;BMI -->\n",
       "<g id=\"edge7\" class=\"edge\"><title>Poverty index&#45;&gt;BMI</title>\n",
       "<path fill=\"none\" stroke=\"black\" d=\"M988.66,-289.811C968.232,-278.462 940.346,-262.97 919.432,-251.351\"/>\n",
       "<polygon fill=\"black\" stroke=\"black\" points=\"921.093,-248.27 910.652,-246.473 917.694,-254.389 921.093,-248.27\"/>\n",
       "</g>\n",
       "<!-- Red blood cells -->\n",
       "<g id=\"node9\" class=\"node\"><title>Red blood cells</title>\n",
       "<ellipse fill=\"none\" stroke=\"black\" cx=\"1903\" cy=\"-234\" rx=\"65.7887\" ry=\"18\"/>\n",
       "<text text-anchor=\"middle\" x=\"1903\" y=\"-230.3\" font-family=\"Times,serif\" font-size=\"14.00\">Red blood cells</text>\n",
       "</g>\n",
       "<!-- Poverty index&#45;&gt;Red blood cells -->\n",
       "<g id=\"edge8\" class=\"edge\"><title>Poverty index&#45;&gt;Red blood cells</title>\n",
       "<path fill=\"none\" stroke=\"black\" d=\"M1058.45,-293.211C1067.17,-291.165 1076.34,-289.285 1085,-288 1383.93,-243.656 1462.95,-278.359 1764,-252 1787.31,-249.959 1812.75,-247.049 1835.41,-244.213\"/>\n",
       "<polygon fill=\"black\" stroke=\"black\" points=\"1836.13,-247.649 1845.61,-242.918 1835.25,-240.705 1836.13,-247.649\"/>\n",
       "</g>\n",
       "<!-- predicted hazard -->\n",
       "<g id=\"node10\" class=\"node\"><title>predicted hazard</title>\n",
       "<ellipse fill=\"none\" stroke=\"black\" cx=\"1572\" cy=\"-18\" rx=\"69.5877\" ry=\"18\"/>\n",
       "<text text-anchor=\"middle\" x=\"1572\" y=\"-14.3\" font-family=\"Times,serif\" font-size=\"14.00\">predicted hazard</text>\n",
       "</g>\n",
       "<!-- Poverty index&#45;&gt;predicted hazard -->\n",
       "<g id=\"edge9\" class=\"edge\"><title>Poverty index&#45;&gt;predicted hazard</title>\n",
       "<path fill=\"none\" stroke=\"black\" d=\"M1012.5,-287.647C1007.08,-255.37 1000.53,-185.615 1035,-144 1093.25,-73.6844 1362.92,-38.7503 1496.54,-25.5141\"/>\n",
       "<polygon fill=\"black\" stroke=\"black\" points=\"1497.09,-28.9774 1506.7,-24.5235 1496.41,-22.0104 1497.09,-28.9774\"/>\n",
       "</g>\n",
       "<!-- Serum Albumin -->\n",
       "<g id=\"node11\" class=\"node\"><title>Serum Albumin</title>\n",
       "<ellipse fill=\"none\" stroke=\"black\" cx=\"1768\" cy=\"-90\" rx=\"68.4888\" ry=\"18\"/>\n",
       "<text text-anchor=\"middle\" x=\"1768\" y=\"-86.3\" font-family=\"Times,serif\" font-size=\"14.00\">Serum Albumin</text>\n",
       "</g>\n",
       "<!-- Blood protein&#45;&gt;Serum Albumin -->\n",
       "<g id=\"edge10\" class=\"edge\"><title>Blood protein&#45;&gt;Serum Albumin</title>\n",
       "<path fill=\"none\" stroke=\"black\" d=\"M1725.93,-218.348C1740.87,-209.499 1757.4,-196.68 1766,-180 1775.77,-161.052 1775.59,-136.686 1773.35,-118.241\"/>\n",
       "<polygon fill=\"black\" stroke=\"black\" points=\"1776.78,-117.528 1771.85,-108.15 1769.86,-118.556 1776.78,-117.528\"/>\n",
       "</g>\n",
       "<!-- Serum Protein -->\n",
       "<g id=\"node12\" class=\"node\"><title>Serum Protein</title>\n",
       "<ellipse fill=\"none\" stroke=\"black\" cx=\"1695\" cy=\"-162\" rx=\"61.99\" ry=\"18\"/>\n",
       "<text text-anchor=\"middle\" x=\"1695\" y=\"-158.3\" font-family=\"Times,serif\" font-size=\"14.00\">Serum Protein</text>\n",
       "</g>\n",
       "<!-- Blood protein&#45;&gt;Serum Protein -->\n",
       "<g id=\"edge11\" class=\"edge\"><title>Blood protein&#45;&gt;Serum Protein</title>\n",
       "<path fill=\"none\" stroke=\"black\" d=\"M1695,-215.697C1695,-207.983 1695,-198.712 1695,-190.112\"/>\n",
       "<polygon fill=\"black\" stroke=\"black\" points=\"1698.5,-190.104 1695,-180.104 1691.5,-190.104 1698.5,-190.104\"/>\n",
       "</g>\n",
       "<!-- TS -->\n",
       "<g id=\"node13\" class=\"node\"><title>TS</title>\n",
       "<ellipse fill=\"none\" stroke=\"black\" cx=\"1950\" cy=\"-90\" rx=\"27\" ry=\"18\"/>\n",
       "<text text-anchor=\"middle\" x=\"1950\" y=\"-86.3\" font-family=\"Times,serif\" font-size=\"14.00\">TS</text>\n",
       "</g>\n",
       "<!-- Iron&#45;&gt;TS -->\n",
       "<g id=\"edge12\" class=\"edge\"><title>Iron&#45;&gt;TS</title>\n",
       "<path fill=\"none\" stroke=\"black\" d=\"M2174.14,-222.878C2152.47,-212.655 2118.47,-196.112 2090,-180 2049.51,-157.089 2004.38,-127.66 1976.59,-109.058\"/>\n",
       "<polygon fill=\"black\" stroke=\"black\" points=\"1978.45,-106.094 1968.2,-103.421 1974.55,-111.903 1978.45,-106.094\"/>\n",
       "</g>\n",
       "<!-- TIBC -->\n",
       "<g id=\"node14\" class=\"node\"><title>TIBC</title>\n",
       "<ellipse fill=\"none\" stroke=\"black\" cx=\"2032\" cy=\"-90\" rx=\"30.5947\" ry=\"18\"/>\n",
       "<text text-anchor=\"middle\" x=\"2032\" y=\"-86.3\" font-family=\"Times,serif\" font-size=\"14.00\">TIBC</text>\n",
       "</g>\n",
       "<!-- Iron&#45;&gt;TIBC -->\n",
       "<g id=\"edge13\" class=\"edge\"><title>Iron&#45;&gt;TIBC</title>\n",
       "<path fill=\"none\" stroke=\"black\" d=\"M2179.98,-219.126C2151.17,-194.187 2090.49,-141.646 2056.46,-112.181\"/>\n",
       "<polygon fill=\"black\" stroke=\"black\" points=\"2058.67,-109.465 2048.82,-105.565 2054.09,-114.757 2058.67,-109.465\"/>\n",
       "</g>\n",
       "<!-- Serum Iron -->\n",
       "<g id=\"node15\" class=\"node\"><title>Serum Iron</title>\n",
       "<ellipse fill=\"none\" stroke=\"black\" cx=\"2135\" cy=\"-90\" rx=\"51.1914\" ry=\"18\"/>\n",
       "<text text-anchor=\"middle\" x=\"2135\" y=\"-86.3\" font-family=\"Times,serif\" font-size=\"14.00\">Serum Iron</text>\n",
       "</g>\n",
       "<!-- Iron&#45;&gt;Serum Iron -->\n",
       "<g id=\"edge14\" class=\"edge\"><title>Iron&#45;&gt;Serum Iron</title>\n",
       "<path fill=\"none\" stroke=\"black\" d=\"M2188.88,-216.433C2178.42,-192.088 2158.8,-146.404 2146.34,-117.402\"/>\n",
       "<polygon fill=\"black\" stroke=\"black\" points=\"2149.42,-115.708 2142.26,-107.902 2142.99,-118.471 2149.42,-115.708\"/>\n",
       "</g>\n",
       "<!-- Systolic BP -->\n",
       "<g id=\"node16\" class=\"node\"><title>Systolic BP</title>\n",
       "<ellipse fill=\"none\" stroke=\"black\" cx=\"1563\" cy=\"-162\" rx=\"51.9908\" ry=\"18\"/>\n",
       "<text text-anchor=\"middle\" x=\"1563\" y=\"-158.3\" font-family=\"Times,serif\" font-size=\"14.00\">Systolic BP</text>\n",
       "</g>\n",
       "<!-- Blood pressure&#45;&gt;Systolic BP -->\n",
       "<g id=\"edge15\" class=\"edge\"><title>Blood pressure&#45;&gt;Systolic BP</title>\n",
       "<path fill=\"none\" stroke=\"black\" d=\"M1464.65,-217.638C1483.25,-207.308 1507.92,-193.602 1527.9,-182.503\"/>\n",
       "<polygon fill=\"black\" stroke=\"black\" points=\"1529.66,-185.524 1536.71,-177.608 1526.26,-179.405 1529.66,-185.524\"/>\n",
       "</g>\n",
       "<!-- Diastolic BP -->\n",
       "<g id=\"node17\" class=\"node\"><title>Diastolic BP</title>\n",
       "<ellipse fill=\"none\" stroke=\"black\" cx=\"1437\" cy=\"-162\" rx=\"55.7903\" ry=\"18\"/>\n",
       "<text text-anchor=\"middle\" x=\"1437\" y=\"-158.3\" font-family=\"Times,serif\" font-size=\"14.00\">Diastolic BP</text>\n",
       "</g>\n",
       "<!-- Blood pressure&#45;&gt;Diastolic BP -->\n",
       "<g id=\"edge16\" class=\"edge\"><title>Blood pressure&#45;&gt;Diastolic BP</title>\n",
       "<path fill=\"none\" stroke=\"black\" d=\"M1437,-215.697C1437,-207.983 1437,-198.712 1437,-190.112\"/>\n",
       "<polygon fill=\"black\" stroke=\"black\" points=\"1440.5,-190.104 1437,-180.104 1433.5,-190.104 1440.5,-190.104\"/>\n",
       "</g>\n",
       "<!-- White blood cells -->\n",
       "<g id=\"node18\" class=\"node\"><title>White blood cells</title>\n",
       "<ellipse fill=\"none\" stroke=\"black\" cx=\"1290\" cy=\"-162\" rx=\"73.387\" ry=\"18\"/>\n",
       "<text text-anchor=\"middle\" x=\"1290\" y=\"-158.3\" font-family=\"Times,serif\" font-size=\"14.00\">White blood cells</text>\n",
       "</g>\n",
       "<!-- Inflamation&#45;&gt;White blood cells -->\n",
       "<g id=\"edge17\" class=\"edge\"><title>Inflamation&#45;&gt;White blood cells</title>\n",
       "<path fill=\"none\" stroke=\"black\" d=\"M1192.78,-218.326C1210.3,-208.358 1233.73,-195.025 1253.2,-183.945\"/>\n",
       "<polygon fill=\"black\" stroke=\"black\" points=\"1255.15,-186.861 1262.11,-178.873 1251.69,-180.777 1255.15,-186.861\"/>\n",
       "</g>\n",
       "<!-- Sedimentation rate -->\n",
       "<g id=\"node19\" class=\"node\"><title>Sedimentation rate</title>\n",
       "<ellipse fill=\"none\" stroke=\"black\" cx=\"1121\" cy=\"-162\" rx=\"77.1866\" ry=\"18\"/>\n",
       "<text text-anchor=\"middle\" x=\"1121\" y=\"-158.3\" font-family=\"Times,serif\" font-size=\"14.00\">Sedimentation rate</text>\n",
       "</g>\n",
       "<!-- Inflamation&#45;&gt;Sedimentation rate -->\n",
       "<g id=\"edge18\" class=\"edge\"><title>Inflamation&#45;&gt;Sedimentation rate</title>\n",
       "<path fill=\"none\" stroke=\"black\" d=\"M1155.86,-216.055C1150.46,-207.837 1143.86,-197.791 1137.86,-188.66\"/>\n",
       "<polygon fill=\"black\" stroke=\"black\" points=\"1140.77,-186.71 1132.35,-180.275 1134.92,-190.555 1140.77,-186.71\"/>\n",
       "</g>\n",
       "<!-- Serum Magnesium&#45;&gt;predicted hazard -->\n",
       "<g id=\"edge19\" class=\"edge\"><title>Serum Magnesium&#45;&gt;predicted hazard</title>\n",
       "<path fill=\"none\" stroke=\"black\" d=\"M370.623,-218.225C457.81,-185.582 677.175,-107.409 868,-72 1091.52,-30.5242 1360.7,-21.3272 1492.05,-19.4076\"/>\n",
       "<polygon fill=\"black\" stroke=\"black\" points=\"1492.46,-22.9025 1502.41,-19.2672 1492.36,-15.9031 1492.46,-22.9025\"/>\n",
       "</g>\n",
       "<!-- Serum Cholesterol&#45;&gt;predicted hazard -->\n",
       "<g id=\"edge20\" class=\"edge\"><title>Serum Cholesterol&#45;&gt;predicted hazard</title>\n",
       "<path fill=\"none\" stroke=\"black\" d=\"M682.505,-216.578C730.375,-182.647 847.017,-105.206 958,-72 1056.06,-42.6592 1350.53,-27.5707 1493.04,-21.8202\"/>\n",
       "<polygon fill=\"black\" stroke=\"black\" points=\"1493.59,-25.301 1503.44,-21.406 1493.31,-18.3066 1493.59,-25.301\"/>\n",
       "</g>\n",
       "<!-- BMI&#45;&gt;predicted hazard -->\n",
       "<g id=\"edge21\" class=\"edge\"><title>BMI&#45;&gt;predicted hazard</title>\n",
       "<path fill=\"none\" stroke=\"black\" d=\"M895.971,-216.413C909.144,-182.523 944.2,-105.7 1002,-72 1083.2,-24.6593 1355.56,-18.341 1492.29,-18.2698\"/>\n",
       "<polygon fill=\"black\" stroke=\"black\" points=\"1492.29,-21.7697 1502.29,-18.2756 1492.29,-14.7697 1492.29,-21.7697\"/>\n",
       "</g>\n",
       "<!-- Red blood cells&#45;&gt;predicted hazard -->\n",
       "<g id=\"edge22\" class=\"edge\"><title>Red blood cells&#45;&gt;predicted hazard</title>\n",
       "<path fill=\"none\" stroke=\"black\" d=\"M1902.14,-215.842C1899.51,-182.623 1888.77,-109.499 1845,-72 1815.86,-47.0379 1717.68,-32.6424 1647.42,-25.3146\"/>\n",
       "<polygon fill=\"black\" stroke=\"black\" points=\"1647.56,-21.8118 1637.26,-24.2843 1646.86,-28.776 1647.56,-21.8118\"/>\n",
       "</g>\n",
       "<!-- Serum Albumin&#45;&gt;predicted hazard -->\n",
       "<g id=\"edge54\" class=\"edge\"><title>Serum Albumin&#45;&gt;predicted hazard</title>\n",
       "<path fill=\"none\" stroke=\"black\" d=\"M1729.28,-75.1703C1698.1,-64.0371 1654.11,-48.3263 1620.58,-36.3501\"/>\n",
       "<polygon fill=\"black\" stroke=\"black\" points=\"1621.57,-32.988 1610.98,-32.9206 1619.22,-39.5802 1621.57,-32.988\"/>\n",
       "</g>\n",
       "<!-- Serum Protein&#45;&gt;predicted hazard -->\n",
       "<g id=\"edge55\" class=\"edge\"><title>Serum Protein&#45;&gt;predicted hazard</title>\n",
       "<path fill=\"none\" stroke=\"black\" d=\"M1680.65,-144.433C1659.1,-119.556 1618.25,-72.3984 1593.24,-43.5265\"/>\n",
       "<polygon fill=\"black\" stroke=\"black\" points=\"1595.83,-41.1689 1586.64,-35.9017 1590.54,-45.752 1595.83,-41.1689\"/>\n",
       "</g>\n",
       "<!-- TS&#45;&gt;predicted hazard -->\n",
       "<g id=\"edge57\" class=\"edge\"><title>TS&#45;&gt;predicted hazard</title>\n",
       "<path fill=\"none\" stroke=\"black\" d=\"M1928,-79.2279C1921.35,-76.5705 1913.97,-73.9041 1907,-72 1819.2,-48.0136 1715.31,-33.6712 1646.75,-26.0713\"/>\n",
       "<polygon fill=\"black\" stroke=\"black\" points=\"1646.8,-22.556 1636.48,-24.9537 1646.04,-29.515 1646.8,-22.556\"/>\n",
       "</g>\n",
       "<!-- TIBC&#45;&gt;predicted hazard -->\n",
       "<g id=\"edge58\" class=\"edge\"><title>TIBC&#45;&gt;predicted hazard</title>\n",
       "<path fill=\"none\" stroke=\"black\" d=\"M2007.49,-78.7753C2000.64,-76.2363 1993.11,-73.7452 1986,-72 1870.65,-43.6907 1733.29,-29.9053 1649.39,-23.6507\"/>\n",
       "<polygon fill=\"black\" stroke=\"black\" points=\"1649.41,-20.1426 1639.18,-22.9069 1648.9,-27.1241 1649.41,-20.1426\"/>\n",
       "</g>\n",
       "<!-- Serum Iron&#45;&gt;predicted hazard -->\n",
       "<g id=\"edge59\" class=\"edge\"><title>Serum Iron&#45;&gt;predicted hazard</title>\n",
       "<path fill=\"none\" stroke=\"black\" d=\"M2097.24,-77.7732C2088.98,-75.6082 2080.24,-73.5386 2072,-72 1923.86,-44.3406 1748.13,-29.8834 1649.4,-23.4009\"/>\n",
       "<polygon fill=\"black\" stroke=\"black\" points=\"1649.41,-19.8947 1639.21,-22.7424 1648.96,-26.8801 1649.41,-19.8947\"/>\n",
       "</g>\n",
       "<!-- Systolic BP&#45;&gt;predicted hazard -->\n",
       "<g id=\"edge61\" class=\"edge\"><title>Systolic BP&#45;&gt;predicted hazard</title>\n",
       "<path fill=\"none\" stroke=\"black\" d=\"M1577.45,-144.638C1585.19,-134.767 1593.94,-121.517 1598,-108 1602.6,-92.6764 1601.62,-87.5858 1598,-72 1595.85,-62.7152 1591.82,-53.1819 1587.58,-44.8058\"/>\n",
       "<polygon fill=\"black\" stroke=\"black\" points=\"1590.61,-43.0503 1582.78,-35.9157 1584.45,-46.3775 1590.61,-43.0503\"/>\n",
       "</g>\n",
       "<!-- Pulse pressure -->\n",
       "<g id=\"node26\" class=\"node\"><title>Pulse pressure</title>\n",
       "<ellipse fill=\"none\" stroke=\"black\" cx=\"1527\" cy=\"-90\" rx=\"61.99\" ry=\"18\"/>\n",
       "<text text-anchor=\"middle\" x=\"1527\" y=\"-86.3\" font-family=\"Times,serif\" font-size=\"14.00\">Pulse pressure</text>\n",
       "</g>\n",
       "<!-- Systolic BP&#45;&gt;Pulse pressure -->\n",
       "<g id=\"edge62\" class=\"edge\"><title>Systolic BP&#45;&gt;Pulse pressure</title>\n",
       "<path fill=\"none\" stroke=\"black\" d=\"M1554.29,-144.055C1550.15,-136.007 1545.11,-126.205 1540.49,-117.226\"/>\n",
       "<polygon fill=\"black\" stroke=\"black\" points=\"1543.57,-115.567 1535.88,-108.275 1537.35,-118.769 1543.57,-115.567\"/>\n",
       "</g>\n",
       "<!-- Diastolic BP&#45;&gt;predicted hazard -->\n",
       "<g id=\"edge63\" class=\"edge\"><title>Diastolic BP&#45;&gt;predicted hazard</title>\n",
       "<path fill=\"none\" stroke=\"black\" d=\"M1436.3,-143.67C1436.43,-124.182 1439.49,-92.5781 1456,-72 1470.3,-54.1799 1491.92,-42.1144 1512.64,-34.0597\"/>\n",
       "<polygon fill=\"black\" stroke=\"black\" points=\"1513.86,-37.3399 1522.06,-30.6349 1511.47,-30.7608 1513.86,-37.3399\"/>\n",
       "</g>\n",
       "<!-- Diastolic BP&#45;&gt;Pulse pressure -->\n",
       "<g id=\"edge64\" class=\"edge\"><title>Diastolic BP&#45;&gt;Pulse pressure</title>\n",
       "<path fill=\"none\" stroke=\"black\" d=\"M1457.42,-145.116C1469.53,-135.696 1485.07,-123.611 1498.39,-113.251\"/>\n",
       "<polygon fill=\"black\" stroke=\"black\" points=\"1500.6,-115.966 1506.35,-107.064 1496.3,-110.44 1500.6,-115.966\"/>\n",
       "</g>\n",
       "<!-- White blood cells&#45;&gt;predicted hazard -->\n",
       "<g id=\"edge67\" class=\"edge\"><title>White blood cells&#45;&gt;predicted hazard</title>\n",
       "<path fill=\"none\" stroke=\"black\" d=\"M1313.73,-144.893C1342.22,-125.978 1391.81,-94.35 1437,-72 1464.42,-58.4411 1496.21,-45.8158 1522.06,-36.2914\"/>\n",
       "<polygon fill=\"black\" stroke=\"black\" points=\"1523.45,-39.5085 1531.65,-32.7974 1521.06,-32.9313 1523.45,-39.5085\"/>\n",
       "</g>\n",
       "<!-- Sedimentation rate&#45;&gt;predicted hazard -->\n",
       "<g id=\"edge68\" class=\"edge\"><title>Sedimentation rate&#45;&gt;predicted hazard</title>\n",
       "<path fill=\"none\" stroke=\"black\" d=\"M1159.37,-146.291C1208.33,-127.78 1295.8,-95.5614 1372,-72 1418.98,-57.4726 1472.91,-43.3262 1512.92,-33.3078\"/>\n",
       "<polygon fill=\"black\" stroke=\"black\" points=\"1513.92,-36.6652 1522.78,-30.8519 1512.23,-29.8728 1513.92,-36.6652\"/>\n",
       "</g>\n",
       "<!-- Age -->\n",
       "<g id=\"node20\" class=\"node\"><title>Age</title>\n",
       "<ellipse fill=\"none\" stroke=\"black\" cx=\"890\" cy=\"-378\" rx=\"27\" ry=\"18\"/>\n",
       "<text text-anchor=\"middle\" x=\"890\" y=\"-374.3\" font-family=\"Times,serif\" font-size=\"14.00\">Age</text>\n",
       "</g>\n",
       "<!-- Age&#45;&gt;Poverty index -->\n",
       "<g id=\"edge23\" class=\"edge\"><title>Age&#45;&gt;Poverty index</title>\n",
       "<path fill=\"none\" stroke=\"black\" d=\"M910.244,-365.753C928.953,-355.359 957.188,-339.674 979.778,-327.123\"/>\n",
       "<polygon fill=\"black\" stroke=\"black\" points=\"981.713,-330.052 988.754,-322.136 978.313,-323.933 981.713,-330.052\"/>\n",
       "</g>\n",
       "<!-- Age&#45;&gt;Blood protein -->\n",
       "<g id=\"edge24\" class=\"edge\"><title>Age&#45;&gt;Blood protein</title>\n",
       "<path fill=\"none\" stroke=\"black\" d=\"M910.049,-365.865C915.113,-363.524 920.639,-361.356 926,-360 1069.05,-323.823 1455.6,-387.054 1589,-324 1608.62,-314.725 1605.8,-302.449 1622,-288 1634.66,-276.711 1649.66,-265.49 1662.77,-256.299\"/>\n",
       "<polygon fill=\"black\" stroke=\"black\" points=\"1664.83,-259.133 1671.07,-250.572 1660.85,-253.373 1664.83,-259.133\"/>\n",
       "</g>\n",
       "<!-- Age&#45;&gt;Iron -->\n",
       "<g id=\"edge25\" class=\"edge\"><title>Age&#45;&gt;Iron</title>\n",
       "<path fill=\"none\" stroke=\"black\" d=\"M910.025,-365.767C915.09,-363.429 920.622,-361.287 926,-360 994.268,-343.667 2138.14,-372.379 2189,-324 2205.28,-308.516 2205.37,-282.034 2202.38,-261.972\"/>\n",
       "<polygon fill=\"black\" stroke=\"black\" points=\"2205.78,-261.093 2200.55,-251.878 2198.89,-262.343 2205.78,-261.093\"/>\n",
       "</g>\n",
       "<!-- Age&#45;&gt;Blood pressure -->\n",
       "<g id=\"edge26\" class=\"edge\"><title>Age&#45;&gt;Blood pressure</title>\n",
       "<path fill=\"none\" stroke=\"black\" d=\"M910.487,-365.904C915.445,-363.622 920.813,-361.47 926,-360 1064.97,-320.625 1110.04,-363.442 1249,-324 1305.36,-308.001 1365.8,-276.532 1402.51,-255.629\"/>\n",
       "<polygon fill=\"black\" stroke=\"black\" points=\"1404.39,-258.582 1411.31,-250.558 1400.9,-252.516 1404.39,-258.582\"/>\n",
       "</g>\n",
       "<!-- Age&#45;&gt;Inflamation -->\n",
       "<g id=\"edge27\" class=\"edge\"><title>Age&#45;&gt;Inflamation</title>\n",
       "<path fill=\"none\" stroke=\"black\" d=\"M896.08,-360.454C904.398,-340.189 921.292,-306.306 947,-288 993.511,-254.88 1058.12,-242.284 1105.28,-237.582\"/>\n",
       "<polygon fill=\"black\" stroke=\"black\" points=\"1105.73,-241.057 1115.37,-236.67 1105.1,-234.085 1105.73,-241.057\"/>\n",
       "</g>\n",
       "<!-- Age&#45;&gt;Serum Magnesium -->\n",
       "<g id=\"edge28\" class=\"edge\"><title>Age&#45;&gt;Serum Magnesium</title>\n",
       "<path fill=\"none\" stroke=\"black\" d=\"M862.839,-376.305C722.529,-372.588 85.2298,-354.083 57,-324 -2.00989,-261.116 142.125,-242.553 243.261,-237.143\"/>\n",
       "<polygon fill=\"black\" stroke=\"black\" points=\"243.706,-240.626 253.519,-236.631 243.357,-233.634 243.706,-240.626\"/>\n",
       "</g>\n",
       "<!-- Age&#45;&gt;Serum Cholesterol -->\n",
       "<g id=\"edge29\" class=\"edge\"><title>Age&#45;&gt;Serum Cholesterol</title>\n",
       "<path fill=\"none\" stroke=\"black\" d=\"M862.956,-376.208C763.335,-373.015 420.957,-359.516 389,-324 332.078,-260.739 473.695,-242.305 572.95,-237.021\"/>\n",
       "<polygon fill=\"black\" stroke=\"black\" points=\"573.203,-240.513 583.017,-236.522 572.856,-233.522 573.203,-240.513\"/>\n",
       "</g>\n",
       "<!-- Age&#45;&gt;BMI -->\n",
       "<g id=\"edge30\" class=\"edge\"><title>Age&#45;&gt;BMI</title>\n",
       "<path fill=\"none\" stroke=\"black\" d=\"M862.859,-377.789C823.29,-377.28 750.807,-369.714 717,-324 679.125,-272.785 790.94,-248.728 852.453,-239.61\"/>\n",
       "<polygon fill=\"black\" stroke=\"black\" points=\"853.174,-243.043 862.584,-238.175 852.192,-236.112 853.174,-243.043\"/>\n",
       "</g>\n",
       "<!-- Age&#45;&gt;Red blood cells -->\n",
       "<g id=\"edge31\" class=\"edge\"><title>Age&#45;&gt;Red blood cells</title>\n",
       "<path fill=\"none\" stroke=\"black\" d=\"M910.033,-365.802C915.098,-363.463 920.628,-361.311 926,-360 1029.37,-334.769 1801.18,-392.034 1883,-324 1900.65,-309.323 1904.72,-282.734 1904.94,-262.427\"/>\n",
       "<polygon fill=\"black\" stroke=\"black\" points=\"1908.43,-262.122 1904.74,-252.193 1901.43,-262.261 1908.43,-262.122\"/>\n",
       "</g>\n",
       "<!-- Age&#45;&gt;predicted hazard -->\n",
       "<g id=\"edge32\" class=\"edge\"><title>Age&#45;&gt;predicted hazard</title>\n",
       "<path fill=\"none\" stroke=\"black\" d=\"M862.86,-376.953C725.317,-376.5 109.074,-371.8 40,-324 4.33902,-299.322 0,-278.367 0,-235 0,-235 0,-235 0,-161 0,-85.16 1175.87,-34.2869 1493.65,-21.9233\"/>\n",
       "<polygon fill=\"black\" stroke=\"black\" points=\"1493.84,-25.4187 1503.7,-21.5341 1493.57,-18.4239 1493.84,-25.4187\"/>\n",
       "</g>\n",
       "<!-- Sex -->\n",
       "<g id=\"node21\" class=\"node\"><title>Sex</title>\n",
       "<ellipse fill=\"none\" stroke=\"black\" cx=\"1306\" cy=\"-378\" rx=\"27\" ry=\"18\"/>\n",
       "<text text-anchor=\"middle\" x=\"1306\" y=\"-374.3\" font-family=\"Times,serif\" font-size=\"14.00\">Sex</text>\n",
       "</g>\n",
       "<!-- Sex&#45;&gt;Poverty index -->\n",
       "<g id=\"edge33\" class=\"edge\"><title>Sex&#45;&gt;Poverty index</title>\n",
       "<path fill=\"none\" stroke=\"black\" d=\"M1280.8,-371.01C1239.76,-361.242 1155.93,-341.242 1085,-324 1080.3,-322.858 1075.43,-321.667 1070.54,-320.469\"/>\n",
       "<polygon fill=\"black\" stroke=\"black\" points=\"1071.08,-316.999 1060.53,-318.014 1069.41,-323.797 1071.08,-316.999\"/>\n",
       "</g>\n",
       "<!-- Sex&#45;&gt;Blood protein -->\n",
       "<g id=\"edge34\" class=\"edge\"><title>Sex&#45;&gt;Blood protein</title>\n",
       "<path fill=\"none\" stroke=\"black\" d=\"M1332.75,-374.93C1399.71,-369.373 1572.66,-352.579 1622,-324 1647.79,-309.06 1668.31,-281.316 1680.95,-260.761\"/>\n",
       "<polygon fill=\"black\" stroke=\"black\" points=\"1684.11,-262.283 1686.19,-251.894 1678.08,-258.722 1684.11,-262.283\"/>\n",
       "</g>\n",
       "<!-- Sex&#45;&gt;Iron -->\n",
       "<g id=\"edge35\" class=\"edge\"><title>Sex&#45;&gt;Iron</title>\n",
       "<path fill=\"none\" stroke=\"black\" d=\"M1332.58,-374.27C1369.13,-370.592 1436.99,-364.043 1495,-360 1535.34,-357.188 2194.12,-353.293 2222,-324 2238.74,-306.405 2226.72,-278.632 2214.02,-258.792\"/>\n",
       "<polygon fill=\"black\" stroke=\"black\" points=\"2216.76,-256.596 2208.24,-250.299 2210.97,-260.535 2216.76,-256.596\"/>\n",
       "</g>\n",
       "<!-- Sex&#45;&gt;Blood pressure -->\n",
       "<g id=\"edge36\" class=\"edge\"><title>Sex&#45;&gt;Blood pressure</title>\n",
       "<path fill=\"none\" stroke=\"black\" d=\"M1319.53,-362.338C1342.09,-337.88 1387.62,-288.529 1414.89,-258.962\"/>\n",
       "<polygon fill=\"black\" stroke=\"black\" points=\"1417.53,-261.264 1421.74,-251.541 1412.39,-256.518 1417.53,-261.264\"/>\n",
       "</g>\n",
       "<!-- Sex&#45;&gt;Inflamation -->\n",
       "<g id=\"edge37\" class=\"edge\"><title>Sex&#45;&gt;Inflamation</title>\n",
       "<path fill=\"none\" stroke=\"black\" d=\"M1298.14,-360.423C1288.5,-341.346 1270.75,-309.842 1249,-288 1236.02,-274.97 1219.32,-263.466 1204.38,-254.534\"/>\n",
       "<polygon fill=\"black\" stroke=\"black\" points=\"1205.76,-251.29 1195.35,-249.314 1202.26,-257.35 1205.76,-251.29\"/>\n",
       "</g>\n",
       "<!-- Sex&#45;&gt;Serum Magnesium -->\n",
       "<g id=\"edge38\" class=\"edge\"><title>Sex&#45;&gt;Serum Magnesium</title>\n",
       "<path fill=\"none\" stroke=\"black\" d=\"M1279.5,-374.434C1241.22,-370.8 1168.24,-364.138 1106,-360 1064.38,-357.233 388.497,-350.155 356,-324 337.929,-309.456 332.628,-282.849 331.429,-262.502\"/>\n",
       "<polygon fill=\"black\" stroke=\"black\" points=\"334.92,-262.139 331.13,-252.245 327.923,-262.343 334.92,-262.139\"/>\n",
       "</g>\n",
       "<!-- Sex&#45;&gt;Serum Cholesterol -->\n",
       "<g id=\"edge39\" class=\"edge\"><title>Sex&#45;&gt;Serum Cholesterol</title>\n",
       "<path fill=\"none\" stroke=\"black\" d=\"M1279.27,-374.723C1160.22,-364.578 684,-324 684,-324 666.202,-309.124 660.864,-282.561 659.583,-262.315\"/>\n",
       "<polygon fill=\"black\" stroke=\"black\" points=\"663.074,-261.991 659.236,-252.115 656.078,-262.229 663.074,-261.991\"/>\n",
       "</g>\n",
       "<!-- Sex&#45;&gt;BMI -->\n",
       "<g id=\"edge40\" class=\"edge\"><title>Sex&#45;&gt;BMI</title>\n",
       "<path fill=\"none\" stroke=\"black\" d=\"M1279.16,-375.081C1195.2,-368.848 941.504,-348.166 914,-324 896.676,-308.778 891.251,-282.493 889.818,-262.423\"/>\n",
       "<polygon fill=\"black\" stroke=\"black\" points=\"893.309,-262.146 889.386,-252.304 886.316,-262.444 893.309,-262.146\"/>\n",
       "</g>\n",
       "<!-- Sex&#45;&gt;Red blood cells -->\n",
       "<g id=\"edge41\" class=\"edge\"><title>Sex&#45;&gt;Red blood cells</title>\n",
       "<path fill=\"none\" stroke=\"black\" d=\"M1332.6,-374.57C1369.18,-371.237 1437.07,-365.082 1495,-360 1541.77,-355.897 1884.25,-358.583 1916,-324 1931.27,-307.37 1925.15,-281.138 1916.92,-261.454\"/>\n",
       "<polygon fill=\"black\" stroke=\"black\" points=\"1920,-259.764 1912.67,-252.115 1913.63,-262.666 1920,-259.764\"/>\n",
       "</g>\n",
       "<!-- Sex&#45;&gt;predicted hazard -->\n",
       "<g id=\"edge42\" class=\"edge\"><title>Sex&#45;&gt;predicted hazard</title>\n",
       "<path fill=\"none\" stroke=\"black\" d=\"M1332.57,-374.183C1369.12,-370.407 1436.97,-363.745 1495,-360 1545.93,-356.713 2373.96,-356.874 2413,-324 2443.94,-297.949 2432,-275.447 2432,-235 2432,-235 2432,-235 2432,-161 2432,-48.4844 2304.75,-96.7793 2195,-72 2003.37,-28.7359 1771.33,-20.1545 1651.79,-18.8405\"/>\n",
       "<polygon fill=\"black\" stroke=\"black\" points=\"1651.66,-15.3392 1641.62,-18.7434 1651.59,-22.3389 1651.66,-15.3392\"/>\n",
       "</g>\n",
       "<!-- Race -->\n",
       "<g id=\"node22\" class=\"node\"><title>Race</title>\n",
       "<ellipse fill=\"none\" stroke=\"black\" cx=\"1533\" cy=\"-378\" rx=\"28.6953\" ry=\"18\"/>\n",
       "<text text-anchor=\"middle\" x=\"1533\" y=\"-374.3\" font-family=\"Times,serif\" font-size=\"14.00\">Race</text>\n",
       "</g>\n",
       "<!-- Race&#45;&gt;Poverty index -->\n",
       "<g id=\"edge43\" class=\"edge\"><title>Race&#45;&gt;Poverty index</title>\n",
       "<path fill=\"none\" stroke=\"black\" d=\"M1504.78,-374.883C1433.82,-369.295 1242.39,-352.586 1085,-324 1079.9,-323.073 1074.61,-321.992 1069.33,-320.832\"/>\n",
       "<polygon fill=\"black\" stroke=\"black\" points=\"1069.79,-317.346 1059.26,-318.526 1068.22,-324.169 1069.79,-317.346\"/>\n",
       "</g>\n",
       "<!-- Race&#45;&gt;Blood protein -->\n",
       "<g id=\"edge44\" class=\"edge\"><title>Race&#45;&gt;Blood protein</title>\n",
       "<path fill=\"none\" stroke=\"black\" d=\"M1561.73,-377.219C1637.79,-377.126 1841.48,-372.285 1883,-324 1922.67,-277.875 1828.71,-253.915 1759.82,-242.923\"/>\n",
       "<polygon fill=\"black\" stroke=\"black\" points=\"1760.28,-239.451 1749.86,-241.394 1759.21,-246.37 1760.28,-239.451\"/>\n",
       "</g>\n",
       "<!-- Race&#45;&gt;Iron -->\n",
       "<g id=\"edge45\" class=\"edge\"><title>Race&#45;&gt;Iron</title>\n",
       "<path fill=\"none\" stroke=\"black\" d=\"M1561.69,-376.365C1709.91,-372.95 2383.13,-355.723 2413,-324 2468.25,-265.319 2308.33,-244.175 2232.95,-237.602\"/>\n",
       "<polygon fill=\"black\" stroke=\"black\" points=\"2233.16,-234.108 2222.9,-236.769 2232.58,-241.084 2233.16,-234.108\"/>\n",
       "</g>\n",
       "<!-- Race&#45;&gt;Blood pressure -->\n",
       "<g id=\"edge46\" class=\"edge\"><title>Race&#45;&gt;Blood pressure</title>\n",
       "<path fill=\"none\" stroke=\"black\" d=\"M1552.51,-364.819C1565.54,-355.451 1581.59,-341.214 1589,-324 1595.33,-309.304 1598.27,-301.044 1589,-288 1570.46,-261.901 1538.08,-248.547 1507.95,-241.758\"/>\n",
       "<polygon fill=\"black\" stroke=\"black\" points=\"1508.35,-238.265 1497.85,-239.698 1506.95,-245.124 1508.35,-238.265\"/>\n",
       "</g>\n",
       "<!-- Race&#45;&gt;Inflamation -->\n",
       "<g id=\"edge47\" class=\"edge\"><title>Race&#45;&gt;Inflamation</title>\n",
       "<path fill=\"none\" stroke=\"black\" d=\"M1509.27,-367.792C1448.66,-344.276 1287.48,-281.743 1209.9,-251.645\"/>\n",
       "<polygon fill=\"black\" stroke=\"black\" points=\"1211.01,-248.321 1200.42,-247.966 1208.48,-254.847 1211.01,-248.321\"/>\n",
       "</g>\n",
       "<!-- Race&#45;&gt;Serum Magnesium -->\n",
       "<g id=\"edge48\" class=\"edge\"><title>Race&#45;&gt;Serum Magnesium</title>\n",
       "<path fill=\"none\" stroke=\"black\" d=\"M1504.88,-374.045C1467.66,-370.237 1399.98,-363.673 1342,-360 1236.25,-353.301 480.986,-376.602 389,-324 376.415,-316.803 357.648,-284.579 345.126,-260.968\"/>\n",
       "<polygon fill=\"black\" stroke=\"black\" points=\"348.228,-259.346 340.499,-252.099 342.022,-262.584 348.228,-259.346\"/>\n",
       "</g>\n",
       "<!-- Race&#45;&gt;Serum Cholesterol -->\n",
       "<g id=\"edge49\" class=\"edge\"><title>Race&#45;&gt;Serum Cholesterol</title>\n",
       "<path fill=\"none\" stroke=\"black\" d=\"M1504.87,-374.219C1467.63,-370.602 1399.94,-364.246 1342,-360 1272.63,-354.916 777.039,-359.126 717,-324 704.542,-316.712 685.869,-284.769 673.325,-261.227\"/>\n",
       "<polygon fill=\"black\" stroke=\"black\" points=\"676.263,-259.294 668.521,-252.061 670.063,-262.543 676.263,-259.294\"/>\n",
       "</g>\n",
       "<!-- Race&#45;&gt;BMI -->\n",
       "<g id=\"edge50\" class=\"edge\"><title>Race&#45;&gt;BMI</title>\n",
       "<path fill=\"none\" stroke=\"black\" d=\"M1504.82,-374.492C1388.08,-364.101 948.514,-324.92 947,-324 934.525,-316.425 915.543,-283.897 902.959,-260.353\"/>\n",
       "<polygon fill=\"black\" stroke=\"black\" points=\"905.909,-258.442 898.156,-251.222 899.714,-261.701 905.909,-258.442\"/>\n",
       "</g>\n",
       "<!-- Race&#45;&gt;Red blood cells -->\n",
       "<g id=\"edge51\" class=\"edge\"><title>Race&#45;&gt;Red blood cells</title>\n",
       "<path fill=\"none\" stroke=\"black\" d=\"M1561.55,-376.915C1682.18,-376.263 2145.91,-370.716 2189,-324 2252.81,-254.827 2083.47,-238.977 1978.74,-235.628\"/>\n",
       "<polygon fill=\"black\" stroke=\"black\" points=\"1978.6,-232.123 1968.5,-235.334 1978.4,-239.12 1978.6,-232.123\"/>\n",
       "</g>\n",
       "<!-- Race&#45;&gt;predicted hazard -->\n",
       "<g id=\"edge52\" class=\"edge\"><title>Race&#45;&gt;predicted hazard</title>\n",
       "<path fill=\"none\" stroke=\"black\" d=\"M1561.94,-376.635C1707.14,-374.623 2352.55,-363.506 2432,-324 2478.57,-300.84 2508,-287.015 2508,-235 2508,-235 2508,-235 2508,-161 2508,-112.793 2488.04,-95.5948 2446,-72 2377.8,-33.7204 1854.43,-22.7353 1651.78,-19.8989\"/>\n",
       "<polygon fill=\"black\" stroke=\"black\" points=\"1651.56,-16.3956 1641.51,-19.7583 1651.46,-23.3949 1651.56,-16.3956\"/>\n",
       "</g>\n",
       "<!-- Poverty index noise -->\n",
       "<g id=\"node23\" class=\"node\"><title>Poverty index noise</title>\n",
       "<ellipse fill=\"none\" stroke=\"black\" cx=\"1016\" cy=\"-378\" rx=\"81.4863\" ry=\"18\"/>\n",
       "<text text-anchor=\"middle\" x=\"1016\" y=\"-374.3\" font-family=\"Times,serif\" font-size=\"14.00\">Poverty index noise</text>\n",
       "</g>\n",
       "<!-- Poverty index noise&#45;&gt;Poverty index -->\n",
       "<g id=\"edge53\" class=\"edge\"><title>Poverty index noise&#45;&gt;Poverty index</title>\n",
       "<path fill=\"none\" stroke=\"black\" d=\"M1016,-359.697C1016,-351.983 1016,-342.712 1016,-334.112\"/>\n",
       "<polygon fill=\"black\" stroke=\"black\" points=\"1019.5,-334.104 1016,-324.104 1012.5,-334.104 1019.5,-334.104\"/>\n",
       "</g>\n",
       "<!-- Blood protein noise -->\n",
       "<g id=\"node24\" class=\"node\"><title>Blood protein noise</title>\n",
       "<ellipse fill=\"none\" stroke=\"black\" cx=\"1793\" cy=\"-306\" rx=\"80.6858\" ry=\"18\"/>\n",
       "<text text-anchor=\"middle\" x=\"1793\" y=\"-302.3\" font-family=\"Times,serif\" font-size=\"14.00\">Blood protein noise</text>\n",
       "</g>\n",
       "<!-- Blood protein noise&#45;&gt;Blood protein -->\n",
       "<g id=\"edge56\" class=\"edge\"><title>Blood protein noise&#45;&gt;Blood protein</title>\n",
       "<path fill=\"none\" stroke=\"black\" d=\"M1769.78,-288.411C1756.56,-278.969 1739.84,-267.029 1725.57,-256.834\"/>\n",
       "<polygon fill=\"black\" stroke=\"black\" points=\"1727.22,-253.713 1717.05,-250.749 1723.15,-259.409 1727.22,-253.713\"/>\n",
       "</g>\n",
       "<!-- Iron noise -->\n",
       "<g id=\"node25\" class=\"node\"><title>Iron noise</title>\n",
       "<ellipse fill=\"none\" stroke=\"black\" cx=\"2358\" cy=\"-306\" rx=\"46.2923\" ry=\"18\"/>\n",
       "<text text-anchor=\"middle\" x=\"2358\" y=\"-302.3\" font-family=\"Times,serif\" font-size=\"14.00\">Iron noise</text>\n",
       "</g>\n",
       "<!-- Iron noise&#45;&gt;Iron -->\n",
       "<g id=\"edge60\" class=\"edge\"><title>Iron noise&#45;&gt;Iron</title>\n",
       "<path fill=\"none\" stroke=\"black\" d=\"M2328.29,-292.161C2299.73,-279.821 2256.72,-261.236 2227.56,-248.636\"/>\n",
       "<polygon fill=\"black\" stroke=\"black\" points=\"2228.81,-245.363 2218.24,-244.609 2226.03,-251.789 2228.81,-245.363\"/>\n",
       "</g>\n",
       "<!-- Pulse pressure&#45;&gt;predicted hazard -->\n",
       "<g id=\"edge66\" class=\"edge\"><title>Pulse pressure&#45;&gt;predicted hazard</title>\n",
       "<path fill=\"none\" stroke=\"black\" d=\"M1537.89,-72.055C1543.25,-63.7147 1549.83,-53.4908 1555.77,-44.2517\"/>\n",
       "<polygon fill=\"black\" stroke=\"black\" points=\"1558.74,-46.0935 1561.21,-35.789 1552.86,-42.3081 1558.74,-46.0935\"/>\n",
       "</g>\n",
       "<!-- Blood pressure noise -->\n",
       "<g id=\"node27\" class=\"node\"><title>Blood pressure noise</title>\n",
       "<ellipse fill=\"none\" stroke=\"black\" cx=\"1495\" cy=\"-306\" rx=\"85.2851\" ry=\"18\"/>\n",
       "<text text-anchor=\"middle\" x=\"1495\" y=\"-302.3\" font-family=\"Times,serif\" font-size=\"14.00\">Blood pressure noise</text>\n",
       "</g>\n",
       "<!-- Blood pressure noise&#45;&gt;Blood pressure -->\n",
       "<g id=\"edge65\" class=\"edge\"><title>Blood pressure noise&#45;&gt;Blood pressure</title>\n",
       "<path fill=\"none\" stroke=\"black\" d=\"M1480.96,-288.055C1473.91,-279.543 1465.23,-269.068 1457.45,-259.681\"/>\n",
       "<polygon fill=\"black\" stroke=\"black\" points=\"1459.99,-257.256 1450.91,-251.789 1454.6,-261.722 1459.99,-257.256\"/>\n",
       "</g>\n",
       "<!-- Inflamation noise -->\n",
       "<g id=\"node28\" class=\"node\"><title>Inflamation noise</title>\n",
       "<ellipse fill=\"none\" stroke=\"black\" cx=\"1167\" cy=\"-306\" rx=\"73.387\" ry=\"18\"/>\n",
       "<text text-anchor=\"middle\" x=\"1167\" y=\"-302.3\" font-family=\"Times,serif\" font-size=\"14.00\">Inflamation noise</text>\n",
       "</g>\n",
       "<!-- Inflamation noise&#45;&gt;Inflamation -->\n",
       "<g id=\"edge69\" class=\"edge\"><title>Inflamation noise&#45;&gt;Inflamation</title>\n",
       "<path fill=\"none\" stroke=\"black\" d=\"M1167,-287.697C1167,-279.983 1167,-270.712 1167,-262.112\"/>\n",
       "<polygon fill=\"black\" stroke=\"black\" points=\"1170.5,-262.104 1167,-252.104 1163.5,-262.104 1170.5,-262.104\"/>\n",
       "</g>\n",
       "<!-- Serum Magnesium noise -->\n",
       "<g id=\"node29\" class=\"node\"><title>Serum Magnesium noise</title>\n",
       "<ellipse fill=\"none\" stroke=\"black\" cx=\"166\" cy=\"-306\" rx=\"100.182\" ry=\"18\"/>\n",
       "<text text-anchor=\"middle\" x=\"166\" y=\"-302.3\" font-family=\"Times,serif\" font-size=\"14.00\">Serum Magnesium noise</text>\n",
       "</g>\n",
       "<!-- Serum Magnesium noise&#45;&gt;Serum Magnesium -->\n",
       "<g id=\"edge70\" class=\"edge\"><title>Serum Magnesium noise&#45;&gt;Serum Magnesium</title>\n",
       "<path fill=\"none\" stroke=\"black\" d=\"M203.254,-289.291C227.943,-278.88 260.486,-265.157 286.676,-254.113\"/>\n",
       "<polygon fill=\"black\" stroke=\"black\" points=\"288.157,-257.287 296.011,-250.176 285.437,-250.837 288.157,-257.287\"/>\n",
       "</g>\n",
       "<!-- Serum Cholesterol noise -->\n",
       "<g id=\"node30\" class=\"node\"><title>Serum Cholesterol noise</title>\n",
       "<ellipse fill=\"none\" stroke=\"black\" cx=\"496\" cy=\"-306\" rx=\"98.2828\" ry=\"18\"/>\n",
       "<text text-anchor=\"middle\" x=\"496\" y=\"-302.3\" font-family=\"Times,serif\" font-size=\"14.00\">Serum Cholesterol noise</text>\n",
       "</g>\n",
       "<!-- Serum Cholesterol noise&#45;&gt;Serum Cholesterol -->\n",
       "<g id=\"edge71\" class=\"edge\"><title>Serum Cholesterol noise&#45;&gt;Serum Cholesterol</title>\n",
       "<path fill=\"none\" stroke=\"black\" d=\"M532.805,-289.291C557.281,-278.844 589.569,-265.062 615.489,-253.999\"/>\n",
       "<polygon fill=\"black\" stroke=\"black\" points=\"616.901,-257.201 624.724,-250.057 614.153,-250.763 616.901,-257.201\"/>\n",
       "</g>\n",
       "<!-- BMI noise -->\n",
       "<g id=\"node31\" class=\"node\"><title>BMI noise</title>\n",
       "<ellipse fill=\"none\" stroke=\"black\" cx=\"775\" cy=\"-306\" rx=\"48.9926\" ry=\"18\"/>\n",
       "<text text-anchor=\"middle\" x=\"775\" y=\"-302.3\" font-family=\"Times,serif\" font-size=\"14.00\">BMI noise</text>\n",
       "</g>\n",
       "<!-- BMI noise&#45;&gt;BMI -->\n",
       "<g id=\"edge72\" class=\"edge\"><title>BMI noise&#45;&gt;BMI</title>\n",
       "<path fill=\"none\" stroke=\"black\" d=\"M799.108,-290.326C817.302,-279.251 842.323,-264.021 861.507,-252.343\"/>\n",
       "<polygon fill=\"black\" stroke=\"black\" points=\"863.41,-255.282 870.133,-247.093 859.771,-249.303 863.41,-255.282\"/>\n",
       "</g>\n",
       "<!-- Red blood cells noise -->\n",
       "<g id=\"node32\" class=\"node\"><title>Red blood cells noise</title>\n",
       "<ellipse fill=\"none\" stroke=\"black\" cx=\"2093\" cy=\"-306\" rx=\"87.1846\" ry=\"18\"/>\n",
       "<text text-anchor=\"middle\" x=\"2093\" y=\"-302.3\" font-family=\"Times,serif\" font-size=\"14.00\">Red blood cells noise</text>\n",
       "</g>\n",
       "<!-- Red blood cells noise&#45;&gt;Red blood cells -->\n",
       "<g id=\"edge73\" class=\"edge\"><title>Red blood cells noise&#45;&gt;Red blood cells</title>\n",
       "<path fill=\"none\" stroke=\"black\" d=\"M2052.24,-289.983C2022.2,-278.916 1981.28,-263.839 1949.88,-252.272\"/>\n",
       "<polygon fill=\"black\" stroke=\"black\" points=\"1951.06,-248.977 1940.47,-248.804 1948.64,-255.545 1951.06,-248.977\"/>\n",
       "</g>\n",
       "</g>\n",
       "</svg>\n"
      ],
      "text/plain": [
       "<graphviz.files.Source at 0x7f1aa4efa290>"
      ]
     },
     "metadata": {},
     "output_type": "display_data"
    }
   ],
   "source": [
    "cf_c.graph.draw()"
   ]
  },
  {
   "cell_type": "code",
   "execution_count": 16,
   "metadata": {},
   "outputs": [
    {
     "data": {
      "image/svg+xml": [
       "<?xml version=\"1.0\" encoding=\"UTF-8\" standalone=\"no\"?>\n",
       "<!DOCTYPE svg PUBLIC \"-//W3C//DTD SVG 1.1//EN\"\n",
       " \"http://www.w3.org/Graphics/SVG/1.1/DTD/svg11.dtd\">\n",
       "<!-- Generated by graphviz version 2.38.0 (20140413.2041)\n",
       " -->\n",
       "<!-- Title: %3 Pages: 1 -->\n",
       "<svg width=\"649pt\" height=\"455pt\"\n",
       " viewBox=\"0.00 0.00 648.54 455.00\" xmlns=\"http://www.w3.org/2000/svg\" xmlns:xlink=\"http://www.w3.org/1999/xlink\">\n",
       "<g id=\"graph0\" class=\"graph\" transform=\"scale(1 1) rotate(0) translate(4 451)\">\n",
       "<title>%3</title>\n",
       "<polygon fill=\"white\" stroke=\"none\" points=\"-4,4 -4,-451 644.544,-451 644.544,4 -4,4\"/>\n",
       "<!-- Blood pressure -->\n",
       "<g id=\"node1\" class=\"node\"><title>Blood pressure</title>\n",
       "<ellipse fill=\"none\" stroke=\"black\" cx=\"178.544\" cy=\"-321\" rx=\"63.8893\" ry=\"18\"/>\n",
       "<text text-anchor=\"middle\" x=\"178.544\" y=\"-317.3\" font-family=\"Times,serif\" font-size=\"14.00\">Blood pressure</text>\n",
       "</g>\n",
       "<!-- Systolic BP -->\n",
       "<g id=\"node2\" class=\"node\"><title>Systolic BP</title>\n",
       "<ellipse fill=\"none\" stroke=\"black\" cx=\"350.544\" cy=\"-213\" rx=\"51.9908\" ry=\"18\"/>\n",
       "<text text-anchor=\"middle\" x=\"350.544\" y=\"-209.3\" font-family=\"Times,serif\" font-size=\"14.00\">Systolic BP</text>\n",
       "</g>\n",
       "<!-- Blood pressure&#45;&gt;Systolic BP -->\n",
       "<g id=\"edge1\" class=\"edge\"><title>Blood pressure&#45;&gt;Systolic BP</title>\n",
       "<path fill=\"none\" stroke=\"#ff0051\" stroke-width=\"0.949252\" d=\"M203.923,-304.359C233.989,-285.83 284.169,-254.905 317.31,-234.482\"/>\n",
       "<polygon fill=\"#ff0051\" stroke=\"#ff0051\" stroke-width=\"0.949252\" points=\"319.497,-237.245 326.174,-229.018 315.825,-231.285 319.497,-237.245\"/>\n",
       "<text text-anchor=\"middle\" x=\"339.044\" y=\"-263.3\" font-family=\"Times,serif\" font-size=\"14.00\" fill=\"#ff0051\">(0.12, 0.14, 0.16)</text>\n",
       "</g>\n",
       "<!-- Pulse pressure -->\n",
       "<g id=\"node3\" class=\"node\"><title>Pulse pressure</title>\n",
       "<ellipse fill=\"none\" stroke=\"black\" cx=\"416.544\" cy=\"-105\" rx=\"61.99\" ry=\"18\"/>\n",
       "<text text-anchor=\"middle\" x=\"416.544\" y=\"-101.3\" font-family=\"Times,serif\" font-size=\"14.00\">Pulse pressure</text>\n",
       "</g>\n",
       "<!-- Systolic BP&#45;&gt;Pulse pressure -->\n",
       "<g id=\"edge2\" class=\"edge\"><title>Systolic BP&#45;&gt;Pulse pressure</title>\n",
       "<path fill=\"none\" stroke=\"#ff0051\" stroke-width=\"0.245891\" d=\"M309.64,-201.73C279.497,-193.749 242.994,-183.052 238.544,-177 229.066,-164.109 228.26,-153.257 238.544,-141 253.338,-123.367 317.974,-127.513 340.544,-123 346.721,-121.765 353.168,-120.416 359.58,-119.036\"/>\n",
       "<polygon fill=\"#ff0051\" stroke=\"#ff0051\" stroke-width=\"0.245891\" points=\"360.562,-122.404 369.586,-116.853 359.07,-115.565 360.562,-122.404\"/>\n",
       "<text text-anchor=\"middle\" x=\"287.044\" y=\"-155.3\" font-family=\"Times,serif\" font-size=\"14.00\" fill=\"#ff0051\">(0.02, 0.03, 0.04)</text>\n",
       "</g>\n",
       "<!-- predicted hazard -->\n",
       "<g id=\"node4\" class=\"node\"><title>predicted hazard</title>\n",
       "<ellipse fill=\"none\" stroke=\"black\" cx=\"69.5438\" cy=\"-18\" rx=\"69.5877\" ry=\"18\"/>\n",
       "<text text-anchor=\"middle\" x=\"69.5438\" y=\"-14.3\" font-family=\"Times,serif\" font-size=\"14.00\">predicted hazard</text>\n",
       "</g>\n",
       "<!-- Systolic BP&#45;&gt;predicted hazard -->\n",
       "<g id=\"edge3\" class=\"edge\"><title>Systolic BP&#45;&gt;predicted hazard</title>\n",
       "<path fill=\"none\" stroke=\"#ff0051\" stroke-width=\"0.753361\" d=\"M355.92,-195.088C362.07,-178.607 373.787,-154.163 392.544,-141 427.719,-116.314 460.131,-156.095 487.544,-123 497.75,-110.678 496.899,-99.9799 487.544,-87 448.982,-33.4983 259.191,-21.5882 149.064,-19.2508\"/>\n",
       "<polygon fill=\"#ff0051\" stroke=\"#ff0051\" stroke-width=\"0.753361\" points=\"149.055,-15.7501 138.99,-19.0589 148.922,-22.7488 149.055,-15.7501\"/>\n",
       "<text text-anchor=\"middle\" x=\"543.044\" y=\"-101.3\" font-family=\"Times,serif\" font-size=\"14.00\" fill=\"#ff0051\">(0.10, 0.11, 0.12)</text>\n",
       "</g>\n",
       "<!-- Pulse pressure&#45;&gt;predicted hazard -->\n",
       "<g id=\"edge4\" class=\"edge\"><title>Pulse pressure&#45;&gt;predicted hazard</title>\n",
       "<path fill=\"none\" stroke=\"#ff0051\" stroke-width=\"0.213942\" d=\"M373.847,-91.8899C336.245,-81.3763 279.933,-65.9992 230.544,-54 198.204,-46.143 162.005,-38.1983 132.134,-31.8686\"/>\n",
       "<polygon fill=\"#ff0051\" stroke=\"#ff0051\" stroke-width=\"0.213942\" points=\"132.768,-28.4254 122.261,-29.7863 131.324,-35.2748 132.768,-28.4254\"/>\n",
       "<text text-anchor=\"middle\" x=\"336.044\" y=\"-57.8\" font-family=\"Times,serif\" font-size=\"14.00\" fill=\"#ff0051\">(0.02, 0.03, 0.03)</text>\n",
       "</g>\n",
       "<!-- Sex -->\n",
       "<g id=\"node5\" class=\"node\"><title>Sex</title>\n",
       "<polygon fill=\"none\" stroke=\"black\" points=\"91.5438,-393 37.5438,-393 37.5438,-357 91.5438,-357 91.5438,-393\"/>\n",
       "<text text-anchor=\"middle\" x=\"64.5438\" y=\"-371.3\" font-family=\"Times,serif\" font-size=\"14.00\">Sex</text>\n",
       "</g>\n",
       "<!-- Sex&#45;&gt;predicted hazard -->\n",
       "<g id=\"edge5\" class=\"edge\"><title>Sex&#45;&gt;predicted hazard</title>\n",
       "<path fill=\"none\" stroke=\"#008bfb\" stroke-width=\"1.09032\" d=\"M57.626,-356.825C40.4604,-311.728 -0.723082,-186.557 27.5438,-87 31.9049,-71.6401 40.8313,-56.3496 49.3377,-44.1694\"/>\n",
       "<polygon fill=\"#008bfb\" stroke=\"#008bfb\" stroke-width=\"1.09032\" points=\"52.3113,-46.0323 55.3862,-35.8935 46.6598,-41.9019 52.3113,-46.0323\"/>\n",
       "<text text-anchor=\"middle\" x=\"78.5438\" y=\"-209.3\" font-family=\"Times,serif\" font-size=\"14.00\" fill=\"#008bfb\">(&#45;0.21, &#45;0.16, &#45;0.12)</text>\n",
       "</g>\n",
       "<!-- Sedimentation rate -->\n",
       "<g id=\"node6\" class=\"node\"><title>Sedimentation rate</title>\n",
       "<ellipse fill=\"none\" stroke=\"black\" cx=\"113.544\" cy=\"-105\" rx=\"77.1866\" ry=\"18\"/>\n",
       "<text text-anchor=\"middle\" x=\"113.544\" y=\"-101.3\" font-family=\"Times,serif\" font-size=\"14.00\">Sedimentation rate</text>\n",
       "</g>\n",
       "<!-- Sedimentation rate&#45;&gt;predicted hazard -->\n",
       "<g id=\"edge6\" class=\"edge\"><title>Sedimentation rate&#45;&gt;predicted hazard</title>\n",
       "<path fill=\"none\" stroke=\"#ff0051\" stroke-width=\"0.291275\" d=\"M104.64,-86.799C98.3965,-74.7381 89.9409,-58.4034 82.8938,-44.7896\"/>\n",
       "<polygon fill=\"#ff0051\" stroke=\"#ff0051\" stroke-width=\"0.291275\" points=\"85.9899,-43.1571 78.2845,-35.8854 79.7734,-46.3751 85.9899,-43.1571\"/>\n",
       "<text text-anchor=\"middle\" x=\"143.044\" y=\"-57.8\" font-family=\"Times,serif\" font-size=\"14.00\" fill=\"#ff0051\">(0.03, 0.04, 0.05)</text>\n",
       "</g>\n",
       "<!-- Inflamation -->\n",
       "<g id=\"node7\" class=\"node\"><title>Inflamation</title>\n",
       "<ellipse fill=\"none\" stroke=\"black\" cx=\"156.544\" cy=\"-267\" rx=\"51.9908\" ry=\"18\"/>\n",
       "<text text-anchor=\"middle\" x=\"156.544\" y=\"-263.3\" font-family=\"Times,serif\" font-size=\"14.00\">Inflamation</text>\n",
       "</g>\n",
       "<!-- Inflamation&#45;&gt;Sedimentation rate -->\n",
       "<g id=\"edge7\" class=\"edge\"><title>Inflamation&#45;&gt;Sedimentation rate</title>\n",
       "<path fill=\"none\" stroke=\"#ff0051\" stroke-width=\"0.291275\" d=\"M160.395,-248.828C162.862,-233.082 163.654,-209.998 151.544,-195 133.518,-172.676 106.774,-199.944 89.5438,-177 79.5146,-163.645 85.5765,-145.833 94.1146,-131.39\"/>\n",
       "<polygon fill=\"#ff0051\" stroke=\"#ff0051\" stroke-width=\"0.291275\" points=\"97.1154,-133.196 99.6291,-122.904 91.2457,-129.382 97.1154,-133.196\"/>\n",
       "<text text-anchor=\"middle\" x=\"211.044\" y=\"-209.3\" font-family=\"Times,serif\" font-size=\"14.00\" fill=\"#ff0051\">(0.03, 0.04, 0.05)</text>\n",
       "</g>\n",
       "<!-- Poverty index -->\n",
       "<g id=\"node8\" class=\"node\"><title>Poverty index</title>\n",
       "<ellipse fill=\"none\" stroke=\"black\" cx=\"152.544\" cy=\"-159\" rx=\"59.5901\" ry=\"18\"/>\n",
       "<text text-anchor=\"middle\" x=\"152.544\" y=\"-155.3\" font-family=\"Times,serif\" font-size=\"14.00\">Poverty index</text>\n",
       "</g>\n",
       "<!-- Poverty index&#45;&gt;predicted hazard -->\n",
       "<g id=\"edge8\" class=\"edge\"><title>Poverty index&#45;&gt;predicted hazard</title>\n",
       "<path fill=\"none\" stroke=\"#008bfb\" stroke-width=\"0.226218\" d=\"M181.51,-142.901C188.717,-137.637 195.526,-131.001 199.544,-123 213.328,-95.5483 215.572,-77.2907 195.544,-54 182.938,-39.3414 164.777,-30.5621 146.151,-25.3728\"/>\n",
       "<polygon fill=\"#008bfb\" stroke=\"#008bfb\" stroke-width=\"0.226218\" points=\"146.942,-21.9631 136.395,-22.9742 145.271,-28.7606 146.942,-21.9631\"/>\n",
       "<text text-anchor=\"middle\" x=\"265.544\" y=\"-101.3\" font-family=\"Times,serif\" font-size=\"14.00\" fill=\"#008bfb\">(&#45;0.04, &#45;0.03, &#45;0.02)</text>\n",
       "</g>\n",
       "<!-- Age -->\n",
       "<g id=\"node9\" class=\"node\"><title>Age</title>\n",
       "<ellipse fill=\"none\" stroke=\"black\" cx=\"180.544\" cy=\"-429\" rx=\"27\" ry=\"18\"/>\n",
       "<text text-anchor=\"middle\" x=\"180.544\" y=\"-425.3\" font-family=\"Times,serif\" font-size=\"14.00\">Age</text>\n",
       "</g>\n",
       "<!-- Age&#45;&gt;Blood pressure -->\n",
       "<g id=\"edge9\" class=\"edge\"><title>Age&#45;&gt;Blood pressure</title>\n",
       "<path fill=\"none\" stroke=\"#ff0051\" stroke-width=\"0.203479\" d=\"M158.61,-418.306C148.41,-412.542 137.284,-404.155 131.544,-393 124.223,-378.773 124.364,-371.299 131.544,-357 134.055,-351.999 137.656,-347.532 141.764,-343.6\"/>\n",
       "<polygon fill=\"#ff0051\" stroke=\"#ff0051\" stroke-width=\"0.203479\" points=\"144.128,-346.185 149.577,-337.099 139.651,-340.804 144.128,-346.185\"/>\n",
       "<text text-anchor=\"middle\" x=\"180.044\" y=\"-371.3\" font-family=\"Times,serif\" font-size=\"14.00\" fill=\"#ff0051\">(0.02, 0.02, 0.03)</text>\n",
       "</g>\n",
       "<!-- Age&#45;&gt;predicted hazard -->\n",
       "<g id=\"edge10\" class=\"edge\"><title>Age&#45;&gt;predicted hazard</title>\n",
       "<path fill=\"none\" stroke=\"#ff0051\" stroke-width=\"5\" d=\"M201.382,-417.212C293.841,-368.687 659.669,-169.437 595.544,-87 568.449,-52.1677 286.974,-31.3713 147.292,-23.1221\"/>\n",
       "<polygon fill=\"#ff0051\" stroke=\"#ff0051\" stroke-width=\"5\" points=\"147.316,-18.7412 137.078,-22.5264 146.806,-27.4763 147.316,-18.7412\"/>\n",
       "<text text-anchor=\"middle\" x=\"592.044\" y=\"-209.3\" font-family=\"Times,serif\" font-size=\"14.00\" fill=\"#ff0051\">(0.59, 0.77, 0.96)</text>\n",
       "</g>\n",
       "</g>\n",
       "</svg>\n"
      ],
      "text/plain": [
       "<graphviz.files.Source at 0x7f1aa4ea29d0>"
      ]
     },
     "metadata": {},
     "output_type": "display_data"
    },
    {
     "data": {
      "text/plain": [
       "<AGraph <Swig Object of type 'Agraph_t *' at 0x7f1aa4e18120>>"
      ]
     },
     "execution_count": 16,
     "metadata": {},
     "output_type": "execute_result"
    }
   ],
   "source": [
    "cf_c.show_CI = True\n",
    "cf_c.draw(sample_ind, max_display=10, show_fg_val=False, edge_credit=edge_credits2edge_credit(causal_edge_credits, cf_c.graph))"
   ]
  },
  {
   "cell_type": "markdown",
   "metadata": {},
   "source": [
    "# Methods comparison: flow, independent, on-manifold, ASV"
   ]
  },
  {
   "cell_type": "code",
   "execution_count": 17,
   "metadata": {},
   "outputs": [
    {
     "data": {
      "image/svg+xml": [
       "<?xml version=\"1.0\" encoding=\"UTF-8\" standalone=\"no\"?>\n",
       "<!DOCTYPE svg PUBLIC \"-//W3C//DTD SVG 1.1//EN\"\n",
       " \"http://www.w3.org/Graphics/SVG/1.1/DTD/svg11.dtd\">\n",
       "<!-- Generated by graphviz version 2.38.0 (20140413.2041)\n",
       " -->\n",
       "<!-- Title: %3 Pages: 1 -->\n",
       "<svg width=\"888pt\" height=\"239pt\"\n",
       " viewBox=\"0.00 0.00 888.34 239.00\" xmlns=\"http://www.w3.org/2000/svg\" xmlns:xlink=\"http://www.w3.org/1999/xlink\">\n",
       "<g id=\"graph0\" class=\"graph\" transform=\"scale(1 1) rotate(0) translate(4 235)\">\n",
       "<title>%3</title>\n",
       "<polygon fill=\"white\" stroke=\"none\" points=\"-4,4 -4,-235 884.339,-235 884.339,4 -4,4\"/>\n",
       "<!-- Diastolic BP -->\n",
       "<g id=\"node1\" class=\"node\"><title>Diastolic BP</title>\n",
       "<ellipse fill=\"none\" stroke=\"black\" cx=\"505.995\" cy=\"-105\" rx=\"55.7903\" ry=\"18\"/>\n",
       "<text text-anchor=\"middle\" x=\"505.995\" y=\"-101.3\" font-family=\"Times,serif\" font-size=\"14.00\">Diastolic BP</text>\n",
       "</g>\n",
       "<!-- predicted hazard -->\n",
       "<g id=\"node2\" class=\"node\"><title>predicted hazard</title>\n",
       "<ellipse fill=\"none\" stroke=\"black\" cx=\"353.995\" cy=\"-18\" rx=\"69.5877\" ry=\"18\"/>\n",
       "<text text-anchor=\"middle\" x=\"353.995\" y=\"-14.3\" font-family=\"Times,serif\" font-size=\"14.00\">predicted hazard</text>\n",
       "</g>\n",
       "<!-- Diastolic BP&#45;&gt;predicted hazard -->\n",
       "<g id=\"edge1\" class=\"edge\"><title>Diastolic BP&#45;&gt;predicted hazard</title>\n",
       "<path fill=\"none\" stroke=\"#008bfb\" stroke-width=\"0.431589\" d=\"M488.226,-87.8638C475.902,-77.2566 458.751,-63.6129 441.995,-54 430.404,-47.3495 417.301,-41.3938 404.817,-36.3621\"/>\n",
       "<polygon fill=\"#008bfb\" stroke=\"#008bfb\" stroke-width=\"0.431589\" points=\"406.013,-33.0721 395.425,-32.6983 403.469,-39.5934 406.013,-33.0721\"/>\n",
       "<text text-anchor=\"middle\" x=\"519.995\" y=\"-57.8\" font-family=\"Times,serif\" font-size=\"14.00\" fill=\"#008bfb\">(&#45;0.03, &#45;0.02, &#45;0.00)</text>\n",
       "</g>\n",
       "<!-- Blood pressure -->\n",
       "<g id=\"node3\" class=\"node\"><title>Blood pressure</title>\n",
       "<ellipse fill=\"none\" stroke=\"black\" cx=\"125.995\" cy=\"-213\" rx=\"63.8893\" ry=\"18\"/>\n",
       "<text text-anchor=\"middle\" x=\"125.995\" y=\"-209.3\" font-family=\"Times,serif\" font-size=\"14.00\">Blood pressure</text>\n",
       "</g>\n",
       "<!-- Blood pressure&#45;&gt;Diastolic BP -->\n",
       "<g id=\"edge2\" class=\"edge\"><title>Blood pressure&#45;&gt;Diastolic BP</title>\n",
       "<path fill=\"none\" stroke=\"#008bfb\" stroke-width=\"0.361296\" d=\"M183.021,-204.895C260.501,-195.196 390.045,-178.803 394.995,-177 411.676,-170.926 448.929,-146.12 475.68,-127.528\"/>\n",
       "<polygon fill=\"#008bfb\" stroke=\"#008bfb\" stroke-width=\"0.361296\" points=\"477.766,-130.34 483.956,-121.742 473.755,-124.603 477.766,-130.34\"/>\n",
       "<text text-anchor=\"middle\" x=\"509.995\" y=\"-155.3\" font-family=\"Times,serif\" font-size=\"14.00\" fill=\"#008bfb\">(&#45;0.03, &#45;0.02, &#45;0.00)</text>\n",
       "</g>\n",
       "<!-- Systolic BP -->\n",
       "<g id=\"node4\" class=\"node\"><title>Systolic BP</title>\n",
       "<ellipse fill=\"none\" stroke=\"black\" cx=\"51.9954\" cy=\"-105\" rx=\"51.9908\" ry=\"18\"/>\n",
       "<text text-anchor=\"middle\" x=\"51.9954\" y=\"-101.3\" font-family=\"Times,serif\" font-size=\"14.00\">Systolic BP</text>\n",
       "</g>\n",
       "<!-- Blood pressure&#45;&gt;Systolic BP -->\n",
       "<g id=\"edge3\" class=\"edge\"><title>Blood pressure&#45;&gt;Systolic BP</title>\n",
       "<path fill=\"none\" stroke=\"#008bfb\" stroke-width=\"1.26593\" d=\"M105.716,-195.768C99.5583,-190.227 93.0834,-183.723 87.9954,-177 77.7269,-163.433 69.0087,-146.493 62.7247,-132.564\"/>\n",
       "<polygon fill=\"#008bfb\" stroke=\"#008bfb\" stroke-width=\"1.26593\" points=\"65.7846,-130.823 58.5918,-123.044 59.3636,-133.61 65.7846,-130.823\"/>\n",
       "<text text-anchor=\"middle\" x=\"142.995\" y=\"-155.3\" font-family=\"Times,serif\" font-size=\"14.00\" fill=\"#008bfb\">(&#45;0.08, &#45;0.06, &#45;0.04)</text>\n",
       "</g>\n",
       "<!-- Systolic BP&#45;&gt;predicted hazard -->\n",
       "<g id=\"edge4\" class=\"edge\"><title>Systolic BP&#45;&gt;predicted hazard</title>\n",
       "<path fill=\"none\" stroke=\"#008bfb\" stroke-width=\"0.967633\" d=\"M94.4729,-94.6033C105.991,-92.0933 118.464,-89.4096 129.995,-87 169.925,-78.6564 180.761,-80.1659 219.995,-69 250.49,-60.3213 283.901,-47.8611 309.733,-37.5507\"/>\n",
       "<polygon fill=\"#008bfb\" stroke=\"#008bfb\" stroke-width=\"0.967633\" points=\"311.275,-40.7029 319.24,-33.7168 308.657,-34.2109 311.275,-40.7029\"/>\n",
       "<text text-anchor=\"middle\" x=\"319.995\" y=\"-57.8\" font-family=\"Times,serif\" font-size=\"14.00\" fill=\"#008bfb\">(&#45;0.06, &#45;0.05, &#45;0.03)</text>\n",
       "</g>\n",
       "<!-- Pulse pressure -->\n",
       "<g id=\"node5\" class=\"node\"><title>Pulse pressure</title>\n",
       "<ellipse fill=\"none\" stroke=\"black\" cx=\"168.995\" cy=\"-18\" rx=\"61.99\" ry=\"18\"/>\n",
       "<text text-anchor=\"middle\" x=\"168.995\" y=\"-14.3\" font-family=\"Times,serif\" font-size=\"14.00\">Pulse pressure</text>\n",
       "</g>\n",
       "<!-- Systolic BP&#45;&gt;Pulse pressure -->\n",
       "<g id=\"edge5\" class=\"edge\"><title>Systolic BP&#45;&gt;Pulse pressure</title>\n",
       "<path fill=\"none\" stroke=\"#008bfb\" stroke-width=\"0.348293\" d=\"M69.1034,-87.843C80.3188,-77.6126 95.532,-64.4008 109.995,-54 117.015,-48.9523 124.797,-43.953 132.346,-39.3805\"/>\n",
       "<polygon fill=\"#008bfb\" stroke=\"#008bfb\" stroke-width=\"0.348293\" points=\"134.219,-42.3387 141.04,-34.2314 130.652,-36.3157 134.219,-42.3387\"/>\n",
       "<text text-anchor=\"middle\" x=\"164.995\" y=\"-57.8\" font-family=\"Times,serif\" font-size=\"14.00\" fill=\"#008bfb\">(&#45;0.02, &#45;0.01, &#45;0.01)</text>\n",
       "</g>\n",
       "<!-- Sex -->\n",
       "<g id=\"node6\" class=\"node\"><title>Sex</title>\n",
       "<polygon fill=\"none\" stroke=\"black\" points=\"260.995,-177 206.995,-177 206.995,-141 260.995,-141 260.995,-177\"/>\n",
       "<text text-anchor=\"middle\" x=\"233.995\" y=\"-155.3\" font-family=\"Times,serif\" font-size=\"14.00\">Sex</text>\n",
       "</g>\n",
       "<!-- Sex&#45;&gt;predicted hazard -->\n",
       "<g id=\"edge6\" class=\"edge\"><title>Sex&#45;&gt;predicted hazard</title>\n",
       "<path fill=\"none\" stroke=\"#008bfb\" stroke-width=\"2.39149\" d=\"M218.556,-140.964C206.272,-125.313 193.235,-102.294 206.995,-87 232.404,-58.7589 351.587,-97.2411 376.995,-69 383.418,-61.8613 381.253,-52.6218 376.254,-44.031\"/>\n",
       "<polygon fill=\"#008bfb\" stroke=\"#008bfb\" stroke-width=\"2.39149\" points=\"379.094,-41.985 370.522,-35.7584 373.34,-45.9716 379.094,-41.985\"/>\n",
       "<text text-anchor=\"middle\" x=\"261.995\" y=\"-101.3\" font-family=\"Times,serif\" font-size=\"14.00\" fill=\"#008bfb\">(&#45;0.15, &#45;0.12, &#45;0.08)</text>\n",
       "</g>\n",
       "<!-- Sedimentation rate -->\n",
       "<g id=\"node7\" class=\"node\"><title>Sedimentation rate</title>\n",
       "<ellipse fill=\"none\" stroke=\"black\" cx=\"802.995\" cy=\"-105\" rx=\"77.1866\" ry=\"18\"/>\n",
       "<text text-anchor=\"middle\" x=\"802.995\" y=\"-101.3\" font-family=\"Times,serif\" font-size=\"14.00\">Sedimentation rate</text>\n",
       "</g>\n",
       "<!-- Sedimentation rate&#45;&gt;predicted hazard -->\n",
       "<g id=\"edge7\" class=\"edge\"><title>Sedimentation rate&#45;&gt;predicted hazard</title>\n",
       "<path fill=\"none\" stroke=\"#008bfb\" stroke-width=\"0.302756\" d=\"M756.695,-90.4529C717.606,-79.4062 660.015,-64.0409 608.995,-54 548.161,-42.0274 478.362,-32.7514 427.187,-26.7661\"/>\n",
       "<polygon fill=\"#008bfb\" stroke=\"#008bfb\" stroke-width=\"0.302756\" points=\"427.544,-23.2841 417.208,-25.613 426.741,-30.2378 427.544,-23.2841\"/>\n",
       "<text text-anchor=\"middle\" x=\"727.995\" y=\"-57.8\" font-family=\"Times,serif\" font-size=\"14.00\" fill=\"#008bfb\">(&#45;0.02, &#45;0.01, &#45;0.01)</text>\n",
       "</g>\n",
       "<!-- Inflamation -->\n",
       "<g id=\"node8\" class=\"node\"><title>Inflamation</title>\n",
       "<ellipse fill=\"none\" stroke=\"black\" cx=\"532.995\" cy=\"-213\" rx=\"51.9908\" ry=\"18\"/>\n",
       "<text text-anchor=\"middle\" x=\"532.995\" y=\"-209.3\" font-family=\"Times,serif\" font-size=\"14.00\">Inflamation</text>\n",
       "</g>\n",
       "<!-- Inflamation&#45;&gt;Sedimentation rate -->\n",
       "<g id=\"edge8\" class=\"edge\"><title>Inflamation&#45;&gt;Sedimentation rate</title>\n",
       "<path fill=\"none\" stroke=\"#008bfb\" stroke-width=\"0.302756\" d=\"M566.103,-199.002C613.659,-180.332 701.548,-145.828 755.87,-124.501\"/>\n",
       "<polygon fill=\"#008bfb\" stroke=\"#008bfb\" stroke-width=\"0.302756\" points=\"757.246,-127.721 765.275,-120.809 754.688,-121.205 757.246,-127.721\"/>\n",
       "<text text-anchor=\"middle\" x=\"761.995\" y=\"-155.3\" font-family=\"Times,serif\" font-size=\"14.00\" fill=\"#008bfb\">(&#45;0.02, &#45;0.01, &#45;0.01)</text>\n",
       "</g>\n",
       "<!-- Poverty index -->\n",
       "<g id=\"node9\" class=\"node\"><title>Poverty index</title>\n",
       "<ellipse fill=\"none\" stroke=\"black\" cx=\"325.995\" cy=\"-159\" rx=\"59.5901\" ry=\"18\"/>\n",
       "<text text-anchor=\"middle\" x=\"325.995\" y=\"-155.3\" font-family=\"Times,serif\" font-size=\"14.00\">Poverty index</text>\n",
       "</g>\n",
       "<!-- Poverty index&#45;&gt;predicted hazard -->\n",
       "<g id=\"edge9\" class=\"edge\"><title>Poverty index&#45;&gt;predicted hazard</title>\n",
       "<path fill=\"none\" stroke=\"#008bfb\" stroke-width=\"0.780559\" d=\"M322.045,-141.008C319.434,-125.168 318.479,-101.823 330.995,-87 352.833,-61.1389 384.08,-95.6126 404.995,-69 413.088,-58.7026 405.821,-48.3907 394.491,-39.8293\"/>\n",
       "<polygon fill=\"#008bfb\" stroke=\"#008bfb\" stroke-width=\"0.780559\" points=\"396.386,-36.8861 386.137,-34.2035 392.476,-42.6923 396.386,-36.8861\"/>\n",
       "<text text-anchor=\"middle\" x=\"385.995\" y=\"-101.3\" font-family=\"Times,serif\" font-size=\"14.00\" fill=\"#008bfb\">(&#45;0.05, &#45;0.04, &#45;0.02)</text>\n",
       "</g>\n",
       "<!-- Age -->\n",
       "<g id=\"node10\" class=\"node\"><title>Age</title>\n",
       "<ellipse fill=\"none\" stroke=\"black\" cx=\"301.995\" cy=\"-213\" rx=\"27\" ry=\"18\"/>\n",
       "<text text-anchor=\"middle\" x=\"301.995\" y=\"-209.3\" font-family=\"Times,serif\" font-size=\"14.00\">Age</text>\n",
       "</g>\n",
       "<!-- Age&#45;&gt;predicted hazard -->\n",
       "<g id=\"edge10\" class=\"edge\"><title>Age&#45;&gt;predicted hazard</title>\n",
       "<path fill=\"none\" stroke=\"#008bfb\" stroke-width=\"5\" d=\"M328.574,-209.414C394.471,-202.882 560.687,-185.631 568.995,-177 607.034,-137.487 614.673,-95.6568 578.995,-54 560.316,-32.1902 490.377,-23.8625 433.373,-20.7387\"/>\n",
       "<polygon fill=\"#008bfb\" stroke=\"#008bfb\" stroke-width=\"5\" points=\"433.466,-16.363 423.259,-20.2305 433.027,-25.1019 433.466,-16.363\"/>\n",
       "<text text-anchor=\"middle\" x=\"657.995\" y=\"-101.3\" font-family=\"Times,serif\" font-size=\"14.00\" fill=\"#008bfb\">(&#45;0.43, &#45;0.25, &#45;0.06)</text>\n",
       "</g>\n",
       "</g>\n",
       "</svg>\n"
      ],
      "text/plain": [
       "<graphviz.files.Source at 0x7f1aa4c095d0>"
      ]
     },
     "metadata": {},
     "output_type": "display_data"
    }
   ],
   "source": [
    "sample_ind = 99\n",
    "cf_c.fold_noise = True # False\n",
    "cf_c.show_CI = True\n",
    "g = cf_c.draw(sample_ind, max_display=10, show_fg_val=False, edge_credit=edge_credits2edge_credit(causal_edge_credits, cf_c.graph))"
   ]
  },
  {
   "cell_type": "code",
   "execution_count": 18,
   "metadata": {},
   "outputs": [
    {
     "data": {
      "image/svg+xml": [
       "<?xml version=\"1.0\" encoding=\"UTF-8\" standalone=\"no\"?>\n",
       "<!DOCTYPE svg PUBLIC \"-//W3C//DTD SVG 1.1//EN\"\n",
       " \"http://www.w3.org/Graphics/SVG/1.1/DTD/svg11.dtd\">\n",
       "<!-- Generated by graphviz version 2.38.0 (20140413.2041)\n",
       " -->\n",
       "<!-- Title: %3 Pages: 1 -->\n",
       "<svg width=\"1325pt\" height=\"131pt\"\n",
       " viewBox=\"0.00 0.00 1325.34 131.00\" xmlns=\"http://www.w3.org/2000/svg\" xmlns:xlink=\"http://www.w3.org/1999/xlink\">\n",
       "<g id=\"graph0\" class=\"graph\" transform=\"scale(1 1) rotate(0) translate(4 127)\">\n",
       "<title>%3</title>\n",
       "<polygon fill=\"white\" stroke=\"none\" points=\"-4,4 -4,-127 1321.34,-127 1321.34,4 -4,4\"/>\n",
       "<!-- Sedimentation rate -->\n",
       "<g id=\"node1\" class=\"node\"><title>Sedimentation rate</title>\n",
       "<ellipse fill=\"none\" stroke=\"black\" cx=\"77.3431\" cy=\"-105\" rx=\"77.1866\" ry=\"18\"/>\n",
       "<text text-anchor=\"middle\" x=\"77.3431\" y=\"-101.3\" font-family=\"Times,serif\" font-size=\"14.00\">Sedimentation rate</text>\n",
       "</g>\n",
       "<!-- predicted hazard -->\n",
       "<g id=\"node2\" class=\"node\"><title>predicted hazard</title>\n",
       "<ellipse fill=\"none\" stroke=\"black\" cx=\"143.343\" cy=\"-18\" rx=\"69.5877\" ry=\"18\"/>\n",
       "<text text-anchor=\"middle\" x=\"143.343\" y=\"-14.3\" font-family=\"Times,serif\" font-size=\"14.00\">predicted hazard</text>\n",
       "</g>\n",
       "<!-- Sedimentation rate&#45;&gt;predicted hazard -->\n",
       "<g id=\"edge1\" class=\"edge\"><title>Sedimentation rate&#45;&gt;predicted hazard</title>\n",
       "<path fill=\"none\" stroke=\"#008bfb\" stroke-width=\"0.360393\" d=\"M71.5792,-86.5872C69.2936,-76.3769 68.4276,-63.6338 74.3431,-54 78.4944,-47.2394 84.403,-41.7354 91.037,-37.2679\"/>\n",
       "<polygon fill=\"#008bfb\" stroke=\"#008bfb\" stroke-width=\"0.360393\" points=\"92.9024,-40.2313 99.7503,-32.1469 89.3556,-34.1964 92.9024,-40.2313\"/>\n",
       "<text text-anchor=\"middle\" x=\"129.343\" y=\"-57.8\" font-family=\"Times,serif\" font-size=\"14.00\" fill=\"#008bfb\">(&#45;0.02, &#45;0.02, &#45;0.01)</text>\n",
       "</g>\n",
       "<!-- TS -->\n",
       "<g id=\"node3\" class=\"node\"><title>TS</title>\n",
       "<ellipse fill=\"none\" stroke=\"black\" cx=\"199.343\" cy=\"-105\" rx=\"27\" ry=\"18\"/>\n",
       "<text text-anchor=\"middle\" x=\"199.343\" y=\"-101.3\" font-family=\"Times,serif\" font-size=\"14.00\">TS</text>\n",
       "</g>\n",
       "<!-- TS&#45;&gt;predicted hazard -->\n",
       "<g id=\"edge2\" class=\"edge\"><title>TS&#45;&gt;predicted hazard</title>\n",
       "<path fill=\"none\" stroke=\"#ff0051\" stroke-width=\"0.192211\" d=\"M198.455,-86.6864C197.252,-76.5113 194.512,-63.7703 188.343,-54 185.51,-49.5121 181.889,-45.3687 177.935,-41.6223\"/>\n",
       "<polygon fill=\"#ff0051\" stroke=\"#ff0051\" stroke-width=\"0.192211\" points=\"179.928,-38.7236 170.039,-34.921 175.398,-44.0604 179.928,-38.7236\"/>\n",
       "<text text-anchor=\"middle\" x=\"243.843\" y=\"-57.8\" font-family=\"Times,serif\" font-size=\"14.00\" fill=\"#ff0051\">(0.00, 0.01, 0.01)</text>\n",
       "</g>\n",
       "<!-- Serum Iron -->\n",
       "<g id=\"node4\" class=\"node\"><title>Serum Iron</title>\n",
       "<ellipse fill=\"none\" stroke=\"black\" cx=\"295.343\" cy=\"-105\" rx=\"51.1914\" ry=\"18\"/>\n",
       "<text text-anchor=\"middle\" x=\"295.343\" y=\"-101.3\" font-family=\"Times,serif\" font-size=\"14.00\">Serum Iron</text>\n",
       "</g>\n",
       "<!-- Serum Iron&#45;&gt;predicted hazard -->\n",
       "<g id=\"edge3\" class=\"edge\"><title>Serum Iron&#45;&gt;predicted hazard</title>\n",
       "<path fill=\"none\" stroke=\"#ff0051\" stroke-width=\"0.248257\" d=\"M300.749,-86.9552C302.981,-76.3707 303.595,-63.0978 296.343,-54 285.986,-41.0063 250.772,-32.4494 216.735,-27.051\"/>\n",
       "<polygon fill=\"#ff0051\" stroke=\"#ff0051\" stroke-width=\"0.248257\" points=\"217.125,-23.5703 206.715,-25.5434 216.083,-30.4924 217.125,-23.5703\"/>\n",
       "<text text-anchor=\"middle\" x=\"350.843\" y=\"-57.8\" font-family=\"Times,serif\" font-size=\"14.00\" fill=\"#ff0051\">(0.01, 0.01, 0.01)</text>\n",
       "</g>\n",
       "<!-- White blood cells -->\n",
       "<g id=\"node5\" class=\"node\"><title>White blood cells</title>\n",
       "<ellipse fill=\"none\" stroke=\"black\" cx=\"439.343\" cy=\"-105\" rx=\"73.387\" ry=\"18\"/>\n",
       "<text text-anchor=\"middle\" x=\"439.343\" y=\"-101.3\" font-family=\"Times,serif\" font-size=\"14.00\">White blood cells</text>\n",
       "</g>\n",
       "<!-- White blood cells&#45;&gt;predicted hazard -->\n",
       "<g id=\"edge4\" class=\"edge\"><title>White blood cells&#45;&gt;predicted hazard</title>\n",
       "<path fill=\"none\" stroke=\"#008bfb\" stroke-width=\"0.303849\" d=\"M431.517,-86.7634C425.474,-75.5291 416.002,-61.5929 403.343,-54 373.498,-36.098 286.629,-27.0968 221.455,-22.7493\"/>\n",
       "<polygon fill=\"#008bfb\" stroke=\"#008bfb\" stroke-width=\"0.303849\" points=\"221.397,-19.2384 211.194,-22.0908 220.949,-26.2241 221.397,-19.2384\"/>\n",
       "<text text-anchor=\"middle\" x=\"475.343\" y=\"-57.8\" font-family=\"Times,serif\" font-size=\"14.00\" fill=\"#008bfb\">(&#45;0.02, &#45;0.01, &#45;0.01)</text>\n",
       "</g>\n",
       "<!-- Age -->\n",
       "<g id=\"node6\" class=\"node\"><title>Age</title>\n",
       "<ellipse fill=\"none\" stroke=\"black\" cx=\"559.343\" cy=\"-105\" rx=\"27\" ry=\"18\"/>\n",
       "<text text-anchor=\"middle\" x=\"559.343\" y=\"-101.3\" font-family=\"Times,serif\" font-size=\"14.00\">Age</text>\n",
       "</g>\n",
       "<!-- Age&#45;&gt;predicted hazard -->\n",
       "<g id=\"edge5\" class=\"edge\"><title>Age&#45;&gt;predicted hazard</title>\n",
       "<path fill=\"none\" stroke=\"#008bfb\" stroke-width=\"5\" d=\"M555.359,-86.7313C551.811,-75.4827 545.41,-61.5426 534.343,-54 509.178,-36.8497 328.557,-26.5864 221.82,-21.9534\"/>\n",
       "<polygon fill=\"#008bfb\" stroke=\"#008bfb\" stroke-width=\"5\" points=\"221.906,-17.5782 211.729,-21.5226 221.533,-26.3203 221.906,-17.5782\"/>\n",
       "<text text-anchor=\"middle\" x=\"602.343\" y=\"-57.8\" font-family=\"Times,serif\" font-size=\"14.00\" fill=\"#008bfb\">(&#45;0.44, &#45;0.26, &#45;0.07)</text>\n",
       "</g>\n",
       "<!-- Pulse pressure -->\n",
       "<g id=\"node7\" class=\"node\"><title>Pulse pressure</title>\n",
       "<ellipse fill=\"none\" stroke=\"black\" cx=\"670.343\" cy=\"-105\" rx=\"61.99\" ry=\"18\"/>\n",
       "<text text-anchor=\"middle\" x=\"670.343\" y=\"-101.3\" font-family=\"Times,serif\" font-size=\"14.00\">Pulse pressure</text>\n",
       "</g>\n",
       "<!-- Pulse pressure&#45;&gt;predicted hazard -->\n",
       "<g id=\"edge6\" class=\"edge\"><title>Pulse pressure&#45;&gt;predicted hazard</title>\n",
       "<path fill=\"none\" stroke=\"#008bfb\" stroke-width=\"0.263242\" d=\"M672.156,-86.6142C672.262,-75.6114 670.281,-62 661.343,-54 629.483,-25.483 360.263,-20.0115 223.057,-19.0894\"/>\n",
       "<polygon fill=\"#008bfb\" stroke=\"#008bfb\" stroke-width=\"0.263242\" points=\"223.032,-15.5892 213.011,-19.0284 222.989,-22.5891 223.032,-15.5892\"/>\n",
       "<text text-anchor=\"middle\" x=\"725.343\" y=\"-57.8\" font-family=\"Times,serif\" font-size=\"14.00\" fill=\"#008bfb\">(&#45;0.02, &#45;0.01, &#45;0.01)</text>\n",
       "</g>\n",
       "<!-- Systolic BP -->\n",
       "<g id=\"node8\" class=\"node\"><title>Systolic BP</title>\n",
       "<ellipse fill=\"none\" stroke=\"black\" cx=\"809.343\" cy=\"-105\" rx=\"51.9908\" ry=\"18\"/>\n",
       "<text text-anchor=\"middle\" x=\"809.343\" y=\"-101.3\" font-family=\"Times,serif\" font-size=\"14.00\">Systolic BP</text>\n",
       "</g>\n",
       "<!-- Systolic BP&#45;&gt;predicted hazard -->\n",
       "<g id=\"edge7\" class=\"edge\"><title>Systolic BP&#45;&gt;predicted hazard</title>\n",
       "<path fill=\"none\" stroke=\"#008bfb\" stroke-width=\"0.880345\" d=\"M805.442,-86.6081C801.93,-75.3045 795.54,-61.3492 784.343,-54 738.53,-23.929 384.752,-19.4051 223.262,-18.9231\"/>\n",
       "<polygon fill=\"#008bfb\" stroke=\"#008bfb\" stroke-width=\"0.880345\" points=\"222.917,-15.4223 212.908,-18.8969 222.899,-22.4223 222.917,-15.4223\"/>\n",
       "<text text-anchor=\"middle\" x=\"853.343\" y=\"-57.8\" font-family=\"Times,serif\" font-size=\"14.00\" fill=\"#008bfb\">(&#45;0.06, &#45;0.04, &#45;0.03)</text>\n",
       "</g>\n",
       "<!-- Poverty index -->\n",
       "<g id=\"node9\" class=\"node\"><title>Poverty index</title>\n",
       "<ellipse fill=\"none\" stroke=\"black\" cx=\"954.343\" cy=\"-105\" rx=\"59.5901\" ry=\"18\"/>\n",
       "<text text-anchor=\"middle\" x=\"954.343\" y=\"-101.3\" font-family=\"Times,serif\" font-size=\"14.00\">Poverty index</text>\n",
       "</g>\n",
       "<!-- Poverty index&#45;&gt;predicted hazard -->\n",
       "<g id=\"edge8\" class=\"edge\"><title>Poverty index&#45;&gt;predicted hazard</title>\n",
       "<path fill=\"none\" stroke=\"#008bfb\" stroke-width=\"0.796118\" d=\"M945.053,-86.835C937.8,-75.3238 926.573,-61.0291 912.343,-54 851.779,-24.0833 407.239,-19.5904 222.993,-19.0236\"/>\n",
       "<polygon fill=\"#008bfb\" stroke=\"#008bfb\" stroke-width=\"0.796118\" points=\"222.837,-15.5232 212.827,-18.9955 222.817,-22.5232 222.837,-15.5232\"/>\n",
       "<text text-anchor=\"middle\" x=\"986.343\" y=\"-57.8\" font-family=\"Times,serif\" font-size=\"14.00\" fill=\"#008bfb\">(&#45;0.05, &#45;0.04, &#45;0.02)</text>\n",
       "</g>\n",
       "<!-- Sex -->\n",
       "<g id=\"node10\" class=\"node\"><title>Sex</title>\n",
       "<polygon fill=\"none\" stroke=\"black\" points=\"1115.34,-123 1061.34,-123 1061.34,-87 1115.34,-87 1115.34,-123\"/>\n",
       "<text text-anchor=\"middle\" x=\"1088.34\" y=\"-101.3\" font-family=\"Times,serif\" font-size=\"14.00\">Sex</text>\n",
       "</g>\n",
       "<!-- Sex&#45;&gt;predicted hazard -->\n",
       "<g id=\"edge9\" class=\"edge\"><title>Sex&#45;&gt;predicted hazard</title>\n",
       "<path fill=\"none\" stroke=\"#008bfb\" stroke-width=\"2.0132\" d=\"M1078.75,-86.7967C1071.29,-75.2674 1059.78,-60.967 1045.34,-54 972.476,-18.8323 430.191,-17.6273 223.259,-18.4756\"/>\n",
       "<polygon fill=\"#008bfb\" stroke=\"#008bfb\" stroke-width=\"2.0132\" points=\"223.054,-14.9763 213.07,-18.5201 223.085,-21.9763 223.054,-14.9763\"/>\n",
       "<text text-anchor=\"middle\" x=\"1119.34\" y=\"-57.8\" font-family=\"Times,serif\" font-size=\"14.00\" fill=\"#008bfb\">(&#45;0.13, &#45;0.10, &#45;0.07)</text>\n",
       "</g>\n",
       "<!-- Diastolic BP -->\n",
       "<g id=\"node11\" class=\"node\"><title>Diastolic BP</title>\n",
       "<ellipse fill=\"none\" stroke=\"black\" cx=\"1247.34\" cy=\"-105\" rx=\"55.7903\" ry=\"18\"/>\n",
       "<text text-anchor=\"middle\" x=\"1247.34\" y=\"-101.3\" font-family=\"Times,serif\" font-size=\"14.00\">Diastolic BP</text>\n",
       "</g>\n",
       "<!-- Diastolic BP&#45;&gt;predicted hazard -->\n",
       "<g id=\"edge10\" class=\"edge\"><title>Diastolic BP&#45;&gt;predicted hazard</title>\n",
       "<path fill=\"none\" stroke=\"#008bfb\" stroke-width=\"0.475821\" d=\"M1230.85,-87.632C1217.81,-75.8682 1198.49,-60.9119 1178.34,-54 1089.1,-23.3893 450.407,-19.4458 223.266,-19.0182\"/>\n",
       "<polygon fill=\"#008bfb\" stroke=\"#008bfb\" stroke-width=\"0.475821\" points=\"223.094,-15.518 213.088,-19.0009 223.082,-22.518 223.094,-15.518\"/>\n",
       "<text text-anchor=\"middle\" x=\"1262.34\" y=\"-57.8\" font-family=\"Times,serif\" font-size=\"14.00\" fill=\"#008bfb\">(&#45;0.03, &#45;0.02, &#45;0.01)</text>\n",
       "</g>\n",
       "</g>\n",
       "</svg>\n"
      ],
      "text/plain": [
       "<graphviz.files.Source at 0x7f1aa4c302d0>"
      ]
     },
     "metadata": {},
     "output_type": "display_data"
    },
    {
     "data": {
      "text/plain": [
       "<AGraph <Swig Object of type 'Agraph_t *' at 0x7f1a12fa6e70>>"
      ]
     },
     "execution_count": 18,
     "metadata": {},
     "output_type": "execute_result"
    }
   ],
   "source": [
    "cf.show_CI = True\n",
    "cf.draw(sample_ind, max_display=10, show_fg_val=False, edge_credit=edge_credits2edge_credit(edge_credits, cf.graph))"
   ]
  },
  {
   "cell_type": "code",
   "execution_count": 19,
   "metadata": {},
   "outputs": [
    {
     "data": {
      "image/png": "[encoded data removed]",
      "text/plain": [
       "<Figure size 432x288 with 1 Axes>"
      ]
     },
     "metadata": {
      "needs_background": "light"
     },
     "output_type": "display_data"
    }
   ],
   "source": [
    "# cf_on_manifold.draw(sample_ind, max_display=10)\n",
    "sum(manifold_edge_credits).draw(sample_ind, show=False, max_display=10)"
   ]
  },
  {
   "cell_type": "code",
   "execution_count": 20,
   "metadata": {},
   "outputs": [
    {
     "data": {
      "image/svg+xml": [
       "<?xml version=\"1.0\" encoding=\"UTF-8\" standalone=\"no\"?>\n",
       "<!DOCTYPE svg PUBLIC \"-//W3C//DTD SVG 1.1//EN\"\n",
       " \"http://www.w3.org/Graphics/SVG/1.1/DTD/svg11.dtd\">\n",
       "<!-- Generated by graphviz version 2.38.0 (20140413.2041)\n",
       " -->\n",
       "<!-- Title: %3 Pages: 1 -->\n",
       "<svg width=\"1419pt\" height=\"131pt\"\n",
       " viewBox=\"0.00 0.00 1419.14 131.00\" xmlns=\"http://www.w3.org/2000/svg\" xmlns:xlink=\"http://www.w3.org/1999/xlink\">\n",
       "<g id=\"graph0\" class=\"graph\" transform=\"scale(1 1) rotate(0) translate(4 127)\">\n",
       "<title>%3</title>\n",
       "<polygon fill=\"white\" stroke=\"none\" points=\"-4,4 -4,-127 1415.14,-127 1415.14,4 -4,4\"/>\n",
       "<!-- Blood pressure noise -->\n",
       "<g id=\"node1\" class=\"node\"><title>Blood pressure noise</title>\n",
       "<ellipse fill=\"none\" stroke=\"black\" cx=\"85.1424\" cy=\"-105\" rx=\"85.2851\" ry=\"18\"/>\n",
       "<text text-anchor=\"middle\" x=\"85.1424\" y=\"-101.3\" font-family=\"Times,serif\" font-size=\"14.00\">Blood pressure noise</text>\n",
       "</g>\n",
       "<!-- predicted hazard -->\n",
       "<g id=\"node2\" class=\"node\"><title>predicted hazard</title>\n",
       "<ellipse fill=\"none\" stroke=\"black\" cx=\"151.142\" cy=\"-18\" rx=\"69.5877\" ry=\"18\"/>\n",
       "<text text-anchor=\"middle\" x=\"151.142\" y=\"-14.3\" font-family=\"Times,serif\" font-size=\"14.00\">predicted hazard</text>\n",
       "</g>\n",
       "<!-- Blood pressure noise&#45;&gt;predicted hazard -->\n",
       "<g id=\"edge1\" class=\"edge\"><title>Blood pressure noise&#45;&gt;predicted hazard</title>\n",
       "<path fill=\"none\" stroke=\"#008bfb\" stroke-width=\"1.43906\" d=\"M81.3543,-86.5857C80.0921,-76.3749 80.258,-63.6317 86.1424,-54 90.0013,-47.6838 95.4269,-42.4362 101.516,-38.0965\"/>\n",
       "<polygon fill=\"#008bfb\" stroke=\"#008bfb\" stroke-width=\"1.43906\" points=\"103.505,-40.9814 110.146,-32.7264 99.8063,-35.0381 103.505,-40.9814\"/>\n",
       "<text text-anchor=\"middle\" x=\"141.142\" y=\"-57.8\" font-family=\"Times,serif\" font-size=\"14.00\" fill=\"#008bfb\">(&#45;0.10, &#45;0.07, &#45;0.05)</text>\n",
       "</g>\n",
       "<!-- Serum Magnesium noise -->\n",
       "<g id=\"node3\" class=\"node\"><title>Serum Magnesium noise</title>\n",
       "<ellipse fill=\"none\" stroke=\"black\" cx=\"288.142\" cy=\"-105\" rx=\"100.182\" ry=\"18\"/>\n",
       "<text text-anchor=\"middle\" x=\"288.142\" y=\"-101.3\" font-family=\"Times,serif\" font-size=\"14.00\">Serum Magnesium noise</text>\n",
       "</g>\n",
       "<!-- Serum Magnesium noise&#45;&gt;predicted hazard -->\n",
       "<g id=\"edge2\" class=\"edge\"><title>Serum Magnesium noise&#45;&gt;predicted hazard</title>\n",
       "<path fill=\"none\" stroke=\"#ff0051\" stroke-width=\"0.116304\" d=\"M253.843,-87.9949C242.573,-82.3706 230.124,-75.7589 219.142,-69 205.686,-60.718 191.502,-50.5422 179.59,-41.5373\"/>\n",
       "<polygon fill=\"#ff0051\" stroke=\"#ff0051\" stroke-width=\"0.116304\" points=\"181.427,-38.5355 171.36,-35.2311 177.169,-44.0917 181.427,-38.5355\"/>\n",
       "<text text-anchor=\"middle\" x=\"269.642\" y=\"-57.8\" font-family=\"Times,serif\" font-size=\"14.00\" fill=\"#ff0051\">(&#45;0.00, 0.00, 0.01)</text>\n",
       "</g>\n",
       "<!-- BMI noise -->\n",
       "<g id=\"node4\" class=\"node\"><title>BMI noise</title>\n",
       "<ellipse fill=\"none\" stroke=\"black\" cx=\"455.142\" cy=\"-105\" rx=\"48.9926\" ry=\"18\"/>\n",
       "<text text-anchor=\"middle\" x=\"455.142\" y=\"-101.3\" font-family=\"Times,serif\" font-size=\"14.00\">BMI noise</text>\n",
       "</g>\n",
       "<!-- BMI noise&#45;&gt;predicted hazard -->\n",
       "<g id=\"edge3\" class=\"edge\"><title>BMI noise&#45;&gt;predicted hazard</title>\n",
       "<path fill=\"none\" stroke=\"#008bfb\" stroke-width=\"0.162641\" d=\"M418.521,-92.956C388.94,-83.951 351.115,-72.215 344.142,-69 332.72,-63.7332 331.817,-58.6821 320.142,-54 289.41,-41.6751 253.719,-33.4689 223.077,-28.1222\"/>\n",
       "<polygon fill=\"#008bfb\" stroke=\"#008bfb\" stroke-width=\"0.162641\" points=\"223.334,-24.6166 212.893,-26.4168 222.178,-31.5204 223.334,-24.6166\"/>\n",
       "<text text-anchor=\"middle\" x=\"399.142\" y=\"-57.8\" font-family=\"Times,serif\" font-size=\"14.00\" fill=\"#008bfb\">(&#45;0.01, &#45;0.01, &#45;0.00)</text>\n",
       "</g>\n",
       "<!-- Sex -->\n",
       "<g id=\"node5\" class=\"node\"><title>Sex</title>\n",
       "<polygon fill=\"none\" stroke=\"black\" points=\"576.142,-123 522.142,-123 522.142,-87 576.142,-87 576.142,-123\"/>\n",
       "<text text-anchor=\"middle\" x=\"549.142\" y=\"-101.3\" font-family=\"Times,serif\" font-size=\"14.00\">Sex</text>\n",
       "</g>\n",
       "<!-- Sex&#45;&gt;predicted hazard -->\n",
       "<g id=\"edge4\" class=\"edge\"><title>Sex&#45;&gt;predicted hazard</title>\n",
       "<path fill=\"none\" stroke=\"#008bfb\" stroke-width=\"2.23866\" d=\"M521.983,-90.9599C505.547,-83.001 486.246,-73.5147 478.142,-69 467.154,-62.8781 466.014,-58.1569 454.142,-54 381.352,-28.5131 293.315,-20.6977 230.938,-18.6959\"/>\n",
       "<polygon fill=\"#008bfb\" stroke=\"#008bfb\" stroke-width=\"2.23866\" points=\"230.86,-15.1924 220.766,-18.4135 230.665,-22.1897 230.86,-15.1924\"/>\n",
       "<text text-anchor=\"middle\" x=\"533.142\" y=\"-57.8\" font-family=\"Times,serif\" font-size=\"14.00\" fill=\"#008bfb\">(&#45;0.14, &#45;0.11, &#45;0.08)</text>\n",
       "</g>\n",
       "<!-- Poverty index noise -->\n",
       "<g id=\"node6\" class=\"node\"><title>Poverty index noise</title>\n",
       "<ellipse fill=\"none\" stroke=\"black\" cx=\"675.142\" cy=\"-105\" rx=\"81.4863\" ry=\"18\"/>\n",
       "<text text-anchor=\"middle\" x=\"675.142\" y=\"-101.3\" font-family=\"Times,serif\" font-size=\"14.00\">Poverty index noise</text>\n",
       "</g>\n",
       "<!-- Poverty index noise&#45;&gt;predicted hazard -->\n",
       "<g id=\"edge5\" class=\"edge\"><title>Poverty index noise&#45;&gt;predicted hazard</title>\n",
       "<path fill=\"none\" stroke=\"#008bfb\" stroke-width=\"0.587434\" d=\"M646.656,-88.1273C636.094,-82.1876 624.039,-75.3428 613.142,-69 601.944,-62.4811 600.482,-57.9549 588.142,-54 523.633,-33.3238 337.546,-24.4791 230.148,-21.009\"/>\n",
       "<polygon fill=\"#008bfb\" stroke=\"#008bfb\" stroke-width=\"0.587434\" points=\"230.112,-17.5063 220.007,-20.6898 229.891,-24.5028 230.112,-17.5063\"/>\n",
       "<text text-anchor=\"middle\" x=\"668.142\" y=\"-57.8\" font-family=\"Times,serif\" font-size=\"14.00\" fill=\"#008bfb\">(&#45;0.04, &#45;0.03, &#45;0.02)</text>\n",
       "</g>\n",
       "<!-- Iron noise -->\n",
       "<g id=\"node7\" class=\"node\"><title>Iron noise</title>\n",
       "<ellipse fill=\"none\" stroke=\"black\" cx=\"820.142\" cy=\"-105\" rx=\"46.2923\" ry=\"18\"/>\n",
       "<text text-anchor=\"middle\" x=\"820.142\" y=\"-101.3\" font-family=\"Times,serif\" font-size=\"14.00\">Iron noise</text>\n",
       "</g>\n",
       "<!-- Iron noise&#45;&gt;predicted hazard -->\n",
       "<g id=\"edge6\" class=\"edge\"><title>Iron noise&#45;&gt;predicted hazard</title>\n",
       "<path fill=\"none\" stroke=\"#ff0051\" stroke-width=\"0.430204\" d=\"M792.407,-90.4775C779.493,-84.0931 763.963,-76.2898 750.142,-69 738,-62.5956 736.32,-57.8478 723.142,-54 633.148,-27.7211 365.648,-21.1656 230.774,-19.5356\"/>\n",
       "<polygon fill=\"#ff0051\" stroke=\"#ff0051\" stroke-width=\"0.430204\" points=\"230.548,-16.0329 220.508,-19.418 230.468,-23.0325 230.548,-16.0329\"/>\n",
       "<text text-anchor=\"middle\" x=\"798.642\" y=\"-57.8\" font-family=\"Times,serif\" font-size=\"14.00\" fill=\"#ff0051\">(0.01, 0.02, 0.03)</text>\n",
       "</g>\n",
       "<!-- Inflamation noise -->\n",
       "<g id=\"node8\" class=\"node\"><title>Inflamation noise</title>\n",
       "<ellipse fill=\"none\" stroke=\"black\" cx=\"958.142\" cy=\"-105\" rx=\"73.387\" ry=\"18\"/>\n",
       "<text text-anchor=\"middle\" x=\"958.142\" y=\"-101.3\" font-family=\"Times,serif\" font-size=\"14.00\">Inflamation noise</text>\n",
       "</g>\n",
       "<!-- Inflamation noise&#45;&gt;predicted hazard -->\n",
       "<g id=\"edge7\" class=\"edge\"><title>Inflamation noise&#45;&gt;predicted hazard</title>\n",
       "<path fill=\"none\" stroke=\"#008bfb\" stroke-width=\"0.529806\" d=\"M923.361,-89.1272C909.27,-83.0123 892.876,-75.7848 878.142,-69 864.24,-62.598 861.971,-57.7935 847.142,-54 732.736,-24.732 388.096,-19.7488 230.879,-19.0324\"/>\n",
       "<polygon fill=\"#008bfb\" stroke=\"#008bfb\" stroke-width=\"0.529806\" points=\"230.813,-15.5322 220.799,-18.9912 230.784,-22.5322 230.813,-15.5322\"/>\n",
       "<text text-anchor=\"middle\" x=\"933.142\" y=\"-57.8\" font-family=\"Times,serif\" font-size=\"14.00\" fill=\"#008bfb\">(&#45;0.03, &#45;0.02, &#45;0.02)</text>\n",
       "</g>\n",
       "<!-- Race -->\n",
       "<g id=\"node9\" class=\"node\"><title>Race</title>\n",
       "<polygon fill=\"none\" stroke=\"black\" points=\"1103.14,-123 1049.14,-123 1049.14,-87 1103.14,-87 1103.14,-123\"/>\n",
       "<text text-anchor=\"middle\" x=\"1076.14\" y=\"-101.3\" font-family=\"Times,serif\" font-size=\"14.00\">Race</text>\n",
       "</g>\n",
       "<!-- Race&#45;&gt;predicted hazard -->\n",
       "<g id=\"edge8\" class=\"edge\"><title>Race&#45;&gt;predicted hazard</title>\n",
       "<path fill=\"none\" stroke=\"#008bfb\" stroke-width=\"0.206588\" d=\"M1053.24,-86.9297C1036.24,-75.3034 1011.96,-60.829 988.142,-54 916.678,-33.5087 425.434,-23.423 230.552,-20.1928\"/>\n",
       "<polygon fill=\"#008bfb\" stroke=\"#008bfb\" stroke-width=\"0.206588\" points=\"230.436,-16.6905 220.38,-20.026 230.321,-23.6896 230.436,-16.6905\"/>\n",
       "<text text-anchor=\"middle\" x=\"1079.14\" y=\"-57.8\" font-family=\"Times,serif\" font-size=\"14.00\" fill=\"#008bfb\">(&#45;0.01, &#45;0.01, &#45;0.00)</text>\n",
       "</g>\n",
       "<!-- Blood protein noise -->\n",
       "<g id=\"node10\" class=\"node\"><title>Blood protein noise</title>\n",
       "<ellipse fill=\"none\" stroke=\"black\" cx=\"1202.14\" cy=\"-105\" rx=\"80.6858\" ry=\"18\"/>\n",
       "<text text-anchor=\"middle\" x=\"1202.14\" y=\"-101.3\" font-family=\"Times,serif\" font-size=\"14.00\">Blood protein noise</text>\n",
       "</g>\n",
       "<!-- Blood protein noise&#45;&gt;predicted hazard -->\n",
       "<g id=\"edge9\" class=\"edge\"><title>Blood protein noise&#45;&gt;predicted hazard</title>\n",
       "<path fill=\"none\" stroke=\"#008bfb\" stroke-width=\"0.155766\" d=\"M1186.56,-87.162C1174.59,-75.4872 1156.96,-60.8528 1138.14,-54 1054.04,-23.3648 450.475,-19.4199 230.817,-19.0065\"/>\n",
       "<polygon fill=\"#008bfb\" stroke=\"#008bfb\" stroke-width=\"0.155766\" points=\"230.657,-15.5063 220.651,-18.9894 230.645,-22.5063 230.657,-15.5063\"/>\n",
       "<text text-anchor=\"middle\" x=\"1221.14\" y=\"-57.8\" font-family=\"Times,serif\" font-size=\"14.00\" fill=\"#008bfb\">(&#45;0.01, &#45;0.01, &#45;0.00)</text>\n",
       "</g>\n",
       "<!-- Age -->\n",
       "<g id=\"node11\" class=\"node\"><title>Age</title>\n",
       "<ellipse fill=\"none\" stroke=\"black\" cx=\"1328.14\" cy=\"-105\" rx=\"27\" ry=\"18\"/>\n",
       "<text text-anchor=\"middle\" x=\"1328.14\" y=\"-101.3\" font-family=\"Times,serif\" font-size=\"14.00\">Age</text>\n",
       "</g>\n",
       "<!-- Age&#45;&gt;predicted hazard -->\n",
       "<g id=\"edge10\" class=\"edge\"><title>Age&#45;&gt;predicted hazard</title>\n",
       "<path fill=\"none\" stroke=\"#008bfb\" stroke-width=\"5\" d=\"M1318.06,-88.1924C1309.55,-76.397 1296.2,-61.138 1280.14,-54 1232.34,-32.745 479.599,-22.6043 230.498,-19.8188\"/>\n",
       "<polygon fill=\"#008bfb\" stroke=\"#008bfb\" stroke-width=\"5\" points=\"230.481,-15.4434 220.433,-19.7072 230.384,-24.1929 230.481,-15.4434\"/>\n",
       "<text text-anchor=\"middle\" x=\"1356.14\" y=\"-57.8\" font-family=\"Times,serif\" font-size=\"14.00\" fill=\"#008bfb\">(&#45;0.44, &#45;0.26, &#45;0.07)</text>\n",
       "</g>\n",
       "</g>\n",
       "</svg>\n"
      ],
      "text/plain": [
       "<graphviz.files.Source at 0x7f1aa7427410>"
      ]
     },
     "metadata": {},
     "output_type": "display_data"
    }
   ],
   "source": [
    "cf_c.fold_noise = False\n",
    "cf_c.show_CI = True\n",
    "g = cf_c.draw_asv(sample_ind, max_display=10, show_fg_val=False, flow_credit=edge_credits2edge_credit(causal_edge_credits, cf_c.graph))"
   ]
  },
  {
   "cell_type": "markdown",
   "metadata": {},
   "source": [
    "# Investigate the background and foreground samples"
   ]
  },
  {
   "cell_type": "code",
   "execution_count": 21,
   "metadata": {},
   "outputs": [
    {
     "data": {
      "text/html": [
       "<div>\n",
       "<style scoped>\n",
       "    .dataframe tbody tr th:only-of-type {\n",
       "        vertical-align: middle;\n",
       "    }\n",
       "\n",
       "    .dataframe tbody tr th {\n",
       "        vertical-align: top;\n",
       "    }\n",
       "\n",
       "    .dataframe thead th {\n",
       "        text-align: right;\n",
       "    }\n",
       "</style>\n",
       "<table border=\"1\" class=\"dataframe\">\n",
       "  <thead>\n",
       "    <tr style=\"text-align: right;\">\n",
       "      <th></th>\n",
       "      <th>Age</th>\n",
       "      <th>Diastolic BP</th>\n",
       "      <th>Poverty index</th>\n",
       "      <th>Race</th>\n",
       "      <th>Red blood cells</th>\n",
       "      <th>Sedimentation rate</th>\n",
       "      <th>Serum Albumin</th>\n",
       "      <th>Serum Cholesterol</th>\n",
       "      <th>Serum Iron</th>\n",
       "      <th>Serum Magnesium</th>\n",
       "      <th>Serum Protein</th>\n",
       "      <th>Sex</th>\n",
       "      <th>Systolic BP</th>\n",
       "      <th>TIBC</th>\n",
       "      <th>TS</th>\n",
       "      <th>White blood cells</th>\n",
       "      <th>BMI</th>\n",
       "      <th>Pulse pressure</th>\n",
       "    </tr>\n",
       "  </thead>\n",
       "  <tbody>\n",
       "    <tr>\n",
       "      <th>mean background samples</th>\n",
       "      <td>50.84</td>\n",
       "      <td>82.87</td>\n",
       "      <td>334.88</td>\n",
       "      <td>1.11</td>\n",
       "      <td>56.761</td>\n",
       "      <td>17.0022</td>\n",
       "      <td>4.372</td>\n",
       "      <td>224.42</td>\n",
       "      <td>101.81</td>\n",
       "      <td>1.6936</td>\n",
       "      <td>7.116</td>\n",
       "      <td>1.64</td>\n",
       "      <td>134.92</td>\n",
       "      <td>366.71</td>\n",
       "      <td>28.069</td>\n",
       "      <td>7.42383</td>\n",
       "      <td>25.6405</td>\n",
       "      <td>52.05</td>\n",
       "    </tr>\n",
       "    <tr>\n",
       "      <th>foreground sample</th>\n",
       "      <td>51</td>\n",
       "      <td>74</td>\n",
       "      <td>824</td>\n",
       "      <td>1</td>\n",
       "      <td>77.7</td>\n",
       "      <td>9</td>\n",
       "      <td>4.3</td>\n",
       "      <td>267</td>\n",
       "      <td>63</td>\n",
       "      <td>1.61</td>\n",
       "      <td>6.8</td>\n",
       "      <td>Female</td>\n",
       "      <td>118</td>\n",
       "      <td>503</td>\n",
       "      <td>12.5</td>\n",
       "      <td>4.4</td>\n",
       "      <td>23.589</td>\n",
       "      <td>44</td>\n",
       "    </tr>\n",
       "  </tbody>\n",
       "</table>\n",
       "</div>"
      ],
      "text/plain": [
       "                           Age Diastolic BP Poverty index  Race  \\\n",
       "mean background samples  50.84        82.87        334.88  1.11   \n",
       "foreground sample           51           74           824     1   \n",
       "\n",
       "                        Red blood cells Sedimentation rate Serum Albumin  \\\n",
       "mean background samples          56.761            17.0022         4.372   \n",
       "foreground sample                  77.7                  9           4.3   \n",
       "\n",
       "                        Serum Cholesterol Serum Iron Serum Magnesium  \\\n",
       "mean background samples            224.42     101.81          1.6936   \n",
       "foreground sample                     267         63            1.61   \n",
       "\n",
       "                        Serum Protein     Sex Systolic BP    TIBC      TS  \\\n",
       "mean background samples         7.116    1.64      134.92  366.71  28.069   \n",
       "foreground sample                 6.8  Female         118     503    12.5   \n",
       "\n",
       "                        White blood cells      BMI Pulse pressure  \n",
       "mean background samples           7.42383  25.6405          52.05  \n",
       "foreground sample                     4.4   23.589             44  "
      ]
     },
     "execution_count": 21,
     "metadata": {},
     "output_type": "execute_result"
    }
   ],
   "source": [
    "pd.concat([bg.mean(0), X_display.iloc[sample_ind]], 1).rename(columns={0: \"mean background samples\", sample_ind: 'foreground sample'}).T"
   ]
  },
  {
   "cell_type": "code",
   "execution_count": 22,
   "metadata": {},
   "outputs": [
    {
     "data": {
      "image/png": "[encoded data removed]",
      "text/plain": [
       "<Figure size 432x288 with 1 Axes>"
      ]
     },
     "metadata": {
      "needs_background": "light"
     },
     "output_type": "display_data"
    }
   ],
   "source": [
    "o = f(np.array(fg))\n",
    "\n",
    "xlabel = 'Age'\n",
    "ylabel = 'Output'\n",
    "\n",
    "sns.regplot(fg[xlabel], o, x_bins=1, order=1, ci=None, label='regression line', color='y')\n",
    "plt.scatter(fg[xlabel], o, alpha=0.3, label='samples')\n",
    "plt.xlabel(xlabel, fontsize=15)\n",
    "plt.ylabel(ylabel, fontsize=15)\n",
    "plt.scatter(bg[xlabel].mean(), f(np.array(bg)).mean(), c=['red'], s=100, marker='s', label='background (mean)')\n",
    "plt.scatter(X[xlabel][[sample_ind]], o[[sample_ind]], c=['black'], s=100, marker='s', label='foreground')\n",
    "plt.legend(fontsize=15)\n",
    "plt.tight_layout()\n",
    "plt.show()"
   ]
  },
  {
   "cell_type": "markdown",
   "metadata": {},
   "source": [
    "Increasing the age, increases log hazard."
   ]
  },
  {
   "cell_type": "code",
   "execution_count": 23,
   "metadata": {},
   "outputs": [
    {
     "data": {
      "image/png": "[encoded data removed]",
      "text/plain": [
       "<Figure size 432x288 with 1 Axes>"
      ]
     },
     "metadata": {
      "needs_background": "light"
     },
     "output_type": "display_data"
    }
   ],
   "source": [
    "o = f(np.array(fg))\n",
    "\n",
    "def normalize(o): # normalize to 0-1\n",
    "    return (o - o.min()) / (o.max() - o.min())\n",
    "\n",
    "ylabel = 'Age'\n",
    "xlabel = 'Systolic BP' #'Serum Magnesium'\n",
    "\n",
    "plt.scatter(fg[xlabel], fg[ylabel],\n",
    "            alpha=0.3, label='samples')\n",
    "sns.regplot(fg[xlabel], fg[ylabel], x_bins=1, order=1, ci=None, label='regression line', color='y')\n",
    "plt.xlabel(xlabel, fontsize=15)\n",
    "plt.ylabel(ylabel, fontsize=15)\n",
    "\n",
    "plt.scatter(bg[xlabel].mean(), bg[ylabel].mean(), c=['red'], s=100, marker='s', label='background (mean)')\n",
    "plt.scatter(X[xlabel][[sample_ind]], X[ylabel][[sample_ind]], c=['black'], s=100, marker='s', label='foreground')\n",
    "plt.legend(fontsize=15, loc=\"upper left\")\n",
    "\n",
    "plt.tight_layout()\n",
    "# plt.savefig(f'figures/manifold_multiple_explain_age_{xlabel}_{sample_ind}.png')\n",
    "plt.show()"
   ]
  },
  {
   "cell_type": "markdown",
   "metadata": {},
   "source": [
    "Updating Systolic BP before Age would cause the expeted age to decrease, thus greating inflating the risk of Age for this sample"
   ]
  }
 ],
 "metadata": {
  "kernelspec": {
   "display_name": "Python 3",
   "language": "python",
   "name": "python3"
  },
  "language_info": {
   "codemirror_mode": {
    "name": "ipython",
    "version": 3
   },
   "file_extension": ".py",
   "mimetype": "text/x-python",
   "name": "python",
   "nbconvert_exporter": "python",
   "pygments_lexer": "ipython3",
   "version": "3.7.7"
  }
 },
 "nbformat": 4,
 "nbformat_minor": 4
}
