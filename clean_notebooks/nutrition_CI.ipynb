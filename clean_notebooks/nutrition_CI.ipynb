{
 "cells": [
  {
   "cell_type": "markdown",
   "metadata": {},
   "source": [
    "# Nutrition dataset case study with multiple background samples showing confidence interval"
   ]
  },
  {
   "cell_type": "code",
   "execution_count": 2,
   "metadata": {},
   "outputs": [],
   "source": [
    "# limit the number of threads used by xgboost models\n",
    "import os\n",
    "os.environ[\"OMP_NUM_THREADS\"] = \"8\" # export OMP_NUM_THREADS=8                                                                                                               \n",
    "os.environ[\"OPENBLAS_NUM_THREADS\"] = \"8\" # export OPENBLAS_NUM_THREADS=8                                                                                                     \n",
    "os.environ[\"MKL_NUM_THREADS\"] = \"8\" # export MKL_NUM_THREADS=8                                                                                                               \n",
    "os.environ[\"VECLIB_MAXIMUM_THREADS\"] = \"8\" # export VECLIB_MAXIMUM_THREADS=8                                                                                                 \n",
    "os.environ[\"NUMEXPR_NUM_THREADS\"] = \"8\" # export NUMEXPR_NUM_THREADS=8         \n",
    "\n",
    "# standard libaries\n",
    "import sys\n",
    "import copy\n",
    "import dill\n",
    "from collections import defaultdict\n",
    "import numpy as np\n",
    "import pandas as pd\n",
    "import xgboost\n",
    "from sklearn.model_selection import train_test_split\n",
    "import matplotlib.pyplot as plt\n",
    "import seaborn as sns\n",
    "import shap\n",
    "\n",
    "# flow specific packages\n",
    "if '../' not in sys.path:\n",
    "    sys.path = ['../'] + sys.path\n",
    "from flow import Node, CreditFlow, Graph, get_source_nodes, topo_sort, flatten_graph, eval_graph, boundary_graph, single_source_graph, viz_graph, save_graph, hcluster_graph\n",
    "from flow import ParallelCreditFlow, GraphExplainer, translator\n",
    "from flow import group_nodes, build_feature_graph\n",
    "from flow import CausalLinks, create_xgboost_f\n",
    "from flow import edge_credits2edge_credit\n",
    "from on_manifold import OnManifoldExplainer, IndExplainer"
   ]
  },
  {
   "cell_type": "markdown",
   "metadata": {},
   "source": [
    "# Dataset"
   ]
  },
  {
   "cell_type": "code",
   "execution_count": 3,
   "metadata": {},
   "outputs": [
    {
     "name": "stdout",
     "output_type": "stream",
     "text": [
      "(9932, 18) (9932, 18)\n"
     ]
    },
    {
     "data": {
      "text/html": [
       "<div>\n",
       "<style scoped>\n",
       "    .dataframe tbody tr th:only-of-type {\n",
       "        vertical-align: middle;\n",
       "    }\n",
       "\n",
       "    .dataframe tbody tr th {\n",
       "        vertical-align: top;\n",
       "    }\n",
       "\n",
       "    .dataframe thead th {\n",
       "        text-align: right;\n",
       "    }\n",
       "</style>\n",
       "<table border=\"1\" class=\"dataframe\">\n",
       "  <thead>\n",
       "    <tr style=\"text-align: right;\">\n",
       "      <th></th>\n",
       "      <th>Age</th>\n",
       "      <th>Diastolic BP</th>\n",
       "      <th>Poverty index</th>\n",
       "      <th>Race</th>\n",
       "      <th>Red blood cells</th>\n",
       "      <th>Sedimentation rate</th>\n",
       "      <th>Serum Albumin</th>\n",
       "      <th>Serum Cholesterol</th>\n",
       "      <th>Serum Iron</th>\n",
       "      <th>Serum Magnesium</th>\n",
       "      <th>Serum Protein</th>\n",
       "      <th>Sex</th>\n",
       "      <th>Systolic BP</th>\n",
       "      <th>TIBC</th>\n",
       "      <th>TS</th>\n",
       "      <th>White blood cells</th>\n",
       "      <th>BMI</th>\n",
       "      <th>Pulse pressure</th>\n",
       "    </tr>\n",
       "  </thead>\n",
       "  <tbody>\n",
       "    <tr>\n",
       "      <th>0</th>\n",
       "      <td>35.0</td>\n",
       "      <td>92.0</td>\n",
       "      <td>126.0</td>\n",
       "      <td>2.0</td>\n",
       "      <td>77.7</td>\n",
       "      <td>12.0</td>\n",
       "      <td>5.0</td>\n",
       "      <td>165.0</td>\n",
       "      <td>135.0</td>\n",
       "      <td>1.37</td>\n",
       "      <td>7.6</td>\n",
       "      <td>2.0</td>\n",
       "      <td>142.0</td>\n",
       "      <td>323.0</td>\n",
       "      <td>41.8</td>\n",
       "      <td>5.8</td>\n",
       "      <td>31.109434</td>\n",
       "      <td>50.0</td>\n",
       "    </tr>\n",
       "    <tr>\n",
       "      <th>1</th>\n",
       "      <td>71.0</td>\n",
       "      <td>78.0</td>\n",
       "      <td>210.0</td>\n",
       "      <td>2.0</td>\n",
       "      <td>77.7</td>\n",
       "      <td>37.0</td>\n",
       "      <td>4.0</td>\n",
       "      <td>298.0</td>\n",
       "      <td>89.0</td>\n",
       "      <td>1.38</td>\n",
       "      <td>6.4</td>\n",
       "      <td>2.0</td>\n",
       "      <td>156.0</td>\n",
       "      <td>331.0</td>\n",
       "      <td>26.9</td>\n",
       "      <td>5.3</td>\n",
       "      <td>32.362572</td>\n",
       "      <td>78.0</td>\n",
       "    </tr>\n",
       "    <tr>\n",
       "      <th>2</th>\n",
       "      <td>74.0</td>\n",
       "      <td>86.0</td>\n",
       "      <td>999.0</td>\n",
       "      <td>2.0</td>\n",
       "      <td>77.7</td>\n",
       "      <td>31.0</td>\n",
       "      <td>3.8</td>\n",
       "      <td>222.0</td>\n",
       "      <td>115.0</td>\n",
       "      <td>1.37</td>\n",
       "      <td>7.4</td>\n",
       "      <td>2.0</td>\n",
       "      <td>170.0</td>\n",
       "      <td>299.0</td>\n",
       "      <td>38.5</td>\n",
       "      <td>8.1</td>\n",
       "      <td>25.388497</td>\n",
       "      <td>84.0</td>\n",
       "    </tr>\n",
       "    <tr>\n",
       "      <th>3</th>\n",
       "      <td>64.0</td>\n",
       "      <td>92.0</td>\n",
       "      <td>385.0</td>\n",
       "      <td>1.0</td>\n",
       "      <td>77.7</td>\n",
       "      <td>30.0</td>\n",
       "      <td>4.3</td>\n",
       "      <td>265.0</td>\n",
       "      <td>94.0</td>\n",
       "      <td>1.97</td>\n",
       "      <td>7.3</td>\n",
       "      <td>2.0</td>\n",
       "      <td>172.0</td>\n",
       "      <td>349.0</td>\n",
       "      <td>26.9</td>\n",
       "      <td>6.7</td>\n",
       "      <td>26.446610</td>\n",
       "      <td>80.0</td>\n",
       "    </tr>\n",
       "    <tr>\n",
       "      <th>4</th>\n",
       "      <td>32.0</td>\n",
       "      <td>70.0</td>\n",
       "      <td>183.0</td>\n",
       "      <td>2.0</td>\n",
       "      <td>77.7</td>\n",
       "      <td>18.0</td>\n",
       "      <td>5.0</td>\n",
       "      <td>203.0</td>\n",
       "      <td>192.0</td>\n",
       "      <td>1.35</td>\n",
       "      <td>7.3</td>\n",
       "      <td>1.0</td>\n",
       "      <td>128.0</td>\n",
       "      <td>386.0</td>\n",
       "      <td>49.7</td>\n",
       "      <td>8.1</td>\n",
       "      <td>20.354684</td>\n",
       "      <td>58.0</td>\n",
       "    </tr>\n",
       "  </tbody>\n",
       "</table>\n",
       "</div>"
      ],
      "text/plain": [
       "    Age  Diastolic BP  Poverty index  Race  Red blood cells  \\\n",
       "0  35.0          92.0          126.0   2.0             77.7   \n",
       "1  71.0          78.0          210.0   2.0             77.7   \n",
       "2  74.0          86.0          999.0   2.0             77.7   \n",
       "3  64.0          92.0          385.0   1.0             77.7   \n",
       "4  32.0          70.0          183.0   2.0             77.7   \n",
       "\n",
       "   Sedimentation rate  Serum Albumin  Serum Cholesterol  Serum Iron  \\\n",
       "0                12.0            5.0              165.0       135.0   \n",
       "1                37.0            4.0              298.0        89.0   \n",
       "2                31.0            3.8              222.0       115.0   \n",
       "3                30.0            4.3              265.0        94.0   \n",
       "4                18.0            5.0              203.0       192.0   \n",
       "\n",
       "   Serum Magnesium  Serum Protein  Sex  Systolic BP   TIBC    TS  \\\n",
       "0             1.37            7.6  2.0        142.0  323.0  41.8   \n",
       "1             1.38            6.4  2.0        156.0  331.0  26.9   \n",
       "2             1.37            7.4  2.0        170.0  299.0  38.5   \n",
       "3             1.97            7.3  2.0        172.0  349.0  26.9   \n",
       "4             1.35            7.3  1.0        128.0  386.0  49.7   \n",
       "\n",
       "   White blood cells        BMI  Pulse pressure  \n",
       "0                5.8  31.109434            50.0  \n",
       "1                5.3  32.362572            78.0  \n",
       "2                8.1  25.388497            84.0  \n",
       "3                6.7  26.446610            80.0  \n",
       "4                8.1  20.354684            58.0  "
      ]
     },
     "execution_count": 3,
     "metadata": {},
     "output_type": "execute_result"
    }
   ],
   "source": [
    "X,y = shap.datasets.nhanesi()\n",
    "X_display,y_display = shap.datasets.nhanesi(display=True) # human readable feature values\n",
    "# remove the first column: unnamed: 0\n",
    "X = X.iloc[:, 1:]\n",
    "X_display = X_display.iloc[:, 1:]\n",
    "\n",
    "xgb_full = xgboost.DMatrix(X, label=y)\n",
    "\n",
    "# create a train/test split\n",
    "X_train, X_test, y_train, y_test = train_test_split(X, y, test_size=0.2, random_state=7)\n",
    "xgb_train = xgboost.DMatrix(X_train, label=y_train)\n",
    "xgb_test = xgboost.DMatrix(X_test, label=y_test)\n",
    "\n",
    "print(X.shape, X_display.shape)\n",
    "X.head()"
   ]
  },
  {
   "cell_type": "markdown",
   "metadata": {},
   "source": [
    "# Explaination Settings"
   ]
  },
  {
   "cell_type": "code",
   "execution_count": 4,
   "metadata": {},
   "outputs": [],
   "source": [
    "n_bg = 100 # paper: 100, number of sampled background samples\n",
    "nsamples = 100 # number of fg samples to explain\n",
    "nruns = 1 # paper: 10,000, number of monte carlo samplings\n",
    "bg = X.fillna(X.mean()).sample(n_bg) # background samples\n",
    "sample_ind = 3 # sample to show"
   ]
  },
  {
   "cell_type": "markdown",
   "metadata": {},
   "source": [
    "# Training"
   ]
  },
  {
   "cell_type": "code",
   "execution_count": 5,
   "metadata": {},
   "outputs": [
    {
     "name": "stdout",
     "output_type": "stream",
     "text": [
      "[0]\ttest-cox-nloglik:7.26934\n",
      "[100]\ttest-cox-nloglik:7.04554\n",
      "[200]\ttest-cox-nloglik:6.90625\n",
      "[300]\ttest-cox-nloglik:6.80909\n",
      "[400]\ttest-cox-nloglik:6.73926\n",
      "[500]\ttest-cox-nloglik:6.68686\n",
      "[600]\ttest-cox-nloglik:6.64699\n",
      "[700]\ttest-cox-nloglik:6.61571\n",
      "[800]\ttest-cox-nloglik:6.59138\n",
      "[900]\ttest-cox-nloglik:6.57148\n",
      "[999]\ttest-cox-nloglik:6.55579\n"
     ]
    }
   ],
   "source": [
    "# use validation set to choose # of trees\n",
    "params = {\n",
    "    \"eta\": 0.002,\n",
    "    \"max_depth\": 3,\n",
    "    \"objective\": \"survival:cox\",\n",
    "    \"subsample\": 0.5\n",
    "}\n",
    "model_train = xgboost.train(params, xgb_train, 1000, evals = [(xgb_test, \"test\")], verbose_eval=100)\n",
    "\n",
    "# workaround from https://github.com/slundberg/shap/issues/1215\n",
    "mybooster = model_train\n",
    "\n",
    "model_bytearray = mybooster.save_raw()[4:]\n",
    "def myfun(self=None):\n",
    "    return model_bytearray\n",
    "mybooster.save_raw = myfun"
   ]
  },
  {
   "cell_type": "code",
   "execution_count": 6,
   "metadata": {},
   "outputs": [
    {
     "name": "stdout",
     "output_type": "stream",
     "text": [
      "[0]\ttest-cox-nloglik:8.88081\n",
      "[999]\ttest-cox-nloglik:8.16748\n"
     ]
    }
   ],
   "source": [
    "# train final model on the full data set\n",
    "params = {\n",
    "    \"eta\": 0.002,\n",
    "    \"max_depth\": 3, \n",
    "    \"objective\": \"survival:cox\",\n",
    "    \"subsample\": 0.5\n",
    "}\n",
    "model = xgboost.train(params, xgb_full, 1000, evals = [(xgb_full, \"test\")], verbose_eval=1000)\n",
    "\n",
    "# workaround from https://github.com/slundberg/shap/issues/1215\n",
    "mybooster = model\n",
    "\n",
    "model_bytearray = mybooster.save_raw()[4:]\n",
    "def myfun(self=None):\n",
    "    return model_bytearray\n",
    "mybooster.save_raw = myfun"
   ]
  },
  {
   "cell_type": "code",
   "execution_count": 7,
   "metadata": {},
   "outputs": [
    {
     "data": {
      "text/plain": [
       "0.8289463410825477"
      ]
     },
     "execution_count": 7,
     "metadata": {},
     "output_type": "execute_result"
    }
   ],
   "source": [
    "def c_statistic_harrell(pred, labels):\n",
    "    total = 0\n",
    "    matches = 0\n",
    "    for i in range(len(labels)):\n",
    "        for j in range(len(labels)):\n",
    "            if labels[j] > 0 and abs(labels[i]) > labels[j]:\n",
    "                total += 1\n",
    "                if pred[j] > pred[i]:\n",
    "                    matches += 1\n",
    "    return matches/total\n",
    "\n",
    "# see how well we can order people by survival\n",
    "c_statistic_harrell(model_train.predict(xgb_test, ntree_limit=5000), y_test)"
   ]
  },
  {
   "cell_type": "markdown",
   "metadata": {},
   "source": [
    "# Ind Shap"
   ]
  },
  {
   "cell_type": "code",
   "execution_count": 8,
   "metadata": {},
   "outputs": [
    {
     "name": "stderr",
     "output_type": "stream",
     "text": [
      "0it [00:00, ?it/s]\n"
     ]
    },
    {
     "data": {
      "image/svg+xml": [
       "<?xml version=\"1.0\" encoding=\"UTF-8\" standalone=\"no\"?>\n",
       "<!DOCTYPE svg PUBLIC \"-//W3C//DTD SVG 1.1//EN\"\n",
       " \"http://www.w3.org/Graphics/SVG/1.1/DTD/svg11.dtd\">\n",
       "<!-- Generated by graphviz version 2.38.0 (20140413.2041)\n",
       " -->\n",
       "<!-- Title: %3 Pages: 1 -->\n",
       "<svg width=\"2220pt\" height=\"116pt\"\n",
       " viewBox=\"0.00 0.00 2219.74 116.00\" xmlns=\"http://www.w3.org/2000/svg\" xmlns:xlink=\"http://www.w3.org/1999/xlink\">\n",
       "<g id=\"graph0\" class=\"graph\" transform=\"scale(1 1) rotate(0) translate(4 112)\">\n",
       "<title>%3</title>\n",
       "<polygon fill=\"white\" stroke=\"none\" points=\"-4,4 -4,-112 2215.74,-112 2215.74,4 -4,4\"/>\n",
       "<!-- predicted hazard -->\n",
       "<g id=\"node1\" class=\"node\"><title>predicted hazard</title>\n",
       "<ellipse fill=\"none\" stroke=\"black\" cx=\"1190\" cy=\"-18\" rx=\"69.5877\" ry=\"18\"/>\n",
       "<text text-anchor=\"middle\" x=\"1190\" y=\"-14.3\" font-family=\"Times,serif\" font-size=\"14.00\">predicted hazard</text>\n",
       "</g>\n",
       "<!-- Age -->\n",
       "<g id=\"node2\" class=\"node\"><title>Age</title>\n",
       "<ellipse fill=\"none\" stroke=\"black\" cx=\"27\" cy=\"-90\" rx=\"27\" ry=\"18\"/>\n",
       "<text text-anchor=\"middle\" x=\"27\" y=\"-86.3\" font-family=\"Times,serif\" font-size=\"14.00\">Age</text>\n",
       "</g>\n",
       "<!-- Age&#45;&gt;predicted hazard -->\n",
       "<g id=\"edge1\" class=\"edge\"><title>Age&#45;&gt;predicted hazard</title>\n",
       "<path fill=\"none\" stroke=\"black\" d=\"M47.0422,-77.8377C52.1067,-75.4976 57.6344,-73.3363 63,-72 261.56,-22.5483 886.702,-18.5132 1109.86,-18.7011\"/>\n",
       "<polygon fill=\"black\" stroke=\"black\" points=\"1110.17,-22.2013 1120.18,-18.713 1110.18,-15.2013 1110.17,-22.2013\"/>\n",
       "</g>\n",
       "<!-- Diastolic BP -->\n",
       "<g id=\"node3\" class=\"node\"><title>Diastolic BP</title>\n",
       "<ellipse fill=\"none\" stroke=\"black\" cx=\"128\" cy=\"-90\" rx=\"55.7903\" ry=\"18\"/>\n",
       "<text text-anchor=\"middle\" x=\"128\" y=\"-86.3\" font-family=\"Times,serif\" font-size=\"14.00\">Diastolic BP</text>\n",
       "</g>\n",
       "<!-- Diastolic BP&#45;&gt;predicted hazard -->\n",
       "<g id=\"edge2\" class=\"edge\"><title>Diastolic BP&#45;&gt;predicted hazard</title>\n",
       "<path fill=\"none\" stroke=\"black\" d=\"M167.607,-77.2802C175.93,-75.202 184.702,-73.292 193,-72 369.428,-44.5303 907.604,-26.9484 1111.01,-21.1304\"/>\n",
       "<polygon fill=\"black\" stroke=\"black\" points=\"1111.13,-24.6286 1121.02,-20.8458 1110.93,-17.6315 1111.13,-24.6286\"/>\n",
       "</g>\n",
       "<!-- Poverty index -->\n",
       "<g id=\"node4\" class=\"node\"><title>Poverty index</title>\n",
       "<ellipse fill=\"none\" stroke=\"black\" cx=\"262\" cy=\"-90\" rx=\"59.5901\" ry=\"18\"/>\n",
       "<text text-anchor=\"middle\" x=\"262\" y=\"-86.3\" font-family=\"Times,serif\" font-size=\"14.00\">Poverty index</text>\n",
       "</g>\n",
       "<!-- Poverty index&#45;&gt;predicted hazard -->\n",
       "<g id=\"edge3\" class=\"edge\"><title>Poverty index&#45;&gt;predicted hazard</title>\n",
       "<path fill=\"none\" stroke=\"black\" d=\"M304.196,-77.1775C312.683,-75.1608 321.582,-73.3004 330,-72 614.694,-28.0216 957.721,-20.2171 1110.22,-19.0493\"/>\n",
       "<polygon fill=\"black\" stroke=\"black\" points=\"1110.45,-22.5479 1120.42,-18.979 1110.4,-15.548 1110.45,-22.5479\"/>\n",
       "</g>\n",
       "<!-- Race -->\n",
       "<g id=\"node5\" class=\"node\"><title>Race</title>\n",
       "<ellipse fill=\"none\" stroke=\"black\" cx=\"368\" cy=\"-90\" rx=\"28.6953\" ry=\"18\"/>\n",
       "<text text-anchor=\"middle\" x=\"368\" y=\"-86.3\" font-family=\"Times,serif\" font-size=\"14.00\">Race</text>\n",
       "</g>\n",
       "<!-- Race&#45;&gt;predicted hazard -->\n",
       "<g id=\"edge4\" class=\"edge\"><title>Race&#45;&gt;predicted hazard</title>\n",
       "<path fill=\"none\" stroke=\"black\" d=\"M389.038,-77.7441C394.134,-75.4682 399.656,-73.3591 405,-72 536.838,-38.4691 938.733,-25.0314 1110.64,-20.7183\"/>\n",
       "<polygon fill=\"black\" stroke=\"black\" points=\"1110.97,-24.2112 1120.88,-20.4653 1110.8,-17.2133 1110.97,-24.2112\"/>\n",
       "</g>\n",
       "<!-- Red blood cells -->\n",
       "<g id=\"node6\" class=\"node\"><title>Red blood cells</title>\n",
       "<ellipse fill=\"none\" stroke=\"black\" cx=\"480\" cy=\"-90\" rx=\"65.7887\" ry=\"18\"/>\n",
       "<text text-anchor=\"middle\" x=\"480\" y=\"-86.3\" font-family=\"Times,serif\" font-size=\"14.00\">Red blood cells</text>\n",
       "</g>\n",
       "<!-- Red blood cells&#45;&gt;predicted hazard -->\n",
       "<g id=\"edge5\" class=\"edge\"><title>Red blood cells&#45;&gt;predicted hazard</title>\n",
       "<path fill=\"none\" stroke=\"black\" d=\"M527.017,-77.2879C536.25,-75.2873 545.895,-73.4048 555,-72 753.927,-41.3069 990.85,-27.4705 1111.27,-22.034\"/>\n",
       "<polygon fill=\"black\" stroke=\"black\" points=\"1111.67,-25.52 1121.5,-21.5798 1111.36,-18.5269 1111.67,-25.52\"/>\n",
       "</g>\n",
       "<!-- Sedimentation rate -->\n",
       "<g id=\"node7\" class=\"node\"><title>Sedimentation rate</title>\n",
       "<ellipse fill=\"none\" stroke=\"black\" cx=\"641\" cy=\"-90\" rx=\"77.1866\" ry=\"18\"/>\n",
       "<text text-anchor=\"middle\" x=\"641\" y=\"-86.3\" font-family=\"Times,serif\" font-size=\"14.00\">Sedimentation rate</text>\n",
       "</g>\n",
       "<!-- Sedimentation rate&#45;&gt;predicted hazard -->\n",
       "<g id=\"edge6\" class=\"edge\"><title>Sedimentation rate&#45;&gt;predicted hazard</title>\n",
       "<path fill=\"none\" stroke=\"black\" d=\"M696.58,-77.4634C706.995,-75.4938 717.81,-73.5775 728,-72 864.115,-50.9274 1023.99,-34.403 1115.51,-25.7235\"/>\n",
       "<polygon fill=\"black\" stroke=\"black\" points=\"1115.88,-29.204 1125.51,-24.7806 1115.23,-22.2349 1115.88,-29.204\"/>\n",
       "</g>\n",
       "<!-- Serum Albumin -->\n",
       "<g id=\"node8\" class=\"node\"><title>Serum Albumin</title>\n",
       "<ellipse fill=\"none\" stroke=\"black\" cx=\"805\" cy=\"-90\" rx=\"68.4888\" ry=\"18\"/>\n",
       "<text text-anchor=\"middle\" x=\"805\" y=\"-86.3\" font-family=\"Times,serif\" font-size=\"14.00\">Serum Albumin</text>\n",
       "</g>\n",
       "<!-- Serum Albumin&#45;&gt;predicted hazard -->\n",
       "<g id=\"edge7\" class=\"edge\"><title>Serum Albumin&#45;&gt;predicted hazard</title>\n",
       "<path fill=\"none\" stroke=\"black\" d=\"M855.284,-77.7032C864.489,-75.7312 874.022,-73.7525 883,-72 965.091,-55.976 1060.03,-39.9716 1122.34,-29.8102\"/>\n",
       "<polygon fill=\"black\" stroke=\"black\" points=\"1123.12,-33.2284 1132.43,-28.1685 1122,-26.3192 1123.12,-33.2284\"/>\n",
       "</g>\n",
       "<!-- Serum Cholesterol -->\n",
       "<g id=\"node9\" class=\"node\"><title>Serum Cholesterol</title>\n",
       "<ellipse fill=\"none\" stroke=\"black\" cx=\"969\" cy=\"-90\" rx=\"77.1866\" ry=\"18\"/>\n",
       "<text text-anchor=\"middle\" x=\"969\" y=\"-86.3\" font-family=\"Times,serif\" font-size=\"14.00\">Serum Cholesterol</text>\n",
       "</g>\n",
       "<!-- Serum Cholesterol&#45;&gt;predicted hazard -->\n",
       "<g id=\"edge8\" class=\"edge\"><title>Serum Cholesterol&#45;&gt;predicted hazard</title>\n",
       "<path fill=\"none\" stroke=\"black\" d=\"M1012.93,-75.0866C1048.86,-63.7038 1099.78,-47.577 1137.79,-35.5357\"/>\n",
       "<polygon fill=\"black\" stroke=\"black\" points=\"1139.18,-38.768 1147.66,-32.4118 1137.07,-32.0948 1139.18,-38.768\"/>\n",
       "</g>\n",
       "<!-- Serum Iron -->\n",
       "<g id=\"node10\" class=\"node\"><title>Serum Iron</title>\n",
       "<ellipse fill=\"none\" stroke=\"black\" cx=\"1116\" cy=\"-90\" rx=\"51.1914\" ry=\"18\"/>\n",
       "<text text-anchor=\"middle\" x=\"1116\" y=\"-86.3\" font-family=\"Times,serif\" font-size=\"14.00\">Serum Iron</text>\n",
       "</g>\n",
       "<!-- Serum Iron&#45;&gt;predicted hazard -->\n",
       "<g id=\"edge9\" class=\"edge\"><title>Serum Iron&#45;&gt;predicted hazard</title>\n",
       "<path fill=\"none\" stroke=\"black\" d=\"M1133.16,-72.7646C1142.65,-63.7947 1154.6,-52.4902 1165.09,-42.5643\"/>\n",
       "<polygon fill=\"black\" stroke=\"black\" points=\"1167.56,-45.0481 1172.42,-35.6334 1162.75,-39.9628 1167.56,-45.0481\"/>\n",
       "</g>\n",
       "<!-- Serum Magnesium -->\n",
       "<g id=\"node11\" class=\"node\"><title>Serum Magnesium</title>\n",
       "<ellipse fill=\"none\" stroke=\"black\" cx=\"1265\" cy=\"-90\" rx=\"79.0865\" ry=\"18\"/>\n",
       "<text text-anchor=\"middle\" x=\"1265\" y=\"-86.3\" font-family=\"Times,serif\" font-size=\"14.00\">Serum Magnesium</text>\n",
       "</g>\n",
       "<!-- Serum Magnesium&#45;&gt;predicted hazard -->\n",
       "<g id=\"edge10\" class=\"edge\"><title>Serum Magnesium&#45;&gt;predicted hazard</title>\n",
       "<path fill=\"none\" stroke=\"black\" d=\"M1247.23,-72.411C1237.61,-63.4318 1225.56,-52.1926 1215.01,-42.3436\"/>\n",
       "<polygon fill=\"black\" stroke=\"black\" points=\"1217.35,-39.7345 1207.65,-35.4699 1212.57,-44.8519 1217.35,-39.7345\"/>\n",
       "</g>\n",
       "<!-- Serum Protein -->\n",
       "<g id=\"node12\" class=\"node\"><title>Serum Protein</title>\n",
       "<ellipse fill=\"none\" stroke=\"black\" cx=\"1424\" cy=\"-90\" rx=\"61.99\" ry=\"18\"/>\n",
       "<text text-anchor=\"middle\" x=\"1424\" y=\"-86.3\" font-family=\"Times,serif\" font-size=\"14.00\">Serum Protein</text>\n",
       "</g>\n",
       "<!-- Serum Protein&#45;&gt;predicted hazard -->\n",
       "<g id=\"edge11\" class=\"edge\"><title>Serum Protein&#45;&gt;predicted hazard</title>\n",
       "<path fill=\"none\" stroke=\"black\" d=\"M1382.44,-76.5661C1343.77,-64.9999 1285.95,-47.7022 1243.78,-35.0882\"/>\n",
       "<polygon fill=\"black\" stroke=\"black\" points=\"1244.54,-31.6629 1233.96,-32.1501 1242.54,-38.3693 1244.54,-31.6629\"/>\n",
       "</g>\n",
       "<!-- Sex -->\n",
       "<g id=\"node13\" class=\"node\"><title>Sex</title>\n",
       "<ellipse fill=\"none\" stroke=\"black\" cx=\"1531\" cy=\"-90\" rx=\"27\" ry=\"18\"/>\n",
       "<text text-anchor=\"middle\" x=\"1531\" y=\"-86.3\" font-family=\"Times,serif\" font-size=\"14.00\">Sex</text>\n",
       "</g>\n",
       "<!-- Sex&#45;&gt;predicted hazard -->\n",
       "<g id=\"edge12\" class=\"edge\"><title>Sex&#45;&gt;predicted hazard</title>\n",
       "<path fill=\"none\" stroke=\"black\" d=\"M1510.44,-78.133C1505.49,-75.8411 1500.14,-73.6273 1495,-72 1418.31,-47.7208 1327.04,-33.7152 1264.46,-26.2692\"/>\n",
       "<polygon fill=\"black\" stroke=\"black\" points=\"1264.61,-22.7641 1254.28,-25.0859 1263.81,-29.7173 1264.61,-22.7641\"/>\n",
       "</g>\n",
       "<!-- Systolic BP -->\n",
       "<g id=\"node14\" class=\"node\"><title>Systolic BP</title>\n",
       "<ellipse fill=\"none\" stroke=\"black\" cx=\"1628\" cy=\"-90\" rx=\"51.9908\" ry=\"18\"/>\n",
       "<text text-anchor=\"middle\" x=\"1628\" y=\"-86.3\" font-family=\"Times,serif\" font-size=\"14.00\">Systolic BP</text>\n",
       "</g>\n",
       "<!-- Systolic BP&#45;&gt;predicted hazard -->\n",
       "<g id=\"edge13\" class=\"edge\"><title>Systolic BP&#45;&gt;predicted hazard</title>\n",
       "<path fill=\"none\" stroke=\"black\" d=\"M1590.12,-77.6078C1582.51,-75.5555 1574.53,-73.5721 1567,-72 1462.66,-50.2267 1340.18,-34.8539 1263.81,-26.4576\"/>\n",
       "<polygon fill=\"black\" stroke=\"black\" points=\"1264.13,-22.9717 1253.81,-25.3689 1263.37,-29.9306 1264.13,-22.9717\"/>\n",
       "</g>\n",
       "<!-- TIBC -->\n",
       "<g id=\"node15\" class=\"node\"><title>TIBC</title>\n",
       "<ellipse fill=\"none\" stroke=\"black\" cx=\"1729\" cy=\"-90\" rx=\"30.5947\" ry=\"18\"/>\n",
       "<text text-anchor=\"middle\" x=\"1729\" y=\"-86.3\" font-family=\"Times,serif\" font-size=\"14.00\">TIBC</text>\n",
       "</g>\n",
       "<!-- TIBC&#45;&gt;predicted hazard -->\n",
       "<g id=\"edge14\" class=\"edge\"><title>TIBC&#45;&gt;predicted hazard</title>\n",
       "<path fill=\"none\" stroke=\"black\" d=\"M1706.14,-77.9165C1700.64,-75.6336 1694.7,-73.478 1689,-72 1544.23,-34.4412 1369.22,-23.422 1269.64,-20.2378\"/>\n",
       "<polygon fill=\"black\" stroke=\"black\" points=\"1269.45,-16.7307 1259.35,-19.9283 1269.24,-23.7276 1269.45,-16.7307\"/>\n",
       "</g>\n",
       "<!-- TS -->\n",
       "<g id=\"node16\" class=\"node\"><title>TS</title>\n",
       "<ellipse fill=\"none\" stroke=\"black\" cx=\"1805\" cy=\"-90\" rx=\"27\" ry=\"18\"/>\n",
       "<text text-anchor=\"middle\" x=\"1805\" y=\"-86.3\" font-family=\"Times,serif\" font-size=\"14.00\">TS</text>\n",
       "</g>\n",
       "<!-- TS&#45;&gt;predicted hazard -->\n",
       "<g id=\"edge15\" class=\"edge\"><title>TS&#45;&gt;predicted hazard</title>\n",
       "<path fill=\"none\" stroke=\"black\" d=\"M1784.53,-77.8301C1779.58,-75.5507 1774.2,-73.4184 1769,-72 1676.7,-46.8288 1403.62,-29.8748 1268.1,-22.7702\"/>\n",
       "<polygon fill=\"black\" stroke=\"black\" points=\"1267.96,-19.2584 1257.79,-22.235 1267.6,-26.249 1267.96,-19.2584\"/>\n",
       "</g>\n",
       "<!-- White blood cells -->\n",
       "<g id=\"node17\" class=\"node\"><title>White blood cells</title>\n",
       "<ellipse fill=\"none\" stroke=\"black\" cx=\"1923\" cy=\"-90\" rx=\"73.387\" ry=\"18\"/>\n",
       "<text text-anchor=\"middle\" x=\"1923\" y=\"-86.3\" font-family=\"Times,serif\" font-size=\"14.00\">White blood cells</text>\n",
       "</g>\n",
       "<!-- White blood cells&#45;&gt;predicted hazard -->\n",
       "<g id=\"edge16\" class=\"edge\"><title>White blood cells&#45;&gt;predicted hazard</title>\n",
       "<path fill=\"none\" stroke=\"black\" d=\"M1871.12,-77.238C1861.16,-75.2664 1850.79,-73.4073 1841,-72 1635.49,-42.4456 1390.92,-28.055 1268.3,-22.2558\"/>\n",
       "<polygon fill=\"black\" stroke=\"black\" points=\"1268.41,-18.7569 1258.26,-21.787 1268.08,-25.7493 1268.41,-18.7569\"/>\n",
       "</g>\n",
       "<!-- BMI -->\n",
       "<g id=\"node18\" class=\"node\"><title>BMI</title>\n",
       "<ellipse fill=\"none\" stroke=\"black\" cx=\"2042\" cy=\"-90\" rx=\"27.8951\" ry=\"18\"/>\n",
       "<text text-anchor=\"middle\" x=\"2042\" y=\"-86.3\" font-family=\"Times,serif\" font-size=\"14.00\">BMI</text>\n",
       "</g>\n",
       "<!-- BMI&#45;&gt;predicted hazard -->\n",
       "<g id=\"edge17\" class=\"edge\"><title>BMI&#45;&gt;predicted hazard</title>\n",
       "<path fill=\"none\" stroke=\"black\" d=\"M2020.96,-77.7345C2015.87,-75.459 2010.35,-73.3525 2005,-72 1867.29,-37.1576 1445.91,-24.3892 1269.25,-20.4849\"/>\n",
       "<polygon fill=\"black\" stroke=\"black\" points=\"1269.31,-16.9856 1259.24,-20.2674 1269.16,-23.9839 1269.31,-16.9856\"/>\n",
       "</g>\n",
       "<!-- Pulse pressure -->\n",
       "<g id=\"node19\" class=\"node\"><title>Pulse pressure</title>\n",
       "<ellipse fill=\"none\" stroke=\"black\" cx=\"2150\" cy=\"-90\" rx=\"61.99\" ry=\"18\"/>\n",
       "<text text-anchor=\"middle\" x=\"2150\" y=\"-86.3\" font-family=\"Times,serif\" font-size=\"14.00\">Pulse pressure</text>\n",
       "</g>\n",
       "<!-- Pulse pressure&#45;&gt;predicted hazard -->\n",
       "<g id=\"edge18\" class=\"edge\"><title>Pulse pressure&#45;&gt;predicted hazard</title>\n",
       "<path fill=\"none\" stroke=\"black\" d=\"M2106.3,-77.2665C2097.33,-75.2163 2087.9,-73.3206 2079,-72 1782.98,-28.0842 1426.4,-20.2782 1270.05,-19.083\"/>\n",
       "<polygon fill=\"black\" stroke=\"black\" points=\"1269.61,-15.5801 1259.59,-19.0108 1269.56,-22.5799 1269.61,-15.5801\"/>\n",
       "</g>\n",
       "</g>\n",
       "</svg>\n"
      ],
      "text/plain": [
       "<graphviz.files.Source at 0x7f177a5fa290>"
      ]
     },
     "metadata": {},
     "output_type": "display_data"
    }
   ],
   "source": [
    "causal_links = CausalLinks()\n",
    "categorical_feature_names = ['Race', 'Sex']\n",
    "display_translator = translator(X.columns, X, X_display)\n",
    "target_name = 'predicted hazard'\n",
    "feature_names = list(X.columns)\n",
    "\n",
    "# build causal links\n",
    "causal_links.add_causes_effects(feature_names, target_name, create_xgboost_f(feature_names, model, output_margin=True)) # the target\n",
    "graph = build_feature_graph(X.fillna(X.mean()), causal_links, categorical_feature_names, display_translator, target_name)\n",
    "graph.draw()"
   ]
  },
  {
   "cell_type": "code",
   "execution_count": 9,
   "metadata": {
    "collapsed": true,
    "jupyter": {
     "outputs_hidden": true
    }
   },
   "outputs": [
    {
     "name": "stderr",
     "output_type": "stream",
     "text": [
      "bruteforce sampling: 100%|██████████| 1/1 [00:00<00:00, 10.54it/s]\n",
      "bruteforce sampling:   0%|          | 0/1 [00:00<?, ?it/s]"
     ]
    },
    {
     "name": "stdout",
     "output_type": "stream",
     "text": [
      "bg 0/100\n",
      "bg 1/100\n"
     ]
    },
    {
     "name": "stderr",
     "output_type": "stream",
     "text": [
      "bruteforce sampling: 100%|██████████| 1/1 [00:00<00:00, 11.07it/s]\n",
      "bruteforce sampling: 100%|██████████| 1/1 [00:00<00:00, 10.63it/s]\n",
      "bruteforce sampling: 100%|██████████| 1/1 [00:00<00:00, 14.11it/s]\n"
     ]
    },
    {
     "name": "stdout",
     "output_type": "stream",
     "text": [
      "bg 2/100\n",
      "bg 3/100\n",
      "bg 4/100\n"
     ]
    },
    {
     "name": "stderr",
     "output_type": "stream",
     "text": [
      "bruteforce sampling: 100%|██████████| 1/1 [00:00<00:00, 14.65it/s]\n",
      "bruteforce sampling: 100%|██████████| 1/1 [00:00<00:00, 11.06it/s]\n",
      "bruteforce sampling:   0%|          | 0/1 [00:00<?, ?it/s]"
     ]
    },
    {
     "name": "stdout",
     "output_type": "stream",
     "text": [
      "bg 5/100\n",
      "bg 6/100\n"
     ]
    },
    {
     "name": "stderr",
     "output_type": "stream",
     "text": [
      "bruteforce sampling: 100%|██████████| 1/1 [00:00<00:00, 10.69it/s]\n",
      "bruteforce sampling: 100%|██████████| 1/1 [00:00<00:00, 11.03it/s]\n",
      "bruteforce sampling:   0%|          | 0/1 [00:00<?, ?it/s]"
     ]
    },
    {
     "name": "stdout",
     "output_type": "stream",
     "text": [
      "bg 7/100\n",
      "bg 8/100\n"
     ]
    },
    {
     "name": "stderr",
     "output_type": "stream",
     "text": [
      "bruteforce sampling: 100%|██████████| 1/1 [00:00<00:00, 10.95it/s]\n",
      "bruteforce sampling: 100%|██████████| 1/1 [00:00<00:00, 11.18it/s]\n",
      "bruteforce sampling:   0%|          | 0/1 [00:00<?, ?it/s]"
     ]
    },
    {
     "name": "stdout",
     "output_type": "stream",
     "text": [
      "bg 9/100\n",
      "bg 10/100\n"
     ]
    },
    {
     "name": "stderr",
     "output_type": "stream",
     "text": [
      "bruteforce sampling: 100%|██████████| 1/1 [00:00<00:00,  9.23it/s]\n",
      "bruteforce sampling: 100%|██████████| 1/1 [00:00<00:00, 10.44it/s]\n",
      "bruteforce sampling:   0%|          | 0/1 [00:00<?, ?it/s]"
     ]
    },
    {
     "name": "stdout",
     "output_type": "stream",
     "text": [
      "bg 11/100\n",
      "bg 12/100\n"
     ]
    },
    {
     "name": "stderr",
     "output_type": "stream",
     "text": [
      "bruteforce sampling: 100%|██████████| 1/1 [00:00<00:00,  9.76it/s]\n",
      "bruteforce sampling: 100%|██████████| 1/1 [00:00<00:00, 10.46it/s]\n",
      "bruteforce sampling:   0%|          | 0/1 [00:00<?, ?it/s]"
     ]
    },
    {
     "name": "stdout",
     "output_type": "stream",
     "text": [
      "bg 13/100\n",
      "bg 14/100\n"
     ]
    },
    {
     "name": "stderr",
     "output_type": "stream",
     "text": [
      "bruteforce sampling: 100%|██████████| 1/1 [00:00<00:00, 10.77it/s]\n",
      "bruteforce sampling: 100%|██████████| 1/1 [00:00<00:00,  9.60it/s]\n",
      "bruteforce sampling:   0%|          | 0/1 [00:00<?, ?it/s]"
     ]
    },
    {
     "name": "stdout",
     "output_type": "stream",
     "text": [
      "bg 15/100\n",
      "bg 16/100\n"
     ]
    },
    {
     "name": "stderr",
     "output_type": "stream",
     "text": [
      "bruteforce sampling: 100%|██████████| 1/1 [00:00<00:00, 10.45it/s]\n",
      "bruteforce sampling: 100%|██████████| 1/1 [00:00<00:00, 10.92it/s]\n",
      "bruteforce sampling:   0%|          | 0/1 [00:00<?, ?it/s]"
     ]
    },
    {
     "name": "stdout",
     "output_type": "stream",
     "text": [
      "bg 17/100\n",
      "bg 18/100\n"
     ]
    },
    {
     "name": "stderr",
     "output_type": "stream",
     "text": [
      "bruteforce sampling: 100%|██████████| 1/1 [00:00<00:00, 10.80it/s]\n",
      "bruteforce sampling: 100%|██████████| 1/1 [00:00<00:00, 14.53it/s]\n",
      "bruteforce sampling: 100%|██████████| 1/1 [00:00<00:00, 11.51it/s]\n",
      "bruteforce sampling:   0%|          | 0/1 [00:00<?, ?it/s]"
     ]
    },
    {
     "name": "stdout",
     "output_type": "stream",
     "text": [
      "bg 19/100\n",
      "bg 20/100\n",
      "bg 21/100\n"
     ]
    },
    {
     "name": "stderr",
     "output_type": "stream",
     "text": [
      "bruteforce sampling: 100%|██████████| 1/1 [00:00<00:00, 10.24it/s]\n",
      "bruteforce sampling: 100%|██████████| 1/1 [00:00<00:00, 10.18it/s]\n",
      "bruteforce sampling:   0%|          | 0/1 [00:00<?, ?it/s]"
     ]
    },
    {
     "name": "stdout",
     "output_type": "stream",
     "text": [
      "bg 22/100\n",
      "bg 23/100\n"
     ]
    },
    {
     "name": "stderr",
     "output_type": "stream",
     "text": [
      "bruteforce sampling: 100%|██████████| 1/1 [00:00<00:00, 10.75it/s]\n",
      "bruteforce sampling: 100%|██████████| 1/1 [00:00<00:00, 11.40it/s]\n",
      "bruteforce sampling:   0%|          | 0/1 [00:00<?, ?it/s]"
     ]
    },
    {
     "name": "stdout",
     "output_type": "stream",
     "text": [
      "bg 24/100\n",
      "bg 25/100\n"
     ]
    },
    {
     "name": "stderr",
     "output_type": "stream",
     "text": [
      "bruteforce sampling: 100%|██████████| 1/1 [00:00<00:00,  9.24it/s]\n",
      "bruteforce sampling: 100%|██████████| 1/1 [00:00<00:00,  9.58it/s]\n",
      "bruteforce sampling:   0%|          | 0/1 [00:00<?, ?it/s]"
     ]
    },
    {
     "name": "stdout",
     "output_type": "stream",
     "text": [
      "bg 26/100\n",
      "bg 27/100\n"
     ]
    },
    {
     "name": "stderr",
     "output_type": "stream",
     "text": [
      "bruteforce sampling: 100%|██████████| 1/1 [00:00<00:00, 10.86it/s]\n",
      "bruteforce sampling: 100%|██████████| 1/1 [00:00<00:00, 10.89it/s]\n",
      "bruteforce sampling:   0%|          | 0/1 [00:00<?, ?it/s]"
     ]
    },
    {
     "name": "stdout",
     "output_type": "stream",
     "text": [
      "bg 28/100\n",
      "bg 29/100\n"
     ]
    },
    {
     "name": "stderr",
     "output_type": "stream",
     "text": [
      "bruteforce sampling: 100%|██████████| 1/1 [00:00<00:00,  9.20it/s]\n",
      "bruteforce sampling: 100%|██████████| 1/1 [00:00<00:00, 10.56it/s]\n",
      "bruteforce sampling:   0%|          | 0/1 [00:00<?, ?it/s]"
     ]
    },
    {
     "name": "stdout",
     "output_type": "stream",
     "text": [
      "bg 30/100\n",
      "bg 31/100\n"
     ]
    },
    {
     "name": "stderr",
     "output_type": "stream",
     "text": [
      "bruteforce sampling: 100%|██████████| 1/1 [00:00<00:00, 11.23it/s]\n",
      "bruteforce sampling: 100%|██████████| 1/1 [00:00<00:00, 11.17it/s]\n",
      "bruteforce sampling:   0%|          | 0/1 [00:00<?, ?it/s]"
     ]
    },
    {
     "name": "stdout",
     "output_type": "stream",
     "text": [
      "bg 32/100\n",
      "bg 33/100\n"
     ]
    },
    {
     "name": "stderr",
     "output_type": "stream",
     "text": [
      "bruteforce sampling: 100%|██████████| 1/1 [00:00<00:00, 10.97it/s]\n",
      "bruteforce sampling: 100%|██████████| 1/1 [00:00<00:00, 14.68it/s]\n",
      "bruteforce sampling: 100%|██████████| 1/1 [00:00<00:00, 11.03it/s]\n"
     ]
    },
    {
     "name": "stdout",
     "output_type": "stream",
     "text": [
      "bg 34/100\n",
      "bg 35/100\n",
      "bg 36/100\n"
     ]
    },
    {
     "name": "stderr",
     "output_type": "stream",
     "text": [
      "bruteforce sampling: 100%|██████████| 1/1 [00:00<00:00, 11.28it/s]\n",
      "bruteforce sampling: 100%|██████████| 1/1 [00:00<00:00, 11.57it/s]\n",
      "bruteforce sampling:   0%|          | 0/1 [00:00<?, ?it/s]"
     ]
    },
    {
     "name": "stdout",
     "output_type": "stream",
     "text": [
      "bg 37/100\n",
      "bg 38/100\n"
     ]
    },
    {
     "name": "stderr",
     "output_type": "stream",
     "text": [
      "bruteforce sampling: 100%|██████████| 1/1 [00:00<00:00, 11.63it/s]\n",
      "bruteforce sampling: 100%|██████████| 1/1 [00:00<00:00,  9.43it/s]\n",
      "bruteforce sampling:   0%|          | 0/1 [00:00<?, ?it/s]"
     ]
    },
    {
     "name": "stdout",
     "output_type": "stream",
     "text": [
      "bg 39/100\n",
      "bg 40/100\n"
     ]
    },
    {
     "name": "stderr",
     "output_type": "stream",
     "text": [
      "bruteforce sampling: 100%|██████████| 1/1 [00:00<00:00,  9.40it/s]\n",
      "bruteforce sampling: 100%|██████████| 1/1 [00:00<00:00, 10.61it/s]\n",
      "bruteforce sampling:   0%|          | 0/1 [00:00<?, ?it/s]"
     ]
    },
    {
     "name": "stdout",
     "output_type": "stream",
     "text": [
      "bg 41/100\n",
      "bg 42/100\n"
     ]
    },
    {
     "name": "stderr",
     "output_type": "stream",
     "text": [
      "bruteforce sampling: 100%|██████████| 1/1 [00:00<00:00, 10.92it/s]\n",
      "bruteforce sampling: 100%|██████████| 1/1 [00:00<00:00, 10.62it/s]\n",
      "bruteforce sampling:   0%|          | 0/1 [00:00<?, ?it/s]"
     ]
    },
    {
     "name": "stdout",
     "output_type": "stream",
     "text": [
      "bg 43/100\n",
      "bg 44/100\n"
     ]
    },
    {
     "name": "stderr",
     "output_type": "stream",
     "text": [
      "bruteforce sampling: 100%|██████████| 1/1 [00:00<00:00, 11.12it/s]\n",
      "bruteforce sampling: 100%|██████████| 1/1 [00:00<00:00,  9.00it/s]\n",
      "bruteforce sampling:   0%|          | 0/1 [00:00<?, ?it/s]"
     ]
    },
    {
     "name": "stdout",
     "output_type": "stream",
     "text": [
      "bg 45/100\n",
      "bg 46/100\n"
     ]
    },
    {
     "name": "stderr",
     "output_type": "stream",
     "text": [
      "bruteforce sampling: 100%|██████████| 1/1 [00:00<00:00, 11.61it/s]\n",
      "bruteforce sampling: 100%|██████████| 1/1 [00:00<00:00, 11.89it/s]\n",
      "bruteforce sampling:   0%|          | 0/1 [00:00<?, ?it/s]"
     ]
    },
    {
     "name": "stdout",
     "output_type": "stream",
     "text": [
      "bg 47/100\n",
      "bg 48/100\n"
     ]
    },
    {
     "name": "stderr",
     "output_type": "stream",
     "text": [
      "bruteforce sampling: 100%|██████████| 1/1 [00:00<00:00, 10.09it/s]\n",
      "bruteforce sampling: 100%|██████████| 1/1 [00:00<00:00, 10.80it/s]\n",
      "bruteforce sampling:   0%|          | 0/1 [00:00<?, ?it/s]"
     ]
    },
    {
     "name": "stdout",
     "output_type": "stream",
     "text": [
      "bg 49/100\n",
      "bg 50/100\n"
     ]
    },
    {
     "name": "stderr",
     "output_type": "stream",
     "text": [
      "bruteforce sampling: 100%|██████████| 1/1 [00:00<00:00, 10.85it/s]\n",
      "bruteforce sampling: 100%|██████████| 1/1 [00:00<00:00, 11.00it/s]\n",
      "bruteforce sampling:   0%|          | 0/1 [00:00<?, ?it/s]"
     ]
    },
    {
     "name": "stdout",
     "output_type": "stream",
     "text": [
      "bg 51/100\n",
      "bg 52/100\n"
     ]
    },
    {
     "name": "stderr",
     "output_type": "stream",
     "text": [
      "bruteforce sampling: 100%|██████████| 1/1 [00:00<00:00, 10.77it/s]\n",
      "bruteforce sampling: 100%|██████████| 1/1 [00:00<00:00, 10.46it/s]\n",
      "bruteforce sampling:   0%|          | 0/1 [00:00<?, ?it/s]"
     ]
    },
    {
     "name": "stdout",
     "output_type": "stream",
     "text": [
      "bg 53/100\n",
      "bg 54/100\n"
     ]
    },
    {
     "name": "stderr",
     "output_type": "stream",
     "text": [
      "bruteforce sampling: 100%|██████████| 1/1 [00:00<00:00, 10.98it/s]\n",
      "bruteforce sampling: 100%|██████████| 1/1 [00:00<00:00, 10.81it/s]\n",
      "bruteforce sampling:   0%|          | 0/1 [00:00<?, ?it/s]"
     ]
    },
    {
     "name": "stdout",
     "output_type": "stream",
     "text": [
      "bg 55/100\n",
      "bg 56/100\n"
     ]
    },
    {
     "name": "stderr",
     "output_type": "stream",
     "text": [
      "bruteforce sampling: 100%|██████████| 1/1 [00:00<00:00, 10.85it/s]\n",
      "bruteforce sampling: 100%|██████████| 1/1 [00:00<00:00, 11.06it/s]\n",
      "bruteforce sampling:   0%|          | 0/1 [00:00<?, ?it/s]"
     ]
    },
    {
     "name": "stdout",
     "output_type": "stream",
     "text": [
      "bg 57/100\n",
      "bg 58/100\n"
     ]
    },
    {
     "name": "stderr",
     "output_type": "stream",
     "text": [
      "bruteforce sampling: 100%|██████████| 1/1 [00:00<00:00, 10.67it/s]\n",
      "bruteforce sampling: 100%|██████████| 1/1 [00:00<00:00, 10.69it/s]\n",
      "bruteforce sampling:   0%|          | 0/1 [00:00<?, ?it/s]"
     ]
    },
    {
     "name": "stdout",
     "output_type": "stream",
     "text": [
      "bg 59/100\n",
      "bg 60/100\n"
     ]
    },
    {
     "name": "stderr",
     "output_type": "stream",
     "text": [
      "bruteforce sampling: 100%|██████████| 1/1 [00:00<00:00,  9.96it/s]\n",
      "bruteforce sampling: 100%|██████████| 1/1 [00:00<00:00, 10.70it/s]\n",
      "bruteforce sampling:   0%|          | 0/1 [00:00<?, ?it/s]"
     ]
    },
    {
     "name": "stdout",
     "output_type": "stream",
     "text": [
      "bg 61/100\n",
      "bg 62/100\n"
     ]
    },
    {
     "name": "stderr",
     "output_type": "stream",
     "text": [
      "bruteforce sampling: 100%|██████████| 1/1 [00:00<00:00,  9.44it/s]\n",
      "bruteforce sampling: 100%|██████████| 1/1 [00:00<00:00, 10.43it/s]\n",
      "bruteforce sampling:   0%|          | 0/1 [00:00<?, ?it/s]"
     ]
    },
    {
     "name": "stdout",
     "output_type": "stream",
     "text": [
      "bg 63/100\n",
      "bg 64/100\n"
     ]
    },
    {
     "name": "stderr",
     "output_type": "stream",
     "text": [
      "bruteforce sampling: 100%|██████████| 1/1 [00:00<00:00, 10.85it/s]\n",
      "bruteforce sampling: 100%|██████████| 1/1 [00:00<00:00,  9.63it/s]\n",
      "bruteforce sampling:   0%|          | 0/1 [00:00<?, ?it/s]"
     ]
    },
    {
     "name": "stdout",
     "output_type": "stream",
     "text": [
      "bg 65/100\n",
      "bg 66/100\n"
     ]
    },
    {
     "name": "stderr",
     "output_type": "stream",
     "text": [
      "bruteforce sampling: 100%|██████████| 1/1 [00:00<00:00, 10.72it/s]\n",
      "bruteforce sampling: 100%|██████████| 1/1 [00:00<00:00,  8.06it/s]\n",
      "bruteforce sampling:   0%|          | 0/1 [00:00<?, ?it/s]"
     ]
    },
    {
     "name": "stdout",
     "output_type": "stream",
     "text": [
      "bg 67/100\n",
      "bg 68/100\n"
     ]
    },
    {
     "name": "stderr",
     "output_type": "stream",
     "text": [
      "bruteforce sampling: 100%|██████████| 1/1 [00:00<00:00, 10.94it/s]\n",
      "bruteforce sampling: 100%|██████████| 1/1 [00:00<00:00, 10.90it/s]\n",
      "bruteforce sampling:   0%|          | 0/1 [00:00<?, ?it/s]"
     ]
    },
    {
     "name": "stdout",
     "output_type": "stream",
     "text": [
      "bg 69/100\n",
      "bg 70/100\n"
     ]
    },
    {
     "name": "stderr",
     "output_type": "stream",
     "text": [
      "bruteforce sampling: 100%|██████████| 1/1 [00:00<00:00, 10.51it/s]\n",
      "bruteforce sampling: 100%|██████████| 1/1 [00:00<00:00, 13.95it/s]\n",
      "bruteforce sampling: 100%|██████████| 1/1 [00:00<00:00, 10.93it/s]\n"
     ]
    },
    {
     "name": "stdout",
     "output_type": "stream",
     "text": [
      "bg 71/100\n",
      "bg 72/100\n",
      "bg 73/100\n"
     ]
    },
    {
     "name": "stderr",
     "output_type": "stream",
     "text": [
      "bruteforce sampling: 100%|██████████| 1/1 [00:00<00:00, 12.11it/s]\n",
      "bruteforce sampling: 100%|██████████| 1/1 [00:00<00:00,  9.66it/s]\n",
      "bruteforce sampling:   0%|          | 0/1 [00:00<?, ?it/s]"
     ]
    },
    {
     "name": "stdout",
     "output_type": "stream",
     "text": [
      "bg 74/100\n",
      "bg 75/100\n"
     ]
    },
    {
     "name": "stderr",
     "output_type": "stream",
     "text": [
      "bruteforce sampling: 100%|██████████| 1/1 [00:00<00:00,  9.20it/s]\n",
      "bruteforce sampling: 100%|██████████| 1/1 [00:00<00:00,  9.98it/s]\n",
      "bruteforce sampling:   0%|          | 0/1 [00:00<?, ?it/s]"
     ]
    },
    {
     "name": "stdout",
     "output_type": "stream",
     "text": [
      "bg 76/100\n",
      "bg 77/100\n"
     ]
    },
    {
     "name": "stderr",
     "output_type": "stream",
     "text": [
      "bruteforce sampling: 100%|██████████| 1/1 [00:00<00:00, 11.43it/s]\n",
      "bruteforce sampling: 100%|██████████| 1/1 [00:00<00:00, 10.83it/s]\n",
      "bruteforce sampling: 100%|██████████| 1/1 [00:00<00:00, 13.88it/s]\n"
     ]
    },
    {
     "name": "stdout",
     "output_type": "stream",
     "text": [
      "bg 78/100\n",
      "bg 79/100\n",
      "bg 80/100\n"
     ]
    },
    {
     "name": "stderr",
     "output_type": "stream",
     "text": [
      "bruteforce sampling: 100%|██████████| 1/1 [00:00<00:00, 10.91it/s]\n",
      "bruteforce sampling: 100%|██████████| 1/1 [00:00<00:00, 10.96it/s]\n",
      "bruteforce sampling:   0%|          | 0/1 [00:00<?, ?it/s]"
     ]
    },
    {
     "name": "stdout",
     "output_type": "stream",
     "text": [
      "bg 81/100\n",
      "bg 82/100\n"
     ]
    },
    {
     "name": "stderr",
     "output_type": "stream",
     "text": [
      "bruteforce sampling: 100%|██████████| 1/1 [00:00<00:00, 11.28it/s]\n",
      "bruteforce sampling: 100%|██████████| 1/1 [00:00<00:00, 13.15it/s]\n",
      "bruteforce sampling: 100%|██████████| 1/1 [00:00<00:00, 11.88it/s]\n"
     ]
    },
    {
     "name": "stdout",
     "output_type": "stream",
     "text": [
      "bg 83/100\n",
      "bg 84/100\n",
      "bg 85/100\n"
     ]
    },
    {
     "name": "stderr",
     "output_type": "stream",
     "text": [
      "bruteforce sampling: 100%|██████████| 1/1 [00:00<00:00, 15.23it/s]\n",
      "bruteforce sampling: 100%|██████████| 1/1 [00:00<00:00, 11.76it/s]\n",
      "bruteforce sampling:   0%|          | 0/1 [00:00<?, ?it/s]"
     ]
    },
    {
     "name": "stdout",
     "output_type": "stream",
     "text": [
      "bg 86/100\n",
      "bg 87/100\n"
     ]
    },
    {
     "name": "stderr",
     "output_type": "stream",
     "text": [
      "bruteforce sampling: 100%|██████████| 1/1 [00:00<00:00, 11.07it/s]\n",
      "bruteforce sampling: 100%|██████████| 1/1 [00:00<00:00, 11.00it/s]\n",
      "bruteforce sampling:   0%|          | 0/1 [00:00<?, ?it/s]"
     ]
    },
    {
     "name": "stdout",
     "output_type": "stream",
     "text": [
      "bg 88/100\n",
      "bg 89/100\n"
     ]
    },
    {
     "name": "stderr",
     "output_type": "stream",
     "text": [
      "bruteforce sampling: 100%|██████████| 1/1 [00:00<00:00, 11.10it/s]\n",
      "bruteforce sampling: 100%|██████████| 1/1 [00:00<00:00, 11.17it/s]\n",
      "bruteforce sampling: 100%|██████████| 1/1 [00:00<00:00, 14.58it/s]\n",
      "bruteforce sampling:   0%|          | 0/1 [00:00<?, ?it/s]"
     ]
    },
    {
     "name": "stdout",
     "output_type": "stream",
     "text": [
      "bg 90/100\n",
      "bg 91/100\n",
      "bg 92/100\n"
     ]
    },
    {
     "name": "stderr",
     "output_type": "stream",
     "text": [
      "bruteforce sampling: 100%|██████████| 1/1 [00:00<00:00, 15.36it/s]\n",
      "bruteforce sampling: 100%|██████████| 1/1 [00:00<00:00, 12.15it/s]\n",
      "bruteforce sampling:   0%|          | 0/1 [00:00<?, ?it/s]"
     ]
    },
    {
     "name": "stdout",
     "output_type": "stream",
     "text": [
      "bg 93/100\n",
      "bg 94/100\n"
     ]
    },
    {
     "name": "stderr",
     "output_type": "stream",
     "text": [
      "bruteforce sampling: 100%|██████████| 1/1 [00:00<00:00, 10.87it/s]\n",
      "bruteforce sampling: 100%|██████████| 1/1 [00:00<00:00, 11.24it/s]\n",
      "bruteforce sampling:   0%|          | 0/1 [00:00<?, ?it/s]"
     ]
    },
    {
     "name": "stdout",
     "output_type": "stream",
     "text": [
      "bg 95/100\n",
      "bg 96/100\n"
     ]
    },
    {
     "name": "stderr",
     "output_type": "stream",
     "text": [
      "bruteforce sampling: 100%|██████████| 1/1 [00:00<00:00, 11.18it/s]\n",
      "bruteforce sampling: 100%|██████████| 1/1 [00:00<00:00, 10.93it/s]\n",
      "bruteforce sampling: 100%|██████████| 1/1 [00:00<00:00, 14.31it/s]\n"
     ]
    },
    {
     "name": "stdout",
     "output_type": "stream",
     "text": [
      "bg 97/100\n",
      "bg 98/100\n",
      "bg 99/100\n"
     ]
    },
    {
     "name": "stderr",
     "output_type": "stream",
     "text": [
      "bruteforce sampling: 100%|██████████| 1/1 [00:00<00:00,  9.73it/s]\n"
     ]
    }
   ],
   "source": [
    "def node_dict2str_dict(node_edge_credit):\n",
    "    res = defaultdict(lambda: defaultdict(int))\n",
    "    for node1, d in node_edge_credit.items():\n",
    "        for node2, val in d.items():\n",
    "            res[node1.name][node2.name] = val\n",
    "    return res\n",
    "\n",
    "# multiple background result with individual run\n",
    "edge_credits = [] # save for each run\n",
    "for i in range(len(bg)): # average run result using linearity axiom\n",
    "    print(f'bg {i}/{len(bg)}')\n",
    "    for j in range(nruns):\n",
    "        explainer = GraphExplainer(graph, bg[i:i+1], nruns=1) \n",
    "        cf = explainer.shap_values(X[:nsamples])\n",
    "        edge_credits.append(node_dict2str_dict(cf.edge_credit)) # use node name is more portable vs. node"
   ]
  },
  {
   "cell_type": "code",
   "execution_count": 10,
   "metadata": {},
   "outputs": [
    {
     "data": {
      "image/svg+xml": [
       "<?xml version=\"1.0\" encoding=\"UTF-8\" standalone=\"no\"?>\n",
       "<!DOCTYPE svg PUBLIC \"-//W3C//DTD SVG 1.1//EN\"\n",
       " \"http://www.w3.org/Graphics/SVG/1.1/DTD/svg11.dtd\">\n",
       "<!-- Generated by graphviz version 2.38.0 (20140413.2041)\n",
       " -->\n",
       "<!-- Title: %3 Pages: 1 -->\n",
       "<svg width=\"1309pt\" height=\"131pt\"\n",
       " viewBox=\"0.00 0.00 1309.00 131.00\" xmlns=\"http://www.w3.org/2000/svg\" xmlns:xlink=\"http://www.w3.org/1999/xlink\">\n",
       "<g id=\"graph0\" class=\"graph\" transform=\"scale(1 1) rotate(0) translate(4 127)\">\n",
       "<title>%3</title>\n",
       "<polygon fill=\"white\" stroke=\"none\" points=\"-4,4 -4,-127 1305,-127 1305,4 -4,4\"/>\n",
       "<!-- Sex -->\n",
       "<g id=\"node1\" class=\"node\"><title>Sex</title>\n",
       "<polygon fill=\"none\" stroke=\"black\" points=\"54,-123 0,-123 0,-87 54,-87 54,-123\"/>\n",
       "<text text-anchor=\"middle\" x=\"27\" y=\"-101.3\" font-family=\"Times,serif\" font-size=\"14.00\">Sex</text>\n",
       "</g>\n",
       "<!-- predicted hazard -->\n",
       "<g id=\"node2\" class=\"node\"><title>predicted hazard</title>\n",
       "<ellipse fill=\"none\" stroke=\"black\" cx=\"93\" cy=\"-18\" rx=\"69.5877\" ry=\"18\"/>\n",
       "<text text-anchor=\"middle\" x=\"93\" y=\"-14.3\" font-family=\"Times,serif\" font-size=\"14.00\">predicted hazard</text>\n",
       "</g>\n",
       "<!-- Sex&#45;&gt;predicted hazard -->\n",
       "<g id=\"edge1\" class=\"edge\"><title>Sex&#45;&gt;predicted hazard</title>\n",
       "<path fill=\"none\" stroke=\"#008bfb\" stroke-width=\"0.787971\" d=\"M21.236,-86.5872C18.9505,-76.3769 18.0844,-63.6338 24,-54 28.1513,-47.2394 34.0598,-41.7354 40.6938,-37.2679\"/>\n",
       "<polygon fill=\"#008bfb\" stroke=\"#008bfb\" stroke-width=\"0.787971\" points=\"42.5593,-40.2313 49.4072,-32.1469 39.0125,-34.1964 42.5593,-40.2313\"/>\n",
       "<text text-anchor=\"middle\" x=\"79\" y=\"-57.8\" font-family=\"Times,serif\" font-size=\"14.00\" fill=\"#008bfb\">(&#45;0.18, &#45;0.14, &#45;0.10)</text>\n",
       "</g>\n",
       "<!-- Serum Albumin -->\n",
       "<g id=\"node3\" class=\"node\"><title>Serum Albumin</title>\n",
       "<ellipse fill=\"none\" stroke=\"black\" cx=\"140\" cy=\"-105\" rx=\"68.4888\" ry=\"18\"/>\n",
       "<text text-anchor=\"middle\" x=\"140\" y=\"-101.3\" font-family=\"Times,serif\" font-size=\"14.00\">Serum Albumin</text>\n",
       "</g>\n",
       "<!-- Serum Albumin&#45;&gt;predicted hazard -->\n",
       "<g id=\"edge2\" class=\"edge\"><title>Serum Albumin&#45;&gt;predicted hazard</title>\n",
       "<path fill=\"none\" stroke=\"#008bfb\" stroke-width=\"0.181927\" d=\"M142.776,-86.8854C143.599,-76.7809 143.164,-64.0441 138,-54 135.628,-49.3871 132.342,-45.196 128.615,-41.4475\"/>\n",
       "<polygon fill=\"#008bfb\" stroke=\"#008bfb\" stroke-width=\"0.181927\" points=\"130.853,-38.7551 121.028,-34.7896 126.236,-44.0164 130.853,-38.7551\"/>\n",
       "<text text-anchor=\"middle\" x=\"198\" y=\"-57.8\" font-family=\"Times,serif\" font-size=\"14.00\" fill=\"#008bfb\">(&#45;0.04, &#45;0.03, &#45;0.01)</text>\n",
       "</g>\n",
       "<!-- Poverty index -->\n",
       "<g id=\"node4\" class=\"node\"><title>Poverty index</title>\n",
       "<ellipse fill=\"none\" stroke=\"black\" cx=\"286\" cy=\"-105\" rx=\"59.5901\" ry=\"18\"/>\n",
       "<text text-anchor=\"middle\" x=\"286\" y=\"-101.3\" font-family=\"Times,serif\" font-size=\"14.00\">Poverty index</text>\n",
       "</g>\n",
       "<!-- Poverty index&#45;&gt;predicted hazard -->\n",
       "<g id=\"edge3\" class=\"edge\"><title>Poverty index&#45;&gt;predicted hazard</title>\n",
       "<path fill=\"none\" stroke=\"#008bfb\" stroke-width=\"0.197831\" d=\"M280.139,-86.6243C275.54,-75.6258 268.046,-62.0154 257,-54 232.444,-36.1809 200.703,-27.0695 171.697,-22.5291\"/>\n",
       "<polygon fill=\"#008bfb\" stroke=\"#008bfb\" stroke-width=\"0.197831\" points=\"171.957,-19.0313 161.567,-21.1069 170.983,-25.9633 171.957,-19.0313\"/>\n",
       "<text text-anchor=\"middle\" x=\"326\" y=\"-57.8\" font-family=\"Times,serif\" font-size=\"14.00\" fill=\"#008bfb\">(&#45;0.04, &#45;0.03, &#45;0.02)</text>\n",
       "</g>\n",
       "<!-- Pulse pressure -->\n",
       "<g id=\"node5\" class=\"node\"><title>Pulse pressure</title>\n",
       "<ellipse fill=\"none\" stroke=\"black\" cx=\"426\" cy=\"-105\" rx=\"61.99\" ry=\"18\"/>\n",
       "<text text-anchor=\"middle\" x=\"426\" y=\"-101.3\" font-family=\"Times,serif\" font-size=\"14.00\">Pulse pressure</text>\n",
       "</g>\n",
       "<!-- Pulse pressure&#45;&gt;predicted hazard -->\n",
       "<g id=\"edge4\" class=\"edge\"><title>Pulse pressure&#45;&gt;predicted hazard</title>\n",
       "<path fill=\"none\" stroke=\"#ff0051\" stroke-width=\"0.170868\" d=\"M416.862,-87.1604C409.75,-75.8024 398.78,-61.5573 385,-54 349.406,-34.4791 245.362,-25.7049 171.641,-21.8586\"/>\n",
       "<polygon fill=\"#ff0051\" stroke=\"#ff0051\" stroke-width=\"0.170868\" points=\"171.612,-18.3529 161.45,-21.348 171.262,-25.3441 171.612,-18.3529\"/>\n",
       "<text text-anchor=\"middle\" x=\"451.5\" y=\"-57.8\" font-family=\"Times,serif\" font-size=\"14.00\" fill=\"#ff0051\">(0.02, 0.02, 0.03)</text>\n",
       "</g>\n",
       "<!-- White blood cells -->\n",
       "<g id=\"node6\" class=\"node\"><title>White blood cells</title>\n",
       "<ellipse fill=\"none\" stroke=\"black\" cx=\"579\" cy=\"-105\" rx=\"73.387\" ry=\"18\"/>\n",
       "<text text-anchor=\"middle\" x=\"579\" y=\"-101.3\" font-family=\"Times,serif\" font-size=\"14.00\">White blood cells</text>\n",
       "</g>\n",
       "<!-- White blood cells&#45;&gt;predicted hazard -->\n",
       "<g id=\"edge5\" class=\"edge\"><title>White blood cells&#45;&gt;predicted hazard</title>\n",
       "<path fill=\"none\" stroke=\"#008bfb\" stroke-width=\"0.187491\" d=\"M560.106,-87.45C545.757,-75.9183 524.976,-61.3368 504,-54 444.775,-33.2842 274.059,-24.5294 172.232,-21.0672\"/>\n",
       "<polygon fill=\"#008bfb\" stroke=\"#008bfb\" stroke-width=\"0.187491\" points=\"172.102,-17.5611 161.992,-20.729 171.871,-24.5573 172.102,-17.5611\"/>\n",
       "<text text-anchor=\"middle\" x=\"588\" y=\"-57.8\" font-family=\"Times,serif\" font-size=\"14.00\" fill=\"#008bfb\">(&#45;0.04, &#45;0.03, &#45;0.02)</text>\n",
       "</g>\n",
       "<!-- Sedimentation rate -->\n",
       "<g id=\"node7\" class=\"node\"><title>Sedimentation rate</title>\n",
       "<ellipse fill=\"none\" stroke=\"black\" cx=\"748\" cy=\"-105\" rx=\"77.1866\" ry=\"18\"/>\n",
       "<text text-anchor=\"middle\" x=\"748\" y=\"-101.3\" font-family=\"Times,serif\" font-size=\"14.00\">Sedimentation rate</text>\n",
       "</g>\n",
       "<!-- Sedimentation rate&#45;&gt;predicted hazard -->\n",
       "<g id=\"edge6\" class=\"edge\"><title>Sedimentation rate&#45;&gt;predicted hazard</title>\n",
       "<path fill=\"none\" stroke=\"#ff0051\" stroke-width=\"0.240375\" d=\"M719.129,-88.1095C694.712,-74.9722 661.459,-57.868 647,-54 559.868,-30.6917 303.976,-22.7567 172.692,-20.1749\"/>\n",
       "<polygon fill=\"#ff0051\" stroke=\"#ff0051\" stroke-width=\"0.240375\" points=\"172.371,-16.6682 162.306,-19.9767 172.237,-23.6669 172.371,-16.6682\"/>\n",
       "<text text-anchor=\"middle\" x=\"731.5\" y=\"-57.8\" font-family=\"Times,serif\" font-size=\"14.00\" fill=\"#ff0051\">(0.03, 0.04, 0.04)</text>\n",
       "</g>\n",
       "<!-- Age -->\n",
       "<g id=\"node8\" class=\"node\"><title>Age</title>\n",
       "<ellipse fill=\"none\" stroke=\"black\" cx=\"870\" cy=\"-105\" rx=\"27\" ry=\"18\"/>\n",
       "<text text-anchor=\"middle\" x=\"870\" y=\"-101.3\" font-family=\"Times,serif\" font-size=\"14.00\">Age</text>\n",
       "</g>\n",
       "<!-- Age&#45;&gt;predicted hazard -->\n",
       "<g id=\"edge7\" class=\"edge\"><title>Age&#45;&gt;predicted hazard</title>\n",
       "<path fill=\"none\" stroke=\"#ff0051\" stroke-width=\"5\" d=\"M849.595,-92.6591C823.06,-77.9126 780.059,-54.017 780,-54 668.262,-21.9902 329.258,-18.4232 173.198,-18.5518\"/>\n",
       "<polygon fill=\"#ff0051\" stroke=\"#ff0051\" stroke-width=\"5\" points=\"172.729,-14.1774 162.735,-18.5663 172.741,-22.9274 172.729,-14.1774\"/>\n",
       "<text text-anchor=\"middle\" x=\"855.5\" y=\"-57.8\" font-family=\"Times,serif\" font-size=\"14.00\" fill=\"#ff0051\">(0.79, 0.96, 1.13)</text>\n",
       "</g>\n",
       "<!-- Serum Magnesium -->\n",
       "<g id=\"node9\" class=\"node\"><title>Serum Magnesium</title>\n",
       "<ellipse fill=\"none\" stroke=\"black\" cx=\"994\" cy=\"-105\" rx=\"79.0865\" ry=\"18\"/>\n",
       "<text text-anchor=\"middle\" x=\"994\" y=\"-101.3\" font-family=\"Times,serif\" font-size=\"14.00\">Serum Magnesium</text>\n",
       "</g>\n",
       "<!-- Serum Magnesium&#45;&gt;predicted hazard -->\n",
       "<g id=\"edge8\" class=\"edge\"><title>Serum Magnesium&#45;&gt;predicted hazard</title>\n",
       "<path fill=\"none\" stroke=\"#008bfb\" stroke-width=\"0.176381\" d=\"M966.601,-87.9392C942.662,-74.0464 910.709,-55.8937 904,-54 834.955,-34.5105 362.631,-23.8813 172.268,-20.3481\"/>\n",
       "<polygon fill=\"#008bfb\" stroke=\"#008bfb\" stroke-width=\"0.176381\" points=\"172.114,-16.8448 162.052,-20.1603 171.986,-23.8436 172.114,-16.8448\"/>\n",
       "<text text-anchor=\"middle\" x=\"989\" y=\"-57.8\" font-family=\"Times,serif\" font-size=\"14.00\" fill=\"#008bfb\">(&#45;0.03, &#45;0.02, &#45;0.02)</text>\n",
       "</g>\n",
       "<!-- BMI -->\n",
       "<g id=\"node10\" class=\"node\"><title>BMI</title>\n",
       "<ellipse fill=\"none\" stroke=\"black\" cx=\"1119\" cy=\"-105\" rx=\"27.8951\" ry=\"18\"/>\n",
       "<text text-anchor=\"middle\" x=\"1119\" y=\"-101.3\" font-family=\"Times,serif\" font-size=\"14.00\">BMI</text>\n",
       "</g>\n",
       "<!-- BMI&#45;&gt;predicted hazard -->\n",
       "<g id=\"edge9\" class=\"edge\"><title>BMI&#45;&gt;predicted hazard</title>\n",
       "<path fill=\"none\" stroke=\"#008bfb\" stroke-width=\"0.100177\" d=\"M1103.65,-89.8056C1089.58,-77.7825 1067.55,-61.3605 1045,-54 963.302,-27.3354 386.726,-20.8974 172.707,-19.4189\"/>\n",
       "<polygon fill=\"#008bfb\" stroke=\"#008bfb\" stroke-width=\"0.100177\" points=\"172.511,-15.9176 162.488,-19.3502 172.464,-22.9174 172.511,-15.9176\"/>\n",
       "<text text-anchor=\"middle\" x=\"1131\" y=\"-57.8\" font-family=\"Times,serif\" font-size=\"14.00\" fill=\"#008bfb\">(&#45;0.02, &#45;0.01, &#45;0.00)</text>\n",
       "</g>\n",
       "<!-- Systolic BP -->\n",
       "<g id=\"node11\" class=\"node\"><title>Systolic BP</title>\n",
       "<ellipse fill=\"none\" stroke=\"black\" cx=\"1217\" cy=\"-105\" rx=\"51.9908\" ry=\"18\"/>\n",
       "<text text-anchor=\"middle\" x=\"1217\" y=\"-101.3\" font-family=\"Times,serif\" font-size=\"14.00\">Systolic BP</text>\n",
       "</g>\n",
       "<!-- Systolic BP&#45;&gt;predicted hazard -->\n",
       "<g id=\"edge10\" class=\"edge\"><title>Systolic BP&#45;&gt;predicted hazard</title>\n",
       "<path fill=\"none\" stroke=\"#ff0051\" stroke-width=\"0.630238\" d=\"M1212.63,-86.9794C1208.72,-75.5362 1201.75,-61.2635 1190,-54 1146.91,-27.3572 418.169,-20.8259 172.854,-19.3786\"/>\n",
       "<polygon fill=\"#ff0051\" stroke=\"#ff0051\" stroke-width=\"0.630238\" points=\"172.605,-15.8772 162.585,-19.3193 172.565,-22.8771 172.605,-15.8772\"/>\n",
       "<text text-anchor=\"middle\" x=\"1252.5\" y=\"-57.8\" font-family=\"Times,serif\" font-size=\"14.00\" fill=\"#ff0051\">(0.10, 0.11, 0.13)</text>\n",
       "</g>\n",
       "</g>\n",
       "</svg>\n"
      ],
      "text/plain": [
       "<graphviz.files.Source at 0x7f1772053b50>"
      ]
     },
     "metadata": {},
     "output_type": "display_data"
    },
    {
     "data": {
      "text/plain": [
       "<AGraph <Swig Object of type 'Agraph_t *' at 0x7f17721739c0>>"
      ]
     },
     "execution_count": 10,
     "metadata": {},
     "output_type": "execute_result"
    }
   ],
   "source": [
    "cf.show_CI = True # 95% confidence interval from https://link.springer.com/chapter/10.1007/978-3-030-57321-8_2 Equation 12.\n",
    "cf.draw(sample_ind, max_display=10, edge_credit=edge_credits2edge_credit(edge_credits, cf.graph), show_fg_val=False)"
   ]
  },
  {
   "cell_type": "markdown",
   "metadata": {},
   "source": [
    "# On manifold SHAP"
   ]
  },
  {
   "cell_type": "code",
   "execution_count": 12,
   "metadata": {
    "collapsed": true,
    "jupyter": {
     "outputs_hidden": true
    }
   },
   "outputs": [
    {
     "name": "stderr",
     "output_type": "stream",
     "text": [
      "  2%|▏         | 2/100 [00:00<00:06, 15.51it/s]"
     ]
    },
    {
     "name": "stdout",
     "output_type": "stream",
     "text": [
      "bg 0/100\n"
     ]
    },
    {
     "name": "stderr",
     "output_type": "stream",
     "text": [
      "100%|██████████| 100/100 [00:05<00:00, 17.70it/s]\n",
      "  3%|▎         | 3/100 [00:00<00:04, 20.88it/s]"
     ]
    },
    {
     "name": "stdout",
     "output_type": "stream",
     "text": [
      "bg 1/100\n"
     ]
    },
    {
     "name": "stderr",
     "output_type": "stream",
     "text": [
      "100%|██████████| 100/100 [00:04<00:00, 20.89it/s]\n",
      "  3%|▎         | 3/100 [00:00<00:04, 21.00it/s]"
     ]
    },
    {
     "name": "stdout",
     "output_type": "stream",
     "text": [
      "bg 2/100\n"
     ]
    },
    {
     "name": "stderr",
     "output_type": "stream",
     "text": [
      "100%|██████████| 100/100 [00:04<00:00, 20.68it/s]\n",
      "  3%|▎         | 3/100 [00:00<00:04, 21.21it/s]"
     ]
    },
    {
     "name": "stdout",
     "output_type": "stream",
     "text": [
      "bg 3/100\n"
     ]
    },
    {
     "name": "stderr",
     "output_type": "stream",
     "text": [
      "100%|██████████| 100/100 [00:04<00:00, 20.93it/s]\n",
      "  3%|▎         | 3/100 [00:00<00:04, 19.75it/s]"
     ]
    },
    {
     "name": "stdout",
     "output_type": "stream",
     "text": [
      "bg 4/100\n"
     ]
    },
    {
     "name": "stderr",
     "output_type": "stream",
     "text": [
      "100%|██████████| 100/100 [00:05<00:00, 19.39it/s]\n",
      "  2%|▏         | 2/100 [00:00<00:06, 14.68it/s]"
     ]
    },
    {
     "name": "stdout",
     "output_type": "stream",
     "text": [
      "bg 5/100\n"
     ]
    },
    {
     "name": "stderr",
     "output_type": "stream",
     "text": [
      "100%|██████████| 100/100 [00:05<00:00, 18.17it/s]\n",
      "  2%|▏         | 2/100 [00:00<00:06, 15.26it/s]"
     ]
    },
    {
     "name": "stdout",
     "output_type": "stream",
     "text": [
      "bg 6/100\n"
     ]
    },
    {
     "name": "stderr",
     "output_type": "stream",
     "text": [
      "100%|██████████| 100/100 [00:05<00:00, 19.38it/s]\n",
      "  2%|▏         | 2/100 [00:00<00:06, 15.19it/s]"
     ]
    },
    {
     "name": "stdout",
     "output_type": "stream",
     "text": [
      "bg 7/100\n"
     ]
    },
    {
     "name": "stderr",
     "output_type": "stream",
     "text": [
      "100%|██████████| 100/100 [00:04<00:00, 20.06it/s]\n",
      "  3%|▎         | 3/100 [00:00<00:04, 20.69it/s]"
     ]
    },
    {
     "name": "stdout",
     "output_type": "stream",
     "text": [
      "bg 8/100\n"
     ]
    },
    {
     "name": "stderr",
     "output_type": "stream",
     "text": [
      "100%|██████████| 100/100 [00:04<00:00, 20.18it/s]\n",
      "  3%|▎         | 3/100 [00:00<00:04, 20.72it/s]"
     ]
    },
    {
     "name": "stdout",
     "output_type": "stream",
     "text": [
      "bg 9/100\n"
     ]
    },
    {
     "name": "stderr",
     "output_type": "stream",
     "text": [
      "100%|██████████| 100/100 [00:04<00:00, 20.27it/s]\n",
      "  3%|▎         | 3/100 [00:00<00:04, 21.26it/s]"
     ]
    },
    {
     "name": "stdout",
     "output_type": "stream",
     "text": [
      "bg 10/100\n"
     ]
    },
    {
     "name": "stderr",
     "output_type": "stream",
     "text": [
      "100%|██████████| 100/100 [00:04<00:00, 20.22it/s]\n",
      "  2%|▏         | 2/100 [00:00<00:06, 15.18it/s]"
     ]
    },
    {
     "name": "stdout",
     "output_type": "stream",
     "text": [
      "bg 11/100\n"
     ]
    },
    {
     "name": "stderr",
     "output_type": "stream",
     "text": [
      "100%|██████████| 100/100 [00:04<00:00, 21.01it/s]\n",
      "  2%|▏         | 2/100 [00:00<00:06, 15.31it/s]"
     ]
    },
    {
     "name": "stdout",
     "output_type": "stream",
     "text": [
      "bg 12/100\n"
     ]
    },
    {
     "name": "stderr",
     "output_type": "stream",
     "text": [
      "100%|██████████| 100/100 [00:05<00:00, 19.76it/s]\n",
      "  2%|▏         | 2/100 [00:00<00:07, 13.19it/s]"
     ]
    },
    {
     "name": "stdout",
     "output_type": "stream",
     "text": [
      "bg 13/100\n"
     ]
    },
    {
     "name": "stderr",
     "output_type": "stream",
     "text": [
      "100%|██████████| 100/100 [00:05<00:00, 18.13it/s]\n",
      "  2%|▏         | 2/100 [00:00<00:06, 16.25it/s]"
     ]
    },
    {
     "name": "stdout",
     "output_type": "stream",
     "text": [
      "bg 14/100\n"
     ]
    },
    {
     "name": "stderr",
     "output_type": "stream",
     "text": [
      "100%|██████████| 100/100 [00:05<00:00, 19.81it/s]\n",
      "  2%|▏         | 2/100 [00:00<00:06, 15.65it/s]"
     ]
    },
    {
     "name": "stdout",
     "output_type": "stream",
     "text": [
      "bg 15/100\n"
     ]
    },
    {
     "name": "stderr",
     "output_type": "stream",
     "text": [
      "100%|██████████| 100/100 [00:05<00:00, 19.47it/s]\n",
      "  3%|▎         | 3/100 [00:00<00:04, 21.05it/s]"
     ]
    },
    {
     "name": "stdout",
     "output_type": "stream",
     "text": [
      "bg 16/100\n"
     ]
    },
    {
     "name": "stderr",
     "output_type": "stream",
     "text": [
      "100%|██████████| 100/100 [00:05<00:00, 19.70it/s]\n",
      "  3%|▎         | 3/100 [00:00<00:04, 20.91it/s]"
     ]
    },
    {
     "name": "stdout",
     "output_type": "stream",
     "text": [
      "bg 17/100\n"
     ]
    },
    {
     "name": "stderr",
     "output_type": "stream",
     "text": [
      "100%|██████████| 100/100 [00:05<00:00, 19.22it/s]\n",
      "  2%|▏         | 2/100 [00:00<00:05, 18.98it/s]"
     ]
    },
    {
     "name": "stdout",
     "output_type": "stream",
     "text": [
      "bg 18/100\n"
     ]
    },
    {
     "name": "stderr",
     "output_type": "stream",
     "text": [
      "100%|██████████| 100/100 [00:05<00:00, 18.79it/s]\n",
      "  3%|▎         | 3/100 [00:00<00:04, 20.56it/s]"
     ]
    },
    {
     "name": "stdout",
     "output_type": "stream",
     "text": [
      "bg 19/100\n"
     ]
    },
    {
     "name": "stderr",
     "output_type": "stream",
     "text": [
      "100%|██████████| 100/100 [00:05<00:00, 19.97it/s]\n",
      "  2%|▏         | 2/100 [00:00<00:05, 16.44it/s]"
     ]
    },
    {
     "name": "stdout",
     "output_type": "stream",
     "text": [
      "bg 20/100\n"
     ]
    },
    {
     "name": "stderr",
     "output_type": "stream",
     "text": [
      "100%|██████████| 100/100 [00:05<00:00, 19.06it/s]\n",
      "  2%|▏         | 2/100 [00:00<00:06, 15.22it/s]"
     ]
    },
    {
     "name": "stdout",
     "output_type": "stream",
     "text": [
      "bg 21/100\n"
     ]
    },
    {
     "name": "stderr",
     "output_type": "stream",
     "text": [
      "100%|██████████| 100/100 [00:05<00:00, 19.82it/s]\n",
      "  2%|▏         | 2/100 [00:00<00:06, 15.66it/s]"
     ]
    },
    {
     "name": "stdout",
     "output_type": "stream",
     "text": [
      "bg 22/100\n"
     ]
    },
    {
     "name": "stderr",
     "output_type": "stream",
     "text": [
      "100%|██████████| 100/100 [00:05<00:00, 19.74it/s]\n",
      "  3%|▎         | 3/100 [00:00<00:04, 20.53it/s]"
     ]
    },
    {
     "name": "stdout",
     "output_type": "stream",
     "text": [
      "bg 23/100\n"
     ]
    },
    {
     "name": "stderr",
     "output_type": "stream",
     "text": [
      "100%|██████████| 100/100 [00:05<00:00, 19.21it/s]\n",
      "  2%|▏         | 2/100 [00:00<00:06, 15.53it/s]"
     ]
    },
    {
     "name": "stdout",
     "output_type": "stream",
     "text": [
      "bg 24/100\n"
     ]
    },
    {
     "name": "stderr",
     "output_type": "stream",
     "text": [
      "100%|██████████| 100/100 [00:05<00:00, 19.15it/s]\n",
      "  2%|▏         | 2/100 [00:00<00:05, 16.58it/s]"
     ]
    },
    {
     "name": "stdout",
     "output_type": "stream",
     "text": [
      "bg 25/100\n"
     ]
    },
    {
     "name": "stderr",
     "output_type": "stream",
     "text": [
      "100%|██████████| 100/100 [00:05<00:00, 19.60it/s]\n",
      "  2%|▏         | 2/100 [00:00<00:06, 15.45it/s]"
     ]
    },
    {
     "name": "stdout",
     "output_type": "stream",
     "text": [
      "bg 26/100\n"
     ]
    },
    {
     "name": "stderr",
     "output_type": "stream",
     "text": [
      "100%|██████████| 100/100 [00:04<00:00, 20.25it/s]\n",
      "  3%|▎         | 3/100 [00:00<00:04, 21.07it/s]"
     ]
    },
    {
     "name": "stdout",
     "output_type": "stream",
     "text": [
      "bg 27/100\n"
     ]
    },
    {
     "name": "stderr",
     "output_type": "stream",
     "text": [
      "100%|██████████| 100/100 [00:04<00:00, 20.17it/s]\n",
      "  2%|▏         | 2/100 [00:00<00:07, 13.66it/s]"
     ]
    },
    {
     "name": "stdout",
     "output_type": "stream",
     "text": [
      "bg 28/100\n"
     ]
    },
    {
     "name": "stderr",
     "output_type": "stream",
     "text": [
      "100%|██████████| 100/100 [00:04<00:00, 20.09it/s]\n",
      "  2%|▏         | 2/100 [00:00<00:06, 15.08it/s]"
     ]
    },
    {
     "name": "stdout",
     "output_type": "stream",
     "text": [
      "bg 29/100\n"
     ]
    },
    {
     "name": "stderr",
     "output_type": "stream",
     "text": [
      "100%|██████████| 100/100 [00:04<00:00, 20.83it/s]\n",
      "  3%|▎         | 3/100 [00:00<00:04, 21.80it/s]"
     ]
    },
    {
     "name": "stdout",
     "output_type": "stream",
     "text": [
      "bg 30/100\n"
     ]
    },
    {
     "name": "stderr",
     "output_type": "stream",
     "text": [
      "100%|██████████| 100/100 [00:04<00:00, 20.65it/s]\n",
      "  2%|▏         | 2/100 [00:00<00:05, 17.53it/s]"
     ]
    },
    {
     "name": "stdout",
     "output_type": "stream",
     "text": [
      "bg 31/100\n"
     ]
    },
    {
     "name": "stderr",
     "output_type": "stream",
     "text": [
      "100%|██████████| 100/100 [00:05<00:00, 19.01it/s]\n",
      "  2%|▏         | 2/100 [00:00<00:05, 17.95it/s]"
     ]
    },
    {
     "name": "stdout",
     "output_type": "stream",
     "text": [
      "bg 32/100\n"
     ]
    },
    {
     "name": "stderr",
     "output_type": "stream",
     "text": [
      "100%|██████████| 100/100 [00:05<00:00, 19.73it/s]\n",
      "  2%|▏         | 2/100 [00:00<00:07, 13.45it/s]"
     ]
    },
    {
     "name": "stdout",
     "output_type": "stream",
     "text": [
      "bg 33/100\n"
     ]
    },
    {
     "name": "stderr",
     "output_type": "stream",
     "text": [
      "100%|██████████| 100/100 [00:05<00:00, 18.82it/s]\n",
      "  2%|▏         | 2/100 [00:00<00:07, 13.30it/s]"
     ]
    },
    {
     "name": "stdout",
     "output_type": "stream",
     "text": [
      "bg 34/100\n"
     ]
    },
    {
     "name": "stderr",
     "output_type": "stream",
     "text": [
      "100%|██████████| 100/100 [00:05<00:00, 19.95it/s]\n",
      "  3%|▎         | 3/100 [00:00<00:04, 20.87it/s]"
     ]
    },
    {
     "name": "stdout",
     "output_type": "stream",
     "text": [
      "bg 35/100\n"
     ]
    },
    {
     "name": "stderr",
     "output_type": "stream",
     "text": [
      "100%|██████████| 100/100 [00:05<00:00, 19.34it/s]\n",
      "  3%|▎         | 3/100 [00:00<00:04, 20.30it/s]"
     ]
    },
    {
     "name": "stdout",
     "output_type": "stream",
     "text": [
      "bg 36/100\n"
     ]
    },
    {
     "name": "stderr",
     "output_type": "stream",
     "text": [
      "100%|██████████| 100/100 [00:05<00:00, 19.85it/s]\n",
      "  2%|▏         | 2/100 [00:00<00:05, 18.51it/s]"
     ]
    },
    {
     "name": "stdout",
     "output_type": "stream",
     "text": [
      "bg 37/100\n"
     ]
    },
    {
     "name": "stderr",
     "output_type": "stream",
     "text": [
      "100%|██████████| 100/100 [00:05<00:00, 17.50it/s]\n",
      "  2%|▏         | 2/100 [00:00<00:05, 16.61it/s]"
     ]
    },
    {
     "name": "stdout",
     "output_type": "stream",
     "text": [
      "bg 38/100\n"
     ]
    },
    {
     "name": "stderr",
     "output_type": "stream",
     "text": [
      "100%|██████████| 100/100 [00:05<00:00, 19.91it/s]\n",
      "  3%|▎         | 3/100 [00:00<00:04, 21.48it/s]"
     ]
    },
    {
     "name": "stdout",
     "output_type": "stream",
     "text": [
      "bg 39/100\n"
     ]
    },
    {
     "name": "stderr",
     "output_type": "stream",
     "text": [
      "100%|██████████| 100/100 [00:04<00:00, 20.51it/s]\n",
      "  3%|▎         | 3/100 [00:00<00:04, 21.22it/s]"
     ]
    },
    {
     "name": "stdout",
     "output_type": "stream",
     "text": [
      "bg 40/100\n"
     ]
    },
    {
     "name": "stderr",
     "output_type": "stream",
     "text": [
      "100%|██████████| 100/100 [00:05<00:00, 18.90it/s]\n",
      "  2%|▏         | 2/100 [00:00<00:05, 18.47it/s]"
     ]
    },
    {
     "name": "stdout",
     "output_type": "stream",
     "text": [
      "bg 41/100\n"
     ]
    },
    {
     "name": "stderr",
     "output_type": "stream",
     "text": [
      "100%|██████████| 100/100 [00:05<00:00, 18.91it/s]\n",
      "  2%|▏         | 2/100 [00:00<00:05, 17.87it/s]"
     ]
    },
    {
     "name": "stdout",
     "output_type": "stream",
     "text": [
      "bg 42/100\n"
     ]
    },
    {
     "name": "stderr",
     "output_type": "stream",
     "text": [
      "100%|██████████| 100/100 [00:05<00:00, 19.86it/s]\n",
      "  2%|▏         | 2/100 [00:00<00:04, 19.92it/s]"
     ]
    },
    {
     "name": "stdout",
     "output_type": "stream",
     "text": [
      "bg 43/100\n"
     ]
    },
    {
     "name": "stderr",
     "output_type": "stream",
     "text": [
      "100%|██████████| 100/100 [00:05<00:00, 18.70it/s]\n",
      "  3%|▎         | 3/100 [00:00<00:04, 21.42it/s]"
     ]
    },
    {
     "name": "stdout",
     "output_type": "stream",
     "text": [
      "bg 44/100\n"
     ]
    },
    {
     "name": "stderr",
     "output_type": "stream",
     "text": [
      "100%|██████████| 100/100 [00:05<00:00, 19.69it/s]\n",
      "  2%|▏         | 2/100 [00:00<00:06, 16.21it/s]"
     ]
    },
    {
     "name": "stdout",
     "output_type": "stream",
     "text": [
      "bg 45/100\n"
     ]
    },
    {
     "name": "stderr",
     "output_type": "stream",
     "text": [
      "100%|██████████| 100/100 [00:04<00:00, 20.41it/s]\n",
      "  2%|▏         | 2/100 [00:00<00:06, 15.12it/s]"
     ]
    },
    {
     "name": "stdout",
     "output_type": "stream",
     "text": [
      "bg 46/100\n"
     ]
    },
    {
     "name": "stderr",
     "output_type": "stream",
     "text": [
      "100%|██████████| 100/100 [00:04<00:00, 20.44it/s]\n",
      "  3%|▎         | 3/100 [00:00<00:04, 21.24it/s]"
     ]
    },
    {
     "name": "stdout",
     "output_type": "stream",
     "text": [
      "bg 47/100\n"
     ]
    },
    {
     "name": "stderr",
     "output_type": "stream",
     "text": [
      "100%|██████████| 100/100 [00:04<00:00, 21.01it/s]\n",
      "  2%|▏         | 2/100 [00:00<00:06, 15.17it/s]"
     ]
    },
    {
     "name": "stdout",
     "output_type": "stream",
     "text": [
      "bg 48/100\n"
     ]
    },
    {
     "name": "stderr",
     "output_type": "stream",
     "text": [
      "100%|██████████| 100/100 [00:05<00:00, 19.29it/s]\n",
      "  3%|▎         | 3/100 [00:00<00:04, 19.77it/s]"
     ]
    },
    {
     "name": "stdout",
     "output_type": "stream",
     "text": [
      "bg 49/100\n"
     ]
    },
    {
     "name": "stderr",
     "output_type": "stream",
     "text": [
      "100%|██████████| 100/100 [00:05<00:00, 19.46it/s]\n",
      "  3%|▎         | 3/100 [00:00<00:04, 20.51it/s]"
     ]
    },
    {
     "name": "stdout",
     "output_type": "stream",
     "text": [
      "bg 50/100\n"
     ]
    },
    {
     "name": "stderr",
     "output_type": "stream",
     "text": [
      "100%|██████████| 100/100 [00:04<00:00, 20.47it/s]\n",
      "  2%|▏         | 2/100 [00:00<00:06, 15.39it/s]"
     ]
    },
    {
     "name": "stdout",
     "output_type": "stream",
     "text": [
      "bg 51/100\n"
     ]
    },
    {
     "name": "stderr",
     "output_type": "stream",
     "text": [
      "100%|██████████| 100/100 [00:05<00:00, 19.70it/s]\n",
      "  3%|▎         | 3/100 [00:00<00:04, 21.82it/s]"
     ]
    },
    {
     "name": "stdout",
     "output_type": "stream",
     "text": [
      "bg 52/100\n"
     ]
    },
    {
     "name": "stderr",
     "output_type": "stream",
     "text": [
      "100%|██████████| 100/100 [00:04<00:00, 21.32it/s]\n",
      "  3%|▎         | 3/100 [00:00<00:04, 21.09it/s]"
     ]
    },
    {
     "name": "stdout",
     "output_type": "stream",
     "text": [
      "bg 53/100\n"
     ]
    },
    {
     "name": "stderr",
     "output_type": "stream",
     "text": [
      "100%|██████████| 100/100 [00:04<00:00, 21.16it/s]\n",
      "  2%|▏         | 2/100 [00:00<00:06, 15.67it/s]"
     ]
    },
    {
     "name": "stdout",
     "output_type": "stream",
     "text": [
      "bg 54/100\n"
     ]
    },
    {
     "name": "stderr",
     "output_type": "stream",
     "text": [
      "100%|██████████| 100/100 [00:05<00:00, 19.42it/s]\n",
      "  3%|▎         | 3/100 [00:00<00:04, 20.95it/s]"
     ]
    },
    {
     "name": "stdout",
     "output_type": "stream",
     "text": [
      "bg 55/100\n"
     ]
    },
    {
     "name": "stderr",
     "output_type": "stream",
     "text": [
      "100%|██████████| 100/100 [00:04<00:00, 20.00it/s]\n",
      "  2%|▏         | 2/100 [00:00<00:04, 19.85it/s]"
     ]
    },
    {
     "name": "stdout",
     "output_type": "stream",
     "text": [
      "bg 56/100\n"
     ]
    },
    {
     "name": "stderr",
     "output_type": "stream",
     "text": [
      "100%|██████████| 100/100 [00:05<00:00, 19.84it/s]\n",
      "  3%|▎         | 3/100 [00:00<00:04, 21.47it/s]"
     ]
    },
    {
     "name": "stdout",
     "output_type": "stream",
     "text": [
      "bg 57/100\n"
     ]
    },
    {
     "name": "stderr",
     "output_type": "stream",
     "text": [
      "100%|██████████| 100/100 [00:04<00:00, 20.30it/s]\n",
      "  2%|▏         | 2/100 [00:00<00:06, 15.74it/s]"
     ]
    },
    {
     "name": "stdout",
     "output_type": "stream",
     "text": [
      "bg 58/100\n"
     ]
    },
    {
     "name": "stderr",
     "output_type": "stream",
     "text": [
      "100%|██████████| 100/100 [00:04<00:00, 20.46it/s]\n",
      "  3%|▎         | 3/100 [00:00<00:04, 21.58it/s]"
     ]
    },
    {
     "name": "stdout",
     "output_type": "stream",
     "text": [
      "bg 59/100\n"
     ]
    },
    {
     "name": "stderr",
     "output_type": "stream",
     "text": [
      "100%|██████████| 100/100 [00:05<00:00, 19.75it/s]\n",
      "  3%|▎         | 3/100 [00:00<00:04, 20.80it/s]"
     ]
    },
    {
     "name": "stdout",
     "output_type": "stream",
     "text": [
      "bg 60/100\n"
     ]
    },
    {
     "name": "stderr",
     "output_type": "stream",
     "text": [
      "100%|██████████| 100/100 [00:04<00:00, 20.83it/s]\n",
      "  2%|▏         | 2/100 [00:00<00:06, 15.30it/s]"
     ]
    },
    {
     "name": "stdout",
     "output_type": "stream",
     "text": [
      "bg 61/100\n"
     ]
    },
    {
     "name": "stderr",
     "output_type": "stream",
     "text": [
      "100%|██████████| 100/100 [00:04<00:00, 20.35it/s]\n",
      "  2%|▏         | 2/100 [00:00<00:06, 15.10it/s]"
     ]
    },
    {
     "name": "stdout",
     "output_type": "stream",
     "text": [
      "bg 62/100\n"
     ]
    },
    {
     "name": "stderr",
     "output_type": "stream",
     "text": [
      "100%|██████████| 100/100 [00:04<00:00, 20.35it/s]\n",
      "  3%|▎         | 3/100 [00:00<00:04, 21.02it/s]"
     ]
    },
    {
     "name": "stdout",
     "output_type": "stream",
     "text": [
      "bg 63/100\n"
     ]
    },
    {
     "name": "stderr",
     "output_type": "stream",
     "text": [
      "100%|██████████| 100/100 [00:04<00:00, 20.56it/s]\n",
      "  3%|▎         | 3/100 [00:00<00:04, 20.55it/s]"
     ]
    },
    {
     "name": "stdout",
     "output_type": "stream",
     "text": [
      "bg 64/100\n"
     ]
    },
    {
     "name": "stderr",
     "output_type": "stream",
     "text": [
      "100%|██████████| 100/100 [00:04<00:00, 20.74it/s]\n",
      "  2%|▏         | 2/100 [00:00<00:05, 16.50it/s]"
     ]
    },
    {
     "name": "stdout",
     "output_type": "stream",
     "text": [
      "bg 65/100\n"
     ]
    },
    {
     "name": "stderr",
     "output_type": "stream",
     "text": [
      "100%|██████████| 100/100 [00:05<00:00, 20.00it/s]\n",
      "  2%|▏         | 2/100 [00:00<00:06, 15.38it/s]"
     ]
    },
    {
     "name": "stdout",
     "output_type": "stream",
     "text": [
      "bg 66/100\n"
     ]
    },
    {
     "name": "stderr",
     "output_type": "stream",
     "text": [
      "100%|██████████| 100/100 [00:04<00:00, 20.18it/s]\n",
      "  2%|▏         | 2/100 [00:00<00:07, 13.52it/s]"
     ]
    },
    {
     "name": "stdout",
     "output_type": "stream",
     "text": [
      "bg 67/100\n"
     ]
    },
    {
     "name": "stderr",
     "output_type": "stream",
     "text": [
      "100%|██████████| 100/100 [00:05<00:00, 19.00it/s]\n",
      "  2%|▏         | 2/100 [00:00<00:07, 13.06it/s]"
     ]
    },
    {
     "name": "stdout",
     "output_type": "stream",
     "text": [
      "bg 68/100\n"
     ]
    },
    {
     "name": "stderr",
     "output_type": "stream",
     "text": [
      "100%|██████████| 100/100 [00:05<00:00, 18.86it/s]\n",
      "  3%|▎         | 3/100 [00:00<00:04, 20.66it/s]"
     ]
    },
    {
     "name": "stdout",
     "output_type": "stream",
     "text": [
      "bg 69/100\n"
     ]
    },
    {
     "name": "stderr",
     "output_type": "stream",
     "text": [
      "100%|██████████| 100/100 [00:05<00:00, 19.25it/s]\n",
      "  2%|▏         | 2/100 [00:00<00:07, 13.35it/s]"
     ]
    },
    {
     "name": "stdout",
     "output_type": "stream",
     "text": [
      "bg 70/100\n"
     ]
    },
    {
     "name": "stderr",
     "output_type": "stream",
     "text": [
      "100%|██████████| 100/100 [00:05<00:00, 19.59it/s]\n",
      "  2%|▏         | 2/100 [00:00<00:07, 13.31it/s]"
     ]
    },
    {
     "name": "stdout",
     "output_type": "stream",
     "text": [
      "bg 71/100\n"
     ]
    },
    {
     "name": "stderr",
     "output_type": "stream",
     "text": [
      "100%|██████████| 100/100 [00:05<00:00, 18.41it/s]\n",
      "  2%|▏         | 2/100 [00:00<00:06, 15.52it/s]"
     ]
    },
    {
     "name": "stdout",
     "output_type": "stream",
     "text": [
      "bg 72/100\n"
     ]
    },
    {
     "name": "stderr",
     "output_type": "stream",
     "text": [
      "100%|██████████| 100/100 [00:04<00:00, 20.10it/s]\n",
      "  3%|▎         | 3/100 [00:00<00:04, 21.02it/s]"
     ]
    },
    {
     "name": "stdout",
     "output_type": "stream",
     "text": [
      "bg 73/100\n"
     ]
    },
    {
     "name": "stderr",
     "output_type": "stream",
     "text": [
      "100%|██████████| 100/100 [00:04<00:00, 20.66it/s]\n",
      "  2%|▏         | 2/100 [00:00<00:06, 15.42it/s]"
     ]
    },
    {
     "name": "stdout",
     "output_type": "stream",
     "text": [
      "bg 74/100\n"
     ]
    },
    {
     "name": "stderr",
     "output_type": "stream",
     "text": [
      "100%|██████████| 100/100 [00:05<00:00, 19.60it/s]\n",
      "  2%|▏         | 2/100 [00:00<00:06, 15.34it/s]"
     ]
    },
    {
     "name": "stdout",
     "output_type": "stream",
     "text": [
      "bg 75/100\n"
     ]
    },
    {
     "name": "stderr",
     "output_type": "stream",
     "text": [
      "100%|██████████| 100/100 [00:05<00:00, 19.08it/s]\n",
      "  2%|▏         | 2/100 [00:00<00:05, 18.41it/s]"
     ]
    },
    {
     "name": "stdout",
     "output_type": "stream",
     "text": [
      "bg 76/100\n"
     ]
    },
    {
     "name": "stderr",
     "output_type": "stream",
     "text": [
      "100%|██████████| 100/100 [00:04<00:00, 20.79it/s]\n",
      "  3%|▎         | 3/100 [00:00<00:04, 21.39it/s]"
     ]
    },
    {
     "name": "stdout",
     "output_type": "stream",
     "text": [
      "bg 77/100\n"
     ]
    },
    {
     "name": "stderr",
     "output_type": "stream",
     "text": [
      "100%|██████████| 100/100 [00:04<00:00, 20.33it/s]\n",
      "  2%|▏         | 2/100 [00:00<00:06, 14.96it/s]"
     ]
    },
    {
     "name": "stdout",
     "output_type": "stream",
     "text": [
      "bg 78/100\n"
     ]
    },
    {
     "name": "stderr",
     "output_type": "stream",
     "text": [
      "100%|██████████| 100/100 [00:04<00:00, 20.37it/s]\n",
      "  2%|▏         | 2/100 [00:00<00:05, 19.26it/s]"
     ]
    },
    {
     "name": "stdout",
     "output_type": "stream",
     "text": [
      "bg 79/100\n"
     ]
    },
    {
     "name": "stderr",
     "output_type": "stream",
     "text": [
      "100%|██████████| 100/100 [00:04<00:00, 21.08it/s]\n",
      "  3%|▎         | 3/100 [00:00<00:04, 21.51it/s]"
     ]
    },
    {
     "name": "stdout",
     "output_type": "stream",
     "text": [
      "bg 80/100\n"
     ]
    },
    {
     "name": "stderr",
     "output_type": "stream",
     "text": [
      "100%|██████████| 100/100 [00:04<00:00, 21.31it/s]\n",
      "  3%|▎         | 3/100 [00:00<00:04, 21.30it/s]"
     ]
    },
    {
     "name": "stdout",
     "output_type": "stream",
     "text": [
      "bg 81/100\n"
     ]
    },
    {
     "name": "stderr",
     "output_type": "stream",
     "text": [
      "100%|██████████| 100/100 [00:04<00:00, 21.22it/s]\n",
      "  2%|▏         | 2/100 [00:00<00:06, 15.47it/s]"
     ]
    },
    {
     "name": "stdout",
     "output_type": "stream",
     "text": [
      "bg 82/100\n"
     ]
    },
    {
     "name": "stderr",
     "output_type": "stream",
     "text": [
      "100%|██████████| 100/100 [00:04<00:00, 20.44it/s]\n",
      "  2%|▏         | 2/100 [00:00<00:06, 15.53it/s]"
     ]
    },
    {
     "name": "stdout",
     "output_type": "stream",
     "text": [
      "bg 83/100\n"
     ]
    },
    {
     "name": "stderr",
     "output_type": "stream",
     "text": [
      "100%|██████████| 100/100 [00:05<00:00, 19.59it/s]\n",
      "  2%|▏         | 2/100 [00:00<00:04, 19.76it/s]"
     ]
    },
    {
     "name": "stdout",
     "output_type": "stream",
     "text": [
      "bg 84/100\n"
     ]
    },
    {
     "name": "stderr",
     "output_type": "stream",
     "text": [
      "100%|██████████| 100/100 [00:05<00:00, 19.01it/s]\n",
      "  3%|▎         | 3/100 [00:00<00:04, 20.29it/s]"
     ]
    },
    {
     "name": "stdout",
     "output_type": "stream",
     "text": [
      "bg 85/100\n"
     ]
    },
    {
     "name": "stderr",
     "output_type": "stream",
     "text": [
      "100%|██████████| 100/100 [00:04<00:00, 20.18it/s]\n",
      "  2%|▏         | 2/100 [00:00<00:07, 13.59it/s]"
     ]
    },
    {
     "name": "stdout",
     "output_type": "stream",
     "text": [
      "bg 86/100\n"
     ]
    },
    {
     "name": "stderr",
     "output_type": "stream",
     "text": [
      "100%|██████████| 100/100 [00:05<00:00, 18.85it/s]\n",
      "  3%|▎         | 3/100 [00:00<00:04, 20.33it/s]"
     ]
    },
    {
     "name": "stdout",
     "output_type": "stream",
     "text": [
      "bg 87/100\n"
     ]
    },
    {
     "name": "stderr",
     "output_type": "stream",
     "text": [
      "100%|██████████| 100/100 [00:04<00:00, 20.35it/s]\n",
      "  2%|▏         | 2/100 [00:00<00:06, 15.09it/s]"
     ]
    },
    {
     "name": "stdout",
     "output_type": "stream",
     "text": [
      "bg 88/100\n"
     ]
    },
    {
     "name": "stderr",
     "output_type": "stream",
     "text": [
      "100%|██████████| 100/100 [00:04<00:00, 20.48it/s]\n",
      "  2%|▏         | 2/100 [00:00<00:06, 16.24it/s]"
     ]
    },
    {
     "name": "stdout",
     "output_type": "stream",
     "text": [
      "bg 89/100\n"
     ]
    },
    {
     "name": "stderr",
     "output_type": "stream",
     "text": [
      "100%|██████████| 100/100 [00:04<00:00, 20.36it/s]\n",
      "  2%|▏         | 2/100 [00:00<00:06, 15.90it/s]"
     ]
    },
    {
     "name": "stdout",
     "output_type": "stream",
     "text": [
      "bg 90/100\n"
     ]
    },
    {
     "name": "stderr",
     "output_type": "stream",
     "text": [
      "100%|██████████| 100/100 [00:05<00:00, 19.79it/s]\n",
      "  3%|▎         | 3/100 [00:00<00:04, 21.46it/s]"
     ]
    },
    {
     "name": "stdout",
     "output_type": "stream",
     "text": [
      "bg 91/100\n"
     ]
    },
    {
     "name": "stderr",
     "output_type": "stream",
     "text": [
      "100%|██████████| 100/100 [00:05<00:00, 19.52it/s]\n",
      "  3%|▎         | 3/100 [00:00<00:04, 20.10it/s]"
     ]
    },
    {
     "name": "stdout",
     "output_type": "stream",
     "text": [
      "bg 92/100\n"
     ]
    },
    {
     "name": "stderr",
     "output_type": "stream",
     "text": [
      "100%|██████████| 100/100 [00:04<00:00, 20.14it/s]\n",
      "  2%|▏         | 2/100 [00:00<00:07, 13.10it/s]"
     ]
    },
    {
     "name": "stdout",
     "output_type": "stream",
     "text": [
      "bg 93/100\n"
     ]
    },
    {
     "name": "stderr",
     "output_type": "stream",
     "text": [
      "100%|██████████| 100/100 [00:04<00:00, 20.44it/s]\n",
      "  2%|▏         | 2/100 [00:00<00:07, 13.44it/s]"
     ]
    },
    {
     "name": "stdout",
     "output_type": "stream",
     "text": [
      "bg 94/100\n"
     ]
    },
    {
     "name": "stderr",
     "output_type": "stream",
     "text": [
      "100%|██████████| 100/100 [00:05<00:00, 18.74it/s]\n",
      "  2%|▏         | 2/100 [00:00<00:06, 15.11it/s]"
     ]
    },
    {
     "name": "stdout",
     "output_type": "stream",
     "text": [
      "bg 95/100\n"
     ]
    },
    {
     "name": "stderr",
     "output_type": "stream",
     "text": [
      "100%|██████████| 100/100 [00:05<00:00, 19.04it/s]\n",
      "  3%|▎         | 3/100 [00:00<00:04, 21.33it/s]"
     ]
    },
    {
     "name": "stdout",
     "output_type": "stream",
     "text": [
      "bg 96/100\n"
     ]
    },
    {
     "name": "stderr",
     "output_type": "stream",
     "text": [
      "100%|██████████| 100/100 [00:04<00:00, 21.28it/s]\n",
      "  2%|▏         | 2/100 [00:00<00:05, 17.83it/s]"
     ]
    },
    {
     "name": "stdout",
     "output_type": "stream",
     "text": [
      "bg 97/100\n"
     ]
    },
    {
     "name": "stderr",
     "output_type": "stream",
     "text": [
      "100%|██████████| 100/100 [00:04<00:00, 20.14it/s]\n",
      "  2%|▏         | 2/100 [00:00<00:07, 13.54it/s]"
     ]
    },
    {
     "name": "stdout",
     "output_type": "stream",
     "text": [
      "bg 98/100\n"
     ]
    },
    {
     "name": "stderr",
     "output_type": "stream",
     "text": [
      "100%|██████████| 100/100 [00:05<00:00, 18.81it/s]\n",
      "  2%|▏         | 2/100 [00:00<00:05, 19.45it/s]"
     ]
    },
    {
     "name": "stdout",
     "output_type": "stream",
     "text": [
      "bg 99/100\n"
     ]
    },
    {
     "name": "stderr",
     "output_type": "stream",
     "text": [
      "100%|██████████| 100/100 [00:05<00:00, 19.97it/s]\n"
     ]
    }
   ],
   "source": [
    "feature_names = X.columns\n",
    "f = lambda x: model.predict(xgboost.DMatrix(pd.DataFrame(x, columns=feature_names)), output_margin=True) # wrapper for the model used by on manifold explainer\n",
    "\n",
    "# multiple background result with individual run\n",
    "manifold_edge_credits = [] # save for each run\n",
    "bg_on_manifold = X.fillna(X.mean()).sample(100) # used to learn conditional dependence\n",
    "for i in range(len(bg)): # average run result using linearity axiom \n",
    "    print(f'bg {i}/{len(bg)}')\n",
    "    for j in range(nruns):\n",
    "        explainer = OnManifoldExplainer(f, pd.concat([bg[i:i+1], bg_on_manifold]), nruns=1, sigma_sq=1e-1, single_bg=True)\n",
    "        cf_on_manifold = explainer.shap_values(X[:nsamples])\n",
    "        manifold_edge_credits.append(cf_on_manifold) # use node name is more portable vs. node"
   ]
  },
  {
   "cell_type": "code",
   "execution_count": 13,
   "metadata": {},
   "outputs": [
    {
     "name": "stdout",
     "output_type": "stream",
     "text": [
      "On manifold\n"
     ]
    },
    {
     "data": {
      "image/png": "[encoded data removed]",
      "text/plain": [
       "<Figure size 432x288 with 1 Axes>"
      ]
     },
     "metadata": {
      "needs_background": "light"
     },
     "output_type": "display_data"
    }
   ],
   "source": [
    "print('On manifold')\n",
    "sum(manifold_edge_credits).draw(sample_ind, show=False, max_display=10)\n",
    "plt.tight_layout()\n",
    "plt.show()"
   ]
  },
  {
   "cell_type": "markdown",
   "metadata": {},
   "source": [
    "# Shapley Flow"
   ]
  },
  {
   "cell_type": "code",
   "execution_count": 14,
   "metadata": {
    "collapsed": true,
    "jupyter": {
     "outputs_hidden": true
    }
   },
   "outputs": [
    {
     "name": "stderr",
     "output_type": "stream",
     "text": [
      "learning dependency for White blood cells:   0%|          | 0/14 [00:00<?, ?it/s]"
     ]
    },
    {
     "name": "stdout",
     "output_type": "stream",
     "text": [
      "[0]\ttest-rmse:7.24529\n",
      "[100]\ttest-rmse:6.04540\n",
      "[200]\ttest-rmse:5.08526\n",
      "[300]\ttest-rmse:4.32187\n",
      "[400]\ttest-rmse:3.72444\n",
      "[499]\ttest-rmse:3.26567\n"
     ]
    },
    {
     "name": "stderr",
     "output_type": "stream",
     "text": [
      "learning dependency for Serum Albumin:   7%|▋         | 1/14 [00:00<00:08,  1.48it/s]    "
     ]
    },
    {
     "name": "stdout",
     "output_type": "stream",
     "text": [
      "[0]\ttest-rmse:3.87407\n",
      "[100]\ttest-rmse:3.17810\n",
      "[200]\ttest-rmse:2.60949\n",
      "[300]\ttest-rmse:2.14547\n",
      "[400]\ttest-rmse:1.76748\n",
      "[499]\ttest-rmse:1.46278\n"
     ]
    },
    {
     "name": "stderr",
     "output_type": "stream",
     "text": [
      "learning dependency for Serum Cholesterol:  14%|█▍        | 2/14 [00:01<00:07,  1.61it/s]"
     ]
    },
    {
     "name": "stdout",
     "output_type": "stream",
     "text": [
      "[0]\ttest-rmse:226.94263\n",
      "[100]\ttest-rmse:187.87550\n",
      "[200]\ttest-rmse:156.24817\n",
      "[300]\ttest-rmse:130.78793\n",
      "[400]\ttest-rmse:110.44482\n",
      "[499]\ttest-rmse:94.44800\n"
     ]
    },
    {
     "name": "stderr",
     "output_type": "stream",
     "text": [
      "learning dependency for Diastolic BP:  21%|██▏       | 3/14 [00:01<00:06,  1.59it/s]     "
     ]
    },
    {
     "name": "stdout",
     "output_type": "stream",
     "text": [
      "[0]\ttest-rmse:83.71988\n",
      "[100]\ttest-rmse:68.93323\n",
      "[200]\ttest-rmse:56.90493\n",
      "[300]\ttest-rmse:47.15287\n",
      "[400]\ttest-rmse:39.27799\n",
      "[499]\ttest-rmse:33.00833\n"
     ]
    },
    {
     "name": "stderr",
     "output_type": "stream",
     "text": [
      "learning dependency for BMI:  29%|██▊       | 4/14 [00:02<00:06,  1.60it/s]         "
     ]
    },
    {
     "name": "stdout",
     "output_type": "stream",
     "text": [
      "[0]\ttest-rmse:25.68026\n",
      "[100]\ttest-rmse:21.22700\n",
      "[200]\ttest-rmse:17.61862\n",
      "[300]\ttest-rmse:14.70853\n",
      "[400]\ttest-rmse:12.38153\n",
      "[499]\ttest-rmse:10.55001\n"
     ]
    },
    {
     "name": "stderr",
     "output_type": "stream",
     "text": [
      "learning dependency for Serum Magnesium:  36%|███▌      | 5/14 [00:02<00:05,  1.65it/s]"
     ]
    },
    {
     "name": "stdout",
     "output_type": "stream",
     "text": [
      "[0]\ttest-rmse:1.18907\n",
      "[100]\ttest-rmse:0.97714\n",
      "[200]\ttest-rmse:0.80443\n",
      "[300]\ttest-rmse:0.66402\n",
      "[400]\ttest-rmse:0.55023\n",
      "[499]\ttest-rmse:0.45920\n"
     ]
    },
    {
     "name": "stderr",
     "output_type": "stream",
     "text": [
      "learning dependency for Sedimentation rate:  43%|████▎     | 6/14 [00:03<00:04,  1.72it/s]"
     ]
    },
    {
     "name": "stdout",
     "output_type": "stream",
     "text": [
      "[0]\ttest-rmse:19.38453\n",
      "[100]\ttest-rmse:16.95487\n",
      "[200]\ttest-rmse:15.09857\n",
      "[300]\ttest-rmse:13.70687\n",
      "[400]\ttest-rmse:12.67748\n",
      "[499]\ttest-rmse:11.94172\n"
     ]
    },
    {
     "name": "stderr",
     "output_type": "stream",
     "text": [
      "learning dependency for TS:  50%|█████     | 7/14 [00:04<00:04,  1.68it/s]                "
     ]
    },
    {
     "name": "stdout",
     "output_type": "stream",
     "text": [
      "[0]\ttest-rmse:29.79472\n",
      "[100]\ttest-rmse:25.10775\n",
      "[200]\ttest-rmse:21.40968\n",
      "[300]\ttest-rmse:18.53344\n",
      "[400]\ttest-rmse:16.33232\n",
      "[499]\ttest-rmse:14.69491\n"
     ]
    },
    {
     "name": "stderr",
     "output_type": "stream",
     "text": [
      "learning dependency for Serum Iron:  57%|█████▋    | 8/14 [00:04<00:03,  1.65it/s]"
     ]
    },
    {
     "name": "stdout",
     "output_type": "stream",
     "text": [
      "[0]\ttest-rmse:105.80270\n",
      "[100]\ttest-rmse:88.86579\n",
      "[200]\ttest-rmse:75.45215\n",
      "[300]\ttest-rmse:64.97789\n",
      "[400]\ttest-rmse:56.92674\n",
      "[499]\ttest-rmse:50.90213\n"
     ]
    },
    {
     "name": "stderr",
     "output_type": "stream",
     "text": [
      "learning dependency for Serum Protein:  64%|██████▍   | 9/14 [00:05<00:03,  1.65it/s]"
     ]
    },
    {
     "name": "stdout",
     "output_type": "stream",
     "text": [
      "[0]\ttest-rmse:6.61101\n",
      "[100]\ttest-rmse:5.42027\n",
      "[200]\ttest-rmse:4.44728\n",
      "[300]\ttest-rmse:3.65281\n",
      "[400]\ttest-rmse:3.00507\n",
      "[499]\ttest-rmse:2.48216\n"
     ]
    },
    {
     "name": "stderr",
     "output_type": "stream",
     "text": [
      "learning dependency for Systolic BP:  71%|███████▏  | 10/14 [00:05<00:02,  1.86it/s]  "
     ]
    },
    {
     "name": "stdout",
     "output_type": "stream",
     "text": [
      "[0]\ttest-rmse:136.18751\n",
      "[100]\ttest-rmse:112.07594\n",
      "[200]\ttest-rmse:92.46082\n",
      "[300]\ttest-rmse:76.55484\n",
      "[400]\ttest-rmse:63.71541\n",
      "[499]\ttest-rmse:53.49734\n"
     ]
    },
    {
     "name": "stderr",
     "output_type": "stream",
     "text": [
      "learning dependency for Red blood cells:  79%|███████▊  | 11/14 [00:06<00:01,  1.80it/s]"
     ]
    },
    {
     "name": "stdout",
     "output_type": "stream",
     "text": [
      "[0]\ttest-rmse:56.62017\n",
      "[100]\ttest-rmse:47.20332\n",
      "[200]\ttest-rmse:39.64856\n",
      "[300]\ttest-rmse:33.63278\n",
      "[400]\ttest-rmse:28.88806\n",
      "[499]\ttest-rmse:25.23218\n"
     ]
    },
    {
     "name": "stderr",
     "output_type": "stream",
     "text": [
      "learning dependency for TIBC:  86%|████████▌ | 12/14 [00:06<00:01,  1.86it/s]           "
     ]
    },
    {
     "name": "stdout",
     "output_type": "stream",
     "text": [
      "[0]\ttest-rmse:365.08758\n",
      "[100]\ttest-rmse:300.40857\n",
      "[200]\ttest-rmse:247.82375\n",
      "[300]\ttest-rmse:205.21208\n",
      "[400]\ttest-rmse:170.85916\n",
      "[499]\ttest-rmse:143.55502\n"
     ]
    },
    {
     "name": "stderr",
     "output_type": "stream",
     "text": [
      "learning dependency for Poverty index:  93%|█████████▎| 13/14 [00:07<00:00,  1.83it/s]"
     ]
    },
    {
     "name": "stdout",
     "output_type": "stream",
     "text": [
      "[0]\ttest-rmse:365.16959\n",
      "[100]\ttest-rmse:325.23489\n",
      "[200]\ttest-rmse:295.42532\n",
      "[300]\ttest-rmse:273.60980\n",
      "[400]\ttest-rmse:257.95938\n",
      "[499]\ttest-rmse:247.04848\n"
     ]
    },
    {
     "name": "stderr",
     "output_type": "stream",
     "text": [
      "learning dependency for Poverty index: 100%|██████████| 14/14 [00:08<00:00,  1.75it/s]\n"
     ]
    }
   ],
   "source": [
    "causal_links = CausalLinks()\n",
    "categorical_feature_names = ['Race', 'Sex']\n",
    "display_translator = translator(X.columns, X, X_display)\n",
    "target_name = 'predicted hazard'\n",
    "feature_names = list(X.columns)\n",
    "\n",
    "# build causal links\n",
    "causal_links.add_causes_effects(feature_names, target_name, create_xgboost_f(feature_names, model, output_margin=True)) # the target uses log(HR) instead of HR\n",
    "A = ['Diastolic BP', 'Systolic BP']\n",
    "D = ['Pulse pressure'] # Systolic BP - Diastolic BP\n",
    "causal_links.add_causes_effects(A, D, lambda dbp, sdp: sdp-dbp)\n",
    "A = ['Age', 'Sex', 'Poverty index', 'Race']\n",
    "D = list(set(feature_names) - set(A) - set(['Pulse pressure']))\n",
    "causal_links.add_causes_effects(A, D)\n",
    "A = ['Age', 'Sex', 'Race']\n",
    "D = ['Poverty index']\n",
    "causal_links.add_causes_effects(A, D)\n",
    "\n",
    "causal_graph = build_feature_graph(X.fillna(X.mean()), causal_links, categorical_feature_names, display_translator, target_name)"
   ]
  },
  {
   "cell_type": "code",
   "execution_count": 15,
   "metadata": {},
   "outputs": [
    {
     "data": {
      "image/svg+xml": [
       "<?xml version=\"1.0\" encoding=\"UTF-8\" standalone=\"no\"?>\n",
       "<!DOCTYPE svg PUBLIC \"-//W3C//DTD SVG 1.1//EN\"\n",
       " \"http://www.w3.org/Graphics/SVG/1.1/DTD/svg11.dtd\">\n",
       "<!-- Generated by graphviz version 2.38.0 (20140413.2041)\n",
       " -->\n",
       "<!-- Title: %3 Pages: 1 -->\n",
       "<svg width=\"2516pt\" height=\"404pt\"\n",
       " viewBox=\"0.00 0.00 2516.00 404.00\" xmlns=\"http://www.w3.org/2000/svg\" xmlns:xlink=\"http://www.w3.org/1999/xlink\">\n",
       "<g id=\"graph0\" class=\"graph\" transform=\"scale(1 1) rotate(0) translate(4 400)\">\n",
       "<title>%3</title>\n",
       "<polygon fill=\"white\" stroke=\"none\" points=\"-4,4 -4,-400 2512,-400 2512,4 -4,4\"/>\n",
       "<!-- Poverty index -->\n",
       "<g id=\"node1\" class=\"node\"><title>Poverty index</title>\n",
       "<ellipse fill=\"none\" stroke=\"black\" cx=\"994\" cy=\"-306\" rx=\"59.5901\" ry=\"18\"/>\n",
       "<text text-anchor=\"middle\" x=\"994\" y=\"-302.3\" font-family=\"Times,serif\" font-size=\"14.00\">Poverty index</text>\n",
       "</g>\n",
       "<!-- Blood protein -->\n",
       "<g id=\"node2\" class=\"node\"><title>Blood protein</title>\n",
       "<ellipse fill=\"none\" stroke=\"black\" cx=\"1673\" cy=\"-234\" rx=\"59.5901\" ry=\"18\"/>\n",
       "<text text-anchor=\"middle\" x=\"1673\" y=\"-230.3\" font-family=\"Times,serif\" font-size=\"14.00\">Blood protein</text>\n",
       "</g>\n",
       "<!-- Poverty index&#45;&gt;Blood protein -->\n",
       "<g id=\"edge1\" class=\"edge\"><title>Poverty index&#45;&gt;Blood protein</title>\n",
       "<path fill=\"none\" stroke=\"black\" d=\"M1036.85,-293.343C1045.46,-291.313 1054.48,-289.405 1063,-288 1248.29,-257.444 1296.92,-268.412 1484,-252 1524.8,-248.421 1570.54,-244.309 1606.8,-241.026\"/>\n",
       "<polygon fill=\"black\" stroke=\"black\" points=\"1607.13,-244.511 1616.77,-240.123 1606.49,-237.54 1607.13,-244.511\"/>\n",
       "</g>\n",
       "<!-- Iron -->\n",
       "<g id=\"node3\" class=\"node\"><title>Iron</title>\n",
       "<ellipse fill=\"none\" stroke=\"black\" cx=\"2174\" cy=\"-234\" rx=\"27\" ry=\"18\"/>\n",
       "<text text-anchor=\"middle\" x=\"2174\" y=\"-230.3\" font-family=\"Times,serif\" font-size=\"14.00\">Iron</text>\n",
       "</g>\n",
       "<!-- Poverty index&#45;&gt;Iron -->\n",
       "<g id=\"edge2\" class=\"edge\"><title>Poverty index&#45;&gt;Iron</title>\n",
       "<path fill=\"none\" stroke=\"black\" d=\"M1036.06,-293.203C1044.9,-291.13 1054.2,-289.242 1063,-288 1469.06,-230.655 1575.76,-278.378 1985,-252 2038.04,-248.581 2099.29,-242.72 2137.34,-238.852\"/>\n",
       "<polygon fill=\"black\" stroke=\"black\" points=\"2137.84,-242.32 2147.43,-237.818 2137.12,-235.356 2137.84,-242.32\"/>\n",
       "</g>\n",
       "<!-- Blood pressure -->\n",
       "<g id=\"node4\" class=\"node\"><title>Blood pressure</title>\n",
       "<ellipse fill=\"none\" stroke=\"black\" cx=\"1411\" cy=\"-234\" rx=\"63.8893\" ry=\"18\"/>\n",
       "<text text-anchor=\"middle\" x=\"1411\" y=\"-230.3\" font-family=\"Times,serif\" font-size=\"14.00\">Blood pressure</text>\n",
       "</g>\n",
       "<!-- Poverty index&#45;&gt;Blood pressure -->\n",
       "<g id=\"edge3\" class=\"edge\"><title>Poverty index&#45;&gt;Blood pressure</title>\n",
       "<path fill=\"none\" stroke=\"black\" d=\"M1037.67,-293.609C1046.05,-291.603 1054.77,-289.637 1063,-288 1159.98,-268.71 1273.38,-252.633 1343.7,-243.413\"/>\n",
       "<polygon fill=\"black\" stroke=\"black\" points=\"1344.3,-246.865 1353.76,-242.102 1343.39,-239.924 1344.3,-246.865\"/>\n",
       "</g>\n",
       "<!-- Inflamation -->\n",
       "<g id=\"node5\" class=\"node\"><title>Inflamation</title>\n",
       "<ellipse fill=\"none\" stroke=\"black\" cx=\"1145\" cy=\"-234\" rx=\"51.9908\" ry=\"18\"/>\n",
       "<text text-anchor=\"middle\" x=\"1145\" y=\"-230.3\" font-family=\"Times,serif\" font-size=\"14.00\">Inflamation</text>\n",
       "</g>\n",
       "<!-- Poverty index&#45;&gt;Inflamation -->\n",
       "<g id=\"edge4\" class=\"edge\"><title>Poverty index&#45;&gt;Inflamation</title>\n",
       "<path fill=\"none\" stroke=\"black\" d=\"M1025.29,-290.496C1048.65,-279.666 1080.73,-264.793 1105.81,-253.17\"/>\n",
       "<polygon fill=\"black\" stroke=\"black\" points=\"1107.44,-256.27 1115.04,-248.889 1104.49,-249.92 1107.44,-256.27\"/>\n",
       "</g>\n",
       "<!-- Red blood cells -->\n",
       "<g id=\"node6\" class=\"node\"><title>Red blood cells</title>\n",
       "<ellipse fill=\"none\" stroke=\"black\" cx=\"306\" cy=\"-234\" rx=\"65.7887\" ry=\"18\"/>\n",
       "<text text-anchor=\"middle\" x=\"306\" y=\"-230.3\" font-family=\"Times,serif\" font-size=\"14.00\">Red blood cells</text>\n",
       "</g>\n",
       "<!-- Poverty index&#45;&gt;Red blood cells -->\n",
       "<g id=\"edge5\" class=\"edge\"><title>Poverty index&#45;&gt;Red blood cells</title>\n",
       "<path fill=\"none\" stroke=\"black\" d=\"M938.281,-299.331C813.913,-286.677 513.864,-256.149 376.636,-242.187\"/>\n",
       "<polygon fill=\"black\" stroke=\"black\" points=\"376.948,-238.701 366.645,-241.17 376.239,-245.665 376.948,-238.701\"/>\n",
       "</g>\n",
       "<!-- Serum Magnesium -->\n",
       "<g id=\"node7\" class=\"node\"><title>Serum Magnesium</title>\n",
       "<ellipse fill=\"none\" stroke=\"black\" cx=\"638\" cy=\"-234\" rx=\"79.0865\" ry=\"18\"/>\n",
       "<text text-anchor=\"middle\" x=\"638\" y=\"-230.3\" font-family=\"Times,serif\" font-size=\"14.00\">Serum Magnesium</text>\n",
       "</g>\n",
       "<!-- Poverty index&#45;&gt;Serum Magnesium -->\n",
       "<g id=\"edge6\" class=\"edge\"><title>Poverty index&#45;&gt;Serum Magnesium</title>\n",
       "<path fill=\"none\" stroke=\"black\" d=\"M945.246,-295.414C883.263,-283.226 775.916,-262.118 705.933,-248.358\"/>\n",
       "<polygon fill=\"black\" stroke=\"black\" points=\"706.376,-244.878 695.888,-246.383 705.025,-251.746 706.376,-244.878\"/>\n",
       "</g>\n",
       "<!-- BMI -->\n",
       "<g id=\"node8\" class=\"node\"><title>BMI</title>\n",
       "<ellipse fill=\"none\" stroke=\"black\" cx=\"868\" cy=\"-234\" rx=\"27.8951\" ry=\"18\"/>\n",
       "<text text-anchor=\"middle\" x=\"868\" y=\"-230.3\" font-family=\"Times,serif\" font-size=\"14.00\">BMI</text>\n",
       "</g>\n",
       "<!-- Poverty index&#45;&gt;BMI -->\n",
       "<g id=\"edge7\" class=\"edge\"><title>Poverty index&#45;&gt;BMI</title>\n",
       "<path fill=\"none\" stroke=\"black\" d=\"M966.66,-289.811C946.232,-278.462 918.346,-262.97 897.432,-251.351\"/>\n",
       "<polygon fill=\"black\" stroke=\"black\" points=\"899.093,-248.27 888.652,-246.473 895.694,-254.389 899.093,-248.27\"/>\n",
       "</g>\n",
       "<!-- Serum Cholesterol -->\n",
       "<g id=\"node9\" class=\"node\"><title>Serum Cholesterol</title>\n",
       "<ellipse fill=\"none\" stroke=\"black\" cx=\"1899\" cy=\"-234\" rx=\"77.1866\" ry=\"18\"/>\n",
       "<text text-anchor=\"middle\" x=\"1899\" y=\"-230.3\" font-family=\"Times,serif\" font-size=\"14.00\">Serum Cholesterol</text>\n",
       "</g>\n",
       "<!-- Poverty index&#45;&gt;Serum Cholesterol -->\n",
       "<g id=\"edge8\" class=\"edge\"><title>Poverty index&#45;&gt;Serum Cholesterol</title>\n",
       "<path fill=\"none\" stroke=\"black\" d=\"M1036.45,-293.211C1045.17,-291.165 1054.34,-289.285 1063,-288 1361.93,-243.656 1440.77,-276.275 1742,-252 1768.06,-249.9 1796.48,-247.006 1821.9,-244.201\"/>\n",
       "<polygon fill=\"black\" stroke=\"black\" points=\"1822.29,-247.679 1831.84,-243.091 1821.52,-240.722 1822.29,-247.679\"/>\n",
       "</g>\n",
       "<!-- predicted hazard -->\n",
       "<g id=\"node10\" class=\"node\"><title>predicted hazard</title>\n",
       "<ellipse fill=\"none\" stroke=\"black\" cx=\"1546\" cy=\"-18\" rx=\"69.5877\" ry=\"18\"/>\n",
       "<text text-anchor=\"middle\" x=\"1546\" y=\"-14.3\" font-family=\"Times,serif\" font-size=\"14.00\">predicted hazard</text>\n",
       "</g>\n",
       "<!-- Poverty index&#45;&gt;predicted hazard -->\n",
       "<g id=\"edge9\" class=\"edge\"><title>Poverty index&#45;&gt;predicted hazard</title>\n",
       "<path fill=\"none\" stroke=\"black\" d=\"M990.51,-287.651C985.089,-255.381 978.552,-185.636 1013,-144 1070.79,-74.1449 1338.46,-38.9849 1471.1,-25.6037\"/>\n",
       "<polygon fill=\"black\" stroke=\"black\" points=\"1471.58,-29.0734 1481.18,-24.602 1470.88,-22.1076 1471.58,-29.0734\"/>\n",
       "</g>\n",
       "<!-- Serum Albumin -->\n",
       "<g id=\"node11\" class=\"node\"><title>Serum Albumin</title>\n",
       "<ellipse fill=\"none\" stroke=\"black\" cx=\"1744\" cy=\"-90\" rx=\"68.4888\" ry=\"18\"/>\n",
       "<text text-anchor=\"middle\" x=\"1744\" y=\"-86.3\" font-family=\"Times,serif\" font-size=\"14.00\">Serum Albumin</text>\n",
       "</g>\n",
       "<!-- Blood protein&#45;&gt;Serum Albumin -->\n",
       "<g id=\"edge10\" class=\"edge\"><title>Blood protein&#45;&gt;Serum Albumin</title>\n",
       "<path fill=\"none\" stroke=\"black\" d=\"M1704.08,-218.427C1719.07,-209.599 1735.59,-196.775 1744,-180 1753.55,-160.949 1752.81,-136.591 1750.1,-118.175\"/>\n",
       "<polygon fill=\"black\" stroke=\"black\" points=\"1753.5,-117.349 1748.33,-108.103 1746.61,-118.557 1753.5,-117.349\"/>\n",
       "</g>\n",
       "<!-- Serum Protein -->\n",
       "<g id=\"node12\" class=\"node\"><title>Serum Protein</title>\n",
       "<ellipse fill=\"none\" stroke=\"black\" cx=\"1673\" cy=\"-162\" rx=\"61.99\" ry=\"18\"/>\n",
       "<text text-anchor=\"middle\" x=\"1673\" y=\"-158.3\" font-family=\"Times,serif\" font-size=\"14.00\">Serum Protein</text>\n",
       "</g>\n",
       "<!-- Blood protein&#45;&gt;Serum Protein -->\n",
       "<g id=\"edge11\" class=\"edge\"><title>Blood protein&#45;&gt;Serum Protein</title>\n",
       "<path fill=\"none\" stroke=\"black\" d=\"M1673,-215.697C1673,-207.983 1673,-198.712 1673,-190.112\"/>\n",
       "<polygon fill=\"black\" stroke=\"black\" points=\"1676.5,-190.104 1673,-180.104 1669.5,-190.104 1676.5,-190.104\"/>\n",
       "</g>\n",
       "<!-- TS -->\n",
       "<g id=\"node13\" class=\"node\"><title>TS</title>\n",
       "<ellipse fill=\"none\" stroke=\"black\" cx=\"1924\" cy=\"-90\" rx=\"27\" ry=\"18\"/>\n",
       "<text text-anchor=\"middle\" x=\"1924\" y=\"-86.3\" font-family=\"Times,serif\" font-size=\"14.00\">TS</text>\n",
       "</g>\n",
       "<!-- Iron&#45;&gt;TS -->\n",
       "<g id=\"edge12\" class=\"edge\"><title>Iron&#45;&gt;TS</title>\n",
       "<path fill=\"none\" stroke=\"black\" d=\"M2153.96,-221.62C2109.9,-196.589 2004.41,-136.67 1953.06,-107.507\"/>\n",
       "<polygon fill=\"black\" stroke=\"black\" points=\"1954.56,-104.33 1944.13,-102.435 1951.1,-110.417 1954.56,-104.33\"/>\n",
       "</g>\n",
       "<!-- Serum Iron -->\n",
       "<g id=\"node14\" class=\"node\"><title>Serum Iron</title>\n",
       "<ellipse fill=\"none\" stroke=\"black\" cx=\"2037\" cy=\"-90\" rx=\"51.1914\" ry=\"18\"/>\n",
       "<text text-anchor=\"middle\" x=\"2037\" y=\"-86.3\" font-family=\"Times,serif\" font-size=\"14.00\">Serum Iron</text>\n",
       "</g>\n",
       "<!-- Iron&#45;&gt;Serum Iron -->\n",
       "<g id=\"edge13\" class=\"edge\"><title>Iron&#45;&gt;Serum Iron</title>\n",
       "<path fill=\"none\" stroke=\"black\" d=\"M2159.85,-218.338C2136.26,-193.88 2088.64,-144.529 2060.12,-114.962\"/>\n",
       "<polygon fill=\"black\" stroke=\"black\" points=\"2062.42,-112.308 2052.96,-107.541 2057.38,-117.168 2062.42,-112.308\"/>\n",
       "</g>\n",
       "<!-- TIBC -->\n",
       "<g id=\"node15\" class=\"node\"><title>TIBC</title>\n",
       "<ellipse fill=\"none\" stroke=\"black\" cx=\"2145\" cy=\"-90\" rx=\"30.5947\" ry=\"18\"/>\n",
       "<text text-anchor=\"middle\" x=\"2145\" y=\"-86.3\" font-family=\"Times,serif\" font-size=\"14.00\">TIBC</text>\n",
       "</g>\n",
       "<!-- Iron&#45;&gt;TIBC -->\n",
       "<g id=\"edge14\" class=\"edge\"><title>Iron&#45;&gt;TIBC</title>\n",
       "<path fill=\"none\" stroke=\"black\" d=\"M2170.5,-215.871C2165.54,-191.564 2156.4,-146.819 2150.52,-118.013\"/>\n",
       "<polygon fill=\"black\" stroke=\"black\" points=\"2153.94,-117.287 2148.51,-108.189 2147.08,-118.687 2153.94,-117.287\"/>\n",
       "</g>\n",
       "<!-- Diastolic BP -->\n",
       "<g id=\"node16\" class=\"node\"><title>Diastolic BP</title>\n",
       "<ellipse fill=\"none\" stroke=\"black\" cx=\"1537\" cy=\"-162\" rx=\"55.7903\" ry=\"18\"/>\n",
       "<text text-anchor=\"middle\" x=\"1537\" y=\"-158.3\" font-family=\"Times,serif\" font-size=\"14.00\">Diastolic BP</text>\n",
       "</g>\n",
       "<!-- Blood pressure&#45;&gt;Diastolic BP -->\n",
       "<g id=\"edge15\" class=\"edge\"><title>Blood pressure&#45;&gt;Diastolic BP</title>\n",
       "<path fill=\"none\" stroke=\"black\" d=\"M1438.65,-217.638C1457.12,-207.378 1481.58,-193.787 1501.49,-182.728\"/>\n",
       "<polygon fill=\"black\" stroke=\"black\" points=\"1503.24,-185.762 1510.28,-177.846 1499.84,-179.643 1503.24,-185.762\"/>\n",
       "</g>\n",
       "<!-- Systolic BP -->\n",
       "<g id=\"node17\" class=\"node\"><title>Systolic BP</title>\n",
       "<ellipse fill=\"none\" stroke=\"black\" cx=\"1411\" cy=\"-162\" rx=\"51.9908\" ry=\"18\"/>\n",
       "<text text-anchor=\"middle\" x=\"1411\" y=\"-158.3\" font-family=\"Times,serif\" font-size=\"14.00\">Systolic BP</text>\n",
       "</g>\n",
       "<!-- Blood pressure&#45;&gt;Systolic BP -->\n",
       "<g id=\"edge16\" class=\"edge\"><title>Blood pressure&#45;&gt;Systolic BP</title>\n",
       "<path fill=\"none\" stroke=\"black\" d=\"M1411,-215.697C1411,-207.983 1411,-198.712 1411,-190.112\"/>\n",
       "<polygon fill=\"black\" stroke=\"black\" points=\"1414.5,-190.104 1411,-180.104 1407.5,-190.104 1414.5,-190.104\"/>\n",
       "</g>\n",
       "<!-- White blood cells -->\n",
       "<g id=\"node18\" class=\"node\"><title>White blood cells</title>\n",
       "<ellipse fill=\"none\" stroke=\"black\" cx=\"1268\" cy=\"-162\" rx=\"73.387\" ry=\"18\"/>\n",
       "<text text-anchor=\"middle\" x=\"1268\" y=\"-158.3\" font-family=\"Times,serif\" font-size=\"14.00\">White blood cells</text>\n",
       "</g>\n",
       "<!-- Inflamation&#45;&gt;White blood cells -->\n",
       "<g id=\"edge17\" class=\"edge\"><title>Inflamation&#45;&gt;White blood cells</title>\n",
       "<path fill=\"none\" stroke=\"black\" d=\"M1170.78,-218.326C1188.3,-208.358 1211.73,-195.025 1231.2,-183.945\"/>\n",
       "<polygon fill=\"black\" stroke=\"black\" points=\"1233.15,-186.861 1240.11,-178.873 1229.69,-180.777 1233.15,-186.861\"/>\n",
       "</g>\n",
       "<!-- Sedimentation rate -->\n",
       "<g id=\"node19\" class=\"node\"><title>Sedimentation rate</title>\n",
       "<ellipse fill=\"none\" stroke=\"black\" cx=\"1099\" cy=\"-162\" rx=\"77.1866\" ry=\"18\"/>\n",
       "<text text-anchor=\"middle\" x=\"1099\" y=\"-158.3\" font-family=\"Times,serif\" font-size=\"14.00\">Sedimentation rate</text>\n",
       "</g>\n",
       "<!-- Inflamation&#45;&gt;Sedimentation rate -->\n",
       "<g id=\"edge18\" class=\"edge\"><title>Inflamation&#45;&gt;Sedimentation rate</title>\n",
       "<path fill=\"none\" stroke=\"black\" d=\"M1133.86,-216.055C1128.46,-207.837 1121.86,-197.791 1115.86,-188.66\"/>\n",
       "<polygon fill=\"black\" stroke=\"black\" points=\"1118.77,-186.71 1110.35,-180.275 1112.92,-190.555 1118.77,-186.71\"/>\n",
       "</g>\n",
       "<!-- Red blood cells&#45;&gt;predicted hazard -->\n",
       "<g id=\"edge19\" class=\"edge\"><title>Red blood cells&#45;&gt;predicted hazard</title>\n",
       "<path fill=\"none\" stroke=\"black\" d=\"M342.967,-218.965C429.466,-186.796 652.396,-107.763 846,-72 1068,-30.9918 1335.22,-21.5799 1465.99,-19.51\"/>\n",
       "<polygon fill=\"black\" stroke=\"black\" points=\"1466.37,-23.0049 1476.32,-19.3575 1466.26,-16.0057 1466.37,-23.0049\"/>\n",
       "</g>\n",
       "<!-- Serum Magnesium&#45;&gt;predicted hazard -->\n",
       "<g id=\"edge20\" class=\"edge\"><title>Serum Magnesium&#45;&gt;predicted hazard</title>\n",
       "<path fill=\"none\" stroke=\"black\" d=\"M660.506,-216.583C708.379,-182.661 825.027,-105.237 936,-72 1033.36,-42.8402 1325.6,-27.6721 1467.28,-21.8624\"/>\n",
       "<polygon fill=\"black\" stroke=\"black\" points=\"1467.78,-25.3452 1477.63,-21.4438 1467.49,-18.351 1467.78,-25.3452\"/>\n",
       "</g>\n",
       "<!-- BMI&#45;&gt;predicted hazard -->\n",
       "<g id=\"edge21\" class=\"edge\"><title>BMI&#45;&gt;predicted hazard</title>\n",
       "<path fill=\"none\" stroke=\"black\" d=\"M873.973,-216.416C887.149,-182.531 922.211,-105.719 980,-72 1060.43,-25.07 1329.84,-18.5291 1465.91,-18.3331\"/>\n",
       "<polygon fill=\"black\" stroke=\"black\" points=\"1466.27,-21.8331 1476.27,-18.3301 1466.27,-14.8331 1466.27,-21.8331\"/>\n",
       "</g>\n",
       "<!-- Serum Cholesterol&#45;&gt;predicted hazard -->\n",
       "<g id=\"edge22\" class=\"edge\"><title>Serum Cholesterol&#45;&gt;predicted hazard</title>\n",
       "<path fill=\"none\" stroke=\"black\" d=\"M1895.95,-215.961C1889.04,-182.618 1868.91,-108.8 1821,-72 1790.27,-48.3921 1691.18,-33.6345 1620.78,-25.8591\"/>\n",
       "<polygon fill=\"black\" stroke=\"black\" points=\"1620.93,-22.3551 1610.61,-24.7624 1620.18,-29.3148 1620.93,-22.3551\"/>\n",
       "</g>\n",
       "<!-- Serum Albumin&#45;&gt;predicted hazard -->\n",
       "<g id=\"edge54\" class=\"edge\"><title>Serum Albumin&#45;&gt;predicted hazard</title>\n",
       "<path fill=\"none\" stroke=\"black\" d=\"M1704.88,-75.1703C1673.39,-64.0371 1628.95,-48.3263 1595.08,-36.3501\"/>\n",
       "<polygon fill=\"black\" stroke=\"black\" points=\"1595.97,-32.954 1585.38,-32.9206 1593.64,-39.5537 1595.97,-32.954\"/>\n",
       "</g>\n",
       "<!-- Serum Protein&#45;&gt;predicted hazard -->\n",
       "<g id=\"edge55\" class=\"edge\"><title>Serum Protein&#45;&gt;predicted hazard</title>\n",
       "<path fill=\"none\" stroke=\"black\" d=\"M1658.18,-144.433C1635.93,-119.556 1593.76,-72.3984 1567.94,-43.5265\"/>\n",
       "<polygon fill=\"black\" stroke=\"black\" points=\"1570.39,-41.0223 1561.12,-35.9017 1565.17,-45.6888 1570.39,-41.0223\"/>\n",
       "</g>\n",
       "<!-- TS&#45;&gt;predicted hazard -->\n",
       "<g id=\"edge57\" class=\"edge\"><title>TS&#45;&gt;predicted hazard</title>\n",
       "<path fill=\"none\" stroke=\"black\" d=\"M1901.09,-80.3105C1892.66,-77.3549 1882.99,-74.2369 1874,-72 1787.35,-50.4302 1685.56,-35.5668 1618.62,-27.1864\"/>\n",
       "<polygon fill=\"black\" stroke=\"black\" points=\"1618.95,-23.7003 1608.59,-25.947 1618.09,-30.6474 1618.95,-23.7003\"/>\n",
       "</g>\n",
       "<!-- Serum Iron&#45;&gt;predicted hazard -->\n",
       "<g id=\"edge58\" class=\"edge\"><title>Serum Iron&#45;&gt;predicted hazard</title>\n",
       "<path fill=\"none\" stroke=\"black\" d=\"M1995.58,-79.1371C1984.09,-76.5995 1971.6,-74.0186 1960,-72 1841.61,-51.3966 1702.88,-35.2462 1619.84,-26.4253\"/>\n",
       "<polygon fill=\"black\" stroke=\"black\" points=\"1620.06,-22.9289 1609.74,-25.36 1619.32,-29.8903 1620.06,-22.9289\"/>\n",
       "</g>\n",
       "<!-- TIBC&#45;&gt;predicted hazard -->\n",
       "<g id=\"edge59\" class=\"edge\"><title>TIBC&#45;&gt;predicted hazard</title>\n",
       "<path fill=\"none\" stroke=\"black\" d=\"M2120.43,-78.998C2113.01,-76.3342 2104.77,-73.7219 2097,-72 1931.8,-35.3819 1733.2,-24.063 1625.29,-20.5646\"/>\n",
       "<polygon fill=\"black\" stroke=\"black\" points=\"1625.24,-17.0614 1615.13,-20.2499 1625.02,-24.058 1625.24,-17.0614\"/>\n",
       "</g>\n",
       "<!-- Diastolic BP&#45;&gt;predicted hazard -->\n",
       "<g id=\"edge61\" class=\"edge\"><title>Diastolic BP&#45;&gt;predicted hazard</title>\n",
       "<path fill=\"none\" stroke=\"black\" d=\"M1551.82,-144.173C1559.46,-134.353 1568,-121.306 1572,-108 1576.6,-92.6764 1575.62,-87.5858 1572,-72 1569.85,-62.7152 1565.82,-53.1819 1561.58,-44.8058\"/>\n",
       "<polygon fill=\"black\" stroke=\"black\" points=\"1564.61,-43.0503 1556.78,-35.9157 1558.45,-46.3775 1564.61,-43.0503\"/>\n",
       "</g>\n",
       "<!-- Pulse pressure -->\n",
       "<g id=\"node26\" class=\"node\"><title>Pulse pressure</title>\n",
       "<ellipse fill=\"none\" stroke=\"black\" cx=\"1501\" cy=\"-90\" rx=\"61.99\" ry=\"18\"/>\n",
       "<text text-anchor=\"middle\" x=\"1501\" y=\"-86.3\" font-family=\"Times,serif\" font-size=\"14.00\">Pulse pressure</text>\n",
       "</g>\n",
       "<!-- Diastolic BP&#45;&gt;Pulse pressure -->\n",
       "<g id=\"edge62\" class=\"edge\"><title>Diastolic BP&#45;&gt;Pulse pressure</title>\n",
       "<path fill=\"none\" stroke=\"black\" d=\"M1528.29,-144.055C1524.15,-136.007 1519.11,-126.205 1514.49,-117.226\"/>\n",
       "<polygon fill=\"black\" stroke=\"black\" points=\"1517.57,-115.567 1509.88,-108.275 1511.35,-118.769 1517.57,-115.567\"/>\n",
       "</g>\n",
       "<!-- Systolic BP&#45;&gt;predicted hazard -->\n",
       "<g id=\"edge63\" class=\"edge\"><title>Systolic BP&#45;&gt;predicted hazard</title>\n",
       "<path fill=\"none\" stroke=\"black\" d=\"M1410.3,-143.67C1410.43,-124.182 1413.49,-92.5781 1430,-72 1444.3,-54.1799 1465.92,-42.1144 1486.64,-34.0597\"/>\n",
       "<polygon fill=\"black\" stroke=\"black\" points=\"1487.86,-37.3399 1496.06,-30.6349 1485.47,-30.7608 1487.86,-37.3399\"/>\n",
       "</g>\n",
       "<!-- Systolic BP&#45;&gt;Pulse pressure -->\n",
       "<g id=\"edge64\" class=\"edge\"><title>Systolic BP&#45;&gt;Pulse pressure</title>\n",
       "<path fill=\"none\" stroke=\"black\" d=\"M1431.42,-145.116C1443.53,-135.696 1459.07,-123.611 1472.39,-113.251\"/>\n",
       "<polygon fill=\"black\" stroke=\"black\" points=\"1474.6,-115.966 1480.35,-107.064 1470.3,-110.44 1474.6,-115.966\"/>\n",
       "</g>\n",
       "<!-- White blood cells&#45;&gt;predicted hazard -->\n",
       "<g id=\"edge67\" class=\"edge\"><title>White blood cells&#45;&gt;predicted hazard</title>\n",
       "<path fill=\"none\" stroke=\"black\" d=\"M1291.02,-144.834C1318.66,-125.861 1366.84,-94.1786 1411,-72 1438.33,-58.2727 1470.13,-45.6389 1495.99,-36.1519\"/>\n",
       "<polygon fill=\"black\" stroke=\"black\" points=\"1497.38,-39.3709 1505.59,-32.6743 1495,-32.7893 1497.38,-39.3709\"/>\n",
       "</g>\n",
       "<!-- Sedimentation rate&#45;&gt;predicted hazard -->\n",
       "<g id=\"edge68\" class=\"edge\"><title>Sedimentation rate&#45;&gt;predicted hazard</title>\n",
       "<path fill=\"none\" stroke=\"black\" d=\"M1136.9,-146.272C1185.26,-127.741 1271.67,-95.5017 1347,-72 1393.72,-57.4225 1447.38,-43.2796 1487.2,-33.2752\"/>\n",
       "<polygon fill=\"black\" stroke=\"black\" points=\"1488.16,-36.6433 1497.01,-30.8231 1486.46,-29.8522 1488.16,-36.6433\"/>\n",
       "</g>\n",
       "<!-- Age -->\n",
       "<g id=\"node20\" class=\"node\"><title>Age</title>\n",
       "<ellipse fill=\"none\" stroke=\"black\" cx=\"868\" cy=\"-378\" rx=\"27\" ry=\"18\"/>\n",
       "<text text-anchor=\"middle\" x=\"868\" y=\"-374.3\" font-family=\"Times,serif\" font-size=\"14.00\">Age</text>\n",
       "</g>\n",
       "<!-- Age&#45;&gt;Poverty index -->\n",
       "<g id=\"edge23\" class=\"edge\"><title>Age&#45;&gt;Poverty index</title>\n",
       "<path fill=\"none\" stroke=\"black\" d=\"M888.244,-365.753C906.953,-355.359 935.188,-339.674 957.778,-327.123\"/>\n",
       "<polygon fill=\"black\" stroke=\"black\" points=\"959.713,-330.052 966.754,-322.136 956.313,-323.933 959.713,-330.052\"/>\n",
       "</g>\n",
       "<!-- Age&#45;&gt;Blood protein -->\n",
       "<g id=\"edge24\" class=\"edge\"><title>Age&#45;&gt;Blood protein</title>\n",
       "<path fill=\"none\" stroke=\"black\" d=\"M888.049,-365.865C893.113,-363.524 898.639,-361.356 904,-360 1047.05,-323.823 1433.6,-387.054 1567,-324 1586.62,-314.725 1583.8,-302.449 1600,-288 1612.66,-276.711 1627.66,-265.49 1640.77,-256.299\"/>\n",
       "<polygon fill=\"black\" stroke=\"black\" points=\"1642.83,-259.133 1649.07,-250.572 1638.85,-253.373 1642.83,-259.133\"/>\n",
       "</g>\n",
       "<!-- Age&#45;&gt;Iron -->\n",
       "<g id=\"edge25\" class=\"edge\"><title>Age&#45;&gt;Iron</title>\n",
       "<path fill=\"none\" stroke=\"black\" d=\"M888.025,-365.765C893.09,-363.427 898.622,-361.285 904,-360 973.461,-343.399 2139.21,-375.202 2189,-324 2205.24,-307.298 2197.56,-279.979 2188.26,-260.007\"/>\n",
       "<polygon fill=\"black\" stroke=\"black\" points=\"2191.29,-258.232 2183.67,-250.871 2185.03,-261.377 2191.29,-258.232\"/>\n",
       "</g>\n",
       "<!-- Age&#45;&gt;Blood pressure -->\n",
       "<g id=\"edge26\" class=\"edge\"><title>Age&#45;&gt;Blood pressure</title>\n",
       "<path fill=\"none\" stroke=\"black\" d=\"M888.487,-365.904C893.445,-363.622 898.813,-361.47 904,-360 1042.97,-320.625 1088.21,-364.023 1227,-324 1282.09,-308.115 1340.93,-276.832 1376.84,-255.914\"/>\n",
       "<polygon fill=\"black\" stroke=\"black\" points=\"1379.07,-258.666 1385.9,-250.572 1375.51,-252.636 1379.07,-258.666\"/>\n",
       "</g>\n",
       "<!-- Age&#45;&gt;Inflamation -->\n",
       "<g id=\"edge27\" class=\"edge\"><title>Age&#45;&gt;Inflamation</title>\n",
       "<path fill=\"none\" stroke=\"black\" d=\"M874.08,-360.454C882.398,-340.189 899.292,-306.306 925,-288 971.511,-254.88 1036.12,-242.284 1083.28,-237.582\"/>\n",
       "<polygon fill=\"black\" stroke=\"black\" points=\"1083.73,-241.057 1093.37,-236.67 1083.1,-234.085 1083.73,-241.057\"/>\n",
       "</g>\n",
       "<!-- Age&#45;&gt;Red blood cells -->\n",
       "<g id=\"edge28\" class=\"edge\"><title>Age&#45;&gt;Red blood cells</title>\n",
       "<path fill=\"none\" stroke=\"black\" d=\"M841.104,-376.264C703.585,-372.376 84.432,-353.283 57,-324 1.86712,-265.147 139.641,-245.156 231.54,-238.405\"/>\n",
       "<polygon fill=\"black\" stroke=\"black\" points=\"231.936,-241.886 241.669,-237.701 231.45,-234.903 231.936,-241.886\"/>\n",
       "</g>\n",
       "<!-- Age&#45;&gt;Serum Magnesium -->\n",
       "<g id=\"edge29\" class=\"edge\"><title>Age&#45;&gt;Serum Magnesium</title>\n",
       "<path fill=\"none\" stroke=\"black\" d=\"M841.084,-376.236C741.118,-373.124 395.261,-359.824 363,-324 305.455,-260.099 448.174,-241.868 548.832,-236.798\"/>\n",
       "<polygon fill=\"black\" stroke=\"black\" points=\"549.219,-240.284 559.044,-236.321 548.892,-233.291 549.219,-240.284\"/>\n",
       "</g>\n",
       "<!-- Age&#45;&gt;BMI -->\n",
       "<g id=\"edge30\" class=\"edge\"><title>Age&#45;&gt;BMI</title>\n",
       "<path fill=\"none\" stroke=\"black\" d=\"M840.859,-377.789C801.29,-377.28 728.807,-369.714 695,-324 657.125,-272.785 768.94,-248.728 830.453,-239.61\"/>\n",
       "<polygon fill=\"black\" stroke=\"black\" points=\"831.174,-243.043 840.584,-238.175 830.192,-236.112 831.174,-243.043\"/>\n",
       "</g>\n",
       "<!-- Age&#45;&gt;Serum Cholesterol -->\n",
       "<g id=\"edge31\" class=\"edge\"><title>Age&#45;&gt;Serum Cholesterol</title>\n",
       "<path fill=\"none\" stroke=\"black\" d=\"M888.033,-365.802C893.098,-363.463 898.628,-361.311 904,-360 1007.37,-334.769 1773.32,-384.296 1861,-324 1881.28,-310.056 1890.79,-282.934 1895.22,-262.278\"/>\n",
       "<polygon fill=\"black\" stroke=\"black\" points=\"1898.71,-262.641 1897.1,-252.169 1891.83,-261.359 1898.71,-262.641\"/>\n",
       "</g>\n",
       "<!-- Age&#45;&gt;predicted hazard -->\n",
       "<g id=\"edge32\" class=\"edge\"><title>Age&#45;&gt;predicted hazard</title>\n",
       "<path fill=\"none\" stroke=\"black\" d=\"M840.711,-376.89C705.179,-376.128 108.24,-370.155 41,-324 5.09396,-299.354 0,-278.551 0,-235 0,-235 0,-235 0,-161 0,-86.545 1152.06,-34.8188 1467.17,-22.0634\"/>\n",
       "<polygon fill=\"black\" stroke=\"black\" points=\"1467.72,-25.5438 1477.58,-21.6439 1467.44,-18.5495 1467.72,-25.5438\"/>\n",
       "</g>\n",
       "<!-- Sex -->\n",
       "<g id=\"node21\" class=\"node\"><title>Sex</title>\n",
       "<ellipse fill=\"none\" stroke=\"black\" cx=\"1284\" cy=\"-378\" rx=\"27\" ry=\"18\"/>\n",
       "<text text-anchor=\"middle\" x=\"1284\" y=\"-374.3\" font-family=\"Times,serif\" font-size=\"14.00\">Sex</text>\n",
       "</g>\n",
       "<!-- Sex&#45;&gt;Poverty index -->\n",
       "<g id=\"edge33\" class=\"edge\"><title>Sex&#45;&gt;Poverty index</title>\n",
       "<path fill=\"none\" stroke=\"black\" d=\"M1258.8,-371.01C1217.76,-361.242 1133.93,-341.242 1063,-324 1058.3,-322.858 1053.43,-321.667 1048.54,-320.469\"/>\n",
       "<polygon fill=\"black\" stroke=\"black\" points=\"1049.08,-316.999 1038.53,-318.014 1047.41,-323.797 1049.08,-316.999\"/>\n",
       "</g>\n",
       "<!-- Sex&#45;&gt;Blood protein -->\n",
       "<g id=\"edge34\" class=\"edge\"><title>Sex&#45;&gt;Blood protein</title>\n",
       "<path fill=\"none\" stroke=\"black\" d=\"M1310.75,-374.93C1377.71,-369.373 1550.66,-352.579 1600,-324 1625.79,-309.06 1646.31,-281.316 1658.95,-260.761\"/>\n",
       "<polygon fill=\"black\" stroke=\"black\" points=\"1662.11,-262.283 1664.19,-251.894 1656.08,-258.722 1662.11,-262.283\"/>\n",
       "</g>\n",
       "<!-- Sex&#45;&gt;Iron -->\n",
       "<g id=\"edge35\" class=\"edge\"><title>Sex&#45;&gt;Iron</title>\n",
       "<path fill=\"none\" stroke=\"black\" d=\"M1310.58,-374.257C1347.13,-370.566 1414.99,-364.001 1473,-360 1514.56,-357.133 2193.26,-354.156 2222,-324 2241.12,-303.942 2218.41,-274.786 2198.19,-255.375\"/>\n",
       "<polygon fill=\"black\" stroke=\"black\" points=\"2200.39,-252.64 2190.66,-248.452 2195.65,-257.795 2200.39,-252.64\"/>\n",
       "</g>\n",
       "<!-- Sex&#45;&gt;Blood pressure -->\n",
       "<g id=\"edge36\" class=\"edge\"><title>Sex&#45;&gt;Blood pressure</title>\n",
       "<path fill=\"none\" stroke=\"black\" d=\"M1297.35,-362.072C1319.12,-337.729 1362.49,-289.243 1388.9,-259.706\"/>\n",
       "<polygon fill=\"black\" stroke=\"black\" points=\"1391.82,-261.701 1395.87,-251.914 1386.6,-257.034 1391.82,-261.701\"/>\n",
       "</g>\n",
       "<!-- Sex&#45;&gt;Inflamation -->\n",
       "<g id=\"edge37\" class=\"edge\"><title>Sex&#45;&gt;Inflamation</title>\n",
       "<path fill=\"none\" stroke=\"black\" d=\"M1276.14,-360.423C1266.5,-341.346 1248.75,-309.842 1227,-288 1214.02,-274.97 1197.32,-263.466 1182.38,-254.534\"/>\n",
       "<polygon fill=\"black\" stroke=\"black\" points=\"1183.76,-251.29 1173.35,-249.314 1180.26,-257.35 1183.76,-251.29\"/>\n",
       "</g>\n",
       "<!-- Sex&#45;&gt;Red blood cells -->\n",
       "<g id=\"edge38\" class=\"edge\"><title>Sex&#45;&gt;Red blood cells</title>\n",
       "<path fill=\"none\" stroke=\"black\" d=\"M1257.5,-374.432C1219.22,-370.796 1146.24,-364.13 1084,-360 1042.16,-357.224 362.673,-350.29 330,-324 311.927,-309.458 306.626,-282.851 305.428,-262.504\"/>\n",
       "<polygon fill=\"black\" stroke=\"black\" points=\"308.919,-262.14 305.129,-252.246 301.922,-262.344 308.919,-262.14\"/>\n",
       "</g>\n",
       "<!-- Sex&#45;&gt;Serum Magnesium -->\n",
       "<g id=\"edge39\" class=\"edge\"><title>Sex&#45;&gt;Serum Magnesium</title>\n",
       "<path fill=\"none\" stroke=\"black\" d=\"M1257.27,-374.723C1138.22,-364.578 662,-324 662,-324 644.202,-309.124 638.864,-282.561 637.583,-262.315\"/>\n",
       "<polygon fill=\"black\" stroke=\"black\" points=\"641.074,-261.991 637.236,-252.115 634.078,-262.229 641.074,-261.991\"/>\n",
       "</g>\n",
       "<!-- Sex&#45;&gt;BMI -->\n",
       "<g id=\"edge40\" class=\"edge\"><title>Sex&#45;&gt;BMI</title>\n",
       "<path fill=\"none\" stroke=\"black\" d=\"M1257.16,-375.081C1173.2,-368.848 919.504,-348.166 892,-324 874.676,-308.778 869.251,-282.493 867.818,-262.423\"/>\n",
       "<polygon fill=\"black\" stroke=\"black\" points=\"871.309,-262.146 867.386,-252.304 864.316,-262.444 871.309,-262.146\"/>\n",
       "</g>\n",
       "<!-- Sex&#45;&gt;Serum Cholesterol -->\n",
       "<g id=\"edge41\" class=\"edge\"><title>Sex&#45;&gt;Serum Cholesterol</title>\n",
       "<path fill=\"none\" stroke=\"black\" d=\"M1310.6,-374.57C1347.18,-371.237 1415.07,-365.082 1473,-360 1519.77,-355.897 1861.29,-357.678 1894,-324 1909.54,-308.003 1909.17,-281.815 1905.87,-261.978\"/>\n",
       "<polygon fill=\"black\" stroke=\"black\" points=\"1909.27,-261.121 1903.89,-251.994 1902.41,-262.484 1909.27,-261.121\"/>\n",
       "</g>\n",
       "<!-- Sex&#45;&gt;predicted hazard -->\n",
       "<g id=\"edge42\" class=\"edge\"><title>Sex&#45;&gt;predicted hazard</title>\n",
       "<path fill=\"none\" stroke=\"black\" d=\"M1310.57,-374.176C1347.12,-370.39 1414.97,-363.718 1473,-360 1525.15,-356.658 2373.01,-357.642 2413,-324 2443.95,-297.963 2432,-275.447 2432,-235 2432,-235 2432,-235 2432,-161 2432,-44.3132 2299.02,-96.8147 2185,-72 1987.16,-28.9418 1747.88,-20.3143 1625.91,-18.9277\"/>\n",
       "<polygon fill=\"black\" stroke=\"black\" points=\"1625.94,-15.428 1615.91,-18.8274 1625.87,-22.4276 1625.94,-15.428\"/>\n",
       "</g>\n",
       "<!-- Race -->\n",
       "<g id=\"node22\" class=\"node\"><title>Race</title>\n",
       "<ellipse fill=\"none\" stroke=\"black\" cx=\"1511\" cy=\"-378\" rx=\"28.6953\" ry=\"18\"/>\n",
       "<text text-anchor=\"middle\" x=\"1511\" y=\"-374.3\" font-family=\"Times,serif\" font-size=\"14.00\">Race</text>\n",
       "</g>\n",
       "<!-- Race&#45;&gt;Poverty index -->\n",
       "<g id=\"edge43\" class=\"edge\"><title>Race&#45;&gt;Poverty index</title>\n",
       "<path fill=\"none\" stroke=\"black\" d=\"M1482.78,-374.883C1411.82,-369.295 1220.39,-352.586 1063,-324 1057.9,-323.073 1052.61,-321.992 1047.33,-320.832\"/>\n",
       "<polygon fill=\"black\" stroke=\"black\" points=\"1047.79,-317.346 1037.26,-318.526 1046.22,-324.169 1047.79,-317.346\"/>\n",
       "</g>\n",
       "<!-- Race&#45;&gt;Blood protein -->\n",
       "<g id=\"edge44\" class=\"edge\"><title>Race&#45;&gt;Blood protein</title>\n",
       "<path fill=\"none\" stroke=\"black\" d=\"M1539.73,-377.219C1615.79,-377.126 1819.48,-372.285 1861,-324 1900.67,-277.875 1806.71,-253.915 1737.82,-242.923\"/>\n",
       "<polygon fill=\"black\" stroke=\"black\" points=\"1738.28,-239.451 1727.86,-241.394 1737.21,-246.37 1738.28,-239.451\"/>\n",
       "</g>\n",
       "<!-- Race&#45;&gt;Iron -->\n",
       "<g id=\"edge45\" class=\"edge\"><title>Race&#45;&gt;Iron</title>\n",
       "<path fill=\"none\" stroke=\"black\" d=\"M1539.91,-376.404C1690.81,-373.155 2382.33,-356.527 2413,-324 2473.9,-259.413 2292.81,-241.402 2211.42,-236.629\"/>\n",
       "<polygon fill=\"black\" stroke=\"black\" points=\"2211.27,-233.115 2201.09,-236.063 2210.88,-240.105 2211.27,-233.115\"/>\n",
       "</g>\n",
       "<!-- Race&#45;&gt;Blood pressure -->\n",
       "<g id=\"edge46\" class=\"edge\"><title>Race&#45;&gt;Blood pressure</title>\n",
       "<path fill=\"none\" stroke=\"black\" d=\"M1530.51,-364.819C1543.54,-355.451 1559.59,-341.214 1567,-324 1573.33,-309.304 1576.32,-301.007 1567,-288 1547.61,-260.933 1513.6,-247.523 1482.27,-240.947\"/>\n",
       "<polygon fill=\"black\" stroke=\"black\" points=\"1482.7,-237.464 1472.22,-239.043 1481.39,-244.342 1482.7,-237.464\"/>\n",
       "</g>\n",
       "<!-- Race&#45;&gt;Inflamation -->\n",
       "<g id=\"edge47\" class=\"edge\"><title>Race&#45;&gt;Inflamation</title>\n",
       "<path fill=\"none\" stroke=\"black\" d=\"M1487.27,-367.792C1426.66,-344.276 1265.48,-281.743 1187.9,-251.645\"/>\n",
       "<polygon fill=\"black\" stroke=\"black\" points=\"1189.01,-248.321 1178.42,-247.966 1186.48,-254.847 1189.01,-248.321\"/>\n",
       "</g>\n",
       "<!-- Race&#45;&gt;Red blood cells -->\n",
       "<g id=\"edge48\" class=\"edge\"><title>Race&#45;&gt;Red blood cells</title>\n",
       "<path fill=\"none\" stroke=\"black\" d=\"M1482.88,-374.043C1445.66,-370.234 1377.98,-363.668 1320,-360 1213.8,-353.281 455.376,-376.815 363,-324 350.414,-316.804 331.647,-284.58 319.126,-260.968\"/>\n",
       "<polygon fill=\"black\" stroke=\"black\" points=\"322.228,-259.346 314.499,-252.099 316.021,-262.584 322.228,-259.346\"/>\n",
       "</g>\n",
       "<!-- Race&#45;&gt;Serum Magnesium -->\n",
       "<g id=\"edge49\" class=\"edge\"><title>Race&#45;&gt;Serum Magnesium</title>\n",
       "<path fill=\"none\" stroke=\"black\" d=\"M1482.87,-374.219C1445.63,-370.602 1377.94,-364.246 1320,-360 1250.63,-354.916 755.039,-359.126 695,-324 682.542,-316.712 663.869,-284.769 651.325,-261.227\"/>\n",
       "<polygon fill=\"black\" stroke=\"black\" points=\"654.263,-259.294 646.521,-252.061 648.063,-262.543 654.263,-259.294\"/>\n",
       "</g>\n",
       "<!-- Race&#45;&gt;BMI -->\n",
       "<g id=\"edge50\" class=\"edge\"><title>Race&#45;&gt;BMI</title>\n",
       "<path fill=\"none\" stroke=\"black\" d=\"M1482.82,-374.492C1366.08,-364.101 926.514,-324.92 925,-324 912.525,-316.425 893.543,-283.897 880.959,-260.353\"/>\n",
       "<polygon fill=\"black\" stroke=\"black\" points=\"883.909,-258.442 876.156,-251.222 877.714,-261.701 883.909,-258.442\"/>\n",
       "</g>\n",
       "<!-- Race&#45;&gt;Serum Cholesterol -->\n",
       "<g id=\"edge51\" class=\"edge\"><title>Race&#45;&gt;Serum Cholesterol</title>\n",
       "<path fill=\"none\" stroke=\"black\" d=\"M1539.67,-376.994C1663.01,-376.675 2144.31,-372.323 2189,-324 2251.61,-256.299 2092.9,-239.574 1986.34,-235.764\"/>\n",
       "<polygon fill=\"black\" stroke=\"black\" points=\"1986.3,-232.261 1976.19,-235.434 1986.08,-239.257 1986.3,-232.261\"/>\n",
       "</g>\n",
       "<!-- Race&#45;&gt;predicted hazard -->\n",
       "<g id=\"edge52\" class=\"edge\"><title>Race&#45;&gt;predicted hazard</title>\n",
       "<path fill=\"none\" stroke=\"black\" d=\"M1539.71,-376.693C1686.7,-374.943 2351.45,-364.809 2433,-324 2479.26,-300.851 2508,-286.728 2508,-235 2508,-235 2508,-235 2508,-161 2508,-112.793 2488.06,-95.5581 2446,-72 2375.46,-32.4865 1832.42,-22.2305 1625.62,-19.7444\"/>\n",
       "<polygon fill=\"black\" stroke=\"black\" points=\"1625.47,-16.2426 1615.43,-19.625 1625.39,-23.2421 1625.47,-16.2426\"/>\n",
       "</g>\n",
       "<!-- Poverty index noise -->\n",
       "<g id=\"node23\" class=\"node\"><title>Poverty index noise</title>\n",
       "<ellipse fill=\"none\" stroke=\"black\" cx=\"994\" cy=\"-378\" rx=\"81.4863\" ry=\"18\"/>\n",
       "<text text-anchor=\"middle\" x=\"994\" y=\"-374.3\" font-family=\"Times,serif\" font-size=\"14.00\">Poverty index noise</text>\n",
       "</g>\n",
       "<!-- Poverty index noise&#45;&gt;Poverty index -->\n",
       "<g id=\"edge53\" class=\"edge\"><title>Poverty index noise&#45;&gt;Poverty index</title>\n",
       "<path fill=\"none\" stroke=\"black\" d=\"M994,-359.697C994,-351.983 994,-342.712 994,-334.112\"/>\n",
       "<polygon fill=\"black\" stroke=\"black\" points=\"997.5,-334.104 994,-324.104 990.5,-334.104 997.5,-334.104\"/>\n",
       "</g>\n",
       "<!-- Blood protein noise -->\n",
       "<g id=\"node24\" class=\"node\"><title>Blood protein noise</title>\n",
       "<ellipse fill=\"none\" stroke=\"black\" cx=\"1771\" cy=\"-306\" rx=\"80.6858\" ry=\"18\"/>\n",
       "<text text-anchor=\"middle\" x=\"1771\" y=\"-302.3\" font-family=\"Times,serif\" font-size=\"14.00\">Blood protein noise</text>\n",
       "</g>\n",
       "<!-- Blood protein noise&#45;&gt;Blood protein -->\n",
       "<g id=\"edge56\" class=\"edge\"><title>Blood protein noise&#45;&gt;Blood protein</title>\n",
       "<path fill=\"none\" stroke=\"black\" d=\"M1747.78,-288.411C1734.56,-278.969 1717.84,-267.029 1703.57,-256.834\"/>\n",
       "<polygon fill=\"black\" stroke=\"black\" points=\"1705.22,-253.713 1695.05,-250.749 1701.15,-259.409 1705.22,-253.713\"/>\n",
       "</g>\n",
       "<!-- Iron noise -->\n",
       "<g id=\"node25\" class=\"node\"><title>Iron noise</title>\n",
       "<ellipse fill=\"none\" stroke=\"black\" cx=\"2358\" cy=\"-306\" rx=\"46.2923\" ry=\"18\"/>\n",
       "<text text-anchor=\"middle\" x=\"2358\" y=\"-302.3\" font-family=\"Times,serif\" font-size=\"14.00\">Iron noise</text>\n",
       "</g>\n",
       "<!-- Iron noise&#45;&gt;Iron -->\n",
       "<g id=\"edge60\" class=\"edge\"><title>Iron noise&#45;&gt;Iron</title>\n",
       "<path fill=\"none\" stroke=\"black\" d=\"M2325.95,-292.807C2292.4,-280.044 2240.01,-260.113 2206.35,-247.308\"/>\n",
       "<polygon fill=\"black\" stroke=\"black\" points=\"2207.56,-244.022 2196.97,-243.737 2205.07,-250.564 2207.56,-244.022\"/>\n",
       "</g>\n",
       "<!-- Pulse pressure&#45;&gt;predicted hazard -->\n",
       "<g id=\"edge66\" class=\"edge\"><title>Pulse pressure&#45;&gt;predicted hazard</title>\n",
       "<path fill=\"none\" stroke=\"black\" d=\"M1511.89,-72.055C1517.25,-63.7147 1523.83,-53.4908 1529.77,-44.2517\"/>\n",
       "<polygon fill=\"black\" stroke=\"black\" points=\"1532.74,-46.0935 1535.21,-35.789 1526.86,-42.3081 1532.74,-46.0935\"/>\n",
       "</g>\n",
       "<!-- Blood pressure noise -->\n",
       "<g id=\"node27\" class=\"node\"><title>Blood pressure noise</title>\n",
       "<ellipse fill=\"none\" stroke=\"black\" cx=\"1473\" cy=\"-306\" rx=\"85.2851\" ry=\"18\"/>\n",
       "<text text-anchor=\"middle\" x=\"1473\" y=\"-302.3\" font-family=\"Times,serif\" font-size=\"14.00\">Blood pressure noise</text>\n",
       "</g>\n",
       "<!-- Blood pressure noise&#45;&gt;Blood pressure -->\n",
       "<g id=\"edge65\" class=\"edge\"><title>Blood pressure noise&#45;&gt;Blood pressure</title>\n",
       "<path fill=\"none\" stroke=\"black\" d=\"M1457.99,-288.055C1450.38,-279.457 1440.99,-268.857 1432.61,-259.397\"/>\n",
       "<polygon fill=\"black\" stroke=\"black\" points=\"1435.12,-256.954 1425.87,-251.789 1429.88,-261.596 1435.12,-256.954\"/>\n",
       "</g>\n",
       "<!-- Inflamation noise -->\n",
       "<g id=\"node28\" class=\"node\"><title>Inflamation noise</title>\n",
       "<ellipse fill=\"none\" stroke=\"black\" cx=\"1145\" cy=\"-306\" rx=\"73.387\" ry=\"18\"/>\n",
       "<text text-anchor=\"middle\" x=\"1145\" y=\"-302.3\" font-family=\"Times,serif\" font-size=\"14.00\">Inflamation noise</text>\n",
       "</g>\n",
       "<!-- Inflamation noise&#45;&gt;Inflamation -->\n",
       "<g id=\"edge69\" class=\"edge\"><title>Inflamation noise&#45;&gt;Inflamation</title>\n",
       "<path fill=\"none\" stroke=\"black\" d=\"M1145,-287.697C1145,-279.983 1145,-270.712 1145,-262.112\"/>\n",
       "<polygon fill=\"black\" stroke=\"black\" points=\"1148.5,-262.104 1145,-252.104 1141.5,-262.104 1148.5,-262.104\"/>\n",
       "</g>\n",
       "<!-- Red blood cells noise -->\n",
       "<g id=\"node29\" class=\"node\"><title>Red blood cells noise</title>\n",
       "<ellipse fill=\"none\" stroke=\"black\" cx=\"153\" cy=\"-306\" rx=\"87.1846\" ry=\"18\"/>\n",
       "<text text-anchor=\"middle\" x=\"153\" y=\"-302.3\" font-family=\"Times,serif\" font-size=\"14.00\">Red blood cells noise</text>\n",
       "</g>\n",
       "<!-- Red blood cells noise&#45;&gt;Red blood cells -->\n",
       "<g id=\"edge70\" class=\"edge\"><title>Red blood cells noise&#45;&gt;Red blood cells</title>\n",
       "<path fill=\"none\" stroke=\"black\" d=\"M187.336,-289.291C210.203,-278.828 240.38,-265.022 264.58,-253.951\"/>\n",
       "<polygon fill=\"black\" stroke=\"black\" points=\"266.232,-257.043 273.869,-249.7 263.32,-250.678 266.232,-257.043\"/>\n",
       "</g>\n",
       "<!-- Serum Magnesium noise -->\n",
       "<g id=\"node30\" class=\"node\"><title>Serum Magnesium noise</title>\n",
       "<ellipse fill=\"none\" stroke=\"black\" cx=\"472\" cy=\"-306\" rx=\"100.182\" ry=\"18\"/>\n",
       "<text text-anchor=\"middle\" x=\"472\" y=\"-302.3\" font-family=\"Times,serif\" font-size=\"14.00\">Serum Magnesium noise</text>\n",
       "</g>\n",
       "<!-- Serum Magnesium noise&#45;&gt;Serum Magnesium -->\n",
       "<g id=\"edge71\" class=\"edge\"><title>Serum Magnesium noise&#45;&gt;Serum Magnesium</title>\n",
       "<path fill=\"none\" stroke=\"black\" d=\"M509.254,-289.291C533.943,-278.88 566.486,-265.157 592.676,-254.113\"/>\n",
       "<polygon fill=\"black\" stroke=\"black\" points=\"594.157,-257.287 602.011,-250.176 591.437,-250.837 594.157,-257.287\"/>\n",
       "</g>\n",
       "<!-- BMI noise -->\n",
       "<g id=\"node31\" class=\"node\"><title>BMI noise</title>\n",
       "<ellipse fill=\"none\" stroke=\"black\" cx=\"753\" cy=\"-306\" rx=\"48.9926\" ry=\"18\"/>\n",
       "<text text-anchor=\"middle\" x=\"753\" y=\"-302.3\" font-family=\"Times,serif\" font-size=\"14.00\">BMI noise</text>\n",
       "</g>\n",
       "<!-- BMI noise&#45;&gt;BMI -->\n",
       "<g id=\"edge72\" class=\"edge\"><title>BMI noise&#45;&gt;BMI</title>\n",
       "<path fill=\"none\" stroke=\"black\" d=\"M777.108,-290.326C795.302,-279.251 820.323,-264.021 839.507,-252.343\"/>\n",
       "<polygon fill=\"black\" stroke=\"black\" points=\"841.41,-255.282 848.133,-247.093 837.771,-249.303 841.41,-255.282\"/>\n",
       "</g>\n",
       "<!-- Serum Cholesterol noise -->\n",
       "<g id=\"node32\" class=\"node\"><title>Serum Cholesterol noise</title>\n",
       "<ellipse fill=\"none\" stroke=\"black\" cx=\"2082\" cy=\"-306\" rx=\"98.2828\" ry=\"18\"/>\n",
       "<text text-anchor=\"middle\" x=\"2082\" y=\"-302.3\" font-family=\"Times,serif\" font-size=\"14.00\">Serum Cholesterol noise</text>\n",
       "</g>\n",
       "<!-- Serum Cholesterol noise&#45;&gt;Serum Cholesterol -->\n",
       "<g id=\"edge73\" class=\"edge\"><title>Serum Cholesterol noise&#45;&gt;Serum Cholesterol</title>\n",
       "<path fill=\"none\" stroke=\"black\" d=\"M2041.39,-289.465C2013.48,-278.789 1976.31,-264.572 1946.94,-253.34\"/>\n",
       "<polygon fill=\"black\" stroke=\"black\" points=\"1947.9,-249.958 1937.31,-249.654 1945.4,-256.496 1947.9,-249.958\"/>\n",
       "</g>\n",
       "</g>\n",
       "</svg>\n"
      ],
      "text/plain": [
       "<graphviz.files.Source at 0x7f1772faa390>"
      ]
     },
     "metadata": {},
     "output_type": "display_data"
    }
   ],
   "source": [
    "# for multiple baseline need to run this multiple times, finally I can just combine the different baselines because of linearity\n",
    "E = GraphExplainer(causal_graph, bg[:1])\n",
    "E.prepare_graph(X) # add noise node\n",
    "G = copy.deepcopy(E.graph) # group happens after noise node b/c the grouped nodes combines individual noise node\n",
    "G = group_nodes(G, [n for n in G if n.name in ['White blood cells', 'Sedimentation rate']], 'Inflamation')\n",
    "G = group_nodes(G, [n for n in G if n.name in ['Systolic BP', 'Diastolic BP']], 'Blood pressure')\n",
    "G = group_nodes(G, [n for n in G if n.name in ['TS', 'TIBC', 'Serum Iron']], 'Iron')\n",
    "G = group_nodes(G, [n for n in G if n.name in ['Serum Protein', 'Serum Albumin']], 'Blood protein')\n",
    "G.draw()"
   ]
  },
  {
   "cell_type": "code",
   "execution_count": 16,
   "metadata": {
    "collapsed": true,
    "jupyter": {
     "outputs_hidden": true
    }
   },
   "outputs": [
    {
     "name": "stdout",
     "output_type": "stream",
     "text": [
      "bg 0/100\n"
     ]
    },
    {
     "name": "stderr",
     "output_type": "stream",
     "text": [
      "bruteforce sampling: 100%|██████████| 1/1 [00:11<00:00, 11.46s/it]\n"
     ]
    },
    {
     "name": "stdout",
     "output_type": "stream",
     "text": [
      "bg 1/100\n"
     ]
    },
    {
     "name": "stderr",
     "output_type": "stream",
     "text": [
      "bruteforce sampling: 100%|██████████| 1/1 [00:10<00:00, 10.89s/it]\n"
     ]
    },
    {
     "name": "stdout",
     "output_type": "stream",
     "text": [
      "bg 2/100\n"
     ]
    },
    {
     "name": "stderr",
     "output_type": "stream",
     "text": [
      "bruteforce sampling: 100%|██████████| 1/1 [00:11<00:00, 11.35s/it]\n"
     ]
    },
    {
     "name": "stdout",
     "output_type": "stream",
     "text": [
      "bg 3/100\n"
     ]
    },
    {
     "name": "stderr",
     "output_type": "stream",
     "text": [
      "bruteforce sampling: 100%|██████████| 1/1 [00:10<00:00, 10.62s/it]\n"
     ]
    },
    {
     "name": "stdout",
     "output_type": "stream",
     "text": [
      "bg 4/100\n"
     ]
    },
    {
     "name": "stderr",
     "output_type": "stream",
     "text": [
      "bruteforce sampling: 100%|██████████| 1/1 [00:10<00:00, 10.49s/it]\n"
     ]
    },
    {
     "name": "stdout",
     "output_type": "stream",
     "text": [
      "bg 5/100\n"
     ]
    },
    {
     "name": "stderr",
     "output_type": "stream",
     "text": [
      "bruteforce sampling: 100%|██████████| 1/1 [00:10<00:00, 10.97s/it]\n"
     ]
    },
    {
     "name": "stdout",
     "output_type": "stream",
     "text": [
      "bg 6/100\n"
     ]
    },
    {
     "name": "stderr",
     "output_type": "stream",
     "text": [
      "bruteforce sampling: 100%|██████████| 1/1 [00:11<00:00, 11.06s/it]\n"
     ]
    },
    {
     "name": "stdout",
     "output_type": "stream",
     "text": [
      "bg 7/100\n"
     ]
    },
    {
     "name": "stderr",
     "output_type": "stream",
     "text": [
      "bruteforce sampling: 100%|██████████| 1/1 [00:09<00:00,  9.88s/it]\n"
     ]
    },
    {
     "name": "stdout",
     "output_type": "stream",
     "text": [
      "bg 8/100\n"
     ]
    },
    {
     "name": "stderr",
     "output_type": "stream",
     "text": [
      "bruteforce sampling: 100%|██████████| 1/1 [00:09<00:00,  9.83s/it]\n"
     ]
    },
    {
     "name": "stdout",
     "output_type": "stream",
     "text": [
      "bg 9/100\n"
     ]
    },
    {
     "name": "stderr",
     "output_type": "stream",
     "text": [
      "bruteforce sampling: 100%|██████████| 1/1 [00:10<00:00, 10.09s/it]\n"
     ]
    },
    {
     "name": "stdout",
     "output_type": "stream",
     "text": [
      "bg 10/100\n"
     ]
    },
    {
     "name": "stderr",
     "output_type": "stream",
     "text": [
      "bruteforce sampling: 100%|██████████| 1/1 [00:09<00:00,  9.28s/it]\n"
     ]
    },
    {
     "name": "stdout",
     "output_type": "stream",
     "text": [
      "bg 11/100\n"
     ]
    },
    {
     "name": "stderr",
     "output_type": "stream",
     "text": [
      "bruteforce sampling: 100%|██████████| 1/1 [00:10<00:00, 10.59s/it]\n"
     ]
    },
    {
     "name": "stdout",
     "output_type": "stream",
     "text": [
      "bg 12/100\n"
     ]
    },
    {
     "name": "stderr",
     "output_type": "stream",
     "text": [
      "bruteforce sampling: 100%|██████████| 1/1 [00:10<00:00, 10.86s/it]\n"
     ]
    },
    {
     "name": "stdout",
     "output_type": "stream",
     "text": [
      "bg 13/100\n"
     ]
    },
    {
     "name": "stderr",
     "output_type": "stream",
     "text": [
      "bruteforce sampling: 100%|██████████| 1/1 [00:11<00:00, 11.76s/it]\n"
     ]
    },
    {
     "name": "stdout",
     "output_type": "stream",
     "text": [
      "bg 14/100\n"
     ]
    },
    {
     "name": "stderr",
     "output_type": "stream",
     "text": [
      "bruteforce sampling: 100%|██████████| 1/1 [00:10<00:00, 10.25s/it]\n"
     ]
    },
    {
     "name": "stdout",
     "output_type": "stream",
     "text": [
      "bg 15/100\n"
     ]
    },
    {
     "name": "stderr",
     "output_type": "stream",
     "text": [
      "bruteforce sampling: 100%|██████████| 1/1 [00:11<00:00, 11.33s/it]\n"
     ]
    },
    {
     "name": "stdout",
     "output_type": "stream",
     "text": [
      "bg 16/100\n"
     ]
    },
    {
     "name": "stderr",
     "output_type": "stream",
     "text": [
      "bruteforce sampling: 100%|██████████| 1/1 [00:11<00:00, 11.18s/it]\n"
     ]
    },
    {
     "name": "stdout",
     "output_type": "stream",
     "text": [
      "bg 17/100\n"
     ]
    },
    {
     "name": "stderr",
     "output_type": "stream",
     "text": [
      "bruteforce sampling: 100%|██████████| 1/1 [00:11<00:00, 11.22s/it]\n"
     ]
    },
    {
     "name": "stdout",
     "output_type": "stream",
     "text": [
      "bg 18/100\n"
     ]
    },
    {
     "name": "stderr",
     "output_type": "stream",
     "text": [
      "bruteforce sampling: 100%|██████████| 1/1 [00:10<00:00, 10.97s/it]\n"
     ]
    },
    {
     "name": "stdout",
     "output_type": "stream",
     "text": [
      "bg 19/100\n"
     ]
    },
    {
     "name": "stderr",
     "output_type": "stream",
     "text": [
      "bruteforce sampling: 100%|██████████| 1/1 [00:11<00:00, 11.39s/it]\n"
     ]
    },
    {
     "name": "stdout",
     "output_type": "stream",
     "text": [
      "bg 20/100\n"
     ]
    },
    {
     "name": "stderr",
     "output_type": "stream",
     "text": [
      "bruteforce sampling: 100%|██████████| 1/1 [00:10<00:00, 10.94s/it]\n"
     ]
    },
    {
     "name": "stdout",
     "output_type": "stream",
     "text": [
      "bg 21/100\n"
     ]
    },
    {
     "name": "stderr",
     "output_type": "stream",
     "text": [
      "bruteforce sampling: 100%|██████████| 1/1 [00:11<00:00, 11.30s/it]\n"
     ]
    },
    {
     "name": "stdout",
     "output_type": "stream",
     "text": [
      "bg 22/100\n"
     ]
    },
    {
     "name": "stderr",
     "output_type": "stream",
     "text": [
      "bruteforce sampling: 100%|██████████| 1/1 [00:09<00:00,  9.79s/it]\n"
     ]
    },
    {
     "name": "stdout",
     "output_type": "stream",
     "text": [
      "bg 23/100\n"
     ]
    },
    {
     "name": "stderr",
     "output_type": "stream",
     "text": [
      "bruteforce sampling: 100%|██████████| 1/1 [00:11<00:00, 11.27s/it]\n"
     ]
    },
    {
     "name": "stdout",
     "output_type": "stream",
     "text": [
      "bg 24/100\n"
     ]
    },
    {
     "name": "stderr",
     "output_type": "stream",
     "text": [
      "bruteforce sampling: 100%|██████████| 1/1 [00:09<00:00,  9.90s/it]\n"
     ]
    },
    {
     "name": "stdout",
     "output_type": "stream",
     "text": [
      "bg 25/100\n"
     ]
    },
    {
     "name": "stderr",
     "output_type": "stream",
     "text": [
      "bruteforce sampling: 100%|██████████| 1/1 [00:10<00:00, 10.95s/it]\n"
     ]
    },
    {
     "name": "stdout",
     "output_type": "stream",
     "text": [
      "bg 26/100\n"
     ]
    },
    {
     "name": "stderr",
     "output_type": "stream",
     "text": [
      "bruteforce sampling: 100%|██████████| 1/1 [00:09<00:00,  9.70s/it]\n"
     ]
    },
    {
     "name": "stdout",
     "output_type": "stream",
     "text": [
      "bg 27/100\n"
     ]
    },
    {
     "name": "stderr",
     "output_type": "stream",
     "text": [
      "bruteforce sampling: 100%|██████████| 1/1 [00:10<00:00, 10.40s/it]\n"
     ]
    },
    {
     "name": "stdout",
     "output_type": "stream",
     "text": [
      "bg 28/100\n"
     ]
    },
    {
     "name": "stderr",
     "output_type": "stream",
     "text": [
      "bruteforce sampling: 100%|██████████| 1/1 [00:10<00:00, 10.64s/it]\n"
     ]
    },
    {
     "name": "stdout",
     "output_type": "stream",
     "text": [
      "bg 29/100\n"
     ]
    },
    {
     "name": "stderr",
     "output_type": "stream",
     "text": [
      "bruteforce sampling: 100%|██████████| 1/1 [00:10<00:00, 10.96s/it]\n"
     ]
    },
    {
     "name": "stdout",
     "output_type": "stream",
     "text": [
      "bg 30/100\n"
     ]
    },
    {
     "name": "stderr",
     "output_type": "stream",
     "text": [
      "bruteforce sampling: 100%|██████████| 1/1 [00:10<00:00, 10.79s/it]\n"
     ]
    },
    {
     "name": "stdout",
     "output_type": "stream",
     "text": [
      "bg 31/100\n"
     ]
    },
    {
     "name": "stderr",
     "output_type": "stream",
     "text": [
      "bruteforce sampling: 100%|██████████| 1/1 [00:09<00:00,  9.69s/it]\n"
     ]
    },
    {
     "name": "stdout",
     "output_type": "stream",
     "text": [
      "bg 32/100\n"
     ]
    },
    {
     "name": "stderr",
     "output_type": "stream",
     "text": [
      "bruteforce sampling: 100%|██████████| 1/1 [00:10<00:00, 10.27s/it]\n"
     ]
    },
    {
     "name": "stdout",
     "output_type": "stream",
     "text": [
      "bg 33/100\n"
     ]
    },
    {
     "name": "stderr",
     "output_type": "stream",
     "text": [
      "bruteforce sampling: 100%|██████████| 1/1 [00:09<00:00,  9.77s/it]\n"
     ]
    },
    {
     "name": "stdout",
     "output_type": "stream",
     "text": [
      "bg 34/100\n"
     ]
    },
    {
     "name": "stderr",
     "output_type": "stream",
     "text": [
      "bruteforce sampling: 100%|██████████| 1/1 [00:10<00:00, 10.65s/it]\n"
     ]
    },
    {
     "name": "stdout",
     "output_type": "stream",
     "text": [
      "bg 35/100\n"
     ]
    },
    {
     "name": "stderr",
     "output_type": "stream",
     "text": [
      "bruteforce sampling: 100%|██████████| 1/1 [00:10<00:00, 10.01s/it]\n"
     ]
    },
    {
     "name": "stdout",
     "output_type": "stream",
     "text": [
      "bg 36/100\n"
     ]
    },
    {
     "name": "stderr",
     "output_type": "stream",
     "text": [
      "bruteforce sampling: 100%|██████████| 1/1 [00:10<00:00, 10.50s/it]\n"
     ]
    },
    {
     "name": "stdout",
     "output_type": "stream",
     "text": [
      "bg 37/100\n"
     ]
    },
    {
     "name": "stderr",
     "output_type": "stream",
     "text": [
      "bruteforce sampling: 100%|██████████| 1/1 [00:09<00:00, 10.00s/it]\n"
     ]
    },
    {
     "name": "stdout",
     "output_type": "stream",
     "text": [
      "bg 38/100\n"
     ]
    },
    {
     "name": "stderr",
     "output_type": "stream",
     "text": [
      "bruteforce sampling: 100%|██████████| 1/1 [00:10<00:00, 10.25s/it]\n"
     ]
    },
    {
     "name": "stdout",
     "output_type": "stream",
     "text": [
      "bg 39/100\n"
     ]
    },
    {
     "name": "stderr",
     "output_type": "stream",
     "text": [
      "bruteforce sampling: 100%|██████████| 1/1 [00:08<00:00,  8.94s/it]\n"
     ]
    },
    {
     "name": "stdout",
     "output_type": "stream",
     "text": [
      "bg 40/100\n"
     ]
    },
    {
     "name": "stderr",
     "output_type": "stream",
     "text": [
      "bruteforce sampling: 100%|██████████| 1/1 [00:10<00:00, 10.74s/it]\n"
     ]
    },
    {
     "name": "stdout",
     "output_type": "stream",
     "text": [
      "bg 41/100\n"
     ]
    },
    {
     "name": "stderr",
     "output_type": "stream",
     "text": [
      "bruteforce sampling: 100%|██████████| 1/1 [00:10<00:00, 10.52s/it]\n"
     ]
    },
    {
     "name": "stdout",
     "output_type": "stream",
     "text": [
      "bg 42/100\n"
     ]
    },
    {
     "name": "stderr",
     "output_type": "stream",
     "text": [
      "bruteforce sampling: 100%|██████████| 1/1 [00:09<00:00,  9.96s/it]\n"
     ]
    },
    {
     "name": "stdout",
     "output_type": "stream",
     "text": [
      "bg 43/100\n"
     ]
    },
    {
     "name": "stderr",
     "output_type": "stream",
     "text": [
      "bruteforce sampling: 100%|██████████| 1/1 [00:10<00:00, 10.00s/it]\n"
     ]
    },
    {
     "name": "stdout",
     "output_type": "stream",
     "text": [
      "bg 44/100\n"
     ]
    },
    {
     "name": "stderr",
     "output_type": "stream",
     "text": [
      "bruteforce sampling: 100%|██████████| 1/1 [00:08<00:00,  8.98s/it]\n"
     ]
    },
    {
     "name": "stdout",
     "output_type": "stream",
     "text": [
      "bg 45/100\n"
     ]
    },
    {
     "name": "stderr",
     "output_type": "stream",
     "text": [
      "bruteforce sampling: 100%|██████████| 1/1 [00:10<00:00, 10.08s/it]\n"
     ]
    },
    {
     "name": "stdout",
     "output_type": "stream",
     "text": [
      "bg 46/100\n"
     ]
    },
    {
     "name": "stderr",
     "output_type": "stream",
     "text": [
      "bruteforce sampling: 100%|██████████| 1/1 [00:09<00:00,  9.11s/it]\n"
     ]
    },
    {
     "name": "stdout",
     "output_type": "stream",
     "text": [
      "bg 47/100\n"
     ]
    },
    {
     "name": "stderr",
     "output_type": "stream",
     "text": [
      "bruteforce sampling: 100%|██████████| 1/1 [00:10<00:00, 10.56s/it]\n"
     ]
    },
    {
     "name": "stdout",
     "output_type": "stream",
     "text": [
      "bg 48/100\n"
     ]
    },
    {
     "name": "stderr",
     "output_type": "stream",
     "text": [
      "bruteforce sampling: 100%|██████████| 1/1 [00:09<00:00,  9.15s/it]\n"
     ]
    },
    {
     "name": "stdout",
     "output_type": "stream",
     "text": [
      "bg 49/100\n"
     ]
    },
    {
     "name": "stderr",
     "output_type": "stream",
     "text": [
      "bruteforce sampling: 100%|██████████| 1/1 [00:10<00:00, 10.42s/it]\n"
     ]
    },
    {
     "name": "stdout",
     "output_type": "stream",
     "text": [
      "bg 50/100\n"
     ]
    },
    {
     "name": "stderr",
     "output_type": "stream",
     "text": [
      "bruteforce sampling: 100%|██████████| 1/1 [00:10<00:00, 10.26s/it]\n"
     ]
    },
    {
     "name": "stdout",
     "output_type": "stream",
     "text": [
      "bg 51/100\n"
     ]
    },
    {
     "name": "stderr",
     "output_type": "stream",
     "text": [
      "bruteforce sampling: 100%|██████████| 1/1 [00:10<00:00, 10.16s/it]\n"
     ]
    },
    {
     "name": "stdout",
     "output_type": "stream",
     "text": [
      "bg 52/100\n"
     ]
    },
    {
     "name": "stderr",
     "output_type": "stream",
     "text": [
      "bruteforce sampling: 100%|██████████| 1/1 [00:10<00:00, 10.16s/it]\n"
     ]
    },
    {
     "name": "stdout",
     "output_type": "stream",
     "text": [
      "bg 53/100\n"
     ]
    },
    {
     "name": "stderr",
     "output_type": "stream",
     "text": [
      "bruteforce sampling: 100%|██████████| 1/1 [00:10<00:00, 10.00s/it]\n"
     ]
    },
    {
     "name": "stdout",
     "output_type": "stream",
     "text": [
      "bg 54/100\n"
     ]
    },
    {
     "name": "stderr",
     "output_type": "stream",
     "text": [
      "bruteforce sampling: 100%|██████████| 1/1 [00:10<00:00, 10.81s/it]\n"
     ]
    },
    {
     "name": "stdout",
     "output_type": "stream",
     "text": [
      "bg 55/100\n"
     ]
    },
    {
     "name": "stderr",
     "output_type": "stream",
     "text": [
      "bruteforce sampling: 100%|██████████| 1/1 [00:10<00:00, 10.18s/it]\n"
     ]
    },
    {
     "name": "stdout",
     "output_type": "stream",
     "text": [
      "bg 56/100\n"
     ]
    },
    {
     "name": "stderr",
     "output_type": "stream",
     "text": [
      "bruteforce sampling: 100%|██████████| 1/1 [00:10<00:00, 10.50s/it]\n"
     ]
    },
    {
     "name": "stdout",
     "output_type": "stream",
     "text": [
      "bg 57/100\n"
     ]
    },
    {
     "name": "stderr",
     "output_type": "stream",
     "text": [
      "bruteforce sampling: 100%|██████████| 1/1 [00:09<00:00,  9.86s/it]\n"
     ]
    },
    {
     "name": "stdout",
     "output_type": "stream",
     "text": [
      "bg 58/100\n"
     ]
    },
    {
     "name": "stderr",
     "output_type": "stream",
     "text": [
      "bruteforce sampling: 100%|██████████| 1/1 [00:09<00:00,  9.68s/it]\n"
     ]
    },
    {
     "name": "stdout",
     "output_type": "stream",
     "text": [
      "bg 59/100\n"
     ]
    },
    {
     "name": "stderr",
     "output_type": "stream",
     "text": [
      "bruteforce sampling: 100%|██████████| 1/1 [00:10<00:00, 10.48s/it]\n"
     ]
    },
    {
     "name": "stdout",
     "output_type": "stream",
     "text": [
      "bg 60/100\n"
     ]
    },
    {
     "name": "stderr",
     "output_type": "stream",
     "text": [
      "bruteforce sampling: 100%|██████████| 1/1 [00:09<00:00,  9.64s/it]\n"
     ]
    },
    {
     "name": "stdout",
     "output_type": "stream",
     "text": [
      "bg 61/100\n"
     ]
    },
    {
     "name": "stderr",
     "output_type": "stream",
     "text": [
      "bruteforce sampling: 100%|██████████| 1/1 [00:10<00:00, 10.12s/it]\n"
     ]
    },
    {
     "name": "stdout",
     "output_type": "stream",
     "text": [
      "bg 62/100\n"
     ]
    },
    {
     "name": "stderr",
     "output_type": "stream",
     "text": [
      "bruteforce sampling: 100%|██████████| 1/1 [00:09<00:00,  9.74s/it]\n"
     ]
    },
    {
     "name": "stdout",
     "output_type": "stream",
     "text": [
      "bg 63/100\n"
     ]
    },
    {
     "name": "stderr",
     "output_type": "stream",
     "text": [
      "bruteforce sampling: 100%|██████████| 1/1 [00:10<00:00, 10.05s/it]\n"
     ]
    },
    {
     "name": "stdout",
     "output_type": "stream",
     "text": [
      "bg 64/100\n"
     ]
    },
    {
     "name": "stderr",
     "output_type": "stream",
     "text": [
      "bruteforce sampling: 100%|██████████| 1/1 [00:10<00:00, 10.01s/it]\n"
     ]
    },
    {
     "name": "stdout",
     "output_type": "stream",
     "text": [
      "bg 65/100\n"
     ]
    },
    {
     "name": "stderr",
     "output_type": "stream",
     "text": [
      "bruteforce sampling: 100%|██████████| 1/1 [00:09<00:00,  9.81s/it]\n"
     ]
    },
    {
     "name": "stdout",
     "output_type": "stream",
     "text": [
      "bg 66/100\n"
     ]
    },
    {
     "name": "stderr",
     "output_type": "stream",
     "text": [
      "bruteforce sampling: 100%|██████████| 1/1 [00:10<00:00, 10.57s/it]\n"
     ]
    },
    {
     "name": "stdout",
     "output_type": "stream",
     "text": [
      "bg 67/100\n"
     ]
    },
    {
     "name": "stderr",
     "output_type": "stream",
     "text": [
      "bruteforce sampling: 100%|██████████| 1/1 [00:11<00:00, 11.23s/it]\n"
     ]
    },
    {
     "name": "stdout",
     "output_type": "stream",
     "text": [
      "bg 68/100\n"
     ]
    },
    {
     "name": "stderr",
     "output_type": "stream",
     "text": [
      "bruteforce sampling: 100%|██████████| 1/1 [00:09<00:00,  9.75s/it]\n"
     ]
    },
    {
     "name": "stdout",
     "output_type": "stream",
     "text": [
      "bg 69/100\n"
     ]
    },
    {
     "name": "stderr",
     "output_type": "stream",
     "text": [
      "bruteforce sampling: 100%|██████████| 1/1 [00:10<00:00, 10.87s/it]\n"
     ]
    },
    {
     "name": "stdout",
     "output_type": "stream",
     "text": [
      "bg 70/100\n"
     ]
    },
    {
     "name": "stderr",
     "output_type": "stream",
     "text": [
      "bruteforce sampling: 100%|██████████| 1/1 [00:10<00:00, 10.49s/it]\n"
     ]
    },
    {
     "name": "stdout",
     "output_type": "stream",
     "text": [
      "bg 71/100\n"
     ]
    },
    {
     "name": "stderr",
     "output_type": "stream",
     "text": [
      "bruteforce sampling: 100%|██████████| 1/1 [00:10<00:00, 10.69s/it]\n"
     ]
    },
    {
     "name": "stdout",
     "output_type": "stream",
     "text": [
      "bg 72/100\n"
     ]
    },
    {
     "name": "stderr",
     "output_type": "stream",
     "text": [
      "bruteforce sampling: 100%|██████████| 1/1 [00:10<00:00, 10.69s/it]\n"
     ]
    },
    {
     "name": "stdout",
     "output_type": "stream",
     "text": [
      "bg 73/100\n"
     ]
    },
    {
     "name": "stderr",
     "output_type": "stream",
     "text": [
      "bruteforce sampling: 100%|██████████| 1/1 [00:10<00:00, 10.22s/it]\n"
     ]
    },
    {
     "name": "stdout",
     "output_type": "stream",
     "text": [
      "bg 74/100\n"
     ]
    },
    {
     "name": "stderr",
     "output_type": "stream",
     "text": [
      "bruteforce sampling: 100%|██████████| 1/1 [00:10<00:00, 10.83s/it]\n"
     ]
    },
    {
     "name": "stdout",
     "output_type": "stream",
     "text": [
      "bg 75/100\n"
     ]
    },
    {
     "name": "stderr",
     "output_type": "stream",
     "text": [
      "bruteforce sampling: 100%|██████████| 1/1 [00:10<00:00, 10.88s/it]\n"
     ]
    },
    {
     "name": "stdout",
     "output_type": "stream",
     "text": [
      "bg 76/100\n"
     ]
    },
    {
     "name": "stderr",
     "output_type": "stream",
     "text": [
      "bruteforce sampling: 100%|██████████| 1/1 [00:11<00:00, 11.19s/it]\n"
     ]
    },
    {
     "name": "stdout",
     "output_type": "stream",
     "text": [
      "bg 77/100\n"
     ]
    },
    {
     "name": "stderr",
     "output_type": "stream",
     "text": [
      "bruteforce sampling: 100%|██████████| 1/1 [00:11<00:00, 11.40s/it]\n"
     ]
    },
    {
     "name": "stdout",
     "output_type": "stream",
     "text": [
      "bg 78/100\n"
     ]
    },
    {
     "name": "stderr",
     "output_type": "stream",
     "text": [
      "bruteforce sampling: 100%|██████████| 1/1 [00:09<00:00,  9.42s/it]\n"
     ]
    },
    {
     "name": "stdout",
     "output_type": "stream",
     "text": [
      "bg 79/100\n"
     ]
    },
    {
     "name": "stderr",
     "output_type": "stream",
     "text": [
      "bruteforce sampling: 100%|██████████| 1/1 [00:11<00:00, 11.02s/it]\n"
     ]
    },
    {
     "name": "stdout",
     "output_type": "stream",
     "text": [
      "bg 80/100\n"
     ]
    },
    {
     "name": "stderr",
     "output_type": "stream",
     "text": [
      "bruteforce sampling: 100%|██████████| 1/1 [00:10<00:00, 10.85s/it]\n"
     ]
    },
    {
     "name": "stdout",
     "output_type": "stream",
     "text": [
      "bg 81/100\n"
     ]
    },
    {
     "name": "stderr",
     "output_type": "stream",
     "text": [
      "bruteforce sampling: 100%|██████████| 1/1 [00:11<00:00, 11.49s/it]\n"
     ]
    },
    {
     "name": "stdout",
     "output_type": "stream",
     "text": [
      "bg 82/100\n"
     ]
    },
    {
     "name": "stderr",
     "output_type": "stream",
     "text": [
      "bruteforce sampling: 100%|██████████| 1/1 [00:10<00:00, 10.49s/it]\n"
     ]
    },
    {
     "name": "stdout",
     "output_type": "stream",
     "text": [
      "bg 83/100\n"
     ]
    },
    {
     "name": "stderr",
     "output_type": "stream",
     "text": [
      "bruteforce sampling: 100%|██████████| 1/1 [00:10<00:00, 10.61s/it]\n"
     ]
    },
    {
     "name": "stdout",
     "output_type": "stream",
     "text": [
      "bg 84/100\n"
     ]
    },
    {
     "name": "stderr",
     "output_type": "stream",
     "text": [
      "bruteforce sampling: 100%|██████████| 1/1 [00:10<00:00, 10.54s/it]\n"
     ]
    },
    {
     "name": "stdout",
     "output_type": "stream",
     "text": [
      "bg 85/100\n"
     ]
    },
    {
     "name": "stderr",
     "output_type": "stream",
     "text": [
      "bruteforce sampling: 100%|██████████| 1/1 [00:11<00:00, 11.32s/it]\n"
     ]
    },
    {
     "name": "stdout",
     "output_type": "stream",
     "text": [
      "bg 86/100\n"
     ]
    },
    {
     "name": "stderr",
     "output_type": "stream",
     "text": [
      "bruteforce sampling: 100%|██████████| 1/1 [00:09<00:00,  9.21s/it]\n"
     ]
    },
    {
     "name": "stdout",
     "output_type": "stream",
     "text": [
      "bg 87/100\n"
     ]
    },
    {
     "name": "stderr",
     "output_type": "stream",
     "text": [
      "bruteforce sampling: 100%|██████████| 1/1 [00:10<00:00, 10.58s/it]\n"
     ]
    },
    {
     "name": "stdout",
     "output_type": "stream",
     "text": [
      "bg 88/100\n"
     ]
    },
    {
     "name": "stderr",
     "output_type": "stream",
     "text": [
      "bruteforce sampling: 100%|██████████| 1/1 [00:10<00:00, 10.88s/it]\n"
     ]
    },
    {
     "name": "stdout",
     "output_type": "stream",
     "text": [
      "bg 89/100\n"
     ]
    },
    {
     "name": "stderr",
     "output_type": "stream",
     "text": [
      "bruteforce sampling: 100%|██████████| 1/1 [00:10<00:00, 10.42s/it]\n"
     ]
    },
    {
     "name": "stdout",
     "output_type": "stream",
     "text": [
      "bg 90/100\n"
     ]
    },
    {
     "name": "stderr",
     "output_type": "stream",
     "text": [
      "bruteforce sampling: 100%|██████████| 1/1 [00:09<00:00,  9.96s/it]\n"
     ]
    },
    {
     "name": "stdout",
     "output_type": "stream",
     "text": [
      "bg 91/100\n"
     ]
    },
    {
     "name": "stderr",
     "output_type": "stream",
     "text": [
      "bruteforce sampling: 100%|██████████| 1/1 [00:10<00:00, 10.30s/it]\n"
     ]
    },
    {
     "name": "stdout",
     "output_type": "stream",
     "text": [
      "bg 92/100\n"
     ]
    },
    {
     "name": "stderr",
     "output_type": "stream",
     "text": [
      "bruteforce sampling: 100%|██████████| 1/1 [00:10<00:00, 10.11s/it]\n"
     ]
    },
    {
     "name": "stdout",
     "output_type": "stream",
     "text": [
      "bg 93/100\n"
     ]
    },
    {
     "name": "stderr",
     "output_type": "stream",
     "text": [
      "bruteforce sampling: 100%|██████████| 1/1 [00:10<00:00, 10.10s/it]\n"
     ]
    },
    {
     "name": "stdout",
     "output_type": "stream",
     "text": [
      "bg 94/100\n"
     ]
    },
    {
     "name": "stderr",
     "output_type": "stream",
     "text": [
      "bruteforce sampling: 100%|██████████| 1/1 [00:11<00:00, 11.13s/it]\n"
     ]
    },
    {
     "name": "stdout",
     "output_type": "stream",
     "text": [
      "bg 95/100\n"
     ]
    },
    {
     "name": "stderr",
     "output_type": "stream",
     "text": [
      "bruteforce sampling: 100%|██████████| 1/1 [00:09<00:00,  9.09s/it]\n"
     ]
    },
    {
     "name": "stdout",
     "output_type": "stream",
     "text": [
      "bg 96/100\n"
     ]
    },
    {
     "name": "stderr",
     "output_type": "stream",
     "text": [
      "bruteforce sampling: 100%|██████████| 1/1 [00:09<00:00,  9.77s/it]\n"
     ]
    },
    {
     "name": "stdout",
     "output_type": "stream",
     "text": [
      "bg 97/100\n"
     ]
    },
    {
     "name": "stderr",
     "output_type": "stream",
     "text": [
      "bruteforce sampling: 100%|██████████| 1/1 [00:09<00:00,  9.68s/it]\n"
     ]
    },
    {
     "name": "stdout",
     "output_type": "stream",
     "text": [
      "bg 98/100\n"
     ]
    },
    {
     "name": "stderr",
     "output_type": "stream",
     "text": [
      "bruteforce sampling: 100%|██████████| 1/1 [00:09<00:00,  9.76s/it]\n"
     ]
    },
    {
     "name": "stdout",
     "output_type": "stream",
     "text": [
      "bg 99/100\n"
     ]
    },
    {
     "name": "stderr",
     "output_type": "stream",
     "text": [
      "bruteforce sampling: 100%|██████████| 1/1 [00:09<00:00,  9.92s/it]\n"
     ]
    }
   ],
   "source": [
    "# multiple background result with individual run\n",
    "causal_edge_credits = [] # save for each run\n",
    "for i in range(len(bg)): # average run result using linearity axiom\n",
    "    print(f'bg {i}/{len(bg)}')\n",
    "    for j in range(nruns):\n",
    "        E = GraphExplainer(causal_graph, bg[i:i+1])\n",
    "        E.prepare_graph(X) # add noise node\n",
    "        G = copy.deepcopy(E.graph) # group happens after noise node b/c the grouped nodes combines individual noise node\n",
    "        G = group_nodes(G, [n for n in G if n.name in ['White blood cells', 'Sedimentation rate']], 'Inflamation')\n",
    "        G = group_nodes(G, [n for n in G if n.name in ['Systolic BP', 'Diastolic BP']], 'Blood pressure')\n",
    "        G = group_nodes(G, [n for n in G if n.name in ['TS', 'TIBC', 'Serum Iron']], 'Iron')\n",
    "        G = group_nodes(G, [n for n in G if n.name in ['Serum Protein', 'Serum Albumin']], 'Blood protein')\n",
    "\n",
    "        explainer = GraphExplainer(G, bg[i:i+1], nruns=1) \n",
    "        cf_c = explainer.shap_values(X[:nsamples], skip_prepare=True)        \n",
    "        causal_edge_credits.append(node_dict2str_dict(cf_c.edge_credit)) # use node name is more portable vs. node"
   ]
  },
  {
   "cell_type": "code",
   "execution_count": 19,
   "metadata": {},
   "outputs": [
    {
     "data": {
      "image/svg+xml": [
       "<?xml version=\"1.0\" encoding=\"UTF-8\" standalone=\"no\"?>\n",
       "<!DOCTYPE svg PUBLIC \"-//W3C//DTD SVG 1.1//EN\"\n",
       " \"http://www.w3.org/Graphics/SVG/1.1/DTD/svg11.dtd\">\n",
       "<!-- Generated by graphviz version 2.38.0 (20140413.2041)\n",
       " -->\n",
       "<!-- Title: %3 Pages: 1 -->\n",
       "<svg width=\"2516pt\" height=\"404pt\"\n",
       " viewBox=\"0.00 0.00 2516.00 404.00\" xmlns=\"http://www.w3.org/2000/svg\" xmlns:xlink=\"http://www.w3.org/1999/xlink\">\n",
       "<g id=\"graph0\" class=\"graph\" transform=\"scale(1 1) rotate(0) translate(4 400)\">\n",
       "<title>%3</title>\n",
       "<polygon fill=\"white\" stroke=\"none\" points=\"-4,4 -4,-400 2512,-400 2512,4 -4,4\"/>\n",
       "<!-- Poverty index -->\n",
       "<g id=\"node1\" class=\"node\"><title>Poverty index</title>\n",
       "<ellipse fill=\"none\" stroke=\"black\" cx=\"994\" cy=\"-306\" rx=\"59.5901\" ry=\"18\"/>\n",
       "<text text-anchor=\"middle\" x=\"994\" y=\"-302.3\" font-family=\"Times,serif\" font-size=\"14.00\">Poverty index</text>\n",
       "</g>\n",
       "<!-- Blood protein -->\n",
       "<g id=\"node2\" class=\"node\"><title>Blood protein</title>\n",
       "<ellipse fill=\"none\" stroke=\"black\" cx=\"1673\" cy=\"-234\" rx=\"59.5901\" ry=\"18\"/>\n",
       "<text text-anchor=\"middle\" x=\"1673\" y=\"-230.3\" font-family=\"Times,serif\" font-size=\"14.00\">Blood protein</text>\n",
       "</g>\n",
       "<!-- Poverty index&#45;&gt;Blood protein -->\n",
       "<g id=\"edge1\" class=\"edge\"><title>Poverty index&#45;&gt;Blood protein</title>\n",
       "<path fill=\"none\" stroke=\"black\" d=\"M1036.85,-293.343C1045.46,-291.313 1054.48,-289.405 1063,-288 1248.29,-257.444 1296.92,-268.412 1484,-252 1524.8,-248.421 1570.54,-244.309 1606.8,-241.026\"/>\n",
       "<polygon fill=\"black\" stroke=\"black\" points=\"1607.13,-244.511 1616.77,-240.123 1606.49,-237.54 1607.13,-244.511\"/>\n",
       "</g>\n",
       "<!-- Iron -->\n",
       "<g id=\"node3\" class=\"node\"><title>Iron</title>\n",
       "<ellipse fill=\"none\" stroke=\"black\" cx=\"2174\" cy=\"-234\" rx=\"27\" ry=\"18\"/>\n",
       "<text text-anchor=\"middle\" x=\"2174\" y=\"-230.3\" font-family=\"Times,serif\" font-size=\"14.00\">Iron</text>\n",
       "</g>\n",
       "<!-- Poverty index&#45;&gt;Iron -->\n",
       "<g id=\"edge2\" class=\"edge\"><title>Poverty index&#45;&gt;Iron</title>\n",
       "<path fill=\"none\" stroke=\"black\" d=\"M1036.06,-293.203C1044.9,-291.13 1054.2,-289.242 1063,-288 1469.06,-230.655 1575.76,-278.378 1985,-252 2038.04,-248.581 2099.29,-242.72 2137.34,-238.852\"/>\n",
       "<polygon fill=\"black\" stroke=\"black\" points=\"2137.84,-242.32 2147.43,-237.818 2137.12,-235.356 2137.84,-242.32\"/>\n",
       "</g>\n",
       "<!-- Blood pressure -->\n",
       "<g id=\"node4\" class=\"node\"><title>Blood pressure</title>\n",
       "<ellipse fill=\"none\" stroke=\"black\" cx=\"1411\" cy=\"-234\" rx=\"63.8893\" ry=\"18\"/>\n",
       "<text text-anchor=\"middle\" x=\"1411\" y=\"-230.3\" font-family=\"Times,serif\" font-size=\"14.00\">Blood pressure</text>\n",
       "</g>\n",
       "<!-- Poverty index&#45;&gt;Blood pressure -->\n",
       "<g id=\"edge3\" class=\"edge\"><title>Poverty index&#45;&gt;Blood pressure</title>\n",
       "<path fill=\"none\" stroke=\"black\" d=\"M1037.67,-293.609C1046.05,-291.603 1054.77,-289.637 1063,-288 1159.98,-268.71 1273.38,-252.633 1343.7,-243.413\"/>\n",
       "<polygon fill=\"black\" stroke=\"black\" points=\"1344.3,-246.865 1353.76,-242.102 1343.39,-239.924 1344.3,-246.865\"/>\n",
       "</g>\n",
       "<!-- Inflamation -->\n",
       "<g id=\"node5\" class=\"node\"><title>Inflamation</title>\n",
       "<ellipse fill=\"none\" stroke=\"black\" cx=\"1145\" cy=\"-234\" rx=\"51.9908\" ry=\"18\"/>\n",
       "<text text-anchor=\"middle\" x=\"1145\" y=\"-230.3\" font-family=\"Times,serif\" font-size=\"14.00\">Inflamation</text>\n",
       "</g>\n",
       "<!-- Poverty index&#45;&gt;Inflamation -->\n",
       "<g id=\"edge4\" class=\"edge\"><title>Poverty index&#45;&gt;Inflamation</title>\n",
       "<path fill=\"none\" stroke=\"black\" d=\"M1025.29,-290.496C1048.65,-279.666 1080.73,-264.793 1105.81,-253.17\"/>\n",
       "<polygon fill=\"black\" stroke=\"black\" points=\"1107.44,-256.27 1115.04,-248.889 1104.49,-249.92 1107.44,-256.27\"/>\n",
       "</g>\n",
       "<!-- Red blood cells -->\n",
       "<g id=\"node6\" class=\"node\"><title>Red blood cells</title>\n",
       "<ellipse fill=\"none\" stroke=\"black\" cx=\"306\" cy=\"-234\" rx=\"65.7887\" ry=\"18\"/>\n",
       "<text text-anchor=\"middle\" x=\"306\" y=\"-230.3\" font-family=\"Times,serif\" font-size=\"14.00\">Red blood cells</text>\n",
       "</g>\n",
       "<!-- Poverty index&#45;&gt;Red blood cells -->\n",
       "<g id=\"edge5\" class=\"edge\"><title>Poverty index&#45;&gt;Red blood cells</title>\n",
       "<path fill=\"none\" stroke=\"black\" d=\"M938.281,-299.331C813.913,-286.677 513.864,-256.149 376.636,-242.187\"/>\n",
       "<polygon fill=\"black\" stroke=\"black\" points=\"376.948,-238.701 366.645,-241.17 376.239,-245.665 376.948,-238.701\"/>\n",
       "</g>\n",
       "<!-- Serum Magnesium -->\n",
       "<g id=\"node7\" class=\"node\"><title>Serum Magnesium</title>\n",
       "<ellipse fill=\"none\" stroke=\"black\" cx=\"638\" cy=\"-234\" rx=\"79.0865\" ry=\"18\"/>\n",
       "<text text-anchor=\"middle\" x=\"638\" y=\"-230.3\" font-family=\"Times,serif\" font-size=\"14.00\">Serum Magnesium</text>\n",
       "</g>\n",
       "<!-- Poverty index&#45;&gt;Serum Magnesium -->\n",
       "<g id=\"edge6\" class=\"edge\"><title>Poverty index&#45;&gt;Serum Magnesium</title>\n",
       "<path fill=\"none\" stroke=\"black\" d=\"M945.246,-295.414C883.263,-283.226 775.916,-262.118 705.933,-248.358\"/>\n",
       "<polygon fill=\"black\" stroke=\"black\" points=\"706.376,-244.878 695.888,-246.383 705.025,-251.746 706.376,-244.878\"/>\n",
       "</g>\n",
       "<!-- BMI -->\n",
       "<g id=\"node8\" class=\"node\"><title>BMI</title>\n",
       "<ellipse fill=\"none\" stroke=\"black\" cx=\"868\" cy=\"-234\" rx=\"27.8951\" ry=\"18\"/>\n",
       "<text text-anchor=\"middle\" x=\"868\" y=\"-230.3\" font-family=\"Times,serif\" font-size=\"14.00\">BMI</text>\n",
       "</g>\n",
       "<!-- Poverty index&#45;&gt;BMI -->\n",
       "<g id=\"edge7\" class=\"edge\"><title>Poverty index&#45;&gt;BMI</title>\n",
       "<path fill=\"none\" stroke=\"black\" d=\"M966.66,-289.811C946.232,-278.462 918.346,-262.97 897.432,-251.351\"/>\n",
       "<polygon fill=\"black\" stroke=\"black\" points=\"899.093,-248.27 888.652,-246.473 895.694,-254.389 899.093,-248.27\"/>\n",
       "</g>\n",
       "<!-- Serum Cholesterol -->\n",
       "<g id=\"node9\" class=\"node\"><title>Serum Cholesterol</title>\n",
       "<ellipse fill=\"none\" stroke=\"black\" cx=\"1899\" cy=\"-234\" rx=\"77.1866\" ry=\"18\"/>\n",
       "<text text-anchor=\"middle\" x=\"1899\" y=\"-230.3\" font-family=\"Times,serif\" font-size=\"14.00\">Serum Cholesterol</text>\n",
       "</g>\n",
       "<!-- Poverty index&#45;&gt;Serum Cholesterol -->\n",
       "<g id=\"edge8\" class=\"edge\"><title>Poverty index&#45;&gt;Serum Cholesterol</title>\n",
       "<path fill=\"none\" stroke=\"black\" d=\"M1036.45,-293.211C1045.17,-291.165 1054.34,-289.285 1063,-288 1361.93,-243.656 1440.77,-276.275 1742,-252 1768.06,-249.9 1796.48,-247.006 1821.9,-244.201\"/>\n",
       "<polygon fill=\"black\" stroke=\"black\" points=\"1822.29,-247.679 1831.84,-243.091 1821.52,-240.722 1822.29,-247.679\"/>\n",
       "</g>\n",
       "<!-- predicted hazard -->\n",
       "<g id=\"node10\" class=\"node\"><title>predicted hazard</title>\n",
       "<ellipse fill=\"none\" stroke=\"black\" cx=\"1546\" cy=\"-18\" rx=\"69.5877\" ry=\"18\"/>\n",
       "<text text-anchor=\"middle\" x=\"1546\" y=\"-14.3\" font-family=\"Times,serif\" font-size=\"14.00\">predicted hazard</text>\n",
       "</g>\n",
       "<!-- Poverty index&#45;&gt;predicted hazard -->\n",
       "<g id=\"edge9\" class=\"edge\"><title>Poverty index&#45;&gt;predicted hazard</title>\n",
       "<path fill=\"none\" stroke=\"black\" d=\"M990.51,-287.651C985.089,-255.381 978.552,-185.636 1013,-144 1070.79,-74.1449 1338.46,-38.9849 1471.1,-25.6037\"/>\n",
       "<polygon fill=\"black\" stroke=\"black\" points=\"1471.58,-29.0734 1481.18,-24.602 1470.88,-22.1076 1471.58,-29.0734\"/>\n",
       "</g>\n",
       "<!-- Serum Albumin -->\n",
       "<g id=\"node11\" class=\"node\"><title>Serum Albumin</title>\n",
       "<ellipse fill=\"none\" stroke=\"black\" cx=\"1744\" cy=\"-90\" rx=\"68.4888\" ry=\"18\"/>\n",
       "<text text-anchor=\"middle\" x=\"1744\" y=\"-86.3\" font-family=\"Times,serif\" font-size=\"14.00\">Serum Albumin</text>\n",
       "</g>\n",
       "<!-- Blood protein&#45;&gt;Serum Albumin -->\n",
       "<g id=\"edge10\" class=\"edge\"><title>Blood protein&#45;&gt;Serum Albumin</title>\n",
       "<path fill=\"none\" stroke=\"black\" d=\"M1704.08,-218.427C1719.07,-209.599 1735.59,-196.775 1744,-180 1753.55,-160.949 1752.81,-136.591 1750.1,-118.175\"/>\n",
       "<polygon fill=\"black\" stroke=\"black\" points=\"1753.5,-117.349 1748.33,-108.103 1746.61,-118.557 1753.5,-117.349\"/>\n",
       "</g>\n",
       "<!-- Serum Protein -->\n",
       "<g id=\"node12\" class=\"node\"><title>Serum Protein</title>\n",
       "<ellipse fill=\"none\" stroke=\"black\" cx=\"1673\" cy=\"-162\" rx=\"61.99\" ry=\"18\"/>\n",
       "<text text-anchor=\"middle\" x=\"1673\" y=\"-158.3\" font-family=\"Times,serif\" font-size=\"14.00\">Serum Protein</text>\n",
       "</g>\n",
       "<!-- Blood protein&#45;&gt;Serum Protein -->\n",
       "<g id=\"edge11\" class=\"edge\"><title>Blood protein&#45;&gt;Serum Protein</title>\n",
       "<path fill=\"none\" stroke=\"black\" d=\"M1673,-215.697C1673,-207.983 1673,-198.712 1673,-190.112\"/>\n",
       "<polygon fill=\"black\" stroke=\"black\" points=\"1676.5,-190.104 1673,-180.104 1669.5,-190.104 1676.5,-190.104\"/>\n",
       "</g>\n",
       "<!-- TS -->\n",
       "<g id=\"node13\" class=\"node\"><title>TS</title>\n",
       "<ellipse fill=\"none\" stroke=\"black\" cx=\"1924\" cy=\"-90\" rx=\"27\" ry=\"18\"/>\n",
       "<text text-anchor=\"middle\" x=\"1924\" y=\"-86.3\" font-family=\"Times,serif\" font-size=\"14.00\">TS</text>\n",
       "</g>\n",
       "<!-- Iron&#45;&gt;TS -->\n",
       "<g id=\"edge12\" class=\"edge\"><title>Iron&#45;&gt;TS</title>\n",
       "<path fill=\"none\" stroke=\"black\" d=\"M2153.96,-221.62C2109.9,-196.589 2004.41,-136.67 1953.06,-107.507\"/>\n",
       "<polygon fill=\"black\" stroke=\"black\" points=\"1954.56,-104.33 1944.13,-102.435 1951.1,-110.417 1954.56,-104.33\"/>\n",
       "</g>\n",
       "<!-- Serum Iron -->\n",
       "<g id=\"node14\" class=\"node\"><title>Serum Iron</title>\n",
       "<ellipse fill=\"none\" stroke=\"black\" cx=\"2037\" cy=\"-90\" rx=\"51.1914\" ry=\"18\"/>\n",
       "<text text-anchor=\"middle\" x=\"2037\" y=\"-86.3\" font-family=\"Times,serif\" font-size=\"14.00\">Serum Iron</text>\n",
       "</g>\n",
       "<!-- Iron&#45;&gt;Serum Iron -->\n",
       "<g id=\"edge13\" class=\"edge\"><title>Iron&#45;&gt;Serum Iron</title>\n",
       "<path fill=\"none\" stroke=\"black\" d=\"M2159.85,-218.338C2136.26,-193.88 2088.64,-144.529 2060.12,-114.962\"/>\n",
       "<polygon fill=\"black\" stroke=\"black\" points=\"2062.42,-112.308 2052.96,-107.541 2057.38,-117.168 2062.42,-112.308\"/>\n",
       "</g>\n",
       "<!-- TIBC -->\n",
       "<g id=\"node15\" class=\"node\"><title>TIBC</title>\n",
       "<ellipse fill=\"none\" stroke=\"black\" cx=\"2145\" cy=\"-90\" rx=\"30.5947\" ry=\"18\"/>\n",
       "<text text-anchor=\"middle\" x=\"2145\" y=\"-86.3\" font-family=\"Times,serif\" font-size=\"14.00\">TIBC</text>\n",
       "</g>\n",
       "<!-- Iron&#45;&gt;TIBC -->\n",
       "<g id=\"edge14\" class=\"edge\"><title>Iron&#45;&gt;TIBC</title>\n",
       "<path fill=\"none\" stroke=\"black\" d=\"M2170.5,-215.871C2165.54,-191.564 2156.4,-146.819 2150.52,-118.013\"/>\n",
       "<polygon fill=\"black\" stroke=\"black\" points=\"2153.94,-117.287 2148.51,-108.189 2147.08,-118.687 2153.94,-117.287\"/>\n",
       "</g>\n",
       "<!-- Diastolic BP -->\n",
       "<g id=\"node16\" class=\"node\"><title>Diastolic BP</title>\n",
       "<ellipse fill=\"none\" stroke=\"black\" cx=\"1537\" cy=\"-162\" rx=\"55.7903\" ry=\"18\"/>\n",
       "<text text-anchor=\"middle\" x=\"1537\" y=\"-158.3\" font-family=\"Times,serif\" font-size=\"14.00\">Diastolic BP</text>\n",
       "</g>\n",
       "<!-- Blood pressure&#45;&gt;Diastolic BP -->\n",
       "<g id=\"edge15\" class=\"edge\"><title>Blood pressure&#45;&gt;Diastolic BP</title>\n",
       "<path fill=\"none\" stroke=\"black\" d=\"M1438.65,-217.638C1457.12,-207.378 1481.58,-193.787 1501.49,-182.728\"/>\n",
       "<polygon fill=\"black\" stroke=\"black\" points=\"1503.24,-185.762 1510.28,-177.846 1499.84,-179.643 1503.24,-185.762\"/>\n",
       "</g>\n",
       "<!-- Systolic BP -->\n",
       "<g id=\"node17\" class=\"node\"><title>Systolic BP</title>\n",
       "<ellipse fill=\"none\" stroke=\"black\" cx=\"1411\" cy=\"-162\" rx=\"51.9908\" ry=\"18\"/>\n",
       "<text text-anchor=\"middle\" x=\"1411\" y=\"-158.3\" font-family=\"Times,serif\" font-size=\"14.00\">Systolic BP</text>\n",
       "</g>\n",
       "<!-- Blood pressure&#45;&gt;Systolic BP -->\n",
       "<g id=\"edge16\" class=\"edge\"><title>Blood pressure&#45;&gt;Systolic BP</title>\n",
       "<path fill=\"none\" stroke=\"black\" d=\"M1411,-215.697C1411,-207.983 1411,-198.712 1411,-190.112\"/>\n",
       "<polygon fill=\"black\" stroke=\"black\" points=\"1414.5,-190.104 1411,-180.104 1407.5,-190.104 1414.5,-190.104\"/>\n",
       "</g>\n",
       "<!-- White blood cells -->\n",
       "<g id=\"node18\" class=\"node\"><title>White blood cells</title>\n",
       "<ellipse fill=\"none\" stroke=\"black\" cx=\"1268\" cy=\"-162\" rx=\"73.387\" ry=\"18\"/>\n",
       "<text text-anchor=\"middle\" x=\"1268\" y=\"-158.3\" font-family=\"Times,serif\" font-size=\"14.00\">White blood cells</text>\n",
       "</g>\n",
       "<!-- Inflamation&#45;&gt;White blood cells -->\n",
       "<g id=\"edge17\" class=\"edge\"><title>Inflamation&#45;&gt;White blood cells</title>\n",
       "<path fill=\"none\" stroke=\"black\" d=\"M1170.78,-218.326C1188.3,-208.358 1211.73,-195.025 1231.2,-183.945\"/>\n",
       "<polygon fill=\"black\" stroke=\"black\" points=\"1233.15,-186.861 1240.11,-178.873 1229.69,-180.777 1233.15,-186.861\"/>\n",
       "</g>\n",
       "<!-- Sedimentation rate -->\n",
       "<g id=\"node19\" class=\"node\"><title>Sedimentation rate</title>\n",
       "<ellipse fill=\"none\" stroke=\"black\" cx=\"1099\" cy=\"-162\" rx=\"77.1866\" ry=\"18\"/>\n",
       "<text text-anchor=\"middle\" x=\"1099\" y=\"-158.3\" font-family=\"Times,serif\" font-size=\"14.00\">Sedimentation rate</text>\n",
       "</g>\n",
       "<!-- Inflamation&#45;&gt;Sedimentation rate -->\n",
       "<g id=\"edge18\" class=\"edge\"><title>Inflamation&#45;&gt;Sedimentation rate</title>\n",
       "<path fill=\"none\" stroke=\"black\" d=\"M1133.86,-216.055C1128.46,-207.837 1121.86,-197.791 1115.86,-188.66\"/>\n",
       "<polygon fill=\"black\" stroke=\"black\" points=\"1118.77,-186.71 1110.35,-180.275 1112.92,-190.555 1118.77,-186.71\"/>\n",
       "</g>\n",
       "<!-- Red blood cells&#45;&gt;predicted hazard -->\n",
       "<g id=\"edge19\" class=\"edge\"><title>Red blood cells&#45;&gt;predicted hazard</title>\n",
       "<path fill=\"none\" stroke=\"black\" d=\"M342.967,-218.965C429.466,-186.796 652.396,-107.763 846,-72 1068,-30.9918 1335.22,-21.5799 1465.99,-19.51\"/>\n",
       "<polygon fill=\"black\" stroke=\"black\" points=\"1466.37,-23.0049 1476.32,-19.3575 1466.26,-16.0057 1466.37,-23.0049\"/>\n",
       "</g>\n",
       "<!-- Serum Magnesium&#45;&gt;predicted hazard -->\n",
       "<g id=\"edge20\" class=\"edge\"><title>Serum Magnesium&#45;&gt;predicted hazard</title>\n",
       "<path fill=\"none\" stroke=\"black\" d=\"M660.506,-216.583C708.379,-182.661 825.027,-105.237 936,-72 1033.36,-42.8402 1325.6,-27.6721 1467.28,-21.8624\"/>\n",
       "<polygon fill=\"black\" stroke=\"black\" points=\"1467.78,-25.3452 1477.63,-21.4438 1467.49,-18.351 1467.78,-25.3452\"/>\n",
       "</g>\n",
       "<!-- BMI&#45;&gt;predicted hazard -->\n",
       "<g id=\"edge21\" class=\"edge\"><title>BMI&#45;&gt;predicted hazard</title>\n",
       "<path fill=\"none\" stroke=\"black\" d=\"M873.973,-216.416C887.149,-182.531 922.211,-105.719 980,-72 1060.43,-25.07 1329.84,-18.5291 1465.91,-18.3331\"/>\n",
       "<polygon fill=\"black\" stroke=\"black\" points=\"1466.27,-21.8331 1476.27,-18.3301 1466.27,-14.8331 1466.27,-21.8331\"/>\n",
       "</g>\n",
       "<!-- Serum Cholesterol&#45;&gt;predicted hazard -->\n",
       "<g id=\"edge22\" class=\"edge\"><title>Serum Cholesterol&#45;&gt;predicted hazard</title>\n",
       "<path fill=\"none\" stroke=\"black\" d=\"M1895.95,-215.961C1889.04,-182.618 1868.91,-108.8 1821,-72 1790.27,-48.3921 1691.18,-33.6345 1620.78,-25.8591\"/>\n",
       "<polygon fill=\"black\" stroke=\"black\" points=\"1620.93,-22.3551 1610.61,-24.7624 1620.18,-29.3148 1620.93,-22.3551\"/>\n",
       "</g>\n",
       "<!-- Serum Albumin&#45;&gt;predicted hazard -->\n",
       "<g id=\"edge54\" class=\"edge\"><title>Serum Albumin&#45;&gt;predicted hazard</title>\n",
       "<path fill=\"none\" stroke=\"black\" d=\"M1704.88,-75.1703C1673.39,-64.0371 1628.95,-48.3263 1595.08,-36.3501\"/>\n",
       "<polygon fill=\"black\" stroke=\"black\" points=\"1595.97,-32.954 1585.38,-32.9206 1593.64,-39.5537 1595.97,-32.954\"/>\n",
       "</g>\n",
       "<!-- Serum Protein&#45;&gt;predicted hazard -->\n",
       "<g id=\"edge55\" class=\"edge\"><title>Serum Protein&#45;&gt;predicted hazard</title>\n",
       "<path fill=\"none\" stroke=\"black\" d=\"M1658.18,-144.433C1635.93,-119.556 1593.76,-72.3984 1567.94,-43.5265\"/>\n",
       "<polygon fill=\"black\" stroke=\"black\" points=\"1570.39,-41.0223 1561.12,-35.9017 1565.17,-45.6888 1570.39,-41.0223\"/>\n",
       "</g>\n",
       "<!-- TS&#45;&gt;predicted hazard -->\n",
       "<g id=\"edge57\" class=\"edge\"><title>TS&#45;&gt;predicted hazard</title>\n",
       "<path fill=\"none\" stroke=\"black\" d=\"M1901.09,-80.3105C1892.66,-77.3549 1882.99,-74.2369 1874,-72 1787.35,-50.4302 1685.56,-35.5668 1618.62,-27.1864\"/>\n",
       "<polygon fill=\"black\" stroke=\"black\" points=\"1618.95,-23.7003 1608.59,-25.947 1618.09,-30.6474 1618.95,-23.7003\"/>\n",
       "</g>\n",
       "<!-- Serum Iron&#45;&gt;predicted hazard -->\n",
       "<g id=\"edge58\" class=\"edge\"><title>Serum Iron&#45;&gt;predicted hazard</title>\n",
       "<path fill=\"none\" stroke=\"black\" d=\"M1995.58,-79.1371C1984.09,-76.5995 1971.6,-74.0186 1960,-72 1841.61,-51.3966 1702.88,-35.2462 1619.84,-26.4253\"/>\n",
       "<polygon fill=\"black\" stroke=\"black\" points=\"1620.06,-22.9289 1609.74,-25.36 1619.32,-29.8903 1620.06,-22.9289\"/>\n",
       "</g>\n",
       "<!-- TIBC&#45;&gt;predicted hazard -->\n",
       "<g id=\"edge59\" class=\"edge\"><title>TIBC&#45;&gt;predicted hazard</title>\n",
       "<path fill=\"none\" stroke=\"black\" d=\"M2120.43,-78.998C2113.01,-76.3342 2104.77,-73.7219 2097,-72 1931.8,-35.3819 1733.2,-24.063 1625.29,-20.5646\"/>\n",
       "<polygon fill=\"black\" stroke=\"black\" points=\"1625.24,-17.0614 1615.13,-20.2499 1625.02,-24.058 1625.24,-17.0614\"/>\n",
       "</g>\n",
       "<!-- Diastolic BP&#45;&gt;predicted hazard -->\n",
       "<g id=\"edge61\" class=\"edge\"><title>Diastolic BP&#45;&gt;predicted hazard</title>\n",
       "<path fill=\"none\" stroke=\"black\" d=\"M1551.82,-144.173C1559.46,-134.353 1568,-121.306 1572,-108 1576.6,-92.6764 1575.62,-87.5858 1572,-72 1569.85,-62.7152 1565.82,-53.1819 1561.58,-44.8058\"/>\n",
       "<polygon fill=\"black\" stroke=\"black\" points=\"1564.61,-43.0503 1556.78,-35.9157 1558.45,-46.3775 1564.61,-43.0503\"/>\n",
       "</g>\n",
       "<!-- Pulse pressure -->\n",
       "<g id=\"node26\" class=\"node\"><title>Pulse pressure</title>\n",
       "<ellipse fill=\"none\" stroke=\"black\" cx=\"1501\" cy=\"-90\" rx=\"61.99\" ry=\"18\"/>\n",
       "<text text-anchor=\"middle\" x=\"1501\" y=\"-86.3\" font-family=\"Times,serif\" font-size=\"14.00\">Pulse pressure</text>\n",
       "</g>\n",
       "<!-- Diastolic BP&#45;&gt;Pulse pressure -->\n",
       "<g id=\"edge62\" class=\"edge\"><title>Diastolic BP&#45;&gt;Pulse pressure</title>\n",
       "<path fill=\"none\" stroke=\"black\" d=\"M1528.29,-144.055C1524.15,-136.007 1519.11,-126.205 1514.49,-117.226\"/>\n",
       "<polygon fill=\"black\" stroke=\"black\" points=\"1517.57,-115.567 1509.88,-108.275 1511.35,-118.769 1517.57,-115.567\"/>\n",
       "</g>\n",
       "<!-- Systolic BP&#45;&gt;predicted hazard -->\n",
       "<g id=\"edge63\" class=\"edge\"><title>Systolic BP&#45;&gt;predicted hazard</title>\n",
       "<path fill=\"none\" stroke=\"black\" d=\"M1410.3,-143.67C1410.43,-124.182 1413.49,-92.5781 1430,-72 1444.3,-54.1799 1465.92,-42.1144 1486.64,-34.0597\"/>\n",
       "<polygon fill=\"black\" stroke=\"black\" points=\"1487.86,-37.3399 1496.06,-30.6349 1485.47,-30.7608 1487.86,-37.3399\"/>\n",
       "</g>\n",
       "<!-- Systolic BP&#45;&gt;Pulse pressure -->\n",
       "<g id=\"edge64\" class=\"edge\"><title>Systolic BP&#45;&gt;Pulse pressure</title>\n",
       "<path fill=\"none\" stroke=\"black\" d=\"M1431.42,-145.116C1443.53,-135.696 1459.07,-123.611 1472.39,-113.251\"/>\n",
       "<polygon fill=\"black\" stroke=\"black\" points=\"1474.6,-115.966 1480.35,-107.064 1470.3,-110.44 1474.6,-115.966\"/>\n",
       "</g>\n",
       "<!-- White blood cells&#45;&gt;predicted hazard -->\n",
       "<g id=\"edge67\" class=\"edge\"><title>White blood cells&#45;&gt;predicted hazard</title>\n",
       "<path fill=\"none\" stroke=\"black\" d=\"M1291.02,-144.834C1318.66,-125.861 1366.84,-94.1786 1411,-72 1438.33,-58.2727 1470.13,-45.6389 1495.99,-36.1519\"/>\n",
       "<polygon fill=\"black\" stroke=\"black\" points=\"1497.38,-39.3709 1505.59,-32.6743 1495,-32.7893 1497.38,-39.3709\"/>\n",
       "</g>\n",
       "<!-- Sedimentation rate&#45;&gt;predicted hazard -->\n",
       "<g id=\"edge68\" class=\"edge\"><title>Sedimentation rate&#45;&gt;predicted hazard</title>\n",
       "<path fill=\"none\" stroke=\"black\" d=\"M1136.9,-146.272C1185.26,-127.741 1271.67,-95.5017 1347,-72 1393.72,-57.4225 1447.38,-43.2796 1487.2,-33.2752\"/>\n",
       "<polygon fill=\"black\" stroke=\"black\" points=\"1488.16,-36.6433 1497.01,-30.8231 1486.46,-29.8522 1488.16,-36.6433\"/>\n",
       "</g>\n",
       "<!-- Age -->\n",
       "<g id=\"node20\" class=\"node\"><title>Age</title>\n",
       "<ellipse fill=\"none\" stroke=\"black\" cx=\"868\" cy=\"-378\" rx=\"27\" ry=\"18\"/>\n",
       "<text text-anchor=\"middle\" x=\"868\" y=\"-374.3\" font-family=\"Times,serif\" font-size=\"14.00\">Age</text>\n",
       "</g>\n",
       "<!-- Age&#45;&gt;Poverty index -->\n",
       "<g id=\"edge23\" class=\"edge\"><title>Age&#45;&gt;Poverty index</title>\n",
       "<path fill=\"none\" stroke=\"black\" d=\"M888.244,-365.753C906.953,-355.359 935.188,-339.674 957.778,-327.123\"/>\n",
       "<polygon fill=\"black\" stroke=\"black\" points=\"959.713,-330.052 966.754,-322.136 956.313,-323.933 959.713,-330.052\"/>\n",
       "</g>\n",
       "<!-- Age&#45;&gt;Blood protein -->\n",
       "<g id=\"edge24\" class=\"edge\"><title>Age&#45;&gt;Blood protein</title>\n",
       "<path fill=\"none\" stroke=\"black\" d=\"M888.049,-365.865C893.113,-363.524 898.639,-361.356 904,-360 1047.05,-323.823 1433.6,-387.054 1567,-324 1586.62,-314.725 1583.8,-302.449 1600,-288 1612.66,-276.711 1627.66,-265.49 1640.77,-256.299\"/>\n",
       "<polygon fill=\"black\" stroke=\"black\" points=\"1642.83,-259.133 1649.07,-250.572 1638.85,-253.373 1642.83,-259.133\"/>\n",
       "</g>\n",
       "<!-- Age&#45;&gt;Iron -->\n",
       "<g id=\"edge25\" class=\"edge\"><title>Age&#45;&gt;Iron</title>\n",
       "<path fill=\"none\" stroke=\"black\" d=\"M888.025,-365.765C893.09,-363.427 898.622,-361.285 904,-360 973.461,-343.399 2139.21,-375.202 2189,-324 2205.24,-307.298 2197.56,-279.979 2188.26,-260.007\"/>\n",
       "<polygon fill=\"black\" stroke=\"black\" points=\"2191.29,-258.232 2183.67,-250.871 2185.03,-261.377 2191.29,-258.232\"/>\n",
       "</g>\n",
       "<!-- Age&#45;&gt;Blood pressure -->\n",
       "<g id=\"edge26\" class=\"edge\"><title>Age&#45;&gt;Blood pressure</title>\n",
       "<path fill=\"none\" stroke=\"black\" d=\"M888.487,-365.904C893.445,-363.622 898.813,-361.47 904,-360 1042.97,-320.625 1088.21,-364.023 1227,-324 1282.09,-308.115 1340.93,-276.832 1376.84,-255.914\"/>\n",
       "<polygon fill=\"black\" stroke=\"black\" points=\"1379.07,-258.666 1385.9,-250.572 1375.51,-252.636 1379.07,-258.666\"/>\n",
       "</g>\n",
       "<!-- Age&#45;&gt;Inflamation -->\n",
       "<g id=\"edge27\" class=\"edge\"><title>Age&#45;&gt;Inflamation</title>\n",
       "<path fill=\"none\" stroke=\"black\" d=\"M874.08,-360.454C882.398,-340.189 899.292,-306.306 925,-288 971.511,-254.88 1036.12,-242.284 1083.28,-237.582\"/>\n",
       "<polygon fill=\"black\" stroke=\"black\" points=\"1083.73,-241.057 1093.37,-236.67 1083.1,-234.085 1083.73,-241.057\"/>\n",
       "</g>\n",
       "<!-- Age&#45;&gt;Red blood cells -->\n",
       "<g id=\"edge28\" class=\"edge\"><title>Age&#45;&gt;Red blood cells</title>\n",
       "<path fill=\"none\" stroke=\"black\" d=\"M841.104,-376.264C703.585,-372.376 84.432,-353.283 57,-324 1.86712,-265.147 139.641,-245.156 231.54,-238.405\"/>\n",
       "<polygon fill=\"black\" stroke=\"black\" points=\"231.936,-241.886 241.669,-237.701 231.45,-234.903 231.936,-241.886\"/>\n",
       "</g>\n",
       "<!-- Age&#45;&gt;Serum Magnesium -->\n",
       "<g id=\"edge29\" class=\"edge\"><title>Age&#45;&gt;Serum Magnesium</title>\n",
       "<path fill=\"none\" stroke=\"black\" d=\"M841.084,-376.236C741.118,-373.124 395.261,-359.824 363,-324 305.455,-260.099 448.174,-241.868 548.832,-236.798\"/>\n",
       "<polygon fill=\"black\" stroke=\"black\" points=\"549.219,-240.284 559.044,-236.321 548.892,-233.291 549.219,-240.284\"/>\n",
       "</g>\n",
       "<!-- Age&#45;&gt;BMI -->\n",
       "<g id=\"edge30\" class=\"edge\"><title>Age&#45;&gt;BMI</title>\n",
       "<path fill=\"none\" stroke=\"black\" d=\"M840.859,-377.789C801.29,-377.28 728.807,-369.714 695,-324 657.125,-272.785 768.94,-248.728 830.453,-239.61\"/>\n",
       "<polygon fill=\"black\" stroke=\"black\" points=\"831.174,-243.043 840.584,-238.175 830.192,-236.112 831.174,-243.043\"/>\n",
       "</g>\n",
       "<!-- Age&#45;&gt;Serum Cholesterol -->\n",
       "<g id=\"edge31\" class=\"edge\"><title>Age&#45;&gt;Serum Cholesterol</title>\n",
       "<path fill=\"none\" stroke=\"black\" d=\"M888.033,-365.802C893.098,-363.463 898.628,-361.311 904,-360 1007.37,-334.769 1773.32,-384.296 1861,-324 1881.28,-310.056 1890.79,-282.934 1895.22,-262.278\"/>\n",
       "<polygon fill=\"black\" stroke=\"black\" points=\"1898.71,-262.641 1897.1,-252.169 1891.83,-261.359 1898.71,-262.641\"/>\n",
       "</g>\n",
       "<!-- Age&#45;&gt;predicted hazard -->\n",
       "<g id=\"edge32\" class=\"edge\"><title>Age&#45;&gt;predicted hazard</title>\n",
       "<path fill=\"none\" stroke=\"black\" d=\"M840.711,-376.89C705.179,-376.128 108.24,-370.155 41,-324 5.09396,-299.354 0,-278.551 0,-235 0,-235 0,-235 0,-161 0,-86.545 1152.06,-34.8188 1467.17,-22.0634\"/>\n",
       "<polygon fill=\"black\" stroke=\"black\" points=\"1467.72,-25.5438 1477.58,-21.6439 1467.44,-18.5495 1467.72,-25.5438\"/>\n",
       "</g>\n",
       "<!-- Sex -->\n",
       "<g id=\"node21\" class=\"node\"><title>Sex</title>\n",
       "<ellipse fill=\"none\" stroke=\"black\" cx=\"1284\" cy=\"-378\" rx=\"27\" ry=\"18\"/>\n",
       "<text text-anchor=\"middle\" x=\"1284\" y=\"-374.3\" font-family=\"Times,serif\" font-size=\"14.00\">Sex</text>\n",
       "</g>\n",
       "<!-- Sex&#45;&gt;Poverty index -->\n",
       "<g id=\"edge33\" class=\"edge\"><title>Sex&#45;&gt;Poverty index</title>\n",
       "<path fill=\"none\" stroke=\"black\" d=\"M1258.8,-371.01C1217.76,-361.242 1133.93,-341.242 1063,-324 1058.3,-322.858 1053.43,-321.667 1048.54,-320.469\"/>\n",
       "<polygon fill=\"black\" stroke=\"black\" points=\"1049.08,-316.999 1038.53,-318.014 1047.41,-323.797 1049.08,-316.999\"/>\n",
       "</g>\n",
       "<!-- Sex&#45;&gt;Blood protein -->\n",
       "<g id=\"edge34\" class=\"edge\"><title>Sex&#45;&gt;Blood protein</title>\n",
       "<path fill=\"none\" stroke=\"black\" d=\"M1310.75,-374.93C1377.71,-369.373 1550.66,-352.579 1600,-324 1625.79,-309.06 1646.31,-281.316 1658.95,-260.761\"/>\n",
       "<polygon fill=\"black\" stroke=\"black\" points=\"1662.11,-262.283 1664.19,-251.894 1656.08,-258.722 1662.11,-262.283\"/>\n",
       "</g>\n",
       "<!-- Sex&#45;&gt;Iron -->\n",
       "<g id=\"edge35\" class=\"edge\"><title>Sex&#45;&gt;Iron</title>\n",
       "<path fill=\"none\" stroke=\"black\" d=\"M1310.58,-374.257C1347.13,-370.566 1414.99,-364.001 1473,-360 1514.56,-357.133 2193.26,-354.156 2222,-324 2241.12,-303.942 2218.41,-274.786 2198.19,-255.375\"/>\n",
       "<polygon fill=\"black\" stroke=\"black\" points=\"2200.39,-252.64 2190.66,-248.452 2195.65,-257.795 2200.39,-252.64\"/>\n",
       "</g>\n",
       "<!-- Sex&#45;&gt;Blood pressure -->\n",
       "<g id=\"edge36\" class=\"edge\"><title>Sex&#45;&gt;Blood pressure</title>\n",
       "<path fill=\"none\" stroke=\"black\" d=\"M1297.35,-362.072C1319.12,-337.729 1362.49,-289.243 1388.9,-259.706\"/>\n",
       "<polygon fill=\"black\" stroke=\"black\" points=\"1391.82,-261.701 1395.87,-251.914 1386.6,-257.034 1391.82,-261.701\"/>\n",
       "</g>\n",
       "<!-- Sex&#45;&gt;Inflamation -->\n",
       "<g id=\"edge37\" class=\"edge\"><title>Sex&#45;&gt;Inflamation</title>\n",
       "<path fill=\"none\" stroke=\"black\" d=\"M1276.14,-360.423C1266.5,-341.346 1248.75,-309.842 1227,-288 1214.02,-274.97 1197.32,-263.466 1182.38,-254.534\"/>\n",
       "<polygon fill=\"black\" stroke=\"black\" points=\"1183.76,-251.29 1173.35,-249.314 1180.26,-257.35 1183.76,-251.29\"/>\n",
       "</g>\n",
       "<!-- Sex&#45;&gt;Red blood cells -->\n",
       "<g id=\"edge38\" class=\"edge\"><title>Sex&#45;&gt;Red blood cells</title>\n",
       "<path fill=\"none\" stroke=\"black\" d=\"M1257.5,-374.432C1219.22,-370.796 1146.24,-364.13 1084,-360 1042.16,-357.224 362.673,-350.29 330,-324 311.927,-309.458 306.626,-282.851 305.428,-262.504\"/>\n",
       "<polygon fill=\"black\" stroke=\"black\" points=\"308.919,-262.14 305.129,-252.246 301.922,-262.344 308.919,-262.14\"/>\n",
       "</g>\n",
       "<!-- Sex&#45;&gt;Serum Magnesium -->\n",
       "<g id=\"edge39\" class=\"edge\"><title>Sex&#45;&gt;Serum Magnesium</title>\n",
       "<path fill=\"none\" stroke=\"black\" d=\"M1257.27,-374.723C1138.22,-364.578 662,-324 662,-324 644.202,-309.124 638.864,-282.561 637.583,-262.315\"/>\n",
       "<polygon fill=\"black\" stroke=\"black\" points=\"641.074,-261.991 637.236,-252.115 634.078,-262.229 641.074,-261.991\"/>\n",
       "</g>\n",
       "<!-- Sex&#45;&gt;BMI -->\n",
       "<g id=\"edge40\" class=\"edge\"><title>Sex&#45;&gt;BMI</title>\n",
       "<path fill=\"none\" stroke=\"black\" d=\"M1257.16,-375.081C1173.2,-368.848 919.504,-348.166 892,-324 874.676,-308.778 869.251,-282.493 867.818,-262.423\"/>\n",
       "<polygon fill=\"black\" stroke=\"black\" points=\"871.309,-262.146 867.386,-252.304 864.316,-262.444 871.309,-262.146\"/>\n",
       "</g>\n",
       "<!-- Sex&#45;&gt;Serum Cholesterol -->\n",
       "<g id=\"edge41\" class=\"edge\"><title>Sex&#45;&gt;Serum Cholesterol</title>\n",
       "<path fill=\"none\" stroke=\"black\" d=\"M1310.6,-374.57C1347.18,-371.237 1415.07,-365.082 1473,-360 1519.77,-355.897 1861.29,-357.678 1894,-324 1909.54,-308.003 1909.17,-281.815 1905.87,-261.978\"/>\n",
       "<polygon fill=\"black\" stroke=\"black\" points=\"1909.27,-261.121 1903.89,-251.994 1902.41,-262.484 1909.27,-261.121\"/>\n",
       "</g>\n",
       "<!-- Sex&#45;&gt;predicted hazard -->\n",
       "<g id=\"edge42\" class=\"edge\"><title>Sex&#45;&gt;predicted hazard</title>\n",
       "<path fill=\"none\" stroke=\"black\" d=\"M1310.57,-374.176C1347.12,-370.39 1414.97,-363.718 1473,-360 1525.15,-356.658 2373.01,-357.642 2413,-324 2443.95,-297.963 2432,-275.447 2432,-235 2432,-235 2432,-235 2432,-161 2432,-44.3132 2299.02,-96.8147 2185,-72 1987.16,-28.9418 1747.88,-20.3143 1625.91,-18.9277\"/>\n",
       "<polygon fill=\"black\" stroke=\"black\" points=\"1625.94,-15.428 1615.91,-18.8274 1625.87,-22.4276 1625.94,-15.428\"/>\n",
       "</g>\n",
       "<!-- Race -->\n",
       "<g id=\"node22\" class=\"node\"><title>Race</title>\n",
       "<ellipse fill=\"none\" stroke=\"black\" cx=\"1511\" cy=\"-378\" rx=\"28.6953\" ry=\"18\"/>\n",
       "<text text-anchor=\"middle\" x=\"1511\" y=\"-374.3\" font-family=\"Times,serif\" font-size=\"14.00\">Race</text>\n",
       "</g>\n",
       "<!-- Race&#45;&gt;Poverty index -->\n",
       "<g id=\"edge43\" class=\"edge\"><title>Race&#45;&gt;Poverty index</title>\n",
       "<path fill=\"none\" stroke=\"black\" d=\"M1482.78,-374.883C1411.82,-369.295 1220.39,-352.586 1063,-324 1057.9,-323.073 1052.61,-321.992 1047.33,-320.832\"/>\n",
       "<polygon fill=\"black\" stroke=\"black\" points=\"1047.79,-317.346 1037.26,-318.526 1046.22,-324.169 1047.79,-317.346\"/>\n",
       "</g>\n",
       "<!-- Race&#45;&gt;Blood protein -->\n",
       "<g id=\"edge44\" class=\"edge\"><title>Race&#45;&gt;Blood protein</title>\n",
       "<path fill=\"none\" stroke=\"black\" d=\"M1539.73,-377.219C1615.79,-377.126 1819.48,-372.285 1861,-324 1900.67,-277.875 1806.71,-253.915 1737.82,-242.923\"/>\n",
       "<polygon fill=\"black\" stroke=\"black\" points=\"1738.28,-239.451 1727.86,-241.394 1737.21,-246.37 1738.28,-239.451\"/>\n",
       "</g>\n",
       "<!-- Race&#45;&gt;Iron -->\n",
       "<g id=\"edge45\" class=\"edge\"><title>Race&#45;&gt;Iron</title>\n",
       "<path fill=\"none\" stroke=\"black\" d=\"M1539.91,-376.404C1690.81,-373.155 2382.33,-356.527 2413,-324 2473.9,-259.413 2292.81,-241.402 2211.42,-236.629\"/>\n",
       "<polygon fill=\"black\" stroke=\"black\" points=\"2211.27,-233.115 2201.09,-236.063 2210.88,-240.105 2211.27,-233.115\"/>\n",
       "</g>\n",
       "<!-- Race&#45;&gt;Blood pressure -->\n",
       "<g id=\"edge46\" class=\"edge\"><title>Race&#45;&gt;Blood pressure</title>\n",
       "<path fill=\"none\" stroke=\"black\" d=\"M1530.51,-364.819C1543.54,-355.451 1559.59,-341.214 1567,-324 1573.33,-309.304 1576.32,-301.007 1567,-288 1547.61,-260.933 1513.6,-247.523 1482.27,-240.947\"/>\n",
       "<polygon fill=\"black\" stroke=\"black\" points=\"1482.7,-237.464 1472.22,-239.043 1481.39,-244.342 1482.7,-237.464\"/>\n",
       "</g>\n",
       "<!-- Race&#45;&gt;Inflamation -->\n",
       "<g id=\"edge47\" class=\"edge\"><title>Race&#45;&gt;Inflamation</title>\n",
       "<path fill=\"none\" stroke=\"black\" d=\"M1487.27,-367.792C1426.66,-344.276 1265.48,-281.743 1187.9,-251.645\"/>\n",
       "<polygon fill=\"black\" stroke=\"black\" points=\"1189.01,-248.321 1178.42,-247.966 1186.48,-254.847 1189.01,-248.321\"/>\n",
       "</g>\n",
       "<!-- Race&#45;&gt;Red blood cells -->\n",
       "<g id=\"edge48\" class=\"edge\"><title>Race&#45;&gt;Red blood cells</title>\n",
       "<path fill=\"none\" stroke=\"black\" d=\"M1482.88,-374.043C1445.66,-370.234 1377.98,-363.668 1320,-360 1213.8,-353.281 455.376,-376.815 363,-324 350.414,-316.804 331.647,-284.58 319.126,-260.968\"/>\n",
       "<polygon fill=\"black\" stroke=\"black\" points=\"322.228,-259.346 314.499,-252.099 316.021,-262.584 322.228,-259.346\"/>\n",
       "</g>\n",
       "<!-- Race&#45;&gt;Serum Magnesium -->\n",
       "<g id=\"edge49\" class=\"edge\"><title>Race&#45;&gt;Serum Magnesium</title>\n",
       "<path fill=\"none\" stroke=\"black\" d=\"M1482.87,-374.219C1445.63,-370.602 1377.94,-364.246 1320,-360 1250.63,-354.916 755.039,-359.126 695,-324 682.542,-316.712 663.869,-284.769 651.325,-261.227\"/>\n",
       "<polygon fill=\"black\" stroke=\"black\" points=\"654.263,-259.294 646.521,-252.061 648.063,-262.543 654.263,-259.294\"/>\n",
       "</g>\n",
       "<!-- Race&#45;&gt;BMI -->\n",
       "<g id=\"edge50\" class=\"edge\"><title>Race&#45;&gt;BMI</title>\n",
       "<path fill=\"none\" stroke=\"black\" d=\"M1482.82,-374.492C1366.08,-364.101 926.514,-324.92 925,-324 912.525,-316.425 893.543,-283.897 880.959,-260.353\"/>\n",
       "<polygon fill=\"black\" stroke=\"black\" points=\"883.909,-258.442 876.156,-251.222 877.714,-261.701 883.909,-258.442\"/>\n",
       "</g>\n",
       "<!-- Race&#45;&gt;Serum Cholesterol -->\n",
       "<g id=\"edge51\" class=\"edge\"><title>Race&#45;&gt;Serum Cholesterol</title>\n",
       "<path fill=\"none\" stroke=\"black\" d=\"M1539.67,-376.994C1663.01,-376.675 2144.31,-372.323 2189,-324 2251.61,-256.299 2092.9,-239.574 1986.34,-235.764\"/>\n",
       "<polygon fill=\"black\" stroke=\"black\" points=\"1986.3,-232.261 1976.19,-235.434 1986.08,-239.257 1986.3,-232.261\"/>\n",
       "</g>\n",
       "<!-- Race&#45;&gt;predicted hazard -->\n",
       "<g id=\"edge52\" class=\"edge\"><title>Race&#45;&gt;predicted hazard</title>\n",
       "<path fill=\"none\" stroke=\"black\" d=\"M1539.71,-376.693C1686.7,-374.943 2351.45,-364.809 2433,-324 2479.26,-300.851 2508,-286.728 2508,-235 2508,-235 2508,-235 2508,-161 2508,-112.793 2488.06,-95.5581 2446,-72 2375.46,-32.4865 1832.42,-22.2305 1625.62,-19.7444\"/>\n",
       "<polygon fill=\"black\" stroke=\"black\" points=\"1625.47,-16.2426 1615.43,-19.625 1625.39,-23.2421 1625.47,-16.2426\"/>\n",
       "</g>\n",
       "<!-- Poverty index noise -->\n",
       "<g id=\"node23\" class=\"node\"><title>Poverty index noise</title>\n",
       "<ellipse fill=\"none\" stroke=\"black\" cx=\"994\" cy=\"-378\" rx=\"81.4863\" ry=\"18\"/>\n",
       "<text text-anchor=\"middle\" x=\"994\" y=\"-374.3\" font-family=\"Times,serif\" font-size=\"14.00\">Poverty index noise</text>\n",
       "</g>\n",
       "<!-- Poverty index noise&#45;&gt;Poverty index -->\n",
       "<g id=\"edge53\" class=\"edge\"><title>Poverty index noise&#45;&gt;Poverty index</title>\n",
       "<path fill=\"none\" stroke=\"black\" d=\"M994,-359.697C994,-351.983 994,-342.712 994,-334.112\"/>\n",
       "<polygon fill=\"black\" stroke=\"black\" points=\"997.5,-334.104 994,-324.104 990.5,-334.104 997.5,-334.104\"/>\n",
       "</g>\n",
       "<!-- Blood protein noise -->\n",
       "<g id=\"node24\" class=\"node\"><title>Blood protein noise</title>\n",
       "<ellipse fill=\"none\" stroke=\"black\" cx=\"1771\" cy=\"-306\" rx=\"80.6858\" ry=\"18\"/>\n",
       "<text text-anchor=\"middle\" x=\"1771\" y=\"-302.3\" font-family=\"Times,serif\" font-size=\"14.00\">Blood protein noise</text>\n",
       "</g>\n",
       "<!-- Blood protein noise&#45;&gt;Blood protein -->\n",
       "<g id=\"edge56\" class=\"edge\"><title>Blood protein noise&#45;&gt;Blood protein</title>\n",
       "<path fill=\"none\" stroke=\"black\" d=\"M1747.78,-288.411C1734.56,-278.969 1717.84,-267.029 1703.57,-256.834\"/>\n",
       "<polygon fill=\"black\" stroke=\"black\" points=\"1705.22,-253.713 1695.05,-250.749 1701.15,-259.409 1705.22,-253.713\"/>\n",
       "</g>\n",
       "<!-- Iron noise -->\n",
       "<g id=\"node25\" class=\"node\"><title>Iron noise</title>\n",
       "<ellipse fill=\"none\" stroke=\"black\" cx=\"2358\" cy=\"-306\" rx=\"46.2923\" ry=\"18\"/>\n",
       "<text text-anchor=\"middle\" x=\"2358\" y=\"-302.3\" font-family=\"Times,serif\" font-size=\"14.00\">Iron noise</text>\n",
       "</g>\n",
       "<!-- Iron noise&#45;&gt;Iron -->\n",
       "<g id=\"edge60\" class=\"edge\"><title>Iron noise&#45;&gt;Iron</title>\n",
       "<path fill=\"none\" stroke=\"black\" d=\"M2325.95,-292.807C2292.4,-280.044 2240.01,-260.113 2206.35,-247.308\"/>\n",
       "<polygon fill=\"black\" stroke=\"black\" points=\"2207.56,-244.022 2196.97,-243.737 2205.07,-250.564 2207.56,-244.022\"/>\n",
       "</g>\n",
       "<!-- Pulse pressure&#45;&gt;predicted hazard -->\n",
       "<g id=\"edge66\" class=\"edge\"><title>Pulse pressure&#45;&gt;predicted hazard</title>\n",
       "<path fill=\"none\" stroke=\"black\" d=\"M1511.89,-72.055C1517.25,-63.7147 1523.83,-53.4908 1529.77,-44.2517\"/>\n",
       "<polygon fill=\"black\" stroke=\"black\" points=\"1532.74,-46.0935 1535.21,-35.789 1526.86,-42.3081 1532.74,-46.0935\"/>\n",
       "</g>\n",
       "<!-- Blood pressure noise -->\n",
       "<g id=\"node27\" class=\"node\"><title>Blood pressure noise</title>\n",
       "<ellipse fill=\"none\" stroke=\"black\" cx=\"1473\" cy=\"-306\" rx=\"85.2851\" ry=\"18\"/>\n",
       "<text text-anchor=\"middle\" x=\"1473\" y=\"-302.3\" font-family=\"Times,serif\" font-size=\"14.00\">Blood pressure noise</text>\n",
       "</g>\n",
       "<!-- Blood pressure noise&#45;&gt;Blood pressure -->\n",
       "<g id=\"edge65\" class=\"edge\"><title>Blood pressure noise&#45;&gt;Blood pressure</title>\n",
       "<path fill=\"none\" stroke=\"black\" d=\"M1457.99,-288.055C1450.38,-279.457 1440.99,-268.857 1432.61,-259.397\"/>\n",
       "<polygon fill=\"black\" stroke=\"black\" points=\"1435.12,-256.954 1425.87,-251.789 1429.88,-261.596 1435.12,-256.954\"/>\n",
       "</g>\n",
       "<!-- Inflamation noise -->\n",
       "<g id=\"node28\" class=\"node\"><title>Inflamation noise</title>\n",
       "<ellipse fill=\"none\" stroke=\"black\" cx=\"1145\" cy=\"-306\" rx=\"73.387\" ry=\"18\"/>\n",
       "<text text-anchor=\"middle\" x=\"1145\" y=\"-302.3\" font-family=\"Times,serif\" font-size=\"14.00\">Inflamation noise</text>\n",
       "</g>\n",
       "<!-- Inflamation noise&#45;&gt;Inflamation -->\n",
       "<g id=\"edge69\" class=\"edge\"><title>Inflamation noise&#45;&gt;Inflamation</title>\n",
       "<path fill=\"none\" stroke=\"black\" d=\"M1145,-287.697C1145,-279.983 1145,-270.712 1145,-262.112\"/>\n",
       "<polygon fill=\"black\" stroke=\"black\" points=\"1148.5,-262.104 1145,-252.104 1141.5,-262.104 1148.5,-262.104\"/>\n",
       "</g>\n",
       "<!-- Red blood cells noise -->\n",
       "<g id=\"node29\" class=\"node\"><title>Red blood cells noise</title>\n",
       "<ellipse fill=\"none\" stroke=\"black\" cx=\"153\" cy=\"-306\" rx=\"87.1846\" ry=\"18\"/>\n",
       "<text text-anchor=\"middle\" x=\"153\" y=\"-302.3\" font-family=\"Times,serif\" font-size=\"14.00\">Red blood cells noise</text>\n",
       "</g>\n",
       "<!-- Red blood cells noise&#45;&gt;Red blood cells -->\n",
       "<g id=\"edge70\" class=\"edge\"><title>Red blood cells noise&#45;&gt;Red blood cells</title>\n",
       "<path fill=\"none\" stroke=\"black\" d=\"M187.336,-289.291C210.203,-278.828 240.38,-265.022 264.58,-253.951\"/>\n",
       "<polygon fill=\"black\" stroke=\"black\" points=\"266.232,-257.043 273.869,-249.7 263.32,-250.678 266.232,-257.043\"/>\n",
       "</g>\n",
       "<!-- Serum Magnesium noise -->\n",
       "<g id=\"node30\" class=\"node\"><title>Serum Magnesium noise</title>\n",
       "<ellipse fill=\"none\" stroke=\"black\" cx=\"472\" cy=\"-306\" rx=\"100.182\" ry=\"18\"/>\n",
       "<text text-anchor=\"middle\" x=\"472\" y=\"-302.3\" font-family=\"Times,serif\" font-size=\"14.00\">Serum Magnesium noise</text>\n",
       "</g>\n",
       "<!-- Serum Magnesium noise&#45;&gt;Serum Magnesium -->\n",
       "<g id=\"edge71\" class=\"edge\"><title>Serum Magnesium noise&#45;&gt;Serum Magnesium</title>\n",
       "<path fill=\"none\" stroke=\"black\" d=\"M509.254,-289.291C533.943,-278.88 566.486,-265.157 592.676,-254.113\"/>\n",
       "<polygon fill=\"black\" stroke=\"black\" points=\"594.157,-257.287 602.011,-250.176 591.437,-250.837 594.157,-257.287\"/>\n",
       "</g>\n",
       "<!-- BMI noise -->\n",
       "<g id=\"node31\" class=\"node\"><title>BMI noise</title>\n",
       "<ellipse fill=\"none\" stroke=\"black\" cx=\"753\" cy=\"-306\" rx=\"48.9926\" ry=\"18\"/>\n",
       "<text text-anchor=\"middle\" x=\"753\" y=\"-302.3\" font-family=\"Times,serif\" font-size=\"14.00\">BMI noise</text>\n",
       "</g>\n",
       "<!-- BMI noise&#45;&gt;BMI -->\n",
       "<g id=\"edge72\" class=\"edge\"><title>BMI noise&#45;&gt;BMI</title>\n",
       "<path fill=\"none\" stroke=\"black\" d=\"M777.108,-290.326C795.302,-279.251 820.323,-264.021 839.507,-252.343\"/>\n",
       "<polygon fill=\"black\" stroke=\"black\" points=\"841.41,-255.282 848.133,-247.093 837.771,-249.303 841.41,-255.282\"/>\n",
       "</g>\n",
       "<!-- Serum Cholesterol noise -->\n",
       "<g id=\"node32\" class=\"node\"><title>Serum Cholesterol noise</title>\n",
       "<ellipse fill=\"none\" stroke=\"black\" cx=\"2082\" cy=\"-306\" rx=\"98.2828\" ry=\"18\"/>\n",
       "<text text-anchor=\"middle\" x=\"2082\" y=\"-302.3\" font-family=\"Times,serif\" font-size=\"14.00\">Serum Cholesterol noise</text>\n",
       "</g>\n",
       "<!-- Serum Cholesterol noise&#45;&gt;Serum Cholesterol -->\n",
       "<g id=\"edge73\" class=\"edge\"><title>Serum Cholesterol noise&#45;&gt;Serum Cholesterol</title>\n",
       "<path fill=\"none\" stroke=\"black\" d=\"M2041.39,-289.465C2013.48,-278.789 1976.31,-264.572 1946.94,-253.34\"/>\n",
       "<polygon fill=\"black\" stroke=\"black\" points=\"1947.9,-249.958 1937.31,-249.654 1945.4,-256.496 1947.9,-249.958\"/>\n",
       "</g>\n",
       "</g>\n",
       "</svg>\n"
      ],
      "text/plain": [
       "<graphviz.files.Source at 0x7f1805e08f10>"
      ]
     },
     "metadata": {},
     "output_type": "display_data"
    }
   ],
   "source": [
    "cf_c.graph.draw()"
   ]
  },
  {
   "cell_type": "code",
   "execution_count": 35,
   "metadata": {},
   "outputs": [
    {
     "name": "stdout",
     "output_type": "stream",
     "text": [
      "error Pulse pressure noise Pulse pressure -0.0054528713\n"
     ]
    },
    {
     "data": {
      "image/svg+xml": [
       "<?xml version=\"1.0\" encoding=\"UTF-8\" standalone=\"no\"?>\n",
       "<!DOCTYPE svg PUBLIC \"-//W3C//DTD SVG 1.1//EN\"\n",
       " \"http://www.w3.org/Graphics/SVG/1.1/DTD/svg11.dtd\">\n",
       "<!-- Generated by graphviz version 2.38.0 (20140413.2041)\n",
       " -->\n",
       "<!-- Title: %3 Pages: 1 -->\n",
       "<svg width=\"740pt\" height=\"347pt\"\n",
       " viewBox=\"0.00 0.00 740.00 347.00\" xmlns=\"http://www.w3.org/2000/svg\" xmlns:xlink=\"http://www.w3.org/1999/xlink\">\n",
       "<g id=\"graph0\" class=\"graph\" transform=\"scale(1 1) rotate(0) translate(4 343)\">\n",
       "<title>%3</title>\n",
       "<polygon fill=\"white\" stroke=\"none\" points=\"-4,4 -4,-343 735.995,-343 735.995,4 -4,4\"/>\n",
       "<!-- White blood cells -->\n",
       "<g id=\"node1\" class=\"node\"><title>White blood cells</title>\n",
       "<ellipse fill=\"none\" stroke=\"black\" cx=\"400.995\" cy=\"-105\" rx=\"73.387\" ry=\"18\"/>\n",
       "<text text-anchor=\"middle\" x=\"400.995\" y=\"-101.3\" font-family=\"Times,serif\" font-size=\"14.00\">White blood cells</text>\n",
       "</g>\n",
       "<!-- predicted hazard -->\n",
       "<g id=\"node2\" class=\"node\"><title>predicted hazard</title>\n",
       "<ellipse fill=\"none\" stroke=\"black\" cx=\"338.995\" cy=\"-18\" rx=\"69.5877\" ry=\"18\"/>\n",
       "<text text-anchor=\"middle\" x=\"338.995\" y=\"-14.3\" font-family=\"Times,serif\" font-size=\"14.00\">predicted hazard</text>\n",
       "</g>\n",
       "<!-- White blood cells&#45;&gt;predicted hazard -->\n",
       "<g id=\"edge1\" class=\"edge\"><title>White blood cells&#45;&gt;predicted hazard</title>\n",
       "<path fill=\"none\" stroke=\"#008bfb\" stroke-width=\"0.204871\" d=\"M445.926,-90.5626C466.903,-81.9167 484.903,-69.4167 472.995,-54 464.548,-43.0631 436.671,-34.8914 408.515,-29.2067\"/>\n",
       "<polygon fill=\"#008bfb\" stroke=\"#008bfb\" stroke-width=\"0.204871\" points=\"409.056,-25.7467 398.576,-27.2992 407.737,-32.6213 409.056,-25.7467\"/>\n",
       "<text text-anchor=\"middle\" x=\"531.995\" y=\"-57.8\" font-family=\"Times,serif\" font-size=\"14.00\" fill=\"#008bfb\">(&#45;0.04, &#45;0.03, &#45;0.02)</text>\n",
       "</g>\n",
       "<!-- Inflamation -->\n",
       "<g id=\"node3\" class=\"node\"><title>Inflamation</title>\n",
       "<ellipse fill=\"none\" stroke=\"black\" cx=\"283.995\" cy=\"-267\" rx=\"51.9908\" ry=\"18\"/>\n",
       "<text text-anchor=\"middle\" x=\"283.995\" y=\"-263.3\" font-family=\"Times,serif\" font-size=\"14.00\">Inflamation</text>\n",
       "</g>\n",
       "<!-- Inflamation&#45;&gt;White blood cells -->\n",
       "<g id=\"edge2\" class=\"edge\"><title>Inflamation&#45;&gt;White blood cells</title>\n",
       "<path fill=\"none\" stroke=\"#008bfb\" stroke-width=\"0.204871\" d=\"M289.949,-248.872C294.096,-233.986 297.645,-212.176 289.995,-195 285.13,-184.076 274.861,-187.924 269.995,-177 263.486,-162.384 260.251,-153.69 269.995,-141 274.475,-135.166 305.801,-126.687 336.694,-119.536\"/>\n",
       "<polygon fill=\"#008bfb\" stroke=\"#008bfb\" stroke-width=\"0.204871\" points=\"337.7,-122.897 346.674,-117.266 336.147,-116.071 337.7,-122.897\"/>\n",
       "<text text-anchor=\"middle\" x=\"349.995\" y=\"-209.3\" font-family=\"Times,serif\" font-size=\"14.00\" fill=\"#008bfb\">(&#45;0.04, &#45;0.03, &#45;0.02)</text>\n",
       "</g>\n",
       "<!-- Sedimentation rate -->\n",
       "<g id=\"node4\" class=\"node\"><title>Sedimentation rate</title>\n",
       "<ellipse fill=\"none\" stroke=\"black\" cx=\"220.995\" cy=\"-105\" rx=\"77.1866\" ry=\"18\"/>\n",
       "<text text-anchor=\"middle\" x=\"220.995\" y=\"-101.3\" font-family=\"Times,serif\" font-size=\"14.00\">Sedimentation rate</text>\n",
       "</g>\n",
       "<!-- Inflamation&#45;&gt;Sedimentation rate -->\n",
       "<g id=\"edge3\" class=\"edge\"><title>Inflamation&#45;&gt;Sedimentation rate</title>\n",
       "<path fill=\"none\" stroke=\"#ff0051\" stroke-width=\"0.267258\" d=\"M247.448,-254.134C223.636,-246.037 196.373,-235.918 192.995,-231 172.498,-201.155 189.396,-158.715 204.415,-131.77\"/>\n",
       "<polygon fill=\"#ff0051\" stroke=\"#ff0051\" stroke-width=\"0.267258\" points=\"207.557,-133.331 209.585,-122.932 201.515,-129.797 207.557,-133.331\"/>\n",
       "<text text-anchor=\"middle\" x=\"241.495\" y=\"-209.3\" font-family=\"Times,serif\" font-size=\"14.00\" fill=\"#ff0051\">(0.03, 0.04, 0.05)</text>\n",
       "</g>\n",
       "<!-- Sedimentation rate&#45;&gt;predicted hazard -->\n",
       "<g id=\"edge4\" class=\"edge\"><title>Sedimentation rate&#45;&gt;predicted hazard</title>\n",
       "<path fill=\"none\" stroke=\"#ff0051\" stroke-width=\"0.267258\" d=\"M289.228,-96.3802C306.21,-91.2132 322.755,-82.757 333.995,-69 339.138,-62.7056 341.2,-54.3699 341.742,-46.3125\"/>\n",
       "<polygon fill=\"#ff0051\" stroke=\"#ff0051\" stroke-width=\"0.267258\" points=\"345.241,-46.0648 341.71,-36.0757 338.241,-46.0864 345.241,-46.0648\"/>\n",
       "<text text-anchor=\"middle\" x=\"389.495\" y=\"-57.8\" font-family=\"Times,serif\" font-size=\"14.00\" fill=\"#ff0051\">(0.03, 0.04, 0.05)</text>\n",
       "</g>\n",
       "<!-- Systolic BP -->\n",
       "<g id=\"node5\" class=\"node\"><title>Systolic BP</title>\n",
       "<ellipse fill=\"none\" stroke=\"black\" cx=\"51.9954\" cy=\"-105\" rx=\"51.9908\" ry=\"18\"/>\n",
       "<text text-anchor=\"middle\" x=\"51.9954\" y=\"-101.3\" font-family=\"Times,serif\" font-size=\"14.00\">Systolic BP</text>\n",
       "</g>\n",
       "<!-- Systolic BP&#45;&gt;predicted hazard -->\n",
       "<g id=\"edge5\" class=\"edge\"><title>Systolic BP&#45;&gt;predicted hazard</title>\n",
       "<path fill=\"none\" stroke=\"#ff0051\" stroke-width=\"0.615614\" d=\"M95.1365,-94.926C140.354,-85.351 205.611,-71.3246 210.995,-69 221.86,-64.3094 222.384,-59.2397 232.995,-54 248.465,-46.3613 265.994,-39.8027 282.279,-34.4969\"/>\n",
       "<polygon fill=\"#ff0051\" stroke=\"#ff0051\" stroke-width=\"0.615614\" points=\"283.746,-37.7042 292.229,-31.3567 281.639,-31.0288 283.746,-37.7042\"/>\n",
       "<text text-anchor=\"middle\" x=\"281.495\" y=\"-57.8\" font-family=\"Times,serif\" font-size=\"14.00\" fill=\"#ff0051\">(0.09, 0.11, 0.12)</text>\n",
       "</g>\n",
       "<!-- Pulse pressure -->\n",
       "<g id=\"node6\" class=\"node\"><title>Pulse pressure</title>\n",
       "<ellipse fill=\"none\" stroke=\"black\" cx=\"156.995\" cy=\"-18\" rx=\"61.99\" ry=\"18\"/>\n",
       "<text text-anchor=\"middle\" x=\"156.995\" y=\"-14.3\" font-family=\"Times,serif\" font-size=\"14.00\">Pulse pressure</text>\n",
       "</g>\n",
       "<!-- Systolic BP&#45;&gt;Pulse pressure -->\n",
       "<g id=\"edge6\" class=\"edge\"><title>Systolic BP&#45;&gt;Pulse pressure</title>\n",
       "<path fill=\"none\" stroke=\"#ff0051\" stroke-width=\"0.205996\" d=\"M71.7451,-88.0122C87.9212,-74.9172 111.004,-56.2312 129.072,-41.605\"/>\n",
       "<polygon fill=\"#ff0051\" stroke=\"#ff0051\" stroke-width=\"0.205996\" points=\"131.407,-44.2175 136.977,-35.2052 127.003,-38.7768 131.407,-44.2175\"/>\n",
       "<text text-anchor=\"middle\" x=\"159.495\" y=\"-57.8\" font-family=\"Times,serif\" font-size=\"14.00\" fill=\"#ff0051\">(0.02, 0.03, 0.04)</text>\n",
       "</g>\n",
       "<!-- Blood pressure -->\n",
       "<g id=\"node7\" class=\"node\"><title>Blood pressure</title>\n",
       "<ellipse fill=\"none\" stroke=\"black\" cx=\"72.9954\" cy=\"-213\" rx=\"63.8893\" ry=\"18\"/>\n",
       "<text text-anchor=\"middle\" x=\"72.9954\" y=\"-209.3\" font-family=\"Times,serif\" font-size=\"14.00\">Blood pressure</text>\n",
       "</g>\n",
       "<!-- Blood pressure&#45;&gt;Systolic BP -->\n",
       "<g id=\"edge7\" class=\"edge\"><title>Blood pressure&#45;&gt;Systolic BP</title>\n",
       "<path fill=\"none\" stroke=\"#ff0051\" stroke-width=\"0.771609\" d=\"M69.6214,-194.969C66.2996,-178.202 61.1761,-152.341 57.3075,-132.814\"/>\n",
       "<polygon fill=\"#ff0051\" stroke=\"#ff0051\" stroke-width=\"0.771609\" points=\"60.7377,-132.118 55.361,-122.988 53.8712,-133.478 60.7377,-132.118\"/>\n",
       "<text text-anchor=\"middle\" x=\"114.495\" y=\"-155.3\" font-family=\"Times,serif\" font-size=\"14.00\" fill=\"#ff0051\">(0.12, 0.14, 0.16)</text>\n",
       "</g>\n",
       "<!-- Age -->\n",
       "<g id=\"node8\" class=\"node\"><title>Age</title>\n",
       "<ellipse fill=\"none\" stroke=\"black\" cx=\"250.995\" cy=\"-321\" rx=\"27\" ry=\"18\"/>\n",
       "<text text-anchor=\"middle\" x=\"250.995\" y=\"-317.3\" font-family=\"Times,serif\" font-size=\"14.00\">Age</text>\n",
       "</g>\n",
       "<!-- Age&#45;&gt;predicted hazard -->\n",
       "<g id=\"edge8\" class=\"edge\"><title>Age&#45;&gt;predicted hazard</title>\n",
       "<path fill=\"none\" stroke=\"#ff0051\" stroke-width=\"5\" d=\"M277.269,-316.526C351.782,-305.082 564.395,-261.044 646.995,-123 665.196,-92.5825 639.507,-68.124 606.995,-54 573.633,-39.5063 482.382,-29.7307 415.598,-24.2744\"/>\n",
       "<polygon fill=\"#ff0051\" stroke=\"#ff0051\" stroke-width=\"5\" points=\"415.834,-19.9044 405.517,-23.4682 415.137,-28.6266 415.834,-19.9044\"/>\n",
       "<text text-anchor=\"middle\" x=\"683.495\" y=\"-155.3\" font-family=\"Times,serif\" font-size=\"14.00\" fill=\"#ff0051\">(0.78, 0.95, 1.12)</text>\n",
       "</g>\n",
       "<!-- Age&#45;&gt;Blood pressure -->\n",
       "<g id=\"edge9\" class=\"edge\"><title>Age&#45;&gt;Blood pressure</title>\n",
       "<path fill=\"none\" stroke=\"#ff0051\" stroke-width=\"0.230157\" d=\"M223.988,-317.531C197.124,-313.97 155.729,-305.398 125.995,-285 109.294,-273.542 95.7519,-255.088 86.5377,-239.866\"/>\n",
       "<polygon fill=\"#ff0051\" stroke=\"#ff0051\" stroke-width=\"0.230157\" points=\"89.3951,-237.814 81.3702,-230.897 83.3297,-241.309 89.3951,-237.814\"/>\n",
       "<text text-anchor=\"middle\" x=\"174.495\" y=\"-263.3\" font-family=\"Times,serif\" font-size=\"14.00\" fill=\"#ff0051\">(0.02, 0.03, 0.05)</text>\n",
       "</g>\n",
       "<!-- Sex -->\n",
       "<g id=\"node9\" class=\"node\"><title>Sex</title>\n",
       "<polygon fill=\"none\" stroke=\"black\" points=\"332.995,-177 278.995,-177 278.995,-141 332.995,-141 332.995,-177\"/>\n",
       "<text text-anchor=\"middle\" x=\"305.995\" y=\"-155.3\" font-family=\"Times,serif\" font-size=\"14.00\">Sex</text>\n",
       "</g>\n",
       "<!-- Sex&#45;&gt;predicted hazard -->\n",
       "<g id=\"edge10\" class=\"edge\"><title>Sex&#45;&gt;predicted hazard</title>\n",
       "<path fill=\"none\" stroke=\"#008bfb\" stroke-width=\"0.81009\" d=\"M333.21,-153.224C379.359,-145.034 469.315,-128.649 482.995,-123 509.656,-111.991 511.084,-99.6728 536.995,-87 559.721,-75.8852 576.203,-89.523 590.995,-69 594.893,-63.5917 595.373,-59.0279 590.995,-54 568.935,-28.6642 484.12,-21.0798 418.914,-19.0965\"/>\n",
       "<polygon fill=\"#008bfb\" stroke=\"#008bfb\" stroke-width=\"0.81009\" points=\"418.719,-15.5902 408.63,-18.8244 418.534,-22.5877 418.719,-15.5902\"/>\n",
       "<text text-anchor=\"middle\" x=\"591.995\" y=\"-101.3\" font-family=\"Times,serif\" font-size=\"14.00\" fill=\"#008bfb\">(&#45;0.19, &#45;0.15, &#45;0.10)</text>\n",
       "</g>\n",
       "</g>\n",
       "</svg>\n"
      ],
      "text/plain": [
       "<graphviz.files.Source at 0x7f177204e910>"
      ]
     },
     "metadata": {},
     "output_type": "display_data"
    },
    {
     "data": {
      "text/plain": [
       "<AGraph <Swig Object of type 'Agraph_t *' at 0x7f177242d240>>"
      ]
     },
     "execution_count": 35,
     "metadata": {},
     "output_type": "execute_result"
    }
   ],
   "source": [
    "cf_c.show_CI = True\n",
    "cf_c.draw(sample_ind, max_display=10, show_fg_val=False, edge_credit=edge_credits2edge_credit(causal_edge_credits, cf_c.graph))"
   ]
  },
  {
   "cell_type": "markdown",
   "metadata": {},
   "source": [
    "# Methods comparison: flow, independent, on-manifold, ASV"
   ]
  },
  {
   "cell_type": "code",
   "execution_count": 36,
   "metadata": {},
   "outputs": [
    {
     "name": "stdout",
     "output_type": "stream",
     "text": [
      "error Pulse pressure noise Pulse pressure -0.0054528713\n"
     ]
    },
    {
     "data": {
      "image/svg+xml": [
       "<?xml version=\"1.0\" encoding=\"UTF-8\" standalone=\"no\"?>\n",
       "<!DOCTYPE svg PUBLIC \"-//W3C//DTD SVG 1.1//EN\"\n",
       " \"http://www.w3.org/Graphics/SVG/1.1/DTD/svg11.dtd\">\n",
       "<!-- Generated by graphviz version 2.38.0 (20140413.2041)\n",
       " -->\n",
       "<!-- Title: %3 Pages: 1 -->\n",
       "<svg width=\"853pt\" height=\"239pt\"\n",
       " viewBox=\"0.00 0.00 853.00 239.00\" xmlns=\"http://www.w3.org/2000/svg\" xmlns:xlink=\"http://www.w3.org/1999/xlink\">\n",
       "<g id=\"graph0\" class=\"graph\" transform=\"scale(1 1) rotate(0) translate(4 235)\">\n",
       "<title>%3</title>\n",
       "<polygon fill=\"white\" stroke=\"none\" points=\"-4,4 -4,-235 848.995,-235 848.995,4 -4,4\"/>\n",
       "<!-- Poverty index -->\n",
       "<g id=\"node1\" class=\"node\"><title>Poverty index</title>\n",
       "<ellipse fill=\"none\" stroke=\"black\" cx=\"671.995\" cy=\"-159\" rx=\"59.5901\" ry=\"18\"/>\n",
       "<text text-anchor=\"middle\" x=\"671.995\" y=\"-155.3\" font-family=\"Times,serif\" font-size=\"14.00\">Poverty index</text>\n",
       "</g>\n",
       "<!-- predicted hazard -->\n",
       "<g id=\"node2\" class=\"node\"><title>predicted hazard</title>\n",
       "<ellipse fill=\"none\" stroke=\"black\" cx=\"370.995\" cy=\"-18\" rx=\"69.5877\" ry=\"18\"/>\n",
       "<text text-anchor=\"middle\" x=\"370.995\" y=\"-14.3\" font-family=\"Times,serif\" font-size=\"14.00\">predicted hazard</text>\n",
       "</g>\n",
       "<!-- Poverty index&#45;&gt;predicted hazard -->\n",
       "<g id=\"edge1\" class=\"edge\"><title>Poverty index&#45;&gt;predicted hazard</title>\n",
       "<path fill=\"none\" stroke=\"#008bfb\" stroke-width=\"1.6805\" d=\"M694.57,-142.111C700.96,-136.678 707.414,-130.147 711.995,-123 728.983,-96.4968 749.142,-77.3207 727.995,-54 709.669,-33.7895 549.163,-24.8483 449.707,-21.2181\"/>\n",
       "<polygon fill=\"#008bfb\" stroke=\"#008bfb\" stroke-width=\"1.6805\" points=\"449.803,-17.7194 439.685,-20.8626 449.554,-24.715 449.803,-17.7194\"/>\n",
       "<text text-anchor=\"middle\" x=\"789.995\" y=\"-101.3\" font-family=\"Times,serif\" font-size=\"14.00\" fill=\"#008bfb\">(&#45;0.05, &#45;0.03, &#45;0.02)</text>\n",
       "</g>\n",
       "<!-- White blood cells -->\n",
       "<g id=\"node3\" class=\"node\"><title>White blood cells</title>\n",
       "<ellipse fill=\"none\" stroke=\"black\" cx=\"338.995\" cy=\"-105\" rx=\"73.387\" ry=\"18\"/>\n",
       "<text text-anchor=\"middle\" x=\"338.995\" y=\"-101.3\" font-family=\"Times,serif\" font-size=\"14.00\">White blood cells</text>\n",
       "</g>\n",
       "<!-- White blood cells&#45;&gt;predicted hazard -->\n",
       "<g id=\"edge2\" class=\"edge\"><title>White blood cells&#45;&gt;predicted hazard</title>\n",
       "<path fill=\"none\" stroke=\"#008bfb\" stroke-width=\"1.00709\" d=\"M395.796,-93.4729C449.98,-83.3984 523.469,-69.6352 523.995,-69 549.307,-38.4505 499.49,-26.4072 450.088,-21.7397\"/>\n",
       "<polygon fill=\"#008bfb\" stroke=\"#008bfb\" stroke-width=\"1.00709\" points=\"450.168,-18.234 439.908,-20.8764 449.577,-25.209 450.168,-18.234\"/>\n",
       "<text text-anchor=\"middle\" x=\"585.995\" y=\"-57.8\" font-family=\"Times,serif\" font-size=\"14.00\" fill=\"#008bfb\">(&#45;0.03, &#45;0.02, &#45;0.01)</text>\n",
       "</g>\n",
       "<!-- Inflamation -->\n",
       "<g id=\"node4\" class=\"node\"><title>Inflamation</title>\n",
       "<ellipse fill=\"none\" stroke=\"black\" cx=\"261.995\" cy=\"-213\" rx=\"51.9908\" ry=\"18\"/>\n",
       "<text text-anchor=\"middle\" x=\"261.995\" y=\"-209.3\" font-family=\"Times,serif\" font-size=\"14.00\">Inflamation</text>\n",
       "</g>\n",
       "<!-- Inflamation&#45;&gt;White blood cells -->\n",
       "<g id=\"edge3\" class=\"edge\"><title>Inflamation&#45;&gt;White blood cells</title>\n",
       "<path fill=\"none\" stroke=\"#008bfb\" stroke-width=\"1.00709\" d=\"M278.49,-195.875C284.002,-190.138 290.007,-183.489 294.995,-177 305.911,-162.801 316.534,-145.778 324.608,-131.96\"/>\n",
       "<polygon fill=\"#008bfb\" stroke=\"#008bfb\" stroke-width=\"1.00709\" points=\"327.82,-133.396 329.762,-122.98 321.748,-129.911 327.82,-133.396\"/>\n",
       "<text text-anchor=\"middle\" x=\"374.995\" y=\"-155.3\" font-family=\"Times,serif\" font-size=\"14.00\" fill=\"#008bfb\">(&#45;0.03, &#45;0.02, &#45;0.01)</text>\n",
       "</g>\n",
       "<!-- Systolic BP -->\n",
       "<g id=\"node5\" class=\"node\"><title>Systolic BP</title>\n",
       "<ellipse fill=\"none\" stroke=\"black\" cx=\"51.9954\" cy=\"-105\" rx=\"51.9908\" ry=\"18\"/>\n",
       "<text text-anchor=\"middle\" x=\"51.9954\" y=\"-101.3\" font-family=\"Times,serif\" font-size=\"14.00\">Systolic BP</text>\n",
       "</g>\n",
       "<!-- Systolic BP&#45;&gt;predicted hazard -->\n",
       "<g id=\"edge4\" class=\"edge\"><title>Systolic BP&#45;&gt;predicted hazard</title>\n",
       "<path fill=\"none\" stroke=\"#008bfb\" stroke-width=\"2.59411\" d=\"M91.1058,-92.9369C99.2925,-90.8111 107.898,-88.7158 115.995,-87 165.746,-76.4585 181.734,-87.7779 228.995,-69 239.993,-64.6303 240.294,-59.0525 250.995,-54 269.378,-45.3211 290.374,-38.3075 309.61,-32.9025\"/>\n",
       "<polygon fill=\"#008bfb\" stroke=\"#008bfb\" stroke-width=\"2.59411\" points=\"310.752,-36.2193 319.486,-30.2223 308.918,-29.4637 310.752,-36.2193\"/>\n",
       "<text text-anchor=\"middle\" x=\"305.995\" y=\"-57.8\" font-family=\"Times,serif\" font-size=\"14.00\" fill=\"#008bfb\">(&#45;0.07, &#45;0.05, &#45;0.04)</text>\n",
       "</g>\n",
       "<!-- Pulse pressure -->\n",
       "<g id=\"node6\" class=\"node\"><title>Pulse pressure</title>\n",
       "<ellipse fill=\"none\" stroke=\"black\" cx=\"182.995\" cy=\"-18\" rx=\"61.99\" ry=\"18\"/>\n",
       "<text text-anchor=\"middle\" x=\"182.995\" y=\"-14.3\" font-family=\"Times,serif\" font-size=\"14.00\">Pulse pressure</text>\n",
       "</g>\n",
       "<!-- Systolic BP&#45;&gt;Pulse pressure -->\n",
       "<g id=\"edge5\" class=\"edge\"><title>Systolic BP&#45;&gt;Pulse pressure</title>\n",
       "<path fill=\"none\" stroke=\"#008bfb\" stroke-width=\"0.893257\" d=\"M71.6997,-88.1437C84.7771,-77.9119 102.508,-64.5862 118.995,-54 127.056,-48.8245 135.941,-43.6518 144.459,-38.9321\"/>\n",
       "<polygon fill=\"#008bfb\" stroke=\"#008bfb\" stroke-width=\"0.893257\" points=\"146.392,-41.8649 153.502,-34.0098 143.045,-35.7168 146.392,-41.8649\"/>\n",
       "<text text-anchor=\"middle\" x=\"173.995\" y=\"-57.8\" font-family=\"Times,serif\" font-size=\"14.00\" fill=\"#008bfb\">(&#45;0.02, &#45;0.02, &#45;0.01)</text>\n",
       "</g>\n",
       "<!-- Blood pressure -->\n",
       "<g id=\"node7\" class=\"node\"><title>Blood pressure</title>\n",
       "<ellipse fill=\"none\" stroke=\"black\" cx=\"73.9954\" cy=\"-213\" rx=\"63.8893\" ry=\"18\"/>\n",
       "<text text-anchor=\"middle\" x=\"73.9954\" y=\"-209.3\" font-family=\"Times,serif\" font-size=\"14.00\">Blood pressure</text>\n",
       "</g>\n",
       "<!-- Blood pressure&#45;&gt;Systolic BP -->\n",
       "<g id=\"edge6\" class=\"edge\"><title>Blood pressure&#45;&gt;Systolic BP</title>\n",
       "<path fill=\"none\" stroke=\"#008bfb\" stroke-width=\"3.43737\" d=\"M61.3795,-195.032C57.9938,-189.554 54.7798,-183.27 52.9954,-177 48.975,-162.873 48.4804,-146.516 49.1005,-133.065\"/>\n",
       "<polygon fill=\"#008bfb\" stroke=\"#008bfb\" stroke-width=\"3.43737\" points=\"52.5983,-133.215 49.7907,-122.999 45.6147,-132.736 52.5983,-133.215\"/>\n",
       "<text text-anchor=\"middle\" x=\"107.995\" y=\"-155.3\" font-family=\"Times,serif\" font-size=\"14.00\" fill=\"#008bfb\">(&#45;0.09, &#45;0.07, &#45;0.05)</text>\n",
       "</g>\n",
       "<!-- Diastolic BP -->\n",
       "<g id=\"node8\" class=\"node\"><title>Diastolic BP</title>\n",
       "<ellipse fill=\"none\" stroke=\"black\" cx=\"180.995\" cy=\"-105\" rx=\"55.7903\" ry=\"18\"/>\n",
       "<text text-anchor=\"middle\" x=\"180.995\" y=\"-101.3\" font-family=\"Times,serif\" font-size=\"14.00\">Diastolic BP</text>\n",
       "</g>\n",
       "<!-- Blood pressure&#45;&gt;Diastolic BP -->\n",
       "<g id=\"edge7\" class=\"edge\"><title>Blood pressure&#45;&gt;Diastolic BP</title>\n",
       "<path fill=\"none\" stroke=\"#008bfb\" stroke-width=\"0.692531\" d=\"M123.878,-201.593C138.252,-196.373 152.788,-188.586 162.995,-177 173.548,-165.022 178.079,-147.719 179.957,-133.194\"/>\n",
       "<polygon fill=\"#008bfb\" stroke=\"#008bfb\" stroke-width=\"0.692531\" points=\"183.443,-133.51 180.904,-123.224 176.474,-132.848 183.443,-133.51\"/>\n",
       "<text text-anchor=\"middle\" x=\"231.995\" y=\"-155.3\" font-family=\"Times,serif\" font-size=\"14.00\" fill=\"#008bfb\">(&#45;0.03, &#45;0.01, 0.00)</text>\n",
       "</g>\n",
       "<!-- Diastolic BP&#45;&gt;predicted hazard -->\n",
       "<g id=\"edge8\" class=\"edge\"><title>Diastolic BP&#45;&gt;predicted hazard</title>\n",
       "<path fill=\"none\" stroke=\"#008bfb\" stroke-width=\"1.00159\" d=\"M225.116,-93.7007C235.546,-91.3854 246.644,-89.0187 256.995,-87 280.877,-82.3426 348.188,-86.5934 364.995,-69 370.77,-62.9548 373.068,-54.4493 373.681,-46.1651\"/>\n",
       "<polygon fill=\"#008bfb\" stroke=\"#008bfb\" stroke-width=\"1.00159\" points=\"377.181,-45.9952 373.69,-35.9919 370.181,-45.9886 377.181,-45.9952\"/>\n",
       "<text text-anchor=\"middle\" x=\"427.995\" y=\"-57.8\" font-family=\"Times,serif\" font-size=\"14.00\" fill=\"#008bfb\">(&#45;0.03, &#45;0.02, &#45;0.01)</text>\n",
       "</g>\n",
       "<!-- Age -->\n",
       "<g id=\"node9\" class=\"node\"><title>Age</title>\n",
       "<ellipse fill=\"none\" stroke=\"black\" cx=\"493.995\" cy=\"-159\" rx=\"27\" ry=\"18\"/>\n",
       "<text text-anchor=\"middle\" x=\"493.995\" y=\"-155.3\" font-family=\"Times,serif\" font-size=\"14.00\">Age</text>\n",
       "</g>\n",
       "<!-- Age&#45;&gt;predicted hazard -->\n",
       "<g id=\"edge9\" class=\"edge\"><title>Age&#45;&gt;predicted hazard</title>\n",
       "<path fill=\"none\" stroke=\"#008bfb\" stroke-width=\"2.56005\" d=\"M481.169,-142.932C469.402,-127.224 455.786,-102.745 469.995,-87 496.187,-57.9765 618.804,-98.0235 644.995,-69 649.462,-64.0507 649.401,-59.0038 644.995,-54 632.087,-39.3382 524.617,-29.1618 448.184,-23.7005\"/>\n",
       "<polygon fill=\"#008bfb\" stroke=\"#008bfb\" stroke-width=\"2.56005\" points=\"448.308,-20.2007 438.088,-22.9934 447.819,-27.1836 448.308,-20.2007\"/>\n",
       "<text text-anchor=\"middle\" x=\"522.995\" y=\"-101.3\" font-family=\"Times,serif\" font-size=\"14.00\" fill=\"#008bfb\">(&#45;0.22, &#45;0.05, 0.12)</text>\n",
       "</g>\n",
       "<!-- Sex -->\n",
       "<g id=\"node10\" class=\"node\"><title>Sex</title>\n",
       "<polygon fill=\"none\" stroke=\"black\" points=\"492.995,-231 438.995,-231 438.995,-195 492.995,-195 492.995,-231\"/>\n",
       "<text text-anchor=\"middle\" x=\"465.995\" y=\"-209.3\" font-family=\"Times,serif\" font-size=\"14.00\">Sex</text>\n",
       "</g>\n",
       "<!-- Sex&#45;&gt;predicted hazard -->\n",
       "<g id=\"edge10\" class=\"edge\"><title>Sex&#45;&gt;predicted hazard</title>\n",
       "<path fill=\"none\" stroke=\"#008bfb\" stroke-width=\"5\" d=\"M493.202,-199.891C505.123,-193.907 518.894,-186.03 529.995,-177 554.454,-157.106 557.496,-148.53 575.995,-123 586.998,-107.816 583.071,-98.352 597.995,-87 621.173,-69.3704 643.459,-92.2483 660.995,-69 665.01,-63.6777 665.418,-58.9885 660.995,-54 647.062,-38.2839 529.718,-28.2514 448.637,-23.1279\"/>\n",
       "<polygon fill=\"#008bfb\" stroke=\"#008bfb\" stroke-width=\"5\" points=\"448.695,-18.7482 438.444,-22.4974 448.155,-27.4815 448.695,-18.7482\"/>\n",
       "<text text-anchor=\"middle\" x=\"652.995\" y=\"-101.3\" font-family=\"Times,serif\" font-size=\"14.00\" fill=\"#008bfb\">(&#45;0.13, &#45;0.10, &#45;0.07)</text>\n",
       "</g>\n",
       "</g>\n",
       "</svg>\n"
      ],
      "text/plain": [
       "<graphviz.files.Source at 0x7f1805e99fd0>"
      ]
     },
     "metadata": {},
     "output_type": "display_data"
    }
   ],
   "source": [
    "sample_ind = 99 # 35\n",
    "cf_c.fold_noise = True # False\n",
    "cf_c.show_CI = True\n",
    "g = cf_c.draw(sample_ind, max_display=10, show_fg_val=False, edge_credit=edge_credits2edge_credit(causal_edge_credits, cf_c.graph))"
   ]
  },
  {
   "cell_type": "code",
   "execution_count": 37,
   "metadata": {},
   "outputs": [
    {
     "data": {
      "image/svg+xml": [
       "<?xml version=\"1.0\" encoding=\"UTF-8\" standalone=\"no\"?>\n",
       "<!DOCTYPE svg PUBLIC \"-//W3C//DTD SVG 1.1//EN\"\n",
       " \"http://www.w3.org/Graphics/SVG/1.1/DTD/svg11.dtd\">\n",
       "<!-- Generated by graphviz version 2.38.0 (20140413.2041)\n",
       " -->\n",
       "<!-- Title: %3 Pages: 1 -->\n",
       "<svg width=\"1336pt\" height=\"131pt\"\n",
       " viewBox=\"0.00 0.00 1336.35 131.00\" xmlns=\"http://www.w3.org/2000/svg\" xmlns:xlink=\"http://www.w3.org/1999/xlink\">\n",
       "<g id=\"graph0\" class=\"graph\" transform=\"scale(1 1) rotate(0) translate(4 127)\">\n",
       "<title>%3</title>\n",
       "<polygon fill=\"white\" stroke=\"none\" points=\"-4,4 -4,-127 1332.35,-127 1332.35,4 -4,4\"/>\n",
       "<!-- Serum Iron -->\n",
       "<g id=\"node1\" class=\"node\"><title>Serum Iron</title>\n",
       "<ellipse fill=\"none\" stroke=\"black\" cx=\"51.3454\" cy=\"-105\" rx=\"51.1914\" ry=\"18\"/>\n",
       "<text text-anchor=\"middle\" x=\"51.3454\" y=\"-101.3\" font-family=\"Times,serif\" font-size=\"14.00\">Serum Iron</text>\n",
       "</g>\n",
       "<!-- predicted hazard -->\n",
       "<g id=\"node2\" class=\"node\"><title>predicted hazard</title>\n",
       "<ellipse fill=\"none\" stroke=\"black\" cx=\"117.345\" cy=\"-18\" rx=\"69.5877\" ry=\"18\"/>\n",
       "<text text-anchor=\"middle\" x=\"117.345\" y=\"-14.3\" font-family=\"Times,serif\" font-size=\"14.00\">predicted hazard</text>\n",
       "</g>\n",
       "<!-- Serum Iron&#45;&gt;predicted hazard -->\n",
       "<g id=\"edge1\" class=\"edge\"><title>Serum Iron&#45;&gt;predicted hazard</title>\n",
       "<path fill=\"none\" stroke=\"#ff0051\" stroke-width=\"0.454785\" d=\"M49.3219,-86.9743C48.9514,-76.6565 50.0851,-63.6651 56.3454,-54 60.1362,-48.1476 65.2714,-43.1645 70.9626,-38.9541\"/>\n",
       "<polygon fill=\"#ff0051\" stroke=\"#ff0051\" stroke-width=\"0.454785\" points=\"73.1354,-41.716 79.6067,-33.3271 69.3165,-35.8495 73.1354,-41.716\"/>\n",
       "<text text-anchor=\"middle\" x=\"104.845\" y=\"-57.8\" font-family=\"Times,serif\" font-size=\"14.00\" fill=\"#ff0051\">(0.01, 0.01, 0.01)</text>\n",
       "</g>\n",
       "<!-- Sex -->\n",
       "<g id=\"node3\" class=\"node\"><title>Sex</title>\n",
       "<polygon fill=\"none\" stroke=\"black\" points=\"174.345,-123 120.345,-123 120.345,-87 174.345,-87 174.345,-123\"/>\n",
       "<text text-anchor=\"middle\" x=\"147.345\" y=\"-101.3\" font-family=\"Times,serif\" font-size=\"14.00\">Sex</text>\n",
       "</g>\n",
       "<!-- Sex&#45;&gt;predicted hazard -->\n",
       "<g id=\"edge2\" class=\"edge\"><title>Sex&#45;&gt;predicted hazard</title>\n",
       "<path fill=\"none\" stroke=\"#008bfb\" stroke-width=\"5\" d=\"M155.857,-86.7389C159.528,-76.8185 162.028,-64.3185 157.345,-54 155.353,-49.6095 152.508,-45.5532 149.241,-41.8775\"/>\n",
       "<polygon fill=\"#008bfb\" stroke=\"#008bfb\" stroke-width=\"5\" points=\"152.291,-38.7408 142.08,-34.8824 146.176,-44.9999 152.291,-38.7408\"/>\n",
       "<text text-anchor=\"middle\" x=\"215.345\" y=\"-57.8\" font-family=\"Times,serif\" font-size=\"14.00\" fill=\"#008bfb\">(&#45;0.13, &#45;0.10, &#45;0.07)</text>\n",
       "</g>\n",
       "<!-- Serum Albumin -->\n",
       "<g id=\"node4\" class=\"node\"><title>Serum Albumin</title>\n",
       "<ellipse fill=\"none\" stroke=\"black\" cx=\"260.345\" cy=\"-105\" rx=\"68.4888\" ry=\"18\"/>\n",
       "<text text-anchor=\"middle\" x=\"260.345\" y=\"-101.3\" font-family=\"Times,serif\" font-size=\"14.00\">Serum Albumin</text>\n",
       "</g>\n",
       "<!-- Serum Albumin&#45;&gt;predicted hazard -->\n",
       "<g id=\"edge3\" class=\"edge\"><title>Serum Albumin&#45;&gt;predicted hazard</title>\n",
       "<path fill=\"none\" stroke=\"#008bfb\" stroke-width=\"0.423866\" d=\"M272.001,-87.1781C277.711,-76.6825 281.901,-63.4249 274.345,-54 263.615,-40.6136 227.017,-32.0144 191.855,-26.6907\"/>\n",
       "<polygon fill=\"#008bfb\" stroke=\"#008bfb\" stroke-width=\"0.423866\" points=\"191.906,-23.1624 181.511,-25.2085 190.913,-30.0916 191.906,-23.1624\"/>\n",
       "<text text-anchor=\"middle\" x=\"334.345\" y=\"-57.8\" font-family=\"Times,serif\" font-size=\"14.00\" fill=\"#008bfb\">(&#45;0.01, &#45;0.01, &#45;0.00)</text>\n",
       "</g>\n",
       "<!-- Poverty index -->\n",
       "<g id=\"node5\" class=\"node\"><title>Poverty index</title>\n",
       "<ellipse fill=\"none\" stroke=\"black\" cx=\"406.345\" cy=\"-105\" rx=\"59.5901\" ry=\"18\"/>\n",
       "<text text-anchor=\"middle\" x=\"406.345\" y=\"-101.3\" font-family=\"Times,serif\" font-size=\"14.00\">Poverty index</text>\n",
       "</g>\n",
       "<!-- Poverty index&#45;&gt;predicted hazard -->\n",
       "<g id=\"edge4\" class=\"edge\"><title>Poverty index&#45;&gt;predicted hazard</title>\n",
       "<path fill=\"none\" stroke=\"#008bfb\" stroke-width=\"2.18916\" d=\"M406.492,-86.6504C405.602,-75.6629 402.506,-62.055 393.345,-54 364.954,-29.034 268.072,-21.514 197.085,-19.439\"/>\n",
       "<polygon fill=\"#008bfb\" stroke=\"#008bfb\" stroke-width=\"2.18916\" points=\"196.899,-15.933 186.811,-19.1709 196.716,-22.9306 196.899,-15.933\"/>\n",
       "<text text-anchor=\"middle\" x=\"458.345\" y=\"-57.8\" font-family=\"Times,serif\" font-size=\"14.00\" fill=\"#008bfb\">(&#45;0.06, &#45;0.04, &#45;0.03)</text>\n",
       "</g>\n",
       "<!-- Pulse pressure -->\n",
       "<g id=\"node6\" class=\"node\"><title>Pulse pressure</title>\n",
       "<ellipse fill=\"none\" stroke=\"black\" cx=\"546.345\" cy=\"-105\" rx=\"61.99\" ry=\"18\"/>\n",
       "<text text-anchor=\"middle\" x=\"546.345\" y=\"-101.3\" font-family=\"Times,serif\" font-size=\"14.00\">Pulse pressure</text>\n",
       "</g>\n",
       "<!-- Pulse pressure&#45;&gt;predicted hazard -->\n",
       "<g id=\"edge5\" class=\"edge\"><title>Pulse pressure&#45;&gt;predicted hazard</title>\n",
       "<path fill=\"none\" stroke=\"#008bfb\" stroke-width=\"0.581875\" d=\"M540.99,-86.659C536.546,-75.3781 529.032,-61.4291 517.345,-54 490.951,-37.2217 304.992,-26.7673 196.154,-22.0157\"/>\n",
       "<polygon fill=\"#008bfb\" stroke=\"#008bfb\" stroke-width=\"0.581875\" points=\"196.011,-18.5064 185.87,-21.5736 195.711,-25.5 196.011,-18.5064\"/>\n",
       "<text text-anchor=\"middle\" x=\"587.345\" y=\"-57.8\" font-family=\"Times,serif\" font-size=\"14.00\" fill=\"#008bfb\">(&#45;0.02, &#45;0.01, &#45;0.01)</text>\n",
       "</g>\n",
       "<!-- White blood cells -->\n",
       "<g id=\"node7\" class=\"node\"><title>White blood cells</title>\n",
       "<ellipse fill=\"none\" stroke=\"black\" cx=\"699.345\" cy=\"-105\" rx=\"73.387\" ry=\"18\"/>\n",
       "<text text-anchor=\"middle\" x=\"699.345\" y=\"-101.3\" font-family=\"Times,serif\" font-size=\"14.00\">White blood cells</text>\n",
       "</g>\n",
       "<!-- White blood cells&#45;&gt;predicted hazard -->\n",
       "<g id=\"edge6\" class=\"edge\"><title>White blood cells&#45;&gt;predicted hazard</title>\n",
       "<path fill=\"none\" stroke=\"#008bfb\" stroke-width=\"1.04732\" d=\"M686.56,-86.8653C676.908,-75.3683 662.579,-61.0783 646.345,-54 606.219,-36.504 333.601,-25.6832 196.189,-21.2785\"/>\n",
       "<polygon fill=\"#008bfb\" stroke=\"#008bfb\" stroke-width=\"1.04732\" points=\"196.238,-17.7784 186.132,-20.9599 196.016,-24.7749 196.238,-17.7784\"/>\n",
       "<text text-anchor=\"middle\" x=\"723.345\" y=\"-57.8\" font-family=\"Times,serif\" font-size=\"14.00\" fill=\"#008bfb\">(&#45;0.03, &#45;0.02, &#45;0.01)</text>\n",
       "</g>\n",
       "<!-- Diastolic BP -->\n",
       "<g id=\"node8\" class=\"node\"><title>Diastolic BP</title>\n",
       "<ellipse fill=\"none\" stroke=\"black\" cx=\"847.345\" cy=\"-105\" rx=\"55.7903\" ry=\"18\"/>\n",
       "<text text-anchor=\"middle\" x=\"847.345\" y=\"-101.3\" font-family=\"Times,serif\" font-size=\"14.00\">Diastolic BP</text>\n",
       "</g>\n",
       "<!-- Diastolic BP&#45;&gt;predicted hazard -->\n",
       "<g id=\"edge7\" class=\"edge\"><title>Diastolic BP&#45;&gt;predicted hazard</title>\n",
       "<path fill=\"none\" stroke=\"#008bfb\" stroke-width=\"0.964183\" d=\"M831.694,-87.5012C819.485,-75.8342 801.441,-61.0602 782.345,-54 728.708,-34.1687 360.747,-24.0848 196.372,-20.5273\"/>\n",
       "<polygon fill=\"#008bfb\" stroke=\"#008bfb\" stroke-width=\"0.964183\" points=\"196.392,-17.027 186.32,-20.3124 196.243,-24.0254 196.392,-17.027\"/>\n",
       "<text text-anchor=\"middle\" x=\"863.345\" y=\"-57.8\" font-family=\"Times,serif\" font-size=\"14.00\" fill=\"#008bfb\">(&#45;0.03, &#45;0.02, &#45;0.01)</text>\n",
       "</g>\n",
       "<!-- Sedimentation rate -->\n",
       "<g id=\"node9\" class=\"node\"><title>Sedimentation rate</title>\n",
       "<ellipse fill=\"none\" stroke=\"black\" cx=\"1000.35\" cy=\"-105\" rx=\"77.1866\" ry=\"18\"/>\n",
       "<text text-anchor=\"middle\" x=\"1000.35\" y=\"-101.3\" font-family=\"Times,serif\" font-size=\"14.00\">Sedimentation rate</text>\n",
       "</g>\n",
       "<!-- Sedimentation rate&#45;&gt;predicted hazard -->\n",
       "<g id=\"edge8\" class=\"edge\"><title>Sedimentation rate&#45;&gt;predicted hazard</title>\n",
       "<path fill=\"none\" stroke=\"#008bfb\" stroke-width=\"0.562541\" d=\"M980.987,-87.4342C966.042,-75.7329 944.273,-60.9455 922.345,-54 854.538,-32.5225 386.376,-23.0801 196.794,-20.106\"/>\n",
       "<polygon fill=\"#008bfb\" stroke=\"#008bfb\" stroke-width=\"0.562541\" points=\"196.67,-16.6037 186.616,-19.9483 196.561,-23.6029 196.67,-16.6037\"/>\n",
       "<text text-anchor=\"middle\" x=\"1010.35\" y=\"-57.8\" font-family=\"Times,serif\" font-size=\"14.00\" fill=\"#008bfb\">(&#45;0.02, &#45;0.01, &#45;0.00)</text>\n",
       "</g>\n",
       "<!-- Age -->\n",
       "<g id=\"node10\" class=\"node\"><title>Age</title>\n",
       "<ellipse fill=\"none\" stroke=\"black\" cx=\"1126.35\" cy=\"-105\" rx=\"27\" ry=\"18\"/>\n",
       "<text text-anchor=\"middle\" x=\"1126.35\" y=\"-101.3\" font-family=\"Times,serif\" font-size=\"14.00\">Age</text>\n",
       "</g>\n",
       "<!-- Age&#45;&gt;predicted hazard -->\n",
       "<g id=\"edge9\" class=\"edge\"><title>Age&#45;&gt;predicted hazard</title>\n",
       "<path fill=\"none\" stroke=\"#008bfb\" stroke-width=\"2.22921\" d=\"M1114.14,-88.6547C1103.67,-76.7843 1087.45,-61.1975 1069.35,-54 989.486,-22.2505 411.763,-18.9845 197.248,-18.8791\"/>\n",
       "<polygon fill=\"#008bfb\" stroke=\"#008bfb\" stroke-width=\"2.22921\" points=\"197.006,-15.3792 187.005,-18.8764 197.004,-22.3792 197.006,-15.3792\"/>\n",
       "<text text-anchor=\"middle\" x=\"1147.35\" y=\"-57.8\" font-family=\"Times,serif\" font-size=\"14.00\" fill=\"#008bfb\">(&#45;0.22, &#45;0.04, 0.13)</text>\n",
       "</g>\n",
       "<!-- Systolic BP -->\n",
       "<g id=\"node11\" class=\"node\"><title>Systolic BP</title>\n",
       "<ellipse fill=\"none\" stroke=\"black\" cx=\"1230.35\" cy=\"-105\" rx=\"51.9908\" ry=\"18\"/>\n",
       "<text text-anchor=\"middle\" x=\"1230.35\" y=\"-101.3\" font-family=\"Times,serif\" font-size=\"14.00\">Systolic BP</text>\n",
       "</g>\n",
       "<!-- Systolic BP&#45;&gt;predicted hazard -->\n",
       "<g id=\"edge10\" class=\"edge\"><title>Systolic BP&#45;&gt;predicted hazard</title>\n",
       "<path fill=\"none\" stroke=\"#008bfb\" stroke-width=\"2.4664\" d=\"M1226.31,-86.9995C1222.63,-75.5657 1215.94,-61.2961 1204.35,-54 1161.88,-27.2766 440.458,-20.8009 196.912,-19.3728\"/>\n",
       "<polygon fill=\"#008bfb\" stroke=\"#008bfb\" stroke-width=\"2.4664\" points=\"196.737,-15.8719 186.717,-19.3144 196.697,-22.8717 196.737,-15.8719\"/>\n",
       "<text text-anchor=\"middle\" x=\"1273.35\" y=\"-57.8\" font-family=\"Times,serif\" font-size=\"14.00\" fill=\"#008bfb\">(&#45;0.07, &#45;0.05, &#45;0.03)</text>\n",
       "</g>\n",
       "</g>\n",
       "</svg>\n"
      ],
      "text/plain": [
       "<graphviz.files.Source at 0x7f1805e0cc50>"
      ]
     },
     "metadata": {},
     "output_type": "display_data"
    },
    {
     "data": {
      "text/plain": [
       "<AGraph <Swig Object of type 'Agraph_t *' at 0x7f177242d780>>"
      ]
     },
     "execution_count": 37,
     "metadata": {},
     "output_type": "execute_result"
    }
   ],
   "source": [
    "cf.show_CI = True\n",
    "cf.draw(sample_ind, max_display=10, show_fg_val=False, edge_credit=edge_credits2edge_credit(edge_credits, cf.graph))"
   ]
  },
  {
   "cell_type": "code",
   "execution_count": 38,
   "metadata": {},
   "outputs": [
    {
     "data": {
      "image/png": "[encoded data removed]",
      "text/plain": [
       "<Figure size 432x288 with 1 Axes>"
      ]
     },
     "metadata": {
      "needs_background": "light"
     },
     "output_type": "display_data"
    }
   ],
   "source": [
    "# cf_on_manifold.draw(sample_ind, max_display=10)\n",
    "sum(manifold_edge_credits).draw(sample_ind, show=False, max_display=10)"
   ]
  },
  {
   "cell_type": "code",
   "execution_count": 42,
   "metadata": {},
   "outputs": [
    {
     "name": "stdout",
     "output_type": "stream",
     "text": [
      "error Pulse pressure noise Pulse pressure -0.0054528713\n"
     ]
    },
    {
     "data": {
      "image/svg+xml": [
       "<?xml version=\"1.0\" encoding=\"UTF-8\" standalone=\"no\"?>\n",
       "<!DOCTYPE svg PUBLIC \"-//W3C//DTD SVG 1.1//EN\"\n",
       " \"http://www.w3.org/Graphics/SVG/1.1/DTD/svg11.dtd\">\n",
       "<!-- Generated by graphviz version 2.38.0 (20140413.2041)\n",
       " -->\n",
       "<!-- Title: %3 Pages: 1 -->\n",
       "<svg width=\"1436pt\" height=\"131pt\"\n",
       " viewBox=\"0.00 0.00 1436.39 131.00\" xmlns=\"http://www.w3.org/2000/svg\" xmlns:xlink=\"http://www.w3.org/1999/xlink\">\n",
       "<g id=\"graph0\" class=\"graph\" transform=\"scale(1 1) rotate(0) translate(4 127)\">\n",
       "<title>%3</title>\n",
       "<polygon fill=\"white\" stroke=\"none\" points=\"-4,4 -4,-127 1432.39,-127 1432.39,4 -4,4\"/>\n",
       "<!-- Poverty index noise -->\n",
       "<g id=\"node1\" class=\"node\"><title>Poverty index noise</title>\n",
       "<ellipse fill=\"none\" stroke=\"black\" cx=\"81.2428\" cy=\"-105\" rx=\"81.4863\" ry=\"18\"/>\n",
       "<text text-anchor=\"middle\" x=\"81.2428\" y=\"-101.3\" font-family=\"Times,serif\" font-size=\"14.00\">Poverty index noise</text>\n",
       "</g>\n",
       "<!-- predicted hazard -->\n",
       "<g id=\"node2\" class=\"node\"><title>predicted hazard</title>\n",
       "<ellipse fill=\"none\" stroke=\"black\" cx=\"147.243\" cy=\"-18\" rx=\"69.5877\" ry=\"18\"/>\n",
       "<text text-anchor=\"middle\" x=\"147.243\" y=\"-14.3\" font-family=\"Times,serif\" font-size=\"14.00\">predicted hazard</text>\n",
       "</g>\n",
       "<!-- Poverty index noise&#45;&gt;predicted hazard -->\n",
       "<g id=\"edge1\" class=\"edge\"><title>Poverty index noise&#45;&gt;predicted hazard</title>\n",
       "<path fill=\"none\" stroke=\"#008bfb\" stroke-width=\"1.44184\" d=\"M77.4546,-86.5857C76.1925,-76.3749 76.3584,-63.6317 82.2428,-54 86.1016,-47.6838 91.5272,-42.4362 97.6163,-38.0965\"/>\n",
       "<polygon fill=\"#008bfb\" stroke=\"#008bfb\" stroke-width=\"1.44184\" points=\"99.605,-40.9814 106.246,-32.7264 95.9066,-35.0381 99.605,-40.9814\"/>\n",
       "<text text-anchor=\"middle\" x=\"137.243\" y=\"-57.8\" font-family=\"Times,serif\" font-size=\"14.00\" fill=\"#008bfb\">(&#45;0.04, &#45;0.03, &#45;0.02)</text>\n",
       "</g>\n",
       "<!-- Inflamation noise -->\n",
       "<g id=\"node3\" class=\"node\"><title>Inflamation noise</title>\n",
       "<ellipse fill=\"none\" stroke=\"black\" cx=\"254.243\" cy=\"-105\" rx=\"73.387\" ry=\"18\"/>\n",
       "<text text-anchor=\"middle\" x=\"254.243\" y=\"-101.3\" font-family=\"Times,serif\" font-size=\"14.00\">Inflamation noise</text>\n",
       "</g>\n",
       "<!-- Inflamation noise&#45;&gt;predicted hazard -->\n",
       "<g id=\"edge2\" class=\"edge\"><title>Inflamation noise&#45;&gt;predicted hazard</title>\n",
       "<path fill=\"none\" stroke=\"#008bfb\" stroke-width=\"1.39288\" d=\"M233.93,-87.4701C221.86,-77.6847 206.226,-65.0752 192.243,-54 187.151,-49.9674 181.713,-45.7022 176.44,-41.5888\"/>\n",
       "<polygon fill=\"#008bfb\" stroke=\"#008bfb\" stroke-width=\"1.39288\" points=\"178.406,-38.6839 168.365,-35.305 174.107,-44.2084 178.406,-38.6839\"/>\n",
       "<text text-anchor=\"middle\" x=\"265.243\" y=\"-57.8\" font-family=\"Times,serif\" font-size=\"14.00\" fill=\"#008bfb\">(&#45;0.04, &#45;0.03, &#45;0.02)</text>\n",
       "</g>\n",
       "<!-- Red blood cells noise -->\n",
       "<g id=\"node4\" class=\"node\"><title>Red blood cells noise</title>\n",
       "<ellipse fill=\"none\" stroke=\"black\" cx=\"433.243\" cy=\"-105\" rx=\"87.1846\" ry=\"18\"/>\n",
       "<text text-anchor=\"middle\" x=\"433.243\" y=\"-101.3\" font-family=\"Times,serif\" font-size=\"14.00\">Red blood cells noise</text>\n",
       "</g>\n",
       "<!-- Red blood cells noise&#45;&gt;predicted hazard -->\n",
       "<g id=\"edge3\" class=\"edge\"><title>Red blood cells noise&#45;&gt;predicted hazard</title>\n",
       "<path fill=\"none\" stroke=\"#008bfb\" stroke-width=\"0.164292\" d=\"M392.833,-88.9739C378.513,-83.229 362.438,-76.293 348.243,-69 337.054,-63.2517 335.938,-58.6296 324.243,-54 291.249,-40.94 252.797,-32.5848 220.177,-27.328\"/>\n",
       "<polygon fill=\"#008bfb\" stroke=\"#008bfb\" stroke-width=\"0.164292\" points=\"220.671,-23.8628 210.254,-25.7942 219.602,-30.7807 220.671,-23.8628\"/>\n",
       "<text text-anchor=\"middle\" x=\"401.243\" y=\"-57.8\" font-family=\"Times,serif\" font-size=\"14.00\" fill=\"#008bfb\">(&#45;0.01, &#45;0.00, 0.00)</text>\n",
       "</g>\n",
       "<!-- Race -->\n",
       "<g id=\"node5\" class=\"node\"><title>Race</title>\n",
       "<polygon fill=\"none\" stroke=\"black\" points=\"592.243,-123 538.243,-123 538.243,-87 592.243,-87 592.243,-123\"/>\n",
       "<text text-anchor=\"middle\" x=\"565.243\" y=\"-101.3\" font-family=\"Times,serif\" font-size=\"14.00\">Race</text>\n",
       "</g>\n",
       "<!-- Race&#45;&gt;predicted hazard -->\n",
       "<g id=\"edge4\" class=\"edge\"><title>Race&#45;&gt;predicted hazard</title>\n",
       "<path fill=\"none\" stroke=\"#008bfb\" stroke-width=\"0.727542\" d=\"M537.861,-90.6966C534.97,-89.4042 532.059,-88.1484 529.243,-87 506.597,-77.765 499.205,-79.7603 477.243,-69 466.283,-63.6305 465.725,-58.1355 454.243,-54 413.307,-39.2561 300.982,-29.1441 224.177,-23.7139\"/>\n",
       "<polygon fill=\"#008bfb\" stroke=\"#008bfb\" stroke-width=\"0.727542\" points=\"224.275,-20.2124 214.057,-23.0108 223.79,-27.1955 224.275,-20.2124\"/>\n",
       "<text text-anchor=\"middle\" x=\"532.243\" y=\"-57.8\" font-family=\"Times,serif\" font-size=\"14.00\" fill=\"#008bfb\">(&#45;0.02, &#45;0.01, &#45;0.01)</text>\n",
       "</g>\n",
       "<!-- Blood protein noise -->\n",
       "<g id=\"node6\" class=\"node\"><title>Blood protein noise</title>\n",
       "<ellipse fill=\"none\" stroke=\"black\" cx=\"691.243\" cy=\"-105\" rx=\"80.6858\" ry=\"18\"/>\n",
       "<text text-anchor=\"middle\" x=\"691.243\" y=\"-101.3\" font-family=\"Times,serif\" font-size=\"14.00\">Blood protein noise</text>\n",
       "</g>\n",
       "<!-- Blood protein noise&#45;&gt;predicted hazard -->\n",
       "<g id=\"edge5\" class=\"edge\"><title>Blood protein noise&#45;&gt;predicted hazard</title>\n",
       "<path fill=\"none\" stroke=\"#008bfb\" stroke-width=\"0.603295\" d=\"M653.668,-88.9031C640.094,-83.1003 624.785,-76.1452 611.243,-69 600.118,-63.1301 599.187,-57.9447 587.243,-54 522.392,-32.5817 334.531,-24.0214 226.402,-20.7973\"/>\n",
       "<polygon fill=\"#008bfb\" stroke=\"#008bfb\" stroke-width=\"0.603295\" points=\"226.29,-17.2927 216.193,-20.5017 226.088,-24.2898 226.29,-17.2927\"/>\n",
       "<text text-anchor=\"middle\" x=\"666.243\" y=\"-57.8\" font-family=\"Times,serif\" font-size=\"14.00\" fill=\"#008bfb\">(&#45;0.02, &#45;0.01, &#45;0.01)</text>\n",
       "</g>\n",
       "<!-- Iron noise -->\n",
       "<g id=\"node7\" class=\"node\"><title>Iron noise</title>\n",
       "<ellipse fill=\"none\" stroke=\"black\" cx=\"836.243\" cy=\"-105\" rx=\"46.2923\" ry=\"18\"/>\n",
       "<text text-anchor=\"middle\" x=\"836.243\" y=\"-101.3\" font-family=\"Times,serif\" font-size=\"14.00\">Iron noise</text>\n",
       "</g>\n",
       "<!-- Iron noise&#45;&gt;predicted hazard -->\n",
       "<g id=\"edge6\" class=\"edge\"><title>Iron noise&#45;&gt;predicted hazard</title>\n",
       "<path fill=\"none\" stroke=\"#ff0051\" stroke-width=\"0.773758\" d=\"M802.752,-92.5132C785.561,-86.234 764.459,-77.9267 746.243,-69 734.607,-63.298 733.619,-57.8374 721.243,-54 631.325,-26.1202 362.389,-20.3229 226.984,-19.203\"/>\n",
       "<polygon fill=\"#ff0051\" stroke=\"#ff0051\" stroke-width=\"0.773758\" points=\"226.705,-15.7009 216.679,-19.1247 226.652,-22.7007 226.705,-15.7009\"/>\n",
       "<text text-anchor=\"middle\" x=\"794.743\" y=\"-57.8\" font-family=\"Times,serif\" font-size=\"14.00\" fill=\"#ff0051\">(0.01, 0.02, 0.02)</text>\n",
       "</g>\n",
       "<!-- Age -->\n",
       "<g id=\"node8\" class=\"node\"><title>Age</title>\n",
       "<ellipse fill=\"none\" stroke=\"black\" cx=\"927.243\" cy=\"-105\" rx=\"27\" ry=\"18\"/>\n",
       "<text text-anchor=\"middle\" x=\"927.243\" y=\"-101.3\" font-family=\"Times,serif\" font-size=\"14.00\">Age</text>\n",
       "</g>\n",
       "<!-- Age&#45;&gt;predicted hazard -->\n",
       "<g id=\"edge7\" class=\"edge\"><title>Age&#45;&gt;predicted hazard</title>\n",
       "<path fill=\"none\" stroke=\"#008bfb\" stroke-width=\"2.12427\" d=\"M907.996,-92.2252C884.312,-77.7831 846.776,-55.0682 843.243,-54 730.134,-19.8056 384.413,-17.4164 226.915,-18.2042\"/>\n",
       "<polygon fill=\"#008bfb\" stroke=\"#008bfb\" stroke-width=\"2.12427\" points=\"226.798,-14.7047 216.817,-18.2604 226.837,-21.7046 226.798,-14.7047\"/>\n",
       "<text text-anchor=\"middle\" x=\"921.243\" y=\"-57.8\" font-family=\"Times,serif\" font-size=\"14.00\" fill=\"#008bfb\">(&#45;0.22, &#45;0.04, 0.13)</text>\n",
       "</g>\n",
       "<!-- Sex -->\n",
       "<g id=\"node9\" class=\"node\"><title>Sex</title>\n",
       "<polygon fill=\"none\" stroke=\"black\" points=\"1026.24,-123 972.243,-123 972.243,-87 1026.24,-87 1026.24,-123\"/>\n",
       "<text text-anchor=\"middle\" x=\"999.243\" y=\"-101.3\" font-family=\"Times,serif\" font-size=\"14.00\">Sex</text>\n",
       "</g>\n",
       "<!-- Sex&#45;&gt;predicted hazard -->\n",
       "<g id=\"edge8\" class=\"edge\"><title>Sex&#45;&gt;predicted hazard</title>\n",
       "<path fill=\"none\" stroke=\"#008bfb\" stroke-width=\"5\" d=\"M996.067,-86.6061C993.021,-75.3017 987.193,-61.3462 976.243,-54 945.47,-33.3546 428.436,-23.284 226.832,-20.1282\"/>\n",
       "<polygon fill=\"#008bfb\" stroke=\"#008bfb\" stroke-width=\"5\" points=\"226.673,-15.7503 216.607,-19.9698 226.538,-24.4993 226.673,-15.7503\"/>\n",
       "<text text-anchor=\"middle\" x=\"1044.24\" y=\"-57.8\" font-family=\"Times,serif\" font-size=\"14.00\" fill=\"#008bfb\">(&#45;0.14, &#45;0.11, &#45;0.08)</text>\n",
       "</g>\n",
       "<!-- Serum Cholesterol noise -->\n",
       "<g id=\"node10\" class=\"node\"><title>Serum Cholesterol noise</title>\n",
       "<ellipse fill=\"none\" stroke=\"black\" cx=\"1142.24\" cy=\"-105\" rx=\"98.2828\" ry=\"18\"/>\n",
       "<text text-anchor=\"middle\" x=\"1142.24\" y=\"-101.3\" font-family=\"Times,serif\" font-size=\"14.00\">Serum Cholesterol noise</text>\n",
       "</g>\n",
       "<!-- Serum Cholesterol noise&#45;&gt;predicted hazard -->\n",
       "<g id=\"edge9\" class=\"edge\"><title>Serum Cholesterol noise&#45;&gt;predicted hazard</title>\n",
       "<path fill=\"none\" stroke=\"#008bfb\" stroke-width=\"0.1926\" d=\"M1133.93,-86.8258C1127.34,-75.3102 1116.97,-61.0142 1103.24,-54 1064.53,-34.2134 449.365,-23.3771 226.812,-20.0891\"/>\n",
       "<polygon fill=\"#008bfb\" stroke=\"#008bfb\" stroke-width=\"0.1926\" points=\"226.565,-16.5852 216.515,-19.9382 226.463,-23.5845 226.565,-16.5852\"/>\n",
       "<text text-anchor=\"middle\" x=\"1176.24\" y=\"-57.8\" font-family=\"Times,serif\" font-size=\"14.00\" fill=\"#008bfb\">(&#45;0.01, &#45;0.00, &#45;0.00)</text>\n",
       "</g>\n",
       "<!-- Blood pressure noise -->\n",
       "<g id=\"node11\" class=\"node\"><title>Blood pressure noise</title>\n",
       "<ellipse fill=\"none\" stroke=\"black\" cx=\"1343.24\" cy=\"-105\" rx=\"85.2851\" ry=\"18\"/>\n",
       "<text text-anchor=\"middle\" x=\"1343.24\" y=\"-101.3\" font-family=\"Times,serif\" font-size=\"14.00\">Blood pressure noise</text>\n",
       "</g>\n",
       "<!-- Blood pressure noise&#45;&gt;predicted hazard -->\n",
       "<g id=\"edge10\" class=\"edge\"><title>Blood pressure noise&#45;&gt;predicted hazard</title>\n",
       "<path fill=\"none\" stroke=\"#008bfb\" stroke-width=\"3.89256\" d=\"M1316.38,-87.8507C1295.17,-76.0364 1264.39,-60.9138 1235.24,-54 1138.19,-30.9822 461.308,-22.1259 226.915,-19.7278\"/>\n",
       "<polygon fill=\"#008bfb\" stroke=\"#008bfb\" stroke-width=\"3.89256\" points=\"226.793,-16.2265 216.758,-19.6251 226.722,-23.2262 226.793,-16.2265\"/>\n",
       "<text text-anchor=\"middle\" x=\"1334.24\" y=\"-57.8\" font-family=\"Times,serif\" font-size=\"14.00\" fill=\"#008bfb\">(&#45;0.11, &#45;0.08, &#45;0.05)</text>\n",
       "</g>\n",
       "</g>\n",
       "</svg>\n"
      ],
      "text/plain": [
       "<graphviz.files.Source at 0x7f176e1504d0>"
      ]
     },
     "metadata": {},
     "output_type": "display_data"
    }
   ],
   "source": [
    "cf_c.fold_noise = False\n",
    "cf_c.show_CI = True\n",
    "g = cf_c.draw_asv(sample_ind, max_display=10, show_fg_val=False, flow_credit=edge_credits2edge_credit(causal_edge_credits, cf_c.graph))"
   ]
  },
  {
   "cell_type": "markdown",
   "metadata": {},
   "source": [
    "# investigate the background and foreground samples"
   ]
  },
  {
   "cell_type": "code",
   "execution_count": 39,
   "metadata": {},
   "outputs": [
    {
     "data": {
      "text/html": [
       "<div>\n",
       "<style scoped>\n",
       "    .dataframe tbody tr th:only-of-type {\n",
       "        vertical-align: middle;\n",
       "    }\n",
       "\n",
       "    .dataframe tbody tr th {\n",
       "        vertical-align: top;\n",
       "    }\n",
       "\n",
       "    .dataframe thead th {\n",
       "        text-align: right;\n",
       "    }\n",
       "</style>\n",
       "<table border=\"1\" class=\"dataframe\">\n",
       "  <thead>\n",
       "    <tr style=\"text-align: right;\">\n",
       "      <th></th>\n",
       "      <th>Age</th>\n",
       "      <th>Diastolic BP</th>\n",
       "      <th>Poverty index</th>\n",
       "      <th>Race</th>\n",
       "      <th>Red blood cells</th>\n",
       "      <th>Sedimentation rate</th>\n",
       "      <th>Serum Albumin</th>\n",
       "      <th>Serum Cholesterol</th>\n",
       "      <th>Serum Iron</th>\n",
       "      <th>Serum Magnesium</th>\n",
       "      <th>Serum Protein</th>\n",
       "      <th>Sex</th>\n",
       "      <th>Systolic BP</th>\n",
       "      <th>TIBC</th>\n",
       "      <th>TS</th>\n",
       "      <th>White blood cells</th>\n",
       "      <th>BMI</th>\n",
       "      <th>Pulse pressure</th>\n",
       "    </tr>\n",
       "  </thead>\n",
       "  <tbody>\n",
       "    <tr>\n",
       "      <th>mean</th>\n",
       "      <td>49.4491</td>\n",
       "      <td>83.282</td>\n",
       "      <td>287.213</td>\n",
       "      <td>1.19603</td>\n",
       "      <td>54.8805</td>\n",
       "      <td>16.2683</td>\n",
       "      <td>4.3651</td>\n",
       "      <td>221.235</td>\n",
       "      <td>101.117</td>\n",
       "      <td>1.68131</td>\n",
       "      <td>7.10407</td>\n",
       "      <td>1.60723</td>\n",
       "      <td>134.854</td>\n",
       "      <td>362.605</td>\n",
       "      <td>28.5559</td>\n",
       "      <td>7.45176</td>\n",
       "      <td>25.6898</td>\n",
       "      <td>51.5755</td>\n",
       "    </tr>\n",
       "    <tr>\n",
       "      <th>sample_ind</th>\n",
       "      <td>51</td>\n",
       "      <td>74</td>\n",
       "      <td>824</td>\n",
       "      <td>1</td>\n",
       "      <td>77.7</td>\n",
       "      <td>9</td>\n",
       "      <td>4.3</td>\n",
       "      <td>267</td>\n",
       "      <td>63</td>\n",
       "      <td>1.61</td>\n",
       "      <td>6.8</td>\n",
       "      <td>Female</td>\n",
       "      <td>118</td>\n",
       "      <td>503</td>\n",
       "      <td>12.5</td>\n",
       "      <td>4.4</td>\n",
       "      <td>23.589</td>\n",
       "      <td>44</td>\n",
       "    </tr>\n",
       "  </tbody>\n",
       "</table>\n",
       "</div>"
      ],
      "text/plain": [
       "                Age Diastolic BP Poverty index     Race Red blood cells  \\\n",
       "mean        49.4491       83.282       287.213  1.19603         54.8805   \n",
       "sample_ind       51           74           824        1            77.7   \n",
       "\n",
       "           Sedimentation rate Serum Albumin Serum Cholesterol Serum Iron  \\\n",
       "mean                  16.2683        4.3651           221.235    101.117   \n",
       "sample_ind                  9           4.3               267         63   \n",
       "\n",
       "           Serum Magnesium Serum Protein      Sex Systolic BP     TIBC  \\\n",
       "mean               1.68131       7.10407  1.60723     134.854  362.605   \n",
       "sample_ind            1.61           6.8   Female         118      503   \n",
       "\n",
       "                 TS White blood cells      BMI Pulse pressure  \n",
       "mean        28.5559           7.45176  25.6898        51.5755  \n",
       "sample_ind     12.5               4.4   23.589             44  "
      ]
     },
     "execution_count": 39,
     "metadata": {},
     "output_type": "execute_result"
    }
   ],
   "source": [
    "pd.concat([X.mean(0), X_display.iloc[sample_ind]], 1).rename(columns={0: \"mean\", sample_ind: 'sample_ind'}).T"
   ]
  },
  {
   "cell_type": "code",
   "execution_count": 40,
   "metadata": {},
   "outputs": [
    {
     "data": {
      "image/png": "[encoded data removed]",
      "text/plain": [
       "<Figure size 432x288 with 1 Axes>"
      ]
     },
     "metadata": {
      "needs_background": "light"
     },
     "output_type": "display_data"
    }
   ],
   "source": [
    "o = f(np.array(X)[:nsamples])\n",
    "\n",
    "xlabel = 'Age'\n",
    "ylabel = 'Output'\n",
    "\n",
    "sns.regplot(X[xlabel][:nsamples], o, x_bins=1, order=1, ci=None, label='regression line', color='y')\n",
    "plt.scatter(X[xlabel][:nsamples], o, alpha=0.3, label='samples')\n",
    "plt.xlabel(xlabel, fontsize=15)\n",
    "plt.ylabel(ylabel, fontsize=15)\n",
    "# plt.scatter(X[xlabel][[0]], o[[0]], c=['red'], s=100, marker='s', label='background')\n",
    "plt.scatter(X[xlabel][:100].mean(), o.mean(), c=['red'], s=100, marker='s', label='background (mean)')\n",
    "plt.scatter(X[xlabel][[sample_ind]], o[[sample_ind]], c=['black'], s=100, marker='s', label='foreground')\n",
    "plt.legend(fontsize=15)\n",
    "plt.tight_layout()\n",
    "plt.show()"
   ]
  },
  {
   "cell_type": "markdown",
   "metadata": {},
   "source": [
    "Increasing the age, increases log hazard."
   ]
  },
  {
   "cell_type": "code",
   "execution_count": 41,
   "metadata": {},
   "outputs": [
    {
     "data": {
      "image/png": "[encoded data removed]",
      "text/plain": [
       "<Figure size 432x288 with 1 Axes>"
      ]
     },
     "metadata": {
      "needs_background": "light"
     },
     "output_type": "display_data"
    }
   ],
   "source": [
    "o = f(np.array(X)[:nsamples])\n",
    "\n",
    "def normalize(o): # normalize to 0-1\n",
    "    return (o - o.min()) / (o.max() - o.min())\n",
    "\n",
    "ylabel = 'Age'\n",
    "xlabel = 'Systolic BP' #'Serum Magnesium'\n",
    "\n",
    "plt.scatter(X[xlabel][:nsamples], X[ylabel][:nsamples],\n",
    "            alpha=0.3, label='samples')\n",
    "sns.regplot(X[xlabel][:nsamples], X[ylabel][:nsamples], x_bins=1, order=1, ci=None, label='regression line', color='y')\n",
    "plt.xlabel(xlabel, fontsize=15)\n",
    "plt.ylabel(ylabel, fontsize=15)\n",
    "\n",
    "plt.scatter(X[xlabel].mean(), X[ylabel].mean(), c=['red'], s=100, marker='s', label='background (mean)')\n",
    "plt.scatter(X[xlabel][[sample_ind]], X[ylabel][[sample_ind]], c=['black'], s=100, marker='s', label='foreground')\n",
    "plt.legend(fontsize=15, loc=\"upper left\")\n",
    "\n",
    "plt.tight_layout()\n",
    "# plt.savefig(f'figures/manifold_multiple_explain_age_{xlabel}_{sample_ind}.png')\n",
    "plt.show()"
   ]
  },
  {
   "cell_type": "markdown",
   "metadata": {},
   "source": [
    "Updating Systolic BP before Age would cause the expeted age to decrease, thus greating inflating the risk of Age for this sample"
   ]
  }
 ],
 "metadata": {
  "kernelspec": {
   "display_name": "Python 3",
   "language": "python",
   "name": "python3"
  },
  "language_info": {
   "codemirror_mode": {
    "name": "ipython",
    "version": 3
   },
   "file_extension": ".py",
   "mimetype": "text/x-python",
   "name": "python",
   "nbconvert_exporter": "python",
   "pygments_lexer": "ipython3",
   "version": "3.7.7"
  }
 },
 "nbformat": 4,
 "nbformat_minor": 4
}
