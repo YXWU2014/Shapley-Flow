{
 "cells": [
  {
   "cell_type": "markdown",
   "metadata": {},
   "source": [
    "# Synthetic sanity check examples\n",
    "\n",
    "In this notebook, we show 2 synthetic sanity check examples: the chain dataset and the linear random graph example. The Latter example is used in the main text of the Shapley Flow paper."
   ]
  },
  {
   "cell_type": "code",
   "execution_count": 1,
   "metadata": {},
   "outputs": [],
   "source": [
    "# limit the number of threads used by xgboost models\n",
    "import os\n",
    "os.environ[\"OMP_NUM_THREADS\"] = \"8\"\n",
    "os.environ[\"OPENBLAS_NUM_THREADS\"] = \"8\"\n",
    "os.environ[\"MKL_NUM_THREADS\"] = \"8\"\n",
    "os.environ[\"VECLIB_MAXIMUM_THREADS\"] = \"8\"\n",
    "os.environ[\"NUMEXPR_NUM_THREADS\"] = \"8\"\n",
    "\n",
    "# standard libaries\n",
    "import sys\n",
    "import copy\n",
    "import dill\n",
    "from collections import defaultdict\n",
    "import numpy as np\n",
    "import pandas as pd\n",
    "import xgboost\n",
    "from sklearn.model_selection import train_test_split\n",
    "from sklearn.linear_model import LinearRegression\n",
    "import matplotlib.pyplot as plt\n",
    "import seaborn as sns\n",
    "import shap\n",
    "from graphviz import Digraph\n",
    "\n",
    "# flow specific packages\n",
    "if '../' not in sys.path:\n",
    "    sys.path = ['../'] + sys.path\n",
    "from flow import Node, CreditFlow, Graph, get_source_nodes, topo_sort, flatten_graph, eval_graph, boundary_graph, single_source_graph, viz_graph, save_graph, hcluster_graph\n",
    "from flow import ParallelCreditFlow, GraphExplainer, translator\n",
    "from flow import group_nodes, build_feature_graph\n",
    "from flow import CausalLinks, create_xgboost_f, create_linear_f\n",
    "from flow import edge_credits2edge_credit\n",
    "from on_manifold import OnManifoldExplainer, IndExplainer, FeatureAttribution\n",
    "from linear_evaluation import get_error, get_indirect_effect_flow, get_effect_asv, get_effect_ind, get_effect_manifold, get_direct_effect_flow\n",
    "from linear_evaluation import get_direct_effect_ground_truth, get_indirect_effect_ground_truth\n",
    "\n",
    "np.random.seed(42)"
   ]
  },
  {
   "cell_type": "markdown",
   "metadata": {},
   "source": [
    "# The chain experiment"
   ]
  },
  {
   "cell_type": "code",
   "execution_count": 2,
   "metadata": {},
   "outputs": [
    {
     "data": {
      "text/html": [
       "<div>\n",
       "<style scoped>\n",
       "    .dataframe tbody tr th:only-of-type {\n",
       "        vertical-align: middle;\n",
       "    }\n",
       "\n",
       "    .dataframe tbody tr th {\n",
       "        vertical-align: top;\n",
       "    }\n",
       "\n",
       "    .dataframe thead th {\n",
       "        text-align: right;\n",
       "    }\n",
       "</style>\n",
       "<table border=\"1\" class=\"dataframe\">\n",
       "  <thead>\n",
       "    <tr style=\"text-align: right;\">\n",
       "      <th></th>\n",
       "      <th>X1</th>\n",
       "      <th>X2</th>\n",
       "      <th>X3</th>\n",
       "      <th>X4</th>\n",
       "      <th>f</th>\n",
       "    </tr>\n",
       "  </thead>\n",
       "  <tbody>\n",
       "    <tr>\n",
       "      <th>0</th>\n",
       "      <td>0.496714</td>\n",
       "      <td>0.496714</td>\n",
       "      <td>0.496714</td>\n",
       "      <td>0.496714</td>\n",
       "      <td>0.496714</td>\n",
       "    </tr>\n",
       "    <tr>\n",
       "      <th>1</th>\n",
       "      <td>-0.138264</td>\n",
       "      <td>-0.138264</td>\n",
       "      <td>-0.138264</td>\n",
       "      <td>-0.138264</td>\n",
       "      <td>-0.138264</td>\n",
       "    </tr>\n",
       "    <tr>\n",
       "      <th>2</th>\n",
       "      <td>0.647689</td>\n",
       "      <td>0.647689</td>\n",
       "      <td>0.647689</td>\n",
       "      <td>0.647689</td>\n",
       "      <td>0.647689</td>\n",
       "    </tr>\n",
       "    <tr>\n",
       "      <th>3</th>\n",
       "      <td>1.523030</td>\n",
       "      <td>1.523030</td>\n",
       "      <td>1.523030</td>\n",
       "      <td>1.523030</td>\n",
       "      <td>1.523030</td>\n",
       "    </tr>\n",
       "    <tr>\n",
       "      <th>4</th>\n",
       "      <td>-0.234153</td>\n",
       "      <td>-0.234153</td>\n",
       "      <td>-0.234153</td>\n",
       "      <td>-0.234153</td>\n",
       "      <td>-0.234153</td>\n",
       "    </tr>\n",
       "    <tr>\n",
       "      <th>...</th>\n",
       "      <td>...</td>\n",
       "      <td>...</td>\n",
       "      <td>...</td>\n",
       "      <td>...</td>\n",
       "      <td>...</td>\n",
       "    </tr>\n",
       "    <tr>\n",
       "      <th>95</th>\n",
       "      <td>-1.463515</td>\n",
       "      <td>-1.463515</td>\n",
       "      <td>-1.463515</td>\n",
       "      <td>-1.463515</td>\n",
       "      <td>-1.463515</td>\n",
       "    </tr>\n",
       "    <tr>\n",
       "      <th>96</th>\n",
       "      <td>0.296120</td>\n",
       "      <td>0.296120</td>\n",
       "      <td>0.296120</td>\n",
       "      <td>0.296120</td>\n",
       "      <td>0.296120</td>\n",
       "    </tr>\n",
       "    <tr>\n",
       "      <th>97</th>\n",
       "      <td>0.261055</td>\n",
       "      <td>0.261055</td>\n",
       "      <td>0.261055</td>\n",
       "      <td>0.261055</td>\n",
       "      <td>0.261055</td>\n",
       "    </tr>\n",
       "    <tr>\n",
       "      <th>98</th>\n",
       "      <td>0.005113</td>\n",
       "      <td>0.005113</td>\n",
       "      <td>0.005113</td>\n",
       "      <td>0.005113</td>\n",
       "      <td>0.005113</td>\n",
       "    </tr>\n",
       "    <tr>\n",
       "      <th>99</th>\n",
       "      <td>-0.234587</td>\n",
       "      <td>-0.234587</td>\n",
       "      <td>-0.234587</td>\n",
       "      <td>-0.234587</td>\n",
       "      <td>-0.234587</td>\n",
       "    </tr>\n",
       "  </tbody>\n",
       "</table>\n",
       "<p>100 rows × 5 columns</p>\n",
       "</div>"
      ],
      "text/plain": [
       "          X1        X2        X3        X4         f\n",
       "0   0.496714  0.496714  0.496714  0.496714  0.496714\n",
       "1  -0.138264 -0.138264 -0.138264 -0.138264 -0.138264\n",
       "2   0.647689  0.647689  0.647689  0.647689  0.647689\n",
       "3   1.523030  1.523030  1.523030  1.523030  1.523030\n",
       "4  -0.234153 -0.234153 -0.234153 -0.234153 -0.234153\n",
       "..       ...       ...       ...       ...       ...\n",
       "95 -1.463515 -1.463515 -1.463515 -1.463515 -1.463515\n",
       "96  0.296120  0.296120  0.296120  0.296120  0.296120\n",
       "97  0.261055  0.261055  0.261055  0.261055  0.261055\n",
       "98  0.005113  0.005113  0.005113  0.005113  0.005113\n",
       "99 -0.234587 -0.234587 -0.234587 -0.234587 -0.234587\n",
       "\n",
       "[100 rows x 5 columns]"
      ]
     },
     "execution_count": 2,
     "metadata": {},
     "output_type": "execute_result"
    }
   ],
   "source": [
    "n = 100\n",
    "x1 = np.random.randn(n)\n",
    "x4 = x3 = x2 = x1\n",
    " \n",
    "X = pd.DataFrame.from_dict({'X1': x1, 'X2': x2, 'X3': x3, 'X4': x4}).loc[:, ['X1', 'X2', 'X3', 'X4']]\n",
    "f = lambda x: x[:, 3] # f only depend on X4\n",
    "f_d = pd.DataFrame.from_dict({'f': list(f(np.array(X)))})\n",
    "pd.concat((X, f_d), 1)"
   ]
  },
  {
   "cell_type": "markdown",
   "metadata": {},
   "source": [
    "Assume the following causal graph with f only depends on $X_4$ (despite having connection to all 4 variables)"
   ]
  },
  {
   "cell_type": "code",
   "execution_count": 3,
   "metadata": {},
   "outputs": [
    {
     "name": "stderr",
     "output_type": "stream",
     "text": [
      "0it [00:00, ?it/s]\n"
     ]
    },
    {
     "data": {
      "image/svg+xml": [
       "<?xml version=\"1.0\" encoding=\"UTF-8\" standalone=\"no\"?>\n",
       "<!DOCTYPE svg PUBLIC \"-//W3C//DTD SVG 1.1//EN\"\n",
       " \"http://www.w3.org/Graphics/SVG/1.1/DTD/svg11.dtd\">\n",
       "<!-- Generated by graphviz version 2.38.0 (20140413.2041)\n",
       " -->\n",
       "<!-- Title: %3 Pages: 1 -->\n",
       "<svg width=\"140pt\" height=\"332pt\"\n",
       " viewBox=\"0.00 0.00 139.99 332.00\" xmlns=\"http://www.w3.org/2000/svg\" xmlns:xlink=\"http://www.w3.org/1999/xlink\">\n",
       "<g id=\"graph0\" class=\"graph\" transform=\"scale(1 1) rotate(0) translate(4 328)\">\n",
       "<title>%3</title>\n",
       "<polygon fill=\"white\" stroke=\"none\" points=\"-4,4 -4,-328 135.994,-328 135.994,4 -4,4\"/>\n",
       "<!-- X2 -->\n",
       "<g id=\"node1\" class=\"node\"><title>X2</title>\n",
       "<ellipse fill=\"none\" stroke=\"black\" cx=\"77.9944\" cy=\"-234\" rx=\"27\" ry=\"18\"/>\n",
       "<text text-anchor=\"middle\" x=\"77.9944\" y=\"-230.3\" font-family=\"Times,serif\" font-size=\"14.00\">X2</text>\n",
       "</g>\n",
       "<!-- X3 -->\n",
       "<g id=\"node2\" class=\"node\"><title>X3</title>\n",
       "<ellipse fill=\"none\" stroke=\"black\" cx=\"39.9944\" cy=\"-162\" rx=\"27\" ry=\"18\"/>\n",
       "<text text-anchor=\"middle\" x=\"39.9944\" y=\"-158.3\" font-family=\"Times,serif\" font-size=\"14.00\">X3</text>\n",
       "</g>\n",
       "<!-- X2&#45;&gt;X3 -->\n",
       "<g id=\"edge1\" class=\"edge\"><title>X2&#45;&gt;X3</title>\n",
       "<path fill=\"none\" stroke=\"black\" d=\"M69.1809,-216.765C64.5767,-208.283 58.8394,-197.714 53.673,-188.197\"/>\n",
       "<polygon fill=\"black\" stroke=\"black\" points=\"56.607,-186.266 48.7601,-179.147 50.4551,-189.606 56.607,-186.266\"/>\n",
       "</g>\n",
       "<!-- f -->\n",
       "<g id=\"node3\" class=\"node\"><title>f</title>\n",
       "<ellipse fill=\"none\" stroke=\"black\" cx=\"66.9944\" cy=\"-18\" rx=\"27\" ry=\"18\"/>\n",
       "<text text-anchor=\"middle\" x=\"66.9944\" y=\"-14.3\" font-family=\"Times,serif\" font-size=\"14.00\">f</text>\n",
       "</g>\n",
       "<!-- X2&#45;&gt;f -->\n",
       "<g id=\"edge2\" class=\"edge\"><title>X2&#45;&gt;f</title>\n",
       "<path fill=\"none\" stroke=\"black\" d=\"M78.6643,-215.562C79.603,-185.971 80.709,-124.06 75.9944,-72 75.225,-63.5037 73.8576,-54.3178 72.4174,-46.018\"/>\n",
       "<polygon fill=\"black\" stroke=\"black\" points=\"75.8441,-45.2996 70.5937,-36.0973 68.9594,-46.5653 75.8441,-45.2996\"/>\n",
       "</g>\n",
       "<!-- X3&#45;&gt;f -->\n",
       "<g id=\"edge3\" class=\"edge\"><title>X3&#45;&gt;f</title>\n",
       "<path fill=\"none\" stroke=\"black\" d=\"M26.4871,-146.313C11.835,-128.506 -7.9641,-97.6877 3.9944,-72 11.0522,-56.8393 24.818,-44.4659 37.6861,-35.4988\"/>\n",
       "<polygon fill=\"black\" stroke=\"black\" points=\"39.8942,-38.2373 46.3579,-29.8426 36.0699,-32.3743 39.8942,-38.2373\"/>\n",
       "</g>\n",
       "<!-- X4 -->\n",
       "<g id=\"node4\" class=\"node\"><title>X4</title>\n",
       "<ellipse fill=\"none\" stroke=\"black\" cx=\"39.9944\" cy=\"-90\" rx=\"27\" ry=\"18\"/>\n",
       "<text text-anchor=\"middle\" x=\"39.9944\" y=\"-86.3\" font-family=\"Times,serif\" font-size=\"14.00\">X4</text>\n",
       "</g>\n",
       "<!-- X3&#45;&gt;X4 -->\n",
       "<g id=\"edge4\" class=\"edge\"><title>X3&#45;&gt;X4</title>\n",
       "<path fill=\"none\" stroke=\"black\" d=\"M39.9944,-143.697C39.9944,-135.983 39.9944,-126.712 39.9944,-118.112\"/>\n",
       "<polygon fill=\"black\" stroke=\"black\" points=\"43.4945,-118.104 39.9944,-108.104 36.4945,-118.104 43.4945,-118.104\"/>\n",
       "</g>\n",
       "<!-- X4&#45;&gt;f -->\n",
       "<g id=\"edge7\" class=\"edge\"><title>X4&#45;&gt;f</title>\n",
       "<path fill=\"none\" stroke=\"black\" d=\"M46.393,-72.411C49.508,-64.3352 53.3281,-54.4312 56.829,-45.3547\"/>\n",
       "<polygon fill=\"black\" stroke=\"black\" points=\"60.1209,-46.5458 60.4541,-35.9562 53.5899,-44.0267 60.1209,-46.5458\"/>\n",
       "</g>\n",
       "<!-- X1 -->\n",
       "<g id=\"node5\" class=\"node\"><title>X1</title>\n",
       "<ellipse fill=\"none\" stroke=\"black\" cx=\"104.994\" cy=\"-306\" rx=\"27\" ry=\"18\"/>\n",
       "<text text-anchor=\"middle\" x=\"104.994\" y=\"-302.3\" font-family=\"Times,serif\" font-size=\"14.00\">X1</text>\n",
       "</g>\n",
       "<!-- X1&#45;&gt;X2 -->\n",
       "<g id=\"edge5\" class=\"edge\"><title>X1&#45;&gt;X2</title>\n",
       "<path fill=\"none\" stroke=\"black\" d=\"M98.5958,-288.411C95.4808,-280.335 91.6607,-270.431 88.1598,-261.355\"/>\n",
       "<polygon fill=\"black\" stroke=\"black\" points=\"91.3989,-260.027 84.5346,-251.956 84.8679,-262.546 91.3989,-260.027\"/>\n",
       "</g>\n",
       "<!-- X1&#45;&gt;f -->\n",
       "<g id=\"edge6\" class=\"edge\"><title>X1&#45;&gt;f</title>\n",
       "<path fill=\"none\" stroke=\"black\" d=\"M108.648,-287.908C110.67,-277.569 112.975,-264.09 113.994,-252 120.765,-171.69 115.518,-149.086 91.9944,-72 89.1466,-62.6677 84.9238,-52.8892 80.7559,-44.3086\"/>\n",
       "<polygon fill=\"black\" stroke=\"black\" points=\"83.7916,-42.556 76.1498,-35.2175 77.5474,-45.7198 83.7916,-42.556\"/>\n",
       "</g>\n",
       "</g>\n",
       "</svg>\n"
      ],
      "text/plain": [
       "<graphviz.files.Source at 0x7fa78467e610>"
      ]
     },
     "metadata": {},
     "output_type": "display_data"
    }
   ],
   "source": [
    "causal_links = CausalLinks()\n",
    "target_name = 'f'\n",
    "feature_names = list(X.columns)\n",
    "\n",
    "# build causal links\n",
    "causal_links.add_causes_effects(feature_names, target_name, lambda *args: f(np.vstack(args).T))\n",
    "causal_links.add_causes_effects('X1', 'X2', lambda x: x)\n",
    "causal_links.add_causes_effects('X2', 'X3', lambda x: x)\n",
    "causal_links.add_causes_effects('X3', 'X4', lambda x: x)\n",
    "causal_graph = build_feature_graph(X.fillna(X.mean()), causal_links, target_name=target_name)\n",
    "\n",
    "causal_graph.draw()"
   ]
  },
  {
   "cell_type": "markdown",
   "metadata": {},
   "source": [
    "## Explanation settings"
   ]
  },
  {
   "cell_type": "code",
   "execution_count": 4,
   "metadata": {},
   "outputs": [],
   "source": [
    "nsamples = 100 # number of foreground samples to explain\n",
    "nruns = 100 # number of monte carlo samples\n",
    "sample_ind = 1\n",
    "bg = X.fillna(X.mean()).sample(1) # background sample, no need for multiple sample because of the linearity axiom\n",
    "fg = X[:nsamples] # foreground samples to explain"
   ]
  },
  {
   "cell_type": "markdown",
   "metadata": {},
   "source": [
    "## Explain"
   ]
  },
  {
   "cell_type": "code",
   "execution_count": 5,
   "metadata": {},
   "outputs": [
    {
     "name": "stderr",
     "output_type": "stream",
     "text": [
      "manifold bg samples: 100%|██████████| 100/100 [00:04<00:00, 20.20it/s]\n"
     ]
    }
   ],
   "source": [
    "explainer = OnManifoldExplainer(f, pd.concat([bg, X]), nruns=nruns, sigma_sq=1e-10) # small sigma only awards exact match\n",
    "cf_on_manifold = explainer.shap_values(fg)"
   ]
  },
  {
   "cell_type": "code",
   "execution_count": 6,
   "metadata": {},
   "outputs": [
    {
     "name": "stderr",
     "output_type": "stream",
     "text": [
      "100%|██████████| 100/100 [00:00<00:00, 9000.85it/s]\n"
     ]
    }
   ],
   "source": [
    "explainer = IndExplainer(f, bg, nruns=nruns)\n",
    "cf_ind = explainer.shap_values(fg)"
   ]
  },
  {
   "cell_type": "code",
   "execution_count": 7,
   "metadata": {},
   "outputs": [
    {
     "name": "stderr",
     "output_type": "stream",
     "text": [
      "manifold bg samples: 100%|██████████| 100/100 [00:05<00:00, 17.67it/s]\n"
     ]
    }
   ],
   "source": [
    "# second way of implemeting ASV beside using flow\n",
    "explainer = OnManifoldExplainer(f, pd.concat([bg, X]), nruns=nruns, orderings=[[0, 1, 2, 3]], sigma_sq=1e-10)\n",
    "cf_asv = explainer.shap_values(fg)"
   ]
  },
  {
   "cell_type": "code",
   "execution_count": 8,
   "metadata": {},
   "outputs": [
    {
     "name": "stderr",
     "output_type": "stream",
     "text": [
      "bruteforce sampling: 100%|██████████| 100/100 [00:00<00:00, 2482.34it/s]\n"
     ]
    }
   ],
   "source": [
    "cf_flow = GraphExplainer(causal_graph, bg, nruns=nruns).shap_values(fg, rankdir='LR')"
   ]
  },
  {
   "cell_type": "markdown",
   "metadata": {},
   "source": [
    "## Sample explanation visualization"
   ]
  },
  {
   "cell_type": "code",
   "execution_count": 9,
   "metadata": {},
   "outputs": [
    {
     "name": "stdout",
     "output_type": "stream",
     "text": [
      "Shapley Flow\n"
     ]
    },
    {
     "data": {
      "image/svg+xml": [
       "<?xml version=\"1.0\" encoding=\"UTF-8\" standalone=\"no\"?>\n",
       "<!DOCTYPE svg PUBLIC \"-//W3C//DTD SVG 1.1//EN\"\n",
       " \"http://www.w3.org/Graphics/SVG/1.1/DTD/svg11.dtd\">\n",
       "<!-- Generated by graphviz version 2.38.0 (20140413.2041)\n",
       " -->\n",
       "<!-- Title: %3 Pages: 1 -->\n",
       "<svg width=\"522pt\" height=\"114pt\"\n",
       " viewBox=\"0.00 0.00 522.00 114.00\" xmlns=\"http://www.w3.org/2000/svg\" xmlns:xlink=\"http://www.w3.org/1999/xlink\">\n",
       "<g id=\"graph0\" class=\"graph\" transform=\"scale(1 1) rotate(0) translate(4 110)\">\n",
       "<title>%3</title>\n",
       "<polygon fill=\"white\" stroke=\"none\" points=\"-4,4 -4,-110 518,-110 518,4 -4,4\"/>\n",
       "<!-- X1 -->\n",
       "<g id=\"node1\" class=\"node\"><title>X1</title>\n",
       "<ellipse fill=\"none\" stroke=\"black\" cx=\"27\" cy=\"-54\" rx=\"27\" ry=\"18\"/>\n",
       "<text text-anchor=\"middle\" x=\"27\" y=\"-50.3\" font-family=\"Times,serif\" font-size=\"14.00\">X1</text>\n",
       "</g>\n",
       "<!-- f -->\n",
       "<g id=\"node2\" class=\"node\"><title>f</title>\n",
       "<ellipse fill=\"none\" stroke=\"black\" cx=\"487\" cy=\"-48\" rx=\"27\" ry=\"18\"/>\n",
       "<text text-anchor=\"middle\" x=\"487\" y=\"-44.3\" font-family=\"Times,serif\" font-size=\"14.00\">f</text>\n",
       "</g>\n",
       "<!-- X1&#45;&gt;f -->\n",
       "<g id=\"edge1\" class=\"edge\"><title>X1&#45;&gt;f</title>\n",
       "<path fill=\"none\" stroke=\"#ff0051\" stroke-width=\"0.05\" d=\"M52.6832,-59.8695C103.685,-71.3914 224.5,-95.5547 327,-92 359.058,-90.8882 367.06,-89.9644 399,-87 418.158,-85.222 424.182,-89.2582 442,-82 449.376,-78.9955 456.567,-74.3964 462.927,-69.5425\"/>\n",
       "<polygon fill=\"#ff0051\" stroke=\"#ff0051\" stroke-width=\"0.05\" points=\"465.518,-71.9436 471.024,-62.8915 461.075,-66.5346 465.518,-71.9436\"/>\n",
       "<text text-anchor=\"middle\" x=\"257\" y=\"-94.8\" font-family=\"Times,serif\" font-size=\"14.00\" fill=\"#ff0051\">0.00</text>\n",
       "</g>\n",
       "<!-- X2 -->\n",
       "<g id=\"node3\" class=\"node\"><title>X2</title>\n",
       "<ellipse fill=\"none\" stroke=\"black\" cx=\"142\" cy=\"-29\" rx=\"27\" ry=\"18\"/>\n",
       "<text text-anchor=\"middle\" x=\"142\" y=\"-25.3\" font-family=\"Times,serif\" font-size=\"14.00\">X2</text>\n",
       "</g>\n",
       "<!-- X1&#45;&gt;X2 -->\n",
       "<g id=\"edge2\" class=\"edge\"><title>X1&#45;&gt;X2</title>\n",
       "<path fill=\"none\" stroke=\"#ff0051\" stroke-width=\"5\" d=\"M52.1193,-47.0485C58.5531,-45.2967 65.5185,-43.4919 72,-42 82.8928,-39.4927 94.8347,-37.1137 105.677,-35.0928\"/>\n",
       "<polygon fill=\"#ff0051\" stroke=\"#ff0051\" stroke-width=\"5\" points=\"106.611,-39.3697 115.665,-33.2724 105.042,-30.7615 106.611,-39.3697\"/>\n",
       "<text text-anchor=\"middle\" x=\"84.5\" y=\"-45.8\" font-family=\"Times,serif\" font-size=\"14.00\" fill=\"#ff0051\">0.46</text>\n",
       "</g>\n",
       "<!-- X2&#45;&gt;f -->\n",
       "<g id=\"edge3\" class=\"edge\"><title>X2&#45;&gt;f</title>\n",
       "<path fill=\"none\" stroke=\"#ff0051\" stroke-width=\"0.05\" d=\"M165.087,-38.5539C172.004,-41.2679 179.731,-44.0202 187,-46 278.592,-70.9446 304.3,-78.5751 399,-72 418.25,-70.6635 423.37,-71.0255 442,-66 446.213,-64.8634 450.563,-63.4285 454.814,-61.8669\"/>\n",
       "<polygon fill=\"#ff0051\" stroke=\"#ff0051\" stroke-width=\"0.05\" points=\"456.418,-64.9965 464.439,-58.0742 453.852,-58.4839 456.418,-64.9965\"/>\n",
       "<text text-anchor=\"middle\" x=\"314.5\" y=\"-76.8\" font-family=\"Times,serif\" font-size=\"14.00\" fill=\"#ff0051\">0.00</text>\n",
       "</g>\n",
       "<!-- X3 -->\n",
       "<g id=\"node4\" class=\"node\"><title>X3</title>\n",
       "<ellipse fill=\"none\" stroke=\"black\" cx=\"257\" cy=\"-23\" rx=\"27\" ry=\"18\"/>\n",
       "<text text-anchor=\"middle\" x=\"257\" y=\"-19.3\" font-family=\"Times,serif\" font-size=\"14.00\">X3</text>\n",
       "</g>\n",
       "<!-- X2&#45;&gt;X3 -->\n",
       "<g id=\"edge4\" class=\"edge\"><title>X2&#45;&gt;X3</title>\n",
       "<path fill=\"none\" stroke=\"#ff0051\" stroke-width=\"5\" d=\"M168.924,-27.6235C183.891,-26.8288 202.953,-25.8167 219.424,-24.9421\"/>\n",
       "<polygon fill=\"#ff0051\" stroke=\"#ff0051\" stroke-width=\"5\" points=\"220.051,-29.2901 229.805,-24.3909 219.587,-20.5524 220.051,-29.2901\"/>\n",
       "<text text-anchor=\"middle\" x=\"199.5\" y=\"-30.8\" font-family=\"Times,serif\" font-size=\"14.00\" fill=\"#ff0051\">0.46</text>\n",
       "</g>\n",
       "<!-- X3&#45;&gt;f -->\n",
       "<g id=\"edge5\" class=\"edge\"><title>X3&#45;&gt;f</title>\n",
       "<path fill=\"none\" stroke=\"#ff0051\" stroke-width=\"0.05\" d=\"M280.031,-32.7664C286.946,-35.489 294.686,-38.1928 302,-40 362.627,-54.9797 379.614,-54.8299 442,-52 444.548,-51.8844 447.176,-51.7314 449.821,-51.5526\"/>\n",
       "<polygon fill=\"#ff0051\" stroke=\"#ff0051\" stroke-width=\"0.05\" points=\"450.271,-55.0282 459.968,-50.7599 449.726,-48.0494 450.271,-55.0282\"/>\n",
       "<text text-anchor=\"middle\" x=\"372\" y=\"-56.8\" font-family=\"Times,serif\" font-size=\"14.00\" fill=\"#ff0051\">0.00</text>\n",
       "</g>\n",
       "<!-- X4 -->\n",
       "<g id=\"node5\" class=\"node\"><title>X4</title>\n",
       "<ellipse fill=\"none\" stroke=\"black\" cx=\"372\" cy=\"-18\" rx=\"27\" ry=\"18\"/>\n",
       "<text text-anchor=\"middle\" x=\"372\" y=\"-14.3\" font-family=\"Times,serif\" font-size=\"14.00\">X4</text>\n",
       "</g>\n",
       "<!-- X3&#45;&gt;X4 -->\n",
       "<g id=\"edge6\" class=\"edge\"><title>X3&#45;&gt;X4</title>\n",
       "<path fill=\"none\" stroke=\"#ff0051\" stroke-width=\"5\" d=\"M284.208,-21.8403C299.184,-21.1777 318.19,-20.3367 334.596,-19.6108\"/>\n",
       "<polygon fill=\"#ff0051\" stroke=\"#ff0051\" stroke-width=\"5\" points=\"335.137,-23.9662 344.934,-19.1534 334.75,-15.2248 335.137,-23.9662\"/>\n",
       "<text text-anchor=\"middle\" x=\"314.5\" y=\"-24.8\" font-family=\"Times,serif\" font-size=\"14.00\" fill=\"#ff0051\">0.46</text>\n",
       "</g>\n",
       "<!-- X4&#45;&gt;f -->\n",
       "<g id=\"edge7\" class=\"edge\"><title>X4&#45;&gt;f</title>\n",
       "<path fill=\"none\" stroke=\"#ff0051\" stroke-width=\"5\" d=\"M397.241,-24.4358C413.071,-28.6383 433.981,-34.1895 451.529,-38.8484\"/>\n",
       "<polygon fill=\"#ff0051\" stroke=\"#ff0051\" stroke-width=\"5\" points=\"450.621,-43.1338 461.409,-41.4714 452.866,-34.6768 450.621,-43.1338\"/>\n",
       "<text text-anchor=\"middle\" x=\"429.5\" y=\"-38.8\" font-family=\"Times,serif\" font-size=\"14.00\" fill=\"#ff0051\">0.46</text>\n",
       "</g>\n",
       "</g>\n",
       "</svg>\n"
      ],
      "text/plain": [
       "<graphviz.files.Source at 0x7fa784685590>"
      ]
     },
     "metadata": {},
     "output_type": "display_data"
    }
   ],
   "source": [
    "print('Shapley Flow')\n",
    "cf_flow.fold_noise = True\n",
    "g = cf_flow.draw(sample_ind, show_fg_val=False)"
   ]
  },
  {
   "cell_type": "markdown",
   "metadata": {},
   "source": [
    "Observe that only Shapley Flow captures the direct and indirect effect of features for this simple chain dataset"
   ]
  },
  {
   "cell_type": "code",
   "execution_count": 10,
   "metadata": {},
   "outputs": [
    {
     "name": "stdout",
     "output_type": "stream",
     "text": [
      "On manifold SHAP\n"
     ]
    },
    {
     "data": {
      "image/png": "[encoded data removed]",
      "text/plain": [
       "<Figure size 432x288 with 1 Axes>"
      ]
     },
     "metadata": {
      "needs_background": "light"
     },
     "output_type": "display_data"
    },
    {
     "data": {
      "text/html": [
       "<div>\n",
       "<style scoped>\n",
       "    .dataframe tbody tr th:only-of-type {\n",
       "        vertical-align: middle;\n",
       "    }\n",
       "\n",
       "    .dataframe tbody tr th {\n",
       "        vertical-align: top;\n",
       "    }\n",
       "\n",
       "    .dataframe thead th {\n",
       "        text-align: right;\n",
       "    }\n",
       "</style>\n",
       "<table border=\"1\" class=\"dataframe\">\n",
       "  <thead>\n",
       "    <tr style=\"text-align: right;\">\n",
       "      <th></th>\n",
       "      <th>X1</th>\n",
       "      <th>X2</th>\n",
       "      <th>X3</th>\n",
       "      <th>X4</th>\n",
       "    </tr>\n",
       "  </thead>\n",
       "  <tbody>\n",
       "    <tr>\n",
       "      <th>1</th>\n",
       "      <td>0.115861</td>\n",
       "      <td>0.115861</td>\n",
       "      <td>0.115861</td>\n",
       "      <td>0.115861</td>\n",
       "    </tr>\n",
       "  </tbody>\n",
       "</table>\n",
       "</div>"
      ],
      "text/plain": [
       "         X1        X2        X3        X4\n",
       "1  0.115861  0.115861  0.115861  0.115861"
      ]
     },
     "execution_count": 10,
     "metadata": {},
     "output_type": "execute_result"
    }
   ],
   "source": [
    "print('On manifold SHAP')\n",
    "cf_on_manifold.draw(sample_ind, show=False)\n",
    "plt.tight_layout()\n",
    "plt.show()\n",
    "cf_on_manifold.print(sample_ind)"
   ]
  },
  {
   "cell_type": "markdown",
   "metadata": {},
   "source": [
    "On manifold SHAP equally divide the influence."
   ]
  },
  {
   "cell_type": "code",
   "execution_count": 11,
   "metadata": {},
   "outputs": [
    {
     "name": "stdout",
     "output_type": "stream",
     "text": [
      "Independent SHAP\n"
     ]
    },
    {
     "data": {
      "image/png": "[encoded data removed]",
      "text/plain": [
       "<Figure size 432x288 with 1 Axes>"
      ]
     },
     "metadata": {
      "needs_background": "light"
     },
     "output_type": "display_data"
    },
    {
     "data": {
      "text/html": [
       "<div>\n",
       "<style scoped>\n",
       "    .dataframe tbody tr th:only-of-type {\n",
       "        vertical-align: middle;\n",
       "    }\n",
       "\n",
       "    .dataframe tbody tr th {\n",
       "        vertical-align: top;\n",
       "    }\n",
       "\n",
       "    .dataframe thead th {\n",
       "        text-align: right;\n",
       "    }\n",
       "</style>\n",
       "<table border=\"1\" class=\"dataframe\">\n",
       "  <thead>\n",
       "    <tr style=\"text-align: right;\">\n",
       "      <th></th>\n",
       "      <th>X1</th>\n",
       "      <th>X2</th>\n",
       "      <th>X3</th>\n",
       "      <th>X4</th>\n",
       "    </tr>\n",
       "  </thead>\n",
       "  <tbody>\n",
       "    <tr>\n",
       "      <th>1</th>\n",
       "      <td>0.0</td>\n",
       "      <td>0.0</td>\n",
       "      <td>0.0</td>\n",
       "      <td>0.463442</td>\n",
       "    </tr>\n",
       "  </tbody>\n",
       "</table>\n",
       "</div>"
      ],
      "text/plain": [
       "    X1   X2   X3        X4\n",
       "1  0.0  0.0  0.0  0.463442"
      ]
     },
     "execution_count": 11,
     "metadata": {},
     "output_type": "execute_result"
    }
   ],
   "source": [
    "print('Independent SHAP')\n",
    "cf_ind.draw(sample_ind, show=False)\n",
    "plt.tight_layout()\n",
    "plt.show()\n",
    "cf_ind.print(sample_ind)"
   ]
  },
  {
   "cell_type": "markdown",
   "metadata": {},
   "source": [
    "Independent SHAP only shows the direct impact."
   ]
  },
  {
   "cell_type": "code",
   "execution_count": 12,
   "metadata": {},
   "outputs": [
    {
     "name": "stdout",
     "output_type": "stream",
     "text": [
      "ASV (note: only non-zero attribution nodes are shown)\n"
     ]
    },
    {
     "data": {
      "image/svg+xml": [
       "<?xml version=\"1.0\" encoding=\"UTF-8\" standalone=\"no\"?>\n",
       "<!DOCTYPE svg PUBLIC \"-//W3C//DTD SVG 1.1//EN\"\n",
       " \"http://www.w3.org/Graphics/SVG/1.1/DTD/svg11.dtd\">\n",
       "<!-- Generated by graphviz version 2.38.0 (20140413.2041)\n",
       " -->\n",
       "<!-- Title: %3 Pages: 1 -->\n",
       "<svg width=\"177pt\" height=\"44pt\"\n",
       " viewBox=\"0.00 0.00 177.00 44.00\" xmlns=\"http://www.w3.org/2000/svg\" xmlns:xlink=\"http://www.w3.org/1999/xlink\">\n",
       "<g id=\"graph0\" class=\"graph\" transform=\"scale(1 1) rotate(0) translate(4 40)\">\n",
       "<title>%3</title>\n",
       "<polygon fill=\"white\" stroke=\"none\" points=\"-4,4 -4,-40 173,-40 173,4 -4,4\"/>\n",
       "<!-- X1 -->\n",
       "<g id=\"node1\" class=\"node\"><title>X1</title>\n",
       "<ellipse fill=\"none\" stroke=\"black\" cx=\"27\" cy=\"-18\" rx=\"27\" ry=\"18\"/>\n",
       "<text text-anchor=\"middle\" x=\"27\" y=\"-14.3\" font-family=\"Times,serif\" font-size=\"14.00\">X1</text>\n",
       "</g>\n",
       "<!-- f -->\n",
       "<g id=\"node2\" class=\"node\"><title>f</title>\n",
       "<ellipse fill=\"none\" stroke=\"black\" cx=\"142\" cy=\"-18\" rx=\"27\" ry=\"18\"/>\n",
       "<text text-anchor=\"middle\" x=\"142\" y=\"-14.3\" font-family=\"Times,serif\" font-size=\"14.00\">f</text>\n",
       "</g>\n",
       "<!-- X1&#45;&gt;f -->\n",
       "<g id=\"edge1\" class=\"edge\"><title>X1&#45;&gt;f</title>\n",
       "<path fill=\"none\" stroke=\"#ff0051\" stroke-width=\"5\" d=\"M54.2085,-18C69.1836,-18 88.1896,-18 104.596,-18\"/>\n",
       "<polygon fill=\"#ff0051\" stroke=\"#ff0051\" stroke-width=\"5\" points=\"104.934,-22.3751 114.934,-18 104.934,-13.6251 104.934,-22.3751\"/>\n",
       "<text text-anchor=\"middle\" x=\"84.5\" y=\"-21.8\" font-family=\"Times,serif\" font-size=\"14.00\" fill=\"#ff0051\">0.46</text>\n",
       "</g>\n",
       "</g>\n",
       "</svg>\n"
      ],
      "text/plain": [
       "<graphviz.files.Source at 0x7fa768a67350>"
      ]
     },
     "metadata": {},
     "output_type": "display_data"
    },
    {
     "data": {
      "text/html": [
       "<div>\n",
       "<style scoped>\n",
       "    .dataframe tbody tr th:only-of-type {\n",
       "        vertical-align: middle;\n",
       "    }\n",
       "\n",
       "    .dataframe tbody tr th {\n",
       "        vertical-align: top;\n",
       "    }\n",
       "\n",
       "    .dataframe thead th {\n",
       "        text-align: right;\n",
       "    }\n",
       "</style>\n",
       "<table border=\"1\" class=\"dataframe\">\n",
       "  <thead>\n",
       "    <tr style=\"text-align: right;\">\n",
       "      <th></th>\n",
       "      <th>X1</th>\n",
       "      <th>X2</th>\n",
       "      <th>X3</th>\n",
       "      <th>X4</th>\n",
       "    </tr>\n",
       "  </thead>\n",
       "  <tbody>\n",
       "    <tr>\n",
       "      <th>1</th>\n",
       "      <td>0.463442</td>\n",
       "      <td>0.0</td>\n",
       "      <td>0.0</td>\n",
       "      <td>0.0</td>\n",
       "    </tr>\n",
       "  </tbody>\n",
       "</table>\n",
       "</div>"
      ],
      "text/plain": [
       "         X1   X2   X3   X4\n",
       "1  0.463442  0.0  0.0  0.0"
      ]
     },
     "execution_count": 12,
     "metadata": {},
     "output_type": "execute_result"
    }
   ],
   "source": [
    "print('ASV (note: only non-zero attribution nodes are shown)')\n",
    "cf_flow.fold_noise = False\n",
    "cf_flow.draw_asv(sample_ind, show_fg_val=False)\n",
    "# alternative implementation of ASV\n",
    "cf_asv.print(sample_ind)"
   ]
  },
  {
   "cell_type": "markdown",
   "metadata": {},
   "source": [
    "ASV only shows the indirect impact"
   ]
  },
  {
   "cell_type": "markdown",
   "metadata": {},
   "source": [
    "# Linear random graph example\n",
    "\n",
    "## Dataset and Model"
   ]
  },
  {
   "cell_type": "code",
   "execution_count": 13,
   "metadata": {},
   "outputs": [
    {
     "name": "stdout",
     "output_type": "stream",
     "text": [
      "10 nodes\n"
     ]
    },
    {
     "data": {
      "image/svg+xml": [
       "<?xml version=\"1.0\" encoding=\"UTF-8\" standalone=\"no\"?>\n",
       "<!DOCTYPE svg PUBLIC \"-//W3C//DTD SVG 1.1//EN\"\n",
       " \"http://www.w3.org/Graphics/SVG/1.1/DTD/svg11.dtd\">\n",
       "<!-- Generated by graphviz version 2.38.0 (20140413.2041)\n",
       " -->\n",
       "<!-- Title: %3 Pages: 1 -->\n",
       "<svg width=\"554pt\" height=\"260pt\"\n",
       " viewBox=\"0.00 0.00 554.22 260.00\" xmlns=\"http://www.w3.org/2000/svg\" xmlns:xlink=\"http://www.w3.org/1999/xlink\">\n",
       "<g id=\"graph0\" class=\"graph\" transform=\"scale(1 1) rotate(0) translate(4 256)\">\n",
       "<title>%3</title>\n",
       "<polygon fill=\"white\" stroke=\"none\" points=\"-4,4 -4,-256 550.216,-256 550.216,4 -4,4\"/>\n",
       "<!-- j -->\n",
       "<g id=\"node1\" class=\"node\"><title>j</title>\n",
       "<ellipse fill=\"none\" stroke=\"black\" cx=\"41.2161\" cy=\"-162\" rx=\"27\" ry=\"18\"/>\n",
       "<text text-anchor=\"middle\" x=\"41.2161\" y=\"-158.3\" font-family=\"Times,serif\" font-size=\"14.00\">j</text>\n",
       "</g>\n",
       "<!-- Y -->\n",
       "<g id=\"node2\" class=\"node\"><title>Y</title>\n",
       "<ellipse fill=\"none\" stroke=\"black\" cx=\"287.216\" cy=\"-18\" rx=\"27\" ry=\"18\"/>\n",
       "<text text-anchor=\"middle\" x=\"287.216\" y=\"-14.3\" font-family=\"Times,serif\" font-size=\"14.00\">Y</text>\n",
       "</g>\n",
       "<!-- j&#45;&gt;Y -->\n",
       "<g id=\"edge1\" class=\"edge\"><title>j&#45;&gt;Y</title>\n",
       "<path fill=\"none\" stroke=\"black\" d=\"M44.4747,-143.894C49.225,-123.706 60.023,-90.5436 82.2161,-72 130.269,-31.8491 205.139,-21.665 249.862,-19.3449\"/>\n",
       "<polygon fill=\"black\" stroke=\"black\" points=\"250.16,-22.8357 260.007,-18.9271 249.872,-15.8416 250.16,-22.8357\"/>\n",
       "</g>\n",
       "<!-- b -->\n",
       "<g id=\"node3\" class=\"node\"><title>b</title>\n",
       "<ellipse fill=\"none\" stroke=\"black\" cx=\"117.216\" cy=\"-234\" rx=\"27\" ry=\"18\"/>\n",
       "<text text-anchor=\"middle\" x=\"117.216\" y=\"-230.3\" font-family=\"Times,serif\" font-size=\"14.00\">b</text>\n",
       "</g>\n",
       "<!-- b&#45;&gt;j -->\n",
       "<g id=\"edge2\" class=\"edge\"><title>b&#45;&gt;j</title>\n",
       "<path fill=\"none\" stroke=\"black\" d=\"M101.836,-218.834C91.0201,-208.872 76.3593,-195.369 64.165,-184.137\"/>\n",
       "<polygon fill=\"black\" stroke=\"black\" points=\"66.2997,-181.345 56.573,-177.144 61.5573,-186.494 66.2997,-181.345\"/>\n",
       "</g>\n",
       "<!-- b&#45;&gt;Y -->\n",
       "<g id=\"edge3\" class=\"edge\"><title>b&#45;&gt;Y</title>\n",
       "<path fill=\"none\" stroke=\"black\" d=\"M91.0384,-228.828C64.2497,-223.012 23.9723,-209.626 5.21614,-180 -3.34244,-166.481 0.5065,-159.291 5.21614,-144 16.6098,-107.007 22.2356,-93.8064 54.2161,-72 114.089,-31.175 200.739,-21.387 249.746,-19.288\"/>\n",
       "<polygon fill=\"black\" stroke=\"black\" points=\"250.026,-22.7806 259.901,-18.9409 249.787,-15.7847 250.026,-22.7806\"/>\n",
       "</g>\n",
       "<!-- h -->\n",
       "<g id=\"node4\" class=\"node\"><title>h</title>\n",
       "<ellipse fill=\"none\" stroke=\"black\" cx=\"375.216\" cy=\"-162\" rx=\"27\" ry=\"18\"/>\n",
       "<text text-anchor=\"middle\" x=\"375.216\" y=\"-158.3\" font-family=\"Times,serif\" font-size=\"14.00\">h</text>\n",
       "</g>\n",
       "<!-- b&#45;&gt;h -->\n",
       "<g id=\"edge4\" class=\"edge\"><title>b&#45;&gt;h</title>\n",
       "<path fill=\"none\" stroke=\"black\" d=\"M137.849,-222.364C142.801,-220.063 148.13,-217.787 153.216,-216 162.096,-212.881 280.091,-185.195 340.335,-171.128\"/>\n",
       "<polygon fill=\"black\" stroke=\"black\" points=\"341.236,-174.512 350.179,-168.831 339.645,-167.695 341.236,-174.512\"/>\n",
       "</g>\n",
       "<!-- i -->\n",
       "<g id=\"node5\" class=\"node\"><title>i</title>\n",
       "<ellipse fill=\"none\" stroke=\"black\" cx=\"367.216\" cy=\"-90\" rx=\"27\" ry=\"18\"/>\n",
       "<text text-anchor=\"middle\" x=\"367.216\" y=\"-86.3\" font-family=\"Times,serif\" font-size=\"14.00\">i</text>\n",
       "</g>\n",
       "<!-- b&#45;&gt;i -->\n",
       "<g id=\"edge5\" class=\"edge\"><title>b&#45;&gt;i</title>\n",
       "<path fill=\"none\" stroke=\"black\" d=\"M128.349,-217.188C143.086,-197.368 170.891,-163.622 202.216,-144 242.539,-118.742 296.008,-104.465 330.994,-97.2406\"/>\n",
       "<polygon fill=\"black\" stroke=\"black\" points=\"332.091,-100.592 341.223,-95.2206 330.735,-93.7243 332.091,-100.592\"/>\n",
       "</g>\n",
       "<!-- g -->\n",
       "<g id=\"node6\" class=\"node\"><title>g</title>\n",
       "<ellipse fill=\"none\" stroke=\"black\" cx=\"265.216\" cy=\"-162\" rx=\"27\" ry=\"18\"/>\n",
       "<text text-anchor=\"middle\" x=\"265.216\" y=\"-158.3\" font-family=\"Times,serif\" font-size=\"14.00\">g</text>\n",
       "</g>\n",
       "<!-- b&#45;&gt;g -->\n",
       "<g id=\"edge6\" class=\"edge\"><title>b&#45;&gt;g</title>\n",
       "<path fill=\"none\" stroke=\"black\" d=\"M138.737,-222.821C163.947,-210.898 205.898,-191.056 234.518,-177.519\"/>\n",
       "<polygon fill=\"black\" stroke=\"black\" points=\"236.126,-180.631 243.67,-173.191 233.133,-174.303 236.126,-180.631\"/>\n",
       "</g>\n",
       "<!-- h&#45;&gt;Y -->\n",
       "<g id=\"edge7\" class=\"edge\"><title>h&#45;&gt;Y</title>\n",
       "<path fill=\"none\" stroke=\"black\" d=\"M361.519,-146.421C352.289,-136.16 340.205,-121.84 331.216,-108 318.146,-87.8755 306.279,-63.3182 298.171,-45.101\"/>\n",
       "<polygon fill=\"black\" stroke=\"black\" points=\"301.277,-43.4673 294.071,-35.7011 294.861,-46.2664 301.277,-43.4673\"/>\n",
       "</g>\n",
       "<!-- h&#45;&gt;i -->\n",
       "<g id=\"edge8\" class=\"edge\"><title>h&#45;&gt;i</title>\n",
       "<path fill=\"none\" stroke=\"black\" d=\"M373.239,-143.697C372.357,-135.983 371.298,-126.712 370.315,-118.112\"/>\n",
       "<polygon fill=\"black\" stroke=\"black\" points=\"373.784,-117.642 369.171,-108.104 366.829,-118.437 373.784,-117.642\"/>\n",
       "</g>\n",
       "<!-- i&#45;&gt;Y -->\n",
       "<g id=\"edge9\" class=\"edge\"><title>i&#45;&gt;Y</title>\n",
       "<path fill=\"none\" stroke=\"black\" d=\"M351.411,-75.1703C339.796,-65.0075 323.822,-51.0304 310.715,-39.5614\"/>\n",
       "<polygon fill=\"black\" stroke=\"black\" points=\"312.819,-36.7521 302.989,-32.801 308.21,-42.0201 312.819,-36.7521\"/>\n",
       "</g>\n",
       "<!-- g&#45;&gt;Y -->\n",
       "<g id=\"edge10\" class=\"edge\"><title>g&#45;&gt;Y</title>\n",
       "<path fill=\"none\" stroke=\"black\" d=\"M267.87,-143.871C271.619,-119.67 278.507,-75.2108 282.972,-46.3932\"/>\n",
       "<polygon fill=\"black\" stroke=\"black\" points=\"286.481,-46.6073 284.553,-36.1893 279.563,-45.5355 286.481,-46.6073\"/>\n",
       "</g>\n",
       "<!-- f -->\n",
       "<g id=\"node7\" class=\"node\"><title>f</title>\n",
       "<ellipse fill=\"none\" stroke=\"black\" cx=\"189.216\" cy=\"-234\" rx=\"27\" ry=\"18\"/>\n",
       "<text text-anchor=\"middle\" x=\"189.216\" y=\"-230.3\" font-family=\"Times,serif\" font-size=\"14.00\">f</text>\n",
       "</g>\n",
       "<!-- f&#45;&gt;j -->\n",
       "<g id=\"edge11\" class=\"edge\"><title>f&#45;&gt;j</title>\n",
       "<path fill=\"none\" stroke=\"black\" d=\"M167.696,-222.821C142.486,-210.898 100.534,-191.056 71.9139,-177.519\"/>\n",
       "<polygon fill=\"black\" stroke=\"black\" points=\"73.2989,-174.303 62.7626,-173.191 70.306,-180.631 73.2989,-174.303\"/>\n",
       "</g>\n",
       "<!-- f&#45;&gt;Y -->\n",
       "<g id=\"edge12\" class=\"edge\"><title>f&#45;&gt;Y</title>\n",
       "<path fill=\"none\" stroke=\"black\" d=\"M190.097,-215.911C191.404,-197.725 194.589,-168.283 202.216,-144 212.937,-109.867 217.87,-101.428 238.216,-72 245.899,-60.8872 255.802,-49.7344 264.692,-40.5463\"/>\n",
       "<polygon fill=\"black\" stroke=\"black\" points=\"267.289,-42.8974 271.85,-33.3343 262.321,-37.9662 267.289,-42.8974\"/>\n",
       "</g>\n",
       "<!-- f&#45;&gt;h -->\n",
       "<g id=\"edge13\" class=\"edge\"><title>f&#45;&gt;h</title>\n",
       "<path fill=\"none\" stroke=\"black\" d=\"M212.397,-224.276C245.295,-211.895 305.66,-189.177 342.926,-175.152\"/>\n",
       "<polygon fill=\"black\" stroke=\"black\" points=\"344.201,-178.412 352.327,-171.614 341.735,-171.861 344.201,-178.412\"/>\n",
       "</g>\n",
       "<!-- f&#45;&gt;i -->\n",
       "<g id=\"edge14\" class=\"edge\"><title>f&#45;&gt;i</title>\n",
       "<path fill=\"none\" stroke=\"black\" d=\"M192.729,-215.966C197.647,-196.158 208.417,-163.672 229.216,-144 257.527,-117.223 300.801,-103.565 331.329,-96.884\"/>\n",
       "<polygon fill=\"black\" stroke=\"black\" points=\"332.056,-100.308 341.153,-94.8767 330.655,-93.4495 332.056,-100.308\"/>\n",
       "</g>\n",
       "<!-- f&#45;&gt;g -->\n",
       "<g id=\"edge15\" class=\"edge\"><title>f&#45;&gt;g</title>\n",
       "<path fill=\"none\" stroke=\"black\" d=\"M204.596,-218.834C215.412,-208.872 230.073,-195.369 242.267,-184.137\"/>\n",
       "<polygon fill=\"black\" stroke=\"black\" points=\"244.875,-186.494 249.859,-177.144 240.133,-181.345 244.875,-186.494\"/>\n",
       "</g>\n",
       "<!-- c -->\n",
       "<g id=\"node8\" class=\"node\"><title>c</title>\n",
       "<ellipse fill=\"none\" stroke=\"black\" cx=\"284.216\" cy=\"-234\" rx=\"27\" ry=\"18\"/>\n",
       "<text text-anchor=\"middle\" x=\"284.216\" y=\"-230.3\" font-family=\"Times,serif\" font-size=\"14.00\">c</text>\n",
       "</g>\n",
       "<!-- c&#45;&gt;Y -->\n",
       "<g id=\"edge16\" class=\"edge\"><title>c&#45;&gt;Y</title>\n",
       "<path fill=\"none\" stroke=\"black\" d=\"M265.32,-220.94C252.473,-211.538 236.531,-197.207 229.216,-180 222.957,-165.275 225.768,-159.624 229.216,-144 237.4,-106.92 257.731,-67.7683 272.001,-43.368\"/>\n",
       "<polygon fill=\"black\" stroke=\"black\" points=\"275.012,-45.1534 277.136,-34.7736 269.003,-41.5633 275.012,-45.1534\"/>\n",
       "</g>\n",
       "<!-- c&#45;&gt;h -->\n",
       "<g id=\"edge17\" class=\"edge\"><title>c&#45;&gt;h</title>\n",
       "<path fill=\"none\" stroke=\"black\" d=\"M301.333,-219.834C315.06,-209.274 334.526,-194.3 350.031,-182.373\"/>\n",
       "<polygon fill=\"black\" stroke=\"black\" points=\"352.384,-184.979 358.176,-176.107 348.116,-179.43 352.384,-184.979\"/>\n",
       "</g>\n",
       "<!-- c&#45;&gt;i -->\n",
       "<g id=\"edge18\" class=\"edge\"><title>c&#45;&gt;i</title>\n",
       "<path fill=\"none\" stroke=\"black\" d=\"M293.576,-216.987C307.96,-192.378 335.617,-145.061 352.64,-115.937\"/>\n",
       "<polygon fill=\"black\" stroke=\"black\" points=\"355.739,-117.572 357.763,-107.173 349.695,-114.04 355.739,-117.572\"/>\n",
       "</g>\n",
       "<!-- c&#45;&gt;g -->\n",
       "<g id=\"edge19\" class=\"edge\"><title>c&#45;&gt;g</title>\n",
       "<path fill=\"none\" stroke=\"black\" d=\"M279.617,-216.055C277.47,-208.145 274.863,-198.54 272.46,-189.688\"/>\n",
       "<polygon fill=\"black\" stroke=\"black\" points=\"275.771,-188.523 269.773,-179.789 269.015,-190.357 275.771,-188.523\"/>\n",
       "</g>\n",
       "<!-- a -->\n",
       "<g id=\"node9\" class=\"node\"><title>a</title>\n",
       "<ellipse fill=\"none\" stroke=\"black\" cx=\"519.216\" cy=\"-234\" rx=\"27\" ry=\"18\"/>\n",
       "<text text-anchor=\"middle\" x=\"519.216\" y=\"-230.3\" font-family=\"Times,serif\" font-size=\"14.00\">a</text>\n",
       "</g>\n",
       "<!-- a&#45;&gt;Y -->\n",
       "<g id=\"edge20\" class=\"edge\"><title>a&#45;&gt;Y</title>\n",
       "<path fill=\"none\" stroke=\"black\" d=\"M516.896,-215.988C511.548,-183.347 495.334,-111.658 452.216,-72 416.743,-39.3731 361.059,-26.826 324.346,-22.0042\"/>\n",
       "<polygon fill=\"black\" stroke=\"black\" points=\"324.408,-18.4873 314.067,-20.7903 323.587,-25.439 324.408,-18.4873\"/>\n",
       "</g>\n",
       "<!-- a&#45;&gt;h -->\n",
       "<g id=\"edge21\" class=\"edge\"><title>a&#45;&gt;h</title>\n",
       "<path fill=\"none\" stroke=\"black\" d=\"M497.968,-222.671C473.614,-210.832 433.498,-191.331 405.788,-177.862\"/>\n",
       "<polygon fill=\"black\" stroke=\"black\" points=\"407.075,-174.595 396.551,-173.371 404.015,-180.891 407.075,-174.595\"/>\n",
       "</g>\n",
       "<!-- a&#45;&gt;i -->\n",
       "<g id=\"edge22\" class=\"edge\"><title>a&#45;&gt;i</title>\n",
       "<path fill=\"none\" stroke=\"black\" d=\"M508.55,-217.35C495.304,-198.594 471.364,-166.842 446.216,-144 430.886,-130.076 411.621,-117.077 395.953,-107.437\"/>\n",
       "<polygon fill=\"black\" stroke=\"black\" points=\"397.573,-104.327 387.201,-102.168 393.963,-110.324 397.573,-104.327\"/>\n",
       "</g>\n",
       "<!-- d -->\n",
       "<g id=\"node10\" class=\"node\"><title>d</title>\n",
       "<ellipse fill=\"none\" stroke=\"black\" cx=\"375.216\" cy=\"-234\" rx=\"27\" ry=\"18\"/>\n",
       "<text text-anchor=\"middle\" x=\"375.216\" y=\"-230.3\" font-family=\"Times,serif\" font-size=\"14.00\">d</text>\n",
       "</g>\n",
       "<!-- d&#45;&gt;Y -->\n",
       "<g id=\"edge23\" class=\"edge\"><title>d&#45;&gt;Y</title>\n",
       "<path fill=\"none\" stroke=\"black\" d=\"M393.025,-220.429C404.908,-210.878 419.534,-196.582 426.216,-180 444.56,-134.481 435.787,-108.711 403.216,-72 382.201,-48.3132 348.463,-34.5509 322.777,-27.0168\"/>\n",
       "<polygon fill=\"black\" stroke=\"black\" points=\"323.592,-23.6111 313.022,-24.3371 321.737,-30.3611 323.592,-23.6111\"/>\n",
       "</g>\n",
       "<!-- d&#45;&gt;h -->\n",
       "<g id=\"edge24\" class=\"edge\"><title>d&#45;&gt;h</title>\n",
       "<path fill=\"none\" stroke=\"black\" d=\"M375.216,-215.697C375.216,-207.983 375.216,-198.712 375.216,-190.112\"/>\n",
       "<polygon fill=\"black\" stroke=\"black\" points=\"378.716,-190.104 375.216,-180.104 371.716,-190.104 378.716,-190.104\"/>\n",
       "</g>\n",
       "<!-- d&#45;&gt;i -->\n",
       "<g id=\"edge25\" class=\"edge\"><title>d&#45;&gt;i</title>\n",
       "<path fill=\"none\" stroke=\"black\" d=\"M388.967,-218.069C397.177,-208.1 406.835,-194.247 411.216,-180 415.919,-164.707 416.649,-159.049 411.216,-144 406.945,-132.168 398.755,-121.111 390.588,-112.19\"/>\n",
       "<polygon fill=\"black\" stroke=\"black\" points=\"393.002,-109.653 383.516,-104.935 387.99,-114.539 393.002,-109.653\"/>\n",
       "</g>\n",
       "<!-- d&#45;&gt;g -->\n",
       "<g id=\"edge26\" class=\"edge\"><title>d&#45;&gt;g</title>\n",
       "<path fill=\"none\" stroke=\"black\" d=\"M356.056,-220.807C338.547,-209.665 312.457,-193.062 292.723,-180.504\"/>\n",
       "<polygon fill=\"black\" stroke=\"black\" points=\"294.473,-177.469 284.157,-175.053 290.715,-183.375 294.473,-177.469\"/>\n",
       "</g>\n",
       "<!-- e -->\n",
       "<g id=\"node11\" class=\"node\"><title>e</title>\n",
       "<ellipse fill=\"none\" stroke=\"black\" cx=\"447.216\" cy=\"-234\" rx=\"27\" ry=\"18\"/>\n",
       "<text text-anchor=\"middle\" x=\"447.216\" y=\"-230.3\" font-family=\"Times,serif\" font-size=\"14.00\">e</text>\n",
       "</g>\n",
       "<!-- e&#45;&gt;Y -->\n",
       "<g id=\"edge27\" class=\"edge\"><title>e&#45;&gt;Y</title>\n",
       "<path fill=\"none\" stroke=\"black\" d=\"M450.907,-216.03C456.851,-183.779 464.578,-113.184 429.216,-72 402.689,-41.1047 356.343,-28.1946 323.833,-22.8153\"/>\n",
       "<polygon fill=\"black\" stroke=\"black\" points=\"324.214,-19.3334 313.807,-21.3201 323.181,-26.2569 324.214,-19.3334\"/>\n",
       "</g>\n",
       "<!-- e&#45;&gt;h -->\n",
       "<g id=\"edge28\" class=\"edge\"><title>e&#45;&gt;h</title>\n",
       "<path fill=\"none\" stroke=\"black\" d=\"M432.646,-218.834C422.466,-208.938 408.692,-195.546 397.186,-184.359\"/>\n",
       "<polygon fill=\"black\" stroke=\"black\" points=\"399.622,-181.846 390.012,-177.385 394.742,-186.865 399.622,-181.846\"/>\n",
       "</g>\n",
       "<!-- e&#45;&gt;i -->\n",
       "<g id=\"edge29\" class=\"edge\"><title>e&#45;&gt;i</title>\n",
       "<path fill=\"none\" stroke=\"black\" d=\"M446.207,-215.798C444.44,-196.99 439.579,-166.53 426.216,-144 418.19,-130.468 405.575,-118.457 394.066,-109.305\"/>\n",
       "<polygon fill=\"black\" stroke=\"black\" points=\"396.046,-106.414 385.962,-103.165 391.819,-111.994 396.046,-106.414\"/>\n",
       "</g>\n",
       "<!-- e&#45;&gt;g -->\n",
       "<g id=\"edge30\" class=\"edge\"><title>e&#45;&gt;g</title>\n",
       "<path fill=\"none\" stroke=\"black\" d=\"M426.043,-222.601C421.208,-220.339 416.065,-218.02 411.216,-216 373.085,-200.116 328.312,-184.265 298.498,-174.094\"/>\n",
       "<polygon fill=\"black\" stroke=\"black\" points=\"299.587,-170.767 288.992,-170.871 297.339,-177.396 299.587,-170.767\"/>\n",
       "</g>\n",
       "</g>\n",
       "</svg>\n"
      ],
      "text/plain": [
       "<graphviz.files.Source at 0x7fa768a6c490>"
      ]
     },
     "metadata": {},
     "output_type": "display_data"
    }
   ],
   "source": [
    "def build_random_linear_graph(n_nodes=10):\n",
    "    nodes = []\n",
    "    name = 'a'\n",
    "    for _ in range(n_nodes):\n",
    "        len_args = 0 if len(nodes) == 0 else np.random.choice(len(nodes))\n",
    "        args = [nodes[i] for i in np.random.choice(len(nodes), len_args, replace=False)]\n",
    "        weights, b = np.random.randn(len_args), np.random.randn() # linear model weight and bias\n",
    "        node = Node(name, lambda *args: sum([w * arg for w, arg in zip(weights, args)]) + b, args)\n",
    "        name = chr(ord(name) + 1)\n",
    "        nodes.append(node)\n",
    "\n",
    "    print(len(nodes), \"nodes\")\n",
    "    args = nodes # all nodes are input to Y\n",
    "    weights, b = np.random.randn(len(args)), np.random.randn()\n",
    "    n_irrelevant_features = 3 # np.random.choice(len(nodes)) # todo: use random later for more graphs\n",
    "    if n_irrelevant_features != 0:\n",
    "        drop_features = np.random.choice(len(nodes), n_irrelevant_features, replace=False)\n",
    "        weights[drop_features] = 0\n",
    "    \n",
    "    target_node = Node('Y', lambda *args: sum([w * arg for w, arg in zip(weights, args)]) + b, \n",
    "                       args, is_target_node=True)\n",
    "    nodes.append(target_node)\n",
    "    \n",
    "    graph = Graph(nodes)\n",
    "    return graph\n",
    "\n",
    "graph = build_random_linear_graph()\n",
    "graph.draw()"
   ]
  },
  {
   "cell_type": "code",
   "execution_count": 14,
   "metadata": {},
   "outputs": [
    {
     "data": {
      "text/html": [
       "<div>\n",
       "<style scoped>\n",
       "    .dataframe tbody tr th:only-of-type {\n",
       "        vertical-align: middle;\n",
       "    }\n",
       "\n",
       "    .dataframe tbody tr th {\n",
       "        vertical-align: top;\n",
       "    }\n",
       "\n",
       "    .dataframe thead th {\n",
       "        text-align: right;\n",
       "    }\n",
       "</style>\n",
       "<table border=\"1\" class=\"dataframe\">\n",
       "  <thead>\n",
       "    <tr style=\"text-align: right;\">\n",
       "      <th></th>\n",
       "      <th>a</th>\n",
       "      <th>b</th>\n",
       "      <th>c</th>\n",
       "      <th>d</th>\n",
       "      <th>e</th>\n",
       "      <th>f</th>\n",
       "      <th>g</th>\n",
       "      <th>h</th>\n",
       "      <th>i</th>\n",
       "      <th>j</th>\n",
       "      <th>Y</th>\n",
       "    </tr>\n",
       "  </thead>\n",
       "  <tbody>\n",
       "    <tr>\n",
       "      <th>0</th>\n",
       "      <td>1.770168</td>\n",
       "      <td>-0.019623</td>\n",
       "      <td>-1.160325</td>\n",
       "      <td>-0.587154</td>\n",
       "      <td>-0.016536</td>\n",
       "      <td>-0.011724</td>\n",
       "      <td>-1.216828</td>\n",
       "      <td>-1.631947</td>\n",
       "      <td>-0.118604</td>\n",
       "      <td>-1.219982</td>\n",
       "      <td>-2.195464</td>\n",
       "    </tr>\n",
       "    <tr>\n",
       "      <th>1</th>\n",
       "      <td>-2.640898</td>\n",
       "      <td>0.828455</td>\n",
       "      <td>0.851354</td>\n",
       "      <td>-0.532172</td>\n",
       "      <td>0.252060</td>\n",
       "      <td>-0.460832</td>\n",
       "      <td>-0.098905</td>\n",
       "      <td>-1.219704</td>\n",
       "      <td>-3.314295</td>\n",
       "      <td>-1.155487</td>\n",
       "      <td>5.896586</td>\n",
       "    </tr>\n",
       "    <tr>\n",
       "      <th>2</th>\n",
       "      <td>-0.323438</td>\n",
       "      <td>-0.926713</td>\n",
       "      <td>-0.620364</td>\n",
       "      <td>0.385473</td>\n",
       "      <td>-0.376132</td>\n",
       "      <td>-0.373430</td>\n",
       "      <td>-1.339949</td>\n",
       "      <td>-0.060501</td>\n",
       "      <td>0.245752</td>\n",
       "      <td>-1.288964</td>\n",
       "      <td>-1.914319</td>\n",
       "    </tr>\n",
       "    <tr>\n",
       "      <th>3</th>\n",
       "      <td>0.110390</td>\n",
       "      <td>1.287982</td>\n",
       "      <td>-0.736412</td>\n",
       "      <td>0.412981</td>\n",
       "      <td>1.749224</td>\n",
       "      <td>0.003881</td>\n",
       "      <td>-0.296898</td>\n",
       "      <td>-3.301817</td>\n",
       "      <td>-2.650499</td>\n",
       "      <td>-1.120541</td>\n",
       "      <td>1.189355</td>\n",
       "    </tr>\n",
       "    <tr>\n",
       "      <th>4</th>\n",
       "      <td>0.507421</td>\n",
       "      <td>-0.422812</td>\n",
       "      <td>0.579504</td>\n",
       "      <td>-0.292955</td>\n",
       "      <td>-1.018250</td>\n",
       "      <td>1.622175</td>\n",
       "      <td>-3.633279</td>\n",
       "      <td>-2.106410</td>\n",
       "      <td>-2.568301</td>\n",
       "      <td>-1.250644</td>\n",
       "      <td>3.054336</td>\n",
       "    </tr>\n",
       "    <tr>\n",
       "      <th>...</th>\n",
       "      <td>...</td>\n",
       "      <td>...</td>\n",
       "      <td>...</td>\n",
       "      <td>...</td>\n",
       "      <td>...</td>\n",
       "      <td>...</td>\n",
       "      <td>...</td>\n",
       "      <td>...</td>\n",
       "      <td>...</td>\n",
       "      <td>...</td>\n",
       "      <td>...</td>\n",
       "    </tr>\n",
       "    <tr>\n",
       "      <th>995</th>\n",
       "      <td>0.520488</td>\n",
       "      <td>-0.479051</td>\n",
       "      <td>0.328652</td>\n",
       "      <td>-0.284290</td>\n",
       "      <td>-0.333779</td>\n",
       "      <td>0.957234</td>\n",
       "      <td>-2.764557</td>\n",
       "      <td>-2.159740</td>\n",
       "      <td>-1.570265</td>\n",
       "      <td>-1.254921</td>\n",
       "      <td>0.790278</td>\n",
       "    </tr>\n",
       "    <tr>\n",
       "      <th>996</th>\n",
       "      <td>-0.817928</td>\n",
       "      <td>-1.773504</td>\n",
       "      <td>0.900229</td>\n",
       "      <td>0.753404</td>\n",
       "      <td>-1.012273</td>\n",
       "      <td>-0.582887</td>\n",
       "      <td>-1.641874</td>\n",
       "      <td>1.377991</td>\n",
       "      <td>1.268192</td>\n",
       "      <td>-1.353361</td>\n",
       "      <td>-2.170393</td>\n",
       "    </tr>\n",
       "    <tr>\n",
       "      <th>997</th>\n",
       "      <td>-0.533855</td>\n",
       "      <td>-0.690387</td>\n",
       "      <td>-0.622378</td>\n",
       "      <td>-2.063885</td>\n",
       "      <td>-0.789347</td>\n",
       "      <td>0.389342</td>\n",
       "      <td>-2.202341</td>\n",
       "      <td>-2.008449</td>\n",
       "      <td>-1.335236</td>\n",
       "      <td>-1.270992</td>\n",
       "      <td>0.962594</td>\n",
       "    </tr>\n",
       "    <tr>\n",
       "      <th>998</th>\n",
       "      <td>-0.653880</td>\n",
       "      <td>0.004093</td>\n",
       "      <td>0.478090</td>\n",
       "      <td>0.754062</td>\n",
       "      <td>0.102075</td>\n",
       "      <td>0.826249</td>\n",
       "      <td>-2.266045</td>\n",
       "      <td>-1.908250</td>\n",
       "      <td>-2.655938</td>\n",
       "      <td>-1.218178</td>\n",
       "      <td>2.779400</td>\n",
       "    </tr>\n",
       "    <tr>\n",
       "      <th>999</th>\n",
       "      <td>0.863947</td>\n",
       "      <td>0.793169</td>\n",
       "      <td>-0.250468</td>\n",
       "      <td>0.237761</td>\n",
       "      <td>-1.113519</td>\n",
       "      <td>0.085957</td>\n",
       "      <td>-0.924544</td>\n",
       "      <td>0.248259</td>\n",
       "      <td>-1.886169</td>\n",
       "      <td>-1.158171</td>\n",
       "      <td>3.413012</td>\n",
       "    </tr>\n",
       "  </tbody>\n",
       "</table>\n",
       "<p>1000 rows × 11 columns</p>\n",
       "</div>"
      ],
      "text/plain": [
       "            a         b         c         d         e         f         g  \\\n",
       "0    1.770168 -0.019623 -1.160325 -0.587154 -0.016536 -0.011724 -1.216828   \n",
       "1   -2.640898  0.828455  0.851354 -0.532172  0.252060 -0.460832 -0.098905   \n",
       "2   -0.323438 -0.926713 -0.620364  0.385473 -0.376132 -0.373430 -1.339949   \n",
       "3    0.110390  1.287982 -0.736412  0.412981  1.749224  0.003881 -0.296898   \n",
       "4    0.507421 -0.422812  0.579504 -0.292955 -1.018250  1.622175 -3.633279   \n",
       "..        ...       ...       ...       ...       ...       ...       ...   \n",
       "995  0.520488 -0.479051  0.328652 -0.284290 -0.333779  0.957234 -2.764557   \n",
       "996 -0.817928 -1.773504  0.900229  0.753404 -1.012273 -0.582887 -1.641874   \n",
       "997 -0.533855 -0.690387 -0.622378 -2.063885 -0.789347  0.389342 -2.202341   \n",
       "998 -0.653880  0.004093  0.478090  0.754062  0.102075  0.826249 -2.266045   \n",
       "999  0.863947  0.793169 -0.250468  0.237761 -1.113519  0.085957 -0.924544   \n",
       "\n",
       "            h         i         j         Y  \n",
       "0   -1.631947 -0.118604 -1.219982 -2.195464  \n",
       "1   -1.219704 -3.314295 -1.155487  5.896586  \n",
       "2   -0.060501  0.245752 -1.288964 -1.914319  \n",
       "3   -3.301817 -2.650499 -1.120541  1.189355  \n",
       "4   -2.106410 -2.568301 -1.250644  3.054336  \n",
       "..        ...       ...       ...       ...  \n",
       "995 -2.159740 -1.570265 -1.254921  0.790278  \n",
       "996  1.377991  1.268192 -1.353361 -2.170393  \n",
       "997 -2.008449 -1.335236 -1.270992  0.962594  \n",
       "998 -1.908250 -2.655938 -1.218178  2.779400  \n",
       "999  0.248259 -1.886169 -1.158171  3.413012  \n",
       "\n",
       "[1000 rows x 11 columns]"
      ]
     },
     "execution_count": 14,
     "metadata": {},
     "output_type": "execute_result"
    }
   ],
   "source": [
    "# build a linear dataset according to the graph\n",
    "n = 1000 # number of examples\n",
    "sources = get_source_nodes(graph)\n",
    "target_node = [node for node in graph if node.is_target_node][0]\n",
    "d = dict((node.name, np.random.randn(n)) for node in sources)\n",
    "eval_graph(graph, d)\n",
    "\n",
    "X_linear = pd.DataFrame.from_dict({node.name:node.val for node in graph if not node.is_target_node}).loc[:,[node.name for node in target_node.args]]\n",
    "f = lambda x: target_node.f(*[x[:,i] for i in range(x.shape[1])])\n",
    "f_d = pd.DataFrame.from_dict({'Y': list(f(np.array(X_linear)))})\n",
    "pd.concat((X_linear, f_d), 1)"
   ]
  },
  {
   "cell_type": "markdown",
   "metadata": {},
   "source": [
    "## Explanation settings"
   ]
  },
  {
   "cell_type": "code",
   "execution_count": 15,
   "metadata": {},
   "outputs": [],
   "source": [
    "nsamples = 100 # paper: 1000 samples\n",
    "sample_ind = 10 # example to visualize\n",
    "bg = X_linear.fillna(X_linear.mean()).sample(1) # background sample, no need for multiple sample because of the linearity axiom\n",
    "fg = X_linear[:nsamples] # foreground samples to explain"
   ]
  },
  {
   "cell_type": "markdown",
   "metadata": {},
   "source": [
    "## Explain\n",
    "\n",
    "Linear models only need 1 Monte Carlo sampling run for SHAP to converge."
   ]
  },
  {
   "cell_type": "code",
   "execution_count": 16,
   "metadata": {},
   "outputs": [
    {
     "name": "stderr",
     "output_type": "stream",
     "text": [
      "bruteforce sampling: 100%|██████████| 1/1 [00:00<00:00, 136.05it/s]\n"
     ]
    }
   ],
   "source": [
    "cf_flow_linear = GraphExplainer(graph, bg, nruns=1).shap_values(fg)"
   ]
  },
  {
   "cell_type": "code",
   "execution_count": 17,
   "metadata": {},
   "outputs": [
    {
     "name": "stderr",
     "output_type": "stream",
     "text": [
      "manifold bg samples: 100%|██████████| 100/100 [00:08<00:00, 11.93it/s]\n"
     ]
    }
   ],
   "source": [
    "bg_on_manifold = X_linear.fillna(X_linear.mean()).sample(100) # used to learn conditional dependence\n",
    "explainer = OnManifoldExplainer(f, pd.concat([bg, bg_on_manifold]), nruns=10) # need > 1 run b/c conditional expectation is non-linear\n",
    "cf_on_manifold_linear = explainer.shap_values(fg)"
   ]
  },
  {
   "cell_type": "code",
   "execution_count": 18,
   "metadata": {},
   "outputs": [
    {
     "name": "stderr",
     "output_type": "stream",
     "text": [
      "100%|██████████| 1/1 [00:00<00:00, 397.45it/s]\n"
     ]
    }
   ],
   "source": [
    "explainer = IndExplainer(f, bg, nruns=1)\n",
    "cf_ind_linear = explainer.shap_values(fg)"
   ]
  },
  {
   "cell_type": "markdown",
   "metadata": {},
   "source": [
    "## Sample explanation visualization"
   ]
  },
  {
   "cell_type": "code",
   "execution_count": 19,
   "metadata": {},
   "outputs": [
    {
     "name": "stdout",
     "output_type": "stream",
     "text": [
      "Shapley Flow\n"
     ]
    },
    {
     "data": {
      "image/svg+xml": [
       "<?xml version=\"1.0\" encoding=\"UTF-8\" standalone=\"no\"?>\n",
       "<!DOCTYPE svg PUBLIC \"-//W3C//DTD SVG 1.1//EN\"\n",
       " \"http://www.w3.org/Graphics/SVG/1.1/DTD/svg11.dtd\">\n",
       "<!-- Generated by graphviz version 2.38.0 (20140413.2041)\n",
       " -->\n",
       "<!-- Title: %3 Pages: 1 -->\n",
       "<svg width=\"1111pt\" height=\"326pt\"\n",
       " viewBox=\"0.00 0.00 1111.46 326.00\" xmlns=\"http://www.w3.org/2000/svg\" xmlns:xlink=\"http://www.w3.org/1999/xlink\">\n",
       "<g id=\"graph0\" class=\"graph\" transform=\"scale(1 1) rotate(0) translate(4 322)\">\n",
       "<title>%3</title>\n",
       "<polygon fill=\"white\" stroke=\"none\" points=\"-4,4 -4,-322 1107.46,-322 1107.46,4 -4,4\"/>\n",
       "<!-- h -->\n",
       "<g id=\"node1\" class=\"node\"><title>h</title>\n",
       "<ellipse fill=\"none\" stroke=\"black\" cx=\"741.296\" cy=\"-213\" rx=\"38.1938\" ry=\"18\"/>\n",
       "<text text-anchor=\"middle\" x=\"741.296\" y=\"-209.3\" font-family=\"Times,serif\" font-size=\"14.00\">h: &#45;1.65</text>\n",
       "</g>\n",
       "<!-- Y -->\n",
       "<g id=\"node2\" class=\"node\"><title>Y</title>\n",
       "<ellipse fill=\"none\" stroke=\"black\" cx=\"40.2964\" cy=\"-18\" rx=\"40.0939\" ry=\"18\"/>\n",
       "<text text-anchor=\"middle\" x=\"40.2964\" y=\"-14.3\" font-family=\"Times,serif\" font-size=\"14.00\">Y: &#45;4.65</text>\n",
       "</g>\n",
       "<!-- h&#45;&gt;Y -->\n",
       "<g id=\"edge1\" class=\"edge\"><title>h&#45;&gt;Y</title>\n",
       "<path fill=\"none\" stroke=\"#ff0051\" stroke-width=\"0.05\" d=\"M714.072,-200.291C708.296,-198.212 702.167,-196.299 696.296,-195 590.99,-171.703 560.118,-197.832 454.296,-177 378.174,-162.015 357.148,-158.758 288.296,-123 242.938,-99.4432 242.71,-75.4044 196.296,-54 162.294,-38.3193 120.809,-29.4457 89.1689,-24.5595\"/>\n",
       "<polygon fill=\"#ff0051\" stroke=\"#ff0051\" stroke-width=\"0.05\" points=\"89.6656,-21.095 79.2641,-23.1096 88.6517,-28.0212 89.6656,-21.095\"/>\n",
       "<text text-anchor=\"middle\" x=\"300.796\" y=\"-101.3\" font-family=\"Times,serif\" font-size=\"14.00\" fill=\"#ff0051\">0.00</text>\n",
       "</g>\n",
       "<!-- i -->\n",
       "<g id=\"node3\" class=\"node\"><title>i</title>\n",
       "<ellipse fill=\"none\" stroke=\"black\" cx=\"356.296\" cy=\"-105\" rx=\"33.5952\" ry=\"18\"/>\n",
       "<text text-anchor=\"middle\" x=\"356.296\" y=\"-101.3\" font-family=\"Times,serif\" font-size=\"14.00\">i: 0.21</text>\n",
       "</g>\n",
       "<!-- h&#45;&gt;i -->\n",
       "<g id=\"edge2\" class=\"edge\"><title>h&#45;&gt;i</title>\n",
       "<path fill=\"none\" stroke=\"#ff0051\" stroke-width=\"0.05\" d=\"M705.956,-205.742C661.586,-197.777 588.043,-184.193 561.296,-177 528.903,-168.288 442.34,-137.326 392.673,-119.295\"/>\n",
       "<polygon fill=\"#ff0051\" stroke=\"#ff0051\" stroke-width=\"0.05\" points=\"393.852,-115.999 383.258,-115.871 391.46,-122.578 393.852,-115.999\"/>\n",
       "<text text-anchor=\"middle\" x=\"573.796\" y=\"-155.3\" font-family=\"Times,serif\" font-size=\"14.00\" fill=\"#ff0051\">0.00</text>\n",
       "</g>\n",
       "<!-- i&#45;&gt;Y -->\n",
       "<g id=\"edge3\" class=\"edge\"><title>i&#45;&gt;Y</title>\n",
       "<path fill=\"none\" stroke=\"#ff0051\" stroke-width=\"0.686612\" d=\"M333.133,-91.7247C310.732,-80.346 275.535,-63.7491 243.296,-54 192.015,-38.4925 131.238,-29.1492 89.6382,-24.066\"/>\n",
       "<polygon fill=\"#ff0051\" stroke=\"#ff0051\" stroke-width=\"0.686612\" points=\"89.835,-20.5649 79.4927,-22.8643 89.0115,-27.5163 89.835,-20.5649\"/>\n",
       "<text text-anchor=\"middle\" x=\"294.796\" y=\"-57.8\" font-family=\"Times,serif\" font-size=\"14.00\" fill=\"#ff0051\">0.51</text>\n",
       "</g>\n",
       "<!-- b -->\n",
       "<g id=\"node4\" class=\"node\"><title>b</title>\n",
       "<ellipse fill=\"none\" stroke=\"black\" cx=\"136.296\" cy=\"-300\" rx=\"38.1938\" ry=\"18\"/>\n",
       "<text text-anchor=\"middle\" x=\"136.296\" y=\"-296.3\" font-family=\"Times,serif\" font-size=\"14.00\">b: &#45;1.11</text>\n",
       "</g>\n",
       "<!-- b&#45;&gt;h -->\n",
       "<g id=\"edge4\" class=\"edge\"><title>b&#45;&gt;h</title>\n",
       "<path fill=\"none\" stroke=\"#ff0051\" stroke-width=\"0.05\" d=\"M173.584,-295.363C209.401,-291.883 265.04,-286.511 313.296,-282 401.276,-273.776 424.093,-278.27 511.296,-264 539.701,-259.352 546.208,-255.286 574.296,-249 615.689,-239.737 663.023,-229.886 696.702,-223.003\"/>\n",
       "<polygon fill=\"#ff0051\" stroke=\"#ff0051\" stroke-width=\"0.05\" points=\"697.595,-226.393 706.695,-220.966 696.197,-219.534 697.595,-226.393\"/>\n",
       "<text text-anchor=\"middle\" x=\"586.796\" y=\"-252.8\" font-family=\"Times,serif\" font-size=\"14.00\" fill=\"#ff0051\">0.00</text>\n",
       "</g>\n",
       "<!-- b&#45;&gt;Y -->\n",
       "<g id=\"edge5\" class=\"edge\"><title>b&#45;&gt;Y</title>\n",
       "<path fill=\"none\" stroke=\"#ff0051\" stroke-width=\"0.05\" d=\"M112.125,-285.861C102.299,-279.899 91.189,-272.319 82.2964,-264 47.0495,-231.025 32.5175,-222.804 17.2964,-177 2.46727,-132.376 17.3911,-77.5123 29.1475,-45.5752\"/>\n",
       "<polygon fill=\"#ff0051\" stroke=\"#ff0051\" stroke-width=\"0.05\" points=\"32.4866,-46.6435 32.8115,-36.0536 25.9536,-44.1295 32.4866,-46.6435\"/>\n",
       "<text text-anchor=\"middle\" x=\"29.7964\" y=\"-155.3\" font-family=\"Times,serif\" font-size=\"14.00\" fill=\"#ff0051\">0.00</text>\n",
       "</g>\n",
       "<!-- b&#45;&gt;i -->\n",
       "<g id=\"edge6\" class=\"edge\"><title>b&#45;&gt;i</title>\n",
       "<path fill=\"none\" stroke=\"#008bfb\" stroke-width=\"2.93486\" d=\"M166.082,-288.369C176.963,-282.871 188.11,-274.958 194.296,-264 221.764,-215.343 131.431,-182.987 168.296,-141 188.702,-117.76 276.175,-130.012 306.296,-123 310.736,-121.966 315.337,-120.693 319.87,-119.312\"/>\n",
       "<polygon fill=\"#008bfb\" stroke=\"#008bfb\" stroke-width=\"2.93486\" points=\"321.155,-122.575 329.593,-116.168 319.001,-115.915 321.155,-122.575\"/>\n",
       "<text text-anchor=\"middle\" x=\"211.796\" y=\"-209.3\" font-family=\"Times,serif\" font-size=\"14.00\" fill=\"#008bfb\">&#45;2.30</text>\n",
       "</g>\n",
       "<!-- g -->\n",
       "<g id=\"node5\" class=\"node\"><title>g</title>\n",
       "<ellipse fill=\"none\" stroke=\"black\" cx=\"676.296\" cy=\"-159\" rx=\"38.1938\" ry=\"18\"/>\n",
       "<text text-anchor=\"middle\" x=\"676.296\" y=\"-155.3\" font-family=\"Times,serif\" font-size=\"14.00\">g: &#45;2.58</text>\n",
       "</g>\n",
       "<!-- b&#45;&gt;g -->\n",
       "<g id=\"edge7\" class=\"edge\"><title>b&#45;&gt;g</title>\n",
       "<path fill=\"none\" stroke=\"#008bfb\" stroke-width=\"0.0828926\" d=\"M167.806,-289.675C186.947,-283.487 211.6,-274.57 232.296,-264 281.039,-239.106 282.562,-212.864 334.296,-195 388.203,-176.386 533.768,-184.544 590.296,-177 604.121,-175.155 619.068,-172.452 632.563,-169.743\"/>\n",
       "<polygon fill=\"#008bfb\" stroke=\"#008bfb\" stroke-width=\"0.0828926\" points=\"633.469,-173.13 642.557,-167.683 632.056,-166.274 633.469,-173.13\"/>\n",
       "<text text-anchor=\"middle\" x=\"269.796\" y=\"-252.8\" font-family=\"Times,serif\" font-size=\"14.00\" fill=\"#008bfb\">&#45;0.03</text>\n",
       "</g>\n",
       "<!-- j -->\n",
       "<g id=\"node6\" class=\"node\"><title>j</title>\n",
       "<ellipse fill=\"none\" stroke=\"black\" cx=\"87.2964\" cy=\"-159\" rx=\"36.2938\" ry=\"18\"/>\n",
       "<text text-anchor=\"middle\" x=\"87.2964\" y=\"-155.3\" font-family=\"Times,serif\" font-size=\"14.00\">j: &#45;1.30</text>\n",
       "</g>\n",
       "<!-- b&#45;&gt;j -->\n",
       "<g id=\"edge8\" class=\"edge\"><title>b&#45;&gt;j</title>\n",
       "<path fill=\"none\" stroke=\"#008bfb\" stroke-width=\"0.090961\" d=\"M117.379,-284.288C103.05,-271.856 84.4817,-252.648 76.2964,-231 70.953,-216.868 73.1286,-200.214 76.9041,-186.589\"/>\n",
       "<polygon fill=\"#008bfb\" stroke=\"#008bfb\" stroke-width=\"0.090961\" points=\"80.3055,-187.443 80.0052,-176.852 73.6356,-185.318 80.3055,-187.443\"/>\n",
       "<text text-anchor=\"middle\" x=\"111.796\" y=\"-252.8\" font-family=\"Times,serif\" font-size=\"14.00\" fill=\"#008bfb\">&#45;0.03</text>\n",
       "</g>\n",
       "<!-- g&#45;&gt;Y -->\n",
       "<g id=\"edge9\" class=\"edge\"><title>g&#45;&gt;Y</title>\n",
       "<path fill=\"none\" stroke=\"#008bfb\" stroke-width=\"0.197524\" d=\"M644.556,-148.795C634.88,-146.125 624.187,-143.31 614.296,-141 573.299,-131.427 562.043,-133.592 521.296,-123 426.214,-98.2833 407.107,-75.7221 311.296,-54 235.017,-36.7061 144.584,-27.1705 89.8686,-22.5733\"/>\n",
       "<polygon fill=\"#008bfb\" stroke=\"#008bfb\" stroke-width=\"0.197524\" points=\"90,-19.0724 79.7479,-21.7452 89.4291,-26.0491 90,-19.0724\"/>\n",
       "<text text-anchor=\"middle\" x=\"535.796\" y=\"-101.3\" font-family=\"Times,serif\" font-size=\"14.00\" fill=\"#008bfb\">&#45;0.12</text>\n",
       "</g>\n",
       "<!-- j&#45;&gt;Y -->\n",
       "<g id=\"edge10\" class=\"edge\"><title>j&#45;&gt;Y</title>\n",
       "<path fill=\"none\" stroke=\"#008bfb\" stroke-width=\"0.090961\" d=\"M81.5333,-140.956C73.4994,-117.196 58.8532,-73.8807 49.3524,-45.7826\"/>\n",
       "<polygon fill=\"#008bfb\" stroke=\"#008bfb\" stroke-width=\"0.090961\" points=\"52.6255,-44.5355 46.1067,-36.1835 45.9943,-46.7778 52.6255,-44.5355\"/>\n",
       "<text text-anchor=\"middle\" x=\"90.7964\" y=\"-101.3\" font-family=\"Times,serif\" font-size=\"14.00\" fill=\"#008bfb\">&#45;0.03</text>\n",
       "</g>\n",
       "<!-- e -->\n",
       "<g id=\"node7\" class=\"node\"><title>e</title>\n",
       "<ellipse fill=\"none\" stroke=\"black\" cx=\"690.296\" cy=\"-300\" rx=\"35.194\" ry=\"18\"/>\n",
       "<text text-anchor=\"middle\" x=\"690.296\" y=\"-296.3\" font-family=\"Times,serif\" font-size=\"14.00\">e: 0.16</text>\n",
       "</g>\n",
       "<!-- e&#45;&gt;h -->\n",
       "<g id=\"edge11\" class=\"edge\"><title>e&#45;&gt;h</title>\n",
       "<path fill=\"none\" stroke=\"#ff0051\" stroke-width=\"0.05\" d=\"M722.229,-292.073C737.432,-286.998 754.236,-278.392 763.296,-264 768.268,-256.102 766.167,-246.888 761.696,-238.537\"/>\n",
       "<polygon fill=\"#ff0051\" stroke=\"#ff0051\" stroke-width=\"0.05\" points=\"764.498,-236.423 756.136,-229.916 758.615,-240.217 764.498,-236.423\"/>\n",
       "<text text-anchor=\"middle\" x=\"778.796\" y=\"-252.8\" font-family=\"Times,serif\" font-size=\"14.00\" fill=\"#ff0051\">0.00</text>\n",
       "</g>\n",
       "<!-- e&#45;&gt;Y -->\n",
       "<g id=\"edge12\" class=\"edge\"><title>e&#45;&gt;Y</title>\n",
       "<path fill=\"none\" stroke=\"#008bfb\" stroke-width=\"0.291927\" d=\"M720.395,-290.52C732.676,-287.367 747.074,-284.059 760.296,-282 816.537,-273.241 1047.03,-295.568 1014.3,-249 1000.72,-229.677 986.172,-239.904 964.296,-231 928.559,-216.453 921.205,-209.121 885.296,-195 814.667,-167.225 796.628,-160.559 723.296,-141 684.303,-130.6 672.824,-135.012 634.296,-123 595.52,-110.91 589.275,-98.4207 550.296,-87 528.893,-80.7288 374.387,-57.0776 352.296,-54 259.672,-41.0954 151.058,-29.767 89.4929,-23.6986\"/>\n",
       "<polygon fill=\"#008bfb\" stroke=\"#008bfb\" stroke-width=\"0.291927\" points=\"89.5864,-20.191 79.2926,-22.6989 88.9036,-27.1577 89.5864,-20.191\"/>\n",
       "<text text-anchor=\"middle\" x=\"853.796\" y=\"-155.3\" font-family=\"Times,serif\" font-size=\"14.00\" fill=\"#008bfb\">&#45;0.19</text>\n",
       "</g>\n",
       "<!-- e&#45;&gt;i -->\n",
       "<g id=\"edge13\" class=\"edge\"><title>e&#45;&gt;i</title>\n",
       "<path fill=\"none\" stroke=\"#008bfb\" stroke-width=\"0.0808365\" d=\"M721.469,-291.386C762.865,-281.258 830.864,-264.553 831.296,-264 835.404,-258.749 833.566,-255.268 831.296,-249 827.751,-239.208 822.827,-239.111 816.296,-231 803.584,-215.212 805.974,-204.917 788.296,-195 726.272,-160.205 694.665,-205.014 629.296,-177 606.387,-167.182 609.25,-150.714 586.296,-141 515.105,-110.872 489.109,-138.112 413.296,-123 406.983,-121.741 400.364,-120.088 393.962,-118.306\"/>\n",
       "<polygon fill=\"#008bfb\" stroke=\"#008bfb\" stroke-width=\"0.0808365\" points=\"394.738,-114.886 384.158,-115.439 392.773,-121.605 394.738,-114.886\"/>\n",
       "<text text-anchor=\"middle\" x=\"830.796\" y=\"-209.3\" font-family=\"Times,serif\" font-size=\"14.00\" fill=\"#008bfb\">&#45;0.02</text>\n",
       "</g>\n",
       "<!-- e&#45;&gt;g -->\n",
       "<g id=\"edge14\" class=\"edge\"><title>e&#45;&gt;g</title>\n",
       "<path fill=\"none\" stroke=\"#ff0051\" stroke-width=\"0.0507306\" d=\"M720.823,-290.91C733.04,-287.85 747.279,-284.505 760.296,-282 788.071,-276.656 867.765,-285.367 886.296,-264 908.166,-238.784 891.634,-221.701 849.296,-195 805.539,-167.403 784.781,-188.299 734.296,-177 728.589,-175.723 722.618,-174.196 716.768,-172.588\"/>\n",
       "<polygon fill=\"#ff0051\" stroke=\"#ff0051\" stroke-width=\"0.0507306\" points=\"717.682,-169.21 707.106,-169.837 715.766,-175.942 717.682,-169.21\"/>\n",
       "<text text-anchor=\"middle\" x=\"907.796\" y=\"-252.8\" font-family=\"Times,serif\" font-size=\"14.00\" fill=\"#ff0051\">0.00</text>\n",
       "</g>\n",
       "<!-- a -->\n",
       "<g id=\"node8\" class=\"node\"><title>a</title>\n",
       "<ellipse fill=\"none\" stroke=\"black\" cx=\"549.296\" cy=\"-300\" rx=\"35.194\" ry=\"18\"/>\n",
       "<text text-anchor=\"middle\" x=\"549.296\" y=\"-296.3\" font-family=\"Times,serif\" font-size=\"14.00\">a: 1.04</text>\n",
       "</g>\n",
       "<!-- a&#45;&gt;h -->\n",
       "<g id=\"edge15\" class=\"edge\"><title>a&#45;&gt;h</title>\n",
       "<path fill=\"none\" stroke=\"#ff0051\" stroke-width=\"0.05\" d=\"M581.914,-293.247C625.616,-285.328 698.914,-271.232 709.296,-264 717.958,-257.967 724.811,-248.758 729.916,-239.88\"/>\n",
       "<polygon fill=\"#ff0051\" stroke=\"#ff0051\" stroke-width=\"0.05\" points=\"733.081,-241.379 734.606,-230.895 726.876,-238.14 733.081,-241.379\"/>\n",
       "<text text-anchor=\"middle\" x=\"736.796\" y=\"-252.8\" font-family=\"Times,serif\" font-size=\"14.00\" fill=\"#ff0051\">0.00</text>\n",
       "</g>\n",
       "<!-- a&#45;&gt;Y -->\n",
       "<g id=\"edge16\" class=\"edge\"><title>a&#45;&gt;Y</title>\n",
       "<path fill=\"none\" stroke=\"#ff0051\" stroke-width=\"0.128151\" d=\"M518.664,-291.026C494.446,-284.475 459.904,-274.578 430.296,-264 266.233,-205.383 245.696,-148.446 99.2964,-54 90.8288,-48.5373 81.5136,-42.8624 72.836,-37.7121\"/>\n",
       "<polygon fill=\"#ff0051\" stroke=\"#ff0051\" stroke-width=\"0.128151\" points=\"74.4801,-34.6187 64.086,-32.5659 70.9313,-40.6525 74.4801,-34.6187\"/>\n",
       "<text text-anchor=\"middle\" x=\"274.796\" y=\"-155.3\" font-family=\"Times,serif\" font-size=\"14.00\" fill=\"#ff0051\">0.06</text>\n",
       "</g>\n",
       "<!-- a&#45;&gt;i -->\n",
       "<g id=\"edge17\" class=\"edge\"><title>a&#45;&gt;i</title>\n",
       "<path fill=\"none\" stroke=\"#008bfb\" stroke-width=\"1.40863\" d=\"M583.081,-294.582C617.565,-289.298 667.638,-279.212 679.296,-264 683.352,-258.709 683.227,-254.385 679.296,-249 617.393,-164.195 547.986,-224.395 454.296,-177 427.514,-163.451 400.105,-142.914 381.108,-127.407\"/>\n",
       "<polygon fill=\"#008bfb\" stroke=\"#008bfb\" stroke-width=\"1.40863\" points=\"383.188,-124.584 373.257,-120.892 378.718,-129.971 383.188,-124.584\"/>\n",
       "<text text-anchor=\"middle\" x=\"677.796\" y=\"-209.3\" font-family=\"Times,serif\" font-size=\"14.00\" fill=\"#008bfb\">&#45;1.08</text>\n",
       "</g>\n",
       "<!-- f -->\n",
       "<g id=\"node9\" class=\"node\"><title>f</title>\n",
       "<ellipse fill=\"none\" stroke=\"black\" cx=\"356.296\" cy=\"-300\" rx=\"34.394\" ry=\"18\"/>\n",
       "<text text-anchor=\"middle\" x=\"356.296\" y=\"-296.3\" font-family=\"Times,serif\" font-size=\"14.00\">f: 0.54</text>\n",
       "</g>\n",
       "<!-- f&#45;&gt;h -->\n",
       "<g id=\"edge18\" class=\"edge\"><title>f&#45;&gt;h</title>\n",
       "<path fill=\"none\" stroke=\"#ff0051\" stroke-width=\"0.05\" d=\"M389.578,-295.15C447.266,-288.333 563.477,-273.921 603.296,-264 638.422,-255.248 677.057,-240.814 704.492,-229.698\"/>\n",
       "<polygon fill=\"#ff0051\" stroke=\"#ff0051\" stroke-width=\"0.05\" points=\"706.142,-232.803 714.065,-225.769 703.485,-226.327 706.142,-232.803\"/>\n",
       "<text text-anchor=\"middle\" x=\"662.796\" y=\"-252.8\" font-family=\"Times,serif\" font-size=\"14.00\" fill=\"#ff0051\">0.00</text>\n",
       "</g>\n",
       "<!-- f&#45;&gt;Y -->\n",
       "<g id=\"edge19\" class=\"edge\"><title>f&#45;&gt;Y</title>\n",
       "<path fill=\"none\" stroke=\"#008bfb\" stroke-width=\"2.35677\" d=\"M326.593,-290.794C307.703,-284.871 283.153,-275.836 263.296,-264 198.594,-225.433 117.007,-95.5228 109.296,-87 95.0536,-71.2569 78.0809,-54.5066 64.5332,-41.5698\"/>\n",
       "<polygon fill=\"#008bfb\" stroke=\"#008bfb\" stroke-width=\"2.35677\" points=\"66.6648,-38.7679 56.9988,-34.4299 61.8499,-43.8489 66.6648,-38.7679\"/>\n",
       "<text text-anchor=\"middle\" x=\"189.796\" y=\"-155.3\" font-family=\"Times,serif\" font-size=\"14.00\" fill=\"#008bfb\">&#45;1.84</text>\n",
       "</g>\n",
       "<!-- f&#45;&gt;i -->\n",
       "<g id=\"edge20\" class=\"edge\"><title>f&#45;&gt;i</title>\n",
       "<path fill=\"none\" stroke=\"#ff0051\" stroke-width=\"5\" d=\"M356.296,-281.873C356.296,-248.323 356.296,-173.707 356.296,-133.287\"/>\n",
       "<polygon fill=\"#ff0051\" stroke=\"#ff0051\" stroke-width=\"5\" points=\"360.672,-133.089 356.296,-123.089 351.922,-133.089 360.672,-133.089\"/>\n",
       "<text text-anchor=\"middle\" x=\"368.796\" y=\"-209.3\" font-family=\"Times,serif\" font-size=\"14.00\" fill=\"#ff0051\">3.95</text>\n",
       "</g>\n",
       "<!-- f&#45;&gt;g -->\n",
       "<g id=\"edge21\" class=\"edge\"><title>f&#45;&gt;g</title>\n",
       "<path fill=\"none\" stroke=\"#008bfb\" stroke-width=\"0.165362\" d=\"M380.375,-286.76C404.5,-275.071 443.019,-257.951 478.296,-249 514.262,-239.875 614.264,-252.791 644.296,-231 658.523,-220.678 666.552,-202.53 671.01,-187.166\"/>\n",
       "<polygon fill=\"#008bfb\" stroke=\"#008bfb\" stroke-width=\"0.165362\" points=\"674.496,-187.658 673.558,-177.105 667.71,-185.94 674.496,-187.658\"/>\n",
       "<text text-anchor=\"middle\" x=\"492.796\" y=\"-252.8\" font-family=\"Times,serif\" font-size=\"14.00\" fill=\"#008bfb\">&#45;0.09</text>\n",
       "</g>\n",
       "<!-- f&#45;&gt;j -->\n",
       "<g id=\"edge22\" class=\"edge\"><title>f&#45;&gt;j</title>\n",
       "<path fill=\"none\" stroke=\"#ff0051\" stroke-width=\"0.05\" d=\"M321.829,-298.722C270.59,-296.444 174.266,-284.714 117.296,-231 104.996,-219.402 97.5298,-201.96 93.1222,-187.266\"/>\n",
       "<polygon fill=\"#ff0051\" stroke=\"#ff0051\" stroke-width=\"0.05\" points=\"96.3892,-185.934 90.4279,-177.176 89.6261,-187.74 96.3892,-185.934\"/>\n",
       "<text text-anchor=\"middle\" x=\"177.796\" y=\"-252.8\" font-family=\"Times,serif\" font-size=\"14.00\" fill=\"#ff0051\">0.00</text>\n",
       "</g>\n",
       "<!-- d -->\n",
       "<g id=\"node10\" class=\"node\"><title>d</title>\n",
       "<ellipse fill=\"none\" stroke=\"black\" cx=\"951.296\" cy=\"-300\" rx=\"35.9954\" ry=\"18\"/>\n",
       "<text text-anchor=\"middle\" x=\"951.296\" y=\"-296.3\" font-family=\"Times,serif\" font-size=\"14.00\">d: 1.04</text>\n",
       "</g>\n",
       "<!-- d&#45;&gt;h -->\n",
       "<g id=\"edge23\" class=\"edge\"><title>d&#45;&gt;h</title>\n",
       "<path fill=\"none\" stroke=\"#ff0051\" stroke-width=\"0.05\" d=\"M970.067,-284.47C981.446,-273.943 992.051,-259.733 982.296,-249 954.07,-217.942 835.404,-239.458 794.296,-231 789.809,-230.077 785.167,-228.913 780.58,-227.628\"/>\n",
       "<polygon fill=\"#ff0051\" stroke=\"#ff0051\" stroke-width=\"0.05\" points=\"781.294,-224.188 770.71,-224.672 779.285,-230.894 781.294,-224.188\"/>\n",
       "<text text-anchor=\"middle\" x=\"997.796\" y=\"-252.8\" font-family=\"Times,serif\" font-size=\"14.00\" fill=\"#ff0051\">0.00</text>\n",
       "</g>\n",
       "<!-- d&#45;&gt;Y -->\n",
       "<g id=\"edge24\" class=\"edge\"><title>d&#45;&gt;Y</title>\n",
       "<path fill=\"none\" stroke=\"#ff0051\" stroke-width=\"0.05\" d=\"M985.573,-294.789C1010.79,-290.367 1044.95,-281.496 1070.3,-264 1097.14,-245.468 1113.51,-222.057 1095.3,-195 981.372,-25.7884 285.92,-17.3875 91.0255,-18.4064\"/>\n",
       "<polygon fill=\"#ff0051\" stroke=\"#ff0051\" stroke-width=\"0.05\" points=\"90.7607,-14.9079 80.7831,-18.4712 90.8051,-21.9077 90.7607,-14.9079\"/>\n",
       "<text text-anchor=\"middle\" x=\"1088.8\" y=\"-155.3\" font-family=\"Times,serif\" font-size=\"14.00\" fill=\"#ff0051\">0.00</text>\n",
       "</g>\n",
       "<!-- d&#45;&gt;i -->\n",
       "<g id=\"edge25\" class=\"edge\"><title>d&#45;&gt;i</title>\n",
       "<path fill=\"none\" stroke=\"#008bfb\" stroke-width=\"0.0890608\" d=\"M986.762,-296.948C1009.82,-293.554 1038.28,-285.026 1053.3,-264 1064.46,-248.361 1071.96,-221.142 1044.3,-195 1017.49,-169.666 913.669,-190.377 879.296,-177 854.113,-167.199 855.788,-149.971 830.296,-141 742.803,-110.209 504.767,-138.371 413.296,-123 406.881,-121.922 400.171,-120.345 393.7,-118.58\"/>\n",
       "<polygon fill=\"#008bfb\" stroke=\"#008bfb\" stroke-width=\"0.0890608\" points=\"394.384,-115.134 383.805,-115.696 392.426,-121.854 394.384,-115.134\"/>\n",
       "<text text-anchor=\"middle\" x=\"1076.8\" y=\"-209.3\" font-family=\"Times,serif\" font-size=\"14.00\" fill=\"#008bfb\">&#45;0.03</text>\n",
       "</g>\n",
       "<!-- d&#45;&gt;g -->\n",
       "<g id=\"edge26\" class=\"edge\"><title>d&#45;&gt;g</title>\n",
       "<path fill=\"none\" stroke=\"#ff0051\" stroke-width=\"0.05\" d=\"M979.536,-288.772C991.698,-283.117 1005.19,-274.976 1014.3,-264 1034.13,-240.104 1046.57,-217.626 1025.3,-195 1003.11,-171.397 766.205,-182.591 734.296,-177 728.404,-175.968 722.259,-174.552 716.266,-172.974\"/>\n",
       "<polygon fill=\"#ff0051\" stroke=\"#ff0051\" stroke-width=\"0.05\" points=\"716.97,-169.537 706.397,-170.207 715.08,-176.277 716.97,-169.537\"/>\n",
       "<text text-anchor=\"middle\" x=\"1036.8\" y=\"-252.8\" font-family=\"Times,serif\" font-size=\"14.00\" fill=\"#ff0051\">0.00</text>\n",
       "</g>\n",
       "<!-- c -->\n",
       "<g id=\"node11\" class=\"node\"><title>c</title>\n",
       "<ellipse fill=\"none\" stroke=\"black\" cx=\"807.296\" cy=\"-300\" rx=\"38.1938\" ry=\"18\"/>\n",
       "<text text-anchor=\"middle\" x=\"807.296\" y=\"-296.3\" font-family=\"Times,serif\" font-size=\"14.00\">c: &#45;2.19</text>\n",
       "</g>\n",
       "<!-- c&#45;&gt;h -->\n",
       "<g id=\"edge27\" class=\"edge\"><title>c&#45;&gt;h</title>\n",
       "<path fill=\"none\" stroke=\"#ff0051\" stroke-width=\"0.05\" d=\"M806.367,-281.943C805.079,-271.613 802.101,-258.62 795.296,-249 790.488,-242.202 783.902,-236.396 776.982,-231.58\"/>\n",
       "<polygon fill=\"#ff0051\" stroke=\"#ff0051\" stroke-width=\"0.05\" points=\"778.471,-228.381 768.145,-226.009 774.738,-234.303 778.471,-228.381\"/>\n",
       "<text text-anchor=\"middle\" x=\"814.796\" y=\"-252.8\" font-family=\"Times,serif\" font-size=\"14.00\" fill=\"#ff0051\">0.00</text>\n",
       "</g>\n",
       "<!-- c&#45;&gt;Y -->\n",
       "<g id=\"edge28\" class=\"edge\"><title>c&#45;&gt;Y</title>\n",
       "<path fill=\"none\" stroke=\"#008bfb\" stroke-width=\"2.80775\" d=\"M842.511,-292.528C861.391,-289.166 885.074,-285.12 906.296,-282 938.857,-277.214 1026.76,-283.469 1053.3,-264 1078.6,-245.435 1088.97,-218.612 1068.3,-195 1048.36,-172.229 962.734,-184.029 933.296,-177 886.129,-165.737 877.423,-152.432 830.296,-141 774.467,-127.457 757.97,-137.171 702.296,-123 658.136,-111.76 650.292,-98.8682 606.296,-87 560.16,-74.5542 547.381,-77.1523 500.296,-69 462.497,-62.4555 453.315,-59.1201 415.296,-54 299.179,-38.3621 161.89,-27.4681 89.9576,-22.3385\"/>\n",
       "<polygon fill=\"#008bfb\" stroke=\"#008bfb\" stroke-width=\"2.80775\" points=\"90.0508,-18.8365 79.8291,-21.6237 89.5579,-25.8191 90.0508,-18.8365\"/>\n",
       "<text text-anchor=\"middle\" x=\"947.796\" y=\"-155.3\" font-family=\"Times,serif\" font-size=\"14.00\" fill=\"#008bfb\">&#45;2.20</text>\n",
       "</g>\n",
       "<!-- c&#45;&gt;i -->\n",
       "<g id=\"edge29\" class=\"edge\"><title>c&#45;&gt;i</title>\n",
       "<path fill=\"none\" stroke=\"#ff0051\" stroke-width=\"0.05\" d=\"M842.509,-292.514C861.389,-289.148 885.072,-285.102 906.296,-282 939.298,-277.176 1033.17,-288.957 1055.3,-264 1059.72,-259.011 1059.06,-254.502 1055.3,-249 1017.87,-194.305 979.491,-214.975 916.296,-195 884.434,-184.929 873.878,-190.469 843.296,-177 816.899,-165.373 816.695,-150.016 789.296,-141 709.837,-114.851 495.758,-137.057 413.296,-123 406.883,-121.907 400.174,-120.322 393.704,-118.554\"/>\n",
       "<polygon fill=\"#ff0051\" stroke=\"#ff0051\" stroke-width=\"0.05\" points=\"394.389,-115.108 383.809,-115.669 392.43,-121.828 394.389,-115.108\"/>\n",
       "<text text-anchor=\"middle\" x=\"1051.8\" y=\"-209.3\" font-family=\"Times,serif\" font-size=\"14.00\" fill=\"#ff0051\">0.00</text>\n",
       "</g>\n",
       "<!-- c&#45;&gt;g -->\n",
       "<g id=\"edge30\" class=\"edge\"><title>c&#45;&gt;g</title>\n",
       "<path fill=\"none\" stroke=\"#ff0051\" stroke-width=\"0.05\" d=\"M845.823,-298.699C872.523,-296.218 906.379,-288.062 924.296,-264 928.278,-258.653 926.348,-255.343 924.296,-249 915.188,-220.831 910.81,-210.017 885.296,-195 827.05,-160.718 800.51,-190.552 734.296,-177 728.501,-175.814 722.446,-174.326 716.525,-172.726\"/>\n",
       "<polygon fill=\"#ff0051\" stroke=\"#ff0051\" stroke-width=\"0.05\" points=\"717.335,-169.318 706.76,-169.963 715.429,-176.053 717.335,-169.318\"/>\n",
       "<text text-anchor=\"middle\" x=\"939.796\" y=\"-252.8\" font-family=\"Times,serif\" font-size=\"14.00\" fill=\"#ff0051\">0.00</text>\n",
       "</g>\n",
       "</g>\n",
       "</svg>\n"
      ],
      "text/plain": [
       "<graphviz.files.Source at 0x7fa76bfe1110>"
      ]
     },
     "metadata": {},
     "output_type": "display_data"
    },
    {
     "data": {
      "text/plain": [
       "<AGraph <Swig Object of type 'Agraph_t *' at 0x7fa768aac330>>"
      ]
     },
     "execution_count": 19,
     "metadata": {},
     "output_type": "execute_result"
    }
   ],
   "source": [
    "print(\"Shapley Flow\")\n",
    "cf_flow_linear.fold_noise = True\n",
    "cf_flow_linear.draw(sample_ind)"
   ]
  },
  {
   "cell_type": "code",
   "execution_count": 20,
   "metadata": {},
   "outputs": [
    {
     "name": "stdout",
     "output_type": "stream",
     "text": [
      "On manifold SHAP\n"
     ]
    },
    {
     "data": {
      "image/png": "[encoded data removed]",
      "text/plain": [
       "<Figure size 432x288 with 1 Axes>"
      ]
     },
     "metadata": {
      "needs_background": "light"
     },
     "output_type": "display_data"
    }
   ],
   "source": [
    "print(\"On manifold SHAP\")\n",
    "cf_on_manifold_linear.draw(sample_ind)"
   ]
  },
  {
   "cell_type": "code",
   "execution_count": 21,
   "metadata": {},
   "outputs": [
    {
     "name": "stdout",
     "output_type": "stream",
     "text": [
      "Independent SHAP\n"
     ]
    },
    {
     "data": {
      "image/png": "[encoded data removed]",
      "text/plain": [
       "<Figure size 432x288 with 1 Axes>"
      ]
     },
     "metadata": {
      "needs_background": "light"
     },
     "output_type": "display_data"
    }
   ],
   "source": [
    "print(\"Independent SHAP\")\n",
    "cf_ind_linear.draw(sample_ind)"
   ]
  },
  {
   "cell_type": "code",
   "execution_count": 22,
   "metadata": {},
   "outputs": [
    {
     "name": "stdout",
     "output_type": "stream",
     "text": [
      "ASV (note: only non-zero attribution nodes are shown)\n"
     ]
    },
    {
     "data": {
      "image/svg+xml": [
       "<?xml version=\"1.0\" encoding=\"UTF-8\" standalone=\"no\"?>\n",
       "<!DOCTYPE svg PUBLIC \"-//W3C//DTD SVG 1.1//EN\"\n",
       " \"http://www.w3.org/Graphics/SVG/1.1/DTD/svg11.dtd\">\n",
       "<!-- Generated by graphviz version 2.38.0 (20140413.2041)\n",
       " -->\n",
       "<!-- Title: %3 Pages: 1 -->\n",
       "<svg width=\"422pt\" height=\"131pt\"\n",
       " viewBox=\"0.00 0.00 422.00 131.00\" xmlns=\"http://www.w3.org/2000/svg\" xmlns:xlink=\"http://www.w3.org/1999/xlink\">\n",
       "<g id=\"graph0\" class=\"graph\" transform=\"scale(1 1) rotate(0) translate(4 127)\">\n",
       "<title>%3</title>\n",
       "<polygon fill=\"white\" stroke=\"none\" points=\"-4,4 -4,-127 418,-127 418,4 -4,4\"/>\n",
       "<!-- b -->\n",
       "<g id=\"node1\" class=\"node\"><title>b</title>\n",
       "<ellipse fill=\"none\" stroke=\"black\" cx=\"27\" cy=\"-105\" rx=\"27\" ry=\"18\"/>\n",
       "<text text-anchor=\"middle\" x=\"27\" y=\"-101.3\" font-family=\"Times,serif\" font-size=\"14.00\">b</text>\n",
       "</g>\n",
       "<!-- Y -->\n",
       "<g id=\"node2\" class=\"node\"><title>Y</title>\n",
       "<ellipse fill=\"none\" stroke=\"black\" cx=\"243\" cy=\"-18\" rx=\"27\" ry=\"18\"/>\n",
       "<text text-anchor=\"middle\" x=\"243\" y=\"-14.3\" font-family=\"Times,serif\" font-size=\"14.00\">Y</text>\n",
       "</g>\n",
       "<!-- b&#45;&gt;Y -->\n",
       "<g id=\"edge1\" class=\"edge\"><title>b&#45;&gt;Y</title>\n",
       "<path fill=\"none\" stroke=\"#008bfb\" stroke-width=\"5\" d=\"M44.664,-91.3144C60.9476,-80.1285 86.1361,-64.0826 110,-54 141.789,-40.569 180.078,-31.1473 207.394,-25.489\"/>\n",
       "<polygon fill=\"#008bfb\" stroke=\"#008bfb\" stroke-width=\"5\" points=\"208.345,-29.7605 217.289,-23.5042 206.624,-21.1814 208.345,-29.7605\"/>\n",
       "<text text-anchor=\"middle\" x=\"124.5\" y=\"-57.8\" font-family=\"Times,serif\" font-size=\"14.00\" fill=\"#008bfb\">&#45;2.36</text>\n",
       "</g>\n",
       "<!-- e -->\n",
       "<g id=\"node3\" class=\"node\"><title>e</title>\n",
       "<ellipse fill=\"none\" stroke=\"black\" cx=\"99\" cy=\"-105\" rx=\"27\" ry=\"18\"/>\n",
       "<text text-anchor=\"middle\" x=\"99\" y=\"-101.3\" font-family=\"Times,serif\" font-size=\"14.00\">e</text>\n",
       "</g>\n",
       "<!-- e&#45;&gt;Y -->\n",
       "<g id=\"edge2\" class=\"edge\"><title>e&#45;&gt;Y</title>\n",
       "<path fill=\"none\" stroke=\"#008bfb\" stroke-width=\"0.505118\" d=\"M114.793,-90.1223C127.504,-79.3913 146.133,-64.6222 164,-54 178.563,-45.3424 195.652,-37.5117 210.204,-31.4634\"/>\n",
       "<polygon fill=\"#008bfb\" stroke=\"#008bfb\" stroke-width=\"0.505118\" points=\"211.856,-34.5705 219.811,-27.5726 209.228,-28.0824 211.856,-34.5705\"/>\n",
       "<text text-anchor=\"middle\" x=\"178.5\" y=\"-57.8\" font-family=\"Times,serif\" font-size=\"14.00\" fill=\"#008bfb\">&#45;0.22</text>\n",
       "</g>\n",
       "<!-- a -->\n",
       "<g id=\"node4\" class=\"node\"><title>a</title>\n",
       "<ellipse fill=\"none\" stroke=\"black\" cx=\"171\" cy=\"-105\" rx=\"27\" ry=\"18\"/>\n",
       "<text text-anchor=\"middle\" x=\"171\" y=\"-101.3\" font-family=\"Times,serif\" font-size=\"14.00\">a</text>\n",
       "</g>\n",
       "<!-- a&#45;&gt;Y -->\n",
       "<g id=\"edge3\" class=\"edge\"><title>a&#45;&gt;Y</title>\n",
       "<path fill=\"none\" stroke=\"#008bfb\" stroke-width=\"2.19228\" d=\"M182.584,-88.384C190.158,-78.3695 200.393,-65.1949 210,-54 213.739,-49.6428 217.85,-45.1017 221.863,-40.7896\"/>\n",
       "<polygon fill=\"#008bfb\" stroke=\"#008bfb\" stroke-width=\"2.19228\" points=\"224.555,-43.0366 228.88,-33.3646 219.468,-38.2286 224.555,-43.0366\"/>\n",
       "<text text-anchor=\"middle\" x=\"224.5\" y=\"-57.8\" font-family=\"Times,serif\" font-size=\"14.00\" fill=\"#008bfb\">&#45;1.02</text>\n",
       "</g>\n",
       "<!-- f -->\n",
       "<g id=\"node5\" class=\"node\"><title>f</title>\n",
       "<ellipse fill=\"none\" stroke=\"black\" cx=\"243\" cy=\"-105\" rx=\"27\" ry=\"18\"/>\n",
       "<text text-anchor=\"middle\" x=\"243\" y=\"-101.3\" font-family=\"Times,serif\" font-size=\"14.00\">f</text>\n",
       "</g>\n",
       "<!-- f&#45;&gt;Y -->\n",
       "<g id=\"edge4\" class=\"edge\"><title>f&#45;&gt;Y</title>\n",
       "<path fill=\"none\" stroke=\"#ff0051\" stroke-width=\"4.27919\" d=\"M243,-86.799C243,-75.1626 243,-59.5479 243,-46.2368\"/>\n",
       "<polygon fill=\"#ff0051\" stroke=\"#ff0051\" stroke-width=\"4.27919\" points=\"246.744,-46.1754 243,-36.1754 239.256,-46.1755 246.744,-46.1754\"/>\n",
       "<text text-anchor=\"middle\" x=\"255.5\" y=\"-57.8\" font-family=\"Times,serif\" font-size=\"14.00\" fill=\"#ff0051\">2.02</text>\n",
       "</g>\n",
       "<!-- d -->\n",
       "<g id=\"node6\" class=\"node\"><title>d</title>\n",
       "<ellipse fill=\"none\" stroke=\"black\" cx=\"315\" cy=\"-105\" rx=\"27\" ry=\"18\"/>\n",
       "<text text-anchor=\"middle\" x=\"315\" y=\"-101.3\" font-family=\"Times,serif\" font-size=\"14.00\">d</text>\n",
       "</g>\n",
       "<!-- d&#45;&gt;Y -->\n",
       "<g id=\"edge5\" class=\"edge\"><title>d&#45;&gt;Y</title>\n",
       "<path fill=\"none\" stroke=\"#008bfb\" stroke-width=\"0.11535\" d=\"M302.128,-88.8037C291.07,-75.7495 274.964,-56.7354 262.353,-41.8473\"/>\n",
       "<polygon fill=\"#008bfb\" stroke=\"#008bfb\" stroke-width=\"0.11535\" points=\"264.895,-39.433 255.761,-34.0647 259.554,-43.9574 264.895,-39.433\"/>\n",
       "<text text-anchor=\"middle\" x=\"297.5\" y=\"-57.8\" font-family=\"Times,serif\" font-size=\"14.00\" fill=\"#008bfb\">&#45;0.03</text>\n",
       "</g>\n",
       "<!-- c -->\n",
       "<g id=\"node7\" class=\"node\"><title>c</title>\n",
       "<ellipse fill=\"none\" stroke=\"black\" cx=\"387\" cy=\"-105\" rx=\"27\" ry=\"18\"/>\n",
       "<text text-anchor=\"middle\" x=\"387\" y=\"-101.3\" font-family=\"Times,serif\" font-size=\"14.00\">c</text>\n",
       "</g>\n",
       "<!-- c&#45;&gt;Y -->\n",
       "<g id=\"edge6\" class=\"edge\"><title>c&#45;&gt;Y</title>\n",
       "<path fill=\"none\" stroke=\"#008bfb\" stroke-width=\"4.66379\" d=\"M370.03,-90.8376C355.971,-80.2339 335.248,-65.2859 316,-54 302.731,-46.22 287.466,-38.6956 274.337,-32.63\"/>\n",
       "<polygon fill=\"#008bfb\" stroke=\"#008bfb\" stroke-width=\"4.66379\" points=\"276.006,-28.9059 265.213,-28.4883 272.632,-36.3377 276.006,-28.9059\"/>\n",
       "<text text-anchor=\"middle\" x=\"352.5\" y=\"-57.8\" font-family=\"Times,serif\" font-size=\"14.00\" fill=\"#008bfb\">&#45;2.20</text>\n",
       "</g>\n",
       "</g>\n",
       "</svg>\n"
      ],
      "text/plain": [
       "<graphviz.files.Source at 0x7fa774bbe450>"
      ]
     },
     "metadata": {},
     "output_type": "display_data"
    },
    {
     "data": {
      "text/plain": [
       "<AGraph <Swig Object of type 'Agraph_t *' at 0x7fa774bf76f0>>"
      ]
     },
     "execution_count": 22,
     "metadata": {},
     "output_type": "execute_result"
    }
   ],
   "source": [
    "print('ASV (note: only non-zero attribution nodes are shown)')\n",
    "cf_flow_linear.fold_noise = False\n",
    "cf_flow_linear.draw_asv(sample_ind, show_fg_val=False)"
   ]
  },
  {
   "cell_type": "markdown",
   "metadata": {},
   "source": [
    "## Calculate difference with the ground truth"
   ]
  },
  {
   "cell_type": "code",
   "execution_count": 23,
   "metadata": {},
   "outputs": [],
   "source": [
    "gt = get_direct_effect_ground_truth(cf_flow_linear.graph)\n",
    "theta_ind = get_effect_ind(cf_ind_linear)\n",
    "theta_manifold = get_effect_manifold(cf_on_manifold_linear)\n",
    "theta_asv = get_effect_asv(cf_flow_linear)\n",
    "theta_flow = get_direct_effect_flow(cf_flow_linear)\n",
    "\n",
    "gt_indirect = get_indirect_effect_ground_truth(cf_flow_linear.graph)\n",
    "theta_flow_indirect = get_indirect_effect_flow(cf_flow_linear)"
   ]
  },
  {
   "cell_type": "markdown",
   "metadata": {},
   "source": [
    "### Direct effect\n",
    "\n",
    "Note that both Independent SHAP and Shapley Flow makes no error."
   ]
  },
  {
   "cell_type": "code",
   "execution_count": 24,
   "metadata": {},
   "outputs": [
    {
     "data": {
      "image/png": "[encoded data removed]",
      "text/plain": [
       "<Figure size 432x288 with 1 Axes>"
      ]
     },
     "metadata": {
      "needs_background": "light"
     },
     "output_type": "display_data"
    },
    {
     "name": "stdout",
     "output_type": "stream",
     "text": [
      "       ind: 0.0 ($\\pm$ 0.0)\n",
      "  manifold: 0.9 ($\\pm$ 1.2)\n",
      "       asv: 1.1 ($\\pm$ 2.0)\n",
      "      flow: 0.0 ($\\pm$ 0.0)\n"
     ]
    }
   ],
   "source": [
    "errors = {\n",
    "    'ind': get_error(gt, theta_ind),\n",
    "    'manifold': get_error(gt, theta_manifold),\n",
    "    'asv': get_error(gt, theta_asv),\n",
    "    'flow': get_error(gt, theta_flow)\n",
    "}\n",
    "\n",
    "bins=np.histogram(np.hstack(list(errors.values())), bins=40)[1] #get the bin edges\n",
    "for k, v in errors.items():\n",
    "    plt.hist(v, bins, label=k, alpha=0.5, weights=np.zeros_like(v) + 100. / v.size)\n",
    "\n",
    "plt.legend(fontsize=15)\n",
    "plt.xlabel('Difference with ground truth direct effect', fontsize=15)\n",
    "plt.ylabel('Percentage', fontsize=15)\n",
    "plt.tight_layout()\n",
    "plt.show()\n",
    "\n",
    "for k, v in errors.items():\n",
    "    print(f\"{k:>10s}: {np.abs(v).mean().round(1)} ($\\pm$ {np.abs(v).std().round(1)})\")"
   ]
  },
  {
   "cell_type": "markdown",
   "metadata": {},
   "source": [
    "## Indirect effect\n",
    "\n",
    "Note that only Shapley Flow has 0 error. ASV makes error on non-source nodes."
   ]
  },
  {
   "cell_type": "code",
   "execution_count": 25,
   "metadata": {},
   "outputs": [
    {
     "data": {
      "image/png": "[encoded data removed]",
      "text/plain": [
       "<Figure size 432x288 with 1 Axes>"
      ]
     },
     "metadata": {
      "needs_background": "light"
     },
     "output_type": "display_data"
    },
    {
     "name": "stdout",
     "output_type": "stream",
     "text": [
      "       ind: 0.7 ($\\pm$ 1.4)\n",
      "  manifold: 1.1 ($\\pm$ 1.3)\n",
      "       asv: 0.5 ($\\pm$ 1.7)\n",
      "      flow: 0.0 ($\\pm$ 0.0)\n"
     ]
    }
   ],
   "source": [
    "errors = {\n",
    "    'ind': get_error(gt_indirect, theta_ind),\n",
    "    'manifold': get_error(gt_indirect, theta_manifold),\n",
    "    'asv': get_error(gt_indirect, theta_asv),\n",
    "    'flow': get_error(gt_indirect, theta_flow_indirect)\n",
    "}\n",
    "\n",
    "bins=np.histogram(np.hstack(list(errors.values())), bins=40)[1] #get the bin edges\n",
    "for k, v in errors.items():\n",
    "    plt.hist(v, bins, label=k, alpha=0.5, weights=np.zeros_like(v) + 100. / v.size)\n",
    "\n",
    "plt.legend(fontsize=15)\n",
    "plt.xlabel('Difference with ground truth indirect effect', fontsize=15)\n",
    "plt.ylabel('Percentage', fontsize=15)\n",
    "plt.tight_layout()\n",
    "plt.show()\n",
    "\n",
    "for k, v in errors.items():\n",
    "    print(f\"{k:>10s}: {np.abs(v).mean().round(1)} ($\\pm$ {np.abs(v).std().round(1)})\")"
   ]
  },
  {
   "cell_type": "markdown",
   "metadata": {},
   "source": [
    "### Indirect effect on source nodes\n",
    "\n",
    "Note that both ASV and Shapley Flow makes no error."
   ]
  },
  {
   "cell_type": "code",
   "execution_count": 26,
   "metadata": {},
   "outputs": [
    {
     "data": {
      "image/png": "[encoded data removed]",
      "text/plain": [
       "<Figure size 432x288 with 1 Axes>"
      ]
     },
     "metadata": {
      "needs_background": "light"
     },
     "output_type": "display_data"
    },
    {
     "name": "stdout",
     "output_type": "stream",
     "text": [
      "       ind: 1.1 ($\\pm$ 1.6)\n",
      "  manifold: 1.0 ($\\pm$ 1.0)\n",
      "       asv: 0.0 ($\\pm$ 0.0)\n",
      "      flow: 0.0 ($\\pm$ 0.0)\n"
     ]
    }
   ],
   "source": [
    "sources = get_source_nodes(graph)\n",
    "errors = {\n",
    "    'ind': get_error(gt_indirect, theta_ind, sources),\n",
    "    'manifold': get_error(gt_indirect, theta_manifold, sources),\n",
    "    'asv': get_error(gt_indirect, theta_asv, sources),\n",
    "    'flow': get_error(gt_indirect, theta_flow_indirect, sources)\n",
    "}\n",
    "\n",
    "bins=np.histogram(np.hstack(list(errors.values())), bins=40)[1] #get the bin edges\n",
    "for k, v in errors.items():\n",
    "    plt.hist(v, bins, label=k, alpha=0.5, weights=np.zeros_like(v) + 100. / v.size)\n",
    "\n",
    "plt.legend(fontsize=15)\n",
    "plt.ylabel('Percentage', fontsize=15)\n",
    "plt.xlabel('Difference with ground truth source nodes only', fontsize=15)\n",
    "plt.show()\n",
    "\n",
    "for k, v in errors.items():\n",
    "    print(f\"{k:>10s}: {np.abs(v).mean().round(1)} ($\\pm$ {np.abs(v).std().round(1)})\")"
   ]
  },
  {
   "cell_type": "code",
   "execution_count": null,
   "metadata": {},
   "outputs": [],
   "source": []
  }
 ],
 "metadata": {
  "kernelspec": {
   "display_name": "Python 3",
   "language": "python",
   "name": "python3"
  },
  "language_info": {
   "codemirror_mode": {
    "name": "ipython",
    "version": 3
   },
   "file_extension": ".py",
   "mimetype": "text/x-python",
   "name": "python",
   "nbconvert_exporter": "python",
   "pygments_lexer": "ipython3",
   "version": "3.7.7"
  }
 },
 "nbformat": 4,
 "nbformat_minor": 4
}
