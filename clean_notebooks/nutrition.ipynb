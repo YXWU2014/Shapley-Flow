{
 "cells": [
  {
   "cell_type": "markdown",
   "metadata": {},
   "source": [
    "# Nutrition dataset case study"
   ]
  },
  {
   "cell_type": "code",
   "execution_count": 52,
   "metadata": {},
   "outputs": [],
   "source": [
    "# limit the number of threads used by xgboost models\n",
    "import os\n",
    "os.environ[\"OMP_NUM_THREADS\"] = \"8\" # export OMP_NUM_THREADS=8                                                                                                               \n",
    "os.environ[\"OPENBLAS_NUM_THREADS\"] = \"8\" # export OPENBLAS_NUM_THREADS=8                                                                                                     \n",
    "os.environ[\"MKL_NUM_THREADS\"] = \"8\" # export MKL_NUM_THREADS=8                                                                                                               \n",
    "os.environ[\"VECLIB_MAXIMUM_THREADS\"] = \"8\" # export VECLIB_MAXIMUM_THREADS=8                                                                                                 \n",
    "os.environ[\"NUMEXPR_NUM_THREADS\"] = \"8\" # export NUMEXPR_NUM_THREADS=8         \n",
    "\n",
    "# standard libaries\n",
    "import sys\n",
    "import copy\n",
    "import dill\n",
    "from collections import defaultdict\n",
    "import numpy as np\n",
    "import pandas as pd\n",
    "import xgboost\n",
    "from sklearn.model_selection import train_test_split\n",
    "import matplotlib.pyplot as plt\n",
    "import seaborn as sns\n",
    "import shap\n",
    "\n",
    "# flow specific packages\n",
    "if '../' not in sys.path:\n",
    "    sys.path = ['../'] + sys.path\n",
    "from flow import Node, CreditFlow, Graph, get_source_nodes, topo_sort, flatten_graph, eval_graph, boundary_graph, single_source_graph, viz_graph, save_graph, hcluster_graph\n",
    "from flow import ParallelCreditFlow, GraphExplainer, translator\n",
    "from flow import group_nodes, build_feature_graph\n",
    "from flow import CausalLinks, create_xgboost_f\n",
    "from flow import edge_credits2edge_credit\n",
    "from on_manifold import OnManifoldExplainer, IndExplainer"
   ]
  },
  {
   "cell_type": "markdown",
   "metadata": {},
   "source": [
    "# Explaination Settings"
   ]
  },
  {
   "cell_type": "code",
   "execution_count": 6,
   "metadata": {},
   "outputs": [],
   "source": [
    "n_bg = 100 # paper: 100, number of sampled background samples\n",
    "nsamples = 100 # number of fg samples to explain\n",
    "nruns = 1 # paper: 10,000, number of monte carlo samplings\n",
    "bg = X.fillna(X.mean()).sample(n_bg) # background samples\n",
    "sample_ind = 3 # sample to show"
   ]
  },
  {
   "cell_type": "markdown",
   "metadata": {},
   "source": [
    "# Train a model"
   ]
  },
  {
   "cell_type": "code",
   "execution_count": 2,
   "metadata": {},
   "outputs": [
    {
     "name": "stdout",
     "output_type": "stream",
     "text": [
      "(9932, 18) (9932, 18)\n"
     ]
    },
    {
     "data": {
      "text/html": [
       "<div>\n",
       "<style scoped>\n",
       "    .dataframe tbody tr th:only-of-type {\n",
       "        vertical-align: middle;\n",
       "    }\n",
       "\n",
       "    .dataframe tbody tr th {\n",
       "        vertical-align: top;\n",
       "    }\n",
       "\n",
       "    .dataframe thead th {\n",
       "        text-align: right;\n",
       "    }\n",
       "</style>\n",
       "<table border=\"1\" class=\"dataframe\">\n",
       "  <thead>\n",
       "    <tr style=\"text-align: right;\">\n",
       "      <th></th>\n",
       "      <th>Age</th>\n",
       "      <th>Diastolic BP</th>\n",
       "      <th>Poverty index</th>\n",
       "      <th>Race</th>\n",
       "      <th>Red blood cells</th>\n",
       "      <th>Sedimentation rate</th>\n",
       "      <th>Serum Albumin</th>\n",
       "      <th>Serum Cholesterol</th>\n",
       "      <th>Serum Iron</th>\n",
       "      <th>Serum Magnesium</th>\n",
       "      <th>Serum Protein</th>\n",
       "      <th>Sex</th>\n",
       "      <th>Systolic BP</th>\n",
       "      <th>TIBC</th>\n",
       "      <th>TS</th>\n",
       "      <th>White blood cells</th>\n",
       "      <th>BMI</th>\n",
       "      <th>Pulse pressure</th>\n",
       "    </tr>\n",
       "  </thead>\n",
       "  <tbody>\n",
       "    <tr>\n",
       "      <th>0</th>\n",
       "      <td>35.0</td>\n",
       "      <td>92.0</td>\n",
       "      <td>126.0</td>\n",
       "      <td>2.0</td>\n",
       "      <td>77.7</td>\n",
       "      <td>12.0</td>\n",
       "      <td>5.0</td>\n",
       "      <td>165.0</td>\n",
       "      <td>135.0</td>\n",
       "      <td>1.37</td>\n",
       "      <td>7.6</td>\n",
       "      <td>2.0</td>\n",
       "      <td>142.0</td>\n",
       "      <td>323.0</td>\n",
       "      <td>41.8</td>\n",
       "      <td>5.8</td>\n",
       "      <td>31.109434</td>\n",
       "      <td>50.0</td>\n",
       "    </tr>\n",
       "    <tr>\n",
       "      <th>1</th>\n",
       "      <td>71.0</td>\n",
       "      <td>78.0</td>\n",
       "      <td>210.0</td>\n",
       "      <td>2.0</td>\n",
       "      <td>77.7</td>\n",
       "      <td>37.0</td>\n",
       "      <td>4.0</td>\n",
       "      <td>298.0</td>\n",
       "      <td>89.0</td>\n",
       "      <td>1.38</td>\n",
       "      <td>6.4</td>\n",
       "      <td>2.0</td>\n",
       "      <td>156.0</td>\n",
       "      <td>331.0</td>\n",
       "      <td>26.9</td>\n",
       "      <td>5.3</td>\n",
       "      <td>32.362572</td>\n",
       "      <td>78.0</td>\n",
       "    </tr>\n",
       "    <tr>\n",
       "      <th>2</th>\n",
       "      <td>74.0</td>\n",
       "      <td>86.0</td>\n",
       "      <td>999.0</td>\n",
       "      <td>2.0</td>\n",
       "      <td>77.7</td>\n",
       "      <td>31.0</td>\n",
       "      <td>3.8</td>\n",
       "      <td>222.0</td>\n",
       "      <td>115.0</td>\n",
       "      <td>1.37</td>\n",
       "      <td>7.4</td>\n",
       "      <td>2.0</td>\n",
       "      <td>170.0</td>\n",
       "      <td>299.0</td>\n",
       "      <td>38.5</td>\n",
       "      <td>8.1</td>\n",
       "      <td>25.388497</td>\n",
       "      <td>84.0</td>\n",
       "    </tr>\n",
       "    <tr>\n",
       "      <th>3</th>\n",
       "      <td>64.0</td>\n",
       "      <td>92.0</td>\n",
       "      <td>385.0</td>\n",
       "      <td>1.0</td>\n",
       "      <td>77.7</td>\n",
       "      <td>30.0</td>\n",
       "      <td>4.3</td>\n",
       "      <td>265.0</td>\n",
       "      <td>94.0</td>\n",
       "      <td>1.97</td>\n",
       "      <td>7.3</td>\n",
       "      <td>2.0</td>\n",
       "      <td>172.0</td>\n",
       "      <td>349.0</td>\n",
       "      <td>26.9</td>\n",
       "      <td>6.7</td>\n",
       "      <td>26.446610</td>\n",
       "      <td>80.0</td>\n",
       "    </tr>\n",
       "    <tr>\n",
       "      <th>4</th>\n",
       "      <td>32.0</td>\n",
       "      <td>70.0</td>\n",
       "      <td>183.0</td>\n",
       "      <td>2.0</td>\n",
       "      <td>77.7</td>\n",
       "      <td>18.0</td>\n",
       "      <td>5.0</td>\n",
       "      <td>203.0</td>\n",
       "      <td>192.0</td>\n",
       "      <td>1.35</td>\n",
       "      <td>7.3</td>\n",
       "      <td>1.0</td>\n",
       "      <td>128.0</td>\n",
       "      <td>386.0</td>\n",
       "      <td>49.7</td>\n",
       "      <td>8.1</td>\n",
       "      <td>20.354684</td>\n",
       "      <td>58.0</td>\n",
       "    </tr>\n",
       "  </tbody>\n",
       "</table>\n",
       "</div>"
      ],
      "text/plain": [
       "    Age  Diastolic BP  Poverty index  Race  Red blood cells  \\\n",
       "0  35.0          92.0          126.0   2.0             77.7   \n",
       "1  71.0          78.0          210.0   2.0             77.7   \n",
       "2  74.0          86.0          999.0   2.0             77.7   \n",
       "3  64.0          92.0          385.0   1.0             77.7   \n",
       "4  32.0          70.0          183.0   2.0             77.7   \n",
       "\n",
       "   Sedimentation rate  Serum Albumin  Serum Cholesterol  Serum Iron  \\\n",
       "0                12.0            5.0              165.0       135.0   \n",
       "1                37.0            4.0              298.0        89.0   \n",
       "2                31.0            3.8              222.0       115.0   \n",
       "3                30.0            4.3              265.0        94.0   \n",
       "4                18.0            5.0              203.0       192.0   \n",
       "\n",
       "   Serum Magnesium  Serum Protein  Sex  Systolic BP   TIBC    TS  \\\n",
       "0             1.37            7.6  2.0        142.0  323.0  41.8   \n",
       "1             1.38            6.4  2.0        156.0  331.0  26.9   \n",
       "2             1.37            7.4  2.0        170.0  299.0  38.5   \n",
       "3             1.97            7.3  2.0        172.0  349.0  26.9   \n",
       "4             1.35            7.3  1.0        128.0  386.0  49.7   \n",
       "\n",
       "   White blood cells        BMI  Pulse pressure  \n",
       "0                5.8  31.109434            50.0  \n",
       "1                5.3  32.362572            78.0  \n",
       "2                8.1  25.388497            84.0  \n",
       "3                6.7  26.446610            80.0  \n",
       "4                8.1  20.354684            58.0  "
      ]
     },
     "execution_count": 2,
     "metadata": {},
     "output_type": "execute_result"
    }
   ],
   "source": [
    "X,y = shap.datasets.nhanesi()\n",
    "X_display,y_display = shap.datasets.nhanesi(display=True) # human readable feature values\n",
    "# remove the first column: unnamed: 0\n",
    "X = X.iloc[:, 1:]\n",
    "X_display = X_display.iloc[:, 1:]\n",
    "\n",
    "xgb_full = xgboost.DMatrix(X, label=y)\n",
    "\n",
    "# create a train/test split\n",
    "X_train, X_test, y_train, y_test = train_test_split(X, y, test_size=0.2, random_state=7)\n",
    "xgb_train = xgboost.DMatrix(X_train, label=y_train)\n",
    "xgb_test = xgboost.DMatrix(X_test, label=y_test)\n",
    "\n",
    "print(X.shape, X_display.shape)\n",
    "X.head()"
   ]
  },
  {
   "cell_type": "code",
   "execution_count": 3,
   "metadata": {},
   "outputs": [
    {
     "name": "stdout",
     "output_type": "stream",
     "text": [
      "[0]\ttest-cox-nloglik:7.26934\n",
      "[100]\ttest-cox-nloglik:7.04554\n",
      "[200]\ttest-cox-nloglik:6.90625\n",
      "[300]\ttest-cox-nloglik:6.80909\n",
      "[400]\ttest-cox-nloglik:6.73926\n",
      "[500]\ttest-cox-nloglik:6.68686\n",
      "[600]\ttest-cox-nloglik:6.64699\n",
      "[700]\ttest-cox-nloglik:6.61571\n",
      "[800]\ttest-cox-nloglik:6.59138\n",
      "[900]\ttest-cox-nloglik:6.57148\n",
      "[999]\ttest-cox-nloglik:6.55579\n"
     ]
    }
   ],
   "source": [
    "# use validation set to choose # of trees\n",
    "params = {\n",
    "    \"eta\": 0.002,\n",
    "    \"max_depth\": 3,\n",
    "    \"objective\": \"survival:cox\",\n",
    "    \"subsample\": 0.5\n",
    "}\n",
    "model_train = xgboost.train(params, xgb_train, 1000, evals = [(xgb_test, \"test\")], verbose_eval=100)\n",
    "\n",
    "# workaround from https://github.com/slundberg/shap/issues/1215\n",
    "mybooster = model_train\n",
    "\n",
    "model_bytearray = mybooster.save_raw()[4:]\n",
    "def myfun(self=None):\n",
    "    return model_bytearray\n",
    "mybooster.save_raw = myfun"
   ]
  },
  {
   "cell_type": "code",
   "execution_count": 4,
   "metadata": {},
   "outputs": [
    {
     "name": "stdout",
     "output_type": "stream",
     "text": [
      "[0]\ttest-cox-nloglik:8.88081\n",
      "[999]\ttest-cox-nloglik:8.16748\n"
     ]
    }
   ],
   "source": [
    "# train final model on the full data set\n",
    "params = {\n",
    "    \"eta\": 0.002,\n",
    "    \"max_depth\": 3, \n",
    "    \"objective\": \"survival:cox\",\n",
    "    \"subsample\": 0.5\n",
    "}\n",
    "model = xgboost.train(params, xgb_full, 1000, evals = [(xgb_full, \"test\")], verbose_eval=1000)\n",
    "\n",
    "# workaround from https://github.com/slundberg/shap/issues/1215\n",
    "mybooster = model\n",
    "\n",
    "model_bytearray = mybooster.save_raw()[4:]\n",
    "def myfun(self=None):\n",
    "    return model_bytearray\n",
    "mybooster.save_raw = myfun"
   ]
  },
  {
   "cell_type": "code",
   "execution_count": 5,
   "metadata": {},
   "outputs": [
    {
     "data": {
      "text/plain": [
       "0.8289463410825477"
      ]
     },
     "execution_count": 5,
     "metadata": {},
     "output_type": "execute_result"
    }
   ],
   "source": [
    "def c_statistic_harrell(pred, labels):\n",
    "    total = 0\n",
    "    matches = 0\n",
    "    for i in range(len(labels)):\n",
    "        for j in range(len(labels)):\n",
    "            if labels[j] > 0 and abs(labels[i]) > labels[j]:\n",
    "                total += 1\n",
    "                if pred[j] > pred[i]:\n",
    "                    matches += 1\n",
    "    return matches/total\n",
    "\n",
    "# see how well we can order people by survival\n",
    "c_statistic_harrell(model_train.predict(xgb_test, ntree_limit=5000), y_test)"
   ]
  },
  {
   "cell_type": "markdown",
   "metadata": {},
   "source": [
    "# Ind Shap"
   ]
  },
  {
   "cell_type": "code",
   "execution_count": 7,
   "metadata": {},
   "outputs": [
    {
     "name": "stderr",
     "output_type": "stream",
     "text": [
      "0it [00:00, ?it/s]\n"
     ]
    },
    {
     "data": {
      "image/svg+xml": [
       "<?xml version=\"1.0\" encoding=\"UTF-8\" standalone=\"no\"?>\n",
       "<!DOCTYPE svg PUBLIC \"-//W3C//DTD SVG 1.1//EN\"\n",
       " \"http://www.w3.org/Graphics/SVG/1.1/DTD/svg11.dtd\">\n",
       "<!-- Generated by graphviz version 2.38.0 (20140413.2041)\n",
       " -->\n",
       "<!-- Title: %3 Pages: 1 -->\n",
       "<svg width=\"2220pt\" height=\"116pt\"\n",
       " viewBox=\"0.00 0.00 2219.74 116.00\" xmlns=\"http://www.w3.org/2000/svg\" xmlns:xlink=\"http://www.w3.org/1999/xlink\">\n",
       "<g id=\"graph0\" class=\"graph\" transform=\"scale(1 1) rotate(0) translate(4 112)\">\n",
       "<title>%3</title>\n",
       "<polygon fill=\"white\" stroke=\"none\" points=\"-4,4 -4,-112 2215.74,-112 2215.74,4 -4,4\"/>\n",
       "<!-- predicted hazard -->\n",
       "<g id=\"node1\" class=\"node\"><title>predicted hazard</title>\n",
       "<ellipse fill=\"none\" stroke=\"black\" cx=\"1190\" cy=\"-18\" rx=\"69.5877\" ry=\"18\"/>\n",
       "<text text-anchor=\"middle\" x=\"1190\" y=\"-14.3\" font-family=\"Times,serif\" font-size=\"14.00\">predicted hazard</text>\n",
       "</g>\n",
       "<!-- Age -->\n",
       "<g id=\"node2\" class=\"node\"><title>Age</title>\n",
       "<ellipse fill=\"none\" stroke=\"black\" cx=\"27\" cy=\"-90\" rx=\"27\" ry=\"18\"/>\n",
       "<text text-anchor=\"middle\" x=\"27\" y=\"-86.3\" font-family=\"Times,serif\" font-size=\"14.00\">Age</text>\n",
       "</g>\n",
       "<!-- Age&#45;&gt;predicted hazard -->\n",
       "<g id=\"edge1\" class=\"edge\"><title>Age&#45;&gt;predicted hazard</title>\n",
       "<path fill=\"none\" stroke=\"black\" d=\"M47.0422,-77.8377C52.1067,-75.4976 57.6344,-73.3363 63,-72 261.56,-22.5483 886.702,-18.5132 1109.86,-18.7011\"/>\n",
       "<polygon fill=\"black\" stroke=\"black\" points=\"1110.17,-22.2013 1120.18,-18.713 1110.18,-15.2013 1110.17,-22.2013\"/>\n",
       "</g>\n",
       "<!-- Diastolic BP -->\n",
       "<g id=\"node3\" class=\"node\"><title>Diastolic BP</title>\n",
       "<ellipse fill=\"none\" stroke=\"black\" cx=\"128\" cy=\"-90\" rx=\"55.7903\" ry=\"18\"/>\n",
       "<text text-anchor=\"middle\" x=\"128\" y=\"-86.3\" font-family=\"Times,serif\" font-size=\"14.00\">Diastolic BP</text>\n",
       "</g>\n",
       "<!-- Diastolic BP&#45;&gt;predicted hazard -->\n",
       "<g id=\"edge2\" class=\"edge\"><title>Diastolic BP&#45;&gt;predicted hazard</title>\n",
       "<path fill=\"none\" stroke=\"black\" d=\"M167.607,-77.2802C175.93,-75.202 184.702,-73.292 193,-72 369.428,-44.5303 907.604,-26.9484 1111.01,-21.1304\"/>\n",
       "<polygon fill=\"black\" stroke=\"black\" points=\"1111.13,-24.6286 1121.02,-20.8458 1110.93,-17.6315 1111.13,-24.6286\"/>\n",
       "</g>\n",
       "<!-- Poverty index -->\n",
       "<g id=\"node4\" class=\"node\"><title>Poverty index</title>\n",
       "<ellipse fill=\"none\" stroke=\"black\" cx=\"262\" cy=\"-90\" rx=\"59.5901\" ry=\"18\"/>\n",
       "<text text-anchor=\"middle\" x=\"262\" y=\"-86.3\" font-family=\"Times,serif\" font-size=\"14.00\">Poverty index</text>\n",
       "</g>\n",
       "<!-- Poverty index&#45;&gt;predicted hazard -->\n",
       "<g id=\"edge3\" class=\"edge\"><title>Poverty index&#45;&gt;predicted hazard</title>\n",
       "<path fill=\"none\" stroke=\"black\" d=\"M304.196,-77.1775C312.683,-75.1608 321.582,-73.3004 330,-72 614.694,-28.0216 957.721,-20.2171 1110.22,-19.0493\"/>\n",
       "<polygon fill=\"black\" stroke=\"black\" points=\"1110.45,-22.5479 1120.42,-18.979 1110.4,-15.548 1110.45,-22.5479\"/>\n",
       "</g>\n",
       "<!-- Race -->\n",
       "<g id=\"node5\" class=\"node\"><title>Race</title>\n",
       "<ellipse fill=\"none\" stroke=\"black\" cx=\"368\" cy=\"-90\" rx=\"28.6953\" ry=\"18\"/>\n",
       "<text text-anchor=\"middle\" x=\"368\" y=\"-86.3\" font-family=\"Times,serif\" font-size=\"14.00\">Race</text>\n",
       "</g>\n",
       "<!-- Race&#45;&gt;predicted hazard -->\n",
       "<g id=\"edge4\" class=\"edge\"><title>Race&#45;&gt;predicted hazard</title>\n",
       "<path fill=\"none\" stroke=\"black\" d=\"M389.038,-77.7441C394.134,-75.4682 399.656,-73.3591 405,-72 536.838,-38.4691 938.733,-25.0314 1110.64,-20.7183\"/>\n",
       "<polygon fill=\"black\" stroke=\"black\" points=\"1110.97,-24.2112 1120.88,-20.4653 1110.8,-17.2133 1110.97,-24.2112\"/>\n",
       "</g>\n",
       "<!-- Red blood cells -->\n",
       "<g id=\"node6\" class=\"node\"><title>Red blood cells</title>\n",
       "<ellipse fill=\"none\" stroke=\"black\" cx=\"480\" cy=\"-90\" rx=\"65.7887\" ry=\"18\"/>\n",
       "<text text-anchor=\"middle\" x=\"480\" y=\"-86.3\" font-family=\"Times,serif\" font-size=\"14.00\">Red blood cells</text>\n",
       "</g>\n",
       "<!-- Red blood cells&#45;&gt;predicted hazard -->\n",
       "<g id=\"edge5\" class=\"edge\"><title>Red blood cells&#45;&gt;predicted hazard</title>\n",
       "<path fill=\"none\" stroke=\"black\" d=\"M527.017,-77.2879C536.25,-75.2873 545.895,-73.4048 555,-72 753.927,-41.3069 990.85,-27.4705 1111.27,-22.034\"/>\n",
       "<polygon fill=\"black\" stroke=\"black\" points=\"1111.67,-25.52 1121.5,-21.5798 1111.36,-18.5269 1111.67,-25.52\"/>\n",
       "</g>\n",
       "<!-- Sedimentation rate -->\n",
       "<g id=\"node7\" class=\"node\"><title>Sedimentation rate</title>\n",
       "<ellipse fill=\"none\" stroke=\"black\" cx=\"641\" cy=\"-90\" rx=\"77.1866\" ry=\"18\"/>\n",
       "<text text-anchor=\"middle\" x=\"641\" y=\"-86.3\" font-family=\"Times,serif\" font-size=\"14.00\">Sedimentation rate</text>\n",
       "</g>\n",
       "<!-- Sedimentation rate&#45;&gt;predicted hazard -->\n",
       "<g id=\"edge6\" class=\"edge\"><title>Sedimentation rate&#45;&gt;predicted hazard</title>\n",
       "<path fill=\"none\" stroke=\"black\" d=\"M696.58,-77.4634C706.995,-75.4938 717.81,-73.5775 728,-72 864.115,-50.9274 1023.99,-34.403 1115.51,-25.7235\"/>\n",
       "<polygon fill=\"black\" stroke=\"black\" points=\"1115.88,-29.204 1125.51,-24.7806 1115.23,-22.2349 1115.88,-29.204\"/>\n",
       "</g>\n",
       "<!-- Serum Albumin -->\n",
       "<g id=\"node8\" class=\"node\"><title>Serum Albumin</title>\n",
       "<ellipse fill=\"none\" stroke=\"black\" cx=\"805\" cy=\"-90\" rx=\"68.4888\" ry=\"18\"/>\n",
       "<text text-anchor=\"middle\" x=\"805\" y=\"-86.3\" font-family=\"Times,serif\" font-size=\"14.00\">Serum Albumin</text>\n",
       "</g>\n",
       "<!-- Serum Albumin&#45;&gt;predicted hazard -->\n",
       "<g id=\"edge7\" class=\"edge\"><title>Serum Albumin&#45;&gt;predicted hazard</title>\n",
       "<path fill=\"none\" stroke=\"black\" d=\"M855.284,-77.7032C864.489,-75.7312 874.022,-73.7525 883,-72 965.091,-55.976 1060.03,-39.9716 1122.34,-29.8102\"/>\n",
       "<polygon fill=\"black\" stroke=\"black\" points=\"1123.12,-33.2284 1132.43,-28.1685 1122,-26.3192 1123.12,-33.2284\"/>\n",
       "</g>\n",
       "<!-- Serum Cholesterol -->\n",
       "<g id=\"node9\" class=\"node\"><title>Serum Cholesterol</title>\n",
       "<ellipse fill=\"none\" stroke=\"black\" cx=\"969\" cy=\"-90\" rx=\"77.1866\" ry=\"18\"/>\n",
       "<text text-anchor=\"middle\" x=\"969\" y=\"-86.3\" font-family=\"Times,serif\" font-size=\"14.00\">Serum Cholesterol</text>\n",
       "</g>\n",
       "<!-- Serum Cholesterol&#45;&gt;predicted hazard -->\n",
       "<g id=\"edge8\" class=\"edge\"><title>Serum Cholesterol&#45;&gt;predicted hazard</title>\n",
       "<path fill=\"none\" stroke=\"black\" d=\"M1012.93,-75.0866C1048.86,-63.7038 1099.78,-47.577 1137.79,-35.5357\"/>\n",
       "<polygon fill=\"black\" stroke=\"black\" points=\"1139.18,-38.768 1147.66,-32.4118 1137.07,-32.0948 1139.18,-38.768\"/>\n",
       "</g>\n",
       "<!-- Serum Iron -->\n",
       "<g id=\"node10\" class=\"node\"><title>Serum Iron</title>\n",
       "<ellipse fill=\"none\" stroke=\"black\" cx=\"1116\" cy=\"-90\" rx=\"51.1914\" ry=\"18\"/>\n",
       "<text text-anchor=\"middle\" x=\"1116\" y=\"-86.3\" font-family=\"Times,serif\" font-size=\"14.00\">Serum Iron</text>\n",
       "</g>\n",
       "<!-- Serum Iron&#45;&gt;predicted hazard -->\n",
       "<g id=\"edge9\" class=\"edge\"><title>Serum Iron&#45;&gt;predicted hazard</title>\n",
       "<path fill=\"none\" stroke=\"black\" d=\"M1133.16,-72.7646C1142.65,-63.7947 1154.6,-52.4902 1165.09,-42.5643\"/>\n",
       "<polygon fill=\"black\" stroke=\"black\" points=\"1167.56,-45.0481 1172.42,-35.6334 1162.75,-39.9628 1167.56,-45.0481\"/>\n",
       "</g>\n",
       "<!-- Serum Magnesium -->\n",
       "<g id=\"node11\" class=\"node\"><title>Serum Magnesium</title>\n",
       "<ellipse fill=\"none\" stroke=\"black\" cx=\"1265\" cy=\"-90\" rx=\"79.0865\" ry=\"18\"/>\n",
       "<text text-anchor=\"middle\" x=\"1265\" y=\"-86.3\" font-family=\"Times,serif\" font-size=\"14.00\">Serum Magnesium</text>\n",
       "</g>\n",
       "<!-- Serum Magnesium&#45;&gt;predicted hazard -->\n",
       "<g id=\"edge10\" class=\"edge\"><title>Serum Magnesium&#45;&gt;predicted hazard</title>\n",
       "<path fill=\"none\" stroke=\"black\" d=\"M1247.23,-72.411C1237.61,-63.4318 1225.56,-52.1926 1215.01,-42.3436\"/>\n",
       "<polygon fill=\"black\" stroke=\"black\" points=\"1217.35,-39.7345 1207.65,-35.4699 1212.57,-44.8519 1217.35,-39.7345\"/>\n",
       "</g>\n",
       "<!-- Serum Protein -->\n",
       "<g id=\"node12\" class=\"node\"><title>Serum Protein</title>\n",
       "<ellipse fill=\"none\" stroke=\"black\" cx=\"1424\" cy=\"-90\" rx=\"61.99\" ry=\"18\"/>\n",
       "<text text-anchor=\"middle\" x=\"1424\" y=\"-86.3\" font-family=\"Times,serif\" font-size=\"14.00\">Serum Protein</text>\n",
       "</g>\n",
       "<!-- Serum Protein&#45;&gt;predicted hazard -->\n",
       "<g id=\"edge11\" class=\"edge\"><title>Serum Protein&#45;&gt;predicted hazard</title>\n",
       "<path fill=\"none\" stroke=\"black\" d=\"M1382.44,-76.5661C1343.77,-64.9999 1285.95,-47.7022 1243.78,-35.0882\"/>\n",
       "<polygon fill=\"black\" stroke=\"black\" points=\"1244.54,-31.6629 1233.96,-32.1501 1242.54,-38.3693 1244.54,-31.6629\"/>\n",
       "</g>\n",
       "<!-- Sex -->\n",
       "<g id=\"node13\" class=\"node\"><title>Sex</title>\n",
       "<ellipse fill=\"none\" stroke=\"black\" cx=\"1531\" cy=\"-90\" rx=\"27\" ry=\"18\"/>\n",
       "<text text-anchor=\"middle\" x=\"1531\" y=\"-86.3\" font-family=\"Times,serif\" font-size=\"14.00\">Sex</text>\n",
       "</g>\n",
       "<!-- Sex&#45;&gt;predicted hazard -->\n",
       "<g id=\"edge12\" class=\"edge\"><title>Sex&#45;&gt;predicted hazard</title>\n",
       "<path fill=\"none\" stroke=\"black\" d=\"M1510.44,-78.133C1505.49,-75.8411 1500.14,-73.6273 1495,-72 1418.31,-47.7208 1327.04,-33.7152 1264.46,-26.2692\"/>\n",
       "<polygon fill=\"black\" stroke=\"black\" points=\"1264.61,-22.7641 1254.28,-25.0859 1263.81,-29.7173 1264.61,-22.7641\"/>\n",
       "</g>\n",
       "<!-- Systolic BP -->\n",
       "<g id=\"node14\" class=\"node\"><title>Systolic BP</title>\n",
       "<ellipse fill=\"none\" stroke=\"black\" cx=\"1628\" cy=\"-90\" rx=\"51.9908\" ry=\"18\"/>\n",
       "<text text-anchor=\"middle\" x=\"1628\" y=\"-86.3\" font-family=\"Times,serif\" font-size=\"14.00\">Systolic BP</text>\n",
       "</g>\n",
       "<!-- Systolic BP&#45;&gt;predicted hazard -->\n",
       "<g id=\"edge13\" class=\"edge\"><title>Systolic BP&#45;&gt;predicted hazard</title>\n",
       "<path fill=\"none\" stroke=\"black\" d=\"M1590.12,-77.6078C1582.51,-75.5555 1574.53,-73.5721 1567,-72 1462.66,-50.2267 1340.18,-34.8539 1263.81,-26.4576\"/>\n",
       "<polygon fill=\"black\" stroke=\"black\" points=\"1264.13,-22.9717 1253.81,-25.3689 1263.37,-29.9306 1264.13,-22.9717\"/>\n",
       "</g>\n",
       "<!-- TIBC -->\n",
       "<g id=\"node15\" class=\"node\"><title>TIBC</title>\n",
       "<ellipse fill=\"none\" stroke=\"black\" cx=\"1729\" cy=\"-90\" rx=\"30.5947\" ry=\"18\"/>\n",
       "<text text-anchor=\"middle\" x=\"1729\" y=\"-86.3\" font-family=\"Times,serif\" font-size=\"14.00\">TIBC</text>\n",
       "</g>\n",
       "<!-- TIBC&#45;&gt;predicted hazard -->\n",
       "<g id=\"edge14\" class=\"edge\"><title>TIBC&#45;&gt;predicted hazard</title>\n",
       "<path fill=\"none\" stroke=\"black\" d=\"M1706.14,-77.9165C1700.64,-75.6336 1694.7,-73.478 1689,-72 1544.23,-34.4412 1369.22,-23.422 1269.64,-20.2378\"/>\n",
       "<polygon fill=\"black\" stroke=\"black\" points=\"1269.45,-16.7307 1259.35,-19.9283 1269.24,-23.7276 1269.45,-16.7307\"/>\n",
       "</g>\n",
       "<!-- TS -->\n",
       "<g id=\"node16\" class=\"node\"><title>TS</title>\n",
       "<ellipse fill=\"none\" stroke=\"black\" cx=\"1805\" cy=\"-90\" rx=\"27\" ry=\"18\"/>\n",
       "<text text-anchor=\"middle\" x=\"1805\" y=\"-86.3\" font-family=\"Times,serif\" font-size=\"14.00\">TS</text>\n",
       "</g>\n",
       "<!-- TS&#45;&gt;predicted hazard -->\n",
       "<g id=\"edge15\" class=\"edge\"><title>TS&#45;&gt;predicted hazard</title>\n",
       "<path fill=\"none\" stroke=\"black\" d=\"M1784.53,-77.8301C1779.58,-75.5507 1774.2,-73.4184 1769,-72 1676.7,-46.8288 1403.62,-29.8748 1268.1,-22.7702\"/>\n",
       "<polygon fill=\"black\" stroke=\"black\" points=\"1267.96,-19.2584 1257.79,-22.235 1267.6,-26.249 1267.96,-19.2584\"/>\n",
       "</g>\n",
       "<!-- White blood cells -->\n",
       "<g id=\"node17\" class=\"node\"><title>White blood cells</title>\n",
       "<ellipse fill=\"none\" stroke=\"black\" cx=\"1923\" cy=\"-90\" rx=\"73.387\" ry=\"18\"/>\n",
       "<text text-anchor=\"middle\" x=\"1923\" y=\"-86.3\" font-family=\"Times,serif\" font-size=\"14.00\">White blood cells</text>\n",
       "</g>\n",
       "<!-- White blood cells&#45;&gt;predicted hazard -->\n",
       "<g id=\"edge16\" class=\"edge\"><title>White blood cells&#45;&gt;predicted hazard</title>\n",
       "<path fill=\"none\" stroke=\"black\" d=\"M1871.12,-77.238C1861.16,-75.2664 1850.79,-73.4073 1841,-72 1635.49,-42.4456 1390.92,-28.055 1268.3,-22.2558\"/>\n",
       "<polygon fill=\"black\" stroke=\"black\" points=\"1268.41,-18.7569 1258.26,-21.787 1268.08,-25.7493 1268.41,-18.7569\"/>\n",
       "</g>\n",
       "<!-- BMI -->\n",
       "<g id=\"node18\" class=\"node\"><title>BMI</title>\n",
       "<ellipse fill=\"none\" stroke=\"black\" cx=\"2042\" cy=\"-90\" rx=\"27.8951\" ry=\"18\"/>\n",
       "<text text-anchor=\"middle\" x=\"2042\" y=\"-86.3\" font-family=\"Times,serif\" font-size=\"14.00\">BMI</text>\n",
       "</g>\n",
       "<!-- BMI&#45;&gt;predicted hazard -->\n",
       "<g id=\"edge17\" class=\"edge\"><title>BMI&#45;&gt;predicted hazard</title>\n",
       "<path fill=\"none\" stroke=\"black\" d=\"M2020.96,-77.7345C2015.87,-75.459 2010.35,-73.3525 2005,-72 1867.29,-37.1576 1445.91,-24.3892 1269.25,-20.4849\"/>\n",
       "<polygon fill=\"black\" stroke=\"black\" points=\"1269.31,-16.9856 1259.24,-20.2674 1269.16,-23.9839 1269.31,-16.9856\"/>\n",
       "</g>\n",
       "<!-- Pulse pressure -->\n",
       "<g id=\"node19\" class=\"node\"><title>Pulse pressure</title>\n",
       "<ellipse fill=\"none\" stroke=\"black\" cx=\"2150\" cy=\"-90\" rx=\"61.99\" ry=\"18\"/>\n",
       "<text text-anchor=\"middle\" x=\"2150\" y=\"-86.3\" font-family=\"Times,serif\" font-size=\"14.00\">Pulse pressure</text>\n",
       "</g>\n",
       "<!-- Pulse pressure&#45;&gt;predicted hazard -->\n",
       "<g id=\"edge18\" class=\"edge\"><title>Pulse pressure&#45;&gt;predicted hazard</title>\n",
       "<path fill=\"none\" stroke=\"black\" d=\"M2106.3,-77.2665C2097.33,-75.2163 2087.9,-73.3206 2079,-72 1782.98,-28.0842 1426.4,-20.2782 1270.05,-19.083\"/>\n",
       "<polygon fill=\"black\" stroke=\"black\" points=\"1269.61,-15.5801 1259.59,-19.0108 1269.56,-22.5799 1269.61,-15.5801\"/>\n",
       "</g>\n",
       "</g>\n",
       "</svg>\n"
      ],
      "text/plain": [
       "<graphviz.files.Source at 0x7f75ed220cd0>"
      ]
     },
     "metadata": {},
     "output_type": "display_data"
    }
   ],
   "source": [
    "causal_links = CausalLinks()\n",
    "categorical_feature_names = ['Race', 'Sex']\n",
    "display_translator = translator(X.columns, X, X_display)\n",
    "target_name = 'predicted hazard'\n",
    "feature_names = list(X.columns)\n",
    "\n",
    "# build causal links\n",
    "causal_links.add_causes_effects(feature_names, target_name, create_xgboost_f(feature_names, model, output_margin=True)) # the target\n",
    "graph = build_feature_graph(X.fillna(X.mean()), causal_links, categorical_feature_names, display_translator, target_name)\n",
    "graph.draw()"
   ]
  },
  {
   "cell_type": "code",
   "execution_count": 10,
   "metadata": {
    "collapsed": true,
    "jupyter": {
     "outputs_hidden": true
    }
   },
   "outputs": [
    {
     "name": "stderr",
     "output_type": "stream",
     "text": [
      "bruteforce sampling: 100%|██████████| 1/1 [00:00<00:00,  9.64it/s]\n",
      "bruteforce sampling:   0%|          | 0/1 [00:00<?, ?it/s]"
     ]
    },
    {
     "name": "stdout",
     "output_type": "stream",
     "text": [
      "bg 0/10\n"
     ]
    },
    {
     "name": "stderr",
     "output_type": "stream",
     "text": [
      "bruteforce sampling: 100%|██████████| 1/1 [00:00<00:00,  9.81it/s]\n",
      "bruteforce sampling: 100%|██████████| 1/1 [00:00<00:00, 11.14it/s]\n",
      "bruteforce sampling: 100%|██████████| 1/1 [00:00<00:00,  8.93it/s]\n",
      "bruteforce sampling: 100%|██████████| 1/1 [00:00<00:00,  9.39it/s]\n",
      "bruteforce sampling: 100%|██████████| 1/1 [00:00<00:00, 10.49it/s]\n",
      "bruteforce sampling: 100%|██████████| 1/1 [00:00<00:00, 11.22it/s]\n",
      "bruteforce sampling: 100%|██████████| 1/1 [00:00<00:00, 10.70it/s]\n",
      "bruteforce sampling: 100%|██████████| 1/1 [00:00<00:00, 13.34it/s]\n",
      "bruteforce sampling: 100%|██████████| 1/1 [00:00<00:00, 10.16it/s]\n",
      "bruteforce sampling: 100%|██████████| 1/1 [00:00<00:00,  9.43it/s]\n",
      "bruteforce sampling:   0%|          | 0/1 [00:00<?, ?it/s]"
     ]
    },
    {
     "name": "stdout",
     "output_type": "stream",
     "text": [
      "bg 1/10\n"
     ]
    },
    {
     "name": "stderr",
     "output_type": "stream",
     "text": [
      "bruteforce sampling: 100%|██████████| 1/1 [00:00<00:00, 11.13it/s]\n",
      "bruteforce sampling: 100%|██████████| 1/1 [00:00<00:00, 10.90it/s]\n",
      "bruteforce sampling: 100%|██████████| 1/1 [00:00<00:00, 11.22it/s]\n",
      "bruteforce sampling: 100%|██████████| 1/1 [00:00<00:00, 11.05it/s]\n",
      "bruteforce sampling: 100%|██████████| 1/1 [00:00<00:00, 10.96it/s]\n",
      "bruteforce sampling: 100%|██████████| 1/1 [00:00<00:00, 11.12it/s]\n",
      "bruteforce sampling: 100%|██████████| 1/1 [00:00<00:00, 14.64it/s]\n",
      "bruteforce sampling: 100%|██████████| 1/1 [00:00<00:00, 10.93it/s]\n",
      "bruteforce sampling: 100%|██████████| 1/1 [00:00<00:00, 11.38it/s]\n",
      "bruteforce sampling: 100%|██████████| 1/1 [00:00<00:00, 11.01it/s]\n",
      "bruteforce sampling:   0%|          | 0/1 [00:00<?, ?it/s]"
     ]
    },
    {
     "name": "stdout",
     "output_type": "stream",
     "text": [
      "bg 2/10\n"
     ]
    },
    {
     "name": "stderr",
     "output_type": "stream",
     "text": [
      "bruteforce sampling: 100%|██████████| 1/1 [00:00<00:00,  9.66it/s]\n",
      "bruteforce sampling: 100%|██████████| 1/1 [00:00<00:00, 12.91it/s]\n",
      "bruteforce sampling: 100%|██████████| 1/1 [00:00<00:00, 10.73it/s]\n",
      "bruteforce sampling: 100%|██████████| 1/1 [00:00<00:00,  9.45it/s]\n",
      "bruteforce sampling: 100%|██████████| 1/1 [00:00<00:00, 11.46it/s]\n",
      "bruteforce sampling: 100%|██████████| 1/1 [00:00<00:00, 10.64it/s]\n",
      "bruteforce sampling: 100%|██████████| 1/1 [00:00<00:00, 10.94it/s]\n",
      "bruteforce sampling: 100%|██████████| 1/1 [00:00<00:00, 11.12it/s]\n",
      "bruteforce sampling: 100%|██████████| 1/1 [00:00<00:00, 11.07it/s]\n",
      "bruteforce sampling: 100%|██████████| 1/1 [00:00<00:00, 13.19it/s]\n",
      "bruteforce sampling: 100%|██████████| 1/1 [00:00<00:00, 11.08it/s]\n"
     ]
    },
    {
     "name": "stdout",
     "output_type": "stream",
     "text": [
      "bg 3/10\n"
     ]
    },
    {
     "name": "stderr",
     "output_type": "stream",
     "text": [
      "bruteforce sampling: 100%|██████████| 1/1 [00:00<00:00, 10.76it/s]\n",
      "bruteforce sampling: 100%|██████████| 1/1 [00:00<00:00, 14.51it/s]\n",
      "bruteforce sampling: 100%|██████████| 1/1 [00:00<00:00,  9.85it/s]\n",
      "bruteforce sampling: 100%|██████████| 1/1 [00:00<00:00,  9.83it/s]\n",
      "bruteforce sampling: 100%|██████████| 1/1 [00:00<00:00, 11.24it/s]\n",
      "bruteforce sampling: 100%|██████████| 1/1 [00:00<00:00, 10.90it/s]\n",
      "bruteforce sampling: 100%|██████████| 1/1 [00:00<00:00, 14.48it/s]\n",
      "bruteforce sampling: 100%|██████████| 1/1 [00:00<00:00, 10.91it/s]\n",
      "bruteforce sampling: 100%|██████████| 1/1 [00:00<00:00, 11.34it/s]\n",
      "bruteforce sampling:   0%|          | 0/1 [00:00<?, ?it/s]"
     ]
    },
    {
     "name": "stdout",
     "output_type": "stream",
     "text": [
      "bg 4/10\n"
     ]
    },
    {
     "name": "stderr",
     "output_type": "stream",
     "text": [
      "bruteforce sampling: 100%|██████████| 1/1 [00:00<00:00, 11.18it/s]\n",
      "bruteforce sampling: 100%|██████████| 1/1 [00:00<00:00, 10.68it/s]\n",
      "bruteforce sampling: 100%|██████████| 1/1 [00:00<00:00, 11.39it/s]\n",
      "bruteforce sampling: 100%|██████████| 1/1 [00:00<00:00, 11.00it/s]\n",
      "bruteforce sampling: 100%|██████████| 1/1 [00:00<00:00, 11.05it/s]\n",
      "bruteforce sampling: 100%|██████████| 1/1 [00:00<00:00,  9.52it/s]\n",
      "bruteforce sampling: 100%|██████████| 1/1 [00:00<00:00, 10.21it/s]\n",
      "bruteforce sampling: 100%|██████████| 1/1 [00:00<00:00, 11.07it/s]\n",
      "bruteforce sampling: 100%|██████████| 1/1 [00:00<00:00, 10.82it/s]\n",
      "bruteforce sampling: 100%|██████████| 1/1 [00:00<00:00, 11.01it/s]\n",
      "bruteforce sampling:   0%|          | 0/1 [00:00<?, ?it/s]"
     ]
    },
    {
     "name": "stdout",
     "output_type": "stream",
     "text": [
      "bg 5/10\n"
     ]
    },
    {
     "name": "stderr",
     "output_type": "stream",
     "text": [
      "bruteforce sampling: 100%|██████████| 1/1 [00:00<00:00, 10.77it/s]\n",
      "bruteforce sampling: 100%|██████████| 1/1 [00:00<00:00, 13.78it/s]\n",
      "bruteforce sampling: 100%|██████████| 1/1 [00:00<00:00, 14.84it/s]\n",
      "bruteforce sampling: 100%|██████████| 1/1 [00:00<00:00, 11.23it/s]\n",
      "bruteforce sampling: 100%|██████████| 1/1 [00:00<00:00, 10.13it/s]\n",
      "bruteforce sampling: 100%|██████████| 1/1 [00:00<00:00, 10.98it/s]\n",
      "bruteforce sampling: 100%|██████████| 1/1 [00:00<00:00,  9.80it/s]\n",
      "bruteforce sampling: 100%|██████████| 1/1 [00:00<00:00, 10.16it/s]\n",
      "bruteforce sampling: 100%|██████████| 1/1 [00:00<00:00,  9.76it/s]\n",
      "bruteforce sampling: 100%|██████████| 1/1 [00:00<00:00, 11.35it/s]\n",
      "bruteforce sampling:   0%|          | 0/1 [00:00<?, ?it/s]"
     ]
    },
    {
     "name": "stdout",
     "output_type": "stream",
     "text": [
      "bg 6/10\n"
     ]
    },
    {
     "name": "stderr",
     "output_type": "stream",
     "text": [
      "bruteforce sampling: 100%|██████████| 1/1 [00:00<00:00, 10.95it/s]\n",
      "bruteforce sampling: 100%|██████████| 1/1 [00:00<00:00, 10.68it/s]\n",
      "bruteforce sampling: 100%|██████████| 1/1 [00:00<00:00, 11.47it/s]\n",
      "bruteforce sampling: 100%|██████████| 1/1 [00:00<00:00, 12.91it/s]\n",
      "bruteforce sampling: 100%|██████████| 1/1 [00:00<00:00, 10.80it/s]\n",
      "bruteforce sampling: 100%|██████████| 1/1 [00:00<00:00, 10.81it/s]\n",
      "bruteforce sampling: 100%|██████████| 1/1 [00:00<00:00, 13.77it/s]\n",
      "bruteforce sampling: 100%|██████████| 1/1 [00:00<00:00, 11.02it/s]\n",
      "bruteforce sampling: 100%|██████████| 1/1 [00:00<00:00,  9.71it/s]\n",
      "bruteforce sampling: 100%|██████████| 1/1 [00:00<00:00, 11.15it/s]\n",
      "bruteforce sampling:   0%|          | 0/1 [00:00<?, ?it/s]"
     ]
    },
    {
     "name": "stdout",
     "output_type": "stream",
     "text": [
      "bg 7/10\n"
     ]
    },
    {
     "name": "stderr",
     "output_type": "stream",
     "text": [
      "bruteforce sampling: 100%|██████████| 1/1 [00:00<00:00, 10.12it/s]\n",
      "bruteforce sampling: 100%|██████████| 1/1 [00:00<00:00, 11.13it/s]\n",
      "bruteforce sampling: 100%|██████████| 1/1 [00:00<00:00, 11.15it/s]\n",
      "bruteforce sampling: 100%|██████████| 1/1 [00:00<00:00, 11.62it/s]\n",
      "bruteforce sampling: 100%|██████████| 1/1 [00:00<00:00, 11.15it/s]\n",
      "bruteforce sampling: 100%|██████████| 1/1 [00:00<00:00, 11.18it/s]\n",
      "bruteforce sampling: 100%|██████████| 1/1 [00:00<00:00, 10.26it/s]\n",
      "bruteforce sampling: 100%|██████████| 1/1 [00:00<00:00, 11.17it/s]\n",
      "bruteforce sampling: 100%|██████████| 1/1 [00:00<00:00, 11.38it/s]\n",
      "bruteforce sampling: 100%|██████████| 1/1 [00:00<00:00, 11.14it/s]\n",
      "bruteforce sampling:   0%|          | 0/1 [00:00<?, ?it/s]"
     ]
    },
    {
     "name": "stdout",
     "output_type": "stream",
     "text": [
      "bg 8/10\n"
     ]
    },
    {
     "name": "stderr",
     "output_type": "stream",
     "text": [
      "bruteforce sampling: 100%|██████████| 1/1 [00:00<00:00, 10.96it/s]\n",
      "bruteforce sampling: 100%|██████████| 1/1 [00:00<00:00, 11.31it/s]\n",
      "bruteforce sampling: 100%|██████████| 1/1 [00:00<00:00, 10.75it/s]\n",
      "bruteforce sampling: 100%|██████████| 1/1 [00:00<00:00, 12.11it/s]\n",
      "bruteforce sampling: 100%|██████████| 1/1 [00:00<00:00, 15.49it/s]\n",
      "bruteforce sampling: 100%|██████████| 1/1 [00:00<00:00, 15.65it/s]\n",
      "bruteforce sampling: 100%|██████████| 1/1 [00:00<00:00, 11.34it/s]\n",
      "bruteforce sampling: 100%|██████████| 1/1 [00:00<00:00,  9.43it/s]\n",
      "bruteforce sampling: 100%|██████████| 1/1 [00:00<00:00, 10.59it/s]\n",
      "bruteforce sampling: 100%|██████████| 1/1 [00:00<00:00, 11.48it/s]\n",
      "bruteforce sampling:   0%|          | 0/1 [00:00<?, ?it/s]"
     ]
    },
    {
     "name": "stdout",
     "output_type": "stream",
     "text": [
      "bg 9/10\n"
     ]
    },
    {
     "name": "stderr",
     "output_type": "stream",
     "text": [
      "bruteforce sampling: 100%|██████████| 1/1 [00:00<00:00, 10.91it/s]\n",
      "bruteforce sampling: 100%|██████████| 1/1 [00:00<00:00, 10.14it/s]\n",
      "bruteforce sampling: 100%|██████████| 1/1 [00:00<00:00, 10.10it/s]\n",
      "bruteforce sampling: 100%|██████████| 1/1 [00:00<00:00, 11.07it/s]\n",
      "bruteforce sampling: 100%|██████████| 1/1 [00:00<00:00, 11.12it/s]\n",
      "bruteforce sampling: 100%|██████████| 1/1 [00:00<00:00, 10.98it/s]\n",
      "bruteforce sampling: 100%|██████████| 1/1 [00:00<00:00, 11.21it/s]\n",
      "bruteforce sampling: 100%|██████████| 1/1 [00:00<00:00, 11.03it/s]\n",
      "bruteforce sampling: 100%|██████████| 1/1 [00:00<00:00, 11.52it/s]\n"
     ]
    }
   ],
   "source": [
    "def node_dict2str_dict(node_edge_credit):\n",
    "    res = defaultdict(lambda: defaultdict(int))\n",
    "    for node1, d in node_edge_credit.items():\n",
    "        for node2, val in d.items():\n",
    "            res[node1.name][node2.name] = val\n",
    "    return res\n",
    "\n",
    "# multiple background result with individual run\n",
    "edge_credits = [] # save for each run\n",
    "for i in range(len(bg)): # average run result using linearity axiom\n",
    "    print(f'bg {i}/{len(bg)}')\n",
    "    for j in range(nruns):\n",
    "        explainer = GraphExplainer(graph, bg[i:i+1], nruns=1) \n",
    "        cf = explainer.shap_values(X[:nsamples])\n",
    "        edge_credits.append(node_dict2str_dict(cf.edge_credit)) # use node name is more portable vs. node"
   ]
  },
  {
   "cell_type": "code",
   "execution_count": 44,
   "metadata": {},
   "outputs": [
    {
     "data": {
      "image/svg+xml": [
       "<?xml version=\"1.0\" encoding=\"UTF-8\" standalone=\"no\"?>\n",
       "<!DOCTYPE svg PUBLIC \"-//W3C//DTD SVG 1.1//EN\"\n",
       " \"http://www.w3.org/Graphics/SVG/1.1/DTD/svg11.dtd\">\n",
       "<!-- Generated by graphviz version 2.38.0 (20140413.2041)\n",
       " -->\n",
       "<!-- Title: %3 Pages: 1 -->\n",
       "<svg width=\"1417pt\" height=\"131pt\"\n",
       " viewBox=\"0.00 0.00 1416.64 131.00\" xmlns=\"http://www.w3.org/2000/svg\" xmlns:xlink=\"http://www.w3.org/1999/xlink\">\n",
       "<g id=\"graph0\" class=\"graph\" transform=\"scale(1 1) rotate(0) translate(4 127)\">\n",
       "<title>%3</title>\n",
       "<polygon fill=\"white\" stroke=\"none\" points=\"-4,4 -4,-127 1412.64,-127 1412.64,4 -4,4\"/>\n",
       "<!-- Serum Cholesterol -->\n",
       "<g id=\"node1\" class=\"node\"><title>Serum Cholesterol</title>\n",
       "<ellipse fill=\"none\" stroke=\"black\" cx=\"77.3431\" cy=\"-105\" rx=\"77.1866\" ry=\"18\"/>\n",
       "<text text-anchor=\"middle\" x=\"77.3431\" y=\"-101.3\" font-family=\"Times,serif\" font-size=\"14.00\">Serum Cholesterol</text>\n",
       "</g>\n",
       "<!-- predicted hazard -->\n",
       "<g id=\"node2\" class=\"node\"><title>predicted hazard</title>\n",
       "<ellipse fill=\"none\" stroke=\"black\" cx=\"1032.34\" cy=\"-18\" rx=\"69.5877\" ry=\"18\"/>\n",
       "<text text-anchor=\"middle\" x=\"1032.34\" y=\"-14.3\" font-family=\"Times,serif\" font-size=\"14.00\">predicted hazard</text>\n",
       "</g>\n",
       "<!-- Serum Cholesterol&#45;&gt;predicted hazard -->\n",
       "<g id=\"edge1\" class=\"edge\"><title>Serum Cholesterol&#45;&gt;predicted hazard</title>\n",
       "<path fill=\"none\" stroke=\"#008bfb\" stroke-width=\"0.11587\" d=\"M98.8893,-87.6572C115.726,-75.9067 140.241,-60.9558 164.343,-54 238.761,-32.5234 752.678,-22.9771 952.819,-20.0436\"/>\n",
       "<polygon fill=\"#008bfb\" stroke=\"#008bfb\" stroke-width=\"0.11587\" points=\"953.022,-23.5411 962.97,-19.8965 952.92,-16.5419 953.022,-23.5411\"/>\n",
       "<text text-anchor=\"middle\" x=\"219.343\" y=\"-57.8\" font-family=\"Times,serif\" font-size=\"14.00\" fill=\"#008bfb\">(&#45;0.02, &#45;0.02, &#45;0.01)</text>\n",
       "</g>\n",
       "<!-- White blood cells -->\n",
       "<g id=\"node3\" class=\"node\"><title>White blood cells</title>\n",
       "<ellipse fill=\"none\" stroke=\"black\" cx=\"246.343\" cy=\"-105\" rx=\"73.387\" ry=\"18\"/>\n",
       "<text text-anchor=\"middle\" x=\"246.343\" y=\"-101.3\" font-family=\"Times,serif\" font-size=\"14.00\">White blood cells</text>\n",
       "</g>\n",
       "<!-- White blood cells&#45;&gt;predicted hazard -->\n",
       "<g id=\"edge2\" class=\"edge\"><title>White blood cells&#45;&gt;predicted hazard</title>\n",
       "<path fill=\"none\" stroke=\"#008bfb\" stroke-width=\"0.164488\" d=\"M259.089,-86.7734C268.722,-75.2331 283.045,-60.929 299.343,-54 358.179,-28.9858 775.401,-21.6805 952.819,-19.692\"/>\n",
       "<polygon fill=\"#008bfb\" stroke=\"#008bfb\" stroke-width=\"0.164488\" points=\"952.915,-23.1912 962.876,-19.5821 952.839,-16.1916 952.915,-23.1912\"/>\n",
       "<text text-anchor=\"middle\" x=\"354.343\" y=\"-57.8\" font-family=\"Times,serif\" font-size=\"14.00\" fill=\"#008bfb\">(&#45;0.03, &#45;0.03, &#45;0.02)</text>\n",
       "</g>\n",
       "<!-- Pulse pressure -->\n",
       "<g id=\"node4\" class=\"node\"><title>Pulse pressure</title>\n",
       "<ellipse fill=\"none\" stroke=\"black\" cx=\"400.343\" cy=\"-105\" rx=\"61.99\" ry=\"18\"/>\n",
       "<text text-anchor=\"middle\" x=\"400.343\" y=\"-101.3\" font-family=\"Times,serif\" font-size=\"14.00\">Pulse pressure</text>\n",
       "</g>\n",
       "<!-- Pulse pressure&#45;&gt;predicted hazard -->\n",
       "<g id=\"edge3\" class=\"edge\"><title>Pulse pressure&#45;&gt;predicted hazard</title>\n",
       "<path fill=\"none\" stroke=\"#ff0051\" stroke-width=\"0.125918\" d=\"M404.598,-86.6003C408.339,-75.2932 415.009,-61.337 426.343,-54 469.421,-26.1152 797.747,-20.4014 952.328,-19.2634\"/>\n",
       "<polygon fill=\"#ff0051\" stroke=\"#ff0051\" stroke-width=\"0.125918\" points=\"952.727,-22.7608 962.703,-19.1919 952.679,-15.761 952.727,-22.7608\"/>\n",
       "<text text-anchor=\"middle\" x=\"474.843\" y=\"-57.8\" font-family=\"Times,serif\" font-size=\"14.00\" fill=\"#ff0051\">(0.02, 0.02, 0.02)</text>\n",
       "</g>\n",
       "<!-- Poverty index -->\n",
       "<g id=\"node5\" class=\"node\"><title>Poverty index</title>\n",
       "<ellipse fill=\"none\" stroke=\"black\" cx=\"541.343\" cy=\"-105\" rx=\"59.5901\" ry=\"18\"/>\n",
       "<text text-anchor=\"middle\" x=\"541.343\" y=\"-101.3\" font-family=\"Times,serif\" font-size=\"14.00\">Poverty index</text>\n",
       "</g>\n",
       "<!-- Poverty index&#45;&gt;predicted hazard -->\n",
       "<g id=\"edge4\" class=\"edge\"><title>Poverty index&#45;&gt;predicted hazard</title>\n",
       "<path fill=\"none\" stroke=\"#008bfb\" stroke-width=\"0.15708\" d=\"M531.872,-87.1237C527.214,-76.3361 524.163,-62.7731 532.343,-54 560.322,-23.9944 818.418,-19.2033 952.408,-18.7608\"/>\n",
       "<polygon fill=\"#008bfb\" stroke=\"#008bfb\" stroke-width=\"0.15708\" points=\"952.63,-22.2603 962.621,-18.7346 952.612,-15.2603 952.63,-22.2603\"/>\n",
       "<text text-anchor=\"middle\" x=\"587.343\" y=\"-57.8\" font-family=\"Times,serif\" font-size=\"14.00\" fill=\"#008bfb\">(&#45;0.03, &#45;0.03, &#45;0.02)</text>\n",
       "</g>\n",
       "<!-- BMI -->\n",
       "<g id=\"node6\" class=\"node\"><title>BMI</title>\n",
       "<ellipse fill=\"none\" stroke=\"black\" cx=\"650.343\" cy=\"-105\" rx=\"27.8951\" ry=\"18\"/>\n",
       "<text text-anchor=\"middle\" x=\"650.343\" y=\"-101.3\" font-family=\"Times,serif\" font-size=\"14.00\">BMI</text>\n",
       "</g>\n",
       "<!-- BMI&#45;&gt;predicted hazard -->\n",
       "<g id=\"edge5\" class=\"edge\"><title>BMI&#45;&gt;predicted hazard</title>\n",
       "<path fill=\"none\" stroke=\"#008bfb\" stroke-width=\"0.0984284\" d=\"M645.887,-86.9887C644.152,-76.1441 644.208,-62.5683 652.343,-54 672.595,-32.6693 847.612,-24.0901 952.928,-20.8358\"/>\n",
       "<polygon fill=\"#008bfb\" stroke=\"#008bfb\" stroke-width=\"0.0984284\" points=\"953.318,-24.3258 963.208,-20.5281 953.108,-17.3289 953.318,-24.3258\"/>\n",
       "<text text-anchor=\"middle\" x=\"707.343\" y=\"-57.8\" font-family=\"Times,serif\" font-size=\"14.00\" fill=\"#008bfb\">(&#45;0.02, &#45;0.01, &#45;0.00)</text>\n",
       "</g>\n",
       "<!-- Sex -->\n",
       "<g id=\"node7\" class=\"node\"><title>Sex</title>\n",
       "<polygon fill=\"none\" stroke=\"black\" points=\"755.343,-123 701.343,-123 701.343,-87 755.343,-87 755.343,-123\"/>\n",
       "<text text-anchor=\"middle\" x=\"728.343\" y=\"-101.3\" font-family=\"Times,serif\" font-size=\"14.00\">Sex</text>\n",
       "</g>\n",
       "<!-- Sex&#45;&gt;predicted hazard -->\n",
       "<g id=\"edge6\" class=\"edge\"><title>Sex&#45;&gt;predicted hazard</title>\n",
       "<path fill=\"none\" stroke=\"#008bfb\" stroke-width=\"0.384192\" d=\"M744.253,-86.7782C755.674,-75.5505 772.049,-61.6161 789.343,-54 840.783,-31.3465 903.706,-22.7443 952.634,-19.7283\"/>\n",
       "<polygon fill=\"#008bfb\" stroke=\"#008bfb\" stroke-width=\"0.384192\" points=\"953.06,-23.2102 962.853,-19.1664 952.676,-16.2208 953.06,-23.2102\"/>\n",
       "<text text-anchor=\"middle\" x=\"844.343\" y=\"-57.8\" font-family=\"Times,serif\" font-size=\"14.00\" fill=\"#008bfb\">(&#45;0.11, &#45;0.08, &#45;0.04)</text>\n",
       "</g>\n",
       "<!-- Systolic BP -->\n",
       "<g id=\"node8\" class=\"node\"><title>Systolic BP</title>\n",
       "<ellipse fill=\"none\" stroke=\"black\" cx=\"848.343\" cy=\"-105\" rx=\"51.9908\" ry=\"18\"/>\n",
       "<text text-anchor=\"middle\" x=\"848.343\" y=\"-101.3\" font-family=\"Times,serif\" font-size=\"14.00\">Systolic BP</text>\n",
       "</g>\n",
       "<!-- Systolic BP&#45;&gt;predicted hazard -->\n",
       "<g id=\"edge7\" class=\"edge\"><title>Systolic BP&#45;&gt;predicted hazard</title>\n",
       "<path fill=\"none\" stroke=\"#ff0051\" stroke-width=\"0.455394\" d=\"M870.886,-88.6566C887.191,-78.0038 910.014,-63.9864 931.343,-54 946.375,-46.9622 963.231,-40.57 978.802,-35.2312\"/>\n",
       "<polygon fill=\"#ff0051\" stroke=\"#ff0051\" stroke-width=\"0.455394\" points=\"979.934,-38.5432 988.304,-32.0469 977.71,-31.9061 979.934,-38.5432\"/>\n",
       "<text text-anchor=\"middle\" x=\"979.843\" y=\"-57.8\" font-family=\"Times,serif\" font-size=\"14.00\" fill=\"#ff0051\">(0.08, 0.10, 0.11)</text>\n",
       "</g>\n",
       "<!-- Age -->\n",
       "<g id=\"node9\" class=\"node\"><title>Age</title>\n",
       "<ellipse fill=\"none\" stroke=\"black\" cx=\"1032.34\" cy=\"-105\" rx=\"27\" ry=\"18\"/>\n",
       "<text text-anchor=\"middle\" x=\"1032.34\" y=\"-101.3\" font-family=\"Times,serif\" font-size=\"14.00\">Age</text>\n",
       "</g>\n",
       "<!-- Age&#45;&gt;predicted hazard -->\n",
       "<g id=\"edge8\" class=\"edge\"><title>Age&#45;&gt;predicted hazard</title>\n",
       "<path fill=\"none\" stroke=\"#ff0051\" stroke-width=\"5\" d=\"M1032.34,-86.799C1032.34,-75.1626 1032.34,-59.5479 1032.34,-46.2368\"/>\n",
       "<polygon fill=\"#ff0051\" stroke=\"#ff0051\" stroke-width=\"5\" points=\"1036.72,-46.1754 1032.34,-36.1754 1027.97,-46.1755 1036.72,-46.1754\"/>\n",
       "<text text-anchor=\"middle\" x=\"1080.84\" y=\"-57.8\" font-family=\"Times,serif\" font-size=\"14.00\" fill=\"#ff0051\">(1.00, 1.16, 1.32)</text>\n",
       "</g>\n",
       "<!-- Sedimentation rate -->\n",
       "<g id=\"node10\" class=\"node\"><title>Sedimentation rate</title>\n",
       "<ellipse fill=\"none\" stroke=\"black\" cx=\"1154.34\" cy=\"-105\" rx=\"77.1866\" ry=\"18\"/>\n",
       "<text text-anchor=\"middle\" x=\"1154.34\" y=\"-101.3\" font-family=\"Times,serif\" font-size=\"14.00\">Sedimentation rate</text>\n",
       "</g>\n",
       "<!-- Sedimentation rate&#45;&gt;predicted hazard -->\n",
       "<g id=\"edge9\" class=\"edge\"><title>Sedimentation rate&#45;&gt;predicted hazard</title>\n",
       "<path fill=\"none\" stroke=\"#ff0051\" stroke-width=\"0.198084\" d=\"M1150.85,-86.637C1147.87,-75.9256 1142.55,-62.6308 1133.34,-54 1123.16,-44.4482 1110.24,-37.4877 1097.07,-32.4205\"/>\n",
       "<polygon fill=\"#ff0051\" stroke=\"#ff0051\" stroke-width=\"0.198084\" points=\"1098.06,-29.0608 1087.47,-29.0553 1095.75,-35.6667 1098.06,-29.0608\"/>\n",
       "<text text-anchor=\"middle\" x=\"1192.84\" y=\"-57.8\" font-family=\"Times,serif\" font-size=\"14.00\" fill=\"#ff0051\">(0.03, 0.03, 0.04)</text>\n",
       "</g>\n",
       "<!-- Serum Magnesium -->\n",
       "<g id=\"node11\" class=\"node\"><title>Serum Magnesium</title>\n",
       "<ellipse fill=\"none\" stroke=\"black\" cx=\"1329.34\" cy=\"-105\" rx=\"79.0865\" ry=\"18\"/>\n",
       "<text text-anchor=\"middle\" x=\"1329.34\" y=\"-101.3\" font-family=\"Times,serif\" font-size=\"14.00\">Serum Magnesium</text>\n",
       "</g>\n",
       "<!-- Serum Magnesium&#45;&gt;predicted hazard -->\n",
       "<g id=\"edge10\" class=\"edge\"><title>Serum Magnesium&#45;&gt;predicted hazard</title>\n",
       "<path fill=\"none\" stroke=\"#008bfb\" stroke-width=\"0.227858\" d=\"M1306.98,-87.5222C1290.69,-76.3347 1267.66,-62.1447 1245.34,-54 1201.6,-38.038 1150.14,-29.3255 1108.76,-24.5856\"/>\n",
       "<polygon fill=\"#008bfb\" stroke=\"#008bfb\" stroke-width=\"0.227858\" points=\"1109.06,-21.0977 1098.74,-23.4923 1108.3,-28.0564 1109.06,-21.0977\"/>\n",
       "<text text-anchor=\"middle\" x=\"1332.34\" y=\"-57.8\" font-family=\"Times,serif\" font-size=\"14.00\" fill=\"#008bfb\">(&#45;0.05, &#45;0.04, &#45;0.03)</text>\n",
       "</g>\n",
       "</g>\n",
       "</svg>\n"
      ],
      "text/plain": [
       "<graphviz.files.Source at 0x7f753378ebd0>"
      ]
     },
     "metadata": {},
     "output_type": "display_data"
    },
    {
     "data": {
      "text/plain": [
       "<AGraph <Swig Object of type 'Agraph_t *' at 0x7f75ed204960>>"
      ]
     },
     "execution_count": 44,
     "metadata": {},
     "output_type": "execute_result"
    }
   ],
   "source": [
    "cf.show_CI = True # 95% confidence interval from https://link.springer.com/chapter/10.1007/978-3-030-57321-8_2 Equation 12.\n",
    "cf.draw(sample_ind, max_display=10, edge_credit=edge_credits2edge_credit(edge_credits, cf.graph), show_fg_val=False)"
   ]
  },
  {
   "cell_type": "markdown",
   "metadata": {},
   "source": [
    "# On manifold SHAP"
   ]
  },
  {
   "cell_type": "code",
   "execution_count": 48,
   "metadata": {},
   "outputs": [
    {
     "name": "stderr",
     "output_type": "stream",
     "text": [
      "100%|██████████| 100/100 [00:33<00:00,  2.96it/s]\n"
     ]
    }
   ],
   "source": [
    "feature_names = X.columns\n",
    "f = lambda x: model.predict(xgboost.DMatrix(pd.DataFrame(x, columns=feature_names)), output_margin=True) # wrapper for the model used by on manifold explainer\n",
    "\n",
    "explainer = OnManifoldExplainer(f, bg, nruns=nruns, sigma_sq=1e-1, single_bg=False) # multiple sample version \n",
    "cf_on_manifold = explainer.shap_values(X[:nsamples])"
   ]
  },
  {
   "cell_type": "code",
   "execution_count": null,
   "metadata": {},
   "outputs": [
    {
     "name": "stderr",
     "output_type": "stream",
     "text": [
      "  2%|▏         | 2/100 [00:00<00:07, 13.36it/s]"
     ]
    },
    {
     "name": "stdout",
     "output_type": "stream",
     "text": [
      "bg 0/10\n"
     ]
    },
    {
     "name": "stderr",
     "output_type": "stream",
     "text": [
      "100%|██████████| 100/100 [00:05<00:00, 18.25it/s]\n",
      "100%|██████████| 100/100 [00:05<00:00, 17.72it/s]\n",
      "100%|██████████| 100/100 [00:05<00:00, 17.98it/s]\n",
      "100%|██████████| 100/100 [00:05<00:00, 18.58it/s]\n",
      "100%|██████████| 100/100 [00:05<00:00, 18.77it/s]\n",
      "100%|██████████| 100/100 [00:05<00:00, 18.55it/s]\n",
      "100%|██████████| 100/100 [00:05<00:00, 18.67it/s]\n",
      "100%|██████████| 100/100 [00:05<00:00, 18.59it/s]\n",
      "100%|██████████| 100/100 [00:05<00:00, 18.74it/s]\n",
      "100%|██████████| 100/100 [00:05<00:00, 18.71it/s]\n",
      "  2%|▏         | 2/100 [00:00<00:05, 19.58it/s]"
     ]
    },
    {
     "name": "stdout",
     "output_type": "stream",
     "text": [
      "bg 1/10\n"
     ]
    },
    {
     "name": "stderr",
     "output_type": "stream",
     "text": [
      "100%|██████████| 100/100 [00:05<00:00, 19.22it/s]\n",
      "100%|██████████| 100/100 [00:05<00:00, 19.35it/s]\n",
      "100%|██████████| 100/100 [00:05<00:00, 19.28it/s]\n",
      "100%|██████████| 100/100 [00:05<00:00, 19.31it/s]\n",
      "100%|██████████| 100/100 [00:05<00:00, 19.14it/s]\n",
      "100%|██████████| 100/100 [00:05<00:00, 19.34it/s]\n",
      "100%|██████████| 100/100 [00:05<00:00, 19.30it/s]\n",
      "100%|██████████| 100/100 [00:05<00:00, 19.02it/s]\n",
      "100%|██████████| 100/100 [00:05<00:00, 18.73it/s]\n",
      "100%|██████████| 100/100 [00:05<00:00, 19.17it/s]\n",
      "  2%|▏         | 2/100 [00:00<00:08, 11.72it/s]"
     ]
    },
    {
     "name": "stdout",
     "output_type": "stream",
     "text": [
      "bg 2/10\n"
     ]
    },
    {
     "name": "stderr",
     "output_type": "stream",
     "text": [
      "100%|██████████| 100/100 [00:05<00:00, 18.30it/s]\n",
      "100%|██████████| 100/100 [00:05<00:00, 19.11it/s]\n",
      "100%|██████████| 100/100 [00:05<00:00, 19.39it/s]\n",
      "100%|██████████| 100/100 [00:05<00:00, 17.30it/s]\n",
      "100%|██████████| 100/100 [00:05<00:00, 18.65it/s]\n",
      "100%|██████████| 100/100 [00:05<00:00, 17.57it/s]\n",
      "100%|██████████| 100/100 [00:05<00:00, 18.28it/s]\n",
      " 80%|████████  | 80/100 [00:04<00:01, 18.40it/s]"
     ]
    }
   ],
   "source": [
    "# multiple background result with individual run\n",
    "manifold_edge_credits = [] # save for each run\n",
    "bg_on_manifold = X.fillna(X.mean()).sample(100) # used to learn conditional dependence\n",
    "for i in range(len(bg)): # average run result using linearity axiom \n",
    "    print(f'bg {i}/{len(bg)}')\n",
    "    for j in range(nruns):\n",
    "        explainer = OnManifoldExplainer(f, pd.concat([bg[i:i+1], bg_on_manifold]), nruns=1, sigma_sq=1e-1, single_bg=True)\n",
    "        cf_on_manifold = explainer.shap_values(X[:nsamples])\n",
    "        manifold_edge_credits.append(cf_on_manifold) # use node name is more portable vs. node"
   ]
  },
  {
   "cell_type": "code",
   "execution_count": 130,
   "metadata": {},
   "outputs": [
    {
     "name": "stdout",
     "output_type": "stream",
     "text": [
      "On manifold\n",
      "White blood cells    0.432929\n",
      "Poverty index        0.399849\n",
      "BMI                  0.172545\n",
      "Serum Iron           0.279584\n",
      "Systolic BP          0.148197\n",
      "Pulse pressure       0.304004\n",
      "TIBC                 0.321287\n",
      "Age                  0.081920\n",
      "Serum Cholesterol    0.198527\n",
      "TS                   0.456276\n",
      "Name: 99, dtype: float64\n"
     ]
    },
    {
     "data": {
      "image/png": "[encoded data removed]",
      "text/plain": [
       "<Figure size 432x288 with 1 Axes>"
      ]
     },
     "metadata": {
      "needs_background": "light"
     },
     "output_type": "display_data"
    }
   ],
   "source": [
    "print('On manifold')\n",
    "sum(manifold_edge_credits).draw(sample_ind, show=False, max_display=10)\n",
    "plt.tight_layout()\n",
    "plt.show()"
   ]
  },
  {
   "cell_type": "code",
   "execution_count": 49,
   "metadata": {},
   "outputs": [
    {
     "name": "stdout",
     "output_type": "stream",
     "text": [
      "On manifold\n"
     ]
    },
    {
     "data": {
      "image/png": "[encoded data removed]",
      "text/plain": [
       "<Figure size 432x288 with 1 Axes>"
      ]
     },
     "metadata": {
      "needs_background": "light"
     },
     "output_type": "display_data"
    }
   ],
   "source": [
    "print('On manifold')\n",
    "cf_on_manifold.draw(sample_ind, show=False, max_display=10)\n",
    "plt.tight_layout()\n",
    "plt.show()"
   ]
  },
  {
   "cell_type": "markdown",
   "metadata": {},
   "source": [
    "# incorporate causal relationship"
   ]
  },
  {
   "cell_type": "code",
   "execution_count": 50,
   "metadata": {
    "collapsed": true,
    "jupyter": {
     "outputs_hidden": true
    }
   },
   "outputs": [
    {
     "name": "stderr",
     "output_type": "stream",
     "text": [
      "learning dependency for BMI:   0%|          | 0/14 [00:00<?, ?it/s]"
     ]
    },
    {
     "name": "stdout",
     "output_type": "stream",
     "text": [
      "[0]\ttest-rmse:25.68026\n",
      "[100]\ttest-rmse:21.22699\n",
      "[200]\ttest-rmse:17.61862\n",
      "[300]\ttest-rmse:14.70853\n",
      "[400]\ttest-rmse:12.38153\n",
      "[499]\ttest-rmse:10.55001\n"
     ]
    },
    {
     "name": "stderr",
     "output_type": "stream",
     "text": [
      "learning dependency for TIBC:   7%|▋         | 1/14 [00:00<00:09,  1.42it/s]"
     ]
    },
    {
     "name": "stdout",
     "output_type": "stream",
     "text": [
      "[0]\ttest-rmse:365.08758\n",
      "[100]\ttest-rmse:300.40860\n",
      "[200]\ttest-rmse:247.82375\n",
      "[300]\ttest-rmse:205.21208\n",
      "[400]\ttest-rmse:170.85916\n",
      "[499]\ttest-rmse:143.55502\n"
     ]
    },
    {
     "name": "stderr",
     "output_type": "stream",
     "text": [
      "learning dependency for Diastolic BP:  14%|█▍        | 2/14 [00:01<00:08,  1.49it/s]"
     ]
    },
    {
     "name": "stdout",
     "output_type": "stream",
     "text": [
      "[0]\ttest-rmse:83.71988\n",
      "[100]\ttest-rmse:68.93323\n",
      "[200]\ttest-rmse:56.90493\n",
      "[300]\ttest-rmse:47.15287\n",
      "[400]\ttest-rmse:39.27799\n",
      "[499]\ttest-rmse:33.00833\n"
     ]
    },
    {
     "name": "stderr",
     "output_type": "stream",
     "text": [
      "learning dependency for Red blood cells:  21%|██▏       | 3/14 [00:01<00:07,  1.54it/s]"
     ]
    },
    {
     "name": "stdout",
     "output_type": "stream",
     "text": [
      "[0]\ttest-rmse:56.62017\n",
      "[100]\ttest-rmse:47.20332\n",
      "[200]\ttest-rmse:39.64856\n",
      "[300]\ttest-rmse:33.63278\n",
      "[400]\ttest-rmse:28.88807\n",
      "[499]\ttest-rmse:25.23218\n"
     ]
    },
    {
     "name": "stderr",
     "output_type": "stream",
     "text": [
      "learning dependency for Serum Magnesium:  29%|██▊       | 4/14 [00:02<00:06,  1.64it/s]"
     ]
    },
    {
     "name": "stdout",
     "output_type": "stream",
     "text": [
      "[0]\ttest-rmse:1.18907\n",
      "[100]\ttest-rmse:0.97714\n",
      "[200]\ttest-rmse:0.80443\n",
      "[300]\ttest-rmse:0.66402\n",
      "[400]\ttest-rmse:0.55023\n",
      "[499]\ttest-rmse:0.45920\n"
     ]
    },
    {
     "name": "stderr",
     "output_type": "stream",
     "text": [
      "learning dependency for Poverty index:  36%|███▌      | 5/14 [00:02<00:05,  1.78it/s]  "
     ]
    },
    {
     "name": "stdout",
     "output_type": "stream",
     "text": [
      "[0]\ttest-rmse:365.16956\n",
      "[100]\ttest-rmse:325.23489\n",
      "[200]\ttest-rmse:295.42532\n",
      "[300]\ttest-rmse:273.60980\n",
      "[400]\ttest-rmse:257.95935\n",
      "[499]\ttest-rmse:247.04846\n"
     ]
    },
    {
     "name": "stderr",
     "output_type": "stream",
     "text": [
      "learning dependency for Sedimentation rate:  43%|████▎     | 6/14 [00:03<00:04,  1.79it/s]"
     ]
    },
    {
     "name": "stdout",
     "output_type": "stream",
     "text": [
      "[0]\ttest-rmse:19.38453\n",
      "[100]\ttest-rmse:16.95487\n",
      "[200]\ttest-rmse:15.09857\n",
      "[300]\ttest-rmse:13.70687\n",
      "[400]\ttest-rmse:12.67748\n",
      "[499]\ttest-rmse:11.94172\n"
     ]
    },
    {
     "name": "stderr",
     "output_type": "stream",
     "text": [
      "learning dependency for Serum Albumin:  50%|█████     | 7/14 [00:04<00:04,  1.72it/s]     "
     ]
    },
    {
     "name": "stdout",
     "output_type": "stream",
     "text": [
      "[0]\ttest-rmse:3.87407\n",
      "[100]\ttest-rmse:3.17810\n",
      "[200]\ttest-rmse:2.60949\n",
      "[300]\ttest-rmse:2.14547\n",
      "[400]\ttest-rmse:1.76748\n",
      "[499]\ttest-rmse:1.46278\n"
     ]
    },
    {
     "name": "stderr",
     "output_type": "stream",
     "text": [
      "learning dependency for Serum Protein:  57%|█████▋    | 8/14 [00:04<00:03,  1.80it/s]"
     ]
    },
    {
     "name": "stdout",
     "output_type": "stream",
     "text": [
      "[0]\ttest-rmse:6.61101\n",
      "[100]\ttest-rmse:5.42027\n",
      "[200]\ttest-rmse:4.44728\n",
      "[300]\ttest-rmse:3.65282\n",
      "[400]\ttest-rmse:3.00507\n",
      "[499]\ttest-rmse:2.48216\n"
     ]
    },
    {
     "name": "stderr",
     "output_type": "stream",
     "text": [
      "learning dependency for White blood cells:  64%|██████▍   | 9/14 [00:04<00:02,  1.99it/s]"
     ]
    },
    {
     "name": "stdout",
     "output_type": "stream",
     "text": [
      "[0]\ttest-rmse:7.24529\n",
      "[100]\ttest-rmse:6.04540\n",
      "[200]\ttest-rmse:5.08526\n",
      "[300]\ttest-rmse:4.32187\n",
      "[400]\ttest-rmse:3.72444\n",
      "[499]\ttest-rmse:3.26567\n"
     ]
    },
    {
     "name": "stderr",
     "output_type": "stream",
     "text": [
      "learning dependency for Systolic BP:  71%|███████▏  | 10/14 [00:05<00:02,  1.93it/s]      "
     ]
    },
    {
     "name": "stdout",
     "output_type": "stream",
     "text": [
      "[0]\ttest-rmse:136.18751\n",
      "[100]\ttest-rmse:112.07594\n",
      "[200]\ttest-rmse:92.46082\n",
      "[300]\ttest-rmse:76.55484\n",
      "[400]\ttest-rmse:63.71541\n",
      "[499]\ttest-rmse:53.49734\n"
     ]
    },
    {
     "name": "stderr",
     "output_type": "stream",
     "text": [
      "learning dependency for Serum Iron:  79%|███████▊  | 11/14 [00:06<00:01,  1.86it/s] "
     ]
    },
    {
     "name": "stdout",
     "output_type": "stream",
     "text": [
      "[0]\ttest-rmse:105.80270\n",
      "[100]\ttest-rmse:88.86579\n",
      "[200]\ttest-rmse:75.45215\n",
      "[300]\ttest-rmse:64.97790\n",
      "[400]\ttest-rmse:56.92674\n",
      "[499]\ttest-rmse:50.90212\n"
     ]
    },
    {
     "name": "stderr",
     "output_type": "stream",
     "text": [
      "learning dependency for TS:  86%|████████▌ | 12/14 [00:06<00:01,  1.83it/s]        "
     ]
    },
    {
     "name": "stdout",
     "output_type": "stream",
     "text": [
      "[0]\ttest-rmse:29.79472\n",
      "[100]\ttest-rmse:25.10775\n",
      "[200]\ttest-rmse:21.40968\n",
      "[300]\ttest-rmse:18.53344\n",
      "[400]\ttest-rmse:16.33232\n",
      "[499]\ttest-rmse:14.69491\n"
     ]
    },
    {
     "name": "stderr",
     "output_type": "stream",
     "text": [
      "learning dependency for Serum Cholesterol:  93%|█████████▎| 13/14 [00:07<00:00,  1.81it/s]"
     ]
    },
    {
     "name": "stdout",
     "output_type": "stream",
     "text": [
      "[0]\ttest-rmse:226.94263\n",
      "[100]\ttest-rmse:187.87550\n",
      "[200]\ttest-rmse:156.24815\n",
      "[300]\ttest-rmse:130.78793\n",
      "[400]\ttest-rmse:110.44482\n",
      "[499]\ttest-rmse:94.44800\n"
     ]
    },
    {
     "name": "stderr",
     "output_type": "stream",
     "text": [
      "learning dependency for Serum Cholesterol: 100%|██████████| 14/14 [00:07<00:00,  1.80it/s]\n"
     ]
    }
   ],
   "source": [
    "causal_links = CausalLinks()\n",
    "categorical_feature_names = ['Race', 'Sex']\n",
    "display_translator = translator(X.columns, X, X_display)\n",
    "target_name = 'predicted hazard'\n",
    "feature_names = list(X.columns)\n",
    "\n",
    "# build causal links\n",
    "causal_links.add_causes_effects(feature_names, target_name, create_xgboost_f(feature_names, model, output_margin=True)) # the target uses log(HR) instead of HR\n",
    "A = ['Diastolic BP', 'Systolic BP']\n",
    "D = ['Pulse pressure'] # Systolic BP - Diastolic BP\n",
    "causal_links.add_causes_effects(A, D, lambda dbp, sdp: sdp-dbp)\n",
    "A = ['Age', 'Sex', 'Poverty index', 'Race']\n",
    "D = list(set(feature_names) - set(A) - set(['Pulse pressure']))\n",
    "causal_links.add_causes_effects(A, D)\n",
    "A = ['Age', 'Sex', 'Race']\n",
    "D = ['Poverty index']\n",
    "causal_links.add_causes_effects(A, D)\n",
    "\n",
    "causal_graph = build_feature_graph(X.fillna(X.mean()), causal_links, categorical_feature_names, display_translator, target_name)"
   ]
  },
  {
   "cell_type": "code",
   "execution_count": 53,
   "metadata": {},
   "outputs": [
    {
     "data": {
      "image/svg+xml": [
       "<?xml version=\"1.0\" encoding=\"UTF-8\" standalone=\"no\"?>\n",
       "<!DOCTYPE svg PUBLIC \"-//W3C//DTD SVG 1.1//EN\"\n",
       " \"http://www.w3.org/Graphics/SVG/1.1/DTD/svg11.dtd\">\n",
       "<!-- Generated by graphviz version 2.38.0 (20140413.2041)\n",
       " -->\n",
       "<!-- Title: %3 Pages: 1 -->\n",
       "<svg width=\"2516pt\" height=\"404pt\"\n",
       " viewBox=\"0.00 0.00 2516.00 404.00\" xmlns=\"http://www.w3.org/2000/svg\" xmlns:xlink=\"http://www.w3.org/1999/xlink\">\n",
       "<g id=\"graph0\" class=\"graph\" transform=\"scale(1 1) rotate(0) translate(4 400)\">\n",
       "<title>%3</title>\n",
       "<polygon fill=\"white\" stroke=\"none\" points=\"-4,4 -4,-400 2512,-400 2512,4 -4,4\"/>\n",
       "<!-- Poverty index -->\n",
       "<g id=\"node1\" class=\"node\"><title>Poverty index</title>\n",
       "<ellipse fill=\"none\" stroke=\"black\" cx=\"1092\" cy=\"-306\" rx=\"59.5901\" ry=\"18\"/>\n",
       "<text text-anchor=\"middle\" x=\"1092\" y=\"-302.3\" font-family=\"Times,serif\" font-size=\"14.00\">Poverty index</text>\n",
       "</g>\n",
       "<!-- Blood protein -->\n",
       "<g id=\"node2\" class=\"node\"><title>Blood protein</title>\n",
       "<ellipse fill=\"none\" stroke=\"black\" cx=\"1771\" cy=\"-234\" rx=\"59.5901\" ry=\"18\"/>\n",
       "<text text-anchor=\"middle\" x=\"1771\" y=\"-230.3\" font-family=\"Times,serif\" font-size=\"14.00\">Blood protein</text>\n",
       "</g>\n",
       "<!-- Poverty index&#45;&gt;Blood protein -->\n",
       "<g id=\"edge1\" class=\"edge\"><title>Poverty index&#45;&gt;Blood protein</title>\n",
       "<path fill=\"none\" stroke=\"black\" d=\"M1134.85,-293.343C1143.46,-291.313 1152.48,-289.405 1161,-288 1346.29,-257.444 1394.92,-268.412 1582,-252 1622.8,-248.421 1668.54,-244.309 1704.8,-241.026\"/>\n",
       "<polygon fill=\"black\" stroke=\"black\" points=\"1705.13,-244.511 1714.77,-240.123 1704.49,-237.54 1705.13,-244.511\"/>\n",
       "</g>\n",
       "<!-- Iron -->\n",
       "<g id=\"node3\" class=\"node\"><title>Iron</title>\n",
       "<ellipse fill=\"none\" stroke=\"black\" cx=\"2191\" cy=\"-234\" rx=\"27\" ry=\"18\"/>\n",
       "<text text-anchor=\"middle\" x=\"2191\" y=\"-230.3\" font-family=\"Times,serif\" font-size=\"14.00\">Iron</text>\n",
       "</g>\n",
       "<!-- Poverty index&#45;&gt;Iron -->\n",
       "<g id=\"edge2\" class=\"edge\"><title>Poverty index&#45;&gt;Iron</title>\n",
       "<path fill=\"none\" stroke=\"black\" d=\"M1134.44,-293.131C1143.16,-291.092 1152.33,-289.234 1161,-288 1545.45,-233.277 1646.75,-280.918 2034,-252 2075.39,-248.909 2122.73,-243.529 2154.51,-239.648\"/>\n",
       "<polygon fill=\"black\" stroke=\"black\" points=\"2155.16,-243.094 2164.66,-238.395 2154.31,-236.147 2155.16,-243.094\"/>\n",
       "</g>\n",
       "<!-- Blood pressure -->\n",
       "<g id=\"node4\" class=\"node\"><title>Blood pressure</title>\n",
       "<ellipse fill=\"none\" stroke=\"black\" cx=\"1509\" cy=\"-234\" rx=\"63.8893\" ry=\"18\"/>\n",
       "<text text-anchor=\"middle\" x=\"1509\" y=\"-230.3\" font-family=\"Times,serif\" font-size=\"14.00\">Blood pressure</text>\n",
       "</g>\n",
       "<!-- Poverty index&#45;&gt;Blood pressure -->\n",
       "<g id=\"edge3\" class=\"edge\"><title>Poverty index&#45;&gt;Blood pressure</title>\n",
       "<path fill=\"none\" stroke=\"black\" d=\"M1135.67,-293.609C1144.05,-291.603 1152.77,-289.637 1161,-288 1257.98,-268.71 1371.38,-252.633 1441.7,-243.413\"/>\n",
       "<polygon fill=\"black\" stroke=\"black\" points=\"1442.3,-246.865 1451.76,-242.102 1441.39,-239.924 1442.3,-246.865\"/>\n",
       "</g>\n",
       "<!-- Inflamation -->\n",
       "<g id=\"node5\" class=\"node\"><title>Inflamation</title>\n",
       "<ellipse fill=\"none\" stroke=\"black\" cx=\"1243\" cy=\"-234\" rx=\"51.9908\" ry=\"18\"/>\n",
       "<text text-anchor=\"middle\" x=\"1243\" y=\"-230.3\" font-family=\"Times,serif\" font-size=\"14.00\">Inflamation</text>\n",
       "</g>\n",
       "<!-- Poverty index&#45;&gt;Inflamation -->\n",
       "<g id=\"edge4\" class=\"edge\"><title>Poverty index&#45;&gt;Inflamation</title>\n",
       "<path fill=\"none\" stroke=\"black\" d=\"M1123.29,-290.496C1146.65,-279.666 1178.73,-264.793 1203.81,-253.17\"/>\n",
       "<polygon fill=\"black\" stroke=\"black\" points=\"1205.44,-256.27 1213.04,-248.889 1202.49,-249.92 1205.44,-256.27\"/>\n",
       "</g>\n",
       "<!-- Serum Cholesterol -->\n",
       "<g id=\"node6\" class=\"node\"><title>Serum Cholesterol</title>\n",
       "<ellipse fill=\"none\" stroke=\"black\" cx=\"328\" cy=\"-234\" rx=\"77.1866\" ry=\"18\"/>\n",
       "<text text-anchor=\"middle\" x=\"328\" y=\"-230.3\" font-family=\"Times,serif\" font-size=\"14.00\">Serum Cholesterol</text>\n",
       "</g>\n",
       "<!-- Poverty index&#45;&gt;Serum Cholesterol -->\n",
       "<g id=\"edge5\" class=\"edge\"><title>Poverty index&#45;&gt;Serum Cholesterol</title>\n",
       "<path fill=\"none\" stroke=\"black\" d=\"M1035.53,-299.73C999.361,-296.36 951.417,-291.905 909,-288 730.502,-271.568 521.134,-252.526 408.883,-242.336\"/>\n",
       "<polygon fill=\"black\" stroke=\"black\" points=\"408.933,-238.826 398.658,-241.407 408.301,-245.797 408.933,-238.826\"/>\n",
       "</g>\n",
       "<!-- Serum Magnesium -->\n",
       "<g id=\"node7\" class=\"node\"><title>Serum Magnesium</title>\n",
       "<ellipse fill=\"none\" stroke=\"black\" cx=\"660\" cy=\"-234\" rx=\"79.0865\" ry=\"18\"/>\n",
       "<text text-anchor=\"middle\" x=\"660\" y=\"-230.3\" font-family=\"Times,serif\" font-size=\"14.00\">Serum Magnesium</text>\n",
       "</g>\n",
       "<!-- Poverty index&#45;&gt;Serum Magnesium -->\n",
       "<g id=\"edge6\" class=\"edge\"><title>Poverty index&#45;&gt;Serum Magnesium</title>\n",
       "<path fill=\"none\" stroke=\"black\" d=\"M1040.75,-296.695C964.319,-284.311 820.139,-260.948 732.802,-246.797\"/>\n",
       "<polygon fill=\"black\" stroke=\"black\" points=\"733.134,-243.305 722.703,-245.16 732.014,-250.215 733.134,-243.305\"/>\n",
       "</g>\n",
       "<!-- Red blood cells -->\n",
       "<g id=\"node8\" class=\"node\"><title>Red blood cells</title>\n",
       "<ellipse fill=\"none\" stroke=\"black\" cx=\"963\" cy=\"-234\" rx=\"65.7887\" ry=\"18\"/>\n",
       "<text text-anchor=\"middle\" x=\"963\" y=\"-230.3\" font-family=\"Times,serif\" font-size=\"14.00\">Red blood cells</text>\n",
       "</g>\n",
       "<!-- Poverty index&#45;&gt;Red blood cells -->\n",
       "<g id=\"edge7\" class=\"edge\"><title>Poverty index&#45;&gt;Red blood cells</title>\n",
       "<path fill=\"none\" stroke=\"black\" d=\"M1064.33,-289.983C1045.71,-279.88 1020.93,-266.437 1000.54,-255.372\"/>\n",
       "<polygon fill=\"black\" stroke=\"black\" points=\"1001.98,-252.169 991.521,-250.476 998.641,-258.322 1001.98,-252.169\"/>\n",
       "</g>\n",
       "<!-- BMI -->\n",
       "<g id=\"node9\" class=\"node\"><title>BMI</title>\n",
       "<ellipse fill=\"none\" stroke=\"black\" cx=\"1997\" cy=\"-234\" rx=\"27.8951\" ry=\"18\"/>\n",
       "<text text-anchor=\"middle\" x=\"1997\" y=\"-230.3\" font-family=\"Times,serif\" font-size=\"14.00\">BMI</text>\n",
       "</g>\n",
       "<!-- Poverty index&#45;&gt;BMI -->\n",
       "<g id=\"edge8\" class=\"edge\"><title>Poverty index&#45;&gt;BMI</title>\n",
       "<path fill=\"none\" stroke=\"black\" d=\"M1134.45,-293.211C1143.17,-291.165 1152.34,-289.285 1161,-288 1459.93,-243.656 1538.77,-276.275 1840,-252 1881,-248.696 1927.87,-243.425 1959.65,-239.628\"/>\n",
       "<polygon fill=\"black\" stroke=\"black\" points=\"1960.31,-243.074 1969.81,-238.402 1959.47,-236.125 1960.31,-243.074\"/>\n",
       "</g>\n",
       "<!-- predicted hazard -->\n",
       "<g id=\"node10\" class=\"node\"><title>predicted hazard</title>\n",
       "<ellipse fill=\"none\" stroke=\"black\" cx=\"1644\" cy=\"-18\" rx=\"69.5877\" ry=\"18\"/>\n",
       "<text text-anchor=\"middle\" x=\"1644\" y=\"-14.3\" font-family=\"Times,serif\" font-size=\"14.00\">predicted hazard</text>\n",
       "</g>\n",
       "<!-- Poverty index&#45;&gt;predicted hazard -->\n",
       "<g id=\"edge9\" class=\"edge\"><title>Poverty index&#45;&gt;predicted hazard</title>\n",
       "<path fill=\"none\" stroke=\"black\" d=\"M1088.52,-287.663C1083.13,-255.414 1076.63,-185.702 1111,-144 1168.66,-74.0345 1436.39,-38.9287 1569.07,-25.5822\"/>\n",
       "<polygon fill=\"black\" stroke=\"black\" points=\"1569.55,-29.0517 1579.16,-24.5832 1568.86,-22.0858 1569.55,-29.0517\"/>\n",
       "</g>\n",
       "<!-- Serum Albumin -->\n",
       "<g id=\"node11\" class=\"node\"><title>Serum Albumin</title>\n",
       "<ellipse fill=\"none\" stroke=\"black\" cx=\"1825\" cy=\"-90\" rx=\"68.4888\" ry=\"18\"/>\n",
       "<text text-anchor=\"middle\" x=\"1825\" y=\"-86.3\" font-family=\"Times,serif\" font-size=\"14.00\">Serum Albumin</text>\n",
       "</g>\n",
       "<!-- Blood protein&#45;&gt;Serum Albumin -->\n",
       "<g id=\"edge10\" class=\"edge\"><title>Blood protein&#45;&gt;Serum Albumin</title>\n",
       "<path fill=\"none\" stroke=\"black\" d=\"M1802.08,-218.427C1817.07,-209.599 1833.59,-196.775 1842,-180 1851.86,-160.332 1845.87,-135.59 1838.41,-117.188\"/>\n",
       "<polygon fill=\"black\" stroke=\"black\" points=\"1841.57,-115.679 1834.33,-107.947 1835.17,-118.509 1841.57,-115.679\"/>\n",
       "</g>\n",
       "<!-- Serum Protein -->\n",
       "<g id=\"node12\" class=\"node\"><title>Serum Protein</title>\n",
       "<ellipse fill=\"none\" stroke=\"black\" cx=\"1771\" cy=\"-162\" rx=\"61.99\" ry=\"18\"/>\n",
       "<text text-anchor=\"middle\" x=\"1771\" y=\"-158.3\" font-family=\"Times,serif\" font-size=\"14.00\">Serum Protein</text>\n",
       "</g>\n",
       "<!-- Blood protein&#45;&gt;Serum Protein -->\n",
       "<g id=\"edge11\" class=\"edge\"><title>Blood protein&#45;&gt;Serum Protein</title>\n",
       "<path fill=\"none\" stroke=\"black\" d=\"M1771,-215.697C1771,-207.983 1771,-198.712 1771,-190.112\"/>\n",
       "<polygon fill=\"black\" stroke=\"black\" points=\"1774.5,-190.104 1771,-180.104 1767.5,-190.104 1774.5,-190.104\"/>\n",
       "</g>\n",
       "<!-- TIBC -->\n",
       "<g id=\"node13\" class=\"node\"><title>TIBC</title>\n",
       "<ellipse fill=\"none\" stroke=\"black\" cx=\"1982\" cy=\"-90\" rx=\"30.5947\" ry=\"18\"/>\n",
       "<text text-anchor=\"middle\" x=\"1982\" y=\"-86.3\" font-family=\"Times,serif\" font-size=\"14.00\">TIBC</text>\n",
       "</g>\n",
       "<!-- Iron&#45;&gt;TIBC -->\n",
       "<g id=\"edge12\" class=\"edge\"><title>Iron&#45;&gt;TIBC</title>\n",
       "<path fill=\"none\" stroke=\"black\" d=\"M2172.82,-220.647C2136.12,-195.712 2052.99,-139.233 2009.57,-109.734\"/>\n",
       "<polygon fill=\"black\" stroke=\"black\" points=\"2011.43,-106.766 2001.19,-104.041 2007.5,-112.556 2011.43,-106.766\"/>\n",
       "</g>\n",
       "<!-- Serum Iron -->\n",
       "<g id=\"node14\" class=\"node\"><title>Serum Iron</title>\n",
       "<ellipse fill=\"none\" stroke=\"black\" cx=\"2083\" cy=\"-90\" rx=\"51.1914\" ry=\"18\"/>\n",
       "<text text-anchor=\"middle\" x=\"2083\" y=\"-86.3\" font-family=\"Times,serif\" font-size=\"14.00\">Serum Iron</text>\n",
       "</g>\n",
       "<!-- Iron&#45;&gt;Serum Iron -->\n",
       "<g id=\"edge13\" class=\"edge\"><title>Iron&#45;&gt;Serum Iron</title>\n",
       "<path fill=\"none\" stroke=\"black\" d=\"M2179.24,-217.533C2160.63,-193.065 2124.22,-145.202 2101.91,-115.868\"/>\n",
       "<polygon fill=\"black\" stroke=\"black\" points=\"2104.59,-113.603 2095.75,-107.763 2099.02,-117.841 2104.59,-113.603\"/>\n",
       "</g>\n",
       "<!-- TS -->\n",
       "<g id=\"node15\" class=\"node\"><title>TS</title>\n",
       "<ellipse fill=\"none\" stroke=\"black\" cx=\"2179\" cy=\"-90\" rx=\"27\" ry=\"18\"/>\n",
       "<text text-anchor=\"middle\" x=\"2179\" y=\"-86.3\" font-family=\"Times,serif\" font-size=\"14.00\">TS</text>\n",
       "</g>\n",
       "<!-- Iron&#45;&gt;TS -->\n",
       "<g id=\"edge14\" class=\"edge\"><title>Iron&#45;&gt;TS</title>\n",
       "<path fill=\"none\" stroke=\"black\" d=\"M2189.55,-215.871C2187.51,-191.67 2183.75,-147.211 2181.31,-118.393\"/>\n",
       "<polygon fill=\"black\" stroke=\"black\" points=\"2184.78,-117.859 2180.45,-108.189 2177.81,-118.449 2184.78,-117.859\"/>\n",
       "</g>\n",
       "<!-- Diastolic BP -->\n",
       "<g id=\"node16\" class=\"node\"><title>Diastolic BP</title>\n",
       "<ellipse fill=\"none\" stroke=\"black\" cx=\"1635\" cy=\"-162\" rx=\"55.7903\" ry=\"18\"/>\n",
       "<text text-anchor=\"middle\" x=\"1635\" y=\"-158.3\" font-family=\"Times,serif\" font-size=\"14.00\">Diastolic BP</text>\n",
       "</g>\n",
       "<!-- Blood pressure&#45;&gt;Diastolic BP -->\n",
       "<g id=\"edge15\" class=\"edge\"><title>Blood pressure&#45;&gt;Diastolic BP</title>\n",
       "<path fill=\"none\" stroke=\"black\" d=\"M1536.65,-217.638C1555.12,-207.378 1579.58,-193.787 1599.49,-182.728\"/>\n",
       "<polygon fill=\"black\" stroke=\"black\" points=\"1601.24,-185.762 1608.28,-177.846 1597.84,-179.643 1601.24,-185.762\"/>\n",
       "</g>\n",
       "<!-- Systolic BP -->\n",
       "<g id=\"node17\" class=\"node\"><title>Systolic BP</title>\n",
       "<ellipse fill=\"none\" stroke=\"black\" cx=\"1509\" cy=\"-162\" rx=\"51.9908\" ry=\"18\"/>\n",
       "<text text-anchor=\"middle\" x=\"1509\" y=\"-158.3\" font-family=\"Times,serif\" font-size=\"14.00\">Systolic BP</text>\n",
       "</g>\n",
       "<!-- Blood pressure&#45;&gt;Systolic BP -->\n",
       "<g id=\"edge16\" class=\"edge\"><title>Blood pressure&#45;&gt;Systolic BP</title>\n",
       "<path fill=\"none\" stroke=\"black\" d=\"M1509,-215.697C1509,-207.983 1509,-198.712 1509,-190.112\"/>\n",
       "<polygon fill=\"black\" stroke=\"black\" points=\"1512.5,-190.104 1509,-180.104 1505.5,-190.104 1512.5,-190.104\"/>\n",
       "</g>\n",
       "<!-- Sedimentation rate -->\n",
       "<g id=\"node18\" class=\"node\"><title>Sedimentation rate</title>\n",
       "<ellipse fill=\"none\" stroke=\"black\" cx=\"1362\" cy=\"-162\" rx=\"77.1866\" ry=\"18\"/>\n",
       "<text text-anchor=\"middle\" x=\"1362\" y=\"-158.3\" font-family=\"Times,serif\" font-size=\"14.00\">Sedimentation rate</text>\n",
       "</g>\n",
       "<!-- Inflamation&#45;&gt;Sedimentation rate -->\n",
       "<g id=\"edge17\" class=\"edge\"><title>Inflamation&#45;&gt;Sedimentation rate</title>\n",
       "<path fill=\"none\" stroke=\"black\" d=\"M1268.24,-218.155C1285.01,-208.291 1307.28,-195.187 1325.91,-184.227\"/>\n",
       "<polygon fill=\"black\" stroke=\"black\" points=\"1327.88,-187.13 1334.73,-179.043 1324.33,-181.096 1327.88,-187.13\"/>\n",
       "</g>\n",
       "<!-- White blood cells -->\n",
       "<g id=\"node19\" class=\"node\"><title>White blood cells</title>\n",
       "<ellipse fill=\"none\" stroke=\"black\" cx=\"1193\" cy=\"-162\" rx=\"73.387\" ry=\"18\"/>\n",
       "<text text-anchor=\"middle\" x=\"1193\" y=\"-158.3\" font-family=\"Times,serif\" font-size=\"14.00\">White blood cells</text>\n",
       "</g>\n",
       "<!-- Inflamation&#45;&gt;White blood cells -->\n",
       "<g id=\"edge18\" class=\"edge\"><title>Inflamation&#45;&gt;White blood cells</title>\n",
       "<path fill=\"none\" stroke=\"black\" d=\"M1231.15,-216.411C1225.14,-207.992 1217.7,-197.585 1211,-188.201\"/>\n",
       "<polygon fill=\"black\" stroke=\"black\" points=\"1213.77,-186.059 1205.11,-179.956 1208.08,-190.128 1213.77,-186.059\"/>\n",
       "</g>\n",
       "<!-- Serum Cholesterol&#45;&gt;predicted hazard -->\n",
       "<g id=\"edge19\" class=\"edge\"><title>Serum Cholesterol&#45;&gt;predicted hazard</title>\n",
       "<path fill=\"none\" stroke=\"black\" d=\"M369.587,-218.783C465.701,-186.585 711.224,-108.095 923,-72 1153.77,-32.6673 1431,-22.5147 1564.49,-19.9011\"/>\n",
       "<polygon fill=\"black\" stroke=\"black\" points=\"1564.69,-23.398 1574.63,-19.7118 1564.56,-16.3992 1564.69,-23.398\"/>\n",
       "</g>\n",
       "<!-- Serum Magnesium&#45;&gt;predicted hazard -->\n",
       "<g id=\"edge20\" class=\"edge\"><title>Serum Magnesium&#45;&gt;predicted hazard</title>\n",
       "<path fill=\"none\" stroke=\"black\" d=\"M688.371,-216.956C749.262,-183.391 897.927,-106.059 1033,-72 1131.83,-47.0789 1424.59,-29.7894 1565.92,-22.6556\"/>\n",
       "<polygon fill=\"black\" stroke=\"black\" points=\"1566.43,-26.1346 1576.24,-22.1391 1566.08,-19.1434 1566.43,-26.1346\"/>\n",
       "</g>\n",
       "<!-- Red blood cells&#45;&gt;predicted hazard -->\n",
       "<g id=\"edge21\" class=\"edge\"><title>Red blood cells&#45;&gt;predicted hazard</title>\n",
       "<path fill=\"none\" stroke=\"black\" d=\"M969.479,-215.884C983.419,-181.719 1019.79,-105.481 1078,-72 1158.72,-25.5715 1427.99,-18.7928 1563.97,-18.437\"/>\n",
       "<polygon fill=\"black\" stroke=\"black\" points=\"1564.33,-21.9366 1574.32,-18.4217 1564.32,-14.9366 1564.33,-21.9366\"/>\n",
       "</g>\n",
       "<!-- BMI&#45;&gt;predicted hazard -->\n",
       "<g id=\"edge22\" class=\"edge\"><title>BMI&#45;&gt;predicted hazard</title>\n",
       "<path fill=\"none\" stroke=\"black\" d=\"M1992.16,-216.198C1981.66,-182.943 1953.5,-108.78 1902,-72 1872.81,-51.1574 1782.53,-35.9584 1716.98,-27.3121\"/>\n",
       "<polygon fill=\"black\" stroke=\"black\" points=\"1717.05,-23.7922 1706.69,-25.9808 1716.16,-30.7344 1717.05,-23.7922\"/>\n",
       "</g>\n",
       "<!-- Serum Albumin&#45;&gt;predicted hazard -->\n",
       "<g id=\"edge54\" class=\"edge\"><title>Serum Albumin&#45;&gt;predicted hazard</title>\n",
       "<path fill=\"none\" stroke=\"black\" d=\"M1787.94,-74.6655C1759.75,-63.7655 1720.79,-48.6994 1690.52,-36.9897\"/>\n",
       "<polygon fill=\"black\" stroke=\"black\" points=\"1691.6,-33.658 1681.02,-33.3153 1689.08,-40.1868 1691.6,-33.658\"/>\n",
       "</g>\n",
       "<!-- Serum Protein&#45;&gt;predicted hazard -->\n",
       "<g id=\"edge55\" class=\"edge\"><title>Serum Protein&#45;&gt;predicted hazard</title>\n",
       "<path fill=\"none\" stroke=\"black\" d=\"M1756.18,-144.433C1733.93,-119.556 1691.76,-72.3984 1665.94,-43.5265\"/>\n",
       "<polygon fill=\"black\" stroke=\"black\" points=\"1668.39,-41.0223 1659.12,-35.9017 1663.17,-45.6888 1668.39,-41.0223\"/>\n",
       "</g>\n",
       "<!-- TIBC&#45;&gt;predicted hazard -->\n",
       "<g id=\"edge57\" class=\"edge\"><title>TIBC&#45;&gt;predicted hazard</title>\n",
       "<path fill=\"none\" stroke=\"black\" d=\"M1957.43,-79.0202C1950.57,-76.4821 1943.06,-73.9303 1936,-72 1861.65,-51.6811 1774.48,-37.0111 1714.87,-28.3264\"/>\n",
       "<polygon fill=\"black\" stroke=\"black\" points=\"1715.2,-24.8386 1704.81,-26.8793 1714.21,-31.7673 1715.2,-24.8386\"/>\n",
       "</g>\n",
       "<!-- Serum Iron&#45;&gt;predicted hazard -->\n",
       "<g id=\"edge58\" class=\"edge\"><title>Serum Iron&#45;&gt;predicted hazard</title>\n",
       "<path fill=\"none\" stroke=\"black\" d=\"M2045.45,-77.6936C2037.74,-75.6102 2029.64,-73.5932 2022,-72 1917.23,-50.1568 1794.22,-34.7805 1717.67,-26.4049\"/>\n",
       "<polygon fill=\"black\" stroke=\"black\" points=\"1717.96,-22.9165 1707.65,-25.3192 1717.21,-29.8758 1717.96,-22.9165\"/>\n",
       "</g>\n",
       "<!-- TS&#45;&gt;predicted hazard -->\n",
       "<g id=\"edge59\" class=\"edge\"><title>TS&#45;&gt;predicted hazard</title>\n",
       "<path fill=\"none\" stroke=\"black\" d=\"M2158.52,-77.8849C2153.56,-75.6032 2148.19,-73.4562 2143,-72 1998.85,-31.5625 1823.37,-21.5321 1723.58,-19.3072\"/>\n",
       "<polygon fill=\"black\" stroke=\"black\" points=\"1723.64,-15.8078 1713.57,-19.1047 1723.5,-22.8064 1723.64,-15.8078\"/>\n",
       "</g>\n",
       "<!-- Diastolic BP&#45;&gt;predicted hazard -->\n",
       "<g id=\"edge61\" class=\"edge\"><title>Diastolic BP&#45;&gt;predicted hazard</title>\n",
       "<path fill=\"none\" stroke=\"black\" d=\"M1649.82,-144.173C1657.46,-134.353 1666,-121.306 1670,-108 1674.6,-92.6764 1673.62,-87.5858 1670,-72 1667.85,-62.7152 1663.82,-53.1819 1659.58,-44.8058\"/>\n",
       "<polygon fill=\"black\" stroke=\"black\" points=\"1662.61,-43.0503 1654.78,-35.9157 1656.45,-46.3775 1662.61,-43.0503\"/>\n",
       "</g>\n",
       "<!-- Pulse pressure -->\n",
       "<g id=\"node26\" class=\"node\"><title>Pulse pressure</title>\n",
       "<ellipse fill=\"none\" stroke=\"black\" cx=\"1599\" cy=\"-90\" rx=\"61.99\" ry=\"18\"/>\n",
       "<text text-anchor=\"middle\" x=\"1599\" y=\"-86.3\" font-family=\"Times,serif\" font-size=\"14.00\">Pulse pressure</text>\n",
       "</g>\n",
       "<!-- Diastolic BP&#45;&gt;Pulse pressure -->\n",
       "<g id=\"edge62\" class=\"edge\"><title>Diastolic BP&#45;&gt;Pulse pressure</title>\n",
       "<path fill=\"none\" stroke=\"black\" d=\"M1626.29,-144.055C1622.15,-136.007 1617.11,-126.205 1612.49,-117.226\"/>\n",
       "<polygon fill=\"black\" stroke=\"black\" points=\"1615.57,-115.567 1607.88,-108.275 1609.35,-118.769 1615.57,-115.567\"/>\n",
       "</g>\n",
       "<!-- Systolic BP&#45;&gt;predicted hazard -->\n",
       "<g id=\"edge63\" class=\"edge\"><title>Systolic BP&#45;&gt;predicted hazard</title>\n",
       "<path fill=\"none\" stroke=\"black\" d=\"M1508.3,-143.67C1508.43,-124.182 1511.49,-92.5781 1528,-72 1542.3,-54.1799 1563.92,-42.1144 1584.64,-34.0597\"/>\n",
       "<polygon fill=\"black\" stroke=\"black\" points=\"1585.86,-37.3399 1594.06,-30.6349 1583.47,-30.7608 1585.86,-37.3399\"/>\n",
       "</g>\n",
       "<!-- Systolic BP&#45;&gt;Pulse pressure -->\n",
       "<g id=\"edge64\" class=\"edge\"><title>Systolic BP&#45;&gt;Pulse pressure</title>\n",
       "<path fill=\"none\" stroke=\"black\" d=\"M1529.42,-145.116C1541.53,-135.696 1557.07,-123.611 1570.39,-113.251\"/>\n",
       "<polygon fill=\"black\" stroke=\"black\" points=\"1572.6,-115.966 1578.35,-107.064 1568.3,-110.44 1572.6,-115.966\"/>\n",
       "</g>\n",
       "<!-- Sedimentation rate&#45;&gt;predicted hazard -->\n",
       "<g id=\"edge67\" class=\"edge\"><title>Sedimentation rate&#45;&gt;predicted hazard</title>\n",
       "<path fill=\"none\" stroke=\"black\" d=\"M1385.99,-144.725C1414.51,-125.791 1463.94,-94.2839 1509,-72 1536.42,-58.4411 1568.21,-45.8158 1594.06,-36.2914\"/>\n",
       "<polygon fill=\"black\" stroke=\"black\" points=\"1595.45,-39.5085 1603.65,-32.7974 1593.06,-32.9313 1595.45,-39.5085\"/>\n",
       "</g>\n",
       "<!-- White blood cells&#45;&gt;predicted hazard -->\n",
       "<g id=\"edge68\" class=\"edge\"><title>White blood cells&#45;&gt;predicted hazard</title>\n",
       "<path fill=\"none\" stroke=\"black\" d=\"M1230.95,-146.452C1279.82,-127.967 1367.58,-95.6297 1444,-72 1490.98,-57.4726 1544.91,-43.3262 1584.92,-33.3078\"/>\n",
       "<polygon fill=\"black\" stroke=\"black\" points=\"1585.92,-36.6652 1594.78,-30.8519 1584.23,-29.8728 1585.92,-36.6652\"/>\n",
       "</g>\n",
       "<!-- Age -->\n",
       "<g id=\"node20\" class=\"node\"><title>Age</title>\n",
       "<ellipse fill=\"none\" stroke=\"black\" cx=\"966\" cy=\"-378\" rx=\"27\" ry=\"18\"/>\n",
       "<text text-anchor=\"middle\" x=\"966\" y=\"-374.3\" font-family=\"Times,serif\" font-size=\"14.00\">Age</text>\n",
       "</g>\n",
       "<!-- Age&#45;&gt;Poverty index -->\n",
       "<g id=\"edge23\" class=\"edge\"><title>Age&#45;&gt;Poverty index</title>\n",
       "<path fill=\"none\" stroke=\"black\" d=\"M986.244,-365.753C1004.95,-355.359 1033.19,-339.674 1055.78,-327.123\"/>\n",
       "<polygon fill=\"black\" stroke=\"black\" points=\"1057.71,-330.052 1064.75,-322.136 1054.31,-323.933 1057.71,-330.052\"/>\n",
       "</g>\n",
       "<!-- Age&#45;&gt;Blood protein -->\n",
       "<g id=\"edge24\" class=\"edge\"><title>Age&#45;&gt;Blood protein</title>\n",
       "<path fill=\"none\" stroke=\"black\" d=\"M986.049,-365.865C991.113,-363.524 996.639,-361.356 1002,-360 1145.05,-323.823 1531.6,-387.054 1665,-324 1684.62,-314.725 1681.8,-302.449 1698,-288 1710.66,-276.711 1725.66,-265.49 1738.77,-256.299\"/>\n",
       "<polygon fill=\"black\" stroke=\"black\" points=\"1740.83,-259.133 1747.07,-250.572 1736.85,-253.373 1740.83,-259.133\"/>\n",
       "</g>\n",
       "<!-- Age&#45;&gt;Iron -->\n",
       "<g id=\"edge25\" class=\"edge\"><title>Age&#45;&gt;Iron</title>\n",
       "<path fill=\"none\" stroke=\"black\" d=\"M986.027,-365.774C991.092,-363.436 996.623,-361.292 1002,-360 1066.15,-344.59 2142.53,-370.834 2189,-324 2204.85,-308.024 2203.32,-281.426 2199.05,-261.46\"/>\n",
       "<polygon fill=\"black\" stroke=\"black\" points=\"2202.44,-260.585 2196.64,-251.715 2195.64,-262.262 2202.44,-260.585\"/>\n",
       "</g>\n",
       "<!-- Age&#45;&gt;Blood pressure -->\n",
       "<g id=\"edge26\" class=\"edge\"><title>Age&#45;&gt;Blood pressure</title>\n",
       "<path fill=\"none\" stroke=\"black\" d=\"M986.487,-365.904C991.445,-363.622 996.813,-361.47 1002,-360 1140.97,-320.625 1186.21,-364.023 1325,-324 1380.09,-308.115 1438.93,-276.832 1474.84,-255.914\"/>\n",
       "<polygon fill=\"black\" stroke=\"black\" points=\"1477.07,-258.666 1483.9,-250.572 1473.51,-252.636 1477.07,-258.666\"/>\n",
       "</g>\n",
       "<!-- Age&#45;&gt;Inflamation -->\n",
       "<g id=\"edge27\" class=\"edge\"><title>Age&#45;&gt;Inflamation</title>\n",
       "<path fill=\"none\" stroke=\"black\" d=\"M972.08,-360.454C980.398,-340.189 997.292,-306.306 1023,-288 1069.51,-254.88 1134.12,-242.284 1181.28,-237.582\"/>\n",
       "<polygon fill=\"black\" stroke=\"black\" points=\"1181.73,-241.057 1191.37,-236.67 1181.1,-234.085 1181.73,-241.057\"/>\n",
       "</g>\n",
       "<!-- Age&#45;&gt;Serum Cholesterol -->\n",
       "<g id=\"edge28\" class=\"edge\"><title>Age&#45;&gt;Serum Cholesterol</title>\n",
       "<path fill=\"none\" stroke=\"black\" d=\"M938.835,-376.454C790.919,-373.353 88.0518,-356.915 57,-324 -1.56199,-261.924 141.526,-243.092 241.313,-237.414\"/>\n",
       "<polygon fill=\"black\" stroke=\"black\" points=\"241.631,-240.902 251.431,-236.874 241.258,-233.912 241.631,-240.902\"/>\n",
       "</g>\n",
       "<!-- Age&#45;&gt;Serum Magnesium -->\n",
       "<g id=\"edge29\" class=\"edge\"><title>Age&#45;&gt;Serum Magnesium</title>\n",
       "<path fill=\"none\" stroke=\"black\" d=\"M938.878,-376.623C829.228,-374.821 422.773,-365.375 385,-324 326.94,-260.402 470.291,-242.076 571.117,-236.905\"/>\n",
       "<polygon fill=\"black\" stroke=\"black\" points=\"571.522,-240.39 581.344,-236.417 571.189,-233.398 571.522,-240.39\"/>\n",
       "</g>\n",
       "<!-- Age&#45;&gt;Red blood cells -->\n",
       "<g id=\"edge30\" class=\"edge\"><title>Age&#45;&gt;Red blood cells</title>\n",
       "<path fill=\"none\" stroke=\"black\" d=\"M939.021,-375.402C880.463,-371.312 744.74,-358.266 717,-324 667.332,-262.648 798.492,-243.579 887.84,-237.659\"/>\n",
       "<polygon fill=\"black\" stroke=\"black\" points=\"888.206,-241.143 897.971,-237.031 887.773,-234.156 888.206,-241.143\"/>\n",
       "</g>\n",
       "<!-- Age&#45;&gt;BMI -->\n",
       "<g id=\"edge31\" class=\"edge\"><title>Age&#45;&gt;BMI</title>\n",
       "<path fill=\"none\" stroke=\"black\" d=\"M986.033,-365.802C991.098,-363.463 996.628,-361.311 1002,-360 1105.37,-334.769 1871.32,-384.296 1959,-324 1979.28,-310.056 1988.79,-282.934 1993.22,-262.278\"/>\n",
       "<polygon fill=\"black\" stroke=\"black\" points=\"1996.71,-262.641 1995.1,-252.169 1989.83,-261.359 1996.71,-262.641\"/>\n",
       "</g>\n",
       "<!-- Age&#45;&gt;predicted hazard -->\n",
       "<g id=\"edge32\" class=\"edge\"><title>Age&#45;&gt;predicted hazard</title>\n",
       "<path fill=\"none\" stroke=\"black\" d=\"M938.862,-377.102C794.02,-377.429 115.775,-376.151 40,-324 4.27621,-299.413 0,-278.367 0,-235 0,-235 0,-235 0,-161 0,-81.4703 1237.3,-33.0588 1565.1,-21.6285\"/>\n",
       "<polygon fill=\"black\" stroke=\"black\" points=\"1565.58,-25.1139 1575.45,-21.2692 1565.34,-18.1182 1565.58,-25.1139\"/>\n",
       "</g>\n",
       "<!-- Sex -->\n",
       "<g id=\"node21\" class=\"node\"><title>Sex</title>\n",
       "<ellipse fill=\"none\" stroke=\"black\" cx=\"1382\" cy=\"-378\" rx=\"27\" ry=\"18\"/>\n",
       "<text text-anchor=\"middle\" x=\"1382\" y=\"-374.3\" font-family=\"Times,serif\" font-size=\"14.00\">Sex</text>\n",
       "</g>\n",
       "<!-- Sex&#45;&gt;Poverty index -->\n",
       "<g id=\"edge33\" class=\"edge\"><title>Sex&#45;&gt;Poverty index</title>\n",
       "<path fill=\"none\" stroke=\"black\" d=\"M1356.8,-371.01C1315.76,-361.242 1231.93,-341.242 1161,-324 1156.3,-322.858 1151.43,-321.667 1146.54,-320.469\"/>\n",
       "<polygon fill=\"black\" stroke=\"black\" points=\"1147.08,-316.999 1136.53,-318.014 1145.41,-323.797 1147.08,-316.999\"/>\n",
       "</g>\n",
       "<!-- Sex&#45;&gt;Blood protein -->\n",
       "<g id=\"edge34\" class=\"edge\"><title>Sex&#45;&gt;Blood protein</title>\n",
       "<path fill=\"none\" stroke=\"black\" d=\"M1408.75,-374.93C1475.71,-369.373 1648.66,-352.579 1698,-324 1723.79,-309.06 1744.31,-281.316 1756.95,-260.761\"/>\n",
       "<polygon fill=\"black\" stroke=\"black\" points=\"1760.11,-262.283 1762.19,-251.894 1754.08,-258.722 1760.11,-262.283\"/>\n",
       "</g>\n",
       "<!-- Sex&#45;&gt;Iron -->\n",
       "<g id=\"edge35\" class=\"edge\"><title>Sex&#45;&gt;Iron</title>\n",
       "<path fill=\"none\" stroke=\"black\" d=\"M1408.58,-374.318C1445.14,-370.696 1513,-364.211 1571,-360 1607.13,-357.377 2197.1,-350.31 2222,-324 2239.14,-305.883 2224.88,-277.784 2210.53,-258.015\"/>\n",
       "<polygon fill=\"black\" stroke=\"black\" points=\"2213.12,-255.645 2204.26,-249.845 2207.57,-259.908 2213.12,-255.645\"/>\n",
       "</g>\n",
       "<!-- Sex&#45;&gt;Blood pressure -->\n",
       "<g id=\"edge36\" class=\"edge\"><title>Sex&#45;&gt;Blood pressure</title>\n",
       "<path fill=\"none\" stroke=\"black\" d=\"M1395.35,-362.072C1417.12,-337.729 1460.49,-289.243 1486.9,-259.706\"/>\n",
       "<polygon fill=\"black\" stroke=\"black\" points=\"1489.82,-261.701 1493.87,-251.914 1484.6,-257.034 1489.82,-261.701\"/>\n",
       "</g>\n",
       "<!-- Sex&#45;&gt;Inflamation -->\n",
       "<g id=\"edge37\" class=\"edge\"><title>Sex&#45;&gt;Inflamation</title>\n",
       "<path fill=\"none\" stroke=\"black\" d=\"M1374.14,-360.423C1364.5,-341.346 1346.75,-309.842 1325,-288 1312.02,-274.97 1295.32,-263.466 1280.38,-254.534\"/>\n",
       "<polygon fill=\"black\" stroke=\"black\" points=\"1281.76,-251.29 1271.35,-249.314 1278.26,-257.35 1281.76,-251.29\"/>\n",
       "</g>\n",
       "<!-- Sex&#45;&gt;Serum Cholesterol -->\n",
       "<g id=\"edge38\" class=\"edge\"><title>Sex&#45;&gt;Serum Cholesterol</title>\n",
       "<path fill=\"none\" stroke=\"black\" d=\"M1355.5,-374.395C1317.23,-370.714 1244.25,-363.994 1182,-360 1135.94,-357.045 388.022,-352.855 352,-324 333.896,-309.498 328.599,-282.885 327.41,-262.526\"/>\n",
       "<polygon fill=\"black\" stroke=\"black\" points=\"330.901,-262.157 327.117,-252.261 323.904,-262.357 330.901,-262.157\"/>\n",
       "</g>\n",
       "<!-- Sex&#45;&gt;Serum Magnesium -->\n",
       "<g id=\"edge39\" class=\"edge\"><title>Sex&#45;&gt;Serum Magnesium</title>\n",
       "<path fill=\"none\" stroke=\"black\" d=\"M1355.16,-374.61C1316.78,-371.218 1244.01,-364.877 1182,-360 1126.69,-355.651 726.795,-359.304 684,-324 666.106,-309.238 660.782,-282.66 659.529,-262.38\"/>\n",
       "<polygon fill=\"black\" stroke=\"black\" points=\"663.02,-262.042 659.199,-252.16 656.024,-262.268 663.02,-262.042\"/>\n",
       "</g>\n",
       "<!-- Sex&#45;&gt;Red blood cells -->\n",
       "<g id=\"edge40\" class=\"edge\"><title>Sex&#45;&gt;Red blood cells</title>\n",
       "<path fill=\"none\" stroke=\"black\" d=\"M1355.19,-375.045C1271.32,-368.704 1017.88,-347.735 990,-324 972.284,-308.916 965.957,-282.614 963.812,-262.502\"/>\n",
       "<polygon fill=\"black\" stroke=\"black\" points=\"967.287,-262.055 963.018,-252.359 960.309,-262.602 967.287,-262.055\"/>\n",
       "</g>\n",
       "<!-- Sex&#45;&gt;BMI -->\n",
       "<g id=\"edge41\" class=\"edge\"><title>Sex&#45;&gt;BMI</title>\n",
       "<path fill=\"none\" stroke=\"black\" d=\"M1408.6,-374.57C1445.18,-371.237 1513.07,-365.082 1571,-360 1617.77,-355.897 1959.29,-357.678 1992,-324 2007.54,-308.003 2007.17,-281.815 2003.87,-261.978\"/>\n",
       "<polygon fill=\"black\" stroke=\"black\" points=\"2007.27,-261.121 2001.89,-251.994 2000.41,-262.484 2007.27,-261.121\"/>\n",
       "</g>\n",
       "<!-- Sex&#45;&gt;predicted hazard -->\n",
       "<g id=\"edge42\" class=\"edge\"><title>Sex&#45;&gt;predicted hazard</title>\n",
       "<path fill=\"none\" stroke=\"black\" d=\"M1408.57,-374.213C1445.12,-370.471 1512.98,-363.848 1571,-360 1617.72,-356.902 2377.24,-354.22 2413,-324 2443.89,-297.894 2432,-275.447 2432,-235 2432,-235 2432,-235 2432,-161 2432,-56.7591 2316.23,-96.8679 2215,-72 2043.43,-29.8519 1835.34,-20.67 1723.81,-19.0033\"/>\n",
       "<polygon fill=\"black\" stroke=\"black\" points=\"1723.7,-15.5016 1713.65,-18.8684 1723.6,-22.501 1723.7,-15.5016\"/>\n",
       "</g>\n",
       "<!-- Race -->\n",
       "<g id=\"node22\" class=\"node\"><title>Race</title>\n",
       "<ellipse fill=\"none\" stroke=\"black\" cx=\"1609\" cy=\"-378\" rx=\"28.6953\" ry=\"18\"/>\n",
       "<text text-anchor=\"middle\" x=\"1609\" y=\"-374.3\" font-family=\"Times,serif\" font-size=\"14.00\">Race</text>\n",
       "</g>\n",
       "<!-- Race&#45;&gt;Poverty index -->\n",
       "<g id=\"edge43\" class=\"edge\"><title>Race&#45;&gt;Poverty index</title>\n",
       "<path fill=\"none\" stroke=\"black\" d=\"M1580.78,-374.883C1509.82,-369.295 1318.39,-352.586 1161,-324 1155.9,-323.073 1150.61,-321.992 1145.33,-320.832\"/>\n",
       "<polygon fill=\"black\" stroke=\"black\" points=\"1145.79,-317.346 1135.26,-318.526 1144.22,-324.169 1145.79,-317.346\"/>\n",
       "</g>\n",
       "<!-- Race&#45;&gt;Blood protein -->\n",
       "<g id=\"edge44\" class=\"edge\"><title>Race&#45;&gt;Blood protein</title>\n",
       "<path fill=\"none\" stroke=\"black\" d=\"M1637.73,-377.219C1713.79,-377.126 1917.48,-372.285 1959,-324 1998.67,-277.875 1904.71,-253.915 1835.82,-242.923\"/>\n",
       "<polygon fill=\"black\" stroke=\"black\" points=\"1836.28,-239.451 1825.86,-241.394 1835.21,-246.37 1836.28,-239.451\"/>\n",
       "</g>\n",
       "<!-- Race&#45;&gt;Iron -->\n",
       "<g id=\"edge45\" class=\"edge\"><title>Race&#45;&gt;Iron</title>\n",
       "<path fill=\"none\" stroke=\"black\" d=\"M1637.76,-377.369C1775.03,-378.835 2359.04,-381.632 2413,-324 2469.31,-263.856 2304.97,-243.478 2228.19,-237.354\"/>\n",
       "<polygon fill=\"black\" stroke=\"black\" points=\"2228.2,-233.845 2217.97,-236.582 2227.68,-240.825 2228.2,-233.845\"/>\n",
       "</g>\n",
       "<!-- Race&#45;&gt;Blood pressure -->\n",
       "<g id=\"edge46\" class=\"edge\"><title>Race&#45;&gt;Blood pressure</title>\n",
       "<path fill=\"none\" stroke=\"black\" d=\"M1628.51,-364.819C1641.54,-355.451 1657.59,-341.214 1665,-324 1671.33,-309.304 1674.32,-301.007 1665,-288 1645.61,-260.933 1611.6,-247.523 1580.27,-240.947\"/>\n",
       "<polygon fill=\"black\" stroke=\"black\" points=\"1580.7,-237.464 1570.22,-239.043 1579.39,-244.342 1580.7,-237.464\"/>\n",
       "</g>\n",
       "<!-- Race&#45;&gt;Inflamation -->\n",
       "<g id=\"edge47\" class=\"edge\"><title>Race&#45;&gt;Inflamation</title>\n",
       "<path fill=\"none\" stroke=\"black\" d=\"M1585.27,-367.792C1524.66,-344.276 1363.48,-281.743 1285.9,-251.645\"/>\n",
       "<polygon fill=\"black\" stroke=\"black\" points=\"1287.01,-248.321 1276.42,-247.966 1284.48,-254.847 1287.01,-248.321\"/>\n",
       "</g>\n",
       "<!-- Race&#45;&gt;Serum Cholesterol -->\n",
       "<g id=\"edge48\" class=\"edge\"><title>Race&#45;&gt;Serum Cholesterol</title>\n",
       "<path fill=\"none\" stroke=\"black\" d=\"M1580.88,-374.019C1543.66,-370.183 1475.98,-363.588 1418,-360 1360.69,-356.453 434.89,-352.433 385,-324 372.404,-316.822 353.64,-284.593 341.122,-260.976\"/>\n",
       "<polygon fill=\"black\" stroke=\"black\" points=\"344.223,-259.353 336.496,-252.105 338.016,-262.59 344.223,-259.353\"/>\n",
       "</g>\n",
       "<!-- Race&#45;&gt;Serum Magnesium -->\n",
       "<g id=\"edge49\" class=\"edge\"><title>Race&#45;&gt;Serum Magnesium</title>\n",
       "<path fill=\"none\" stroke=\"black\" d=\"M1580.87,-374.164C1543.64,-370.487 1475.95,-364.066 1418,-360 1340.2,-354.542 784.44,-363.174 717,-324 704.519,-316.75 685.851,-284.799 673.315,-261.244\"/>\n",
       "<polygon fill=\"black\" stroke=\"black\" points=\"676.253,-259.309 668.514,-252.073 670.051,-262.556 676.253,-259.309\"/>\n",
       "</g>\n",
       "<!-- Race&#45;&gt;Red blood cells -->\n",
       "<g id=\"edge50\" class=\"edge\"><title>Race&#45;&gt;Red blood cells</title>\n",
       "<path fill=\"none\" stroke=\"black\" d=\"M1580.82,-374.491C1464.09,-364.096 1024.53,-324.902 1023,-324 1010.33,-316.507 990.436,-284.353 977.069,-260.838\"/>\n",
       "<polygon fill=\"black\" stroke=\"black\" points=\"980.063,-259.022 972.123,-252.008 973.956,-262.443 980.063,-259.022\"/>\n",
       "</g>\n",
       "<!-- Race&#45;&gt;BMI -->\n",
       "<g id=\"edge51\" class=\"edge\"><title>Race&#45;&gt;BMI</title>\n",
       "<path fill=\"none\" stroke=\"black\" d=\"M1637.58,-376.594C1749.2,-374.716 2151.47,-365.121 2189,-324 2236.83,-271.604 2103.28,-247.616 2034.75,-238.99\"/>\n",
       "<polygon fill=\"black\" stroke=\"black\" points=\"2035.09,-235.506 2024.75,-237.781 2034.25,-242.456 2035.09,-235.506\"/>\n",
       "</g>\n",
       "<!-- Race&#45;&gt;predicted hazard -->\n",
       "<g id=\"edge52\" class=\"edge\"><title>Race&#45;&gt;predicted hazard</title>\n",
       "<path fill=\"none\" stroke=\"black\" d=\"M1637.73,-376.47C1774.93,-373.764 2359.74,-360.175 2432,-324 2478.51,-300.714 2508,-287.015 2508,-235 2508,-235 2508,-235 2508,-161 2508,-112.793 2487.97,-95.7087 2446,-72 2384.19,-37.0853 1913.84,-24.1884 1723.54,-20.3674\"/>\n",
       "<polygon fill=\"black\" stroke=\"black\" points=\"1723.39,-16.8639 1713.32,-20.1656 1723.25,-23.8625 1723.39,-16.8639\"/>\n",
       "</g>\n",
       "<!-- Poverty index noise -->\n",
       "<g id=\"node23\" class=\"node\"><title>Poverty index noise</title>\n",
       "<ellipse fill=\"none\" stroke=\"black\" cx=\"1092\" cy=\"-378\" rx=\"81.4863\" ry=\"18\"/>\n",
       "<text text-anchor=\"middle\" x=\"1092\" y=\"-374.3\" font-family=\"Times,serif\" font-size=\"14.00\">Poverty index noise</text>\n",
       "</g>\n",
       "<!-- Poverty index noise&#45;&gt;Poverty index -->\n",
       "<g id=\"edge53\" class=\"edge\"><title>Poverty index noise&#45;&gt;Poverty index</title>\n",
       "<path fill=\"none\" stroke=\"black\" d=\"M1092,-359.697C1092,-351.983 1092,-342.712 1092,-334.112\"/>\n",
       "<polygon fill=\"black\" stroke=\"black\" points=\"1095.5,-334.104 1092,-324.104 1088.5,-334.104 1095.5,-334.104\"/>\n",
       "</g>\n",
       "<!-- Blood protein noise -->\n",
       "<g id=\"node24\" class=\"node\"><title>Blood protein noise</title>\n",
       "<ellipse fill=\"none\" stroke=\"black\" cx=\"1869\" cy=\"-306\" rx=\"80.6858\" ry=\"18\"/>\n",
       "<text text-anchor=\"middle\" x=\"1869\" y=\"-302.3\" font-family=\"Times,serif\" font-size=\"14.00\">Blood protein noise</text>\n",
       "</g>\n",
       "<!-- Blood protein noise&#45;&gt;Blood protein -->\n",
       "<g id=\"edge56\" class=\"edge\"><title>Blood protein noise&#45;&gt;Blood protein</title>\n",
       "<path fill=\"none\" stroke=\"black\" d=\"M1845.78,-288.411C1832.56,-278.969 1815.84,-267.029 1801.57,-256.834\"/>\n",
       "<polygon fill=\"black\" stroke=\"black\" points=\"1803.22,-253.713 1793.05,-250.749 1799.15,-259.409 1803.22,-253.713\"/>\n",
       "</g>\n",
       "<!-- Iron noise -->\n",
       "<g id=\"node25\" class=\"node\"><title>Iron noise</title>\n",
       "<ellipse fill=\"none\" stroke=\"black\" cx=\"2358\" cy=\"-306\" rx=\"46.2923\" ry=\"18\"/>\n",
       "<text text-anchor=\"middle\" x=\"2358\" y=\"-302.3\" font-family=\"Times,serif\" font-size=\"14.00\">Iron noise</text>\n",
       "</g>\n",
       "<!-- Iron noise&#45;&gt;Iron -->\n",
       "<g id=\"edge60\" class=\"edge\"><title>Iron noise&#45;&gt;Iron</title>\n",
       "<path fill=\"none\" stroke=\"black\" d=\"M2327.76,-292.324C2297.99,-279.845 2252.72,-260.869 2222.51,-248.21\"/>\n",
       "<polygon fill=\"black\" stroke=\"black\" points=\"2223.85,-244.975 2213.28,-244.338 2221.15,-251.431 2223.85,-244.975\"/>\n",
       "</g>\n",
       "<!-- Pulse pressure&#45;&gt;predicted hazard -->\n",
       "<g id=\"edge66\" class=\"edge\"><title>Pulse pressure&#45;&gt;predicted hazard</title>\n",
       "<path fill=\"none\" stroke=\"black\" d=\"M1609.89,-72.055C1615.25,-63.7147 1621.83,-53.4908 1627.77,-44.2517\"/>\n",
       "<polygon fill=\"black\" stroke=\"black\" points=\"1630.74,-46.0935 1633.21,-35.789 1624.86,-42.3081 1630.74,-46.0935\"/>\n",
       "</g>\n",
       "<!-- Blood pressure noise -->\n",
       "<g id=\"node27\" class=\"node\"><title>Blood pressure noise</title>\n",
       "<ellipse fill=\"none\" stroke=\"black\" cx=\"1571\" cy=\"-306\" rx=\"85.2851\" ry=\"18\"/>\n",
       "<text text-anchor=\"middle\" x=\"1571\" y=\"-302.3\" font-family=\"Times,serif\" font-size=\"14.00\">Blood pressure noise</text>\n",
       "</g>\n",
       "<!-- Blood pressure noise&#45;&gt;Blood pressure -->\n",
       "<g id=\"edge65\" class=\"edge\"><title>Blood pressure noise&#45;&gt;Blood pressure</title>\n",
       "<path fill=\"none\" stroke=\"black\" d=\"M1555.99,-288.055C1548.38,-279.457 1538.99,-268.857 1530.61,-259.397\"/>\n",
       "<polygon fill=\"black\" stroke=\"black\" points=\"1533.12,-256.954 1523.87,-251.789 1527.88,-261.596 1533.12,-256.954\"/>\n",
       "</g>\n",
       "<!-- Inflamation noise -->\n",
       "<g id=\"node28\" class=\"node\"><title>Inflamation noise</title>\n",
       "<ellipse fill=\"none\" stroke=\"black\" cx=\"1243\" cy=\"-306\" rx=\"73.387\" ry=\"18\"/>\n",
       "<text text-anchor=\"middle\" x=\"1243\" y=\"-302.3\" font-family=\"Times,serif\" font-size=\"14.00\">Inflamation noise</text>\n",
       "</g>\n",
       "<!-- Inflamation noise&#45;&gt;Inflamation -->\n",
       "<g id=\"edge69\" class=\"edge\"><title>Inflamation noise&#45;&gt;Inflamation</title>\n",
       "<path fill=\"none\" stroke=\"black\" d=\"M1243,-287.697C1243,-279.983 1243,-270.712 1243,-262.112\"/>\n",
       "<polygon fill=\"black\" stroke=\"black\" points=\"1246.5,-262.104 1243,-252.104 1239.5,-262.104 1246.5,-262.104\"/>\n",
       "</g>\n",
       "<!-- Serum Cholesterol noise -->\n",
       "<g id=\"node29\" class=\"node\"><title>Serum Cholesterol noise</title>\n",
       "<ellipse fill=\"none\" stroke=\"black\" cx=\"164\" cy=\"-306\" rx=\"98.2828\" ry=\"18\"/>\n",
       "<text text-anchor=\"middle\" x=\"164\" y=\"-302.3\" font-family=\"Times,serif\" font-size=\"14.00\">Serum Cholesterol noise</text>\n",
       "</g>\n",
       "<!-- Serum Cholesterol noise&#45;&gt;Serum Cholesterol -->\n",
       "<g id=\"edge70\" class=\"edge\"><title>Serum Cholesterol noise&#45;&gt;Serum Cholesterol</title>\n",
       "<path fill=\"none\" stroke=\"black\" d=\"M200.805,-289.291C225.281,-278.844 257.569,-265.062 283.489,-253.999\"/>\n",
       "<polygon fill=\"black\" stroke=\"black\" points=\"284.901,-257.201 292.724,-250.057 282.153,-250.763 284.901,-257.201\"/>\n",
       "</g>\n",
       "<!-- Serum Magnesium noise -->\n",
       "<g id=\"node30\" class=\"node\"><title>Serum Magnesium noise</title>\n",
       "<ellipse fill=\"none\" stroke=\"black\" cx=\"494\" cy=\"-306\" rx=\"100.182\" ry=\"18\"/>\n",
       "<text text-anchor=\"middle\" x=\"494\" y=\"-302.3\" font-family=\"Times,serif\" font-size=\"14.00\">Serum Magnesium noise</text>\n",
       "</g>\n",
       "<!-- Serum Magnesium noise&#45;&gt;Serum Magnesium -->\n",
       "<g id=\"edge71\" class=\"edge\"><title>Serum Magnesium noise&#45;&gt;Serum Magnesium</title>\n",
       "<path fill=\"none\" stroke=\"black\" d=\"M531.254,-289.291C555.943,-278.88 588.486,-265.157 614.676,-254.113\"/>\n",
       "<polygon fill=\"black\" stroke=\"black\" points=\"616.157,-257.287 624.011,-250.176 613.437,-250.837 616.157,-257.287\"/>\n",
       "</g>\n",
       "<!-- Red blood cells noise -->\n",
       "<g id=\"node31\" class=\"node\"><title>Red blood cells noise</title>\n",
       "<ellipse fill=\"none\" stroke=\"black\" cx=\"813\" cy=\"-306\" rx=\"87.1846\" ry=\"18\"/>\n",
       "<text text-anchor=\"middle\" x=\"813\" y=\"-302.3\" font-family=\"Times,serif\" font-size=\"14.00\">Red blood cells noise</text>\n",
       "</g>\n",
       "<!-- Red blood cells noise&#45;&gt;Red blood cells -->\n",
       "<g id=\"edge72\" class=\"edge\"><title>Red blood cells noise&#45;&gt;Red blood cells</title>\n",
       "<path fill=\"none\" stroke=\"black\" d=\"M846.663,-289.291C869.006,-278.864 898.466,-265.116 922.149,-254.064\"/>\n",
       "<polygon fill=\"black\" stroke=\"black\" points=\"923.664,-257.219 931.245,-249.819 920.703,-250.876 923.664,-257.219\"/>\n",
       "</g>\n",
       "<!-- BMI noise -->\n",
       "<g id=\"node32\" class=\"node\"><title>BMI noise</title>\n",
       "<ellipse fill=\"none\" stroke=\"black\" cx=\"2131\" cy=\"-306\" rx=\"48.9926\" ry=\"18\"/>\n",
       "<text text-anchor=\"middle\" x=\"2131\" y=\"-302.3\" font-family=\"Times,serif\" font-size=\"14.00\">BMI noise</text>\n",
       "</g>\n",
       "<!-- BMI noise&#45;&gt;BMI -->\n",
       "<g id=\"edge73\" class=\"edge\"><title>BMI noise&#45;&gt;BMI</title>\n",
       "<path fill=\"none\" stroke=\"black\" d=\"M2103.88,-290.834C2081.57,-279.177 2049.97,-262.672 2026.92,-250.631\"/>\n",
       "<polygon fill=\"black\" stroke=\"black\" points=\"2028.41,-247.461 2017.93,-245.933 2025.17,-253.665 2028.41,-247.461\"/>\n",
       "</g>\n",
       "</g>\n",
       "</svg>\n"
      ],
      "text/plain": [
       "<graphviz.files.Source at 0x7f7532e90850>"
      ]
     },
     "metadata": {},
     "output_type": "display_data"
    }
   ],
   "source": [
    "# for multiple baseline need to run this multiple times, finally I can just combine the different baselines because of linearity\n",
    "E = GraphExplainer(causal_graph, bg[:1])\n",
    "E.prepare_graph(X) # add noise node\n",
    "G = copy.deepcopy(E.graph) # group happens after noise node b/c the grouped nodes combines individual noise node\n",
    "G = group_nodes(G, [n for n in G if n.name in ['White blood cells', 'Sedimentation rate']], 'Inflamation')\n",
    "G = group_nodes(G, [n for n in G if n.name in ['Systolic BP', 'Diastolic BP']], 'Blood pressure')\n",
    "G = group_nodes(G, [n for n in G if n.name in ['TS', 'TIBC', 'Serum Iron']], 'Iron')\n",
    "G = group_nodes(G, [n for n in G if n.name in ['Serum Protein', 'Serum Albumin']], 'Blood protein')\n",
    "G.draw()"
   ]
  },
  {
   "cell_type": "code",
   "execution_count": 59,
   "metadata": {
    "collapsed": true,
    "jupyter": {
     "outputs_hidden": true
    }
   },
   "outputs": [
    {
     "name": "stdout",
     "output_type": "stream",
     "text": [
      "bg 0/10\n"
     ]
    },
    {
     "name": "stderr",
     "output_type": "stream",
     "text": [
      "bruteforce sampling: 100%|██████████| 1/1 [00:10<00:00, 10.72s/it]\n",
      "bruteforce sampling: 100%|██████████| 1/1 [00:10<00:00, 10.95s/it]\n",
      "bruteforce sampling: 100%|██████████| 1/1 [00:11<00:00, 11.08s/it]\n",
      "bruteforce sampling: 100%|██████████| 1/1 [00:10<00:00, 10.79s/it]\n",
      "bruteforce sampling: 100%|██████████| 1/1 [00:10<00:00, 10.66s/it]\n",
      "bruteforce sampling: 100%|██████████| 1/1 [00:10<00:00, 10.72s/it]\n",
      "bruteforce sampling: 100%|██████████| 1/1 [00:10<00:00, 10.80s/it]\n",
      "bruteforce sampling: 100%|██████████| 1/1 [00:10<00:00, 10.73s/it]\n",
      "bruteforce sampling: 100%|██████████| 1/1 [00:10<00:00, 10.84s/it]\n",
      "bruteforce sampling: 100%|██████████| 1/1 [00:10<00:00, 10.24s/it]\n"
     ]
    },
    {
     "name": "stdout",
     "output_type": "stream",
     "text": [
      "bg 1/10\n"
     ]
    },
    {
     "name": "stderr",
     "output_type": "stream",
     "text": [
      "bruteforce sampling: 100%|██████████| 1/1 [00:10<00:00, 10.60s/it]\n",
      "bruteforce sampling: 100%|██████████| 1/1 [00:10<00:00, 10.58s/it]\n",
      "bruteforce sampling: 100%|██████████| 1/1 [00:10<00:00, 10.79s/it]\n",
      "bruteforce sampling: 100%|██████████| 1/1 [00:10<00:00, 10.69s/it]\n",
      "bruteforce sampling: 100%|██████████| 1/1 [00:10<00:00, 10.27s/it]\n",
      "bruteforce sampling: 100%|██████████| 1/1 [00:10<00:00, 10.32s/it]\n",
      "bruteforce sampling: 100%|██████████| 1/1 [00:10<00:00, 10.75s/it]\n",
      "bruteforce sampling: 100%|██████████| 1/1 [00:10<00:00, 10.62s/it]\n",
      "bruteforce sampling: 100%|██████████| 1/1 [00:10<00:00, 10.63s/it]\n",
      "bruteforce sampling: 100%|██████████| 1/1 [00:10<00:00, 10.11s/it]\n"
     ]
    },
    {
     "name": "stdout",
     "output_type": "stream",
     "text": [
      "bg 2/10\n"
     ]
    },
    {
     "name": "stderr",
     "output_type": "stream",
     "text": [
      "bruteforce sampling: 100%|██████████| 1/1 [00:10<00:00, 10.95s/it]\n",
      "bruteforce sampling: 100%|██████████| 1/1 [00:11<00:00, 11.54s/it]\n",
      "bruteforce sampling: 100%|██████████| 1/1 [00:10<00:00, 10.76s/it]\n",
      "bruteforce sampling: 100%|██████████| 1/1 [00:11<00:00, 11.14s/it]\n",
      "bruteforce sampling: 100%|██████████| 1/1 [00:10<00:00, 10.97s/it]\n",
      "bruteforce sampling: 100%|██████████| 1/1 [00:10<00:00, 10.68s/it]\n",
      "bruteforce sampling: 100%|██████████| 1/1 [00:10<00:00, 10.77s/it]\n",
      "bruteforce sampling: 100%|██████████| 1/1 [00:11<00:00, 11.18s/it]\n",
      "bruteforce sampling: 100%|██████████| 1/1 [00:10<00:00, 10.95s/it]\n",
      "bruteforce sampling: 100%|██████████| 1/1 [00:11<00:00, 11.14s/it]\n"
     ]
    },
    {
     "name": "stdout",
     "output_type": "stream",
     "text": [
      "bg 3/10\n"
     ]
    },
    {
     "name": "stderr",
     "output_type": "stream",
     "text": [
      "bruteforce sampling: 100%|██████████| 1/1 [00:10<00:00, 10.56s/it]\n",
      "bruteforce sampling: 100%|██████████| 1/1 [00:10<00:00, 10.70s/it]\n",
      "bruteforce sampling: 100%|██████████| 1/1 [00:11<00:00, 11.19s/it]\n",
      "bruteforce sampling: 100%|██████████| 1/1 [00:10<00:00, 10.91s/it]\n",
      "bruteforce sampling: 100%|██████████| 1/1 [00:11<00:00, 11.17s/it]\n",
      "bruteforce sampling: 100%|██████████| 1/1 [00:10<00:00, 10.49s/it]\n",
      "bruteforce sampling: 100%|██████████| 1/1 [00:10<00:00, 10.45s/it]\n",
      "bruteforce sampling: 100%|██████████| 1/1 [00:10<00:00, 10.33s/it]\n",
      "bruteforce sampling: 100%|██████████| 1/1 [00:10<00:00, 10.77s/it]\n",
      "bruteforce sampling: 100%|██████████| 1/1 [00:10<00:00, 10.87s/it]\n"
     ]
    },
    {
     "name": "stdout",
     "output_type": "stream",
     "text": [
      "bg 4/10\n"
     ]
    },
    {
     "name": "stderr",
     "output_type": "stream",
     "text": [
      "bruteforce sampling: 100%|██████████| 1/1 [00:09<00:00,  9.54s/it]\n",
      "bruteforce sampling: 100%|██████████| 1/1 [00:10<00:00, 10.02s/it]\n",
      "bruteforce sampling: 100%|██████████| 1/1 [00:09<00:00,  9.51s/it]\n",
      "bruteforce sampling: 100%|██████████| 1/1 [00:10<00:00, 10.06s/it]\n",
      "bruteforce sampling: 100%|██████████| 1/1 [00:09<00:00,  9.84s/it]\n",
      "bruteforce sampling: 100%|██████████| 1/1 [00:11<00:00, 11.17s/it]\n",
      "bruteforce sampling: 100%|██████████| 1/1 [00:10<00:00, 10.44s/it]\n",
      "bruteforce sampling: 100%|██████████| 1/1 [00:09<00:00,  9.81s/it]\n",
      "bruteforce sampling: 100%|██████████| 1/1 [00:10<00:00, 10.56s/it]\n",
      "bruteforce sampling: 100%|██████████| 1/1 [00:10<00:00, 10.06s/it]\n"
     ]
    },
    {
     "name": "stdout",
     "output_type": "stream",
     "text": [
      "bg 5/10\n"
     ]
    },
    {
     "name": "stderr",
     "output_type": "stream",
     "text": [
      "bruteforce sampling: 100%|██████████| 1/1 [00:09<00:00,  9.79s/it]\n",
      "bruteforce sampling: 100%|██████████| 1/1 [00:10<00:00, 10.15s/it]\n",
      "bruteforce sampling: 100%|██████████| 1/1 [00:10<00:00, 10.74s/it]\n",
      "bruteforce sampling: 100%|██████████| 1/1 [00:09<00:00,  9.72s/it]\n",
      "bruteforce sampling: 100%|██████████| 1/1 [00:10<00:00, 10.83s/it]\n",
      "bruteforce sampling: 100%|██████████| 1/1 [00:09<00:00,  9.98s/it]\n",
      "bruteforce sampling: 100%|██████████| 1/1 [00:10<00:00, 10.80s/it]\n",
      "bruteforce sampling: 100%|██████████| 1/1 [00:09<00:00,  9.91s/it]\n",
      "bruteforce sampling: 100%|██████████| 1/1 [00:10<00:00, 10.62s/it]\n",
      "bruteforce sampling: 100%|██████████| 1/1 [00:10<00:00, 10.71s/it]\n"
     ]
    },
    {
     "name": "stdout",
     "output_type": "stream",
     "text": [
      "bg 6/10\n"
     ]
    },
    {
     "name": "stderr",
     "output_type": "stream",
     "text": [
      "bruteforce sampling: 100%|██████████| 1/1 [00:10<00:00, 10.85s/it]\n",
      "bruteforce sampling: 100%|██████████| 1/1 [00:10<00:00, 10.39s/it]\n",
      "bruteforce sampling: 100%|██████████| 1/1 [00:10<00:00, 10.69s/it]\n",
      "bruteforce sampling: 100%|██████████| 1/1 [00:10<00:00, 10.44s/it]\n",
      "bruteforce sampling: 100%|██████████| 1/1 [00:10<00:00, 10.67s/it]\n",
      "bruteforce sampling: 100%|██████████| 1/1 [00:10<00:00, 10.97s/it]\n",
      "bruteforce sampling: 100%|██████████| 1/1 [00:10<00:00, 10.36s/it]\n",
      "bruteforce sampling: 100%|██████████| 1/1 [00:10<00:00, 10.85s/it]\n",
      "bruteforce sampling: 100%|██████████| 1/1 [00:10<00:00, 10.91s/it]\n",
      "bruteforce sampling: 100%|██████████| 1/1 [00:10<00:00, 10.76s/it]\n"
     ]
    },
    {
     "name": "stdout",
     "output_type": "stream",
     "text": [
      "bg 7/10\n"
     ]
    },
    {
     "name": "stderr",
     "output_type": "stream",
     "text": [
      "bruteforce sampling: 100%|██████████| 1/1 [00:09<00:00,  9.71s/it]\n",
      "bruteforce sampling: 100%|██████████| 1/1 [00:10<00:00, 10.46s/it]\n",
      "bruteforce sampling: 100%|██████████| 1/1 [00:09<00:00,  9.97s/it]\n",
      "bruteforce sampling: 100%|██████████| 1/1 [00:09<00:00,  9.48s/it]\n",
      "bruteforce sampling: 100%|██████████| 1/1 [00:09<00:00,  9.11s/it]\n",
      "bruteforce sampling: 100%|██████████| 1/1 [00:09<00:00,  9.35s/it]\n",
      "bruteforce sampling: 100%|██████████| 1/1 [00:09<00:00,  9.35s/it]\n",
      "bruteforce sampling: 100%|██████████| 1/1 [00:09<00:00,  9.46s/it]\n",
      "bruteforce sampling: 100%|██████████| 1/1 [00:09<00:00,  9.46s/it]\n",
      "bruteforce sampling: 100%|██████████| 1/1 [00:09<00:00,  9.30s/it]\n"
     ]
    },
    {
     "name": "stdout",
     "output_type": "stream",
     "text": [
      "bg 8/10\n"
     ]
    },
    {
     "name": "stderr",
     "output_type": "stream",
     "text": [
      "bruteforce sampling: 100%|██████████| 1/1 [00:09<00:00,  9.17s/it]\n",
      "bruteforce sampling: 100%|██████████| 1/1 [00:09<00:00,  9.83s/it]\n",
      "bruteforce sampling: 100%|██████████| 1/1 [00:11<00:00, 11.19s/it]\n",
      "bruteforce sampling: 100%|██████████| 1/1 [00:09<00:00,  9.97s/it]\n",
      "bruteforce sampling: 100%|██████████| 1/1 [00:10<00:00, 10.27s/it]\n",
      "bruteforce sampling: 100%|██████████| 1/1 [00:09<00:00,  9.67s/it]\n",
      "bruteforce sampling: 100%|██████████| 1/1 [00:09<00:00,  9.52s/it]\n",
      "bruteforce sampling: 100%|██████████| 1/1 [00:10<00:00, 10.67s/it]\n",
      "bruteforce sampling: 100%|██████████| 1/1 [00:09<00:00,  9.19s/it]\n",
      "bruteforce sampling: 100%|██████████| 1/1 [00:09<00:00,  9.53s/it]\n"
     ]
    },
    {
     "name": "stdout",
     "output_type": "stream",
     "text": [
      "bg 9/10\n"
     ]
    },
    {
     "name": "stderr",
     "output_type": "stream",
     "text": [
      "bruteforce sampling: 100%|██████████| 1/1 [00:10<00:00, 10.24s/it]\n",
      "bruteforce sampling: 100%|██████████| 1/1 [00:10<00:00, 10.83s/it]\n",
      "bruteforce sampling: 100%|██████████| 1/1 [00:10<00:00, 10.58s/it]\n",
      "bruteforce sampling: 100%|██████████| 1/1 [00:10<00:00, 10.58s/it]\n",
      "bruteforce sampling: 100%|██████████| 1/1 [00:11<00:00, 11.18s/it]\n",
      "bruteforce sampling: 100%|██████████| 1/1 [00:11<00:00, 11.20s/it]\n",
      "bruteforce sampling: 100%|██████████| 1/1 [00:10<00:00, 10.80s/it]\n",
      "bruteforce sampling: 100%|██████████| 1/1 [00:11<00:00, 11.07s/it]\n",
      "bruteforce sampling: 100%|██████████| 1/1 [00:11<00:00, 11.42s/it]\n",
      "bruteforce sampling: 100%|██████████| 1/1 [00:10<00:00, 10.73s/it]\n"
     ]
    }
   ],
   "source": [
    "# multiple background result with individual run\n",
    "causal_edge_credits = [] # save for each run\n",
    "for i in range(len(bg)): # average run result using linearity axiom\n",
    "    print(f'bg {i}/{len(bg)}')\n",
    "    for j in range(nruns):\n",
    "        E = GraphExplainer(causal_graph, bg[i:i+1])\n",
    "        E.prepare_graph(X) # add noise node\n",
    "        G = copy.deepcopy(E.graph) # group happens after noise node b/c the grouped nodes combines individual noise node\n",
    "        G = group_nodes(G, [n for n in G if n.name in ['White blood cells', 'Sedimentation rate']], 'Inflamation')\n",
    "        G = group_nodes(G, [n for n in G if n.name in ['Systolic BP', 'Diastolic BP']], 'Blood pressure')\n",
    "        G = group_nodes(G, [n for n in G if n.name in ['TS', 'TIBC', 'Serum Iron']], 'Iron')\n",
    "        G = group_nodes(G, [n for n in G if n.name in ['Serum Protein', 'Serum Albumin']], 'Blood protein')\n",
    "\n",
    "        explainer = GraphExplainer(G, bg[i:i+1], nruns=1) \n",
    "        cf_c = explainer.shap_values(X[:nsamples], skip_prepare=True)        \n",
    "        causal_edge_credits.append(node_dict2str_dict(cf_c.edge_credit)) # use node name is more portable vs. node"
   ]
  },
  {
   "cell_type": "code",
   "execution_count": 60,
   "metadata": {},
   "outputs": [
    {
     "data": {
      "image/svg+xml": [
       "<?xml version=\"1.0\" encoding=\"UTF-8\" standalone=\"no\"?>\n",
       "<!DOCTYPE svg PUBLIC \"-//W3C//DTD SVG 1.1//EN\"\n",
       " \"http://www.w3.org/Graphics/SVG/1.1/DTD/svg11.dtd\">\n",
       "<!-- Generated by graphviz version 2.38.0 (20140413.2041)\n",
       " -->\n",
       "<!-- Title: %3 Pages: 1 -->\n",
       "<svg width=\"810pt\" height=\"347pt\"\n",
       " viewBox=\"0.00 0.00 810.13 347.00\" xmlns=\"http://www.w3.org/2000/svg\" xmlns:xlink=\"http://www.w3.org/1999/xlink\">\n",
       "<g id=\"graph0\" class=\"graph\" transform=\"scale(1 1) rotate(0) translate(4 343)\">\n",
       "<title>%3</title>\n",
       "<polygon fill=\"white\" stroke=\"none\" points=\"-4,4 -4,-343 806.127,-343 806.127,4 -4,4\"/>\n",
       "<!-- Sex -->\n",
       "<g id=\"node1\" class=\"node\"><title>Sex</title>\n",
       "<polygon fill=\"none\" stroke=\"black\" points=\"77.1271,-285 23.1271,-285 23.1271,-249 77.1271,-249 77.1271,-285\"/>\n",
       "<text text-anchor=\"middle\" x=\"50.1271\" y=\"-263.3\" font-family=\"Times,serif\" font-size=\"14.00\">Sex</text>\n",
       "</g>\n",
       "<!-- predicted hazard -->\n",
       "<g id=\"node2\" class=\"node\"><title>predicted hazard</title>\n",
       "<ellipse fill=\"none\" stroke=\"black\" cx=\"137.127\" cy=\"-18\" rx=\"69.5877\" ry=\"18\"/>\n",
       "<text text-anchor=\"middle\" x=\"137.127\" y=\"-14.3\" font-family=\"Times,serif\" font-size=\"14.00\">predicted hazard</text>\n",
       "</g>\n",
       "<!-- Sex&#45;&gt;predicted hazard -->\n",
       "<g id=\"edge1\" class=\"edge\"><title>Sex&#45;&gt;predicted hazard</title>\n",
       "<path fill=\"none\" stroke=\"#008bfb\" stroke-width=\"0.384553\" d=\"M35.5575,-248.734C16.8559,-224.353 -11.3273,-178.614 5.1271,-141 24.5614,-96.5743 69.0371,-61.1309 100.994,-40.1338\"/>\n",
       "<polygon fill=\"#008bfb\" stroke=\"#008bfb\" stroke-width=\"0.384553\" points=\"103.107,-42.9368 109.644,-34.5991 99.3343,-37.0405 103.107,-42.9368\"/>\n",
       "<text text-anchor=\"middle\" x=\"60.1271\" y=\"-155.3\" font-family=\"Times,serif\" font-size=\"14.00\" fill=\"#008bfb\">(&#45;0.11, &#45;0.08, &#45;0.04)</text>\n",
       "</g>\n",
       "<!-- Blood pressure -->\n",
       "<g id=\"node3\" class=\"node\"><title>Blood pressure</title>\n",
       "<ellipse fill=\"none\" stroke=\"black\" cx=\"236.127\" cy=\"-213\" rx=\"63.8893\" ry=\"18\"/>\n",
       "<text text-anchor=\"middle\" x=\"236.127\" y=\"-209.3\" font-family=\"Times,serif\" font-size=\"14.00\">Blood pressure</text>\n",
       "</g>\n",
       "<!-- Systolic BP -->\n",
       "<g id=\"node4\" class=\"node\"><title>Systolic BP</title>\n",
       "<ellipse fill=\"none\" stroke=\"black\" cx=\"217.127\" cy=\"-105\" rx=\"51.9908\" ry=\"18\"/>\n",
       "<text text-anchor=\"middle\" x=\"217.127\" y=\"-101.3\" font-family=\"Times,serif\" font-size=\"14.00\">Systolic BP</text>\n",
       "</g>\n",
       "<!-- Blood pressure&#45;&gt;Systolic BP -->\n",
       "<g id=\"edge2\" class=\"edge\"><title>Blood pressure&#45;&gt;Systolic BP</title>\n",
       "<path fill=\"none\" stroke=\"#ff0051\" stroke-width=\"0.535948\" d=\"M239.369,-195.022C241.509,-180.422 243.097,-158.945 238.127,-141 237.238,-137.79 235.968,-134.579 234.486,-131.476\"/>\n",
       "<polygon fill=\"#ff0051\" stroke=\"#ff0051\" stroke-width=\"0.535948\" points=\"237.478,-129.654 229.576,-122.597 231.352,-133.042 237.478,-129.654\"/>\n",
       "<text text-anchor=\"middle\" x=\"290.627\" y=\"-155.3\" font-family=\"Times,serif\" font-size=\"14.00\" fill=\"#ff0051\">(0.10, 0.11, 0.13)</text>\n",
       "</g>\n",
       "<!-- Systolic BP&#45;&gt;predicted hazard -->\n",
       "<g id=\"edge3\" class=\"edge\"><title>Systolic BP&#45;&gt;predicted hazard</title>\n",
       "<path fill=\"none\" stroke=\"#ff0051\" stroke-width=\"0.448467\" d=\"M201.702,-87.6111C189.826,-74.9928 173.231,-57.3607 159.838,-43.1307\"/>\n",
       "<polygon fill=\"#ff0051\" stroke=\"#ff0051\" stroke-width=\"0.448467\" points=\"162.18,-40.5118 152.778,-35.6286 157.082,-45.3094 162.18,-40.5118\"/>\n",
       "<text text-anchor=\"middle\" x=\"230.627\" y=\"-57.8\" font-family=\"Times,serif\" font-size=\"14.00\" fill=\"#ff0051\">(0.08, 0.09, 0.11)</text>\n",
       "</g>\n",
       "<!-- White blood cells -->\n",
       "<g id=\"node5\" class=\"node\"><title>White blood cells</title>\n",
       "<ellipse fill=\"none\" stroke=\"black\" cx=\"360.127\" cy=\"-105\" rx=\"73.387\" ry=\"18\"/>\n",
       "<text text-anchor=\"middle\" x=\"360.127\" y=\"-101.3\" font-family=\"Times,serif\" font-size=\"14.00\">White blood cells</text>\n",
       "</g>\n",
       "<!-- White blood cells&#45;&gt;predicted hazard -->\n",
       "<g id=\"edge4\" class=\"edge\"><title>White blood cells&#45;&gt;predicted hazard</title>\n",
       "<path fill=\"none\" stroke=\"#008bfb\" stroke-width=\"0.147755\" d=\"M339.335,-87.6927C324.436,-76.7314 303.485,-62.7419 283.127,-54 258.389,-43.3771 229.846,-35.6286 204.595,-30.1644\"/>\n",
       "<polygon fill=\"#008bfb\" stroke=\"#008bfb\" stroke-width=\"0.147755\" points=\"205.234,-26.7224 194.73,-28.1077 203.805,-33.5751 205.234,-26.7224\"/>\n",
       "<text text-anchor=\"middle\" x=\"365.127\" y=\"-57.8\" font-family=\"Times,serif\" font-size=\"14.00\" fill=\"#008bfb\">(&#45;0.03, &#45;0.02, &#45;0.02)</text>\n",
       "</g>\n",
       "<!-- Inflamation -->\n",
       "<g id=\"node6\" class=\"node\"><title>Inflamation</title>\n",
       "<ellipse fill=\"none\" stroke=\"black\" cx=\"283.127\" cy=\"-321\" rx=\"51.9908\" ry=\"18\"/>\n",
       "<text text-anchor=\"middle\" x=\"283.127\" y=\"-317.3\" font-family=\"Times,serif\" font-size=\"14.00\">Inflamation</text>\n",
       "</g>\n",
       "<!-- Inflamation&#45;&gt;White blood cells -->\n",
       "<g id=\"edge5\" class=\"edge\"><title>Inflamation&#45;&gt;White blood cells</title>\n",
       "<path fill=\"none\" stroke=\"#008bfb\" stroke-width=\"0.147755\" d=\"M293.467,-303.208C296.761,-297.531 300.284,-291.087 303.127,-285 324.787,-238.622 328.252,-225.977 343.127,-177 347.487,-162.646 351.449,-146.388 354.449,-133.055\"/>\n",
       "<polygon fill=\"#008bfb\" stroke=\"#008bfb\" stroke-width=\"0.147755\" points=\"357.913,-133.599 356.639,-123.081 351.076,-132.098 357.913,-133.599\"/>\n",
       "<text text-anchor=\"middle\" x=\"393.127\" y=\"-209.3\" font-family=\"Times,serif\" font-size=\"14.00\" fill=\"#008bfb\">(&#45;0.03, &#45;0.02, &#45;0.02)</text>\n",
       "</g>\n",
       "<!-- Sedimentation rate -->\n",
       "<g id=\"node7\" class=\"node\"><title>Sedimentation rate</title>\n",
       "<ellipse fill=\"none\" stroke=\"black\" cx=\"491.127\" cy=\"-159\" rx=\"77.1866\" ry=\"18\"/>\n",
       "<text text-anchor=\"middle\" x=\"491.127\" y=\"-155.3\" font-family=\"Times,serif\" font-size=\"14.00\">Sedimentation rate</text>\n",
       "</g>\n",
       "<!-- Inflamation&#45;&gt;Sedimentation rate -->\n",
       "<g id=\"edge6\" class=\"edge\"><title>Inflamation&#45;&gt;Sedimentation rate</title>\n",
       "<path fill=\"none\" stroke=\"#ff0051\" stroke-width=\"0.216087\" d=\"M313.03,-306.159C323.984,-300.394 336.135,-293.138 346.127,-285 362.499,-271.666 358.942,-259.731 377.127,-249 410.759,-229.154 433.278,-256.179 463.127,-231 476.211,-219.963 483.22,-201.984 486.954,-186.881\"/>\n",
       "<polygon fill=\"#ff0051\" stroke=\"#ff0051\" stroke-width=\"0.216087\" points=\"490.397,-187.514 489.05,-177.005 483.55,-186.06 490.397,-187.514\"/>\n",
       "<text text-anchor=\"middle\" x=\"425.627\" y=\"-263.3\" font-family=\"Times,serif\" font-size=\"14.00\" fill=\"#ff0051\">(0.03, 0.04, 0.04)</text>\n",
       "</g>\n",
       "<!-- Sedimentation rate&#45;&gt;predicted hazard -->\n",
       "<g id=\"edge7\" class=\"edge\"><title>Sedimentation rate&#45;&gt;predicted hazard</title>\n",
       "<path fill=\"none\" stroke=\"#ff0051\" stroke-width=\"0.216087\" d=\"M485.43,-140.975C476.48,-117.13 456.702,-74.4192 424.127,-54 390.514,-32.9301 288.995,-24.5358 216.24,-21.1969\"/>\n",
       "<polygon fill=\"#ff0051\" stroke=\"#ff0051\" stroke-width=\"0.216087\" points=\"216.318,-17.6971 206.175,-20.7585 216.013,-24.6904 216.318,-17.6971\"/>\n",
       "<text text-anchor=\"middle\" x=\"526.627\" y=\"-101.3\" font-family=\"Times,serif\" font-size=\"14.00\" fill=\"#ff0051\">(0.03, 0.04, 0.04)</text>\n",
       "</g>\n",
       "<!-- Poverty index -->\n",
       "<g id=\"node8\" class=\"node\"><title>Poverty index</title>\n",
       "<ellipse fill=\"none\" stroke=\"black\" cx=\"543.127\" cy=\"-267\" rx=\"59.5901\" ry=\"18\"/>\n",
       "<text text-anchor=\"middle\" x=\"543.127\" y=\"-263.3\" font-family=\"Times,serif\" font-size=\"14.00\">Poverty index</text>\n",
       "</g>\n",
       "<!-- Poverty index&#45;&gt;predicted hazard -->\n",
       "<g id=\"edge8\" class=\"edge\"><title>Poverty index&#45;&gt;predicted hazard</title>\n",
       "<path fill=\"none\" stroke=\"#008bfb\" stroke-width=\"0.159125\" d=\"M549.884,-248.837C565.015,-209.102 598.807,-112.253 579.127,-87 556.926,-58.5125 333.478,-35.5116 213.07,-25.0721\"/>\n",
       "<polygon fill=\"#008bfb\" stroke=\"#008bfb\" stroke-width=\"0.159125\" points=\"213.075,-21.5597 202.812,-24.1915 212.476,-28.5341 213.075,-21.5597\"/>\n",
       "<text text-anchor=\"middle\" x=\"637.127\" y=\"-155.3\" font-family=\"Times,serif\" font-size=\"14.00\" fill=\"#008bfb\">(&#45;0.03, &#45;0.03, &#45;0.02)</text>\n",
       "</g>\n",
       "<!-- Serum Magnesium -->\n",
       "<g id=\"node9\" class=\"node\"><title>Serum Magnesium</title>\n",
       "<ellipse fill=\"none\" stroke=\"black\" cx=\"705.127\" cy=\"-213\" rx=\"79.0865\" ry=\"18\"/>\n",
       "<text text-anchor=\"middle\" x=\"705.127\" y=\"-209.3\" font-family=\"Times,serif\" font-size=\"14.00\">Serum Magnesium</text>\n",
       "</g>\n",
       "<!-- Serum Magnesium&#45;&gt;predicted hazard -->\n",
       "<g id=\"edge9\" class=\"edge\"><title>Serum Magnesium&#45;&gt;predicted hazard</title>\n",
       "<path fill=\"none\" stroke=\"#008bfb\" stroke-width=\"0.239565\" d=\"M709.345,-194.97C712.132,-179.749 713.719,-157.383 704.127,-141 665.19,-74.491 627.647,-77.1182 554.127,-54 493.092,-34.8076 318.645,-25.4566 215.739,-21.4901\"/>\n",
       "<polygon fill=\"#008bfb\" stroke=\"#008bfb\" stroke-width=\"0.239565\" points=\"215.829,-17.9911 205.704,-21.1116 215.565,-24.9861 215.829,-17.9911\"/>\n",
       "<text text-anchor=\"middle\" x=\"747.127\" y=\"-101.3\" font-family=\"Times,serif\" font-size=\"14.00\" fill=\"#008bfb\">(&#45;0.05, &#45;0.04, &#45;0.03)</text>\n",
       "</g>\n",
       "<!-- Age -->\n",
       "<g id=\"node10\" class=\"node\"><title>Age</title>\n",
       "<ellipse fill=\"none\" stroke=\"black\" cx=\"137.127\" cy=\"-321\" rx=\"27\" ry=\"18\"/>\n",
       "<text text-anchor=\"middle\" x=\"137.127\" y=\"-317.3\" font-family=\"Times,serif\" font-size=\"14.00\">Age</text>\n",
       "</g>\n",
       "<!-- Age&#45;&gt;predicted hazard -->\n",
       "<g id=\"edge10\" class=\"edge\"><title>Age&#45;&gt;predicted hazard</title>\n",
       "<path fill=\"none\" stroke=\"#ff0051\" stroke-width=\"5\" d=\"M137.127,-302.955C137.127,-253.093 137.127,-107.204 137.127,-46.2527\"/>\n",
       "<polygon fill=\"#ff0051\" stroke=\"#ff0051\" stroke-width=\"5\" points=\"141.502,-46.2316 137.127,-36.2316 132.752,-46.2317 141.502,-46.2316\"/>\n",
       "<text text-anchor=\"middle\" x=\"185.627\" y=\"-155.3\" font-family=\"Times,serif\" font-size=\"14.00\" fill=\"#ff0051\">(0.98, 1.14, 1.31)</text>\n",
       "</g>\n",
       "<!-- Age&#45;&gt;Blood pressure -->\n",
       "<g id=\"edge11\" class=\"edge\"><title>Age&#45;&gt;Blood pressure</title>\n",
       "<path fill=\"none\" stroke=\"#ff0051\" stroke-width=\"0.254424\" d=\"M150.893,-305.261C167.099,-287.909 194.248,-258.841 213.548,-238.175\"/>\n",
       "<polygon fill=\"#ff0051\" stroke=\"#ff0051\" stroke-width=\"0.254424\" points=\"216.254,-240.406 220.522,-230.708 211.139,-235.628 216.254,-240.406\"/>\n",
       "<text text-anchor=\"middle\" x=\"250.627\" y=\"-263.3\" font-family=\"Times,serif\" font-size=\"14.00\" fill=\"#ff0051\">(0.04, 0.05, 0.06)</text>\n",
       "</g>\n",
       "</g>\n",
       "</svg>\n"
      ],
      "text/plain": [
       "<graphviz.files.Source at 0x7f7537a0c990>"
      ]
     },
     "metadata": {},
     "output_type": "display_data"
    },
    {
     "data": {
      "text/plain": [
       "<AGraph <Swig Object of type 'Agraph_t *' at 0x7f75335b4240>>"
      ]
     },
     "execution_count": 60,
     "metadata": {},
     "output_type": "execute_result"
    }
   ],
   "source": [
    "cf_c.show_CI = True\n",
    "cf_c.draw(sample_ind, max_display=10, show_fg_val=False, edge_credit=edge_credits2edge_credit(causal_edge_credits, cf_c.graph))"
   ]
  },
  {
   "cell_type": "markdown",
   "metadata": {},
   "source": [
    "# Methods comparison: flow, independent, on-manifold, ASV"
   ]
  },
  {
   "cell_type": "code",
   "execution_count": 85,
   "metadata": {},
   "outputs": [
    {
     "data": {
      "image/svg+xml": [
       "<?xml version=\"1.0\" encoding=\"UTF-8\" standalone=\"no\"?>\n",
       "<!DOCTYPE svg PUBLIC \"-//W3C//DTD SVG 1.1//EN\"\n",
       " \"http://www.w3.org/Graphics/SVG/1.1/DTD/svg11.dtd\">\n",
       "<!-- Generated by graphviz version 2.38.0 (20140413.2041)\n",
       " -->\n",
       "<!-- Title: %3 Pages: 1 -->\n",
       "<svg width=\"967pt\" height=\"347pt\"\n",
       " viewBox=\"0.00 0.00 966.57 347.00\" xmlns=\"http://www.w3.org/2000/svg\" xmlns:xlink=\"http://www.w3.org/1999/xlink\">\n",
       "<g id=\"graph0\" class=\"graph\" transform=\"scale(1 1) rotate(0) translate(4 343)\">\n",
       "<title>%3</title>\n",
       "<polygon fill=\"white\" stroke=\"none\" points=\"-4,4 -4,-343 962.575,-343 962.575,4 -4,4\"/>\n",
       "<!-- Sex -->\n",
       "<g id=\"node1\" class=\"node\"><title>Sex</title>\n",
       "<polygon fill=\"none\" stroke=\"black\" points=\"135.575,-285 81.5748,-285 81.5748,-249 135.575,-249 135.575,-285\"/>\n",
       "<text text-anchor=\"middle\" x=\"108.575\" y=\"-263.3\" font-family=\"Times,serif\" font-size=\"14.00\">Sex</text>\n",
       "</g>\n",
       "<!-- predicted hazard -->\n",
       "<g id=\"node2\" class=\"node\"><title>predicted hazard</title>\n",
       "<ellipse fill=\"none\" stroke=\"black\" cx=\"69.5748\" cy=\"-18\" rx=\"69.5877\" ry=\"18\"/>\n",
       "<text text-anchor=\"middle\" x=\"69.5748\" y=\"-14.3\" font-family=\"Times,serif\" font-size=\"14.00\">predicted hazard</text>\n",
       "</g>\n",
       "<!-- Sex&#45;&gt;predicted hazard -->\n",
       "<g id=\"edge1\" class=\"edge\"><title>Sex&#45;&gt;predicted hazard</title>\n",
       "<path fill=\"none\" stroke=\"#008bfb\" stroke-width=\"1.69334\" d=\"M81.4613,-251.434C56.7489,-236.454 21.8449,-210.59 6.57483,-177 -14.5164,-130.606 21.4597,-74.9592 47.1462,-43.6192\"/>\n",
       "<polygon fill=\"#008bfb\" stroke=\"#008bfb\" stroke-width=\"1.69334\" points=\"49.9536,-45.7196 53.7377,-35.8236 44.6083,-41.1999 49.9536,-45.7196\"/>\n",
       "<text text-anchor=\"middle\" x=\"61.5748\" y=\"-155.3\" font-family=\"Times,serif\" font-size=\"14.00\" fill=\"#008bfb\">(&#45;0.07, &#45;0.05, &#45;0.03)</text>\n",
       "</g>\n",
       "<!-- Diastolic BP -->\n",
       "<g id=\"node3\" class=\"node\"><title>Diastolic BP</title>\n",
       "<ellipse fill=\"none\" stroke=\"black\" cx=\"181.575\" cy=\"-159\" rx=\"55.7903\" ry=\"18\"/>\n",
       "<text text-anchor=\"middle\" x=\"181.575\" y=\"-155.3\" font-family=\"Times,serif\" font-size=\"14.00\">Diastolic BP</text>\n",
       "</g>\n",
       "<!-- Diastolic BP&#45;&gt;predicted hazard -->\n",
       "<g id=\"edge2\" class=\"edge\"><title>Diastolic BP&#45;&gt;predicted hazard</title>\n",
       "<path fill=\"none\" stroke=\"#008bfb\" stroke-width=\"0.588616\" d=\"M146.977,-144.618C136.206,-139.168 124.968,-131.997 116.575,-123 96.0643,-101.012 83.3547,-68.5461 76.4048,-45.7516\"/>\n",
       "<polygon fill=\"#008bfb\" stroke=\"#008bfb\" stroke-width=\"0.588616\" points=\"79.7371,-44.6746 73.6096,-36.0314 73.0097,-46.6092 79.7371,-44.6746\"/>\n",
       "<text text-anchor=\"middle\" x=\"171.575\" y=\"-101.3\" font-family=\"Times,serif\" font-size=\"14.00\" fill=\"#008bfb\">(&#45;0.03, &#45;0.02, &#45;0.00)</text>\n",
       "</g>\n",
       "<!-- Blood pressure -->\n",
       "<g id=\"node4\" class=\"node\"><title>Blood pressure</title>\n",
       "<ellipse fill=\"none\" stroke=\"black\" cx=\"164.575\" cy=\"-321\" rx=\"63.8893\" ry=\"18\"/>\n",
       "<text text-anchor=\"middle\" x=\"164.575\" y=\"-317.3\" font-family=\"Times,serif\" font-size=\"14.00\">Blood pressure</text>\n",
       "</g>\n",
       "<!-- Systolic BP -->\n",
       "<g id=\"node5\" class=\"node\"><title>Systolic BP</title>\n",
       "<ellipse fill=\"none\" stroke=\"black\" cx=\"175.575\" cy=\"-213\" rx=\"51.9908\" ry=\"18\"/>\n",
       "<text text-anchor=\"middle\" x=\"175.575\" y=\"-209.3\" font-family=\"Times,serif\" font-size=\"14.00\">Systolic BP</text>\n",
       "</g>\n",
       "<!-- Blood pressure&#45;&gt;Systolic BP -->\n",
       "<g id=\"edge3\" class=\"edge\"><title>Blood pressure&#45;&gt;Systolic BP</title>\n",
       "<path fill=\"none\" stroke=\"#008bfb\" stroke-width=\"3.34438\" d=\"M166.198,-302.776C167.571,-288.393 169.622,-267.352 171.575,-249 171.847,-246.446 172.137,-243.788 172.432,-241.128\"/>\n",
       "<polygon fill=\"#008bfb\" stroke=\"#008bfb\" stroke-width=\"3.34438\" points=\"175.922,-241.414 173.569,-231.084 168.967,-240.627 175.922,-241.414\"/>\n",
       "<text text-anchor=\"middle\" x=\"226.575\" y=\"-263.3\" font-family=\"Times,serif\" font-size=\"14.00\" fill=\"#008bfb\">(&#45;0.13, &#45;0.10, &#45;0.08)</text>\n",
       "</g>\n",
       "<!-- Systolic BP&#45;&gt;predicted hazard -->\n",
       "<g id=\"edge4\" class=\"edge\"><title>Systolic BP&#45;&gt;predicted hazard</title>\n",
       "<path fill=\"none\" stroke=\"#008bfb\" stroke-width=\"2.55434\" d=\"M213.726,-200.702C224.993,-195.391 236.047,-187.775 242.575,-177 263.626,-142.252 253.518,-117.408 226.575,-87 202.207,-59.4983 164.73,-42.6973 132.502,-32.677\"/>\n",
       "<polygon fill=\"#008bfb\" stroke=\"#008bfb\" stroke-width=\"2.55434\" points=\"133.271,-29.2548 122.69,-29.7807 131.29,-35.9685 133.271,-29.2548\"/>\n",
       "<text text-anchor=\"middle\" x=\"305.575\" y=\"-101.3\" font-family=\"Times,serif\" font-size=\"14.00\" fill=\"#008bfb\">(&#45;0.10, &#45;0.08, &#45;0.06)</text>\n",
       "</g>\n",
       "<!-- Pulse pressure -->\n",
       "<g id=\"node6\" class=\"node\"><title>Pulse pressure</title>\n",
       "<ellipse fill=\"none\" stroke=\"black\" cx=\"438.575\" cy=\"-105\" rx=\"61.99\" ry=\"18\"/>\n",
       "<text text-anchor=\"middle\" x=\"438.575\" y=\"-101.3\" font-family=\"Times,serif\" font-size=\"14.00\">Pulse pressure</text>\n",
       "</g>\n",
       "<!-- Systolic BP&#45;&gt;Pulse pressure -->\n",
       "<g id=\"edge5\" class=\"edge\"><title>Systolic BP&#45;&gt;Pulse pressure</title>\n",
       "<path fill=\"none\" stroke=\"#008bfb\" stroke-width=\"0.840038\" d=\"M214.943,-201.098C232.633,-195.308 253.355,-187.246 270.575,-177 291.414,-164.6 290.233,-152.514 311.575,-141 323.944,-134.327 353.71,-125.994 381.317,-119.133\"/>\n",
       "<polygon fill=\"#008bfb\" stroke=\"#008bfb\" stroke-width=\"0.840038\" points=\"382.472,-122.454 391.354,-116.678 380.808,-115.654 382.472,-122.454\"/>\n",
       "<text text-anchor=\"middle\" x=\"366.575\" y=\"-155.3\" font-family=\"Times,serif\" font-size=\"14.00\" fill=\"#008bfb\">(&#45;0.03, &#45;0.02, &#45;0.02)</text>\n",
       "</g>\n",
       "<!-- Pulse pressure&#45;&gt;predicted hazard -->\n",
       "<g id=\"edge6\" class=\"edge\"><title>Pulse pressure&#45;&gt;predicted hazard</title>\n",
       "<path fill=\"none\" stroke=\"#008bfb\" stroke-width=\"0.621287\" d=\"M391.841,-93.2347C325.254,-77.8964 203.047,-49.7457 129.763,-32.8646\"/>\n",
       "<polygon fill=\"#008bfb\" stroke=\"#008bfb\" stroke-width=\"0.621287\" points=\"130.289,-29.394 119.758,-30.5599 128.718,-36.2154 130.289,-29.394\"/>\n",
       "<text text-anchor=\"middle\" x=\"331.575\" y=\"-57.8\" font-family=\"Times,serif\" font-size=\"14.00\" fill=\"#008bfb\">(&#45;0.02, &#45;0.02, &#45;0.01)</text>\n",
       "</g>\n",
       "<!-- White blood cells -->\n",
       "<g id=\"node7\" class=\"node\"><title>White blood cells</title>\n",
       "<ellipse fill=\"none\" stroke=\"black\" cx=\"591.575\" cy=\"-105\" rx=\"73.387\" ry=\"18\"/>\n",
       "<text text-anchor=\"middle\" x=\"591.575\" y=\"-101.3\" font-family=\"Times,serif\" font-size=\"14.00\">White blood cells</text>\n",
       "</g>\n",
       "<!-- White blood cells&#45;&gt;predicted hazard -->\n",
       "<g id=\"edge7\" class=\"edge\"><title>White blood cells&#45;&gt;predicted hazard</title>\n",
       "<path fill=\"none\" stroke=\"#008bfb\" stroke-width=\"0.473429\" d=\"M546.051,-90.8039C505.557,-79.516 444.564,-63.6129 390.575,-54 307.539,-39.2152 211.233,-29.7197 145.934,-24.4031\"/>\n",
       "<polygon fill=\"#008bfb\" stroke=\"#008bfb\" stroke-width=\"0.473429\" points=\"145.975,-20.8952 135.727,-23.5855 145.416,-27.8729 145.975,-20.8952\"/>\n",
       "<text text-anchor=\"middle\" x=\"512.575\" y=\"-57.8\" font-family=\"Times,serif\" font-size=\"14.00\" fill=\"#008bfb\">(&#45;0.02, &#45;0.01, &#45;0.01)</text>\n",
       "</g>\n",
       "<!-- Inflamation -->\n",
       "<g id=\"node8\" class=\"node\"><title>Inflamation</title>\n",
       "<ellipse fill=\"none\" stroke=\"black\" cx=\"298.575\" cy=\"-321\" rx=\"51.9908\" ry=\"18\"/>\n",
       "<text text-anchor=\"middle\" x=\"298.575\" y=\"-317.3\" font-family=\"Times,serif\" font-size=\"14.00\">Inflamation</text>\n",
       "</g>\n",
       "<!-- Inflamation&#45;&gt;White blood cells -->\n",
       "<g id=\"edge8\" class=\"edge\"><title>Inflamation&#45;&gt;White blood cells</title>\n",
       "<path fill=\"none\" stroke=\"#008bfb\" stroke-width=\"0.473429\" d=\"M296.833,-302.659C295.157,-275.6 296.296,-223.488 325.575,-195 356.688,-164.728 381.441,-193.544 421.575,-177 447.901,-166.147 448.856,-153.223 474.575,-141 491.943,-132.745 511.691,-125.947 529.952,-120.608\"/>\n",
       "<polygon fill=\"#008bfb\" stroke=\"#008bfb\" stroke-width=\"0.473429\" points=\"530.96,-123.96 539.631,-117.871 529.056,-117.224 530.96,-123.96\"/>\n",
       "<text text-anchor=\"middle\" x=\"380.575\" y=\"-209.3\" font-family=\"Times,serif\" font-size=\"14.00\" fill=\"#008bfb\">(&#45;0.02, &#45;0.01, &#45;0.01)</text>\n",
       "</g>\n",
       "<!-- Poverty index -->\n",
       "<g id=\"node9\" class=\"node\"><title>Poverty index</title>\n",
       "<ellipse fill=\"none\" stroke=\"black\" cx=\"409.575\" cy=\"-267\" rx=\"59.5901\" ry=\"18\"/>\n",
       "<text text-anchor=\"middle\" x=\"409.575\" y=\"-263.3\" font-family=\"Times,serif\" font-size=\"14.00\">Poverty index</text>\n",
       "</g>\n",
       "<!-- Poverty index&#45;&gt;predicted hazard -->\n",
       "<g id=\"edge9\" class=\"edge\"><title>Poverty index&#45;&gt;predicted hazard</title>\n",
       "<path fill=\"none\" stroke=\"#008bfb\" stroke-width=\"0.869057\" d=\"M422.942,-249.291C446.1,-221.645 496.604,-166.873 552.575,-141 601.927,-118.186 638.071,-164.176 673.575,-123 684.023,-110.882 682.988,-99.9384 673.575,-87 645.544,-48.4705 618.353,-63.0572 571.575,-54 424.534,-25.5298 249.309,-19.4948 149.587,-18.6143\"/>\n",
       "<polygon fill=\"#008bfb\" stroke=\"#008bfb\" stroke-width=\"0.869057\" points=\"149.313,-15.1123 139.288,-18.5394 149.262,-22.1121 149.313,-15.1123\"/>\n",
       "<text text-anchor=\"middle\" x=\"607.575\" y=\"-155.3\" font-family=\"Times,serif\" font-size=\"14.00\" fill=\"#008bfb\">(&#45;0.03, &#45;0.03, &#45;0.02)</text>\n",
       "</g>\n",
       "<!-- Serum Magnesium -->\n",
       "<g id=\"node10\" class=\"node\"><title>Serum Magnesium</title>\n",
       "<ellipse fill=\"none\" stroke=\"black\" cx=\"617.575\" cy=\"-213\" rx=\"79.0865\" ry=\"18\"/>\n",
       "<text text-anchor=\"middle\" x=\"617.575\" y=\"-209.3\" font-family=\"Times,serif\" font-size=\"14.00\">Serum Magnesium</text>\n",
       "</g>\n",
       "<!-- Serum Magnesium&#45;&gt;predicted hazard -->\n",
       "<g id=\"edge10\" class=\"edge\"><title>Serum Magnesium&#45;&gt;predicted hazard</title>\n",
       "<path fill=\"none\" stroke=\"#008bfb\" stroke-width=\"0.478729\" d=\"M642.57,-195.679C664.106,-179.982 693.697,-154.09 706.575,-123 719.24,-92.4238 708.196,-68.7607 678.575,-54 632.391,-30.9859 303.55,-22.7277 149.204,-20.0967\"/>\n",
       "<polygon fill=\"#008bfb\" stroke=\"#008bfb\" stroke-width=\"0.478729\" points=\"148.903,-16.5913 138.846,-19.9241 148.787,-23.5903 148.903,-16.5913\"/>\n",
       "<text text-anchor=\"middle\" x=\"767.575\" y=\"-101.3\" font-family=\"Times,serif\" font-size=\"14.00\" fill=\"#008bfb\">(&#45;0.02, &#45;0.01, &#45;0.01)</text>\n",
       "</g>\n",
       "<!-- Age -->\n",
       "<g id=\"node11\" class=\"node\"><title>Age</title>\n",
       "<ellipse fill=\"none\" stroke=\"black\" cx=\"834.575\" cy=\"-159\" rx=\"27\" ry=\"18\"/>\n",
       "<text text-anchor=\"middle\" x=\"834.575\" y=\"-155.3\" font-family=\"Times,serif\" font-size=\"14.00\">Age</text>\n",
       "</g>\n",
       "<!-- Age&#45;&gt;predicted hazard -->\n",
       "<g id=\"edge11\" class=\"edge\"><title>Age&#45;&gt;predicted hazard</title>\n",
       "<path fill=\"none\" stroke=\"#ff0051\" stroke-width=\"5\" d=\"M845.508,-142.335C854.855,-126.823 864.991,-103.119 852.575,-87 817.512,-41.4793 784.339,-62.9061 727.575,-54 618.203,-36.8401 298.08,-25.621 148.41,-21.1686\"/>\n",
       "<polygon fill=\"#ff0051\" stroke=\"#ff0051\" stroke-width=\"5\" points=\"148.492,-16.7942 138.367,-20.8724 148.234,-25.5404 148.492,-16.7942\"/>\n",
       "<text text-anchor=\"middle\" x=\"908.075\" y=\"-101.3\" font-family=\"Times,serif\" font-size=\"14.00\" fill=\"#ff0051\">(&#45;0.01, 0.15, 0.32)</text>\n",
       "</g>\n",
       "</g>\n",
       "</svg>\n"
      ],
      "text/plain": [
       "<graphviz.files.Source at 0x7f75d4f367d0>"
      ]
     },
     "metadata": {},
     "output_type": "display_data"
    }
   ],
   "source": [
    "sample_ind = 99\n",
    "cf_c.fold_noise = True # False\n",
    "cf_c.show_CI = True\n",
    "g = cf_c.draw(sample_ind, max_display=10, show_fg_val=False, edge_credit=edge_credits2edge_credit(causal_edge_credits, cf_c.graph))"
   ]
  },
  {
   "cell_type": "code",
   "execution_count": 86,
   "metadata": {},
   "outputs": [
    {
     "data": {
      "image/svg+xml": [
       "<?xml version=\"1.0\" encoding=\"UTF-8\" standalone=\"no\"?>\n",
       "<!DOCTYPE svg PUBLIC \"-//W3C//DTD SVG 1.1//EN\"\n",
       " \"http://www.w3.org/Graphics/SVG/1.1/DTD/svg11.dtd\">\n",
       "<!-- Generated by graphviz version 2.38.0 (20140413.2041)\n",
       " -->\n",
       "<!-- Title: %3 Pages: 1 -->\n",
       "<svg width=\"1348pt\" height=\"131pt\"\n",
       " viewBox=\"0.00 0.00 1348.34 131.00\" xmlns=\"http://www.w3.org/2000/svg\" xmlns:xlink=\"http://www.w3.org/1999/xlink\">\n",
       "<g id=\"graph0\" class=\"graph\" transform=\"scale(1 1) rotate(0) translate(4 127)\">\n",
       "<title>%3</title>\n",
       "<polygon fill=\"white\" stroke=\"none\" points=\"-4,4 -4,-127 1344.34,-127 1344.34,4 -4,4\"/>\n",
       "<!-- Serum Cholesterol -->\n",
       "<g id=\"node1\" class=\"node\"><title>Serum Cholesterol</title>\n",
       "<ellipse fill=\"none\" stroke=\"black\" cx=\"77.3431\" cy=\"-105\" rx=\"77.1866\" ry=\"18\"/>\n",
       "<text text-anchor=\"middle\" x=\"77.3431\" y=\"-101.3\" font-family=\"Times,serif\" font-size=\"14.00\">Serum Cholesterol</text>\n",
       "</g>\n",
       "<!-- predicted hazard -->\n",
       "<g id=\"node2\" class=\"node\"><title>predicted hazard</title>\n",
       "<ellipse fill=\"none\" stroke=\"black\" cx=\"163.343\" cy=\"-18\" rx=\"69.5877\" ry=\"18\"/>\n",
       "<text text-anchor=\"middle\" x=\"163.343\" y=\"-14.3\" font-family=\"Times,serif\" font-size=\"14.00\">predicted hazard</text>\n",
       "</g>\n",
       "<!-- Serum Cholesterol&#45;&gt;predicted hazard -->\n",
       "<g id=\"edge1\" class=\"edge\"><title>Serum Cholesterol&#45;&gt;predicted hazard</title>\n",
       "<path fill=\"none\" stroke=\"#008bfb\" stroke-width=\"0.461258\" d=\"M79.4587,-86.6019C81.5062,-76.1439 85.5155,-63.136 93.3431,-54 98.9347,-47.4739 106.036,-42.0361 113.56,-37.5471\"/>\n",
       "<polygon fill=\"#008bfb\" stroke=\"#008bfb\" stroke-width=\"0.461258\" points=\"115.388,-40.538 122.522,-32.7051 112.06,-34.3795 115.388,-40.538\"/>\n",
       "<text text-anchor=\"middle\" x=\"148.343\" y=\"-57.8\" font-family=\"Times,serif\" font-size=\"14.00\" fill=\"#008bfb\">(&#45;0.02, &#45;0.01, &#45;0.00)</text>\n",
       "</g>\n",
       "<!-- White blood cells -->\n",
       "<g id=\"node3\" class=\"node\"><title>White blood cells</title>\n",
       "<ellipse fill=\"none\" stroke=\"black\" cx=\"246.343\" cy=\"-105\" rx=\"73.387\" ry=\"18\"/>\n",
       "<text text-anchor=\"middle\" x=\"246.343\" y=\"-101.3\" font-family=\"Times,serif\" font-size=\"14.00\">White blood cells</text>\n",
       "</g>\n",
       "<!-- White blood cells&#45;&gt;predicted hazard -->\n",
       "<g id=\"edge2\" class=\"edge\"><title>White blood cells&#45;&gt;predicted hazard</title>\n",
       "<path fill=\"none\" stroke=\"#008bfb\" stroke-width=\"0.553692\" d=\"M234.62,-86.9754C227.314,-76.9028 217.415,-64.168 207.343,-54 203.119,-49.7351 198.385,-45.4994 193.63,-41.525\"/>\n",
       "<polygon fill=\"#008bfb\" stroke=\"#008bfb\" stroke-width=\"0.553692\" points=\"195.675,-38.6779 185.694,-35.1241 191.28,-44.1265 195.675,-38.6779\"/>\n",
       "<text text-anchor=\"middle\" x=\"275.343\" y=\"-57.8\" font-family=\"Times,serif\" font-size=\"14.00\" fill=\"#008bfb\">(&#45;0.02, &#45;0.02, &#45;0.01)</text>\n",
       "</g>\n",
       "<!-- Diastolic BP -->\n",
       "<g id=\"node4\" class=\"node\"><title>Diastolic BP</title>\n",
       "<ellipse fill=\"none\" stroke=\"black\" cx=\"393.343\" cy=\"-105\" rx=\"55.7903\" ry=\"18\"/>\n",
       "<text text-anchor=\"middle\" x=\"393.343\" y=\"-101.3\" font-family=\"Times,serif\" font-size=\"14.00\">Diastolic BP</text>\n",
       "</g>\n",
       "<!-- Diastolic BP&#45;&gt;predicted hazard -->\n",
       "<g id=\"edge3\" class=\"edge\"><title>Diastolic BP&#45;&gt;predicted hazard</title>\n",
       "<path fill=\"none\" stroke=\"#008bfb\" stroke-width=\"0.801717\" d=\"M378.393,-87.5671C367.309,-76.4008 351.249,-62.2176 334.343,-54 304.715,-39.5984 269.414,-31.1166 238.601,-26.1239\"/>\n",
       "<polygon fill=\"#008bfb\" stroke=\"#008bfb\" stroke-width=\"0.801717\" points=\"238.751,-22.6065 228.338,-24.561 237.697,-29.5267 238.751,-22.6065\"/>\n",
       "<text text-anchor=\"middle\" x=\"413.343\" y=\"-57.8\" font-family=\"Times,serif\" font-size=\"14.00\" fill=\"#008bfb\">(&#45;0.04, &#45;0.02, &#45;0.01)</text>\n",
       "</g>\n",
       "<!-- Pulse pressure -->\n",
       "<g id=\"node5\" class=\"node\"><title>Pulse pressure</title>\n",
       "<ellipse fill=\"none\" stroke=\"black\" cx=\"529.343\" cy=\"-105\" rx=\"61.99\" ry=\"18\"/>\n",
       "<text text-anchor=\"middle\" x=\"529.343\" y=\"-101.3\" font-family=\"Times,serif\" font-size=\"14.00\">Pulse pressure</text>\n",
       "</g>\n",
       "<!-- Pulse pressure&#45;&gt;predicted hazard -->\n",
       "<g id=\"edge4\" class=\"edge\"><title>Pulse pressure&#45;&gt;predicted hazard</title>\n",
       "<path fill=\"none\" stroke=\"#008bfb\" stroke-width=\"0.612599\" d=\"M515.221,-87.097C504.664,-75.7092 489.197,-61.4545 472.343,-54 432.355,-36.3134 319.265,-26.9964 241.588,-22.5383\"/>\n",
       "<polygon fill=\"#008bfb\" stroke=\"#008bfb\" stroke-width=\"0.612599\" points=\"241.529,-19.0297 231.349,-21.9669 241.139,-26.0188 241.529,-19.0297\"/>\n",
       "<text text-anchor=\"middle\" x=\"550.343\" y=\"-57.8\" font-family=\"Times,serif\" font-size=\"14.00\" fill=\"#008bfb\">(&#45;0.02, &#45;0.02, &#45;0.01)</text>\n",
       "</g>\n",
       "<!-- Poverty index -->\n",
       "<g id=\"node6\" class=\"node\"><title>Poverty index</title>\n",
       "<ellipse fill=\"none\" stroke=\"black\" cx=\"669.343\" cy=\"-105\" rx=\"59.5901\" ry=\"18\"/>\n",
       "<text text-anchor=\"middle\" x=\"669.343\" y=\"-101.3\" font-family=\"Times,serif\" font-size=\"14.00\">Poverty index</text>\n",
       "</g>\n",
       "<!-- Poverty index&#45;&gt;predicted hazard -->\n",
       "<g id=\"edge5\" class=\"edge\"><title>Poverty index&#45;&gt;predicted hazard</title>\n",
       "<path fill=\"none\" stroke=\"#008bfb\" stroke-width=\"0.882955\" d=\"M654.855,-87.4033C643.687,-75.8484 627.177,-61.2584 609.343,-54 544.989,-27.8078 352.743,-21.1309 242.801,-19.4847\"/>\n",
       "<polygon fill=\"#008bfb\" stroke=\"#008bfb\" stroke-width=\"0.882955\" points=\"242.8,-15.9844 232.752,-19.3448 242.702,-22.9837 242.8,-15.9844\"/>\n",
       "<text text-anchor=\"middle\" x=\"688.343\" y=\"-57.8\" font-family=\"Times,serif\" font-size=\"14.00\" fill=\"#008bfb\">(&#45;0.03, &#45;0.03, &#45;0.02)</text>\n",
       "</g>\n",
       "<!-- Sex -->\n",
       "<g id=\"node7\" class=\"node\"><title>Sex</title>\n",
       "<polygon fill=\"none\" stroke=\"black\" points=\"802.343,-123 748.343,-123 748.343,-87 802.343,-87 802.343,-123\"/>\n",
       "<text text-anchor=\"middle\" x=\"775.343\" y=\"-101.3\" font-family=\"Times,serif\" font-size=\"14.00\">Sex</text>\n",
       "</g>\n",
       "<!-- Sex&#45;&gt;predicted hazard -->\n",
       "<g id=\"edge6\" class=\"edge\"><title>Sex&#45;&gt;predicted hazard</title>\n",
       "<path fill=\"none\" stroke=\"#008bfb\" stroke-width=\"1.69236\" d=\"M770.394,-86.5728C766.203,-75.2535 758.975,-61.294 747.343,-54 705.678,-27.8731 392.799,-21.246 242.924,-19.5677\"/>\n",
       "<polygon fill=\"#008bfb\" stroke=\"#008bfb\" stroke-width=\"1.69236\" points=\"242.893,-16.0672 232.856,-19.4596 242.818,-23.0668 242.893,-16.0672\"/>\n",
       "<text text-anchor=\"middle\" x=\"816.343\" y=\"-57.8\" font-family=\"Times,serif\" font-size=\"14.00\" fill=\"#008bfb\">(&#45;0.07, &#45;0.05, &#45;0.03)</text>\n",
       "</g>\n",
       "<!-- Systolic BP -->\n",
       "<g id=\"node8\" class=\"node\"><title>Systolic BP</title>\n",
       "<ellipse fill=\"none\" stroke=\"black\" cx=\"873.343\" cy=\"-105\" rx=\"51.9908\" ry=\"18\"/>\n",
       "<text text-anchor=\"middle\" x=\"873.343\" y=\"-101.3\" font-family=\"Times,serif\" font-size=\"14.00\">Systolic BP</text>\n",
       "</g>\n",
       "<!-- Systolic BP&#45;&gt;predicted hazard -->\n",
       "<g id=\"edge7\" class=\"edge\"><title>Systolic BP&#45;&gt;predicted hazard</title>\n",
       "<path fill=\"none\" stroke=\"#008bfb\" stroke-width=\"2.50039\" d=\"M879.62,-86.9814C882.416,-76.1336 883.49,-62.5571 875.343,-54 853.816,-31.3886 423.759,-22.6766 242.654,-20.0014\"/>\n",
       "<polygon fill=\"#008bfb\" stroke=\"#008bfb\" stroke-width=\"2.50039\" points=\"242.704,-16.5018 232.654,-19.8561 242.602,-23.5011 242.704,-16.5018\"/>\n",
       "<text text-anchor=\"middle\" x=\"937.343\" y=\"-57.8\" font-family=\"Times,serif\" font-size=\"14.00\" fill=\"#008bfb\">(&#45;0.09, &#45;0.07, &#45;0.06)</text>\n",
       "</g>\n",
       "<!-- Age -->\n",
       "<g id=\"node9\" class=\"node\"><title>Age</title>\n",
       "<ellipse fill=\"none\" stroke=\"black\" cx=\"973.343\" cy=\"-105\" rx=\"27\" ry=\"18\"/>\n",
       "<text text-anchor=\"middle\" x=\"973.343\" y=\"-101.3\" font-family=\"Times,serif\" font-size=\"14.00\">Age</text>\n",
       "</g>\n",
       "<!-- Age&#45;&gt;predicted hazard -->\n",
       "<g id=\"edge8\" class=\"edge\"><title>Age&#45;&gt;predicted hazard</title>\n",
       "<path fill=\"none\" stroke=\"#ff0051\" stroke-width=\"5\" d=\"M988.166,-89.3658C997.398,-78.5102 1005.87,-63.9313 996.343,-54 970.529,-27.0783 446.144,-20.819 242.879,-19.4021\"/>\n",
       "<polygon fill=\"#ff0051\" stroke=\"#ff0051\" stroke-width=\"5\" points=\"242.892,-15.0272 232.863,-19.3344 242.833,-23.777 242.892,-15.0272\"/>\n",
       "<text text-anchor=\"middle\" x=\"1051.84\" y=\"-57.8\" font-family=\"Times,serif\" font-size=\"14.00\" fill=\"#ff0051\">(&#45;0.01, 0.15, 0.32)</text>\n",
       "</g>\n",
       "<!-- Serum Magnesium -->\n",
       "<g id=\"node10\" class=\"node\"><title>Serum Magnesium</title>\n",
       "<ellipse fill=\"none\" stroke=\"black\" cx=\"1103.34\" cy=\"-105\" rx=\"79.0865\" ry=\"18\"/>\n",
       "<text text-anchor=\"middle\" x=\"1103.34\" y=\"-101.3\" font-family=\"Times,serif\" font-size=\"14.00\">Serum Magnesium</text>\n",
       "</g>\n",
       "<!-- Serum Magnesium&#45;&gt;predicted hazard -->\n",
       "<g id=\"edge9\" class=\"edge\"><title>Serum Magnesium&#45;&gt;predicted hazard</title>\n",
       "<path fill=\"none\" stroke=\"#008bfb\" stroke-width=\"0.428118\" d=\"M1110.11,-86.9546C1113.19,-76.0955 1114.55,-62.5165 1106.34,-54 1076.62,-23.1531 465.862,-19.3484 243.451,-18.9885\"/>\n",
       "<polygon fill=\"#008bfb\" stroke=\"#008bfb\" stroke-width=\"0.428118\" points=\"243.162,-15.4882 233.157,-18.9739 243.152,-22.4882 243.162,-15.4882\"/>\n",
       "<text text-anchor=\"middle\" x=\"1167.34\" y=\"-57.8\" font-family=\"Times,serif\" font-size=\"14.00\" fill=\"#008bfb\">(&#45;0.02, &#45;0.01, &#45;0.01)</text>\n",
       "</g>\n",
       "<!-- Serum Iron -->\n",
       "<g id=\"node11\" class=\"node\"><title>Serum Iron</title>\n",
       "<ellipse fill=\"none\" stroke=\"black\" cx=\"1264.34\" cy=\"-105\" rx=\"51.1914\" ry=\"18\"/>\n",
       "<text text-anchor=\"middle\" x=\"1264.34\" y=\"-101.3\" font-family=\"Times,serif\" font-size=\"14.00\">Serum Iron</text>\n",
       "</g>\n",
       "<!-- Serum Iron&#45;&gt;predicted hazard -->\n",
       "<g id=\"edge10\" class=\"edge\"><title>Serum Iron&#45;&gt;predicted hazard</title>\n",
       "<path fill=\"none\" stroke=\"#ff0051\" stroke-width=\"0.452025\" d=\"M1256.36,-86.8214C1250,-75.3037 1239.9,-61.007 1226.34,-54 1182.86,-31.5297 481.883,-22.2691 242.636,-19.7529\"/>\n",
       "<polygon fill=\"#ff0051\" stroke=\"#ff0051\" stroke-width=\"0.452025\" points=\"242.651,-16.253 232.615,-19.6487 242.578,-23.2526 242.651,-16.253\"/>\n",
       "<text text-anchor=\"middle\" x=\"1291.84\" y=\"-57.8\" font-family=\"Times,serif\" font-size=\"14.00\" fill=\"#ff0051\">(0.01, 0.01, 0.02)</text>\n",
       "</g>\n",
       "</g>\n",
       "</svg>\n"
      ],
      "text/plain": [
       "<graphviz.files.Source at 0x7f7533776f90>"
      ]
     },
     "metadata": {},
     "output_type": "display_data"
    },
    {
     "data": {
      "text/plain": [
       "<AGraph <Swig Object of type 'Agraph_t *' at 0x7f75d4e539f0>>"
      ]
     },
     "execution_count": 86,
     "metadata": {},
     "output_type": "execute_result"
    }
   ],
   "source": [
    "cf.show_CI = True\n",
    "cf.draw(sample_ind, max_display=10, show_fg_val=False, edge_credit=edge_credits2edge_credit(edge_credits, cf.graph))"
   ]
  },
  {
   "cell_type": "code",
   "execution_count": 95,
   "metadata": {},
   "outputs": [
    {
     "data": {
      "image/png": "[encoded data removed]",
      "text/plain": [
       "<Figure size 432x288 with 1 Axes>"
      ]
     },
     "metadata": {
      "needs_background": "light"
     },
     "output_type": "display_data"
    }
   ],
   "source": [
    "cf_on_manifold.draw(sample_ind, max_display=10)"
   ]
  },
  {
   "cell_type": "code",
   "execution_count": 88,
   "metadata": {},
   "outputs": [
    {
     "data": {
      "image/svg+xml": [
       "<?xml version=\"1.0\" encoding=\"UTF-8\" standalone=\"no\"?>\n",
       "<!DOCTYPE svg PUBLIC \"-//W3C//DTD SVG 1.1//EN\"\n",
       " \"http://www.w3.org/Graphics/SVG/1.1/DTD/svg11.dtd\">\n",
       "<!-- Generated by graphviz version 2.38.0 (20140413.2041)\n",
       " -->\n",
       "<!-- Title: %3 Pages: 1 -->\n",
       "<svg width=\"1509pt\" height=\"131pt\"\n",
       " viewBox=\"0.00 0.00 1509.09 131.00\" xmlns=\"http://www.w3.org/2000/svg\" xmlns:xlink=\"http://www.w3.org/1999/xlink\">\n",
       "<g id=\"graph0\" class=\"graph\" transform=\"scale(1 1) rotate(0) translate(4 127)\">\n",
       "<title>%3</title>\n",
       "<polygon fill=\"white\" stroke=\"none\" points=\"-4,4 -4,-127 1505.09,-127 1505.09,4 -4,4\"/>\n",
       "<!-- Sex -->\n",
       "<g id=\"node1\" class=\"node\"><title>Sex</title>\n",
       "<polygon fill=\"none\" stroke=\"black\" points=\"54,-123 0,-123 0,-87 54,-87 54,-123\"/>\n",
       "<text text-anchor=\"middle\" x=\"27\" y=\"-101.3\" font-family=\"Times,serif\" font-size=\"14.00\">Sex</text>\n",
       "</g>\n",
       "<!-- predicted hazard -->\n",
       "<g id=\"node2\" class=\"node\"><title>predicted hazard</title>\n",
       "<ellipse fill=\"none\" stroke=\"black\" cx=\"86\" cy=\"-18\" rx=\"69.5877\" ry=\"18\"/>\n",
       "<text text-anchor=\"middle\" x=\"86\" y=\"-14.3\" font-family=\"Times,serif\" font-size=\"14.00\">predicted hazard</text>\n",
       "</g>\n",
       "<!-- Sex&#45;&gt;predicted hazard -->\n",
       "<g id=\"edge1\" class=\"edge\"><title>Sex&#45;&gt;predicted hazard</title>\n",
       "<path fill=\"none\" stroke=\"#008bfb\" stroke-width=\"1.58306\" d=\"M19.8347,-86.6772C16.8101,-76.4988 15.1718,-63.7576 21,-54 24.7955,-47.6456 30.1863,-42.377 36.2596,-38.0277\"/>\n",
       "<polygon fill=\"#008bfb\" stroke=\"#008bfb\" stroke-width=\"1.58306\" points=\"38.2466,-40.9134 44.8786,-32.651 34.5416,-34.9742 38.2466,-40.9134\"/>\n",
       "<text text-anchor=\"middle\" x=\"76\" y=\"-57.8\" font-family=\"Times,serif\" font-size=\"14.00\" fill=\"#008bfb\">(&#45;0.07, &#45;0.05, &#45;0.03)</text>\n",
       "</g>\n",
       "<!-- Inflamation noise -->\n",
       "<g id=\"node3\" class=\"node\"><title>Inflamation noise</title>\n",
       "<ellipse fill=\"none\" stroke=\"black\" cx=\"149\" cy=\"-105\" rx=\"73.387\" ry=\"18\"/>\n",
       "<text text-anchor=\"middle\" x=\"149\" y=\"-101.3\" font-family=\"Times,serif\" font-size=\"14.00\">Inflamation noise</text>\n",
       "</g>\n",
       "<!-- Inflamation noise&#45;&gt;predicted hazard -->\n",
       "<g id=\"edge2\" class=\"edge\"><title>Inflamation noise&#45;&gt;predicted hazard</title>\n",
       "<path fill=\"none\" stroke=\"#008bfb\" stroke-width=\"0.677365\" d=\"M145.33,-86.641C142.575,-76.4498 138.043,-63.7078 131,-54 127.731,-49.4938 123.725,-45.2781 119.466,-41.4428\"/>\n",
       "<polygon fill=\"#008bfb\" stroke=\"#008bfb\" stroke-width=\"0.677365\" points=\"121.566,-38.6382 111.627,-34.9694 117.109,-44.0357 121.566,-38.6382\"/>\n",
       "<text text-anchor=\"middle\" x=\"194\" y=\"-57.8\" font-family=\"Times,serif\" font-size=\"14.00\" fill=\"#008bfb\">(&#45;0.03, &#45;0.02, &#45;0.02)</text>\n",
       "</g>\n",
       "<!-- Serum Cholesterol noise -->\n",
       "<g id=\"node4\" class=\"node\"><title>Serum Cholesterol noise</title>\n",
       "<ellipse fill=\"none\" stroke=\"black\" cx=\"339\" cy=\"-105\" rx=\"98.2828\" ry=\"18\"/>\n",
       "<text text-anchor=\"middle\" x=\"339\" y=\"-101.3\" font-family=\"Times,serif\" font-size=\"14.00\">Serum Cholesterol noise</text>\n",
       "</g>\n",
       "<!-- Serum Cholesterol noise&#45;&gt;predicted hazard -->\n",
       "<g id=\"edge3\" class=\"edge\"><title>Serum Cholesterol noise&#45;&gt;predicted hazard</title>\n",
       "<path fill=\"none\" stroke=\"#008bfb\" stroke-width=\"0.483326\" d=\"M315.211,-87.369C298.502,-76.4051 275.25,-62.5431 253,-54 222.44,-42.2658 187.145,-34.1404 156.897,-28.6946\"/>\n",
       "<polygon fill=\"#008bfb\" stroke=\"#008bfb\" stroke-width=\"0.483326\" points=\"157.298,-25.212 146.847,-26.9492 156.1,-32.1087 157.298,-25.212\"/>\n",
       "<text text-anchor=\"middle\" x=\"338\" y=\"-57.8\" font-family=\"Times,serif\" font-size=\"14.00\" fill=\"#008bfb\">(&#45;0.02, &#45;0.01, &#45;0.01)</text>\n",
       "</g>\n",
       "<!-- BMI noise -->\n",
       "<g id=\"node5\" class=\"node\"><title>BMI noise</title>\n",
       "<ellipse fill=\"none\" stroke=\"black\" cx=\"504\" cy=\"-105\" rx=\"48.9926\" ry=\"18\"/>\n",
       "<text text-anchor=\"middle\" x=\"504\" y=\"-101.3\" font-family=\"Times,serif\" font-size=\"14.00\">BMI noise</text>\n",
       "</g>\n",
       "<!-- BMI noise&#45;&gt;predicted hazard -->\n",
       "<g id=\"edge4\" class=\"edge\"><title>BMI noise&#45;&gt;predicted hazard</title>\n",
       "<path fill=\"none\" stroke=\"#008bfb\" stroke-width=\"0.0820868\" d=\"M473.444,-90.7594C458.975,-84.3699 441.506,-76.4822 426,-69 412.931,-62.6939 410.885,-58.2148 397,-54 320.506,-30.7804 229.212,-22.6898 165.397,-20.0077\"/>\n",
       "<polygon fill=\"#008bfb\" stroke=\"#008bfb\" stroke-width=\"0.0820868\" points=\"165.525,-16.5101 155.397,-19.6222 165.255,-23.505 165.525,-16.5101\"/>\n",
       "<text text-anchor=\"middle\" x=\"481\" y=\"-57.8\" font-family=\"Times,serif\" font-size=\"14.00\" fill=\"#008bfb\">(&#45;0.00, &#45;0.00, &#45;0.00)</text>\n",
       "</g>\n",
       "<!-- Blood pressure noise -->\n",
       "<g id=\"node6\" class=\"node\"><title>Blood pressure noise</title>\n",
       "<ellipse fill=\"none\" stroke=\"black\" cx=\"656\" cy=\"-105\" rx=\"85.2851\" ry=\"18\"/>\n",
       "<text text-anchor=\"middle\" x=\"656\" y=\"-101.3\" font-family=\"Times,serif\" font-size=\"14.00\">Blood pressure noise</text>\n",
       "</g>\n",
       "<!-- Blood pressure noise&#45;&gt;predicted hazard -->\n",
       "<g id=\"edge5\" class=\"edge\"><title>Blood pressure noise&#45;&gt;predicted hazard</title>\n",
       "<path fill=\"none\" stroke=\"#008bfb\" stroke-width=\"3.75837\" d=\"M614.381,-89.0948C598.741,-83.2065 580.903,-76.1451 565,-69 551.764,-63.0531 549.956,-57.9751 536,-54 468.491,-34.7712 275.077,-25.3145 165.047,-21.3698\"/>\n",
       "<polygon fill=\"#008bfb\" stroke=\"#008bfb\" stroke-width=\"3.75837\" points=\"165.109,-17.8699 154.993,-21.0164 164.863,-24.8656 165.109,-17.8699\"/>\n",
       "<text text-anchor=\"middle\" x=\"620\" y=\"-57.8\" font-family=\"Times,serif\" font-size=\"14.00\" fill=\"#008bfb\">(&#45;0.15, &#45;0.12, &#45;0.09)</text>\n",
       "</g>\n",
       "<!-- Age -->\n",
       "<g id=\"node7\" class=\"node\"><title>Age</title>\n",
       "<ellipse fill=\"none\" stroke=\"black\" cx=\"786\" cy=\"-105\" rx=\"27\" ry=\"18\"/>\n",
       "<text text-anchor=\"middle\" x=\"786\" y=\"-101.3\" font-family=\"Times,serif\" font-size=\"14.00\">Age</text>\n",
       "</g>\n",
       "<!-- Age&#45;&gt;predicted hazard -->\n",
       "<g id=\"edge6\" class=\"edge\"><title>Age&#45;&gt;predicted hazard</title>\n",
       "<path fill=\"none\" stroke=\"#ff0051\" stroke-width=\"5\" d=\"M764.723,-93.8378C759.894,-91.5632 754.779,-89.1795 750,-87 745.858,-85.1113 679.425,-55.0685 675,-54 580.588,-31.2027 302.863,-22.9748 165.204,-20.2408\"/>\n",
       "<polygon fill=\"#ff0051\" stroke=\"#ff0051\" stroke-width=\"5\" points=\"165.22,-15.8654 155.137,-20.0457 165.051,-24.6137 165.22,-15.8654\"/>\n",
       "<text text-anchor=\"middle\" x=\"759.5\" y=\"-57.8\" font-family=\"Times,serif\" font-size=\"14.00\" fill=\"#ff0051\">(&#45;0.01, 0.16, 0.33)</text>\n",
       "</g>\n",
       "<!-- Iron noise -->\n",
       "<g id=\"node8\" class=\"node\"><title>Iron noise</title>\n",
       "<ellipse fill=\"none\" stroke=\"black\" cx=\"877\" cy=\"-105\" rx=\"46.2923\" ry=\"18\"/>\n",
       "<text text-anchor=\"middle\" x=\"877\" y=\"-101.3\" font-family=\"Times,serif\" font-size=\"14.00\">Iron noise</text>\n",
       "</g>\n",
       "<!-- Iron noise&#45;&gt;predicted hazard -->\n",
       "<g id=\"edge7\" class=\"edge\"><title>Iron noise&#45;&gt;predicted hazard</title>\n",
       "<path fill=\"none\" stroke=\"#ff0051\" stroke-width=\"0.445404\" d=\"M861.586,-87.9634C849.164,-76.2098 830.593,-61.1138 811,-54 751.662,-32.4552 341.015,-23.1944 165.387,-20.1874\"/>\n",
       "<polygon fill=\"#ff0051\" stroke=\"#ff0051\" stroke-width=\"0.445404\" points=\"165.233,-16.6844 155.176,-20.0151 165.115,-23.6834 165.233,-16.6844\"/>\n",
       "<text text-anchor=\"middle\" x=\"885.5\" y=\"-57.8\" font-family=\"Times,serif\" font-size=\"14.00\" fill=\"#ff0051\">(0.01, 0.01, 0.02)</text>\n",
       "</g>\n",
       "<!-- Blood protein noise -->\n",
       "<g id=\"node9\" class=\"node\"><title>Blood protein noise</title>\n",
       "<ellipse fill=\"none\" stroke=\"black\" cx=\"1022\" cy=\"-105\" rx=\"80.6858\" ry=\"18\"/>\n",
       "<text text-anchor=\"middle\" x=\"1022\" y=\"-101.3\" font-family=\"Times,serif\" font-size=\"14.00\">Blood protein noise</text>\n",
       "</g>\n",
       "<!-- Blood protein noise&#45;&gt;predicted hazard -->\n",
       "<g id=\"edge8\" class=\"edge\"><title>Blood protein noise&#45;&gt;predicted hazard</title>\n",
       "<path fill=\"none\" stroke=\"#008bfb\" stroke-width=\"0.351263\" d=\"M1000.95,-87.417C984.747,-75.707 961.263,-60.9161 938,-54 865.297,-32.385 362.988,-22.9472 165.494,-20.0421\"/>\n",
       "<polygon fill=\"#008bfb\" stroke=\"#008bfb\" stroke-width=\"0.351263\" points=\"165.522,-16.5423 155.472,-19.8965 165.421,-23.5415 165.522,-16.5423\"/>\n",
       "<text text-anchor=\"middle\" x=\"1028\" y=\"-57.8\" font-family=\"Times,serif\" font-size=\"14.00\" fill=\"#008bfb\">(&#45;0.01, &#45;0.01, &#45;0.01)</text>\n",
       "</g>\n",
       "<!-- Poverty index noise -->\n",
       "<g id=\"node10\" class=\"node\"><title>Poverty index noise</title>\n",
       "<ellipse fill=\"none\" stroke=\"black\" cx=\"1202\" cy=\"-105\" rx=\"81.4863\" ry=\"18\"/>\n",
       "<text text-anchor=\"middle\" x=\"1202\" y=\"-101.3\" font-family=\"Times,serif\" font-size=\"14.00\">Poverty index noise</text>\n",
       "</g>\n",
       "<!-- Poverty index noise&#45;&gt;predicted hazard -->\n",
       "<g id=\"edge9\" class=\"edge\"><title>Poverty index noise&#45;&gt;predicted hazard</title>\n",
       "<path fill=\"none\" stroke=\"#008bfb\" stroke-width=\"0.773824\" d=\"M1173.72,-88.1244C1151.05,-76.2915 1118,-61.0152 1087,-54 998.359,-33.9416 386.944,-23.3029 165.691,-20.0756\"/>\n",
       "<polygon fill=\"#008bfb\" stroke=\"#008bfb\" stroke-width=\"0.773824\" points=\"165.503,-16.5726 155.454,-19.9276 165.402,-23.5719 165.503,-16.5726\"/>\n",
       "<text text-anchor=\"middle\" x=\"1188\" y=\"-57.8\" font-family=\"Times,serif\" font-size=\"14.00\" fill=\"#008bfb\">(&#45;0.03, &#45;0.02, &#45;0.02)</text>\n",
       "</g>\n",
       "<!-- Serum Magnesium noise -->\n",
       "<g id=\"node11\" class=\"node\"><title>Serum Magnesium noise</title>\n",
       "<ellipse fill=\"none\" stroke=\"black\" cx=\"1401\" cy=\"-105\" rx=\"100.182\" ry=\"18\"/>\n",
       "<text text-anchor=\"middle\" x=\"1401\" y=\"-101.3\" font-family=\"Times,serif\" font-size=\"14.00\">Serum Magnesium noise</text>\n",
       "</g>\n",
       "<!-- Serum Magnesium noise&#45;&gt;predicted hazard -->\n",
       "<g id=\"edge10\" class=\"edge\"><title>Serum Magnesium noise&#45;&gt;predicted hazard</title>\n",
       "<path fill=\"none\" stroke=\"#008bfb\" stroke-width=\"0.473416\" d=\"M1362.85,-88.2516C1332.14,-76.4053 1287.57,-61.0498 1247,-54 1038.73,-17.8126 392.919,-17.4229 165.904,-18.4679\"/>\n",
       "<polygon fill=\"#008bfb\" stroke=\"#008bfb\" stroke-width=\"0.473416\" points=\"165.72,-14.9686 155.737,-18.5169 165.754,-21.9685 165.72,-14.9686\"/>\n",
       "<text text-anchor=\"middle\" x=\"1363\" y=\"-57.8\" font-family=\"Times,serif\" font-size=\"14.00\" fill=\"#008bfb\">(&#45;0.02, &#45;0.01, &#45;0.01)</text>\n",
       "</g>\n",
       "</g>\n",
       "</svg>\n"
      ],
      "text/plain": [
       "<graphviz.files.Source at 0x7f75d54fe310>"
      ]
     },
     "metadata": {},
     "output_type": "display_data"
    }
   ],
   "source": [
    "cf_c.fold_noise = False\n",
    "cf_c.show_CI = True\n",
    "g = cf_c.draw_asv(sample_ind, max_display=10, show_fg_val=False, flow_credit=edge_credits2edge_credit(causal_edge_credits, cf_c.graph))"
   ]
  },
  {
   "cell_type": "markdown",
   "metadata": {},
   "source": [
    "# investigate the background and foreground samples"
   ]
  },
  {
   "cell_type": "code",
   "execution_count": 93,
   "metadata": {},
   "outputs": [
    {
     "data": {
      "text/html": [
       "<div>\n",
       "<style scoped>\n",
       "    .dataframe tbody tr th:only-of-type {\n",
       "        vertical-align: middle;\n",
       "    }\n",
       "\n",
       "    .dataframe tbody tr th {\n",
       "        vertical-align: top;\n",
       "    }\n",
       "\n",
       "    .dataframe thead th {\n",
       "        text-align: right;\n",
       "    }\n",
       "</style>\n",
       "<table border=\"1\" class=\"dataframe\">\n",
       "  <thead>\n",
       "    <tr style=\"text-align: right;\">\n",
       "      <th></th>\n",
       "      <th>Age</th>\n",
       "      <th>Diastolic BP</th>\n",
       "      <th>Poverty index</th>\n",
       "      <th>Race</th>\n",
       "      <th>Red blood cells</th>\n",
       "      <th>Sedimentation rate</th>\n",
       "      <th>Serum Albumin</th>\n",
       "      <th>Serum Cholesterol</th>\n",
       "      <th>Serum Iron</th>\n",
       "      <th>Serum Magnesium</th>\n",
       "      <th>Serum Protein</th>\n",
       "      <th>Sex</th>\n",
       "      <th>Systolic BP</th>\n",
       "      <th>TIBC</th>\n",
       "      <th>TS</th>\n",
       "      <th>White blood cells</th>\n",
       "      <th>BMI</th>\n",
       "      <th>Pulse pressure</th>\n",
       "    </tr>\n",
       "  </thead>\n",
       "  <tbody>\n",
       "    <tr>\n",
       "      <th>mean</th>\n",
       "      <td>49.4491</td>\n",
       "      <td>83.282</td>\n",
       "      <td>287.213</td>\n",
       "      <td>1.19603</td>\n",
       "      <td>54.8805</td>\n",
       "      <td>16.2683</td>\n",
       "      <td>4.3651</td>\n",
       "      <td>221.235</td>\n",
       "      <td>101.117</td>\n",
       "      <td>1.68131</td>\n",
       "      <td>7.10407</td>\n",
       "      <td>1.60723</td>\n",
       "      <td>134.854</td>\n",
       "      <td>362.605</td>\n",
       "      <td>28.5559</td>\n",
       "      <td>7.45176</td>\n",
       "      <td>25.6898</td>\n",
       "      <td>51.5755</td>\n",
       "    </tr>\n",
       "    <tr>\n",
       "      <th>sample_ind</th>\n",
       "      <td>51</td>\n",
       "      <td>74</td>\n",
       "      <td>824</td>\n",
       "      <td>1</td>\n",
       "      <td>77.7</td>\n",
       "      <td>9</td>\n",
       "      <td>4.3</td>\n",
       "      <td>267</td>\n",
       "      <td>63</td>\n",
       "      <td>1.61</td>\n",
       "      <td>6.8</td>\n",
       "      <td>Female</td>\n",
       "      <td>118</td>\n",
       "      <td>503</td>\n",
       "      <td>12.5</td>\n",
       "      <td>4.4</td>\n",
       "      <td>23.589</td>\n",
       "      <td>44</td>\n",
       "    </tr>\n",
       "  </tbody>\n",
       "</table>\n",
       "</div>"
      ],
      "text/plain": [
       "                Age Diastolic BP Poverty index     Race Red blood cells  \\\n",
       "mean        49.4491       83.282       287.213  1.19603         54.8805   \n",
       "sample_ind       51           74           824        1            77.7   \n",
       "\n",
       "           Sedimentation rate Serum Albumin Serum Cholesterol Serum Iron  \\\n",
       "mean                  16.2683        4.3651           221.235    101.117   \n",
       "sample_ind                  9           4.3               267         63   \n",
       "\n",
       "           Serum Magnesium Serum Protein      Sex Systolic BP     TIBC  \\\n",
       "mean               1.68131       7.10407  1.60723     134.854  362.605   \n",
       "sample_ind            1.61           6.8   Female         118      503   \n",
       "\n",
       "                 TS White blood cells      BMI Pulse pressure  \n",
       "mean        28.5559           7.45176  25.6898        51.5755  \n",
       "sample_ind     12.5               4.4   23.589             44  "
      ]
     },
     "execution_count": 93,
     "metadata": {},
     "output_type": "execute_result"
    }
   ],
   "source": [
    "pd.concat([X.mean(0), X_display.iloc[sample_ind]], 1).rename(columns={0: \"mean\", sample_ind: 'sample_ind'}).T"
   ]
  },
  {
   "cell_type": "code",
   "execution_count": 74,
   "metadata": {},
   "outputs": [
    {
     "data": {
      "image/png": "[encoded data removed]",
      "text/plain": [
       "<Figure size 432x288 with 1 Axes>"
      ]
     },
     "metadata": {
      "needs_background": "light"
     },
     "output_type": "display_data"
    }
   ],
   "source": [
    "o = f(np.array(X)[:nsamples])\n",
    "\n",
    "xlabel = 'Age'\n",
    "ylabel = 'Output'\n",
    "\n",
    "sns.regplot(X[xlabel][:nsamples], o, x_bins=1, order=1, ci=None, label='regression line', color='y')\n",
    "plt.scatter(X[xlabel][:nsamples], o, alpha=0.3, label='samples')\n",
    "plt.xlabel(xlabel, fontsize=15)\n",
    "plt.ylabel(ylabel, fontsize=15)\n",
    "# plt.scatter(X[xlabel][[0]], o[[0]], c=['red'], s=100, marker='s', label='background')\n",
    "plt.scatter(X[xlabel][:100].mean(), o.mean(), c=['red'], s=100, marker='s', label='background (mean)')\n",
    "plt.scatter(X[xlabel][[sample_ind]], o[[sample_ind]], c=['black'], s=100, marker='s', label='foreground')\n",
    "plt.legend(fontsize=15)\n",
    "plt.tight_layout()\n",
    "plt.show()"
   ]
  },
  {
   "cell_type": "markdown",
   "metadata": {},
   "source": [
    "Increasing the age, increases log hazard."
   ]
  },
  {
   "cell_type": "code",
   "execution_count": 94,
   "metadata": {},
   "outputs": [
    {
     "data": {
      "image/png": "[encoded data removed]",
      "text/plain": [
       "<Figure size 432x288 with 1 Axes>"
      ]
     },
     "metadata": {
      "needs_background": "light"
     },
     "output_type": "display_data"
    }
   ],
   "source": [
    "o = f(np.array(X)[:nsamples])\n",
    "\n",
    "def normalize(o): # normalize to 0-1\n",
    "    return (o - o.min()) / (o.max() - o.min())\n",
    "\n",
    "ylabel = 'Age'\n",
    "xlabel = 'Systolic BP' #'Serum Magnesium'\n",
    "\n",
    "plt.scatter(X[xlabel][:nsamples], X[ylabel][:nsamples],\n",
    "            alpha=0.3, label='samples')\n",
    "sns.regplot(X[xlabel][:nsamples], X[ylabel][:nsamples], x_bins=1, order=1, ci=None, label='regression line', color='y')\n",
    "plt.xlabel(xlabel, fontsize=15)\n",
    "plt.ylabel(ylabel, fontsize=15)\n",
    "\n",
    "plt.scatter(X[xlabel].mean(), X[ylabel].mean(), c=['red'], s=100, marker='s', label='background (mean)')\n",
    "plt.scatter(X[xlabel][[sample_ind]], X[ylabel][[sample_ind]], c=['black'], s=100, marker='s', label='foreground')\n",
    "plt.legend(fontsize=15, loc=\"upper left\")\n",
    "\n",
    "plt.tight_layout()\n",
    "# plt.savefig(f'figures/manifold_multiple_explain_age_{xlabel}_{sample_ind}.png')\n",
    "plt.show()"
   ]
  },
  {
   "cell_type": "markdown",
   "metadata": {},
   "source": [
    "Updating Systolic BP before Age would cause the expeted age to decrease, thus greating inflating the risk of Age for this sample"
   ]
  }
 ],
 "metadata": {
  "kernelspec": {
   "display_name": "Python 3",
   "language": "python",
   "name": "python3"
  },
  "language_info": {
   "codemirror_mode": {
    "name": "ipython",
    "version": 3
   },
   "file_extension": ".py",
   "mimetype": "text/x-python",
   "name": "python",
   "nbconvert_exporter": "python",
   "pygments_lexer": "ipython3",
   "version": "3.7.7"
  }
 },
 "nbformat": 4,
 "nbformat_minor": 4
}
