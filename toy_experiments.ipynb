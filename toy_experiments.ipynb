{
 "cells": [
  {
   "cell_type": "markdown",
   "metadata": {},
   "source": [
    "# Thought experiments with SHAP\n",
    "\n",
    "## Shapley value defintion\n",
    "Given a set of n elements, $U := \\{1, \\cdots, n\\}$ and a function\n",
    "\n",
    "$g: 2^U \\rightarrow \\mathbb{R}$ with $g(U) \\neq 0$, $g(\\varnothing)=0$\n",
    "\n",
    "define $C(j|T) := g(T \\cup \\{j\\}) - g(T)$ with $T \\subseteq U$.\n",
    "\n",
    "Feture i's contribution:\n",
    "\n",
    "$\\phi_i := \\sum_{T \\subseteq U} \\frac{|T|! (n-1-|T|)!}{n!} C(i|T)$\n",
    "\n",
    "where\n",
    "$g(T) := f_T(x_T) - f(x')$ with $f_\\varnothing(x_\\varnothing) = f(x')$ for some baseline $x'$. \n",
    "\n",
    "$f_T(x_T) := \\mathbb{E}[ f(x_T, X_{\\bar{T}}) | z]$  where $z$ is a hyperparameter\n",
    "\n",
    "previous approaches considers\n",
    "- unconditional: $z := \\varnothing$\n",
    "- conditional: $z := \\{X_T = x_T \\}$\n",
    "\n",
    "we in addition consider\n",
    "- do: $z := \\{do(X_T = x_T)\\}\n",
    "\n",
    "## Assumptions\n",
    "- no unobserved confounders\n",
    "\n",
    "## Hyper parameters\n",
    "- dropped_feature_imputation: unconditional, conditional, do \n",
    "- timelines: all, last, valid\n",
    "\n",
    "## central questions\n",
    "\n",
    "1. Does timeline matter"
   ]
  },
  {
   "cell_type": "code",
   "execution_count": null,
   "metadata": {},
   "outputs": [],
   "source": [
    "class Node:\n",
    "    def __init__(self, )\n",
    "    \n",
    "def dfs(node):\n",
    "    if node.name == 'target':\n",
    "        credit(node, node.val - node.last_val)\n",
    "        return \n",
    "    \n",
    "    for c in node.children:\n",
    "        c.from = node\n",
    "        \n",
    "        dfs(c)"
   ]
  }
 ],
 "metadata": {
  "kernelspec": {
   "display_name": "Python 3",
   "language": "python",
   "name": "python3"
  },
  "language_info": {
   "codemirror_mode": {
    "name": "ipython",
    "version": 3
   },
   "file_extension": ".py",
   "mimetype": "text/x-python",
   "name": "python",
   "nbconvert_exporter": "python",
   "pygments_lexer": "ipython3",
   "version": "3.8.2"
  }
 },
 "nbformat": 4,
 "nbformat_minor": 4
}
