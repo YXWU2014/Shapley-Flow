{
 "cells": [
  {
   "cell_type": "markdown",
   "metadata": {},
   "source": [
    "# Income dataset case study"
   ]
  },
  {
   "cell_type": "code",
   "execution_count": 1,
   "metadata": {},
   "outputs": [],
   "source": [
    "# limit the number of threads used by xgboost models\n",
    "import os\n",
    "os.environ[\"OMP_NUM_THREADS\"] = \"8\"\n",
    "os.environ[\"OPENBLAS_NUM_THREADS\"] = \"8\"\n",
    "os.environ[\"MKL_NUM_THREADS\"] = \"8\"\n",
    "os.environ[\"VECLIB_MAXIMUM_THREADS\"] = \"8\"\n",
    "os.environ[\"NUMEXPR_NUM_THREADS\"] = \"8\"\n",
    "\n",
    "# standard libaries\n",
    "import sys\n",
    "import copy\n",
    "import dill\n",
    "from collections import defaultdict\n",
    "import numpy as np\n",
    "import pandas as pd\n",
    "import xgboost\n",
    "from sklearn.model_selection import train_test_split\n",
    "import matplotlib.pyplot as plt\n",
    "import seaborn as sns\n",
    "import shap\n",
    "\n",
    "# flow specific packages\n",
    "if '../' not in sys.path:\n",
    "    sys.path = ['../'] + sys.path\n",
    "from flow import Node, CreditFlow, Graph, get_source_nodes, topo_sort, flatten_graph, eval_graph, boundary_graph, single_source_graph, viz_graph, save_graph, hcluster_graph\n",
    "from flow import ParallelCreditFlow, GraphExplainer, translator\n",
    "from flow import group_nodes, build_feature_graph\n",
    "from flow import CausalLinks, create_xgboost_f\n",
    "from flow import edge_credits2edge_credit, node_dict2str_dict\n",
    "from on_manifold import OnManifoldExplainer, IndExplainer\n",
    "\n",
    "np.random.seed(42) # fix for reproducibility"
   ]
  },
  {
   "cell_type": "markdown",
   "metadata": {},
   "source": [
    "# Dataset"
   ]
  },
  {
   "cell_type": "code",
   "execution_count": 2,
   "metadata": {},
   "outputs": [
    {
     "name": "stdout",
     "output_type": "stream",
     "text": [
      "(32561, 12)\n"
     ]
    },
    {
     "data": {
      "text/html": [
       "<div>\n",
       "<style scoped>\n",
       "    .dataframe tbody tr th:only-of-type {\n",
       "        vertical-align: middle;\n",
       "    }\n",
       "\n",
       "    .dataframe tbody tr th {\n",
       "        vertical-align: top;\n",
       "    }\n",
       "\n",
       "    .dataframe thead th {\n",
       "        text-align: right;\n",
       "    }\n",
       "</style>\n",
       "<table border=\"1\" class=\"dataframe\">\n",
       "  <thead>\n",
       "    <tr style=\"text-align: right;\">\n",
       "      <th></th>\n",
       "      <th>Age</th>\n",
       "      <th>Workclass</th>\n",
       "      <th>Education-Num</th>\n",
       "      <th>Marital Status</th>\n",
       "      <th>Occupation</th>\n",
       "      <th>Relationship</th>\n",
       "      <th>Race</th>\n",
       "      <th>Sex</th>\n",
       "      <th>Capital Gain</th>\n",
       "      <th>Capital Loss</th>\n",
       "      <th>Hours per week</th>\n",
       "      <th>Country</th>\n",
       "    </tr>\n",
       "  </thead>\n",
       "  <tbody>\n",
       "    <tr>\n",
       "      <th>0</th>\n",
       "      <td>39.0</td>\n",
       "      <td>State-gov</td>\n",
       "      <td>13.0</td>\n",
       "      <td>Never-married</td>\n",
       "      <td>Adm-clerical</td>\n",
       "      <td>Not-in-family</td>\n",
       "      <td>White</td>\n",
       "      <td>Male</td>\n",
       "      <td>2174.0</td>\n",
       "      <td>0.0</td>\n",
       "      <td>40.0</td>\n",
       "      <td>United-States</td>\n",
       "    </tr>\n",
       "    <tr>\n",
       "      <th>1</th>\n",
       "      <td>50.0</td>\n",
       "      <td>Self-emp-not-inc</td>\n",
       "      <td>13.0</td>\n",
       "      <td>Married-civ-spouse</td>\n",
       "      <td>Exec-managerial</td>\n",
       "      <td>Husband</td>\n",
       "      <td>White</td>\n",
       "      <td>Male</td>\n",
       "      <td>0.0</td>\n",
       "      <td>0.0</td>\n",
       "      <td>13.0</td>\n",
       "      <td>United-States</td>\n",
       "    </tr>\n",
       "    <tr>\n",
       "      <th>2</th>\n",
       "      <td>38.0</td>\n",
       "      <td>Private</td>\n",
       "      <td>9.0</td>\n",
       "      <td>Divorced</td>\n",
       "      <td>Handlers-cleaners</td>\n",
       "      <td>Not-in-family</td>\n",
       "      <td>White</td>\n",
       "      <td>Male</td>\n",
       "      <td>0.0</td>\n",
       "      <td>0.0</td>\n",
       "      <td>40.0</td>\n",
       "      <td>United-States</td>\n",
       "    </tr>\n",
       "    <tr>\n",
       "      <th>3</th>\n",
       "      <td>53.0</td>\n",
       "      <td>Private</td>\n",
       "      <td>7.0</td>\n",
       "      <td>Married-civ-spouse</td>\n",
       "      <td>Handlers-cleaners</td>\n",
       "      <td>Husband</td>\n",
       "      <td>Black</td>\n",
       "      <td>Male</td>\n",
       "      <td>0.0</td>\n",
       "      <td>0.0</td>\n",
       "      <td>40.0</td>\n",
       "      <td>United-States</td>\n",
       "    </tr>\n",
       "    <tr>\n",
       "      <th>4</th>\n",
       "      <td>28.0</td>\n",
       "      <td>Private</td>\n",
       "      <td>13.0</td>\n",
       "      <td>Married-civ-spouse</td>\n",
       "      <td>Prof-specialty</td>\n",
       "      <td>Wife</td>\n",
       "      <td>Black</td>\n",
       "      <td>Female</td>\n",
       "      <td>0.0</td>\n",
       "      <td>0.0</td>\n",
       "      <td>40.0</td>\n",
       "      <td>Cuba</td>\n",
       "    </tr>\n",
       "  </tbody>\n",
       "</table>\n",
       "</div>"
      ],
      "text/plain": [
       "    Age          Workclass  Education-Num       Marital Status  \\\n",
       "0  39.0          State-gov           13.0        Never-married   \n",
       "1  50.0   Self-emp-not-inc           13.0   Married-civ-spouse   \n",
       "2  38.0            Private            9.0             Divorced   \n",
       "3  53.0            Private            7.0   Married-civ-spouse   \n",
       "4  28.0            Private           13.0   Married-civ-spouse   \n",
       "\n",
       "           Occupation    Relationship    Race      Sex  Capital Gain  \\\n",
       "0        Adm-clerical   Not-in-family   White     Male        2174.0   \n",
       "1     Exec-managerial         Husband   White     Male           0.0   \n",
       "2   Handlers-cleaners   Not-in-family   White     Male           0.0   \n",
       "3   Handlers-cleaners         Husband   Black     Male           0.0   \n",
       "4      Prof-specialty            Wife   Black   Female           0.0   \n",
       "\n",
       "   Capital Loss  Hours per week         Country  \n",
       "0           0.0            40.0   United-States  \n",
       "1           0.0            13.0   United-States  \n",
       "2           0.0            40.0   United-States  \n",
       "3           0.0            40.0   United-States  \n",
       "4           0.0            40.0            Cuba  "
      ]
     },
     "execution_count": 2,
     "metadata": {},
     "output_type": "execute_result"
    }
   ],
   "source": [
    "X,y = shap.datasets.adult()\n",
    "X_display,y_display = shap.datasets.adult(display=True) # human readable feature values\n",
    "\n",
    "xgb_full = xgboost.DMatrix(X, label=y)\n",
    "\n",
    "# create a train/test split\n",
    "X_train, X_test, y_train, y_test = train_test_split(X, y, test_size=0.2, random_state=7)\n",
    "xgb_train = xgboost.DMatrix(X_train, label=y_train)\n",
    "xgb_test = xgboost.DMatrix(X_test, label=y_test)\n",
    "\n",
    "print(X.shape)\n",
    "X_display.head()"
   ]
  },
  {
   "cell_type": "markdown",
   "metadata": {},
   "source": [
    "# Explanation settings"
   ]
  },
  {
   "cell_type": "code",
   "execution_count": 3,
   "metadata": {},
   "outputs": [],
   "source": [
    "n_bg = 1 # number of sampled background samples\n",
    "nsamples = 100 # number of fg samples to explain\n",
    "nruns = 100 # paper: 10,000, number of monte carlo samplings\n",
    "bg = X.fillna(X.mean()).sample(n_bg) # background samples\n",
    "fg = X[:nsamples] # foreground samples to explain\n",
    "sample_ind = 3 # sample to show"
   ]
  },
  {
   "cell_type": "markdown",
   "metadata": {},
   "source": [
    "# Training"
   ]
  },
  {
   "cell_type": "code",
   "execution_count": 4,
   "metadata": {},
   "outputs": [
    {
     "name": "stdout",
     "output_type": "stream",
     "text": [
      "[0]\ttest-error:0.15507\n",
      "[1000]\ttest-error:0.12867\n",
      "[2000]\ttest-error:0.12498\n",
      "[2999]\ttest-error:0.12498\n"
     ]
    }
   ],
   "source": [
    "params = {\n",
    "    \"eta\": 0.01,\n",
    "    \"max_depth\": 4,\n",
    "    'objective':'binary:logistic', # output probability\n",
    "    \"subsample\": 0.9\n",
    "}\n",
    "model = xgboost.train(params, xgb_train, 3000, evals = [(xgb_test, \"test\")], verbose_eval=1000)\n",
    "\n",
    "# workaround from https://github.com/slundberg/shap/issues/1215\n",
    "mybooster = model\n",
    "\n",
    "model_bytearray = mybooster.save_raw()[4:]\n",
    "def myfun(self=None):\n",
    "    return model_bytearray\n",
    "mybooster.save_raw = myfun"
   ]
  },
  {
   "cell_type": "markdown",
   "metadata": {},
   "source": [
    "# Ind Shap"
   ]
  },
  {
   "cell_type": "code",
   "execution_count": 5,
   "metadata": {},
   "outputs": [
    {
     "name": "stderr",
     "output_type": "stream",
     "text": [
      "0it [00:00, ?it/s]\n"
     ]
    },
    {
     "data": {
      "image/svg+xml": [
       "<?xml version=\"1.0\" encoding=\"UTF-8\" standalone=\"no\"?>\n",
       "<!DOCTYPE svg PUBLIC \"-//W3C//DTD SVG 1.1//EN\"\n",
       " \"http://www.w3.org/Graphics/SVG/1.1/DTD/svg11.dtd\">\n",
       "<!-- Generated by graphviz version 2.38.0 (20140413.2041)\n",
       " -->\n",
       "<!-- Title: %3 Pages: 1 -->\n",
       "<svg width=\"1375pt\" height=\"116pt\"\n",
       " viewBox=\"0.00 0.00 1374.65 116.00\" xmlns=\"http://www.w3.org/2000/svg\" xmlns:xlink=\"http://www.w3.org/1999/xlink\">\n",
       "<g id=\"graph0\" class=\"graph\" transform=\"scale(1 1) rotate(0) translate(4 112)\">\n",
       "<title>%3</title>\n",
       "<polygon fill=\"white\" stroke=\"none\" points=\"-4,4 -4,-112 1370.65,-112 1370.65,4 -4,4\"/>\n",
       "<!-- predicted income &gt;50k -->\n",
       "<g id=\"node1\" class=\"node\"><title>predicted income &gt;50k</title>\n",
       "<ellipse fill=\"none\" stroke=\"black\" cx=\"707\" cy=\"-18\" rx=\"92.8835\" ry=\"18\"/>\n",
       "<text text-anchor=\"middle\" x=\"707\" y=\"-14.3\" font-family=\"Times,serif\" font-size=\"14.00\">predicted income &gt;50k</text>\n",
       "</g>\n",
       "<!-- Age -->\n",
       "<g id=\"node2\" class=\"node\"><title>Age</title>\n",
       "<ellipse fill=\"none\" stroke=\"black\" cx=\"27\" cy=\"-90\" rx=\"27\" ry=\"18\"/>\n",
       "<text text-anchor=\"middle\" x=\"27\" y=\"-86.3\" font-family=\"Times,serif\" font-size=\"14.00\">Age</text>\n",
       "</g>\n",
       "<!-- Age&#45;&gt;predicted income &gt;50k -->\n",
       "<g id=\"edge1\" class=\"edge\"><title>Age&#45;&gt;predicted income &gt;50k</title>\n",
       "<path fill=\"none\" stroke=\"black\" d=\"M47.4573,-77.7955C52.416,-75.5175 57.7923,-73.3946 63,-72 162.642,-45.3174 451.455,-29.6201 606.235,-22.8946\"/>\n",
       "<polygon fill=\"black\" stroke=\"black\" points=\"606.848,-26.3716 616.688,-22.4452 606.547,-19.378 606.848,-26.3716\"/>\n",
       "</g>\n",
       "<!-- Workclass -->\n",
       "<g id=\"node3\" class=\"node\"><title>Workclass</title>\n",
       "<ellipse fill=\"none\" stroke=\"black\" cx=\"120\" cy=\"-90\" rx=\"48.1917\" ry=\"18\"/>\n",
       "<text text-anchor=\"middle\" x=\"120\" y=\"-86.3\" font-family=\"Times,serif\" font-size=\"14.00\">Workclass</text>\n",
       "</g>\n",
       "<!-- Workclass&#45;&gt;predicted income &gt;50k -->\n",
       "<g id=\"edge2\" class=\"edge\"><title>Workclass&#45;&gt;predicted income &gt;50k</title>\n",
       "<path fill=\"none\" stroke=\"black\" d=\"M154.705,-77.5078C162.005,-75.4132 169.705,-73.4389 177,-72 325.094,-42.7873 499.814,-29.2801 606.994,-23.3268\"/>\n",
       "<polygon fill=\"black\" stroke=\"black\" points=\"607.357,-26.8123 617.152,-22.774 606.976,-19.8226 607.357,-26.8123\"/>\n",
       "</g>\n",
       "<!-- Education&#45;Num -->\n",
       "<g id=\"node4\" class=\"node\"><title>Education&#45;Num</title>\n",
       "<ellipse fill=\"none\" stroke=\"black\" cx=\"254\" cy=\"-90\" rx=\"67.6881\" ry=\"18\"/>\n",
       "<text text-anchor=\"middle\" x=\"254\" y=\"-86.3\" font-family=\"Times,serif\" font-size=\"14.00\">Education&#45;Num</text>\n",
       "</g>\n",
       "<!-- Education&#45;Num&#45;&gt;predicted income &gt;50k -->\n",
       "<g id=\"edge3\" class=\"edge\"><title>Education&#45;Num&#45;&gt;predicted income &gt;50k</title>\n",
       "<path fill=\"none\" stroke=\"black\" d=\"M303.178,-77.5492C312.398,-75.5713 321.974,-73.6301 331,-72 429.407,-54.2288 543.208,-38.9095 619.609,-29.3758\"/>\n",
       "<polygon fill=\"black\" stroke=\"black\" points=\"620.176,-32.8324 629.669,-28.127 619.314,-25.8857 620.176,-32.8324\"/>\n",
       "</g>\n",
       "<!-- Marital Status -->\n",
       "<g id=\"node5\" class=\"node\"><title>Marital Status</title>\n",
       "<ellipse fill=\"none\" stroke=\"black\" cx=\"401\" cy=\"-90\" rx=\"61.1893\" ry=\"18\"/>\n",
       "<text text-anchor=\"middle\" x=\"401\" y=\"-86.3\" font-family=\"Times,serif\" font-size=\"14.00\">Marital Status</text>\n",
       "</g>\n",
       "<!-- Marital Status&#45;&gt;predicted income &gt;50k -->\n",
       "<g id=\"edge4\" class=\"edge\"><title>Marital Status&#45;&gt;predicted income &gt;50k</title>\n",
       "<path fill=\"none\" stroke=\"black\" d=\"M446.534,-77.8206C454.676,-75.8563 463.084,-73.8499 471,-72 527.118,-58.8853 590.892,-44.6002 637.985,-34.1686\"/>\n",
       "<polygon fill=\"black\" stroke=\"black\" points=\"638.765,-37.5809 647.772,-32.0029 637.252,-30.7462 638.765,-37.5809\"/>\n",
       "</g>\n",
       "<!-- Occupation -->\n",
       "<g id=\"node6\" class=\"node\"><title>Occupation</title>\n",
       "<ellipse fill=\"none\" stroke=\"black\" cx=\"531\" cy=\"-90\" rx=\"51.1914\" ry=\"18\"/>\n",
       "<text text-anchor=\"middle\" x=\"531\" y=\"-86.3\" font-family=\"Times,serif\" font-size=\"14.00\">Occupation</text>\n",
       "</g>\n",
       "<!-- Occupation&#45;&gt;predicted income &gt;50k -->\n",
       "<g id=\"edge5\" class=\"edge\"><title>Occupation&#45;&gt;predicted income &gt;50k</title>\n",
       "<path fill=\"none\" stroke=\"black\" d=\"M563.692,-75.9976C590.423,-65.3659 628.604,-50.1801 658.836,-38.1563\"/>\n",
       "<polygon fill=\"black\" stroke=\"black\" points=\"660.349,-41.3213 668.347,-34.3733 657.762,-34.8168 660.349,-41.3213\"/>\n",
       "</g>\n",
       "<!-- Relationship -->\n",
       "<g id=\"node7\" class=\"node\"><title>Relationship</title>\n",
       "<ellipse fill=\"none\" stroke=\"black\" cx=\"656\" cy=\"-90\" rx=\"55.4913\" ry=\"18\"/>\n",
       "<text text-anchor=\"middle\" x=\"656\" y=\"-86.3\" font-family=\"Times,serif\" font-size=\"14.00\">Relationship</text>\n",
       "</g>\n",
       "<!-- Relationship&#45;&gt;predicted income &gt;50k -->\n",
       "<g id=\"edge6\" class=\"edge\"><title>Relationship&#45;&gt;predicted income &gt;50k</title>\n",
       "<path fill=\"none\" stroke=\"black\" d=\"M668.086,-72.411C674.22,-63.9915 681.802,-53.585 688.639,-44.2007\"/>\n",
       "<polygon fill=\"black\" stroke=\"black\" points=\"691.586,-46.0996 694.646,-35.9562 685.929,-41.9776 691.586,-46.0996\"/>\n",
       "</g>\n",
       "<!-- Race -->\n",
       "<g id=\"node8\" class=\"node\"><title>Race</title>\n",
       "<ellipse fill=\"none\" stroke=\"black\" cx=\"758\" cy=\"-90\" rx=\"28.6953\" ry=\"18\"/>\n",
       "<text text-anchor=\"middle\" x=\"758\" y=\"-86.3\" font-family=\"Times,serif\" font-size=\"14.00\">Race</text>\n",
       "</g>\n",
       "<!-- Race&#45;&gt;predicted income &gt;50k -->\n",
       "<g id=\"edge7\" class=\"edge\"><title>Race&#45;&gt;predicted income &gt;50k</title>\n",
       "<path fill=\"none\" stroke=\"black\" d=\"M746.681,-73.4647C740.417,-64.8665 732.478,-53.9704 725.351,-44.187\"/>\n",
       "<polygon fill=\"black\" stroke=\"black\" points=\"728.075,-41.9832 719.358,-35.9618 722.418,-46.1052 728.075,-41.9832\"/>\n",
       "</g>\n",
       "<!-- Sex -->\n",
       "<g id=\"node9\" class=\"node\"><title>Sex</title>\n",
       "<ellipse fill=\"none\" stroke=\"black\" cx=\"832\" cy=\"-90\" rx=\"27\" ry=\"18\"/>\n",
       "<text text-anchor=\"middle\" x=\"832\" y=\"-86.3\" font-family=\"Times,serif\" font-size=\"14.00\">Sex</text>\n",
       "</g>\n",
       "<!-- Sex&#45;&gt;predicted income &gt;50k -->\n",
       "<g id=\"edge8\" class=\"edge\"><title>Sex&#45;&gt;predicted income &gt;50k</title>\n",
       "<path fill=\"none\" stroke=\"black\" d=\"M811.917,-77.7533C793.841,-67.631 766.804,-52.4901 744.703,-40.1139\"/>\n",
       "<polygon fill=\"black\" stroke=\"black\" points=\"746.321,-37.0085 735.886,-35.1762 742.901,-43.116 746.321,-37.0085\"/>\n",
       "</g>\n",
       "<!-- Capital Gain -->\n",
       "<g id=\"node10\" class=\"node\"><title>Capital Gain</title>\n",
       "<ellipse fill=\"none\" stroke=\"black\" cx=\"933\" cy=\"-90\" rx=\"55.7903\" ry=\"18\"/>\n",
       "<text text-anchor=\"middle\" x=\"933\" y=\"-86.3\" font-family=\"Times,serif\" font-size=\"14.00\">Capital Gain</text>\n",
       "</g>\n",
       "<!-- Capital Gain&#45;&gt;predicted income &gt;50k -->\n",
       "<g id=\"edge9\" class=\"edge\"><title>Capital Gain&#45;&gt;predicted income &gt;50k</title>\n",
       "<path fill=\"none\" stroke=\"black\" d=\"M894.149,-76.9666C858.239,-65.844 804.442,-49.1811 763.729,-36.5711\"/>\n",
       "<polygon fill=\"black\" stroke=\"black\" points=\"764.531,-33.1553 753.943,-33.5399 762.46,-39.8419 764.531,-33.1553\"/>\n",
       "</g>\n",
       "<!-- Capital Loss -->\n",
       "<g id=\"node11\" class=\"node\"><title>Capital Loss</title>\n",
       "<ellipse fill=\"none\" stroke=\"black\" cx=\"1062\" cy=\"-90\" rx=\"55.4913\" ry=\"18\"/>\n",
       "<text text-anchor=\"middle\" x=\"1062\" y=\"-86.3\" font-family=\"Times,serif\" font-size=\"14.00\">Capital Loss</text>\n",
       "</g>\n",
       "<!-- Capital Loss&#45;&gt;predicted income &gt;50k -->\n",
       "<g id=\"edge10\" class=\"edge\"><title>Capital Loss&#45;&gt;predicted income &gt;50k</title>\n",
       "<path fill=\"none\" stroke=\"black\" d=\"M1021.49,-77.7201C1013.72,-75.704 1005.63,-73.7052 998,-72 926.819,-56.0907 845.047,-41.5203 786.347,-31.7004\"/>\n",
       "<polygon fill=\"black\" stroke=\"black\" points=\"786.836,-28.2338 776.397,-30.0445 785.687,-35.1388 786.836,-28.2338\"/>\n",
       "</g>\n",
       "<!-- Hours per week -->\n",
       "<g id=\"node12\" class=\"node\"><title>Hours per week</title>\n",
       "<ellipse fill=\"none\" stroke=\"black\" cx=\"1202\" cy=\"-90\" rx=\"66.8882\" ry=\"18\"/>\n",
       "<text text-anchor=\"middle\" x=\"1202\" y=\"-86.3\" font-family=\"Times,serif\" font-size=\"14.00\">Hours per week</text>\n",
       "</g>\n",
       "<!-- Hours per week&#45;&gt;predicted income &gt;50k -->\n",
       "<g id=\"edge11\" class=\"edge\"><title>Hours per week&#45;&gt;predicted income &gt;50k</title>\n",
       "<path fill=\"none\" stroke=\"black\" d=\"M1153.48,-77.4328C1144.38,-75.4662 1134.92,-73.5588 1126,-72 1013.73,-52.3884 883.334,-37.0536 798.207,-28.0318\"/>\n",
       "<polygon fill=\"black\" stroke=\"black\" points=\"798.366,-24.5293 788.054,-26.963 797.633,-31.4908 798.366,-24.5293\"/>\n",
       "</g>\n",
       "<!-- Country -->\n",
       "<g id=\"node13\" class=\"node\"><title>Country</title>\n",
       "<ellipse fill=\"none\" stroke=\"black\" cx=\"1327\" cy=\"-90\" rx=\"39.7935\" ry=\"18\"/>\n",
       "<text text-anchor=\"middle\" x=\"1327\" y=\"-86.3\" font-family=\"Times,serif\" font-size=\"14.00\">Country</text>\n",
       "</g>\n",
       "<!-- Country&#45;&gt;predicted income &gt;50k -->\n",
       "<g id=\"edge12\" class=\"edge\"><title>Country&#45;&gt;predicted income &gt;50k</title>\n",
       "<path fill=\"none\" stroke=\"black\" d=\"M1298.05,-77.6658C1291.54,-75.4802 1284.6,-73.4292 1278,-72 1116.49,-37.0256 924.363,-25.1236 809.228,-21.0777\"/>\n",
       "<polygon fill=\"black\" stroke=\"black\" points=\"809.129,-17.5725 799.016,-20.7325 808.892,-24.5685 809.129,-17.5725\"/>\n",
       "</g>\n",
       "</g>\n",
       "</svg>\n"
      ],
      "text/plain": [
       "<graphviz.files.Source at 0x7f45e1661310>"
      ]
     },
     "metadata": {},
     "output_type": "display_data"
    }
   ],
   "source": [
    "causal_links = CausalLinks()\n",
    "categorical_feature_names = ['Workclass', 'Marital Status', 'Occupation',\n",
    "                             'Relationship', 'Race', 'Sex', 'Country']\n",
    "display_translator = translator(X.columns, X, X_display)\n",
    "target_name = 'predicted income >50k'\n",
    "feature_names = list(X.columns)\n",
    "\n",
    "# build causal links\n",
    "causal_links.add_causes_effects(feature_names, target_name, create_xgboost_f(feature_names, model))\n",
    "graph = build_feature_graph(X.fillna(X.mean()), causal_links, categorical_feature_names, display_translator, target_name)\n",
    "graph.draw()"
   ]
  },
  {
   "cell_type": "code",
   "execution_count": 6,
   "metadata": {},
   "outputs": [
    {
     "name": "stderr",
     "output_type": "stream",
     "text": [
      "bruteforce sampling:   1%|          | 1/100 [00:00<00:11,  8.79it/s]"
     ]
    },
    {
     "name": "stdout",
     "output_type": "stream",
     "text": [
      "bg 0/1\n"
     ]
    },
    {
     "name": "stderr",
     "output_type": "stream",
     "text": [
      "bruteforce sampling: 100%|██████████| 100/100 [00:08<00:00, 11.21it/s]\n"
     ]
    }
   ],
   "source": [
    "# multiple background result\n",
    "edge_credits = [] # save for each run\n",
    "for i in range(len(bg)): # average run result using linearity axiom\n",
    "    print(f'bg {i}/{len(bg)}')\n",
    "    explainer = GraphExplainer(graph, bg[i:i+1], nruns=nruns) \n",
    "    cf = explainer.shap_values(fg)\n",
    "    edge_credits.append(node_dict2str_dict(cf.edge_credit)) # use node name is more portable vs. node"
   ]
  },
  {
   "cell_type": "code",
   "execution_count": 7,
   "metadata": {},
   "outputs": [
    {
     "data": {
      "image/svg+xml": [
       "<?xml version=\"1.0\" encoding=\"UTF-8\" standalone=\"no\"?>\n",
       "<!DOCTYPE svg PUBLIC \"-//W3C//DTD SVG 1.1//EN\"\n",
       " \"http://www.w3.org/Graphics/SVG/1.1/DTD/svg11.dtd\">\n",
       "<!-- Generated by graphviz version 2.38.0 (20140413.2041)\n",
       " -->\n",
       "<!-- Title: %3 Pages: 1 -->\n",
       "<svg width=\"1281pt\" height=\"131pt\"\n",
       " viewBox=\"0.00 0.00 1280.89 131.00\" xmlns=\"http://www.w3.org/2000/svg\" xmlns:xlink=\"http://www.w3.org/1999/xlink\">\n",
       "<g id=\"graph0\" class=\"graph\" transform=\"scale(1 1) rotate(0) translate(4 127)\">\n",
       "<title>%3</title>\n",
       "<polygon fill=\"white\" stroke=\"none\" points=\"-4,4 -4,-127 1276.89,-127 1276.89,4 -4,4\"/>\n",
       "<!-- Occupation -->\n",
       "<g id=\"node1\" class=\"node\"><title>Occupation</title>\n",
       "<polygon fill=\"none\" stroke=\"black\" points=\"106.442,-123 27.4418,-123 27.4418,-87 106.442,-87 106.442,-123\"/>\n",
       "<text text-anchor=\"middle\" x=\"66.9418\" y=\"-101.3\" font-family=\"Times,serif\" font-size=\"14.00\">Occupation</text>\n",
       "</g>\n",
       "<!-- predicted income &gt;50k -->\n",
       "<g id=\"node2\" class=\"node\"><title>predicted income &gt;50k</title>\n",
       "<ellipse fill=\"none\" stroke=\"black\" cx=\"92.9418\" cy=\"-18\" rx=\"92.8835\" ry=\"18\"/>\n",
       "<text text-anchor=\"middle\" x=\"92.9418\" y=\"-14.3\" font-family=\"Times,serif\" font-size=\"14.00\">predicted income &gt;50k</text>\n",
       "</g>\n",
       "<!-- Occupation&#45;&gt;predicted income &gt;50k -->\n",
       "<g id=\"edge1\" class=\"edge\"><title>Occupation&#45;&gt;predicted income &gt;50k</title>\n",
       "<path fill=\"none\" stroke=\"#008bfb\" stroke-width=\"2.52863\" d=\"M64.8189,-86.9116C64.1946,-77.0487 64.4446,-64.5487 67.9418,-54 68.9992,-50.8104 70.4573,-47.6607 72.1427,-44.6354\"/>\n",
       "<polygon fill=\"#008bfb\" stroke=\"#008bfb\" stroke-width=\"2.52863\" points=\"75.2231,-46.317 77.7066,-36.0173 69.3422,-42.5202 75.2231,-46.317\"/>\n",
       "<text text-anchor=\"middle\" x=\"82.4418\" y=\"-57.8\" font-family=\"Times,serif\" font-size=\"14.00\" fill=\"#008bfb\">&#45;0.04</text>\n",
       "</g>\n",
       "<!-- Sex -->\n",
       "<g id=\"node3\" class=\"node\"><title>Sex</title>\n",
       "<polygon fill=\"none\" stroke=\"black\" points=\"178.942,-123 124.942,-123 124.942,-87 178.942,-87 178.942,-123\"/>\n",
       "<text text-anchor=\"middle\" x=\"151.942\" y=\"-101.3\" font-family=\"Times,serif\" font-size=\"14.00\">Sex</text>\n",
       "</g>\n",
       "<!-- Sex&#45;&gt;predicted income &gt;50k -->\n",
       "<g id=\"edge2\" class=\"edge\"><title>Sex&#45;&gt;predicted income &gt;50k</title>\n",
       "<path fill=\"none\" stroke=\"#ff0051\" stroke-width=\"1.35645\" d=\"M135.4,-86.8073C130.487,-81.3204 125.267,-75.0879 120.942,-69 115.641,-61.5382 110.534,-52.982 106.166,-45.0818\"/>\n",
       "<polygon fill=\"#ff0051\" stroke=\"#ff0051\" stroke-width=\"1.35645\" points=\"109.221,-43.3726 101.41,-36.2138 103.052,-46.6807 109.221,-43.3726\"/>\n",
       "<text text-anchor=\"middle\" x=\"133.442\" y=\"-57.8\" font-family=\"Times,serif\" font-size=\"14.00\" fill=\"#ff0051\">0.02</text>\n",
       "</g>\n",
       "<!-- Capital Gain -->\n",
       "<g id=\"node4\" class=\"node\"><title>Capital Gain</title>\n",
       "<ellipse fill=\"none\" stroke=\"black\" cx=\"252.942\" cy=\"-105\" rx=\"55.7903\" ry=\"18\"/>\n",
       "<text text-anchor=\"middle\" x=\"252.942\" y=\"-101.3\" font-family=\"Times,serif\" font-size=\"14.00\">Capital Gain</text>\n",
       "</g>\n",
       "<!-- Capital Gain&#45;&gt;predicted income &gt;50k -->\n",
       "<g id=\"edge3\" class=\"edge\"><title>Capital Gain&#45;&gt;predicted income &gt;50k</title>\n",
       "<path fill=\"none\" stroke=\"#ff0051\" stroke-width=\"0.05\" d=\"M217.984,-90.8598C202.92,-84.791 185.278,-77.131 169.942,-69 165.271,-66.5235 144.758,-53.1833 126.079,-40.9056\"/>\n",
       "<polygon fill=\"#ff0051\" stroke=\"#ff0051\" stroke-width=\"0.05\" points=\"127.967,-37.9578 117.69,-35.382 124.118,-43.8044 127.967,-37.9578\"/>\n",
       "<text text-anchor=\"middle\" x=\"182.442\" y=\"-57.8\" font-family=\"Times,serif\" font-size=\"14.00\" fill=\"#ff0051\">0.00</text>\n",
       "</g>\n",
       "<!-- Age -->\n",
       "<g id=\"node5\" class=\"node\"><title>Age</title>\n",
       "<ellipse fill=\"none\" stroke=\"black\" cx=\"353.942\" cy=\"-105\" rx=\"27\" ry=\"18\"/>\n",
       "<text text-anchor=\"middle\" x=\"353.942\" y=\"-101.3\" font-family=\"Times,serif\" font-size=\"14.00\">Age</text>\n",
       "</g>\n",
       "<!-- Age&#45;&gt;predicted income &gt;50k -->\n",
       "<g id=\"edge4\" class=\"edge\"><title>Age&#45;&gt;predicted income &gt;50k</title>\n",
       "<path fill=\"none\" stroke=\"#ff0051\" stroke-width=\"4.4519\" d=\"M333.375,-93.1687C328.42,-90.8754 323.074,-88.6519 317.942,-87 275.788,-73.4311 261.371,-84.643 219.942,-69 207.819,-64.4228 206.69,-59.4662 194.942,-54 181.15,-47.583 165.838,-41.7137 151.36,-36.6908\"/>\n",
       "<polygon fill=\"#ff0051\" stroke=\"#ff0051\" stroke-width=\"4.4519\" points=\"152.221,-32.8695 141.499,-33.3523 149.722,-40.2489 152.221,-32.8695\"/>\n",
       "<text text-anchor=\"middle\" x=\"232.442\" y=\"-57.8\" font-family=\"Times,serif\" font-size=\"14.00\" fill=\"#ff0051\">0.08</text>\n",
       "</g>\n",
       "<!-- Capital Loss -->\n",
       "<g id=\"node6\" class=\"node\"><title>Capital Loss</title>\n",
       "<ellipse fill=\"none\" stroke=\"black\" cx=\"453.942\" cy=\"-105\" rx=\"55.4913\" ry=\"18\"/>\n",
       "<text text-anchor=\"middle\" x=\"453.942\" y=\"-101.3\" font-family=\"Times,serif\" font-size=\"14.00\">Capital Loss</text>\n",
       "</g>\n",
       "<!-- Capital Loss&#45;&gt;predicted income &gt;50k -->\n",
       "<g id=\"edge5\" class=\"edge\"><title>Capital Loss&#45;&gt;predicted income &gt;50k</title>\n",
       "<path fill=\"none\" stroke=\"#ff0051\" stroke-width=\"0.05\" d=\"M413.47,-92.55C405.696,-90.5496 397.594,-88.6001 389.942,-87 338.444,-76.2313 322.846,-85.6612 272.942,-69 259.551,-64.5292 258.159,-58.9609 244.942,-54 221.211,-45.093 194.513,-38.0203 170.19,-32.6313\"/>\n",
       "<polygon fill=\"#ff0051\" stroke=\"#ff0051\" stroke-width=\"0.05\" points=\"170.798,-29.1821 160.286,-30.4993 169.325,-36.0254 170.798,-29.1821\"/>\n",
       "<text text-anchor=\"middle\" x=\"285.442\" y=\"-57.8\" font-family=\"Times,serif\" font-size=\"14.00\" fill=\"#ff0051\">0.00</text>\n",
       "</g>\n",
       "<!-- Workclass -->\n",
       "<g id=\"node7\" class=\"node\"><title>Workclass</title>\n",
       "<polygon fill=\"none\" stroke=\"black\" points=\"600.942,-123 526.942,-123 526.942,-87 600.942,-87 600.942,-123\"/>\n",
       "<text text-anchor=\"middle\" x=\"563.942\" y=\"-101.3\" font-family=\"Times,serif\" font-size=\"14.00\">Workclass</text>\n",
       "</g>\n",
       "<!-- Workclass&#45;&gt;predicted income &gt;50k -->\n",
       "<g id=\"edge6\" class=\"edge\"><title>Workclass&#45;&gt;predicted income &gt;50k</title>\n",
       "<path fill=\"none\" stroke=\"#ff0051\" stroke-width=\"0.05\" d=\"M526.781,-89.351C523.817,-88.4643 520.847,-87.664 517.942,-87 436.115,-68.2954 410.908,-91.1375 329.942,-69 314.791,-64.8574 312.93,-58.6976 297.942,-54 260.939,-42.4027 218.901,-34.3759 182.567,-28.9651\"/>\n",
       "<polygon fill=\"#ff0051\" stroke=\"#ff0051\" stroke-width=\"0.05\" points=\"182.877,-25.4736 172.479,-27.5075 181.875,-32.4016 182.877,-25.4736\"/>\n",
       "<text text-anchor=\"middle\" x=\"342.442\" y=\"-57.8\" font-family=\"Times,serif\" font-size=\"14.00\" fill=\"#ff0051\">0.00</text>\n",
       "</g>\n",
       "<!-- Marital Status -->\n",
       "<g id=\"node8\" class=\"node\"><title>Marital Status</title>\n",
       "<polygon fill=\"none\" stroke=\"black\" points=\"712.942,-123 618.942,-123 618.942,-87 712.942,-87 712.942,-123\"/>\n",
       "<text text-anchor=\"middle\" x=\"665.942\" y=\"-101.3\" font-family=\"Times,serif\" font-size=\"14.00\">Marital Status</text>\n",
       "</g>\n",
       "<!-- Marital Status&#45;&gt;predicted income &gt;50k -->\n",
       "<g id=\"edge7\" class=\"edge\"><title>Marital Status&#45;&gt;predicted income &gt;50k</title>\n",
       "<path fill=\"none\" stroke=\"#ff0051\" stroke-width=\"0.814877\" d=\"M618.761,-88.9144C615.792,-88.2026 612.835,-87.5551 609.942,-87 516.639,-69.1026 489.785,-89.145 396.942,-69 377.571,-64.797 374.205,-58.6714 354.942,-54 300.18,-40.72 237.675,-32.1273 187.452,-26.7805\"/>\n",
       "<polygon fill=\"#ff0051\" stroke=\"#ff0051\" stroke-width=\"0.814877\" points=\"187.562,-23.2732 177.254,-25.7212 186.839,-30.2357 187.562,-23.2732\"/>\n",
       "<text text-anchor=\"middle\" x=\"409.442\" y=\"-57.8\" font-family=\"Times,serif\" font-size=\"14.00\" fill=\"#ff0051\">0.01</text>\n",
       "</g>\n",
       "<!-- Education&#45;Num -->\n",
       "<g id=\"node9\" class=\"node\"><title>Education&#45;Num</title>\n",
       "<ellipse fill=\"none\" stroke=\"black\" cx=\"798.942\" cy=\"-105\" rx=\"67.6881\" ry=\"18\"/>\n",
       "<text text-anchor=\"middle\" x=\"798.942\" y=\"-101.3\" font-family=\"Times,serif\" font-size=\"14.00\">Education&#45;Num</text>\n",
       "</g>\n",
       "<!-- Education&#45;Num&#45;&gt;predicted income &gt;50k -->\n",
       "<g id=\"edge8\" class=\"edge\"><title>Education&#45;Num&#45;&gt;predicted income &gt;50k</title>\n",
       "<path fill=\"none\" stroke=\"#008bfb\" stroke-width=\"4.76253\" d=\"M750.668,-92.2402C741.189,-90.2437 731.287,-88.375 721.942,-87 616.115,-71.4302 587.543,-86.0331 481.942,-69 454.805,-64.623 449.007,-58.7988 421.942,-54 344.231,-40.2215 255.164,-31.151 189.317,-25.7039\"/>\n",
       "<polygon fill=\"#008bfb\" stroke=\"#008bfb\" stroke-width=\"4.76253\" points=\"189.259,-21.5183 178.954,-24.8607 188.583,-29.8253 189.259,-21.5183\"/>\n",
       "<text text-anchor=\"middle\" x=\"496.442\" y=\"-57.8\" font-family=\"Times,serif\" font-size=\"14.00\" fill=\"#008bfb\">&#45;0.08</text>\n",
       "</g>\n",
       "<!-- Race -->\n",
       "<g id=\"node10\" class=\"node\"><title>Race</title>\n",
       "<polygon fill=\"none\" stroke=\"black\" points=\"938.942,-123 884.942,-123 884.942,-87 938.942,-87 938.942,-123\"/>\n",
       "<text text-anchor=\"middle\" x=\"911.942\" y=\"-101.3\" font-family=\"Times,serif\" font-size=\"14.00\">Race</text>\n",
       "</g>\n",
       "<!-- Race&#45;&gt;predicted income &gt;50k -->\n",
       "<g id=\"edge9\" class=\"edge\"><title>Race&#45;&gt;predicted income &gt;50k</title>\n",
       "<path fill=\"none\" stroke=\"#008bfb\" stroke-width=\"0.334822\" d=\"M884.822,-89.9077C881.88,-88.7691 878.885,-87.7649 875.942,-87 760.829,-57.0856 727.164,-82.0091 608.942,-69 565.143,-64.1805 554.7,-59.1747 510.942,-54 401.14,-41.0153 274.553,-31.1215 189.711,-25.2196\"/>\n",
       "<polygon fill=\"#008bfb\" stroke=\"#008bfb\" stroke-width=\"0.334822\" points=\"189.793,-21.717 179.576,-24.5197 189.311,-28.7004 189.793,-21.717\"/>\n",
       "<text text-anchor=\"middle\" x=\"623.442\" y=\"-57.8\" font-family=\"Times,serif\" font-size=\"14.00\" fill=\"#008bfb\">&#45;0.00</text>\n",
       "</g>\n",
       "<!-- Relationship -->\n",
       "<g id=\"node11\" class=\"node\"><title>Relationship</title>\n",
       "<polygon fill=\"none\" stroke=\"black\" points=\"1042.44,-123 957.442,-123 957.442,-87 1042.44,-87 1042.44,-123\"/>\n",
       "<text text-anchor=\"middle\" x=\"999.942\" y=\"-101.3\" font-family=\"Times,serif\" font-size=\"14.00\">Relationship</text>\n",
       "</g>\n",
       "<!-- Relationship&#45;&gt;predicted income &gt;50k -->\n",
       "<g id=\"edge10\" class=\"edge\"><title>Relationship&#45;&gt;predicted income &gt;50k</title>\n",
       "<path fill=\"none\" stroke=\"#ff0051\" stroke-width=\"5\" d=\"M957.288,-89.2691C954.145,-88.4262 951.007,-87.6565 947.942,-87 914.071,-79.7449 672.455,-56.944 637.942,-54 482.205,-40.7159 301.042,-30.0267 191.781,-24.0991\"/>\n",
       "<polygon fill=\"#ff0051\" stroke=\"#ff0051\" stroke-width=\"5\" points=\"191.983,-19.7287 181.761,-23.5579 191.511,-28.466 191.983,-19.7287\"/>\n",
       "<text text-anchor=\"middle\" x=\"806.442\" y=\"-57.8\" font-family=\"Times,serif\" font-size=\"14.00\" fill=\"#ff0051\">0.09</text>\n",
       "</g>\n",
       "<!-- Country -->\n",
       "<g id=\"node12\" class=\"node\"><title>Country</title>\n",
       "<polygon fill=\"none\" stroke=\"black\" points=\"1121.44,-123 1060.44,-123 1060.44,-87 1121.44,-87 1121.44,-123\"/>\n",
       "<text text-anchor=\"middle\" x=\"1090.94\" y=\"-101.3\" font-family=\"Times,serif\" font-size=\"14.00\">Country</text>\n",
       "</g>\n",
       "<!-- Country&#45;&gt;predicted income &gt;50k -->\n",
       "<g id=\"edge11\" class=\"edge\"><title>Country&#45;&gt;predicted income &gt;50k</title>\n",
       "<path fill=\"none\" stroke=\"#ff0051\" stroke-width=\"0.05\" d=\"M1060.22,-90.0126C1057.12,-88.8852 1053.99,-87.8539 1050.94,-87 952.339,-59.4129 924.861,-63.7963 822.942,-54 599.767,-32.5489 336.882,-24.0355 195.436,-20.8195\"/>\n",
       "<polygon fill=\"#ff0051\" stroke=\"#ff0051\" stroke-width=\"0.05\" points=\"195.123,-17.3118 185.048,-20.5879 194.967,-24.31 195.123,-17.3118\"/>\n",
       "<text text-anchor=\"middle\" x=\"986.442\" y=\"-57.8\" font-family=\"Times,serif\" font-size=\"14.00\" fill=\"#ff0051\">0.00</text>\n",
       "</g>\n",
       "<!-- Hours per week -->\n",
       "<g id=\"node13\" class=\"node\"><title>Hours per week</title>\n",
       "<ellipse fill=\"none\" stroke=\"black\" cx=\"1205.94\" cy=\"-105\" rx=\"66.8882\" ry=\"18\"/>\n",
       "<text text-anchor=\"middle\" x=\"1205.94\" y=\"-101.3\" font-family=\"Times,serif\" font-size=\"14.00\">Hours per week</text>\n",
       "</g>\n",
       "<!-- Hours per week&#45;&gt;predicted income &gt;50k -->\n",
       "<g id=\"edge12\" class=\"edge\"><title>Hours per week&#45;&gt;predicted income &gt;50k</title>\n",
       "<path fill=\"none\" stroke=\"#ff0051\" stroke-width=\"0.236235\" d=\"M1163.66,-90.9176C1122.94,-78.9547 1059.37,-61.9502 1002.94,-54 849.85,-32.4306 399.564,-23.3903 195.521,-20.3243\"/>\n",
       "<polygon fill=\"#ff0051\" stroke=\"#ff0051\" stroke-width=\"0.236235\" points=\"195.452,-16.823 185.401,-20.1741 195.348,-23.8222 195.452,-16.823\"/>\n",
       "<text text-anchor=\"middle\" x=\"1089.44\" y=\"-57.8\" font-family=\"Times,serif\" font-size=\"14.00\" fill=\"#ff0051\">0.00</text>\n",
       "</g>\n",
       "</g>\n",
       "</svg>\n"
      ],
      "text/plain": [
       "<graphviz.files.Source at 0x7f45e083fb50>"
      ]
     },
     "metadata": {},
     "output_type": "display_data"
    },
    {
     "data": {
      "text/plain": [
       "<AGraph <Swig Object of type 'Agraph_t *' at 0x7f4698705570>>"
      ]
     },
     "execution_count": 7,
     "metadata": {},
     "output_type": "execute_result"
    }
   ],
   "source": [
    "cf.draw(sample_ind, max_display=10, edge_credit=edge_credits2edge_credit(edge_credits, cf.graph), show_fg_val=False)"
   ]
  },
  {
   "cell_type": "markdown",
   "metadata": {},
   "source": [
    "# On manifold SHAP"
   ]
  },
  {
   "cell_type": "code",
   "execution_count": null,
   "metadata": {},
   "outputs": [
    {
     "name": "stderr",
     "output_type": "stream",
     "text": [
      "manifold bg samples:   0%|          | 0/100 [00:00<?, ?it/s]"
     ]
    },
    {
     "name": "stdout",
     "output_type": "stream",
     "text": [
      "bg 0/1\n"
     ]
    },
    {
     "name": "stderr",
     "output_type": "stream",
     "text": [
      "manifold bg samples:  32%|███▏      | 32/100 [04:21<09:19,  8.23s/it]"
     ]
    }
   ],
   "source": [
    "feature_names = X.columns\n",
    "f = lambda x: model.predict(xgboost.DMatrix(pd.DataFrame(x, columns=feature_names))) # wrapper for the model used by on manifold explainer\n",
    "\n",
    "# multiple background result\n",
    "manifold_edge_credits = [] # save for each run\n",
    "bg_on_manifold = X.fillna(X.mean()).sample(100) # used to learn conditional dependence\n",
    "for i in range(len(bg)): # average run result using linearity axiom \n",
    "    print(f'bg {i}/{len(bg)}')\n",
    "    explainer = OnManifoldExplainer(f, pd.concat([bg[i:i+1], bg_on_manifold]), nruns=nruns)\n",
    "    cf_on_manifold = explainer.shap_values(fg)\n",
    "    manifold_edge_credits.append(cf_on_manifold) # use node name is more portable vs. node"
   ]
  },
  {
   "cell_type": "code",
   "execution_count": null,
   "metadata": {},
   "outputs": [],
   "source": [
    "print('On manifold')\n",
    "sum(manifold_edge_credits).draw(sample_ind, show=False, max_display=10)\n",
    "plt.tight_layout()\n",
    "plt.show()"
   ]
  },
  {
   "cell_type": "markdown",
   "metadata": {},
   "source": [
    "# Shapley Flow"
   ]
  },
  {
   "cell_type": "code",
   "execution_count": null,
   "metadata": {},
   "outputs": [],
   "source": [
    "causal_links = CausalLinks()\n",
    "categorical_feature_names = ['Workclass', 'Marital Status', 'Occupation',\n",
    "                             'Relationship', 'Race', 'Sex', 'Country']\n",
    "display_translator = translator(X.columns, X, X_display)\n",
    "target_name = 'predicted income >50k'\n",
    "feature_names = list(X.columns)\n",
    "\n",
    "# build causal links\n",
    "causal_links.add_causes_effects(feature_names, target_name, create_xgboost_f(feature_names, model)) # target is probability\n",
    "A = ['Age', 'Sex', 'Country', 'Race']\n",
    "D = list(set(feature_names) - set(A))\n",
    "causal_links.add_causes_effects(A, D)\n",
    "\n",
    "causal_graph = build_feature_graph(X.fillna(X.mean()), causal_links, categorical_feature_names, display_translator, target_name, method='linear')\n",
    "causal_graph.draw()"
   ]
  },
  {
   "cell_type": "code",
   "execution_count": null,
   "metadata": {},
   "outputs": [],
   "source": [
    "# multiple background result\n",
    "causal_edge_credits = [] # save for each run\n",
    "for i in range(len(bg)): # average run result using linearity axiom\n",
    "    print(f'bg {i}/{len(bg)}')\n",
    "    cf_c = GraphExplainer(causal_graph, bg[i:i+1], nruns=nruns).shap_values(fg)\n",
    "    causal_edge_credits.append(node_dict2str_dict(cf_c.edge_credit)) # use node name is more portable vs. node"
   ]
  },
  {
   "cell_type": "code",
   "execution_count": null,
   "metadata": {},
   "outputs": [],
   "source": [
    "cf_c.draw(sample_ind, max_display=10, show_fg_val=False, edge_credit=edge_credits2edge_credit(causal_edge_credits, cf_c.graph))"
   ]
  },
  {
   "cell_type": "markdown",
   "metadata": {},
   "source": [
    "# Methods comparison: flow, independent, on-manifold, ASV"
   ]
  },
  {
   "cell_type": "code",
   "execution_count": null,
   "metadata": {},
   "outputs": [],
   "source": [
    "sample_ind = 33\n",
    "cf_c.fold_noise = True\n",
    "g = cf_c.draw(sample_ind, max_display=9, show_fg_val=False, edge_credit=edge_credits2edge_credit(causal_edge_credits, cf_c.graph))"
   ]
  },
  {
   "cell_type": "code",
   "execution_count": null,
   "metadata": {},
   "outputs": [],
   "source": [
    "cf.draw(sample_ind, max_display=10, show_fg_val=False, edge_credit=edge_credits2edge_credit(edge_credits, cf.graph))"
   ]
  },
  {
   "cell_type": "code",
   "execution_count": null,
   "metadata": {},
   "outputs": [],
   "source": [
    "sum(manifold_edge_credits).draw(sample_ind, max_display=10)"
   ]
  },
  {
   "cell_type": "code",
   "execution_count": null,
   "metadata": {},
   "outputs": [],
   "source": [
    "cf_c.fold_noise = False\n",
    "g = cf_c.draw_asv(sample_ind, max_display=10, show_fg_val=False, flow_credit=edge_credits2edge_credit(causal_edge_credits, cf_c.graph))"
   ]
  },
  {
   "cell_type": "markdown",
   "metadata": {},
   "source": [
    "# Investigate the background and foreground samples"
   ]
  },
  {
   "cell_type": "code",
   "execution_count": null,
   "metadata": {},
   "outputs": [],
   "source": [
    "bg_sample = bg.iloc[0]\n",
    "pd.concat([X_display.iloc[bg_sample.name], X_display.iloc[sample_ind]], 1).rename(columns={bg_sample.name: \"background sample\", sample_ind: 'foreground sample'}).T"
   ]
  },
  {
   "cell_type": "markdown",
   "metadata": {},
   "source": [
    "This example is interesting because although Capital Gain is the same between background and the foreground sample, Shapley Flow and on manifold SHAP and ASV all give non-zero attribution to it because we are modeling the relationship among input features. Whether such attribution should be warranteed is not clear. Future work should dive into the implication of such phenonmena. Moreover, note that this phenonmena only occurs in non-linear models."
   ]
  },
  {
   "cell_type": "code",
   "execution_count": null,
   "metadata": {},
   "outputs": [],
   "source": []
  }
 ],
 "metadata": {
  "kernelspec": {
   "display_name": "Python 3",
   "language": "python",
   "name": "python3"
  },
  "language_info": {
   "codemirror_mode": {
    "name": "ipython",
    "version": 3
   },
   "file_extension": ".py",
   "mimetype": "text/x-python",
   "name": "python",
   "nbconvert_exporter": "python",
   "pygments_lexer": "ipython3",
   "version": "3.7.7"
  }
 },
 "nbformat": 4,
 "nbformat_minor": 4
}
